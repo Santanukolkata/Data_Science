{
  "nbformat": 4,
  "nbformat_minor": 0,
  "metadata": {
    "kernelspec": {
      "display_name": "Python 3",
      "language": "python",
      "name": "python3"
    },
    "language_info": {
      "codemirror_mode": {
        "name": "ipython",
        "version": 3
      },
      "file_extension": ".py",
      "mimetype": "text/x-python",
      "name": "python",
      "nbconvert_exporter": "python",
      "pygments_lexer": "ipython3",
      "version": "3.7.3"
    },
    "colab": {
      "name": "Logistic_Regression_formula.ipynb",
      "provenance": [],
      "collapsed_sections": [],
      "include_colab_link": true
    }
  },
  "cells": [
    {
      "cell_type": "markdown",
      "metadata": {
        "id": "view-in-github",
        "colab_type": "text"
      },
      "source": [
        "<a href=\"https://colab.research.google.com/github/Santanukolkata/Data_Science/blob/master/Models/Logistic_Regression/Logistic_Regression_formula.ipynb\" target=\"_parent\"><img src=\"https://colab.research.google.com/assets/colab-badge.svg\" alt=\"Open In Colab\"/></a>"
      ]
    },
    {
      "cell_type": "code",
      "metadata": {
        "id": "8APNEZHlXsYw",
        "colab_type": "code",
        "colab": {
          "base_uri": "https://localhost:8080/",
          "height": 72
        },
        "outputId": "73d1f24f-39e9-45b9-a231-4844a4863b99"
      },
      "source": [
        "import time\n",
        "from tqdm import *\n",
        "import random\n",
        "from math import *\n",
        "import operator\n",
        "\n",
        "import pandas as pd\n",
        "import numpy as np\n",
        "\n",
        "from pandas.plotting import scatter_matrix\n",
        "\n",
        "import matplotlib\n",
        "import matplotlib.pyplot as plt\n",
        "%matplotlib inline \n",
        "\n",
        "import seaborn as sns\n",
        "sns.set(style=\"white\", color_codes=True)\n",
        "sns.set(font_scale=1.5)\n",
        "\n",
        "from sklearn.linear_model import LinearRegression\n",
        "from sklearn.linear_model import LogisticRegression\n",
        "\n",
        "from sklearn import preprocessing, model_selection\n",
        "\n",
        "from sklearn.metrics import classification_report\n",
        "from sklearn.metrics import confusion_matrix\n",
        "from sklearn.metrics import accuracy_score"
      ],
      "execution_count": null,
      "outputs": [
        {
          "output_type": "stream",
          "text": [
            "/usr/local/lib/python3.6/dist-packages/statsmodels/tools/_testing.py:19: FutureWarning: pandas.util.testing is deprecated. Use the functions in the public API at pandas.testing instead.\n",
            "  import pandas.util.testing as tm\n"
          ],
          "name": "stderr"
        }
      ]
    },
    {
      "cell_type": "code",
      "metadata": {
        "id": "3CLB5Ll5XsY1",
        "colab_type": "code",
        "colab": {
          "base_uri": "https://localhost:8080/",
          "height": 676
        },
        "outputId": "37542413-59d1-4193-a7a8-fe501971efcd"
      },
      "source": [
        "Desc=\"\"\"\n",
        "5. Number of Instances: 214 \n",
        "6. Number of Attributes: 10 (including an Id#) plus the class attribute\n",
        "   -- all attributes are continuously valued\n",
        "7. Attribute Information:\n",
        "   1. Id number: 1 to 214\n",
        "   2. RI: refractive index\n",
        "   3. Na: Sodium (unit measurement: weight percent in corresponding oxide, as \n",
        "                  are attributes 4-10)\n",
        "   4. Mg: Magnesium\n",
        "   5. Al: Aluminum\n",
        "   6. Si: Silicon\n",
        "   7. K: Potassium\n",
        "   8. Ca: Calcium\n",
        "   9. Ba: Barium\n",
        "  10. Fe: Iron\n",
        "  11. Type of glass: (class attribute)\n",
        "      -- 1 building_windows_float_processed\n",
        "      -- 2 building_windows_non_float_processed\n",
        "      -- 3 vehicle_windows_float_processed\n",
        "      -- 4 vehicle_windows_non_float_processed (none in this database)\n",
        "      -- 5 containers\n",
        "      -- 6 tableware\n",
        "      -- 7 headlamps\n",
        "\n",
        "9. Class Distribution: (out of 214 total instances)\n",
        "    -- 163 Window glass (building windows and vehicle windows)\n",
        "       -- 87 float processed  \n",
        "          -- 70 building windows\n",
        "          -- 17 vehicle windows\n",
        "       -- 76 non-float processed\n",
        "          -- 76 building windows\n",
        "          -- 0 vehicle windows\n",
        "    -- 51 Non-window glass\n",
        "       -- 13 containers\n",
        "       -- 9 tableware\n",
        "       -- 29 headlamps\n",
        "\"\"\"\n",
        "print(Desc)"
      ],
      "execution_count": null,
      "outputs": [
        {
          "output_type": "stream",
          "text": [
            "\n",
            "5. Number of Instances: 214 \n",
            "6. Number of Attributes: 10 (including an Id#) plus the class attribute\n",
            "   -- all attributes are continuously valued\n",
            "7. Attribute Information:\n",
            "   1. Id number: 1 to 214\n",
            "   2. RI: refractive index\n",
            "   3. Na: Sodium (unit measurement: weight percent in corresponding oxide, as \n",
            "                  are attributes 4-10)\n",
            "   4. Mg: Magnesium\n",
            "   5. Al: Aluminum\n",
            "   6. Si: Silicon\n",
            "   7. K: Potassium\n",
            "   8. Ca: Calcium\n",
            "   9. Ba: Barium\n",
            "  10. Fe: Iron\n",
            "  11. Type of glass: (class attribute)\n",
            "      -- 1 building_windows_float_processed\n",
            "      -- 2 building_windows_non_float_processed\n",
            "      -- 3 vehicle_windows_float_processed\n",
            "      -- 4 vehicle_windows_non_float_processed (none in this database)\n",
            "      -- 5 containers\n",
            "      -- 6 tableware\n",
            "      -- 7 headlamps\n",
            "\n",
            "9. Class Distribution: (out of 214 total instances)\n",
            "    -- 163 Window glass (building windows and vehicle windows)\n",
            "       -- 87 float processed  \n",
            "          -- 70 building windows\n",
            "          -- 17 vehicle windows\n",
            "       -- 76 non-float processed\n",
            "          -- 76 building windows\n",
            "          -- 0 vehicle windows\n",
            "    -- 51 Non-window glass\n",
            "       -- 13 containers\n",
            "       -- 9 tableware\n",
            "       -- 29 headlamps\n",
            "\n"
          ],
          "name": "stdout"
        }
      ]
    },
    {
      "cell_type": "code",
      "metadata": {
        "id": "ik2MWF_EXsY7",
        "colab_type": "code",
        "colab": {}
      },
      "source": [
        "location = r\"https://raw.githubusercontent.com/Santanukolkata/Data_Science/master/datasets/glass.csv\""
      ],
      "execution_count": null,
      "outputs": []
    },
    {
      "cell_type": "code",
      "metadata": {
        "id": "liyLCGspXsY-",
        "colab_type": "code",
        "colab": {
          "base_uri": "https://localhost:8080/",
          "height": 427
        },
        "outputId": "710ac27a-d133-4d58-9d38-2fc9554b72f3"
      },
      "source": [
        "# load the training data from glass data set\n",
        "glass = pd.read_csv(location)\n",
        "print(glass.dtypes)\n",
        "print(glass.shape)\n",
        "glass.head()"
      ],
      "execution_count": null,
      "outputs": [
        {
          "output_type": "stream",
          "text": [
            "Id        int64\n",
            "RI      float64\n",
            "Na      float64\n",
            "Mg      float64\n",
            "Al      float64\n",
            "Si      float64\n",
            "K       float64\n",
            "Ca      float64\n",
            "Ba      float64\n",
            "Fe      float64\n",
            "Type      int64\n",
            "dtype: object\n",
            "(214, 11)\n"
          ],
          "name": "stdout"
        },
        {
          "output_type": "execute_result",
          "data": {
            "text/html": [
              "<div>\n",
              "<style scoped>\n",
              "    .dataframe tbody tr th:only-of-type {\n",
              "        vertical-align: middle;\n",
              "    }\n",
              "\n",
              "    .dataframe tbody tr th {\n",
              "        vertical-align: top;\n",
              "    }\n",
              "\n",
              "    .dataframe thead th {\n",
              "        text-align: right;\n",
              "    }\n",
              "</style>\n",
              "<table border=\"1\" class=\"dataframe\">\n",
              "  <thead>\n",
              "    <tr style=\"text-align: right;\">\n",
              "      <th></th>\n",
              "      <th>Id</th>\n",
              "      <th>RI</th>\n",
              "      <th>Na</th>\n",
              "      <th>Mg</th>\n",
              "      <th>Al</th>\n",
              "      <th>Si</th>\n",
              "      <th>K</th>\n",
              "      <th>Ca</th>\n",
              "      <th>Ba</th>\n",
              "      <th>Fe</th>\n",
              "      <th>Type</th>\n",
              "    </tr>\n",
              "  </thead>\n",
              "  <tbody>\n",
              "    <tr>\n",
              "      <th>0</th>\n",
              "      <td>1</td>\n",
              "      <td>1.52101</td>\n",
              "      <td>13.64</td>\n",
              "      <td>4.49</td>\n",
              "      <td>1.10</td>\n",
              "      <td>71.78</td>\n",
              "      <td>0.06</td>\n",
              "      <td>8.75</td>\n",
              "      <td>0.0</td>\n",
              "      <td>0.0</td>\n",
              "      <td>1</td>\n",
              "    </tr>\n",
              "    <tr>\n",
              "      <th>1</th>\n",
              "      <td>2</td>\n",
              "      <td>1.51761</td>\n",
              "      <td>13.89</td>\n",
              "      <td>3.60</td>\n",
              "      <td>1.36</td>\n",
              "      <td>72.73</td>\n",
              "      <td>0.48</td>\n",
              "      <td>7.83</td>\n",
              "      <td>0.0</td>\n",
              "      <td>0.0</td>\n",
              "      <td>1</td>\n",
              "    </tr>\n",
              "    <tr>\n",
              "      <th>2</th>\n",
              "      <td>3</td>\n",
              "      <td>1.51618</td>\n",
              "      <td>13.53</td>\n",
              "      <td>3.55</td>\n",
              "      <td>1.54</td>\n",
              "      <td>72.99</td>\n",
              "      <td>0.39</td>\n",
              "      <td>7.78</td>\n",
              "      <td>0.0</td>\n",
              "      <td>0.0</td>\n",
              "      <td>1</td>\n",
              "    </tr>\n",
              "    <tr>\n",
              "      <th>3</th>\n",
              "      <td>4</td>\n",
              "      <td>1.51766</td>\n",
              "      <td>13.21</td>\n",
              "      <td>3.69</td>\n",
              "      <td>1.29</td>\n",
              "      <td>72.61</td>\n",
              "      <td>0.57</td>\n",
              "      <td>8.22</td>\n",
              "      <td>0.0</td>\n",
              "      <td>0.0</td>\n",
              "      <td>1</td>\n",
              "    </tr>\n",
              "    <tr>\n",
              "      <th>4</th>\n",
              "      <td>5</td>\n",
              "      <td>1.51742</td>\n",
              "      <td>13.27</td>\n",
              "      <td>3.62</td>\n",
              "      <td>1.24</td>\n",
              "      <td>73.08</td>\n",
              "      <td>0.55</td>\n",
              "      <td>8.07</td>\n",
              "      <td>0.0</td>\n",
              "      <td>0.0</td>\n",
              "      <td>1</td>\n",
              "    </tr>\n",
              "  </tbody>\n",
              "</table>\n",
              "</div>"
            ],
            "text/plain": [
              "   Id       RI     Na    Mg    Al     Si     K    Ca   Ba   Fe  Type\n",
              "0   1  1.52101  13.64  4.49  1.10  71.78  0.06  8.75  0.0  0.0     1\n",
              "1   2  1.51761  13.89  3.60  1.36  72.73  0.48  7.83  0.0  0.0     1\n",
              "2   3  1.51618  13.53  3.55  1.54  72.99  0.39  7.78  0.0  0.0     1\n",
              "3   4  1.51766  13.21  3.69  1.29  72.61  0.57  8.22  0.0  0.0     1\n",
              "4   5  1.51742  13.27  3.62  1.24  73.08  0.55  8.07  0.0  0.0     1"
            ]
          },
          "metadata": {
            "tags": []
          },
          "execution_count": 9
        }
      ]
    },
    {
      "cell_type": "code",
      "metadata": {
        "id": "SisAFvLfXsZC",
        "colab_type": "code",
        "colab": {}
      },
      "source": [
        "# Question: Pretend that we want to predict ri, and our only feature is al. \n",
        "# How could we do it using machine learning?\n",
        "\n",
        "# Answer: We could frame it as a regression problem, and use a linear \n",
        "#         regression model with al as the only feature and ri as the \n",
        "#         response.\n",
        "\n",
        "# Question: How would we visualize this model?\n",
        "\n",
        "# Answer: Create a scatter plot with al on the x-axis and ri on the y-axis, \n",
        "#         and draw the line of best fit."
      ],
      "execution_count": null,
      "outputs": []
    },
    {
      "cell_type": "code",
      "metadata": {
        "id": "lysrIALPXsZF",
        "colab_type": "code",
        "colab": {
          "base_uri": "https://localhost:8080/",
          "height": 35
        },
        "outputId": "69d38c45-eda3-49b2-cf18-7dd9607397b1"
      },
      "source": [
        "glass.columns "
      ],
      "execution_count": null,
      "outputs": [
        {
          "output_type": "execute_result",
          "data": {
            "text/plain": [
              "Index(['Id', 'RI', 'Na', 'Mg', 'Al', 'Si', 'K', 'Ca', 'Ba', 'Fe', 'Type'], dtype='object')"
            ]
          },
          "metadata": {
            "tags": []
          },
          "execution_count": 11
        }
      ]
    },
    {
      "cell_type": "code",
      "metadata": {
        "id": "bkBXKEphXsZI",
        "colab_type": "code",
        "colab": {
          "base_uri": "https://localhost:8080/",
          "height": 202
        },
        "outputId": "61b893a6-a00c-4ab3-e840-eeaa111da563"
      },
      "source": [
        "glass.sort_values ('Al', inplace=True)\n",
        "\n",
        "glass.head()"
      ],
      "execution_count": null,
      "outputs": [
        {
          "output_type": "execute_result",
          "data": {
            "text/html": [
              "<div>\n",
              "<style scoped>\n",
              "    .dataframe tbody tr th:only-of-type {\n",
              "        vertical-align: middle;\n",
              "    }\n",
              "\n",
              "    .dataframe tbody tr th {\n",
              "        vertical-align: top;\n",
              "    }\n",
              "\n",
              "    .dataframe thead th {\n",
              "        text-align: right;\n",
              "    }\n",
              "</style>\n",
              "<table border=\"1\" class=\"dataframe\">\n",
              "  <thead>\n",
              "    <tr style=\"text-align: right;\">\n",
              "      <th></th>\n",
              "      <th>Id</th>\n",
              "      <th>RI</th>\n",
              "      <th>Na</th>\n",
              "      <th>Mg</th>\n",
              "      <th>Al</th>\n",
              "      <th>Si</th>\n",
              "      <th>K</th>\n",
              "      <th>Ca</th>\n",
              "      <th>Ba</th>\n",
              "      <th>Fe</th>\n",
              "      <th>Type</th>\n",
              "    </tr>\n",
              "  </thead>\n",
              "  <tbody>\n",
              "    <tr>\n",
              "      <th>21</th>\n",
              "      <td>22</td>\n",
              "      <td>1.51966</td>\n",
              "      <td>14.77</td>\n",
              "      <td>3.75</td>\n",
              "      <td>0.29</td>\n",
              "      <td>72.02</td>\n",
              "      <td>0.03</td>\n",
              "      <td>9.00</td>\n",
              "      <td>0.0</td>\n",
              "      <td>0.00</td>\n",
              "      <td>1</td>\n",
              "    </tr>\n",
              "    <tr>\n",
              "      <th>184</th>\n",
              "      <td>185</td>\n",
              "      <td>1.51115</td>\n",
              "      <td>17.38</td>\n",
              "      <td>0.00</td>\n",
              "      <td>0.34</td>\n",
              "      <td>75.41</td>\n",
              "      <td>0.00</td>\n",
              "      <td>6.65</td>\n",
              "      <td>0.0</td>\n",
              "      <td>0.00</td>\n",
              "      <td>6</td>\n",
              "    </tr>\n",
              "    <tr>\n",
              "      <th>39</th>\n",
              "      <td>40</td>\n",
              "      <td>1.52213</td>\n",
              "      <td>14.21</td>\n",
              "      <td>3.82</td>\n",
              "      <td>0.47</td>\n",
              "      <td>71.77</td>\n",
              "      <td>0.11</td>\n",
              "      <td>9.57</td>\n",
              "      <td>0.0</td>\n",
              "      <td>0.00</td>\n",
              "      <td>1</td>\n",
              "    </tr>\n",
              "    <tr>\n",
              "      <th>38</th>\n",
              "      <td>39</td>\n",
              "      <td>1.52213</td>\n",
              "      <td>14.21</td>\n",
              "      <td>3.82</td>\n",
              "      <td>0.47</td>\n",
              "      <td>71.77</td>\n",
              "      <td>0.11</td>\n",
              "      <td>9.57</td>\n",
              "      <td>0.0</td>\n",
              "      <td>0.00</td>\n",
              "      <td>1</td>\n",
              "    </tr>\n",
              "    <tr>\n",
              "      <th>50</th>\n",
              "      <td>51</td>\n",
              "      <td>1.52320</td>\n",
              "      <td>13.72</td>\n",
              "      <td>3.72</td>\n",
              "      <td>0.51</td>\n",
              "      <td>71.75</td>\n",
              "      <td>0.09</td>\n",
              "      <td>10.06</td>\n",
              "      <td>0.0</td>\n",
              "      <td>0.16</td>\n",
              "      <td>1</td>\n",
              "    </tr>\n",
              "  </tbody>\n",
              "</table>\n",
              "</div>"
            ],
            "text/plain": [
              "      Id       RI     Na    Mg    Al     Si     K     Ca   Ba    Fe  Type\n",
              "21    22  1.51966  14.77  3.75  0.29  72.02  0.03   9.00  0.0  0.00     1\n",
              "184  185  1.51115  17.38  0.00  0.34  75.41  0.00   6.65  0.0  0.00     6\n",
              "39    40  1.52213  14.21  3.82  0.47  71.77  0.11   9.57  0.0  0.00     1\n",
              "38    39  1.52213  14.21  3.82  0.47  71.77  0.11   9.57  0.0  0.00     1\n",
              "50    51  1.52320  13.72  3.72  0.51  71.75  0.09  10.06  0.0  0.16     1"
            ]
          },
          "metadata": {
            "tags": []
          },
          "execution_count": 12
        }
      ]
    },
    {
      "cell_type": "code",
      "metadata": {
        "id": "B_RSkwDhXsZP",
        "colab_type": "code",
        "colab": {
          "base_uri": "https://localhost:8080/",
          "height": 451
        },
        "outputId": "8b1e476a-b0c8-4d4e-f902-b8cf83af7d1d"
      },
      "source": [
        "# Question: How would we draw this plot without using Seaborn?\n",
        "# scatter plot using Pandas\n",
        "glass.plot(kind='scatter', x='Al', y='RI', figsize=(12, 6));"
      ],
      "execution_count": null,
      "outputs": [
        {
          "output_type": "stream",
          "text": [
            "*c* argument looks like a single numeric RGB or RGBA sequence, which should be avoided as value-mapping will have precedence in case its length matches with *x* & *y*.  Please use the *color* keyword-argument or provide a 2-D array with a single row if you intend to specify the same RGB or RGBA value for all points.\n"
          ],
          "name": "stderr"
        },
        {
          "output_type": "display_data",
          "data": {
            "image/png": "[encoded data removed]",
            "text/plain": [
              "<Figure size 864x432 with 1 Axes>"
            ]
          },
          "metadata": {
            "tags": [],
            "needs_background": "light"
          }
        }
      ]
    },
    {
      "cell_type": "code",
      "metadata": {
        "id": "RIVzzEWiXsZV",
        "colab_type": "code",
        "colab": {
          "base_uri": "https://localhost:8080/",
          "height": 35
        },
        "outputId": "12d44c0c-8b63-4618-8109-828f34dfeb72"
      },
      "source": [
        "# fit a linear regression model\n",
        "linreg       = LinearRegression()\n",
        "\n",
        "feature_cols = ['Al']\n",
        "\n",
        "X            = glass[feature_cols]\n",
        "y            = glass.RI\n",
        "\n",
        "linreg.fit(X, y)"
      ],
      "execution_count": null,
      "outputs": [
        {
          "output_type": "execute_result",
          "data": {
            "text/plain": [
              "LinearRegression(copy_X=True, fit_intercept=True, n_jobs=None, normalize=False)"
            ]
          },
          "metadata": {
            "tags": []
          },
          "execution_count": 15
        }
      ]
    },
    {
      "cell_type": "code",
      "metadata": {
        "id": "WUjIYxp4XsZX",
        "colab_type": "code",
        "colab": {
          "base_uri": "https://localhost:8080/",
          "height": 202
        },
        "outputId": "04e292ac-af6a-4189-bddb-2662bd6d8409"
      },
      "source": [
        "# make predictions for all values of X\n",
        "glass['ri_pred'] = linreg.predict(X)\n",
        "glass.head()"
      ],
      "execution_count": null,
      "outputs": [
        {
          "output_type": "execute_result",
          "data": {
            "text/html": [
              "<div>\n",
              "<style scoped>\n",
              "    .dataframe tbody tr th:only-of-type {\n",
              "        vertical-align: middle;\n",
              "    }\n",
              "\n",
              "    .dataframe tbody tr th {\n",
              "        vertical-align: top;\n",
              "    }\n",
              "\n",
              "    .dataframe thead th {\n",
              "        text-align: right;\n",
              "    }\n",
              "</style>\n",
              "<table border=\"1\" class=\"dataframe\">\n",
              "  <thead>\n",
              "    <tr style=\"text-align: right;\">\n",
              "      <th></th>\n",
              "      <th>Id</th>\n",
              "      <th>RI</th>\n",
              "      <th>Na</th>\n",
              "      <th>Mg</th>\n",
              "      <th>Al</th>\n",
              "      <th>Si</th>\n",
              "      <th>K</th>\n",
              "      <th>Ca</th>\n",
              "      <th>Ba</th>\n",
              "      <th>Fe</th>\n",
              "      <th>Type</th>\n",
              "      <th>ri_pred</th>\n",
              "    </tr>\n",
              "  </thead>\n",
              "  <tbody>\n",
              "    <tr>\n",
              "      <th>21</th>\n",
              "      <td>22</td>\n",
              "      <td>1.51966</td>\n",
              "      <td>14.77</td>\n",
              "      <td>3.75</td>\n",
              "      <td>0.29</td>\n",
              "      <td>72.02</td>\n",
              "      <td>0.03</td>\n",
              "      <td>9.00</td>\n",
              "      <td>0.0</td>\n",
              "      <td>0.00</td>\n",
              "      <td>1</td>\n",
              "      <td>1.521227</td>\n",
              "    </tr>\n",
              "    <tr>\n",
              "      <th>184</th>\n",
              "      <td>185</td>\n",
              "      <td>1.51115</td>\n",
              "      <td>17.38</td>\n",
              "      <td>0.00</td>\n",
              "      <td>0.34</td>\n",
              "      <td>75.41</td>\n",
              "      <td>0.00</td>\n",
              "      <td>6.65</td>\n",
              "      <td>0.0</td>\n",
              "      <td>0.00</td>\n",
              "      <td>6</td>\n",
              "      <td>1.521103</td>\n",
              "    </tr>\n",
              "    <tr>\n",
              "      <th>39</th>\n",
              "      <td>40</td>\n",
              "      <td>1.52213</td>\n",
              "      <td>14.21</td>\n",
              "      <td>3.82</td>\n",
              "      <td>0.47</td>\n",
              "      <td>71.77</td>\n",
              "      <td>0.11</td>\n",
              "      <td>9.57</td>\n",
              "      <td>0.0</td>\n",
              "      <td>0.00</td>\n",
              "      <td>1</td>\n",
              "      <td>1.520781</td>\n",
              "    </tr>\n",
              "    <tr>\n",
              "      <th>38</th>\n",
              "      <td>39</td>\n",
              "      <td>1.52213</td>\n",
              "      <td>14.21</td>\n",
              "      <td>3.82</td>\n",
              "      <td>0.47</td>\n",
              "      <td>71.77</td>\n",
              "      <td>0.11</td>\n",
              "      <td>9.57</td>\n",
              "      <td>0.0</td>\n",
              "      <td>0.00</td>\n",
              "      <td>1</td>\n",
              "      <td>1.520781</td>\n",
              "    </tr>\n",
              "    <tr>\n",
              "      <th>50</th>\n",
              "      <td>51</td>\n",
              "      <td>1.52320</td>\n",
              "      <td>13.72</td>\n",
              "      <td>3.72</td>\n",
              "      <td>0.51</td>\n",
              "      <td>71.75</td>\n",
              "      <td>0.09</td>\n",
              "      <td>10.06</td>\n",
              "      <td>0.0</td>\n",
              "      <td>0.16</td>\n",
              "      <td>1</td>\n",
              "      <td>1.520682</td>\n",
              "    </tr>\n",
              "  </tbody>\n",
              "</table>\n",
              "</div>"
            ],
            "text/plain": [
              "      Id       RI     Na    Mg    Al  ...     Ca   Ba    Fe  Type   ri_pred\n",
              "21    22  1.51966  14.77  3.75  0.29  ...   9.00  0.0  0.00     1  1.521227\n",
              "184  185  1.51115  17.38  0.00  0.34  ...   6.65  0.0  0.00     6  1.521103\n",
              "39    40  1.52213  14.21  3.82  0.47  ...   9.57  0.0  0.00     1  1.520781\n",
              "38    39  1.52213  14.21  3.82  0.47  ...   9.57  0.0  0.00     1  1.520781\n",
              "50    51  1.52320  13.72  3.72  0.51  ...  10.06  0.0  0.16     1  1.520682\n",
              "\n",
              "[5 rows x 12 columns]"
            ]
          },
          "metadata": {
            "tags": []
          },
          "execution_count": 17
        }
      ]
    },
    {
      "cell_type": "code",
      "metadata": {
        "id": "agN0nndVXsZa",
        "colab_type": "code",
        "colab": {}
      },
      "source": [
        "# # plot those predictions connected by a line\n",
        "# plt.figure(figsize=(12,6))\n",
        "\n",
        "# plt.plot(glass.al, glass.ri_pred, color='red')\n",
        "# plt.xlabel('Al')\n",
        "# plt.ylabel('Predicted RI')"
      ],
      "execution_count": null,
      "outputs": []
    },
    {
      "cell_type": "code",
      "metadata": {
        "id": "ISiNXMMYXsZd",
        "colab_type": "code",
        "colab": {
          "base_uri": "https://localhost:8080/",
          "height": 413
        },
        "outputId": "045e0d01-2db5-41f4-8b8d-db826ccd19e2"
      },
      "source": [
        "# put the plots together\n",
        "plt.figure(figsize=(12,6))\n",
        "\n",
        "plt.scatter(glass.Al, glass.RI)\n",
        "plt.plot(glass.Al, glass.ri_pred, color='red')\n",
        "\n",
        "plt.xlabel('al')\n",
        "plt.ylabel('ri');"
      ],
      "execution_count": null,
      "outputs": [
        {
          "output_type": "display_data",
          "data": {
            "image/png": "[encoded data removed]",
            "text/plain": [
              "<Figure size 864x432 with 1 Axes>"
            ]
          },
          "metadata": {
            "tags": [],
            "needs_background": "light"
          }
        }
      ]
    },
    {
      "cell_type": "markdown",
      "metadata": {
        "id": "YotQeiguXsZg",
        "colab_type": "text"
      },
      "source": [
        "Refresher: interpreting linear regression coefficients\n",
        "Linear regression equation: $y = \\beta_0 + \\beta_1.x$"
      ]
    },
    {
      "cell_type": "code",
      "metadata": {
        "id": "MFWp3oJIXsZg",
        "colab_type": "code",
        "colab": {
          "base_uri": "https://localhost:8080/",
          "height": 35
        },
        "outputId": "a6d7a65a-d1b7-4e94-d60c-469dc620ee46"
      },
      "source": [
        "# compute prediction for al=2 using the equation\n",
        "linreg.intercept_ + linreg.coef_ * 2"
      ],
      "execution_count": null,
      "outputs": [
        {
          "output_type": "execute_result",
          "data": {
            "text/plain": [
              "array([1.51699012])"
            ]
          },
          "metadata": {
            "tags": []
          },
          "execution_count": 19
        }
      ]
    },
    {
      "cell_type": "code",
      "metadata": {
        "id": "5GbwQL_BXsZj",
        "colab_type": "code",
        "colab": {
          "base_uri": "https://localhost:8080/",
          "height": 35
        },
        "outputId": "040abe86-d196-4fc6-d4b2-7239a6132757"
      },
      "source": [
        "# compute prediction for al=2 using the predict method\n",
        "linreg.predict([[2]])"
      ],
      "execution_count": null,
      "outputs": [
        {
          "output_type": "execute_result",
          "data": {
            "text/plain": [
              "array([1.51699012])"
            ]
          },
          "metadata": {
            "tags": []
          },
          "execution_count": 20
        }
      ]
    },
    {
      "cell_type": "code",
      "metadata": {
        "id": "1LBGFc4RXsZm",
        "colab_type": "code",
        "colab": {
          "base_uri": "https://localhost:8080/",
          "height": 35
        },
        "outputId": "292ba872-ebe1-439f-8284-80c1edb36c6f"
      },
      "source": [
        "# examine coefficient for al\n",
        "for each in zip(feature_cols, linreg.coef_):\n",
        "    print(each)"
      ],
      "execution_count": null,
      "outputs": [
        {
          "output_type": "stream",
          "text": [
            "('Al', -0.0024776063874696235)\n"
          ],
          "name": "stdout"
        }
      ]
    },
    {
      "cell_type": "code",
      "metadata": {
        "id": "duLClbTpXsZo",
        "colab_type": "code",
        "colab": {
          "base_uri": "https://localhost:8080/",
          "height": 35
        },
        "outputId": "7f523471-8f16-4213-f9dc-ca9a31ca7634"
      },
      "source": [
        "linreg.coef_"
      ],
      "execution_count": null,
      "outputs": [
        {
          "output_type": "execute_result",
          "data": {
            "text/plain": [
              "array([-0.00247761])"
            ]
          },
          "metadata": {
            "tags": []
          },
          "execution_count": 22
        }
      ]
    },
    {
      "cell_type": "markdown",
      "metadata": {
        "id": "AEZjPCpUXsZr",
        "colab_type": "text"
      },
      "source": [
        "Interpretation: A 1 unit increase in 'al' is associated with a 0.0025 unit decrease in 'ri'."
      ]
    },
    {
      "cell_type": "code",
      "metadata": {
        "id": "PV7GsxPkXsZr",
        "colab_type": "code",
        "colab": {}
      },
      "source": [
        ""
      ],
      "execution_count": null,
      "outputs": []
    },
    {
      "cell_type": "markdown",
      "metadata": {
        "id": "QjbrPBEzXsZv",
        "colab_type": "text"
      },
      "source": [
        "#### Predicting a Categorical Response"
      ]
    },
    {
      "cell_type": "code",
      "metadata": {
        "id": "s5h5e8J0XsZv",
        "colab_type": "code",
        "colab": {
          "base_uri": "https://localhost:8080/",
          "height": 139
        },
        "outputId": "7869907d-3606-4df0-eb45-be17b0107bd4"
      },
      "source": [
        "# examine glass_type\n",
        "glass.Type.value_counts()"
      ],
      "execution_count": null,
      "outputs": [
        {
          "output_type": "execute_result",
          "data": {
            "text/plain": [
              "2    76\n",
              "1    70\n",
              "7    29\n",
              "3    17\n",
              "5    13\n",
              "6     9\n",
              "Name: Type, dtype: int64"
            ]
          },
          "metadata": {
            "tags": []
          },
          "execution_count": 23
        }
      ]
    },
    {
      "cell_type": "code",
      "metadata": {
        "id": "QzwuWMXDXsZy",
        "colab_type": "code",
        "colab": {
          "base_uri": "https://localhost:8080/",
          "height": 69
        },
        "outputId": "e984cea4-3f51-4d3c-9b80-7a6b962976f7"
      },
      "source": [
        "glass.columns"
      ],
      "execution_count": null,
      "outputs": [
        {
          "output_type": "execute_result",
          "data": {
            "text/plain": [
              "Index(['Id', 'RI', 'Na', 'Mg', 'Al', 'Si', 'K', 'Ca', 'Ba', 'Fe', 'Type',\n",
              "       'ri_pred'],\n",
              "      dtype='object')"
            ]
          },
          "metadata": {
            "tags": []
          },
          "execution_count": 24
        }
      ]
    },
    {
      "cell_type": "code",
      "metadata": {
        "id": "9VhlhU6LXsZ0",
        "colab_type": "code",
        "colab": {
          "base_uri": "https://localhost:8080/",
          "height": 202
        },
        "outputId": "cf278271-7ef8-4b71-da02-e7dc140cfd86"
      },
      "source": [
        "# types 1, 2, 3 are window glass\n",
        "# types 5, 6, 7 are household glass\n",
        "glass['household'] = glass.Type.map({1:0, 2:0, 3:0, 5:1, 6:1, 7:1})\n",
        "\n",
        "glass.head()"
      ],
      "execution_count": null,
      "outputs": [
        {
          "output_type": "execute_result",
          "data": {
            "text/html": [
              "<div>\n",
              "<style scoped>\n",
              "    .dataframe tbody tr th:only-of-type {\n",
              "        vertical-align: middle;\n",
              "    }\n",
              "\n",
              "    .dataframe tbody tr th {\n",
              "        vertical-align: top;\n",
              "    }\n",
              "\n",
              "    .dataframe thead th {\n",
              "        text-align: right;\n",
              "    }\n",
              "</style>\n",
              "<table border=\"1\" class=\"dataframe\">\n",
              "  <thead>\n",
              "    <tr style=\"text-align: right;\">\n",
              "      <th></th>\n",
              "      <th>Id</th>\n",
              "      <th>RI</th>\n",
              "      <th>Na</th>\n",
              "      <th>Mg</th>\n",
              "      <th>Al</th>\n",
              "      <th>Si</th>\n",
              "      <th>K</th>\n",
              "      <th>Ca</th>\n",
              "      <th>Ba</th>\n",
              "      <th>Fe</th>\n",
              "      <th>Type</th>\n",
              "      <th>ri_pred</th>\n",
              "      <th>household</th>\n",
              "    </tr>\n",
              "  </thead>\n",
              "  <tbody>\n",
              "    <tr>\n",
              "      <th>21</th>\n",
              "      <td>22</td>\n",
              "      <td>1.51966</td>\n",
              "      <td>14.77</td>\n",
              "      <td>3.75</td>\n",
              "      <td>0.29</td>\n",
              "      <td>72.02</td>\n",
              "      <td>0.03</td>\n",
              "      <td>9.00</td>\n",
              "      <td>0.0</td>\n",
              "      <td>0.00</td>\n",
              "      <td>1</td>\n",
              "      <td>1.521227</td>\n",
              "      <td>0</td>\n",
              "    </tr>\n",
              "    <tr>\n",
              "      <th>184</th>\n",
              "      <td>185</td>\n",
              "      <td>1.51115</td>\n",
              "      <td>17.38</td>\n",
              "      <td>0.00</td>\n",
              "      <td>0.34</td>\n",
              "      <td>75.41</td>\n",
              "      <td>0.00</td>\n",
              "      <td>6.65</td>\n",
              "      <td>0.0</td>\n",
              "      <td>0.00</td>\n",
              "      <td>6</td>\n",
              "      <td>1.521103</td>\n",
              "      <td>1</td>\n",
              "    </tr>\n",
              "    <tr>\n",
              "      <th>39</th>\n",
              "      <td>40</td>\n",
              "      <td>1.52213</td>\n",
              "      <td>14.21</td>\n",
              "      <td>3.82</td>\n",
              "      <td>0.47</td>\n",
              "      <td>71.77</td>\n",
              "      <td>0.11</td>\n",
              "      <td>9.57</td>\n",
              "      <td>0.0</td>\n",
              "      <td>0.00</td>\n",
              "      <td>1</td>\n",
              "      <td>1.520781</td>\n",
              "      <td>0</td>\n",
              "    </tr>\n",
              "    <tr>\n",
              "      <th>38</th>\n",
              "      <td>39</td>\n",
              "      <td>1.52213</td>\n",
              "      <td>14.21</td>\n",
              "      <td>3.82</td>\n",
              "      <td>0.47</td>\n",
              "      <td>71.77</td>\n",
              "      <td>0.11</td>\n",
              "      <td>9.57</td>\n",
              "      <td>0.0</td>\n",
              "      <td>0.00</td>\n",
              "      <td>1</td>\n",
              "      <td>1.520781</td>\n",
              "      <td>0</td>\n",
              "    </tr>\n",
              "    <tr>\n",
              "      <th>50</th>\n",
              "      <td>51</td>\n",
              "      <td>1.52320</td>\n",
              "      <td>13.72</td>\n",
              "      <td>3.72</td>\n",
              "      <td>0.51</td>\n",
              "      <td>71.75</td>\n",
              "      <td>0.09</td>\n",
              "      <td>10.06</td>\n",
              "      <td>0.0</td>\n",
              "      <td>0.16</td>\n",
              "      <td>1</td>\n",
              "      <td>1.520682</td>\n",
              "      <td>0</td>\n",
              "    </tr>\n",
              "  </tbody>\n",
              "</table>\n",
              "</div>"
            ],
            "text/plain": [
              "      Id       RI     Na    Mg    Al  ...   Ba    Fe  Type   ri_pred  household\n",
              "21    22  1.51966  14.77  3.75  0.29  ...  0.0  0.00     1  1.521227          0\n",
              "184  185  1.51115  17.38  0.00  0.34  ...  0.0  0.00     6  1.521103          1\n",
              "39    40  1.52213  14.21  3.82  0.47  ...  0.0  0.00     1  1.520781          0\n",
              "38    39  1.52213  14.21  3.82  0.47  ...  0.0  0.00     1  1.520781          0\n",
              "50    51  1.52320  13.72  3.72  0.51  ...  0.0  0.16     1  1.520682          0\n",
              "\n",
              "[5 rows x 13 columns]"
            ]
          },
          "metadata": {
            "tags": []
          },
          "execution_count": 25
        }
      ]
    },
    {
      "cell_type": "markdown",
      "metadata": {
        "id": "erivo1UkXsZ2",
        "colab_type": "text"
      },
      "source": [
        "Let's change our task, so that we're __predicting household type using al__. "
      ]
    },
    {
      "cell_type": "code",
      "metadata": {
        "id": "IEhCjqfbXsZ3",
        "colab_type": "code",
        "colab": {
          "base_uri": "https://localhost:8080/",
          "height": 407
        },
        "outputId": "e04726be-9b3d-4bae-a668-8f70d2ee627a"
      },
      "source": [
        "plt.figure(figsize=(12,6))\n",
        "\n",
        "plt.scatter(glass.Al, glass.household)\n",
        "\n",
        "plt.xlabel('Al')\n",
        "plt.ylabel('household');"
      ],
      "execution_count": null,
      "outputs": [
        {
          "output_type": "display_data",
          "data": {
            "image/png": "[encoded data removed]",
            "text/plain": [
              "<Figure size 864x432 with 1 Axes>"
            ]
          },
          "metadata": {
            "tags": [],
            "needs_background": "light"
          }
        }
      ]
    },
    {
      "cell_type": "markdown",
      "metadata": {
        "id": "5Jfyp24qXsZ5",
        "colab_type": "text"
      },
      "source": [
        "Let's draw a regression line, like we did before:"
      ]
    },
    {
      "cell_type": "code",
      "metadata": {
        "id": "7BPNFCsIXsZ6",
        "colab_type": "code",
        "colab": {
          "base_uri": "https://localhost:8080/",
          "height": 202
        },
        "outputId": "0eefa225-75f1-487e-beb7-1352ee60be59"
      },
      "source": [
        "# fit a linear regression model and store the predictions\n",
        "feature_cols = ['Al']\n",
        "\n",
        "X = glass[feature_cols]\n",
        "y = glass.household\n",
        "\n",
        "linreg.fit(X, y)\n",
        "glass['household_pred'] = linreg.predict(X)\n",
        "\n",
        "glass.head()"
      ],
      "execution_count": null,
      "outputs": [
        {
          "output_type": "execute_result",
          "data": {
            "text/html": [
              "<div>\n",
              "<style scoped>\n",
              "    .dataframe tbody tr th:only-of-type {\n",
              "        vertical-align: middle;\n",
              "    }\n",
              "\n",
              "    .dataframe tbody tr th {\n",
              "        vertical-align: top;\n",
              "    }\n",
              "\n",
              "    .dataframe thead th {\n",
              "        text-align: right;\n",
              "    }\n",
              "</style>\n",
              "<table border=\"1\" class=\"dataframe\">\n",
              "  <thead>\n",
              "    <tr style=\"text-align: right;\">\n",
              "      <th></th>\n",
              "      <th>Id</th>\n",
              "      <th>RI</th>\n",
              "      <th>Na</th>\n",
              "      <th>Mg</th>\n",
              "      <th>Al</th>\n",
              "      <th>Si</th>\n",
              "      <th>K</th>\n",
              "      <th>Ca</th>\n",
              "      <th>Ba</th>\n",
              "      <th>Fe</th>\n",
              "      <th>Type</th>\n",
              "      <th>ri_pred</th>\n",
              "      <th>household</th>\n",
              "      <th>household_pred</th>\n",
              "    </tr>\n",
              "  </thead>\n",
              "  <tbody>\n",
              "    <tr>\n",
              "      <th>21</th>\n",
              "      <td>22</td>\n",
              "      <td>1.51966</td>\n",
              "      <td>14.77</td>\n",
              "      <td>3.75</td>\n",
              "      <td>0.29</td>\n",
              "      <td>72.02</td>\n",
              "      <td>0.03</td>\n",
              "      <td>9.00</td>\n",
              "      <td>0.0</td>\n",
              "      <td>0.00</td>\n",
              "      <td>1</td>\n",
              "      <td>1.521227</td>\n",
              "      <td>0</td>\n",
              "      <td>-0.340495</td>\n",
              "    </tr>\n",
              "    <tr>\n",
              "      <th>184</th>\n",
              "      <td>185</td>\n",
              "      <td>1.51115</td>\n",
              "      <td>17.38</td>\n",
              "      <td>0.00</td>\n",
              "      <td>0.34</td>\n",
              "      <td>75.41</td>\n",
              "      <td>0.00</td>\n",
              "      <td>6.65</td>\n",
              "      <td>0.0</td>\n",
              "      <td>0.00</td>\n",
              "      <td>6</td>\n",
              "      <td>1.521103</td>\n",
              "      <td>1</td>\n",
              "      <td>-0.315436</td>\n",
              "    </tr>\n",
              "    <tr>\n",
              "      <th>39</th>\n",
              "      <td>40</td>\n",
              "      <td>1.52213</td>\n",
              "      <td>14.21</td>\n",
              "      <td>3.82</td>\n",
              "      <td>0.47</td>\n",
              "      <td>71.77</td>\n",
              "      <td>0.11</td>\n",
              "      <td>9.57</td>\n",
              "      <td>0.0</td>\n",
              "      <td>0.00</td>\n",
              "      <td>1</td>\n",
              "      <td>1.520781</td>\n",
              "      <td>0</td>\n",
              "      <td>-0.250283</td>\n",
              "    </tr>\n",
              "    <tr>\n",
              "      <th>38</th>\n",
              "      <td>39</td>\n",
              "      <td>1.52213</td>\n",
              "      <td>14.21</td>\n",
              "      <td>3.82</td>\n",
              "      <td>0.47</td>\n",
              "      <td>71.77</td>\n",
              "      <td>0.11</td>\n",
              "      <td>9.57</td>\n",
              "      <td>0.0</td>\n",
              "      <td>0.00</td>\n",
              "      <td>1</td>\n",
              "      <td>1.520781</td>\n",
              "      <td>0</td>\n",
              "      <td>-0.250283</td>\n",
              "    </tr>\n",
              "    <tr>\n",
              "      <th>50</th>\n",
              "      <td>51</td>\n",
              "      <td>1.52320</td>\n",
              "      <td>13.72</td>\n",
              "      <td>3.72</td>\n",
              "      <td>0.51</td>\n",
              "      <td>71.75</td>\n",
              "      <td>0.09</td>\n",
              "      <td>10.06</td>\n",
              "      <td>0.0</td>\n",
              "      <td>0.16</td>\n",
              "      <td>1</td>\n",
              "      <td>1.520682</td>\n",
              "      <td>0</td>\n",
              "      <td>-0.230236</td>\n",
              "    </tr>\n",
              "  </tbody>\n",
              "</table>\n",
              "</div>"
            ],
            "text/plain": [
              "      Id       RI     Na    Mg  ...  Type   ri_pred  household  household_pred\n",
              "21    22  1.51966  14.77  3.75  ...     1  1.521227          0       -0.340495\n",
              "184  185  1.51115  17.38  0.00  ...     6  1.521103          1       -0.315436\n",
              "39    40  1.52213  14.21  3.82  ...     1  1.520781          0       -0.250283\n",
              "38    39  1.52213  14.21  3.82  ...     1  1.520781          0       -0.250283\n",
              "50    51  1.52320  13.72  3.72  ...     1  1.520682          0       -0.230236\n",
              "\n",
              "[5 rows x 14 columns]"
            ]
          },
          "metadata": {
            "tags": []
          },
          "execution_count": 27
        }
      ]
    },
    {
      "cell_type": "code",
      "metadata": {
        "id": "Emj3cG1OXsZ9",
        "colab_type": "code",
        "colab": {
          "base_uri": "https://localhost:8080/",
          "height": 407
        },
        "outputId": "673604b6-b3e8-44c5-baf7-7dcec3a12a6a"
      },
      "source": [
        "# scatter plot that includes the regression line\n",
        "plt.figure(figsize=(12,6))\n",
        "plt.scatter(glass.Al, glass.household)\n",
        "plt.plot(glass.Al, glass.household_pred, color='red')\n",
        "\n",
        "plt.xlabel('al')\n",
        "plt.ylabel('household');"
      ],
      "execution_count": null,
      "outputs": [
        {
          "output_type": "display_data",
          "data": {
            "image/png": "[encoded data removed]",
            "text/plain": [
              "<Figure size 864x432 with 1 Axes>"
            ]
          },
          "metadata": {
            "tags": [],
            "needs_background": "light"
          }
        }
      ]
    },
    {
      "cell_type": "markdown",
      "metadata": {
        "id": "6ez8oZjyXsZ_",
        "colab_type": "text"
      },
      "source": [
        "If al=3, what class do we predict for household? 1\n",
        "\n",
        "If al=1.5, what class do we predict for household? 0\n",
        "\n",
        "We predict the 0 class for lower values of al, and the 1 class for higher values of al. \n",
        "\n",
        "What's our cutoff value? Around al=2, because that's where the linear regression line crosses \n",
        "the midpoint between predicting class 0 and class 1.\n",
        "\n",
        "Therefore, we'll say that if household_pred >= 0.5, we predict a class of 1, else we predict a class of 0."
      ]
    },
    {
      "cell_type": "markdown",
      "metadata": {
        "id": "Lc062KIwXsaA",
        "colab_type": "text"
      },
      "source": [
        "#### understanding np.where"
      ]
    },
    {
      "cell_type": "code",
      "metadata": {
        "id": "1KH-s1OTXsaA",
        "colab_type": "code",
        "colab": {},
        "outputId": "972cda46-409e-4056-ae53-8903de23cc5a"
      },
      "source": [
        "# understanding np.where\n",
        "nums = np.array([5, 15, 8])\n",
        "\n",
        "# np.where returns the first value if the condition is True, and \n",
        "# the second value if the condition is False\n",
        "np.where(nums > 10, 'big', 'small')"
      ],
      "execution_count": null,
      "outputs": [
        {
          "output_type": "execute_result",
          "data": {
            "text/plain": [
              "array(['small', 'big', 'small'], dtype='<U5')"
            ]
          },
          "metadata": {
            "tags": []
          },
          "execution_count": 25
        }
      ]
    },
    {
      "cell_type": "markdown",
      "metadata": {
        "id": "ZzeIDQuHXsaD",
        "colab_type": "text"
      },
      "source": [
        "back to main code ..."
      ]
    },
    {
      "cell_type": "code",
      "metadata": {
        "id": "x0oJs9MlXsaE",
        "colab_type": "code",
        "colab": {
          "base_uri": "https://localhost:8080/",
          "height": 202
        },
        "outputId": "82e09b7c-6006-4a0b-b4cf-ccae298df0f8"
      },
      "source": [
        "# transform household_pred to 1 or 0\n",
        "glass['household_pred_class'] = np.where(glass.household_pred >= 0.5, 1, 0)\n",
        "glass.head()"
      ],
      "execution_count": null,
      "outputs": [
        {
          "output_type": "execute_result",
          "data": {
            "text/html": [
              "<div>\n",
              "<style scoped>\n",
              "    .dataframe tbody tr th:only-of-type {\n",
              "        vertical-align: middle;\n",
              "    }\n",
              "\n",
              "    .dataframe tbody tr th {\n",
              "        vertical-align: top;\n",
              "    }\n",
              "\n",
              "    .dataframe thead th {\n",
              "        text-align: right;\n",
              "    }\n",
              "</style>\n",
              "<table border=\"1\" class=\"dataframe\">\n",
              "  <thead>\n",
              "    <tr style=\"text-align: right;\">\n",
              "      <th></th>\n",
              "      <th>Id</th>\n",
              "      <th>RI</th>\n",
              "      <th>Na</th>\n",
              "      <th>Mg</th>\n",
              "      <th>Al</th>\n",
              "      <th>Si</th>\n",
              "      <th>K</th>\n",
              "      <th>Ca</th>\n",
              "      <th>Ba</th>\n",
              "      <th>Fe</th>\n",
              "      <th>Type</th>\n",
              "      <th>ri_pred</th>\n",
              "      <th>household</th>\n",
              "      <th>household_pred</th>\n",
              "      <th>household_pred_class</th>\n",
              "    </tr>\n",
              "  </thead>\n",
              "  <tbody>\n",
              "    <tr>\n",
              "      <th>21</th>\n",
              "      <td>22</td>\n",
              "      <td>1.51966</td>\n",
              "      <td>14.77</td>\n",
              "      <td>3.75</td>\n",
              "      <td>0.29</td>\n",
              "      <td>72.02</td>\n",
              "      <td>0.03</td>\n",
              "      <td>9.00</td>\n",
              "      <td>0.0</td>\n",
              "      <td>0.00</td>\n",
              "      <td>1</td>\n",
              "      <td>1.521227</td>\n",
              "      <td>0</td>\n",
              "      <td>-0.340495</td>\n",
              "      <td>0</td>\n",
              "    </tr>\n",
              "    <tr>\n",
              "      <th>184</th>\n",
              "      <td>185</td>\n",
              "      <td>1.51115</td>\n",
              "      <td>17.38</td>\n",
              "      <td>0.00</td>\n",
              "      <td>0.34</td>\n",
              "      <td>75.41</td>\n",
              "      <td>0.00</td>\n",
              "      <td>6.65</td>\n",
              "      <td>0.0</td>\n",
              "      <td>0.00</td>\n",
              "      <td>6</td>\n",
              "      <td>1.521103</td>\n",
              "      <td>1</td>\n",
              "      <td>-0.315436</td>\n",
              "      <td>0</td>\n",
              "    </tr>\n",
              "    <tr>\n",
              "      <th>39</th>\n",
              "      <td>40</td>\n",
              "      <td>1.52213</td>\n",
              "      <td>14.21</td>\n",
              "      <td>3.82</td>\n",
              "      <td>0.47</td>\n",
              "      <td>71.77</td>\n",
              "      <td>0.11</td>\n",
              "      <td>9.57</td>\n",
              "      <td>0.0</td>\n",
              "      <td>0.00</td>\n",
              "      <td>1</td>\n",
              "      <td>1.520781</td>\n",
              "      <td>0</td>\n",
              "      <td>-0.250283</td>\n",
              "      <td>0</td>\n",
              "    </tr>\n",
              "    <tr>\n",
              "      <th>38</th>\n",
              "      <td>39</td>\n",
              "      <td>1.52213</td>\n",
              "      <td>14.21</td>\n",
              "      <td>3.82</td>\n",
              "      <td>0.47</td>\n",
              "      <td>71.77</td>\n",
              "      <td>0.11</td>\n",
              "      <td>9.57</td>\n",
              "      <td>0.0</td>\n",
              "      <td>0.00</td>\n",
              "      <td>1</td>\n",
              "      <td>1.520781</td>\n",
              "      <td>0</td>\n",
              "      <td>-0.250283</td>\n",
              "      <td>0</td>\n",
              "    </tr>\n",
              "    <tr>\n",
              "      <th>50</th>\n",
              "      <td>51</td>\n",
              "      <td>1.52320</td>\n",
              "      <td>13.72</td>\n",
              "      <td>3.72</td>\n",
              "      <td>0.51</td>\n",
              "      <td>71.75</td>\n",
              "      <td>0.09</td>\n",
              "      <td>10.06</td>\n",
              "      <td>0.0</td>\n",
              "      <td>0.16</td>\n",
              "      <td>1</td>\n",
              "      <td>1.520682</td>\n",
              "      <td>0</td>\n",
              "      <td>-0.230236</td>\n",
              "      <td>0</td>\n",
              "    </tr>\n",
              "  </tbody>\n",
              "</table>\n",
              "</div>"
            ],
            "text/plain": [
              "      Id       RI     Na  ...  household  household_pred  household_pred_class\n",
              "21    22  1.51966  14.77  ...          0       -0.340495                     0\n",
              "184  185  1.51115  17.38  ...          1       -0.315436                     0\n",
              "39    40  1.52213  14.21  ...          0       -0.250283                     0\n",
              "38    39  1.52213  14.21  ...          0       -0.250283                     0\n",
              "50    51  1.52320  13.72  ...          0       -0.230236                     0\n",
              "\n",
              "[5 rows x 15 columns]"
            ]
          },
          "metadata": {
            "tags": []
          },
          "execution_count": 29
        }
      ]
    },
    {
      "cell_type": "code",
      "metadata": {
        "id": "DEz5zZYXXsaG",
        "colab_type": "code",
        "colab": {
          "base_uri": "https://localhost:8080/",
          "height": 407
        },
        "outputId": "692a971f-1d37-484f-df18-1bcf4375aeb6"
      },
      "source": [
        "# plot the class predictions\n",
        "plt.figure(figsize=(12,6))\n",
        "plt.scatter(glass.Al, glass.household)\n",
        "plt.plot(glass.Al,    glass.household_pred_class, color='red')\n",
        "\n",
        "plt.xlabel('al')\n",
        "plt.ylabel('household');"
      ],
      "execution_count": null,
      "outputs": [
        {
          "output_type": "display_data",
          "data": {
            "image/png": "[encoded data removed]",
            "text/plain": [
              "<Figure size 864x432 with 1 Axes>"
            ]
          },
          "metadata": {
            "tags": [],
            "needs_background": "light"
          }
        }
      ]
    },
    {
      "cell_type": "code",
      "metadata": {
        "id": "R6igb02fXsaJ",
        "colab_type": "code",
        "colab": {}
      },
      "source": [
        "# Using Logistic Regression Instead\n",
        "# Logistic regression can do what we just did:"
      ],
      "execution_count": null,
      "outputs": []
    },
    {
      "cell_type": "code",
      "metadata": {
        "id": "I7nZQ_zUXsaM",
        "colab_type": "code",
        "colab": {}
      },
      "source": [
        "logreg = LogisticRegression(solver='lbfgs')\n",
        "\n",
        "feature_cols = ['Al']\n",
        "\n",
        "X = glass[feature_cols]\n",
        "y = glass.household\n",
        "\n",
        "logreg.fit(X, y)\n",
        "\n",
        "glass['household_pred_class'] = logreg.predict(X)"
      ],
      "execution_count": null,
      "outputs": []
    },
    {
      "cell_type": "code",
      "metadata": {
        "id": "yrBfbfqQXsaO",
        "colab_type": "code",
        "colab": {
          "base_uri": "https://localhost:8080/",
          "height": 202
        },
        "outputId": "f4eb35f0-44d3-4e39-f75a-d79077b13d0a"
      },
      "source": [
        "glass.head()"
      ],
      "execution_count": null,
      "outputs": [
        {
          "output_type": "execute_result",
          "data": {
            "text/html": [
              "<div>\n",
              "<style scoped>\n",
              "    .dataframe tbody tr th:only-of-type {\n",
              "        vertical-align: middle;\n",
              "    }\n",
              "\n",
              "    .dataframe tbody tr th {\n",
              "        vertical-align: top;\n",
              "    }\n",
              "\n",
              "    .dataframe thead th {\n",
              "        text-align: right;\n",
              "    }\n",
              "</style>\n",
              "<table border=\"1\" class=\"dataframe\">\n",
              "  <thead>\n",
              "    <tr style=\"text-align: right;\">\n",
              "      <th></th>\n",
              "      <th>Id</th>\n",
              "      <th>RI</th>\n",
              "      <th>Na</th>\n",
              "      <th>Mg</th>\n",
              "      <th>Al</th>\n",
              "      <th>Si</th>\n",
              "      <th>K</th>\n",
              "      <th>Ca</th>\n",
              "      <th>Ba</th>\n",
              "      <th>Fe</th>\n",
              "      <th>Type</th>\n",
              "      <th>ri_pred</th>\n",
              "      <th>household</th>\n",
              "      <th>household_pred</th>\n",
              "      <th>household_pred_class</th>\n",
              "    </tr>\n",
              "  </thead>\n",
              "  <tbody>\n",
              "    <tr>\n",
              "      <th>21</th>\n",
              "      <td>22</td>\n",
              "      <td>1.51966</td>\n",
              "      <td>14.77</td>\n",
              "      <td>3.75</td>\n",
              "      <td>0.29</td>\n",
              "      <td>72.02</td>\n",
              "      <td>0.03</td>\n",
              "      <td>9.00</td>\n",
              "      <td>0.0</td>\n",
              "      <td>0.00</td>\n",
              "      <td>1</td>\n",
              "      <td>1.521227</td>\n",
              "      <td>0</td>\n",
              "      <td>-0.340495</td>\n",
              "      <td>0</td>\n",
              "    </tr>\n",
              "    <tr>\n",
              "      <th>184</th>\n",
              "      <td>185</td>\n",
              "      <td>1.51115</td>\n",
              "      <td>17.38</td>\n",
              "      <td>0.00</td>\n",
              "      <td>0.34</td>\n",
              "      <td>75.41</td>\n",
              "      <td>0.00</td>\n",
              "      <td>6.65</td>\n",
              "      <td>0.0</td>\n",
              "      <td>0.00</td>\n",
              "      <td>6</td>\n",
              "      <td>1.521103</td>\n",
              "      <td>1</td>\n",
              "      <td>-0.315436</td>\n",
              "      <td>0</td>\n",
              "    </tr>\n",
              "    <tr>\n",
              "      <th>39</th>\n",
              "      <td>40</td>\n",
              "      <td>1.52213</td>\n",
              "      <td>14.21</td>\n",
              "      <td>3.82</td>\n",
              "      <td>0.47</td>\n",
              "      <td>71.77</td>\n",
              "      <td>0.11</td>\n",
              "      <td>9.57</td>\n",
              "      <td>0.0</td>\n",
              "      <td>0.00</td>\n",
              "      <td>1</td>\n",
              "      <td>1.520781</td>\n",
              "      <td>0</td>\n",
              "      <td>-0.250283</td>\n",
              "      <td>0</td>\n",
              "    </tr>\n",
              "    <tr>\n",
              "      <th>38</th>\n",
              "      <td>39</td>\n",
              "      <td>1.52213</td>\n",
              "      <td>14.21</td>\n",
              "      <td>3.82</td>\n",
              "      <td>0.47</td>\n",
              "      <td>71.77</td>\n",
              "      <td>0.11</td>\n",
              "      <td>9.57</td>\n",
              "      <td>0.0</td>\n",
              "      <td>0.00</td>\n",
              "      <td>1</td>\n",
              "      <td>1.520781</td>\n",
              "      <td>0</td>\n",
              "      <td>-0.250283</td>\n",
              "      <td>0</td>\n",
              "    </tr>\n",
              "    <tr>\n",
              "      <th>50</th>\n",
              "      <td>51</td>\n",
              "      <td>1.52320</td>\n",
              "      <td>13.72</td>\n",
              "      <td>3.72</td>\n",
              "      <td>0.51</td>\n",
              "      <td>71.75</td>\n",
              "      <td>0.09</td>\n",
              "      <td>10.06</td>\n",
              "      <td>0.0</td>\n",
              "      <td>0.16</td>\n",
              "      <td>1</td>\n",
              "      <td>1.520682</td>\n",
              "      <td>0</td>\n",
              "      <td>-0.230236</td>\n",
              "      <td>0</td>\n",
              "    </tr>\n",
              "  </tbody>\n",
              "</table>\n",
              "</div>"
            ],
            "text/plain": [
              "      Id       RI     Na  ...  household  household_pred  household_pred_class\n",
              "21    22  1.51966  14.77  ...          0       -0.340495                     0\n",
              "184  185  1.51115  17.38  ...          1       -0.315436                     0\n",
              "39    40  1.52213  14.21  ...          0       -0.250283                     0\n",
              "38    39  1.52213  14.21  ...          0       -0.250283                     0\n",
              "50    51  1.52320  13.72  ...          0       -0.230236                     0\n",
              "\n",
              "[5 rows x 15 columns]"
            ]
          },
          "metadata": {
            "tags": []
          },
          "execution_count": 34
        }
      ]
    },
    {
      "cell_type": "code",
      "metadata": {
        "id": "tKiwQomJXsaQ",
        "colab_type": "code",
        "colab": {
          "base_uri": "https://localhost:8080/",
          "height": 425
        },
        "outputId": "7d6ec5f0-ba47-4c4d-dc59-1e9ba8285376"
      },
      "source": [
        "# plot the class predictions\n",
        "plt.figure(figsize=(12,6))\n",
        "plt.scatter(glass.Al, glass.household)\n",
        "plt.plot(glass.Al, glass.household_pred_class, color='red')\n",
        "\n",
        "plt.xlabel('al')\n",
        "plt.ylabel('household')"
      ],
      "execution_count": null,
      "outputs": [
        {
          "output_type": "execute_result",
          "data": {
            "text/plain": [
              "Text(0, 0.5, 'household')"
            ]
          },
          "metadata": {
            "tags": []
          },
          "execution_count": 35
        },
        {
          "output_type": "display_data",
          "data": {
            "image/png": "[encoded data removed]",
            "text/plain": [
              "<Figure size 864x432 with 1 Axes>"
            ]
          },
          "metadata": {
            "tags": [],
            "needs_background": "light"
          }
        }
      ]
    },
    {
      "cell_type": "code",
      "metadata": {
        "id": "GxDkJ7FKXsaT",
        "colab_type": "code",
        "colab": {}
      },
      "source": [
        "# What if we wanted the predicted probabilities instead of just the class predictions, \n",
        "# to understand how confident we are in a given prediction?"
      ],
      "execution_count": null,
      "outputs": []
    },
    {
      "cell_type": "markdown",
      "metadata": {
        "id": "Dr4cTPJwXsaV",
        "colab_type": "text"
      },
      "source": [
        "logreg.predict_proba(X)[:3]\n",
        "\n",
        "- only 3 samples of Al\n",
        "- first sample \n",
        "    - it will calculate\n",
        "        - y = b0 + b1.x1\n",
        "        - pass y to sigmoid function\n",
        "        - sigmoid fn will return {0, 1} - probability\n",
        "        "
      ]
    },
    {
      "cell_type": "code",
      "metadata": {
        "id": "16hpSrStXsaV",
        "colab_type": "code",
        "colab": {
          "base_uri": "https://localhost:8080/",
          "height": 277
        },
        "outputId": "c81f0b4b-f940-44d0-c9cf-e74a0ae6cdb9"
      },
      "source": [
        "logreg.predict_proba(X)[:15]"
      ],
      "execution_count": null,
      "outputs": [
        {
          "output_type": "execute_result",
          "data": {
            "text/plain": [
              "array([[0.9939759 , 0.0060241 ],\n",
              "       [0.99296771, 0.00703229],\n",
              "       [0.98949363, 0.01050637],\n",
              "       [0.98949363, 0.01050637],\n",
              "       [0.98811597, 0.01188403],\n",
              "       [0.98614074, 0.01385926],\n",
              "       [0.98614074, 0.01385926],\n",
              "       [0.98526292, 0.01473708],\n",
              "       [0.9817376 , 0.0182624 ],\n",
              "       [0.98117062, 0.01882938],\n",
              "       [0.98058638, 0.01941362],\n",
              "       [0.97806663, 0.02193337],\n",
              "       [0.97738831, 0.02261169],\n",
              "       [0.9752281 , 0.0247719 ],\n",
              "       [0.9752281 , 0.0247719 ]])"
            ]
          },
          "metadata": {
            "tags": []
          },
          "execution_count": 36
        }
      ]
    },
    {
      "cell_type": "code",
      "metadata": {
        "id": "xM85NG5lXsaY",
        "colab_type": "code",
        "colab": {}
      },
      "source": [
        "#logreg.predict_proba(X)[:, 1]"
      ],
      "execution_count": null,
      "outputs": []
    },
    {
      "cell_type": "code",
      "metadata": {
        "id": "E6t5JMIsXsab",
        "colab_type": "code",
        "colab": {}
      },
      "source": [
        "# store the predicted probabilites of class 1\n",
        "glass['household_pred_prob_1'] = logreg.predict_proba(X)[:, 1]\n",
        "glass['household_pred_prob_0'] = logreg.predict_proba(X)[:, 0]"
      ],
      "execution_count": null,
      "outputs": []
    },
    {
      "cell_type": "code",
      "metadata": {
        "id": "xurQ2Tn_Xsad",
        "colab_type": "code",
        "colab": {
          "base_uri": "https://localhost:8080/",
          "height": 222
        },
        "outputId": "096c4043-90c3-41bb-cfe3-18816577bfcc"
      },
      "source": [
        "glass.head()"
      ],
      "execution_count": null,
      "outputs": [
        {
          "output_type": "execute_result",
          "data": {
            "text/html": [
              "<div>\n",
              "<style scoped>\n",
              "    .dataframe tbody tr th:only-of-type {\n",
              "        vertical-align: middle;\n",
              "    }\n",
              "\n",
              "    .dataframe tbody tr th {\n",
              "        vertical-align: top;\n",
              "    }\n",
              "\n",
              "    .dataframe thead th {\n",
              "        text-align: right;\n",
              "    }\n",
              "</style>\n",
              "<table border=\"1\" class=\"dataframe\">\n",
              "  <thead>\n",
              "    <tr style=\"text-align: right;\">\n",
              "      <th></th>\n",
              "      <th>Id</th>\n",
              "      <th>RI</th>\n",
              "      <th>Na</th>\n",
              "      <th>Mg</th>\n",
              "      <th>Al</th>\n",
              "      <th>Si</th>\n",
              "      <th>K</th>\n",
              "      <th>Ca</th>\n",
              "      <th>Ba</th>\n",
              "      <th>Fe</th>\n",
              "      <th>Type</th>\n",
              "      <th>ri_pred</th>\n",
              "      <th>household</th>\n",
              "      <th>household_pred</th>\n",
              "      <th>household_pred_class</th>\n",
              "      <th>household_pred_prob</th>\n",
              "      <th>household_pred_prob_1</th>\n",
              "      <th>household_pred_prob_0</th>\n",
              "    </tr>\n",
              "  </thead>\n",
              "  <tbody>\n",
              "    <tr>\n",
              "      <th>21</th>\n",
              "      <td>22</td>\n",
              "      <td>1.51966</td>\n",
              "      <td>14.77</td>\n",
              "      <td>3.75</td>\n",
              "      <td>0.29</td>\n",
              "      <td>72.02</td>\n",
              "      <td>0.03</td>\n",
              "      <td>9.00</td>\n",
              "      <td>0.0</td>\n",
              "      <td>0.00</td>\n",
              "      <td>1</td>\n",
              "      <td>1.521227</td>\n",
              "      <td>0</td>\n",
              "      <td>-0.340495</td>\n",
              "      <td>0</td>\n",
              "      <td>0.006024</td>\n",
              "      <td>0.006024</td>\n",
              "      <td>0.993976</td>\n",
              "    </tr>\n",
              "    <tr>\n",
              "      <th>184</th>\n",
              "      <td>185</td>\n",
              "      <td>1.51115</td>\n",
              "      <td>17.38</td>\n",
              "      <td>0.00</td>\n",
              "      <td>0.34</td>\n",
              "      <td>75.41</td>\n",
              "      <td>0.00</td>\n",
              "      <td>6.65</td>\n",
              "      <td>0.0</td>\n",
              "      <td>0.00</td>\n",
              "      <td>6</td>\n",
              "      <td>1.521103</td>\n",
              "      <td>1</td>\n",
              "      <td>-0.315436</td>\n",
              "      <td>0</td>\n",
              "      <td>0.007032</td>\n",
              "      <td>0.007032</td>\n",
              "      <td>0.992968</td>\n",
              "    </tr>\n",
              "    <tr>\n",
              "      <th>39</th>\n",
              "      <td>40</td>\n",
              "      <td>1.52213</td>\n",
              "      <td>14.21</td>\n",
              "      <td>3.82</td>\n",
              "      <td>0.47</td>\n",
              "      <td>71.77</td>\n",
              "      <td>0.11</td>\n",
              "      <td>9.57</td>\n",
              "      <td>0.0</td>\n",
              "      <td>0.00</td>\n",
              "      <td>1</td>\n",
              "      <td>1.520781</td>\n",
              "      <td>0</td>\n",
              "      <td>-0.250283</td>\n",
              "      <td>0</td>\n",
              "      <td>0.010506</td>\n",
              "      <td>0.010506</td>\n",
              "      <td>0.989494</td>\n",
              "    </tr>\n",
              "    <tr>\n",
              "      <th>38</th>\n",
              "      <td>39</td>\n",
              "      <td>1.52213</td>\n",
              "      <td>14.21</td>\n",
              "      <td>3.82</td>\n",
              "      <td>0.47</td>\n",
              "      <td>71.77</td>\n",
              "      <td>0.11</td>\n",
              "      <td>9.57</td>\n",
              "      <td>0.0</td>\n",
              "      <td>0.00</td>\n",
              "      <td>1</td>\n",
              "      <td>1.520781</td>\n",
              "      <td>0</td>\n",
              "      <td>-0.250283</td>\n",
              "      <td>0</td>\n",
              "      <td>0.010506</td>\n",
              "      <td>0.010506</td>\n",
              "      <td>0.989494</td>\n",
              "    </tr>\n",
              "    <tr>\n",
              "      <th>50</th>\n",
              "      <td>51</td>\n",
              "      <td>1.52320</td>\n",
              "      <td>13.72</td>\n",
              "      <td>3.72</td>\n",
              "      <td>0.51</td>\n",
              "      <td>71.75</td>\n",
              "      <td>0.09</td>\n",
              "      <td>10.06</td>\n",
              "      <td>0.0</td>\n",
              "      <td>0.16</td>\n",
              "      <td>1</td>\n",
              "      <td>1.520682</td>\n",
              "      <td>0</td>\n",
              "      <td>-0.230236</td>\n",
              "      <td>0</td>\n",
              "      <td>0.011884</td>\n",
              "      <td>0.011884</td>\n",
              "      <td>0.988116</td>\n",
              "    </tr>\n",
              "  </tbody>\n",
              "</table>\n",
              "</div>"
            ],
            "text/plain": [
              "      Id       RI  ...  household_pred_prob_1  household_pred_prob_0\n",
              "21    22  1.51966  ...               0.006024               0.993976\n",
              "184  185  1.51115  ...               0.007032               0.992968\n",
              "39    40  1.52213  ...               0.010506               0.989494\n",
              "38    39  1.52213  ...               0.010506               0.989494\n",
              "50    51  1.52320  ...               0.011884               0.988116\n",
              "\n",
              "[5 rows x 18 columns]"
            ]
          },
          "metadata": {
            "tags": []
          },
          "execution_count": 41
        }
      ]
    },
    {
      "cell_type": "code",
      "metadata": {
        "id": "CMPGVRImXsag",
        "colab_type": "code",
        "colab": {
          "base_uri": "https://localhost:8080/",
          "height": 407
        },
        "outputId": "f094e4b4-ce39-455b-f9a3-a2d1338be955"
      },
      "source": [
        "# plot the predicted probabilities\n",
        "plt.figure(figsize=(12,6))\n",
        "\n",
        "plt.scatter(glass.Al, glass.household)\n",
        "\n",
        "plt.plot(glass.Al, glass.household_pred_prob_0, color='red',label='0')\n",
        "plt.plot(glass.Al, glass.household_pred_prob_1, color='blue',label='1')\n",
        "plt.legend()\n",
        "plt.xlabel('al')\n",
        "plt.ylabel('household');"
      ],
      "execution_count": null,
      "outputs": [
        {
          "output_type": "display_data",
          "data": {
            "image/png": "[encoded data removed]",
            "text/plain": [
              "<Figure size 864x432 with 1 Axes>"
            ]
          },
          "metadata": {
            "tags": [],
            "needs_background": "light"
          }
        }
      ]
    },
    {
      "cell_type": "code",
      "metadata": {
        "id": "zGmaMeIuXsai",
        "colab_type": "code",
        "colab": {
          "base_uri": "https://localhost:8080/",
          "height": 35
        },
        "outputId": "37199248-a176-4ab3-a43a-cc682906e3dc"
      },
      "source": [
        "logreg.predict_proba([[1]])"
      ],
      "execution_count": null,
      "outputs": [
        {
          "output_type": "execute_result",
          "data": {
            "text/plain": [
              "array([[0.94755733, 0.05244267]])"
            ]
          },
          "metadata": {
            "tags": []
          },
          "execution_count": 47
        }
      ]
    },
    {
      "cell_type": "code",
      "metadata": {
        "id": "7ef5SLbUXsal",
        "colab_type": "code",
        "colab": {},
        "outputId": "50910108-4ffc-4673-e2d2-651396707a37"
      },
      "source": [
        "# examine some example predictions\n",
        "print (logreg.predict_proba([[1]]))\n",
        "print (logreg.predict_proba([[2]]))\n",
        "print (logreg.predict_proba([[3]]))"
      ],
      "execution_count": null,
      "outputs": [
        {
          "output_type": "stream",
          "text": [
            "[[0.94755733 0.05244267]]\n",
            "[[0.4449707 0.5550293]]\n",
            "[[0.03435025 0.96564975]]\n"
          ],
          "name": "stdout"
        }
      ]
    },
    {
      "cell_type": "code",
      "metadata": {
        "id": "ueFRY5FzXsap",
        "colab_type": "code",
        "colab": {
          "base_uri": "https://localhost:8080/",
          "height": 35
        },
        "outputId": "9bcae4d9-ac3e-4f7f-b59d-6e27193d400d"
      },
      "source": [
        "linreg.intercept_, linreg.coef_"
      ],
      "execution_count": null,
      "outputs": [
        {
          "output_type": "execute_result",
          "data": {
            "text/plain": [
              "(-0.4858361691974763, array([0.501177]))"
            ]
          },
          "metadata": {
            "tags": []
          },
          "execution_count": 48
        }
      ]
    },
    {
      "cell_type": "code",
      "metadata": {
        "id": "kR7Igbp2Xsar",
        "colab_type": "code",
        "colab": {},
        "outputId": "02f20013-f44e-4efd-a367-476cb9bf21cb"
      },
      "source": [
        "# what do these coeff mean? are they the same as we saw in \n",
        "# linear regression??\n",
        "logreg.intercept_, logreg.coef_"
      ],
      "execution_count": null,
      "outputs": [
        {
          "output_type": "execute_result",
          "data": {
            "text/plain": [
              "(array([-6.00934605]), array([[3.11517927]]))"
            ]
          },
          "metadata": {
            "tags": []
          },
          "execution_count": 35
        }
      ]
    },
    {
      "cell_type": "code",
      "metadata": {
        "jupyter": {
          "outputs_hidden": true
        },
        "id": "GXFtEPcTXsau",
        "colab_type": "code",
        "colab": {}
      },
      "source": [
        "# The first column indicates the predicted probability of class 0, and \n",
        "# the second column indicates the predicted probability of class 1."
      ],
      "execution_count": null,
      "outputs": []
    },
    {
      "cell_type": "markdown",
      "metadata": {
        "id": "7n9-JVHVXsax",
        "colab_type": "text"
      },
      "source": [
        "__Linear regression:__ continuous response is modeled as a linear combination of the features:\n",
        "\n",
        "$$y = \\beta_0 + \\beta_1.x_1$$\n",
        "\n",
        "generally,\n",
        "\n",
        "$$ y = \\beta_0 + \\beta_1.x_1 + \\beta_2.x_2 + \\beta_3.x_3 + ... + \\beta_k.x_k$$\n",
        "\n",
        "__Logistic regression:__ log-odds of a categorical response being \"true\" (1) is modeled as a linear combination of the features:\n",
        "\n",
        "$$log\\frac{p}{1−p} = y = \\beta_0 + \\beta_1.x$$\n",
        "\n",
        "But how ????\n",
        "\n",
        "$$y = \\beta_0 + \\beta_1.x$$\n",
        "\n",
        "$$ P = logit(\\hat{y}) = \\frac{1}{1 + e^{-y}}$$\n",
        "\n",
        "$$ P = \\frac{1}{1 + \\frac{1}{e^{y}}}$$\n",
        "\n",
        "$$ P = \\frac{e^{y}}{1 + e^{y}}$$\n",
        "\n",
        "$$ \\frac{1}{P} = \\frac{1 + e^{y}}{e^{y}}$$\n",
        "\n",
        "$$ \\frac{1}{P} - 1 = \\frac{1 + e^{y}}{e^{y}} - 1$$\n",
        "\n",
        "$$ \\frac{1 - P}{P} = \\frac{1 }{e^{y}} $$\n",
        "\n",
        "$$ \\frac{P}{1 - P} = e^{y} $$\n",
        "\n",
        "$$ e^{y} = \\frac{P}{1 - P} $$\n",
        "\n",
        "$$ y = log(\\frac{P}{1 - P}) $$\n",
        "\n",
        "__This is called the logit function.__\n",
        "\n",
        "Probability is sometimes written as pi:\n",
        "\n",
        "$$log\\frac{\\pi}{1 - \\pi} = \\beta_0 + \\beta_1.x$$\n",
        "\n",
        "$$\\frac{\\pi}{1 - \\pi} = e^{\\beta_0 + \\beta_1.x}$$\n",
        "\n",
        "$$\\frac{1 - \\pi}{\\pi} = \\frac{1}{e^{\\beta_0 + \\beta_1.x}}$$\n",
        "\n",
        "$$\\frac{1}{\\pi} = 1 + \\frac{1}{e^{\\beta_0 + \\beta_1.x}}$$\n",
        "\n",
        "$$\\frac{1}{\\pi} = \\frac{1 + e^{\\beta_0 + \\beta_1.x}}{e^{\\beta_0 + \\beta_1.x}}$$\n",
        "\n",
        "The equation can be rearranged into the logistic function:\n",
        "\n",
        "$$\\pi = \\frac{e^{\\beta_0 + \\beta_1.x}} {1+ e^{\\beta_0 + \\beta_1.x}} $$\n",
        "\n",
        "$$\\pi = \\frac{e^y} {1+ e^y} $$\n",
        "\n",
        "$$\\pi = \\frac{1} {1 + e^{-y}}  ==> Sigmoid-function$$\n",
        "\n",
        "In other words:\n",
        "\n",
        "Logistic regression outputs the probabilities of a specific class\n",
        "Those probabilities can be converted into class predictions\n",
        "The logistic function has some nice properties:\n",
        "\n",
        "Takes on an \"s\" shape\n",
        "Output is bounded by 0 and 1\n",
        "We have covered how this works for binary classification problems (two response classes). But what about multi-class classification problems (more than two response classes)?\n",
        "\n",
        "Most common solution for classification models is \"one-vs-all\" (also known as \"one-vs-rest\"): decompose the problem into multiple binary classification problems\n",
        "Multinomial logistic regression can solve this as a single problem"
      ]
    },
    {
      "cell_type": "code",
      "metadata": {
        "jupyter": {
          "outputs_hidden": true
        },
        "id": "mgk9aNsDXsax",
        "colab_type": "code",
        "colab": {}
      },
      "source": [
        "# Interpreting Logistic Regression Coefficients"
      ],
      "execution_count": null,
      "outputs": []
    },
    {
      "cell_type": "code",
      "metadata": {
        "id": "UxjyU2arXsa1",
        "colab_type": "code",
        "colab": {},
        "outputId": "47fa1cb0-e292-4fe5-9162-124cc841ff85"
      },
      "source": [
        "# plot the predicted probabilities again\n",
        "plt.figure(figsize=(12,6))\n",
        "\n",
        "plt.scatter(glass.Al, glass.household)\n",
        "plt.plot(glass.Al, glass.household_pred_prob, color='red')\n",
        "plt.xlabel('al')\n",
        "plt.ylabel('household');"
      ],
      "execution_count": null,
      "outputs": [
        {
          "output_type": "display_data",
          "data": {
            "image/png": "[encoded data removed]",
            "text/plain": [
              "<Figure size 864x432 with 1 Axes>"
            ]
          },
          "metadata": {
            "tags": [],
            "needs_background": "light"
          }
        }
      ]
    },
    {
      "cell_type": "markdown",
      "metadata": {
        "id": "5RzxrA_fXsa3",
        "colab_type": "text"
      },
      "source": [
        "### Interpretation of coeff\n",
        "\n",
        "(1). calculate the log of odds"
      ]
    },
    {
      "cell_type": "code",
      "metadata": {
        "id": "T_NLwXn-Xsa3",
        "colab_type": "code",
        "colab": {},
        "outputId": "b2e2acf2-cd08-402c-ca91-ffe3bcf0d2ff"
      },
      "source": [
        "logreg.intercept_"
      ],
      "execution_count": null,
      "outputs": [
        {
          "output_type": "execute_result",
          "data": {
            "text/plain": [
              "array([-6.00934605])"
            ]
          },
          "metadata": {
            "tags": []
          },
          "execution_count": 37
        }
      ]
    },
    {
      "cell_type": "code",
      "metadata": {
        "id": "J6R2Z25zXsa5",
        "colab_type": "code",
        "colab": {},
        "outputId": "a30b8b2a-cf68-4a60-9c19-eb02f2b63562"
      },
      "source": [
        "logreg.coef_"
      ],
      "execution_count": null,
      "outputs": [
        {
          "output_type": "execute_result",
          "data": {
            "text/plain": [
              "array([[3.11517927]])"
            ]
          },
          "metadata": {
            "tags": []
          },
          "execution_count": 38
        }
      ]
    },
    {
      "cell_type": "code",
      "metadata": {
        "id": "j0n9BUHGXsa6",
        "colab_type": "code",
        "colab": {},
        "outputId": "6b508cfd-ad82-42e1-d037-90ccbc101942"
      },
      "source": [
        "# compute predicted log-odds for al=2 using the equation\n",
        "logodds = logreg.intercept_ + logreg.coef_[0] * 2\n",
        "\n",
        "print('log of odds for al = 2, ', logodds)\n",
        "\n",
        "# find out the prob\n",
        "# odds = np.exp(logodds)\n",
        "# prob = odds/(1 + odds)"
      ],
      "execution_count": null,
      "outputs": [
        {
          "output_type": "stream",
          "text": [
            "log of odds for al = 2,  [0.22101248]\n"
          ],
          "name": "stdout"
        }
      ]
    },
    {
      "cell_type": "markdown",
      "metadata": {
        "id": "c_Rr4YY7Xsa9",
        "colab_type": "text"
      },
      "source": [
        "(2). Convert log of odds to odds\n",
        "\n",
        "$ log(odds) = n $\n",
        "\n",
        "$ odds = e^n $"
      ]
    },
    {
      "cell_type": "code",
      "metadata": {
        "id": "0hkkZseVXsa9",
        "colab_type": "code",
        "colab": {},
        "outputId": "20e8891e-ea15-475d-c85d-11595672bcfa"
      },
      "source": [
        "# convert log-odds to odds\n",
        "odds = np.exp(logodds)\n",
        "odds"
      ],
      "execution_count": null,
      "outputs": [
        {
          "output_type": "execute_result",
          "data": {
            "text/plain": [
              "array([1.247339])"
            ]
          },
          "metadata": {
            "tags": []
          },
          "execution_count": 41
        }
      ]
    },
    {
      "cell_type": "markdown",
      "metadata": {
        "id": "mJrjuIciXsa_",
        "colab_type": "text"
      },
      "source": [
        "(3). Convert odds to probability\n",
        "\n",
        "$odds = e^n$\n",
        "\n",
        "$\\frac{p}{1 - p} = e^n$\n",
        "\n",
        "$\\frac{1 - p}{p} = \\frac{1}{e^n}$\n",
        "\n",
        "$\\frac{1}{p} = 1+ \\frac{1}{e^n}$\n",
        "\n",
        "$\\frac{1}{p} = \\frac{1+ e^n}{e^n}$\n",
        "\n",
        "$p = \\frac{odds}{1 + odds}$"
      ]
    },
    {
      "cell_type": "code",
      "metadata": {
        "id": "ZUxmODapXsbA",
        "colab_type": "code",
        "colab": {},
        "outputId": "1038bddb-2040-40f9-c7f8-1c5587143f42"
      },
      "source": [
        "# convert odds to probability\n",
        "prob = odds/(1 + odds)\n",
        "prob"
      ],
      "execution_count": null,
      "outputs": [
        {
          "output_type": "execute_result",
          "data": {
            "text/plain": [
              "array([0.5550293])"
            ]
          },
          "metadata": {
            "tags": []
          },
          "execution_count": 48
        }
      ]
    },
    {
      "cell_type": "code",
      "metadata": {
        "id": "bmz9i9AqXsbE",
        "colab_type": "code",
        "colab": {},
        "outputId": "719bb97d-7f72-46a4-8dbe-779808be3251"
      },
      "source": [
        "# compute predicted probability for al=2 using the predict_proba method\n",
        "print(logreg.predict_proba([[2]]))\n",
        "print(logreg.predict_proba([[2]])[:, 1])"
      ],
      "execution_count": null,
      "outputs": [
        {
          "output_type": "stream",
          "text": [
            "[[0.4449707 0.5550293]]\n",
            "[0.5550293]\n"
          ],
          "name": "stdout"
        }
      ]
    },
    {
      "cell_type": "code",
      "metadata": {
        "id": "nk_LAhNcXsbG",
        "colab_type": "code",
        "colab": {},
        "outputId": "adbddba5-ab1c-4ead-b239-8ffcc2eee837"
      },
      "source": [
        "# examine the coefficient for al\n",
        "for i in zip(feature_cols, logreg.coef_[0]):\n",
        "    print(i)"
      ],
      "execution_count": null,
      "outputs": [
        {
          "output_type": "stream",
          "text": [
            "('Al', 3.1151792681570165)\n"
          ],
          "name": "stdout"
        }
      ]
    },
    {
      "cell_type": "markdown",
      "metadata": {
        "id": "6k7siygOXsbI",
        "colab_type": "text"
      },
      "source": [
        "### Interpretation: A 1 unit increase in 'al' is associated with a 3.1151792681570165 unit increase in the log-odds of 'household'."
      ]
    },
    {
      "cell_type": "code",
      "metadata": {
        "id": "BLjeX1bjXsbI",
        "colab_type": "code",
        "colab": {
          "base_uri": "https://localhost:8080/",
          "height": 35
        },
        "outputId": "56f461fe-d82a-403d-9043-595669353ccd"
      },
      "source": [
        "# increasing al by 1 (so that al=3) increases the log-odds by 2.01099\n",
        "#logodds = -0.10592543 + 2.0109909641729433\n",
        "logodds = logreg.intercept_ + logreg.coef_[0] * 3\n",
        "odds = np.exp(logodds)\n",
        "prob = odds/(1 + odds)\n",
        "prob"
      ],
      "execution_count": null,
      "outputs": [
        {
          "output_type": "execute_result",
          "data": {
            "text/plain": [
              "array([0.96564975])"
            ]
          },
          "metadata": {
            "tags": []
          },
          "execution_count": 58
        }
      ]
    },
    {
      "cell_type": "code",
      "metadata": {
        "id": "dsFeM1mGXsbK",
        "colab_type": "code",
        "colab": {
          "base_uri": "https://localhost:8080/",
          "height": 35
        },
        "outputId": "5da8bc8b-e33e-4a56-abc7-f81f13c86ef9"
      },
      "source": [
        "# compute predicted probability for al=3 using the predict_proba method\n",
        "logreg.predict_proba([[3]])"
      ],
      "execution_count": null,
      "outputs": [
        {
          "output_type": "execute_result",
          "data": {
            "text/plain": [
              "array([[0.03435025, 0.96564975]])"
            ]
          },
          "metadata": {
            "tags": []
          },
          "execution_count": 59
        }
      ]
    },
    {
      "cell_type": "code",
      "metadata": {
        "id": "bgbNOkyGXsbM",
        "colab_type": "code",
        "colab": {
          "base_uri": "https://localhost:8080/",
          "height": 35
        },
        "outputId": "2054eadf-3239-4a54-d300-2b304ba3a66a"
      },
      "source": [
        "logreg.predict_proba([[2]])"
      ],
      "execution_count": null,
      "outputs": [
        {
          "output_type": "execute_result",
          "data": {
            "text/plain": [
              "array([[0.4449707, 0.5550293]])"
            ]
          },
          "metadata": {
            "tags": []
          },
          "execution_count": 52
        }
      ]
    },
    {
      "cell_type": "markdown",
      "metadata": {
        "id": "40iy8-BKXsbO",
        "colab_type": "text"
      },
      "source": [
        "the probability that it will be class =1, increases from 0.47 to 0.87"
      ]
    },
    {
      "cell_type": "markdown",
      "metadata": {
        "id": "4mdVmIFZXsbP",
        "colab_type": "text"
      },
      "source": [
        "__Bottom line: __\n",
        "    Positive coefficients increase the log-odds of the response \n",
        "    (and thus increase the probability), \n",
        "    and negative coefficients decrease the log-odds of the response \n",
        "    (and thus decrease the probability)."
      ]
    },
    {
      "cell_type": "code",
      "metadata": {
        "jupyter": {
          "outputs_hidden": true
        },
        "id": "zfwBXEg7XsbP",
        "colab_type": "code",
        "colab": {}
      },
      "source": [
        "# examine the intercept\n",
        "logreg.intercept_"
      ],
      "execution_count": null,
      "outputs": []
    },
    {
      "cell_type": "markdown",
      "metadata": {
        "id": "RHb2J13fXsbR",
        "colab_type": "text"
      },
      "source": [
        "Interpretation: For an 'al' value of 0, the log-odds of 'household' is -7.71."
      ]
    },
    {
      "cell_type": "code",
      "metadata": {
        "jupyter": {
          "outputs_hidden": true
        },
        "id": "TFI1Ybn0XsbS",
        "colab_type": "code",
        "colab": {}
      },
      "source": [
        "# convert log-odds to probability\n",
        "logodds = logreg.intercept_\n",
        "odds = np.exp(logodds)\n",
        "prob = odds/(1 + odds)\n",
        "prob"
      ],
      "execution_count": null,
      "outputs": []
    },
    {
      "cell_type": "markdown",
      "metadata": {
        "id": "oOD2TOVHXsbU",
        "colab_type": "text"
      },
      "source": [
        "That makes sense from the plot above, because the probability of household=1 should be very low for such a low 'al' value."
      ]
    },
    {
      "cell_type": "code",
      "metadata": {
        "jupyter": {
          "outputs_hidden": true
        },
        "id": "XeapGO_yXsbV",
        "colab_type": "code",
        "colab": {}
      },
      "source": [
        "# examine the coefficient for al\n",
        "for i in zip(feature_cols, logreg.coef_[0]):\n",
        "    print(i[0], i[1], (np.exp(i[1]) -1)*100)"
      ],
      "execution_count": null,
      "outputs": []
    }
  ]
}