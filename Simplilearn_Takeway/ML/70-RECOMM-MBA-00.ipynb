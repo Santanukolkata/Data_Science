{
 "cells": [
  {
   "cell_type": "markdown",
   "metadata": {},
   "source": [
    "# Market Basket Analysis\n",
    "\n",
    "#### What is it?\n",
    "\n",
    "Market Basket Analysis is one of the most common and useful types of data analysis for marketing and retailing.\n",
    "\n",
    "Market Basket Analysis is a modelling technique based upon the theory that if you buy a certain group of items, you are more (or less) likely to buy another group of items. \n",
    "\n",
    "For example, if you are in an Indian punjabi DHABA and you buy a pint of beer, you are more likely to buy potato chips or some salty snacks at the same time than somebody who didn't buy beer.\n",
    "\n",
    "The set of      a customer buys is referred to as an itemset and market basket analysis seeks to find __relationships between purchases.__\n",
    "\n",
    "Typically the relationship will be in the form of a __rule:__\n",
    "\n",
    "** IF {beer} THEN {potato chips}.**\n",
    "\n",
    "- The probability that a customer will buy beer (i.e. that the __antecedent__ is true) is referred to as the __support__ for the rule. \n",
    "\n",
    "- The conditional probability that a customer will purchase potato chips is referred to as the __confidence.__\n",
    "\n",
    "    - The algorithms for performing market basket analysis are fairly straightforward  \n",
    "    - The __complexities__ mainly arise in exploiting taxonomies, \n",
    "    - avoiding combinatorial explosions (a supermarket may stock 10,000 or more line items), \n",
    "    - and dealing with the large amounts of transaction data that may be available.\n",
    "\n",
    "A __major difficulty__ is that a large number of the rules found may be trivial for anyone familiar with the business. \n",
    "\n",
    "Although the volume of data has been reduced, we are still asking the user to find a needle in a haystack. \n",
    "\n",
    "Requiring rules to have a __high minimum support level and a high confidence level__ risks missing any exploitable result we might have found. \n",
    "\n",
    "#### How is it used?\n",
    "\n",
    "(1) market basket analysis can be used in deciding the location of goods inside a store. \n",
    "\n",
    "If purchasers of Barbie dolls have are more likely to buy candy, then high-margin candy can be placed near to the Barbie doll display. \n",
    "\n",
    "(2) Design promotion schemes for the products\n",
    "\n",
    "(3) Design cross-selling offers on products\n",
    "\n",
    "(4) Create customer clusters based on the type of products purchased.\n",
    "\n",
    "#### Applications of Market-Basket Analysis\n",
    "\n",
    "- Supermarkets\n",
    "\n",
    "    - Placement\n",
    "    - Advertising\n",
    "    - Sales\n",
    "    - Coupons\n",
    "    \n",
    "- Many applications outside market basket data analysis\n",
    "\n",
    "    – Prediction (telecom switch failure)\n",
    "    – Web usage mining"
   ]
  },
  {
   "cell_type": "code",
   "execution_count": null,
   "metadata": {
    "collapsed": true
   },
   "outputs": [],
   "source": []
  }
 ],
 "metadata": {
  "kernelspec": {
   "display_name": "Python 3",
   "language": "python",
   "name": "python3"
  },
  "language_info": {
   "codemirror_mode": {
    "name": "ipython",
    "version": 3
   },
   "file_extension": ".py",
   "mimetype": "text/x-python",
   "name": "python",
   "nbconvert_exporter": "python",
   "pygments_lexer": "ipython3",
   "version": "3.7.3"
  }
 },
 "nbformat": 4,
 "nbformat_minor": 2
}
