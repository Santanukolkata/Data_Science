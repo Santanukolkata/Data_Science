{
  "nbformat": 4,
  "nbformat_minor": 0,
  "metadata": {
    "colab": {
      "name": "Tensorflow.ipynb",
      "provenance": [],
      "collapsed_sections": [],
      "authorship_tag": "ABX9TyOcjuoGmUOX8ocITMind5TW",
      "include_colab_link": true
    },
    "kernelspec": {
      "name": "python3",
      "display_name": "Python 3"
    }
  },
  "cells": [
    {
      "cell_type": "markdown",
      "metadata": {
        "id": "view-in-github",
        "colab_type": "text"
      },
      "source": [
        "<a href=\"https://colab.research.google.com/github/Santanukolkata/Data_Science/blob/Development/Tensorflow.ipynb\" target=\"_parent\"><img src=\"https://colab.research.google.com/assets/colab-badge.svg\" alt=\"Open In Colab\"/></a>"
      ]
    },
    {
      "cell_type": "code",
      "metadata": {
        "id": "8aiXBBt_mlYL",
        "colab_type": "code",
        "colab": {}
      },
      "source": [
        "from  __future__ import absolute_import,division,print_function\n",
        "import  tensorflow as tf\n",
        "from tensorflow.keras import Model,layers\n",
        "import numpy as np"
      ],
      "execution_count": 0,
      "outputs": []
    },
    {
      "cell_type": "code",
      "metadata": {
        "id": "9zAjHofLmvv4",
        "colab_type": "code",
        "colab": {}
      },
      "source": [
        "num_classes =10\n",
        "num_features =784\n",
        "learning_rate =0.1\n",
        "training_steps =2000\n",
        "batch_size =256\n",
        "display_step=100\n",
        "n_hidden_1=128\n",
        "n_hidden_2=256"
      ],
      "execution_count": 0,
      "outputs": []
    },
    {
      "cell_type": "code",
      "metadata": {
        "id": "S0WEbr2enclu",
        "colab_type": "code",
        "colab": {
          "base_uri": "https://localhost:8080/",
          "height": 51
        },
        "outputId": "9ce13c22-2d5c-4354-8193-949d74b8b80b"
      },
      "source": [
        "from tensorflow.keras.datasets import mnist\n",
        "(x_train,y_train),(x_test,y_test) =mnist.load_data()"
      ],
      "execution_count": 8,
      "outputs": [
        {
          "output_type": "stream",
          "text": [
            "Downloading data from https://storage.googleapis.com/tensorflow/tf-keras-datasets/mnist.npz\n",
            "11493376/11490434 [==============================] - 0s 0us/step\n"
          ],
          "name": "stdout"
        }
      ]
    },
    {
      "cell_type": "code",
      "metadata": {
        "id": "CzbRTz3Kn151",
        "colab_type": "code",
        "colab": {}
      },
      "source": [
        "x_train,x_test =np.array(x_train,np.float32),np.array(x_test,np.float32)"
      ],
      "execution_count": 0,
      "outputs": []
    },
    {
      "cell_type": "code",
      "metadata": {
        "id": "m5v81J2doV__",
        "colab_type": "code",
        "colab": {}
      },
      "source": [
        "x_train,x_test =x_train.reshape([-1,num_features]),x_train.reshape([-1,num_features])"
      ],
      "execution_count": 0,
      "outputs": []
    },
    {
      "cell_type": "code",
      "metadata": {
        "id": "jNbotrTuosYZ",
        "colab_type": "code",
        "colab": {}
      },
      "source": [
        "x_train,x_test =x_train/255,x_test/255"
      ],
      "execution_count": 0,
      "outputs": []
    },
    {
      "cell_type": "code",
      "metadata": {
        "id": "I4__9dV9o16_",
        "colab_type": "code",
        "colab": {}
      },
      "source": [
        "train_data =tf.data.Dataset.from_tensor_slices((x_train,y_train))\n",
        "train_data =train_data.repeat().shuffle(5000).batch(batch_size).prefetch(1)"
      ],
      "execution_count": 0,
      "outputs": []
    },
    {
      "cell_type": "code",
      "metadata": {
        "id": "d2w4vMUqph1H",
        "colab_type": "code",
        "colab": {}
      },
      "source": [
        "class NeuralNet(Model):\n",
        "  def __init__(self):\n",
        "    "
      ],
      "execution_count": 0,
      "outputs": []
    }
  ]
}