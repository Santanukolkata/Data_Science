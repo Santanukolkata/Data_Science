{
  "nbformat": 4,
  "nbformat_minor": 0,
  "metadata": {
    "colab": {
      "name": "Performance_Metric_precision_recall_f1score.ipynb",
      "provenance": [],
      "collapsed_sections": [],
      "authorship_tag": "ABX9TyNpC5cbNhBASI/vzDgPVdgm",
      "include_colab_link": true
    },
    "kernelspec": {
      "name": "python3",
      "display_name": "Python 3"
    }
  },
  "cells": [
    {
      "cell_type": "markdown",
      "metadata": {
        "id": "view-in-github",
        "colab_type": "text"
      },
      "source": [
        "<a href=\"https://colab.research.google.com/github/Santanukolkata/Data_Science/blob/master/Classification_Metrics/Performance_Metric_precision_recall_f1score.ipynb\" target=\"_parent\"><img src=\"https://colab.research.google.com/assets/colab-badge.svg\" alt=\"Open In Colab\"/></a>"
      ]
    },
    {
      "cell_type": "code",
      "metadata": {
        "id": "CLleEqVb3fQk",
        "colab_type": "code",
        "colab": {
          "base_uri": "https://localhost:8080/",
          "height": 51
        },
        "outputId": "8d4a7352-4271-477b-8405-290950259a32"
      },
      "source": [
        "from sklearn.metrics import confusion_matrix\n",
        "y_true =[1,0,1,0,1,1,0,1]\n",
        "y_pred =[1,0,1,0,1,0,1,1]\n",
        "cfm = confusion_matrix( y_true,y_pred)\n",
        "cfm"
      ],
      "execution_count": 13,
      "outputs": [
        {
          "output_type": "execute_result",
          "data": {
            "text/plain": [
              "array([[2, 1],\n",
              "       [1, 4]])"
            ]
          },
          "metadata": {
            "tags": []
          },
          "execution_count": 13
        }
      ]
    },
    {
      "cell_type": "code",
      "metadata": {
        "id": "NqLf0Asn6kVe",
        "colab_type": "code",
        "colab": {
          "base_uri": "https://localhost:8080/",
          "height": 85
        },
        "outputId": "27af1ea3-31d5-4aa1-ff1a-7da5ce5a3909"
      },
      "source": [
        "tn,fn,fp,tp =cfm.ravel()\n",
        "print(\"True Negative :\",tn)\n",
        "print(\"False Negative :\",fn)\n",
        "print(\"False Positive :\",fp)\n",
        "print(\"True Positive :\",tp)"
      ],
      "execution_count": 14,
      "outputs": [
        {
          "output_type": "stream",
          "text": [
            "True Negative : 2\n",
            "False Negative : 1\n",
            "False Positive : 1\n",
            "True Positive : 4\n"
          ],
          "name": "stdout"
        }
      ]
    },
    {
      "cell_type": "markdown",
      "metadata": {
        "id": "4af0E9rx4IFJ",
        "colab_type": "text"
      },
      "source": [
        "Classification Rate/Accuracy:<br>\n",
        "**Accuracy** = (TP+TN)/(TP+TN+FP+FN) <br>\n",
        "**Recall** = (TP)/(TP+FN) <br>\n",
        "**Precision** = (TP)/(TP+FP)<br>\n",
        "**F1 Score**= 2* (Recall**Precision)/(Recall + Precision)"
      ]
    },
    {
      "cell_type": "code",
      "metadata": {
        "id": "pzcw-glM4p6v",
        "colab_type": "code",
        "colab": {
          "base_uri": "https://localhost:8080/",
          "height": 51
        },
        "outputId": "f485658b-078d-4c31-ba50-72a608891490"
      },
      "source": [
        "from sklearn.metrics import accuracy_score \n",
        "from sklearn.metrics import classification_report \n",
        "Accuracy =(tp+tn)/(tp+tn+fn+fp)\n",
        "print(\"Manual:\",Accuracy)\n",
        "print(\"SKLearn Library\",accuracy_score(y_true,y_pred))"
      ],
      "execution_count": 15,
      "outputs": [
        {
          "output_type": "stream",
          "text": [
            "Manual: 0.75\n",
            "SKLearn Library 0.75\n"
          ],
          "name": "stdout"
        }
      ]
    },
    {
      "cell_type": "code",
      "metadata": {
        "id": "__Sh1F6W5b4Z",
        "colab_type": "code",
        "colab": {
          "base_uri": "https://localhost:8080/",
          "height": 68
        },
        "outputId": "2a86beb5-e958-4145-e434-bd05c56b1076"
      },
      "source": [
        "Recall =tp/(tp+fn)\n",
        "print(\"Manual Recall:\",Recall)\n",
        "precision =tp/(tp+fp)\n",
        "print(\"Manual precision:\",precision)\n",
        "f1_score=2*(Recall*precision)/(Recall+precision)\n",
        "print(\"Manual f1_score:\",f1_score)"
      ],
      "execution_count": 16,
      "outputs": [
        {
          "output_type": "stream",
          "text": [
            "Manual Recall: 0.8\n",
            "Manual precision: 0.8\n",
            "Manual f1_score: 0.8000000000000002\n"
          ],
          "name": "stdout"
        }
      ]
    },
    {
      "cell_type": "code",
      "metadata": {
        "id": "78f4Ninu_lbE",
        "colab_type": "code",
        "colab": {
          "base_uri": "https://localhost:8080/",
          "height": 170
        },
        "outputId": "6f84c520-bafd-4f8a-e0ea-a3bb8452facc"
      },
      "source": [
        "print(classification_report(y_true,y_pred))"
      ],
      "execution_count": 17,
      "outputs": [
        {
          "output_type": "stream",
          "text": [
            "              precision    recall  f1-score   support\n",
            "\n",
            "           0       0.67      0.67      0.67         3\n",
            "           1       0.80      0.80      0.80         5\n",
            "\n",
            "    accuracy                           0.75         8\n",
            "   macro avg       0.73      0.73      0.73         8\n",
            "weighted avg       0.75      0.75      0.75         8\n",
            "\n"
          ],
          "name": "stdout"
        }
      ]
    },
    {
      "cell_type": "code",
      "metadata": {
        "id": "bPNDUt7aAWLR",
        "colab_type": "code",
        "colab": {}
      },
      "source": [
        ""
      ],
      "execution_count": 0,
      "outputs": []
    }
  ]
}