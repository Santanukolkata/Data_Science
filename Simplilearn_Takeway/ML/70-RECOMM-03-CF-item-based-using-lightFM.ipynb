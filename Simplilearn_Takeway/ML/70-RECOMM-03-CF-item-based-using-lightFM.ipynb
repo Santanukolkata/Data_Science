{
 "cells": [
  {
   "cell_type": "markdown",
   "metadata": {},
   "source": [
    "# Movie Recommender System\n",
    "First, we need to install some packages.\n",
    "\n",
    "#### LightFm\n",
    "- LightFM is a Python implementation of a number of popular recommendation algorithms. \n",
    "\n",
    "- LightFM includes implementations of BPR and WARP ranking losses(A loss function is a measure of how good a prediction model does in terms of being able to predict the expected outcome.).\n",
    "\n",
    "** BPR: **\n",
    "Bayesian Personalised Ranking pairwise loss: It maximizes the prediction difference between a positive example and a randomly chosen negative example. It is useful when only positive interactions are present.\n",
    "\n",
    "** WARP: **\n",
    "Weighted Approximate-Rank Pairwise loss: Maximises the rank of positive examples by repeatedly sampling negative examples until rank violating one is found\n",
    "\n",
    "LightFm also contains a large set of datasets related to the movie rating. We will be working on this dataset. So we will install this library also.\n",
    "\n",
    "pip install lightfm"
   ]
  },
  {
   "cell_type": "code",
   "execution_count": 1,
   "metadata": {},
   "outputs": [
    {
     "name": "stderr",
     "output_type": "stream",
     "text": [
      "C:\\Anaconda3\\lib\\site-packages\\lightfm\\_lightfm_fast.py:9: UserWarning: LightFM was compiled without OpenMP support. Only a single thread will be used.\n",
      "  warnings.warn('LightFM was compiled without OpenMP support. '\n"
     ]
    }
   ],
   "source": [
    "import time\n",
    "#from tqdm import *\n",
    "import random\n",
    "from math import *\n",
    "import operator\n",
    "import pandas as pd\n",
    "from pandas.plotting import scatter_matrix\n",
    "import numpy as np\n",
    "\n",
    "# following lib for matplot - core python plotting lib\n",
    "import matplotlib\n",
    "import matplotlib.pyplot as plt\n",
    "%matplotlib inline \n",
    "\n",
    "# seaborn plotting lib\n",
    "import seaborn as sns\n",
    "sns.set(style=\"white\", color_codes=True)\n",
    "sns.set(font_scale=1.5)\n",
    "\n",
    "from lightfm.datasets import fetch_movielens\n",
    "from lightfm import LightFM\n"
   ]
  },
  {
   "cell_type": "markdown",
   "metadata": {},
   "source": [
    "- fetch the data form movie lens dataset, which is a huge data set with around 100K movie ratings from 1K users. \n",
    "\n",
    "- As an optional parameter, we will take min_rating. That means we are collecting movies with rating 4.0 or higher. \n",
    "\n",
    "- And then the method will create an interaction matrix on our csv file and store in our data variable as a dictionary. \n",
    "\n",
    "- Dictionary is a way to store data, just like lists. But however, in dictionaries you can store anything. We will store it as strings. \n",
    "\n",
    "- Our fetch_movielens method will split our data in traing and testing ans we can retrive them by keywords ‘training’ and ‘testing’."
   ]
  },
  {
   "cell_type": "code",
   "execution_count": 2,
   "metadata": {
    "collapsed": true
   },
   "outputs": [],
   "source": [
    "data = fetch_movielens(min_rating=4.0)"
   ]
  },
  {
   "cell_type": "code",
   "execution_count": 3,
   "metadata": {},
   "outputs": [
    {
     "name": "stdout",
     "output_type": "stream",
     "text": [
      "<943x1682 sparse matrix of type '<class 'numpy.int32'>'\n",
      "\twith 49906 stored elements in COOrdinate format>\n",
      "<943x1682 sparse matrix of type '<class 'numpy.int32'>'\n",
      "\twith 5469 stored elements in COOrdinate format>\n"
     ]
    }
   ],
   "source": [
    "print(repr(data['train']))\n",
    "\n",
    "print(repr(data['test']))"
   ]
  },
  {
   "cell_type": "code",
   "execution_count": 4,
   "metadata": {},
   "outputs": [
    {
     "data": {
      "text/plain": [
       "<lightfm.lightfm.LightFM at 0x1ae0447c128>"
      ]
     },
     "execution_count": 4,
     "metadata": {},
     "output_type": "execute_result"
    }
   ],
   "source": [
    "#Generate model\n",
    "model = LightFM(loss='warp')\n",
    "\n",
    " #Train model\n",
    "model.fit(data['train'], epochs=30, num_threads=2)"
   ]
  },
  {
   "cell_type": "markdown",
   "metadata": {
    "collapsed": true
   },
   "source": [
    "This function is our recommendation function which ranks each movies based on rating and at last with help of numpy sort them in descending order to see which movie is the highest recommendation for the user."
   ]
  },
  {
   "cell_type": "code",
   "execution_count": 5,
   "metadata": {
    "collapsed": true
   },
   "outputs": [],
   "source": [
    "def sample_reco(model, data, user_ids):\n",
    "\n",
    "    #no of users and movies in training data\n",
    "    n_users, n_items = data['train'].shape\n",
    "\n",
    "    for user_id in user_ids:\n",
    "\n",
    "        #movies they already like\n",
    "        known_positive = data['item_labels'][data['train'].tocsr()[user_id].indices]\n",
    "\n",
    "        #movies our model predicted\n",
    "        scores = model.predict(user_id, np.arange(n_items))\n",
    "\n",
    "        #rank movies\n",
    "        top_items = data['item_labels'][np.argsort(-scores)]\n",
    "\n",
    "        #results\n",
    "        print('\\n')\n",
    "        print(\"User %s\" % user_id)\n",
    "        print(\"known positives:\")\n",
    "\n",
    "        for x in known_positive[:3]:\n",
    "            print('\\n %s' % x)\n",
    "\n",
    "        print(\"Recomended:\")\n",
    "\n",
    "        for x in top_items[:3]:\n",
    "            print('\\n %s' % x)"
   ]
  },
  {
   "cell_type": "code",
   "execution_count": 6,
   "metadata": {},
   "outputs": [
    {
     "name": "stdout",
     "output_type": "stream",
     "text": [
      "\n",
      "\n",
      "User 1\n",
      "known positives:\n",
      "\n",
      " Toy Story (1995)\n",
      "\n",
      " Postino, Il (1994)\n",
      "\n",
      " Birdcage, The (1996)\n",
      "Recomended:\n",
      "\n",
      " English Patient, The (1996)\n",
      "\n",
      " Sense and Sensibility (1995)\n",
      "\n",
      " Titanic (1997)\n",
      "\n",
      "\n",
      "User 2\n",
      "known positives:\n",
      "\n",
      " Return of the Jedi (1983)\n",
      "\n",
      " Event Horizon (1997)\n",
      "\n",
      " Schindler's List (1993)\n",
      "Recomended:\n",
      "\n",
      " L.A. Confidential (1997)\n",
      "\n",
      " Jackie Brown (1997)\n",
      "\n",
      " Contact (1997)\n",
      "\n",
      "\n",
      "User 3\n",
      "known positives:\n",
      "\n",
      " Seven (Se7en) (1995)\n",
      "\n",
      " Contact (1997)\n",
      "\n",
      " Starship Troopers (1997)\n",
      "Recomended:\n",
      "\n",
      " Scream (1996)\n",
      "\n",
      " Game, The (1997)\n",
      "\n",
      " Jackie Brown (1997)\n"
     ]
    }
   ],
   "source": [
    "# invoking the function in our program, by providing three random user_ids.\n",
    "sample_reco(model, data, [1,2,3])"
   ]
  },
  {
   "cell_type": "code",
   "execution_count": null,
   "metadata": {
    "collapsed": true
   },
   "outputs": [],
   "source": []
  }
 ],
 "metadata": {
  "kernelspec": {
   "display_name": "Python 3",
   "language": "python",
   "name": "python3"
  },
  "language_info": {
   "codemirror_mode": {
    "name": "ipython",
    "version": 3
   },
   "file_extension": ".py",
   "mimetype": "text/x-python",
   "name": "python",
   "nbconvert_exporter": "python",
   "pygments_lexer": "ipython3",
   "version": "3.7.3"
  }
 },
 "nbformat": 4,
 "nbformat_minor": 2
}
