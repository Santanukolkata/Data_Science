{
 "cells": [
  {
   "cell_type": "markdown",
   "metadata": {},
   "source": [
    "# PANDA Implementation"
   ]
  },
  {
   "cell_type": "code",
   "execution_count": 75,
   "metadata": {},
   "outputs": [],
   "source": [
    "#Importing necessary package\n",
    "import pandas as pd"
   ]
  },
  {
   "cell_type": "code",
   "execution_count": 76,
   "metadata": {},
   "outputs": [],
   "source": [
    "#Importing Dataset\n",
    "df=pd.read_excel('Online_purchase.xlsx')"
   ]
  },
  {
   "cell_type": "code",
   "execution_count": 77,
   "metadata": {},
   "outputs": [
    {
     "data": {
      "text/html": [
       "<div>\n",
       "<style scoped>\n",
       "    .dataframe tbody tr th:only-of-type {\n",
       "        vertical-align: middle;\n",
       "    }\n",
       "\n",
       "    .dataframe tbody tr th {\n",
       "        vertical-align: top;\n",
       "    }\n",
       "\n",
       "    .dataframe thead th {\n",
       "        text-align: right;\n",
       "    }\n",
       "</style>\n",
       "<table border=\"1\" class=\"dataframe\">\n",
       "  <thead>\n",
       "    <tr style=\"text-align: right;\">\n",
       "      <th></th>\n",
       "      <th>SL#</th>\n",
       "      <th>Product</th>\n",
       "      <th>Item\\n Price</th>\n",
       "      <th>Delivery \\ncharges</th>\n",
       "      <th>Total</th>\n",
       "      <th>Purchase Date</th>\n",
       "    </tr>\n",
       "  </thead>\n",
       "  <tbody>\n",
       "    <tr>\n",
       "      <td>0</td>\n",
       "      <td>1</td>\n",
       "      <td>Seagate Expansion 1TB Portable External Hard D...</td>\n",
       "      <td>3999</td>\n",
       "      <td>49.0</td>\n",
       "      <td>4048</td>\n",
       "      <td>2013-12-25</td>\n",
       "    </tr>\n",
       "    <tr>\n",
       "      <td>1</td>\n",
       "      <td>2</td>\n",
       "      <td>Freedom at Midnight</td>\n",
       "      <td>396</td>\n",
       "      <td>30.0</td>\n",
       "      <td>426</td>\n",
       "      <td>2014-03-01</td>\n",
       "    </tr>\n",
       "    <tr>\n",
       "      <td>2</td>\n",
       "      <td>3</td>\n",
       "      <td>DELL INSPIRON 15R N5010 6 CELL ORIGINAL BATTERY</td>\n",
       "      <td>1860</td>\n",
       "      <td>0.0</td>\n",
       "      <td>1860</td>\n",
       "      <td>2014-03-01</td>\n",
       "    </tr>\n",
       "    <tr>\n",
       "      <td>3</td>\n",
       "      <td>4</td>\n",
       "      <td>Portronics My Buddy</td>\n",
       "      <td>1699</td>\n",
       "      <td>200.0</td>\n",
       "      <td>1899</td>\n",
       "      <td>2014-03-01</td>\n",
       "    </tr>\n",
       "    <tr>\n",
       "      <td>4</td>\n",
       "      <td>5</td>\n",
       "      <td>Pindia Beautiful Home shaped wooden wall key h...</td>\n",
       "      <td>326</td>\n",
       "      <td>0.0</td>\n",
       "      <td>326</td>\n",
       "      <td>2014-09-18</td>\n",
       "    </tr>\n",
       "  </tbody>\n",
       "</table>\n",
       "</div>"
      ],
      "text/plain": [
       "   SL#                                            Product  Item\\n Price   \\\n",
       "0    1  Seagate Expansion 1TB Portable External Hard D...           3999   \n",
       "1    2                               Freedom at Midnight             396   \n",
       "2    3   DELL INSPIRON 15R N5010 6 CELL ORIGINAL BATTERY            1860   \n",
       "3    4                               Portronics My Buddy            1699   \n",
       "4    5  Pindia Beautiful Home shaped wooden wall key h...            326   \n",
       "\n",
       "   Delivery \\ncharges  Total Purchase Date  \n",
       "0                49.0   4048    2013-12-25  \n",
       "1                30.0    426    2014-03-01  \n",
       "2                 0.0   1860    2014-03-01  \n",
       "3               200.0   1899    2014-03-01  \n",
       "4                 0.0    326    2014-09-18  "
      ]
     },
     "execution_count": 77,
     "metadata": {},
     "output_type": "execute_result"
    }
   ],
   "source": [
    "#getting the glimpse of data\n",
    "df.head()"
   ]
  },
  {
   "cell_type": "code",
   "execution_count": 78,
   "metadata": {},
   "outputs": [
    {
     "data": {
      "text/plain": [
       "Index(['SL#', 'Product', 'Item\\n Price ', 'Delivery \\ncharges', 'Total',\n",
       "       'Purchase Date'],\n",
       "      dtype='object')"
      ]
     },
     "execution_count": 78,
     "metadata": {},
     "output_type": "execute_result"
    }
   ],
   "source": [
    "#Checking the columns\n",
    "df.columns"
   ]
  },
  {
   "cell_type": "code",
   "execution_count": 79,
   "metadata": {},
   "outputs": [
    {
     "data": {
      "text/plain": [
       "(170, 6)"
      ]
     },
     "execution_count": 79,
     "metadata": {},
     "output_type": "execute_result"
    }
   ],
   "source": [
    "#Getting the size of dataframe\n",
    "df.shape"
   ]
  },
  {
   "cell_type": "code",
   "execution_count": 80,
   "metadata": {},
   "outputs": [
    {
     "data": {
      "text/plain": [
       "SL#                            int64\n",
       "Product                       object\n",
       "Item\\n Price                   int64\n",
       "Delivery \\ncharges           float64\n",
       "Total                          int64\n",
       "Purchase Date         datetime64[ns]\n",
       "dtype: object"
      ]
     },
     "execution_count": 80,
     "metadata": {},
     "output_type": "execute_result"
    }
   ],
   "source": [
    "#Getting the individual datatypes\n",
    "df.dtypes"
   ]
  },
  {
   "cell_type": "code",
   "execution_count": 81,
   "metadata": {},
   "outputs": [
    {
     "data": {
      "text/html": [
       "<div>\n",
       "<style scoped>\n",
       "    .dataframe tbody tr th:only-of-type {\n",
       "        vertical-align: middle;\n",
       "    }\n",
       "\n",
       "    .dataframe tbody tr th {\n",
       "        vertical-align: top;\n",
       "    }\n",
       "\n",
       "    .dataframe thead th {\n",
       "        text-align: right;\n",
       "    }\n",
       "</style>\n",
       "<table border=\"1\" class=\"dataframe\">\n",
       "  <thead>\n",
       "    <tr style=\"text-align: right;\">\n",
       "      <th></th>\n",
       "      <th>SL#</th>\n",
       "      <th>Product</th>\n",
       "      <th>Item\\n Price</th>\n",
       "      <th>Delivery \\ncharges</th>\n",
       "      <th>Total</th>\n",
       "      <th>Purchase Date</th>\n",
       "      <th>Purchased_date_str</th>\n",
       "    </tr>\n",
       "  </thead>\n",
       "  <tbody>\n",
       "    <tr>\n",
       "      <td>0</td>\n",
       "      <td>1</td>\n",
       "      <td>Seagate Expansion 1TB Portable External Hard D...</td>\n",
       "      <td>3999</td>\n",
       "      <td>49.0</td>\n",
       "      <td>4048</td>\n",
       "      <td>2013-12-25</td>\n",
       "      <td>2013-12-25</td>\n",
       "    </tr>\n",
       "    <tr>\n",
       "      <td>1</td>\n",
       "      <td>2</td>\n",
       "      <td>Freedom at Midnight</td>\n",
       "      <td>396</td>\n",
       "      <td>30.0</td>\n",
       "      <td>426</td>\n",
       "      <td>2014-03-01</td>\n",
       "      <td>2014-03-01</td>\n",
       "    </tr>\n",
       "    <tr>\n",
       "      <td>2</td>\n",
       "      <td>3</td>\n",
       "      <td>DELL INSPIRON 15R N5010 6 CELL ORIGINAL BATTERY</td>\n",
       "      <td>1860</td>\n",
       "      <td>0.0</td>\n",
       "      <td>1860</td>\n",
       "      <td>2014-03-01</td>\n",
       "      <td>2014-03-01</td>\n",
       "    </tr>\n",
       "    <tr>\n",
       "      <td>3</td>\n",
       "      <td>4</td>\n",
       "      <td>Portronics My Buddy</td>\n",
       "      <td>1699</td>\n",
       "      <td>200.0</td>\n",
       "      <td>1899</td>\n",
       "      <td>2014-03-01</td>\n",
       "      <td>2014-03-01</td>\n",
       "    </tr>\n",
       "    <tr>\n",
       "      <td>4</td>\n",
       "      <td>5</td>\n",
       "      <td>Pindia Beautiful Home shaped wooden wall key h...</td>\n",
       "      <td>326</td>\n",
       "      <td>0.0</td>\n",
       "      <td>326</td>\n",
       "      <td>2014-09-18</td>\n",
       "      <td>2014-09-18</td>\n",
       "    </tr>\n",
       "  </tbody>\n",
       "</table>\n",
       "</div>"
      ],
      "text/plain": [
       "   SL#                                            Product  Item\\n Price   \\\n",
       "0    1  Seagate Expansion 1TB Portable External Hard D...           3999   \n",
       "1    2                               Freedom at Midnight             396   \n",
       "2    3   DELL INSPIRON 15R N5010 6 CELL ORIGINAL BATTERY            1860   \n",
       "3    4                               Portronics My Buddy            1699   \n",
       "4    5  Pindia Beautiful Home shaped wooden wall key h...            326   \n",
       "\n",
       "   Delivery \\ncharges  Total Purchase Date Purchased_date_str  \n",
       "0                49.0   4048    2013-12-25         2013-12-25  \n",
       "1                30.0    426    2014-03-01         2014-03-01  \n",
       "2                 0.0   1860    2014-03-01         2014-03-01  \n",
       "3               200.0   1899    2014-03-01         2014-03-01  \n",
       "4                 0.0    326    2014-09-18         2014-09-18  "
      ]
     },
     "execution_count": 81,
     "metadata": {},
     "output_type": "execute_result"
    }
   ],
   "source": [
    "# Adding columns based on existing columns\n",
    "df['Purchased_date_str']=df['Purchase Date']\n",
    "df.head()"
   ]
  },
  {
   "cell_type": "code",
   "execution_count": 82,
   "metadata": {},
   "outputs": [
    {
     "data": {
      "text/plain": [
       "SL#                            int64\n",
       "Product                       object\n",
       "Item\\n Price                   int64\n",
       "Delivery \\ncharges           float64\n",
       "Total                          int64\n",
       "Purchase Date         datetime64[ns]\n",
       "Purchased_date_str            object\n",
       "dtype: object"
      ]
     },
     "execution_count": 82,
     "metadata": {},
     "output_type": "execute_result"
    }
   ],
   "source": [
    "# changing the column types\n",
    "df['Purchased_date_str']=df['Purchase Date'].astype(str)\n",
    "df.dtypes"
   ]
  },
  {
   "cell_type": "code",
   "execution_count": 83,
   "metadata": {},
   "outputs": [
    {
     "data": {
      "text/html": [
       "<div>\n",
       "<style scoped>\n",
       "    .dataframe tbody tr th:only-of-type {\n",
       "        vertical-align: middle;\n",
       "    }\n",
       "\n",
       "    .dataframe tbody tr th {\n",
       "        vertical-align: top;\n",
       "    }\n",
       "\n",
       "    .dataframe thead th {\n",
       "        text-align: right;\n",
       "    }\n",
       "</style>\n",
       "<table border=\"1\" class=\"dataframe\">\n",
       "  <thead>\n",
       "    <tr style=\"text-align: right;\">\n",
       "      <th></th>\n",
       "      <th>SL#</th>\n",
       "      <th>Product</th>\n",
       "      <th>Item\\n Price</th>\n",
       "      <th>Delivery \\ncharges</th>\n",
       "      <th>Total</th>\n",
       "      <th>Purchase Date</th>\n",
       "      <th>Purchased_date_str</th>\n",
       "    </tr>\n",
       "  </thead>\n",
       "  <tbody>\n",
       "    <tr>\n",
       "      <td>0</td>\n",
       "      <td>1</td>\n",
       "      <td>Seagate Expansion 1TB Portable External Hard D...</td>\n",
       "      <td>3999</td>\n",
       "      <td>49.0</td>\n",
       "      <td>4048</td>\n",
       "      <td>2013-12-25</td>\n",
       "      <td>2013-12</td>\n",
       "    </tr>\n",
       "    <tr>\n",
       "      <td>1</td>\n",
       "      <td>2</td>\n",
       "      <td>Freedom at Midnight</td>\n",
       "      <td>396</td>\n",
       "      <td>30.0</td>\n",
       "      <td>426</td>\n",
       "      <td>2014-03-01</td>\n",
       "      <td>2014-03</td>\n",
       "    </tr>\n",
       "    <tr>\n",
       "      <td>2</td>\n",
       "      <td>3</td>\n",
       "      <td>DELL INSPIRON 15R N5010 6 CELL ORIGINAL BATTERY</td>\n",
       "      <td>1860</td>\n",
       "      <td>0.0</td>\n",
       "      <td>1860</td>\n",
       "      <td>2014-03-01</td>\n",
       "      <td>2014-03</td>\n",
       "    </tr>\n",
       "    <tr>\n",
       "      <td>3</td>\n",
       "      <td>4</td>\n",
       "      <td>Portronics My Buddy</td>\n",
       "      <td>1699</td>\n",
       "      <td>200.0</td>\n",
       "      <td>1899</td>\n",
       "      <td>2014-03-01</td>\n",
       "      <td>2014-03</td>\n",
       "    </tr>\n",
       "    <tr>\n",
       "      <td>4</td>\n",
       "      <td>5</td>\n",
       "      <td>Pindia Beautiful Home shaped wooden wall key h...</td>\n",
       "      <td>326</td>\n",
       "      <td>0.0</td>\n",
       "      <td>326</td>\n",
       "      <td>2014-09-18</td>\n",
       "      <td>2014-09</td>\n",
       "    </tr>\n",
       "  </tbody>\n",
       "</table>\n",
       "</div>"
      ],
      "text/plain": [
       "   SL#                                            Product  Item\\n Price   \\\n",
       "0    1  Seagate Expansion 1TB Portable External Hard D...           3999   \n",
       "1    2                               Freedom at Midnight             396   \n",
       "2    3   DELL INSPIRON 15R N5010 6 CELL ORIGINAL BATTERY            1860   \n",
       "3    4                               Portronics My Buddy            1699   \n",
       "4    5  Pindia Beautiful Home shaped wooden wall key h...            326   \n",
       "\n",
       "   Delivery \\ncharges  Total Purchase Date Purchased_date_str  \n",
       "0                49.0   4048    2013-12-25            2013-12  \n",
       "1                30.0    426    2014-03-01            2014-03  \n",
       "2                 0.0   1860    2014-03-01            2014-03  \n",
       "3               200.0   1899    2014-03-01            2014-03  \n",
       "4                 0.0    326    2014-09-18            2014-09  "
      ]
     },
     "execution_count": 83,
     "metadata": {},
     "output_type": "execute_result"
    }
   ],
   "source": [
    "#changing the column value of newly added columns\n",
    "df['Purchased_date_str']=df['Purchased_date_str'].apply(lambda x: x[:7])\n",
    "df.head()"
   ]
  },
  {
   "cell_type": "code",
   "execution_count": 84,
   "metadata": {},
   "outputs": [
    {
     "data": {
      "text/plain": [
       "pandas.core.series.Series"
      ]
     },
     "execution_count": 84,
     "metadata": {},
     "output_type": "execute_result"
    }
   ],
   "source": [
    "#checking the individual data type of columns\n",
    "type(df[\"Purchased_date_str\"])"
   ]
  },
  {
   "cell_type": "code",
   "execution_count": 85,
   "metadata": {},
   "outputs": [
    {
     "data": {
      "text/plain": [
       "Sequence                        int64\n",
       "Product Name                   object\n",
       "Actual Price                    int64\n",
       "Delivery Charge               float64\n",
       "Total Price                     int64\n",
       "Purchase Date          datetime64[ns]\n",
       "Purchase Date Short            object\n",
       "dtype: object"
      ]
     },
     "execution_count": 85,
     "metadata": {},
     "output_type": "execute_result"
    }
   ],
   "source": [
    "#Renaming the columns\n",
    "df.columns=['Sequence','Product Name','Actual Price','Delivery Charge','Total Price','Purchase Date','Purchase Date Short']\n",
    "df.dtypes"
   ]
  },
  {
   "cell_type": "code",
   "execution_count": 86,
   "metadata": {},
   "outputs": [
    {
     "data": {
      "text/plain": [
       "count      170.000000\n",
       "mean      1018.358824\n",
       "std       1921.135252\n",
       "min         95.000000\n",
       "25%        291.000000\n",
       "50%        432.500000\n",
       "75%        794.750000\n",
       "max      15999.000000\n",
       "Name: Total Price, dtype: float64"
      ]
     },
     "execution_count": 86,
     "metadata": {},
     "output_type": "execute_result"
    }
   ],
   "source": [
    "df['Total Price'].describe()"
   ]
  },
  {
   "cell_type": "code",
   "execution_count": 87,
   "metadata": {},
   "outputs": [
    {
     "data": {
      "text/plain": [
       "array([2013, 2014, 2015, 2016, 2017, 2018, 2019], dtype=int64)"
      ]
     },
     "execution_count": 87,
     "metadata": {},
     "output_type": "execute_result"
    }
   ],
   "source": [
    "df['Year'] = pd.DatetimeIndex(df['Purchase Date']).year\n",
    "df['Year'].unique()"
   ]
  },
  {
   "cell_type": "code",
   "execution_count": 88,
   "metadata": {},
   "outputs": [
    {
     "data": {
      "text/html": [
       "<div>\n",
       "<style scoped>\n",
       "    .dataframe tbody tr th:only-of-type {\n",
       "        vertical-align: middle;\n",
       "    }\n",
       "\n",
       "    .dataframe tbody tr th {\n",
       "        vertical-align: top;\n",
       "    }\n",
       "\n",
       "    .dataframe thead th {\n",
       "        text-align: right;\n",
       "    }\n",
       "</style>\n",
       "<table border=\"1\" class=\"dataframe\">\n",
       "  <thead>\n",
       "    <tr style=\"text-align: right;\">\n",
       "      <th></th>\n",
       "      <th>Sequence</th>\n",
       "      <th>Product Name</th>\n",
       "      <th>Actual Price</th>\n",
       "      <th>Delivery Charge</th>\n",
       "      <th>Total Price</th>\n",
       "      <th>Purchase Date</th>\n",
       "      <th>Purchase Date Short</th>\n",
       "      <th>Year</th>\n",
       "    </tr>\n",
       "  </thead>\n",
       "  <tbody>\n",
       "    <tr>\n",
       "      <td>0</td>\n",
       "      <td>170</td>\n",
       "      <td>Nayasa Superplast Plastic Oil Dispenser 1 Litr...</td>\n",
       "      <td>129</td>\n",
       "      <td>0.0</td>\n",
       "      <td>129</td>\n",
       "      <td>2019-10-18</td>\n",
       "      <td>2019-10</td>\n",
       "      <td>2019</td>\n",
       "    </tr>\n",
       "    <tr>\n",
       "      <td>1</td>\n",
       "      <td>169</td>\n",
       "      <td>Newlike Nokia 6.1 Plus 2018 Shock Proof Duel L...</td>\n",
       "      <td>299</td>\n",
       "      <td>0.0</td>\n",
       "      <td>299</td>\n",
       "      <td>2019-10-18</td>\n",
       "      <td>2019-10</td>\n",
       "      <td>2019</td>\n",
       "    </tr>\n",
       "    <tr>\n",
       "      <td>2</td>\n",
       "      <td>168</td>\n",
       "      <td>Glasgow Edge to Edge Tempered Glass Screen Pro...</td>\n",
       "      <td>149</td>\n",
       "      <td>0.0</td>\n",
       "      <td>149</td>\n",
       "      <td>2019-10-18</td>\n",
       "      <td>2019-10</td>\n",
       "      <td>2019</td>\n",
       "    </tr>\n",
       "    <tr>\n",
       "      <td>3</td>\n",
       "      <td>167</td>\n",
       "      <td>Nokia 6.1 Plus (Blue, 6GB RAM, 64GB Storage)</td>\n",
       "      <td>9999</td>\n",
       "      <td>0.0</td>\n",
       "      <td>9999</td>\n",
       "      <td>2019-10-14</td>\n",
       "      <td>2019-10</td>\n",
       "      <td>2019</td>\n",
       "    </tr>\n",
       "    <tr>\n",
       "      <td>4</td>\n",
       "      <td>166</td>\n",
       "      <td>Surf Excel Matic Top Load Detergent Powder, 2 kg</td>\n",
       "      <td>329</td>\n",
       "      <td>0.0</td>\n",
       "      <td>329</td>\n",
       "      <td>2019-08-23</td>\n",
       "      <td>2019-08</td>\n",
       "      <td>2019</td>\n",
       "    </tr>\n",
       "    <tr>\n",
       "      <td>...</td>\n",
       "      <td>...</td>\n",
       "      <td>...</td>\n",
       "      <td>...</td>\n",
       "      <td>...</td>\n",
       "      <td>...</td>\n",
       "      <td>...</td>\n",
       "      <td>...</td>\n",
       "      <td>...</td>\n",
       "    </tr>\n",
       "    <tr>\n",
       "      <td>165</td>\n",
       "      <td>5</td>\n",
       "      <td>Pindia Beautiful Home shaped wooden wall key h...</td>\n",
       "      <td>326</td>\n",
       "      <td>0.0</td>\n",
       "      <td>326</td>\n",
       "      <td>2014-09-18</td>\n",
       "      <td>2014-09</td>\n",
       "      <td>2014</td>\n",
       "    </tr>\n",
       "    <tr>\n",
       "      <td>166</td>\n",
       "      <td>4</td>\n",
       "      <td>Portronics My Buddy</td>\n",
       "      <td>1699</td>\n",
       "      <td>200.0</td>\n",
       "      <td>1899</td>\n",
       "      <td>2014-03-01</td>\n",
       "      <td>2014-03</td>\n",
       "      <td>2014</td>\n",
       "    </tr>\n",
       "    <tr>\n",
       "      <td>167</td>\n",
       "      <td>3</td>\n",
       "      <td>DELL INSPIRON 15R N5010 6 CELL ORIGINAL BATTERY</td>\n",
       "      <td>1860</td>\n",
       "      <td>0.0</td>\n",
       "      <td>1860</td>\n",
       "      <td>2014-03-01</td>\n",
       "      <td>2014-03</td>\n",
       "      <td>2014</td>\n",
       "    </tr>\n",
       "    <tr>\n",
       "      <td>168</td>\n",
       "      <td>2</td>\n",
       "      <td>Freedom at Midnight</td>\n",
       "      <td>396</td>\n",
       "      <td>30.0</td>\n",
       "      <td>426</td>\n",
       "      <td>2014-03-01</td>\n",
       "      <td>2014-03</td>\n",
       "      <td>2014</td>\n",
       "    </tr>\n",
       "    <tr>\n",
       "      <td>169</td>\n",
       "      <td>1</td>\n",
       "      <td>Seagate Expansion 1TB Portable External Hard D...</td>\n",
       "      <td>3999</td>\n",
       "      <td>49.0</td>\n",
       "      <td>4048</td>\n",
       "      <td>2013-12-25</td>\n",
       "      <td>2013-12</td>\n",
       "      <td>2013</td>\n",
       "    </tr>\n",
       "  </tbody>\n",
       "</table>\n",
       "<p>170 rows × 8 columns</p>\n",
       "</div>"
      ],
      "text/plain": [
       "     Sequence                                       Product Name  \\\n",
       "0         170  Nayasa Superplast Plastic Oil Dispenser 1 Litr...   \n",
       "1         169  Newlike Nokia 6.1 Plus 2018 Shock Proof Duel L...   \n",
       "2         168  Glasgow Edge to Edge Tempered Glass Screen Pro...   \n",
       "3         167       Nokia 6.1 Plus (Blue, 6GB RAM, 64GB Storage)   \n",
       "4         166   Surf Excel Matic Top Load Detergent Powder, 2 kg   \n",
       "..        ...                                                ...   \n",
       "165         5  Pindia Beautiful Home shaped wooden wall key h...   \n",
       "166         4                               Portronics My Buddy    \n",
       "167         3   DELL INSPIRON 15R N5010 6 CELL ORIGINAL BATTERY    \n",
       "168         2                               Freedom at Midnight    \n",
       "169         1  Seagate Expansion 1TB Portable External Hard D...   \n",
       "\n",
       "     Actual Price  Delivery Charge  Total Price Purchase Date  \\\n",
       "0             129              0.0          129    2019-10-18   \n",
       "1             299              0.0          299    2019-10-18   \n",
       "2             149              0.0          149    2019-10-18   \n",
       "3            9999              0.0         9999    2019-10-14   \n",
       "4             329              0.0          329    2019-08-23   \n",
       "..            ...              ...          ...           ...   \n",
       "165           326              0.0          326    2014-09-18   \n",
       "166          1699            200.0         1899    2014-03-01   \n",
       "167          1860              0.0         1860    2014-03-01   \n",
       "168           396             30.0          426    2014-03-01   \n",
       "169          3999             49.0         4048    2013-12-25   \n",
       "\n",
       "    Purchase Date Short  Year  \n",
       "0               2019-10  2019  \n",
       "1               2019-10  2019  \n",
       "2               2019-10  2019  \n",
       "3               2019-10  2019  \n",
       "4               2019-08  2019  \n",
       "..                  ...   ...  \n",
       "165             2014-09  2014  \n",
       "166             2014-03  2014  \n",
       "167             2014-03  2014  \n",
       "168             2014-03  2014  \n",
       "169             2013-12  2013  \n",
       "\n",
       "[170 rows x 8 columns]"
      ]
     },
     "execution_count": 88,
     "metadata": {},
     "output_type": "execute_result"
    }
   ],
   "source": [
    "df.set_index('Purchase Date').reset_index(drop=True)\n",
    "df.sort_values(['Sequence'],ascending=False,inplace=True)\n",
    "df.head()\n",
    "df.reset_index(drop=True)"
   ]
  },
  {
   "cell_type": "code",
   "execution_count": 89,
   "metadata": {},
   "outputs": [],
   "source": [
    "df_grouped_by_year=df.groupby('Year')\n",
    "for mon in df['Year'].unique():\n",
    "    df_t=df_grouped_by_year.get_group(mon)\n",
    "    #print(df_t.head(2))"
   ]
  },
  {
   "cell_type": "code",
   "execution_count": 90,
   "metadata": {},
   "outputs": [
    {
     "data": {
      "text/plain": [
       "Int64Index([169, 168, 167, 166, 165, 164, 163, 162, 161, 160,\n",
       "            ...\n",
       "              9,   8,   7,   6,   5,   4,   3,   2,   1,   0],\n",
       "           dtype='int64', length=170)"
      ]
     },
     "execution_count": 90,
     "metadata": {},
     "output_type": "execute_result"
    }
   ],
   "source": [
    "df.index"
   ]
  },
  {
   "cell_type": "code",
   "execution_count": null,
   "metadata": {},
   "outputs": [],
   "source": []
  },
  {
   "cell_type": "code",
   "execution_count": 91,
   "metadata": {},
   "outputs": [
    {
     "data": {
      "text/html": [
       "<div>\n",
       "<style scoped>\n",
       "    .dataframe tbody tr th:only-of-type {\n",
       "        vertical-align: middle;\n",
       "    }\n",
       "\n",
       "    .dataframe tbody tr th {\n",
       "        vertical-align: top;\n",
       "    }\n",
       "\n",
       "    .dataframe thead th {\n",
       "        text-align: right;\n",
       "    }\n",
       "</style>\n",
       "<table border=\"1\" class=\"dataframe\">\n",
       "  <thead>\n",
       "    <tr style=\"text-align: right;\">\n",
       "      <th></th>\n",
       "      <th>Sequence</th>\n",
       "      <th>Product Name</th>\n",
       "      <th>Actual Price</th>\n",
       "      <th>Delivery Charge</th>\n",
       "      <th>Total Price</th>\n",
       "      <th>Purchase Date</th>\n",
       "      <th>Purchase Date Short</th>\n",
       "      <th>Year</th>\n",
       "    </tr>\n",
       "  </thead>\n",
       "  <tbody>\n",
       "    <tr>\n",
       "      <td>0</td>\n",
       "      <td>1</td>\n",
       "      <td>Seagate Expansion 1TB Portable External Hard D...</td>\n",
       "      <td>3999</td>\n",
       "      <td>49.0</td>\n",
       "      <td>4048</td>\n",
       "      <td>2013-12-25</td>\n",
       "      <td>2013-12</td>\n",
       "      <td>2013</td>\n",
       "    </tr>\n",
       "    <tr>\n",
       "      <td>3</td>\n",
       "      <td>4</td>\n",
       "      <td>Portronics My Buddy</td>\n",
       "      <td>1699</td>\n",
       "      <td>200.0</td>\n",
       "      <td>1899</td>\n",
       "      <td>2014-03-01</td>\n",
       "      <td>2014-03</td>\n",
       "      <td>2014</td>\n",
       "    </tr>\n",
       "    <tr>\n",
       "      <td>1</td>\n",
       "      <td>2</td>\n",
       "      <td>Freedom at Midnight</td>\n",
       "      <td>396</td>\n",
       "      <td>30.0</td>\n",
       "      <td>426</td>\n",
       "      <td>2014-03-01</td>\n",
       "      <td>2014-03</td>\n",
       "      <td>2014</td>\n",
       "    </tr>\n",
       "    <tr>\n",
       "      <td>2</td>\n",
       "      <td>3</td>\n",
       "      <td>DELL INSPIRON 15R N5010 6 CELL ORIGINAL BATTERY</td>\n",
       "      <td>1860</td>\n",
       "      <td>0.0</td>\n",
       "      <td>1860</td>\n",
       "      <td>2014-03-01</td>\n",
       "      <td>2014-03</td>\n",
       "      <td>2014</td>\n",
       "    </tr>\n",
       "    <tr>\n",
       "      <td>4</td>\n",
       "      <td>5</td>\n",
       "      <td>Pindia Beautiful Home shaped wooden wall key h...</td>\n",
       "      <td>326</td>\n",
       "      <td>0.0</td>\n",
       "      <td>326</td>\n",
       "      <td>2014-09-18</td>\n",
       "      <td>2014-09</td>\n",
       "      <td>2014</td>\n",
       "    </tr>\n",
       "    <tr>\n",
       "      <td>...</td>\n",
       "      <td>...</td>\n",
       "      <td>...</td>\n",
       "      <td>...</td>\n",
       "      <td>...</td>\n",
       "      <td>...</td>\n",
       "      <td>...</td>\n",
       "      <td>...</td>\n",
       "      <td>...</td>\n",
       "    </tr>\n",
       "    <tr>\n",
       "      <td>163</td>\n",
       "      <td>164</td>\n",
       "      <td>Borosil Klip &amp; Store Glass Container Set, Set ...</td>\n",
       "      <td>550</td>\n",
       "      <td>0.0</td>\n",
       "      <td>550</td>\n",
       "      <td>2019-08-17</td>\n",
       "      <td>2019-08</td>\n",
       "      <td>2019</td>\n",
       "    </tr>\n",
       "    <tr>\n",
       "      <td>166</td>\n",
       "      <td>167</td>\n",
       "      <td>Nokia 6.1 Plus (Blue, 6GB RAM, 64GB Storage)</td>\n",
       "      <td>9999</td>\n",
       "      <td>0.0</td>\n",
       "      <td>9999</td>\n",
       "      <td>2019-10-14</td>\n",
       "      <td>2019-10</td>\n",
       "      <td>2019</td>\n",
       "    </tr>\n",
       "    <tr>\n",
       "      <td>167</td>\n",
       "      <td>168</td>\n",
       "      <td>Glasgow Edge to Edge Tempered Glass Screen Pro...</td>\n",
       "      <td>149</td>\n",
       "      <td>0.0</td>\n",
       "      <td>149</td>\n",
       "      <td>2019-10-18</td>\n",
       "      <td>2019-10</td>\n",
       "      <td>2019</td>\n",
       "    </tr>\n",
       "    <tr>\n",
       "      <td>168</td>\n",
       "      <td>169</td>\n",
       "      <td>Newlike Nokia 6.1 Plus 2018 Shock Proof Duel L...</td>\n",
       "      <td>299</td>\n",
       "      <td>0.0</td>\n",
       "      <td>299</td>\n",
       "      <td>2019-10-18</td>\n",
       "      <td>2019-10</td>\n",
       "      <td>2019</td>\n",
       "    </tr>\n",
       "    <tr>\n",
       "      <td>169</td>\n",
       "      <td>170</td>\n",
       "      <td>Nayasa Superplast Plastic Oil Dispenser 1 Litr...</td>\n",
       "      <td>129</td>\n",
       "      <td>0.0</td>\n",
       "      <td>129</td>\n",
       "      <td>2019-10-18</td>\n",
       "      <td>2019-10</td>\n",
       "      <td>2019</td>\n",
       "    </tr>\n",
       "  </tbody>\n",
       "</table>\n",
       "<p>170 rows × 8 columns</p>\n",
       "</div>"
      ],
      "text/plain": [
       "     Sequence                                       Product Name  \\\n",
       "0           1  Seagate Expansion 1TB Portable External Hard D...   \n",
       "3           4                               Portronics My Buddy    \n",
       "1           2                               Freedom at Midnight    \n",
       "2           3   DELL INSPIRON 15R N5010 6 CELL ORIGINAL BATTERY    \n",
       "4           5  Pindia Beautiful Home shaped wooden wall key h...   \n",
       "..        ...                                                ...   \n",
       "163       164  Borosil Klip & Store Glass Container Set, Set ...   \n",
       "166       167       Nokia 6.1 Plus (Blue, 6GB RAM, 64GB Storage)   \n",
       "167       168  Glasgow Edge to Edge Tempered Glass Screen Pro...   \n",
       "168       169  Newlike Nokia 6.1 Plus 2018 Shock Proof Duel L...   \n",
       "169       170  Nayasa Superplast Plastic Oil Dispenser 1 Litr...   \n",
       "\n",
       "     Actual Price  Delivery Charge  Total Price Purchase Date  \\\n",
       "0            3999             49.0         4048    2013-12-25   \n",
       "3            1699            200.0         1899    2014-03-01   \n",
       "1             396             30.0          426    2014-03-01   \n",
       "2            1860              0.0         1860    2014-03-01   \n",
       "4             326              0.0          326    2014-09-18   \n",
       "..            ...              ...          ...           ...   \n",
       "163           550              0.0          550    2019-08-17   \n",
       "166          9999              0.0         9999    2019-10-14   \n",
       "167           149              0.0          149    2019-10-18   \n",
       "168           299              0.0          299    2019-10-18   \n",
       "169           129              0.0          129    2019-10-18   \n",
       "\n",
       "    Purchase Date Short  Year  \n",
       "0               2013-12  2013  \n",
       "3               2014-03  2014  \n",
       "1               2014-03  2014  \n",
       "2               2014-03  2014  \n",
       "4               2014-09  2014  \n",
       "..                  ...   ...  \n",
       "163             2019-08  2019  \n",
       "166             2019-10  2019  \n",
       "167             2019-10  2019  \n",
       "168             2019-10  2019  \n",
       "169             2019-10  2019  \n",
       "\n",
       "[170 rows x 8 columns]"
      ]
     },
     "execution_count": 91,
     "metadata": {},
     "output_type": "execute_result"
    }
   ],
   "source": [
    "df.sort_values('Purchase Date Short')"
   ]
  },
  {
   "cell_type": "code",
   "execution_count": 92,
   "metadata": {},
   "outputs": [
    {
     "data": {
      "text/html": [
       "<div>\n",
       "<style scoped>\n",
       "    .dataframe tbody tr th:only-of-type {\n",
       "        vertical-align: middle;\n",
       "    }\n",
       "\n",
       "    .dataframe tbody tr th {\n",
       "        vertical-align: top;\n",
       "    }\n",
       "\n",
       "    .dataframe thead th {\n",
       "        text-align: right;\n",
       "    }\n",
       "</style>\n",
       "<table border=\"1\" class=\"dataframe\">\n",
       "  <thead>\n",
       "    <tr style=\"text-align: right;\">\n",
       "      <th></th>\n",
       "      <th>Year</th>\n",
       "      <th>Total Price</th>\n",
       "      <th>Delivery Charge</th>\n",
       "      <th>Actual Price</th>\n",
       "    </tr>\n",
       "  </thead>\n",
       "  <tbody>\n",
       "    <tr>\n",
       "      <td>0</td>\n",
       "      <td>2013</td>\n",
       "      <td>4048</td>\n",
       "      <td>49.0</td>\n",
       "      <td>3999</td>\n",
       "    </tr>\n",
       "    <tr>\n",
       "      <td>1</td>\n",
       "      <td>2014</td>\n",
       "      <td>9816</td>\n",
       "      <td>368.0</td>\n",
       "      <td>9448</td>\n",
       "    </tr>\n",
       "    <tr>\n",
       "      <td>2</td>\n",
       "      <td>2015</td>\n",
       "      <td>22099</td>\n",
       "      <td>1243.0</td>\n",
       "      <td>20856</td>\n",
       "    </tr>\n",
       "    <tr>\n",
       "      <td>3</td>\n",
       "      <td>2016</td>\n",
       "      <td>29660</td>\n",
       "      <td>1697.0</td>\n",
       "      <td>27963</td>\n",
       "    </tr>\n",
       "    <tr>\n",
       "      <td>4</td>\n",
       "      <td>2017</td>\n",
       "      <td>38749</td>\n",
       "      <td>1189.0</td>\n",
       "      <td>37560</td>\n",
       "    </tr>\n",
       "    <tr>\n",
       "      <td>5</td>\n",
       "      <td>2018</td>\n",
       "      <td>34920</td>\n",
       "      <td>339.0</td>\n",
       "      <td>34581</td>\n",
       "    </tr>\n",
       "    <tr>\n",
       "      <td>6</td>\n",
       "      <td>2019</td>\n",
       "      <td>33829</td>\n",
       "      <td>336.0</td>\n",
       "      <td>33493</td>\n",
       "    </tr>\n",
       "  </tbody>\n",
       "</table>\n",
       "</div>"
      ],
      "text/plain": [
       "   Year  Total Price  Delivery Charge  Actual Price\n",
       "0  2013         4048             49.0          3999\n",
       "1  2014         9816            368.0          9448\n",
       "2  2015        22099           1243.0         20856\n",
       "3  2016        29660           1697.0         27963\n",
       "4  2017        38749           1189.0         37560\n",
       "5  2018        34920            339.0         34581\n",
       "6  2019        33829            336.0         33493"
      ]
     },
     "execution_count": 92,
     "metadata": {},
     "output_type": "execute_result"
    }
   ],
   "source": [
    "df_grouped=df[['Total Price','Delivery Charge','Actual Price','Year']].groupby('Year').sum().reset_index()\n",
    "df_grouped"
   ]
  },
  {
   "cell_type": "code",
   "execution_count": 93,
   "metadata": {},
   "outputs": [],
   "source": [
    "%matplotlib inline"
   ]
  },
  {
   "cell_type": "code",
   "execution_count": 94,
   "metadata": {},
   "outputs": [
    {
     "data": {
      "text/plain": [
       "Index(['Year', 'Total Price', 'Delivery Charge', 'Actual Price'], dtype='object')"
      ]
     },
     "execution_count": 94,
     "metadata": {},
     "output_type": "execute_result"
    }
   ],
   "source": [
    "df_grouped.columns"
   ]
  },
  {
   "cell_type": "code",
   "execution_count": 95,
   "metadata": {},
   "outputs": [
    {
     "data": {
      "text/plain": [
       "<matplotlib.axes._subplots.AxesSubplot at 0xc6e422608>"
      ]
     },
     "execution_count": 95,
     "metadata": {},
     "output_type": "execute_result"
    },
    {
     "data": {
      "image/png": "[encoded data removed]",
      "text/plain": [
       "<Figure size 432x288 with 1 Axes>"
      ]
     },
     "metadata": {
      "needs_background": "light"
     },
     "output_type": "display_data"
    }
   ],
   "source": [
    "df_grouped.plot(y=\"Total Price\",marker='*' ,markersize=10)"
   ]
  },
  {
   "cell_type": "code",
   "execution_count": 96,
   "metadata": {},
   "outputs": [
    {
     "data": {
      "text/plain": [
       "<matplotlib.axes._subplots.AxesSubplot at 0xc6e4a0d08>"
      ]
     },
     "execution_count": 96,
     "metadata": {},
     "output_type": "execute_result"
    },
    {
     "data": {
      "image/png": "[encoded data removed]",
      "text/plain": [
       "<Figure size 432x288 with 1 Axes>"
      ]
     },
     "metadata": {
      "needs_background": "light"
     },
     "output_type": "display_data"
    }
   ],
   "source": [
    "df_grouped.plot(y='Total Price',kind='bar')"
   ]
  },
  {
   "cell_type": "code",
   "execution_count": 97,
   "metadata": {},
   "outputs": [
    {
     "name": "stdout",
     "output_type": "stream",
     "text": [
      "     Sequence                                       Product Name  \\\n",
      "169       170  Nayasa Superplast Plastic Oil Dispenser 1 Litr...   \n",
      "168       169  Newlike Nokia 6.1 Plus 2018 Shock Proof Duel L...   \n",
      "167       168  Glasgow Edge to Edge Tempered Glass Screen Pro...   \n",
      "166       167       Nokia 6.1 Plus (Blue, 6GB RAM, 64GB Storage)   \n",
      "165       166   Surf Excel Matic Top Load Detergent Powder, 2 kg   \n",
      "\n",
      "     Actual Price  Total Price Purchase Date Purchase Date Short  Year  \n",
      "169           129          129    2019-10-18             2019-10  2019  \n",
      "168           299          299    2019-10-18             2019-10  2019  \n",
      "167           149          149    2019-10-18             2019-10  2019  \n",
      "166          9999         9999    2019-10-14             2019-10  2019  \n",
      "165           329          329    2019-08-23             2019-08  2019  \n"
     ]
    }
   ],
   "source": [
    "string_type = df.select_dtypes(exclude=['float64']).head()\n",
    "print(string_type)"
   ]
  },
  {
   "cell_type": "code",
   "execution_count": 98,
   "metadata": {},
   "outputs": [
    {
     "data": {
      "text/plain": [
       "DatetimeIndex(['2013-12-31', '2014-01-31', '2014-02-28', '2014-03-31',\n",
       "               '2014-04-30', '2014-05-31', '2014-06-30', '2014-07-31',\n",
       "               '2014-08-31', '2014-09-30', '2014-10-31', '2014-11-30',\n",
       "               '2014-12-31', '2015-01-31', '2015-02-28', '2015-03-31',\n",
       "               '2015-04-30', '2015-05-31', '2015-06-30', '2015-07-31',\n",
       "               '2015-08-31', '2015-09-30', '2015-10-31', '2015-11-30',\n",
       "               '2015-12-31', '2016-01-31', '2016-02-29', '2016-03-31',\n",
       "               '2016-04-30', '2016-05-31', '2016-06-30', '2016-07-31',\n",
       "               '2016-08-31', '2016-09-30', '2016-10-31', '2016-11-30',\n",
       "               '2016-12-31', '2017-01-31', '2017-02-28', '2017-03-31',\n",
       "               '2017-04-30', '2017-05-31', '2017-06-30', '2017-07-31',\n",
       "               '2017-08-31', '2017-09-30', '2017-10-31', '2017-11-30',\n",
       "               '2017-12-31', '2018-01-31', '2018-02-28', '2018-03-31',\n",
       "               '2018-04-30', '2018-05-31', '2018-06-30', '2018-07-31',\n",
       "               '2018-08-31', '2018-09-30', '2018-10-31', '2018-11-30',\n",
       "               '2018-12-31', '2019-01-31', '2019-02-28', '2019-03-31',\n",
       "               '2019-04-30', '2019-05-31', '2019-06-30', '2019-07-31',\n",
       "               '2019-08-31', '2019-09-30'],\n",
       "              dtype='datetime64[ns]', freq='M')"
      ]
     },
     "execution_count": 98,
     "metadata": {},
     "output_type": "execute_result"
    }
   ],
   "source": [
    "months_bet=pd.date_range(df['Purchase Date'].min(),df['Purchase Date'].max(),freq='M')\n",
    "months_bet"
   ]
  },
  {
   "cell_type": "code",
   "execution_count": 99,
   "metadata": {},
   "outputs": [
    {
     "data": {
      "text/plain": [
       "pandas.core.indexes.datetimes.DatetimeIndex"
      ]
     },
     "execution_count": 99,
     "metadata": {},
     "output_type": "execute_result"
    }
   ],
   "source": [
    "type(months_bet)"
   ]
  },
  {
   "cell_type": "code",
   "execution_count": 109,
   "metadata": {},
   "outputs": [
    {
     "data": {
      "text/html": [
       "<div>\n",
       "<style scoped>\n",
       "    .dataframe tbody tr th:only-of-type {\n",
       "        vertical-align: middle;\n",
       "    }\n",
       "\n",
       "    .dataframe tbody tr th {\n",
       "        vertical-align: top;\n",
       "    }\n",
       "\n",
       "    .dataframe thead th {\n",
       "        text-align: right;\n",
       "    }\n",
       "</style>\n",
       "<table border=\"1\" class=\"dataframe\">\n",
       "  <thead>\n",
       "    <tr style=\"text-align: right;\">\n",
       "      <th></th>\n",
       "      <th>Months</th>\n",
       "      <th>Purchase Date Short</th>\n",
       "    </tr>\n",
       "  </thead>\n",
       "  <tbody>\n",
       "    <tr>\n",
       "      <td>0</td>\n",
       "      <td>2013-12-31</td>\n",
       "      <td>2013-12</td>\n",
       "    </tr>\n",
       "    <tr>\n",
       "      <td>1</td>\n",
       "      <td>2014-01-31</td>\n",
       "      <td>2014-01</td>\n",
       "    </tr>\n",
       "    <tr>\n",
       "      <td>2</td>\n",
       "      <td>2014-02-28</td>\n",
       "      <td>2014-02</td>\n",
       "    </tr>\n",
       "    <tr>\n",
       "      <td>3</td>\n",
       "      <td>2014-03-31</td>\n",
       "      <td>2014-03</td>\n",
       "    </tr>\n",
       "    <tr>\n",
       "      <td>4</td>\n",
       "      <td>2014-04-30</td>\n",
       "      <td>2014-04</td>\n",
       "    </tr>\n",
       "    <tr>\n",
       "      <td>...</td>\n",
       "      <td>...</td>\n",
       "      <td>...</td>\n",
       "    </tr>\n",
       "    <tr>\n",
       "      <td>65</td>\n",
       "      <td>2019-05-31</td>\n",
       "      <td>2019-05</td>\n",
       "    </tr>\n",
       "    <tr>\n",
       "      <td>66</td>\n",
       "      <td>2019-06-30</td>\n",
       "      <td>2019-06</td>\n",
       "    </tr>\n",
       "    <tr>\n",
       "      <td>67</td>\n",
       "      <td>2019-07-31</td>\n",
       "      <td>2019-07</td>\n",
       "    </tr>\n",
       "    <tr>\n",
       "      <td>68</td>\n",
       "      <td>2019-08-31</td>\n",
       "      <td>2019-08</td>\n",
       "    </tr>\n",
       "    <tr>\n",
       "      <td>69</td>\n",
       "      <td>2019-09-30</td>\n",
       "      <td>2019-09</td>\n",
       "    </tr>\n",
       "  </tbody>\n",
       "</table>\n",
       "<p>70 rows × 2 columns</p>\n",
       "</div>"
      ],
      "text/plain": [
       "       Months Purchase Date Short\n",
       "0  2013-12-31             2013-12\n",
       "1  2014-01-31             2014-01\n",
       "2  2014-02-28             2014-02\n",
       "3  2014-03-31             2014-03\n",
       "4  2014-04-30             2014-04\n",
       "..        ...                 ...\n",
       "65 2019-05-31             2019-05\n",
       "66 2019-06-30             2019-06\n",
       "67 2019-07-31             2019-07\n",
       "68 2019-08-31             2019-08\n",
       "69 2019-09-30             2019-09\n",
       "\n",
       "[70 rows x 2 columns]"
      ]
     },
     "execution_count": 109,
     "metadata": {},
     "output_type": "execute_result"
    }
   ],
   "source": [
    "Df_all_months=pd.DataFrame(pd.date_range(df['Purchase Date'].min(),df['Purchase Date'].max(),freq='M'))\n",
    "Df_all_months.rename(columns = {0:'Months'}, inplace = True)\n",
    "Df_all_months['Purchase Date Short']=Df_all_months['Months'].apply(lambda x: str(x)[:7])\n",
    "Df_all_months"
   ]
  },
  {
   "cell_type": "code",
   "execution_count": 118,
   "metadata": {},
   "outputs": [],
   "source": [
    "df_merged=pd.merge(Df_all_months,df,how='left',on='Purchase Date Short')"
   ]
  },
  {
   "cell_type": "code",
   "execution_count": 119,
   "metadata": {},
   "outputs": [
    {
     "data": {
      "text/html": [
       "<div>\n",
       "<style scoped>\n",
       "    .dataframe tbody tr th:only-of-type {\n",
       "        vertical-align: middle;\n",
       "    }\n",
       "\n",
       "    .dataframe tbody tr th {\n",
       "        vertical-align: top;\n",
       "    }\n",
       "\n",
       "    .dataframe thead th {\n",
       "        text-align: right;\n",
       "    }\n",
       "</style>\n",
       "<table border=\"1\" class=\"dataframe\">\n",
       "  <thead>\n",
       "    <tr style=\"text-align: right;\">\n",
       "      <th></th>\n",
       "      <th>Months</th>\n",
       "      <th>Purchase Date Short</th>\n",
       "      <th>Sequence</th>\n",
       "      <th>Product Name</th>\n",
       "      <th>Actual Price</th>\n",
       "      <th>Delivery Charge</th>\n",
       "      <th>Total Price</th>\n",
       "      <th>Purchase Date</th>\n",
       "      <th>Year</th>\n",
       "    </tr>\n",
       "  </thead>\n",
       "  <tbody>\n",
       "    <tr>\n",
       "      <td>0</td>\n",
       "      <td>2013-12-31</td>\n",
       "      <td>2013-12</td>\n",
       "      <td>1.0</td>\n",
       "      <td>Seagate Expansion 1TB Portable External Hard D...</td>\n",
       "      <td>3999.0</td>\n",
       "      <td>49.0</td>\n",
       "      <td>4048.0</td>\n",
       "      <td>2013-12-25</td>\n",
       "      <td>2013.0</td>\n",
       "    </tr>\n",
       "    <tr>\n",
       "      <td>1</td>\n",
       "      <td>2014-01-31</td>\n",
       "      <td>2014-01</td>\n",
       "      <td>NaN</td>\n",
       "      <td>NaN</td>\n",
       "      <td>NaN</td>\n",
       "      <td>NaN</td>\n",
       "      <td>NaN</td>\n",
       "      <td>NaT</td>\n",
       "      <td>NaN</td>\n",
       "    </tr>\n",
       "  </tbody>\n",
       "</table>\n",
       "</div>"
      ],
      "text/plain": [
       "      Months Purchase Date Short  Sequence  \\\n",
       "0 2013-12-31             2013-12       1.0   \n",
       "1 2014-01-31             2014-01       NaN   \n",
       "\n",
       "                                        Product Name  Actual Price  \\\n",
       "0  Seagate Expansion 1TB Portable External Hard D...        3999.0   \n",
       "1                                                NaN           NaN   \n",
       "\n",
       "   Delivery Charge  Total Price Purchase Date    Year  \n",
       "0             49.0       4048.0    2013-12-25  2013.0  \n",
       "1              NaN          NaN           NaT     NaN  "
      ]
     },
     "execution_count": 119,
     "metadata": {},
     "output_type": "execute_result"
    }
   ],
   "source": [
    "df_merged.head(2)"
   ]
  },
  {
   "cell_type": "code",
   "execution_count": 120,
   "metadata": {},
   "outputs": [
    {
     "data": {
      "text/html": [
       "<div>\n",
       "<style scoped>\n",
       "    .dataframe tbody tr th:only-of-type {\n",
       "        vertical-align: middle;\n",
       "    }\n",
       "\n",
       "    .dataframe tbody tr th {\n",
       "        vertical-align: top;\n",
       "    }\n",
       "\n",
       "    .dataframe thead th {\n",
       "        text-align: right;\n",
       "    }\n",
       "</style>\n",
       "<table border=\"1\" class=\"dataframe\">\n",
       "  <thead>\n",
       "    <tr style=\"text-align: right;\">\n",
       "      <th></th>\n",
       "      <th>Months</th>\n",
       "      <th>Purchase Date Short</th>\n",
       "      <th>Sequence</th>\n",
       "      <th>Product Name</th>\n",
       "      <th>Actual Price</th>\n",
       "      <th>Delivery Charge</th>\n",
       "      <th>Total Price</th>\n",
       "      <th>Purchase Date</th>\n",
       "      <th>Year</th>\n",
       "    </tr>\n",
       "  </thead>\n",
       "  <tbody>\n",
       "    <tr>\n",
       "      <td>0</td>\n",
       "      <td>2013-12-31</td>\n",
       "      <td>2013-12</td>\n",
       "      <td>1.0</td>\n",
       "      <td>Seagate Expansion 1TB Portable External Hard D...</td>\n",
       "      <td>3999.0</td>\n",
       "      <td>49.0</td>\n",
       "      <td>4048.0</td>\n",
       "      <td>2013-12-25</td>\n",
       "      <td>2013.0</td>\n",
       "    </tr>\n",
       "    <tr>\n",
       "      <td>1</td>\n",
       "      <td>2014-01-31</td>\n",
       "      <td>2014-01</td>\n",
       "      <td>NaN</td>\n",
       "      <td>No Purchase</td>\n",
       "      <td>NaN</td>\n",
       "      <td>NaN</td>\n",
       "      <td>NaN</td>\n",
       "      <td>NaT</td>\n",
       "      <td>NaN</td>\n",
       "    </tr>\n",
       "  </tbody>\n",
       "</table>\n",
       "</div>"
      ],
      "text/plain": [
       "      Months Purchase Date Short  Sequence  \\\n",
       "0 2013-12-31             2013-12       1.0   \n",
       "1 2014-01-31             2014-01       NaN   \n",
       "\n",
       "                                        Product Name  Actual Price  \\\n",
       "0  Seagate Expansion 1TB Portable External Hard D...        3999.0   \n",
       "1                                        No Purchase           NaN   \n",
       "\n",
       "   Delivery Charge  Total Price Purchase Date    Year  \n",
       "0             49.0       4048.0    2013-12-25  2013.0  \n",
       "1              NaN          NaN           NaT     NaN  "
      ]
     },
     "execution_count": 120,
     "metadata": {},
     "output_type": "execute_result"
    }
   ],
   "source": [
    "df_merged['Product Name'].fillna('No Purchase',inplace=True)\n",
    "df_merged.head(2)"
   ]
  },
  {
   "cell_type": "code",
   "execution_count": null,
   "metadata": {},
   "outputs": [],
   "source": []
  }
 ],
 "metadata": {
  "kernelspec": {
   "display_name": "Python 3",
   "language": "python",
   "name": "python3"
  },
  "language_info": {
   "codemirror_mode": {
    "name": "ipython",
    "version": 3
   },
   "file_extension": ".py",
   "mimetype": "text/x-python",
   "name": "python",
   "nbconvert_exporter": "python",
   "pygments_lexer": "ipython3",
   "version": "3.7.4"
  }
 },
 "nbformat": 4,
 "nbformat_minor": 2
}
