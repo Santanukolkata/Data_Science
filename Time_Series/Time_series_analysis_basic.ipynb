{
 "cells": [
  {
   "cell_type": "code",
   "execution_count": 39,
   "metadata": {},
   "outputs": [],
   "source": [
    "import pandas as pd\n",
    "df=pd.read_excel('Online_purchase.xlsx')"
   ]
  },
  {
   "cell_type": "code",
   "execution_count": 40,
   "metadata": {},
   "outputs": [],
   "source": [
    "df.drop(columns =['SL#'],inplace=True)"
   ]
  },
  {
   "cell_type": "code",
   "execution_count": 42,
   "metadata": {},
   "outputs": [],
   "source": [
    "df.set_index('Purchase Date',inplace=True)"
   ]
  },
  {
   "cell_type": "code",
   "execution_count": 43,
   "metadata": {},
   "outputs": [
    {
     "data": {
      "text/html": [
       "<div>\n",
       "<style scoped>\n",
       "    .dataframe tbody tr th:only-of-type {\n",
       "        vertical-align: middle;\n",
       "    }\n",
       "\n",
       "    .dataframe tbody tr th {\n",
       "        vertical-align: top;\n",
       "    }\n",
       "\n",
       "    .dataframe thead th {\n",
       "        text-align: right;\n",
       "    }\n",
       "</style>\n",
       "<table border=\"1\" class=\"dataframe\">\n",
       "  <thead>\n",
       "    <tr style=\"text-align: right;\">\n",
       "      <th></th>\n",
       "      <th>Product</th>\n",
       "      <th>Item\n",
       " Price</th>\n",
       "      <th>Delivery \n",
       "charges</th>\n",
       "      <th>Total</th>\n",
       "    </tr>\n",
       "    <tr>\n",
       "      <th>Purchase Date</th>\n",
       "      <th></th>\n",
       "      <th></th>\n",
       "      <th></th>\n",
       "      <th></th>\n",
       "    </tr>\n",
       "  </thead>\n",
       "  <tbody>\n",
       "    <tr>\n",
       "      <th>2013-12-25</th>\n",
       "      <td>Seagate Expansion 1TB Portable External Hard D...</td>\n",
       "      <td>3999</td>\n",
       "      <td>49.0</td>\n",
       "      <td>4048</td>\n",
       "    </tr>\n",
       "    <tr>\n",
       "      <th>2014-03-01</th>\n",
       "      <td>Freedom at Midnight</td>\n",
       "      <td>396</td>\n",
       "      <td>30.0</td>\n",
       "      <td>426</td>\n",
       "    </tr>\n",
       "    <tr>\n",
       "      <th>2014-03-01</th>\n",
       "      <td>DELL INSPIRON 15R N5010 6 CELL ORIGINAL BATTERY</td>\n",
       "      <td>1860</td>\n",
       "      <td>0.0</td>\n",
       "      <td>1860</td>\n",
       "    </tr>\n",
       "    <tr>\n",
       "      <th>2014-03-01</th>\n",
       "      <td>Portronics My Buddy</td>\n",
       "      <td>1699</td>\n",
       "      <td>200.0</td>\n",
       "      <td>1899</td>\n",
       "    </tr>\n",
       "    <tr>\n",
       "      <th>2014-09-18</th>\n",
       "      <td>Pindia Beautiful Home shaped wooden wall key h...</td>\n",
       "      <td>326</td>\n",
       "      <td>0.0</td>\n",
       "      <td>326</td>\n",
       "    </tr>\n",
       "  </tbody>\n",
       "</table>\n",
       "</div>"
      ],
      "text/plain": [
       "                                                         Product  \\\n",
       "Purchase Date                                                      \n",
       "2013-12-25     Seagate Expansion 1TB Portable External Hard D...   \n",
       "2014-03-01                                  Freedom at Midnight    \n",
       "2014-03-01      DELL INSPIRON 15R N5010 6 CELL ORIGINAL BATTERY    \n",
       "2014-03-01                                  Portronics My Buddy    \n",
       "2014-09-18     Pindia Beautiful Home shaped wooden wall key h...   \n",
       "\n",
       "               Item\\n Price   Delivery \\ncharges  Total  \n",
       "Purchase Date                                            \n",
       "2013-12-25              3999                49.0   4048  \n",
       "2014-03-01               396                30.0    426  \n",
       "2014-03-01              1860                 0.0   1860  \n",
       "2014-03-01              1699               200.0   1899  \n",
       "2014-09-18               326                 0.0    326  "
      ]
     },
     "execution_count": 43,
     "metadata": {},
     "output_type": "execute_result"
    }
   ],
   "source": [
    "df.head()"
   ]
  },
  {
   "cell_type": "code",
   "execution_count": 44,
   "metadata": {},
   "outputs": [],
   "source": [
    "df['year']=df.index.year"
   ]
  },
  {
   "cell_type": "code",
   "execution_count": 45,
   "metadata": {},
   "outputs": [],
   "source": [
    "df['Mon']=df.index.month_name()"
   ]
  },
  {
   "cell_type": "code",
   "execution_count": 46,
   "metadata": {},
   "outputs": [
    {
     "data": {
      "text/html": [
       "<div>\n",
       "<style scoped>\n",
       "    .dataframe tbody tr th:only-of-type {\n",
       "        vertical-align: middle;\n",
       "    }\n",
       "\n",
       "    .dataframe tbody tr th {\n",
       "        vertical-align: top;\n",
       "    }\n",
       "\n",
       "    .dataframe thead th {\n",
       "        text-align: right;\n",
       "    }\n",
       "</style>\n",
       "<table border=\"1\" class=\"dataframe\">\n",
       "  <thead>\n",
       "    <tr style=\"text-align: right;\">\n",
       "      <th></th>\n",
       "      <th>Product</th>\n",
       "      <th>Item\n",
       " Price</th>\n",
       "      <th>Delivery \n",
       "charges</th>\n",
       "      <th>Total</th>\n",
       "      <th>year</th>\n",
       "      <th>Mon</th>\n",
       "    </tr>\n",
       "    <tr>\n",
       "      <th>Purchase Date</th>\n",
       "      <th></th>\n",
       "      <th></th>\n",
       "      <th></th>\n",
       "      <th></th>\n",
       "      <th></th>\n",
       "      <th></th>\n",
       "    </tr>\n",
       "  </thead>\n",
       "  <tbody>\n",
       "    <tr>\n",
       "      <th>2013-12-25</th>\n",
       "      <td>Seagate Expansion 1TB Portable External Hard D...</td>\n",
       "      <td>3999</td>\n",
       "      <td>49.0</td>\n",
       "      <td>4048</td>\n",
       "      <td>2013</td>\n",
       "      <td>December</td>\n",
       "    </tr>\n",
       "    <tr>\n",
       "      <th>2014-03-01</th>\n",
       "      <td>Freedom at Midnight</td>\n",
       "      <td>396</td>\n",
       "      <td>30.0</td>\n",
       "      <td>426</td>\n",
       "      <td>2014</td>\n",
       "      <td>March</td>\n",
       "    </tr>\n",
       "    <tr>\n",
       "      <th>2014-03-01</th>\n",
       "      <td>DELL INSPIRON 15R N5010 6 CELL ORIGINAL BATTERY</td>\n",
       "      <td>1860</td>\n",
       "      <td>0.0</td>\n",
       "      <td>1860</td>\n",
       "      <td>2014</td>\n",
       "      <td>March</td>\n",
       "    </tr>\n",
       "    <tr>\n",
       "      <th>2014-03-01</th>\n",
       "      <td>Portronics My Buddy</td>\n",
       "      <td>1699</td>\n",
       "      <td>200.0</td>\n",
       "      <td>1899</td>\n",
       "      <td>2014</td>\n",
       "      <td>March</td>\n",
       "    </tr>\n",
       "    <tr>\n",
       "      <th>2014-09-18</th>\n",
       "      <td>Pindia Beautiful Home shaped wooden wall key h...</td>\n",
       "      <td>326</td>\n",
       "      <td>0.0</td>\n",
       "      <td>326</td>\n",
       "      <td>2014</td>\n",
       "      <td>September</td>\n",
       "    </tr>\n",
       "  </tbody>\n",
       "</table>\n",
       "</div>"
      ],
      "text/plain": [
       "                                                         Product  \\\n",
       "Purchase Date                                                      \n",
       "2013-12-25     Seagate Expansion 1TB Portable External Hard D...   \n",
       "2014-03-01                                  Freedom at Midnight    \n",
       "2014-03-01      DELL INSPIRON 15R N5010 6 CELL ORIGINAL BATTERY    \n",
       "2014-03-01                                  Portronics My Buddy    \n",
       "2014-09-18     Pindia Beautiful Home shaped wooden wall key h...   \n",
       "\n",
       "               Item\\n Price   Delivery \\ncharges  Total  year        Mon  \n",
       "Purchase Date                                                             \n",
       "2013-12-25              3999                49.0   4048  2013   December  \n",
       "2014-03-01               396                30.0    426  2014      March  \n",
       "2014-03-01              1860                 0.0   1860  2014      March  \n",
       "2014-03-01              1699               200.0   1899  2014      March  \n",
       "2014-09-18               326                 0.0    326  2014  September  "
      ]
     },
     "execution_count": 46,
     "metadata": {},
     "output_type": "execute_result"
    }
   ],
   "source": [
    "df.head()"
   ]
  },
  {
   "cell_type": "code",
   "execution_count": 47,
   "metadata": {},
   "outputs": [],
   "source": [
    "df_year_wise=df.groupby('year').sum()\n"
   ]
  },
  {
   "cell_type": "code",
   "execution_count": 14,
   "metadata": {},
   "outputs": [
    {
     "data": {
      "text/html": [
       "<div>\n",
       "<style scoped>\n",
       "    .dataframe tbody tr th:only-of-type {\n",
       "        vertical-align: middle;\n",
       "    }\n",
       "\n",
       "    .dataframe tbody tr th {\n",
       "        vertical-align: top;\n",
       "    }\n",
       "\n",
       "    .dataframe thead th {\n",
       "        text-align: right;\n",
       "    }\n",
       "</style>\n",
       "<table border=\"1\" class=\"dataframe\">\n",
       "  <thead>\n",
       "    <tr style=\"text-align: right;\">\n",
       "      <th></th>\n",
       "      <th>SL#</th>\n",
       "      <th>Item\n",
       " Price</th>\n",
       "      <th>Delivery \n",
       "charges</th>\n",
       "      <th>Total</th>\n",
       "    </tr>\n",
       "    <tr>\n",
       "      <th>year</th>\n",
       "      <th></th>\n",
       "      <th></th>\n",
       "      <th></th>\n",
       "      <th></th>\n",
       "    </tr>\n",
       "  </thead>\n",
       "  <tbody>\n",
       "    <tr>\n",
       "      <th>2015</th>\n",
       "      <td>658</td>\n",
       "      <td>20856</td>\n",
       "      <td>1243.0</td>\n",
       "      <td>22099</td>\n",
       "    </tr>\n",
       "    <tr>\n",
       "      <th>2016</th>\n",
       "      <td>2867</td>\n",
       "      <td>27963</td>\n",
       "      <td>1697.0</td>\n",
       "      <td>29660</td>\n",
       "    </tr>\n",
       "    <tr>\n",
       "      <th>2017</th>\n",
       "      <td>3451</td>\n",
       "      <td>37560</td>\n",
       "      <td>1189.0</td>\n",
       "      <td>38749</td>\n",
       "    </tr>\n",
       "    <tr>\n",
       "      <th>2018</th>\n",
       "      <td>3132</td>\n",
       "      <td>34581</td>\n",
       "      <td>339.0</td>\n",
       "      <td>34920</td>\n",
       "    </tr>\n",
       "    <tr>\n",
       "      <th>2019</th>\n",
       "      <td>5072</td>\n",
       "      <td>37319</td>\n",
       "      <td>336.0</td>\n",
       "      <td>37655</td>\n",
       "    </tr>\n",
       "  </tbody>\n",
       "</table>\n",
       "</div>"
      ],
      "text/plain": [
       "       SL#  Item\\n Price   Delivery \\ncharges  Total\n",
       "year                                                \n",
       "2015   658          20856              1243.0  22099\n",
       "2016  2867          27963              1697.0  29660\n",
       "2017  3451          37560              1189.0  38749\n",
       "2018  3132          34581               339.0  34920\n",
       "2019  5072          37319               336.0  37655"
      ]
     },
     "execution_count": 14,
     "metadata": {},
     "output_type": "execute_result"
    }
   ],
   "source": [
    "df_year_wise.tail()"
   ]
  },
  {
   "cell_type": "code",
   "execution_count": 15,
   "metadata": {},
   "outputs": [],
   "source": [
    "%matplotlib inline"
   ]
  },
  {
   "cell_type": "code",
   "execution_count": 16,
   "metadata": {},
   "outputs": [
    {
     "data": {
      "text/plain": [
       "<matplotlib.axes._subplots.AxesSubplot at 0x22383251128>"
      ]
     },
     "execution_count": 16,
     "metadata": {},
     "output_type": "execute_result"
    },
    {
     "data": {
      "image/png": "[encoded data removed]",
      "text/plain": [
       "<Figure size 432x288 with 1 Axes>"
      ]
     },
     "metadata": {
      "needs_background": "light"
     },
     "output_type": "display_data"
    }
   ],
   "source": [
    "df_year_wise.plot(y='Total')"
   ]
  },
  {
   "cell_type": "code",
   "execution_count": 19,
   "metadata": {},
   "outputs": [
    {
     "data": {
      "text/html": [
       "<div>\n",
       "<style scoped>\n",
       "    .dataframe tbody tr th:only-of-type {\n",
       "        vertical-align: middle;\n",
       "    }\n",
       "\n",
       "    .dataframe tbody tr th {\n",
       "        vertical-align: top;\n",
       "    }\n",
       "\n",
       "    .dataframe thead th {\n",
       "        text-align: right;\n",
       "    }\n",
       "</style>\n",
       "<table border=\"1\" class=\"dataframe\">\n",
       "  <thead>\n",
       "    <tr style=\"text-align: right;\">\n",
       "      <th></th>\n",
       "      <th>SL#</th>\n",
       "      <th>Product</th>\n",
       "      <th>Item\n",
       " Price</th>\n",
       "      <th>Delivery \n",
       "charges</th>\n",
       "      <th>Total</th>\n",
       "      <th>year</th>\n",
       "      <th>Mon</th>\n",
       "    </tr>\n",
       "    <tr>\n",
       "      <th>Purchase Date</th>\n",
       "      <th></th>\n",
       "      <th></th>\n",
       "      <th></th>\n",
       "      <th></th>\n",
       "      <th></th>\n",
       "      <th></th>\n",
       "      <th></th>\n",
       "    </tr>\n",
       "  </thead>\n",
       "  <tbody>\n",
       "    <tr>\n",
       "      <th>2018-03-05</th>\n",
       "      <td>119</td>\n",
       "      <td>[Upgraded Version] GadgetsAccessories (150cm =...</td>\n",
       "      <td>399</td>\n",
       "      <td>0.0</td>\n",
       "      <td>399</td>\n",
       "      <td>2018</td>\n",
       "      <td>March</td>\n",
       "    </tr>\n",
       "    <tr>\n",
       "      <th>2018-03-05</th>\n",
       "      <td>120</td>\n",
       "      <td>SanDisk Ultra Dual 16GB USB 3.0 OTG Pen Drive</td>\n",
       "      <td>499</td>\n",
       "      <td>0.0</td>\n",
       "      <td>499</td>\n",
       "      <td>2018</td>\n",
       "      <td>March</td>\n",
       "    </tr>\n",
       "    <tr>\n",
       "      <th>2018-03-05</th>\n",
       "      <td>121</td>\n",
       "      <td>Prestige Delight PRWO 1.0-(400 watt)1-Litre El...</td>\n",
       "      <td>1194</td>\n",
       "      <td>0.0</td>\n",
       "      <td>1194</td>\n",
       "      <td>2018</td>\n",
       "      <td>March</td>\n",
       "    </tr>\n",
       "    <tr>\n",
       "      <th>2018-03-18</th>\n",
       "      <td>122</td>\n",
       "      <td>boAt Dual Port Rapid Car charger (Qualcomm Cer...</td>\n",
       "      <td>599</td>\n",
       "      <td>0.0</td>\n",
       "      <td>599</td>\n",
       "      <td>2018</td>\n",
       "      <td>March</td>\n",
       "    </tr>\n",
       "    <tr>\n",
       "      <th>2018-03-18</th>\n",
       "      <td>123</td>\n",
       "      <td>Godrej aer Click Cool Surf Blue Air Freshener ...</td>\n",
       "      <td>131</td>\n",
       "      <td>0.0</td>\n",
       "      <td>131</td>\n",
       "      <td>2018</td>\n",
       "      <td>March</td>\n",
       "    </tr>\n",
       "  </tbody>\n",
       "</table>\n",
       "</div>"
      ],
      "text/plain": [
       "               SL#                                            Product  \\\n",
       "Purchase Date                                                           \n",
       "2018-03-05     119  [Upgraded Version] GadgetsAccessories (150cm =...   \n",
       "2018-03-05     120     SanDisk Ultra Dual 16GB USB 3.0 OTG Pen Drive    \n",
       "2018-03-05     121  Prestige Delight PRWO 1.0-(400 watt)1-Litre El...   \n",
       "2018-03-18     122  boAt Dual Port Rapid Car charger (Qualcomm Cer...   \n",
       "2018-03-18     123  Godrej aer Click Cool Surf Blue Air Freshener ...   \n",
       "\n",
       "               Item\\n Price   Delivery \\ncharges  Total  year    Mon  \n",
       "Purchase Date                                                         \n",
       "2018-03-05               399                 0.0    399  2018  March  \n",
       "2018-03-05               499                 0.0    499  2018  March  \n",
       "2018-03-05              1194                 0.0   1194  2018  March  \n",
       "2018-03-18               599                 0.0    599  2018  March  \n",
       "2018-03-18               131                 0.0    131  2018  March  "
      ]
     },
     "execution_count": 19,
     "metadata": {},
     "output_type": "execute_result"
    }
   ],
   "source": [
    "df['2018'].head()"
   ]
  },
  {
   "cell_type": "code",
   "execution_count": 48,
   "metadata": {},
   "outputs": [],
   "source": [
    "#if we want to see 2018 data"
   ]
  },
  {
   "cell_type": "code",
   "execution_count": 49,
   "metadata": {},
   "outputs": [
    {
     "data": {
      "text/plain": [
       "Index(['Item\\n Price ', 'Delivery \\ncharges', 'Total'], dtype='object')"
      ]
     },
     "execution_count": 49,
     "metadata": {},
     "output_type": "execute_result"
    }
   ],
   "source": [
    "df_year_wise.columns"
   ]
  },
  {
   "cell_type": "code",
   "execution_count": 53,
   "metadata": {},
   "outputs": [
    {
     "data": {
      "text/html": [
       "<div>\n",
       "<style scoped>\n",
       "    .dataframe tbody tr th:only-of-type {\n",
       "        vertical-align: middle;\n",
       "    }\n",
       "\n",
       "    .dataframe tbody tr th {\n",
       "        vertical-align: top;\n",
       "    }\n",
       "\n",
       "    .dataframe thead th {\n",
       "        text-align: right;\n",
       "    }\n",
       "</style>\n",
       "<table border=\"1\" class=\"dataframe\">\n",
       "  <thead>\n",
       "    <tr style=\"text-align: right;\">\n",
       "      <th></th>\n",
       "      <th>Item\n",
       " Price</th>\n",
       "      <th>Delivery \n",
       "charges</th>\n",
       "      <th>Total</th>\n",
       "    </tr>\n",
       "    <tr>\n",
       "      <th>year</th>\n",
       "      <th></th>\n",
       "      <th></th>\n",
       "      <th></th>\n",
       "    </tr>\n",
       "  </thead>\n",
       "  <tbody>\n",
       "    <tr>\n",
       "      <th>2013</th>\n",
       "      <td>3999</td>\n",
       "      <td>49.0</td>\n",
       "      <td>4048</td>\n",
       "    </tr>\n",
       "    <tr>\n",
       "      <th>2014</th>\n",
       "      <td>9448</td>\n",
       "      <td>368.0</td>\n",
       "      <td>9816</td>\n",
       "    </tr>\n",
       "    <tr>\n",
       "      <th>2015</th>\n",
       "      <td>20856</td>\n",
       "      <td>1243.0</td>\n",
       "      <td>22099</td>\n",
       "    </tr>\n",
       "    <tr>\n",
       "      <th>2016</th>\n",
       "      <td>27963</td>\n",
       "      <td>1697.0</td>\n",
       "      <td>29660</td>\n",
       "    </tr>\n",
       "    <tr>\n",
       "      <th>2017</th>\n",
       "      <td>37560</td>\n",
       "      <td>1189.0</td>\n",
       "      <td>38749</td>\n",
       "    </tr>\n",
       "    <tr>\n",
       "      <th>2018</th>\n",
       "      <td>34581</td>\n",
       "      <td>339.0</td>\n",
       "      <td>34920</td>\n",
       "    </tr>\n",
       "    <tr>\n",
       "      <th>2019</th>\n",
       "      <td>37319</td>\n",
       "      <td>336.0</td>\n",
       "      <td>37655</td>\n",
       "    </tr>\n",
       "  </tbody>\n",
       "</table>\n",
       "</div>"
      ],
      "text/plain": [
       "      Item\\n Price   Delivery \\ncharges  Total\n",
       "year                                          \n",
       "2013           3999                49.0   4048\n",
       "2014           9448               368.0   9816\n",
       "2015          20856              1243.0  22099\n",
       "2016          27963              1697.0  29660\n",
       "2017          37560              1189.0  38749\n",
       "2018          34581               339.0  34920\n",
       "2019          37319               336.0  37655"
      ]
     },
     "execution_count": 53,
     "metadata": {},
     "output_type": "execute_result"
    }
   ],
   "source": [
    "df_year_wise"
   ]
  },
  {
   "cell_type": "code",
   "execution_count": 70,
   "metadata": {},
   "outputs": [],
   "source": [
    "moving_avg = df_year_wise.rolling(2).mean()\n",
    "moving_sum = df_year_wise.rolling(2).sum()"
   ]
  },
  {
   "cell_type": "code",
   "execution_count": 72,
   "metadata": {},
   "outputs": [
    {
     "data": {
      "image/png": "[encoded data removed]",
      "text/plain": [
       "<Figure size 432x288 with 2 Axes>"
      ]
     },
     "metadata": {
      "needs_background": "light"
     },
     "output_type": "display_data"
    }
   ],
   "source": [
    "import matplotlib.pyplot as plt\n",
    "fig = plt.figure()\n",
    "ax1 = fig.add_subplot(121)\n",
    "ax2 = fig.add_subplot(122)\n",
    "moving_avg['Total'].plot(color='red',ax=ax1)\n",
    "moving_avg['Item\\n Price '].plot(color='green',ax=ax1)\n",
    "moving_avg['Delivery \\ncharges'].plot(color='yellow',ax=ax1)\n",
    "moving_sum['Total'].plot(color='red',ax=ax2)\n",
    "moving_sum['Item\\n Price '].plot(color='green',ax=ax2)\n",
    "moving_sum['Delivery \\ncharges'].plot(color='yellow',ax=ax2)\n",
    "plt.tight_layout(pad=0.4, w_pad=0.5, h_pad=1.0)"
   ]
  },
  {
   "cell_type": "markdown",
   "metadata": {},
   "source": [
    "Good Links:<br>\n",
    "https://www.tutorialspoint.com/python_pandas/python_pandas_date_functionality.htm <br>\n",
    "https://pandas.pydata.org/pandas-docs/version/0.19.1/generated/pandas.date_range.html"
   ]
  },
  {
   "cell_type": "code",
   "execution_count": 68,
   "metadata": {},
   "outputs": [
    {
     "data": {
      "text/plain": [
       "DatetimeIndex(['2013-12-25', '2013-12-26', '2013-12-27', '2013-12-28',\n",
       "               '2013-12-29', '2013-12-30', '2013-12-31', '2014-01-01',\n",
       "               '2014-01-02', '2014-01-03',\n",
       "               ...\n",
       "               '2019-10-22', '2019-10-23', '2019-10-24', '2019-10-25',\n",
       "               '2019-10-26', '2019-10-27', '2019-10-28', '2019-10-29',\n",
       "               '2019-10-30', '2019-10-31'],\n",
       "              dtype='datetime64[ns]', length=2137, freq='D')"
      ]
     },
     "execution_count": 68,
     "metadata": {},
     "output_type": "execute_result"
    }
   ],
   "source": [
    "month_range=pd.date_range(start='2013-12-25',end='2019-10-31',freq='D')\n",
    "month_range"
   ]
  },
  {
   "cell_type": "markdown",
   "metadata": {},
   "source": [
    "**Retrieving a Range of Dates**"
   ]
  },
  {
   "cell_type": "code",
   "execution_count": 74,
   "metadata": {},
   "outputs": [
    {
     "data": {
      "text/html": [
       "<div>\n",
       "<style scoped>\n",
       "    .dataframe tbody tr th:only-of-type {\n",
       "        vertical-align: middle;\n",
       "    }\n",
       "\n",
       "    .dataframe tbody tr th {\n",
       "        vertical-align: top;\n",
       "    }\n",
       "\n",
       "    .dataframe thead th {\n",
       "        text-align: right;\n",
       "    }\n",
       "</style>\n",
       "<table border=\"1\" class=\"dataframe\">\n",
       "  <thead>\n",
       "    <tr style=\"text-align: right;\">\n",
       "      <th></th>\n",
       "      <th>Product</th>\n",
       "      <th>Item\n",
       " Price</th>\n",
       "      <th>Delivery \n",
       "charges</th>\n",
       "      <th>Total</th>\n",
       "      <th>year</th>\n",
       "      <th>Mon</th>\n",
       "    </tr>\n",
       "    <tr>\n",
       "      <th>Purchase Date</th>\n",
       "      <th></th>\n",
       "      <th></th>\n",
       "      <th></th>\n",
       "      <th></th>\n",
       "      <th></th>\n",
       "      <th></th>\n",
       "    </tr>\n",
       "  </thead>\n",
       "  <tbody>\n",
       "    <tr>\n",
       "      <th>2016-01-07</th>\n",
       "      <td>Scotch-Brite Jet Scrubber and Kitchen Squeegee...</td>\n",
       "      <td>286</td>\n",
       "      <td>20.0</td>\n",
       "      <td>306</td>\n",
       "      <td>2016</td>\n",
       "      <td>January</td>\n",
       "    </tr>\n",
       "    <tr>\n",
       "      <th>2016-01-07</th>\n",
       "      <td>Scotch-Brite Household Scrubber Brush</td>\n",
       "      <td>199</td>\n",
       "      <td>20.0</td>\n",
       "      <td>219</td>\n",
       "      <td>2016</td>\n",
       "      <td>January</td>\n",
       "    </tr>\n",
       "    <tr>\n",
       "      <th>2016-01-14</th>\n",
       "      <td>Ocean Victoria Glass Set, 6-Pieces, 325ml</td>\n",
       "      <td>339</td>\n",
       "      <td>40.0</td>\n",
       "      <td>379</td>\n",
       "      <td>2016</td>\n",
       "      <td>January</td>\n",
       "    </tr>\n",
       "    <tr>\n",
       "      <th>2016-01-20</th>\n",
       "      <td>Amazon.in Black Gift Card Box - Rs.1000, Black...</td>\n",
       "      <td>1000</td>\n",
       "      <td>0.0</td>\n",
       "      <td>1000</td>\n",
       "      <td>2016</td>\n",
       "      <td>January</td>\n",
       "    </tr>\n",
       "    <tr>\n",
       "      <th>2016-01-23</th>\n",
       "      <td>HP V210W 16GB USB Pen Drive</td>\n",
       "      <td>470</td>\n",
       "      <td>40.0</td>\n",
       "      <td>510</td>\n",
       "      <td>2016</td>\n",
       "      <td>January</td>\n",
       "    </tr>\n",
       "    <tr>\n",
       "      <th>2016-02-16</th>\n",
       "      <td>Black Single Round Mesh Metal Pen Pencil Tool ...</td>\n",
       "      <td>120</td>\n",
       "      <td>0.0</td>\n",
       "      <td>120</td>\n",
       "      <td>2016</td>\n",
       "      <td>February</td>\n",
       "    </tr>\n",
       "    <tr>\n",
       "      <th>2016-02-16</th>\n",
       "      <td>2 of GadgetsAccessories (100cm = 3 Foot = 1M) ...</td>\n",
       "      <td>378</td>\n",
       "      <td>0.0</td>\n",
       "      <td>378</td>\n",
       "      <td>2016</td>\n",
       "      <td>February</td>\n",
       "    </tr>\n",
       "    <tr>\n",
       "      <th>2016-02-26</th>\n",
       "      <td>Quick Heal Antivirus Pro - 2 PCs, 1 Year (DVD)</td>\n",
       "      <td>619</td>\n",
       "      <td>0.0</td>\n",
       "      <td>619</td>\n",
       "      <td>2016</td>\n",
       "      <td>February</td>\n",
       "    </tr>\n",
       "  </tbody>\n",
       "</table>\n",
       "</div>"
      ],
      "text/plain": [
       "                                                         Product  \\\n",
       "Purchase Date                                                      \n",
       "2016-01-07     Scotch-Brite Jet Scrubber and Kitchen Squeegee...   \n",
       "2016-01-07                Scotch-Brite Household Scrubber Brush    \n",
       "2016-01-14            Ocean Victoria Glass Set, 6-Pieces, 325ml    \n",
       "2016-01-20     Amazon.in Black Gift Card Box - Rs.1000, Black...   \n",
       "2016-01-23                          HP V210W 16GB USB Pen Drive    \n",
       "2016-02-16     Black Single Round Mesh Metal Pen Pencil Tool ...   \n",
       "2016-02-16     2 of GadgetsAccessories (100cm = 3 Foot = 1M) ...   \n",
       "2016-02-26       Quick Heal Antivirus Pro - 2 PCs, 1 Year (DVD)    \n",
       "\n",
       "               Item\\n Price   Delivery \\ncharges  Total  year       Mon  \n",
       "Purchase Date                                                            \n",
       "2016-01-07               286                20.0    306  2016   January  \n",
       "2016-01-07               199                20.0    219  2016   January  \n",
       "2016-01-14               339                40.0    379  2016   January  \n",
       "2016-01-20              1000                 0.0   1000  2016   January  \n",
       "2016-01-23               470                40.0    510  2016   January  \n",
       "2016-02-16               120                 0.0    120  2016  February  \n",
       "2016-02-16               378                 0.0    378  2016  February  \n",
       "2016-02-26               619                 0.0    619  2016  February  "
      ]
     },
     "execution_count": 74,
     "metadata": {},
     "output_type": "execute_result"
    }
   ],
   "source": [
    "# getting all the transaction between 2016 jan to feb\n",
    "df['2016-01':'2016-02']"
   ]
  },
  {
   "cell_type": "code",
   "execution_count": 75,
   "metadata": {},
   "outputs": [
    {
     "data": {
      "text/plain": [
       "DatetimeIndex(['2017-01-01 00:00:00', '2017-01-02 01:01:10',\n",
       "               '2017-01-03 02:02:20', '2017-01-04 03:03:30',\n",
       "               '2017-01-05 04:04:40'],\n",
       "              dtype='datetime64[ns]', freq='90070S')"
      ]
     },
     "execution_count": 75,
     "metadata": {},
     "output_type": "execute_result"
    }
   ],
   "source": [
    "#now I want to generate frequency based on my own\n",
    "#Let's say you want to generate date-time values that are 1 day, 1 hour, 1 minute and 10 seconds apart.\n",
    "pd.date_range(start=\"2017-01-01\", periods=5, freq='1D1h1min10s')"
   ]
  },
  {
   "cell_type": "code",
   "execution_count": 76,
   "metadata": {},
   "outputs": [
    {
     "data": {
      "text/plain": [
       "DatetimeIndex(['2017-01-02', '2017-02-28', '2018-01-01', '2018-02-28',\n",
       "               '2019-01-01', '2019-02-28', '2020-01-01', '2020-02-29',\n",
       "               '2021-01-01', '2021-02-28', '2022-01-03', '2022-02-28',\n",
       "               '2023-01-02', '2023-02-28', '2024-01-01', '2024-02-29',\n",
       "               '2025-01-01', '2025-02-28', '2026-01-01', '2026-02-28'],\n",
       "              dtype='datetime64[ns]', freq=None)"
      ]
     },
     "execution_count": 76,
     "metadata": {},
     "output_type": "execute_result"
    }
   ],
   "source": [
    "#Combining Indices\n",
    "#First index generated 10 first business days in January starting 2017\n",
    "#Second index genetated 10 last buisiness days in February starting 2017.\n",
    "a = pd.date_range(start=\"2017-01-01\", periods=10, freq='BAS-JAN')\n",
    "b = pd.date_range(start=\"2017-01-01\", periods=10, freq='A-FEB')\n",
    "a.union(b)"
   ]
  },
  {
   "cell_type": "markdown",
   "metadata": {},
   "source": [
    "# Resampling:\n",
    "\n",
    "**Upsampling** is converting the data from a low frequency to a high frequency.\n",
    "\n",
    "**Downsampling** is converting the data from a high frequency to a low frequency."
   ]
  },
  {
   "cell_type": "code",
   "execution_count": 101,
   "metadata": {},
   "outputs": [
    {
     "data": {
      "text/plain": [
       "2020-01-01 00:00:00     4\n",
       "2020-01-01 00:01:00    18\n",
       "2020-01-01 00:02:00    22\n",
       "2020-01-01 00:03:00    18\n",
       "2020-01-01 00:04:00     5\n",
       "2020-01-01 00:05:00    22\n",
       "2020-01-01 00:06:00     4\n",
       "2020-01-01 00:07:00     4\n",
       "2020-01-01 00:08:00    18\n",
       "2020-01-01 00:09:00    10\n",
       "Freq: T, dtype: int32"
      ]
     },
     "execution_count": 101,
     "metadata": {},
     "output_type": "execute_result"
    }
   ],
   "source": [
    "import numpy as np\n",
    "import pandas as pd\n",
    "customerArrival = pd.date_range('01/01/2020 0:00', periods=100, freq='T')\n",
    "custArrivalTs = pd.Series(np.random.randint(0, 30, len(customerArrival)), index=customerArrival)\n",
    "custArrivalTs.head(10)"
   ]
  },
  {
   "cell_type": "code",
   "execution_count": 83,
   "metadata": {},
   "outputs": [
    {
     "data": {
      "text/plain": [
       "2020-01-01 00:00:00    19.2\n",
       "2020-01-01 00:10:00    17.9\n",
       "2020-01-01 00:20:00    15.1\n",
       "2020-01-01 00:30:00    15.7\n",
       "2020-01-01 00:40:00    10.5\n",
       "Freq: 10T, dtype: float64"
      ]
     },
     "execution_count": 83,
     "metadata": {},
     "output_type": "execute_result"
    }
   ],
   "source": [
    "# Downsample:1\n",
    "custArrivalTs_10min=custArrivalTs.resample('10min').mean()\n",
    "custArrivalTs_10min.head()"
   ]
  },
  {
   "cell_type": "code",
   "execution_count": 100,
   "metadata": {},
   "outputs": [
    {
     "data": {
      "text/plain": [
       "2020-01-01 00:00:00    26\n",
       "2020-01-01 00:00:30    26\n",
       "2020-01-01 00:01:00    23\n",
       "2020-01-01 00:01:30    23\n",
       "2020-01-01 00:02:00    12\n",
       "Freq: 30S, dtype: int32"
      ]
     },
     "execution_count": 100,
     "metadata": {},
     "output_type": "execute_result"
    }
   ],
   "source": [
    "#upsample\n",
    "#upsampling the data in 30 sec\n",
    "custArrivalTs_30S=custArrivalTs.resample('30S').ffill().head(20)\n",
    "custArrivalTs_30S.head()"
   ]
  },
  {
   "cell_type": "code",
   "execution_count": 106,
   "metadata": {},
   "outputs": [
    {
     "data": {
      "text/plain": [
       "2020-01-01 00:00:00     4.0\n",
       "2020-01-01 00:00:20     4.0\n",
       "2020-01-01 00:00:40     NaN\n",
       "2020-01-01 00:01:00    18.0\n",
       "2020-01-01 00:01:20    18.0\n",
       "Freq: 20S, dtype: float64"
      ]
     },
     "execution_count": 106,
     "metadata": {},
     "output_type": "execute_result"
    }
   ],
   "source": [
    "#upsample\n",
    "#upsampling the data in 20 sec\n",
    "custArrivalTs_20S=custArrivalTs.resample('20S').ffill(limit=1)\n",
    "custArrivalTs_20S.head()"
   ]
  },
  {
   "cell_type": "code",
   "execution_count": 107,
   "metadata": {},
   "outputs": [
    {
     "data": {
      "text/plain": [
       "2020-01-01 00:00:00     4.000000\n",
       "2020-01-01 00:00:20     8.666667\n",
       "2020-01-01 00:00:40    13.333333\n",
       "2020-01-01 00:01:00    18.000000\n",
       "2020-01-01 00:01:20    19.333333\n",
       "Freq: 20S, dtype: float64"
      ]
     },
     "execution_count": 107,
     "metadata": {},
     "output_type": "execute_result"
    }
   ],
   "source": [
    "#upsample\n",
    "#upsampling the data in 20 sec\n",
    "custArrivalTs_20S_int=custArrivalTs.resample('20S').interpolate()\n",
    "custArrivalTs_20S_int.head()"
   ]
  },
  {
   "cell_type": "code",
   "execution_count": 93,
   "metadata": {},
   "outputs": [
    {
     "data": {
      "text/plain": [
       "2020-01-01 00:00:00    27\n",
       "2020-01-01 01:00:00    15\n",
       "Freq: H, dtype: int32"
      ]
     },
     "execution_count": 93,
     "metadata": {},
     "output_type": "execute_result"
    }
   ],
   "source": [
    "#Lambda Function in Custom Aggregation\n",
    "import random\n",
    "custArrivalTs.resample('1h').apply(lambda m: random.choice(m)).head()"
   ]
  },
  {
   "cell_type": "code",
   "execution_count": 94,
   "metadata": {},
   "outputs": [
    {
     "data": {
      "text/html": [
       "<div>\n",
       "<style scoped>\n",
       "    .dataframe tbody tr th:only-of-type {\n",
       "        vertical-align: middle;\n",
       "    }\n",
       "\n",
       "    .dataframe tbody tr th {\n",
       "        vertical-align: top;\n",
       "    }\n",
       "\n",
       "    .dataframe thead th {\n",
       "        text-align: right;\n",
       "    }\n",
       "</style>\n",
       "<table border=\"1\" class=\"dataframe\">\n",
       "  <thead>\n",
       "    <tr style=\"text-align: right;\">\n",
       "      <th></th>\n",
       "      <th>open</th>\n",
       "      <th>high</th>\n",
       "      <th>low</th>\n",
       "      <th>close</th>\n",
       "    </tr>\n",
       "  </thead>\n",
       "  <tbody>\n",
       "    <tr>\n",
       "      <th>2020-01-01 00:00:00</th>\n",
       "      <td>26</td>\n",
       "      <td>29</td>\n",
       "      <td>0</td>\n",
       "      <td>11</td>\n",
       "    </tr>\n",
       "    <tr>\n",
       "      <th>2020-01-01 01:00:00</th>\n",
       "      <td>1</td>\n",
       "      <td>28</td>\n",
       "      <td>0</td>\n",
       "      <td>21</td>\n",
       "    </tr>\n",
       "  </tbody>\n",
       "</table>\n",
       "</div>"
      ],
      "text/plain": [
       "                     open  high  low  close\n",
       "2020-01-01 00:00:00    26    29    0     11\n",
       "2020-01-01 01:00:00     1    28    0     21"
      ]
     },
     "execution_count": 94,
     "metadata": {},
     "output_type": "execute_result"
    }
   ],
   "source": [
    "#Open High Low Close\n",
    "custArrivalTs.resample('1h').ohlc()"
   ]
  },
  {
   "cell_type": "code",
   "execution_count": 108,
   "metadata": {},
   "outputs": [
    {
     "data": {
      "text/plain": [
       "['US/Eastern', 'US/Hawaii', 'US/Mountain', 'US/Pacific', 'UTC']"
      ]
     },
     "execution_count": 108,
     "metadata": {},
     "output_type": "execute_result"
    }
   ],
   "source": [
    "#Python Timezone\n",
    "import pytz \n",
    "pytz.common_timezones[-5:]"
   ]
  },
  {
   "cell_type": "code",
   "execution_count": 111,
   "metadata": {},
   "outputs": [
    {
     "data": {
      "text/plain": [
       "<DstTzInfo 'US/Eastern' LMT-1 day, 19:04:00 STD>"
      ]
     },
     "execution_count": 111,
     "metadata": {},
     "output_type": "execute_result"
    }
   ],
   "source": [
    "usEastTz = pytz.timezone('US/Eastern')\n",
    "usEastTz"
   ]
  },
  {
   "cell_type": "code",
   "execution_count": 114,
   "metadata": {},
   "outputs": [
    {
     "data": {
      "text/plain": [
       "2017-09-18 05:30:00-04:00   -0.581029\n",
       "2017-09-19 05:30:00-04:00   -0.025099\n",
       "2017-09-20 05:30:00-04:00    1.409552\n",
       "2017-09-21 05:30:00-04:00   -0.061498\n",
       "2017-09-22 05:30:00-04:00   -1.929825\n",
       "2017-09-23 05:30:00-04:00   -0.476259\n",
       "Freq: D, dtype: float64"
      ]
     },
     "execution_count": 114,
     "metadata": {},
     "output_type": "execute_result"
    }
   ],
   "source": [
    "#Time Zone Conversion\n",
    "timeZoneRng = pd.date_range('9/18/2017 9:30', periods=6, freq='D',tz='UTC')\n",
    "timeZoneTs = pd.Series(np.random.randn(len(timeZoneRng)), index=timeZoneRng)\n",
    "timeZoneTs.index.tz\n",
    "timeZoneTs.tz_convert('US/Eastern')"
   ]
  },
  {
   "cell_type": "markdown",
   "metadata": {},
   "source": [
    "# Plotting using Python"
   ]
  },
  {
   "cell_type": "code",
   "execution_count": 115,
   "metadata": {},
   "outputs": [
    {
     "data": {
      "text/plain": [
       "2017-01-01     0\n",
       "2017-02-01     2\n",
       "2017-03-01    -7\n",
       "2017-04-01    -9\n",
       "2017-05-01   -15\n",
       "Freq: MS, dtype: int32"
      ]
     },
     "execution_count": 115,
     "metadata": {},
     "output_type": "execute_result"
    }
   ],
   "source": [
    "%matplotlib inline \n",
    "import pandas as pd\n",
    "import numpy as np \n",
    "sampleRng = pd.date_range(start='2017', periods=120, freq='MS')\n",
    "sampleTs = pd.Series(np.random.randint(-10, 10, size=len(sampleRng)), sampleRng).cumsum()\n",
    "sampleTs.head()"
   ]
  },
  {
   "cell_type": "code",
   "execution_count": 122,
   "metadata": {},
   "outputs": [
    {
     "data": {
      "image/png": "[encoded data removed]",
      "text/plain": [
       "<Figure size 864x288 with 3 Axes>"
      ]
     },
     "metadata": {
      "needs_background": "light"
     },
     "output_type": "display_data"
    }
   ],
   "source": [
    "plt.rcParams[\"figure.figsize\"] = 12, 4\n",
    "fig = plt.figure()\n",
    "ax1 = fig.add_subplot(131)\n",
    "ax2 = fig.add_subplot(132)\n",
    "ax3 = fig.add_subplot(133)\n",
    "sampleTs.plot(c='r', title='Sample time series',ax=ax1)\n",
    "sampleTs.resample('2A').plot(c='b', ls='--',ax=ax2)\n",
    "sampleTs.resample('5A').plot(c='g', ls='-.',ax=ax3)\n",
    "plt.tight_layout(pad=0.4, w_pad=0.5, h_pad=1.0)"
   ]
  },
  {
   "cell_type": "code",
   "execution_count": 126,
   "metadata": {},
   "outputs": [
    {
     "data": {
      "text/plain": [
       "<matplotlib.axes._subplots.AxesSubplot at 0x2238e4ca470>"
      ]
     },
     "execution_count": 126,
     "metadata": {},
     "output_type": "execute_result"
    },
    {
     "data": {
      "image/png": "[encoded data removed]",
      "text/plain": [
       "<Figure size 864x288 with 1 Axes>"
      ]
     },
     "metadata": {
      "needs_background": "light"
     },
     "output_type": "display_data"
    }
   ],
   "source": [
    "#lag plot\n",
    "pd.plotting.lag_plot(sampleTs)"
   ]
  },
  {
   "cell_type": "code",
   "execution_count": 130,
   "metadata": {},
   "outputs": [
    {
     "data": {
      "text/plain": [
       "<matplotlib.axes._subplots.AxesSubplot at 0x2238e6ec588>"
      ]
     },
     "execution_count": 130,
     "metadata": {},
     "output_type": "execute_result"
    },
    {
     "data": {
      "image/png": "[encoded data removed]",
      "text/plain": [
       "<Figure size 864x288 with 1 Axes>"
      ]
     },
     "metadata": {
      "needs_background": "light"
     },
     "output_type": "display_data"
    }
   ],
   "source": [
    "#Auto Correlation plot\n",
    "pd.plotting.autocorrelation_plot(sampleTs)"
   ]
  },
  {
   "cell_type": "markdown",
   "metadata": {},
   "source": [
    "# Statistics\n",
    "Interpreting the Results<br>\n",
    "**Null Hypothesis: H0** - If accepted then the time series data is non-stationary, and it has a unit root.<br>\n",
    "**Alternate Hypothesis: H1** - The null hypothesis is rejected. The time series data is stationary and does not have any unit root.<br>\n",
    "Results<br>\n",
    "p-value > 0.05: Accept the (H0), the data is non-stationary and has a unit root.<br>\n",
    "p-value <= 0.05: Reject the H0, the data is stationary and does not have a unit root.<br>"
   ]
  },
  {
   "cell_type": "markdown",
   "metadata": {},
   "source": [
    "**Trend:** This component shows the overall series behavior - the slow change of values over time.<br>\n",
    "**Season:** This shows the changes that happen in cycles that are less than one year.<br>\n",
    "**Cycles:** Changes that happen for more than a year.<br>\n",
    "**Random:** Anything that is not included in the above three components.<br>"
   ]
  },
  {
   "cell_type": "code",
   "execution_count": 131,
   "metadata": {},
   "outputs": [],
   "source": [
    "from statsmodels.tsa.seasonal import seasonal_decompose\n",
    "sampleTs_decomp = seasonal_decompose(sampleTs, freq=12) \n",
    "sampleTs_trend = sampleTs_decomp.trend \n",
    "sampleTs_seasonal = sampleTs_decomp.seasonal \n",
    "sampleTs_residual = sampleTs_decomp.resid"
   ]
  },
  {
   "cell_type": "code",
   "execution_count": 133,
   "metadata": {},
   "outputs": [
    {
     "data": {
      "text/plain": [
       "<matplotlib.axes._subplots.AxesSubplot at 0x223903bc7f0>"
      ]
     },
     "execution_count": 133,
     "metadata": {},
     "output_type": "execute_result"
    },
    {
     "data": {
      "image/png": "[encoded data removed]",
      "text/plain": [
       "<Figure size 864x288 with 1 Axes>"
      ]
     },
     "metadata": {
      "needs_background": "light"
     },
     "output_type": "display_data"
    }
   ],
   "source": [
    "sampleTs_trend.plot()"
   ]
  },
  {
   "cell_type": "code",
   "execution_count": 134,
   "metadata": {},
   "outputs": [
    {
     "data": {
      "text/plain": [
       "<matplotlib.axes._subplots.AxesSubplot at 0x2238e668668>"
      ]
     },
     "execution_count": 134,
     "metadata": {},
     "output_type": "execute_result"
    },
    {
     "data": {
      "image/png": "[encoded data removed]",
      "text/plain": [
       "<Figure size 864x288 with 1 Axes>"
      ]
     },
     "metadata": {
      "needs_background": "light"
     },
     "output_type": "display_data"
    }
   ],
   "source": [
    "sampleTs_seasonal.plot()"
   ]
  },
  {
   "cell_type": "code",
   "execution_count": 135,
   "metadata": {},
   "outputs": [
    {
     "data": {
      "text/plain": [
       "<matplotlib.axes._subplots.AxesSubplot at 0x2238fb342b0>"
      ]
     },
     "execution_count": 135,
     "metadata": {},
     "output_type": "execute_result"
    },
    {
     "data": {
      "image/png": "[encoded data removed]",
      "text/plain": [
       "<Figure size 864x288 with 1 Axes>"
      ]
     },
     "metadata": {
      "needs_background": "light"
     },
     "output_type": "display_data"
    }
   ],
   "source": [
    "sampleTs_residual.plot()"
   ]
  },
  {
   "cell_type": "code",
   "execution_count": null,
   "metadata": {},
   "outputs": [],
   "source": []
  }
 ],
 "metadata": {
  "kernelspec": {
   "display_name": "Python 3",
   "language": "python",
   "name": "python3"
  },
  "language_info": {
   "codemirror_mode": {
    "name": "ipython",
    "version": 3
   },
   "file_extension": ".py",
   "mimetype": "text/x-python",
   "name": "python",
   "nbconvert_exporter": "python",
   "pygments_lexer": "ipython3",
   "version": "3.7.1"
  }
 },
 "nbformat": 4,
 "nbformat_minor": 2
}
