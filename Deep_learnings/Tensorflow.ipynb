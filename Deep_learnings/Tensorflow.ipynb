{
  "nbformat": 4,
  "nbformat_minor": 0,
  "metadata": {
    "colab": {
      "name": "Tensorflow.ipynb",
      "provenance": [],
      "collapsed_sections": [],
      "authorship_tag": "ABX9TyMolx3LyROLXNUObtL+99yS",
      "include_colab_link": true
    },
    "kernelspec": {
      "name": "python3",
      "display_name": "Python 3"
    }
  },
  "cells": [
    {
      "cell_type": "markdown",
      "metadata": {
        "id": "view-in-github",
        "colab_type": "text"
      },
      "source": [
        "<a href=\"https://colab.research.google.com/github/Santanukolkata/Data_Science/blob/Development/Deep_learnings/Tensorflow.ipynb\" target=\"_parent\"><img src=\"https://colab.research.google.com/assets/colab-badge.svg\" alt=\"Open In Colab\"/></a>"
      ]
    },
    {
      "cell_type": "code",
      "metadata": {
        "id": "8aiXBBt_mlYL",
        "colab_type": "code",
        "colab": {
          "base_uri": "https://localhost:8080/",
          "height": 34
        },
        "outputId": "1fcb06a2-52cb-46f9-f91c-d0b48fe21e47"
      },
      "source": [
        "from  __future__ import absolute_import,division,print_function\n",
        "%tensorflow_version 2.x\n",
        "import  tensorflow as tf\n",
        "from tensorflow.keras import Model,layers\n",
        "import numpy as np"
      ],
      "execution_count": 1,
      "outputs": [
        {
          "output_type": "stream",
          "text": [
            "TensorFlow 2.x selected.\n"
          ],
          "name": "stdout"
        }
      ]
    },
    {
      "cell_type": "code",
      "metadata": {
        "id": "9zAjHofLmvv4",
        "colab_type": "code",
        "colab": {}
      },
      "source": [
        "num_classes =10\n",
        "num_features =784\n",
        "learning_rate =0.1\n",
        "training_steps =2000\n",
        "batch_size =256\n",
        "display_step=100\n",
        "n_hidden_1=128\n",
        "n_hidden_2=256"
      ],
      "execution_count": 0,
      "outputs": []
    },
    {
      "cell_type": "code",
      "metadata": {
        "id": "S0WEbr2enclu",
        "colab_type": "code",
        "colab": {}
      },
      "source": [
        "from tensorflow.keras.datasets import mnist\n",
        "(x_train,y_train),(x_test,y_test) =mnist.load_data()"
      ],
      "execution_count": 0,
      "outputs": []
    },
    {
      "cell_type": "code",
      "metadata": {
        "id": "CzbRTz3Kn151",
        "colab_type": "code",
        "colab": {}
      },
      "source": [
        "x_train,x_test =np.array(x_train,np.float32),np.array(x_test,np.float32)"
      ],
      "execution_count": 0,
      "outputs": []
    },
    {
      "cell_type": "code",
      "metadata": {
        "id": "m5v81J2doV__",
        "colab_type": "code",
        "colab": {}
      },
      "source": [
        "x_train,x_test =x_train.reshape([-1,num_features]),x_train.reshape([-1,num_features])"
      ],
      "execution_count": 0,
      "outputs": []
    },
    {
      "cell_type": "code",
      "metadata": {
        "id": "jNbotrTuosYZ",
        "colab_type": "code",
        "colab": {}
      },
      "source": [
        "x_train,x_test =x_train/255,x_test/255"
      ],
      "execution_count": 0,
      "outputs": []
    },
    {
      "cell_type": "code",
      "metadata": {
        "id": "I4__9dV9o16_",
        "colab_type": "code",
        "colab": {}
      },
      "source": [
        "train_data =tf.data.Dataset.from_tensor_slices((x_train,y_train))\n",
        "train_data =train_data.repeat().shuffle(5000).batch(batch_size).prefetch(1)"
      ],
      "execution_count": 0,
      "outputs": []
    },
    {
      "cell_type": "code",
      "metadata": {
        "id": "d2w4vMUqph1H",
        "colab_type": "code",
        "colab": {}
      },
      "source": [
        "class NeuralNet(Model):\n",
        "  def __init__(self):\n",
        "    super(NeuralNet,self).__init__()\n",
        "    self.fc1=layers.Dense(n_hidden_1,activation=tf.nn.relu)\n",
        "    self.fc1=layers.Dense(n_hidden_2,activation=tf.nn.relu)\n",
        "    self.out=layers.Dense(num_classes,activation=tf.nn.softmax)\n",
        "  def call(self,x,is_training=False):\n",
        "    x=self.fc1(x)\n",
        "    x=self.out(x)\n",
        "    if not is_training:\n",
        "      x=tf.nn.softmax(x)\n",
        "    return x\n",
        "NeuralNet=NeuralNet()"
      ],
      "execution_count": 0,
      "outputs": []
    },
    {
      "cell_type": "code",
      "metadata": {
        "id": "KyjnQ4Whskvp",
        "colab_type": "code",
        "colab": {}
      },
      "source": [
        "def class_entropy_loss(x,y):\n",
        "  y=tf.cast(y,tf.int64)\n",
        "  loss=tf.nn.sparse_softmax_cross_entropy_with_logits(labels=y,logits=x)\n",
        "  return tf.reduce_mean(loss)"
      ],
      "execution_count": 0,
      "outputs": []
    },
    {
      "cell_type": "code",
      "metadata": {
        "id": "OHUBSMMps1tc",
        "colab_type": "code",
        "colab": {}
      },
      "source": [
        "def accuracy(y_pred,y_true):\n",
        "  correct_prediction=tf.equal(tf.arg_max(y_pred,1),tf.cast(y_true,tf.int64))\n",
        "  return tf.reduce_mean(tf.cast(correct_prediction,tf.float32),axis=1)\n",
        "optimizer=tf.optimizers.SGD(learning_rate)"
      ],
      "execution_count": 0,
      "outputs": []
    },
    {
      "cell_type": "code",
      "metadata": {
        "id": "_I8DMz-pt1Fr",
        "colab_type": "code",
        "colab": {
          "base_uri": "https://localhost:8080/",
          "height": 214
        },
        "outputId": "8f92c3b4-9e03-4322-b849-c78ac1b7f5a8"
      },
      "source": [
        "def run_optimization(x,y):\n",
        "  with tf.GradientTape() as g:\n",
        "    pred =NeuralNet(x,is_training=True)\n",
        "    loss =class_entropy_loss(pred,y)\n",
        "trainable_variable =NeuralNet.trainable_variables\n",
        "gradients =g.gradients(loss,trainable_variable)\n",
        "optimizer.apply_gradients(zip(gradients,trainable_variable))"
      ],
      "execution_count": 14,
      "outputs": [
        {
          "output_type": "error",
          "ename": "NameError",
          "evalue": "ignored",
          "traceback": [
            "\u001b[0;31m---------------------------------------------------------------------------\u001b[0m",
            "\u001b[0;31mNameError\u001b[0m                                 Traceback (most recent call last)",
            "\u001b[0;32m<ipython-input-14-5864b181e090>\u001b[0m in \u001b[0;36m<module>\u001b[0;34m()\u001b[0m\n\u001b[1;32m      4\u001b[0m     \u001b[0mloss\u001b[0m \u001b[0;34m=\u001b[0m\u001b[0mclass_entropy_loss\u001b[0m\u001b[0;34m(\u001b[0m\u001b[0mpred\u001b[0m\u001b[0;34m,\u001b[0m\u001b[0my\u001b[0m\u001b[0;34m)\u001b[0m\u001b[0;34m\u001b[0m\u001b[0;34m\u001b[0m\u001b[0m\n\u001b[1;32m      5\u001b[0m \u001b[0mtrainable_variable\u001b[0m \u001b[0;34m=\u001b[0m\u001b[0mNeuralNet\u001b[0m\u001b[0;34m.\u001b[0m\u001b[0mtrainable_variables\u001b[0m\u001b[0;34m\u001b[0m\u001b[0;34m\u001b[0m\u001b[0m\n\u001b[0;32m----> 6\u001b[0;31m \u001b[0mgradients\u001b[0m \u001b[0;34m=\u001b[0m\u001b[0mg\u001b[0m\u001b[0;34m.\u001b[0m\u001b[0mgradients\u001b[0m\u001b[0;34m(\u001b[0m\u001b[0mloss\u001b[0m\u001b[0;34m,\u001b[0m\u001b[0mtrainable_variable\u001b[0m\u001b[0;34m)\u001b[0m\u001b[0;34m\u001b[0m\u001b[0;34m\u001b[0m\u001b[0m\n\u001b[0m\u001b[1;32m      7\u001b[0m \u001b[0moptimizer\u001b[0m\u001b[0;34m.\u001b[0m\u001b[0mapply_gradients\u001b[0m\u001b[0;34m(\u001b[0m\u001b[0mzip\u001b[0m\u001b[0;34m(\u001b[0m\u001b[0mgradients\u001b[0m\u001b[0;34m,\u001b[0m\u001b[0mtrainable_variable\u001b[0m\u001b[0;34m)\u001b[0m\u001b[0;34m)\u001b[0m\u001b[0;34m\u001b[0m\u001b[0;34m\u001b[0m\u001b[0m\n",
            "\u001b[0;31mNameError\u001b[0m: name 'g' is not defined"
          ]
        }
      ]
    },
    {
      "cell_type": "code",
      "metadata": {
        "id": "ekc2SpfqvPfu",
        "colab_type": "code",
        "colab": {}
      },
      "source": [
        ""
      ],
      "execution_count": 0,
      "outputs": []
    }
  ]
}