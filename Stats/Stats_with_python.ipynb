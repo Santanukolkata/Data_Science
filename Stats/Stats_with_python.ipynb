{
 "cells": [
  {
   "cell_type": "markdown",
   "metadata": {},
   "source": [
    "# t_test \n",
    "\n",
    "**stats.ttest_1samp**: Tests if the mean of a population is a given value.<br>\n",
    "**stats.ttest_ind**: Tests if the means of two independent samples are equal.<br>\n",
    "**stats.ttest_rel**: Tests if the means of two paired samples are equal."
   ]
  },
  {
   "cell_type": "code",
   "execution_count": 4,
   "metadata": {},
   "outputs": [
    {
     "name": "stdout",
     "output_type": "stream",
     "text": [
      "45.0\n",
      "I value: 45.0 p-values: 1.0\n",
      "we are accepting null hypothesis\n"
     ]
    }
   ],
   "source": [
    "Ages=np.array([20,30,40,50,60,70])\n",
    "np_mean=Ages.mean()\n",
    "print(np_mean)\n",
    "tset, pval = stats.ttest_1samp(Ages,np_mean )\n",
    "print('I value:',np_mean,'p-values:',pval)\n",
    "if pval < 0.05:    \n",
    "    print(\" we are rejecting null hypothesis\")\n",
    "else:\n",
    "    print(\"we are accepting null hypothesis\")"
   ]
  },
  {
   "cell_type": "code",
   "execution_count": 5,
   "metadata": {},
   "outputs": [
    {
     "name": "stdout",
     "output_type": "stream",
     "text": [
      "-0.4635235823621444\n",
      "0.6520259307676195\n",
      "we accept null hypothesis\n"
     ]
    }
   ],
   "source": [
    "from scipy import stats\n",
    "s1 = [20,30,40,50,60,70]\n",
    "s2 = [10,30,40,50,60,70,100]\n",
    "t,p=stats.ttest_ind(s1,s2)\n",
    "print(t)\n",
    "print(p)\n",
    "if p <0.05:\n",
    "  print(\"we reject null hypothesis\")\n",
    "else:\n",
    "  print(\"we accept null hypothesis\")"
   ]
  },
  {
   "cell_type": "code",
   "execution_count": 6,
   "metadata": {},
   "outputs": [
    {
     "name": "stdout",
     "output_type": "stream",
     "text": [
      "1.315587028960544\n",
      "0.2208380130273219\n",
      "we accept null hypothesis\n"
     ]
    }
   ],
   "source": [
    "from scipy import stats\n",
    "s1 = [12, 7, 3, 11, 8, 5, 14, 7, 9, 10]\n",
    "s2 = [8, 7, 4, 14, 6, 7, 12, 5, 5, 8]\n",
    "t,p=stats.ttest_rel(s1,s2)\n",
    "print(t)\n",
    "print(p)\n",
    "if p <0.05:\n",
    "  print(\"we reject null hypothesis\")\n",
    "else:\n",
    "\n",
    "    print(\"we accept null hypothesis\")"
   ]
  },
  {
   "cell_type": "markdown",
   "metadata": {},
   "source": [
    "--------------------------------------------------------------------------------\n",
    "There are two types of Chi-squared tests:<br>\n",
    "Goodness of Fit<br>\n",
    "Test for Independence\n",
    "\n",
    "Chi-squared Statistic Value\n",
    "\n",
    "Smaller statistic value: There is a relationship between category variables.<br>\n",
    "Larger statistic value: There is no relationship between category variables."
   ]
  },
  {
   "cell_type": "markdown",
   "metadata": {},
   "source": [
    "The following Contigency table shows the subject preference of left-handed and right- handed individuals.\n",
    "<table align=\"center\">\n",
    "<tr><th>Subject</th><th>\tLeft-handed</th><th>Right-handed</th></tr>\n",
    "<tr><td>Science</td><td>\t30</td><td>10</td></tr>\n",
    "<tr><td>Maths</td><td>15</td><td>25</td></tr>\n",
    "<tr><td>Computer Science</td><td>15</td><td>5</td></tr>\n",
    "<tr><b>Null Hypothesis</b></tr>\n",
    "<tr>There is no difference in distribution between left-handed and right-handed individuals in terms of preference of subjects.</tr>\n",
    "<tr><b>Alternate Hypotheis</b></tr>\n",
    "<tr>There is a difference in subject preference between left-handed and right-handed individuals.</tr></table>"
   ]
  },
  {
   "cell_type": "code",
   "execution_count": 9,
   "metadata": {},
   "outputs": [
    {
     "name": "stdout",
     "output_type": "stream",
     "text": [
      "Dependent (reject H0)\n"
     ]
    }
   ],
   "source": [
    "from scipy.stats import chi2_contingency\n",
    "from scipy.stats import chi2\n",
    "table = [[30, 15, 15], \t[10,  25,  5]]\n",
    "stat,p,dof,expected = chi2_contingency(table)\n",
    "prob = 0.95\n",
    "critical = chi2.ppf(prob, dof)\n",
    "if abs(stat) >= critical:\n",
    "\tprint('Dependent (reject H0)')\n",
    "else:\n",
    "\tprint('Independent (fail to reject H0)')\n",
    "    "
   ]
  },
  {
   "cell_type": "markdown",
   "metadata": {},
   "source": [
    "The table shows the contingency table of marital status by education. Use Chi-Square test for testing Homogenity.contingency table of marital status by education.\n",
    "<table>\n",
    "<tr><th>Marital Status</th><th>Middle school</th><th>High School</th><th>Bachelor</th><th>Masters</th><th>PhD</th></tr>\n",
    "<tr><td>'Single'</td><td>18</td><td>36</td><td>21</td><td>9</td><td>6</td><td></tr>\n",
    "<tr><td>'Married'</td><td>12</td><td>36</td><td>45</td><td>36</td><td>21</td><td></tr>\n",
    "<tr><td>'Divorced'</td><td>6</td><td>9</td><td>9</td><td>3</td><td>3</td><td></tr>\n",
    "<tr><td>'Widowed'</td><td>3</td><td>9</td><td>9</td><td>6</td><td>3</td><td></tr>\n",
    "</table>\n",
    "\n",
    "    \n",
    "1.Import chi2_contingency and chi2 from scipy.stats package.\n",
    "\n",
    "2.Declare a 2D array with the values mentioned in the contingency table of marital status by education.\n",
    "\n",
    "3.Calculate and print the values of\n",
    "\n",
    " - Chi-Square Statistic\n",
    " - Degree of Freedom\n",
    " - P value\n",
    " - Hint: Use chi2_contigency() function\n",
    "4.Assume the alpha value to be 0.05\n",
    "\n",
    "5.Compare the P value with alpha and decide whether or not to reject the null hypothesis.\n",
    "\n",
    " - If Rejected print \"Reject the Null Hypothesis\"\n",
    " - Else print \"Failed to reject the Null Hypothesis\""
   ]
  },
  {
   "cell_type": "code",
   "execution_count": 1,
   "metadata": {},
   "outputs": [
    {
     "name": "stdout",
     "output_type": "stream",
     "text": [
      "Stat: 23.56689976689977\n",
      "P: 0.023281019557072378\n",
      "degree of freedom: 12\n",
      "Reject the Null Hypothesis\n"
     ]
    }
   ],
   "source": [
    "from scipy.stats import chi2_contingency\n",
    "from scipy.stats import chi2\n",
    "table = [[18,36,21,9,6],[12,36,45,36,21],[6,9,9,3,3],[3,9,9,6,3]]\n",
    "stat,p,dof,expected = chi2_contingency(table)\n",
    "prob = 0.95\n",
    "print('Stat:',stat)\n",
    "print('P:',p)\n",
    "print('degree of freedom:',dof)\n",
    "if p < 0.05:\n",
    "    print('Reject the Null Hypothesis')\n",
    "else:\n",
    "    print('Failed to reject the Null Hypothesis')"
   ]
  },
  {
   "cell_type": "markdown",
   "metadata": {},
   "source": [
    "The Table Shows the Main Color choice of men and women out of 100 people\n",
    "<br>**Null Hypothesis:** Color Choice is independant of Gender\n",
    "<br>**Alternate Hypothesis:** Color Choice is dependant of Gender\n",
    "<br>\n",
    "<table border=1 align=left>\n",
    "    <tr><th>Obeserved</th></tr>\n",
    "    <tr><th>Gender</th><th>Red</th><th>Green</th><th>Others</th><th>Total</th></tr>\n",
    "    <tr><td>Male</td><td>26</td><td>13</td><td>5</td><th>44</th></tr>\n",
    "    <tr><td>Female</td><td>20</td><td>29</td><td>7</td><th>56</th></tr>\n",
    "    <tr><td>Total</td><td>46</td><td>42</td><td>12</td><th>100</th></tr>\n",
    "</table>"
   ]
  },
  {
   "cell_type": "code",
   "execution_count": 5,
   "metadata": {},
   "outputs": [
    {
     "name": "stdout",
     "output_type": "stream",
     "text": [
      "Stat: 5.855499314350247\n",
      "P: 0.05351733509077522\n",
      "degree of freedom: 2\n",
      "Expected: [[20.24 18.48  5.28]\n",
      " [25.76 23.52  6.72]]\n",
      "Failed to reject the Null Hypothesis : Color Choice is independant to Genders\n"
     ]
    }
   ],
   "source": [
    "from scipy.stats import chi2_contingency\n",
    "from scipy.stats import chi2\n",
    "table = [[26,13,5],[20,29,7]]\n",
    "stat,p,dof,expected = chi2_contingency(table)\n",
    "prob = 0.95\n",
    "print('Stat:',stat)\n",
    "print('P:',p)\n",
    "print('degree of freedom:',dof)\n",
    "print(\"Expected:\",expected)\n",
    "if p < 0.05:\n",
    "    print('Reject the Null Hypothesis :Color Choice is dependant to Genders')\n",
    "else:\n",
    "    print('Failed to reject the Null Hypothesis : Color Choice is independant to Genders')"
   ]
  }
 ],
 "metadata": {
  "kernelspec": {
   "display_name": "Python 3",
   "language": "python",
   "name": "python3"
  },
  "language_info": {
   "codemirror_mode": {
    "name": "ipython",
    "version": 3
   },
   "file_extension": ".py",
   "mimetype": "text/x-python",
   "name": "python",
   "nbconvert_exporter": "python",
   "pygments_lexer": "ipython3",
   "version": "3.7.1"
  }
 },
 "nbformat": 4,
 "nbformat_minor": 2
}
