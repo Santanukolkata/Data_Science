{
 "cells": [
  {
   "cell_type": "markdown",
   "metadata": {},
   "source": [
    "# scikit-learn provides many preprocessing utilities such as,\n",
    "\n",
    "1.Standardization mean removal <br>\n",
    "2.Scaling<br>\n",
    "3.Normalization<br>\n",
    "4.Binarization<br>\n",
    "5.One Hot Encoding<br>\n",
    "6.Label Encoding<br>\n",
    "7.Imputation<br>"
   ]
  },
  {
   "cell_type": "markdown",
   "metadata": {},
   "source": [
    "<font color=\"red\"><b>Standardization:</b></font><br>\n",
    "Standardization or Mean Removal is the process of transforming each feature vector into a normal distribution \n",
    "with mean 0 and variance 1.\n"
   ]
  },
  {
   "cell_type": "code",
   "execution_count": 2,
   "metadata": {},
   "outputs": [
    {
     "name": "stdout",
     "output_type": "stream",
     "text": [
      "Mean of each feature after Standardization :\n",
      "\n",
      "\n",
      "[-3.16286735e-15 -6.53060890e-15 -7.07889127e-16 -8.79983452e-16\n",
      "  6.13217737e-15 -1.12036918e-15 -4.42138027e-16  9.73249991e-16\n",
      " -1.97167024e-15 -1.45363120e-15 -9.07641468e-16 -8.85349205e-16\n",
      "  1.77367396e-15 -8.29155139e-16 -7.54180940e-16 -3.92187747e-16\n",
      "  7.91789988e-16 -2.73946068e-16 -3.10823423e-16 -3.36676596e-16\n",
      " -2.33322442e-15  1.76367415e-15 -1.19802625e-15  5.04966114e-16\n",
      " -5.21317026e-15 -2.17478837e-15  6.85645643e-16 -1.41265636e-16\n",
      " -2.28956670e-15  2.57517109e-15]\n",
      "\n",
      "Std. of each feature after Standardization :\n",
      "\n",
      "\n",
      "[1. 1. 1. 1. 1. 1. 1. 1. 1. 1. 1. 1. 1. 1. 1. 1. 1. 1. 1. 1. 1. 1. 1. 1.\n",
      " 1. 1. 1. 1. 1. 1.]\n"
     ]
    }
   ],
   "source": [
    "import sklearn.preprocessing as preprocessing\n",
    "from sklearn.datasets import load_breast_cancer\n",
    "import pandas as pd\n",
    "standardizer = preprocessing.StandardScaler()\n",
    "breast_cancer=load_breast_cancer()\n",
    "standardizer = standardizer.fit(breast_cancer.data)\n",
    "breast_cancer_standardized = standardizer.transform(breast_cancer.data)\n",
    "\n",
    "print('Mean of each feature after Standardization :\\n\\n')\n",
    "print(breast_cancer_standardized.mean(axis=0))\n",
    "print('\\nStd. of each feature after Standardization :\\n\\n')\n",
    "print(breast_cancer_standardized.std(axis=0))"
   ]
  },
  {
   "cell_type": "code",
   "execution_count": 42,
   "metadata": {},
   "outputs": [
    {
     "name": "stdout",
     "output_type": "stream",
     "text": [
      "[[10  1]\n",
      " [20  9]\n",
      " [30 30]\n",
      " [40 17]]\n"
     ]
    },
    {
     "data": {
      "text/plain": [
       "array([[-1.34164079, -1.23725106],\n",
       "       [-0.4472136 , -0.49023155],\n",
       "       [ 0.4472136 ,  1.47069466],\n",
       "       [ 1.34164079,  0.25678796]])"
      ]
     },
     "execution_count": 42,
     "metadata": {},
     "output_type": "execute_result"
    }
   ],
   "source": [
    "import numpy as np\n",
    "my_array=np.array([[10,1],[20,9],[30,30],[40,17]])\n",
    "print(my_array)\n",
    "standardizer = preprocessing.StandardScaler()\n",
    "standardizer = standardizer.fit(my_array)\n",
    "my_array_standardized = standardizer.transform(my_array)\n",
    "my_array_standardized"
   ]
  },
  {
   "cell_type": "markdown",
   "metadata": {},
   "source": [
    "<font color=\"red\"><b>Scaling</b></font>\n",
    "<br>Scaling transforms existing data values to lie between a minimum and maximum value.\n",
    "    <br><b>MinMaxScaler</b> transforms data to range 0 and 1.\n",
    "    <br><b>MaxAbsScaler</b> transforms data to range -1 and 1"
   ]
  },
  {
   "cell_type": "code",
   "execution_count": 4,
   "metadata": {},
   "outputs": [],
   "source": [
    "min_max_scaler = preprocessing.MinMaxScaler(feature_range=(0, 10)).fit(breast_cancer.data)\n",
    "breast_cancer_minmaxscaled10 = min_max_scaler.transform(breast_cancer.data)"
   ]
  },
  {
   "cell_type": "code",
   "execution_count": 5,
   "metadata": {},
   "outputs": [
    {
     "data": {
      "text/plain": [
       "array([[5.21037437, 0.22658099, 5.45988529, ..., 9.12027491, 5.98462448,\n",
       "        4.18863964],\n",
       "       [6.43144493, 2.72573554, 6.15783291, ..., 6.39175258, 2.33589592,\n",
       "        2.22878132],\n",
       "       [6.01495575, 3.90260399, 5.95743211, ..., 8.35051546, 4.03705894,\n",
       "        2.13433032],\n",
       "       ...,\n",
       "       [4.55251077, 6.21237741, 4.45788128, ..., 4.87285223, 1.28720678,\n",
       "        1.51908697],\n",
       "       [6.44564343, 6.63510315, 6.65537972, ..., 9.10652921, 4.97141731,\n",
       "        4.52315361],\n",
       "       [0.36868759, 5.01521813, 0.28539838, ..., 0.        , 2.57441356,\n",
       "        1.00682146]])"
      ]
     },
     "execution_count": 5,
     "metadata": {},
     "output_type": "execute_result"
    }
   ],
   "source": [
    "breast_cancer_minmaxscaled10"
   ]
  },
  {
   "cell_type": "code",
   "execution_count": 7,
   "metadata": {},
   "outputs": [
    {
     "data": {
      "text/plain": [
       "array([[0.63998577, 0.26425662, 0.65145889, ..., 0.91202749, 0.69313046,\n",
       "        0.57301205],\n",
       "       [0.73176805, 0.45239308, 0.70503979, ..., 0.63917526, 0.41428141,\n",
       "        0.42901205],\n",
       "       [0.70046247, 0.54098778, 0.68965517, ..., 0.83505155, 0.54429045,\n",
       "        0.42207229],\n",
       "       ...,\n",
       "       [0.59053718, 0.71486762, 0.57453581, ..., 0.48728522, 0.33413679,\n",
       "        0.37686747],\n",
       "       [0.73283529, 0.74669043, 0.74323607, ..., 0.91065292, 0.6156975 ,\n",
       "        0.59759036],\n",
       "       [0.27605834, 0.62474542, 0.25421751, ..., 0.        , 0.43250979,\n",
       "        0.33922892]])"
      ]
     },
     "execution_count": 7,
     "metadata": {},
     "output_type": "execute_result"
    }
   ],
   "source": [
    "max_abs_scaler = preprocessing.MaxAbsScaler().fit(breast_cancer.data)\n",
    "breast_cancer_maxabsscaled = max_abs_scaler.transform(breast_cancer.data)\n",
    "breast_cancer_maxabsscaled"
   ]
  },
  {
   "cell_type": "code",
   "execution_count": 48,
   "metadata": {},
   "outputs": [
    {
     "data": {
      "text/plain": [
       "array([[ 0.        ,  0.        ],\n",
       "       [ 3.33333333,  4.75      ],\n",
       "       [ 6.66666667, 10.        ],\n",
       "       [10.        ,  6.75      ]])"
      ]
     },
     "execution_count": 48,
     "metadata": {},
     "output_type": "execute_result"
    }
   ],
   "source": [
    "my_array=np.array([[10,-10],[20,9],[30,30],[40,17]])\n",
    "min_max_scaler = preprocessing.MinMaxScaler(feature_range=(0, 10)).fit(my_array)\n",
    "my_array_minmaxscaled10 = min_max_scaler.transform(my_array)\n",
    "my_array_minmaxscaled10"
   ]
  },
  {
   "cell_type": "code",
   "execution_count": 47,
   "metadata": {},
   "outputs": [
    {
     "data": {
      "text/plain": [
       "array([[ 0.25      , -0.33333333],\n",
       "       [ 0.5       ,  0.3       ],\n",
       "       [ 0.75      ,  1.        ],\n",
       "       [ 1.        ,  0.56666667]])"
      ]
     },
     "execution_count": 47,
     "metadata": {},
     "output_type": "execute_result"
    }
   ],
   "source": [
    "my_array=np.array([[10,-10],[20,9],[30,30],[40,17]])\n",
    "max_abs_scaler = preprocessing.MaxAbsScaler().fit(my_array)\n",
    "my_array_maxabsscaled = max_abs_scaler.transform(my_array)\n",
    "my_array_maxabsscaled"
   ]
  },
  {
   "cell_type": "markdown",
   "metadata": {},
   "source": [
    "<font color=\"red\"><b>Normalization</b></font><br>\n",
    "Normalization scales each sample to have a unit norm.<br>\n",
    "Normalization can be achieved with 'l1', 'l2', and 'max' norms.<br>\n",
    "'l1' norm makes the sum of absolute values of each row as 1, and 'l2' norm makes the sum of squares of each row as 1.<br>\n",
    "'l1' norm is insensitive to outliers.<br>\n",
    "By default l2 norm is considered. Hence, removing outliers is recommended before applying l2 norm.<br>"
   ]
  },
  {
   "cell_type": "code",
   "execution_count": 10,
   "metadata": {},
   "outputs": [
    {
     "data": {
      "text/plain": [
       "array([[5.04461573e-03, 2.91067878e-03, 3.44346198e-02, ...,\n",
       "        7.44214015e-05, 1.29017660e-04, 3.33410122e-05],\n",
       "       [5.49864230e-03, 4.75016401e-03, 3.55259874e-02, ...,\n",
       "        4.97203436e-05, 7.35112606e-05, 2.37962634e-05],\n",
       "       [5.81273050e-03, 6.27326171e-03, 3.83776011e-02, ...,\n",
       "        7.17365928e-05, 1.06660210e-04, 2.58546946e-05],\n",
       "       ...,\n",
       "       [7.00344278e-03, 1.18467875e-02, 4.56911357e-02, ...,\n",
       "        5.98245895e-05, 9.35761210e-05, 3.29921220e-05],\n",
       "       [5.68390968e-03, 8.09267334e-03, 3.86561042e-02, ...,\n",
       "        7.31182555e-05, 1.12767664e-04, 3.42138252e-05],\n",
       "       [1.18802525e-02, 3.75697675e-02, 7.33636209e-02, ...,\n",
       "        0.00000000e+00, 4.39538722e-04, 1.07764300e-04]])"
      ]
     },
     "execution_count": 10,
     "metadata": {},
     "output_type": "execute_result"
    }
   ],
   "source": [
    "normalizer = preprocessing.Normalizer(norm='l1').fit(breast_cancer.data)\n",
    "\n",
    "breast_cancer_normalized = normalizer.transform(breast_cancer.data)\n",
    "breast_cancer_normalized"
   ]
  },
  {
   "cell_type": "code",
   "execution_count": 73,
   "metadata": {},
   "outputs": [
    {
     "data": {
      "text/plain": [
       "array([[ 0.70710678, -0.70710678],\n",
       "       [ 0.91192151,  0.41036468],\n",
       "       [ 0.70710678,  0.70710678],\n",
       "       [ 0.92033092,  0.39114064]])"
      ]
     },
     "execution_count": 73,
     "metadata": {},
     "output_type": "execute_result"
    }
   ],
   "source": [
    "my_array=np.array([[10,-10],[20,9],[30,30],[40,17]])\n",
    "normalizer = preprocessing.Normalizer(norm='l2').fit(my_array)\n",
    "my_array_normalized = normalizer.transform(my_array)\n",
    "my_array_normalized"
   ]
  },
  {
   "cell_type": "markdown",
   "metadata": {},
   "source": [
    "<font color=\"red\"><b>Binarization</b></font><br>\n",
    "Binarization is the process of transforming data points to 0 or 1 based on a given threshold.<br>\n",
    "\n",
    "Any value above the threshold is transformed to 1, and any value below the threshold is transformed to 0.\n",
    "By default, a threshold of 0 is used."
   ]
  },
  {
   "cell_type": "code",
   "execution_count": 12,
   "metadata": {
    "scrolled": true
   },
   "outputs": [
    {
     "name": "stdout",
     "output_type": "stream",
     "text": [
      "[[1. 1. 1. 1. 0.]\n",
      " [1. 1. 1. 1. 0.]\n",
      " [1. 1. 1. 1. 0.]\n",
      " [1. 1. 1. 1. 0.]\n",
      " [1. 1. 1. 1. 0.]]\n"
     ]
    }
   ],
   "source": [
    "binarizer = preprocessing.Binarizer(threshold=3.0).fit(breast_cancer.data)\n",
    "breast_cancer_binarized = binarizer.transform(breast_cancer.data)\n",
    "print(breast_cancer_binarized[:5,:5])"
   ]
  },
  {
   "cell_type": "code",
   "execution_count": 57,
   "metadata": {},
   "outputs": [
    {
     "data": {
      "text/plain": [
       "array([[0],\n",
       "       [0],\n",
       "       [0],\n",
       "       [1],\n",
       "       [1],\n",
       "       [1]])"
      ]
     },
     "execution_count": 57,
     "metadata": {},
     "output_type": "execute_result"
    }
   ],
   "source": [
    "my_array=np.array([1,2,3,4,5,6]).reshape(-1,1)\n",
    "binarizer = preprocessing.Binarizer(threshold=3.0).fit(my_array)\n",
    "my_array_binarized = binarizer.transform(my_array)\n",
    "my_array_binarized"
   ]
  },
  {
   "cell_type": "markdown",
   "metadata": {},
   "source": [
    "<font color=\"red\"><b>OneHotEncoder</b></font><br>\n",
    "OneHotEncoder converts categorical integer values into one-hot vectors. In an on-hot vector, every category is transformed into a binary attribute having only 0 and 1 values"
   ]
  },
  {
   "cell_type": "code",
   "execution_count": 18,
   "metadata": {},
   "outputs": [
    {
     "name": "stdout",
     "output_type": "stream",
     "text": [
      "[[1. 0. 0. 0.]]\n",
      "[[0. 1. 0. 0.]]\n",
      "[[0. 0. 1. 0.]]\n"
     ]
    }
   ],
   "source": [
    "onehotencoder = preprocessing.OneHotEncoder(categories='auto')\n",
    "onehotencoder = onehotencoder.fit([[1], [1], [1], [2], [3], [4]])\n",
    "\n",
    "# Transforming category values 1 and 2 to one-hot vectors\n",
    "print(onehotencoder.transform([[1]]).toarray())\n",
    "print(onehotencoder.transform([[2]]).toarray())\n",
    "print(onehotencoder.transform([[3]]).toarray())"
   ]
  },
  {
   "cell_type": "markdown",
   "metadata": {},
   "source": [
    "<font color=\"red\"><b>Label Encoding</b></font><br>\n",
    "\n",
    "Label Encoding is a step in which, in which categorical features are represented as categorical integers. An example of transforming categorical values [\"benign\",\"malignant\"]into[0, 1]` is"
   ]
  },
  {
   "cell_type": "code",
   "execution_count": 24,
   "metadata": {},
   "outputs": [
    {
     "data": {
      "text/plain": [
       "array([1, 0], dtype=int64)"
      ]
     },
     "execution_count": 24,
     "metadata": {},
     "output_type": "execute_result"
    }
   ],
   "source": [
    "labels = ['malignant', 'benign', 'malignant', 'benign']\n",
    "\n",
    "labelencoder = preprocessing.LabelEncoder()\n",
    "\n",
    "labelencoder = labelencoder.fit(labels)\n",
    "\n",
    "bc_labelencoded = labelencoder.transform(breast_cancer.target_names)\n",
    "bc_labelencoded"
   ]
  },
  {
   "cell_type": "markdown",
   "metadata": {},
   "source": [
    "<font color=\"red\"><b>Imputation </b></font><br>\n",
    "replaces missing values with either median, mean, or the most common value of the column or row in which the missing values exist.\n",
    "Below example replaces missing values, represented by np.nan, with the mean of respective column (axis 0)."
   ]
  },
  {
   "cell_type": "code",
   "execution_count": 30,
   "metadata": {},
   "outputs": [
    {
     "data": {
      "text/plain": [
       "array([[1.799e+01, 1.038e+01, 1.228e+02, ..., 2.654e-01, 4.601e-01,\n",
       "        1.189e-01],\n",
       "       [2.057e+01, 1.777e+01, 1.329e+02, ..., 1.860e-01, 2.750e-01,\n",
       "        8.902e-02],\n",
       "       [1.969e+01, 2.125e+01, 1.300e+02, ..., 2.430e-01, 3.613e-01,\n",
       "        8.758e-02],\n",
       "       ...,\n",
       "       [1.660e+01, 2.808e+01, 1.083e+02, ..., 1.418e-01, 2.218e-01,\n",
       "        7.820e-02],\n",
       "       [2.060e+01, 2.933e+01, 1.401e+02, ..., 2.650e-01, 4.087e-01,\n",
       "        1.240e-01],\n",
       "       [7.760e+00, 2.454e+01, 4.792e+01, ..., 0.000e+00, 2.871e-01,\n",
       "        7.039e-02]])"
      ]
     },
     "execution_count": 30,
     "metadata": {},
     "output_type": "execute_result"
    }
   ],
   "source": [
    "from sklearn.impute import SimpleImputer\n",
    "import numpy as np\n",
    "\n",
    "imputer = SimpleImputer(missing_values = np.nan, strategy = 'mean',verbose=0)\n",
    "imputer = imputer.fit(breast_cancer.data)\n",
    "breast_cancer_imputed = imputer.transform(breast_cancer.data)\n",
    "breast_cancer_imputed"
   ]
  },
  {
   "cell_type": "code",
   "execution_count": 60,
   "metadata": {},
   "outputs": [
    {
     "data": {
      "text/plain": [
       "array([[1. ],\n",
       "       [2. ],\n",
       "       [3. ],\n",
       "       [3.5],\n",
       "       [4. ],\n",
       "       [5. ],\n",
       "       [6. ]])"
      ]
     },
     "execution_count": 60,
     "metadata": {},
     "output_type": "execute_result"
    }
   ],
   "source": [
    "my_array=np.array([1,2,3,np.nan,4,5,6]).reshape(-1,1)\n",
    "imputer = SimpleImputer(missing_values = np.nan, strategy = 'mean',verbose=0)\n",
    "imputer = imputer.fit(my_array)\n",
    "my_array_imputed = imputer.transform(my_array)\n",
    "my_array_imputed"
   ]
  },
  {
   "cell_type": "code",
   "execution_count": 61,
   "metadata": {},
   "outputs": [
    {
     "data": {
      "text/plain": [
       "array([[1.],\n",
       "       [2.],\n",
       "       [3.],\n",
       "       [6.],\n",
       "       [6.],\n",
       "       [5.],\n",
       "       [6.]])"
      ]
     },
     "execution_count": 61,
     "metadata": {},
     "output_type": "execute_result"
    }
   ],
   "source": [
    "my_array=np.array([1,2,3,np.nan,6,5,6]).reshape(-1,1)\n",
    "imputer = SimpleImputer(missing_values = np.nan, strategy = 'most_frequent',verbose=0)\n",
    "imputer = imputer.fit(my_array)\n",
    "my_array_imputed = imputer.transform(my_array)\n",
    "my_array_imputed"
   ]
  },
  {
   "cell_type": "code",
   "execution_count": 63,
   "metadata": {},
   "outputs": [
    {
     "data": {
      "text/plain": [
       "array([1., 2., 3., 0., 6., 5., 6.])"
      ]
     },
     "execution_count": 63,
     "metadata": {},
     "output_type": "execute_result"
    }
   ],
   "source": [
    "my_array=np.array([1,2,3,np.nan,6,5,6]).reshape(-1,1)\n",
    "imputer = SimpleImputer(missing_values = np.nan, strategy = 'constant',fill_value =0,verbose=0)\n",
    "imputer = imputer.fit(my_array)\n",
    "my_array_imputed = imputer.transform(my_array)\n",
    "my_array_imputed.ravel()"
   ]
  },
  {
   "cell_type": "code",
   "execution_count": null,
   "metadata": {},
   "outputs": [],
   "source": []
  }
 ],
 "metadata": {
  "kernelspec": {
   "display_name": "Python 3",
   "language": "python",
   "name": "python3"
  },
  "language_info": {
   "codemirror_mode": {
    "name": "ipython",
    "version": 3
   },
   "file_extension": ".py",
   "mimetype": "text/x-python",
   "name": "python",
   "nbconvert_exporter": "python",
   "pygments_lexer": "ipython3",
   "version": "3.7.4"
  }
 },
 "nbformat": 4,
 "nbformat_minor": 2
}
