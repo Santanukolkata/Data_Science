{
  "nbformat": 4,
  "nbformat_minor": 0,
  "metadata": {
    "kernelspec": {
      "display_name": "Python 3",
      "language": "python",
      "name": "python3"
    },
    "language_info": {
      "codemirror_mode": {
        "name": "ipython",
        "version": 3
      },
      "file_extension": ".py",
      "mimetype": "text/x-python",
      "name": "python",
      "nbconvert_exporter": "python",
      "pygments_lexer": "ipython3",
      "version": "3.7.4"
    },
    "colab": {
      "name": "Retail_project.ipynb",
      "provenance": [],
      "collapsed_sections": [],
      "toc_visible": true,
      "include_colab_link": true
    }
  },
  "cells": [
    {
      "cell_type": "markdown",
      "metadata": {
        "id": "view-in-github",
        "colab_type": "text"
      },
      "source": [
        "<a href=\"https://colab.research.google.com/github/Santanukolkata/Data_Science/blob/master/Ad_hoc_projects/Retail_project.ipynb\" target=\"_parent\"><img src=\"https://colab.research.google.com/assets/colab-badge.svg\" alt=\"Open In Colab\"/></a>"
      ]
    },
    {
      "cell_type": "code",
      "metadata": {
        "id": "hlsdykOdKrDP",
        "colab_type": "code",
        "colab": {}
      },
      "source": [
        "import pandas as pd\n",
        "import matplotlib.pyplot as plt\n",
        "%matplotlib inline\n",
        "import numpy as np\n",
        "import datetime as dt"
      ],
      "execution_count": 0,
      "outputs": []
    },
    {
      "cell_type": "code",
      "metadata": {
        "id": "1Nu8IzTyLII9",
        "colab_type": "code",
        "colab": {
          "base_uri": "https://localhost:8080/",
          "height": 124
        },
        "outputId": "4be0a8f3-e666-4520-c0ba-5153482bd104"
      },
      "source": [
        "from google.colab import drive\n",
        "drive.mount('/content/drive')"
      ],
      "execution_count": 1,
      "outputs": [
        {
          "output_type": "stream",
          "text": [
            "Go to this URL in a browser: https://accounts.google.com/o/oauth2/auth?client_id=947318989803-6bn6qk8qdgf4n4g3pfee6491hc0brc4i.apps.googleusercontent.com&redirect_uri=urn%3aietf%3awg%3aoauth%3a2.0%3aoob&response_type=code&scope=email%20https%3a%2f%2fwww.googleapis.com%2fauth%2fdocs.test%20https%3a%2f%2fwww.googleapis.com%2fauth%2fdrive%20https%3a%2f%2fwww.googleapis.com%2fauth%2fdrive.photos.readonly%20https%3a%2f%2fwww.googleapis.com%2fauth%2fpeopleapi.readonly\n",
            "\n",
            "Enter your authorization code:\n",
            "··········\n",
            "Mounted at /content/drive\n"
          ],
          "name": "stdout"
        }
      ]
    },
    {
      "cell_type": "code",
      "metadata": {
        "id": "4AYfx4fAKrDT",
        "colab_type": "code",
        "colab": {
          "base_uri": "https://localhost:8080/",
          "height": 52
        },
        "outputId": "8e319364-c736-4b79-a1dd-99dec1f6465a"
      },
      "source": [
        "%%time\n",
        "df_ret=pd.read_excel('/content/drive/My Drive/Colab Notebooks/Retail/train_retail.xlsx')\n",
        "df_ret =df_ret.append(pd.read_excel('/content/drive/My Drive/Colab Notebooks/Retail/test_retail.xlsx')) "
      ],
      "execution_count": 4,
      "outputs": [
        {
          "output_type": "stream",
          "text": [
            "CPU times: user 35.5 s, sys: 188 ms, total: 35.7 s\n",
            "Wall time: 37.5 s\n"
          ],
          "name": "stdout"
        }
      ]
    },
    {
      "cell_type": "markdown",
      "metadata": {
        "id": "F9xncwkzKrDX",
        "colab_type": "text"
      },
      "source": [
        "# Perform a preliminary data inspection and data cleaning."
      ]
    },
    {
      "cell_type": "code",
      "metadata": {
        "id": "QUd8-qxpKrDY",
        "colab_type": "code",
        "colab": {
          "base_uri": "https://localhost:8080/",
          "height": 69
        },
        "outputId": "9719573a-8fdb-45a3-ea1e-a8f52fcb52a2"
      },
      "source": [
        "df_ret.columns"
      ],
      "execution_count": 5,
      "outputs": [
        {
          "output_type": "execute_result",
          "data": {
            "text/plain": [
              "Index(['InvoiceNo', 'StockCode', 'Description', 'Quantity', 'InvoiceDate',\n",
              "       'UnitPrice', 'CustomerID', 'Country'],\n",
              "      dtype='object')"
            ]
          },
          "metadata": {
            "tags": []
          },
          "execution_count": 5
        }
      ]
    },
    {
      "cell_type": "code",
      "metadata": {
        "id": "040qOOQcKrDb",
        "colab_type": "code",
        "colab": {
          "base_uri": "https://localhost:8080/",
          "height": 243
        },
        "outputId": "c4f827f3-e637-481a-d78d-e32eb1f29624"
      },
      "source": [
        "df_ret.info()"
      ],
      "execution_count": 6,
      "outputs": [
        {
          "output_type": "stream",
          "text": [
            "<class 'pandas.core.frame.DataFrame'>\n",
            "Int64Index: 541909 entries, 0 to 162572\n",
            "Data columns (total 8 columns):\n",
            "InvoiceNo      541909 non-null object\n",
            "StockCode      541909 non-null object\n",
            "Description    540455 non-null object\n",
            "Quantity       541909 non-null int64\n",
            "InvoiceDate    541909 non-null datetime64[ns]\n",
            "UnitPrice      541909 non-null float64\n",
            "CustomerID     406829 non-null float64\n",
            "Country        541909 non-null object\n",
            "dtypes: datetime64[ns](1), float64(2), int64(1), object(4)\n",
            "memory usage: 37.2+ MB\n"
          ],
          "name": "stdout"
        }
      ]
    },
    {
      "cell_type": "code",
      "metadata": {
        "id": "k8lhsGxCKrDf",
        "colab_type": "code",
        "colab": {
          "base_uri": "https://localhost:8080/",
          "height": 289
        },
        "outputId": "5e637a00-ad6a-4725-fa93-59fca0fe64fd"
      },
      "source": [
        "df_ret.head()"
      ],
      "execution_count": 7,
      "outputs": [
        {
          "output_type": "execute_result",
          "data": {
            "text/html": [
              "<div>\n",
              "<style scoped>\n",
              "    .dataframe tbody tr th:only-of-type {\n",
              "        vertical-align: middle;\n",
              "    }\n",
              "\n",
              "    .dataframe tbody tr th {\n",
              "        vertical-align: top;\n",
              "    }\n",
              "\n",
              "    .dataframe thead th {\n",
              "        text-align: right;\n",
              "    }\n",
              "</style>\n",
              "<table border=\"1\" class=\"dataframe\">\n",
              "  <thead>\n",
              "    <tr style=\"text-align: right;\">\n",
              "      <th></th>\n",
              "      <th>InvoiceNo</th>\n",
              "      <th>StockCode</th>\n",
              "      <th>Description</th>\n",
              "      <th>Quantity</th>\n",
              "      <th>InvoiceDate</th>\n",
              "      <th>UnitPrice</th>\n",
              "      <th>CustomerID</th>\n",
              "      <th>Country</th>\n",
              "    </tr>\n",
              "  </thead>\n",
              "  <tbody>\n",
              "    <tr>\n",
              "      <th>0</th>\n",
              "      <td>558904</td>\n",
              "      <td>22292</td>\n",
              "      <td>HANGING CHICK  YELLOW DECORATION</td>\n",
              "      <td>1</td>\n",
              "      <td>2011-07-04 16:18:00</td>\n",
              "      <td>1.25</td>\n",
              "      <td>NaN</td>\n",
              "      <td>United Kingdom</td>\n",
              "    </tr>\n",
              "    <tr>\n",
              "      <th>1</th>\n",
              "      <td>556072</td>\n",
              "      <td>20970</td>\n",
              "      <td>PINK FLORAL FELTCRAFT SHOULDER BAG</td>\n",
              "      <td>8</td>\n",
              "      <td>2011-06-08 14:57:00</td>\n",
              "      <td>3.75</td>\n",
              "      <td>16126.0</td>\n",
              "      <td>United Kingdom</td>\n",
              "    </tr>\n",
              "    <tr>\n",
              "      <th>2</th>\n",
              "      <td>551739</td>\n",
              "      <td>21559</td>\n",
              "      <td>STRAWBERRY LUNCH BOX WITH CUTLERY</td>\n",
              "      <td>2</td>\n",
              "      <td>2011-05-04 10:58:00</td>\n",
              "      <td>2.55</td>\n",
              "      <td>18118.0</td>\n",
              "      <td>United Kingdom</td>\n",
              "    </tr>\n",
              "    <tr>\n",
              "      <th>3</th>\n",
              "      <td>541658</td>\n",
              "      <td>21988</td>\n",
              "      <td>PACK OF 6 SKULL PAPER PLATES</td>\n",
              "      <td>1</td>\n",
              "      <td>2011-01-20 12:16:00</td>\n",
              "      <td>0.85</td>\n",
              "      <td>15529.0</td>\n",
              "      <td>United Kingdom</td>\n",
              "    </tr>\n",
              "    <tr>\n",
              "      <th>4</th>\n",
              "      <td>538364</td>\n",
              "      <td>85099C</td>\n",
              "      <td>JUMBO  BAG BAROQUE BLACK WHITE</td>\n",
              "      <td>10</td>\n",
              "      <td>2010-12-10 17:26:00</td>\n",
              "      <td>1.95</td>\n",
              "      <td>14448.0</td>\n",
              "      <td>United Kingdom</td>\n",
              "    </tr>\n",
              "  </tbody>\n",
              "</table>\n",
              "</div>"
            ],
            "text/plain": [
              "  InvoiceNo StockCode  ... CustomerID         Country\n",
              "0    558904     22292  ...        NaN  United Kingdom\n",
              "1    556072     20970  ...    16126.0  United Kingdom\n",
              "2    551739     21559  ...    18118.0  United Kingdom\n",
              "3    541658     21988  ...    15529.0  United Kingdom\n",
              "4    538364    85099C  ...    14448.0  United Kingdom\n",
              "\n",
              "[5 rows x 8 columns]"
            ]
          },
          "metadata": {
            "tags": []
          },
          "execution_count": 7
        }
      ]
    },
    {
      "cell_type": "code",
      "metadata": {
        "id": "xmzA0LCtKrDi",
        "colab_type": "code",
        "colab": {
          "base_uri": "https://localhost:8080/",
          "height": 35
        },
        "outputId": "8d2fe393-4940-4a2f-9d56-0e98154c9914"
      },
      "source": [
        "df_ret.shape"
      ],
      "execution_count": 8,
      "outputs": [
        {
          "output_type": "execute_result",
          "data": {
            "text/plain": [
              "(541909, 8)"
            ]
          },
          "metadata": {
            "tags": []
          },
          "execution_count": 8
        }
      ]
    },
    {
      "cell_type": "markdown",
      "metadata": {
        "id": "CjlBkev-KrDl",
        "colab_type": "text"
      },
      "source": [
        "**Check for missing data and formulate an apt strategy to treat them.**"
      ]
    },
    {
      "cell_type": "code",
      "metadata": {
        "id": "d42MMAKAKrDm",
        "colab_type": "code",
        "colab": {
          "base_uri": "https://localhost:8080/",
          "height": 173
        },
        "outputId": "09e694ce-cfae-4579-8dfc-db13d241cacc"
      },
      "source": [
        "#Checking for missing Data\n",
        "df_ret.isnull().sum()"
      ],
      "execution_count": 9,
      "outputs": [
        {
          "output_type": "execute_result",
          "data": {
            "text/plain": [
              "InvoiceNo           0\n",
              "StockCode           0\n",
              "Description      1454\n",
              "Quantity            0\n",
              "InvoiceDate         0\n",
              "UnitPrice           0\n",
              "CustomerID     135080\n",
              "Country             0\n",
              "dtype: int64"
            ]
          },
          "metadata": {
            "tags": []
          },
          "execution_count": 9
        }
      ]
    },
    {
      "cell_type": "code",
      "metadata": {
        "id": "5AoY2av1KrDr",
        "colab_type": "code",
        "colab": {
          "base_uri": "https://localhost:8080/",
          "height": 35
        },
        "outputId": "09b90835-0f9b-4305-8d2b-2febb5138f35"
      },
      "source": [
        "df_ret =df_ret[df_ret['CustomerID'].isna()==False]\n",
        "df_ret.shape"
      ],
      "execution_count": 10,
      "outputs": [
        {
          "output_type": "execute_result",
          "data": {
            "text/plain": [
              "(406829, 8)"
            ]
          },
          "metadata": {
            "tags": []
          },
          "execution_count": 10
        }
      ]
    },
    {
      "cell_type": "code",
      "metadata": {
        "id": "XUS1XbSNKrDu",
        "colab_type": "code",
        "colab": {
          "base_uri": "https://localhost:8080/",
          "height": 173
        },
        "outputId": "cfa5c61a-a500-4a9c-a558-d74977685046"
      },
      "source": [
        "df_ret.isnull().sum()"
      ],
      "execution_count": 11,
      "outputs": [
        {
          "output_type": "execute_result",
          "data": {
            "text/plain": [
              "InvoiceNo      0\n",
              "StockCode      0\n",
              "Description    0\n",
              "Quantity       0\n",
              "InvoiceDate    0\n",
              "UnitPrice      0\n",
              "CustomerID     0\n",
              "Country        0\n",
              "dtype: int64"
            ]
          },
          "metadata": {
            "tags": []
          },
          "execution_count": 11
        }
      ]
    },
    {
      "cell_type": "markdown",
      "metadata": {
        "id": "WCtCpiR0KrDx",
        "colab_type": "text"
      },
      "source": [
        " **Remove duplicate data records.**"
      ]
    },
    {
      "cell_type": "code",
      "metadata": {
        "id": "aLkUxgEgKrDx",
        "colab_type": "code",
        "colab": {}
      },
      "source": [
        "df_ret =df_ret.drop_duplicates()"
      ],
      "execution_count": 0,
      "outputs": []
    },
    {
      "cell_type": "code",
      "metadata": {
        "id": "fBPF0zB4KrD1",
        "colab_type": "code",
        "colab": {
          "base_uri": "https://localhost:8080/",
          "height": 35
        },
        "outputId": "3e4becaf-4433-4642-ff7f-9199b22039ab"
      },
      "source": [
        "df_ret.shape"
      ],
      "execution_count": 13,
      "outputs": [
        {
          "output_type": "execute_result",
          "data": {
            "text/plain": [
              "(401604, 8)"
            ]
          },
          "metadata": {
            "tags": []
          },
          "execution_count": 13
        }
      ]
    },
    {
      "cell_type": "markdown",
      "metadata": {
        "id": "EOonqoV6KrD5",
        "colab_type": "text"
      },
      "source": [
        "## Perform descriptive analytics on the given data.\n",
        "**Top 10 Items by Frequency**"
      ]
    },
    {
      "cell_type": "code",
      "metadata": {
        "id": "1lM1mvrzKrD5",
        "colab_type": "code",
        "colab": {
          "base_uri": "https://localhost:8080/",
          "height": 225
        },
        "outputId": "f5d79a8c-0a95-4c40-99cf-9866146e3f74"
      },
      "source": [
        "neg_order=df_ret[df_ret['Quantity'] < 0].groupby('Description').count()['Quantity']\n",
        "top_10_refund_count=neg_order.sort_values(ascending=False).head(10)\n",
        "top_10_refund_count"
      ],
      "execution_count": 14,
      "outputs": [
        {
          "output_type": "execute_result",
          "data": {
            "text/plain": [
              "Description\n",
              "REGENCY CAKESTAND 3 TIER             180\n",
              "Manual                               175\n",
              "POSTAGE                               97\n",
              "JAM MAKING SET WITH JARS              86\n",
              "Discount                              77\n",
              "SET OF 3 CAKE TINS PANTRY DESIGN      72\n",
              "STRAWBERRY CERAMIC TRINKET BOX        54\n",
              "ROSES REGENCY TEACUP AND SAUCER       53\n",
              "RECIPE BOX PANTRY YELLOW DESIGN       47\n",
              "JUMBO BAG RED RETROSPOT               44\n",
              "Name: Quantity, dtype: int64"
            ]
          },
          "metadata": {
            "tags": []
          },
          "execution_count": 14
        }
      ]
    },
    {
      "cell_type": "code",
      "metadata": {
        "id": "lWp1cxvLKrD8",
        "colab_type": "code",
        "colab": {
          "base_uri": "https://localhost:8080/",
          "height": 485
        },
        "outputId": "4900a5f2-5cfd-4393-95f2-8e0d6a83266c"
      },
      "source": [
        "top_10_refund_count.plot(kind='bar')"
      ],
      "execution_count": 15,
      "outputs": [
        {
          "output_type": "execute_result",
          "data": {
            "text/plain": [
              "<matplotlib.axes._subplots.AxesSubplot at 0x7f1b990c2fd0>"
            ]
          },
          "metadata": {
            "tags": []
          },
          "execution_count": 15
        },
        {
          "output_type": "display_data",
          "data": {
            "image/png": "[encoded data removed]",
            "text/plain": [
              "<Figure size 432x288 with 1 Axes>"
            ]
          },
          "metadata": {
            "tags": []
          }
        }
      ]
    },
    {
      "cell_type": "markdown",
      "metadata": {
        "id": "jZH3zHfEKrD_",
        "colab_type": "text"
      },
      "source": [
        "**Top 10 Items by Total amount**"
      ]
    },
    {
      "cell_type": "code",
      "metadata": {
        "id": "_0_5j5QHKrD_",
        "colab_type": "code",
        "colab": {
          "base_uri": "https://localhost:8080/",
          "height": 493
        },
        "outputId": "2323eb26-48c8-46dc-8052-7848b4ecf678"
      },
      "source": [
        "neg_order=df_ret[df_ret['Quantity'] < 0].groupby('Description').sum()['UnitPrice']\n",
        "top_10_refund_total_amount=neg_order.sort_values(ascending=True).head(10)\n",
        "top_10_refund_total_amount.plot(kind='bar')"
      ],
      "execution_count": 16,
      "outputs": [
        {
          "output_type": "execute_result",
          "data": {
            "text/plain": [
              "<matplotlib.axes._subplots.AxesSubplot at 0x7f1b92d7a0f0>"
            ]
          },
          "metadata": {
            "tags": []
          },
          "execution_count": 16
        },
        {
          "output_type": "display_data",
          "data": {
            "image/png": "[encoded data removed]",
            "text/plain": [
              "<Figure size 432x288 with 1 Axes>"
            ]
          },
          "metadata": {
            "tags": []
          }
        }
      ]
    },
    {
      "cell_type": "markdown",
      "metadata": {
        "id": "eI5xmoF5KrEC",
        "colab_type": "text"
      },
      "source": [
        "**Outliers**"
      ]
    },
    {
      "cell_type": "code",
      "metadata": {
        "id": "4mL4r4UMKrED",
        "colab_type": "code",
        "colab": {
          "base_uri": "https://localhost:8080/",
          "height": 294
        },
        "outputId": "0309b8ac-85e5-4330-c437-eb4bcd81b911"
      },
      "source": [
        "df_ret[['Quantity','UnitPrice']].describe()"
      ],
      "execution_count": 17,
      "outputs": [
        {
          "output_type": "execute_result",
          "data": {
            "text/html": [
              "<div>\n",
              "<style scoped>\n",
              "    .dataframe tbody tr th:only-of-type {\n",
              "        vertical-align: middle;\n",
              "    }\n",
              "\n",
              "    .dataframe tbody tr th {\n",
              "        vertical-align: top;\n",
              "    }\n",
              "\n",
              "    .dataframe thead th {\n",
              "        text-align: right;\n",
              "    }\n",
              "</style>\n",
              "<table border=\"1\" class=\"dataframe\">\n",
              "  <thead>\n",
              "    <tr style=\"text-align: right;\">\n",
              "      <th></th>\n",
              "      <th>Quantity</th>\n",
              "      <th>UnitPrice</th>\n",
              "    </tr>\n",
              "  </thead>\n",
              "  <tbody>\n",
              "    <tr>\n",
              "      <th>count</th>\n",
              "      <td>401604.000000</td>\n",
              "      <td>401604.000000</td>\n",
              "    </tr>\n",
              "    <tr>\n",
              "      <th>mean</th>\n",
              "      <td>12.183273</td>\n",
              "      <td>3.474064</td>\n",
              "    </tr>\n",
              "    <tr>\n",
              "      <th>std</th>\n",
              "      <td>250.283037</td>\n",
              "      <td>69.764035</td>\n",
              "    </tr>\n",
              "    <tr>\n",
              "      <th>min</th>\n",
              "      <td>-80995.000000</td>\n",
              "      <td>0.000000</td>\n",
              "    </tr>\n",
              "    <tr>\n",
              "      <th>25%</th>\n",
              "      <td>2.000000</td>\n",
              "      <td>1.250000</td>\n",
              "    </tr>\n",
              "    <tr>\n",
              "      <th>50%</th>\n",
              "      <td>5.000000</td>\n",
              "      <td>1.950000</td>\n",
              "    </tr>\n",
              "    <tr>\n",
              "      <th>75%</th>\n",
              "      <td>12.000000</td>\n",
              "      <td>3.750000</td>\n",
              "    </tr>\n",
              "    <tr>\n",
              "      <th>max</th>\n",
              "      <td>80995.000000</td>\n",
              "      <td>38970.000000</td>\n",
              "    </tr>\n",
              "  </tbody>\n",
              "</table>\n",
              "</div>"
            ],
            "text/plain": [
              "            Quantity      UnitPrice\n",
              "count  401604.000000  401604.000000\n",
              "mean       12.183273       3.474064\n",
              "std       250.283037      69.764035\n",
              "min    -80995.000000       0.000000\n",
              "25%         2.000000       1.250000\n",
              "50%         5.000000       1.950000\n",
              "75%        12.000000       3.750000\n",
              "max     80995.000000   38970.000000"
            ]
          },
          "metadata": {
            "tags": []
          },
          "execution_count": 17
        }
      ]
    },
    {
      "cell_type": "code",
      "metadata": {
        "id": "pFnDlRdOKrEF",
        "colab_type": "code",
        "colab": {
          "base_uri": "https://localhost:8080/",
          "height": 294
        },
        "outputId": "73af62e7-5b65-4f98-9d18-a8a7fb729dbb"
      },
      "source": [
        "df_ret[~((abs(df_ret['Quantity']) > 1000) | (df_ret['UnitPrice']  >1000))].describe()"
      ],
      "execution_count": 18,
      "outputs": [
        {
          "output_type": "execute_result",
          "data": {
            "text/html": [
              "<div>\n",
              "<style scoped>\n",
              "    .dataframe tbody tr th:only-of-type {\n",
              "        vertical-align: middle;\n",
              "    }\n",
              "\n",
              "    .dataframe tbody tr th {\n",
              "        vertical-align: top;\n",
              "    }\n",
              "\n",
              "    .dataframe thead th {\n",
              "        text-align: right;\n",
              "    }\n",
              "</style>\n",
              "<table border=\"1\" class=\"dataframe\">\n",
              "  <thead>\n",
              "    <tr style=\"text-align: right;\">\n",
              "      <th></th>\n",
              "      <th>Quantity</th>\n",
              "      <th>UnitPrice</th>\n",
              "      <th>CustomerID</th>\n",
              "    </tr>\n",
              "  </thead>\n",
              "  <tbody>\n",
              "    <tr>\n",
              "      <th>count</th>\n",
              "      <td>401442.000000</td>\n",
              "      <td>401442.000000</td>\n",
              "      <td>401442.000000</td>\n",
              "    </tr>\n",
              "    <tr>\n",
              "      <th>mean</th>\n",
              "      <td>11.792433</td>\n",
              "      <td>3.102725</td>\n",
              "      <td>15281.203606</td>\n",
              "    </tr>\n",
              "    <tr>\n",
              "      <th>std</th>\n",
              "      <td>32.404081</td>\n",
              "      <td>9.160709</td>\n",
              "      <td>1713.955060</td>\n",
              "    </tr>\n",
              "    <tr>\n",
              "      <th>min</th>\n",
              "      <td>-960.000000</td>\n",
              "      <td>0.000000</td>\n",
              "      <td>12347.000000</td>\n",
              "    </tr>\n",
              "    <tr>\n",
              "      <th>25%</th>\n",
              "      <td>2.000000</td>\n",
              "      <td>1.250000</td>\n",
              "      <td>13939.000000</td>\n",
              "    </tr>\n",
              "    <tr>\n",
              "      <th>50%</th>\n",
              "      <td>5.000000</td>\n",
              "      <td>1.950000</td>\n",
              "      <td>15145.000000</td>\n",
              "    </tr>\n",
              "    <tr>\n",
              "      <th>75%</th>\n",
              "      <td>12.000000</td>\n",
              "      <td>3.750000</td>\n",
              "      <td>16788.000000</td>\n",
              "    </tr>\n",
              "    <tr>\n",
              "      <th>max</th>\n",
              "      <td>1000.000000</td>\n",
              "      <td>987.140000</td>\n",
              "      <td>18287.000000</td>\n",
              "    </tr>\n",
              "  </tbody>\n",
              "</table>\n",
              "</div>"
            ],
            "text/plain": [
              "            Quantity      UnitPrice     CustomerID\n",
              "count  401442.000000  401442.000000  401442.000000\n",
              "mean       11.792433       3.102725   15281.203606\n",
              "std        32.404081       9.160709    1713.955060\n",
              "min      -960.000000       0.000000   12347.000000\n",
              "25%         2.000000       1.250000   13939.000000\n",
              "50%         5.000000       1.950000   15145.000000\n",
              "75%        12.000000       3.750000   16788.000000\n",
              "max      1000.000000     987.140000   18287.000000"
            ]
          },
          "metadata": {
            "tags": []
          },
          "execution_count": 18
        }
      ]
    },
    {
      "cell_type": "code",
      "metadata": {
        "id": "p011D_lpKrEJ",
        "colab_type": "code",
        "colab": {
          "base_uri": "https://localhost:8080/",
          "height": 35
        },
        "outputId": "d7c6c779-a895-4fcf-9fe6-e344c7af1612"
      },
      "source": [
        "df_ret=df_ret[~((abs(df_ret['Quantity']) > 1000) | (df_ret['UnitPrice']  >1000))]\n",
        "df_ret.shape"
      ],
      "execution_count": 19,
      "outputs": [
        {
          "output_type": "execute_result",
          "data": {
            "text/plain": [
              "(401442, 8)"
            ]
          },
          "metadata": {
            "tags": []
          },
          "execution_count": 19
        }
      ]
    },
    {
      "cell_type": "markdown",
      "metadata": {
        "id": "v8YxLGx5KrEM",
        "colab_type": "text"
      },
      "source": [
        "# Perform cohort analysis (a cohort is a group of subjects that share a defining characteristic). Observe how a cohort behaves across time and compare it to other cohorts."
      ]
    },
    {
      "cell_type": "code",
      "metadata": {
        "id": "_NO_u5YVKrEM",
        "colab_type": "code",
        "colab": {
          "base_uri": "https://localhost:8080/",
          "height": 289
        },
        "outputId": "f890f9e3-edcf-456d-fae4-e87a9b98781e"
      },
      "source": [
        "df_ret['OrderPeriod'] = df_ret.InvoiceDate.apply(lambda x: x.strftime('%Y-%m'))\n",
        "df_ret.head()"
      ],
      "execution_count": 20,
      "outputs": [
        {
          "output_type": "execute_result",
          "data": {
            "text/html": [
              "<div>\n",
              "<style scoped>\n",
              "    .dataframe tbody tr th:only-of-type {\n",
              "        vertical-align: middle;\n",
              "    }\n",
              "\n",
              "    .dataframe tbody tr th {\n",
              "        vertical-align: top;\n",
              "    }\n",
              "\n",
              "    .dataframe thead th {\n",
              "        text-align: right;\n",
              "    }\n",
              "</style>\n",
              "<table border=\"1\" class=\"dataframe\">\n",
              "  <thead>\n",
              "    <tr style=\"text-align: right;\">\n",
              "      <th></th>\n",
              "      <th>InvoiceNo</th>\n",
              "      <th>StockCode</th>\n",
              "      <th>Description</th>\n",
              "      <th>Quantity</th>\n",
              "      <th>InvoiceDate</th>\n",
              "      <th>UnitPrice</th>\n",
              "      <th>CustomerID</th>\n",
              "      <th>Country</th>\n",
              "      <th>OrderPeriod</th>\n",
              "    </tr>\n",
              "  </thead>\n",
              "  <tbody>\n",
              "    <tr>\n",
              "      <th>1</th>\n",
              "      <td>556072</td>\n",
              "      <td>20970</td>\n",
              "      <td>PINK FLORAL FELTCRAFT SHOULDER BAG</td>\n",
              "      <td>8</td>\n",
              "      <td>2011-06-08 14:57:00</td>\n",
              "      <td>3.75</td>\n",
              "      <td>16126.0</td>\n",
              "      <td>United Kingdom</td>\n",
              "      <td>2011-06</td>\n",
              "    </tr>\n",
              "    <tr>\n",
              "      <th>2</th>\n",
              "      <td>551739</td>\n",
              "      <td>21559</td>\n",
              "      <td>STRAWBERRY LUNCH BOX WITH CUTLERY</td>\n",
              "      <td>2</td>\n",
              "      <td>2011-05-04 10:58:00</td>\n",
              "      <td>2.55</td>\n",
              "      <td>18118.0</td>\n",
              "      <td>United Kingdom</td>\n",
              "      <td>2011-05</td>\n",
              "    </tr>\n",
              "    <tr>\n",
              "      <th>3</th>\n",
              "      <td>541658</td>\n",
              "      <td>21988</td>\n",
              "      <td>PACK OF 6 SKULL PAPER PLATES</td>\n",
              "      <td>1</td>\n",
              "      <td>2011-01-20 12:16:00</td>\n",
              "      <td>0.85</td>\n",
              "      <td>15529.0</td>\n",
              "      <td>United Kingdom</td>\n",
              "      <td>2011-01</td>\n",
              "    </tr>\n",
              "    <tr>\n",
              "      <th>4</th>\n",
              "      <td>538364</td>\n",
              "      <td>85099C</td>\n",
              "      <td>JUMBO  BAG BAROQUE BLACK WHITE</td>\n",
              "      <td>10</td>\n",
              "      <td>2010-12-10 17:26:00</td>\n",
              "      <td>1.95</td>\n",
              "      <td>14448.0</td>\n",
              "      <td>United Kingdom</td>\n",
              "      <td>2010-12</td>\n",
              "    </tr>\n",
              "    <tr>\n",
              "      <th>5</th>\n",
              "      <td>552306</td>\n",
              "      <td>84789</td>\n",
              "      <td>ENCHANTED BIRD PLANT CAGE</td>\n",
              "      <td>4</td>\n",
              "      <td>2011-05-08 15:20:00</td>\n",
              "      <td>3.75</td>\n",
              "      <td>13911.0</td>\n",
              "      <td>United Kingdom</td>\n",
              "      <td>2011-05</td>\n",
              "    </tr>\n",
              "  </tbody>\n",
              "</table>\n",
              "</div>"
            ],
            "text/plain": [
              "  InvoiceNo StockCode  ...         Country  OrderPeriod\n",
              "1    556072     20970  ...  United Kingdom      2011-06\n",
              "2    551739     21559  ...  United Kingdom      2011-05\n",
              "3    541658     21988  ...  United Kingdom      2011-01\n",
              "4    538364    85099C  ...  United Kingdom      2010-12\n",
              "5    552306     84789  ...  United Kingdom      2011-05\n",
              "\n",
              "[5 rows x 9 columns]"
            ]
          },
          "metadata": {
            "tags": []
          },
          "execution_count": 20
        }
      ]
    },
    {
      "cell_type": "code",
      "metadata": {
        "id": "u6xaKKm_KrEP",
        "colab_type": "code",
        "colab": {
          "base_uri": "https://localhost:8080/",
          "height": 1000
        },
        "outputId": "88ef1f24-47d5-4cd9-e1f5-eedfc9bb4723"
      },
      "source": [
        "df_ret.set_index('CustomerID', inplace=True)\n",
        "df_ret['CohortGroup'] = df_ret.groupby(level=0)['InvoiceDate'].min().apply(lambda x: x.strftime('%Y-%m'))\n",
        "df_ret.reset_index(inplace=True)\n",
        "df_ret.tail(20)"
      ],
      "execution_count": 21,
      "outputs": [
        {
          "output_type": "execute_result",
          "data": {
            "text/html": [
              "<div>\n",
              "<style scoped>\n",
              "    .dataframe tbody tr th:only-of-type {\n",
              "        vertical-align: middle;\n",
              "    }\n",
              "\n",
              "    .dataframe tbody tr th {\n",
              "        vertical-align: top;\n",
              "    }\n",
              "\n",
              "    .dataframe thead th {\n",
              "        text-align: right;\n",
              "    }\n",
              "</style>\n",
              "<table border=\"1\" class=\"dataframe\">\n",
              "  <thead>\n",
              "    <tr style=\"text-align: right;\">\n",
              "      <th></th>\n",
              "      <th>CustomerID</th>\n",
              "      <th>InvoiceNo</th>\n",
              "      <th>StockCode</th>\n",
              "      <th>Description</th>\n",
              "      <th>Quantity</th>\n",
              "      <th>InvoiceDate</th>\n",
              "      <th>UnitPrice</th>\n",
              "      <th>Country</th>\n",
              "      <th>OrderPeriod</th>\n",
              "      <th>CohortGroup</th>\n",
              "    </tr>\n",
              "  </thead>\n",
              "  <tbody>\n",
              "    <tr>\n",
              "      <th>401422</th>\n",
              "      <td>14646.0</td>\n",
              "      <td>541711</td>\n",
              "      <td>22452</td>\n",
              "      <td>MEASURING TAPE BABUSHKA PINK</td>\n",
              "      <td>12</td>\n",
              "      <td>2011-01-21 11:18:00</td>\n",
              "      <td>2.95</td>\n",
              "      <td>Netherlands</td>\n",
              "      <td>2011-01</td>\n",
              "      <td>2010-12</td>\n",
              "    </tr>\n",
              "    <tr>\n",
              "      <th>401423</th>\n",
              "      <td>14499.0</td>\n",
              "      <td>575972</td>\n",
              "      <td>21313</td>\n",
              "      <td>GLASS HEART T-LIGHT HOLDER</td>\n",
              "      <td>3</td>\n",
              "      <td>2011-11-13 13:01:00</td>\n",
              "      <td>0.85</td>\n",
              "      <td>United Kingdom</td>\n",
              "      <td>2011-11</td>\n",
              "      <td>2011-03</td>\n",
              "    </tr>\n",
              "    <tr>\n",
              "      <th>401424</th>\n",
              "      <td>16450.0</td>\n",
              "      <td>559888</td>\n",
              "      <td>20719</td>\n",
              "      <td>WOODLAND CHARLOTTE BAG</td>\n",
              "      <td>10</td>\n",
              "      <td>2011-07-13 11:47:00</td>\n",
              "      <td>0.85</td>\n",
              "      <td>United Kingdom</td>\n",
              "      <td>2011-07</td>\n",
              "      <td>2011-07</td>\n",
              "    </tr>\n",
              "    <tr>\n",
              "      <th>401425</th>\n",
              "      <td>14178.0</td>\n",
              "      <td>575848</td>\n",
              "      <td>23377</td>\n",
              "      <td>PACK OF 12 DOLLY GIRL TISSUES</td>\n",
              "      <td>6</td>\n",
              "      <td>2011-11-11 12:10:00</td>\n",
              "      <td>0.39</td>\n",
              "      <td>United Kingdom</td>\n",
              "      <td>2011-11</td>\n",
              "      <td>2011-06</td>\n",
              "    </tr>\n",
              "    <tr>\n",
              "      <th>401426</th>\n",
              "      <td>17706.0</td>\n",
              "      <td>558540</td>\n",
              "      <td>21658</td>\n",
              "      <td>GLASS  BEURRE DISH</td>\n",
              "      <td>6</td>\n",
              "      <td>2011-06-30 12:15:00</td>\n",
              "      <td>3.95</td>\n",
              "      <td>United Kingdom</td>\n",
              "      <td>2011-06</td>\n",
              "      <td>2010-12</td>\n",
              "    </tr>\n",
              "    <tr>\n",
              "      <th>401427</th>\n",
              "      <td>12893.0</td>\n",
              "      <td>575303</td>\n",
              "      <td>22469</td>\n",
              "      <td>HEART OF WICKER SMALL</td>\n",
              "      <td>4</td>\n",
              "      <td>2011-11-09 12:34:00</td>\n",
              "      <td>1.65</td>\n",
              "      <td>United Kingdom</td>\n",
              "      <td>2011-11</td>\n",
              "      <td>2011-11</td>\n",
              "    </tr>\n",
              "    <tr>\n",
              "      <th>401428</th>\n",
              "      <td>17841.0</td>\n",
              "      <td>571098</td>\n",
              "      <td>23300</td>\n",
              "      <td>GARDENERS KNEELING PAD CUP OF TEA</td>\n",
              "      <td>1</td>\n",
              "      <td>2011-10-13 15:38:00</td>\n",
              "      <td>1.65</td>\n",
              "      <td>United Kingdom</td>\n",
              "      <td>2011-10</td>\n",
              "      <td>2010-12</td>\n",
              "    </tr>\n",
              "    <tr>\n",
              "      <th>401429</th>\n",
              "      <td>15829.0</td>\n",
              "      <td>565204</td>\n",
              "      <td>35471D</td>\n",
              "      <td>SET OF 3 BIRD LIGHT PINK FEATHER</td>\n",
              "      <td>24</td>\n",
              "      <td>2011-09-01 16:45:00</td>\n",
              "      <td>0.39</td>\n",
              "      <td>United Kingdom</td>\n",
              "      <td>2011-09</td>\n",
              "      <td>2011-07</td>\n",
              "    </tr>\n",
              "    <tr>\n",
              "      <th>401430</th>\n",
              "      <td>14911.0</td>\n",
              "      <td>570388</td>\n",
              "      <td>23171</td>\n",
              "      <td>REGENCY TEA PLATE GREEN</td>\n",
              "      <td>12</td>\n",
              "      <td>2011-10-10 12:37:00</td>\n",
              "      <td>1.65</td>\n",
              "      <td>EIRE</td>\n",
              "      <td>2011-10</td>\n",
              "      <td>2010-12</td>\n",
              "    </tr>\n",
              "    <tr>\n",
              "      <th>401431</th>\n",
              "      <td>14543.0</td>\n",
              "      <td>546749</td>\n",
              "      <td>22487</td>\n",
              "      <td>WHITE WOOD GARDEN PLANT LADDER</td>\n",
              "      <td>32</td>\n",
              "      <td>2011-03-16 12:43:00</td>\n",
              "      <td>8.50</td>\n",
              "      <td>United Kingdom</td>\n",
              "      <td>2011-03</td>\n",
              "      <td>2010-12</td>\n",
              "    </tr>\n",
              "    <tr>\n",
              "      <th>401432</th>\n",
              "      <td>13005.0</td>\n",
              "      <td>549283</td>\n",
              "      <td>22139</td>\n",
              "      <td>RETROSPOT TEA SET CERAMIC 11 PC</td>\n",
              "      <td>3</td>\n",
              "      <td>2011-04-07 13:32:00</td>\n",
              "      <td>4.95</td>\n",
              "      <td>United Kingdom</td>\n",
              "      <td>2011-04</td>\n",
              "      <td>2011-04</td>\n",
              "    </tr>\n",
              "    <tr>\n",
              "      <th>401433</th>\n",
              "      <td>13050.0</td>\n",
              "      <td>564496</td>\n",
              "      <td>22423</td>\n",
              "      <td>REGENCY CAKESTAND 3 TIER</td>\n",
              "      <td>1</td>\n",
              "      <td>2011-08-25 14:21:00</td>\n",
              "      <td>12.75</td>\n",
              "      <td>United Kingdom</td>\n",
              "      <td>2011-08</td>\n",
              "      <td>2010-12</td>\n",
              "    </tr>\n",
              "    <tr>\n",
              "      <th>401434</th>\n",
              "      <td>15738.0</td>\n",
              "      <td>577599</td>\n",
              "      <td>22083</td>\n",
              "      <td>PAPER CHAIN KIT RETROSPOT</td>\n",
              "      <td>6</td>\n",
              "      <td>2011-11-21 08:26:00</td>\n",
              "      <td>2.95</td>\n",
              "      <td>United Kingdom</td>\n",
              "      <td>2011-11</td>\n",
              "      <td>2010-12</td>\n",
              "    </tr>\n",
              "    <tr>\n",
              "      <th>401435</th>\n",
              "      <td>17841.0</td>\n",
              "      <td>578289</td>\n",
              "      <td>21793</td>\n",
              "      <td>CLASSIC FRENCH STYLE BASKET BROWN</td>\n",
              "      <td>1</td>\n",
              "      <td>2011-11-23 14:07:00</td>\n",
              "      <td>3.95</td>\n",
              "      <td>United Kingdom</td>\n",
              "      <td>2011-11</td>\n",
              "      <td>2010-12</td>\n",
              "    </tr>\n",
              "    <tr>\n",
              "      <th>401436</th>\n",
              "      <td>16938.0</td>\n",
              "      <td>543174</td>\n",
              "      <td>22085</td>\n",
              "      <td>PAPER CHAIN KIT SKULLS</td>\n",
              "      <td>6</td>\n",
              "      <td>2011-02-04 09:34:00</td>\n",
              "      <td>2.95</td>\n",
              "      <td>United Kingdom</td>\n",
              "      <td>2011-02</td>\n",
              "      <td>2011-02</td>\n",
              "    </tr>\n",
              "    <tr>\n",
              "      <th>401437</th>\n",
              "      <td>16128.0</td>\n",
              "      <td>574102</td>\n",
              "      <td>22866</td>\n",
              "      <td>HAND WARMER SCOTTY DOG DESIGN</td>\n",
              "      <td>24</td>\n",
              "      <td>2011-11-03 10:27:00</td>\n",
              "      <td>2.10</td>\n",
              "      <td>United Kingdom</td>\n",
              "      <td>2011-11</td>\n",
              "      <td>2011-03</td>\n",
              "    </tr>\n",
              "    <tr>\n",
              "      <th>401438</th>\n",
              "      <td>12428.0</td>\n",
              "      <td>545226</td>\n",
              "      <td>22919</td>\n",
              "      <td>HERB MARKER MINT</td>\n",
              "      <td>12</td>\n",
              "      <td>2011-03-01 09:33:00</td>\n",
              "      <td>0.65</td>\n",
              "      <td>Finland</td>\n",
              "      <td>2011-03</td>\n",
              "      <td>2011-03</td>\n",
              "    </tr>\n",
              "    <tr>\n",
              "      <th>401439</th>\n",
              "      <td>14359.0</td>\n",
              "      <td>573160</td>\n",
              "      <td>22077</td>\n",
              "      <td>6 RIBBONS RUSTIC CHARM</td>\n",
              "      <td>12</td>\n",
              "      <td>2011-10-28 08:58:00</td>\n",
              "      <td>1.95</td>\n",
              "      <td>United Kingdom</td>\n",
              "      <td>2011-10</td>\n",
              "      <td>2011-09</td>\n",
              "    </tr>\n",
              "    <tr>\n",
              "      <th>401440</th>\n",
              "      <td>17049.0</td>\n",
              "      <td>552321</td>\n",
              "      <td>23204</td>\n",
              "      <td>CHARLOTTE BAG APPLES DESIGN</td>\n",
              "      <td>10</td>\n",
              "      <td>2011-05-09 09:15:00</td>\n",
              "      <td>0.85</td>\n",
              "      <td>United Kingdom</td>\n",
              "      <td>2011-05</td>\n",
              "      <td>2011-03</td>\n",
              "    </tr>\n",
              "    <tr>\n",
              "      <th>401441</th>\n",
              "      <td>14178.0</td>\n",
              "      <td>573359</td>\n",
              "      <td>21983</td>\n",
              "      <td>PACK OF 12 BLUE PAISLEY TISSUES</td>\n",
              "      <td>4</td>\n",
              "      <td>2011-10-30 12:48:00</td>\n",
              "      <td>0.39</td>\n",
              "      <td>United Kingdom</td>\n",
              "      <td>2011-10</td>\n",
              "      <td>2011-06</td>\n",
              "    </tr>\n",
              "  </tbody>\n",
              "</table>\n",
              "</div>"
            ],
            "text/plain": [
              "        CustomerID InvoiceNo StockCode  ...         Country  OrderPeriod CohortGroup\n",
              "401422     14646.0    541711     22452  ...     Netherlands      2011-01     2010-12\n",
              "401423     14499.0    575972     21313  ...  United Kingdom      2011-11     2011-03\n",
              "401424     16450.0    559888     20719  ...  United Kingdom      2011-07     2011-07\n",
              "401425     14178.0    575848     23377  ...  United Kingdom      2011-11     2011-06\n",
              "401426     17706.0    558540     21658  ...  United Kingdom      2011-06     2010-12\n",
              "401427     12893.0    575303     22469  ...  United Kingdom      2011-11     2011-11\n",
              "401428     17841.0    571098     23300  ...  United Kingdom      2011-10     2010-12\n",
              "401429     15829.0    565204    35471D  ...  United Kingdom      2011-09     2011-07\n",
              "401430     14911.0    570388     23171  ...            EIRE      2011-10     2010-12\n",
              "401431     14543.0    546749     22487  ...  United Kingdom      2011-03     2010-12\n",
              "401432     13005.0    549283     22139  ...  United Kingdom      2011-04     2011-04\n",
              "401433     13050.0    564496     22423  ...  United Kingdom      2011-08     2010-12\n",
              "401434     15738.0    577599     22083  ...  United Kingdom      2011-11     2010-12\n",
              "401435     17841.0    578289     21793  ...  United Kingdom      2011-11     2010-12\n",
              "401436     16938.0    543174     22085  ...  United Kingdom      2011-02     2011-02\n",
              "401437     16128.0    574102     22866  ...  United Kingdom      2011-11     2011-03\n",
              "401438     12428.0    545226     22919  ...         Finland      2011-03     2011-03\n",
              "401439     14359.0    573160     22077  ...  United Kingdom      2011-10     2011-09\n",
              "401440     17049.0    552321     23204  ...  United Kingdom      2011-05     2011-03\n",
              "401441     14178.0    573359     21983  ...  United Kingdom      2011-10     2011-06\n",
              "\n",
              "[20 rows x 10 columns]"
            ]
          },
          "metadata": {
            "tags": []
          },
          "execution_count": 21
        }
      ]
    },
    {
      "cell_type": "code",
      "metadata": {
        "id": "_KEhYWlPKrER",
        "colab_type": "code",
        "colab": {}
      },
      "source": [
        "grouped = df_ret.groupby(['CohortGroup', 'OrderPeriod'])"
      ],
      "execution_count": 0,
      "outputs": []
    },
    {
      "cell_type": "code",
      "metadata": {
        "id": "Vm5V6r0CKrET",
        "colab_type": "code",
        "colab": {}
      },
      "source": [
        "cohorts = grouped.agg({'CustomerID': pd.Series.nunique,\n",
        "                       'StockCode': pd.Series.nunique,\n",
        "                       'Quantity': np.sum})"
      ],
      "execution_count": 0,
      "outputs": []
    },
    {
      "cell_type": "code",
      "metadata": {
        "id": "X6gM_FbqKrEW",
        "colab_type": "code",
        "colab": {
          "base_uri": "https://localhost:8080/",
          "height": 446
        },
        "outputId": "43c87081-4cd3-4f0e-c080-cddc66e208f6"
      },
      "source": [
        "cohorts.rename(columns={'CustomerID': 'TotalUserscnt',\n",
        "                        'StockCode': 'TotalOrderscnt'}, inplace=True)\n",
        "cohorts.head(100)"
      ],
      "execution_count": 24,
      "outputs": [
        {
          "output_type": "execute_result",
          "data": {
            "text/html": [
              "<div>\n",
              "<style scoped>\n",
              "    .dataframe tbody tr th:only-of-type {\n",
              "        vertical-align: middle;\n",
              "    }\n",
              "\n",
              "    .dataframe tbody tr th {\n",
              "        vertical-align: top;\n",
              "    }\n",
              "\n",
              "    .dataframe thead th {\n",
              "        text-align: right;\n",
              "    }\n",
              "</style>\n",
              "<table border=\"1\" class=\"dataframe\">\n",
              "  <thead>\n",
              "    <tr style=\"text-align: right;\">\n",
              "      <th></th>\n",
              "      <th></th>\n",
              "      <th>TotalUserscnt</th>\n",
              "      <th>TotalOrderscnt</th>\n",
              "      <th>Quantity</th>\n",
              "    </tr>\n",
              "    <tr>\n",
              "      <th>CohortGroup</th>\n",
              "      <th>OrderPeriod</th>\n",
              "      <th></th>\n",
              "      <th></th>\n",
              "      <th></th>\n",
              "    </tr>\n",
              "  </thead>\n",
              "  <tbody>\n",
              "    <tr>\n",
              "      <th rowspan=\"5\" valign=\"top\">2010-12</th>\n",
              "      <th>2010-12</th>\n",
              "      <td>944.0</td>\n",
              "      <td>2421</td>\n",
              "      <td>286671</td>\n",
              "    </tr>\n",
              "    <tr>\n",
              "      <th>2011-01</th>\n",
              "      <td>361.0</td>\n",
              "      <td>1834</td>\n",
              "      <td>153160</td>\n",
              "    </tr>\n",
              "    <tr>\n",
              "      <th>2011-02</th>\n",
              "      <td>316.0</td>\n",
              "      <td>1717</td>\n",
              "      <td>130352</td>\n",
              "    </tr>\n",
              "    <tr>\n",
              "      <th>2011-03</th>\n",
              "      <td>365.0</td>\n",
              "      <td>1866</td>\n",
              "      <td>176117</td>\n",
              "    </tr>\n",
              "    <tr>\n",
              "      <th>2011-04</th>\n",
              "      <td>340.0</td>\n",
              "      <td>1788</td>\n",
              "      <td>130045</td>\n",
              "    </tr>\n",
              "    <tr>\n",
              "      <th>...</th>\n",
              "      <th>...</th>\n",
              "      <td>...</td>\n",
              "      <td>...</td>\n",
              "      <td>...</td>\n",
              "    </tr>\n",
              "    <tr>\n",
              "      <th rowspan=\"2\" valign=\"top\">2011-10</th>\n",
              "      <th>2011-11</th>\n",
              "      <td>93.0</td>\n",
              "      <td>1319</td>\n",
              "      <td>25113</td>\n",
              "    </tr>\n",
              "    <tr>\n",
              "      <th>2011-12</th>\n",
              "      <td>46.0</td>\n",
              "      <td>602</td>\n",
              "      <td>7199</td>\n",
              "    </tr>\n",
              "    <tr>\n",
              "      <th rowspan=\"2\" valign=\"top\">2011-11</th>\n",
              "      <th>2011-11</th>\n",
              "      <td>320.0</td>\n",
              "      <td>2133</td>\n",
              "      <td>84226</td>\n",
              "    </tr>\n",
              "    <tr>\n",
              "      <th>2011-12</th>\n",
              "      <td>42.0</td>\n",
              "      <td>730</td>\n",
              "      <td>9168</td>\n",
              "    </tr>\n",
              "    <tr>\n",
              "      <th>2011-12</th>\n",
              "      <th>2011-12</th>\n",
              "      <td>40.0</td>\n",
              "      <td>680</td>\n",
              "      <td>12992</td>\n",
              "    </tr>\n",
              "  </tbody>\n",
              "</table>\n",
              "<p>91 rows × 3 columns</p>\n",
              "</div>"
            ],
            "text/plain": [
              "                         TotalUserscnt  TotalOrderscnt  Quantity\n",
              "CohortGroup OrderPeriod                                         \n",
              "2010-12     2010-12              944.0            2421    286671\n",
              "            2011-01              361.0            1834    153160\n",
              "            2011-02              316.0            1717    130352\n",
              "            2011-03              365.0            1866    176117\n",
              "            2011-04              340.0            1788    130045\n",
              "...                                ...             ...       ...\n",
              "2011-10     2011-11               93.0            1319     25113\n",
              "            2011-12               46.0             602      7199\n",
              "2011-11     2011-11              320.0            2133     84226\n",
              "            2011-12               42.0             730      9168\n",
              "2011-12     2011-12               40.0             680     12992\n",
              "\n",
              "[91 rows x 3 columns]"
            ]
          },
          "metadata": {
            "tags": []
          },
          "execution_count": 24
        }
      ]
    },
    {
      "cell_type": "code",
      "metadata": {
        "id": "5C_iePFXKrEY",
        "colab_type": "code",
        "colab": {
          "base_uri": "https://localhost:8080/",
          "height": 693
        },
        "outputId": "0e8911e0-4232-4494-fd6a-210a1b7d586a"
      },
      "source": [
        "def cohort_period(df):\n",
        "    df['CohortPeriod'] = np.arange(len(df)) + 1\n",
        "    return df\n",
        "\n",
        "cohorts = cohorts.groupby(level=0).apply(cohort_period)\n",
        "cohorts.head(20)"
      ],
      "execution_count": 25,
      "outputs": [
        {
          "output_type": "execute_result",
          "data": {
            "text/html": [
              "<div>\n",
              "<style scoped>\n",
              "    .dataframe tbody tr th:only-of-type {\n",
              "        vertical-align: middle;\n",
              "    }\n",
              "\n",
              "    .dataframe tbody tr th {\n",
              "        vertical-align: top;\n",
              "    }\n",
              "\n",
              "    .dataframe thead th {\n",
              "        text-align: right;\n",
              "    }\n",
              "</style>\n",
              "<table border=\"1\" class=\"dataframe\">\n",
              "  <thead>\n",
              "    <tr style=\"text-align: right;\">\n",
              "      <th></th>\n",
              "      <th></th>\n",
              "      <th>TotalUserscnt</th>\n",
              "      <th>TotalOrderscnt</th>\n",
              "      <th>Quantity</th>\n",
              "      <th>CohortPeriod</th>\n",
              "    </tr>\n",
              "    <tr>\n",
              "      <th>CohortGroup</th>\n",
              "      <th>OrderPeriod</th>\n",
              "      <th></th>\n",
              "      <th></th>\n",
              "      <th></th>\n",
              "      <th></th>\n",
              "    </tr>\n",
              "  </thead>\n",
              "  <tbody>\n",
              "    <tr>\n",
              "      <th rowspan=\"13\" valign=\"top\">2010-12</th>\n",
              "      <th>2010-12</th>\n",
              "      <td>944.0</td>\n",
              "      <td>2421</td>\n",
              "      <td>286671</td>\n",
              "      <td>1</td>\n",
              "    </tr>\n",
              "    <tr>\n",
              "      <th>2011-01</th>\n",
              "      <td>361.0</td>\n",
              "      <td>1834</td>\n",
              "      <td>153160</td>\n",
              "      <td>2</td>\n",
              "    </tr>\n",
              "    <tr>\n",
              "      <th>2011-02</th>\n",
              "      <td>316.0</td>\n",
              "      <td>1717</td>\n",
              "      <td>130352</td>\n",
              "      <td>3</td>\n",
              "    </tr>\n",
              "    <tr>\n",
              "      <th>2011-03</th>\n",
              "      <td>365.0</td>\n",
              "      <td>1866</td>\n",
              "      <td>176117</td>\n",
              "      <td>4</td>\n",
              "    </tr>\n",
              "    <tr>\n",
              "      <th>2011-04</th>\n",
              "      <td>340.0</td>\n",
              "      <td>1788</td>\n",
              "      <td>130045</td>\n",
              "      <td>5</td>\n",
              "    </tr>\n",
              "    <tr>\n",
              "      <th>2011-05</th>\n",
              "      <td>375.0</td>\n",
              "      <td>1850</td>\n",
              "      <td>178206</td>\n",
              "      <td>6</td>\n",
              "    </tr>\n",
              "    <tr>\n",
              "      <th>2011-06</th>\n",
              "      <td>359.0</td>\n",
              "      <td>1879</td>\n",
              "      <td>174889</td>\n",
              "      <td>7</td>\n",
              "    </tr>\n",
              "    <tr>\n",
              "      <th>2011-07</th>\n",
              "      <td>334.0</td>\n",
              "      <td>1954</td>\n",
              "      <td>173598</td>\n",
              "      <td>8</td>\n",
              "    </tr>\n",
              "    <tr>\n",
              "      <th>2011-08</th>\n",
              "      <td>335.0</td>\n",
              "      <td>1949</td>\n",
              "      <td>191284</td>\n",
              "      <td>9</td>\n",
              "    </tr>\n",
              "    <tr>\n",
              "      <th>2011-09</th>\n",
              "      <td>373.0</td>\n",
              "      <td>2153</td>\n",
              "      <td>236651</td>\n",
              "      <td>10</td>\n",
              "    </tr>\n",
              "    <tr>\n",
              "      <th>2011-10</th>\n",
              "      <td>354.0</td>\n",
              "      <td>2116</td>\n",
              "      <td>240391</td>\n",
              "      <td>11</td>\n",
              "    </tr>\n",
              "    <tr>\n",
              "      <th>2011-11</th>\n",
              "      <td>473.0</td>\n",
              "      <td>2278</td>\n",
              "      <td>288855</td>\n",
              "      <td>12</td>\n",
              "    </tr>\n",
              "    <tr>\n",
              "      <th>2011-12</th>\n",
              "      <td>260.0</td>\n",
              "      <td>1766</td>\n",
              "      <td>105056</td>\n",
              "      <td>13</td>\n",
              "    </tr>\n",
              "    <tr>\n",
              "      <th rowspan=\"7\" valign=\"top\">2011-01</th>\n",
              "      <th>2011-01</th>\n",
              "      <td>420.0</td>\n",
              "      <td>1814</td>\n",
              "      <td>102163</td>\n",
              "      <td>1</td>\n",
              "    </tr>\n",
              "    <tr>\n",
              "      <th>2011-02</th>\n",
              "      <td>102.0</td>\n",
              "      <td>994</td>\n",
              "      <td>30782</td>\n",
              "      <td>2</td>\n",
              "    </tr>\n",
              "    <tr>\n",
              "      <th>2011-03</th>\n",
              "      <td>120.0</td>\n",
              "      <td>1109</td>\n",
              "      <td>35924</td>\n",
              "      <td>3</td>\n",
              "    </tr>\n",
              "    <tr>\n",
              "      <th>2011-04</th>\n",
              "      <td>102.0</td>\n",
              "      <td>969</td>\n",
              "      <td>24693</td>\n",
              "      <td>4</td>\n",
              "    </tr>\n",
              "    <tr>\n",
              "      <th>2011-05</th>\n",
              "      <td>139.0</td>\n",
              "      <td>1131</td>\n",
              "      <td>47695</td>\n",
              "      <td>5</td>\n",
              "    </tr>\n",
              "    <tr>\n",
              "      <th>2011-06</th>\n",
              "      <td>127.0</td>\n",
              "      <td>1175</td>\n",
              "      <td>50699</td>\n",
              "      <td>6</td>\n",
              "    </tr>\n",
              "    <tr>\n",
              "      <th>2011-07</th>\n",
              "      <td>111.0</td>\n",
              "      <td>1091</td>\n",
              "      <td>40920</td>\n",
              "      <td>7</td>\n",
              "    </tr>\n",
              "  </tbody>\n",
              "</table>\n",
              "</div>"
            ],
            "text/plain": [
              "                         TotalUserscnt  TotalOrderscnt  Quantity  CohortPeriod\n",
              "CohortGroup OrderPeriod                                                       \n",
              "2010-12     2010-12              944.0            2421    286671             1\n",
              "            2011-01              361.0            1834    153160             2\n",
              "            2011-02              316.0            1717    130352             3\n",
              "            2011-03              365.0            1866    176117             4\n",
              "            2011-04              340.0            1788    130045             5\n",
              "            2011-05              375.0            1850    178206             6\n",
              "            2011-06              359.0            1879    174889             7\n",
              "            2011-07              334.0            1954    173598             8\n",
              "            2011-08              335.0            1949    191284             9\n",
              "            2011-09              373.0            2153    236651            10\n",
              "            2011-10              354.0            2116    240391            11\n",
              "            2011-11              473.0            2278    288855            12\n",
              "            2011-12              260.0            1766    105056            13\n",
              "2011-01     2011-01              420.0            1814    102163             1\n",
              "            2011-02              102.0             994     30782             2\n",
              "            2011-03              120.0            1109     35924             3\n",
              "            2011-04              102.0             969     24693             4\n",
              "            2011-05              139.0            1131     47695             5\n",
              "            2011-06              127.0            1175     50699             6\n",
              "            2011-07              111.0            1091     40920             7"
            ]
          },
          "metadata": {
            "tags": []
          },
          "execution_count": 25
        }
      ]
    },
    {
      "cell_type": "code",
      "metadata": {
        "id": "g2SD5AWuKrEb",
        "colab_type": "code",
        "colab": {}
      },
      "source": [
        "cohorts.reset_index(inplace=True)\n",
        "cohorts.set_index(['CohortGroup', 'CohortPeriod'], inplace=True)"
      ],
      "execution_count": 0,
      "outputs": []
    },
    {
      "cell_type": "code",
      "metadata": {
        "id": "dwmI6xeaKrEe",
        "colab_type": "code",
        "colab": {
          "base_uri": "https://localhost:8080/",
          "height": 139
        },
        "outputId": "8d684644-1328-44ee-ea9f-ad4dfaf69333"
      },
      "source": [
        "cohort_group_size = cohorts['TotalUserscnt'].groupby(level=0).first()\n",
        "cohort_group_size.head()"
      ],
      "execution_count": 27,
      "outputs": [
        {
          "output_type": "execute_result",
          "data": {
            "text/plain": [
              "CohortGroup\n",
              "2010-12    944.0\n",
              "2011-01    420.0\n",
              "2011-02    379.0\n",
              "2011-03    441.0\n",
              "2011-04    299.0\n",
              "Name: TotalUserscnt, dtype: float64"
            ]
          },
          "metadata": {
            "tags": []
          },
          "execution_count": 27
        }
      ]
    },
    {
      "cell_type": "code",
      "metadata": {
        "id": "2MJV_nqjKrEi",
        "colab_type": "code",
        "colab": {
          "base_uri": "https://localhost:8080/",
          "height": 139
        },
        "outputId": "71ef3a05-e5e1-40b2-8178-303e072bb186"
      },
      "source": [
        "cohorts['TotalUserscnt'].head()"
      ],
      "execution_count": 28,
      "outputs": [
        {
          "output_type": "execute_result",
          "data": {
            "text/plain": [
              "CohortGroup  CohortPeriod\n",
              "2010-12      1               944.0\n",
              "             2               361.0\n",
              "             3               316.0\n",
              "             4               365.0\n",
              "             5               340.0\n",
              "Name: TotalUserscnt, dtype: float64"
            ]
          },
          "metadata": {
            "tags": []
          },
          "execution_count": 28
        }
      ]
    },
    {
      "cell_type": "code",
      "metadata": {
        "id": "7mNKBICwKrEl",
        "colab_type": "code",
        "colab": {
          "base_uri": "https://localhost:8080/",
          "height": 250
        },
        "outputId": "28ce2662-b6c1-4afd-d240-bedd82e54922"
      },
      "source": [
        "cohorts['TotalUserscnt'].unstack(0).head()"
      ],
      "execution_count": 29,
      "outputs": [
        {
          "output_type": "execute_result",
          "data": {
            "text/html": [
              "<div>\n",
              "<style scoped>\n",
              "    .dataframe tbody tr th:only-of-type {\n",
              "        vertical-align: middle;\n",
              "    }\n",
              "\n",
              "    .dataframe tbody tr th {\n",
              "        vertical-align: top;\n",
              "    }\n",
              "\n",
              "    .dataframe thead th {\n",
              "        text-align: right;\n",
              "    }\n",
              "</style>\n",
              "<table border=\"1\" class=\"dataframe\">\n",
              "  <thead>\n",
              "    <tr style=\"text-align: right;\">\n",
              "      <th>CohortGroup</th>\n",
              "      <th>2010-12</th>\n",
              "      <th>2011-01</th>\n",
              "      <th>2011-02</th>\n",
              "      <th>2011-03</th>\n",
              "      <th>2011-04</th>\n",
              "      <th>2011-05</th>\n",
              "      <th>2011-06</th>\n",
              "      <th>2011-07</th>\n",
              "      <th>2011-08</th>\n",
              "      <th>2011-09</th>\n",
              "      <th>2011-10</th>\n",
              "      <th>2011-11</th>\n",
              "      <th>2011-12</th>\n",
              "    </tr>\n",
              "    <tr>\n",
              "      <th>CohortPeriod</th>\n",
              "      <th></th>\n",
              "      <th></th>\n",
              "      <th></th>\n",
              "      <th></th>\n",
              "      <th></th>\n",
              "      <th></th>\n",
              "      <th></th>\n",
              "      <th></th>\n",
              "      <th></th>\n",
              "      <th></th>\n",
              "      <th></th>\n",
              "      <th></th>\n",
              "      <th></th>\n",
              "    </tr>\n",
              "  </thead>\n",
              "  <tbody>\n",
              "    <tr>\n",
              "      <th>1</th>\n",
              "      <td>944.0</td>\n",
              "      <td>420.0</td>\n",
              "      <td>379.0</td>\n",
              "      <td>441.0</td>\n",
              "      <td>299.0</td>\n",
              "      <td>277.0</td>\n",
              "      <td>236.0</td>\n",
              "      <td>189.0</td>\n",
              "      <td>167.0</td>\n",
              "      <td>297.0</td>\n",
              "      <td>352.0</td>\n",
              "      <td>320.0</td>\n",
              "      <td>40.0</td>\n",
              "    </tr>\n",
              "    <tr>\n",
              "      <th>2</th>\n",
              "      <td>361.0</td>\n",
              "      <td>102.0</td>\n",
              "      <td>94.0</td>\n",
              "      <td>84.0</td>\n",
              "      <td>68.0</td>\n",
              "      <td>66.0</td>\n",
              "      <td>49.0</td>\n",
              "      <td>40.0</td>\n",
              "      <td>42.0</td>\n",
              "      <td>89.0</td>\n",
              "      <td>93.0</td>\n",
              "      <td>42.0</td>\n",
              "      <td>NaN</td>\n",
              "    </tr>\n",
              "    <tr>\n",
              "      <th>3</th>\n",
              "      <td>316.0</td>\n",
              "      <td>120.0</td>\n",
              "      <td>73.0</td>\n",
              "      <td>111.0</td>\n",
              "      <td>66.0</td>\n",
              "      <td>48.0</td>\n",
              "      <td>44.0</td>\n",
              "      <td>39.0</td>\n",
              "      <td>42.0</td>\n",
              "      <td>97.0</td>\n",
              "      <td>46.0</td>\n",
              "      <td>NaN</td>\n",
              "      <td>NaN</td>\n",
              "    </tr>\n",
              "    <tr>\n",
              "      <th>4</th>\n",
              "      <td>365.0</td>\n",
              "      <td>102.0</td>\n",
              "      <td>106.0</td>\n",
              "      <td>96.0</td>\n",
              "      <td>63.0</td>\n",
              "      <td>48.0</td>\n",
              "      <td>65.0</td>\n",
              "      <td>44.0</td>\n",
              "      <td>42.0</td>\n",
              "      <td>36.0</td>\n",
              "      <td>NaN</td>\n",
              "      <td>NaN</td>\n",
              "      <td>NaN</td>\n",
              "    </tr>\n",
              "    <tr>\n",
              "      <th>5</th>\n",
              "      <td>340.0</td>\n",
              "      <td>139.0</td>\n",
              "      <td>101.0</td>\n",
              "      <td>102.0</td>\n",
              "      <td>62.0</td>\n",
              "      <td>60.0</td>\n",
              "      <td>58.0</td>\n",
              "      <td>52.0</td>\n",
              "      <td>23.0</td>\n",
              "      <td>NaN</td>\n",
              "      <td>NaN</td>\n",
              "      <td>NaN</td>\n",
              "      <td>NaN</td>\n",
              "    </tr>\n",
              "  </tbody>\n",
              "</table>\n",
              "</div>"
            ],
            "text/plain": [
              "CohortGroup   2010-12  2011-01  2011-02  ...  2011-10  2011-11  2011-12\n",
              "CohortPeriod                             ...                           \n",
              "1               944.0    420.0    379.0  ...    352.0    320.0     40.0\n",
              "2               361.0    102.0     94.0  ...     93.0     42.0      NaN\n",
              "3               316.0    120.0     73.0  ...     46.0      NaN      NaN\n",
              "4               365.0    102.0    106.0  ...      NaN      NaN      NaN\n",
              "5               340.0    139.0    101.0  ...      NaN      NaN      NaN\n",
              "\n",
              "[5 rows x 13 columns]"
            ]
          },
          "metadata": {
            "tags": []
          },
          "execution_count": 29
        }
      ]
    },
    {
      "cell_type": "code",
      "metadata": {
        "id": "sLaoMUAdKrEn",
        "colab_type": "code",
        "colab": {
          "base_uri": "https://localhost:8080/",
          "height": 423
        },
        "outputId": "c338fb3c-1639-4bbf-e576-9a35d8355e24"
      },
      "source": [
        "user_retention = cohorts['TotalUserscnt'].unstack(0).divide(cohort_group_size, axis=1)\n",
        "user_retention.head(10)"
      ],
      "execution_count": 30,
      "outputs": [
        {
          "output_type": "execute_result",
          "data": {
            "text/html": [
              "<div>\n",
              "<style scoped>\n",
              "    .dataframe tbody tr th:only-of-type {\n",
              "        vertical-align: middle;\n",
              "    }\n",
              "\n",
              "    .dataframe tbody tr th {\n",
              "        vertical-align: top;\n",
              "    }\n",
              "\n",
              "    .dataframe thead th {\n",
              "        text-align: right;\n",
              "    }\n",
              "</style>\n",
              "<table border=\"1\" class=\"dataframe\">\n",
              "  <thead>\n",
              "    <tr style=\"text-align: right;\">\n",
              "      <th>CohortGroup</th>\n",
              "      <th>2010-12</th>\n",
              "      <th>2011-01</th>\n",
              "      <th>2011-02</th>\n",
              "      <th>2011-03</th>\n",
              "      <th>2011-04</th>\n",
              "      <th>2011-05</th>\n",
              "      <th>2011-06</th>\n",
              "      <th>2011-07</th>\n",
              "      <th>2011-08</th>\n",
              "      <th>2011-09</th>\n",
              "      <th>2011-10</th>\n",
              "      <th>2011-11</th>\n",
              "      <th>2011-12</th>\n",
              "    </tr>\n",
              "    <tr>\n",
              "      <th>CohortPeriod</th>\n",
              "      <th></th>\n",
              "      <th></th>\n",
              "      <th></th>\n",
              "      <th></th>\n",
              "      <th></th>\n",
              "      <th></th>\n",
              "      <th></th>\n",
              "      <th></th>\n",
              "      <th></th>\n",
              "      <th></th>\n",
              "      <th></th>\n",
              "      <th></th>\n",
              "      <th></th>\n",
              "    </tr>\n",
              "  </thead>\n",
              "  <tbody>\n",
              "    <tr>\n",
              "      <th>1</th>\n",
              "      <td>1.000000</td>\n",
              "      <td>1.000000</td>\n",
              "      <td>1.000000</td>\n",
              "      <td>1.000000</td>\n",
              "      <td>1.000000</td>\n",
              "      <td>1.000000</td>\n",
              "      <td>1.000000</td>\n",
              "      <td>1.000000</td>\n",
              "      <td>1.000000</td>\n",
              "      <td>1.000000</td>\n",
              "      <td>1.000000</td>\n",
              "      <td>1.00000</td>\n",
              "      <td>1.0</td>\n",
              "    </tr>\n",
              "    <tr>\n",
              "      <th>2</th>\n",
              "      <td>0.382415</td>\n",
              "      <td>0.242857</td>\n",
              "      <td>0.248021</td>\n",
              "      <td>0.190476</td>\n",
              "      <td>0.227425</td>\n",
              "      <td>0.238267</td>\n",
              "      <td>0.207627</td>\n",
              "      <td>0.211640</td>\n",
              "      <td>0.251497</td>\n",
              "      <td>0.299663</td>\n",
              "      <td>0.264205</td>\n",
              "      <td>0.13125</td>\n",
              "      <td>NaN</td>\n",
              "    </tr>\n",
              "    <tr>\n",
              "      <th>3</th>\n",
              "      <td>0.334746</td>\n",
              "      <td>0.285714</td>\n",
              "      <td>0.192612</td>\n",
              "      <td>0.251701</td>\n",
              "      <td>0.220736</td>\n",
              "      <td>0.173285</td>\n",
              "      <td>0.186441</td>\n",
              "      <td>0.206349</td>\n",
              "      <td>0.251497</td>\n",
              "      <td>0.326599</td>\n",
              "      <td>0.130682</td>\n",
              "      <td>NaN</td>\n",
              "      <td>NaN</td>\n",
              "    </tr>\n",
              "    <tr>\n",
              "      <th>4</th>\n",
              "      <td>0.386653</td>\n",
              "      <td>0.242857</td>\n",
              "      <td>0.279683</td>\n",
              "      <td>0.217687</td>\n",
              "      <td>0.210702</td>\n",
              "      <td>0.173285</td>\n",
              "      <td>0.275424</td>\n",
              "      <td>0.232804</td>\n",
              "      <td>0.251497</td>\n",
              "      <td>0.121212</td>\n",
              "      <td>NaN</td>\n",
              "      <td>NaN</td>\n",
              "      <td>NaN</td>\n",
              "    </tr>\n",
              "    <tr>\n",
              "      <th>5</th>\n",
              "      <td>0.360169</td>\n",
              "      <td>0.330952</td>\n",
              "      <td>0.266491</td>\n",
              "      <td>0.231293</td>\n",
              "      <td>0.207358</td>\n",
              "      <td>0.216606</td>\n",
              "      <td>0.245763</td>\n",
              "      <td>0.275132</td>\n",
              "      <td>0.137725</td>\n",
              "      <td>NaN</td>\n",
              "      <td>NaN</td>\n",
              "      <td>NaN</td>\n",
              "      <td>NaN</td>\n",
              "    </tr>\n",
              "    <tr>\n",
              "      <th>6</th>\n",
              "      <td>0.397246</td>\n",
              "      <td>0.302381</td>\n",
              "      <td>0.245383</td>\n",
              "      <td>0.174603</td>\n",
              "      <td>0.237458</td>\n",
              "      <td>0.245487</td>\n",
              "      <td>0.330508</td>\n",
              "      <td>0.116402</td>\n",
              "      <td>NaN</td>\n",
              "      <td>NaN</td>\n",
              "      <td>NaN</td>\n",
              "      <td>NaN</td>\n",
              "      <td>NaN</td>\n",
              "    </tr>\n",
              "    <tr>\n",
              "      <th>7</th>\n",
              "      <td>0.380297</td>\n",
              "      <td>0.264286</td>\n",
              "      <td>0.255937</td>\n",
              "      <td>0.260771</td>\n",
              "      <td>0.230769</td>\n",
              "      <td>0.267148</td>\n",
              "      <td>0.101695</td>\n",
              "      <td>NaN</td>\n",
              "      <td>NaN</td>\n",
              "      <td>NaN</td>\n",
              "      <td>NaN</td>\n",
              "      <td>NaN</td>\n",
              "      <td>NaN</td>\n",
              "    </tr>\n",
              "    <tr>\n",
              "      <th>8</th>\n",
              "      <td>0.353814</td>\n",
              "      <td>0.259524</td>\n",
              "      <td>0.279683</td>\n",
              "      <td>0.238095</td>\n",
              "      <td>0.260870</td>\n",
              "      <td>0.101083</td>\n",
              "      <td>NaN</td>\n",
              "      <td>NaN</td>\n",
              "      <td>NaN</td>\n",
              "      <td>NaN</td>\n",
              "      <td>NaN</td>\n",
              "      <td>NaN</td>\n",
              "      <td>NaN</td>\n",
              "    </tr>\n",
              "    <tr>\n",
              "      <th>9</th>\n",
              "      <td>0.354873</td>\n",
              "      <td>0.314286</td>\n",
              "      <td>0.258575</td>\n",
              "      <td>0.285714</td>\n",
              "      <td>0.083612</td>\n",
              "      <td>NaN</td>\n",
              "      <td>NaN</td>\n",
              "      <td>NaN</td>\n",
              "      <td>NaN</td>\n",
              "      <td>NaN</td>\n",
              "      <td>NaN</td>\n",
              "      <td>NaN</td>\n",
              "      <td>NaN</td>\n",
              "    </tr>\n",
              "    <tr>\n",
              "      <th>10</th>\n",
              "      <td>0.395127</td>\n",
              "      <td>0.347619</td>\n",
              "      <td>0.313984</td>\n",
              "      <td>0.086168</td>\n",
              "      <td>NaN</td>\n",
              "      <td>NaN</td>\n",
              "      <td>NaN</td>\n",
              "      <td>NaN</td>\n",
              "      <td>NaN</td>\n",
              "      <td>NaN</td>\n",
              "      <td>NaN</td>\n",
              "      <td>NaN</td>\n",
              "      <td>NaN</td>\n",
              "    </tr>\n",
              "  </tbody>\n",
              "</table>\n",
              "</div>"
            ],
            "text/plain": [
              "CohortGroup    2010-12   2011-01   2011-02  ...   2011-10  2011-11  2011-12\n",
              "CohortPeriod                                ...                            \n",
              "1             1.000000  1.000000  1.000000  ...  1.000000  1.00000      1.0\n",
              "2             0.382415  0.242857  0.248021  ...  0.264205  0.13125      NaN\n",
              "3             0.334746  0.285714  0.192612  ...  0.130682      NaN      NaN\n",
              "4             0.386653  0.242857  0.279683  ...       NaN      NaN      NaN\n",
              "5             0.360169  0.330952  0.266491  ...       NaN      NaN      NaN\n",
              "6             0.397246  0.302381  0.245383  ...       NaN      NaN      NaN\n",
              "7             0.380297  0.264286  0.255937  ...       NaN      NaN      NaN\n",
              "8             0.353814  0.259524  0.279683  ...       NaN      NaN      NaN\n",
              "9             0.354873  0.314286  0.258575  ...       NaN      NaN      NaN\n",
              "10            0.395127  0.347619  0.313984  ...       NaN      NaN      NaN\n",
              "\n",
              "[10 rows x 13 columns]"
            ]
          },
          "metadata": {
            "tags": []
          },
          "execution_count": 30
        }
      ]
    },
    {
      "cell_type": "code",
      "metadata": {
        "id": "zV_210jcKrEp",
        "colab_type": "code",
        "colab": {
          "base_uri": "https://localhost:8080/",
          "height": 87
        },
        "outputId": "15f6f685-2cb5-47a4-b63c-417eec93a89e"
      },
      "source": [
        "user_retention.columns"
      ],
      "execution_count": 31,
      "outputs": [
        {
          "output_type": "execute_result",
          "data": {
            "text/plain": [
              "Index(['2010-12', '2011-01', '2011-02', '2011-03', '2011-04', '2011-05',\n",
              "       '2011-06', '2011-07', '2011-08', '2011-09', '2011-10', '2011-11',\n",
              "       '2011-12'],\n",
              "      dtype='object', name='CohortGroup')"
            ]
          },
          "metadata": {
            "tags": []
          },
          "execution_count": 31
        }
      ]
    },
    {
      "cell_type": "code",
      "metadata": {
        "id": "zq4FgeAAKrEs",
        "colab_type": "code",
        "colab": {
          "base_uri": "https://localhost:8080/",
          "height": 627
        },
        "outputId": "a905a143-a743-4b4d-8002-c56aff6a757a"
      },
      "source": [
        "import seaborn as sns\n",
        "sns.set(style='white')\n",
        "\n",
        "plt.figure(figsize=(15, 10))\n",
        "plt.title('Cohorts: User Retention')\n",
        "sns.heatmap(user_retention.T, mask=user_retention.T.isnull(), annot=True, fmt='.0%');"
      ],
      "execution_count": 32,
      "outputs": [
        {
          "output_type": "display_data",
          "data": {
            "image/png": "[encoded data removed]",
            "text/plain": [
              "<Figure size 1080x720 with 2 Axes>"
            ]
          },
          "metadata": {
            "tags": []
          }
        }
      ]
    },
    {
      "cell_type": "markdown",
      "metadata": {
        "id": "XTxkMZVjKrEu",
        "colab_type": "text"
      },
      "source": [
        "Build a RFM (Recency Frequency Monetary) model. Recency means the number of days since a customer made the last purchase. Frequency is the number of purchase in a given period. It could be 3 months, 6 months or 1 year. Monetary is the total amount of money a customer spent in that given period. Therefore, big spenders will be differentiated among other customers such as MVP (Minimum Viable Product) or VIP."
      ]
    },
    {
      "cell_type": "code",
      "metadata": {
        "id": "Mx2y1cdJKrEv",
        "colab_type": "code",
        "colab": {
          "base_uri": "https://localhost:8080/",
          "height": 35
        },
        "outputId": "71c923d7-41e0-4fde-cf6e-82b94b54aead"
      },
      "source": [
        "# print the time period\n",
        "print('Min : {}, Max : {}'.format(min(df_ret.InvoiceDate), max(df_ret.InvoiceDate)))"
      ],
      "execution_count": 33,
      "outputs": [
        {
          "output_type": "stream",
          "text": [
            "Min : 2010-12-01 08:26:00, Max : 2011-12-09 12:50:00\n"
          ],
          "name": "stdout"
        }
      ]
    },
    {
      "cell_type": "code",
      "metadata": {
        "id": "0XZ16HiWKrEx",
        "colab_type": "code",
        "colab": {
          "base_uri": "https://localhost:8080/",
          "height": 35
        },
        "outputId": "d3019d63-2e10-41f3-c8e9-175d995e080f"
      },
      "source": [
        "# pin the last date\n",
        "pin_date = max(df_ret.InvoiceDate) + dt.timedelta(1)\n",
        "pin_date"
      ],
      "execution_count": 34,
      "outputs": [
        {
          "output_type": "execute_result",
          "data": {
            "text/plain": [
              "Timestamp('2011-12-10 12:50:00')"
            ]
          },
          "metadata": {
            "tags": []
          },
          "execution_count": 34
        }
      ]
    },
    {
      "cell_type": "code",
      "metadata": {
        "id": "G9rAmDy3KrEz",
        "colab_type": "code",
        "colab": {
          "base_uri": "https://localhost:8080/",
          "height": 430
        },
        "outputId": "d7ec205d-a1a4-4933-a0da-cab30baaa5aa"
      },
      "source": [
        "df_ret['TotalSum'] = df_ret.Quantity * df_ret.UnitPrice\n",
        "df_ret.head()"
      ],
      "execution_count": 35,
      "outputs": [
        {
          "output_type": "execute_result",
          "data": {
            "text/html": [
              "<div>\n",
              "<style scoped>\n",
              "    .dataframe tbody tr th:only-of-type {\n",
              "        vertical-align: middle;\n",
              "    }\n",
              "\n",
              "    .dataframe tbody tr th {\n",
              "        vertical-align: top;\n",
              "    }\n",
              "\n",
              "    .dataframe thead th {\n",
              "        text-align: right;\n",
              "    }\n",
              "</style>\n",
              "<table border=\"1\" class=\"dataframe\">\n",
              "  <thead>\n",
              "    <tr style=\"text-align: right;\">\n",
              "      <th></th>\n",
              "      <th>CustomerID</th>\n",
              "      <th>InvoiceNo</th>\n",
              "      <th>StockCode</th>\n",
              "      <th>Description</th>\n",
              "      <th>Quantity</th>\n",
              "      <th>InvoiceDate</th>\n",
              "      <th>UnitPrice</th>\n",
              "      <th>Country</th>\n",
              "      <th>OrderPeriod</th>\n",
              "      <th>CohortGroup</th>\n",
              "      <th>TotalSum</th>\n",
              "    </tr>\n",
              "  </thead>\n",
              "  <tbody>\n",
              "    <tr>\n",
              "      <th>0</th>\n",
              "      <td>16126.0</td>\n",
              "      <td>556072</td>\n",
              "      <td>20970</td>\n",
              "      <td>PINK FLORAL FELTCRAFT SHOULDER BAG</td>\n",
              "      <td>8</td>\n",
              "      <td>2011-06-08 14:57:00</td>\n",
              "      <td>3.75</td>\n",
              "      <td>United Kingdom</td>\n",
              "      <td>2011-06</td>\n",
              "      <td>2011-02</td>\n",
              "      <td>30.00</td>\n",
              "    </tr>\n",
              "    <tr>\n",
              "      <th>1</th>\n",
              "      <td>18118.0</td>\n",
              "      <td>551739</td>\n",
              "      <td>21559</td>\n",
              "      <td>STRAWBERRY LUNCH BOX WITH CUTLERY</td>\n",
              "      <td>2</td>\n",
              "      <td>2011-05-04 10:58:00</td>\n",
              "      <td>2.55</td>\n",
              "      <td>United Kingdom</td>\n",
              "      <td>2011-05</td>\n",
              "      <td>2010-12</td>\n",
              "      <td>5.10</td>\n",
              "    </tr>\n",
              "    <tr>\n",
              "      <th>2</th>\n",
              "      <td>15529.0</td>\n",
              "      <td>541658</td>\n",
              "      <td>21988</td>\n",
              "      <td>PACK OF 6 SKULL PAPER PLATES</td>\n",
              "      <td>1</td>\n",
              "      <td>2011-01-20 12:16:00</td>\n",
              "      <td>0.85</td>\n",
              "      <td>United Kingdom</td>\n",
              "      <td>2011-01</td>\n",
              "      <td>2010-12</td>\n",
              "      <td>0.85</td>\n",
              "    </tr>\n",
              "    <tr>\n",
              "      <th>3</th>\n",
              "      <td>14448.0</td>\n",
              "      <td>538364</td>\n",
              "      <td>85099C</td>\n",
              "      <td>JUMBO  BAG BAROQUE BLACK WHITE</td>\n",
              "      <td>10</td>\n",
              "      <td>2010-12-10 17:26:00</td>\n",
              "      <td>1.95</td>\n",
              "      <td>United Kingdom</td>\n",
              "      <td>2010-12</td>\n",
              "      <td>2010-12</td>\n",
              "      <td>19.50</td>\n",
              "    </tr>\n",
              "    <tr>\n",
              "      <th>4</th>\n",
              "      <td>13911.0</td>\n",
              "      <td>552306</td>\n",
              "      <td>84789</td>\n",
              "      <td>ENCHANTED BIRD PLANT CAGE</td>\n",
              "      <td>4</td>\n",
              "      <td>2011-05-08 15:20:00</td>\n",
              "      <td>3.75</td>\n",
              "      <td>United Kingdom</td>\n",
              "      <td>2011-05</td>\n",
              "      <td>2011-02</td>\n",
              "      <td>15.00</td>\n",
              "    </tr>\n",
              "  </tbody>\n",
              "</table>\n",
              "</div>"
            ],
            "text/plain": [
              "   CustomerID InvoiceNo StockCode  ... OrderPeriod  CohortGroup TotalSum\n",
              "0     16126.0    556072     20970  ...     2011-06      2011-02    30.00\n",
              "1     18118.0    551739     21559  ...     2011-05      2010-12     5.10\n",
              "2     15529.0    541658     21988  ...     2011-01      2010-12     0.85\n",
              "3     14448.0    538364    85099C  ...     2010-12      2010-12    19.50\n",
              "4     13911.0    552306     84789  ...     2011-05      2011-02    15.00\n",
              "\n",
              "[5 rows x 11 columns]"
            ]
          },
          "metadata": {
            "tags": []
          },
          "execution_count": 35
        }
      ]
    },
    {
      "cell_type": "code",
      "metadata": {
        "id": "pcEIxYHkKrE2",
        "colab_type": "code",
        "colab": {
          "base_uri": "https://localhost:8080/",
          "height": 233
        },
        "outputId": "1648f70d-1542-421e-d268-e78a4af9cb5e"
      },
      "source": [
        "rfm = df_ret.groupby('CustomerID').agg({\n",
        "    'InvoiceDate' : lambda x: (pin_date - x.max()).days,\n",
        "    'InvoiceNo' : 'count', \n",
        "    'TotalSum' : 'sum'})\n",
        "# rename the columns\n",
        "rfm.rename(columns = {'InvoiceDate' : 'Recency', \n",
        "                      'InvoiceNo' : 'Frequency', \n",
        "                      'TotalSum' : 'Monetary'}, inplace = True)\n",
        "rfm.head()"
      ],
      "execution_count": 36,
      "outputs": [
        {
          "output_type": "execute_result",
          "data": {
            "text/html": [
              "<div>\n",
              "<style scoped>\n",
              "    .dataframe tbody tr th:only-of-type {\n",
              "        vertical-align: middle;\n",
              "    }\n",
              "\n",
              "    .dataframe tbody tr th {\n",
              "        vertical-align: top;\n",
              "    }\n",
              "\n",
              "    .dataframe thead th {\n",
              "        text-align: right;\n",
              "    }\n",
              "</style>\n",
              "<table border=\"1\" class=\"dataframe\">\n",
              "  <thead>\n",
              "    <tr style=\"text-align: right;\">\n",
              "      <th></th>\n",
              "      <th>Recency</th>\n",
              "      <th>Frequency</th>\n",
              "      <th>Monetary</th>\n",
              "    </tr>\n",
              "    <tr>\n",
              "      <th>CustomerID</th>\n",
              "      <th></th>\n",
              "      <th></th>\n",
              "      <th></th>\n",
              "    </tr>\n",
              "  </thead>\n",
              "  <tbody>\n",
              "    <tr>\n",
              "      <th>12347.0</th>\n",
              "      <td>2</td>\n",
              "      <td>182</td>\n",
              "      <td>4310.00</td>\n",
              "    </tr>\n",
              "    <tr>\n",
              "      <th>12348.0</th>\n",
              "      <td>75</td>\n",
              "      <td>31</td>\n",
              "      <td>1797.24</td>\n",
              "    </tr>\n",
              "    <tr>\n",
              "      <th>12349.0</th>\n",
              "      <td>19</td>\n",
              "      <td>73</td>\n",
              "      <td>1757.55</td>\n",
              "    </tr>\n",
              "    <tr>\n",
              "      <th>12350.0</th>\n",
              "      <td>310</td>\n",
              "      <td>17</td>\n",
              "      <td>334.40</td>\n",
              "    </tr>\n",
              "    <tr>\n",
              "      <th>12352.0</th>\n",
              "      <td>36</td>\n",
              "      <td>95</td>\n",
              "      <td>1545.41</td>\n",
              "    </tr>\n",
              "  </tbody>\n",
              "</table>\n",
              "</div>"
            ],
            "text/plain": [
              "            Recency  Frequency  Monetary\n",
              "CustomerID                              \n",
              "12347.0           2        182   4310.00\n",
              "12348.0          75         31   1797.24\n",
              "12349.0          19         73   1757.55\n",
              "12350.0         310         17    334.40\n",
              "12352.0          36         95   1545.41"
            ]
          },
          "metadata": {
            "tags": []
          },
          "execution_count": 36
        }
      ]
    },
    {
      "cell_type": "code",
      "metadata": {
        "id": "lDpl6QXtKrE4",
        "colab_type": "code",
        "colab": {}
      },
      "source": [
        "# create labels and assign them to tree percentile groups \n",
        "r_labels = range(4, 0, -1)\n",
        "r_groups = pd.qcut(rfm.Recency, q = 4, labels = r_labels)\n",
        "f_labels = range(1, 5)\n",
        "f_groups = pd.qcut(rfm.Frequency, q = 4, labels = f_labels)\n",
        "m_labels = range(1, 5)\n",
        "m_groups = pd.qcut(rfm.Monetary, q = 4, labels = m_labels)"
      ],
      "execution_count": 0,
      "outputs": []
    },
    {
      "cell_type": "code",
      "metadata": {
        "id": "SJE6zUNkKrE6",
        "colab_type": "code",
        "colab": {
          "base_uri": "https://localhost:8080/",
          "height": 233
        },
        "outputId": "6a296cd0-1fe5-4ec4-ea03-9e716370da98"
      },
      "source": [
        "rfm['R'] = r_groups.values\n",
        "rfm['F'] = f_groups.values\n",
        "rfm['M'] = m_groups.values\n",
        "# sum up the three columns\n",
        "rfm['RFM_Segment'] = rfm.apply(lambda x: str(x['R']) + str(x['F']) + str(x['M']), axis = 1)\n",
        "rfm['RFM_Score'] = rfm[['R', 'F', 'M']].sum(axis = 1)\n",
        "rfm.head()"
      ],
      "execution_count": 38,
      "outputs": [
        {
          "output_type": "execute_result",
          "data": {
            "text/html": [
              "<div>\n",
              "<style scoped>\n",
              "    .dataframe tbody tr th:only-of-type {\n",
              "        vertical-align: middle;\n",
              "    }\n",
              "\n",
              "    .dataframe tbody tr th {\n",
              "        vertical-align: top;\n",
              "    }\n",
              "\n",
              "    .dataframe thead th {\n",
              "        text-align: right;\n",
              "    }\n",
              "</style>\n",
              "<table border=\"1\" class=\"dataframe\">\n",
              "  <thead>\n",
              "    <tr style=\"text-align: right;\">\n",
              "      <th></th>\n",
              "      <th>Recency</th>\n",
              "      <th>Frequency</th>\n",
              "      <th>Monetary</th>\n",
              "      <th>R</th>\n",
              "      <th>F</th>\n",
              "      <th>M</th>\n",
              "      <th>RFM_Segment</th>\n",
              "      <th>RFM_Score</th>\n",
              "    </tr>\n",
              "    <tr>\n",
              "      <th>CustomerID</th>\n",
              "      <th></th>\n",
              "      <th></th>\n",
              "      <th></th>\n",
              "      <th></th>\n",
              "      <th></th>\n",
              "      <th></th>\n",
              "      <th></th>\n",
              "      <th></th>\n",
              "    </tr>\n",
              "  </thead>\n",
              "  <tbody>\n",
              "    <tr>\n",
              "      <th>12347.0</th>\n",
              "      <td>2</td>\n",
              "      <td>182</td>\n",
              "      <td>4310.00</td>\n",
              "      <td>4</td>\n",
              "      <td>4</td>\n",
              "      <td>4</td>\n",
              "      <td>444</td>\n",
              "      <td>12.0</td>\n",
              "    </tr>\n",
              "    <tr>\n",
              "      <th>12348.0</th>\n",
              "      <td>75</td>\n",
              "      <td>31</td>\n",
              "      <td>1797.24</td>\n",
              "      <td>2</td>\n",
              "      <td>2</td>\n",
              "      <td>4</td>\n",
              "      <td>224</td>\n",
              "      <td>8.0</td>\n",
              "    </tr>\n",
              "    <tr>\n",
              "      <th>12349.0</th>\n",
              "      <td>19</td>\n",
              "      <td>73</td>\n",
              "      <td>1757.55</td>\n",
              "      <td>3</td>\n",
              "      <td>3</td>\n",
              "      <td>4</td>\n",
              "      <td>334</td>\n",
              "      <td>10.0</td>\n",
              "    </tr>\n",
              "    <tr>\n",
              "      <th>12350.0</th>\n",
              "      <td>310</td>\n",
              "      <td>17</td>\n",
              "      <td>334.40</td>\n",
              "      <td>1</td>\n",
              "      <td>1</td>\n",
              "      <td>2</td>\n",
              "      <td>112</td>\n",
              "      <td>4.0</td>\n",
              "    </tr>\n",
              "    <tr>\n",
              "      <th>12352.0</th>\n",
              "      <td>36</td>\n",
              "      <td>95</td>\n",
              "      <td>1545.41</td>\n",
              "      <td>3</td>\n",
              "      <td>3</td>\n",
              "      <td>3</td>\n",
              "      <td>333</td>\n",
              "      <td>9.0</td>\n",
              "    </tr>\n",
              "  </tbody>\n",
              "</table>\n",
              "</div>"
            ],
            "text/plain": [
              "            Recency  Frequency  Monetary  R  F  M RFM_Segment  RFM_Score\n",
              "CustomerID                                                              \n",
              "12347.0           2        182   4310.00  4  4  4         444       12.0\n",
              "12348.0          75         31   1797.24  2  2  4         224        8.0\n",
              "12349.0          19         73   1757.55  3  3  4         334       10.0\n",
              "12350.0         310         17    334.40  1  1  2         112        4.0\n",
              "12352.0          36         95   1545.41  3  3  3         333        9.0"
            ]
          },
          "metadata": {
            "tags": []
          },
          "execution_count": 38
        }
      ]
    },
    {
      "cell_type": "code",
      "metadata": {
        "id": "uhyIofx0KrE9",
        "colab_type": "code",
        "colab": {
          "base_uri": "https://localhost:8080/",
          "height": 417
        },
        "outputId": "0dc96317-48df-4d17-825b-b6524e915492"
      },
      "source": [
        "rfm_agg = rfm.groupby('RFM_Score').agg({\n",
        "    'Recency' : 'mean',\n",
        "    'Frequency' : 'mean',\n",
        "    'Monetary' : ['mean', 'count']\n",
        "})\n",
        "rfm_agg.round(1).head(15)"
      ],
      "execution_count": 40,
      "outputs": [
        {
          "output_type": "execute_result",
          "data": {
            "text/html": [
              "<div>\n",
              "<style scoped>\n",
              "    .dataframe tbody tr th:only-of-type {\n",
              "        vertical-align: middle;\n",
              "    }\n",
              "\n",
              "    .dataframe tbody tr th {\n",
              "        vertical-align: top;\n",
              "    }\n",
              "\n",
              "    .dataframe thead tr th {\n",
              "        text-align: left;\n",
              "    }\n",
              "\n",
              "    .dataframe thead tr:last-of-type th {\n",
              "        text-align: right;\n",
              "    }\n",
              "</style>\n",
              "<table border=\"1\" class=\"dataframe\">\n",
              "  <thead>\n",
              "    <tr>\n",
              "      <th></th>\n",
              "      <th>Recency</th>\n",
              "      <th>Frequency</th>\n",
              "      <th colspan=\"2\" halign=\"left\">Monetary</th>\n",
              "    </tr>\n",
              "    <tr>\n",
              "      <th></th>\n",
              "      <th>mean</th>\n",
              "      <th>mean</th>\n",
              "      <th>mean</th>\n",
              "      <th>count</th>\n",
              "    </tr>\n",
              "    <tr>\n",
              "      <th>RFM_Score</th>\n",
              "      <th></th>\n",
              "      <th></th>\n",
              "      <th></th>\n",
              "      <th></th>\n",
              "    </tr>\n",
              "  </thead>\n",
              "  <tbody>\n",
              "    <tr>\n",
              "      <th>3.0</th>\n",
              "      <td>264.8</td>\n",
              "      <td>7.9</td>\n",
              "      <td>123.7</td>\n",
              "      <td>391</td>\n",
              "    </tr>\n",
              "    <tr>\n",
              "      <th>4.0</th>\n",
              "      <td>175.5</td>\n",
              "      <td>13.9</td>\n",
              "      <td>226.3</td>\n",
              "      <td>395</td>\n",
              "    </tr>\n",
              "    <tr>\n",
              "      <th>5.0</th>\n",
              "      <td>152.2</td>\n",
              "      <td>21.1</td>\n",
              "      <td>343.3</td>\n",
              "      <td>514</td>\n",
              "    </tr>\n",
              "    <tr>\n",
              "      <th>6.0</th>\n",
              "      <td>93.1</td>\n",
              "      <td>28.3</td>\n",
              "      <td>526.6</td>\n",
              "      <td>467</td>\n",
              "    </tr>\n",
              "    <tr>\n",
              "      <th>7.0</th>\n",
              "      <td>78.4</td>\n",
              "      <td>39.3</td>\n",
              "      <td>713.1</td>\n",
              "      <td>438</td>\n",
              "    </tr>\n",
              "    <tr>\n",
              "      <th>8.0</th>\n",
              "      <td>62.5</td>\n",
              "      <td>56.0</td>\n",
              "      <td>965.7</td>\n",
              "      <td>467</td>\n",
              "    </tr>\n",
              "    <tr>\n",
              "      <th>9.0</th>\n",
              "      <td>44.8</td>\n",
              "      <td>78.6</td>\n",
              "      <td>1321.9</td>\n",
              "      <td>410</td>\n",
              "    </tr>\n",
              "    <tr>\n",
              "      <th>10.0</th>\n",
              "      <td>31.5</td>\n",
              "      <td>112.9</td>\n",
              "      <td>1900.7</td>\n",
              "      <td>436</td>\n",
              "    </tr>\n",
              "    <tr>\n",
              "      <th>11.0</th>\n",
              "      <td>20.5</td>\n",
              "      <td>190.3</td>\n",
              "      <td>3733.6</td>\n",
              "      <td>373</td>\n",
              "    </tr>\n",
              "    <tr>\n",
              "      <th>12.0</th>\n",
              "      <td>6.7</td>\n",
              "      <td>368.1</td>\n",
              "      <td>8745.2</td>\n",
              "      <td>470</td>\n",
              "    </tr>\n",
              "  </tbody>\n",
              "</table>\n",
              "</div>"
            ],
            "text/plain": [
              "          Recency Frequency Monetary      \n",
              "             mean      mean     mean count\n",
              "RFM_Score                                 \n",
              "3.0         264.8       7.9    123.7   391\n",
              "4.0         175.5      13.9    226.3   395\n",
              "5.0         152.2      21.1    343.3   514\n",
              "6.0          93.1      28.3    526.6   467\n",
              "7.0          78.4      39.3    713.1   438\n",
              "8.0          62.5      56.0    965.7   467\n",
              "9.0          44.8      78.6   1321.9   410\n",
              "10.0         31.5     112.9   1900.7   436\n",
              "11.0         20.5     190.3   3733.6   373\n",
              "12.0          6.7     368.1   8745.2   470"
            ]
          },
          "metadata": {
            "tags": []
          },
          "execution_count": 40
        }
      ]
    },
    {
      "cell_type": "code",
      "metadata": {
        "id": "amaeOLcCKrE_",
        "colab_type": "code",
        "colab": {
          "base_uri": "https://localhost:8080/",
          "height": 233
        },
        "outputId": "f1c4d90d-5bc1-4af8-82d4-0a47ad1a8fa5"
      },
      "source": [
        "# assign labels from total score\n",
        "score_labels = ['Green', 'Bronze', 'Silver', 'Gold']\n",
        "score_groups = pd.qcut(rfm.RFM_Score, q = 4, labels = score_labels)\n",
        "rfm['RFM_Level'] = score_groups.values\n",
        "rfm.head()"
      ],
      "execution_count": 41,
      "outputs": [
        {
          "output_type": "execute_result",
          "data": {
            "text/html": [
              "<div>\n",
              "<style scoped>\n",
              "    .dataframe tbody tr th:only-of-type {\n",
              "        vertical-align: middle;\n",
              "    }\n",
              "\n",
              "    .dataframe tbody tr th {\n",
              "        vertical-align: top;\n",
              "    }\n",
              "\n",
              "    .dataframe thead th {\n",
              "        text-align: right;\n",
              "    }\n",
              "</style>\n",
              "<table border=\"1\" class=\"dataframe\">\n",
              "  <thead>\n",
              "    <tr style=\"text-align: right;\">\n",
              "      <th></th>\n",
              "      <th>Recency</th>\n",
              "      <th>Frequency</th>\n",
              "      <th>Monetary</th>\n",
              "      <th>R</th>\n",
              "      <th>F</th>\n",
              "      <th>M</th>\n",
              "      <th>RFM_Segment</th>\n",
              "      <th>RFM_Score</th>\n",
              "      <th>RFM_Level</th>\n",
              "    </tr>\n",
              "    <tr>\n",
              "      <th>CustomerID</th>\n",
              "      <th></th>\n",
              "      <th></th>\n",
              "      <th></th>\n",
              "      <th></th>\n",
              "      <th></th>\n",
              "      <th></th>\n",
              "      <th></th>\n",
              "      <th></th>\n",
              "      <th></th>\n",
              "    </tr>\n",
              "  </thead>\n",
              "  <tbody>\n",
              "    <tr>\n",
              "      <th>12347.0</th>\n",
              "      <td>2</td>\n",
              "      <td>182</td>\n",
              "      <td>4310.00</td>\n",
              "      <td>4</td>\n",
              "      <td>4</td>\n",
              "      <td>4</td>\n",
              "      <td>444</td>\n",
              "      <td>12.0</td>\n",
              "      <td>Gold</td>\n",
              "    </tr>\n",
              "    <tr>\n",
              "      <th>12348.0</th>\n",
              "      <td>75</td>\n",
              "      <td>31</td>\n",
              "      <td>1797.24</td>\n",
              "      <td>2</td>\n",
              "      <td>2</td>\n",
              "      <td>4</td>\n",
              "      <td>224</td>\n",
              "      <td>8.0</td>\n",
              "      <td>Silver</td>\n",
              "    </tr>\n",
              "    <tr>\n",
              "      <th>12349.0</th>\n",
              "      <td>19</td>\n",
              "      <td>73</td>\n",
              "      <td>1757.55</td>\n",
              "      <td>3</td>\n",
              "      <td>3</td>\n",
              "      <td>4</td>\n",
              "      <td>334</td>\n",
              "      <td>10.0</td>\n",
              "      <td>Silver</td>\n",
              "    </tr>\n",
              "    <tr>\n",
              "      <th>12350.0</th>\n",
              "      <td>310</td>\n",
              "      <td>17</td>\n",
              "      <td>334.40</td>\n",
              "      <td>1</td>\n",
              "      <td>1</td>\n",
              "      <td>2</td>\n",
              "      <td>112</td>\n",
              "      <td>4.0</td>\n",
              "      <td>Green</td>\n",
              "    </tr>\n",
              "    <tr>\n",
              "      <th>12352.0</th>\n",
              "      <td>36</td>\n",
              "      <td>95</td>\n",
              "      <td>1545.41</td>\n",
              "      <td>3</td>\n",
              "      <td>3</td>\n",
              "      <td>3</td>\n",
              "      <td>333</td>\n",
              "      <td>9.0</td>\n",
              "      <td>Silver</td>\n",
              "    </tr>\n",
              "  </tbody>\n",
              "</table>\n",
              "</div>"
            ],
            "text/plain": [
              "            Recency  Frequency  Monetary  R  ...  M RFM_Segment RFM_Score  RFM_Level\n",
              "CustomerID                                   ...                                    \n",
              "12347.0           2        182   4310.00  4  ...  4         444      12.0       Gold\n",
              "12348.0          75         31   1797.24  2  ...  4         224       8.0     Silver\n",
              "12349.0          19         73   1757.55  3  ...  4         334      10.0     Silver\n",
              "12350.0         310         17    334.40  1  ...  2         112       4.0      Green\n",
              "12352.0          36         95   1545.41  3  ...  3         333       9.0     Silver\n",
              "\n",
              "[5 rows x 9 columns]"
            ]
          },
          "metadata": {
            "tags": []
          },
          "execution_count": 41
        }
      ]
    },
    {
      "cell_type": "code",
      "metadata": {
        "id": "0MKcteojQqz3",
        "colab_type": "code",
        "colab": {}
      },
      "source": [
        ""
      ],
      "execution_count": 0,
      "outputs": []
    },
    {
      "cell_type": "markdown",
      "metadata": {
        "id": "Ii1bFJxITukM",
        "colab_type": "text"
      },
      "source": [
        "# Kmeans Clustering"
      ]
    },
    {
      "cell_type": "code",
      "metadata": {
        "id": "-iduDJ8MTyTh",
        "colab_type": "code",
        "colab": {}
      },
      "source": [
        "def neg_to_zero(x):\n",
        "    if x <= 0:\n",
        "        return 1\n",
        "    else:\n",
        "        return x"
      ],
      "execution_count": 0,
      "outputs": []
    },
    {
      "cell_type": "code",
      "metadata": {
        "id": "rV1u4sEfU4Tq",
        "colab_type": "code",
        "colab": {}
      },
      "source": [
        "from sklearn.preprocessing import StandardScaler\n",
        "from sklearn.cluster import KMeans"
      ],
      "execution_count": 0,
      "outputs": []
    },
    {
      "cell_type": "code",
      "metadata": {
        "id": "zbi_hhwPT0NP",
        "colab_type": "code",
        "colab": {}
      },
      "source": [
        "rfm['Recency'] = [neg_to_zero(x) for x in rfm.Recency]\n",
        "rfm['Monetary'] = [neg_to_zero(x) for x in rfm.Monetary]\n",
        "# unskew the data\n",
        "rfm_log = rfm[['Recency', 'Frequency', 'Monetary']].apply(np.log, axis = 1).round(3)"
      ],
      "execution_count": 0,
      "outputs": []
    },
    {
      "cell_type": "code",
      "metadata": {
        "id": "2x_TVkH8T6lv",
        "colab_type": "code",
        "colab": {
          "base_uri": "https://localhost:8080/",
          "height": 446
        },
        "outputId": "1eb13697-1d81-4785-b17f-e19c6c17f911"
      },
      "source": [
        "rfm_log"
      ],
      "execution_count": 44,
      "outputs": [
        {
          "output_type": "execute_result",
          "data": {
            "text/html": [
              "<div>\n",
              "<style scoped>\n",
              "    .dataframe tbody tr th:only-of-type {\n",
              "        vertical-align: middle;\n",
              "    }\n",
              "\n",
              "    .dataframe tbody tr th {\n",
              "        vertical-align: top;\n",
              "    }\n",
              "\n",
              "    .dataframe thead th {\n",
              "        text-align: right;\n",
              "    }\n",
              "</style>\n",
              "<table border=\"1\" class=\"dataframe\">\n",
              "  <thead>\n",
              "    <tr style=\"text-align: right;\">\n",
              "      <th></th>\n",
              "      <th>Recency</th>\n",
              "      <th>Frequency</th>\n",
              "      <th>Monetary</th>\n",
              "    </tr>\n",
              "    <tr>\n",
              "      <th>CustomerID</th>\n",
              "      <th></th>\n",
              "      <th></th>\n",
              "      <th></th>\n",
              "    </tr>\n",
              "  </thead>\n",
              "  <tbody>\n",
              "    <tr>\n",
              "      <th>12347.0</th>\n",
              "      <td>0.693</td>\n",
              "      <td>5.204</td>\n",
              "      <td>8.369</td>\n",
              "    </tr>\n",
              "    <tr>\n",
              "      <th>12348.0</th>\n",
              "      <td>4.317</td>\n",
              "      <td>3.434</td>\n",
              "      <td>7.494</td>\n",
              "    </tr>\n",
              "    <tr>\n",
              "      <th>12349.0</th>\n",
              "      <td>2.944</td>\n",
              "      <td>4.290</td>\n",
              "      <td>7.472</td>\n",
              "    </tr>\n",
              "    <tr>\n",
              "      <th>12350.0</th>\n",
              "      <td>5.737</td>\n",
              "      <td>2.833</td>\n",
              "      <td>5.812</td>\n",
              "    </tr>\n",
              "    <tr>\n",
              "      <th>12352.0</th>\n",
              "      <td>3.584</td>\n",
              "      <td>4.554</td>\n",
              "      <td>7.343</td>\n",
              "    </tr>\n",
              "    <tr>\n",
              "      <th>...</th>\n",
              "      <td>...</td>\n",
              "      <td>...</td>\n",
              "      <td>...</td>\n",
              "    </tr>\n",
              "    <tr>\n",
              "      <th>18280.0</th>\n",
              "      <td>5.628</td>\n",
              "      <td>2.303</td>\n",
              "      <td>5.196</td>\n",
              "    </tr>\n",
              "    <tr>\n",
              "      <th>18281.0</th>\n",
              "      <td>5.198</td>\n",
              "      <td>1.946</td>\n",
              "      <td>4.392</td>\n",
              "    </tr>\n",
              "    <tr>\n",
              "      <th>18282.0</th>\n",
              "      <td>2.079</td>\n",
              "      <td>2.565</td>\n",
              "      <td>5.174</td>\n",
              "    </tr>\n",
              "    <tr>\n",
              "      <th>18283.0</th>\n",
              "      <td>1.386</td>\n",
              "      <td>6.581</td>\n",
              "      <td>7.623</td>\n",
              "    </tr>\n",
              "    <tr>\n",
              "      <th>18287.0</th>\n",
              "      <td>3.761</td>\n",
              "      <td>4.248</td>\n",
              "      <td>7.516</td>\n",
              "    </tr>\n",
              "  </tbody>\n",
              "</table>\n",
              "<p>4361 rows × 3 columns</p>\n",
              "</div>"
            ],
            "text/plain": [
              "            Recency  Frequency  Monetary\n",
              "CustomerID                              \n",
              "12347.0       0.693      5.204     8.369\n",
              "12348.0       4.317      3.434     7.494\n",
              "12349.0       2.944      4.290     7.472\n",
              "12350.0       5.737      2.833     5.812\n",
              "12352.0       3.584      4.554     7.343\n",
              "...             ...        ...       ...\n",
              "18280.0       5.628      2.303     5.196\n",
              "18281.0       5.198      1.946     4.392\n",
              "18282.0       2.079      2.565     5.174\n",
              "18283.0       1.386      6.581     7.623\n",
              "18287.0       3.761      4.248     7.516\n",
              "\n",
              "[4361 rows x 3 columns]"
            ]
          },
          "metadata": {
            "tags": []
          },
          "execution_count": 44
        }
      ]
    },
    {
      "cell_type": "code",
      "metadata": {
        "id": "Zg2WcsQgT8RN",
        "colab_type": "code",
        "colab": {}
      },
      "source": [
        "scaler = StandardScaler()\n",
        "rfm_scaled = scaler.fit_transform(rfm_log)\n",
        "# transform into a dataframe\n",
        "rfm_scaled = pd.DataFrame(rfm_scaled, index = rfm.index, columns = rfm_log.columns)"
      ],
      "execution_count": 0,
      "outputs": []
    },
    {
      "cell_type": "code",
      "metadata": {
        "id": "mh1oxrA1Uokq",
        "colab_type": "code",
        "colab": {
          "base_uri": "https://localhost:8080/",
          "height": 285
        },
        "outputId": "9e5a622d-7a65-49ca-fe7e-18d6e2ad4f00"
      },
      "source": [
        "wcss = {}\n",
        "for k in range(1, 11):\n",
        "    kmeans = KMeans(n_clusters= k, init= 'k-means++', max_iter= 300)\n",
        "    kmeans.fit(rfm_scaled)\n",
        "    wcss[k] = kmeans.inertia_\n",
        "# plot the WCSS values\n",
        "sns.pointplot(x = list(wcss.keys()), y = list(wcss.values()))\n",
        "plt.xlabel('K Numbers')\n",
        "plt.ylabel('WCSS')\n",
        "plt.show()"
      ],
      "execution_count": 52,
      "outputs": [
        {
          "output_type": "display_data",
          "data": {
            "image/png": "[encoded data removed]",
            "text/plain": [
              "<Figure size 432x288 with 1 Axes>"
            ]
          },
          "metadata": {
            "tags": []
          }
        }
      ]
    },
    {
      "cell_type": "code",
      "metadata": {
        "id": "f7FQYyRZVOGI",
        "colab_type": "code",
        "colab": {
          "base_uri": "https://localhost:8080/",
          "height": 233
        },
        "outputId": "e7b0b558-4b1c-4b5f-c034-39e0b1380333"
      },
      "source": [
        "clus = KMeans(n_clusters= 3, init= 'k-means++', max_iter= 300)\n",
        "clus.fit(rfm_scaled)\n",
        "# Assign the clusters to datamart\n",
        "rfm['K_Cluster'] = clus.labels_\n",
        "rfm.head()"
      ],
      "execution_count": 53,
      "outputs": [
        {
          "output_type": "execute_result",
          "data": {
            "text/html": [
              "<div>\n",
              "<style scoped>\n",
              "    .dataframe tbody tr th:only-of-type {\n",
              "        vertical-align: middle;\n",
              "    }\n",
              "\n",
              "    .dataframe tbody tr th {\n",
              "        vertical-align: top;\n",
              "    }\n",
              "\n",
              "    .dataframe thead th {\n",
              "        text-align: right;\n",
              "    }\n",
              "</style>\n",
              "<table border=\"1\" class=\"dataframe\">\n",
              "  <thead>\n",
              "    <tr style=\"text-align: right;\">\n",
              "      <th></th>\n",
              "      <th>Recency</th>\n",
              "      <th>Frequency</th>\n",
              "      <th>Monetary</th>\n",
              "      <th>R</th>\n",
              "      <th>F</th>\n",
              "      <th>M</th>\n",
              "      <th>RFM_Segment</th>\n",
              "      <th>RFM_Score</th>\n",
              "      <th>RFM_Level</th>\n",
              "      <th>K_Cluster</th>\n",
              "    </tr>\n",
              "    <tr>\n",
              "      <th>CustomerID</th>\n",
              "      <th></th>\n",
              "      <th></th>\n",
              "      <th></th>\n",
              "      <th></th>\n",
              "      <th></th>\n",
              "      <th></th>\n",
              "      <th></th>\n",
              "      <th></th>\n",
              "      <th></th>\n",
              "      <th></th>\n",
              "    </tr>\n",
              "  </thead>\n",
              "  <tbody>\n",
              "    <tr>\n",
              "      <th>12347.0</th>\n",
              "      <td>2</td>\n",
              "      <td>182</td>\n",
              "      <td>4310.00</td>\n",
              "      <td>4</td>\n",
              "      <td>4</td>\n",
              "      <td>4</td>\n",
              "      <td>444</td>\n",
              "      <td>12.0</td>\n",
              "      <td>Gold</td>\n",
              "      <td>1</td>\n",
              "    </tr>\n",
              "    <tr>\n",
              "      <th>12348.0</th>\n",
              "      <td>75</td>\n",
              "      <td>31</td>\n",
              "      <td>1797.24</td>\n",
              "      <td>2</td>\n",
              "      <td>2</td>\n",
              "      <td>4</td>\n",
              "      <td>224</td>\n",
              "      <td>8.0</td>\n",
              "      <td>Silver</td>\n",
              "      <td>0</td>\n",
              "    </tr>\n",
              "    <tr>\n",
              "      <th>12349.0</th>\n",
              "      <td>19</td>\n",
              "      <td>73</td>\n",
              "      <td>1757.55</td>\n",
              "      <td>3</td>\n",
              "      <td>3</td>\n",
              "      <td>4</td>\n",
              "      <td>334</td>\n",
              "      <td>10.0</td>\n",
              "      <td>Silver</td>\n",
              "      <td>1</td>\n",
              "    </tr>\n",
              "    <tr>\n",
              "      <th>12350.0</th>\n",
              "      <td>310</td>\n",
              "      <td>17</td>\n",
              "      <td>334.40</td>\n",
              "      <td>1</td>\n",
              "      <td>1</td>\n",
              "      <td>2</td>\n",
              "      <td>112</td>\n",
              "      <td>4.0</td>\n",
              "      <td>Green</td>\n",
              "      <td>0</td>\n",
              "    </tr>\n",
              "    <tr>\n",
              "      <th>12352.0</th>\n",
              "      <td>36</td>\n",
              "      <td>95</td>\n",
              "      <td>1545.41</td>\n",
              "      <td>3</td>\n",
              "      <td>3</td>\n",
              "      <td>3</td>\n",
              "      <td>333</td>\n",
              "      <td>9.0</td>\n",
              "      <td>Silver</td>\n",
              "      <td>1</td>\n",
              "    </tr>\n",
              "  </tbody>\n",
              "</table>\n",
              "</div>"
            ],
            "text/plain": [
              "            Recency  Frequency  Monetary  ... RFM_Score RFM_Level K_Cluster\n",
              "CustomerID                                ...                              \n",
              "12347.0           2        182   4310.00  ...      12.0      Gold         1\n",
              "12348.0          75         31   1797.24  ...       8.0    Silver         0\n",
              "12349.0          19         73   1757.55  ...      10.0    Silver         1\n",
              "12350.0         310         17    334.40  ...       4.0     Green         0\n",
              "12352.0          36         95   1545.41  ...       9.0    Silver         1\n",
              "\n",
              "[5 rows x 10 columns]"
            ]
          },
          "metadata": {
            "tags": []
          },
          "execution_count": 53
        }
      ]
    },
    {
      "cell_type": "code",
      "metadata": {
        "id": "JzXgB-c9WCUy",
        "colab_type": "code",
        "colab": {
          "base_uri": "https://localhost:8080/",
          "height": 202
        },
        "outputId": "5a4a0549-0229-4d2a-b59b-99c141917b62"
      },
      "source": [
        "# assign cluster column \n",
        "rfm_scaled['K_Cluster'] = clus.labels_\n",
        "rfm_scaled['RFM_Level'] = rfm.RFM_Level\n",
        "rfm_scaled.reset_index(inplace = True)\n",
        "# melt the dataframe\n",
        "rfm_melted = pd.melt(frame= rfm_scaled, id_vars= ['CustomerID', 'RFM_Level', 'K_Cluster'], var_name = 'Metrics', value_name = 'Value')\n",
        "rfm_melted.head()"
      ],
      "execution_count": 54,
      "outputs": [
        {
          "output_type": "execute_result",
          "data": {
            "text/html": [
              "<div>\n",
              "<style scoped>\n",
              "    .dataframe tbody tr th:only-of-type {\n",
              "        vertical-align: middle;\n",
              "    }\n",
              "\n",
              "    .dataframe tbody tr th {\n",
              "        vertical-align: top;\n",
              "    }\n",
              "\n",
              "    .dataframe thead th {\n",
              "        text-align: right;\n",
              "    }\n",
              "</style>\n",
              "<table border=\"1\" class=\"dataframe\">\n",
              "  <thead>\n",
              "    <tr style=\"text-align: right;\">\n",
              "      <th></th>\n",
              "      <th>CustomerID</th>\n",
              "      <th>RFM_Level</th>\n",
              "      <th>K_Cluster</th>\n",
              "      <th>Metrics</th>\n",
              "      <th>Value</th>\n",
              "    </tr>\n",
              "  </thead>\n",
              "  <tbody>\n",
              "    <tr>\n",
              "      <th>0</th>\n",
              "      <td>12347.0</td>\n",
              "      <td>Gold</td>\n",
              "      <td>1</td>\n",
              "      <td>Recency</td>\n",
              "      <td>-2.079243</td>\n",
              "    </tr>\n",
              "    <tr>\n",
              "      <th>1</th>\n",
              "      <td>12348.0</td>\n",
              "      <td>Silver</td>\n",
              "      <td>0</td>\n",
              "      <td>Recency</td>\n",
              "      <td>0.399570</td>\n",
              "    </tr>\n",
              "    <tr>\n",
              "      <th>2</th>\n",
              "      <td>12349.0</td>\n",
              "      <td>Silver</td>\n",
              "      <td>1</td>\n",
              "      <td>Recency</td>\n",
              "      <td>-0.539561</td>\n",
              "    </tr>\n",
              "    <tr>\n",
              "      <th>3</th>\n",
              "      <td>12350.0</td>\n",
              "      <td>Green</td>\n",
              "      <td>0</td>\n",
              "      <td>Recency</td>\n",
              "      <td>1.370849</td>\n",
              "    </tr>\n",
              "    <tr>\n",
              "      <th>4</th>\n",
              "      <td>12352.0</td>\n",
              "      <td>Silver</td>\n",
              "      <td>1</td>\n",
              "      <td>Recency</td>\n",
              "      <td>-0.101801</td>\n",
              "    </tr>\n",
              "  </tbody>\n",
              "</table>\n",
              "</div>"
            ],
            "text/plain": [
              "   CustomerID RFM_Level  K_Cluster  Metrics     Value\n",
              "0     12347.0      Gold          1  Recency -2.079243\n",
              "1     12348.0    Silver          0  Recency  0.399570\n",
              "2     12349.0    Silver          1  Recency -0.539561\n",
              "3     12350.0     Green          0  Recency  1.370849\n",
              "4     12352.0    Silver          1  Recency -0.101801"
            ]
          },
          "metadata": {
            "tags": []
          },
          "execution_count": 54
        }
      ]
    },
    {
      "cell_type": "code",
      "metadata": {
        "id": "F_h729_TX8ry",
        "colab_type": "code",
        "colab": {
          "base_uri": "https://localhost:8080/",
          "height": 319
        },
        "outputId": "d26eeea3-07b0-4ea4-d811-c3ba7716cb28"
      },
      "source": [
        "# a snake plot with RFM\n",
        "sns.lineplot(x = 'Metrics', y = 'Value', hue = 'RFM_Level', data = rfm_melted)\n",
        "plt.title('Snake Plot of RFM')\n",
        "plt.legend(loc = 'upper right')\n"
      ],
      "execution_count": 58,
      "outputs": [
        {
          "output_type": "execute_result",
          "data": {
            "text/plain": [
              "<matplotlib.legend.Legend at 0x7f1b92eed7f0>"
            ]
          },
          "metadata": {
            "tags": []
          },
          "execution_count": 58
        },
        {
          "output_type": "display_data",
          "data": {
            "image/png": "[encoded data removed]",
            "text/plain": [
              "<Figure size 432x288 with 1 Axes>"
            ]
          },
          "metadata": {
            "tags": []
          }
        }
      ]
    },
    {
      "cell_type": "code",
      "metadata": {
        "id": "KoTDWSrciOuf",
        "colab_type": "code",
        "colab": {
          "base_uri": "https://localhost:8080/",
          "height": 319
        },
        "outputId": "c237fbef-6f5f-4ce8-b5d0-ce76e74673f0"
      },
      "source": [
        "# a snake plot with K-Means\n",
        "sns.lineplot(x = 'Metrics', y = 'Value', hue = 'K_Cluster', data = rfm_melted)\n",
        "plt.title('Snake Plot of RFM')\n",
        "plt.legend(loc = 'upper right')"
      ],
      "execution_count": 57,
      "outputs": [
        {
          "output_type": "execute_result",
          "data": {
            "text/plain": [
              "<matplotlib.legend.Legend at 0x7f1b989e6048>"
            ]
          },
          "metadata": {
            "tags": []
          },
          "execution_count": 57
        },
        {
          "output_type": "display_data",
          "data": {
            "image/png": "[encoded data removed]",
            "text/plain": [
              "<Figure size 432x288 with 1 Axes>"
            ]
          },
          "metadata": {
            "tags": []
          }
        }
      ]
    },
    {
      "cell_type": "code",
      "metadata": {
        "id": "YYlQ2wqPYFGz",
        "colab_type": "code",
        "colab": {}
      },
      "source": [
        "import numpy as np\n",
        "import matplotlib.pyplot as plt\n",
        "# Though the following import is not directly being used, it is required\n",
        "# for 3D projection to work\n",
        "from mpl_toolkits.mplot3d import Axes3D\n"
      ],
      "execution_count": 0,
      "outputs": []
    },
    {
      "cell_type": "code",
      "metadata": {
        "id": "PQtGMsI6hTB3",
        "colab_type": "code",
        "colab": {}
      },
      "source": [
        "rfm=rfm_scaled[['Recency',\t'Frequency','Monetary']]\n",
        "km = KMeans(n_clusters=3)\n",
        "km.fit(rfm)\n",
        "km.predict(rfm)\n",
        "labels = km.labels_"
      ],
      "execution_count": 0,
      "outputs": []
    },
    {
      "cell_type": "code",
      "metadata": {
        "id": "vzbbp9hYjDlt",
        "colab_type": "code",
        "colab": {
          "base_uri": "https://localhost:8080/",
          "height": 553
        },
        "outputId": "c3d011d6-4033-44a9-fac5-0f83e4bbf3a3"
      },
      "source": [
        "fig = plt.figure(1, figsize=(7,7))\n",
        "ax = Axes3D(fig, rect=[0, 0, 0.95, 1], elev=48, azim=134)\n",
        "ax.scatter(rfm['Recency'], rfm['Frequency'],rfm['Monetary'],\n",
        "          c=labels.astype(np.float), edgecolor=\"k\", s=50)\n",
        "ax.set_xlabel(\"Recency\")\n",
        "ax.set_ylabel(\"Frequency\")\n",
        "ax.set_zlabel(\"Monetary\")\n",
        "plt.title(\"K Means\", fontsize=14)"
      ],
      "execution_count": 62,
      "outputs": [
        {
          "output_type": "execute_result",
          "data": {
            "text/plain": [
              "Text(0.5, 0.92, 'K Means')"
            ]
          },
          "metadata": {
            "tags": []
          },
          "execution_count": 62
        },
        {
          "output_type": "display_data",
          "data": {
            "image/png": "[encoded data removed]",
            "text/plain": [
              "<Figure size 504x504 with 1 Axes>"
            ]
          },
          "metadata": {
            "tags": []
          }
        }
      ]
    },
    {
      "cell_type": "code",
      "metadata": {
        "id": "oC1puWTDkGJQ",
        "colab_type": "code",
        "colab": {}
      },
      "source": [
        ""
      ],
      "execution_count": 0,
      "outputs": []
    }
  ]
}