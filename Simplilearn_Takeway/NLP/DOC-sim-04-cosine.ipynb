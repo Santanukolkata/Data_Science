{
 "cells": [
  {
   "cell_type": "markdown",
   "metadata": {},
   "source": [
    "# cosine similarity\n"
   ]
  },
  {
   "cell_type": "code",
   "execution_count": 1,
   "metadata": {},
   "outputs": [],
   "source": [
    "import numpy as np\n",
    "import pandas as pd\n",
    "\n",
    "from nltk import sent_tokenize, word_tokenize\n",
    "from nltk.stem import PorterStemmer\n",
    "import re\n",
    "\n",
    "from scipy.spatial import distance\n",
    "from sklearn.metrics.pairwise import cosine_similarity\n",
    "\n",
    "from sklearn.feature_extraction.text import TfidfVectorizer\n",
    "from sklearn.feature_extraction.text import CountVectorizer\n",
    "\n",
    "# import plotting libraries\n",
    "from mpl_toolkits.mplot3d.axes3d import Axes3D\n",
    "\n",
    "import matplotlib\n",
    "import matplotlib.pyplot as plt\n",
    "from pandas.plotting import scatter_matrix\n",
    "%matplotlib inline \n",
    "\n",
    "import seaborn as sns\n",
    "sns.set(style=\"white\", color_codes=True)\n",
    "sns.set(font_scale=1.5)\n",
    "\n",
    "from sklearn.preprocessing import normalize"
   ]
  },
  {
   "attachments": {
    "cos1.GIF": {
     "image/gif": "[encoded data removed]"
    },
    "cos2.GIF": {
     "image/gif": "[encoded data removed]"
    }
   },
   "cell_type": "markdown",
   "metadata": {},
   "source": [
    "## what is Cosine Similarity\n",
    "\n",
    "- In practice, cosine similarity tends to be useful when trying to determine how similar two texts/documents are. \n",
    "\n",
    "- used for sentiment analysis, translation, for detecting plagiarism. \n",
    "\n",
    "- Cosine similarity works in these usecases because we ignore magnitude and focus solely on orientation. when the magnitude of the vectors does not matter. \n",
    "\n",
    "- In NLP, this might help us still detect that a much longer document has the same “theme” as a much shorter document since we don’t worry about the magnitude or the “length” of the documents themselves.\n",
    "\n",
    "\n",
    "- Intuitively, let’s say we have 2 vectors, each representing a sentence. If the vectors are close to parallel, maybe we assume that both sentences are “similar” in theme. Whereas if the vectors are orthogonal, then we assume the sentences are independent or NOT “similar”. \n",
    "\n",
    "![cos1.GIF](attachment:cos1.GIF)\n",
    "\n",
    "![cos2.GIF](attachment:cos2.GIF)\n",
    "\n",
    "The resulting similarity ranges from \n",
    "\n",
    "- −1 meaning exactly opposite, \n",
    "-  1 meaning exactly the same, \n",
    "-  0 indicating orthogonality or decorrelation, \n",
    "- while in-between values indicate intermediate similarity or dissimilarity.\n",
    "\n",
    "For __text matching__, the attribute vectors A and B are usually the term frequency vectors of the documents. Cosine similarity can be seen as a method of normalizing document length during comparison.\n",
    "\n",
    "In the case of __information retrieval__, the cosine similarity of two documents will range from 0 to 1, since the term frequencies (using tf–idf weights) cannot be negative. The angle between two term frequency vectors cannot be greater than 90°."
   ]
  },
  {
   "cell_type": "code",
   "execution_count": 3,
   "metadata": {},
   "outputs": [],
   "source": [
    "# vectors\n",
    "a = np.array([1,  2,  3])\n",
    "b = np.array([10, 10, 40])"
   ]
  },
  {
   "cell_type": "code",
   "execution_count": 4,
   "metadata": {},
   "outputs": [
    {
     "data": {
      "text/plain": [
       "0.05508881747693195"
      ]
     },
     "execution_count": 4,
     "metadata": {},
     "output_type": "execute_result"
    }
   ],
   "source": [
    "# method - 1 - using scipy\n",
    "distance.cosine(a, b)"
   ]
  },
  {
   "cell_type": "code",
   "execution_count": 5,
   "metadata": {},
   "outputs": [
    {
     "name": "stdout",
     "output_type": "stream",
     "text": [
      "Cosine similarity is 0.944911182523068\n",
      "Cosine distance   is 0.05508881747693195\n"
     ]
    }
   ],
   "source": [
    "# method - 2 - using numpy\n",
    "# manually compute cosine similarity\n",
    "dot = np.dot(a, b)\n",
    "norma = np.linalg.norm(a)\n",
    "normb = np.linalg.norm(b)\n",
    "cos = dot / (norma * normb)\n",
    "\n",
    "print(\"Cosine similarity is {}\".format(cos))\n",
    "print(\"Cosine distance   is {}\".format(1-cos))"
   ]
  },
  {
   "cell_type": "code",
   "execution_count": 5,
   "metadata": {},
   "outputs": [
    {
     "name": "stdout",
     "output_type": "stream",
     "text": [
      "Cosine similarity is 0.944911182523068\n",
      "Cosine distance   is 0.05508881747693195\n"
     ]
    }
   ],
   "source": [
    "# Method 3\n",
    "# define own cosine function\n",
    "def compute_cosine(a, b):\n",
    "    result_num = np.dot(a, b)\n",
    "    result_den = np.sqrt(np.sum(a **2)) * np.sqrt(np.sum(b ** 2))\n",
    "    \n",
    "    return result_num / result_den\n",
    "\n",
    "cos = compute_cosine(a, b)\n",
    "\n",
    "print(\"Cosine similarity is {}\".format(cos))\n",
    "print(\"Cosine distance   is {}\".format(1-cos))"
   ]
  },
  {
   "cell_type": "markdown",
   "metadata": {},
   "source": [
    "# When to use the cosine similarity?"
   ]
  },
  {
   "cell_type": "code",
   "execution_count": 7,
   "metadata": {},
   "outputs": [
    {
     "data": {
      "text/html": [
       "<div>\n",
       "<style scoped>\n",
       "    .dataframe tbody tr th:only-of-type {\n",
       "        vertical-align: middle;\n",
       "    }\n",
       "\n",
       "    .dataframe tbody tr th {\n",
       "        vertical-align: top;\n",
       "    }\n",
       "\n",
       "    .dataframe thead th {\n",
       "        text-align: right;\n",
       "    }\n",
       "</style>\n",
       "<table border=\"1\" class=\"dataframe\">\n",
       "  <thead>\n",
       "    <tr style=\"text-align: right;\">\n",
       "      <th></th>\n",
       "      <th>weight</th>\n",
       "      <th>length</th>\n",
       "      <th>label</th>\n",
       "    </tr>\n",
       "  </thead>\n",
       "  <tbody>\n",
       "    <tr>\n",
       "      <th>0</th>\n",
       "      <td>6.6</td>\n",
       "      <td>6.2</td>\n",
       "      <td>1.0</td>\n",
       "    </tr>\n",
       "    <tr>\n",
       "      <th>1</th>\n",
       "      <td>9.7</td>\n",
       "      <td>9.9</td>\n",
       "      <td>2.0</td>\n",
       "    </tr>\n",
       "    <tr>\n",
       "      <th>2</th>\n",
       "      <td>8.0</td>\n",
       "      <td>8.3</td>\n",
       "      <td>2.0</td>\n",
       "    </tr>\n",
       "    <tr>\n",
       "      <th>3</th>\n",
       "      <td>6.3</td>\n",
       "      <td>5.4</td>\n",
       "      <td>1.0</td>\n",
       "    </tr>\n",
       "    <tr>\n",
       "      <th>4</th>\n",
       "      <td>1.3</td>\n",
       "      <td>2.7</td>\n",
       "      <td>0.0</td>\n",
       "    </tr>\n",
       "    <tr>\n",
       "      <th>5</th>\n",
       "      <td>2.3</td>\n",
       "      <td>3.1</td>\n",
       "      <td>0.0</td>\n",
       "    </tr>\n",
       "    <tr>\n",
       "      <th>6</th>\n",
       "      <td>6.6</td>\n",
       "      <td>6.0</td>\n",
       "      <td>1.0</td>\n",
       "    </tr>\n",
       "    <tr>\n",
       "      <th>7</th>\n",
       "      <td>6.5</td>\n",
       "      <td>6.4</td>\n",
       "      <td>1.0</td>\n",
       "    </tr>\n",
       "    <tr>\n",
       "      <th>8</th>\n",
       "      <td>6.3</td>\n",
       "      <td>5.8</td>\n",
       "      <td>1.0</td>\n",
       "    </tr>\n",
       "    <tr>\n",
       "      <th>9</th>\n",
       "      <td>9.5</td>\n",
       "      <td>9.9</td>\n",
       "      <td>2.0</td>\n",
       "    </tr>\n",
       "    <tr>\n",
       "      <th>10</th>\n",
       "      <td>8.9</td>\n",
       "      <td>8.9</td>\n",
       "      <td>2.0</td>\n",
       "    </tr>\n",
       "    <tr>\n",
       "      <th>11</th>\n",
       "      <td>8.7</td>\n",
       "      <td>9.5</td>\n",
       "      <td>2.0</td>\n",
       "    </tr>\n",
       "    <tr>\n",
       "      <th>12</th>\n",
       "      <td>2.5</td>\n",
       "      <td>3.8</td>\n",
       "      <td>0.0</td>\n",
       "    </tr>\n",
       "    <tr>\n",
       "      <th>13</th>\n",
       "      <td>2.0</td>\n",
       "      <td>3.1</td>\n",
       "      <td>0.0</td>\n",
       "    </tr>\n",
       "    <tr>\n",
       "      <th>14</th>\n",
       "      <td>1.3</td>\n",
       "      <td>1.3</td>\n",
       "      <td>0.0</td>\n",
       "    </tr>\n",
       "  </tbody>\n",
       "</table>\n",
       "</div>"
      ],
      "text/plain": [
       "    weight  length  label\n",
       "0      6.6     6.2    1.0\n",
       "1      9.7     9.9    2.0\n",
       "2      8.0     8.3    2.0\n",
       "3      6.3     5.4    1.0\n",
       "4      1.3     2.7    0.0\n",
       "5      2.3     3.1    0.0\n",
       "6      6.6     6.0    1.0\n",
       "7      6.5     6.4    1.0\n",
       "8      6.3     5.8    1.0\n",
       "9      9.5     9.9    2.0\n",
       "10     8.9     8.9    2.0\n",
       "11     8.7     9.5    2.0\n",
       "12     2.5     3.8    0.0\n",
       "13     2.0     3.1    0.0\n",
       "14     1.3     1.3    0.0"
      ]
     },
     "execution_count": 7,
     "metadata": {},
     "output_type": "execute_result"
    }
   ],
   "source": [
    "X = np.array([[6.6, 6.2, 1],\n",
    "              [9.7, 9.9, 2],\n",
    "              [8.0, 8.3, 2],\n",
    "              [6.3, 5.4, 1],\n",
    "              [1.3, 2.7, 0],\n",
    "              [2.3, 3.1, 0],\n",
    "              [6.6, 6.0, 1],\n",
    "              [6.5, 6.4, 1],\n",
    "              [6.3, 5.8, 1],\n",
    "              [9.5, 9.9, 2],\n",
    "              [8.9, 8.9, 2],\n",
    "              [8.7, 9.5, 2],\n",
    "              [2.5, 3.8, 0],\n",
    "              [2.0, 3.1, 0],\n",
    "              [1.3, 1.3, 0]])\n",
    "\n",
    "df = pd.DataFrame(X, columns=['weight', 'length', 'label'])\n",
    "df"
   ]
  },
  {
   "cell_type": "code",
   "execution_count": 8,
   "metadata": {},
   "outputs": [
    {
     "data": {
      "image/png": "[encoded data removed]",
      "text/plain": [
       "<Figure size 432x288 with 1 Axes>"
      ]
     },
     "metadata": {
      "needs_background": "light"
     },
     "output_type": "display_data"
    }
   ],
   "source": [
    "\n",
    "ax = df[df['label'] == 0].plot.scatter(x='weight', y='length', c='blue',   label='young')\n",
    "ax = df[df['label'] == 1].plot.scatter(x='weight', y='length', c='orange', label='mid',   ax=ax)\n",
    "ax = df[df['label'] == 2].plot.scatter(x='weight', y='length', c='red',    label='adult', ax=ax)\n",
    "\n",
    "ax;"
   ]
  },
  {
   "cell_type": "markdown",
   "metadata": {},
   "source": [
    "Looking at the plot above, we can see that the 3 classes are pretty well distinguishable by these 2 features that we have. \n",
    "\n",
    "Say that we apply k-NN to our data that will learn to classify new instances based on their distance to our known instances (and their labels). \n",
    "\n",
    "The algorithm needs a distance metric to determine which of the known instances are closest to the new one. "
   ]
  },
  {
   "cell_type": "code",
   "execution_count": 9,
   "metadata": {},
   "outputs": [
    {
     "data": {
      "image/png": "[encoded data removed]",
      "text/plain": [
       "<Figure size 432x288 with 1 Axes>"
      ]
     },
     "metadata": {
      "needs_background": "light"
     },
     "output_type": "display_data"
    }
   ],
   "source": [
    "# Considering instance #0, #1, and #4 to be our known instances, we assume that we don’t know \n",
    "# the label of #14. \n",
    "# Plotting this will look as follows:\n",
    "\n",
    "df2 = pd.DataFrame([df.iloc[0], df.iloc[1], df.iloc[4]], columns=['weight', 'length', 'label'])\n",
    "df3 = pd.DataFrame([df.iloc[14]], columns=['weight', 'length', 'label'])\n",
    "\n",
    "ax = df2[df2['label'] == 0].plot.scatter(x='weight', y='length', c='blue',   label='young')\n",
    "ax = df2[df2['label'] == 1].plot.scatter(x='weight', y='length', c='orange', label='mid',   ax=ax)\n",
    "ax = df2[df2['label'] == 2].plot.scatter(x='weight', y='length', c='red',    label='adult', ax=ax)\n",
    "\n",
    "ax = df3.plot.scatter(x='weight', y='length', c='gray', label='?', ax=ax)"
   ]
  },
  {
   "cell_type": "markdown",
   "metadata": {},
   "source": [
    "#### Euclidean\n",
    "Our euclidean distance function can be defined as follows:\n",
    "\n",
    "$$ \\Large \\sqrt{\\sum^n_{i=1} (x_i - y_i)^2} $$"
   ]
  },
  {
   "cell_type": "code",
   "execution_count": 10,
   "metadata": {},
   "outputs": [],
   "source": [
    "def euclidean_distance(x, y):   \n",
    "    return np.sqrt(np.sum((x - y) ** 2))"
   ]
  },
  {
   "cell_type": "code",
   "execution_count": 11,
   "metadata": {},
   "outputs": [
    {
     "data": {
      "text/plain": [
       "array([9.7, 9.9])"
      ]
     },
     "execution_count": 11,
     "metadata": {},
     "output_type": "execute_result"
    }
   ],
   "source": [
    "X[1][:-1]"
   ]
  },
  {
   "cell_type": "code",
   "execution_count": 12,
   "metadata": {},
   "outputs": [
    {
     "name": "stdout",
     "output_type": "stream",
     "text": [
      " x0: [6.6 6.2] \n",
      " x1: [9.7 9.9] \n",
      " x4: [1.3 2.7] \n",
      "x14: [1.3 1.3]\n"
     ]
    }
   ],
   "source": [
    "x0 = X[0][:-1]\n",
    "x1 = X[1][:-1]\n",
    "x4 = X[4][:-1]\n",
    "\n",
    "x14 = X[14][:-1]\n",
    "print(\" x0:\", x0, \"\\n x1:\", x1, \"\\n x4:\", x4, \"\\nx14:\", x14)"
   ]
  },
  {
   "cell_type": "code",
   "execution_count": 13,
   "metadata": {},
   "outputs": [
    {
     "name": "stdout",
     "output_type": "stream",
     "text": [
      "x14 and x0: 7.218032973047436 \n",
      " x14 and x1: 12.021647141718974 \n",
      " x14 and x4: 1.4000000000000001\n"
     ]
    }
   ],
   "source": [
    "print(\"x14 and x0:\", euclidean_distance(x14, x0), \"\\n\",\n",
    "      \"x14 and x1:\", euclidean_distance(x14, x1), \"\\n\",\n",
    "      \"x14 and x4:\", euclidean_distance(x14, x4))"
   ]
  },
  {
   "cell_type": "markdown",
   "metadata": {},
   "source": [
    "According to euclidean distance, instance #14 is closest to #4. Our 4th instance had the label:\n",
    "\n",
    "0 = young, which is what we would visually also deem the correct label for this instance."
   ]
  },
  {
   "cell_type": "code",
   "execution_count": 8,
   "metadata": {},
   "outputs": [
    {
     "data": {
      "text/plain": [
       "array([1.3, 2.7, 0. ])"
      ]
     },
     "execution_count": 8,
     "metadata": {},
     "output_type": "execute_result"
    }
   ],
   "source": [
    "X[4]"
   ]
  },
  {
   "cell_type": "markdown",
   "metadata": {},
   "source": [
    "#### Cosine\n",
    "Our cosine similarity function can be defined as follows:\n",
    "\n",
    "$$ \\Large \\frac{x \\bullet y}{ \\sqrt{x \\bullet x} \\sqrt{y \\bullet y}} $$\n",
    "\n",
    "Where x and y are two vectors"
   ]
  },
  {
   "cell_type": "code",
   "execution_count": 14,
   "metadata": {},
   "outputs": [],
   "source": [
    "def fn_cosine_similarity(x, y):\n",
    "    return np.dot(x, y) / (np.sqrt(np.dot(x, x)) * np.sqrt(np.dot(y, y)))"
   ]
  },
  {
   "cell_type": "code",
   "execution_count": 15,
   "metadata": {},
   "outputs": [
    {
     "name": "stdout",
     "output_type": "stream",
     "text": [
      " x14 and x0: 0.9995120760870786 \n",
      " x14 and x1: 0.9999479424242859 \n",
      " x14 and x4: 0.9438583563660174\n"
     ]
    }
   ],
   "source": [
    "print(\" x14 and x0:\", fn_cosine_similarity(x14, x0), \"\\n\",\n",
    "      \"x14 and x1:\",  fn_cosine_similarity(x14, x1), \"\\n\",\n",
    "      \"x14 and x4:\",  fn_cosine_similarity(x14, x4))"
   ]
  },
  {
   "cell_type": "markdown",
   "metadata": {},
   "source": [
    "According to cosine similarity, instance #14 is closest to #1. However, our 1st instance had the label:\n",
    "\n",
    "2 = adult, which is definitely NOT correct!"
   ]
  },
  {
   "cell_type": "code",
   "execution_count": 16,
   "metadata": {},
   "outputs": [
    {
     "data": {
      "text/plain": [
       "array([9.7, 9.9, 2. ])"
      ]
     },
     "execution_count": 16,
     "metadata": {},
     "output_type": "execute_result"
    }
   ],
   "source": [
    "X[1]"
   ]
  },
  {
   "attachments": {
    "cosine_similarity.png": {
     "image/png": "[encoded data removed]"
    }
   },
   "cell_type": "markdown",
   "metadata": {},
   "source": [
    "#### So what is the deal here ??\n",
    "\n",
    "![cosine_similarity.png](attachment:cosine_similarity.png)\n",
    "\n",
    "- visual representation of euclidean distance (d) and cosine similarity (θ)\n",
    "- cosine looks at the angle between vectors (thus not taking into regard their weight or magnitude) \n",
    "- euclidean distance is similar to using a ruler to actually measure the distance. \n",
    "\n",
    "In our example the angle between x14 and x4 was larger than those of the other vectors, even though they were further away."
   ]
  },
  {
   "cell_type": "code",
   "execution_count": 11,
   "metadata": {},
   "outputs": [
    {
     "name": "stdout",
     "output_type": "stream",
     "text": [
      "[6.6 6.2] [9.7 9.9] [1.3 2.7] [1.3 1.3]\n"
     ]
    }
   ],
   "source": [
    "print(x0 , x1 , x4 , x14 )"
   ]
  },
  {
   "cell_type": "code",
   "execution_count": 17,
   "metadata": {},
   "outputs": [
    {
     "data": {
      "text/plain": [
       "(0, 12)"
      ]
     },
     "execution_count": 17,
     "metadata": {},
     "output_type": "execute_result"
    },
    {
     "data": {
      "image/png": "[encoded data removed]",
      "text/plain": [
       "<Figure size 1152x432 with 1 Axes>"
      ]
     },
     "metadata": {
      "needs_background": "light"
     },
     "output_type": "display_data"
    }
   ],
   "source": [
    "plt.figure(figsize=(16, 6))\n",
    "plt.arrow(0, 0, x0[0], x0[1], head_width = .5,  head_length= .5, fc='r', ec='k')\n",
    "plt.annotate('0, class 1 ', xy=(x0[0], x0[1]), xytext=(x0[0],x0[1]))\n",
    "\n",
    "plt.arrow(0, 0, x1[0], x1[1], head_width = .5,  head_length= .5, fc='r', ec='k')\n",
    "plt.annotate('1, class 2 ', xy=(x1[0], x1[1]), xytext=(x1[0],x1[1]))\n",
    "\n",
    "plt.arrow(0, 0, x4[0], x4[1], head_width = .5,  head_length= .5, fc='r', ec='k')\n",
    "plt.annotate('4, class 0 ', xy=(x4[0], x4[1]), xytext=(x4[0],x4[1]))\n",
    "\n",
    "plt.arrow(0, 0, x14[0], x14[1], head_width = .5,  head_length= .5, fc='r', ec='g')\n",
    "\n",
    "plt.xlim(0, 12)\n",
    "plt.ylim(0, 12)"
   ]
  },
  {
   "cell_type": "code",
   "execution_count": 72,
   "metadata": {},
   "outputs": [
    {
     "data": {
      "text/html": [
       "<div>\n",
       "<style>\n",
       "    .dataframe thead tr:only-child th {\n",
       "        text-align: right;\n",
       "    }\n",
       "\n",
       "    .dataframe thead th {\n",
       "        text-align: left;\n",
       "    }\n",
       "\n",
       "    .dataframe tbody tr th {\n",
       "        vertical-align: top;\n",
       "    }\n",
       "</style>\n",
       "<table border=\"1\" class=\"dataframe\">\n",
       "  <thead>\n",
       "    <tr style=\"text-align: right;\">\n",
       "      <th></th>\n",
       "      <th>weight</th>\n",
       "      <th>length</th>\n",
       "      <th>label</th>\n",
       "    </tr>\n",
       "  </thead>\n",
       "  <tbody>\n",
       "    <tr>\n",
       "      <th>0</th>\n",
       "      <td>6.6</td>\n",
       "      <td>6.2</td>\n",
       "      <td>1.0</td>\n",
       "    </tr>\n",
       "    <tr>\n",
       "      <th>1</th>\n",
       "      <td>9.7</td>\n",
       "      <td>9.9</td>\n",
       "      <td>2.0</td>\n",
       "    </tr>\n",
       "    <tr>\n",
       "      <th>4</th>\n",
       "      <td>1.3</td>\n",
       "      <td>2.7</td>\n",
       "      <td>0.0</td>\n",
       "    </tr>\n",
       "    <tr>\n",
       "      <th>14</th>\n",
       "      <td>1.3</td>\n",
       "      <td>1.3</td>\n",
       "      <td>0.0</td>\n",
       "    </tr>\n",
       "  </tbody>\n",
       "</table>\n",
       "</div>"
      ],
      "text/plain": [
       "    weight  length  label\n",
       "0      6.6     6.2    1.0\n",
       "1      9.7     9.9    2.0\n",
       "4      1.3     2.7    0.0\n",
       "14     1.3     1.3    0.0"
      ]
     },
     "execution_count": 72,
     "metadata": {},
     "output_type": "execute_result"
    }
   ],
   "source": [
    "# the 3 training and 1 test points\n",
    "df.iloc[[0, 1, 4, 14]]"
   ]
  },
  {
   "cell_type": "markdown",
   "metadata": {},
   "source": [
    "# How do Euclidean Distance and Cosine Similarity Relate?"
   ]
  },
  {
   "cell_type": "code",
   "execution_count": 75,
   "metadata": {},
   "outputs": [
    {
     "name": "stdout",
     "output_type": "stream",
     "text": [
      "vectors \t [6.6 6.2] [9.7 9.9] \n",
      "euclidean \t 4.827007354458868 \n",
      "cosine \t\t 0.9991413385403556\n"
     ]
    }
   ],
   "source": [
    "print(\"vectors \\t\", x0, x1, \"\\n\"\n",
    "      \"euclidean \\t\", euclidean_distance(x0, x1), \"\\n\"\n",
    "      \"cosine \\t\\t\" , fn_cosine_similarity(x0, x1))"
   ]
  },
  {
   "cell_type": "markdown",
   "metadata": {},
   "source": [
    "Cosine similarity takes a unit length vector to calculate dot products. However, what happens if we do the same for the vectors we’re calculating the euclidian distance for (i.e. normalize them)?\n",
    "\n",
    "we will do the same for the vectors we’re calculating the euclidian distance for (i.e. normalize them)\n",
    "\n",
    "$$ L_1 = \\sum_i x_i $$\n",
    "\n",
    "or the $ L_2 $ norm\n",
    "\n",
    "$$ L_2 = \\sqrt{\\sum_i x_i^2 } $$"
   ]
  },
  {
   "cell_type": "code",
   "execution_count": 74,
   "metadata": {
    "collapsed": true,
    "jupyter": {
     "outputs_hidden": true
    }
   },
   "outputs": [],
   "source": [
    "def l1_normalize(v):\n",
    "    norm = np.sum(v)\n",
    "    return v / norm\n",
    "\n",
    "def l2_normalize(v):\n",
    "    norm = np.sqrt(np.sum(np.square(v)))\n",
    "    return v / norm"
   ]
  },
  {
   "cell_type": "markdown",
   "metadata": {},
   "source": [
    "We will divide the values of our vector by these norms to get a normalized vector.\n",
    "\n",
    "Applying the L1 norm to our vectors will make them sum up to 1 respectively, as such:"
   ]
  },
  {
   "cell_type": "code",
   "execution_count": 75,
   "metadata": {},
   "outputs": [
    {
     "name": "stdout",
     "output_type": "stream",
     "text": [
      "[0.515625 0.484375] [0.49489796 0.50510204]\n"
     ]
    }
   ],
   "source": [
    "x0_n = l1_normalize(x0)\n",
    "x1_n = l1_normalize(x1)\n",
    "print(x0_n, x1_n)"
   ]
  },
  {
   "cell_type": "code",
   "execution_count": 147,
   "metadata": {},
   "outputs": [
    {
     "name": "stdout",
     "output_type": "stream",
     "text": [
      "vectors \t [0.515625 0.484375] [0.49489796 0.50510204] \n",
      "euclidean \t 0.029312462230309616 \n",
      "cosine \t\t 0.9991413385403558\n"
     ]
    }
   ],
   "source": [
    "print(\"vectors \\t\", x0_n, x1_n, \"\\n\"\n",
    "      \"euclidean \\t\", euclidean_distance(x0_n, x1_n), \"\\n\"\n",
    "      \"cosine \\t\\t\", fn_cosine_similarity(x0_n, x1_n))"
   ]
  },
  {
   "cell_type": "markdown",
   "metadata": {},
   "source": [
    "before, the distance was pretty big, but the cosine similarity very high. Now that we normalized our vectors, it turns out that the distance is now very small\n",
    "\n",
    "let us try vector 4, Unnormalized:\n"
   ]
  },
  {
   "cell_type": "code",
   "execution_count": 149,
   "metadata": {},
   "outputs": [
    {
     "name": "stdout",
     "output_type": "stream",
     "text": [
      "vectors \t [6.6 6.2] [1.3 2.7] \n",
      "euclidean \t 6.351377803280167 \n",
      "cosine \t\t 0.9330794115892785\n",
      "vectors \t [0.515625 0.484375] [0.325 0.675] \n",
      "euclidean \t 0.26958446032737116 \n",
      "cosine \t\t 0.9330794115892785\n"
     ]
    }
   ],
   "source": [
    "print(\"vectors \\t\", x0, x4, \"\\n\"\n",
    "      \"euclidean \\t\", euclidean_distance(x0, x4), \"\\n\"\n",
    "      \"cosine \\t\\t\", fn_cosine_similarity(x0, x4))\n",
    "\n",
    "# Normalized:\n",
    "\n",
    "x4_n = l1_normalize(x4)\n",
    "\n",
    "print(\"vectors \\t\", x0_n, x4_n, \"\\n\"\n",
    "      \"euclidean \\t\", euclidean_distance(x0_n, x4_n), \"\\n\"\n",
    "      \"cosine \\t\\t\",  fn_cosine_similarity(x0_n, x4_n))"
   ]
  },
  {
   "cell_type": "markdown",
   "metadata": {},
   "source": [
    "Notice that because the cosine similarity is a bit lower between x0 and x4 than it was for x0 and x1, the euclidean distance is now also a bit larger.\n",
    "\n",
    "\n",
    "let’s construct a vector that is almost evenly distant in our euclidean space, but where the cosine similarity is much lower"
   ]
  },
  {
   "cell_type": "code",
   "execution_count": 150,
   "metadata": {},
   "outputs": [
    {
     "name": "stdout",
     "output_type": "stream",
     "text": [
      "vectors \t [6.6 6.2] [0.1 6. ] \n",
      "euclidean \t 6.503076195155644 \n",
      "cosine \t\t 0.696726168727881\n"
     ]
    }
   ],
   "source": [
    "x00 = np.array([0.1, 6])\n",
    "\n",
    "print(\"vectors \\t\", x0, x00, \"\\n\"\n",
    "      \"euclidean \\t\", euclidean_distance(x0, x00), \"\\n\"\n",
    "      \"cosine \\t\\t\", fn_cosine_similarity(x0, x00))"
   ]
  },
  {
   "cell_type": "code",
   "execution_count": 151,
   "metadata": {},
   "outputs": [
    {
     "name": "stdout",
     "output_type": "stream",
     "text": [
      "vectors \t [0.515625 0.484375] [0.01639344 0.98360656] \n",
      "euclidean \t 0.7060200392072649 \n",
      "cosine \t\t 0.6967261687278811\n"
     ]
    }
   ],
   "source": [
    "x00_n = l1_normalize(x00)\n",
    "\n",
    "print(\"vectors \\t\", x0_n, x00_n, \"\\n\"\n",
    "      \"euclidean \\t\", euclidean_distance(x0_n, x00_n), \"\\n\"\n",
    "      \"cosine \\t\\t\", fn_cosine_similarity(x0_n, x00_n))"
   ]
  },
  {
   "cell_type": "markdown",
   "metadata": {},
   "source": [
    "# when is cosine handy?\n",
    "\n",
    "Let’s consider 4 articles from Wikipedia. We use the Wikipedia API to extract them, after which we can access their text with the .content method.\n",
    "\n",
    "** pip install wikipedia **\n",
    "\n",
    "Wikipedia is a Python library that makes it easy to access and parse data from Wikipedia.\n",
    "\n",
    "Search Wikipedia, get article summaries, get data like links and images from a page, and more. "
   ]
  },
  {
   "cell_type": "code",
   "execution_count": 18,
   "metadata": {},
   "outputs": [],
   "source": [
    "import wikipedia"
   ]
  },
  {
   "cell_type": "code",
   "execution_count": 19,
   "metadata": {},
   "outputs": [],
   "source": [
    "q1 = wikipedia.page('Machine Learning')\n",
    "q2 = wikipedia.page('Artifical Intelligence')\n",
    "q3 = wikipedia.page('Soccer')\n",
    "q4 = wikipedia.page('Tennis')"
   ]
  },
  {
   "cell_type": "code",
   "execution_count": 20,
   "metadata": {},
   "outputs": [
    {
     "name": "stdout",
     "output_type": "stream",
     "text": [
      "ML \t 6332 \n",
      "AI \t 14830 \n",
      "soccer \t 6835 \n",
      "tennis \t 11007\n"
     ]
    }
   ],
   "source": [
    "print(\"ML \\t\", len(q1.content.split()), \"\\n\"\n",
    "      \"AI \\t\", len(q2.content.split()), \"\\n\"\n",
    "      \"soccer \\t\", len(q3.content.split()), \"\\n\"\n",
    "      \"tennis \\t\", len(q4.content.split()))"
   ]
  },
  {
   "cell_type": "markdown",
   "metadata": {},
   "source": [
    "AI is a much larger article than Machine Learning (ML). \n",
    "\n",
    "This would mean that if we do not normalize our vectors, AI will be much further away from ML just because it has many more words. \n",
    "\n",
    "ML will probably be closer to an article with less words."
   ]
  },
  {
   "cell_type": "code",
   "execution_count": 21,
   "metadata": {},
   "outputs": [],
   "source": [
    "cv = CountVectorizer()"
   ]
  },
  {
   "cell_type": "code",
   "execution_count": 22,
   "metadata": {},
   "outputs": [
    {
     "data": {
      "text/plain": [
       "5825"
      ]
     },
     "execution_count": 22,
     "metadata": {},
     "output_type": "execute_result"
    }
   ],
   "source": [
    "cv = cv.fit(([q1.content, \n",
    "              q2.content, \n",
    "              q3.content, \n",
    "              q4.content]))\n",
    "\n",
    "len(cv.get_feature_names())"
   ]
  },
  {
   "cell_type": "code",
   "execution_count": 23,
   "metadata": {},
   "outputs": [],
   "source": [
    "X = cv.transform([q1.content, \n",
    "                           q2.content, \n",
    "                           q3.content, \n",
    "                           q4.content]).toarray()"
   ]
  },
  {
   "cell_type": "code",
   "execution_count": 24,
   "metadata": {},
   "outputs": [
    {
     "data": {
      "text/plain": [
       "array([[ 0,  0,  0, ...,  0,  0,  0],\n",
       "       [ 1,  0,  0, ...,  2,  0,  0],\n",
       "       [ 2,  0,  1, ...,  0,  0,  1],\n",
       "       [12,  1,  0, ...,  0,  1,  0]], dtype=int64)"
      ]
     },
     "execution_count": 24,
     "metadata": {},
     "output_type": "execute_result"
    }
   ],
   "source": [
    "X"
   ]
  },
  {
   "cell_type": "code",
   "execution_count": 25,
   "metadata": {},
   "outputs": [
    {
     "name": "stdout",
     "output_type": "stream",
     "text": [
      "ML - AI \t 794.8899294870957 \n",
      "ML - soccer \t 457.0262574513635 \n",
      "ML - tennis \t 790.3480246068816\n"
     ]
    }
   ],
   "source": [
    "print(\"ML - AI \\t\", euclidean_distance(X[0], X[1]), \"\\n\"\n",
    "      \"ML - soccer \\t\", euclidean_distance(X[0], X[2]), \"\\n\"\n",
    "      \"ML - tennis \\t\", euclidean_distance(X[0], X[3]))"
   ]
  },
  {
   "cell_type": "markdown",
   "metadata": {},
   "source": [
    "ML seems to be closest to soccer, which doesn’t make a lot of sense intuitively. \n",
    "\n",
    "So, what happens if we look at cosine similairty (thus normalising our vectors)?"
   ]
  },
  {
   "cell_type": "code",
   "execution_count": 27,
   "metadata": {},
   "outputs": [
    {
     "name": "stdout",
     "output_type": "stream",
     "text": [
      "ML - AI \t 0.8965381343882575 \n",
      "ML - soccer \t 0.8012455133876663 \n",
      "ML - tennis \t 0.8125029759237865\n"
     ]
    }
   ],
   "source": [
    "print(\"ML - AI \\t\", fn_cosine_similarity(X[0], X[1]), \"\\n\"\n",
    "      \"ML - soccer \\t\", fn_cosine_similarity(X[0], X[2]), \"\\n\"\n",
    "      \"ML - tennis \\t\", fn_cosine_similarity(X[0], X[3]))"
   ]
  },
  {
   "cell_type": "markdown",
   "metadata": {},
   "source": [
    "ML is closer to AI! Granted, it still seems pretty close to soccer an tennis judging from these scores, but please note that word frequency is not that great of a representation for texts with such rich content."
   ]
  },
  {
   "cell_type": "markdown",
   "metadata": {},
   "source": [
    "# Categorize a Tweet"
   ]
  },
  {
   "cell_type": "code",
   "execution_count": 28,
   "metadata": {},
   "outputs": [],
   "source": [
    "ml_tweet = \"New research release: overcoming many of Reinforcement Learning's limitations with Evolution Strategies.\""
   ]
  },
  {
   "cell_type": "code",
   "execution_count": 29,
   "metadata": {},
   "outputs": [],
   "source": [
    "x = np.array(cv.transform([ml_tweet]).todense())[0]"
   ]
  },
  {
   "cell_type": "code",
   "execution_count": 30,
   "metadata": {},
   "outputs": [
    {
     "name": "stdout",
     "output_type": "stream",
     "text": [
      "tweet - ML \t 582.6027806318813 \n",
      "tweet - AI \t 1274.1554065340695 \n",
      "tweet - soccer \t 762.3693330663294 \n",
      "tweet - tennis \t 1187.0189551982733\n"
     ]
    }
   ],
   "source": [
    "print(\"tweet - ML \\t\", euclidean_distance(x[0], X[0]), \"\\n\"\n",
    "      \"tweet - AI \\t\", euclidean_distance(x[0], X[1]), \"\\n\"\n",
    "      \"tweet - soccer \\t\", euclidean_distance(x[0], X[2]), \"\\n\"\n",
    "      \"tweet - tennis \\t\", euclidean_distance(x[0], X[3]))"
   ]
  },
  {
   "cell_type": "markdown",
   "metadata": {},
   "source": [
    "Well, that worked out pretty well at first glance, it’s closest to ML. However, see how it’s also closer to soccer than AI? "
   ]
  },
  {
   "cell_type": "code",
   "execution_count": 31,
   "metadata": {},
   "outputs": [
    {
     "name": "stdout",
     "output_type": "stream",
     "text": [
      "tweet - ML \t 0.24696695299258176 \n",
      "tweet - AI \t 0.1925924774722562 \n",
      "tweet - soccer \t 0.11904645807537512 \n",
      "tweet - tennis \t 0.11295571330513689\n"
     ]
    }
   ],
   "source": [
    "print(\"tweet - ML \\t\", fn_cosine_similarity(x, X[0]), \"\\n\"\n",
    "      \"tweet - AI \\t\", fn_cosine_similarity(x, X[1]), \"\\n\"\n",
    "      \"tweet - soccer \\t\", fn_cosine_similarity(x, X[2]), \"\\n\"\n",
    "      \"tweet - tennis \\t\", fn_cosine_similarity(x, X[3]))"
   ]
  },
  {
   "cell_type": "code",
   "execution_count": 32,
   "metadata": {},
   "outputs": [],
   "source": [
    "so_tweet = \"#LegendsDownUnder The Reds are out for the warm up at the @nibStadium. Not long now until kick-off in Perth.\""
   ]
  },
  {
   "cell_type": "code",
   "execution_count": 168,
   "metadata": {
    "collapsed": true,
    "jupyter": {
     "outputs_hidden": true
    }
   },
   "outputs": [],
   "source": [
    "x2 = np.array(cv.transform([so_tweet]).todense())[0]"
   ]
  },
  {
   "cell_type": "code",
   "execution_count": 169,
   "metadata": {},
   "outputs": [
    {
     "name": "stdout",
     "output_type": "stream",
     "text": [
      "tweet - ML \t 517.7644251974058 \n",
      "tweet - AI \t 1205.3667491680696 \n",
      "tweet - soccer \t 735.5528533015149 \n",
      "tweet - tennis \t 1076.8133543005492\n"
     ]
    }
   ],
   "source": [
    "print(\"tweet - ML \\t\", euclidean_distance(x2, X[0]), \"\\n\"\n",
    "      \"tweet - AI \\t\", euclidean_distance(x2, X[1]), \"\\n\"\n",
    "      \"tweet - soccer \\t\", euclidean_distance(x2, X[2]), \"\\n\"\n",
    "      \"tweet - tennis \\t\", euclidean_distance(x2, X[3]))"
   ]
  },
  {
   "cell_type": "code",
   "execution_count": 170,
   "metadata": {},
   "outputs": [
    {
     "name": "stdout",
     "output_type": "stream",
     "text": [
      "tweet - ML \t 0.46541353104914085 \n",
      "tweet - AI \t 0.46417194656702776 \n",
      "tweet - soccer \t 0.6095142097107774 \n",
      "tweet - tennis \t 0.5989515638500108\n"
     ]
    }
   ],
   "source": [
    "print(\"tweet - ML \\t\", fn_cosine_similarity(x2, X[0]), \"\\n\"\n",
    "      \"tweet - AI \\t\", fn_cosine_similarity(x2, X[1]), \"\\n\"\n",
    "      \"tweet - soccer \\t\", fn_cosine_similarity(x2, X[2]), \"\\n\"\n",
    "      \"tweet - tennis \\t\", fn_cosine_similarity(x2, X[3]))"
   ]
  },
  {
   "cell_type": "markdown",
   "metadata": {},
   "source": [
    "# Hamming distance\n",
    "\n",
    "Compute the Hamming distance between two 1-D arrays.\n",
    "\n",
    "The Hamming distance between 1-D arrays u and v, is simply the proportion of disagreeing components in u and v.\n",
    "\n",
    "In information theory, the Hamming distance between two strings of equal length is the number of positions at which the corresponding symbols are different. In other words, it measures the minimum number of substitutions required to change one string into the other, or the minimum number of errors that could have transformed one string into the other."
   ]
  },
  {
   "cell_type": "code",
   "execution_count": 3,
   "metadata": {
    "collapsed": true,
    "jupyter": {
     "outputs_hidden": true
    }
   },
   "outputs": [],
   "source": [
    "data_dict = {'num_doors':   pd.Series(data= [2, 4, 2, 2]),\n",
    "             'num_cyl':     pd.Series(data= [2, 3, 4, 8]),\n",
    "             'cruise_ctrl': pd.Series(data= [0, 0, 1, 1]),\n",
    "             'price_cat':   pd.Series(data= [1, 2, 2, 4])\n",
    "            }"
   ]
  },
  {
   "cell_type": "code",
   "execution_count": 4,
   "metadata": {},
   "outputs": [
    {
     "data": {
      "text/html": [
       "<div>\n",
       "<style>\n",
       "    .dataframe thead tr:only-child th {\n",
       "        text-align: right;\n",
       "    }\n",
       "\n",
       "    .dataframe thead th {\n",
       "        text-align: left;\n",
       "    }\n",
       "\n",
       "    .dataframe tbody tr th {\n",
       "        vertical-align: top;\n",
       "    }\n",
       "</style>\n",
       "<table border=\"1\" class=\"dataframe\">\n",
       "  <thead>\n",
       "    <tr style=\"text-align: right;\">\n",
       "      <th></th>\n",
       "      <th>cruise_ctrl</th>\n",
       "      <th>num_cyl</th>\n",
       "      <th>num_doors</th>\n",
       "      <th>price_cat</th>\n",
       "    </tr>\n",
       "  </thead>\n",
       "  <tbody>\n",
       "    <tr>\n",
       "      <th>0</th>\n",
       "      <td>0</td>\n",
       "      <td>2</td>\n",
       "      <td>2</td>\n",
       "      <td>1</td>\n",
       "    </tr>\n",
       "    <tr>\n",
       "      <th>1</th>\n",
       "      <td>0</td>\n",
       "      <td>3</td>\n",
       "      <td>4</td>\n",
       "      <td>2</td>\n",
       "    </tr>\n",
       "    <tr>\n",
       "      <th>2</th>\n",
       "      <td>1</td>\n",
       "      <td>4</td>\n",
       "      <td>2</td>\n",
       "      <td>2</td>\n",
       "    </tr>\n",
       "    <tr>\n",
       "      <th>3</th>\n",
       "      <td>1</td>\n",
       "      <td>8</td>\n",
       "      <td>2</td>\n",
       "      <td>4</td>\n",
       "    </tr>\n",
       "  </tbody>\n",
       "</table>\n",
       "</div>"
      ],
      "text/plain": [
       "   cruise_ctrl  num_cyl  num_doors  price_cat\n",
       "0            0        2          2          1\n",
       "1            0        3          4          2\n",
       "2            1        4          2          2\n",
       "3            1        8          2          4"
      ]
     },
     "execution_count": 4,
     "metadata": {},
     "output_type": "execute_result"
    }
   ],
   "source": [
    "df = pd.DataFrame(data_dict)\n",
    "df"
   ]
  },
  {
   "cell_type": "code",
   "execution_count": 10,
   "metadata": {
    "collapsed": true,
    "jupyter": {
     "outputs_hidden": true
    }
   },
   "outputs": [],
   "source": [
    "a = df.iloc[1].values\n",
    "b = df.iloc[2].values"
   ]
  },
  {
   "cell_type": "code",
   "execution_count": 11,
   "metadata": {},
   "outputs": [
    {
     "data": {
      "text/plain": [
       "array([0, 3, 4, 2], dtype=int64)"
      ]
     },
     "execution_count": 11,
     "metadata": {},
     "output_type": "execute_result"
    }
   ],
   "source": [
    "a"
   ]
  },
  {
   "cell_type": "code",
   "execution_count": 13,
   "metadata": {},
   "outputs": [
    {
     "data": {
      "text/plain": [
       "0.75"
      ]
     },
     "execution_count": 13,
     "metadata": {},
     "output_type": "execute_result"
    }
   ],
   "source": [
    "distance.hamming(a, b)"
   ]
  },
  {
   "cell_type": "markdown",
   "metadata": {},
   "source": [
    "# scipy.spatial.distance.braycurtis - Dissimilarity\n",
    "\n",
    "For a simple example, consider two aquariums;\n",
    "\n",
    "Tank one: 6 goldfish, 7 guppies and 4 rainbow fish,\n",
    "Tank two: 10 goldfish           and 6 rainbow fish.\n",
    "\n",
    "\n",
    "To calculate Bray-Curtis,\n",
    "- let’s first calculate Cij (the sum of only the lesser counts for each species found in both sites). \n",
    "- Goldfish are found on both sites; the lesser count is 6. \n",
    "- Guppies are only on one site, so they can’t be added in here. \n",
    "- Rainbow fish, though, are on both, and the lesser count is 4.\n",
    "\n",
    "So Cij = 6 + 4 = 10.\n",
    "\n",
    "Si (total number of specimens counted on site i) = 6 + 7 + 4 = 17, and\n",
    "Sj (total number of specimens counted on site j) = 10 + 6 = 16.\n",
    "\n",
    "So our BCij = 1 – (2 * 10) / (17 + 16), or 0.39.\n",
    "\n",
    "** interpretation **\n",
    "\n",
    "The Bray-Curtis dissimilarity is always a number between 0 and 1. \n",
    "- If 0, the two sites share all the same species; \n",
    "- if 1, they don’t share any species.\n",
    "\n",
    "** Assumptions **\n",
    "\n",
    "To calculate the Bray-Curtis dissimilarity between two sites you must assume that both sites are the same size, either in area or volume (as is relevant to species counts). \n",
    "\n",
    "This is because the equation doesn’t include any notion of space; it works only with the counts themselves.\n",
    "\n",
    "If the two sites are not the same size, you will need to adjust your counts before doing the Bray-Curtis calculation.\n",
    "\n",
    "\n",
    "[1, 0, 0]\n",
    "[0, 1, 0]\n",
    "\n"
   ]
  },
  {
   "cell_type": "markdown",
   "metadata": {},
   "source": [
    " $ s = 1 - \\frac{|p - q|}{n - 1}$"
   ]
  },
  {
   "cell_type": "markdown",
   "metadata": {},
   "source": [
    "# Locality Sensitive Hashing \n",
    "\n",
    "pip install LocalitySensitiveHashing\n",
    "\n",
    "A Python implementation of Locality Sensitive Hashing for finding nearest neighbors and clusters in multidimensional numerical data\n",
    "\n",
    "- Locality Sensitive Hashing (LSH) is a computationally efficient approach for finding nearest neighbors in large datasets. \n",
    "\n",
    "- The main idea in LSH is to avoid having to compare every pair of data samples in a large dataset in order to find the nearest similar neighbors for the different data samples. \n",
    "\n",
    "- With LSH, one can expect a data sample and its closest similar neighbors to be hashed into the same bucket with a high probability. \n",
    "\n",
    "- By treating the data samples placed in the same bucket as candidates for similarity checking, we significantly reduce the computational burden associated with similarity detection in large datasets.\n",
    "\n",
    "- While LSH algorithms have traditionally been used for finding nearest neighbors, this module goes a step further and explores using LSH for clustering the data. \n",
    "\n",
    "- Strictly speaking, this violates the basic mandate of LSH, which is to return just the nearest neighbors. (A data sample X being Y’s nearest neighbor and Y being Z’s nearest neighbor, in the sense neighbors are commonly defined with the Cosine metric in LSH, does not imply that X and Z will always be sufficiently close to be considered each other’s nearest neighbors.) "
   ]
  },
  {
   "cell_type": "markdown",
   "metadata": {},
   "source": [
    "- Random hyper-planes $h_1, h_2,...h_k$\n",
    "\n",
    "- space sliced into $2^k regions (ploytopes) $\n",
    "\n",
    "- compare x only to training points in the same region\n",
    "\n",
    "- Complexity : O(kd + dn/$2^k$) = O(d.log(n)) vs O(dn)\n",
    "\n",
    "- missed neighbors\n",
    "    - repeat with different $h_1, h_2,...h_k$\n"
   ]
  },
  {
   "cell_type": "code",
   "execution_count": null,
   "metadata": {
    "collapsed": true,
    "jupyter": {
     "outputs_hidden": true
    }
   },
   "outputs": [],
   "source": []
  }
 ],
 "metadata": {
  "kernelspec": {
   "display_name": "Python 3",
   "language": "python",
   "name": "python3"
  },
  "language_info": {
   "codemirror_mode": {
    "name": "ipython",
    "version": 3
   },
   "file_extension": ".py",
   "mimetype": "text/x-python",
   "name": "python",
   "nbconvert_exporter": "python",
   "pygments_lexer": "ipython3",
   "version": "3.7.3"
  },
  "latex_envs": {
   "LaTeX_envs_menu_present": true,
   "autoclose": false,
   "autocomplete": true,
   "bibliofile": "biblio.bib",
   "cite_by": "apalike",
   "current_citInitial": 1,
   "eqLabelWithNumbers": true,
   "eqNumInitial": 1,
   "hotkeys": {
    "equation": "Ctrl-E",
    "itemize": "Ctrl-I"
   },
   "labels_anchors": false,
   "latex_user_defs": false,
   "report_style_numbering": false,
   "user_envs_cfg": false
  },
  "toc": {
   "base_numbering": 1,
   "nav_menu": {},
   "number_sections": true,
   "sideBar": true,
   "skip_h1_title": false,
   "title_cell": "Table of Contents",
   "title_sidebar": "Contents",
   "toc_cell": false,
   "toc_position": {},
   "toc_section_display": true,
   "toc_window_display": false
  }
 },
 "nbformat": 4,
 "nbformat_minor": 4
}
