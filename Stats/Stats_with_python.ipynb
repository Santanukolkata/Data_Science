{
 "cells": [
  {
   "cell_type": "markdown",
   "metadata": {},
   "source": [
    "# t_test \n",
    "\n",
    "**stats.ttest_1samp**: Tests if the mean of a population is a given value.<br>\n",
    "**stats.ttest_ind**: Tests if the means of two independent samples are equal.<br>\n",
    "**stats.ttest_rel**: Tests if the means of two paired samples are equal."
   ]
  },
  {
   "cell_type": "code",
   "execution_count": 10,
   "metadata": {},
   "outputs": [
    {
     "name": "stdout",
     "output_type": "stream",
     "text": [
      "Average Mean: 46.42857142857143\n",
      "I value: 25 p-values: 0.017658693351358494  we are rejecting null hypothesis\n",
      "I value: 26 p-values: 0.021387532450148627  we are rejecting null hypothesis\n",
      "I value: 27 p-values: 0.025989742647204658  we are rejecting null hypothesis\n",
      "I value: 28 p-values: 0.03168213630795642  we are rejecting null hypothesis\n",
      "I value: 29 p-values: 0.03873511319492668  we are rejecting null hypothesis\n",
      "I value: 30 p-values: 0.04748428764762371  we are rejecting null hypothesis\n",
      "I value: 31 p-values: 0.05834339498142283 we are accepting null hypothesis\n",
      "I value: 32 p-values: 0.07181776558123817 we are accepting null hypothesis\n",
      "I value: 33 p-values: 0.08851699913110267 we are accepting null hypothesis\n",
      "I value: 34 p-values: 0.10916454046944962 we are accepting null hypothesis\n",
      "I value: 35 p-values: 0.13460065296905135 we are accepting null hypothesis\n",
      "I value: 36 p-values: 0.1657739102577879 we are accepting null hypothesis\n",
      "I value: 37 p-values: 0.20371507292647853 we are accepting null hypothesis\n",
      "I value: 38 p-values: 0.24948664056562592 we are accepting null hypothesis\n",
      "I value: 39 p-values: 0.3041023204434444 we are accepting null hypothesis\n",
      "I value: 40 p-values: 0.36841414635279235 we are accepting null hypothesis\n",
      "I value: 41 p-values: 0.4429717981011066 we are accepting null hypothesis\n",
      "I value: 42 p-values: 0.5278686687971968 we are accepting null hypothesis\n",
      "I value: 43 p-values: 0.6226005256538956 we are accepting null hypothesis\n",
      "I value: 44 p-values: 0.7259712337800426 we are accepting null hypothesis\n",
      "I value: 45 p-values: 0.8360807081910884 we are accepting null hypothesis\n",
      "I value: 46 p-values: 0.9504188857668446 we are accepting null hypothesis\n",
      "I value: 47 p-values: 0.9339337860529326 we are accepting null hypothesis\n",
      "I value: 48 p-values: 0.8200277600348006 we are accepting null hypothesis\n",
      "I value: 49 p-values: 0.7107398053954607 we are accepting null hypothesis\n",
      "I value: 50 p-values: 0.6085028091894831 we are accepting null hypothesis\n",
      "I value: 51 p-values: 0.5151194375766818 we are accepting null hypothesis\n",
      "I value: 52 p-values: 0.43168398706325056 we are accepting null hypothesis\n",
      "I value: 53 p-values: 0.35860804412189196 we are accepting null hypothesis\n",
      "I value: 54 p-values: 0.2957237392876368 we are accepting null hypothesis\n",
      "I value: 55 p-values: 0.2424288555157973 we are accepting null hypothesis\n",
      "I value: 56 p-values: 0.19784019271037895 we are accepting null hypothesis\n",
      "I value: 57 p-values: 0.16093090688963743 we are accepting null hypothesis\n",
      "I value: 58 p-values: 0.1306388513512842 we are accepting null hypothesis\n",
      "I value: 59 p-values: 0.10594255655980835 we are accepting null hypothesis\n",
      "I value: 60 p-values: 0.08590780562680758 we are accepting null hypothesis\n",
      "I value: 61 p-values: 0.06971083181745909 we are accepting null hypothesis\n",
      "I value: 62 p-values: 0.056644836245629236 we are accepting null hypothesis\n",
      "I value: 63 p-values: 0.04611580518582564  we are rejecting null hypothesis\n",
      "I value: 64 p-values: 0.03763230781990942  we are rejecting null hypothesis\n",
      "I value: 65 p-values: 0.030792591866214695  we are rejecting null hypothesis\n"
     ]
    }
   ],
   "source": [
    "import numpy as np\n",
    "from scipy import stats\n",
    "Ages=np.array([20,30,40,50,60,55,70])\n",
    "np_mean=Ages.mean()\n",
    "print('Average Mean:',np_mean)\n",
    "for i in range(25,66):\n",
    "    tset, pval = stats.ttest_1samp(Ages,i )\n",
    "    if pval < 0.05:    \n",
    "        print(\"I value:\",i,\"p-values:\",pval,\" we are rejecting null hypothesis\")\n",
    "    else:\n",
    "        print(\"I value:\",i,\"p-values:\",pval,\"we are accepting null hypothesis\")"
   ]
  },
  {
   "cell_type": "code",
   "execution_count": 11,
   "metadata": {},
   "outputs": [
    {
     "name": "stdout",
     "output_type": "stream",
     "text": [
      "-0.4635235823621444\n",
      "0.6520259307676195\n",
      "we accept null hypothesis\n"
     ]
    }
   ],
   "source": [
    "from scipy import stats\n",
    "s1 = [20,30,40,50,60,70]\n",
    "s2 = [10,30,40,50,60,70,100]\n",
    "t,p=stats.ttest_ind(s1,s2)\n",
    "print(t)\n",
    "print(p)\n",
    "if p <0.05:\n",
    "  print(\"we reject null hypothesis\")\n",
    "else:\n",
    "  print(\"we accept null hypothesis\")"
   ]
  },
  {
   "cell_type": "code",
   "execution_count": 12,
   "metadata": {},
   "outputs": [
    {
     "name": "stdout",
     "output_type": "stream",
     "text": [
      "1.315587028960544\n",
      "0.2208380130273219\n",
      "we accept null hypothesis\n"
     ]
    }
   ],
   "source": [
    "from scipy import stats\n",
    "s1 = [12, 7, 3, 11, 8, 5, 14, 7, 9, 10]\n",
    "s2 = [8, 7, 4, 14, 6, 7, 12, 5, 5, 8]\n",
    "t,p=stats.ttest_rel(s1,s2)\n",
    "print(t)\n",
    "print(p)\n",
    "if p <0.05:\n",
    "    print(\"we reject null hypothesis\")\n",
    "else:\n",
    "    print(\"we accept null hypothesis\")"
   ]
  },
  {
   "cell_type": "markdown",
   "metadata": {},
   "source": [
    "--------------------------------------------------------------------------------\n",
    "There are two types of Chi-squared tests:<br>\n",
    "Goodness of Fit<br>\n",
    "Test for Independence\n",
    "\n",
    "Chi-squared Statistic Value\n",
    "\n",
    "Smaller statistic value: There is a relationship between category variables.<br>\n",
    "Larger statistic value: There is no relationship between category variables."
   ]
  },
  {
   "cell_type": "markdown",
   "metadata": {},
   "source": [
    "The following Contigency table shows the subject preference of left-handed and right- handed individuals.\n",
    "<table align=\"center\">\n",
    "<tr><th>Subject</th><th>\tLeft-handed</th><th>Right-handed</th></tr>\n",
    "<tr><td>Science</td><td>\t30</td><td>10</td></tr>\n",
    "<tr><td>Maths</td><td>15</td><td>25</td></tr>\n",
    "<tr><td>Computer Science</td><td>15</td><td>5</td></tr>\n",
    "<tr><b>Null Hypothesis</b></tr>\n",
    "<tr>There is no difference in distribution between left-handed and right-handed individuals in terms of preference of subjects.</tr>\n",
    "<tr><b>Alternate Hypotheis</b></tr>\n",
    "<tr>There is a difference in subject preference between left-handed and right-handed individuals.</tr></table>"
   ]
  },
  {
   "cell_type": "code",
   "execution_count": null,
   "metadata": {},
   "outputs": [],
   "source": [
    "from scipy.stats import chi2_contingency\n",
    "from scipy.stats import chi2\n",
    "table = [[30, 15, 15], \t[10,  25,  5]]\n",
    "stat,p,dof,expected = chi2_contingency(table)\n",
    "prob = 0.95\n",
    "critical = chi2.ppf(prob, dof)\n",
    "if abs(stat) >= critical:\n",
    "\tprint('Dependent (reject H0)')\n",
    "else:\n",
    "\tprint('Independent (fail to reject H0)')\n",
    "    "
   ]
  },
  {
   "cell_type": "markdown",
   "metadata": {},
   "source": [
    "The table shows the contingency table of marital status by education. Use Chi-Square test for testing Homogenity.contingency table of marital status by education.\n",
    "<table>\n",
    "<tr><th>Marital Status</th><th>Middle school</th><th>High School</th><th>Bachelor</th><th>Masters</th><th>PhD</th></tr>\n",
    "<tr><td>'Single'</td><td>18</td><td>36</td><td>21</td><td>9</td><td>6</td><td></tr>\n",
    "<tr><td>'Married'</td><td>12</td><td>36</td><td>45</td><td>36</td><td>21</td><td></tr>\n",
    "<tr><td>'Divorced'</td><td>6</td><td>9</td><td>9</td><td>3</td><td>3</td><td></tr>\n",
    "<tr><td>'Widowed'</td><td>3</td><td>9</td><td>9</td><td>6</td><td>3</td><td></tr>\n",
    "</table>\n",
    "\n",
    "    \n",
    "1.Import chi2_contingency and chi2 from scipy.stats package.\n",
    "\n",
    "2.Declare a 2D array with the values mentioned in the contingency table of marital status by education.\n",
    "\n",
    "3.Calculate and print the values of\n",
    "\n",
    " - Chi-Square Statistic\n",
    " - Degree of Freedom\n",
    " - P value\n",
    " - Hint: Use chi2_contigency() function\n",
    "4.Assume the alpha value to be 0.05\n",
    "\n",
    "5.Compare the P value with alpha and decide whether or not to reject the null hypothesis.\n",
    "\n",
    " - If Rejected print \"Reject the Null Hypothesis\"\n",
    " - Else print \"Failed to reject the Null Hypothesis\""
   ]
  },
  {
   "cell_type": "code",
   "execution_count": 23,
   "metadata": {},
   "outputs": [
    {
     "name": "stdout",
     "output_type": "stream",
     "text": [
      "Stat: 23.56689976689977\n",
      "P: 0.023281019557072378\n",
      "degree of freedom: 12\n",
      "Reject the Null Hypothesis\n"
     ]
    }
   ],
   "source": [
    "from scipy.stats import chi2_contingency\n",
    "from scipy.stats import chi2\n",
    "#table = [[18,12,6,3],[36,36,9,9],[21,45,9,9],[6,21,3,3]]\n",
    "table = [[18,36,21,9,6],[12,36,45,36,21],[6,9,9,3,3],[3,9,9,6,3]]\n",
    "stat,p,dof,expected = chi2_contingency(table)\n",
    "prob = 0.95\n",
    "print('Stat:',stat)\n",
    "print('P:',p)\n",
    "print('degree of freedom:',dof)\n",
    "if p < 0.05:\n",
    "    print('Reject the Null Hypothesis')\n",
    "else:\n",
    "    print('Failed to reject the Null Hypothesis')"
   ]
  },
  {
   "cell_type": "code",
   "execution_count": null,
   "metadata": {},
   "outputs": [],
   "source": []
  },
  {
   "cell_type": "code",
   "execution_count": 22,
   "metadata": {},
   "outputs": [
    {
     "name": "stdout",
     "output_type": "stream",
     "text": [
      "Stat: 5.855499314350247\n",
      "P: 0.05351733509077522\n",
      "dof: 2\n",
      "Expected: [[20.24 18.48  5.28]\n",
      " [25.76 23.52  6.72]]\n"
     ]
    }
   ],
   "source": [
    "from scipy.stats import chi2_contingency\n",
    "from scipy.stats import chi2\n",
    "table = [[26,13,5],[20,29,7]]\n",
    "stat,p,dof,expected = chi2_contingency(table)\n",
    "print('Stat:',stat)\n",
    "print('P:',p)\n",
    "print('dof:',dof)\n",
    "print('Expected:',expected)"
   ]
  },
  {
   "cell_type": "code",
   "execution_count": null,
   "metadata": {},
   "outputs": [],
   "source": []
  }
 ],
 "metadata": {
  "kernelspec": {
   "display_name": "Python 3",
   "language": "python",
   "name": "python3"
  },
  "language_info": {
   "codemirror_mode": {
    "name": "ipython",
    "version": 3
   },
   "file_extension": ".py",
   "mimetype": "text/x-python",
   "name": "python",
   "nbconvert_exporter": "python",
   "pygments_lexer": "ipython3",
   "version": "3.7.4"
  }
 },
 "nbformat": 4,
 "nbformat_minor": 2
}
