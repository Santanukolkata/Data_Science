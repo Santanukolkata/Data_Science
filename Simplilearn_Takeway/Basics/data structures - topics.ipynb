{
 "cells": [
  {
   "cell_type": "markdown",
   "metadata": {},
   "source": [
    "Datastructures and Algorithms\n",
    "\n",
    "Starting Points : Graphs, Trees, Sorting, Hashing, Complexity. I will be giving here some sample questions for Complexity and Graphs here.\n",
    "\n",
    "    Graphs :\n",
    "        What is the Graph?\n",
    "        What is Shortest Path?\n",
    "        What are the algorithms you know for shortest path?\n",
    "        What is the difference between Djikstra and Bellman Ford\n",
    "        What is a minimum spanning tree?\n",
    "        What are the algorithms you know for MST?\n",
    "        Compare and Contrast Kruskal and Prims\n",
    "        Can MST yield Single source shortest path(SSSP)\n",
    "        What is the difference between MST and SSSP?\n",
    "        What is a greedy algorithm? Give an example where it fails\n",
    "        Types of Graphs and their properties\n",
    "    Complexity:\n",
    "        What is the complexity of an algorithm?\n",
    "        What are all the representation of complexity of an algorithm?\n",
    "        What is big-oh, theeta, and omega notation?\n",
    "        Given an equation compute big-oh, theeta and omega notation\n",
    "        What is masters theorem?\n",
    "        Where will masters theorem fail?\n",
    "        Given a recurrence relation draw a recurrence tree. find big oh, theeta and omega by substitution, masters theorem and telescopic series\n",
    "        Few more questions to test your understanding\n",
    "        A program/algorithm may be given and asked to compute complexity\n",
    "        From this place it can either get into graphs or sorting"
   ]
  },
  {
   "cell_type": "code",
   "execution_count": null,
   "metadata": {
    "collapsed": true
   },
   "outputs": [],
   "source": []
  },
  {
   "cell_type": "code",
   "execution_count": null,
   "metadata": {
    "collapsed": true
   },
   "outputs": [],
   "source": []
  }
 ],
 "metadata": {
  "kernelspec": {
   "display_name": "Python 3",
   "language": "python",
   "name": "python3"
  },
  "language_info": {
   "codemirror_mode": {
    "name": "ipython",
    "version": 3
   },
   "file_extension": ".py",
   "mimetype": "text/x-python",
   "name": "python",
   "nbconvert_exporter": "python",
   "pygments_lexer": "ipython3",
   "version": "3.6.3"
  }
 },
 "nbformat": 4,
 "nbformat_minor": 2
}
