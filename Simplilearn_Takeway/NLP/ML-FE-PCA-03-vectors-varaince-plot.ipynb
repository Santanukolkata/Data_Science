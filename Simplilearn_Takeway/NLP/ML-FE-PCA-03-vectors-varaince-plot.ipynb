{
 "cells": [
  {
   "cell_type": "code",
   "execution_count": 1,
   "metadata": {},
   "outputs": [],
   "source": [
    "# Importing libraries\n",
    "import numpy as np\n",
    "import pandas as pd\n",
    "%matplotlib inline \n",
    "import matplotlib.pyplot as plt\n",
    "import seaborn as sns\n",
    "sns.set()\n",
    "\n",
    "from pandas.plotting import scatter_matrix\n",
    "\n",
    "# CV and metrics\n",
    "from sklearn.model_selection import StratifiedKFold\n",
    "from sklearn.model_selection import cross_val_score\n",
    "from sklearn import model_selection\n",
    "from sklearn.metrics import classification_report\n",
    "from sklearn.model_selection import train_test_split\n",
    "from sklearn import metrics\n",
    "from sklearn.metrics import confusion_matrix\n",
    "from sklearn.metrics import accuracy_score\n",
    "\n",
    "# classifier\n",
    "from sklearn.linear_model import LogisticRegression\n",
    "\n",
    "# for feature selection\n",
    "from sklearn.feature_selection import SelectKBest\n",
    "from sklearn.feature_selection import chi2\n",
    "from sklearn.decomposition import PCA"
   ]
  },
  {
   "cell_type": "code",
   "execution_count": 2,
   "metadata": {},
   "outputs": [],
   "source": [
    "# sample example -- Principal Component Analysis\n",
    "# Generally this is called a data reduction technique."
   ]
  },
  {
   "cell_type": "code",
   "execution_count": 3,
   "metadata": {},
   "outputs": [],
   "source": [
    "rng = np.random.RandomState(1)\n",
    "\n",
    "X = np.dot(rng.rand(4, 4), rng.randn(4, 200))"
   ]
  },
  {
   "cell_type": "code",
   "execution_count": 4,
   "metadata": {},
   "outputs": [
    {
     "data": {
      "text/plain": [
       "(4, 200)"
      ]
     },
     "execution_count": 4,
     "metadata": {},
     "output_type": "execute_result"
    }
   ],
   "source": [
    "X.shape"
   ]
  },
  {
   "cell_type": "code",
   "execution_count": 5,
   "metadata": {},
   "outputs": [
    {
     "data": {
      "text/plain": [
       "array([[ 4.76466248e-01, -1.52128006e+00,  9.05863287e-01,\n",
       "        -7.83664796e-01, -1.00645607e+00, -1.04756542e-01,\n",
       "         7.47432240e-01, -9.97789900e-01,  1.27824167e+00,\n",
       "         1.50651694e-01,  8.24569549e-01,  2.88265694e-01,\n",
       "         1.85163095e+00,  2.76277721e-01, -2.34886021e-01,\n",
       "         1.53661814e+00, -2.03156552e-01, -5.64241554e-01,\n",
       "        -3.91486563e-01, -3.81782180e-01, -4.40232838e-01,\n",
       "         1.99390301e-01,  1.77834277e-01,  8.69294498e-01,\n",
       "        -4.20869459e-01, -7.41846327e-01, -1.49692948e+00,\n",
       "        -2.27401946e-01, -7.90571410e-01,  7.80817079e-01,\n",
       "        -1.41040491e-01, -2.70489019e-01, -6.44782125e-01,\n",
       "        -4.65280704e-02, -9.13455875e-01,  4.42031046e-01,\n",
       "        -4.90052757e-02,  2.19000537e-01,  1.20035866e+00,\n",
       "        -7.33327162e-01,  3.07019030e-01, -3.97391759e-02,\n",
       "        -2.01199037e+00,  1.61468011e+00,  9.13712631e-02,\n",
       "        -5.88430955e-01,  2.15047589e+00,  8.22444884e-01,\n",
       "         3.80958574e-01, -4.71855666e-01, -2.70311408e-01,\n",
       "        -1.42043483e+00,  6.48800118e-01, -6.90211506e-01,\n",
       "         5.09660871e-01,  6.89623850e-01,  5.77593879e-01,\n",
       "         1.23033456e+00,  7.93534526e-01, -1.01488505e+00,\n",
       "        -5.72944573e-01,  9.28460455e-01,  7.37339220e-01,\n",
       "         1.26298369e+00, -7.72049765e-01, -1.37180290e+00,\n",
       "        -1.06962700e+00,  1.22693097e+00, -4.17310120e-02,\n",
       "         1.46617935e+00, -5.35594702e-01, -7.00123016e-01,\n",
       "        -2.15098415e-01,  1.59246023e+00,  7.07038031e-01,\n",
       "        -2.18979070e-01, -1.31523230e-01,  4.74974692e-01,\n",
       "        -5.26145870e-01,  5.71654484e-01,  8.53420921e-02,\n",
       "        -1.87973172e-02,  4.96094236e-02, -7.15996711e-01,\n",
       "         3.44152600e-02, -2.21849142e-01,  4.65200387e-01,\n",
       "         9.55252330e-01, -1.30398287e+00,  5.74086474e-01,\n",
       "         1.06229063e+00, -1.79086092e-01, -4.47768555e-01,\n",
       "         5.12770354e-02, -8.02061127e-01,  1.24749644e+00,\n",
       "        -8.93727540e-02, -5.04309771e-01,  2.27183117e-01,\n",
       "        -8.67400481e-01,  5.76745435e-02, -3.45506502e-01,\n",
       "         1.34363949e+00, -8.00943942e-01,  2.41656072e+00,\n",
       "         4.99557641e-01,  3.64285831e-01, -4.66500937e-01,\n",
       "         3.94111159e-02, -5.12875307e-01, -7.35933480e-01,\n",
       "        -6.11153667e-01,  5.82449433e-01,  2.30896499e-01,\n",
       "        -7.11429367e-01,  1.28986581e+00,  2.03142606e-01,\n",
       "         1.00890406e+00, -7.12196108e-01,  1.50959020e+00,\n",
       "         5.32479636e-01,  7.75968491e-01, -2.27097590e-01,\n",
       "        -2.87639695e-02,  1.26134439e+00, -1.01206614e+00,\n",
       "        -1.11846309e+00, -2.08440036e+00, -2.28706404e+00,\n",
       "        -1.87025472e+00, -3.52521921e-01,  1.18373276e+00,\n",
       "        -4.27097162e-01,  3.60937595e-01,  9.91838111e-02,\n",
       "        -1.56872525e-01,  7.18519451e-02,  1.33761955e-01,\n",
       "         5.26422092e-01, -7.81838361e-01,  1.06281849e+00,\n",
       "        -3.52955609e-01,  6.83905979e-01,  1.35927107e+00,\n",
       "        -1.42765112e-01, -6.34023538e-01, -2.31856061e-01,\n",
       "        -3.99448978e-01, -3.29943390e-01, -1.01837532e+00,\n",
       "        -1.51766861e-01, -8.65825609e-02, -1.62555496e+00,\n",
       "         6.44289385e-01,  2.20070538e-01, -1.16952194e-01,\n",
       "         9.32758452e-01, -1.84351371e+00,  6.86209992e-01,\n",
       "        -6.68962960e-01, -2.59359964e-01,  2.59543144e-01,\n",
       "         1.95762446e+00, -3.72041996e-01,  1.65226509e+00,\n",
       "         2.67996332e-01,  1.83597021e+00, -9.68103663e-01,\n",
       "        -8.17193788e-01, -2.10376220e-01,  2.88551140e-01,\n",
       "        -1.78398032e-01, -1.00732382e+00,  3.69459479e-01,\n",
       "         7.67447322e-01, -9.76854501e-01, -9.23973939e-02,\n",
       "        -1.12504288e-02, -7.35878203e-01, -1.54228276e-01,\n",
       "        -1.17454805e+00,  1.53694051e+00,  5.80689848e-01,\n",
       "         8.22403663e-01, -1.28005145e-01, -4.77933503e-01,\n",
       "        -7.62856702e-01,  6.26005626e-01,  5.32012548e-01,\n",
       "         1.85801676e+00, -8.62223788e-01,  6.34665321e-01,\n",
       "        -4.12707643e-01,  1.65654768e+00, -8.88159829e-01,\n",
       "        -7.43939941e-01, -2.46007966e+00, -4.09630125e-01,\n",
       "        -7.83231304e-02,  2.08139196e+00],\n",
       "       [ 2.48478504e-01,  3.05046458e-01,  6.54791912e-01,\n",
       "        -3.51570370e-01, -1.06949338e+00, -7.27966386e-01,\n",
       "         3.10737129e-01, -3.25221530e-01,  4.75949412e-01,\n",
       "        -5.04246215e-01,  8.10176508e-02, -1.15352705e-01,\n",
       "         6.09735805e-01, -6.95513487e-02,  7.08377760e-01,\n",
       "         2.01386969e-01,  1.18100719e-01, -1.25691586e-01,\n",
       "         1.56083966e-01, -5.42529534e-01, -2.27461376e-01,\n",
       "         4.18916976e-01,  1.03271628e-01, -5.67657888e-02,\n",
       "         4.19220982e-02,  4.83956403e-02, -3.91264695e-01,\n",
       "         3.41804047e-01, -7.68133168e-02,  3.77711220e-01,\n",
       "         3.50259534e-01, -1.02471296e-01, -7.05051525e-01,\n",
       "         6.60686130e-01, -4.92881877e-01,  2.94119954e-01,\n",
       "        -7.29614180e-01,  6.76977426e-02, -6.27434825e-02,\n",
       "         1.84065744e-01,  4.05007345e-01,  4.47640217e-01,\n",
       "         2.44452177e-01,  4.10044019e-01,  1.10122879e-01,\n",
       "        -2.70336249e-01,  5.28729930e-01,  3.39100800e-01,\n",
       "        -8.91537185e-02, -4.98152658e-01, -2.01747341e-01,\n",
       "        -1.10776387e+00,  1.85711631e-01, -3.03591499e-01,\n",
       "         3.10484055e-01, -8.56940341e-02,  1.62505288e-01,\n",
       "         1.04159638e+00,  1.45988030e-01, -2.57933788e-01,\n",
       "        -6.44864266e-01,  7.73627899e-02,  1.98259717e-01,\n",
       "         8.55081178e-01, -4.23266734e-01, -3.55692392e-01,\n",
       "        -4.31643657e-01, -3.25491473e-02,  1.46163134e-01,\n",
       "         2.71832395e-01,  1.28664342e-01, -6.21699759e-01,\n",
       "        -5.19971662e-01,  1.13687695e+00,  9.70222182e-01,\n",
       "        -3.33600455e-01,  2.81788287e-01,  6.06086660e-01,\n",
       "         3.68144583e-01,  5.06774253e-02, -1.81192250e-01,\n",
       "         7.62687529e-02, -2.56596643e-01, -2.59766769e-02,\n",
       "        -3.32525628e-01, -2.15950215e-01,  4.38551515e-01,\n",
       "         8.74150945e-02, -7.93677038e-01, -5.69154007e-03,\n",
       "        -4.68391407e-01,  4.77368862e-01, -1.86881231e-01,\n",
       "         4.52201208e-01, -3.99727643e-01,  2.18951842e-01,\n",
       "        -4.61153945e-01,  2.62701924e-01, -2.18928762e-01,\n",
       "        -4.60236104e-01,  1.29791359e-02, -6.85377229e-01,\n",
       "         2.73062116e-01, -3.65143650e-01,  5.60004815e-01,\n",
       "         2.60045237e-01, -1.99897371e-01,  1.41003063e-01,\n",
       "         2.39191780e-01,  1.19298389e-01, -4.65079293e-01,\n",
       "         3.95196848e-02,  6.27909853e-02,  5.46503249e-01,\n",
       "        -4.74313424e-01,  5.00306097e-01,  4.54316441e-01,\n",
       "         5.72882601e-02, -1.25979924e-01,  8.58435141e-01,\n",
       "         6.49707993e-01,  1.15693511e-01,  8.28175814e-01,\n",
       "        -6.51962784e-02,  6.53969614e-02, -5.72231539e-01,\n",
       "         1.66347285e-01, -6.50709657e-01, -1.37922826e+00,\n",
       "        -5.40269148e-01, -1.19489093e-01,  3.15813411e-01,\n",
       "        -7.42973244e-01,  1.17200230e-01, -3.95431285e-01,\n",
       "        -5.47274320e-01,  1.28059665e-01,  3.04955439e-01,\n",
       "         4.31666173e-01, -4.74153254e-01,  5.45643061e-01,\n",
       "        -5.53841134e-01,  7.69789898e-01, -3.14041818e-02,\n",
       "         1.77234470e-01, -1.06669367e-01, -3.75618662e-01,\n",
       "        -4.60008179e-03, -2.16778547e-01, -2.33575963e-01,\n",
       "         5.63457077e-01, -4.82567843e-01, -2.61493929e-01,\n",
       "         6.78627982e-01, -4.37770604e-02,  1.28755027e-01,\n",
       "         4.84964846e-01, -1.23591320e-01, -6.26095278e-01,\n",
       "        -3.60835278e-01, -1.84620846e-01,  4.61783266e-01,\n",
       "         8.48901084e-01,  3.03601098e-01,  5.59439711e-01,\n",
       "         6.40007116e-02,  1.65859880e-01, -4.65173526e-01,\n",
       "         9.10212920e-02, -4.52523904e-01,  2.71493697e-01,\n",
       "        -4.50348043e-01, -3.99767254e-01,  3.10514837e-01,\n",
       "         6.78057764e-01, -7.83358857e-01,  1.18586437e-01,\n",
       "        -1.08283010e-01, -2.24649144e-01, -2.30892252e-01,\n",
       "        -7.93363469e-01,  2.84923606e-01,  4.77973286e-01,\n",
       "         5.42744462e-01,  3.89758255e-01, -3.19556119e-01,\n",
       "         4.21768120e-01,  8.75036756e-02,  2.79641773e-01,\n",
       "         4.94104869e-01, -9.79203060e-02,  4.89908649e-01,\n",
       "        -7.31862670e-01,  2.50838063e-01, -5.38660094e-01,\n",
       "        -4.28782837e-01, -6.35813704e-01,  4.19624120e-01,\n",
       "        -3.01314578e-01,  1.20031678e+00],\n",
       "       [ 5.17161544e-01,  1.19060379e-02,  1.74846315e+00,\n",
       "        -9.49414740e-01, -2.56110578e+00, -1.33689711e+00,\n",
       "         7.80890594e-01, -8.36823449e-01,  1.46438863e+00,\n",
       "        -9.96726185e-01,  6.08018351e-01,  1.51601123e-01,\n",
       "         1.84021898e+00, -8.32435031e-02,  1.16848391e+00,\n",
       "         1.20096573e+00,  3.15774867e-03, -4.01477712e-01,\n",
       "         3.28820468e-02, -1.11344726e+00, -3.77619911e-01,\n",
       "         9.16135593e-01,  4.09159863e-01,  4.30418149e-01,\n",
       "         2.64635405e-02, -3.46494208e-01, -1.29132161e+00,\n",
       "         5.17277430e-01, -5.31984514e-01,  1.21015717e+00,\n",
       "         5.19523964e-01, -4.91651867e-01, -1.53559578e+00,\n",
       "         1.05959474e+00, -1.29487288e+00,  7.75123609e-01,\n",
       "        -1.24900030e+00,  2.48622445e-01,  5.13144376e-01,\n",
       "         3.84901552e-02,  6.85591724e-01,  8.24011650e-01,\n",
       "        -5.96030516e-01,  1.42933365e+00,  3.81372995e-01,\n",
       "        -8.90541844e-01,  1.82579437e+00,  1.01519621e+00,\n",
       "        -2.49674288e-02, -1.13970837e+00, -4.59195826e-01,\n",
       "        -2.65667535e+00,  7.57402514e-01, -7.36381058e-01,\n",
       "         7.11558762e-01,  2.44269884e-01,  5.65650964e-01,\n",
       "         2.40751745e+00,  6.62411773e-01, -9.45344926e-01,\n",
       "        -1.09530806e+00,  6.43127986e-01,  6.70057833e-01,\n",
       "         2.19605393e+00, -1.13887200e+00, -1.25175846e+00,\n",
       "        -1.49816627e+00,  3.91445407e-01,  2.46240082e-01,\n",
       "         1.08291632e+00, -2.08256104e-02, -1.46522535e+00,\n",
       "        -1.01564157e+00,  2.65911077e+00,  2.03928928e+00,\n",
       "        -5.44278123e-01,  5.53430443e-01,  1.38976539e+00,\n",
       "         3.97592582e-01,  2.02944019e-01, -3.04110918e-01,\n",
       "         1.82022611e-01, -3.94051754e-01, -3.38659844e-01,\n",
       "        -7.23372457e-01, -5.67120545e-01,  1.00805486e+00,\n",
       "         3.45573455e-01, -2.03445722e+00,  2.70074254e-01,\n",
       "        -3.26959731e-01,  5.55623990e-01, -6.63064116e-01,\n",
       "         6.31683646e-01, -1.02061984e+00,  1.03879006e+00,\n",
       "        -8.59466892e-01,  1.77408886e-01, -2.71059217e-01,\n",
       "        -1.09479952e+00,  3.64574444e-01, -1.20731315e+00,\n",
       "         1.13343311e+00, -1.10823828e+00,  2.26021387e+00,\n",
       "         6.32383895e-01, -2.07953417e-01,  1.18292993e-01,\n",
       "         3.43820689e-01,  2.63242665e-02, -9.01253217e-01,\n",
       "        -3.14126494e-01,  3.66177480e-01,  1.08562699e+00,\n",
       "        -8.67913566e-01,  1.49846436e+00,  8.87059441e-01,\n",
       "         5.43462537e-01, -4.29548252e-01,  2.27473191e+00,\n",
       "         1.50585898e+00,  5.24577349e-01,  1.14490947e+00,\n",
       "        -8.99610150e-02,  7.15415448e-01, -1.44001580e+00,\n",
       "        -3.05654504e-01, -2.11996430e+00, -3.63081315e+00,\n",
       "        -1.80038904e+00, -4.24259526e-01,  1.03379507e+00,\n",
       "        -1.61673033e+00,  4.77392411e-01, -8.78270609e-01,\n",
       "        -1.15231774e+00,  1.88579176e-01,  6.69414785e-01,\n",
       "         1.10988841e+00, -1.34391874e+00,  1.39963139e+00,\n",
       "        -1.10377536e+00,  1.61732953e+00,  3.81905118e-01,\n",
       "         1.41502618e-01, -3.61708977e-01, -7.14755562e-01,\n",
       "        -1.60825317e-02, -6.31011497e-01, -8.02624605e-01,\n",
       "         9.06832122e-01, -7.35228910e-01, -1.11436551e+00,\n",
       "         1.46700729e+00, -2.00171892e-01,  6.93086685e-01,\n",
       "         1.28152234e+00, -1.20693011e+00, -8.71573763e-01,\n",
       "        -7.96644704e-01, -4.49661423e-01,  8.76432172e-01,\n",
       "         2.27276080e+00,  5.21181669e-01,  1.77367463e+00,\n",
       "         3.29334177e-01,  1.24873474e+00, -1.23961900e+00,\n",
       "        -3.81341745e-01, -6.21988673e-01,  7.45971356e-01,\n",
       "        -8.78645763e-01, -1.34237385e+00,  5.89816169e-01,\n",
       "         1.61058528e+00, -1.68551908e+00,  3.40477518e-01,\n",
       "        -2.90310765e-01, -7.40925115e-01, -7.80628838e-01,\n",
       "        -1.98760354e+00,  1.21754068e+00,  1.00559889e+00,\n",
       "         1.44890642e+00,  4.80802540e-01, -4.50663470e-01,\n",
       "         2.66709118e-01,  5.94615796e-01,  6.04454222e-01,\n",
       "         1.91005969e+00, -7.54814797e-01,  1.11045470e+00,\n",
       "        -1.42753113e+00,  1.11687460e+00, -1.43226631e+00,\n",
       "        -1.03144247e+00, -2.17995802e+00,  4.39160782e-01,\n",
       "        -6.22388908e-01,  3.05310945e+00],\n",
       "       [ 2.30605959e-01, -8.68033675e-01,  1.48731833e+00,\n",
       "        -1.04099104e+00, -2.22449163e+00, -1.18231372e-01,\n",
       "         1.31225537e+00, -1.23723139e+00,  1.80024450e+00,\n",
       "        -2.35431156e-01,  1.45214920e+00, -5.03186045e-01,\n",
       "         2.32536756e+00,  1.51668076e-01, -2.36708170e-01,\n",
       "         2.13980245e+00,  1.75738898e-02, -4.24675045e-01,\n",
       "        -1.70935949e-01, -1.09404446e+00, -6.19804026e-01,\n",
       "         6.13076585e-01,  4.36720862e-01,  1.24473110e+00,\n",
       "        -3.32033190e-01, -7.50384974e-01, -1.65168825e+00,\n",
       "        -1.66228975e-01, -1.72264662e+00,  6.52153482e-01,\n",
       "         1.96026451e-01,  2.17558528e-01, -9.21799757e-01,\n",
       "        -2.81117069e-01, -1.45176019e+00,  9.64295400e-01,\n",
       "        -7.14228019e-01, -6.81329803e-01,  1.26264004e+00,\n",
       "        -1.09208236e+00,  6.98341826e-01,  3.62002381e-01,\n",
       "        -1.61147692e+00,  2.41916075e+00,  1.19421677e-01,\n",
       "        -1.00059284e+00,  2.66688856e+00,  7.51479598e-01,\n",
       "         3.13177595e-01, -1.26352075e+00, -1.41758995e-01,\n",
       "        -2.98223941e+00,  5.25803812e-01, -1.03006539e+00,\n",
       "         6.80038545e-01,  7.16191666e-01,  2.73116758e-01,\n",
       "         1.49274593e+00,  1.01325971e-02, -7.31031315e-01,\n",
       "        -8.10565266e-01,  1.30901897e+00,  9.68660191e-01,\n",
       "         1.58382227e+00, -1.31983551e+00, -9.74266807e-01,\n",
       "        -1.16801387e+00,  1.20004358e+00, -6.32201750e-02,\n",
       "         1.67677477e+00, -4.51183930e-01, -1.12355628e+00,\n",
       "        -7.00863730e-01,  2.59163058e+00,  1.42105731e+00,\n",
       "        -7.07135210e-01,  2.12056804e-01,  7.00146303e-01,\n",
       "        -4.23252413e-01,  3.70965741e-01, -5.43039469e-01,\n",
       "        -1.17090334e-01,  1.49563555e-02, -6.25834690e-01,\n",
       "        -2.10807129e-01, -3.56284659e-01,  9.93529594e-01,\n",
       "         1.46181514e+00, -1.78796503e+00,  3.48358931e-01,\n",
       "         1.14528816e+00, -2.19464802e-01, -7.08195574e-01,\n",
       "         3.11622164e-01, -7.96233129e-01,  1.48229913e+00,\n",
       "        -7.56564315e-01,  7.07552603e-02,  2.32003665e-01,\n",
       "        -1.50055033e+00,  3.54914195e-01, -1.20747874e+00,\n",
       "         1.37583078e+00, -7.12927879e-01,  2.94525508e+00,\n",
       "         1.43945407e+00,  3.42939751e-01,  1.81342122e-01,\n",
       "        -1.93578997e-01, -7.77695180e-01, -1.47734841e+00,\n",
       "        -2.38091868e-01,  1.74262515e-01, -2.62979804e-01,\n",
       "        -6.59816513e-01,  1.30159167e+00, -1.78829005e-01,\n",
       "         1.11959062e+00, -5.27073936e-01,  1.93305416e+00,\n",
       "         1.03998453e+00,  1.32668734e+00,  1.09279403e+00,\n",
       "        -3.73168968e-01,  1.17424738e+00, -1.36131500e+00,\n",
       "        -1.37142118e+00, -2.41040161e+00, -3.89513746e+00,\n",
       "        -2.65055708e+00, -3.62795421e-01,  1.75889036e+00,\n",
       "        -1.29744404e+00,  5.46619668e-02, -1.42761181e-01,\n",
       "        -4.99341074e-01,  2.16785677e-01,  9.81900854e-03,\n",
       "         7.03758323e-01, -1.41096696e+00,  1.84893898e+00,\n",
       "         2.68456534e-01,  9.36084296e-01,  8.19589750e-01,\n",
       "        -1.33944313e-01, -9.19435681e-01, -5.34323566e-01,\n",
       "        -6.23357155e-01, -4.45064852e-01, -9.56430040e-01,\n",
       "         4.60090676e-01, -1.53139161e-01, -2.34866723e+00,\n",
       "         1.40381536e+00,  2.56951520e-01, -5.49620988e-01,\n",
       "         1.00512113e+00, -2.23767081e+00, -5.14808306e-01,\n",
       "        -3.48504565e-01, -1.37365139e-01,  2.80789294e-01,\n",
       "         1.91634049e+00, -2.98577609e-01,  2.31681687e+00,\n",
       "         3.65316171e-01,  1.58476044e+00, -1.37893719e+00,\n",
       "        -1.04406396e+00, -7.20449953e-01,  9.64407825e-01,\n",
       "        -6.64004325e-01, -1.51970633e+00,  2.08094317e-01,\n",
       "         1.36848158e+00, -1.58986700e+00, -4.79476486e-01,\n",
       "        -9.31873786e-02, -1.15848146e+00,  2.57722899e-02,\n",
       "        -2.43062035e+00,  1.86213023e+00,  2.71537544e-01,\n",
       "         7.26313592e-01, -2.26207140e-02, -4.19614614e-01,\n",
       "        -7.60296414e-01,  4.50064349e-01,  6.08434892e-01,\n",
       "         1.88746082e+00, -7.12646098e-01,  7.72381767e-01,\n",
       "        -8.00166995e-01,  1.36453741e+00, -7.45635780e-01,\n",
       "        -4.57679998e-01, -2.71586215e+00,  3.28383651e-01,\n",
       "         2.71046670e-01,  2.45238719e+00]])"
      ]
     },
     "execution_count": 5,
     "metadata": {},
     "output_type": "execute_result"
    }
   ],
   "source": [
    "X[:5]"
   ]
  },
  {
   "cell_type": "code",
   "execution_count": 6,
   "metadata": {},
   "outputs": [],
   "source": [
    "X = X.T"
   ]
  },
  {
   "cell_type": "code",
   "execution_count": 7,
   "metadata": {},
   "outputs": [
    {
     "data": {
      "text/plain": [
       "(200, 4)"
      ]
     },
     "execution_count": 7,
     "metadata": {},
     "output_type": "execute_result"
    }
   ],
   "source": [
    "X.shape"
   ]
  },
  {
   "cell_type": "code",
   "execution_count": 8,
   "metadata": {},
   "outputs": [
    {
     "data": {
      "text/plain": [
       "<matplotlib.collections.PathCollection at 0x2307d5664a8>"
      ]
     },
     "execution_count": 8,
     "metadata": {},
     "output_type": "execute_result"
    },
    {
     "data": {
      "image/png": "[encoded data removed]",
      "text/plain": [
       "<Figure size 432x288 with 1 Axes>"
      ]
     },
     "metadata": {
      "needs_background": "light"
     },
     "output_type": "display_data"
    }
   ],
   "source": [
    "plt.scatter(X[:, 0], X[:, 1])\n",
    "#plt.axis('equal');"
   ]
  },
  {
   "cell_type": "code",
   "execution_count": 18,
   "metadata": {
    "collapsed": true,
    "jupyter": {
     "outputs_hidden": true
    }
   },
   "outputs": [],
   "source": [
    "# PCA as dimensionality reduction\n",
    "# Using PCA for dimensionality reduction involves zeroing out one or more of the \n",
    "# smallest principal components, resulting in a lower-dimensional projection of the data that \n",
    "# preserves the maximal data variance."
   ]
  },
  {
   "cell_type": "code",
   "execution_count": 10,
   "metadata": {},
   "outputs": [
    {
     "name": "stdout",
     "output_type": "stream",
     "text": [
      "original shape:    (200, 4)\n",
      "transformed shape: (200, 1)\n"
     ]
    }
   ],
   "source": [
    "pca = PCA(n_components=1)\n",
    "\n",
    "pca.fit(X)\n",
    "\n",
    "X_pca = pca.transform(X)\n",
    "\n",
    "print(\"original shape:   \", X.shape)\n",
    "print(\"transformed shape:\", X_pca.shape)"
   ]
  },
  {
   "cell_type": "code",
   "execution_count": 10,
   "metadata": {},
   "outputs": [],
   "source": [
    "# The transformed data has been reduced to a single dimension. \n",
    "# To understand the effect of this dimensionality reduction, we can perform the \n",
    "# inverse transform of this reduced data and plot it along with the original data:"
   ]
  },
  {
   "cell_type": "code",
   "execution_count": 11,
   "metadata": {},
   "outputs": [
    {
     "data": {
      "image/png": "[encoded data removed]",
      "text/plain": [
       "<Figure size 432x288 with 1 Axes>"
      ]
     },
     "metadata": {
      "needs_background": "light"
     },
     "output_type": "display_data"
    }
   ],
   "source": [
    "X_new = pca.inverse_transform(X_pca)\n",
    "\n",
    "plt.scatter(X[:, 0], X[:, 1], alpha=0.2, color='k')\n",
    "\n",
    "plt.scatter(X_new[:, 0], X_new[:, 1], alpha=0.8, color='r')\n",
    "\n",
    "plt.axis('equal');"
   ]
  },
  {
   "cell_type": "markdown",
   "metadata": {},
   "source": [
    "The light points are the original data, while the dark points are the projected version. \n",
    "\n",
    "This makes clear what a PCA dimensionality reduction means: \n",
    "- the information along the least important principal axis or axes is removed, \n",
    "- leaving only the component(s) of the data with the highest variance. \n",
    "\n",
    "This reduced-dimension dataset is in some senses \"good enough\" to encode the most important relationships between the points: despite reducing the dimension of the data by 50%, \n",
    "\n",
    "the overall relationship between the data points are mostly preserved."
   ]
  },
  {
   "cell_type": "markdown",
   "metadata": {},
   "source": [
    "## Example 2"
   ]
  },
  {
   "cell_type": "code",
   "execution_count": 12,
   "metadata": {},
   "outputs": [
    {
     "data": {
      "image/png": "[encoded data removed]",
      "text/plain": [
       "<Figure size 432x288 with 1 Axes>"
      ]
     },
     "metadata": {
      "needs_background": "light"
     },
     "output_type": "display_data"
    }
   ],
   "source": [
    "rng = np.random.RandomState(1)\n",
    "X = np.dot(rng.rand(2, 2), rng.randn(2, 200)).T\n",
    "plt.scatter(X[:, 0], X[:, 1])\n",
    "plt.axis('equal');"
   ]
  },
  {
   "cell_type": "markdown",
   "metadata": {},
   "source": [
    " it is clear that there is a nearly linear relationship between the x and y variables. This is reminiscent of the linear regression data we explored in In Depth: Linear Regression, but the problem setting here is slightly different: rather than attempting to predict the y values from the x values, the unsupervised learning problem attempts to learn about the relationship between the x and y values.\n",
    "\n",
    "In principal component analysis, this relationship is quantified by finding a list of the principal axes in the data, and using those axes to describe the dataset"
   ]
  },
  {
   "cell_type": "code",
   "execution_count": 13,
   "metadata": {},
   "outputs": [
    {
     "data": {
      "text/plain": [
       "PCA(copy=True, iterated_power='auto', n_components=2, random_state=None,\n",
       "  svd_solver='auto', tol=0.0, whiten=False)"
      ]
     },
     "execution_count": 13,
     "metadata": {},
     "output_type": "execute_result"
    }
   ],
   "source": [
    "from sklearn.decomposition import PCA\n",
    "pca = PCA(n_components=2)\n",
    "pca.fit(X)"
   ]
  },
  {
   "cell_type": "markdown",
   "metadata": {},
   "source": [
    "The fit learns some quantities from the data, most importantly the \"components\" and \"explained variance\":"
   ]
  },
  {
   "cell_type": "code",
   "execution_count": 14,
   "metadata": {},
   "outputs": [
    {
     "name": "stdout",
     "output_type": "stream",
     "text": [
      "[[-0.94446029 -0.32862557]\n",
      " [-0.32862557  0.94446029]]\n"
     ]
    }
   ],
   "source": [
    "print(pca.components_)"
   ]
  },
  {
   "cell_type": "code",
   "execution_count": 15,
   "metadata": {},
   "outputs": [
    {
     "name": "stdout",
     "output_type": "stream",
     "text": [
      "[0.7625315 0.0184779]\n"
     ]
    }
   ],
   "source": [
    "print(pca.explained_variance_)"
   ]
  },
  {
   "cell_type": "markdown",
   "metadata": {},
   "source": [
    "To see what these numbers mean, let's visualize them as vectors over the input data, using the \"components\" to define the direction of the vector, and the \"explained variance\" to define the squared-length of the vector:"
   ]
  },
  {
   "cell_type": "code",
   "execution_count": 16,
   "metadata": {},
   "outputs": [],
   "source": [
    "def draw_vector(v0, v1, ax=None):\n",
    "    ax = ax or plt.gca()\n",
    "    \n",
    "    arrowprops=dict(arrowstyle='->',\n",
    "                    linewidth=2,\n",
    "                    color='k',\n",
    "                    shrinkA=0, \n",
    "                    shrinkB=0)\n",
    "    \n",
    "    ax.annotate('', v1, v0, arrowprops=arrowprops)"
   ]
  },
  {
   "cell_type": "code",
   "execution_count": 17,
   "metadata": {},
   "outputs": [
    {
     "name": "stdout",
     "output_type": "stream",
     "text": [
      "0.7625315008826112 [-0.94446029 -0.32862557]\n",
      "0.018477895513562572 [-0.32862557  0.94446029]\n"
     ]
    }
   ],
   "source": [
    "for length, vector in zip(pca.explained_variance_, pca.components_):\n",
    "    print(length, vector)"
   ]
  },
  {
   "cell_type": "code",
   "execution_count": 18,
   "metadata": {},
   "outputs": [
    {
     "data": {
      "image/png": "[encoded data removed]",
      "text/plain": [
       "<Figure size 432x288 with 1 Axes>"
      ]
     },
     "metadata": {
      "needs_background": "light"
     },
     "output_type": "display_data"
    }
   ],
   "source": [
    "# plot data\n",
    "plt.scatter(X[:, 0], X[:, 1], alpha=0.2)\n",
    "\n",
    "for length, vector in zip(pca.explained_variance_, pca.components_):\n",
    "    v = vector * 3 * np.sqrt(length)\n",
    "    \n",
    "    draw_vector(pca.mean_, pca.mean_ + v)\n",
    "    \n",
    "plt.axis('equal');"
   ]
  },
  {
   "cell_type": "code",
   "execution_count": null,
   "metadata": {},
   "outputs": [],
   "source": []
  }
 ],
 "metadata": {
  "kernelspec": {
   "display_name": "Python 3",
   "language": "python",
   "name": "python3"
  },
  "language_info": {
   "codemirror_mode": {
    "name": "ipython",
    "version": 3
   },
   "file_extension": ".py",
   "mimetype": "text/x-python",
   "name": "python",
   "nbconvert_exporter": "python",
   "pygments_lexer": "ipython3",
   "version": "3.7.3"
  }
 },
 "nbformat": 4,
 "nbformat_minor": 4
}
