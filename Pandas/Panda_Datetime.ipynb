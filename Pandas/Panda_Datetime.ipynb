{
  "nbformat": 4,
  "nbformat_minor": 0,
  "metadata": {
    "colab": {
      "name": "Panda_Datetime.ipynb",
      "provenance": [],
      "authorship_tag": "ABX9TyMXZqzVtFlf2chsIN64Qzcw",
      "include_colab_link": true
    },
    "kernelspec": {
      "name": "python3",
      "display_name": "Python 3"
    }
  },
  "cells": [
    {
      "cell_type": "markdown",
      "metadata": {
        "id": "view-in-github",
        "colab_type": "text"
      },
      "source": [
        "<a href=\"https://colab.research.google.com/github/Santanukolkata/Data_Science/blob/master/Pandas/Panda_Datetime.ipynb\" target=\"_parent\"><img src=\"https://colab.research.google.com/assets/colab-badge.svg\" alt=\"Open In Colab\"/></a>"
      ]
    },
    {
      "cell_type": "code",
      "metadata": {
        "id": "GdN_5poQGIYW",
        "colab_type": "code",
        "colab": {}
      },
      "source": [
        "import pandas as pd\n",
        "import datetime as dt\n",
        "import numpy as np"
      ],
      "execution_count": 0,
      "outputs": []
    },
    {
      "cell_type": "code",
      "metadata": {
        "id": "dRUZUWQHGe4S",
        "colab_type": "code",
        "colab": {}
      },
      "source": [
        "data ={ 'Company': ['Huawei','BT','TCS'],\n",
        "    \"Start\": ['02-08-2010','02-12-2013','07-07-2016'],\n",
        "       'End':['28-10-2013','14-01-2016',dt.date.today().strftime(\"%d-%m-%Y\")]\n",
        "       }"
      ],
      "execution_count": 0,
      "outputs": []
    },
    {
      "cell_type": "code",
      "metadata": {
        "id": "o5sQ-DsvM1-h",
        "colab_type": "code",
        "colab": {}
      },
      "source": [
        "df=pd.DataFrame(data)"
      ],
      "execution_count": 0,
      "outputs": []
    },
    {
      "cell_type": "code",
      "metadata": {
        "id": "g7PmTuZwOaq7",
        "colab_type": "code",
        "outputId": "3e475d68-e3de-4b7c-be69-960f455ef971",
        "colab": {
          "base_uri": "https://localhost:8080/",
          "height": 142
        }
      },
      "source": [
        "df"
      ],
      "execution_count": 4,
      "outputs": [
        {
          "output_type": "execute_result",
          "data": {
            "text/html": [
              "<div>\n",
              "<style scoped>\n",
              "    .dataframe tbody tr th:only-of-type {\n",
              "        vertical-align: middle;\n",
              "    }\n",
              "\n",
              "    .dataframe tbody tr th {\n",
              "        vertical-align: top;\n",
              "    }\n",
              "\n",
              "    .dataframe thead th {\n",
              "        text-align: right;\n",
              "    }\n",
              "</style>\n",
              "<table border=\"1\" class=\"dataframe\">\n",
              "  <thead>\n",
              "    <tr style=\"text-align: right;\">\n",
              "      <th></th>\n",
              "      <th>Company</th>\n",
              "      <th>Start</th>\n",
              "      <th>End</th>\n",
              "    </tr>\n",
              "  </thead>\n",
              "  <tbody>\n",
              "    <tr>\n",
              "      <th>0</th>\n",
              "      <td>Huawei</td>\n",
              "      <td>02-08-2010</td>\n",
              "      <td>28-10-2013</td>\n",
              "    </tr>\n",
              "    <tr>\n",
              "      <th>1</th>\n",
              "      <td>BT</td>\n",
              "      <td>02-12-2013</td>\n",
              "      <td>14-01-2016</td>\n",
              "    </tr>\n",
              "    <tr>\n",
              "      <th>2</th>\n",
              "      <td>TCS</td>\n",
              "      <td>07-07-2016</td>\n",
              "      <td>06-03-2020</td>\n",
              "    </tr>\n",
              "  </tbody>\n",
              "</table>\n",
              "</div>"
            ],
            "text/plain": [
              "  Company       Start         End\n",
              "0  Huawei  02-08-2010  28-10-2013\n",
              "1      BT  02-12-2013  14-01-2016\n",
              "2     TCS  07-07-2016  06-03-2020"
            ]
          },
          "metadata": {
            "tags": []
          },
          "execution_count": 4
        }
      ]
    },
    {
      "cell_type": "code",
      "metadata": {
        "id": "-684duBOOcGo",
        "colab_type": "code",
        "outputId": "ba8a3170-4369-48ef-abf8-a92fb2886c2b",
        "colab": {
          "base_uri": "https://localhost:8080/",
          "height": 156
        }
      },
      "source": [
        "df.info()"
      ],
      "execution_count": 0,
      "outputs": [
        {
          "output_type": "stream",
          "text": [
            "<class 'pandas.core.frame.DataFrame'>\n",
            "RangeIndex: 3 entries, 0 to 2\n",
            "Data columns (total 3 columns):\n",
            "Company    3 non-null object\n",
            "Start      3 non-null object\n",
            "End        3 non-null object\n",
            "dtypes: object(3)\n",
            "memory usage: 200.0+ bytes\n"
          ],
          "name": "stdout"
        }
      ]
    },
    {
      "cell_type": "code",
      "metadata": {
        "id": "eumrc1dUOfvn",
        "colab_type": "code",
        "colab": {}
      },
      "source": [
        "df['Start']=pd.to_datetime(pd.to_datetime(df['Start']).dt.strftime(\"%d-%m-%Y\"))\n",
        "#df['Start']=df['Start'].strftime(\"%d-%m-%Y\")\n",
        "df['End']=pd.to_datetime(pd.to_datetime(df['End']).dt.strftime(\"%d-%m-%Y\"))\n",
        "#df['End']=df['End'].strftime(\"%d-%m-%Y\")"
      ],
      "execution_count": 0,
      "outputs": []
    },
    {
      "cell_type": "code",
      "metadata": {
        "id": "nD4GzYJrOzQi",
        "colab_type": "code",
        "outputId": "66e0ae73-ee80-4dc2-f772-38dedc4a611c",
        "colab": {
          "base_uri": "https://localhost:8080/",
          "height": 153
        }
      },
      "source": [
        "df.info()"
      ],
      "execution_count": 6,
      "outputs": [
        {
          "output_type": "stream",
          "text": [
            "<class 'pandas.core.frame.DataFrame'>\n",
            "RangeIndex: 3 entries, 0 to 2\n",
            "Data columns (total 3 columns):\n",
            "Company    3 non-null object\n",
            "Start      3 non-null datetime64[ns]\n",
            "End        3 non-null datetime64[ns]\n",
            "dtypes: datetime64[ns](2), object(1)\n",
            "memory usage: 200.0+ bytes\n"
          ],
          "name": "stdout"
        }
      ]
    },
    {
      "cell_type": "code",
      "metadata": {
        "id": "SUmjcBgePRb4",
        "colab_type": "code",
        "colab": {}
      },
      "source": [
        "df['Total_Exp']=df['End'] -df['Start']\n",
        "df['Total_Exp']=round(df['Total_Exp']/np.timedelta64(1,'Y'),2)"
      ],
      "execution_count": 0,
      "outputs": []
    },
    {
      "cell_type": "code",
      "metadata": {
        "id": "STE49-roQA8X",
        "colab_type": "code",
        "outputId": "794bcf6b-a5c8-4a67-ed6c-73d37625b268",
        "colab": {
          "base_uri": "https://localhost:8080/",
          "height": 34
        }
      },
      "source": [
        "df['Total_Exp'].sum()"
      ],
      "execution_count": 16,
      "outputs": [
        {
          "output_type": "execute_result",
          "data": {
            "text/plain": [
              "9.02"
            ]
          },
          "metadata": {
            "tags": []
          },
          "execution_count": 16
        }
      ]
    },
    {
      "cell_type": "code",
      "metadata": {
        "id": "0RPHcdjWQfdO",
        "colab_type": "code",
        "outputId": "9c3521ea-d5df-41ba-bf1c-102859ce0290",
        "colab": {
          "base_uri": "https://localhost:8080/",
          "height": 153
        }
      },
      "source": [
        "date1 = pd.Series(pd.date_range(df[df['Company']=='Huawei']['Start'][0] , periods=7, freq='M'))\n",
        "date1"
      ],
      "execution_count": 24,
      "outputs": [
        {
          "output_type": "execute_result",
          "data": {
            "text/plain": [
              "0   2010-08-31\n",
              "1   2010-09-30\n",
              "2   2010-10-31\n",
              "3   2010-11-30\n",
              "4   2010-12-31\n",
              "5   2011-01-31\n",
              "6   2011-02-28\n",
              "dtype: datetime64[ns]"
            ]
          },
          "metadata": {
            "tags": []
          },
          "execution_count": 24
        }
      ]
    },
    {
      "cell_type": "code",
      "metadata": {
        "id": "C0W-cKK2xZdn",
        "colab_type": "code",
        "outputId": "9f0e6677-52f0-4564-ae8b-1e68d3440167",
        "colab": {
          "base_uri": "https://localhost:8080/",
          "height": 119
        }
      },
      "source": [
        "date2 = pd.Series(pd.date_range(df[df['Company']=='Huawei']['Start'][0] , df[df['Company']=='Huawei']['End'][0], freq='M'))\n",
        "date2.tail(5)"
      ],
      "execution_count": 27,
      "outputs": [
        {
          "output_type": "execute_result",
          "data": {
            "text/plain": [
              "33   2013-05-31\n",
              "34   2013-06-30\n",
              "35   2013-07-31\n",
              "36   2013-08-31\n",
              "37   2013-09-30\n",
              "dtype: datetime64[ns]"
            ]
          },
          "metadata": {
            "tags": []
          },
          "execution_count": 27
        }
      ]
    },
    {
      "cell_type": "code",
      "metadata": {
        "id": "v7Nae6l6xgIf",
        "colab_type": "code",
        "outputId": "00f2536c-5699-4832-e10f-eceb7d83ee88",
        "colab": {
          "base_uri": "https://localhost:8080/",
          "height": 170
        }
      },
      "source": [
        "print('Year: ',df['Start'].dt.year[0])\n",
        "print('Month: ',df['Start'].dt.month[0])\n",
        "print('Week: ',df['Start'].dt.week[0])\n",
        "print('Week of year: ',df['Start'].dt.weekofyear[0])\n",
        "print('Day: ',df['Start'].dt.day[0])\n",
        "print('WeekDayName: ',df['Start'].dt.weekday_name[0])\n",
        "print('Dayofweek: ',df['Start'].dt.dayofweek[0])\n",
        "print('MonthName: ',pd.to_datetime(df['Start'], format='%m').dt.month_name()[0])\n",
        "print('Quarter: ',df['Start'].dt.quarter[0])"
      ],
      "execution_count": 68,
      "outputs": [
        {
          "output_type": "stream",
          "text": [
            "Year:  2010\n",
            "Month:  8\n",
            "Week:  31\n",
            "Week of year:  31\n",
            "Day:  2\n",
            "WeekDayName:  Monday\n",
            "Dayofweek:  0\n",
            "MonthName:  August\n",
            "Quarter:  3\n"
          ],
          "name": "stdout"
        }
      ]
    },
    {
      "cell_type": "code",
      "metadata": {
        "id": "b-ZDoU_CFRVS",
        "colab_type": "code",
        "colab": {}
      },
      "source": [
        ""
      ],
      "execution_count": 0,
      "outputs": []
    }
  ]
}