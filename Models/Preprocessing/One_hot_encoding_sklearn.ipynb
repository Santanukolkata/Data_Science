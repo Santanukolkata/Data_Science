{
  "nbformat": 4,
  "nbformat_minor": 0,
  "metadata": {
    "colab": {
      "name": "One_hot_encoding_sklearn.ipynb",
      "provenance": [],
      "collapsed_sections": [],
      "authorship_tag": "ABX9TyO/9qmDaol/ve/ECF/5CVdV",
      "include_colab_link": true
    },
    "kernelspec": {
      "name": "python3",
      "display_name": "Python 3"
    }
  },
  "cells": [
    {
      "cell_type": "markdown",
      "metadata": {
        "id": "view-in-github",
        "colab_type": "text"
      },
      "source": [
        "<a href=\"https://colab.research.google.com/github/Santanukolkata/Data_Science/blob/master/Models/Preprocessing/One_hot_encoding_sklearn.ipynb\" target=\"_parent\"><img src=\"https://colab.research.google.com/assets/colab-badge.svg\" alt=\"Open In Colab\"/></a>"
      ]
    },
    {
      "cell_type": "markdown",
      "metadata": {
        "id": "n_-ZOJXa0KI3",
        "colab_type": "text"
      },
      "source": [
        "Encode categorical features as a one-hot numeric array.\n",
        "\n",
        "The input to this transformer should be an array-like of integers or strings, denoting the values taken on by categorical (discrete) features. The features are encoded using a one-hot (aka ‘one-of-K’ or ‘dummy’) encoding scheme. This creates a binary column for each category and returns a sparse matrix or dense array (depending on the sparse parameter)\n",
        "\n",
        "By default, the encoder derives the categories based on the unique values in each feature. Alternatively, you can also specify the categories manually.\n",
        "\n",
        "This encoding is needed for feeding categorical data to many scikit-learn estimators, notably linear models and SVMs with the standard kernels.\n",
        "\n",
        "Note: a one-hot encoding of y labels should use a LabelBinarizer instead."
      ]
    },
    {
      "cell_type": "code",
      "metadata": {
        "id": "0_dxQh4l4Zmr",
        "colab_type": "code",
        "colab": {}
      },
      "source": [
        "import pandas as pd\n",
        "import numpy as np\n",
        "from sklearn.preprocessing import OneHotEncoder"
      ],
      "execution_count": 0,
      "outputs": []
    },
    {
      "cell_type": "code",
      "metadata": {
        "id": "1cOd08D34bDp",
        "colab_type": "code",
        "outputId": "f711f0d9-2ca9-46bd-898f-adb082e71bf3",
        "colab": {
          "base_uri": "https://localhost:8080/",
          "height": 142
        }
      },
      "source": [
        "data = { 'Company' :['Huawei', 'BT', 'TCS'],\n",
        "        'PLSQL': [3.2,0,0],\n",
        "        'OBIEE': [0, 1.08, .6],\n",
        "        'BICP': [0, 1.08, 1],\n",
        "        'PYTHON': [0, 0, 2],\n",
        "        'Y_AXIS':[.1,1.1,2.1],\n",
        "        'X_AXIS' :[1.6,4.36,7.8],\n",
        "        'TEXT':['<--Aug10--Oct13-->','<-Dec13--Jan16->','<-Jul16--Current->']}\n",
        "df_exp =pd.DataFrame.from_dict(data)\n",
        "df_exp"
      ],
      "execution_count": 0,
      "outputs": [
        {
          "output_type": "execute_result",
          "data": {
            "text/html": [
              "<div>\n",
              "<style scoped>\n",
              "    .dataframe tbody tr th:only-of-type {\n",
              "        vertical-align: middle;\n",
              "    }\n",
              "\n",
              "    .dataframe tbody tr th {\n",
              "        vertical-align: top;\n",
              "    }\n",
              "\n",
              "    .dataframe thead th {\n",
              "        text-align: right;\n",
              "    }\n",
              "</style>\n",
              "<table border=\"1\" class=\"dataframe\">\n",
              "  <thead>\n",
              "    <tr style=\"text-align: right;\">\n",
              "      <th></th>\n",
              "      <th>Company</th>\n",
              "      <th>PLSQL</th>\n",
              "      <th>OBIEE</th>\n",
              "      <th>BICP</th>\n",
              "      <th>PYTHON</th>\n",
              "      <th>Y_AXIS</th>\n",
              "      <th>X_AXIS</th>\n",
              "      <th>TEXT</th>\n",
              "    </tr>\n",
              "  </thead>\n",
              "  <tbody>\n",
              "    <tr>\n",
              "      <th>0</th>\n",
              "      <td>Huawei</td>\n",
              "      <td>3.2</td>\n",
              "      <td>0.00</td>\n",
              "      <td>0.00</td>\n",
              "      <td>0</td>\n",
              "      <td>0.1</td>\n",
              "      <td>1.60</td>\n",
              "      <td>&lt;--Aug10--Oct13--&gt;</td>\n",
              "    </tr>\n",
              "    <tr>\n",
              "      <th>1</th>\n",
              "      <td>BT</td>\n",
              "      <td>0.0</td>\n",
              "      <td>1.08</td>\n",
              "      <td>1.08</td>\n",
              "      <td>0</td>\n",
              "      <td>1.1</td>\n",
              "      <td>4.36</td>\n",
              "      <td>&lt;-Dec13--Jan16-&gt;</td>\n",
              "    </tr>\n",
              "    <tr>\n",
              "      <th>2</th>\n",
              "      <td>TCS</td>\n",
              "      <td>0.0</td>\n",
              "      <td>0.60</td>\n",
              "      <td>1.00</td>\n",
              "      <td>2</td>\n",
              "      <td>2.1</td>\n",
              "      <td>7.80</td>\n",
              "      <td>&lt;-Jul16--Current-&gt;</td>\n",
              "    </tr>\n",
              "  </tbody>\n",
              "</table>\n",
              "</div>"
            ],
            "text/plain": [
              "  Company  PLSQL  OBIEE  BICP  PYTHON  Y_AXIS  X_AXIS                TEXT\n",
              "0  Huawei    3.2   0.00  0.00       0     0.1    1.60  <--Aug10--Oct13-->\n",
              "1      BT    0.0   1.08  1.08       0     1.1    4.36    <-Dec13--Jan16->\n",
              "2     TCS    0.0   0.60  1.00       2     2.1    7.80  <-Jul16--Current->"
            ]
          },
          "metadata": {
            "tags": []
          },
          "execution_count": 21
        }
      ]
    },
    {
      "cell_type": "code",
      "metadata": {
        "id": "g3xbNwYdqWPQ",
        "colab_type": "code",
        "outputId": "9b9949bf-2eac-47af-f51f-cf0d774047d7",
        "colab": {
          "base_uri": "https://localhost:8080/",
          "height": 51
        }
      },
      "source": [
        "enc = OneHotEncoder(handle_unknown='ignore')\n",
        "enc.fit(np.array(df_exp['Company']).reshape(-1,1))"
      ],
      "execution_count": 0,
      "outputs": [
        {
          "output_type": "execute_result",
          "data": {
            "text/plain": [
              "OneHotEncoder(categories='auto', drop=None, dtype=<class 'numpy.float64'>,\n",
              "              handle_unknown='ignore', sparse=True)"
            ]
          },
          "metadata": {
            "tags": []
          },
          "execution_count": 22
        }
      ]
    },
    {
      "cell_type": "code",
      "metadata": {
        "id": "buMiu6XQqqIk",
        "colab_type": "code",
        "outputId": "d86bf19f-22c5-46e6-9db9-931f114f108e",
        "colab": {
          "base_uri": "https://localhost:8080/",
          "height": 34
        }
      },
      "source": [
        "Columns =[comp for comp in items for items in enc.categories_]\n",
        "Columns"
      ],
      "execution_count": 0,
      "outputs": [
        {
          "output_type": "execute_result",
          "data": {
            "text/plain": [
              "['BT', 'Huawei', 'TCS']"
            ]
          },
          "metadata": {
            "tags": []
          },
          "execution_count": 52
        }
      ]
    },
    {
      "cell_type": "code",
      "metadata": {
        "id": "BlFuny9Hqyl4",
        "colab_type": "code",
        "outputId": "c07cf597-8e6d-4f4e-d0c6-55d1e03fdcd6",
        "colab": {
          "base_uri": "https://localhost:8080/",
          "height": 68
        }
      },
      "source": [
        "enc.transform(np.array(df_exp['Company']).reshape(-1,1)).toarray()"
      ],
      "execution_count": 0,
      "outputs": [
        {
          "output_type": "execute_result",
          "data": {
            "text/plain": [
              "array([[0., 1., 0.],\n",
              "       [1., 0., 0.],\n",
              "       [0., 0., 1.]])"
            ]
          },
          "metadata": {
            "tags": []
          },
          "execution_count": 24
        }
      ]
    },
    {
      "cell_type": "code",
      "metadata": {
        "id": "YqzCv01Yrhuu",
        "colab_type": "code",
        "outputId": "098792b2-461e-4aea-b0fe-517bae082c0c",
        "colab": {
          "base_uri": "https://localhost:8080/",
          "height": 34
        }
      },
      "source": [
        "Columns\n",
        "df_encoded=pd.DataFrame(enc.transform(np.array(df_exp['Company']).reshape(-1,1)).toarray(),columns=Columns)\n",
        "df_encoded.columns"
      ],
      "execution_count": 0,
      "outputs": [
        {
          "output_type": "execute_result",
          "data": {
            "text/plain": [
              "Index(['BT', 'Huawei', 'TCS'], dtype='object')"
            ]
          },
          "metadata": {
            "tags": []
          },
          "execution_count": 53
        }
      ]
    },
    {
      "cell_type": "code",
      "metadata": {
        "id": "0ZHerHItrLNh",
        "colab_type": "code",
        "colab": {}
      },
      "source": [
        "df_new = df_exp.merge(df_encoded,how='inner',left_index=True,right_index=True)"
      ],
      "execution_count": 0,
      "outputs": []
    },
    {
      "cell_type": "code",
      "metadata": {
        "id": "xveOZijOralo",
        "colab_type": "code",
        "outputId": "24fcbf9e-88cb-475d-cb5a-759903c19ec7",
        "colab": {
          "base_uri": "https://localhost:8080/",
          "height": 142
        }
      },
      "source": [
        "df_new"
      ],
      "execution_count": 0,
      "outputs": [
        {
          "output_type": "execute_result",
          "data": {
            "text/html": [
              "<div>\n",
              "<style scoped>\n",
              "    .dataframe tbody tr th:only-of-type {\n",
              "        vertical-align: middle;\n",
              "    }\n",
              "\n",
              "    .dataframe tbody tr th {\n",
              "        vertical-align: top;\n",
              "    }\n",
              "\n",
              "    .dataframe thead th {\n",
              "        text-align: right;\n",
              "    }\n",
              "</style>\n",
              "<table border=\"1\" class=\"dataframe\">\n",
              "  <thead>\n",
              "    <tr style=\"text-align: right;\">\n",
              "      <th></th>\n",
              "      <th>Company</th>\n",
              "      <th>PLSQL</th>\n",
              "      <th>OBIEE</th>\n",
              "      <th>BICP</th>\n",
              "      <th>PYTHON</th>\n",
              "      <th>Y_AXIS</th>\n",
              "      <th>X_AXIS</th>\n",
              "      <th>TEXT</th>\n",
              "      <th>BT</th>\n",
              "      <th>Huawei</th>\n",
              "      <th>TCS</th>\n",
              "    </tr>\n",
              "  </thead>\n",
              "  <tbody>\n",
              "    <tr>\n",
              "      <th>0</th>\n",
              "      <td>Huawei</td>\n",
              "      <td>3.2</td>\n",
              "      <td>0.00</td>\n",
              "      <td>0.00</td>\n",
              "      <td>0</td>\n",
              "      <td>0.1</td>\n",
              "      <td>1.60</td>\n",
              "      <td>&lt;--Aug10--Oct13--&gt;</td>\n",
              "      <td>0.0</td>\n",
              "      <td>1.0</td>\n",
              "      <td>0.0</td>\n",
              "    </tr>\n",
              "    <tr>\n",
              "      <th>1</th>\n",
              "      <td>BT</td>\n",
              "      <td>0.0</td>\n",
              "      <td>1.08</td>\n",
              "      <td>1.08</td>\n",
              "      <td>0</td>\n",
              "      <td>1.1</td>\n",
              "      <td>4.36</td>\n",
              "      <td>&lt;-Dec13--Jan16-&gt;</td>\n",
              "      <td>1.0</td>\n",
              "      <td>0.0</td>\n",
              "      <td>0.0</td>\n",
              "    </tr>\n",
              "    <tr>\n",
              "      <th>2</th>\n",
              "      <td>TCS</td>\n",
              "      <td>0.0</td>\n",
              "      <td>0.60</td>\n",
              "      <td>1.00</td>\n",
              "      <td>2</td>\n",
              "      <td>2.1</td>\n",
              "      <td>7.80</td>\n",
              "      <td>&lt;-Jul16--Current-&gt;</td>\n",
              "      <td>0.0</td>\n",
              "      <td>0.0</td>\n",
              "      <td>1.0</td>\n",
              "    </tr>\n",
              "  </tbody>\n",
              "</table>\n",
              "</div>"
            ],
            "text/plain": [
              "  Company  PLSQL  OBIEE  BICP  ...                TEXT   BT  Huawei  TCS\n",
              "0  Huawei    3.2   0.00  0.00  ...  <--Aug10--Oct13-->  0.0     1.0  0.0\n",
              "1      BT    0.0   1.08  1.08  ...    <-Dec13--Jan16->  1.0     0.0  0.0\n",
              "2     TCS    0.0   0.60  1.00  ...  <-Jul16--Current->  0.0     0.0  1.0\n",
              "\n",
              "[3 rows x 11 columns]"
            ]
          },
          "metadata": {
            "tags": []
          },
          "execution_count": 55
        }
      ]
    },
    {
      "cell_type": "code",
      "metadata": {
        "id": "57MRasZAr_oD",
        "colab_type": "code",
        "outputId": "5f9bdbe4-afce-43e2-94fc-6a604a4e21c2",
        "colab": {
          "base_uri": "https://localhost:8080/",
          "height": 85
        }
      },
      "source": [
        "df_new.columns"
      ],
      "execution_count": 0,
      "outputs": [
        {
          "output_type": "execute_result",
          "data": {
            "text/plain": [
              "Index([  'Company',     'PLSQL',     'OBIEE',      'BICP',    'PYTHON',\n",
              "          'Y_AXIS',    'X_AXIS',      'TEXT',     ('BT',), ('Huawei',),\n",
              "          ('TCS',)],\n",
              "      dtype='object')"
            ]
          },
          "metadata": {
            "tags": []
          },
          "execution_count": 32
        }
      ]
    },
    {
      "cell_type": "code",
      "metadata": {
        "id": "1ecOQe-dwGvf",
        "colab_type": "code",
        "outputId": "fa644aaf-f8d5-4d6c-c723-c2bf2aee77af",
        "colab": {
          "base_uri": "https://localhost:8080/",
          "height": 142
        }
      },
      "source": [
        "pd.concat([df_exp, df_encoded], axis=1)"
      ],
      "execution_count": 0,
      "outputs": [
        {
          "output_type": "execute_result",
          "data": {
            "text/html": [
              "<div>\n",
              "<style scoped>\n",
              "    .dataframe tbody tr th:only-of-type {\n",
              "        vertical-align: middle;\n",
              "    }\n",
              "\n",
              "    .dataframe tbody tr th {\n",
              "        vertical-align: top;\n",
              "    }\n",
              "\n",
              "    .dataframe thead th {\n",
              "        text-align: right;\n",
              "    }\n",
              "</style>\n",
              "<table border=\"1\" class=\"dataframe\">\n",
              "  <thead>\n",
              "    <tr style=\"text-align: right;\">\n",
              "      <th></th>\n",
              "      <th>Company</th>\n",
              "      <th>PLSQL</th>\n",
              "      <th>OBIEE</th>\n",
              "      <th>BICP</th>\n",
              "      <th>PYTHON</th>\n",
              "      <th>Y_AXIS</th>\n",
              "      <th>X_AXIS</th>\n",
              "      <th>TEXT</th>\n",
              "      <th>(BT,)</th>\n",
              "      <th>(Huawei,)</th>\n",
              "      <th>(TCS,)</th>\n",
              "    </tr>\n",
              "  </thead>\n",
              "  <tbody>\n",
              "    <tr>\n",
              "      <th>0</th>\n",
              "      <td>Huawei</td>\n",
              "      <td>3.2</td>\n",
              "      <td>0.00</td>\n",
              "      <td>0.00</td>\n",
              "      <td>0</td>\n",
              "      <td>0.1</td>\n",
              "      <td>1.60</td>\n",
              "      <td>&lt;--Aug10--Oct13--&gt;</td>\n",
              "      <td>0.0</td>\n",
              "      <td>1.0</td>\n",
              "      <td>0.0</td>\n",
              "    </tr>\n",
              "    <tr>\n",
              "      <th>1</th>\n",
              "      <td>BT</td>\n",
              "      <td>0.0</td>\n",
              "      <td>1.08</td>\n",
              "      <td>1.08</td>\n",
              "      <td>0</td>\n",
              "      <td>1.1</td>\n",
              "      <td>4.36</td>\n",
              "      <td>&lt;-Dec13--Jan16-&gt;</td>\n",
              "      <td>1.0</td>\n",
              "      <td>0.0</td>\n",
              "      <td>0.0</td>\n",
              "    </tr>\n",
              "    <tr>\n",
              "      <th>2</th>\n",
              "      <td>TCS</td>\n",
              "      <td>0.0</td>\n",
              "      <td>0.60</td>\n",
              "      <td>1.00</td>\n",
              "      <td>2</td>\n",
              "      <td>2.1</td>\n",
              "      <td>7.80</td>\n",
              "      <td>&lt;-Jul16--Current-&gt;</td>\n",
              "      <td>0.0</td>\n",
              "      <td>0.0</td>\n",
              "      <td>1.0</td>\n",
              "    </tr>\n",
              "  </tbody>\n",
              "</table>\n",
              "</div>"
            ],
            "text/plain": [
              "  Company  PLSQL  OBIEE  BICP  ...                TEXT  (BT,)  (Huawei,) (TCS,)\n",
              "0  Huawei    3.2   0.00  0.00  ...  <--Aug10--Oct13-->    0.0        1.0    0.0\n",
              "1      BT    0.0   1.08  1.08  ...    <-Dec13--Jan16->    1.0        0.0    0.0\n",
              "2     TCS    0.0   0.60  1.00  ...  <-Jul16--Current->    0.0        0.0    1.0\n",
              "\n",
              "[3 rows x 11 columns]"
            ]
          },
          "metadata": {
            "tags": []
          },
          "execution_count": 33
        }
      ]
    },
    {
      "cell_type": "code",
      "metadata": {
        "id": "Xo792-ZfwkyY",
        "colab_type": "code",
        "colab": {}
      },
      "source": [
        ""
      ],
      "execution_count": 0,
      "outputs": []
    }
  ]
}