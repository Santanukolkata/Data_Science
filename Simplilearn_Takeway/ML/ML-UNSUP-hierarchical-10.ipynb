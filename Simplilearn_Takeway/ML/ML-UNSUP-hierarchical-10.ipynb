{
 "cells": [
  {
   "cell_type": "code",
   "execution_count": 1,
   "metadata": {
    "collapsed": true
   },
   "outputs": [],
   "source": [
    "# Importing Modules\n",
    "from scipy.cluster.hierarchy import linkage, dendrogram\n",
    "import matplotlib.pyplot as plt\n",
    "import pandas as pd\n"
   ]
  },
  {
   "cell_type": "code",
   "execution_count": 2,
   "metadata": {
    "collapsed": true
   },
   "outputs": [],
   "source": [
    "# Reading the DataFrame\n",
    "seeds_df = pd.read_csv(\n",
    "    \"https://raw.githubusercontent.com/vihar/unsupervised-learning-with-python/master/seeds-less-rows.csv\")"
   ]
  },
  {
   "cell_type": "code",
   "execution_count": 3,
   "metadata": {
    "collapsed": true
   },
   "outputs": [],
   "source": [
    "# Remove the grain species from the DataFrame, save for later\n",
    "varieties = list(seeds_df.pop('grain_variety'))"
   ]
  },
  {
   "cell_type": "code",
   "execution_count": 4,
   "metadata": {},
   "outputs": [
    {
     "data": {
      "text/plain": [
       "['Kama wheat',\n",
       " 'Kama wheat',\n",
       " 'Kama wheat',\n",
       " 'Kama wheat',\n",
       " 'Kama wheat',\n",
       " 'Kama wheat',\n",
       " 'Kama wheat',\n",
       " 'Kama wheat',\n",
       " 'Kama wheat',\n",
       " 'Kama wheat',\n",
       " 'Kama wheat',\n",
       " 'Kama wheat',\n",
       " 'Kama wheat',\n",
       " 'Kama wheat',\n",
       " 'Rosa wheat',\n",
       " 'Rosa wheat',\n",
       " 'Rosa wheat',\n",
       " 'Rosa wheat',\n",
       " 'Rosa wheat',\n",
       " 'Rosa wheat',\n",
       " 'Rosa wheat',\n",
       " 'Rosa wheat',\n",
       " 'Rosa wheat',\n",
       " 'Rosa wheat',\n",
       " 'Rosa wheat',\n",
       " 'Rosa wheat',\n",
       " 'Rosa wheat',\n",
       " 'Rosa wheat',\n",
       " 'Canadian wheat',\n",
       " 'Canadian wheat',\n",
       " 'Canadian wheat',\n",
       " 'Canadian wheat',\n",
       " 'Canadian wheat',\n",
       " 'Canadian wheat',\n",
       " 'Canadian wheat',\n",
       " 'Canadian wheat',\n",
       " 'Canadian wheat',\n",
       " 'Canadian wheat',\n",
       " 'Canadian wheat',\n",
       " 'Canadian wheat',\n",
       " 'Canadian wheat',\n",
       " 'Canadian wheat']"
      ]
     },
     "execution_count": 4,
     "metadata": {},
     "output_type": "execute_result"
    }
   ],
   "source": [
    "varieties"
   ]
  },
  {
   "cell_type": "code",
   "execution_count": 5,
   "metadata": {
    "collapsed": true
   },
   "outputs": [],
   "source": [
    "# Extract the measurements as a NumPy array\n",
    "samples = seeds_df.values"
   ]
  },
  {
   "cell_type": "code",
   "execution_count": 6,
   "metadata": {},
   "outputs": [
    {
     "data": {
      "text/plain": [
       "\"\\nPerform hierarchical clustering on samples using the\\nlinkage() function with the method='complete' keyword argument.\\nAssign the result to mergings.\\n\""
      ]
     },
     "execution_count": 6,
     "metadata": {},
     "output_type": "execute_result"
    }
   ],
   "source": [
    "\"\"\"\n",
    "Perform hierarchical clustering on samples using the\n",
    "linkage() function with the method='complete' keyword argument.\n",
    "Assign the result to mergings.\n",
    "\"\"\""
   ]
  },
  {
   "cell_type": "code",
   "execution_count": 7,
   "metadata": {
    "collapsed": true
   },
   "outputs": [],
   "source": [
    "mergings = linkage(samples, method='complete')"
   ]
  },
  {
   "cell_type": "code",
   "execution_count": 8,
   "metadata": {},
   "outputs": [
    {
     "data": {
      "image/png": "[encoded data removed]",
      "text/plain": [
       "<matplotlib.figure.Figure at 0x1b567d84f28>"
      ]
     },
     "metadata": {},
     "output_type": "display_data"
    }
   ],
   "source": [
    "\"\"\"\n",
    "Plot a dendrogram using the dendrogram() function on mergings,\n",
    "specifying the keyword arguments labels=varieties, leaf_rotation=90,\n",
    "and leaf_font_size=6.\n",
    "\"\"\"\n",
    "plt.figure(figsize=(12, 6))\n",
    "dendrogram(mergings,\n",
    "           labels=varieties,\n",
    "           leaf_rotation=90,\n",
    "           leaf_font_size=6,\n",
    "           )\n",
    "\n",
    "plt.show()"
   ]
  },
  {
   "cell_type": "code",
   "execution_count": null,
   "metadata": {
    "collapsed": true
   },
   "outputs": [],
   "source": []
  }
 ],
 "metadata": {
  "kernelspec": {
   "display_name": "Python 3",
   "language": "python",
   "name": "python3"
  },
  "language_info": {
   "codemirror_mode": {
    "name": "ipython",
    "version": 3
   },
   "file_extension": ".py",
   "mimetype": "text/x-python",
   "name": "python",
   "nbconvert_exporter": "python",
   "pygments_lexer": "ipython3",
   "version": "3.6.3"
  }
 },
 "nbformat": 4,
 "nbformat_minor": 2
}
