{
  "nbformat": 4,
  "nbformat_minor": 0,
  "metadata": {
    "colab": {
      "name": "List_Comprehension.ipynb",
      "provenance": [],
      "toc_visible": true,
      "authorship_tag": "ABX9TyMLRhdOCANhV2zV3mGFEgm8",
      "include_colab_link": true
    },
    "kernelspec": {
      "name": "python3",
      "display_name": "Python 3"
    }
  },
  "cells": [
    {
      "cell_type": "markdown",
      "metadata": {
        "id": "view-in-github",
        "colab_type": "text"
      },
      "source": [
        "<a href=\"https://colab.research.google.com/github/Santanukolkata/Data_Science/blob/master/Python/List_Comprehension.ipynb\" target=\"_parent\"><img src=\"https://colab.research.google.com/assets/colab-badge.svg\" alt=\"Open In Colab\"/></a>"
      ]
    },
    {
      "cell_type": "code",
      "metadata": {
        "id": "7m-RG-vYr12H",
        "colab_type": "code",
        "colab": {}
      },
      "source": [
        "import numpy as np"
      ],
      "execution_count": 0,
      "outputs": []
    },
    {
      "cell_type": "code",
      "metadata": {
        "id": "7jvuY1WEsT-0",
        "colab_type": "code",
        "colab": {}
      },
      "source": [
        "lst2=np.arange(0,100,2)\n",
        "lst3=np.arange(0,100,3)\n",
        "lst4=np.arange(0,100,4)"
      ],
      "execution_count": 0,
      "outputs": []
    },
    {
      "cell_type": "code",
      "metadata": {
        "id": "JZjFDkfLtRoL",
        "colab_type": "code",
        "outputId": "f4139dbb-e323-4921-ac3b-88e890708972",
        "colab": {
          "base_uri": "https://localhost:8080/",
          "height": 69
        }
      },
      "source": [
        "lst2"
      ],
      "execution_count": 3,
      "outputs": [
        {
          "output_type": "execute_result",
          "data": {
            "text/plain": [
              "array([ 0,  2,  4,  6,  8, 10, 12, 14, 16, 18, 20, 22, 24, 26, 28, 30, 32,\n",
              "       34, 36, 38, 40, 42, 44, 46, 48, 50, 52, 54, 56, 58, 60, 62, 64, 66,\n",
              "       68, 70, 72, 74, 76, 78, 80, 82, 84, 86, 88, 90, 92, 94, 96, 98])"
            ]
          },
          "metadata": {
            "tags": []
          },
          "execution_count": 3
        }
      ]
    },
    {
      "cell_type": "markdown",
      "metadata": {
        "id": "NwsUGLSF1eTJ",
        "colab_type": "text"
      },
      "source": [
        "**Squaring Each Elements :-**"
      ]
    },
    {
      "cell_type": "code",
      "metadata": {
        "id": "2qDoVFc9uEBS",
        "colab_type": "code",
        "outputId": "b22c9f77-b85e-41b9-9f29-4270499d876a",
        "colab": {
          "base_uri": "https://localhost:8080/",
          "height": 35
        }
      },
      "source": [
        "sq=[i**2 for i in lst2]\n",
        "sq[2]"
      ],
      "execution_count": 9,
      "outputs": [
        {
          "output_type": "execute_result",
          "data": {
            "text/plain": [
              "16"
            ]
          },
          "metadata": {
            "tags": []
          },
          "execution_count": 9
        }
      ]
    },
    {
      "cell_type": "markdown",
      "metadata": {
        "id": "yJxkPIDR13QZ",
        "colab_type": "text"
      },
      "source": [
        "**Matching elements**"
      ]
    },
    {
      "cell_type": "code",
      "metadata": {
        "id": "wYXn3lVIy9HS",
        "colab_type": "code",
        "outputId": "0192b5bd-24dd-4c84-de54-24ea3351f501",
        "colab": {
          "base_uri": "https://localhost:8080/",
          "height": 35
        }
      },
      "source": [
        "div= [x for x in lst2 for y in lst3 if x == y]\n",
        "div"
      ],
      "execution_count": 5,
      "outputs": [
        {
          "output_type": "execute_result",
          "data": {
            "text/plain": [
              "[0, 6, 12, 18, 24, 30, 36, 42, 48, 54, 60, 66, 72, 78, 84, 90, 96]"
            ]
          },
          "metadata": {
            "tags": []
          },
          "execution_count": 5
        }
      ]
    },
    {
      "cell_type": "code",
      "metadata": {
        "id": "m58Eknmq_Jth",
        "colab_type": "code",
        "colab": {
          "base_uri": "https://localhost:8080/",
          "height": 35
        },
        "outputId": "5c01e3c8-3500-4db3-f979-3899d626f308"
      },
      "source": [
        "div= [x for x in lst2 for y in lst3 for  z in lst4 if x == y ==z]\n",
        "div"
      ],
      "execution_count": 8,
      "outputs": [
        {
          "output_type": "execute_result",
          "data": {
            "text/plain": [
              "[0, 12, 24, 36, 48, 60, 72, 84, 96]"
            ]
          },
          "metadata": {
            "tags": []
          },
          "execution_count": 8
        }
      ]
    },
    {
      "cell_type": "markdown",
      "metadata": {
        "id": "ELz94s3f9_BP",
        "colab_type": "text"
      },
      "source": [
        "**Divided by 6 and 10**"
      ]
    },
    {
      "cell_type": "code",
      "metadata": {
        "id": "64BuOHi3zBfR",
        "colab_type": "code",
        "colab": {
          "base_uri": "https://localhost:8080/",
          "height": 35
        },
        "outputId": "7ec01141-615f-48d4-ad25-d7c96910577b"
      },
      "source": [
        "[x  for x in lst2  if  x % 6 == 0   if  x % 10 == 0 ] "
      ],
      "execution_count": 7,
      "outputs": [
        {
          "output_type": "execute_result",
          "data": {
            "text/plain": [
              "[0, 30, 60, 90]"
            ]
          },
          "metadata": {
            "tags": []
          },
          "execution_count": 7
        }
      ]
    },
    {
      "cell_type": "code",
      "metadata": {
        "id": "TrBYbvgh7QHj",
        "colab_type": "code",
        "colab": {}
      },
      "source": [
        ""
      ],
      "execution_count": 0,
      "outputs": []
    }
  ]
}