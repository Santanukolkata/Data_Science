{
  "nbformat": 4,
  "nbformat_minor": 0,
  "metadata": {
    "colab": {
      "name": "PipeLine_sklearn.ipynb",
      "provenance": [],
      "collapsed_sections": [],
      "authorship_tag": "ABX9TyOpnh1buXVsamfTDafkvDBT",
      "include_colab_link": true
    },
    "kernelspec": {
      "name": "python3",
      "display_name": "Python 3"
    }
  },
  "cells": [
    {
      "cell_type": "markdown",
      "metadata": {
        "id": "view-in-github",
        "colab_type": "text"
      },
      "source": [
        "<a href=\"https://colab.research.google.com/github/Santanukolkata/Data_Science/blob/master/Models/Preprocessing/PipeLine_sklearn.ipynb\" target=\"_parent\"><img src=\"https://colab.research.google.com/assets/colab-badge.svg\" alt=\"Open In Colab\"/></a>"
      ]
    },
    {
      "cell_type": "code",
      "metadata": {
        "id": "e-KXN_hg2ECA",
        "colab_type": "code",
        "colab": {}
      },
      "source": [
        "from sklearn.pipeline import Pipeline\n",
        "import pandas as pd\n",
        "X = pd.DataFrame(\n",
        " {'city': ['London', 'London', 'Paris', 'Sallisaw'],\n",
        "     'title': [\"His Last Bow\", \"How Watson Learned the Trick\",\n",
        "               \"A Moveable Feast\", \"The Grapes of Wrath\"],\n",
        "     'expert_rating': [5, 3, 4, 5],\n",
        "   'user_rating': [4, 5, 4, 3]})"
      ],
      "execution_count": 3,
      "outputs": []
    },
    {
      "cell_type": "code",
      "metadata": {
        "id": "qaL8H3eE2cJz",
        "colab_type": "code",
        "colab": {
          "base_uri": "https://localhost:8080/",
          "height": 171
        },
        "outputId": "6ef37801-a54a-495b-af5d-ea3c941b5ebd"
      },
      "source": [
        "X"
      ],
      "execution_count": 4,
      "outputs": [
        {
          "output_type": "execute_result",
          "data": {
            "text/html": [
              "<div>\n",
              "<style scoped>\n",
              "    .dataframe tbody tr th:only-of-type {\n",
              "        vertical-align: middle;\n",
              "    }\n",
              "\n",
              "    .dataframe tbody tr th {\n",
              "        vertical-align: top;\n",
              "    }\n",
              "\n",
              "    .dataframe thead th {\n",
              "        text-align: right;\n",
              "    }\n",
              "</style>\n",
              "<table border=\"1\" class=\"dataframe\">\n",
              "  <thead>\n",
              "    <tr style=\"text-align: right;\">\n",
              "      <th></th>\n",
              "      <th>city</th>\n",
              "      <th>title</th>\n",
              "      <th>expert_rating</th>\n",
              "      <th>user_rating</th>\n",
              "    </tr>\n",
              "  </thead>\n",
              "  <tbody>\n",
              "    <tr>\n",
              "      <th>0</th>\n",
              "      <td>London</td>\n",
              "      <td>His Last Bow</td>\n",
              "      <td>5</td>\n",
              "      <td>4</td>\n",
              "    </tr>\n",
              "    <tr>\n",
              "      <th>1</th>\n",
              "      <td>London</td>\n",
              "      <td>How Watson Learned the Trick</td>\n",
              "      <td>3</td>\n",
              "      <td>5</td>\n",
              "    </tr>\n",
              "    <tr>\n",
              "      <th>2</th>\n",
              "      <td>Paris</td>\n",
              "      <td>A Moveable Feast</td>\n",
              "      <td>4</td>\n",
              "      <td>4</td>\n",
              "    </tr>\n",
              "    <tr>\n",
              "      <th>3</th>\n",
              "      <td>Sallisaw</td>\n",
              "      <td>The Grapes of Wrath</td>\n",
              "      <td>5</td>\n",
              "      <td>3</td>\n",
              "    </tr>\n",
              "  </tbody>\n",
              "</table>\n",
              "</div>"
            ],
            "text/plain": [
              "       city                         title  expert_rating  user_rating\n",
              "0    London                  His Last Bow              5            4\n",
              "1    London  How Watson Learned the Trick              3            5\n",
              "2     Paris              A Moveable Feast              4            4\n",
              "3  Sallisaw           The Grapes of Wrath              5            3"
            ]
          },
          "metadata": {
            "tags": []
          },
          "execution_count": 4
        }
      ]
    },
    {
      "cell_type": "code",
      "metadata": {
        "id": "t2l62UXoAM2L",
        "colab_type": "code",
        "colab": {}
      },
      "source": [
        "from sklearn.compose import ColumnTransformer\n",
        "from sklearn.feature_extraction.text import CountVectorizer\n",
        "from sklearn.preprocessing import OneHotEncoder"
      ],
      "execution_count": 6,
      "outputs": []
    },
    {
      "cell_type": "code",
      "metadata": {
        "id": "CA1et5M4AbLl",
        "colab_type": "code",
        "colab": {}
      },
      "source": [
        "column_trans = ColumnTransformer(\n",
        "     [('city_category', OneHotEncoder(dtype='int'),['city']),\n",
        "      ('title_bow', CountVectorizer(), 'title')],\n",
        "    remainder='drop')\n"
      ],
      "execution_count": 17,
      "outputs": []
    },
    {
      "cell_type": "code",
      "metadata": {
        "id": "4SyMHBXlAupo",
        "colab_type": "code",
        "colab": {
          "base_uri": "https://localhost:8080/",
          "height": 451
        },
        "outputId": "0fe53ac9-126d-405d-e851-46fb23b9e3a5"
      },
      "source": [
        "column_trans.fit(X)"
      ],
      "execution_count": 18,
      "outputs": [
        {
          "output_type": "execute_result",
          "data": {
            "text/plain": [
              "ColumnTransformer(n_jobs=None, remainder='drop', sparse_threshold=0.3,\n",
              "                  transformer_weights=None,\n",
              "                  transformers=[('city_category',\n",
              "                                 OneHotEncoder(categories='auto', drop=None,\n",
              "                                               dtype='int',\n",
              "                                               handle_unknown='error',\n",
              "                                               sparse=True),\n",
              "                                 ['city']),\n",
              "                                ('title_bow',\n",
              "                                 CountVectorizer(analyzer='word', binary=False,\n",
              "                                                 decode_error='strict',\n",
              "                                                 dtype=<class 'numpy.int64'>,\n",
              "                                                 encoding='utf-8',\n",
              "                                                 input='content',\n",
              "                                                 lowercase=True, max_df=1.0,\n",
              "                                                 max_features=None, min_df=1,\n",
              "                                                 ngram_range=(1, 1),\n",
              "                                                 preprocessor=None,\n",
              "                                                 stop_words=None,\n",
              "                                                 strip_accents=None,\n",
              "                                                 token_pattern='(?u)\\\\b\\\\w\\\\w+\\\\b',\n",
              "                                                 tokenizer=None,\n",
              "                                                 vocabulary=None),\n",
              "                                 'title')],\n",
              "                  verbose=False)"
            ]
          },
          "metadata": {
            "tags": []
          },
          "execution_count": 18
        }
      ]
    },
    {
      "cell_type": "code",
      "metadata": {
        "id": "9H85pq-EAxRF",
        "colab_type": "code",
        "colab": {
          "base_uri": "https://localhost:8080/",
          "height": 295
        },
        "outputId": "3f1ef931-0a26-4238-ab61-eefa1fef97f5"
      },
      "source": [
        "column_trans.get_feature_names()"
      ],
      "execution_count": 19,
      "outputs": [
        {
          "output_type": "execute_result",
          "data": {
            "text/plain": [
              "['city_category__x0_London',\n",
              " 'city_category__x0_Paris',\n",
              " 'city_category__x0_Sallisaw',\n",
              " 'title_bow__bow',\n",
              " 'title_bow__feast',\n",
              " 'title_bow__grapes',\n",
              " 'title_bow__his',\n",
              " 'title_bow__how',\n",
              " 'title_bow__last',\n",
              " 'title_bow__learned',\n",
              " 'title_bow__moveable',\n",
              " 'title_bow__of',\n",
              " 'title_bow__the',\n",
              " 'title_bow__trick',\n",
              " 'title_bow__watson',\n",
              " 'title_bow__wrath']"
            ]
          },
          "metadata": {
            "tags": []
          },
          "execution_count": 19
        }
      ]
    },
    {
      "cell_type": "code",
      "metadata": {
        "id": "q5VgYl02A5yb",
        "colab_type": "code",
        "colab": {
          "base_uri": "https://localhost:8080/",
          "height": 87
        },
        "outputId": "f4b4ba7a-5132-4d41-e6df-9962ade3a91e"
      },
      "source": [
        " column_trans.transform(X).toarray()"
      ],
      "execution_count": 11,
      "outputs": [
        {
          "output_type": "execute_result",
          "data": {
            "text/plain": [
              "array([[1, 0, 0, 1, 0, 0, 1, 0, 1, 0, 0, 0, 0, 0, 0, 0],\n",
              "       [1, 0, 0, 0, 0, 0, 0, 1, 0, 1, 0, 0, 1, 1, 1, 0],\n",
              "       [0, 1, 0, 0, 1, 0, 0, 0, 0, 0, 1, 0, 0, 0, 0, 0],\n",
              "       [0, 0, 1, 0, 0, 1, 0, 0, 0, 0, 0, 1, 1, 0, 0, 1]], dtype=int64)"
            ]
          },
          "metadata": {
            "tags": []
          },
          "execution_count": 11
        }
      ]
    },
    {
      "cell_type": "code",
      "metadata": {
        "id": "ze60aBC-BDVp",
        "colab_type": "code",
        "colab": {
          "base_uri": "https://localhost:8080/",
          "height": 191
        },
        "outputId": "16d3b06e-fd45-41a3-8474-a18756ffa3d0"
      },
      "source": [
        "pd.DataFrame(column_trans.transform(X).toarray(),columns =column_trans.get_feature_names())"
      ],
      "execution_count": 20,
      "outputs": [
        {
          "output_type": "execute_result",
          "data": {
            "text/html": [
              "<div>\n",
              "<style scoped>\n",
              "    .dataframe tbody tr th:only-of-type {\n",
              "        vertical-align: middle;\n",
              "    }\n",
              "\n",
              "    .dataframe tbody tr th {\n",
              "        vertical-align: top;\n",
              "    }\n",
              "\n",
              "    .dataframe thead th {\n",
              "        text-align: right;\n",
              "    }\n",
              "</style>\n",
              "<table border=\"1\" class=\"dataframe\">\n",
              "  <thead>\n",
              "    <tr style=\"text-align: right;\">\n",
              "      <th></th>\n",
              "      <th>city_category__x0_London</th>\n",
              "      <th>city_category__x0_Paris</th>\n",
              "      <th>city_category__x0_Sallisaw</th>\n",
              "      <th>title_bow__bow</th>\n",
              "      <th>title_bow__feast</th>\n",
              "      <th>title_bow__grapes</th>\n",
              "      <th>title_bow__his</th>\n",
              "      <th>title_bow__how</th>\n",
              "      <th>title_bow__last</th>\n",
              "      <th>title_bow__learned</th>\n",
              "      <th>title_bow__moveable</th>\n",
              "      <th>title_bow__of</th>\n",
              "      <th>title_bow__the</th>\n",
              "      <th>title_bow__trick</th>\n",
              "      <th>title_bow__watson</th>\n",
              "      <th>title_bow__wrath</th>\n",
              "    </tr>\n",
              "  </thead>\n",
              "  <tbody>\n",
              "    <tr>\n",
              "      <th>0</th>\n",
              "      <td>1</td>\n",
              "      <td>0</td>\n",
              "      <td>0</td>\n",
              "      <td>1</td>\n",
              "      <td>0</td>\n",
              "      <td>0</td>\n",
              "      <td>1</td>\n",
              "      <td>0</td>\n",
              "      <td>1</td>\n",
              "      <td>0</td>\n",
              "      <td>0</td>\n",
              "      <td>0</td>\n",
              "      <td>0</td>\n",
              "      <td>0</td>\n",
              "      <td>0</td>\n",
              "      <td>0</td>\n",
              "    </tr>\n",
              "    <tr>\n",
              "      <th>1</th>\n",
              "      <td>1</td>\n",
              "      <td>0</td>\n",
              "      <td>0</td>\n",
              "      <td>0</td>\n",
              "      <td>0</td>\n",
              "      <td>0</td>\n",
              "      <td>0</td>\n",
              "      <td>1</td>\n",
              "      <td>0</td>\n",
              "      <td>1</td>\n",
              "      <td>0</td>\n",
              "      <td>0</td>\n",
              "      <td>1</td>\n",
              "      <td>1</td>\n",
              "      <td>1</td>\n",
              "      <td>0</td>\n",
              "    </tr>\n",
              "    <tr>\n",
              "      <th>2</th>\n",
              "      <td>0</td>\n",
              "      <td>1</td>\n",
              "      <td>0</td>\n",
              "      <td>0</td>\n",
              "      <td>1</td>\n",
              "      <td>0</td>\n",
              "      <td>0</td>\n",
              "      <td>0</td>\n",
              "      <td>0</td>\n",
              "      <td>0</td>\n",
              "      <td>1</td>\n",
              "      <td>0</td>\n",
              "      <td>0</td>\n",
              "      <td>0</td>\n",
              "      <td>0</td>\n",
              "      <td>0</td>\n",
              "    </tr>\n",
              "    <tr>\n",
              "      <th>3</th>\n",
              "      <td>0</td>\n",
              "      <td>0</td>\n",
              "      <td>1</td>\n",
              "      <td>0</td>\n",
              "      <td>0</td>\n",
              "      <td>1</td>\n",
              "      <td>0</td>\n",
              "      <td>0</td>\n",
              "      <td>0</td>\n",
              "      <td>0</td>\n",
              "      <td>0</td>\n",
              "      <td>1</td>\n",
              "      <td>1</td>\n",
              "      <td>0</td>\n",
              "      <td>0</td>\n",
              "      <td>1</td>\n",
              "    </tr>\n",
              "  </tbody>\n",
              "</table>\n",
              "</div>"
            ],
            "text/plain": [
              "   city_category__x0_London  ...  title_bow__wrath\n",
              "0                         1  ...                 0\n",
              "1                         1  ...                 0\n",
              "2                         0  ...                 0\n",
              "3                         0  ...                 1\n",
              "\n",
              "[4 rows x 16 columns]"
            ]
          },
          "metadata": {
            "tags": []
          },
          "execution_count": 20
        }
      ]
    },
    {
      "cell_type": "code",
      "metadata": {
        "id": "wCw6JRPWBtT1",
        "colab_type": "code",
        "colab": {}
      },
      "source": [
        " from sklearn.preprocessing import StandardScaler\n",
        " from sklearn.compose import make_column_selector\n",
        " import numpy as np\n",
        " ct = ColumnTransformer([\n",
        "     ('scale', StandardScaler(),\n",
        "     make_column_selector(dtype_include=np.number)),\n",
        "      ('onehot',\n",
        "      OneHotEncoder(),\n",
        "      make_column_selector(pattern='city', dtype_include=object))])\n",
        "ct=ct.fit_transform(X)"
      ],
      "execution_count": 27,
      "outputs": []
    },
    {
      "cell_type": "code",
      "metadata": {
        "id": "9WIkpJ-7Jm7d",
        "colab_type": "code",
        "colab": {}
      },
      "source": [
        " from sklearn.compose import make_column_transformer\n",
        " from sklearn.preprocessing import MinMaxScaler\n",
        "column_trans = make_column_transformer(\n",
        "  (OneHotEncoder(), ['city']),\n",
        "  (CountVectorizer(), 'title'),\n",
        "    remainder=MinMaxScaler())"
      ],
      "execution_count": 31,
      "outputs": []
    },
    {
      "cell_type": "code",
      "metadata": {
        "id": "GL95LogwKqoY",
        "colab_type": "code",
        "colab": {
          "base_uri": "https://localhost:8080/",
          "height": 468
        },
        "outputId": "54623198-704a-434f-d559-35022a1ec6d4"
      },
      "source": [
        "column_trans"
      ],
      "execution_count": 32,
      "outputs": [
        {
          "output_type": "execute_result",
          "data": {
            "text/plain": [
              "ColumnTransformer(n_jobs=None,\n",
              "                  remainder=MinMaxScaler(copy=True, feature_range=(0, 1)),\n",
              "                  sparse_threshold=0.3, transformer_weights=None,\n",
              "                  transformers=[('onehotencoder',\n",
              "                                 OneHotEncoder(categories='auto', drop=None,\n",
              "                                               dtype=<class 'numpy.float64'>,\n",
              "                                               handle_unknown='error',\n",
              "                                               sparse=True),\n",
              "                                 ['city']),\n",
              "                                ('countvectorizer',\n",
              "                                 CountVectorizer(analyzer='word', binary=False,\n",
              "                                                 decode_error='strict',\n",
              "                                                 dtype=<class 'numpy.int64'>,\n",
              "                                                 encoding='utf-8',\n",
              "                                                 input='content',\n",
              "                                                 lowercase=True, max_df=1.0,\n",
              "                                                 max_features=None, min_df=1,\n",
              "                                                 ngram_range=(1, 1),\n",
              "                                                 preprocessor=None,\n",
              "                                                 stop_words=None,\n",
              "                                                 strip_accents=None,\n",
              "                                                 token_pattern='(?u)\\\\b\\\\w\\\\w+\\\\b',\n",
              "                                                 tokenizer=None,\n",
              "                                                 vocabulary=None),\n",
              "                                 'title')],\n",
              "                  verbose=False)"
            ]
          },
          "metadata": {
            "tags": []
          },
          "execution_count": 32
        }
      ]
    },
    {
      "cell_type": "code",
      "metadata": {
        "id": "KCi1Nqq7K7FO",
        "colab_type": "code",
        "colab": {
          "base_uri": "https://localhost:8080/",
          "height": 468
        },
        "outputId": "9732fb23-b076-47e6-a80c-f5adf4d36f98"
      },
      "source": [
        "column_trans.fit(X)"
      ],
      "execution_count": 33,
      "outputs": [
        {
          "output_type": "execute_result",
          "data": {
            "text/plain": [
              "ColumnTransformer(n_jobs=None,\n",
              "                  remainder=MinMaxScaler(copy=True, feature_range=(0, 1)),\n",
              "                  sparse_threshold=0.3, transformer_weights=None,\n",
              "                  transformers=[('onehotencoder',\n",
              "                                 OneHotEncoder(categories='auto', drop=None,\n",
              "                                               dtype=<class 'numpy.float64'>,\n",
              "                                               handle_unknown='error',\n",
              "                                               sparse=True),\n",
              "                                 ['city']),\n",
              "                                ('countvectorizer',\n",
              "                                 CountVectorizer(analyzer='word', binary=False,\n",
              "                                                 decode_error='strict',\n",
              "                                                 dtype=<class 'numpy.int64'>,\n",
              "                                                 encoding='utf-8',\n",
              "                                                 input='content',\n",
              "                                                 lowercase=True, max_df=1.0,\n",
              "                                                 max_features=None, min_df=1,\n",
              "                                                 ngram_range=(1, 1),\n",
              "                                                 preprocessor=None,\n",
              "                                                 stop_words=None,\n",
              "                                                 strip_accents=None,\n",
              "                                                 token_pattern='(?u)\\\\b\\\\w\\\\w+\\\\b',\n",
              "                                                 tokenizer=None,\n",
              "                                                 vocabulary=None),\n",
              "                                 'title')],\n",
              "                  verbose=False)"
            ]
          },
          "metadata": {
            "tags": []
          },
          "execution_count": 33
        }
      ]
    },
    {
      "cell_type": "code",
      "metadata": {
        "id": "IbOJ6hi1LBf9",
        "colab_type": "code",
        "colab": {}
      },
      "source": [
        "from sklearn.pipeline import Pipeline\n",
        "from sklearn.impute import SimpleImputer\n",
        "from sklearn.preprocessing import StandardScaler, OneHotEncoder\n",
        "numeric_transformer = Pipeline(steps=[\n",
        "    ('imputer', SimpleImputer(strategy='median')),\n",
        "    ('scaler', StandardScaler())])\n",
        "categorical_transformer = Pipeline(steps=[\n",
        "    ('imputer', SimpleImputer(strategy='constant', fill_value='missing')),\n",
        "    ('onehot', OneHotEncoder(handle_unknown='ignore'))])"
      ],
      "execution_count": 35,
      "outputs": []
    },
    {
      "cell_type": "code",
      "metadata": {
        "id": "3umHTDd8LFXD",
        "colab_type": "code",
        "colab": {}
      },
      "source": [
        "numeric_features = X.select_dtypes(include=['int64', 'float64']).columns\n",
        "categorical_features = X.select_dtypes(include=['object']).columns\n",
        "from sklearn.compose import ColumnTransformer\n",
        "preprocessor = ColumnTransformer(\n",
        "    transformers=[\n",
        "        ('num', numeric_transformer, numeric_features),\n",
        "        ('cat', categorical_transformer, categorical_features)])"
      ],
      "execution_count": 38,
      "outputs": []
    },
    {
      "cell_type": "code",
      "metadata": {
        "id": "04b7E4aoM91t",
        "colab_type": "code",
        "colab": {}
      },
      "source": [
        "from sklearn.ensemble import RandomForestClassifier\n",
        "rf = Pipeline(steps=[('preprocessor', preprocessor),\n",
        "                      ('classifier', RandomForestClassifier())])"
      ],
      "execution_count": 39,
      "outputs": []
    },
    {
      "cell_type": "code",
      "metadata": {
        "id": "JoO86xmZNcKZ",
        "colab_type": "code",
        "colab": {}
      },
      "source": [
        "#rf.fit(X_train, y_train)\n",
        "#y_pred = rf.predict(X_test)"
      ],
      "execution_count": 42,
      "outputs": []
    },
    {
      "cell_type": "code",
      "metadata": {
        "id": "RG4ztNgbNfFE",
        "colab_type": "code",
        "colab": {
          "base_uri": "https://localhost:8080/",
          "height": 53
        },
        "outputId": "bac45c52-d7b1-4bac-c27d-06bc20264720"
      },
      "source": [
        "from sklearn.metrics import accuracy_score, log_loss\n",
        "from sklearn.neighbors import KNeighborsClassifier\n",
        "from sklearn.svm import SVC, LinearSVC, NuSVC\n",
        "from sklearn.tree import DecisionTreeClassifier\n",
        "from sklearn.ensemble import RandomForestClassifier, AdaBoostClassifier, GradientBoostingClassifier\n",
        "from sklearn.discriminant_analysis import LinearDiscriminantAnalysis\n",
        "from sklearn.discriminant_analysis import QuadraticDiscriminantAnalysis\n",
        "classifiers = [\n",
        "    KNeighborsClassifier(3),\n",
        "    SVC(kernel=\"rbf\", C=0.025, probability=True),\n",
        "    NuSVC(probability=True),\n",
        "    DecisionTreeClassifier(),\n",
        "    RandomForestClassifier(),\n",
        "    AdaBoostClassifier(),\n",
        "    GradientBoostingClassifier()\n",
        "    ]\n",
        "'''for classifier in classifiers:\n",
        "    pipe = Pipeline(steps=[('preprocessor', preprocessor),\n",
        "                      ('classifier', classifier)])\n",
        "    pipe.fit(X_train, y_train)   \n",
        "    print(classifier)\n",
        "    print(\"model score: %.3f\" % pipe.score(X_test, y_test))'''"
      ],
      "execution_count": 43,
      "outputs": [
        {
          "output_type": "execute_result",
          "data": {
            "application/vnd.google.colaboratory.intrinsic+json": {
              "type": "string"
            },
            "text/plain": [
              "'for classifier in classifiers:\\n    pipe = Pipeline(steps=[(\\'preprocessor\\', preprocessor),\\n                      (\\'classifier\\', classifier)])\\n    pipe.fit(X_train, y_train)   \\n    print(classifier)\\n    print(\"model score: %.3f\" % pipe.score(X_test, y_test))'"
            ]
          },
          "metadata": {
            "tags": []
          },
          "execution_count": 43
        }
      ]
    },
    {
      "cell_type": "code",
      "metadata": {
        "id": "4ol2R36KNzf-",
        "colab_type": "code",
        "colab": {}
      },
      "source": [
        ""
      ],
      "execution_count": null,
      "outputs": []
    }
  ]
}