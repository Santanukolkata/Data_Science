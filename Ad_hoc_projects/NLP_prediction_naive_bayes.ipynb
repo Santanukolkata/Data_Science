{
 "cells": [
  {
   "cell_type": "code",
   "execution_count": 60,
   "metadata": {},
   "outputs": [],
   "source": [
    "import pandas as pd\n",
    "import string\n",
    "from nltk.corpus import stopwords\n",
    "from sklearn.feature_extraction.text import TfidfTransformer,CountVectorizer\n",
    "from sklearn.metrics import confusion_matrix"
   ]
  },
  {
   "cell_type": "code",
   "execution_count": 33,
   "metadata": {},
   "outputs": [],
   "source": [
    "df_sentiment=pd.read_csv('imdb_labelled.txt',sep='\\t',names=['Comment','Label'])"
   ]
  },
  {
   "cell_type": "code",
   "execution_count": 34,
   "metadata": {},
   "outputs": [
    {
     "data": {
      "text/html": [
       "<div>\n",
       "<style scoped>\n",
       "    .dataframe tbody tr th:only-of-type {\n",
       "        vertical-align: middle;\n",
       "    }\n",
       "\n",
       "    .dataframe tbody tr th {\n",
       "        vertical-align: top;\n",
       "    }\n",
       "\n",
       "    .dataframe thead th {\n",
       "        text-align: right;\n",
       "    }\n",
       "</style>\n",
       "<table border=\"1\" class=\"dataframe\">\n",
       "  <thead>\n",
       "    <tr style=\"text-align: right;\">\n",
       "      <th></th>\n",
       "      <th>Comment</th>\n",
       "      <th>Label</th>\n",
       "    </tr>\n",
       "  </thead>\n",
       "  <tbody>\n",
       "    <tr>\n",
       "      <th>0</th>\n",
       "      <td>A very, very, very slow-moving, aimless movie ...</td>\n",
       "      <td>0</td>\n",
       "    </tr>\n",
       "    <tr>\n",
       "      <th>1</th>\n",
       "      <td>Not sure who was more lost - the flat characte...</td>\n",
       "      <td>0</td>\n",
       "    </tr>\n",
       "    <tr>\n",
       "      <th>2</th>\n",
       "      <td>Attempting artiness with black &amp; white and cle...</td>\n",
       "      <td>0</td>\n",
       "    </tr>\n",
       "    <tr>\n",
       "      <th>3</th>\n",
       "      <td>Very little music or anything to speak of.</td>\n",
       "      <td>0</td>\n",
       "    </tr>\n",
       "    <tr>\n",
       "      <th>4</th>\n",
       "      <td>The best scene in the movie was when Gerardo i...</td>\n",
       "      <td>1</td>\n",
       "    </tr>\n",
       "  </tbody>\n",
       "</table>\n",
       "</div>"
      ],
      "text/plain": [
       "                                             Comment  Label\n",
       "0  A very, very, very slow-moving, aimless movie ...      0\n",
       "1  Not sure who was more lost - the flat characte...      0\n",
       "2  Attempting artiness with black & white and cle...      0\n",
       "3       Very little music or anything to speak of.        0\n",
       "4  The best scene in the movie was when Gerardo i...      1"
      ]
     },
     "execution_count": 34,
     "metadata": {},
     "output_type": "execute_result"
    }
   ],
   "source": [
    "df_sentiment.head()"
   ]
  },
  {
   "cell_type": "code",
   "execution_count": 35,
   "metadata": {},
   "outputs": [
    {
     "data": {
      "text/html": [
       "<div>\n",
       "<style scoped>\n",
       "    .dataframe tbody tr th:only-of-type {\n",
       "        vertical-align: middle;\n",
       "    }\n",
       "\n",
       "    .dataframe tbody tr th {\n",
       "        vertical-align: top;\n",
       "    }\n",
       "\n",
       "    .dataframe thead th {\n",
       "        text-align: right;\n",
       "    }\n",
       "</style>\n",
       "<table border=\"1\" class=\"dataframe\">\n",
       "  <thead>\n",
       "    <tr style=\"text-align: right;\">\n",
       "      <th></th>\n",
       "      <th>Label</th>\n",
       "    </tr>\n",
       "  </thead>\n",
       "  <tbody>\n",
       "    <tr>\n",
       "      <th>count</th>\n",
       "      <td>748.000000</td>\n",
       "    </tr>\n",
       "    <tr>\n",
       "      <th>mean</th>\n",
       "      <td>0.516043</td>\n",
       "    </tr>\n",
       "    <tr>\n",
       "      <th>std</th>\n",
       "      <td>0.500077</td>\n",
       "    </tr>\n",
       "    <tr>\n",
       "      <th>min</th>\n",
       "      <td>0.000000</td>\n",
       "    </tr>\n",
       "    <tr>\n",
       "      <th>25%</th>\n",
       "      <td>0.000000</td>\n",
       "    </tr>\n",
       "    <tr>\n",
       "      <th>50%</th>\n",
       "      <td>1.000000</td>\n",
       "    </tr>\n",
       "    <tr>\n",
       "      <th>75%</th>\n",
       "      <td>1.000000</td>\n",
       "    </tr>\n",
       "    <tr>\n",
       "      <th>max</th>\n",
       "      <td>1.000000</td>\n",
       "    </tr>\n",
       "  </tbody>\n",
       "</table>\n",
       "</div>"
      ],
      "text/plain": [
       "            Label\n",
       "count  748.000000\n",
       "mean     0.516043\n",
       "std      0.500077\n",
       "min      0.000000\n",
       "25%      0.000000\n",
       "50%      1.000000\n",
       "75%      1.000000\n",
       "max      1.000000"
      ]
     },
     "execution_count": 35,
     "metadata": {},
     "output_type": "execute_result"
    }
   ],
   "source": [
    "df_sentiment.describe()"
   ]
  },
  {
   "cell_type": "code",
   "execution_count": 36,
   "metadata": {},
   "outputs": [
    {
     "data": {
      "text/plain": [
       "(748, 2)"
      ]
     },
     "execution_count": 36,
     "metadata": {},
     "output_type": "execute_result"
    }
   ],
   "source": [
    "df_sentiment.shape"
   ]
  },
  {
   "cell_type": "code",
   "execution_count": 37,
   "metadata": {},
   "outputs": [
    {
     "name": "stdout",
     "output_type": "stream",
     "text": [
      "<class 'pandas.core.frame.DataFrame'>\n",
      "RangeIndex: 748 entries, 0 to 747\n",
      "Data columns (total 2 columns):\n",
      "Comment    748 non-null object\n",
      "Label      748 non-null int64\n",
      "dtypes: int64(1), object(1)\n",
      "memory usage: 11.8+ KB\n"
     ]
    }
   ],
   "source": [
    "df_sentiment.info()"
   ]
  },
  {
   "cell_type": "code",
   "execution_count": 38,
   "metadata": {},
   "outputs": [
    {
     "data": {
      "text/html": [
       "<div>\n",
       "<style scoped>\n",
       "    .dataframe tbody tr th:only-of-type {\n",
       "        vertical-align: middle;\n",
       "    }\n",
       "\n",
       "    .dataframe tbody tr th {\n",
       "        vertical-align: top;\n",
       "    }\n",
       "\n",
       "    .dataframe thead tr th {\n",
       "        text-align: left;\n",
       "    }\n",
       "\n",
       "    .dataframe thead tr:last-of-type th {\n",
       "        text-align: right;\n",
       "    }\n",
       "</style>\n",
       "<table border=\"1\" class=\"dataframe\">\n",
       "  <thead>\n",
       "    <tr>\n",
       "      <th></th>\n",
       "      <th colspan=\"4\" halign=\"left\">Comment</th>\n",
       "    </tr>\n",
       "    <tr>\n",
       "      <th></th>\n",
       "      <th>count</th>\n",
       "      <th>unique</th>\n",
       "      <th>top</th>\n",
       "      <th>freq</th>\n",
       "    </tr>\n",
       "    <tr>\n",
       "      <th>Label</th>\n",
       "      <th></th>\n",
       "      <th></th>\n",
       "      <th></th>\n",
       "      <th></th>\n",
       "    </tr>\n",
       "  </thead>\n",
       "  <tbody>\n",
       "    <tr>\n",
       "      <th>0</th>\n",
       "      <td>362</td>\n",
       "      <td>361</td>\n",
       "      <td>Not recommended.</td>\n",
       "      <td>2</td>\n",
       "    </tr>\n",
       "    <tr>\n",
       "      <th>1</th>\n",
       "      <td>386</td>\n",
       "      <td>384</td>\n",
       "      <td>10/10</td>\n",
       "      <td>2</td>\n",
       "    </tr>\n",
       "  </tbody>\n",
       "</table>\n",
       "</div>"
      ],
      "text/plain": [
       "      Comment                                \n",
       "        count unique                 top freq\n",
       "Label                                        \n",
       "0         362    361  Not recommended.      2\n",
       "1         386    384             10/10      2"
      ]
     },
     "execution_count": 38,
     "metadata": {},
     "output_type": "execute_result"
    }
   ],
   "source": [
    "df_sentiment.groupby('Label').describe()"
   ]
  },
  {
   "cell_type": "code",
   "execution_count": 39,
   "metadata": {},
   "outputs": [],
   "source": [
    "vectorizer=CountVectorizer()"
   ]
  },
  {
   "cell_type": "code",
   "execution_count": 40,
   "metadata": {},
   "outputs": [
    {
     "data": {
      "text/plain": [
       "0    [slowmoving, aimless, movie, distressed, drift...\n",
       "Name: Comment, dtype: object"
      ]
     },
     "execution_count": 40,
     "metadata": {},
     "output_type": "execute_result"
    }
   ],
   "source": [
    "#define a function to get rid of stopwords present in the messages\n",
    "def message_text_process(mess):\n",
    "    no_punchuation=[char for char in mess if char not in string.punctuation]\n",
    "    #print(no_punchuation)\n",
    "    no_punchuation=''.join(no_punchuation)\n",
    "    #print(no_punchuation)\n",
    "    return [word for word in no_punchuation.split() if word.lower() not in stopwords.words('english')]\n",
    "df_sentiment['Comment'].head(1).apply(message_text_process)"
   ]
  },
  {
   "cell_type": "code",
   "execution_count": 53,
   "metadata": {},
   "outputs": [],
   "source": [
    "from sklearn.model_selection import train_test_split\n",
    "X_train,Y_train,x_label,y_label=train_test_split(df_sentiment['Comment'],df_sentiment['Label'],test_size=.3,random_state=42)"
   ]
  },
  {
   "cell_type": "code",
   "execution_count": 54,
   "metadata": {},
   "outputs": [
    {
     "data": {
      "text/plain": [
       "((598,), (150,), (598,), (150,))"
      ]
     },
     "execution_count": 54,
     "metadata": {},
     "output_type": "execute_result"
    }
   ],
   "source": [
    "X_train.shape,Y_train.shape,x_label.shape,y_label.shape"
   ]
  },
  {
   "cell_type": "code",
   "execution_count": 51,
   "metadata": {},
   "outputs": [
    {
     "name": "stdout",
     "output_type": "stream",
     "text": [
      "(598, 3257)\n",
      "(598, 3257)\n"
     ]
    }
   ],
   "source": [
    "bagofwords_all=CountVectorizer(analyzer=message_text_process).fit(df_sentiment['Comment'].values)\n",
    "Comment_bagofwords_train=bagofwords_all.transform(X_train.values)\n",
    "bagofwords_df=pd.DataFrame(Comment_bagofwords_train.toarray(),columns =bagofwords_all.get_feature_names())\n",
    "print(bagofwords_df.shape)\n",
    "tfidf_transformer=TfidfTransformer().fit(Comment_bagofwords_train)\n",
    "comment_tfidf_train=tfidf_transformer.transform(Comment_bagofwords_train)\n",
    "print(comment_tfidf_train.shape)"
   ]
  },
  {
   "cell_type": "code",
   "execution_count": 55,
   "metadata": {},
   "outputs": [],
   "source": [
    "#Training the models\n",
    "spam_detection_model=MultinomialNB().fit(comment_tfidf_train,x_label)"
   ]
  },
  {
   "cell_type": "code",
   "execution_count": 56,
   "metadata": {},
   "outputs": [
    {
     "name": "stdout",
     "output_type": "stream",
     "text": [
      "(150, 3257)\n",
      "(150, 3257)\n"
     ]
    }
   ],
   "source": [
    "Comment_bagofwords_test=bagofwords_all.transform(Y_train.values)\n",
    "bagofwords_df_test=pd.DataFrame(Comment_bagofwords_test.toarray(),columns =bagofwords_all.get_feature_names())\n",
    "print(bagofwords_df_test.shape)\n",
    "tfidf_transformer_test=TfidfTransformer().fit(Comment_bagofwords_test)\n",
    "tfidf_transformer_test=tfidf_transformer_test.transform(Comment_bagofwords_test)\n",
    "print(tfidf_transformer_test.shape)"
   ]
  },
  {
   "cell_type": "code",
   "execution_count": 58,
   "metadata": {},
   "outputs": [],
   "source": [
    "y_predict=spam_detection_model.predict(tfidf_transformer_test)"
   ]
  },
  {
   "cell_type": "code",
   "execution_count": 61,
   "metadata": {},
   "outputs": [
    {
     "data": {
      "text/plain": [
       "array([[52, 24],\n",
       "       [12, 62]], dtype=int64)"
      ]
     },
     "execution_count": 61,
     "metadata": {},
     "output_type": "execute_result"
    }
   ],
   "source": [
    "confusion_matrix(y_label, y_predict)"
   ]
  },
  {
   "cell_type": "code",
   "execution_count": 64,
   "metadata": {},
   "outputs": [
    {
     "data": {
      "text/plain": [
       "array([[0.36330928, 0.63669072],\n",
       "       [0.510325  , 0.489675  ],\n",
       "       [0.56268892, 0.43731108],\n",
       "       [0.55307642, 0.44692358],\n",
       "       [0.31826974, 0.68173026],\n",
       "       [0.66749108, 0.33250892],\n",
       "       [0.28433354, 0.71566646],\n",
       "       [0.55295919, 0.44704081],\n",
       "       [0.65378984, 0.34621016],\n",
       "       [0.48986848, 0.51013152],\n",
       "       [0.43676572, 0.56323428],\n",
       "       [0.38875399, 0.61124601],\n",
       "       [0.44001346, 0.55998654],\n",
       "       [0.51614057, 0.48385943],\n",
       "       [0.30574684, 0.69425316],\n",
       "       [0.5215268 , 0.4784732 ],\n",
       "       [0.57333348, 0.42666652],\n",
       "       [0.61460107, 0.38539893],\n",
       "       [0.56140134, 0.43859866],\n",
       "       [0.51723719, 0.48276281],\n",
       "       [0.4421978 , 0.5578022 ],\n",
       "       [0.4962618 , 0.5037382 ],\n",
       "       [0.63449048, 0.36550952],\n",
       "       [0.66806366, 0.33193634],\n",
       "       [0.39888236, 0.60111764],\n",
       "       [0.36066495, 0.63933505],\n",
       "       [0.41577699, 0.58422301],\n",
       "       [0.6311325 , 0.3688675 ],\n",
       "       [0.61983299, 0.38016701],\n",
       "       [0.75996013, 0.24003987],\n",
       "       [0.47619904, 0.52380096],\n",
       "       [0.44714977, 0.55285023],\n",
       "       [0.32610887, 0.67389113],\n",
       "       [0.36113198, 0.63886802],\n",
       "       [0.41638646, 0.58361354],\n",
       "       [0.57334874, 0.42665126],\n",
       "       [0.43677617, 0.56322383],\n",
       "       [0.41113969, 0.58886031],\n",
       "       [0.64143287, 0.35856713],\n",
       "       [0.45965391, 0.54034609],\n",
       "       [0.23131068, 0.76868932],\n",
       "       [0.26827435, 0.73172565],\n",
       "       [0.51124746, 0.48875254],\n",
       "       [0.55706154, 0.44293846],\n",
       "       [0.53297258, 0.46702742],\n",
       "       [0.51943125, 0.48056875],\n",
       "       [0.45748114, 0.54251886],\n",
       "       [0.43295865, 0.56704135],\n",
       "       [0.61135484, 0.38864516],\n",
       "       [0.35270418, 0.64729582],\n",
       "       [0.45104597, 0.54895403],\n",
       "       [0.39076371, 0.60923629],\n",
       "       [0.50374749, 0.49625251],\n",
       "       [0.6527621 , 0.3472379 ],\n",
       "       [0.37247083, 0.62752917],\n",
       "       [0.39502465, 0.60497535],\n",
       "       [0.46618028, 0.53381972],\n",
       "       [0.69267212, 0.30732788],\n",
       "       [0.65993148, 0.34006852],\n",
       "       [0.4881401 , 0.5118599 ],\n",
       "       [0.62047124, 0.37952876],\n",
       "       [0.27820067, 0.72179933],\n",
       "       [0.34446974, 0.65553026],\n",
       "       [0.41109526, 0.58890474],\n",
       "       [0.43918457, 0.56081543],\n",
       "       [0.78497873, 0.21502127],\n",
       "       [0.60276595, 0.39723405],\n",
       "       [0.40967989, 0.59032011],\n",
       "       [0.48834184, 0.51165816],\n",
       "       [0.57253582, 0.42746418],\n",
       "       [0.44221065, 0.55778935],\n",
       "       [0.36081482, 0.63918518],\n",
       "       [0.56607243, 0.43392757],\n",
       "       [0.43509121, 0.56490879],\n",
       "       [0.49408098, 0.50591902],\n",
       "       [0.39987793, 0.60012207],\n",
       "       [0.50166603, 0.49833397],\n",
       "       [0.36782104, 0.63217896],\n",
       "       [0.18583845, 0.81416155],\n",
       "       [0.47833909, 0.52166091],\n",
       "       [0.60498412, 0.39501588],\n",
       "       [0.486467  , 0.513533  ],\n",
       "       [0.61328403, 0.38671597],\n",
       "       [0.52077405, 0.47922595],\n",
       "       [0.43939627, 0.56060373],\n",
       "       [0.48986848, 0.51013152],\n",
       "       [0.44261281, 0.55738719],\n",
       "       [0.43820794, 0.56179206],\n",
       "       [0.66549213, 0.33450787],\n",
       "       [0.4184775 , 0.5815225 ],\n",
       "       [0.51824892, 0.48175108],\n",
       "       [0.33907511, 0.66092489],\n",
       "       [0.39174444, 0.60825556],\n",
       "       [0.43730586, 0.56269414],\n",
       "       [0.486467  , 0.513533  ],\n",
       "       [0.18856841, 0.81143159],\n",
       "       [0.486467  , 0.513533  ],\n",
       "       [0.38715711, 0.61284289],\n",
       "       [0.64152037, 0.35847963],\n",
       "       [0.55060788, 0.44939212],\n",
       "       [0.39495323, 0.60504677],\n",
       "       [0.19243199, 0.80756801],\n",
       "       [0.68632183, 0.31367817],\n",
       "       [0.36707607, 0.63292393],\n",
       "       [0.29953398, 0.70046602],\n",
       "       [0.60639036, 0.39360964],\n",
       "       [0.541774  , 0.458226  ],\n",
       "       [0.38428056, 0.61571944],\n",
       "       [0.23020696, 0.76979304],\n",
       "       [0.65175416, 0.34824584],\n",
       "       [0.57836029, 0.42163971],\n",
       "       [0.53548067, 0.46451933],\n",
       "       [0.63214381, 0.36785619],\n",
       "       [0.46080777, 0.53919223],\n",
       "       [0.48658658, 0.51341342],\n",
       "       [0.5041495 , 0.4958505 ],\n",
       "       [0.33235856, 0.66764144],\n",
       "       [0.47497326, 0.52502674],\n",
       "       [0.39153226, 0.60846774],\n",
       "       [0.68319508, 0.31680492],\n",
       "       [0.4277414 , 0.5722586 ],\n",
       "       [0.56592136, 0.43407864],\n",
       "       [0.50373892, 0.49626108],\n",
       "       [0.47484581, 0.52515419],\n",
       "       [0.72211749, 0.27788251],\n",
       "       [0.34283288, 0.65716712],\n",
       "       [0.486467  , 0.513533  ],\n",
       "       [0.19966457, 0.80033543],\n",
       "       [0.54168784, 0.45831216],\n",
       "       [0.7235696 , 0.2764304 ],\n",
       "       [0.44717457, 0.55282543],\n",
       "       [0.72488219, 0.27511781],\n",
       "       [0.54429474, 0.45570526],\n",
       "       [0.17832346, 0.82167654],\n",
       "       [0.50403538, 0.49596462],\n",
       "       [0.63603619, 0.36396381],\n",
       "       [0.29212794, 0.70787206],\n",
       "       [0.53471234, 0.46528766],\n",
       "       [0.34922704, 0.65077296],\n",
       "       [0.41976644, 0.58023356],\n",
       "       [0.66117782, 0.33882218],\n",
       "       [0.22543008, 0.77456992],\n",
       "       [0.696814  , 0.303186  ],\n",
       "       [0.25349   , 0.74651   ],\n",
       "       [0.42850025, 0.57149975],\n",
       "       [0.40562269, 0.59437731],\n",
       "       [0.45984104, 0.54015896],\n",
       "       [0.58939964, 0.41060036],\n",
       "       [0.47556071, 0.52443929],\n",
       "       [0.68142399, 0.31857601]])"
      ]
     },
     "execution_count": 64,
     "metadata": {},
     "output_type": "execute_result"
    }
   ],
   "source": [
    "spam_detection_model.predict_proba(tfidf_transformer_test)"
   ]
  },
  {
   "cell_type": "code",
   "execution_count": 75,
   "metadata": {},
   "outputs": [
    {
     "name": "stdout",
     "output_type": "stream",
     "text": [
      "Testing Accuracy on Training Set: 0.9765886287625418\n",
      "Testing Accuracy on Test Set: 0.7533333333333333\n"
     ]
    }
   ],
   "source": [
    "print('Testing Accuracy on Training Set:',spam_detection_model.score(Comment_bagofwords_train,x_label))\n",
    "print('Testing Accuracy on Test Set:',spam_detection_model.score(Comment_bagofwords_test,y_label))"
   ]
  },
  {
   "cell_type": "code",
   "execution_count": 80,
   "metadata": {},
   "outputs": [
    {
     "data": {
      "text/plain": [
       "LogisticRegression(C=1.0, class_weight=None, dual=False, fit_intercept=True,\n",
       "          intercept_scaling=1, max_iter=100, multi_class='warn',\n",
       "          n_jobs=None, penalty='l2', random_state=None, solver='warn',\n",
       "          tol=0.0001, verbose=0, warm_start=False)"
      ]
     },
     "execution_count": 80,
     "metadata": {},
     "output_type": "execute_result"
    }
   ],
   "source": [
    "from sklearn.linear_model import LogisticRegression\n",
    "logRegg=LogisticRegression(penalty='l2')\n",
    "logRegg.fit(Comment_bagofwords_train,x_label)"
   ]
  },
  {
   "cell_type": "code",
   "execution_count": 81,
   "metadata": {},
   "outputs": [
    {
     "name": "stdout",
     "output_type": "stream",
     "text": [
      "Testing Accuracy on Training Set: 0.9882943143812709\n",
      "Testing Accuracy on Test Set: 0.7466666666666667\n"
     ]
    }
   ],
   "source": [
    "print('Testing Accuracy on Training Set:',logRegg.score(Comment_bagofwords_train,x_label))\n",
    "print('Testing Accuracy on Test Set:',logRegg.score(Comment_bagofwords_test,y_label))"
   ]
  },
  {
   "cell_type": "code",
   "execution_count": 82,
   "metadata": {},
   "outputs": [
    {
     "data": {
      "text/plain": [
       "array([[0.42470725, 0.57529275],\n",
       "       [0.5647699 , 0.4352301 ],\n",
       "       [0.60387943, 0.39612057],\n",
       "       [0.61689231, 0.38310769],\n",
       "       [0.45240903, 0.54759097],\n",
       "       [0.6038814 , 0.3961186 ],\n",
       "       [0.44104076, 0.55895924],\n",
       "       [0.62434547, 0.37565453],\n",
       "       [0.65617793, 0.34382207],\n",
       "       [0.56034522, 0.43965478],\n",
       "       [0.49260119, 0.50739881],\n",
       "       [0.5128492 , 0.4871508 ],\n",
       "       [0.52072769, 0.47927231],\n",
       "       [0.55615908, 0.44384092],\n",
       "       [0.44650995, 0.55349005],\n",
       "       [0.56196904, 0.43803096],\n",
       "       [0.61676584, 0.38323416],\n",
       "       [0.62295279, 0.37704721],\n",
       "       [0.55401985, 0.44598015],\n",
       "       [0.62597652, 0.37402348],\n",
       "       [0.47879891, 0.52120109],\n",
       "       [0.51649109, 0.48350891],\n",
       "       [0.65278127, 0.34721873],\n",
       "       [0.7126288 , 0.2873712 ],\n",
       "       [0.47972672, 0.52027328],\n",
       "       [0.48135318, 0.51864682],\n",
       "       [0.4723314 , 0.5276686 ],\n",
       "       [0.66099955, 0.33900045],\n",
       "       [0.66719152, 0.33280848],\n",
       "       [0.78349373, 0.21650627],\n",
       "       [0.52925017, 0.47074983],\n",
       "       [0.50126852, 0.49873148],\n",
       "       [0.43446293, 0.56553707],\n",
       "       [0.44852026, 0.55147974],\n",
       "       [0.50048377, 0.49951623],\n",
       "       [0.62375957, 0.37624043],\n",
       "       [0.51992539, 0.48007461],\n",
       "       [0.52651783, 0.47348217],\n",
       "       [0.64191481, 0.35808519],\n",
       "       [0.53045369, 0.46954631],\n",
       "       [0.38712566, 0.61287434],\n",
       "       [0.36029567, 0.63970433],\n",
       "       [0.57978523, 0.42021477],\n",
       "       [0.59425287, 0.40574713],\n",
       "       [0.57554672, 0.42445328],\n",
       "       [0.57574245, 0.42425755],\n",
       "       [0.51731042, 0.48268958],\n",
       "       [0.5058014 , 0.4941986 ],\n",
       "       [0.68546168, 0.31453832],\n",
       "       [0.46045981, 0.53954019],\n",
       "       [0.53881667, 0.46118333],\n",
       "       [0.46975449, 0.53024551],\n",
       "       [0.54617409, 0.45382591],\n",
       "       [0.64231167, 0.35768833],\n",
       "       [0.46557269, 0.53442731],\n",
       "       [0.4724707 , 0.5275293 ],\n",
       "       [0.58433961, 0.41566039],\n",
       "       [0.69017309, 0.30982691],\n",
       "       [0.65970803, 0.34029197],\n",
       "       [0.54403373, 0.45596627],\n",
       "       [0.64678388, 0.35321612],\n",
       "       [0.39555573, 0.60444427],\n",
       "       [0.46594294, 0.53405706],\n",
       "       [0.51540907, 0.48459093],\n",
       "       [0.54714986, 0.45285014],\n",
       "       [0.73836579, 0.26163421],\n",
       "       [0.65339011, 0.34660989],\n",
       "       [0.47698504, 0.52301496],\n",
       "       [0.55799018, 0.44200982],\n",
       "       [0.58803034, 0.41196966],\n",
       "       [0.51062348, 0.48937652],\n",
       "       [0.45646493, 0.54353507],\n",
       "       [0.60078367, 0.39921633],\n",
       "       [0.48218221, 0.51781779],\n",
       "       [0.53668856, 0.46331144],\n",
       "       [0.4593538 , 0.5406462 ],\n",
       "       [0.54060222, 0.45939778],\n",
       "       [0.48679057, 0.51320943],\n",
       "       [0.25599452, 0.74400548],\n",
       "       [0.56480928, 0.43519072],\n",
       "       [0.64098684, 0.35901316],\n",
       "       [0.56034522, 0.43965478],\n",
       "       [0.63849639, 0.36150361],\n",
       "       [0.60198232, 0.39801768],\n",
       "       [0.50998659, 0.49001341],\n",
       "       [0.56034522, 0.43965478],\n",
       "       [0.53487753, 0.46512247],\n",
       "       [0.50592155, 0.49407845],\n",
       "       [0.68221738, 0.31778262],\n",
       "       [0.43864294, 0.56135706],\n",
       "       [0.58714664, 0.41285336],\n",
       "       [0.48022741, 0.51977259],\n",
       "       [0.52928304, 0.47071696],\n",
       "       [0.51918111, 0.48081889],\n",
       "       [0.56034522, 0.43965478],\n",
       "       [0.33154679, 0.66845321],\n",
       "       [0.56034522, 0.43965478],\n",
       "       [0.48209845, 0.51790155],\n",
       "       [0.65252487, 0.34747513],\n",
       "       [0.64605456, 0.35394544],\n",
       "       [0.55327548, 0.44672452],\n",
       "       [0.30461394, 0.69538606],\n",
       "       [0.68774788, 0.31225212],\n",
       "       [0.45222983, 0.54777017],\n",
       "       [0.41597057, 0.58402943],\n",
       "       [0.63740116, 0.36259884],\n",
       "       [0.56875869, 0.43124131],\n",
       "       [0.51980976, 0.48019024],\n",
       "       [0.3669692 , 0.6330308 ],\n",
       "       [0.62434487, 0.37565513],\n",
       "       [0.62257627, 0.37742373],\n",
       "       [0.56443365, 0.43556635],\n",
       "       [0.64219896, 0.35780104],\n",
       "       [0.5238675 , 0.4761325 ],\n",
       "       [0.5157616 , 0.4842384 ],\n",
       "       [0.56185254, 0.43814746],\n",
       "       [0.42551306, 0.57448694],\n",
       "       [0.53093146, 0.46906854],\n",
       "       [0.48547857, 0.51452143],\n",
       "       [0.67264202, 0.32735798],\n",
       "       [0.5187581 , 0.4812419 ],\n",
       "       [0.59648017, 0.40351983],\n",
       "       [0.57524776, 0.42475224],\n",
       "       [0.50596278, 0.49403722],\n",
       "       [0.74547796, 0.25452204],\n",
       "       [0.46324788, 0.53675212],\n",
       "       [0.56034522, 0.43965478],\n",
       "       [0.31493757, 0.68506243],\n",
       "       [0.55993615, 0.44006385],\n",
       "       [0.76248427, 0.23751573],\n",
       "       [0.53491303, 0.46508697],\n",
       "       [0.72948029, 0.27051971],\n",
       "       [0.61186942, 0.38813058],\n",
       "       [0.28477764, 0.71522236],\n",
       "       [0.5673851 , 0.4326149 ],\n",
       "       [0.63327724, 0.36672276],\n",
       "       [0.42434524, 0.57565476],\n",
       "       [0.54483302, 0.45516698],\n",
       "       [0.4713453 , 0.5286547 ],\n",
       "       [0.53886343, 0.46113657],\n",
       "       [0.64975082, 0.35024918],\n",
       "       [0.37251526, 0.62748474],\n",
       "       [0.66846736, 0.33153264],\n",
       "       [0.39148702, 0.60851298],\n",
       "       [0.54350056, 0.45649944],\n",
       "       [0.47467909, 0.52532091],\n",
       "       [0.5557359 , 0.4442641 ],\n",
       "       [0.60626943, 0.39373057],\n",
       "       [0.55069809, 0.44930191],\n",
       "       [0.66230546, 0.33769454]])"
      ]
     },
     "execution_count": 82,
     "metadata": {},
     "output_type": "execute_result"
    }
   ],
   "source": [
    "logRegg.predict_proba(tfidf_transformer_test)"
   ]
  },
  {
   "cell_type": "code",
   "execution_count": 83,
   "metadata": {},
   "outputs": [
    {
     "data": {
      "text/plain": [
       "array([[69,  7],\n",
       "       [38, 36]], dtype=int64)"
      ]
     },
     "execution_count": 83,
     "metadata": {},
     "output_type": "execute_result"
    }
   ],
   "source": [
    "y_predict=logRegg.predict(tfidf_transformer_test)\n",
    "confusion_matrix(y_label, y_predict)"
   ]
  },
  {
   "cell_type": "code",
   "execution_count": null,
   "metadata": {},
   "outputs": [],
   "source": []
  }
 ],
 "metadata": {
  "kernelspec": {
   "display_name": "Python 3",
   "language": "python",
   "name": "python3"
  },
  "language_info": {
   "codemirror_mode": {
    "name": "ipython",
    "version": 3
   },
   "file_extension": ".py",
   "mimetype": "text/x-python",
   "name": "python",
   "nbconvert_exporter": "python",
   "pygments_lexer": "ipython3",
   "version": "3.7.4"
  }
 },
 "nbformat": 4,
 "nbformat_minor": 2
}
