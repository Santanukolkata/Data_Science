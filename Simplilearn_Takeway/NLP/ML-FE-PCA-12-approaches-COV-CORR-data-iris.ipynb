{
 "cells": [
  {
   "cell_type": "code",
   "execution_count": 1,
   "metadata": {},
   "outputs": [],
   "source": [
    "import time\n",
    "import random\n",
    "from math import *\n",
    "import operator\n",
    "import pandas as pd\n",
    "import numpy as np\n",
    "\n",
    "# import plotting libraries\n",
    "import matplotlib\n",
    "import matplotlib.pyplot as plt\n",
    "from pandas.plotting import scatter_matrix\n",
    "%matplotlib inline \n",
    "\n",
    "import seaborn as sns\n",
    "sns.set(style=\"white\", color_codes=True)\n",
    "sns.set(font_scale=1.5)\n",
    "\n",
    "# import the ML algorithm\n",
    "from sklearn.neighbors import KNeighborsClassifier\n",
    "from sklearn.linear_model import LinearRegression\n",
    "from sklearn.linear_model import LogisticRegression\n",
    "from statsmodels.tools.eval_measures import rmse\n",
    "from sklearn.naive_bayes import GaussianNB\n",
    "from sklearn.naive_bayes import MultinomialNB\n",
    "from sklearn.ensemble import RandomForestClassifier\n",
    "\n",
    "# pre-processing\n",
    "from sklearn import preprocessing\n",
    "from sklearn.preprocessing import MinMaxScaler\n",
    "from sklearn.preprocessing import StandardScaler\n",
    "from sklearn.preprocessing import scale\n",
    "from sklearn.preprocessing import minmax_scale\n",
    "from sklearn.preprocessing import MaxAbsScaler\n",
    "from sklearn.preprocessing import RobustScaler\n",
    "from sklearn.preprocessing import Normalizer\n",
    "from sklearn.preprocessing.data import QuantileTransformer\n",
    "from sklearn.preprocessing import Imputer\n",
    "from sklearn.decomposition import PCA\n",
    "\n",
    "\n",
    "# import libraries for model validation\n",
    "from sklearn.model_selection import StratifiedKFold\n",
    "from sklearn.model_selection import KFold\n",
    "from sklearn.model_selection import cross_val_score\n",
    "from sklearn.model_selection import train_test_split\n",
    "from sklearn.model_selection import LeaveOneOut \n",
    "\n",
    "# import libraries for metrics and reporting\n",
    "from sklearn.metrics import confusion_matrix\n",
    "from sklearn.metrics import classification_report\n",
    "from sklearn.metrics import accuracy_score\n",
    "from sklearn.metrics import precision_score\n",
    "from sklearn.metrics import recall_score\n",
    "from sklearn.metrics import f1_score\n",
    "from sklearn import metrics\n",
    "from sklearn.metrics import classification_report"
   ]
  },
  {
   "cell_type": "code",
   "execution_count": 2,
   "metadata": {},
   "outputs": [],
   "source": [
    "location = r\"E:\\\\MYLEARN\\\\2-ANALYTICS-DataScience\\\\datasets\\\\iris.csv\""
   ]
  },
  {
   "cell_type": "code",
   "execution_count": 3,
   "metadata": {},
   "outputs": [
    {
     "data": {
      "text/html": [
       "<div>\n",
       "<style scoped>\n",
       "    .dataframe tbody tr th:only-of-type {\n",
       "        vertical-align: middle;\n",
       "    }\n",
       "\n",
       "    .dataframe tbody tr th {\n",
       "        vertical-align: top;\n",
       "    }\n",
       "\n",
       "    .dataframe thead th {\n",
       "        text-align: right;\n",
       "    }\n",
       "</style>\n",
       "<table border=\"1\" class=\"dataframe\">\n",
       "  <thead>\n",
       "    <tr style=\"text-align: right;\">\n",
       "      <th></th>\n",
       "      <th>sepal_length</th>\n",
       "      <th>sepal_width</th>\n",
       "      <th>petal_length</th>\n",
       "      <th>petal_width</th>\n",
       "      <th>class</th>\n",
       "    </tr>\n",
       "  </thead>\n",
       "  <tbody>\n",
       "    <tr>\n",
       "      <th>0</th>\n",
       "      <td>5.1</td>\n",
       "      <td>3.5</td>\n",
       "      <td>1.4</td>\n",
       "      <td>0.2</td>\n",
       "      <td>Iris-setosa</td>\n",
       "    </tr>\n",
       "    <tr>\n",
       "      <th>1</th>\n",
       "      <td>4.9</td>\n",
       "      <td>3.0</td>\n",
       "      <td>1.4</td>\n",
       "      <td>0.2</td>\n",
       "      <td>Iris-setosa</td>\n",
       "    </tr>\n",
       "    <tr>\n",
       "      <th>2</th>\n",
       "      <td>4.7</td>\n",
       "      <td>3.2</td>\n",
       "      <td>1.3</td>\n",
       "      <td>0.2</td>\n",
       "      <td>Iris-setosa</td>\n",
       "    </tr>\n",
       "    <tr>\n",
       "      <th>3</th>\n",
       "      <td>4.6</td>\n",
       "      <td>3.1</td>\n",
       "      <td>1.5</td>\n",
       "      <td>0.2</td>\n",
       "      <td>Iris-setosa</td>\n",
       "    </tr>\n",
       "    <tr>\n",
       "      <th>4</th>\n",
       "      <td>5.0</td>\n",
       "      <td>3.6</td>\n",
       "      <td>1.4</td>\n",
       "      <td>0.2</td>\n",
       "      <td>Iris-setosa</td>\n",
       "    </tr>\n",
       "  </tbody>\n",
       "</table>\n",
       "</div>"
      ],
      "text/plain": [
       "   sepal_length  sepal_width  petal_length  petal_width        class\n",
       "0           5.1          3.5           1.4          0.2  Iris-setosa\n",
       "1           4.9          3.0           1.4          0.2  Iris-setosa\n",
       "2           4.7          3.2           1.3          0.2  Iris-setosa\n",
       "3           4.6          3.1           1.5          0.2  Iris-setosa\n",
       "4           5.0          3.6           1.4          0.2  Iris-setosa"
      ]
     },
     "execution_count": 3,
     "metadata": {},
     "output_type": "execute_result"
    }
   ],
   "source": [
    "# read the dataset\n",
    "df = pd.read_csv(location  )\n",
    "\n",
    "df.head()"
   ]
  },
  {
   "cell_type": "code",
   "execution_count": 4,
   "metadata": {},
   "outputs": [
    {
     "data": {
      "text/plain": [
       "(150, 5)"
      ]
     },
     "execution_count": 4,
     "metadata": {},
     "output_type": "execute_result"
    }
   ],
   "source": [
    "df.shape"
   ]
  },
  {
   "cell_type": "code",
   "execution_count": 5,
   "metadata": {},
   "outputs": [
    {
     "data": {
      "text/html": [
       "<div>\n",
       "<style scoped>\n",
       "    .dataframe tbody tr th:only-of-type {\n",
       "        vertical-align: middle;\n",
       "    }\n",
       "\n",
       "    .dataframe tbody tr th {\n",
       "        vertical-align: top;\n",
       "    }\n",
       "\n",
       "    .dataframe thead th {\n",
       "        text-align: right;\n",
       "    }\n",
       "</style>\n",
       "<table border=\"1\" class=\"dataframe\">\n",
       "  <thead>\n",
       "    <tr style=\"text-align: right;\">\n",
       "      <th></th>\n",
       "      <th>sepal_len</th>\n",
       "      <th>sepal_wid</th>\n",
       "      <th>petal_len</th>\n",
       "      <th>petal_wid</th>\n",
       "      <th>class</th>\n",
       "    </tr>\n",
       "  </thead>\n",
       "  <tbody>\n",
       "    <tr>\n",
       "      <th>145</th>\n",
       "      <td>6.7</td>\n",
       "      <td>3.0</td>\n",
       "      <td>5.2</td>\n",
       "      <td>2.3</td>\n",
       "      <td>Iris-virginica</td>\n",
       "    </tr>\n",
       "    <tr>\n",
       "      <th>146</th>\n",
       "      <td>6.3</td>\n",
       "      <td>2.5</td>\n",
       "      <td>5.0</td>\n",
       "      <td>1.9</td>\n",
       "      <td>Iris-virginica</td>\n",
       "    </tr>\n",
       "    <tr>\n",
       "      <th>147</th>\n",
       "      <td>6.5</td>\n",
       "      <td>3.0</td>\n",
       "      <td>5.2</td>\n",
       "      <td>2.0</td>\n",
       "      <td>Iris-virginica</td>\n",
       "    </tr>\n",
       "    <tr>\n",
       "      <th>148</th>\n",
       "      <td>6.2</td>\n",
       "      <td>3.4</td>\n",
       "      <td>5.4</td>\n",
       "      <td>2.3</td>\n",
       "      <td>Iris-virginica</td>\n",
       "    </tr>\n",
       "    <tr>\n",
       "      <th>149</th>\n",
       "      <td>5.9</td>\n",
       "      <td>3.0</td>\n",
       "      <td>5.1</td>\n",
       "      <td>1.8</td>\n",
       "      <td>Iris-virginica</td>\n",
       "    </tr>\n",
       "  </tbody>\n",
       "</table>\n",
       "</div>"
      ],
      "text/plain": [
       "     sepal_len  sepal_wid  petal_len  petal_wid           class\n",
       "145        6.7        3.0        5.2        2.3  Iris-virginica\n",
       "146        6.3        2.5        5.0        1.9  Iris-virginica\n",
       "147        6.5        3.0        5.2        2.0  Iris-virginica\n",
       "148        6.2        3.4        5.4        2.3  Iris-virginica\n",
       "149        5.9        3.0        5.1        1.8  Iris-virginica"
      ]
     },
     "execution_count": 5,
     "metadata": {},
     "output_type": "execute_result"
    }
   ],
   "source": [
    "df.columns=['sepal_len', 'sepal_wid', 'petal_len', 'petal_wid', 'class']\n",
    "\n",
    "df.dropna(how=\"all\", inplace=True) # drops the empty line at file-end\n",
    "\n",
    "df.tail()"
   ]
  },
  {
   "cell_type": "code",
   "execution_count": 6,
   "metadata": {},
   "outputs": [],
   "source": [
    "# split data table into data X and class labels y\n",
    "\n",
    "X_iris = df.iloc[:,0:4].values\n",
    "y_iris = df.iloc[:,4].values"
   ]
  },
  {
   "cell_type": "code",
   "execution_count": 7,
   "metadata": {},
   "outputs": [],
   "source": [
    "label_dict = {1: 'Iris-Setosa',\n",
    "              2: 'Iris-Versicolor',\n",
    "              3: 'Iris-Virgnica'}\n",
    "\n",
    "feature_dict = {0: 'sepal length [cm]',\n",
    "                1: 'sepal width [cm]',\n",
    "                2: 'petal length [cm]',\n",
    "                3: 'petal width [cm]'}\n"
   ]
  },
  {
   "cell_type": "code",
   "execution_count": 8,
   "metadata": {},
   "outputs": [
    {
     "data": {
      "image/png": "[encoded data removed]",
      "text/plain": [
       "<Figure size 648x432 with 4 Axes>"
      ]
     },
     "metadata": {},
     "output_type": "display_data"
    }
   ],
   "source": [
    "with plt.style.context('seaborn-whitegrid'):\n",
    "    plt.figure(figsize=(9, 6))\n",
    "    \n",
    "    for cnt in range(4):\n",
    "        plt.subplot(2, 2, cnt+1)\n",
    "        \n",
    "        for lab in ('Iris-setosa', 'Iris-versicolor', 'Iris-virginica'):\n",
    "            plt.hist(X_iris[y_iris==lab, cnt],\n",
    "                     label=lab,\n",
    "                     bins=10,\n",
    "                     alpha=0.3,)\n",
    "        plt.xlabel(feature_dict[cnt])\n",
    "    plt.legend(loc='upper right', fancybox=True, fontsize=8)\n",
    "\n",
    "    plt.tight_layout()"
   ]
  },
  {
   "cell_type": "markdown",
   "metadata": {
    "collapsed": true
   },
   "source": [
    "# Eigendecomposition - Computing Eigenvectors and Eigenvalues\n",
    "\n",
    "#### Standardizing"
   ]
  },
  {
   "cell_type": "code",
   "execution_count": 9,
   "metadata": {},
   "outputs": [],
   "source": [
    "# Whether to standardize the data prior to a PCA on the covariance matrix \n",
    "# depends on the measurement scales of the original features. \n",
    "\n",
    "# Since PCA yields a feature subspace that maximizes the variance along \n",
    "# the axes, it makes sense to standardize the data, \n",
    "# especially, if it was measured on different scales. \n",
    "\n",
    "# Although, all features in the Iris dataset were measured in centimeters, \n",
    "# let us continue with the transformation of the data onto unit scale \n",
    "# (mean=0 and variance=1), which is a requirement for the optimal \n",
    "# performance of many machine learning algorithms.\n",
    "\n",
    "X_iris_std = StandardScaler().fit_transform(X_iris)"
   ]
  },
  {
   "cell_type": "markdown",
   "metadata": {
    "collapsed": true
   },
   "source": [
    "The eigenvectors and eigenvalues of a covariance (or correlation) matrix \n",
    "represent the “core” of a PCA\n",
    "\n",
    "The eigenvectors (principal components) determine the directions of the \n",
    "new feature space, and the eigenvalues determine their magnitude. \n",
    "\n",
    "In other words, the __eigenvalues explain the variance__ of the data along \n",
    "the new feature axes."
   ]
  },
  {
   "cell_type": "markdown",
   "metadata": {
    "collapsed": true
   },
   "source": [
    "#### understanding transpose of matrix"
   ]
  },
  {
   "cell_type": "code",
   "execution_count": 10,
   "metadata": {},
   "outputs": [],
   "source": [
    "x = np.arange(15).reshape((5,3))"
   ]
  },
  {
   "cell_type": "code",
   "execution_count": 11,
   "metadata": {},
   "outputs": [
    {
     "data": {
      "text/plain": [
       "array([[ 0,  1,  2],\n",
       "       [ 3,  4,  5],\n",
       "       [ 6,  7,  8],\n",
       "       [ 9, 10, 11],\n",
       "       [12, 13, 14]])"
      ]
     },
     "execution_count": 11,
     "metadata": {},
     "output_type": "execute_result"
    }
   ],
   "source": [
    "x"
   ]
  },
  {
   "cell_type": "code",
   "execution_count": 12,
   "metadata": {},
   "outputs": [
    {
     "data": {
      "text/plain": [
       "array([[ 0,  3,  6,  9, 12],\n",
       "       [ 1,  4,  7, 10, 13],\n",
       "       [ 2,  5,  8, 11, 14]])"
      ]
     },
     "execution_count": 12,
     "metadata": {},
     "output_type": "execute_result"
    }
   ],
   "source": [
    "np.transpose(x)"
   ]
  },
  {
   "cell_type": "code",
   "execution_count": 14,
   "metadata": {},
   "outputs": [
    {
     "data": {
      "text/plain": [
       "(3, 5)"
      ]
     },
     "execution_count": 14,
     "metadata": {},
     "output_type": "execute_result"
    }
   ],
   "source": [
    "np.transpose(x).shape"
   ]
  },
  {
   "cell_type": "markdown",
   "metadata": {
    "collapsed": true
   },
   "source": [
    "#### back to the iris example ..."
   ]
  },
  {
   "cell_type": "code",
   "execution_count": 14,
   "metadata": {},
   "outputs": [
    {
     "data": {
      "text/plain": [
       "150"
      ]
     },
     "execution_count": 14,
     "metadata": {},
     "output_type": "execute_result"
    }
   ],
   "source": [
    "# no of samples in the X array\n",
    "len(X_iris_std)"
   ]
  },
  {
   "cell_type": "code",
   "execution_count": 15,
   "metadata": {},
   "outputs": [
    {
     "name": "stdout",
     "output_type": "stream",
     "text": [
      "[[-0.90068117  1.03205722 -1.3412724  -1.31297673]\n",
      " [-1.14301691 -0.1249576  -1.3412724  -1.31297673]\n",
      " [-1.38535265  0.33784833 -1.39813811 -1.31297673]\n",
      " [-1.50652052  0.10644536 -1.2844067  -1.31297673]\n",
      " [-1.02184904  1.26346019 -1.3412724  -1.31297673]]\n"
     ]
    }
   ],
   "source": [
    "# first 5 samples, all 4 columns\n",
    "print(X_iris_std[:5])"
   ]
  },
  {
   "cell_type": "markdown",
   "metadata": {},
   "source": [
    "- compute the transpose matrix of X_std\n",
    "- the transpose will result in matrix of  number of features x samples size\n",
    "\n",
    "In this case, 150x4 matrix will transform into 4x150"
   ]
  },
  {
   "cell_type": "code",
   "execution_count": 16,
   "metadata": {},
   "outputs": [],
   "source": [
    "X_iris_std_T = X_iris_std.T"
   ]
  },
  {
   "cell_type": "code",
   "execution_count": 17,
   "metadata": {},
   "outputs": [
    {
     "data": {
      "text/plain": [
       "(4, 150)"
      ]
     },
     "execution_count": 17,
     "metadata": {},
     "output_type": "execute_result"
    }
   ],
   "source": [
    "X_iris_std_T.shape"
   ]
  },
  {
   "cell_type": "code",
   "execution_count": 18,
   "metadata": {
    "scrolled": false
   },
   "outputs": [
    {
     "name": "stdout",
     "output_type": "stream",
     "text": [
      "[[-0.90068117 -1.14301691 -1.38535265 -1.50652052 -1.02184904 -0.53717756\n",
      "  -1.50652052 -1.02184904 -1.74885626 -1.14301691 -0.53717756 -1.26418478\n",
      "  -1.26418478 -1.87002413 -0.05250608 -0.17367395 -0.53717756 -0.90068117\n",
      "  -0.17367395 -0.90068117 -0.53717756 -0.90068117 -1.50652052 -0.90068117\n",
      "  -1.26418478 -1.02184904 -1.02184904 -0.7795133  -0.7795133  -1.38535265\n",
      "  -1.26418478 -0.53717756 -0.7795133  -0.41600969 -1.14301691 -1.02184904\n",
      "  -0.41600969 -1.14301691 -1.74885626 -0.90068117 -1.02184904 -1.62768839\n",
      "  -1.74885626 -1.02184904 -0.90068117 -1.26418478 -0.90068117 -1.50652052\n",
      "  -0.65834543 -1.02184904  1.40150837  0.67450115  1.2803405  -0.41600969\n",
      "   0.79566902 -0.17367395  0.55333328 -1.14301691  0.91683689 -0.7795133\n",
      "  -1.02184904  0.06866179  0.18982966  0.31099753 -0.29484182  1.03800476\n",
      "  -0.29484182 -0.05250608  0.4321654  -0.29484182  0.06866179  0.31099753\n",
      "   0.55333328  0.31099753  0.67450115  0.91683689  1.15917263  1.03800476\n",
      "   0.18982966 -0.17367395 -0.41600969 -0.41600969 -0.05250608  0.18982966\n",
      "  -0.53717756  0.18982966  1.03800476  0.55333328 -0.29484182 -0.41600969\n",
      "  -0.41600969  0.31099753 -0.05250608 -1.02184904 -0.29484182 -0.17367395\n",
      "  -0.17367395  0.4321654  -0.90068117 -0.17367395  0.55333328 -0.05250608\n",
      "   1.52267624  0.55333328  0.79566902  2.12851559 -1.14301691  1.76501198\n",
      "   1.03800476  1.64384411  0.79566902  0.67450115  1.15917263 -0.17367395\n",
      "  -0.05250608  0.67450115  0.79566902  2.24968346  2.24968346  0.18982966\n",
      "   1.2803405  -0.29484182  2.24968346  0.55333328  1.03800476  1.64384411\n",
      "   0.4321654   0.31099753  0.67450115  1.64384411  1.88617985  2.4920192\n",
      "   0.67450115  0.55333328  0.31099753  2.24968346  0.55333328  0.67450115\n",
      "   0.18982966  1.2803405   1.03800476  1.2803405  -0.05250608  1.15917263\n",
      "   1.03800476  1.03800476  0.55333328  0.79566902  0.4321654   0.06866179]\n",
      " [ 1.03205722 -0.1249576   0.33784833  0.10644536  1.26346019  1.95766909\n",
      "   0.80065426  0.80065426 -0.35636057  0.10644536  1.49486315  0.80065426\n",
      "  -0.1249576  -0.1249576   2.18907205  3.11468391  1.95766909  1.03205722\n",
      "   1.72626612  1.72626612  0.80065426  1.49486315  1.26346019  0.56925129\n",
      "   0.80065426 -0.1249576   0.80065426  1.03205722  0.80065426  0.33784833\n",
      "   0.10644536  0.80065426  2.42047502  2.65187798  0.10644536  0.33784833\n",
      "   1.03205722  0.10644536 -0.1249576   0.80065426  1.03205722 -1.74477836\n",
      "   0.33784833  1.03205722  1.72626612 -0.1249576   1.72626612  0.33784833\n",
      "   1.49486315  0.56925129  0.33784833  0.33784833  0.10644536 -1.74477836\n",
      "  -0.58776353 -0.58776353  0.56925129 -1.51337539 -0.35636057 -0.8191665\n",
      "  -2.43898725 -0.1249576  -1.97618132 -0.35636057 -0.35636057  0.10644536\n",
      "  -0.1249576  -0.8191665  -1.97618132 -1.28197243  0.33784833 -0.58776353\n",
      "  -1.28197243 -0.58776353 -0.35636057 -0.1249576  -0.58776353 -0.1249576\n",
      "  -0.35636057 -1.05056946 -1.51337539 -1.51337539 -0.8191665  -0.8191665\n",
      "  -0.1249576   0.80065426  0.10644536 -1.74477836 -0.1249576  -1.28197243\n",
      "  -1.05056946 -0.1249576  -1.05056946 -1.74477836 -0.8191665  -0.1249576\n",
      "  -0.35636057 -0.35636057 -1.28197243 -0.58776353  0.56925129 -0.8191665\n",
      "  -0.1249576  -0.35636057 -0.1249576  -0.1249576  -1.28197243 -0.35636057\n",
      "  -1.28197243  1.26346019  0.33784833 -0.8191665  -0.1249576  -1.28197243\n",
      "  -0.58776353  0.33784833 -0.1249576   1.72626612 -1.05056946 -1.97618132\n",
      "   0.33784833 -0.58776353 -0.58776353 -0.8191665   0.56925129  0.33784833\n",
      "  -0.58776353 -0.1249576  -0.58776353 -0.1249576  -0.58776353  1.72626612\n",
      "  -0.58776353 -0.58776353 -1.05056946 -0.1249576   0.80065426  0.10644536\n",
      "  -0.1249576   0.10644536  0.10644536  0.10644536 -0.8191665   0.33784833\n",
      "   0.56925129 -0.1249576  -1.28197243 -0.1249576   0.80065426 -0.1249576 ]]\n"
     ]
    }
   ],
   "source": [
    "# print first 2 array elements of transposed array\n",
    "print(X_iris_std_T[:2])"
   ]
  },
  {
   "cell_type": "markdown",
   "metadata": {
    "collapsed": true
   },
   "source": [
    "#### covariance \n",
    "Consider two variables, x_0 and x_1, which correlate perfectly, \n",
    "but in opposite directions"
   ]
  },
  {
   "cell_type": "code",
   "execution_count": 19,
   "metadata": {},
   "outputs": [
    {
     "data": {
      "text/plain": [
       "array([[0, 2],\n",
       "       [1, 1],\n",
       "       [2, 0]])"
      ]
     },
     "execution_count": 19,
     "metadata": {},
     "output_type": "execute_result"
    }
   ],
   "source": [
    "np.array([[0, 2], [1, 1], [2, 0]])"
   ]
  },
  {
   "cell_type": "code",
   "execution_count": 20,
   "metadata": {},
   "outputs": [
    {
     "data": {
      "text/plain": [
       "array([[0, 1, 2],\n",
       "       [2, 1, 0]])"
      ]
     },
     "execution_count": 20,
     "metadata": {},
     "output_type": "execute_result"
    }
   ],
   "source": [
    "np.array([[0, 2], [1, 1], [2, 0]]).T"
   ]
  },
  {
   "cell_type": "code",
   "execution_count": 21,
   "metadata": {},
   "outputs": [
    {
     "data": {
      "text/plain": [
       "array([[0, 1, 2],\n",
       "       [2, 1, 0]])"
      ]
     },
     "execution_count": 21,
     "metadata": {},
     "output_type": "execute_result"
    }
   ],
   "source": [
    "x = np.array([[0, 2], [1, 1], [2, 0]]).T\n",
    "x"
   ]
  },
  {
   "cell_type": "code",
   "execution_count": 22,
   "metadata": {},
   "outputs": [
    {
     "data": {
      "text/plain": [
       "array([[ 1., -1.],\n",
       "       [-1.,  1.]])"
      ]
     },
     "execution_count": 22,
     "metadata": {},
     "output_type": "execute_result"
    }
   ],
   "source": [
    "np.cov(x)"
   ]
  },
  {
   "cell_type": "code",
   "execution_count": 23,
   "metadata": {},
   "outputs": [],
   "source": [
    "x1 = [-2.1, -1,  4.3]\n",
    "x2 = [3,  1.1,  0.12]"
   ]
  },
  {
   "cell_type": "code",
   "execution_count": 24,
   "metadata": {},
   "outputs": [
    {
     "data": {
      "text/plain": [
       "array([[-2.1 , -1.  ,  4.3 ],\n",
       "       [ 3.  ,  1.1 ,  0.12]])"
      ]
     },
     "execution_count": 24,
     "metadata": {},
     "output_type": "execute_result"
    }
   ],
   "source": [
    "# axis = 0 , row wise\n",
    "X = np.stack((x1, x2), axis=0)\n",
    "X"
   ]
  },
  {
   "cell_type": "code",
   "execution_count": 25,
   "metadata": {},
   "outputs": [
    {
     "data": {
      "text/plain": [
       "array([[11.71      , -4.286     ],\n",
       "       [-4.286     ,  2.14413333]])"
      ]
     },
     "execution_count": 25,
     "metadata": {},
     "output_type": "execute_result"
    }
   ],
   "source": [
    "np.cov(X)"
   ]
  },
  {
   "cell_type": "code",
   "execution_count": 26,
   "metadata": {},
   "outputs": [
    {
     "data": {
      "text/plain": [
       "array([[11.71      , -4.286     ],\n",
       "       [-4.286     ,  2.14413333]])"
      ]
     },
     "execution_count": 26,
     "metadata": {},
     "output_type": "execute_result"
    }
   ],
   "source": [
    "np.cov(x1, x2)"
   ]
  },
  {
   "cell_type": "code",
   "execution_count": 27,
   "metadata": {},
   "outputs": [],
   "source": [
    "plt.style.use('ggplot')\n",
    "plt.rcParams['figure.figsize'] = (12, 8)"
   ]
  },
  {
   "cell_type": "code",
   "execution_count": 28,
   "metadata": {},
   "outputs": [],
   "source": [
    "# Normal distributed x and y vector with mean 0 and standard deviation 1\n",
    "x = np.random.normal(0, 1, 500)\n",
    "y = np.random.normal(0, 1, 500)"
   ]
  },
  {
   "cell_type": "code",
   "execution_count": 29,
   "metadata": {},
   "outputs": [
    {
     "data": {
      "text/plain": [
       "array([[-1.56875636e+00,  7.84051998e-01,  4.31096807e-01,\n",
       "         2.20419141e+00, -1.41388677e+00, -4.30898267e-01,\n",
       "        -1.40589134e+00, -2.21933493e+00, -2.75012159e-01,\n",
       "        -1.09710538e+00,  6.55443617e-01,  7.40195564e-01,\n",
       "         5.12926397e-01,  2.75948202e-01, -2.78452715e-01,\n",
       "         4.95636014e-01,  7.94480791e-02,  5.97734667e-01,\n",
       "        -1.21622757e+00,  1.14587579e-01, -7.41223913e-01,\n",
       "         1.12555475e-01, -2.59295971e-01,  3.40403796e-01,\n",
       "        -5.63847126e-01, -8.24203098e-01,  1.81825187e+00,\n",
       "         5.45608298e-02, -7.29450657e-01,  4.20935805e-01,\n",
       "        -3.34538752e-01, -9.84783468e-01,  8.18412018e-01,\n",
       "         2.34941664e-01, -1.39978543e-01, -7.71707996e-01,\n",
       "        -3.99975841e-01, -8.69483385e-01, -1.29599584e+00,\n",
       "         1.48360132e+00,  1.14501667e+00, -1.31718629e+00,\n",
       "         3.65285164e-01, -1.17203462e+00,  6.90380273e-01,\n",
       "         2.75661167e-01,  4.81346557e-01, -2.48193101e-01,\n",
       "        -1.26446572e-01,  1.02265226e+00,  5.41665494e-01,\n",
       "         2.15556430e-01,  3.22653061e-02,  6.25091365e-01,\n",
       "        -9.00175340e-01,  2.08796416e-01, -7.08002123e-01,\n",
       "         1.48510840e+00,  5.88367903e-01,  1.49256593e+00,\n",
       "         6.03732755e-01, -1.32340791e+00, -8.06247088e-01,\n",
       "        -4.90508354e-01, -4.51220577e-01, -2.67699360e+00,\n",
       "         6.39209246e-01, -6.09795445e-01,  1.18828805e+00,\n",
       "         2.15852898e+00, -5.73385223e-01, -1.38665442e+00,\n",
       "        -2.74297442e-01,  2.31195579e-01, -5.43946012e-01,\n",
       "         1.47750706e-01,  5.55409694e-01,  7.71465735e-01,\n",
       "         1.23076540e+00, -5.53769469e-01, -7.79004387e-01,\n",
       "        -1.00396989e+00,  1.97332322e+00, -1.00287540e+00,\n",
       "        -7.90104764e-01, -2.16403392e+00,  3.01213318e-01,\n",
       "        -6.86349154e-01,  1.96077337e-01,  1.45147948e+00,\n",
       "        -1.39182222e+00, -5.96233442e-01, -1.24761858e+00,\n",
       "        -1.23308489e-01, -1.58096426e+00, -1.05170083e+00,\n",
       "         1.35374622e-01, -1.67936170e+00, -1.94199079e-01,\n",
       "        -7.55533455e-01, -1.62891981e+00,  5.52953287e-01,\n",
       "        -5.15943578e-01, -9.47093908e-01,  9.15058605e-01,\n",
       "         3.82040423e-02, -3.15807615e-01, -4.51042629e-01,\n",
       "         6.89679528e-01,  1.31779269e-01,  6.47514347e-01,\n",
       "         6.59102017e-01,  1.30223157e+00, -1.61441251e+00,\n",
       "         1.05042620e+00,  1.38097753e+00,  6.15433489e-01,\n",
       "         1.19642787e+00, -5.48778249e-01,  4.99373859e-01,\n",
       "        -1.29699530e+00,  9.00826782e-01,  4.94565548e-01,\n",
       "         1.28908493e+00,  1.36497928e+00, -1.19818374e+00,\n",
       "         8.19916895e-01,  2.58045115e-03,  9.26558701e-01,\n",
       "        -8.59027159e-01, -3.63742034e-01, -4.20152680e-01,\n",
       "         5.53451475e-02, -5.96041264e-01,  5.49258987e-01,\n",
       "        -6.77467496e-01,  5.26411825e-01, -1.08665526e+00,\n",
       "        -7.05444370e-01,  2.67245970e-02,  9.72259426e-01,\n",
       "        -1.43776577e-02,  2.65960291e-01, -1.83027168e-01,\n",
       "        -3.99546416e-01,  1.10513117e+00,  2.12575300e-01,\n",
       "        -2.81309588e-01,  5.18416783e-01, -1.49324153e+00,\n",
       "         2.34567976e-01, -5.96234721e-01,  1.15060111e-01,\n",
       "         1.53435325e+00,  2.72673820e-01,  1.97253173e+00,\n",
       "        -4.17439014e-01,  1.34620092e+00, -6.61807366e-01,\n",
       "         3.85122384e-01, -3.79540860e-01,  1.97965302e+00,\n",
       "         1.91925615e-01, -3.09371066e+00, -6.57613495e-01,\n",
       "         4.73267284e-01,  7.81749575e-01,  1.26470563e-01,\n",
       "        -3.62904636e-01,  1.27437678e+00, -2.72053216e-02,\n",
       "        -5.63499935e-01,  9.17201378e-02, -1.48301710e+00,\n",
       "        -3.78883616e-01,  4.88279264e-01, -3.59836350e-01,\n",
       "        -5.03550454e-01,  6.11747404e-01,  4.68770213e-01,\n",
       "         3.79699653e-01, -6.20605806e-01, -4.68214229e-01,\n",
       "        -7.07777698e-01,  1.92387248e-01,  1.61928342e+00,\n",
       "         7.11109135e-02,  3.16020576e-01,  1.87769127e-01,\n",
       "        -6.52653050e-01,  7.92866927e-01, -2.95637150e+00,\n",
       "        -1.40752567e-01, -1.02329309e-01, -3.38136483e-01,\n",
       "         2.39860480e-01, -5.59110318e-01,  5.46212133e-01,\n",
       "         9.89499117e-01, -5.16850110e-01,  1.57836745e+00,\n",
       "        -7.39036180e-01, -4.47553476e-01,  1.23356817e+00,\n",
       "         1.42200093e+00,  1.51170506e+00, -1.47982059e-01,\n",
       "        -8.92872742e-01,  1.12183075e+00, -1.03358694e+00,\n",
       "        -2.97339382e-01, -8.18049880e-01, -2.29615014e-01,\n",
       "         2.65236872e-01, -8.82156149e-01, -3.51636781e-01,\n",
       "        -2.40540887e-01,  6.68003407e-01,  6.13198828e-01,\n",
       "         8.93985520e-02,  1.20747276e+00, -6.20095237e-01,\n",
       "        -3.12186915e-01, -1.24851788e-01, -5.72112699e-01,\n",
       "        -1.50963115e-02,  6.22515025e-01, -2.18445790e-01,\n",
       "         3.43409516e-01, -1.78934257e-01,  1.32218715e-02,\n",
       "         5.05396301e-01,  7.69988051e-01, -1.23263720e+00,\n",
       "         1.22052863e-02, -3.05484883e-01, -7.69439872e-01,\n",
       "         7.44668470e-01, -1.51434110e-01, -1.82395745e+00,\n",
       "        -4.09583660e-01, -3.77593416e-01, -1.25482043e+00,\n",
       "         1.84445014e+00, -1.15131429e+00, -1.06358885e-01,\n",
       "         8.10794497e-01, -5.03361377e-01,  2.80342522e-01,\n",
       "        -7.48482718e-01, -1.58226017e+00, -6.75263924e-02,\n",
       "         1.12945550e+00,  1.68521015e+00, -1.43670019e+00,\n",
       "         1.25654382e+00,  4.17705658e-01, -8.64894619e-02,\n",
       "        -1.93430963e+00,  5.63480839e-01,  1.82918001e+00,\n",
       "         6.32281211e-01,  2.34713530e-01,  2.74472647e-01,\n",
       "         7.03991990e-01, -5.63661126e-01, -2.53135173e-02,\n",
       "         7.58937456e-01, -1.59762886e+00,  4.47368847e-01,\n",
       "         6.75903049e-01, -4.02833082e-01, -7.38130438e-01,\n",
       "         7.13864050e-01,  6.52005652e-01, -5.55675978e-01,\n",
       "         3.38481588e-01,  7.69327865e-01,  2.38291545e-01,\n",
       "        -3.31793607e-01, -9.02075147e-01,  2.15456059e-02,\n",
       "        -6.50659028e-01,  3.21052170e-01, -1.59665529e+00,\n",
       "         3.05261515e-01,  4.70995386e-01, -2.73160607e-01,\n",
       "        -1.00492494e-01,  1.95404064e+00, -1.44681697e-01,\n",
       "         2.23069843e-01,  6.66084847e-01,  8.98153348e-01,\n",
       "        -2.28069808e+00, -6.40031093e-01, -1.19748711e+00,\n",
       "         1.54862563e-01, -1.28229104e+00, -5.19655295e-01,\n",
       "         1.69834695e+00, -1.36041340e-01, -7.88662943e-01,\n",
       "        -3.69035488e-01, -5.47747854e-01,  4.04936153e-01,\n",
       "        -8.82187773e-01,  9.34648496e-02,  1.06337236e+00,\n",
       "        -4.97709637e-01,  2.45069226e+00,  4.04320350e-01,\n",
       "         1.61562518e+00, -2.82326538e-01,  5.24449625e-01,\n",
       "         1.48952254e+00, -1.27348182e+00,  3.43482377e-01,\n",
       "        -8.20249412e-01, -4.94082300e-01,  4.45103123e-01,\n",
       "        -1.55241944e+00,  1.47950929e+00, -2.06911870e+00,\n",
       "         1.33147937e+00,  3.91239431e-01, -2.03799087e-01,\n",
       "        -5.60952260e-02, -1.40937619e+00, -1.57025736e+00,\n",
       "        -1.31337665e+00,  1.26847162e+00,  1.73613978e-01,\n",
       "         9.27134194e-02, -1.31503650e+00,  1.52759870e+00,\n",
       "         1.14071553e+00,  3.76205164e-01, -3.82564207e-01,\n",
       "         1.19743335e+00, -6.74293634e-02,  1.46673639e+00,\n",
       "         1.08791417e+00, -1.28864411e+00,  4.25825227e-01,\n",
       "         1.77409435e-01,  1.38800947e+00,  9.98128033e-01,\n",
       "         9.93626207e-01, -1.97938325e+00,  6.46804775e-01,\n",
       "         1.23547109e+00,  1.20757304e+00,  4.80816084e-01,\n",
       "         3.85453557e-01, -9.34898002e-01, -1.07520714e+00,\n",
       "        -5.79172470e-02,  5.27707416e-02,  7.09978025e-01,\n",
       "         2.19496679e+00, -1.62640617e+00,  3.84984440e-01,\n",
       "        -4.84239623e-01,  5.36566282e-01, -9.92664782e-01,\n",
       "        -4.79395301e-01, -1.71550353e+00,  4.90865544e-01,\n",
       "        -2.04139750e-01,  4.71289413e-01,  1.45399944e+00,\n",
       "         6.56516882e-01, -1.44670217e-01, -2.49539238e-01,\n",
       "         8.62696956e-02, -1.66436512e+00, -1.07736944e+00,\n",
       "         3.08239879e-02,  3.13904229e-01,  4.34534107e-01,\n",
       "        -5.10307371e-01, -8.12685632e-01,  1.19943536e+00,\n",
       "        -1.39015259e+00, -1.45058498e-01,  3.14935296e-01,\n",
       "        -7.46291039e-01, -1.04489962e+00, -9.72025995e-01,\n",
       "         4.38186664e-01,  1.19925428e+00, -2.87594033e-01,\n",
       "        -1.01096273e+00,  4.08511125e-01,  9.88645908e-01,\n",
       "         7.28735367e-01, -4.16705395e-01, -7.35928106e-01,\n",
       "         6.88576686e-01,  3.17790326e-01, -1.32518645e-02,\n",
       "        -1.79240929e-01, -1.52995872e+00, -5.22925335e-01,\n",
       "         1.12934092e+00, -1.17691415e+00, -7.76627460e-01,\n",
       "         8.93186715e-02, -9.71274861e-01,  8.07699445e-01,\n",
       "        -1.99854621e-01, -1.48440190e+00, -1.66575413e+00,\n",
       "        -1.90927855e-01, -9.47852442e-01, -1.06041567e+00,\n",
       "         2.34495005e+00, -2.02744422e-01,  1.14704262e-01,\n",
       "        -4.48352844e-02,  2.11120898e-01, -4.60412568e-01,\n",
       "         1.41796306e+00, -5.16380353e-01, -3.40813955e+00,\n",
       "         1.07077015e+00, -2.02725380e-01, -8.95068143e-01,\n",
       "        -2.60908597e+00,  2.27000218e-01,  6.81172306e-01,\n",
       "        -1.75186992e+00, -1.74828914e+00, -1.70918743e+00,\n",
       "        -1.34788157e+00,  1.40605289e+00, -5.58787044e-01,\n",
       "        -3.63757482e-02,  2.08160746e-01,  5.53043659e-01,\n",
       "         8.56879238e-01,  5.08236780e-01, -1.63473892e+00,\n",
       "        -1.00064807e+00, -7.49226038e-01, -1.82427951e+00,\n",
       "         4.32604281e-01, -1.08161730e+00,  6.73193192e-01,\n",
       "         8.25803789e-01, -1.08569729e+00, -2.84917537e-01,\n",
       "        -2.85139115e-01, -2.48647780e+00, -3.66755471e-01,\n",
       "        -9.86762294e-01,  1.55715198e-01,  3.72089886e-01,\n",
       "        -1.57590077e+00, -5.85973766e-01, -5.48078465e-01,\n",
       "        -1.73273249e+00,  3.31177233e-01, -1.02630436e+00,\n",
       "        -2.03523704e+00, -2.71534656e-01, -1.45298305e-01,\n",
       "         1.61875538e+00, -7.24946106e-01, -5.17930102e-01,\n",
       "         3.42481169e-01,  1.10485899e+00,  6.92745122e-01,\n",
       "         1.49340053e-01,  8.78295921e-01,  1.11674763e+00,\n",
       "         2.14306091e-01,  3.50880714e-02, -5.03248217e-01,\n",
       "        -1.21138405e+00,  6.60262859e-01, -1.83457870e-01,\n",
       "         8.12369291e-01, -7.53535817e-01,  5.97301405e-02,\n",
       "         1.18350790e+00, -2.96990600e-01,  2.32208818e-01,\n",
       "        -1.27897041e+00,  1.42968152e+00,  7.50461235e-01,\n",
       "        -4.79977877e-01,  1.65130415e+00, -7.18109833e-01,\n",
       "         3.41994151e+00,  1.23480568e+00, -5.64221753e-01,\n",
       "        -1.16035118e+00, -9.53133595e-01],\n",
       "       [-6.73100975e-01, -3.97253789e-02, -6.49814559e-01,\n",
       "        -2.56992819e+00,  9.66014202e-01,  1.77238327e+00,\n",
       "        -1.71655633e+00, -8.72178393e-01,  1.17151740e+00,\n",
       "         9.64903891e-01, -8.42652936e-01, -5.86299555e-01,\n",
       "        -1.23457157e+00,  3.52704223e-01,  2.49635111e-01,\n",
       "         8.84642080e-01,  2.09922990e-01,  1.25082875e+00,\n",
       "         2.06457116e-01,  1.33671524e-02, -2.18774072e-01,\n",
       "        -2.62237673e-01,  1.64056830e+00, -4.78258974e-01,\n",
       "        -9.44411919e-03,  3.48934930e-01,  7.64087436e-01,\n",
       "         2.00767471e+00,  6.71479564e-01,  1.53443692e+00,\n",
       "        -1.19889092e+00,  1.06097450e-01, -5.52933180e-01,\n",
       "         9.46694658e-01,  2.47742188e-01,  2.18801946e+00,\n",
       "        -3.03582676e-02, -3.30265129e-01, -3.41612807e-01,\n",
       "         3.38549825e-01, -1.61633749e+00,  8.31492098e-01,\n",
       "        -8.11794672e-01, -1.18217352e+00,  1.56969078e+00,\n",
       "        -3.86646612e-01,  3.15021548e-01,  1.22255096e+00,\n",
       "         2.37933458e+00, -1.59387449e+00, -3.51169468e-01,\n",
       "         4.82435235e-01,  1.86807708e+00, -8.03243384e-02,\n",
       "         2.41293975e-01,  2.16208721e-01, -1.69927001e+00,\n",
       "        -1.64940310e+00, -4.86207000e-01, -1.42539134e+00,\n",
       "        -9.75896976e-03, -1.57564412e-01,  1.63384510e+00,\n",
       "         9.59382744e-02, -4.57172116e-01, -1.74231832e+00,\n",
       "        -1.49523809e+00,  5.90944801e-01,  1.01000268e+00,\n",
       "        -6.08907096e-02,  3.37695188e-01,  6.10869509e-01,\n",
       "        -1.71060514e+00,  2.84629696e-01,  1.13173125e+00,\n",
       "        -1.27488733e+00, -1.03371510e+00,  2.69930147e-04,\n",
       "        -6.21273441e-01,  6.78892395e-01,  6.02827476e-02,\n",
       "        -5.41801527e-01, -4.88537826e-01, -1.24697965e-01,\n",
       "        -5.22782196e-01, -1.09309304e+00,  5.01788163e-01,\n",
       "         2.80865497e-01,  1.65721687e-01, -1.83571944e-01,\n",
       "        -1.20816455e+00,  3.20456490e-01,  9.62860058e-01,\n",
       "        -4.65753238e-01,  1.93008319e+00,  5.04988551e-01,\n",
       "         1.79240527e-01,  7.00662443e-01,  1.01573880e+00,\n",
       "        -2.66093863e+00,  1.25562172e-01, -3.95995481e-01,\n",
       "         6.31606645e-01,  2.59589535e+00,  4.06683322e-01,\n",
       "        -1.23052606e+00, -7.00557736e-01,  9.54556585e-01,\n",
       "        -1.30978887e+00, -5.59338702e-01,  8.31591324e-01,\n",
       "        -1.15575552e+00, -5.90586620e-01,  1.45304903e+00,\n",
       "        -1.95774094e+00,  4.84380702e-01, -1.36338728e-01,\n",
       "        -4.02752813e-01,  4.44552854e-01, -8.41390240e-01,\n",
       "         5.58944798e-01,  1.90483610e-01,  5.76717268e-01,\n",
       "         3.69796394e-01,  1.35792699e+00,  1.16783733e+00,\n",
       "        -1.50778053e-01, -2.68363432e-01,  6.16017822e-01,\n",
       "         6.89521723e-01, -4.38455532e-02, -1.28301379e+00,\n",
       "        -4.63093305e-01, -1.53133032e+00,  1.46845513e+00,\n",
       "        -1.16863993e+00,  1.27203653e+00,  2.10849772e-01,\n",
       "         1.51834168e+00,  7.74879676e-02,  3.27229276e-01,\n",
       "        -1.43828483e-01,  1.46046925e+00,  4.59332495e-01,\n",
       "         6.40609853e-01, -4.63714139e-01, -6.46553058e-01,\n",
       "        -6.97343678e-02, -2.38610802e+00, -2.59946430e-01,\n",
       "        -1.11380274e+00,  1.78625660e+00,  6.61789193e-01,\n",
       "         1.89221268e+00, -2.39879608e-01,  9.07721421e-01,\n",
       "        -1.51494689e-01, -1.34735855e-01,  1.22436867e+00,\n",
       "         4.76619296e-01, -2.44857255e-01, -7.69104669e-01,\n",
       "        -6.30359056e-01, -1.48222210e+00,  4.58931943e-01,\n",
       "        -9.46981770e-01,  1.00624983e-01,  1.96466951e+00,\n",
       "        -2.46204553e+00, -2.08411396e+00, -7.96506634e-01,\n",
       "        -2.64719593e-01, -3.60796118e-01, -1.64122162e+00,\n",
       "        -4.41838312e-01,  1.48122424e+00, -9.29929504e-01,\n",
       "        -2.20500150e+00, -3.22398646e-01,  8.57085599e-01,\n",
       "        -1.68268392e+00, -1.40704164e+00,  6.51611226e-01,\n",
       "        -1.78622930e+00,  5.89150822e-01,  2.14489098e+00,\n",
       "         4.78116801e-01, -6.30802710e-01, -8.43793704e-01,\n",
       "         2.69267067e+00, -1.01732579e+00,  2.03559883e-01,\n",
       "         1.61802774e+00, -8.51504316e-02, -6.11318885e-01,\n",
       "         1.80737763e+00,  1.15930064e+00, -2.84604683e-01,\n",
       "         1.48801180e+00,  1.89004196e+00, -1.51896335e-01,\n",
       "         6.41266152e-01,  2.66528577e-01, -7.67435347e-01,\n",
       "        -4.36026224e-01, -4.99926124e-01,  4.31695822e-01,\n",
       "        -4.43725168e-01,  2.25188239e-01, -5.87131635e-01,\n",
       "         3.56164427e-01,  1.06980930e+00,  7.05935027e-01,\n",
       "         1.97441894e-01,  9.06880294e-01,  6.75579421e-01,\n",
       "        -3.26255375e-01,  1.16569208e+00, -5.37199308e-01,\n",
       "         4.69293069e-01, -5.50469999e-01,  1.83824984e+00,\n",
       "         1.52432549e-01, -8.53804784e-02,  1.47801306e-01,\n",
       "        -1.65407837e+00, -9.87582273e-02,  9.62214771e-01,\n",
       "        -5.55351871e-01,  1.78943359e-01,  6.70412919e-02,\n",
       "        -6.77599248e-01,  1.46563173e-01, -9.01331278e-01,\n",
       "        -2.38595511e+00,  5.23337720e-01,  2.42257201e-01,\n",
       "        -9.92020955e-01,  1.13795694e+00,  1.70797173e+00,\n",
       "        -4.65669830e-01, -7.03696028e-01, -1.41762400e+00,\n",
       "         2.43665768e-01,  5.97913496e-01, -5.99292042e-02,\n",
       "        -4.24682841e-01,  9.56395303e-01,  1.16774595e-01,\n",
       "        -1.10531430e+00,  9.72573588e-01, -2.21358728e+00,\n",
       "         3.58984969e-01, -7.88306861e-01,  1.42647273e+00,\n",
       "        -1.65410369e+00, -2.71503449e-01,  4.34544504e-02,\n",
       "        -1.87985456e+00, -1.16800195e+00,  1.72256124e+00,\n",
       "        -1.05111738e+00, -6.43485266e-01,  7.83290249e-01,\n",
       "        -9.60031121e-01, -1.91797424e-01,  7.16905312e-01,\n",
       "         3.42726085e-01, -1.81932297e-01,  9.57589636e-01,\n",
       "        -8.83352452e-01, -1.07688573e+00,  1.16861849e+00,\n",
       "        -7.99584455e-01, -1.49893767e-01,  1.02707471e+00,\n",
       "        -5.35581379e-01, -5.59902241e-01,  5.17780190e-02,\n",
       "        -1.15650230e+00,  3.73367658e-01,  4.00151877e-01,\n",
       "         2.90491180e-01,  1.99284738e-02, -4.22529742e-01,\n",
       "        -1.48656872e+00,  9.49274388e-01,  9.20514941e-01,\n",
       "        -7.32151039e-01, -1.37682905e-03,  1.38848509e+00,\n",
       "         8.04310174e-01,  6.48234415e-01, -6.28119722e-01,\n",
       "         1.85189939e-01, -4.17373079e-01, -7.45006428e-01,\n",
       "        -4.79055436e-01,  5.20667380e-01, -6.55646142e-01,\n",
       "        -1.55586033e+00, -7.86986532e-02,  3.83926120e-01,\n",
       "         1.55608553e+00, -4.70267605e-01, -1.34873241e-01,\n",
       "        -1.29584103e-01,  7.25997068e-01,  4.24560060e-01,\n",
       "         8.27201995e-01, -1.09081574e+00,  1.15057470e+00,\n",
       "        -1.07305841e-01, -1.43561218e+00,  8.35695225e-01,\n",
       "         1.24813522e+00,  1.02088738e+00,  1.16014815e+00,\n",
       "         1.22187566e+00,  9.86789235e-01, -6.70269829e-01,\n",
       "        -8.86594370e-01,  2.08124812e+00, -2.24996807e+00,\n",
       "         2.50450283e-01,  5.30469788e-01,  1.07466122e+00,\n",
       "        -2.87464831e-01,  5.26746462e-01,  2.17590709e-01,\n",
       "         3.77831823e-01,  6.67491541e-02, -3.06555337e-01,\n",
       "         2.05217639e+00, -1.08164679e+00,  1.31394806e-02,\n",
       "         9.74601271e-01,  7.77471345e-01,  4.13187438e-01,\n",
       "        -1.60382806e+00, -1.32852276e+00,  4.61473597e-01,\n",
       "        -1.40497543e-02,  4.56366432e-01, -4.96546232e-01,\n",
       "        -4.47291707e-01,  8.39914337e-01,  8.50188741e-01,\n",
       "        -8.50752870e-01,  1.00551905e-01, -1.40337944e+00,\n",
       "         1.07403150e+00, -1.96707401e-01,  4.36222240e-02,\n",
       "        -9.98510587e-01, -8.02205605e-01,  1.32183026e-01,\n",
       "        -1.98620483e+00, -3.45779272e-01, -1.80633287e+00,\n",
       "         1.64486777e+00,  7.04444873e-01,  9.45702267e-01,\n",
       "         6.74809517e-02,  1.48830962e+00, -1.79494081e+00,\n",
       "        -1.57204269e+00, -1.53371033e-01,  5.39093663e-01,\n",
       "        -1.63181837e+00, -8.68174596e-01,  1.62502598e-01,\n",
       "         9.73376284e-01, -1.13041328e+00,  2.88294278e-01,\n",
       "         1.24431856e+00, -2.72276485e-01, -1.41025771e+00,\n",
       "         5.40417297e-01,  1.94600714e-02, -1.74555375e+00,\n",
       "        -2.13315124e-01,  9.21167575e-01, -5.62208164e-01,\n",
       "        -1.75427613e-01,  6.20656022e-01, -5.38192705e-01,\n",
       "         9.89112561e-01, -2.92732923e-01,  7.98520257e-01,\n",
       "        -1.99611188e+00,  5.72359432e-01, -8.19320393e-01,\n",
       "        -9.59877240e-01, -7.43817465e-01, -1.49471865e+00,\n",
       "        -1.11840076e-01,  8.89505662e-01,  1.77236624e-01,\n",
       "         1.84629366e+00, -2.49817620e-01,  1.20372971e+00,\n",
       "         1.09726372e-01, -8.46884361e-02,  6.35947436e-01,\n",
       "         1.10029337e-01,  1.43832871e+00,  8.54012730e-01,\n",
       "         6.68737240e-02,  8.41296924e-01,  2.64630277e-01,\n",
       "         1.42490579e+00, -1.09128138e+00,  2.12522612e+00,\n",
       "        -1.49431999e+00,  1.31675370e-01,  1.50400825e+00,\n",
       "         1.28821838e-01, -8.51413441e-01,  3.56438678e+00,\n",
       "         2.53387263e-01, -1.65657093e+00, -5.82129788e-01,\n",
       "         3.05941211e-01,  5.62617447e-01, -2.81419867e+00,\n",
       "         1.35655136e-01, -3.69576738e-01, -8.31824044e-01,\n",
       "         2.12811760e-01, -7.20042727e-01, -1.39287184e+00,\n",
       "         5.78785531e-01,  2.08383548e+00,  3.69178886e-01,\n",
       "        -4.13181446e-01,  4.25805240e-01,  1.88482623e-01,\n",
       "        -7.80794240e-01, -1.22091782e+00, -2.49968753e-02,\n",
       "        -9.68365117e-01, -1.00548259e+00, -4.17656603e-01,\n",
       "         3.78830319e-01,  3.42267477e-01,  5.09575304e-03,\n",
       "         1.03542938e+00, -1.05956559e+00, -7.51723537e-02,\n",
       "        -8.36666059e-02,  1.45088693e+00,  2.89908894e-01,\n",
       "         1.86339780e+00,  4.44040140e-01, -7.29089051e-02,\n",
       "         2.33931179e+00,  1.14318503e-03,  9.79912792e-01,\n",
       "         1.05857403e+00,  2.21168713e+00, -3.97739891e-02,\n",
       "         2.19923245e+00, -3.53148806e-01, -6.27190227e-01,\n",
       "        -1.33730021e+00, -1.89236228e-01,  4.35503514e-01,\n",
       "        -8.92586362e-01,  1.88455457e-01, -6.00024654e-01,\n",
       "        -4.49046177e-01, -3.74256308e-03,  3.77489015e-01,\n",
       "        -7.16385697e-01, -4.44253412e-01,  2.14355632e-01,\n",
       "         5.50559515e-01, -1.13413742e+00,  4.81303467e-02,\n",
       "         4.60617414e-01,  1.82032470e+00,  9.20305384e-01,\n",
       "        -1.28956437e+00, -6.55886473e-01,  1.49050711e-01,\n",
       "        -9.89539067e-01,  1.15206242e+00, -6.46798685e-01,\n",
       "        -2.36773631e-01,  6.78533455e-01, -1.15215110e-01,\n",
       "         1.43517032e+00, -1.03189305e+00, -4.13273154e-01,\n",
       "        -1.81633013e+00, -6.41220079e-02,  8.15817890e-01,\n",
       "        -5.32453860e-01, -1.17026480e+00]])"
      ]
     },
     "execution_count": 29,
     "metadata": {},
     "output_type": "execute_result"
    }
   ],
   "source": [
    "X = np.vstack((x, y))\n",
    "X"
   ]
  },
  {
   "cell_type": "code",
   "execution_count": 30,
   "metadata": {},
   "outputs": [],
   "source": [
    "X_std = StandardScaler().fit_transform(X)"
   ]
  },
  {
   "cell_type": "code",
   "execution_count": 31,
   "metadata": {},
   "outputs": [],
   "source": [
    "X_T = np.vstack((x, y)).T"
   ]
  },
  {
   "cell_type": "code",
   "execution_count": 32,
   "metadata": {},
   "outputs": [
    {
     "data": {
      "text/plain": [
       "array([[-1.56875636e+00, -6.73100975e-01],\n",
       "       [ 7.84051998e-01, -3.97253789e-02],\n",
       "       [ 4.31096807e-01, -6.49814559e-01],\n",
       "       [ 2.20419141e+00, -2.56992819e+00],\n",
       "       [-1.41388677e+00,  9.66014202e-01],\n",
       "       [-4.30898267e-01,  1.77238327e+00],\n",
       "       [-1.40589134e+00, -1.71655633e+00],\n",
       "       [-2.21933493e+00, -8.72178393e-01],\n",
       "       [-2.75012159e-01,  1.17151740e+00],\n",
       "       [-1.09710538e+00,  9.64903891e-01],\n",
       "       [ 6.55443617e-01, -8.42652936e-01],\n",
       "       [ 7.40195564e-01, -5.86299555e-01],\n",
       "       [ 5.12926397e-01, -1.23457157e+00],\n",
       "       [ 2.75948202e-01,  3.52704223e-01],\n",
       "       [-2.78452715e-01,  2.49635111e-01],\n",
       "       [ 4.95636014e-01,  8.84642080e-01],\n",
       "       [ 7.94480791e-02,  2.09922990e-01],\n",
       "       [ 5.97734667e-01,  1.25082875e+00],\n",
       "       [-1.21622757e+00,  2.06457116e-01],\n",
       "       [ 1.14587579e-01,  1.33671524e-02],\n",
       "       [-7.41223913e-01, -2.18774072e-01],\n",
       "       [ 1.12555475e-01, -2.62237673e-01],\n",
       "       [-2.59295971e-01,  1.64056830e+00],\n",
       "       [ 3.40403796e-01, -4.78258974e-01],\n",
       "       [-5.63847126e-01, -9.44411919e-03],\n",
       "       [-8.24203098e-01,  3.48934930e-01],\n",
       "       [ 1.81825187e+00,  7.64087436e-01],\n",
       "       [ 5.45608298e-02,  2.00767471e+00],\n",
       "       [-7.29450657e-01,  6.71479564e-01],\n",
       "       [ 4.20935805e-01,  1.53443692e+00],\n",
       "       [-3.34538752e-01, -1.19889092e+00],\n",
       "       [-9.84783468e-01,  1.06097450e-01],\n",
       "       [ 8.18412018e-01, -5.52933180e-01],\n",
       "       [ 2.34941664e-01,  9.46694658e-01],\n",
       "       [-1.39978543e-01,  2.47742188e-01],\n",
       "       [-7.71707996e-01,  2.18801946e+00],\n",
       "       [-3.99975841e-01, -3.03582676e-02],\n",
       "       [-8.69483385e-01, -3.30265129e-01],\n",
       "       [-1.29599584e+00, -3.41612807e-01],\n",
       "       [ 1.48360132e+00,  3.38549825e-01],\n",
       "       [ 1.14501667e+00, -1.61633749e+00],\n",
       "       [-1.31718629e+00,  8.31492098e-01],\n",
       "       [ 3.65285164e-01, -8.11794672e-01],\n",
       "       [-1.17203462e+00, -1.18217352e+00],\n",
       "       [ 6.90380273e-01,  1.56969078e+00],\n",
       "       [ 2.75661167e-01, -3.86646612e-01],\n",
       "       [ 4.81346557e-01,  3.15021548e-01],\n",
       "       [-2.48193101e-01,  1.22255096e+00],\n",
       "       [-1.26446572e-01,  2.37933458e+00],\n",
       "       [ 1.02265226e+00, -1.59387449e+00],\n",
       "       [ 5.41665494e-01, -3.51169468e-01],\n",
       "       [ 2.15556430e-01,  4.82435235e-01],\n",
       "       [ 3.22653061e-02,  1.86807708e+00],\n",
       "       [ 6.25091365e-01, -8.03243384e-02],\n",
       "       [-9.00175340e-01,  2.41293975e-01],\n",
       "       [ 2.08796416e-01,  2.16208721e-01],\n",
       "       [-7.08002123e-01, -1.69927001e+00],\n",
       "       [ 1.48510840e+00, -1.64940310e+00],\n",
       "       [ 5.88367903e-01, -4.86207000e-01],\n",
       "       [ 1.49256593e+00, -1.42539134e+00],\n",
       "       [ 6.03732755e-01, -9.75896976e-03],\n",
       "       [-1.32340791e+00, -1.57564412e-01],\n",
       "       [-8.06247088e-01,  1.63384510e+00],\n",
       "       [-4.90508354e-01,  9.59382744e-02],\n",
       "       [-4.51220577e-01, -4.57172116e-01],\n",
       "       [-2.67699360e+00, -1.74231832e+00],\n",
       "       [ 6.39209246e-01, -1.49523809e+00],\n",
       "       [-6.09795445e-01,  5.90944801e-01],\n",
       "       [ 1.18828805e+00,  1.01000268e+00],\n",
       "       [ 2.15852898e+00, -6.08907096e-02],\n",
       "       [-5.73385223e-01,  3.37695188e-01],\n",
       "       [-1.38665442e+00,  6.10869509e-01],\n",
       "       [-2.74297442e-01, -1.71060514e+00],\n",
       "       [ 2.31195579e-01,  2.84629696e-01],\n",
       "       [-5.43946012e-01,  1.13173125e+00],\n",
       "       [ 1.47750706e-01, -1.27488733e+00],\n",
       "       [ 5.55409694e-01, -1.03371510e+00],\n",
       "       [ 7.71465735e-01,  2.69930147e-04],\n",
       "       [ 1.23076540e+00, -6.21273441e-01],\n",
       "       [-5.53769469e-01,  6.78892395e-01],\n",
       "       [-7.79004387e-01,  6.02827476e-02],\n",
       "       [-1.00396989e+00, -5.41801527e-01],\n",
       "       [ 1.97332322e+00, -4.88537826e-01],\n",
       "       [-1.00287540e+00, -1.24697965e-01],\n",
       "       [-7.90104764e-01, -5.22782196e-01],\n",
       "       [-2.16403392e+00, -1.09309304e+00],\n",
       "       [ 3.01213318e-01,  5.01788163e-01],\n",
       "       [-6.86349154e-01,  2.80865497e-01],\n",
       "       [ 1.96077337e-01,  1.65721687e-01],\n",
       "       [ 1.45147948e+00, -1.83571944e-01],\n",
       "       [-1.39182222e+00, -1.20816455e+00],\n",
       "       [-5.96233442e-01,  3.20456490e-01],\n",
       "       [-1.24761858e+00,  9.62860058e-01],\n",
       "       [-1.23308489e-01, -4.65753238e-01],\n",
       "       [-1.58096426e+00,  1.93008319e+00],\n",
       "       [-1.05170083e+00,  5.04988551e-01],\n",
       "       [ 1.35374622e-01,  1.79240527e-01],\n",
       "       [-1.67936170e+00,  7.00662443e-01],\n",
       "       [-1.94199079e-01,  1.01573880e+00],\n",
       "       [-7.55533455e-01, -2.66093863e+00],\n",
       "       [-1.62891981e+00,  1.25562172e-01],\n",
       "       [ 5.52953287e-01, -3.95995481e-01],\n",
       "       [-5.15943578e-01,  6.31606645e-01],\n",
       "       [-9.47093908e-01,  2.59589535e+00],\n",
       "       [ 9.15058605e-01,  4.06683322e-01],\n",
       "       [ 3.82040423e-02, -1.23052606e+00],\n",
       "       [-3.15807615e-01, -7.00557736e-01],\n",
       "       [-4.51042629e-01,  9.54556585e-01],\n",
       "       [ 6.89679528e-01, -1.30978887e+00],\n",
       "       [ 1.31779269e-01, -5.59338702e-01],\n",
       "       [ 6.47514347e-01,  8.31591324e-01],\n",
       "       [ 6.59102017e-01, -1.15575552e+00],\n",
       "       [ 1.30223157e+00, -5.90586620e-01],\n",
       "       [-1.61441251e+00,  1.45304903e+00],\n",
       "       [ 1.05042620e+00, -1.95774094e+00],\n",
       "       [ 1.38097753e+00,  4.84380702e-01],\n",
       "       [ 6.15433489e-01, -1.36338728e-01],\n",
       "       [ 1.19642787e+00, -4.02752813e-01],\n",
       "       [-5.48778249e-01,  4.44552854e-01],\n",
       "       [ 4.99373859e-01, -8.41390240e-01],\n",
       "       [-1.29699530e+00,  5.58944798e-01],\n",
       "       [ 9.00826782e-01,  1.90483610e-01],\n",
       "       [ 4.94565548e-01,  5.76717268e-01],\n",
       "       [ 1.28908493e+00,  3.69796394e-01],\n",
       "       [ 1.36497928e+00,  1.35792699e+00],\n",
       "       [-1.19818374e+00,  1.16783733e+00],\n",
       "       [ 8.19916895e-01, -1.50778053e-01],\n",
       "       [ 2.58045115e-03, -2.68363432e-01],\n",
       "       [ 9.26558701e-01,  6.16017822e-01],\n",
       "       [-8.59027159e-01,  6.89521723e-01],\n",
       "       [-3.63742034e-01, -4.38455532e-02],\n",
       "       [-4.20152680e-01, -1.28301379e+00],\n",
       "       [ 5.53451475e-02, -4.63093305e-01],\n",
       "       [-5.96041264e-01, -1.53133032e+00],\n",
       "       [ 5.49258987e-01,  1.46845513e+00],\n",
       "       [-6.77467496e-01, -1.16863993e+00],\n",
       "       [ 5.26411825e-01,  1.27203653e+00],\n",
       "       [-1.08665526e+00,  2.10849772e-01],\n",
       "       [-7.05444370e-01,  1.51834168e+00],\n",
       "       [ 2.67245970e-02,  7.74879676e-02],\n",
       "       [ 9.72259426e-01,  3.27229276e-01],\n",
       "       [-1.43776577e-02, -1.43828483e-01],\n",
       "       [ 2.65960291e-01,  1.46046925e+00],\n",
       "       [-1.83027168e-01,  4.59332495e-01],\n",
       "       [-3.99546416e-01,  6.40609853e-01],\n",
       "       [ 1.10513117e+00, -4.63714139e-01],\n",
       "       [ 2.12575300e-01, -6.46553058e-01],\n",
       "       [-2.81309588e-01, -6.97343678e-02],\n",
       "       [ 5.18416783e-01, -2.38610802e+00],\n",
       "       [-1.49324153e+00, -2.59946430e-01],\n",
       "       [ 2.34567976e-01, -1.11380274e+00],\n",
       "       [-5.96234721e-01,  1.78625660e+00],\n",
       "       [ 1.15060111e-01,  6.61789193e-01],\n",
       "       [ 1.53435325e+00,  1.89221268e+00],\n",
       "       [ 2.72673820e-01, -2.39879608e-01],\n",
       "       [ 1.97253173e+00,  9.07721421e-01],\n",
       "       [-4.17439014e-01, -1.51494689e-01],\n",
       "       [ 1.34620092e+00, -1.34735855e-01],\n",
       "       [-6.61807366e-01,  1.22436867e+00],\n",
       "       [ 3.85122384e-01,  4.76619296e-01],\n",
       "       [-3.79540860e-01, -2.44857255e-01],\n",
       "       [ 1.97965302e+00, -7.69104669e-01],\n",
       "       [ 1.91925615e-01, -6.30359056e-01],\n",
       "       [-3.09371066e+00, -1.48222210e+00],\n",
       "       [-6.57613495e-01,  4.58931943e-01],\n",
       "       [ 4.73267284e-01, -9.46981770e-01],\n",
       "       [ 7.81749575e-01,  1.00624983e-01],\n",
       "       [ 1.26470563e-01,  1.96466951e+00],\n",
       "       [-3.62904636e-01, -2.46204553e+00],\n",
       "       [ 1.27437678e+00, -2.08411396e+00],\n",
       "       [-2.72053216e-02, -7.96506634e-01],\n",
       "       [-5.63499935e-01, -2.64719593e-01],\n",
       "       [ 9.17201378e-02, -3.60796118e-01],\n",
       "       [-1.48301710e+00, -1.64122162e+00],\n",
       "       [-3.78883616e-01, -4.41838312e-01],\n",
       "       [ 4.88279264e-01,  1.48122424e+00],\n",
       "       [-3.59836350e-01, -9.29929504e-01],\n",
       "       [-5.03550454e-01, -2.20500150e+00],\n",
       "       [ 6.11747404e-01, -3.22398646e-01],\n",
       "       [ 4.68770213e-01,  8.57085599e-01],\n",
       "       [ 3.79699653e-01, -1.68268392e+00],\n",
       "       [-6.20605806e-01, -1.40704164e+00],\n",
       "       [-4.68214229e-01,  6.51611226e-01],\n",
       "       [-7.07777698e-01, -1.78622930e+00],\n",
       "       [ 1.92387248e-01,  5.89150822e-01],\n",
       "       [ 1.61928342e+00,  2.14489098e+00],\n",
       "       [ 7.11109135e-02,  4.78116801e-01],\n",
       "       [ 3.16020576e-01, -6.30802710e-01],\n",
       "       [ 1.87769127e-01, -8.43793704e-01],\n",
       "       [-6.52653050e-01,  2.69267067e+00],\n",
       "       [ 7.92866927e-01, -1.01732579e+00],\n",
       "       [-2.95637150e+00,  2.03559883e-01],\n",
       "       [-1.40752567e-01,  1.61802774e+00],\n",
       "       [-1.02329309e-01, -8.51504316e-02],\n",
       "       [-3.38136483e-01, -6.11318885e-01],\n",
       "       [ 2.39860480e-01,  1.80737763e+00],\n",
       "       [-5.59110318e-01,  1.15930064e+00],\n",
       "       [ 5.46212133e-01, -2.84604683e-01],\n",
       "       [ 9.89499117e-01,  1.48801180e+00],\n",
       "       [-5.16850110e-01,  1.89004196e+00],\n",
       "       [ 1.57836745e+00, -1.51896335e-01],\n",
       "       [-7.39036180e-01,  6.41266152e-01],\n",
       "       [-4.47553476e-01,  2.66528577e-01],\n",
       "       [ 1.23356817e+00, -7.67435347e-01],\n",
       "       [ 1.42200093e+00, -4.36026224e-01],\n",
       "       [ 1.51170506e+00, -4.99926124e-01],\n",
       "       [-1.47982059e-01,  4.31695822e-01],\n",
       "       [-8.92872742e-01, -4.43725168e-01],\n",
       "       [ 1.12183075e+00,  2.25188239e-01],\n",
       "       [-1.03358694e+00, -5.87131635e-01],\n",
       "       [-2.97339382e-01,  3.56164427e-01],\n",
       "       [-8.18049880e-01,  1.06980930e+00],\n",
       "       [-2.29615014e-01,  7.05935027e-01],\n",
       "       [ 2.65236872e-01,  1.97441894e-01],\n",
       "       [-8.82156149e-01,  9.06880294e-01],\n",
       "       [-3.51636781e-01,  6.75579421e-01],\n",
       "       [-2.40540887e-01, -3.26255375e-01],\n",
       "       [ 6.68003407e-01,  1.16569208e+00],\n",
       "       [ 6.13198828e-01, -5.37199308e-01],\n",
       "       [ 8.93985520e-02,  4.69293069e-01],\n",
       "       [ 1.20747276e+00, -5.50469999e-01],\n",
       "       [-6.20095237e-01,  1.83824984e+00],\n",
       "       [-3.12186915e-01,  1.52432549e-01],\n",
       "       [-1.24851788e-01, -8.53804784e-02],\n",
       "       [-5.72112699e-01,  1.47801306e-01],\n",
       "       [-1.50963115e-02, -1.65407837e+00],\n",
       "       [ 6.22515025e-01, -9.87582273e-02],\n",
       "       [-2.18445790e-01,  9.62214771e-01],\n",
       "       [ 3.43409516e-01, -5.55351871e-01],\n",
       "       [-1.78934257e-01,  1.78943359e-01],\n",
       "       [ 1.32218715e-02,  6.70412919e-02],\n",
       "       [ 5.05396301e-01, -6.77599248e-01],\n",
       "       [ 7.69988051e-01,  1.46563173e-01],\n",
       "       [-1.23263720e+00, -9.01331278e-01],\n",
       "       [ 1.22052863e-02, -2.38595511e+00],\n",
       "       [-3.05484883e-01,  5.23337720e-01],\n",
       "       [-7.69439872e-01,  2.42257201e-01],\n",
       "       [ 7.44668470e-01, -9.92020955e-01],\n",
       "       [-1.51434110e-01,  1.13795694e+00],\n",
       "       [-1.82395745e+00,  1.70797173e+00],\n",
       "       [-4.09583660e-01, -4.65669830e-01],\n",
       "       [-3.77593416e-01, -7.03696028e-01],\n",
       "       [-1.25482043e+00, -1.41762400e+00],\n",
       "       [ 1.84445014e+00,  2.43665768e-01],\n",
       "       [-1.15131429e+00,  5.97913496e-01],\n",
       "       [-1.06358885e-01, -5.99292042e-02],\n",
       "       [ 8.10794497e-01, -4.24682841e-01],\n",
       "       [-5.03361377e-01,  9.56395303e-01],\n",
       "       [ 2.80342522e-01,  1.16774595e-01],\n",
       "       [-7.48482718e-01, -1.10531430e+00],\n",
       "       [-1.58226017e+00,  9.72573588e-01],\n",
       "       [-6.75263924e-02, -2.21358728e+00],\n",
       "       [ 1.12945550e+00,  3.58984969e-01],\n",
       "       [ 1.68521015e+00, -7.88306861e-01],\n",
       "       [-1.43670019e+00,  1.42647273e+00],\n",
       "       [ 1.25654382e+00, -1.65410369e+00],\n",
       "       [ 4.17705658e-01, -2.71503449e-01],\n",
       "       [-8.64894619e-02,  4.34544504e-02],\n",
       "       [-1.93430963e+00, -1.87985456e+00],\n",
       "       [ 5.63480839e-01, -1.16800195e+00],\n",
       "       [ 1.82918001e+00,  1.72256124e+00],\n",
       "       [ 6.32281211e-01, -1.05111738e+00],\n",
       "       [ 2.34713530e-01, -6.43485266e-01],\n",
       "       [ 2.74472647e-01,  7.83290249e-01],\n",
       "       [ 7.03991990e-01, -9.60031121e-01],\n",
       "       [-5.63661126e-01, -1.91797424e-01],\n",
       "       [-2.53135173e-02,  7.16905312e-01],\n",
       "       [ 7.58937456e-01,  3.42726085e-01],\n",
       "       [-1.59762886e+00, -1.81932297e-01],\n",
       "       [ 4.47368847e-01,  9.57589636e-01],\n",
       "       [ 6.75903049e-01, -8.83352452e-01],\n",
       "       [-4.02833082e-01, -1.07688573e+00],\n",
       "       [-7.38130438e-01,  1.16861849e+00],\n",
       "       [ 7.13864050e-01, -7.99584455e-01],\n",
       "       [ 6.52005652e-01, -1.49893767e-01],\n",
       "       [-5.55675978e-01,  1.02707471e+00],\n",
       "       [ 3.38481588e-01, -5.35581379e-01],\n",
       "       [ 7.69327865e-01, -5.59902241e-01],\n",
       "       [ 2.38291545e-01,  5.17780190e-02],\n",
       "       [-3.31793607e-01, -1.15650230e+00],\n",
       "       [-9.02075147e-01,  3.73367658e-01],\n",
       "       [ 2.15456059e-02,  4.00151877e-01],\n",
       "       [-6.50659028e-01,  2.90491180e-01],\n",
       "       [ 3.21052170e-01,  1.99284738e-02],\n",
       "       [-1.59665529e+00, -4.22529742e-01],\n",
       "       [ 3.05261515e-01, -1.48656872e+00],\n",
       "       [ 4.70995386e-01,  9.49274388e-01],\n",
       "       [-2.73160607e-01,  9.20514941e-01],\n",
       "       [-1.00492494e-01, -7.32151039e-01],\n",
       "       [ 1.95404064e+00, -1.37682905e-03],\n",
       "       [-1.44681697e-01,  1.38848509e+00],\n",
       "       [ 2.23069843e-01,  8.04310174e-01],\n",
       "       [ 6.66084847e-01,  6.48234415e-01],\n",
       "       [ 8.98153348e-01, -6.28119722e-01],\n",
       "       [-2.28069808e+00,  1.85189939e-01],\n",
       "       [-6.40031093e-01, -4.17373079e-01],\n",
       "       [-1.19748711e+00, -7.45006428e-01],\n",
       "       [ 1.54862563e-01, -4.79055436e-01],\n",
       "       [-1.28229104e+00,  5.20667380e-01],\n",
       "       [-5.19655295e-01, -6.55646142e-01],\n",
       "       [ 1.69834695e+00, -1.55586033e+00],\n",
       "       [-1.36041340e-01, -7.86986532e-02],\n",
       "       [-7.88662943e-01,  3.83926120e-01],\n",
       "       [-3.69035488e-01,  1.55608553e+00],\n",
       "       [-5.47747854e-01, -4.70267605e-01],\n",
       "       [ 4.04936153e-01, -1.34873241e-01],\n",
       "       [-8.82187773e-01, -1.29584103e-01],\n",
       "       [ 9.34648496e-02,  7.25997068e-01],\n",
       "       [ 1.06337236e+00,  4.24560060e-01],\n",
       "       [-4.97709637e-01,  8.27201995e-01],\n",
       "       [ 2.45069226e+00, -1.09081574e+00],\n",
       "       [ 4.04320350e-01,  1.15057470e+00],\n",
       "       [ 1.61562518e+00, -1.07305841e-01],\n",
       "       [-2.82326538e-01, -1.43561218e+00],\n",
       "       [ 5.24449625e-01,  8.35695225e-01],\n",
       "       [ 1.48952254e+00,  1.24813522e+00],\n",
       "       [-1.27348182e+00,  1.02088738e+00],\n",
       "       [ 3.43482377e-01,  1.16014815e+00],\n",
       "       [-8.20249412e-01,  1.22187566e+00],\n",
       "       [-4.94082300e-01,  9.86789235e-01],\n",
       "       [ 4.45103123e-01, -6.70269829e-01],\n",
       "       [-1.55241944e+00, -8.86594370e-01],\n",
       "       [ 1.47950929e+00,  2.08124812e+00],\n",
       "       [-2.06911870e+00, -2.24996807e+00],\n",
       "       [ 1.33147937e+00,  2.50450283e-01],\n",
       "       [ 3.91239431e-01,  5.30469788e-01],\n",
       "       [-2.03799087e-01,  1.07466122e+00],\n",
       "       [-5.60952260e-02, -2.87464831e-01],\n",
       "       [-1.40937619e+00,  5.26746462e-01],\n",
       "       [-1.57025736e+00,  2.17590709e-01],\n",
       "       [-1.31337665e+00,  3.77831823e-01],\n",
       "       [ 1.26847162e+00,  6.67491541e-02],\n",
       "       [ 1.73613978e-01, -3.06555337e-01],\n",
       "       [ 9.27134194e-02,  2.05217639e+00],\n",
       "       [-1.31503650e+00, -1.08164679e+00],\n",
       "       [ 1.52759870e+00,  1.31394806e-02],\n",
       "       [ 1.14071553e+00,  9.74601271e-01],\n",
       "       [ 3.76205164e-01,  7.77471345e-01],\n",
       "       [-3.82564207e-01,  4.13187438e-01],\n",
       "       [ 1.19743335e+00, -1.60382806e+00],\n",
       "       [-6.74293634e-02, -1.32852276e+00],\n",
       "       [ 1.46673639e+00,  4.61473597e-01],\n",
       "       [ 1.08791417e+00, -1.40497543e-02],\n",
       "       [-1.28864411e+00,  4.56366432e-01],\n",
       "       [ 4.25825227e-01, -4.96546232e-01],\n",
       "       [ 1.77409435e-01, -4.47291707e-01],\n",
       "       [ 1.38800947e+00,  8.39914337e-01],\n",
       "       [ 9.98128033e-01,  8.50188741e-01],\n",
       "       [ 9.93626207e-01, -8.50752870e-01],\n",
       "       [-1.97938325e+00,  1.00551905e-01],\n",
       "       [ 6.46804775e-01, -1.40337944e+00],\n",
       "       [ 1.23547109e+00,  1.07403150e+00],\n",
       "       [ 1.20757304e+00, -1.96707401e-01],\n",
       "       [ 4.80816084e-01,  4.36222240e-02],\n",
       "       [ 3.85453557e-01, -9.98510587e-01],\n",
       "       [-9.34898002e-01, -8.02205605e-01],\n",
       "       [-1.07520714e+00,  1.32183026e-01],\n",
       "       [-5.79172470e-02, -1.98620483e+00],\n",
       "       [ 5.27707416e-02, -3.45779272e-01],\n",
       "       [ 7.09978025e-01, -1.80633287e+00],\n",
       "       [ 2.19496679e+00,  1.64486777e+00],\n",
       "       [-1.62640617e+00,  7.04444873e-01],\n",
       "       [ 3.84984440e-01,  9.45702267e-01],\n",
       "       [-4.84239623e-01,  6.74809517e-02],\n",
       "       [ 5.36566282e-01,  1.48830962e+00],\n",
       "       [-9.92664782e-01, -1.79494081e+00],\n",
       "       [-4.79395301e-01, -1.57204269e+00],\n",
       "       [-1.71550353e+00, -1.53371033e-01],\n",
       "       [ 4.90865544e-01,  5.39093663e-01],\n",
       "       [-2.04139750e-01, -1.63181837e+00],\n",
       "       [ 4.71289413e-01, -8.68174596e-01],\n",
       "       [ 1.45399944e+00,  1.62502598e-01],\n",
       "       [ 6.56516882e-01,  9.73376284e-01],\n",
       "       [-1.44670217e-01, -1.13041328e+00],\n",
       "       [-2.49539238e-01,  2.88294278e-01],\n",
       "       [ 8.62696956e-02,  1.24431856e+00],\n",
       "       [-1.66436512e+00, -2.72276485e-01],\n",
       "       [-1.07736944e+00, -1.41025771e+00],\n",
       "       [ 3.08239879e-02,  5.40417297e-01],\n",
       "       [ 3.13904229e-01,  1.94600714e-02],\n",
       "       [ 4.34534107e-01, -1.74555375e+00],\n",
       "       [-5.10307371e-01, -2.13315124e-01],\n",
       "       [-8.12685632e-01,  9.21167575e-01],\n",
       "       [ 1.19943536e+00, -5.62208164e-01],\n",
       "       [-1.39015259e+00, -1.75427613e-01],\n",
       "       [-1.45058498e-01,  6.20656022e-01],\n",
       "       [ 3.14935296e-01, -5.38192705e-01],\n",
       "       [-7.46291039e-01,  9.89112561e-01],\n",
       "       [-1.04489962e+00, -2.92732923e-01],\n",
       "       [-9.72025995e-01,  7.98520257e-01],\n",
       "       [ 4.38186664e-01, -1.99611188e+00],\n",
       "       [ 1.19925428e+00,  5.72359432e-01],\n",
       "       [-2.87594033e-01, -8.19320393e-01],\n",
       "       [-1.01096273e+00, -9.59877240e-01],\n",
       "       [ 4.08511125e-01, -7.43817465e-01],\n",
       "       [ 9.88645908e-01, -1.49471865e+00],\n",
       "       [ 7.28735367e-01, -1.11840076e-01],\n",
       "       [-4.16705395e-01,  8.89505662e-01],\n",
       "       [-7.35928106e-01,  1.77236624e-01],\n",
       "       [ 6.88576686e-01,  1.84629366e+00],\n",
       "       [ 3.17790326e-01, -2.49817620e-01],\n",
       "       [-1.32518645e-02,  1.20372971e+00],\n",
       "       [-1.79240929e-01,  1.09726372e-01],\n",
       "       [-1.52995872e+00, -8.46884361e-02],\n",
       "       [-5.22925335e-01,  6.35947436e-01],\n",
       "       [ 1.12934092e+00,  1.10029337e-01],\n",
       "       [-1.17691415e+00,  1.43832871e+00],\n",
       "       [-7.76627460e-01,  8.54012730e-01],\n",
       "       [ 8.93186715e-02,  6.68737240e-02],\n",
       "       [-9.71274861e-01,  8.41296924e-01],\n",
       "       [ 8.07699445e-01,  2.64630277e-01],\n",
       "       [-1.99854621e-01,  1.42490579e+00],\n",
       "       [-1.48440190e+00, -1.09128138e+00],\n",
       "       [-1.66575413e+00,  2.12522612e+00],\n",
       "       [-1.90927855e-01, -1.49431999e+00],\n",
       "       [-9.47852442e-01,  1.31675370e-01],\n",
       "       [-1.06041567e+00,  1.50400825e+00],\n",
       "       [ 2.34495005e+00,  1.28821838e-01],\n",
       "       [-2.02744422e-01, -8.51413441e-01],\n",
       "       [ 1.14704262e-01,  3.56438678e+00],\n",
       "       [-4.48352844e-02,  2.53387263e-01],\n",
       "       [ 2.11120898e-01, -1.65657093e+00],\n",
       "       [-4.60412568e-01, -5.82129788e-01],\n",
       "       [ 1.41796306e+00,  3.05941211e-01],\n",
       "       [-5.16380353e-01,  5.62617447e-01],\n",
       "       [-3.40813955e+00, -2.81419867e+00],\n",
       "       [ 1.07077015e+00,  1.35655136e-01],\n",
       "       [-2.02725380e-01, -3.69576738e-01],\n",
       "       [-8.95068143e-01, -8.31824044e-01],\n",
       "       [-2.60908597e+00,  2.12811760e-01],\n",
       "       [ 2.27000218e-01, -7.20042727e-01],\n",
       "       [ 6.81172306e-01, -1.39287184e+00],\n",
       "       [-1.75186992e+00,  5.78785531e-01],\n",
       "       [-1.74828914e+00,  2.08383548e+00],\n",
       "       [-1.70918743e+00,  3.69178886e-01],\n",
       "       [-1.34788157e+00, -4.13181446e-01],\n",
       "       [ 1.40605289e+00,  4.25805240e-01],\n",
       "       [-5.58787044e-01,  1.88482623e-01],\n",
       "       [-3.63757482e-02, -7.80794240e-01],\n",
       "       [ 2.08160746e-01, -1.22091782e+00],\n",
       "       [ 5.53043659e-01, -2.49968753e-02],\n",
       "       [ 8.56879238e-01, -9.68365117e-01],\n",
       "       [ 5.08236780e-01, -1.00548259e+00],\n",
       "       [-1.63473892e+00, -4.17656603e-01],\n",
       "       [-1.00064807e+00,  3.78830319e-01],\n",
       "       [-7.49226038e-01,  3.42267477e-01],\n",
       "       [-1.82427951e+00,  5.09575304e-03],\n",
       "       [ 4.32604281e-01,  1.03542938e+00],\n",
       "       [-1.08161730e+00, -1.05956559e+00],\n",
       "       [ 6.73193192e-01, -7.51723537e-02],\n",
       "       [ 8.25803789e-01, -8.36666059e-02],\n",
       "       [-1.08569729e+00,  1.45088693e+00],\n",
       "       [-2.84917537e-01,  2.89908894e-01],\n",
       "       [-2.85139115e-01,  1.86339780e+00],\n",
       "       [-2.48647780e+00,  4.44040140e-01],\n",
       "       [-3.66755471e-01, -7.29089051e-02],\n",
       "       [-9.86762294e-01,  2.33931179e+00],\n",
       "       [ 1.55715198e-01,  1.14318503e-03],\n",
       "       [ 3.72089886e-01,  9.79912792e-01],\n",
       "       [-1.57590077e+00,  1.05857403e+00],\n",
       "       [-5.85973766e-01,  2.21168713e+00],\n",
       "       [-5.48078465e-01, -3.97739891e-02],\n",
       "       [-1.73273249e+00,  2.19923245e+00],\n",
       "       [ 3.31177233e-01, -3.53148806e-01],\n",
       "       [-1.02630436e+00, -6.27190227e-01],\n",
       "       [-2.03523704e+00, -1.33730021e+00],\n",
       "       [-2.71534656e-01, -1.89236228e-01],\n",
       "       [-1.45298305e-01,  4.35503514e-01],\n",
       "       [ 1.61875538e+00, -8.92586362e-01],\n",
       "       [-7.24946106e-01,  1.88455457e-01],\n",
       "       [-5.17930102e-01, -6.00024654e-01],\n",
       "       [ 3.42481169e-01, -4.49046177e-01],\n",
       "       [ 1.10485899e+00, -3.74256308e-03],\n",
       "       [ 6.92745122e-01,  3.77489015e-01],\n",
       "       [ 1.49340053e-01, -7.16385697e-01],\n",
       "       [ 8.78295921e-01, -4.44253412e-01],\n",
       "       [ 1.11674763e+00,  2.14355632e-01],\n",
       "       [ 2.14306091e-01,  5.50559515e-01],\n",
       "       [ 3.50880714e-02, -1.13413742e+00],\n",
       "       [-5.03248217e-01,  4.81303467e-02],\n",
       "       [-1.21138405e+00,  4.60617414e-01],\n",
       "       [ 6.60262859e-01,  1.82032470e+00],\n",
       "       [-1.83457870e-01,  9.20305384e-01],\n",
       "       [ 8.12369291e-01, -1.28956437e+00],\n",
       "       [-7.53535817e-01, -6.55886473e-01],\n",
       "       [ 5.97301405e-02,  1.49050711e-01],\n",
       "       [ 1.18350790e+00, -9.89539067e-01],\n",
       "       [-2.96990600e-01,  1.15206242e+00],\n",
       "       [ 2.32208818e-01, -6.46798685e-01],\n",
       "       [-1.27897041e+00, -2.36773631e-01],\n",
       "       [ 1.42968152e+00,  6.78533455e-01],\n",
       "       [ 7.50461235e-01, -1.15215110e-01],\n",
       "       [-4.79977877e-01,  1.43517032e+00],\n",
       "       [ 1.65130415e+00, -1.03189305e+00],\n",
       "       [-7.18109833e-01, -4.13273154e-01],\n",
       "       [ 3.41994151e+00, -1.81633013e+00],\n",
       "       [ 1.23480568e+00, -6.41220079e-02],\n",
       "       [-5.64221753e-01,  8.15817890e-01],\n",
       "       [-1.16035118e+00, -5.32453860e-01],\n",
       "       [-9.53133595e-01, -1.17026480e+00]])"
      ]
     },
     "execution_count": 32,
     "metadata": {},
     "output_type": "execute_result"
    }
   ],
   "source": [
    "X_T"
   ]
  },
  {
   "cell_type": "code",
   "execution_count": 33,
   "metadata": {},
   "outputs": [
    {
     "ename": "ValueError",
     "evalue": "'c' argument has 2 elements, which is not acceptable for use with 'x' with size 500, 'y' with size 500.",
     "output_type": "error",
     "traceback": [
      "\u001b[1;31m---------------------------------------------------------------------------\u001b[0m",
      "\u001b[1;31mValueError\u001b[0m                                Traceback (most recent call last)",
      "\u001b[1;32m~\\Anaconda3\\lib\\site-packages\\matplotlib\\axes\\_axes.py\u001b[0m in \u001b[0;36m_parse_scatter_color_args\u001b[1;34m(c, edgecolors, kwargs, xshape, yshape, get_next_color_func)\u001b[0m\n\u001b[0;32m   4282\u001b[0m                     \u001b[0mvalid_shape\u001b[0m \u001b[1;33m=\u001b[0m \u001b[1;32mFalse\u001b[0m\u001b[1;33m\u001b[0m\u001b[1;33m\u001b[0m\u001b[0m\n\u001b[1;32m-> 4283\u001b[1;33m                     \u001b[1;32mraise\u001b[0m \u001b[0mValueError\u001b[0m\u001b[1;33m\u001b[0m\u001b[1;33m\u001b[0m\u001b[0m\n\u001b[0m\u001b[0;32m   4284\u001b[0m             \u001b[1;32mexcept\u001b[0m \u001b[0mValueError\u001b[0m\u001b[1;33m:\u001b[0m\u001b[1;33m\u001b[0m\u001b[1;33m\u001b[0m\u001b[0m\n",
      "\u001b[1;31mValueError\u001b[0m: ",
      "\nDuring handling of the above exception, another exception occurred:\n",
      "\u001b[1;31mValueError\u001b[0m                                Traceback (most recent call last)",
      "\u001b[1;32m<ipython-input-33-3ba775d6785b>\u001b[0m in \u001b[0;36m<module>\u001b[1;34m\u001b[0m\n\u001b[0;32m      1\u001b[0m \u001b[0mplt\u001b[0m\u001b[1;33m.\u001b[0m\u001b[0mfigure\u001b[0m\u001b[1;33m(\u001b[0m\u001b[0mfigsize\u001b[0m\u001b[1;33m=\u001b[0m\u001b[1;33m(\u001b[0m\u001b[1;36m9\u001b[0m\u001b[1;33m,\u001b[0m \u001b[1;36m4\u001b[0m\u001b[1;33m)\u001b[0m\u001b[1;33m)\u001b[0m\u001b[1;33m\u001b[0m\u001b[1;33m\u001b[0m\u001b[0m\n\u001b[1;32m----> 2\u001b[1;33m \u001b[0mplt\u001b[0m\u001b[1;33m.\u001b[0m\u001b[0mscatter\u001b[0m\u001b[1;33m(\u001b[0m\u001b[0mX_T\u001b[0m\u001b[1;33m[\u001b[0m\u001b[1;33m:\u001b[0m\u001b[1;33m,\u001b[0m \u001b[1;36m0\u001b[0m\u001b[1;33m]\u001b[0m\u001b[1;33m,\u001b[0m \u001b[0mX_T\u001b[0m\u001b[1;33m[\u001b[0m\u001b[1;33m:\u001b[0m\u001b[1;33m,\u001b[0m \u001b[1;36m1\u001b[0m\u001b[1;33m]\u001b[0m\u001b[1;33m,\u001b[0m \u001b[0mcolor\u001b[0m\u001b[1;33m=\u001b[0m\u001b[1;33m[\u001b[0m\u001b[1;34m'green'\u001b[0m\u001b[1;33m,\u001b[0m\u001b[1;34m'blue'\u001b[0m\u001b[1;33m]\u001b[0m\u001b[1;33m)\u001b[0m\u001b[1;33m\u001b[0m\u001b[1;33m\u001b[0m\u001b[0m\n\u001b[0m\u001b[0;32m      3\u001b[0m \u001b[0mplt\u001b[0m\u001b[1;33m.\u001b[0m\u001b[0mtitle\u001b[0m\u001b[1;33m(\u001b[0m\u001b[1;34m'Generated Data'\u001b[0m\u001b[1;33m)\u001b[0m\u001b[1;33m\u001b[0m\u001b[1;33m\u001b[0m\u001b[0m\n\u001b[0;32m      4\u001b[0m \u001b[0mplt\u001b[0m\u001b[1;33m.\u001b[0m\u001b[0maxis\u001b[0m\u001b[1;33m(\u001b[0m\u001b[1;34m'equal'\u001b[0m\u001b[1;33m)\u001b[0m\u001b[1;33m;\u001b[0m\u001b[1;33m\u001b[0m\u001b[1;33m\u001b[0m\u001b[0m\n",
      "\u001b[1;32m~\\Anaconda3\\lib\\site-packages\\matplotlib\\pyplot.py\u001b[0m in \u001b[0;36mscatter\u001b[1;34m(x, y, s, c, marker, cmap, norm, vmin, vmax, alpha, linewidths, verts, edgecolors, plotnonfinite, data, **kwargs)\u001b[0m\n\u001b[0;32m   2839\u001b[0m         \u001b[0mverts\u001b[0m\u001b[1;33m=\u001b[0m\u001b[0mverts\u001b[0m\u001b[1;33m,\u001b[0m \u001b[0medgecolors\u001b[0m\u001b[1;33m=\u001b[0m\u001b[0medgecolors\u001b[0m\u001b[1;33m,\u001b[0m\u001b[1;33m\u001b[0m\u001b[1;33m\u001b[0m\u001b[0m\n\u001b[0;32m   2840\u001b[0m         plotnonfinite=plotnonfinite, **({\"data\": data} if data is not\n\u001b[1;32m-> 2841\u001b[1;33m         None else {}), **kwargs)\n\u001b[0m\u001b[0;32m   2842\u001b[0m     \u001b[0msci\u001b[0m\u001b[1;33m(\u001b[0m\u001b[0m__ret\u001b[0m\u001b[1;33m)\u001b[0m\u001b[1;33m\u001b[0m\u001b[1;33m\u001b[0m\u001b[0m\n\u001b[0;32m   2843\u001b[0m     \u001b[1;32mreturn\u001b[0m \u001b[0m__ret\u001b[0m\u001b[1;33m\u001b[0m\u001b[1;33m\u001b[0m\u001b[0m\n",
      "\u001b[1;32m~\\Anaconda3\\lib\\site-packages\\matplotlib\\__init__.py\u001b[0m in \u001b[0;36minner\u001b[1;34m(ax, data, *args, **kwargs)\u001b[0m\n\u001b[0;32m   1587\u001b[0m     \u001b[1;32mdef\u001b[0m \u001b[0minner\u001b[0m\u001b[1;33m(\u001b[0m\u001b[0max\u001b[0m\u001b[1;33m,\u001b[0m \u001b[1;33m*\u001b[0m\u001b[0margs\u001b[0m\u001b[1;33m,\u001b[0m \u001b[0mdata\u001b[0m\u001b[1;33m=\u001b[0m\u001b[1;32mNone\u001b[0m\u001b[1;33m,\u001b[0m \u001b[1;33m**\u001b[0m\u001b[0mkwargs\u001b[0m\u001b[1;33m)\u001b[0m\u001b[1;33m:\u001b[0m\u001b[1;33m\u001b[0m\u001b[1;33m\u001b[0m\u001b[0m\n\u001b[0;32m   1588\u001b[0m         \u001b[1;32mif\u001b[0m \u001b[0mdata\u001b[0m \u001b[1;32mis\u001b[0m \u001b[1;32mNone\u001b[0m\u001b[1;33m:\u001b[0m\u001b[1;33m\u001b[0m\u001b[1;33m\u001b[0m\u001b[0m\n\u001b[1;32m-> 1589\u001b[1;33m             \u001b[1;32mreturn\u001b[0m \u001b[0mfunc\u001b[0m\u001b[1;33m(\u001b[0m\u001b[0max\u001b[0m\u001b[1;33m,\u001b[0m \u001b[1;33m*\u001b[0m\u001b[0mmap\u001b[0m\u001b[1;33m(\u001b[0m\u001b[0msanitize_sequence\u001b[0m\u001b[1;33m,\u001b[0m \u001b[0margs\u001b[0m\u001b[1;33m)\u001b[0m\u001b[1;33m,\u001b[0m \u001b[1;33m**\u001b[0m\u001b[0mkwargs\u001b[0m\u001b[1;33m)\u001b[0m\u001b[1;33m\u001b[0m\u001b[1;33m\u001b[0m\u001b[0m\n\u001b[0m\u001b[0;32m   1590\u001b[0m \u001b[1;33m\u001b[0m\u001b[0m\n\u001b[0;32m   1591\u001b[0m         \u001b[0mbound\u001b[0m \u001b[1;33m=\u001b[0m \u001b[0mnew_sig\u001b[0m\u001b[1;33m.\u001b[0m\u001b[0mbind\u001b[0m\u001b[1;33m(\u001b[0m\u001b[0max\u001b[0m\u001b[1;33m,\u001b[0m \u001b[1;33m*\u001b[0m\u001b[0margs\u001b[0m\u001b[1;33m,\u001b[0m \u001b[1;33m**\u001b[0m\u001b[0mkwargs\u001b[0m\u001b[1;33m)\u001b[0m\u001b[1;33m\u001b[0m\u001b[1;33m\u001b[0m\u001b[0m\n",
      "\u001b[1;32m~\\Anaconda3\\lib\\site-packages\\matplotlib\\axes\\_axes.py\u001b[0m in \u001b[0;36mscatter\u001b[1;34m(self, x, y, s, c, marker, cmap, norm, vmin, vmax, alpha, linewidths, verts, edgecolors, plotnonfinite, **kwargs)\u001b[0m\n\u001b[0;32m   4444\u001b[0m             self._parse_scatter_color_args(\n\u001b[0;32m   4445\u001b[0m                 \u001b[0mc\u001b[0m\u001b[1;33m,\u001b[0m \u001b[0medgecolors\u001b[0m\u001b[1;33m,\u001b[0m \u001b[0mkwargs\u001b[0m\u001b[1;33m,\u001b[0m \u001b[0mxshape\u001b[0m\u001b[1;33m,\u001b[0m \u001b[0myshape\u001b[0m\u001b[1;33m,\u001b[0m\u001b[1;33m\u001b[0m\u001b[1;33m\u001b[0m\u001b[0m\n\u001b[1;32m-> 4446\u001b[1;33m                 get_next_color_func=self._get_patches_for_fill.get_next_color)\n\u001b[0m\u001b[0;32m   4447\u001b[0m \u001b[1;33m\u001b[0m\u001b[0m\n\u001b[0;32m   4448\u001b[0m         \u001b[1;32mif\u001b[0m \u001b[0mplotnonfinite\u001b[0m \u001b[1;32mand\u001b[0m \u001b[0mcolors\u001b[0m \u001b[1;32mis\u001b[0m \u001b[1;32mNone\u001b[0m\u001b[1;33m:\u001b[0m\u001b[1;33m\u001b[0m\u001b[1;33m\u001b[0m\u001b[0m\n",
      "\u001b[1;32m~\\Anaconda3\\lib\\site-packages\\matplotlib\\axes\\_axes.py\u001b[0m in \u001b[0;36m_parse_scatter_color_args\u001b[1;34m(c, edgecolors, kwargs, xshape, yshape, get_next_color_func)\u001b[0m\n\u001b[0;32m   4288\u001b[0m                         \u001b[1;34m\"acceptable for use with 'x' with size {xs}, \"\u001b[0m\u001b[1;33m\u001b[0m\u001b[1;33m\u001b[0m\u001b[0m\n\u001b[0;32m   4289\u001b[0m                         \u001b[1;34m\"'y' with size {ys}.\"\u001b[0m\u001b[1;33m\u001b[0m\u001b[1;33m\u001b[0m\u001b[0m\n\u001b[1;32m-> 4290\u001b[1;33m                             \u001b[1;33m.\u001b[0m\u001b[0mformat\u001b[0m\u001b[1;33m(\u001b[0m\u001b[0mnc\u001b[0m\u001b[1;33m=\u001b[0m\u001b[0mn_elem\u001b[0m\u001b[1;33m,\u001b[0m \u001b[0mxs\u001b[0m\u001b[1;33m=\u001b[0m\u001b[0mxsize\u001b[0m\u001b[1;33m,\u001b[0m \u001b[0mys\u001b[0m\u001b[1;33m=\u001b[0m\u001b[0mysize\u001b[0m\u001b[1;33m)\u001b[0m\u001b[1;33m\u001b[0m\u001b[1;33m\u001b[0m\u001b[0m\n\u001b[0m\u001b[0;32m   4291\u001b[0m                     )\n\u001b[0;32m   4292\u001b[0m                 \u001b[1;32melse\u001b[0m\u001b[1;33m:\u001b[0m\u001b[1;33m\u001b[0m\u001b[1;33m\u001b[0m\u001b[0m\n",
      "\u001b[1;31mValueError\u001b[0m: 'c' argument has 2 elements, which is not acceptable for use with 'x' with size 500, 'y' with size 500."
     ]
    },
    {
     "data": {
      "image/png": "[encoded data removed]",
      "text/plain": [
       "<Figure size 648x288 with 1 Axes>"
      ]
     },
     "metadata": {},
     "output_type": "display_data"
    }
   ],
   "source": [
    "plt.figure(figsize=(9, 4))\n",
    "plt.scatter(X_T[:, 0], X_T[:, 1], color=['green','blue'])\n",
    "plt.title('Generated Data')\n",
    "plt.axis('equal');"
   ]
  },
  {
   "cell_type": "markdown",
   "metadata": {
    "collapsed": true
   },
   "source": [
    "#### This case would mean that x and y are independent (or uncorrelated) \n",
    "and the covariance matrix \n"
   ]
  },
  {
   "cell_type": "code",
   "execution_count": 35,
   "metadata": {
    "collapsed": true
   },
   "outputs": [],
   "source": [
    "# Covariance\n",
    "def cov(x, y):\n",
    "    xbar, ybar = x.mean(), y.mean()\n",
    "    return np.sum((x - xbar)*(y - ybar))/(len(x) - 1)\n",
    "\n",
    "# Covariance matrix\n",
    "def cov_mat(X):\n",
    "    return np.array([[cov(X[0], X[0]), cov(X[0], X[1])], \\\n",
    "                     [cov(X[1], X[0]), cov(X[1], X[1])]])\n"
   ]
  },
  {
   "cell_type": "code",
   "execution_count": 36,
   "metadata": {},
   "outputs": [
    {
     "name": "stdout",
     "output_type": "stream",
     "text": [
      "COV :  -0.015596786077841816\n",
      "COV Matrix : \n",
      " [[7.65999391 1.91617602]\n",
      " [1.91617602 0.47933857]]\n"
     ]
    }
   ],
   "source": [
    "# Calculate covariance matrix \n",
    "print('COV : ', cov(x, y))\n",
    "\n",
    "print('COV Matrix : \\n', cov_mat(X_T)) \n",
    "\n",
    "# (or with np.cov(X.T))"
   ]
  },
  {
   "cell_type": "code",
   "execution_count": 37,
   "metadata": {},
   "outputs": [
    {
     "data": {
      "text/plain": [
       "array([[ 2.,  2., -2., ...,  2.,  2., -2.],\n",
       "       [ 2.,  2., -2., ...,  2.,  2., -2.],\n",
       "       [-2., -2.,  2., ..., -2., -2.,  2.],\n",
       "       ...,\n",
       "       [ 2.,  2., -2., ...,  2.,  2., -2.],\n",
       "       [ 2.,  2., -2., ...,  2.,  2., -2.],\n",
       "       [-2., -2.,  2., ..., -2., -2.,  2.]])"
      ]
     },
     "execution_count": 37,
     "metadata": {},
     "output_type": "execute_result"
    }
   ],
   "source": [
    "# X.T\n",
    "np.cov(X_std.T)"
   ]
  },
  {
   "cell_type": "markdown",
   "metadata": {
    "collapsed": true
   },
   "source": [
    "#### back to iris code ...\n",
    "#### eigendecomposition on the covariance matrix"
   ]
  },
  {
   "cell_type": "code",
   "execution_count": 38,
   "metadata": {
    "collapsed": true
   },
   "outputs": [],
   "source": [
    "# eigendecomposition on the covariance matrix\n",
    "cov_mat = np.cov(X_iris_std_T)\n"
   ]
  },
  {
   "cell_type": "code",
   "execution_count": 39,
   "metadata": {},
   "outputs": [
    {
     "name": "stdout",
     "output_type": "stream",
     "text": [
      "Eigenvectors \n",
      "[[ 0.52237162 -0.37231836 -0.72101681  0.26199559]\n",
      " [-0.26335492 -0.92555649  0.24203288 -0.12413481]\n",
      " [ 0.58125401 -0.02109478  0.14089226 -0.80115427]\n",
      " [ 0.56561105 -0.06541577  0.6338014   0.52354627]]\n",
      "\n",
      "Eigenvalues \n",
      "[2.93035378 0.92740362 0.14834223 0.02074601]\n"
     ]
    }
   ],
   "source": [
    "eig_vals, eig_vecs = np.linalg.eig(cov_mat)\n",
    "\n",
    "print('Eigenvectors \\n%s' %eig_vecs)\n",
    "print('\\nEigenvalues \\n%s' %eig_vals)"
   ]
  },
  {
   "cell_type": "markdown",
   "metadata": {},
   "source": [
    "#### eigendecomposition on the correlation matrix\n",
    "on the standardize data"
   ]
  },
  {
   "cell_type": "code",
   "execution_count": 39,
   "metadata": {
    "collapsed": true
   },
   "outputs": [],
   "source": [
    "# Especially, in the field of “Finance,” the correlation matrix typically \n",
    "# used instead of the covariance matrix. \n",
    "\n",
    "# However, the eigendecomposition of the covariance matrix \n",
    "# (if the input data was standardized) yields the same results as a \n",
    "# eigendecomposition on the correlation matrix, since the correlation \n",
    "# matrix can be understood as the normalized covariance matrix."
   ]
  },
  {
   "cell_type": "code",
   "execution_count": 40,
   "metadata": {
    "collapsed": true
   },
   "outputs": [],
   "source": [
    "# correlation matrix:\n",
    "\n",
    "cor_mat1 = np.corrcoef(X_iris_std_T)"
   ]
  },
  {
   "cell_type": "code",
   "execution_count": 41,
   "metadata": {},
   "outputs": [
    {
     "name": "stdout",
     "output_type": "stream",
     "text": [
      "Eigenvectors \n",
      "[[ 0.52237162 -0.37231836 -0.72101681  0.26199559]\n",
      " [-0.26335492 -0.92555649  0.24203288 -0.12413481]\n",
      " [ 0.58125401 -0.02109478  0.14089226 -0.80115427]\n",
      " [ 0.56561105 -0.06541577  0.6338014   0.52354627]]\n",
      "\n",
      "Eigenvalues \n",
      "[2.91081808 0.92122093 0.14735328 0.02060771]\n"
     ]
    }
   ],
   "source": [
    "# Eigendecomposition of the correlation matrix\n",
    "\n",
    "eig_vals, eig_vecs = np.linalg.eig(cor_mat1)\n",
    "\n",
    "print('Eigenvectors \\n%s' %eig_vecs)\n",
    "print('\\nEigenvalues \\n%s' %eig_vals)"
   ]
  },
  {
   "cell_type": "markdown",
   "metadata": {},
   "source": [
    "#### Eigendecomposition of the raw data based on the correlation matrix:"
   ]
  },
  {
   "cell_type": "code",
   "execution_count": 42,
   "metadata": {},
   "outputs": [
    {
     "name": "stdout",
     "output_type": "stream",
     "text": [
      "Eigenvectors \n",
      "[[ 0.52237162 -0.37231836 -0.72101681  0.26199559]\n",
      " [-0.26335492 -0.92555649  0.24203288 -0.12413481]\n",
      " [ 0.58125401 -0.02109478  0.14089226 -0.80115427]\n",
      " [ 0.56561105 -0.06541577  0.6338014   0.52354627]]\n",
      "\n",
      "Eigenvalues \n",
      "[2.91081808 0.92122093 0.14735328 0.02060771]\n"
     ]
    }
   ],
   "source": [
    "cor_mat2 = np.corrcoef(X_iris.T)\n",
    "\n",
    "eig_vals, eig_vecs = np.linalg.eig(cor_mat2)\n",
    "\n",
    "print('Eigenvectors \\n%s' %eig_vecs)\n",
    "print('\\nEigenvalues \\n%s' %eig_vals)"
   ]
  },
  {
   "cell_type": "markdown",
   "metadata": {
    "collapsed": true
   },
   "source": [
    "#### We can clearly see that all three approaches yield the same \n",
    "#### eigenvectors and eigenvalue pairs:\n",
    "\n",
    "- Eigendecomposition of the covariance matrix after standardizing the data.\n",
    "- Eigendecomposition of the correlation matrix after standardizing the data.\n",
    "- Eigendecomposition of the correlation matrix on the raw data"
   ]
  },
  {
   "cell_type": "code",
   "execution_count": 259,
   "metadata": {},
   "outputs": [
    {
     "data": {
      "text/plain": [
       "array([[-0.04472136, -0.08863187,  0.04870161, ...,  0.04472136,\n",
       "         0.04551741,  0.04472136],\n",
       "       [ 0.04472136,  0.00379406,  0.02776265, ..., -0.00191439,\n",
       "         0.00402102, -0.00191439],\n",
       "       [ 0.04472136,  0.03364148,  0.99702436, ..., -0.00191439,\n",
       "        -0.00212664, -0.00191439],\n",
       "       ...,\n",
       "       [ 0.04472136,  0.00379406, -0.00208477, ...,  0.99808561,\n",
       "        -0.00194846, -0.00191439],\n",
       "       [ 0.04472136,  0.00976355, -0.00226294, ..., -0.00191439,\n",
       "         0.9980159 , -0.00191439],\n",
       "       [ 0.04472136,  0.00379406, -0.00208477, ..., -0.00191439,\n",
       "        -0.00194846,  0.99808561]])"
      ]
     },
     "execution_count": 259,
     "metadata": {},
     "output_type": "execute_result"
    }
   ],
   "source": [
    "# Singular Vector Decomposition\n",
    "# While the eigendecomposition of the covariance or correlation matrix may \n",
    "# be more intuitiuve, \n",
    "# most PCA implementations perform a Singular Vector Decomposition (SVD) to \n",
    "# improve the computational efficiency. \n",
    "# So, let us perform an SVD to confirm that the result are indeed the same:\n",
    "\n",
    "u,s,v = np.linalg.svd(X_std.T)\n",
    "u"
   ]
  },
  {
   "cell_type": "markdown",
   "metadata": {
    "collapsed": true
   },
   "source": [
    "#### Selecting Principal Components"
   ]
  },
  {
   "cell_type": "code",
   "execution_count": 260,
   "metadata": {
    "collapsed": true
   },
   "outputs": [],
   "source": [
    "# The typical goal of a PCA is to reduce the dimensionality of the original \n",
    "# feature space by projecting it onto a smaller subspace, \n",
    "# where the eigenvectors will form the axes. \n"
   ]
  },
  {
   "cell_type": "code",
   "execution_count": 261,
   "metadata": {},
   "outputs": [
    {
     "name": "stdout",
     "output_type": "stream",
     "text": [
      "Everything ok!\n"
     ]
    }
   ],
   "source": [
    "# eigenvectors only define the directions of the new axis, \n",
    "# since they have all the same unit length 1, \n",
    "# which can be confirmed by the following 2 lines of code:\n",
    "\n",
    "for ev in eig_vecs:\n",
    "    np.testing.assert_array_almost_equal(1.0, np.linalg.norm(ev))\n",
    "    \n",
    "print('Everything ok!')"
   ]
  },
  {
   "cell_type": "markdown",
   "metadata": {
    "collapsed": true
   },
   "source": [
    "In order to __decide which eigenvector(s) can dropped__ without losing \n",
    "too much information for the construction of lower-dimensional subspace, \n",
    "we need to inspect the corresponding __eigenvalues: __\n",
    "\n",
    "The eigenvectors with the lowest eigenvalues bear the least information \n",
    "about the distribution of the data; those are the ones can be dropped.\n",
    "\n",
    "In order to do so, the common approach is to rank the eigenvalues from \n",
    "highest to lowest in order choose the top k eigenvectors."
   ]
  },
  {
   "cell_type": "code",
   "execution_count": 43,
   "metadata": {
    "collapsed": true
   },
   "outputs": [],
   "source": [
    "# Make a list of (eigenvalue, eigenvector) tuples\n",
    "eig_pairs = [(np.abs(eig_vals[i]), eig_vecs[:,i]) \\\n",
    "                 for i in range(len(eig_vals))]"
   ]
  },
  {
   "cell_type": "code",
   "execution_count": 44,
   "metadata": {
    "collapsed": true
   },
   "outputs": [],
   "source": [
    "# Sort the (eigenvalue, eigenvector) tuples from high to low\n",
    "eig_pairs.sort(key=lambda x: x[0], reverse=True)"
   ]
  },
  {
   "cell_type": "code",
   "execution_count": 45,
   "metadata": {},
   "outputs": [
    {
     "name": "stdout",
     "output_type": "stream",
     "text": [
      "Eigenvalues in descending order:\n",
      "2.9108180837520528\n",
      "0.9212209307072246\n",
      "0.1473532783050965\n",
      "0.020607707235625047\n"
     ]
    }
   ],
   "source": [
    "# Visually confirm that the list is correctly sorted by decreasing eigenvalues\n",
    "print('Eigenvalues in descending order:')\n",
    "for i in eig_pairs:\n",
    "    print(i[0])"
   ]
  },
  {
   "cell_type": "code",
   "execution_count": 46,
   "metadata": {},
   "outputs": [
    {
     "data": {
      "text/plain": [
       "[2.9108180837520528,\n",
       " 0.9212209307072246,\n",
       " 0.1473532783050965,\n",
       " 0.020607707235625047]"
      ]
     },
     "execution_count": 46,
     "metadata": {},
     "output_type": "execute_result"
    }
   ],
   "source": [
    "# Another way \n",
    "sorted(eig_vals, reverse=True)"
   ]
  },
  {
   "cell_type": "code",
   "execution_count": 135,
   "metadata": {
    "collapsed": true
   },
   "outputs": [],
   "source": [
    "# Explained Variance\n",
    "# After sorting the eigenpairs, the next question is \n",
    "# “how many principal components are we going to \n",
    "# choose for our new feature subspace?” \n",
    "\n",
    "# A useful measure is the so-called “explained variance,” \n",
    "# which can be calculated from the eigenvalues. \n",
    "\n",
    "# The explained variance tells us how much information (variance) can be \n",
    "# attributed to each of the principal components."
   ]
  },
  {
   "cell_type": "code",
   "execution_count": 47,
   "metadata": {
    "collapsed": true
   },
   "outputs": [],
   "source": [
    "tot = sum(eig_vals)\n",
    "\n",
    "explained_variance = [(i / tot)*100 for i in sorted(eig_vals, reverse=True)]\n",
    "\n",
    "cum_explained_variance = np.cumsum(explained_variance)\n"
   ]
  },
  {
   "cell_type": "code",
   "execution_count": 48,
   "metadata": {},
   "outputs": [
    {
     "data": {
      "text/plain": [
       "[72.77045209380132, 23.030523267680618, 3.6838319576274134, 0.5151926808906262]"
      ]
     },
     "execution_count": 48,
     "metadata": {},
     "output_type": "execute_result"
    }
   ],
   "source": [
    "explained_variance"
   ]
  },
  {
   "cell_type": "code",
   "execution_count": 49,
   "metadata": {},
   "outputs": [
    {
     "data": {
      "text/plain": [
       "array([ 72.77045209,  95.80097536,  99.48480732, 100.        ])"
      ]
     },
     "execution_count": 49,
     "metadata": {},
     "output_type": "execute_result"
    }
   ],
   "source": [
    "cum_explained_variance"
   ]
  },
  {
   "cell_type": "code",
   "execution_count": 50,
   "metadata": {},
   "outputs": [
    {
     "data": {
      "image/png": "[encoded data removed]",
      "text/plain": [
       "<matplotlib.figure.Figure at 0x28829633400>"
      ]
     },
     "metadata": {},
     "output_type": "display_data"
    }
   ],
   "source": [
    "plt.figure(figsize=(9, 6))\n",
    "\n",
    "plt.bar(range(4), \n",
    "        explained_variance, \n",
    "        alpha=0.5, \n",
    "        align='center',\n",
    "        label='individual explained variance')\n",
    "\n",
    "plt.step(range(4), \n",
    "         cum_explained_variance, \n",
    "         where='mid',\n",
    "         color='g',\n",
    "         label='cumulative explained variance')\n",
    "\n",
    "plt.ylabel('Explained variance ratio')\n",
    "plt.xlabel('Principal components')\n",
    "plt.legend(loc='best')\n",
    "plt.tight_layout()"
   ]
  },
  {
   "cell_type": "markdown",
   "metadata": {
    "collapsed": true
   },
   "source": [
    "- The plot above clearly shows that most of the variance (72.77% of the variance to be precise) can be explained by the first principal component alone. \n",
    "\n",
    "- The second principal component still bears some information (23.03%) \n",
    "\n",
    "- while the third and fourth principal components can safely be dropped without losing to much information. \n",
    "\n",
    "- Together, the first 2 principal components contain 95.8% of the information."
   ]
  },
  {
   "cell_type": "markdown",
   "metadata": {
    "collapsed": true
   },
   "source": [
    "#### Projection Matrix"
   ]
  },
  {
   "cell_type": "code",
   "execution_count": 70,
   "metadata": {
    "collapsed": true
   },
   "outputs": [],
   "source": [
    "# It’s about time to get to the really interesting part: \n",
    "\n",
    "# The construction of the projection matrix that will be used to transform \n",
    "# the Iris data onto the new feature subspace. \n",
    "\n",
    "# basically just a matrix of the concatenated top k eigenvectors."
   ]
  },
  {
   "cell_type": "code",
   "execution_count": 71,
   "metadata": {
    "collapsed": true
   },
   "outputs": [],
   "source": [
    "# Here, we are reducing the 4-dimensional feature space to a 2-dimensional \n",
    "# feature subspace, by choosing the “top 2” eigenvectors with the highest \n",
    "# eigenvalues to construct our d×k-dimensional eigenvector matrix W."
   ]
  },
  {
   "cell_type": "code",
   "execution_count": 72,
   "metadata": {},
   "outputs": [
    {
     "data": {
      "text/plain": [
       "[(2.9108180837520528,\n",
       "  array([ 0.52237162, -0.26335492,  0.58125401,  0.56561105])),\n",
       " (0.9212209307072246,\n",
       "  array([-0.37231836, -0.92555649, -0.02109478, -0.06541577])),\n",
       " (0.1473532783050965,\n",
       "  array([-0.72101681,  0.24203288,  0.14089226,  0.6338014 ])),\n",
       " (0.020607707235625047,\n",
       "  array([ 0.26199559, -0.12413481, -0.80115427,  0.52354627]))]"
      ]
     },
     "execution_count": 72,
     "metadata": {},
     "output_type": "execute_result"
    }
   ],
   "source": [
    "eig_pairs"
   ]
  },
  {
   "cell_type": "code",
   "execution_count": 271,
   "metadata": {},
   "outputs": [
    {
     "name": "stdout",
     "output_type": "stream",
     "text": [
      "[ 0.52237162 -0.26335492  0.58125401  0.56561105]\n",
      "[-0.37231836 -0.92555649 -0.02109478 -0.06541577]\n",
      "[-0.72101681  0.24203288  0.14089226  0.6338014 ]\n",
      "[ 0.26199559 -0.12413481 -0.80115427  0.52354627]\n"
     ]
    }
   ],
   "source": [
    "print(eig_pairs[0][1])\n",
    "print(eig_pairs[1][1])\n",
    "print(eig_pairs[2][1])\n",
    "print(eig_pairs[3][1])"
   ]
  },
  {
   "cell_type": "code",
   "execution_count": 272,
   "metadata": {
    "collapsed": true
   },
   "outputs": [],
   "source": [
    "eig_pairs_save = eig_pairs"
   ]
  },
  {
   "cell_type": "code",
   "execution_count": 273,
   "metadata": {},
   "outputs": [
    {
     "data": {
      "text/plain": [
       "[(2.9108180837520528,\n",
       "  array([ 0.52237162, -0.26335492,  0.58125401,  0.56561105])),\n",
       " (0.9212209307072246,\n",
       "  array([-0.37231836, -0.92555649, -0.02109478, -0.06541577])),\n",
       " (0.1473532783050965,\n",
       "  array([-0.72101681,  0.24203288,  0.14089226,  0.6338014 ])),\n",
       " (0.020607707235625047,\n",
       "  array([ 0.26199559, -0.12413481, -0.80115427,  0.52354627]))]"
      ]
     },
     "execution_count": 273,
     "metadata": {},
     "output_type": "execute_result"
    }
   ],
   "source": [
    "eig_pairs_save"
   ]
  },
  {
   "cell_type": "code",
   "execution_count": 274,
   "metadata": {},
   "outputs": [
    {
     "name": "stdout",
     "output_type": "stream",
     "text": [
      "[ 0.52237162 -0.26335492  0.58125401  0.56561105]\n",
      "[-0.37231836 -0.92555649 -0.02109478 -0.06541577]\n"
     ]
    }
   ],
   "source": [
    "print(eig_pairs_save[0][1])\n",
    "print(eig_pairs_save[1][1])"
   ]
  },
  {
   "cell_type": "code",
   "execution_count": 275,
   "metadata": {},
   "outputs": [
    {
     "name": "stdout",
     "output_type": "stream",
     "text": [
      "Matrix W:\n",
      " [[ 0.52237162 -0.37231836]\n",
      " [-0.26335492 -0.92555649]\n",
      " [ 0.58125401 -0.02109478]\n",
      " [ 0.56561105 -0.06541577]]\n"
     ]
    }
   ],
   "source": [
    "matrix_w = np.hstack((eig_pairs[0][1].reshape(4,1),\n",
    "                      eig_pairs[1][1].reshape(4,1)))\n",
    "\n",
    "print('Matrix W:\\n', matrix_w)"
   ]
  },
  {
   "cell_type": "code",
   "execution_count": 276,
   "metadata": {
    "collapsed": true
   },
   "outputs": [],
   "source": [
    "# Projection Onto the New Feature Space\n",
    "\n",
    "# use the 4×2-dimensional projection matrix W to transform our samples \n",
    "# onto the new subspace via the equation"
   ]
  },
  {
   "cell_type": "code",
   "execution_count": 277,
   "metadata": {
    "collapsed": true
   },
   "outputs": [],
   "source": [
    "# Y = X×W , where Y is a 150×2 matrix of our transformed samples.\n",
    "\n",
    "# X = 150 x 4\n",
    "# W = 4 x 2\n"
   ]
  },
  {
   "cell_type": "code",
   "execution_count": 278,
   "metadata": {
    "collapsed": true
   },
   "outputs": [],
   "source": [
    "Y = X_iris_std.dot(matrix_w)"
   ]
  },
  {
   "cell_type": "code",
   "execution_count": 279,
   "metadata": {},
   "outputs": [
    {
     "data": {
      "image/png": "[encoded data removed]",
      "text/plain": [
       "<matplotlib.figure.Figure at 0x12ad4c2a358>"
      ]
     },
     "metadata": {},
     "output_type": "display_data"
    }
   ],
   "source": [
    "plt.figure(figsize=(9, 6))\n",
    "for lab, col in zip(('Iris-setosa', 'Iris-versicolor', 'Iris-virginica'),\n",
    "                    ('blue',        'red',             'green')):\n",
    "    \n",
    "    plt.scatter(Y[y_iris==lab, 0],\n",
    "                Y[y_iris==lab, 1],\n",
    "                label=lab,\n",
    "                c=col)\n",
    "    \n",
    "plt.xlabel('Principal Component 1')\n",
    "plt.ylabel('Principal Component 2')\n",
    "plt.legend(loc='lower center')\n",
    "plt.tight_layout()"
   ]
  },
  {
   "cell_type": "markdown",
   "metadata": {
    "collapsed": true
   },
   "source": [
    "#### PCA in scikit-learn\n",
    "- For training/demo purposes, we went a long way to apply the PCA to the Iris dataset. \n",
    "\n",
    "- this is already implemented insci-kit learn. !!!"
   ]
  },
  {
   "cell_type": "code",
   "execution_count": 280,
   "metadata": {
    "collapsed": true
   },
   "outputs": [],
   "source": [
    "# split data table into data X and class labels y\n",
    "\n",
    "X = df.iloc[:,0:4].values\n",
    "y = df.iloc[:,4].values"
   ]
  },
  {
   "cell_type": "code",
   "execution_count": 281,
   "metadata": {
    "collapsed": true
   },
   "outputs": [],
   "source": [
    "X_train, X_test, y_train, y_test = train_test_split(X, y, test_size=0.2, random_state=0)  "
   ]
  },
  {
   "cell_type": "code",
   "execution_count": 282,
   "metadata": {
    "collapsed": true
   },
   "outputs": [],
   "source": [
    "sc = StandardScaler()  \n",
    "X_train = sc.fit_transform(X_train)  \n",
    "X_test = sc.transform(X_test)  "
   ]
  },
  {
   "cell_type": "code",
   "execution_count": 122,
   "metadata": {
    "collapsed": true
   },
   "outputs": [],
   "source": [
    "# Applying PCA"
   ]
  },
  {
   "cell_type": "code",
   "execution_count": 283,
   "metadata": {
    "collapsed": true
   },
   "outputs": [],
   "source": [
    "# We did not specify the number of components in the constructor. \n",
    "# Hence, all four of the features in the feature set will be returned for both the training and \n",
    "# test sets.\n",
    "pca = PCA()  \n"
   ]
  },
  {
   "cell_type": "code",
   "execution_count": 284,
   "metadata": {
    "collapsed": true
   },
   "outputs": [],
   "source": [
    "X_train = pca.fit_transform(X_train)  \n",
    "X_test = pca.transform(X_test)  "
   ]
  },
  {
   "cell_type": "code",
   "execution_count": 125,
   "metadata": {
    "collapsed": true
   },
   "outputs": [],
   "source": [
    "# The PCA class contains explained_variance_ratio_ which returns the variance caused by each of the \n",
    "# principal components. "
   ]
  },
  {
   "cell_type": "code",
   "execution_count": 285,
   "metadata": {},
   "outputs": [
    {
     "data": {
      "text/plain": [
       "array([0.72226528, 0.23974795, 0.03338117, 0.0046056 ])"
      ]
     },
     "execution_count": 285,
     "metadata": {},
     "output_type": "execute_result"
    }
   ],
   "source": [
    "explained_variance = pca.explained_variance_ratio_  \n",
    "explained_variance"
   ]
  },
  {
   "cell_type": "code",
   "execution_count": 127,
   "metadata": {
    "collapsed": true
   },
   "outputs": [],
   "source": [
    "# first principal component is responsible for 72.22% variance. \n",
    "# Similarly, the second principal component causes 23.9% variance in the dataset. \n",
    "# Collectively we can say that (72.22 + 23.9) 96.21% percent of the classification information \n",
    "# contained in the feature set is captured by the first two principal components."
   ]
  },
  {
   "cell_type": "markdown",
   "metadata": {
    "collapsed": true
   },
   "source": [
    "#### Let's first try to use 1 principal component to train our algorithm. "
   ]
  },
  {
   "cell_type": "code",
   "execution_count": 129,
   "metadata": {
    "collapsed": true
   },
   "outputs": [],
   "source": [
    "pca = PCA(n_components=1)  \n",
    "X_train = pca.fit_transform(X_train)  \n",
    "X_test = pca.transform(X_test)  "
   ]
  },
  {
   "cell_type": "code",
   "execution_count": 130,
   "metadata": {
    "collapsed": true
   },
   "outputs": [],
   "source": [
    "# Training and Making Predictions"
   ]
  },
  {
   "cell_type": "code",
   "execution_count": 131,
   "metadata": {},
   "outputs": [
    {
     "name": "stderr",
     "output_type": "stream",
     "text": [
      "C:\\Anaconda3\\lib\\site-packages\\sklearn\\ensemble\\forest.py:246: FutureWarning: The default value of n_estimators will change from 10 in version 0.20 to 100 in 0.22.\n",
      "  \"10 in version 0.20 to 100 in 0.22.\", FutureWarning)\n"
     ]
    }
   ],
   "source": [
    "classifier = RandomForestClassifier(max_depth=2, random_state=0)  \n",
    "classifier.fit(X_train, y_train)\n",
    "\n",
    "# Predicting the Test set results\n",
    "y_pred = classifier.predict(X_test)  "
   ]
  },
  {
   "cell_type": "code",
   "execution_count": 132,
   "metadata": {},
   "outputs": [
    {
     "name": "stdout",
     "output_type": "stream",
     "text": [
      "[[11  0  0]\n",
      " [ 0 12  1]\n",
      " [ 0  1  5]]\n",
      "Accuracy :  0.9333333333333333\n"
     ]
    }
   ],
   "source": [
    "cm = confusion_matrix(y_test, y_pred)  \n",
    "print(cm)  \n",
    "print('Accuracy : ' ,metrics.accuracy_score(y_test, y_pred))"
   ]
  },
  {
   "cell_type": "code",
   "execution_count": 133,
   "metadata": {
    "collapsed": true
   },
   "outputs": [],
   "source": [
    "# It can be seen from the output that with only one feature, the random forest algorithm is \n",
    "# able to correctly predict 28 out of 30 instances, \n",
    "# resulting in 93.33% accuracy."
   ]
  },
  {
   "cell_type": "markdown",
   "metadata": {
    "collapsed": true
   },
   "source": [
    "#### Results with 2 and 3 Principal Components"
   ]
  },
  {
   "cell_type": "code",
   "execution_count": 134,
   "metadata": {
    "collapsed": true
   },
   "outputs": [],
   "source": [
    "X_train, X_test, y_train, y_test = train_test_split(X, y, test_size=0.2, random_state=0)  \n",
    "\n",
    "sc = StandardScaler()  \n",
    "X_train = sc.fit_transform(X_train)  \n",
    "X_test = sc.transform(X_test)  "
   ]
  },
  {
   "cell_type": "code",
   "execution_count": 135,
   "metadata": {
    "collapsed": true
   },
   "outputs": [],
   "source": [
    "pca = PCA(n_components=2)  \n",
    "X_train = pca.fit_transform(X_train)  \n",
    "X_test = pca.transform(X_test)  "
   ]
  },
  {
   "cell_type": "code",
   "execution_count": 136,
   "metadata": {},
   "outputs": [
    {
     "name": "stdout",
     "output_type": "stream",
     "text": [
      "[[11  0  0]\n",
      " [ 0 10  3]\n",
      " [ 0  2  4]]\n",
      "Accuracy :  0.8333333333333334\n"
     ]
    },
    {
     "name": "stderr",
     "output_type": "stream",
     "text": [
      "C:\\Anaconda3\\lib\\site-packages\\sklearn\\ensemble\\forest.py:246: FutureWarning: The default value of n_estimators will change from 10 in version 0.20 to 100 in 0.22.\n",
      "  \"10 in version 0.20 to 100 in 0.22.\", FutureWarning)\n"
     ]
    }
   ],
   "source": [
    "classifier = RandomForestClassifier(max_depth=2, random_state=0)  \n",
    "classifier.fit(X_train, y_train)\n",
    "\n",
    "# Predicting the Test set results\n",
    "y_pred = classifier.predict(X_test)  \n",
    "\n",
    "cm = confusion_matrix(y_test, y_pred)  \n",
    "print(cm)  \n",
    "print('Accuracy : ' ,metrics.accuracy_score(y_test, y_pred))"
   ]
  },
  {
   "cell_type": "markdown",
   "metadata": {
    "collapsed": true
   },
   "source": [
    " With 2 principal components the classification accuracy decreases to 83.33% compared to \n",
    " 93.33% for 1 component."
   ]
  },
  {
   "cell_type": "markdown",
   "metadata": {
    "collapsed": true
   },
   "source": [
    "#### with 3 PC"
   ]
  },
  {
   "cell_type": "code",
   "execution_count": 137,
   "metadata": {},
   "outputs": [
    {
     "name": "stdout",
     "output_type": "stream",
     "text": [
      "[[11  0  0]\n",
      " [ 0 12  1]\n",
      " [ 0  1  5]]\n",
      "Accuracy :  0.9333333333333333\n"
     ]
    },
    {
     "name": "stderr",
     "output_type": "stream",
     "text": [
      "C:\\Anaconda3\\lib\\site-packages\\sklearn\\ensemble\\forest.py:246: FutureWarning: The default value of n_estimators will change from 10 in version 0.20 to 100 in 0.22.\n",
      "  \"10 in version 0.20 to 100 in 0.22.\", FutureWarning)\n"
     ]
    }
   ],
   "source": [
    "X_train, X_test, y_train, y_test = train_test_split(X, y, test_size=0.2, random_state=0)  \n",
    "\n",
    "sc = StandardScaler()  \n",
    "X_train = sc.fit_transform(X_train)  \n",
    "X_test = sc.transform(X_test)  \n",
    "\n",
    "pca = PCA(n_components=3)  \n",
    "X_train = pca.fit_transform(X_train)  \n",
    "X_test = pca.transform(X_test)  \n",
    "\n",
    "classifier = RandomForestClassifier(max_depth=2, random_state=0)  \n",
    "classifier.fit(X_train, y_train)\n",
    "\n",
    "# Predicting the Test set results\n",
    "y_pred = classifier.predict(X_test)  \n",
    "\n",
    "cm = confusion_matrix(y_test, y_pred)  \n",
    "print(cm)  \n",
    "print('Accuracy : ' ,metrics.accuracy_score(y_test, y_pred))"
   ]
  },
  {
   "cell_type": "code",
   "execution_count": 138,
   "metadata": {},
   "outputs": [
    {
     "name": "stdout",
     "output_type": "stream",
     "text": [
      "[[11  0  0]\n",
      " [ 0 10  3]\n",
      " [ 0  1  5]]\n",
      "Accuracy :  0.8666666666666667\n"
     ]
    },
    {
     "name": "stderr",
     "output_type": "stream",
     "text": [
      "C:\\Anaconda3\\lib\\site-packages\\sklearn\\ensemble\\forest.py:246: FutureWarning: The default value of n_estimators will change from 10 in version 0.20 to 100 in 0.22.\n",
      "  \"10 in version 0.20 to 100 in 0.22.\", FutureWarning)\n"
     ]
    }
   ],
   "source": [
    "X_train, X_test, y_train, y_test = train_test_split(X, y, test_size=0.2, random_state=0)  \n",
    "\n",
    "sc = StandardScaler()  \n",
    "X_train = sc.fit_transform(X_train)  \n",
    "X_test = sc.transform(X_test)  \n",
    "\n",
    "pca = PCA(n_components=4)  \n",
    "X_train = pca.fit_transform(X_train)  \n",
    "X_test = pca.transform(X_test)  \n",
    "\n",
    "classifier = RandomForestClassifier(max_depth=2, random_state=0)  \n",
    "classifier.fit(X_train, y_train)\n",
    "\n",
    "# Predicting the Test set results\n",
    "y_pred = classifier.predict(X_test)  \n",
    "\n",
    "cm = confusion_matrix(y_test, y_pred)  \n",
    "print(cm)  \n",
    "print('Accuracy : ' ,metrics.accuracy_score(y_test, y_pred))"
   ]
  },
  {
   "cell_type": "code",
   "execution_count": null,
   "metadata": {
    "collapsed": true
   },
   "outputs": [],
   "source": []
  },
  {
   "cell_type": "code",
   "execution_count": null,
   "metadata": {
    "collapsed": true
   },
   "outputs": [],
   "source": []
  }
 ],
 "metadata": {
  "kernelspec": {
   "display_name": "Python 3",
   "language": "python",
   "name": "python3"
  },
  "language_info": {
   "codemirror_mode": {
    "name": "ipython",
    "version": 3
   },
   "file_extension": ".py",
   "mimetype": "text/x-python",
   "name": "python",
   "nbconvert_exporter": "python",
   "pygments_lexer": "ipython3",
   "version": "3.7.3"
  }
 },
 "nbformat": 4,
 "nbformat_minor": 2
}
