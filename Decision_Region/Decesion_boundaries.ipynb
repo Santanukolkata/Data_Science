{
  "nbformat": 4,
  "nbformat_minor": 0,
  "metadata": {
    "colab": {
      "name": "Decesion_boundaries.ipynb",
      "provenance": [],
      "collapsed_sections": [],
      "authorship_tag": "ABX9TyM0uFd9WPvxqsqkStMS3gI1",
      "include_colab_link": true
    },
    "kernelspec": {
      "name": "python3",
      "display_name": "Python 3"
    }
  },
  "cells": [
    {
      "cell_type": "markdown",
      "metadata": {
        "id": "view-in-github",
        "colab_type": "text"
      },
      "source": [
        "<a href=\"https://colab.research.google.com/github/Santanukolkata/Data_Science/blob/master/Decision_Region/Decesion_boundaries.ipynb\" target=\"_parent\"><img src=\"https://colab.research.google.com/assets/colab-badge.svg\" alt=\"Open In Colab\"/></a>"
      ]
    },
    {
      "cell_type": "code",
      "metadata": {
        "id": "OUayGhBINzHP",
        "colab_type": "code",
        "colab": {}
      },
      "source": [
        "import numpy as np\n",
        "from matplotlib import pyplot as plt\n",
        "from sklearn import neighbors, datasets\n",
        "from matplotlib.colors import ListedColormap\n",
        "from mlxtend.plotting import plot_decision_regions\n",
        "from sklearn.linear_model import LogisticRegression\n",
        "from sklearn.tree import DecisionTreeClassifier"
      ],
      "execution_count": 0,
      "outputs": []
    },
    {
      "cell_type": "code",
      "metadata": {
        "id": "1n_7sCdQN5CK",
        "colab_type": "code",
        "colab": {
          "base_uri": "https://localhost:8080/",
          "height": 34
        },
        "outputId": "8fb91b97-e0ea-4815-fa60-77015100a3dd"
      },
      "source": [
        "iris = datasets.load_iris()\n",
        "X = iris.data[:, 2:4]  # we only take the first two features.\n",
        "Y = iris.target\n",
        "X_NAMES=iris.feature_names[2:4]\n",
        "X_NAMES"
      ],
      "execution_count": 54,
      "outputs": [
        {
          "output_type": "execute_result",
          "data": {
            "text/plain": [
              "['petal length (cm)', 'petal width (cm)']"
            ]
          },
          "metadata": {
            "tags": []
          },
          "execution_count": 54
        }
      ]
    },
    {
      "cell_type": "code",
      "metadata": {
        "id": "-57mDgT9OGfC",
        "colab_type": "code",
        "colab": {}
      },
      "source": [
        "logreg = LogisticRegression(C=1e5, solver='lbfgs', multi_class='multinomial')"
      ],
      "execution_count": 0,
      "outputs": []
    },
    {
      "cell_type": "code",
      "metadata": {
        "id": "8vxzcgz_OLoO",
        "colab_type": "code",
        "colab": {
          "base_uri": "https://localhost:8080/",
          "height": 102
        },
        "outputId": "45b8c6f2-0ee3-4e02-dab4-67c08f3a9e27"
      },
      "source": [
        "logreg.fit(X, Y)"
      ],
      "execution_count": 42,
      "outputs": [
        {
          "output_type": "execute_result",
          "data": {
            "text/plain": [
              "LogisticRegression(C=100000.0, class_weight=None, dual=False,\n",
              "                   fit_intercept=True, intercept_scaling=1, l1_ratio=None,\n",
              "                   max_iter=100, multi_class='multinomial', n_jobs=None,\n",
              "                   penalty='l2', random_state=None, solver='lbfgs', tol=0.0001,\n",
              "                   verbose=0, warm_start=False)"
            ]
          },
          "metadata": {
            "tags": []
          },
          "execution_count": 42
        }
      ]
    },
    {
      "cell_type": "code",
      "metadata": {
        "id": "cfdnSmv6OSr5",
        "colab_type": "code",
        "colab": {}
      },
      "source": [
        "x_min, x_max = X[:, 0].min() - .5, X[:, 0].max() + .5\n",
        "y_min, y_max = X[:, 1].min() - .5, X[:, 1].max() + .5"
      ],
      "execution_count": 0,
      "outputs": []
    },
    {
      "cell_type": "code",
      "metadata": {
        "id": "2TFLW1JbOYr0",
        "colab_type": "code",
        "colab": {
          "base_uri": "https://localhost:8080/",
          "height": 34
        },
        "outputId": "b9c79d55-2041-408e-d35c-2a01705d5139"
      },
      "source": [
        "x_min,x_max,y_min,y_max"
      ],
      "execution_count": 44,
      "outputs": [
        {
          "output_type": "execute_result",
          "data": {
            "text/plain": [
              "(0.5, 7.4, -0.4, 3.0)"
            ]
          },
          "metadata": {
            "tags": []
          },
          "execution_count": 44
        }
      ]
    },
    {
      "cell_type": "code",
      "metadata": {
        "id": "WlPcFfWgOaAE",
        "colab_type": "code",
        "colab": {}
      },
      "source": [
        "h = .01  # step size in the mesh"
      ],
      "execution_count": 0,
      "outputs": []
    },
    {
      "cell_type": "code",
      "metadata": {
        "id": "F-G8v3XyOj2t",
        "colab_type": "code",
        "colab": {}
      },
      "source": [
        "xx, yy = np.meshgrid(np.arange(x_min, x_max, h), np.arange(y_min, y_max, h))"
      ],
      "execution_count": 0,
      "outputs": []
    },
    {
      "cell_type": "code",
      "metadata": {
        "id": "vkACiBvzOrsV",
        "colab_type": "code",
        "colab": {}
      },
      "source": [
        "Z = logreg.predict(np.c_[xx.ravel(), yy.ravel()])"
      ],
      "execution_count": 0,
      "outputs": []
    },
    {
      "cell_type": "code",
      "metadata": {
        "id": "CxU0uPFnO6fd",
        "colab_type": "code",
        "colab": {
          "base_uri": "https://localhost:8080/",
          "height": 34
        },
        "outputId": "ec5b4884-0c92-4564-cea8-f47ffe1fe903"
      },
      "source": [
        "Z"
      ],
      "execution_count": 48,
      "outputs": [
        {
          "output_type": "execute_result",
          "data": {
            "text/plain": [
              "array([0, 0, 0, ..., 2, 2, 2])"
            ]
          },
          "metadata": {
            "tags": []
          },
          "execution_count": 48
        }
      ]
    },
    {
      "cell_type": "code",
      "metadata": {
        "id": "e2VMPV-JO91N",
        "colab_type": "code",
        "colab": {
          "base_uri": "https://localhost:8080/",
          "height": 136
        },
        "outputId": "34ca13a4-ea2a-4631-c918-e55efc72c217"
      },
      "source": [
        "xx"
      ],
      "execution_count": 49,
      "outputs": [
        {
          "output_type": "execute_result",
          "data": {
            "text/plain": [
              "array([[0.5 , 0.51, 0.52, ..., 7.37, 7.38, 7.39],\n",
              "       [0.5 , 0.51, 0.52, ..., 7.37, 7.38, 7.39],\n",
              "       [0.5 , 0.51, 0.52, ..., 7.37, 7.38, 7.39],\n",
              "       ...,\n",
              "       [0.5 , 0.51, 0.52, ..., 7.37, 7.38, 7.39],\n",
              "       [0.5 , 0.51, 0.52, ..., 7.37, 7.38, 7.39],\n",
              "       [0.5 , 0.51, 0.52, ..., 7.37, 7.38, 7.39]])"
            ]
          },
          "metadata": {
            "tags": []
          },
          "execution_count": 49
        }
      ]
    },
    {
      "cell_type": "code",
      "metadata": {
        "id": "ODLj5LfYPAKv",
        "colab_type": "code",
        "colab": {
          "base_uri": "https://localhost:8080/",
          "height": 388
        },
        "outputId": "179cfeaa-34f4-4c77-faea-19f34e209165"
      },
      "source": [
        "Z = Z.reshape(xx.shape)\n",
        "\n",
        "plt.figure(1, figsize=(12, 6))\n",
        "plt.pcolormesh(xx, yy, Z, cmap=plt.cm.Paired)\n",
        "\n",
        "# Plot also the training points\n",
        "#plt.scatter(X[:, 0], X[:, 1], c=Y, edgecolors='k')\n",
        "plt.scatter(X[:, 0], X[:, 1], c=Y, edgecolors='k', cmap=plt.cm.Paired)\n",
        "plt.xlabel(X_NAMES[0])\n",
        "plt.ylabel(X_NAMES[1])\n",
        "\n",
        "plt.xlim(xx.min(), xx.max())\n",
        "plt.ylim(yy.min(), yy.max())\n",
        "plt.xticks(())\n",
        "plt.yticks(())"
      ],
      "execution_count": 55,
      "outputs": [
        {
          "output_type": "execute_result",
          "data": {
            "text/plain": [
              "([], <a list of 0 Text major ticklabel objects>)"
            ]
          },
          "metadata": {
            "tags": []
          },
          "execution_count": 55
        },
        {
          "output_type": "display_data",
          "data": {
            "image/png": "[encoded data removed]",
            "text/plain": [
              "<Figure size 864x432 with 1 Axes>"
            ]
          },
          "metadata": {
            "tags": []
          }
        }
      ]
    },
    {
      "cell_type": "code",
      "metadata": {
        "id": "NsYbfn2QPlLN",
        "colab_type": "code",
        "colab": {
          "base_uri": "https://localhost:8080/",
          "height": 68
        },
        "outputId": "b216dc50-8aa8-47e3-ec6b-8b618aad93a4"
      },
      "source": [
        "knn = neighbors.KNeighborsClassifier(n_neighbors=1)\n",
        "knn.fit(X, Y)"
      ],
      "execution_count": 57,
      "outputs": [
        {
          "output_type": "execute_result",
          "data": {
            "text/plain": [
              "KNeighborsClassifier(algorithm='auto', leaf_size=30, metric='minkowski',\n",
              "                     metric_params=None, n_jobs=None, n_neighbors=1, p=2,\n",
              "                     weights='uniform')"
            ]
          },
          "metadata": {
            "tags": []
          },
          "execution_count": 57
        }
      ]
    },
    {
      "cell_type": "code",
      "metadata": {
        "id": "qawHy0e9SJtT",
        "colab_type": "code",
        "colab": {}
      },
      "source": [
        "Z = knn.predict(np.c_[xx.ravel(), yy.ravel()])"
      ],
      "execution_count": 0,
      "outputs": []
    },
    {
      "cell_type": "code",
      "metadata": {
        "id": "NzTKAze8SaVw",
        "colab_type": "code",
        "colab": {
          "base_uri": "https://localhost:8080/",
          "height": 388
        },
        "outputId": "f0f4dc4f-e23b-4c25-d91c-3d01df51ae03"
      },
      "source": [
        "Z = Z.reshape(xx.shape)\n",
        "\n",
        "plt.figure(1, figsize=(12, 6))\n",
        "plt.pcolormesh(xx, yy, Z, cmap=plt.cm.Paired)\n",
        "\n",
        "# Plot also the training points\n",
        "#plt.scatter(X[:, 0], X[:, 1], c=Y, edgecolors='k')\n",
        "plt.scatter(X[:, 0], X[:, 1], c=Y, edgecolors='k', cmap=plt.cm.Paired)\n",
        "plt.xlabel(X_NAMES[0])\n",
        "plt.ylabel(X_NAMES[1])\n",
        "\n",
        "plt.xlim(xx.min(), xx.max())\n",
        "plt.ylim(yy.min(), yy.max())\n",
        "plt.xticks(())\n",
        "plt.yticks(())"
      ],
      "execution_count": 60,
      "outputs": [
        {
          "output_type": "execute_result",
          "data": {
            "text/plain": [
              "([], <a list of 0 Text major ticklabel objects>)"
            ]
          },
          "metadata": {
            "tags": []
          },
          "execution_count": 60
        },
        {
          "output_type": "display_data",
          "data": {
            "image/png": "[encoded data removed]",
            "text/plain": [
              "<Figure size 864x432 with 1 Axes>"
            ]
          },
          "metadata": {
            "tags": []
          }
        }
      ]
    },
    {
      "cell_type": "code",
      "metadata": {
        "id": "zkO8duslSwlR",
        "colab_type": "code",
        "colab": {}
      },
      "source": [
        ""
      ],
      "execution_count": 0,
      "outputs": []
    }
  ]
}