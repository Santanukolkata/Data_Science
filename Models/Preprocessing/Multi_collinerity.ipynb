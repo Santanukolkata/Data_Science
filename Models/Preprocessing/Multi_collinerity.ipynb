{
  "nbformat": 4,
  "nbformat_minor": 0,
  "metadata": {
    "kernelspec": {
      "display_name": "Python 3",
      "language": "python",
      "name": "python3"
    },
    "language_info": {
      "codemirror_mode": {
        "name": "ipython",
        "version": 3
      },
      "file_extension": ".py",
      "mimetype": "text/x-python",
      "name": "python",
      "nbconvert_exporter": "python",
      "pygments_lexer": "ipython3",
      "version": "3.7.3"
    },
    "colab": {
      "name": "Multi_collinerity.ipynb",
      "provenance": [],
      "collapsed_sections": [],
      "include_colab_link": true
    }
  },
  "cells": [
    {
      "cell_type": "markdown",
      "metadata": {
        "id": "view-in-github",
        "colab_type": "text"
      },
      "source": [
        "<a href=\"https://colab.research.google.com/github/Santanukolkata/Data_Science/blob/master/Models/Preprocessing/Multi_collinerity.ipynb\" target=\"_parent\"><img src=\"https://colab.research.google.com/assets/colab-badge.svg\" alt=\"Open In Colab\"/></a>"
      ]
    },
    {
      "cell_type": "code",
      "metadata": {
        "id": "olnfhZhrR0eW",
        "colab_type": "code",
        "colab": {}
      },
      "source": [
        "import time\n",
        "import random\n",
        "from math import *\n",
        "import operator\n",
        "\n",
        "import pandas as pd\n",
        "import numpy as np\n",
        "np.set_printoptions(precision=4)\n",
        "\n",
        "# import plotting libraries\n",
        "import matplotlib\n",
        "import matplotlib.pyplot as plt\n",
        "\n",
        "from matplotlib import style\n",
        "%matplotlib inline \n",
        "\n",
        "import seaborn as sns\n",
        "sns.set(style=\"white\", color_codes=True)\n",
        "sns.set(font_scale=1.5)\n",
        "\n",
        "from sklearn.datasets import load_boston\n",
        "\n",
        "from scipy.stats import shapiro\n",
        "\n",
        "# import the ML algorithm\n",
        "from sklearn.linear_model import LinearRegression\n",
        "\n",
        "# import libraries for model validation\n",
        "from sklearn.model_selection import StratifiedKFold\n",
        "from sklearn.model_selection import KFold\n",
        "from sklearn.model_selection import ShuffleSplit\n",
        "from sklearn.model_selection import cross_val_score\n",
        "from sklearn.model_selection import train_test_split\n",
        "from sklearn.model_selection import LeaveOneOut \n",
        "\n",
        "# import libraries for metrics and reporting\n",
        "from sklearn.metrics import confusion_matrix\n",
        "from sklearn.metrics import classification_report\n",
        "from sklearn.metrics import accuracy_score\n",
        "from sklearn.metrics import precision_score\n",
        "from sklearn.metrics import recall_score\n",
        "from sklearn.metrics import f1_score\n",
        "from sklearn import metrics\n",
        "from sklearn.metrics import classification_report\n",
        "from sklearn.metrics import roc_curve, auc\n",
        "from sklearn.metrics import adjusted_rand_score"
      ],
      "execution_count": 0,
      "outputs": []
    },
    {
      "cell_type": "markdown",
      "metadata": {
        "id": "Er0Nc6OYR0eb",
        "colab_type": "text"
      },
      "source": [
        "#### data set\n",
        "- crim    - per capita crime rate by town.\n",
        "- zn      - proportion of residential land zoned for lots over 25,000 sq.ft.\n",
        "- indus   - proportion of non-retail business acres per town.\n",
        "- chas    - Charles River dummy variable (= 1 if tract bounds river; 0 otherwise).\n",
        "- nox     - nitrogen oxides concentration (parts per 10 million).\n",
        "- rm      - average number of rooms per dwelling.\n",
        "- age     - proportion of owner-occupied units built prior to 1940.\n",
        "- dis     - weighted mean of distances to five Boston employment centres.\n",
        "- rad     - index of accessibility to radial highways.\n",
        "- tax     - full-value property-tax rate per (dollars) 10,000.\n",
        "- ptratio - pupil-teacher ratio by town.\n",
        "- black   - 1000(Bk - 0.63)^2 where Bk is the proportion of blacks by town.\n",
        "- lstat   - lower status of the population (percent).\n",
        "\n",
        "- __medv    - median value of owner-occupied homes in $1000s.__"
      ]
    },
    {
      "cell_type": "code",
      "metadata": {
        "id": "Lgma7PCoR0eb",
        "colab_type": "code",
        "outputId": "290e1c49-4739-44aa-c782-7fdb2a84bd52",
        "colab": {}
      },
      "source": [
        "# load data set\n",
        "boston = load_boston()\n",
        "\n",
        "print (boston.feature_names)\n",
        "print (boston.data.shape)\n",
        "print (boston.target.shape)"
      ],
      "execution_count": 0,
      "outputs": [
        {
          "output_type": "stream",
          "text": [
            "['CRIM' 'ZN' 'INDUS' 'CHAS' 'NOX' 'RM' 'AGE' 'DIS' 'RAD' 'TAX' 'PTRATIO' 'B' 'LSTAT']\n",
            "(506, 13)\n",
            "(506,)\n"
          ],
          "name": "stdout"
        }
      ]
    },
    {
      "cell_type": "code",
      "metadata": {
        "id": "3b71KpDZR0ef",
        "colab_type": "code",
        "colab": {}
      },
      "source": [
        "np.set_printoptions(precision=2, linewidth=120, suppress=True, edgeitems=4)"
      ],
      "execution_count": 0,
      "outputs": []
    },
    {
      "cell_type": "code",
      "metadata": {
        "id": "crbGOrNVR0ei",
        "colab_type": "code",
        "outputId": "e7309497-1be5-4835-f685-6b19fc74e390",
        "colab": {}
      },
      "source": [
        "X      = boston.data\n",
        "X_orig = boston.data\n",
        "\n",
        "y      = boston.target\n",
        "\n",
        "print (X)"
      ],
      "execution_count": 0,
      "outputs": [
        {
          "output_type": "stream",
          "text": [
            "[[  0.01  18.     2.31   0.   ... 296.    15.3  396.9    4.98]\n",
            " [  0.03   0.     7.07   0.   ... 242.    17.8  396.9    9.14]\n",
            " [  0.03   0.     7.07   0.   ... 242.    17.8  392.83   4.03]\n",
            " [  0.03   0.     2.18   0.   ... 222.    18.7  394.63   2.94]\n",
            " ...\n",
            " [  0.05   0.    11.93   0.   ... 273.    21.   396.9    9.08]\n",
            " [  0.06   0.    11.93   0.   ... 273.    21.   396.9    5.64]\n",
            " [  0.11   0.    11.93   0.   ... 273.    21.   393.45   6.48]\n",
            " [  0.05   0.    11.93   0.   ... 273.    21.   396.9    7.88]]\n"
          ],
          "name": "stdout"
        }
      ]
    },
    {
      "cell_type": "code",
      "metadata": {
        "id": "0FXYtZ-UR0el",
        "colab_type": "code",
        "colab": {}
      },
      "source": [
        "df = pd.DataFrame(X_orig, columns=boston.feature_names)"
      ],
      "execution_count": 0,
      "outputs": []
    },
    {
      "cell_type": "code",
      "metadata": {
        "id": "UxrBecHeR0eo",
        "colab_type": "code",
        "colab": {}
      },
      "source": [
        "def run_model(df_selected_cols, y):\n",
        "    X_train, X_test, y_train, y_test = train_test_split(df_selected_cols, y, random_state=1, test_size=0.3)\n",
        "    \n",
        "    # instantiate\n",
        "    linreg = LinearRegression()\n",
        "\n",
        "    # fit the model to the training data (learn the coefficients)\n",
        "    linreg.fit(X_train, y_train)\n",
        "    \n",
        "    y_pred = linreg.predict(X_test)\n",
        "    \n",
        "    # Model evaluation metrics for regression\n",
        "    print('y-intercept             : ', linreg.intercept_)\n",
        "    print('beta coefficients       : ', linreg.coef_)\n",
        "    print('Mean Abs Error   MAE    : ', metrics.mean_absolute_error(y_test, y_pred))\n",
        "    print('Mean Sq  Error MSE      : ', metrics.mean_squared_error(y_test, y_pred))\n",
        "    print('Root Mean Sq Error RMSE : ', np.sqrt(metrics.mean_squared_error(y_test, y_pred)))\n",
        "    print('r2 value                : ', metrics.r2_score(y_test, y_pred))\n",
        "    print('MAPE                    : ', np.mean(np.abs((y_test - y_pred) / y_test)) * 100)\n",
        "    \n",
        "    stat, p = shapiro(y_test - y_pred)\n",
        "    \n",
        "    print('\\nStatistics=%.3f, p=%.3f' % (stat, p))\n",
        "\n",
        "    # interpret\n",
        "    alpha = 0.05\n",
        "    if p > alpha:\n",
        "        print('residuals look Gaussian (fail to reject H0)')\n",
        "    else:\n",
        "        print('residuals does not look Gaussian (reject H0)')"
      ],
      "execution_count": 0,
      "outputs": []
    },
    {
      "cell_type": "code",
      "metadata": {
        "id": "-pGXxfqAR0er",
        "colab_type": "code",
        "colab": {}
      },
      "source": [
        "def model_coeff(df_selected_cols, y):\n",
        "    X_train, X_test, y_train, y_test = train_test_split(df_selected_cols, y, random_state=1, test_size=0.3)\n",
        "    \n",
        "    # instantiate\n",
        "    linreg = LinearRegression()\n",
        "\n",
        "    # fit the model to the training data (learn the coefficients)\n",
        "    linreg.fit(X_train, y_train)\n",
        "    \n",
        "    y_pred = linreg.predict(X_test)\n",
        "    \n",
        "    # Model evaluation metrics for regression\n",
        "    for col, coeff in zip(df_selected_cols.columns, linreg.coef_):\n",
        "        print('{:15s} : {:8.6f}'.format(col, coeff))"
      ],
      "execution_count": 0,
      "outputs": []
    },
    {
      "cell_type": "markdown",
      "metadata": {
        "id": "WTO-lEYHR0fW",
        "colab_type": "text"
      },
      "source": [
        "## Check multi collinearity using eigen things"
      ]
    },
    {
      "cell_type": "code",
      "metadata": {
        "id": "w8Al7MvUR0fW",
        "colab_type": "code",
        "colab": {}
      },
      "source": [
        "from numpy.linalg import inv\n",
        "\n",
        "import scipy \n",
        "import scipy.linalg as la"
      ],
      "execution_count": 0,
      "outputs": []
    },
    {
      "cell_type": "code",
      "metadata": {
        "id": "C9hc-cx1R0fZ",
        "colab_type": "code",
        "colab": {}
      },
      "source": [
        "def multicoll_eigen(df_selected_cols, y):\n",
        "\n",
        "    X = df_selected_cols.values\n",
        "    \n",
        "    # get the corr\n",
        "    scipy.corrcoef(X, rowvar=False)\n",
        "\n",
        "    # check the multi collinearity\n",
        "    corr = scipy.corrcoef(X, rowvar=False)\n",
        "\n",
        "    eigvals, eigvecs = la.eig(corr)\n",
        "    eigvals = eigvals.real\n",
        "\n",
        "    print(eigvals)\n",
        "    print(eigvecs)"
      ],
      "execution_count": 0,
      "outputs": []
    },
    {
      "cell_type": "code",
      "metadata": {
        "id": "74gWYF0OR0fc",
        "colab_type": "code",
        "outputId": "a3f33111-8532-4eda-e1be-24872f7f506d",
        "colab": {}
      },
      "source": [
        "# check VIF for all columns\n",
        "df_selected_cols = df\n",
        "\n",
        "multicoll_eigen(df_selected_cols, y)"
      ],
      "execution_count": 0,
      "outputs": [
        {
          "output_type": "stream",
          "text": [
            "[6.13 1.43 1.24 0.86 0.83 0.66 0.54 0.4  0.06 0.28 0.17 0.19 0.22]\n",
            "[[-0.25  0.32 -0.25 -0.06  0.08  0.22 -0.78 -0.15 -0.05 -0.26  0.09  0.11 -0.02]\n",
            " [ 0.26  0.32 -0.3  -0.13  0.32  0.32  0.27  0.4   0.08 -0.36 -0.07 -0.26 -0.27]\n",
            " [-0.35 -0.11  0.02 -0.02 -0.01  0.08  0.34 -0.17  0.25 -0.64 -0.11  0.3   0.36]\n",
            " [-0.01 -0.45 -0.29 -0.82  0.09 -0.17 -0.07  0.02 -0.04  0.01 -0.   -0.01  0.01]\n",
            " [-0.34 -0.22 -0.12  0.13  0.14  0.15  0.2  -0.08 -0.04  0.02  0.8  -0.11 -0.23]\n",
            " [ 0.19 -0.15 -0.59  0.28 -0.42 -0.06 -0.06  0.33 -0.05 -0.05  0.15 -0.05  0.43]\n",
            " [-0.31 -0.31  0.02  0.18  0.02  0.07 -0.12  0.6   0.04  0.07 -0.21  0.46 -0.36]\n",
            " [ 0.32  0.35  0.05 -0.22  0.1  -0.02  0.1   0.12  0.02  0.15  0.39  0.7   0.17]\n",
            " [-0.32  0.27 -0.29 -0.13 -0.2   0.14  0.14 -0.08  0.63  0.47 -0.11 -0.04 -0.02]\n",
            " [-0.34  0.24 -0.22 -0.1  -0.13  0.19  0.31 -0.08 -0.72  0.18 -0.22  0.1   0.04]\n",
            " [-0.2   0.31  0.32 -0.28 -0.58 -0.27 -0.    0.32 -0.02 -0.25  0.21 -0.17 -0.15]\n",
            " [ 0.2  -0.24  0.3  -0.17 -0.35  0.8  -0.07  0.    0.    0.04  0.04 -0.02  0.1 ]\n",
            " [-0.31  0.07  0.27 -0.07  0.39  0.05 -0.09  0.42 -0.02  0.2   0.06 -0.27  0.6 ]]\n"
          ],
          "name": "stdout"
        }
      ]
    },
    {
      "cell_type": "markdown",
      "metadata": {
        "id": "vPdic_FzR0ff",
        "colab_type": "text"
      },
      "source": [
        "there seems to __no multi-collinearity__, as there no eigen value = 0"
      ]
    },
    {
      "cell_type": "code",
      "metadata": {
        "id": "2mdDen3pR0ff",
        "colab_type": "code",
        "outputId": "acee13bb-7d22-48d4-8742-8bd994d22896",
        "colab": {}
      },
      "source": [
        "print('\\nModel coeff ...')\n",
        "run_model(df_selected_cols, y)"
      ],
      "execution_count": 0,
      "outputs": [
        {
          "output_type": "stream",
          "text": [
            "\n",
            "Model coeff ...\n",
            "y-intercept             :  46.396493871823736\n",
            "beta coefficients       :  [ -0.1    0.06   0.06   2.44 -21.47   2.8    0.    -1.52   0.31  -0.01  -1.01   0.01  -0.57]\n",
            "Mean Abs Error   MAE    :  3.344665503598751\n",
            "Mean Sq  Error MSE      :  19.83132367206325\n",
            "Root Mean Sq Error RMSE :  4.453237437198162\n",
            "r2 value                :  0.783629538507628\n",
            "MAPE                    :  16.207536032281407\n",
            "\n",
            "Statistics=0.945, p=0.000\n",
            "residuals does not look Gaussian (reject H0)\n"
          ],
          "name": "stdout"
        }
      ]
    },
    {
      "cell_type": "markdown",
      "metadata": {
        "id": "kA7l_SkeR0fj",
        "colab_type": "text"
      },
      "source": [
        "## let us try adding collinear columns"
      ]
    },
    {
      "cell_type": "code",
      "metadata": {
        "id": "707omds8R0fj",
        "colab_type": "code",
        "colab": {}
      },
      "source": [
        "df_orig = df"
      ],
      "execution_count": 0,
      "outputs": []
    },
    {
      "cell_type": "code",
      "metadata": {
        "id": "oHJ-9-kJR0fl",
        "colab_type": "code",
        "outputId": "8b31c528-6c5d-4e7e-c510-6815b6f4b8fe",
        "colab": {}
      },
      "source": [
        "df.head()"
      ],
      "execution_count": 0,
      "outputs": [
        {
          "output_type": "execute_result",
          "data": {
            "text/html": [
              "<div>\n",
              "<style scoped>\n",
              "    .dataframe tbody tr th:only-of-type {\n",
              "        vertical-align: middle;\n",
              "    }\n",
              "\n",
              "    .dataframe tbody tr th {\n",
              "        vertical-align: top;\n",
              "    }\n",
              "\n",
              "    .dataframe thead th {\n",
              "        text-align: right;\n",
              "    }\n",
              "</style>\n",
              "<table border=\"1\" class=\"dataframe\">\n",
              "  <thead>\n",
              "    <tr style=\"text-align: right;\">\n",
              "      <th></th>\n",
              "      <th>CRIM</th>\n",
              "      <th>ZN</th>\n",
              "      <th>INDUS</th>\n",
              "      <th>CHAS</th>\n",
              "      <th>NOX</th>\n",
              "      <th>RM</th>\n",
              "      <th>AGE</th>\n",
              "      <th>DIS</th>\n",
              "      <th>RAD</th>\n",
              "      <th>TAX</th>\n",
              "      <th>PTRATIO</th>\n",
              "      <th>B</th>\n",
              "      <th>LSTAT</th>\n",
              "    </tr>\n",
              "  </thead>\n",
              "  <tbody>\n",
              "    <tr>\n",
              "      <th>0</th>\n",
              "      <td>0.00632</td>\n",
              "      <td>18.0</td>\n",
              "      <td>2.31</td>\n",
              "      <td>0.0</td>\n",
              "      <td>0.538</td>\n",
              "      <td>6.575</td>\n",
              "      <td>65.2</td>\n",
              "      <td>4.0900</td>\n",
              "      <td>1.0</td>\n",
              "      <td>296.0</td>\n",
              "      <td>15.3</td>\n",
              "      <td>396.90</td>\n",
              "      <td>4.98</td>\n",
              "    </tr>\n",
              "    <tr>\n",
              "      <th>1</th>\n",
              "      <td>0.02731</td>\n",
              "      <td>0.0</td>\n",
              "      <td>7.07</td>\n",
              "      <td>0.0</td>\n",
              "      <td>0.469</td>\n",
              "      <td>6.421</td>\n",
              "      <td>78.9</td>\n",
              "      <td>4.9671</td>\n",
              "      <td>2.0</td>\n",
              "      <td>242.0</td>\n",
              "      <td>17.8</td>\n",
              "      <td>396.90</td>\n",
              "      <td>9.14</td>\n",
              "    </tr>\n",
              "    <tr>\n",
              "      <th>2</th>\n",
              "      <td>0.02729</td>\n",
              "      <td>0.0</td>\n",
              "      <td>7.07</td>\n",
              "      <td>0.0</td>\n",
              "      <td>0.469</td>\n",
              "      <td>7.185</td>\n",
              "      <td>61.1</td>\n",
              "      <td>4.9671</td>\n",
              "      <td>2.0</td>\n",
              "      <td>242.0</td>\n",
              "      <td>17.8</td>\n",
              "      <td>392.83</td>\n",
              "      <td>4.03</td>\n",
              "    </tr>\n",
              "    <tr>\n",
              "      <th>3</th>\n",
              "      <td>0.03237</td>\n",
              "      <td>0.0</td>\n",
              "      <td>2.18</td>\n",
              "      <td>0.0</td>\n",
              "      <td>0.458</td>\n",
              "      <td>6.998</td>\n",
              "      <td>45.8</td>\n",
              "      <td>6.0622</td>\n",
              "      <td>3.0</td>\n",
              "      <td>222.0</td>\n",
              "      <td>18.7</td>\n",
              "      <td>394.63</td>\n",
              "      <td>2.94</td>\n",
              "    </tr>\n",
              "    <tr>\n",
              "      <th>4</th>\n",
              "      <td>0.06905</td>\n",
              "      <td>0.0</td>\n",
              "      <td>2.18</td>\n",
              "      <td>0.0</td>\n",
              "      <td>0.458</td>\n",
              "      <td>7.147</td>\n",
              "      <td>54.2</td>\n",
              "      <td>6.0622</td>\n",
              "      <td>3.0</td>\n",
              "      <td>222.0</td>\n",
              "      <td>18.7</td>\n",
              "      <td>396.90</td>\n",
              "      <td>5.33</td>\n",
              "    </tr>\n",
              "  </tbody>\n",
              "</table>\n",
              "</div>"
            ],
            "text/plain": [
              "      CRIM    ZN  INDUS  CHAS    NOX     RM   AGE     DIS  RAD    TAX  \\\n",
              "0  0.00632  18.0   2.31   0.0  0.538  6.575  65.2  4.0900  1.0  296.0   \n",
              "1  0.02731   0.0   7.07   0.0  0.469  6.421  78.9  4.9671  2.0  242.0   \n",
              "2  0.02729   0.0   7.07   0.0  0.469  7.185  61.1  4.9671  2.0  242.0   \n",
              "3  0.03237   0.0   2.18   0.0  0.458  6.998  45.8  6.0622  3.0  222.0   \n",
              "4  0.06905   0.0   2.18   0.0  0.458  7.147  54.2  6.0622  3.0  222.0   \n",
              "\n",
              "   PTRATIO       B  LSTAT  \n",
              "0     15.3  396.90   4.98  \n",
              "1     17.8  396.90   9.14  \n",
              "2     17.8  392.83   4.03  \n",
              "3     18.7  394.63   2.94  \n",
              "4     18.7  396.90   5.33  "
            ]
          },
          "metadata": {
            "tags": []
          },
          "execution_count": 193
        }
      ]
    },
    {
      "cell_type": "code",
      "metadata": {
        "id": "GFCoXIPFR0fo",
        "colab_type": "code",
        "outputId": "194bcf8e-f93b-423e-b549-be2034a5a199",
        "colab": {}
      },
      "source": [
        "# check VIF\n",
        "df_selected_cols = df\n",
        "\n",
        "model_coeff(df_selected_cols, y)"
      ],
      "execution_count": 0,
      "outputs": [
        {
          "output_type": "stream",
          "text": [
            "CRIM            : -0.098542\n",
            "ZN              : 0.060784\n",
            "INDUS           : 0.059172\n",
            "CHAS            : 2.439560\n",
            "NOX             : -21.469965\n",
            "RM              : 2.795814\n",
            "AGE             : 0.003575\n",
            "DIS             : -1.516272\n",
            "RAD             : 0.307542\n",
            "TAX             : -0.011280\n",
            "PTRATIO         : -1.005466\n",
            "B               : 0.006450\n",
            "LSTAT           : -0.568835\n"
          ],
          "name": "stdout"
        }
      ]
    },
    {
      "cell_type": "code",
      "metadata": {
        "id": "veJcACwMR0fq",
        "colab_type": "code",
        "outputId": "0d0e4016-7885-4a9b-c4fd-eeb33329ff25",
        "colab": {}
      },
      "source": [
        "df['AGE_IN_DAYS'] = df['AGE'] * 365 +10\n",
        "\n",
        "# check VIF\n",
        "df_selected_cols = df\n",
        "\n",
        "model_coeff(df_selected_cols, y)"
      ],
      "execution_count": 0,
      "outputs": [
        {
          "output_type": "stream",
          "text": [
            "CRIM            : -0.098542\n",
            "ZN              : 0.060784\n",
            "INDUS           : 0.059172\n",
            "CHAS            : 2.439560\n",
            "NOX             : -21.469965\n",
            "RM              : 2.795814\n",
            "AGE             : 0.000000\n",
            "DIS             : -1.516272\n",
            "RAD             : 0.307542\n",
            "TAX             : -0.011280\n",
            "PTRATIO         : -1.005466\n",
            "B               : 0.006450\n",
            "LSTAT           : -0.568835\n",
            "AGE_IN_DAYS     : 0.000010\n"
          ],
          "name": "stdout"
        }
      ]
    },
    {
      "cell_type": "code",
      "metadata": {
        "id": "iYVtCT--R0ft",
        "colab_type": "code",
        "outputId": "c239b6eb-ad8a-429a-9d68-13653a12955c",
        "colab": {}
      },
      "source": [
        "# check VIF for all columns\n",
        "df_selected_cols = df\n",
        "\n",
        "multicoll_eigen(df_selected_cols, y)"
      ],
      "execution_count": 0,
      "outputs": [
        {
          "output_type": "stream",
          "text": [
            "[6.77 1.59 1.24 0.83 0.89 0.66 0.56 0.5  0.06 0.28 0.24 0.17 0.2  0.  ]\n",
            "[[-0.23 -0.33  0.24  0.09  0.   -0.26  0.55  0.56 -0.05 -0.25 -0.09 -0.11  0.09 -0.  ]\n",
            " [ 0.25 -0.25  0.28  0.33  0.   -0.38  0.   -0.5   0.08 -0.37 -0.11  0.11 -0.35  0.  ]\n",
            " [-0.33  0.04 -0.01 -0.01  0.08 -0.02 -0.42 -0.01  0.25 -0.64  0.08  0.07  0.48  0.  ]\n",
            " [-0.01  0.36  0.31  0.13  0.85  0.12  0.15 -0.03 -0.04  0.01  0.01  0.01 -0.01 -0.  ]\n",
            " [-0.33  0.15  0.13  0.13 -0.06 -0.09 -0.32  0.05 -0.04  0.01 -0.05 -0.77 -0.34  0.  ]\n",
            " [ 0.17  0.18  0.6  -0.44 -0.26  0.05  0.13 -0.11 -0.04 -0.11  0.51 -0.12  0.08  0.  ]\n",
            " [-0.32  0.32 -0.01  0.01 -0.18 -0.11  0.3  -0.31  0.02  0.04 -0.21  0.04  0.13 -0.71]\n",
            " [ 0.31 -0.28 -0.06  0.11  0.11 -0.04  0.12 -0.29  0.02  0.17 -0.06 -0.52  0.62 -0.  ]\n",
            " [-0.29 -0.31  0.28 -0.2   0.12 -0.15 -0.12 -0.06  0.63  0.48 -0.01  0.11 -0.02  0.  ]\n",
            " [-0.31 -0.29  0.22 -0.12  0.1  -0.18 -0.28 -0.15 -0.72  0.19 -0.05  0.19  0.15 -0.  ]\n",
            " [-0.19 -0.32 -0.33 -0.57  0.26  0.2   0.25 -0.29 -0.02 -0.27 -0.   -0.18 -0.27 -0.  ]\n",
            " [ 0.19  0.26 -0.29 -0.34  0.17 -0.8  -0.06  0.12  0.    0.03  0.12 -0.03  0.01  0.  ]\n",
            " [-0.29 -0.09 -0.27  0.4   0.04 -0.07  0.17 -0.14 -0.02  0.1   0.78  0.02 -0.04  0.  ]\n",
            " [-0.32  0.32 -0.01  0.01 -0.18 -0.11  0.3  -0.31  0.02  0.04 -0.21  0.04  0.13  0.71]]\n"
          ],
          "name": "stdout"
        }
      ]
    },
    {
      "cell_type": "code",
      "metadata": {
        "id": "mAhtpIkeR0fw",
        "colab_type": "code",
        "outputId": "7d25d4fd-4a01-4a3a-cc04-6f6a99bb2a26",
        "colab": {}
      },
      "source": [
        "df['AGE_IN_DAYS'] = df['AGE'] * 365 / 10\n",
        "df['RM_SQUARED']  = df['RM'] ** 2\n",
        "\n",
        "# check VIF\n",
        "df_selected_cols = df\n",
        "\n",
        "model_coeff(df_selected_cols, y)"
      ],
      "execution_count": 0,
      "outputs": [
        {
          "output_type": "stream",
          "text": [
            "CRIM            : -0.124955\n",
            "ZN              : 0.045138\n",
            "INDUS           : 0.087996\n",
            "CHAS            : 1.802381\n",
            "NOX             : -20.797713\n",
            "RM              : -28.059592\n",
            "AGE             : -0.000000\n",
            "DIS             : -1.235400\n",
            "RAD             : 0.280806\n",
            "TAX             : -0.011199\n",
            "PTRATIO         : -0.847498\n",
            "B               : 0.005826\n",
            "LSTAT           : -0.556937\n",
            "AGE_IN_DAYS     : -0.000015\n",
            "RM_SQUARED      : 2.448717\n"
          ],
          "name": "stdout"
        }
      ]
    },
    {
      "cell_type": "code",
      "metadata": {
        "id": "J0_WBBakR0fy",
        "colab_type": "code",
        "outputId": "d5f95e9e-0ac7-4ef0-aba9-ba8e6cbbc9f6",
        "colab": {}
      },
      "source": [
        "# check VIF for all columns\n",
        "df_selected_cols = df\n",
        "\n",
        "multicoll_eigen(df_selected_cols, y)"
      ],
      "execution_count": 0,
      "outputs": [
        {
          "output_type": "stream",
          "text": [
            "[ 6.99  1.95  1.53  0.94  0.86  0.66  0.56  0.51  0.28  0.27  0.2   0.17  0.06  0.   -0.  ]\n",
            "[[-0.22  0.01 -0.39 -0.11 -0.08  0.25 -0.52  0.6  -0.16 -0.2   0.09  0.11 -0.05 -0.01  0.  ]\n",
            " [ 0.24 -0.04 -0.31 -0.29 -0.27  0.37 -0.04 -0.5  -0.24 -0.31 -0.35 -0.1   0.08 -0.01 -0.  ]\n",
            " [-0.32  0.04  0.03 -0.05  0.06  0.02  0.4  -0.05 -0.61 -0.23  0.47 -0.09  0.25  0.01 -0.  ]\n",
            " [-0.01  0.23  0.24 -0.81  0.43 -0.13 -0.17 -0.03 -0.    0.02 -0.01 -0.01 -0.04 -0.   -0.  ]\n",
            " [-0.32  0.17  0.08 -0.09 -0.16  0.09  0.32  0.03  0.01 -0.   -0.33  0.78 -0.04 -0.    0.  ]\n",
            " [ 0.19  0.57 -0.17  0.18  0.07 -0.03 -0.06 -0.06 -0.17  0.17  0.04  0.06 -0.03 -0.71 -0.  ]\n",
            " [-0.31  0.21  0.26  0.12 -0.13  0.1  -0.3  -0.28  0.17 -0.18  0.13 -0.03  0.02 -0.   -0.71]\n",
            " [ 0.3  -0.24 -0.19 -0.1   0.01  0.03 -0.16 -0.3   0.13  0.09  0.63  0.52  0.02  0.02  0.  ]\n",
            " [-0.28  0.08 -0.42 -0.07  0.19  0.16  0.14 -0.05  0.43  0.22 -0.02 -0.11  0.63 -0.01 -0.  ]\n",
            " [-0.3   0.04 -0.36 -0.07  0.13  0.19  0.28 -0.16  0.19  0.06  0.15 -0.19 -0.72  0.    0.  ]\n",
            " [-0.19 -0.24 -0.17  0.32  0.64 -0.2  -0.25 -0.27 -0.22 -0.16 -0.27  0.18 -0.02  0.01  0.  ]\n",
            " [ 0.18 -0.05  0.35  0.15  0.38  0.8   0.05  0.11 -0.04  0.13  0.01  0.03  0.01 -0.01 -0.  ]\n",
            " [-0.3  -0.21  0.05 -0.09 -0.22  0.05 -0.25 -0.18 -0.36  0.76 -0.07 -0.06 -0.02 -0.01 -0.  ]\n",
            " [-0.31  0.21  0.26  0.12 -0.13  0.1  -0.3  -0.28  0.17 -0.18  0.13 -0.03  0.02 -0.    0.71]\n",
            " [ 0.19  0.58 -0.17  0.17  0.06 -0.01 -0.06 -0.04 -0.17  0.18  0.02  0.04 -0.02  0.71  0.  ]]\n"
          ],
          "name": "stdout"
        }
      ]
    },
    {
      "cell_type": "code",
      "metadata": {
        "id": "wC2ZJ9mLR0f0",
        "colab_type": "code",
        "colab": {}
      },
      "source": [
        ""
      ],
      "execution_count": 0,
      "outputs": []
    }
  ]
}