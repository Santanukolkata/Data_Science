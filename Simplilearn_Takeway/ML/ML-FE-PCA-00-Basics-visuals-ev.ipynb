{
 "cells": [
  {
   "cell_type": "code",
   "execution_count": 1,
   "metadata": {},
   "outputs": [],
   "source": [
    "from scipy.spatial import distance\n",
    "import numpy as np\n",
    "import pandas as pd\n",
    "\n",
    "# import plotting libraries\n",
    "from mpl_toolkits.mplot3d.axes3d import Axes3D\n",
    "\n",
    "import matplotlib\n",
    "import matplotlib.pyplot as plt\n",
    "from pandas.plotting import scatter_matrix\n",
    "%matplotlib inline \n",
    "\n",
    "import seaborn as sns\n",
    "sns.set(style=\"white\", color_codes=True)\n",
    "sns.set(font_scale=1.5)\n",
    "\n",
    "from sklearn.preprocessing import normalize\n",
    "np.set_printoptions(precision=6)"
   ]
  },
  {
   "cell_type": "markdown",
   "metadata": {},
   "source": [
    "#### Simple matrix"
   ]
  },
  {
   "cell_type": "code",
   "execution_count": 2,
   "metadata": {},
   "outputs": [
    {
     "data": {
      "text/plain": [
       "matrix([[2, 0],\n",
       "        [0, 3]])"
      ]
     },
     "execution_count": 2,
     "metadata": {},
     "output_type": "execute_result"
    }
   ],
   "source": [
    "A = np.matrix([[2, 0], \n",
    "               [0, 3]])\n",
    "A"
   ]
  },
  {
   "cell_type": "code",
   "execution_count": 4,
   "metadata": {},
   "outputs": [],
   "source": [
    "evals, evecs = np.linalg.eig(A)"
   ]
  },
  {
   "cell_type": "code",
   "execution_count": 5,
   "metadata": {},
   "outputs": [
    {
     "data": {
      "text/plain": [
       "array([2., 3.])"
      ]
     },
     "execution_count": 5,
     "metadata": {},
     "output_type": "execute_result"
    }
   ],
   "source": [
    "# print the eigen values\n",
    "evals"
   ]
  },
  {
   "cell_type": "code",
   "execution_count": 6,
   "metadata": {},
   "outputs": [
    {
     "data": {
      "text/plain": [
       "matrix([[1., 0.],\n",
       "        [0., 1.]])"
      ]
     },
     "execution_count": 6,
     "metadata": {},
     "output_type": "execute_result"
    }
   ],
   "source": [
    "# print the eigen vectors\n",
    "evecs"
   ]
  },
  {
   "cell_type": "markdown",
   "metadata": {},
   "source": [
    "The first eigenvalue, 2, is associated with the eigenvector in the first column (1, 0)\n",
    "\n",
    "Equation of the line through (0,0) and (1,0) is 𝑦=0. So, any point on this line when multiplied by the transformation matrix 𝐴, will be scaled by 2.\n",
    "\n",
    "The second eigenvalue, 3, is associated with the eigenvector in the second column (0, 1)\n",
    "\n",
    "Similarly, for the second eigenvalue, any point on the line 𝑥=0 will be scaled by 3."
   ]
  },
  {
   "cell_type": "markdown",
   "metadata": {},
   "source": [
    "#### let us choose a complex matrix ..."
   ]
  },
  {
   "cell_type": "code",
   "execution_count": 7,
   "metadata": {},
   "outputs": [],
   "source": [
    "# Consider the matrix of 8 observations each of 2 \n",
    "# variables, x1 and x2 ; # whose observed values are held in the 2 rows \n",
    "# of the array X:\n",
    "\n",
    "X = np.array([ [ 1, 1,  2,   -1, -1.5, .9,  1.3, -.6, 1.9, 2.2],\n",
    "               [.5, .8, 1.6, .8,   -1, .9,  -.9,  1,  1.5, 1.7]\n",
    "             ])"
   ]
  },
  {
   "cell_type": "code",
   "execution_count": 8,
   "metadata": {},
   "outputs": [
    {
     "data": {
      "text/plain": [
       "array([[1.708444, 0.651333],\n",
       "       [0.651333, 0.898778]])"
      ]
     },
     "execution_count": 8,
     "metadata": {},
     "output_type": "execute_result"
    }
   ],
   "source": [
    "# get the Co variance matrix \n",
    "COV = np.cov(X)\n",
    "COV"
   ]
  },
  {
   "cell_type": "code",
   "execution_count": 9,
   "metadata": {},
   "outputs": [],
   "source": [
    "evals, evecs = np.linalg.eig(COV)"
   ]
  },
  {
   "cell_type": "code",
   "execution_count": 25,
   "metadata": {},
   "outputs": [
    {
     "data": {
      "text/plain": [
       "array([2.070504, 0.536718])"
      ]
     },
     "execution_count": 25,
     "metadata": {},
     "output_type": "execute_result"
    }
   ],
   "source": [
    "evals"
   ]
  },
  {
   "cell_type": "code",
   "execution_count": 10,
   "metadata": {},
   "outputs": [
    {
     "data": {
      "text/plain": [
       "array([[ 0.874039, -0.485856],\n",
       "       [ 0.485856,  0.874039]])"
      ]
     },
     "execution_count": 10,
     "metadata": {},
     "output_type": "execute_result"
    }
   ],
   "source": [
    "evecs"
   ]
  },
  {
   "cell_type": "markdown",
   "metadata": {},
   "source": [
    "#### To plot the eigenvectors, we calculate the gradient:"
   ]
  },
  {
   "cell_type": "code",
   "execution_count": 11,
   "metadata": {},
   "outputs": [],
   "source": [
    "x_v1 = evecs[:, 0][0]\n",
    "y_v1 = evecs[:, 0][1]\n",
    "\n",
    "x_v2 = evecs[:, 1][0]\n",
    "y_v2 = evecs[:, 1][1]"
   ]
  },
  {
   "cell_type": "code",
   "execution_count": 12,
   "metadata": {},
   "outputs": [],
   "source": [
    "m1 = np.round(y_v1/x_v1, 4) # Gradient of 1st eigenvector\n",
    "m2 = np.round(y_v2/x_v2, 4) # Gradient of 2nd eigenvector"
   ]
  },
  {
   "cell_type": "code",
   "execution_count": 13,
   "metadata": {},
   "outputs": [
    {
     "data": {
      "text/plain": [
       "-1.0000641"
      ]
     },
     "execution_count": 13,
     "metadata": {},
     "output_type": "execute_result"
    }
   ],
   "source": [
    "m1* m2"
   ]
  },
  {
   "cell_type": "markdown",
   "metadata": {},
   "source": [
    "So, our eigenvectors, which span all vectors along the line through the origin, have the equations: \n",
    "- 𝑦 = m1 * 𝑥 (𝑒1) \n",
    "- y = m2 * 𝑥 (𝑒2)"
   ]
  },
  {
   "cell_type": "code",
   "execution_count": 14,
   "metadata": {},
   "outputs": [],
   "source": [
    "x = np.linspace(-4, 4, 100)\n",
    "\n",
    "y1 = m1 * x\n",
    "y2 = m2 * x"
   ]
  },
  {
   "cell_type": "code",
   "execution_count": 15,
   "metadata": {},
   "outputs": [
    {
     "data": {
      "image/png": "[encoded data removed]",
      "text/plain": [
       "<Figure size 864x432 with 1 Axes>"
      ]
     },
     "metadata": {
      "needs_background": "light"
     },
     "output_type": "display_data"
    }
   ],
   "source": [
    "f, ax = plt.subplots(figsize=(12, 6))\n",
    "\n",
    "# plot the random number\n",
    "ax.scatter(X[0], X[1], c='k', label='Data points')\n",
    "ax.plot(x, y1, alpha=.1, c='g')\n",
    "ax.plot(x, y2, alpha=.1)\n",
    "\n",
    "ax.spines['left'].set_position('zero')\n",
    "ax.spines['left'].set_color('black')\n",
    "ax.spines['right'].set_color('black')\n",
    "ax.spines['bottom'].set_position('zero')\n",
    "ax.spines['bottom'].set_color('black')\n",
    "ax.spines['top'].set_color('black')\n",
    "\n",
    "ax.arrow(0, \n",
    "         0, \n",
    "         x_v1, \n",
    "         y_v1, \n",
    "         head_width = .2, \n",
    "         head_length= .08, \n",
    "         fc='y', \n",
    "         ec='r',\n",
    "         alpha = 1\n",
    "         );\n",
    "\n",
    "ax.arrow(0, \n",
    "         0, \n",
    "         x_v2, \n",
    "         y_v2, \n",
    "         head_width = .2, \n",
    "         head_length= .08, \n",
    "         fc='y', \n",
    "         ec='r',\n",
    "         alpha = 1\n",
    "         );\n",
    "\n",
    "ax.set_xlabel('X1')\n",
    "ax.set_ylabel('X2')\n",
    "ax.set_title('PCA analysis')\n",
    "ax.set_xlim(X[0].min() -1, X[0].max() + 1)\n",
    "ax.set_ylim(X[1].min() -1, X[1].max() + 1)\n",
    "ax.legend();"
   ]
  },
  {
   "cell_type": "code",
   "execution_count": null,
   "metadata": {
    "collapsed": true,
    "jupyter": {
     "outputs_hidden": true
    }
   },
   "outputs": [],
   "source": []
  },
  {
   "cell_type": "code",
   "execution_count": null,
   "metadata": {
    "collapsed": true,
    "jupyter": {
     "outputs_hidden": true
    }
   },
   "outputs": [],
   "source": []
  }
 ],
 "metadata": {
  "kernelspec": {
   "display_name": "Python 3",
   "language": "python",
   "name": "python3"
  },
  "language_info": {
   "codemirror_mode": {
    "name": "ipython",
    "version": 3
   },
   "file_extension": ".py",
   "mimetype": "text/x-python",
   "name": "python",
   "nbconvert_exporter": "python",
   "pygments_lexer": "ipython3",
   "version": "3.7.3"
  }
 },
 "nbformat": 4,
 "nbformat_minor": 4
}
