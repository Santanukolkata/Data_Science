{
  "nbformat": 4,
  "nbformat_minor": 0,
  "metadata": {
    "kernelspec": {
      "display_name": "Python 3",
      "language": "python",
      "name": "python3"
    },
    "language_info": {
      "codemirror_mode": {
        "name": "ipython",
        "version": 3
      },
      "file_extension": ".py",
      "mimetype": "text/x-python",
      "name": "python",
      "nbconvert_exporter": "python",
      "pygments_lexer": "ipython3",
      "version": "3.7.3"
    },
    "colab": {
      "name": "Multi_collinerity.ipynb",
      "provenance": [],
      "collapsed_sections": [],
      "include_colab_link": true
    }
  },
  "cells": [
    {
      "cell_type": "markdown",
      "metadata": {
        "id": "view-in-github",
        "colab_type": "text"
      },
      "source": [
        "<a href=\"https://colab.research.google.com/github/Santanukolkata/Data_Science/blob/master/Models/Preprocessing/Multi_collinerity.ipynb\" target=\"_parent\"><img src=\"https://colab.research.google.com/assets/colab-badge.svg\" alt=\"Open In Colab\"/></a>"
      ]
    },
    {
      "cell_type": "code",
      "metadata": {
        "id": "olnfhZhrR0eW",
        "colab_type": "code",
        "colab": {
          "base_uri": "https://localhost:8080/",
          "height": 51
        },
        "outputId": "a6a12abc-c0db-4127-d31c-e05d1aeda507"
      },
      "source": [
        "import time\n",
        "import random\n",
        "from math import *\n",
        "import operator\n",
        "\n",
        "import pandas as pd\n",
        "import numpy as np\n",
        "np.set_printoptions(precision=4)\n",
        "\n",
        "# import plotting libraries\n",
        "import matplotlib\n",
        "import matplotlib.pyplot as plt\n",
        "\n",
        "from matplotlib import style\n",
        "%matplotlib inline \n",
        "\n",
        "import seaborn as sns\n",
        "sns.set(style=\"white\", color_codes=True)\n",
        "sns.set(font_scale=1.5)\n",
        "\n",
        "from sklearn.datasets import load_boston\n",
        "\n",
        "from scipy.stats import shapiro\n",
        "\n",
        "# import the ML algorithm\n",
        "from sklearn.linear_model import LinearRegression\n",
        "\n",
        "# import libraries for model validation\n",
        "from sklearn.model_selection import StratifiedKFold\n",
        "from sklearn.model_selection import KFold\n",
        "from sklearn.model_selection import ShuffleSplit\n",
        "from sklearn.model_selection import cross_val_score\n",
        "from sklearn.model_selection import train_test_split\n",
        "from sklearn.model_selection import LeaveOneOut \n",
        "\n",
        "# import libraries for metrics and reporting\n",
        "from sklearn.metrics import confusion_matrix\n",
        "from sklearn.metrics import classification_report\n",
        "from sklearn.metrics import accuracy_score\n",
        "from sklearn.metrics import precision_score\n",
        "from sklearn.metrics import recall_score\n",
        "from sklearn.metrics import f1_score\n",
        "from sklearn import metrics\n",
        "from sklearn.metrics import classification_report\n",
        "from sklearn.metrics import roc_curve, auc\n",
        "from sklearn.metrics import adjusted_rand_score"
      ],
      "execution_count": 1,
      "outputs": [
        {
          "output_type": "stream",
          "text": [
            "/usr/local/lib/python3.6/dist-packages/statsmodels/tools/_testing.py:19: FutureWarning: pandas.util.testing is deprecated. Use the functions in the public API at pandas.testing instead.\n",
            "  import pandas.util.testing as tm\n"
          ],
          "name": "stderr"
        }
      ]
    },
    {
      "cell_type": "markdown",
      "metadata": {
        "id": "Er0Nc6OYR0eb",
        "colab_type": "text"
      },
      "source": [
        "#### data set\n",
        "- crim    - per capita crime rate by town.\n",
        "- zn      - proportion of residential land zoned for lots over 25,000 sq.ft.\n",
        "- indus   - proportion of non-retail business acres per town.\n",
        "- chas    - Charles River dummy variable (= 1 if tract bounds river; 0 otherwise).\n",
        "- nox     - nitrogen oxides concentration (parts per 10 million).\n",
        "- rm      - average number of rooms per dwelling.\n",
        "- age     - proportion of owner-occupied units built prior to 1940.\n",
        "- dis     - weighted mean of distances to five Boston employment centres.\n",
        "- rad     - index of accessibility to radial highways.\n",
        "- tax     - full-value property-tax rate per (dollars) 10,000.\n",
        "- ptratio - pupil-teacher ratio by town.\n",
        "- black   - 1000(Bk - 0.63)^2 where Bk is the proportion of blacks by town.\n",
        "- lstat   - lower status of the population (percent).\n",
        "\n",
        "- __medv    - median value of owner-occupied homes in $1000s.__"
      ]
    },
    {
      "cell_type": "code",
      "metadata": {
        "id": "Lgma7PCoR0eb",
        "colab_type": "code",
        "outputId": "4ae5c5f8-67e1-4486-d27c-d72d3fd4d31b",
        "colab": {
          "base_uri": "https://localhost:8080/",
          "height": 85
        }
      },
      "source": [
        "# load data set\n",
        "boston = load_boston()\n",
        "\n",
        "print (boston.feature_names)\n",
        "print (boston.data.shape)\n",
        "print (boston.target.shape)"
      ],
      "execution_count": 2,
      "outputs": [
        {
          "output_type": "stream",
          "text": [
            "['CRIM' 'ZN' 'INDUS' 'CHAS' 'NOX' 'RM' 'AGE' 'DIS' 'RAD' 'TAX' 'PTRATIO'\n",
            " 'B' 'LSTAT']\n",
            "(506, 13)\n",
            "(506,)\n"
          ],
          "name": "stdout"
        }
      ]
    },
    {
      "cell_type": "code",
      "metadata": {
        "id": "3b71KpDZR0ef",
        "colab_type": "code",
        "colab": {}
      },
      "source": [
        "np.set_printoptions(precision=2, linewidth=120, suppress=True, edgeitems=4)"
      ],
      "execution_count": 0,
      "outputs": []
    },
    {
      "cell_type": "code",
      "metadata": {
        "id": "crbGOrNVR0ei",
        "colab_type": "code",
        "outputId": "0b6e9b03-ca39-464f-940d-a918a6a4d43e",
        "colab": {
          "base_uri": "https://localhost:8080/",
          "height": 170
        }
      },
      "source": [
        "X      = boston.data\n",
        "X_orig = boston.data\n",
        "\n",
        "y      = boston.target\n",
        "\n",
        "print (X)"
      ],
      "execution_count": 5,
      "outputs": [
        {
          "output_type": "stream",
          "text": [
            "[[  0.01  18.     2.31   0.   ... 296.    15.3  396.9    4.98]\n",
            " [  0.03   0.     7.07   0.   ... 242.    17.8  396.9    9.14]\n",
            " [  0.03   0.     7.07   0.   ... 242.    17.8  392.83   4.03]\n",
            " [  0.03   0.     2.18   0.   ... 222.    18.7  394.63   2.94]\n",
            " ...\n",
            " [  0.05   0.    11.93   0.   ... 273.    21.   396.9    9.08]\n",
            " [  0.06   0.    11.93   0.   ... 273.    21.   396.9    5.64]\n",
            " [  0.11   0.    11.93   0.   ... 273.    21.   393.45   6.48]\n",
            " [  0.05   0.    11.93   0.   ... 273.    21.   396.9    7.88]]\n"
          ],
          "name": "stdout"
        }
      ]
    },
    {
      "cell_type": "code",
      "metadata": {
        "id": "0FXYtZ-UR0el",
        "colab_type": "code",
        "colab": {}
      },
      "source": [
        "df = pd.DataFrame(X_orig, columns=boston.feature_names)"
      ],
      "execution_count": 0,
      "outputs": []
    },
    {
      "cell_type": "code",
      "metadata": {
        "id": "UxrBecHeR0eo",
        "colab_type": "code",
        "colab": {}
      },
      "source": [
        "def run_model(df_selected_cols, y):\n",
        "    X_train, X_test, y_train, y_test = train_test_split(df_selected_cols, y, random_state=1, test_size=0.3)\n",
        "    \n",
        "    # instantiate\n",
        "    linreg = LinearRegression()\n",
        "\n",
        "    # fit the model to the training data (learn the coefficients)\n",
        "    linreg.fit(X_train, y_train)\n",
        "    \n",
        "    y_pred = linreg.predict(X_test)\n",
        "    \n",
        "    # Model evaluation metrics for regression\n",
        "    print('y-intercept             : ', linreg.intercept_)\n",
        "    print('beta coefficients       : ', linreg.coef_)\n",
        "    print('Mean Abs Error   MAE    : ', metrics.mean_absolute_error(y_test, y_pred))\n",
        "    print('Mean Sq  Error MSE      : ', metrics.mean_squared_error(y_test, y_pred))\n",
        "    print('Root Mean Sq Error RMSE : ', np.sqrt(metrics.mean_squared_error(y_test, y_pred)))\n",
        "    print('r2 value                : ', metrics.r2_score(y_test, y_pred))\n",
        "    print('MAPE                    : ', np.mean(np.abs((y_test - y_pred) / y_test)) * 100)\n",
        "    \n",
        "    stat, p = shapiro(y_test - y_pred)\n",
        "    \n",
        "    print('\\nStatistics=%.3f, p=%.3f' % (stat, p))\n",
        "\n",
        "    # interpret\n",
        "    alpha = 0.05\n",
        "    if p > alpha:\n",
        "        print('residuals look Gaussian (fail to reject H0)')\n",
        "    else:\n",
        "        print('residuals does not look Gaussian (reject H0)')"
      ],
      "execution_count": 0,
      "outputs": []
    },
    {
      "cell_type": "code",
      "metadata": {
        "id": "-pGXxfqAR0er",
        "colab_type": "code",
        "colab": {}
      },
      "source": [
        "def model_coeff(df_selected_cols, y):\n",
        "    X_train, X_test, y_train, y_test = train_test_split(df_selected_cols, y, random_state=1, test_size=0.3)\n",
        "    \n",
        "    # instantiate\n",
        "    linreg = LinearRegression()\n",
        "\n",
        "    # fit the model to the training data (learn the coefficients)\n",
        "    linreg.fit(X_train, y_train)\n",
        "    \n",
        "    y_pred = linreg.predict(X_test)\n",
        "    \n",
        "    # Model evaluation metrics for regression\n",
        "    for col, coeff in zip(df_selected_cols.columns, linreg.coef_):\n",
        "        print('{:15s} : {:8.6f}'.format(col, coeff))"
      ],
      "execution_count": 0,
      "outputs": []
    },
    {
      "cell_type": "markdown",
      "metadata": {
        "id": "WTO-lEYHR0fW",
        "colab_type": "text"
      },
      "source": [
        "## Check multi collinearity using eigen things"
      ]
    },
    {
      "cell_type": "code",
      "metadata": {
        "id": "w8Al7MvUR0fW",
        "colab_type": "code",
        "colab": {}
      },
      "source": [
        "from numpy.linalg import inv\n",
        "\n",
        "import scipy \n",
        "import scipy.linalg as la"
      ],
      "execution_count": 0,
      "outputs": []
    },
    {
      "cell_type": "code",
      "metadata": {
        "id": "C9hc-cx1R0fZ",
        "colab_type": "code",
        "colab": {}
      },
      "source": [
        "def multicoll_eigen(df_selected_cols, y):\n",
        "\n",
        "    X = df_selected_cols.values\n",
        "    \n",
        "    # get the corr\n",
        "    scipy.corrcoef(X, rowvar=False)\n",
        "\n",
        "    # check the multi collinearity\n",
        "    corr = scipy.corrcoef(X, rowvar=False)\n",
        "\n",
        "    eigvals, eigvecs = la.eig(corr)\n",
        "    eigvals = eigvals.real\n",
        "\n",
        "    print(eigvals)\n",
        "    print(eigvecs)"
      ],
      "execution_count": 0,
      "outputs": []
    },
    {
      "cell_type": "code",
      "metadata": {
        "id": "74gWYF0OR0fc",
        "colab_type": "code",
        "outputId": "3999b2af-0994-4386-9b85-aafd033c6b7c",
        "colab": {
          "base_uri": "https://localhost:8080/",
          "height": 323
        }
      },
      "source": [
        "# check VIF for all columns\n",
        "df_selected_cols = df\n",
        "\n",
        "multicoll_eigen(df_selected_cols, y)"
      ],
      "execution_count": 11,
      "outputs": [
        {
          "output_type": "stream",
          "text": [
            "[6.13 1.43 1.24 0.86 0.83 0.66 0.54 0.4  0.06 0.28 0.17 0.19 0.22]\n",
            "[[-0.25  0.32 -0.25 -0.06  0.08  0.22 -0.78 -0.15 -0.05 -0.26  0.09  0.11 -0.02]\n",
            " [ 0.26  0.32 -0.3  -0.13  0.32  0.32  0.27  0.4   0.08 -0.36 -0.07 -0.26 -0.27]\n",
            " [-0.35 -0.11  0.02 -0.02 -0.01  0.08  0.34 -0.17  0.25 -0.64 -0.11  0.3   0.36]\n",
            " [-0.01 -0.45 -0.29 -0.82  0.09 -0.17 -0.07  0.02 -0.04  0.01 -0.   -0.01  0.01]\n",
            " [-0.34 -0.22 -0.12  0.13  0.14  0.15  0.2  -0.08 -0.04  0.02  0.8  -0.11 -0.23]\n",
            " [ 0.19 -0.15 -0.59  0.28 -0.42 -0.06 -0.06  0.33 -0.05 -0.05  0.15 -0.05  0.43]\n",
            " [-0.31 -0.31  0.02  0.18  0.02  0.07 -0.12  0.6   0.04  0.07 -0.21  0.46 -0.36]\n",
            " [ 0.32  0.35  0.05 -0.22  0.1  -0.02  0.1   0.12  0.02  0.15  0.39  0.7   0.17]\n",
            " [-0.32  0.27 -0.29 -0.13 -0.2   0.14  0.14 -0.08  0.63  0.47 -0.11 -0.04 -0.02]\n",
            " [-0.34  0.24 -0.22 -0.1  -0.13  0.19  0.31 -0.08 -0.72  0.18 -0.22  0.1   0.04]\n",
            " [-0.2   0.31  0.32 -0.28 -0.58 -0.27 -0.    0.32 -0.02 -0.25  0.21 -0.17 -0.15]\n",
            " [ 0.2  -0.24  0.3  -0.17 -0.35  0.8  -0.07  0.    0.    0.04  0.04 -0.02  0.1 ]\n",
            " [-0.31  0.07  0.27 -0.07  0.39  0.05 -0.09  0.42 -0.02  0.2   0.06 -0.27  0.6 ]]\n"
          ],
          "name": "stdout"
        },
        {
          "output_type": "stream",
          "text": [
            "/usr/local/lib/python3.6/dist-packages/ipykernel_launcher.py:6: DeprecationWarning: scipy.corrcoef is deprecated and will be removed in SciPy 2.0.0, use numpy.corrcoef instead\n",
            "  \n",
            "/usr/local/lib/python3.6/dist-packages/ipykernel_launcher.py:9: DeprecationWarning: scipy.corrcoef is deprecated and will be removed in SciPy 2.0.0, use numpy.corrcoef instead\n",
            "  if __name__ == '__main__':\n"
          ],
          "name": "stderr"
        }
      ]
    },
    {
      "cell_type": "markdown",
      "metadata": {
        "id": "vPdic_FzR0ff",
        "colab_type": "text"
      },
      "source": [
        "there seems to __no multi-collinearity__, as there no eigen value = 0"
      ]
    },
    {
      "cell_type": "code",
      "metadata": {
        "id": "2mdDen3pR0ff",
        "colab_type": "code",
        "outputId": "31d9a5c4-a14f-4246-fa58-375052e0b32d",
        "colab": {
          "base_uri": "https://localhost:8080/",
          "height": 221
        }
      },
      "source": [
        "print('\\nModel coeff ...')\n",
        "run_model(df_selected_cols, y)"
      ],
      "execution_count": 12,
      "outputs": [
        {
          "output_type": "stream",
          "text": [
            "\n",
            "Model coeff ...\n",
            "y-intercept             :  46.39649387182361\n",
            "beta coefficients       :  [ -0.1    0.06   0.06   2.44 -21.47   2.8    0.    -1.52   0.31  -0.01  -1.01   0.01  -0.57]\n",
            "Mean Abs Error   MAE    :  3.3446655035987436\n",
            "Mean Sq  Error MSE      :  19.831323672063174\n",
            "Root Mean Sq Error RMSE :  4.453237437198153\n",
            "r2 value                :  0.7836295385076287\n",
            "MAPE                    :  16.20753603228139\n",
            "\n",
            "Statistics=0.945, p=0.000\n",
            "residuals does not look Gaussian (reject H0)\n"
          ],
          "name": "stdout"
        }
      ]
    },
    {
      "cell_type": "markdown",
      "metadata": {
        "id": "kA7l_SkeR0fj",
        "colab_type": "text"
      },
      "source": [
        "## let us try adding collinear columns"
      ]
    },
    {
      "cell_type": "code",
      "metadata": {
        "id": "707omds8R0fj",
        "colab_type": "code",
        "colab": {}
      },
      "source": [
        "df_orig = df"
      ],
      "execution_count": 0,
      "outputs": []
    },
    {
      "cell_type": "code",
      "metadata": {
        "id": "oHJ-9-kJR0fl",
        "colab_type": "code",
        "outputId": "65685705-01bc-4731-dee6-28e93a25c6c4",
        "colab": {
          "base_uri": "https://localhost:8080/",
          "height": 204
        }
      },
      "source": [
        "df.head()"
      ],
      "execution_count": 14,
      "outputs": [
        {
          "output_type": "execute_result",
          "data": {
            "text/html": [
              "<div>\n",
              "<style scoped>\n",
              "    .dataframe tbody tr th:only-of-type {\n",
              "        vertical-align: middle;\n",
              "    }\n",
              "\n",
              "    .dataframe tbody tr th {\n",
              "        vertical-align: top;\n",
              "    }\n",
              "\n",
              "    .dataframe thead th {\n",
              "        text-align: right;\n",
              "    }\n",
              "</style>\n",
              "<table border=\"1\" class=\"dataframe\">\n",
              "  <thead>\n",
              "    <tr style=\"text-align: right;\">\n",
              "      <th></th>\n",
              "      <th>CRIM</th>\n",
              "      <th>ZN</th>\n",
              "      <th>INDUS</th>\n",
              "      <th>CHAS</th>\n",
              "      <th>NOX</th>\n",
              "      <th>RM</th>\n",
              "      <th>AGE</th>\n",
              "      <th>DIS</th>\n",
              "      <th>RAD</th>\n",
              "      <th>TAX</th>\n",
              "      <th>PTRATIO</th>\n",
              "      <th>B</th>\n",
              "      <th>LSTAT</th>\n",
              "    </tr>\n",
              "  </thead>\n",
              "  <tbody>\n",
              "    <tr>\n",
              "      <th>0</th>\n",
              "      <td>0.00632</td>\n",
              "      <td>18.0</td>\n",
              "      <td>2.31</td>\n",
              "      <td>0.0</td>\n",
              "      <td>0.538</td>\n",
              "      <td>6.575</td>\n",
              "      <td>65.2</td>\n",
              "      <td>4.0900</td>\n",
              "      <td>1.0</td>\n",
              "      <td>296.0</td>\n",
              "      <td>15.3</td>\n",
              "      <td>396.90</td>\n",
              "      <td>4.98</td>\n",
              "    </tr>\n",
              "    <tr>\n",
              "      <th>1</th>\n",
              "      <td>0.02731</td>\n",
              "      <td>0.0</td>\n",
              "      <td>7.07</td>\n",
              "      <td>0.0</td>\n",
              "      <td>0.469</td>\n",
              "      <td>6.421</td>\n",
              "      <td>78.9</td>\n",
              "      <td>4.9671</td>\n",
              "      <td>2.0</td>\n",
              "      <td>242.0</td>\n",
              "      <td>17.8</td>\n",
              "      <td>396.90</td>\n",
              "      <td>9.14</td>\n",
              "    </tr>\n",
              "    <tr>\n",
              "      <th>2</th>\n",
              "      <td>0.02729</td>\n",
              "      <td>0.0</td>\n",
              "      <td>7.07</td>\n",
              "      <td>0.0</td>\n",
              "      <td>0.469</td>\n",
              "      <td>7.185</td>\n",
              "      <td>61.1</td>\n",
              "      <td>4.9671</td>\n",
              "      <td>2.0</td>\n",
              "      <td>242.0</td>\n",
              "      <td>17.8</td>\n",
              "      <td>392.83</td>\n",
              "      <td>4.03</td>\n",
              "    </tr>\n",
              "    <tr>\n",
              "      <th>3</th>\n",
              "      <td>0.03237</td>\n",
              "      <td>0.0</td>\n",
              "      <td>2.18</td>\n",
              "      <td>0.0</td>\n",
              "      <td>0.458</td>\n",
              "      <td>6.998</td>\n",
              "      <td>45.8</td>\n",
              "      <td>6.0622</td>\n",
              "      <td>3.0</td>\n",
              "      <td>222.0</td>\n",
              "      <td>18.7</td>\n",
              "      <td>394.63</td>\n",
              "      <td>2.94</td>\n",
              "    </tr>\n",
              "    <tr>\n",
              "      <th>4</th>\n",
              "      <td>0.06905</td>\n",
              "      <td>0.0</td>\n",
              "      <td>2.18</td>\n",
              "      <td>0.0</td>\n",
              "      <td>0.458</td>\n",
              "      <td>7.147</td>\n",
              "      <td>54.2</td>\n",
              "      <td>6.0622</td>\n",
              "      <td>3.0</td>\n",
              "      <td>222.0</td>\n",
              "      <td>18.7</td>\n",
              "      <td>396.90</td>\n",
              "      <td>5.33</td>\n",
              "    </tr>\n",
              "  </tbody>\n",
              "</table>\n",
              "</div>"
            ],
            "text/plain": [
              "      CRIM    ZN  INDUS  CHAS    NOX  ...  RAD    TAX  PTRATIO       B  LSTAT\n",
              "0  0.00632  18.0   2.31   0.0  0.538  ...  1.0  296.0     15.3  396.90   4.98\n",
              "1  0.02731   0.0   7.07   0.0  0.469  ...  2.0  242.0     17.8  396.90   9.14\n",
              "2  0.02729   0.0   7.07   0.0  0.469  ...  2.0  242.0     17.8  392.83   4.03\n",
              "3  0.03237   0.0   2.18   0.0  0.458  ...  3.0  222.0     18.7  394.63   2.94\n",
              "4  0.06905   0.0   2.18   0.0  0.458  ...  3.0  222.0     18.7  396.90   5.33\n",
              "\n",
              "[5 rows x 13 columns]"
            ]
          },
          "metadata": {
            "tags": []
          },
          "execution_count": 14
        }
      ]
    },
    {
      "cell_type": "code",
      "metadata": {
        "id": "GFCoXIPFR0fo",
        "colab_type": "code",
        "outputId": "d556b650-8038-4d32-8304-a3cad776727f",
        "colab": {
          "base_uri": "https://localhost:8080/",
          "height": 238
        }
      },
      "source": [
        "# check VIF\n",
        "df_selected_cols = df\n",
        "\n",
        "model_coeff(df_selected_cols, y)"
      ],
      "execution_count": 15,
      "outputs": [
        {
          "output_type": "stream",
          "text": [
            "CRIM            : -0.098542\n",
            "ZN              : 0.060784\n",
            "INDUS           : 0.059172\n",
            "CHAS            : 2.439560\n",
            "NOX             : -21.469965\n",
            "RM              : 2.795814\n",
            "AGE             : 0.003575\n",
            "DIS             : -1.516272\n",
            "RAD             : 0.307542\n",
            "TAX             : -0.011280\n",
            "PTRATIO         : -1.005466\n",
            "B               : 0.006450\n",
            "LSTAT           : -0.568835\n"
          ],
          "name": "stdout"
        }
      ]
    },
    {
      "cell_type": "code",
      "metadata": {
        "id": "veJcACwMR0fq",
        "colab_type": "code",
        "outputId": "abbcf137-8208-44cc-930b-38c86e7c7fc3",
        "colab": {
          "base_uri": "https://localhost:8080/",
          "height": 255
        }
      },
      "source": [
        "df['AGE_IN_DAYS'] = df['AGE'] * 365 +10\n",
        "\n",
        "# check VIF\n",
        "df_selected_cols = df\n",
        "\n",
        "model_coeff(df_selected_cols, y)"
      ],
      "execution_count": 16,
      "outputs": [
        {
          "output_type": "stream",
          "text": [
            "CRIM            : -0.098542\n",
            "ZN              : 0.060784\n",
            "INDUS           : 0.059172\n",
            "CHAS            : 2.439560\n",
            "NOX             : -21.469965\n",
            "RM              : 2.795814\n",
            "AGE             : 0.000000\n",
            "DIS             : -1.516272\n",
            "RAD             : 0.307542\n",
            "TAX             : -0.011280\n",
            "PTRATIO         : -1.005466\n",
            "B               : 0.006450\n",
            "LSTAT           : -0.568835\n",
            "AGE_IN_DAYS     : 0.000010\n"
          ],
          "name": "stdout"
        }
      ]
    },
    {
      "cell_type": "code",
      "metadata": {
        "id": "iYVtCT--R0ft",
        "colab_type": "code",
        "outputId": "aed7beab-425c-48b3-d1f1-ede1f0a2cbb5",
        "colab": {
          "base_uri": "https://localhost:8080/",
          "height": 340
        }
      },
      "source": [
        "# check VIF for all columns\n",
        "df_selected_cols = df\n",
        "\n",
        "multicoll_eigen(df_selected_cols, y)"
      ],
      "execution_count": 17,
      "outputs": [
        {
          "output_type": "stream",
          "text": [
            "[6.77 1.59 1.24 0.83 0.89 0.66 0.56 0.5  0.06 0.28 0.24 0.17 0.2  0.  ]\n",
            "[[-0.23 -0.33  0.24  0.09  0.   -0.26  0.55  0.56 -0.05 -0.25 -0.09 -0.11  0.09  0.  ]\n",
            " [ 0.25 -0.25  0.28  0.33  0.   -0.38  0.   -0.5   0.08 -0.37 -0.11  0.11 -0.35  0.  ]\n",
            " [-0.33  0.04 -0.01 -0.01  0.08 -0.02 -0.42 -0.01  0.25 -0.64  0.08  0.07  0.48  0.  ]\n",
            " [-0.01  0.36  0.31  0.13  0.85  0.12  0.15 -0.03 -0.04  0.01  0.01  0.01 -0.01 -0.  ]\n",
            " [-0.33  0.15  0.13  0.13 -0.06 -0.09 -0.32  0.05 -0.04  0.01 -0.05 -0.77 -0.34  0.  ]\n",
            " [ 0.17  0.18  0.6  -0.44 -0.26  0.05  0.13 -0.11 -0.04 -0.11  0.51 -0.12  0.08  0.  ]\n",
            " [-0.32  0.32 -0.01  0.01 -0.18 -0.11  0.3  -0.31  0.02  0.04 -0.21  0.04  0.13 -0.71]\n",
            " [ 0.31 -0.28 -0.06  0.11  0.11 -0.04  0.12 -0.29  0.02  0.17 -0.06 -0.52  0.62  0.  ]\n",
            " [-0.29 -0.31  0.28 -0.2   0.12 -0.15 -0.12 -0.06  0.63  0.48 -0.01  0.11 -0.02  0.  ]\n",
            " [-0.31 -0.29  0.22 -0.12  0.1  -0.18 -0.28 -0.15 -0.72  0.19 -0.05  0.19  0.15 -0.  ]\n",
            " [-0.19 -0.32 -0.33 -0.57  0.26  0.2   0.25 -0.29 -0.02 -0.27 -0.   -0.18 -0.27  0.  ]\n",
            " [ 0.19  0.26 -0.29 -0.34  0.17 -0.8  -0.06  0.12  0.    0.03  0.12 -0.03  0.01  0.  ]\n",
            " [-0.29 -0.09 -0.27  0.4   0.04 -0.07  0.17 -0.14 -0.02  0.1   0.78  0.02 -0.04  0.  ]\n",
            " [-0.32  0.32 -0.01  0.01 -0.18 -0.11  0.3  -0.31  0.02  0.04 -0.21  0.04  0.13  0.71]]\n"
          ],
          "name": "stdout"
        },
        {
          "output_type": "stream",
          "text": [
            "/usr/local/lib/python3.6/dist-packages/ipykernel_launcher.py:6: DeprecationWarning: scipy.corrcoef is deprecated and will be removed in SciPy 2.0.0, use numpy.corrcoef instead\n",
            "  \n",
            "/usr/local/lib/python3.6/dist-packages/ipykernel_launcher.py:9: DeprecationWarning: scipy.corrcoef is deprecated and will be removed in SciPy 2.0.0, use numpy.corrcoef instead\n",
            "  if __name__ == '__main__':\n"
          ],
          "name": "stderr"
        }
      ]
    },
    {
      "cell_type": "code",
      "metadata": {
        "id": "mAhtpIkeR0fw",
        "colab_type": "code",
        "outputId": "f96b5d8c-8180-4767-f0c8-e610e6d9860e",
        "colab": {
          "base_uri": "https://localhost:8080/",
          "height": 272
        }
      },
      "source": [
        "df['AGE_IN_DAYS'] = df['AGE'] * 365 / 10\n",
        "df['RM_SQUARED']  = df['RM'] ** 2\n",
        "\n",
        "# check VIF\n",
        "df_selected_cols = df\n",
        "\n",
        "model_coeff(df_selected_cols, y)"
      ],
      "execution_count": 18,
      "outputs": [
        {
          "output_type": "stream",
          "text": [
            "CRIM            : -0.124955\n",
            "ZN              : 0.045138\n",
            "INDUS           : 0.087996\n",
            "CHAS            : 1.802381\n",
            "NOX             : -20.797713\n",
            "RM              : -28.059592\n",
            "AGE             : -0.000000\n",
            "DIS             : -1.235400\n",
            "RAD             : 0.280806\n",
            "TAX             : -0.011199\n",
            "PTRATIO         : -0.847498\n",
            "B               : 0.005826\n",
            "LSTAT           : -0.556937\n",
            "AGE_IN_DAYS     : -0.000015\n",
            "RM_SQUARED      : 2.448717\n"
          ],
          "name": "stdout"
        }
      ]
    },
    {
      "cell_type": "code",
      "metadata": {
        "id": "J0_WBBakR0fy",
        "colab_type": "code",
        "outputId": "7109e6b5-23fd-4fc9-a707-27a84db5d115",
        "colab": {
          "base_uri": "https://localhost:8080/",
          "height": 357
        }
      },
      "source": [
        "# check VIF for all columns\n",
        "df_selected_cols = df\n",
        "\n",
        "multicoll_eigen(df_selected_cols, y)"
      ],
      "execution_count": 19,
      "outputs": [
        {
          "output_type": "stream",
          "text": [
            "[6.99 1.95 1.53 0.94 0.86 0.66 0.56 0.51 0.28 0.27 0.2  0.17 0.06 0.   0.  ]\n",
            "[[-0.22 -0.01  0.39  0.11  0.08 -0.25  0.52 -0.6   0.16  0.2  -0.09  0.11 -0.05 -0.01  0.  ]\n",
            " [ 0.24  0.04  0.31  0.29  0.27 -0.37  0.04  0.5   0.24  0.31  0.35 -0.1   0.08 -0.01 -0.  ]\n",
            " [-0.32 -0.04 -0.03  0.05 -0.06 -0.02 -0.4   0.05  0.61  0.23 -0.47 -0.09  0.25  0.01 -0.  ]\n",
            " [-0.01 -0.23 -0.24  0.81 -0.43  0.13  0.17  0.03  0.   -0.02  0.01 -0.01 -0.04 -0.    0.  ]\n",
            " [-0.32 -0.17 -0.08  0.09  0.16 -0.09 -0.32 -0.03 -0.01  0.    0.33  0.78 -0.04 -0.    0.  ]\n",
            " [ 0.19 -0.57  0.17 -0.18 -0.07  0.03  0.06  0.06  0.17 -0.17 -0.04  0.06 -0.03 -0.71 -0.  ]\n",
            " [-0.31 -0.21 -0.26 -0.12  0.13 -0.1   0.3   0.28 -0.17  0.18 -0.13 -0.03  0.02 -0.   -0.71]\n",
            " [ 0.3   0.24  0.19  0.1  -0.01 -0.03  0.16  0.3  -0.13 -0.09 -0.63  0.52  0.02  0.02  0.  ]\n",
            " [-0.28 -0.08  0.42  0.07 -0.19 -0.16 -0.14  0.05 -0.43 -0.22  0.02 -0.11  0.63 -0.01 -0.  ]\n",
            " [-0.3  -0.04  0.36  0.07 -0.13 -0.19 -0.28  0.16 -0.19 -0.06 -0.15 -0.19 -0.72  0.    0.  ]\n",
            " [-0.19  0.24  0.17 -0.32 -0.64  0.2   0.25  0.27  0.22  0.16  0.27  0.18 -0.02  0.01  0.  ]\n",
            " [ 0.18  0.05 -0.35 -0.15 -0.38 -0.8  -0.05 -0.11  0.04 -0.13 -0.01  0.03  0.01 -0.01 -0.  ]\n",
            " [-0.3   0.21 -0.05  0.09  0.22 -0.05  0.25  0.18  0.36 -0.76  0.07 -0.06 -0.02 -0.01 -0.  ]\n",
            " [-0.31 -0.21 -0.26 -0.12  0.13 -0.1   0.3   0.28 -0.17  0.18 -0.13 -0.03  0.02 -0.    0.71]\n",
            " [ 0.19 -0.58  0.17 -0.17 -0.06  0.01  0.06  0.04  0.17 -0.18 -0.02  0.04 -0.02  0.71  0.  ]]\n"
          ],
          "name": "stdout"
        },
        {
          "output_type": "stream",
          "text": [
            "/usr/local/lib/python3.6/dist-packages/ipykernel_launcher.py:6: DeprecationWarning: scipy.corrcoef is deprecated and will be removed in SciPy 2.0.0, use numpy.corrcoef instead\n",
            "  \n",
            "/usr/local/lib/python3.6/dist-packages/ipykernel_launcher.py:9: DeprecationWarning: scipy.corrcoef is deprecated and will be removed in SciPy 2.0.0, use numpy.corrcoef instead\n",
            "  if __name__ == '__main__':\n"
          ],
          "name": "stderr"
        }
      ]
    },
    {
      "cell_type": "code",
      "metadata": {
        "id": "wC2ZJ9mLR0f0",
        "colab_type": "code",
        "colab": {
          "base_uri": "https://localhost:8080/",
          "height": 514
        },
        "outputId": "4275de3d-c0f4-4e89-eca0-8219b1381a56"
      },
      "source": [
        "df.corr()"
      ],
      "execution_count": 20,
      "outputs": [
        {
          "output_type": "execute_result",
          "data": {
            "text/html": [
              "<div>\n",
              "<style scoped>\n",
              "    .dataframe tbody tr th:only-of-type {\n",
              "        vertical-align: middle;\n",
              "    }\n",
              "\n",
              "    .dataframe tbody tr th {\n",
              "        vertical-align: top;\n",
              "    }\n",
              "\n",
              "    .dataframe thead th {\n",
              "        text-align: right;\n",
              "    }\n",
              "</style>\n",
              "<table border=\"1\" class=\"dataframe\">\n",
              "  <thead>\n",
              "    <tr style=\"text-align: right;\">\n",
              "      <th></th>\n",
              "      <th>CRIM</th>\n",
              "      <th>ZN</th>\n",
              "      <th>INDUS</th>\n",
              "      <th>CHAS</th>\n",
              "      <th>NOX</th>\n",
              "      <th>RM</th>\n",
              "      <th>AGE</th>\n",
              "      <th>DIS</th>\n",
              "      <th>RAD</th>\n",
              "      <th>TAX</th>\n",
              "      <th>PTRATIO</th>\n",
              "      <th>B</th>\n",
              "      <th>LSTAT</th>\n",
              "      <th>AGE_IN_DAYS</th>\n",
              "      <th>RM_SQUARED</th>\n",
              "    </tr>\n",
              "  </thead>\n",
              "  <tbody>\n",
              "    <tr>\n",
              "      <th>CRIM</th>\n",
              "      <td>1.000000</td>\n",
              "      <td>-0.200469</td>\n",
              "      <td>0.406583</td>\n",
              "      <td>-0.055892</td>\n",
              "      <td>0.420972</td>\n",
              "      <td>-0.219247</td>\n",
              "      <td>0.352734</td>\n",
              "      <td>-0.379670</td>\n",
              "      <td>0.625505</td>\n",
              "      <td>0.582764</td>\n",
              "      <td>0.289946</td>\n",
              "      <td>-0.385064</td>\n",
              "      <td>0.455621</td>\n",
              "      <td>0.352734</td>\n",
              "      <td>-0.203683</td>\n",
              "    </tr>\n",
              "    <tr>\n",
              "      <th>ZN</th>\n",
              "      <td>-0.200469</td>\n",
              "      <td>1.000000</td>\n",
              "      <td>-0.533828</td>\n",
              "      <td>-0.042697</td>\n",
              "      <td>-0.516604</td>\n",
              "      <td>0.311991</td>\n",
              "      <td>-0.569537</td>\n",
              "      <td>0.664408</td>\n",
              "      <td>-0.311948</td>\n",
              "      <td>-0.314563</td>\n",
              "      <td>-0.391679</td>\n",
              "      <td>0.175520</td>\n",
              "      <td>-0.412995</td>\n",
              "      <td>-0.569537</td>\n",
              "      <td>0.307863</td>\n",
              "    </tr>\n",
              "    <tr>\n",
              "      <th>INDUS</th>\n",
              "      <td>0.406583</td>\n",
              "      <td>-0.533828</td>\n",
              "      <td>1.000000</td>\n",
              "      <td>0.062938</td>\n",
              "      <td>0.763651</td>\n",
              "      <td>-0.391676</td>\n",
              "      <td>0.644779</td>\n",
              "      <td>-0.708027</td>\n",
              "      <td>0.595129</td>\n",
              "      <td>0.720760</td>\n",
              "      <td>0.383248</td>\n",
              "      <td>-0.356977</td>\n",
              "      <td>0.603800</td>\n",
              "      <td>0.644779</td>\n",
              "      <td>-0.382654</td>\n",
              "    </tr>\n",
              "    <tr>\n",
              "      <th>CHAS</th>\n",
              "      <td>-0.055892</td>\n",
              "      <td>-0.042697</td>\n",
              "      <td>0.062938</td>\n",
              "      <td>1.000000</td>\n",
              "      <td>0.091203</td>\n",
              "      <td>0.091251</td>\n",
              "      <td>0.086518</td>\n",
              "      <td>-0.099176</td>\n",
              "      <td>-0.007368</td>\n",
              "      <td>-0.035587</td>\n",
              "      <td>-0.121515</td>\n",
              "      <td>0.048788</td>\n",
              "      <td>-0.053929</td>\n",
              "      <td>0.086518</td>\n",
              "      <td>0.098034</td>\n",
              "    </tr>\n",
              "    <tr>\n",
              "      <th>NOX</th>\n",
              "      <td>0.420972</td>\n",
              "      <td>-0.516604</td>\n",
              "      <td>0.763651</td>\n",
              "      <td>0.091203</td>\n",
              "      <td>1.000000</td>\n",
              "      <td>-0.302188</td>\n",
              "      <td>0.731470</td>\n",
              "      <td>-0.769230</td>\n",
              "      <td>0.611441</td>\n",
              "      <td>0.668023</td>\n",
              "      <td>0.188933</td>\n",
              "      <td>-0.380051</td>\n",
              "      <td>0.590879</td>\n",
              "      <td>0.731470</td>\n",
              "      <td>-0.283930</td>\n",
              "    </tr>\n",
              "    <tr>\n",
              "      <th>RM</th>\n",
              "      <td>-0.219247</td>\n",
              "      <td>0.311991</td>\n",
              "      <td>-0.391676</td>\n",
              "      <td>0.091251</td>\n",
              "      <td>-0.302188</td>\n",
              "      <td>1.000000</td>\n",
              "      <td>-0.240265</td>\n",
              "      <td>0.205246</td>\n",
              "      <td>-0.209847</td>\n",
              "      <td>-0.292048</td>\n",
              "      <td>-0.355501</td>\n",
              "      <td>0.128069</td>\n",
              "      <td>-0.613808</td>\n",
              "      <td>-0.240265</td>\n",
              "      <td>0.994528</td>\n",
              "    </tr>\n",
              "    <tr>\n",
              "      <th>AGE</th>\n",
              "      <td>0.352734</td>\n",
              "      <td>-0.569537</td>\n",
              "      <td>0.644779</td>\n",
              "      <td>0.086518</td>\n",
              "      <td>0.731470</td>\n",
              "      <td>-0.240265</td>\n",
              "      <td>1.000000</td>\n",
              "      <td>-0.747881</td>\n",
              "      <td>0.456022</td>\n",
              "      <td>0.506456</td>\n",
              "      <td>0.261515</td>\n",
              "      <td>-0.273534</td>\n",
              "      <td>0.602339</td>\n",
              "      <td>1.000000</td>\n",
              "      <td>-0.222991</td>\n",
              "    </tr>\n",
              "    <tr>\n",
              "      <th>DIS</th>\n",
              "      <td>-0.379670</td>\n",
              "      <td>0.664408</td>\n",
              "      <td>-0.708027</td>\n",
              "      <td>-0.099176</td>\n",
              "      <td>-0.769230</td>\n",
              "      <td>0.205246</td>\n",
              "      <td>-0.747881</td>\n",
              "      <td>1.000000</td>\n",
              "      <td>-0.494588</td>\n",
              "      <td>-0.534432</td>\n",
              "      <td>-0.232471</td>\n",
              "      <td>0.291512</td>\n",
              "      <td>-0.496996</td>\n",
              "      <td>-0.747881</td>\n",
              "      <td>0.183715</td>\n",
              "    </tr>\n",
              "    <tr>\n",
              "      <th>RAD</th>\n",
              "      <td>0.625505</td>\n",
              "      <td>-0.311948</td>\n",
              "      <td>0.595129</td>\n",
              "      <td>-0.007368</td>\n",
              "      <td>0.611441</td>\n",
              "      <td>-0.209847</td>\n",
              "      <td>0.456022</td>\n",
              "      <td>-0.494588</td>\n",
              "      <td>1.000000</td>\n",
              "      <td>0.910228</td>\n",
              "      <td>0.464741</td>\n",
              "      <td>-0.444413</td>\n",
              "      <td>0.488676</td>\n",
              "      <td>0.456022</td>\n",
              "      <td>-0.196734</td>\n",
              "    </tr>\n",
              "    <tr>\n",
              "      <th>TAX</th>\n",
              "      <td>0.582764</td>\n",
              "      <td>-0.314563</td>\n",
              "      <td>0.720760</td>\n",
              "      <td>-0.035587</td>\n",
              "      <td>0.668023</td>\n",
              "      <td>-0.292048</td>\n",
              "      <td>0.506456</td>\n",
              "      <td>-0.534432</td>\n",
              "      <td>0.910228</td>\n",
              "      <td>1.000000</td>\n",
              "      <td>0.460853</td>\n",
              "      <td>-0.441808</td>\n",
              "      <td>0.543993</td>\n",
              "      <td>0.506456</td>\n",
              "      <td>-0.280877</td>\n",
              "    </tr>\n",
              "    <tr>\n",
              "      <th>PTRATIO</th>\n",
              "      <td>0.289946</td>\n",
              "      <td>-0.391679</td>\n",
              "      <td>0.383248</td>\n",
              "      <td>-0.121515</td>\n",
              "      <td>0.188933</td>\n",
              "      <td>-0.355501</td>\n",
              "      <td>0.261515</td>\n",
              "      <td>-0.232471</td>\n",
              "      <td>0.464741</td>\n",
              "      <td>0.460853</td>\n",
              "      <td>1.000000</td>\n",
              "      <td>-0.177383</td>\n",
              "      <td>0.374044</td>\n",
              "      <td>0.261515</td>\n",
              "      <td>-0.365443</td>\n",
              "    </tr>\n",
              "    <tr>\n",
              "      <th>B</th>\n",
              "      <td>-0.385064</td>\n",
              "      <td>0.175520</td>\n",
              "      <td>-0.356977</td>\n",
              "      <td>0.048788</td>\n",
              "      <td>-0.380051</td>\n",
              "      <td>0.128069</td>\n",
              "      <td>-0.273534</td>\n",
              "      <td>0.291512</td>\n",
              "      <td>-0.444413</td>\n",
              "      <td>-0.441808</td>\n",
              "      <td>-0.177383</td>\n",
              "      <td>1.000000</td>\n",
              "      <td>-0.366087</td>\n",
              "      <td>-0.273534</td>\n",
              "      <td>0.125611</td>\n",
              "    </tr>\n",
              "    <tr>\n",
              "      <th>LSTAT</th>\n",
              "      <td>0.455621</td>\n",
              "      <td>-0.412995</td>\n",
              "      <td>0.603800</td>\n",
              "      <td>-0.053929</td>\n",
              "      <td>0.590879</td>\n",
              "      <td>-0.613808</td>\n",
              "      <td>0.602339</td>\n",
              "      <td>-0.496996</td>\n",
              "      <td>0.488676</td>\n",
              "      <td>0.543993</td>\n",
              "      <td>0.374044</td>\n",
              "      <td>-0.366087</td>\n",
              "      <td>1.000000</td>\n",
              "      <td>0.602339</td>\n",
              "      <td>-0.600346</td>\n",
              "    </tr>\n",
              "    <tr>\n",
              "      <th>AGE_IN_DAYS</th>\n",
              "      <td>0.352734</td>\n",
              "      <td>-0.569537</td>\n",
              "      <td>0.644779</td>\n",
              "      <td>0.086518</td>\n",
              "      <td>0.731470</td>\n",
              "      <td>-0.240265</td>\n",
              "      <td>1.000000</td>\n",
              "      <td>-0.747881</td>\n",
              "      <td>0.456022</td>\n",
              "      <td>0.506456</td>\n",
              "      <td>0.261515</td>\n",
              "      <td>-0.273534</td>\n",
              "      <td>0.602339</td>\n",
              "      <td>1.000000</td>\n",
              "      <td>-0.222991</td>\n",
              "    </tr>\n",
              "    <tr>\n",
              "      <th>RM_SQUARED</th>\n",
              "      <td>-0.203683</td>\n",
              "      <td>0.307863</td>\n",
              "      <td>-0.382654</td>\n",
              "      <td>0.098034</td>\n",
              "      <td>-0.283930</td>\n",
              "      <td>0.994528</td>\n",
              "      <td>-0.222991</td>\n",
              "      <td>0.183715</td>\n",
              "      <td>-0.196734</td>\n",
              "      <td>-0.280877</td>\n",
              "      <td>-0.365443</td>\n",
              "      <td>0.125611</td>\n",
              "      <td>-0.600346</td>\n",
              "      <td>-0.222991</td>\n",
              "      <td>1.000000</td>\n",
              "    </tr>\n",
              "  </tbody>\n",
              "</table>\n",
              "</div>"
            ],
            "text/plain": [
              "                 CRIM        ZN     INDUS  ...     LSTAT  AGE_IN_DAYS  RM_SQUARED\n",
              "CRIM         1.000000 -0.200469  0.406583  ...  0.455621     0.352734   -0.203683\n",
              "ZN          -0.200469  1.000000 -0.533828  ... -0.412995    -0.569537    0.307863\n",
              "INDUS        0.406583 -0.533828  1.000000  ...  0.603800     0.644779   -0.382654\n",
              "CHAS        -0.055892 -0.042697  0.062938  ... -0.053929     0.086518    0.098034\n",
              "NOX          0.420972 -0.516604  0.763651  ...  0.590879     0.731470   -0.283930\n",
              "RM          -0.219247  0.311991 -0.391676  ... -0.613808    -0.240265    0.994528\n",
              "AGE          0.352734 -0.569537  0.644779  ...  0.602339     1.000000   -0.222991\n",
              "DIS         -0.379670  0.664408 -0.708027  ... -0.496996    -0.747881    0.183715\n",
              "RAD          0.625505 -0.311948  0.595129  ...  0.488676     0.456022   -0.196734\n",
              "TAX          0.582764 -0.314563  0.720760  ...  0.543993     0.506456   -0.280877\n",
              "PTRATIO      0.289946 -0.391679  0.383248  ...  0.374044     0.261515   -0.365443\n",
              "B           -0.385064  0.175520 -0.356977  ... -0.366087    -0.273534    0.125611\n",
              "LSTAT        0.455621 -0.412995  0.603800  ...  1.000000     0.602339   -0.600346\n",
              "AGE_IN_DAYS  0.352734 -0.569537  0.644779  ...  0.602339     1.000000   -0.222991\n",
              "RM_SQUARED  -0.203683  0.307863 -0.382654  ... -0.600346    -0.222991    1.000000\n",
              "\n",
              "[15 rows x 15 columns]"
            ]
          },
          "metadata": {
            "tags": []
          },
          "execution_count": 20
        }
      ]
    },
    {
      "cell_type": "code",
      "metadata": {
        "id": "0hsVPy_Wiiel",
        "colab_type": "code",
        "colab": {}
      },
      "source": [
        "import seaborn as sns"
      ],
      "execution_count": 0,
      "outputs": []
    },
    {
      "cell_type": "code",
      "metadata": {
        "id": "lXWrsOCgkU3P",
        "colab_type": "code",
        "colab": {
          "base_uri": "https://localhost:8080/",
          "height": 397
        },
        "outputId": "3b7664f1-30d7-4fb2-e4bf-ee64d3b56ac5"
      },
      "source": [
        "sns.heatmap(df.corr())"
      ],
      "execution_count": 22,
      "outputs": [
        {
          "output_type": "execute_result",
          "data": {
            "text/plain": [
              "<matplotlib.axes._subplots.AxesSubplot at 0x7f08eef8bcf8>"
            ]
          },
          "metadata": {
            "tags": []
          },
          "execution_count": 22
        },
        {
          "output_type": "display_data",
          "data": {
            "image/png": "[encoded data removed]",
            "text/plain": [
              "<Figure size 432x288 with 2 Axes>"
            ]
          },
          "metadata": {
            "tags": [],
            "needs_background": "light"
          }
        }
      ]
    },
    {
      "cell_type": "code",
      "metadata": {
        "id": "gZOADM79kZzU",
        "colab_type": "code",
        "colab": {}
      },
      "source": [
        ""
      ],
      "execution_count": 0,
      "outputs": []
    }
  ]
}