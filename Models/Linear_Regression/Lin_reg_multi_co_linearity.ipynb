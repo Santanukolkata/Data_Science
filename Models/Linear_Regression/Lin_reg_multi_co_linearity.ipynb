{
  "nbformat": 4,
  "nbformat_minor": 0,
  "metadata": {
    "colab": {
      "name": "Lin_reg_multi_co_linearity.ipynb",
      "provenance": [],
      "collapsed_sections": [],
      "authorship_tag": "ABX9TyM3gxQBhC6szXuM3Uza74tJ",
      "include_colab_link": true
    },
    "kernelspec": {
      "name": "python3",
      "display_name": "Python 3"
    }
  },
  "cells": [
    {
      "cell_type": "markdown",
      "metadata": {
        "id": "view-in-github",
        "colab_type": "text"
      },
      "source": [
        "<a href=\"https://colab.research.google.com/github/Santanukolkata/Data_Science/blob/master/Models/Linear_Regression/Lin_reg_multi_co_linearity.ipynb\" target=\"_parent\"><img src=\"https://colab.research.google.com/assets/colab-badge.svg\" alt=\"Open In Colab\"/></a>"
      ]
    },
    {
      "cell_type": "markdown",
      "metadata": {
        "id": "aeGhXvzif56I",
        "colab_type": "text"
      },
      "source": [
        "Reference :\n",
        "https://stattrek.com/multiple-regression/regression-coefficients.aspx"
      ]
    },
    {
      "cell_type": "code",
      "metadata": {
        "id": "nQH1Qf8Gy1HP",
        "colab_type": "code",
        "colab": {}
      },
      "source": [
        "import pandas as pd\n",
        "price = [160,180,200,220,240,260,280]\n",
        "sale = [126,103,82,75,82,40,20]\n",
        "cars = [0,9,19,5,25,1,20]\n",
        "priceDF = pd.DataFrame(price, columns=list('x'))\n",
        "saleDF = pd.DataFrame(sale, columns=list('y'))\n",
        "carsDf = pd.DataFrame(cars, columns=list('z'))\n",
        "houseDf = pd.concat([priceDF,saleDF,carsDf],axis=1)\n",
        "X = houseDf.drop(['y'], axis=1)\n",
        "y = houseDf.y"
      ],
      "execution_count": 1,
      "outputs": []
    },
    {
      "cell_type": "code",
      "metadata": {
        "id": "hvpJPVTGzZVR",
        "colab_type": "code",
        "colab": {}
      },
      "source": [
        "import numpy as np\n",
        "from sklearn.linear_model import LinearRegression"
      ],
      "execution_count": 3,
      "outputs": []
    },
    {
      "cell_type": "code",
      "metadata": {
        "id": "TamChwq4zfgK",
        "colab_type": "code",
        "colab": {
          "base_uri": "https://localhost:8080/",
          "height": 35
        },
        "outputId": "76f6ca8b-e94c-4e0c-8bbc-146794c6a17f"
      },
      "source": [
        "\n",
        "# Instantiate\n",
        "linreg = LinearRegression()\n",
        "\n",
        "# Fit\n",
        "linreg.fit(X, y)"
      ],
      "execution_count": 4,
      "outputs": [
        {
          "output_type": "execute_result",
          "data": {
            "text/plain": [
              "LinearRegression(copy_X=True, fit_intercept=True, n_jobs=None, normalize=False)"
            ]
          },
          "metadata": {
            "tags": []
          },
          "execution_count": 4
        }
      ]
    },
    {
      "cell_type": "code",
      "metadata": {
        "id": "DfdTN7PC1i5Y",
        "colab_type": "code",
        "colab": {
          "base_uri": "https://localhost:8080/",
          "height": 35
        },
        "outputId": "f01c06ea-7578-460d-bbe3-198b46d3257d"
      },
      "source": [
        "linreg.coef_"
      ],
      "execution_count": 5,
      "outputs": [
        {
          "output_type": "execute_result",
          "data": {
            "text/plain": [
              "array([-0.82493525,  0.35927476])"
            ]
          },
          "metadata": {
            "tags": []
          },
          "execution_count": 5
        }
      ]
    },
    {
      "cell_type": "code",
      "metadata": {
        "id": "47HUBjs61m_T",
        "colab_type": "code",
        "colab": {
          "base_uri": "https://localhost:8080/",
          "height": 35
        },
        "outputId": "2892f867-068f-4581-8f2f-19b9809438f2"
      },
      "source": [
        "linreg.intercept_"
      ],
      "execution_count": 50,
      "outputs": [
        {
          "output_type": "execute_result",
          "data": {
            "text/plain": [
              "252.85965331739396"
            ]
          },
          "metadata": {
            "tags": []
          },
          "execution_count": 50
        }
      ]
    },
    {
      "cell_type": "code",
      "metadata": {
        "id": "uTneIG1_1-CB",
        "colab_type": "code",
        "colab": {}
      },
      "source": [
        "y_hat = np.array(X).dot(np.array(linreg.coef_)).flatten() + linreg.intercept_ "
      ],
      "execution_count": 13,
      "outputs": []
    },
    {
      "cell_type": "code",
      "metadata": {
        "id": "nXY7QBrH2YWr",
        "colab_type": "code",
        "colab": {}
      },
      "source": [
        "Y_predict =linreg.predict(X)"
      ],
      "execution_count": 9,
      "outputs": []
    },
    {
      "cell_type": "code",
      "metadata": {
        "id": "SAvXzxgq23kz",
        "colab_type": "code",
        "colab": {
          "base_uri": "https://localhost:8080/",
          "height": 52
        },
        "outputId": "385c88d9-821c-4341-f1de-367aba8fbd8d"
      },
      "source": [
        "Y_predict"
      ],
      "execution_count": 10,
      "outputs": [
        {
          "output_type": "execute_result",
          "data": {
            "text/plain": [
              "array([120.87001395, 107.60478183,  94.69882447,  73.17027296,\n",
              "        63.85706316,  38.7357641 ,  29.06327954])"
            ]
          },
          "metadata": {
            "tags": []
          },
          "execution_count": 10
        }
      ]
    },
    {
      "cell_type": "code",
      "metadata": {
        "id": "vouuBPwd25ib",
        "colab_type": "code",
        "colab": {
          "base_uri": "https://localhost:8080/",
          "height": 52
        },
        "outputId": "1ecf39de-b77b-4712-cb93-9c13602a165d"
      },
      "source": [
        "y_hat"
      ],
      "execution_count": 14,
      "outputs": [
        {
          "output_type": "execute_result",
          "data": {
            "text/plain": [
              "array([120.87001395, 107.60478183,  94.69882447,  73.17027296,\n",
              "        63.85706316,  38.7357641 ,  29.06327954])"
            ]
          },
          "metadata": {
            "tags": []
          },
          "execution_count": 14
        }
      ]
    },
    {
      "cell_type": "code",
      "metadata": {
        "id": "ek4zFWvi27oY",
        "colab_type": "code",
        "colab": {
          "base_uri": "https://localhost:8080/",
          "height": 312
        },
        "outputId": "2fdae135-c0a8-45c8-ab41-703bfadd82b8"
      },
      "source": [
        "np.set_printoptions(suppress=True)\n",
        "X1 = np.array([160,180,200,220,240,260,280])\n",
        "X2 = np.array([0,9,19,5,25,1,20])\n",
        "Y = np.array([126,103,82,75,82,40,20])\n",
        "\n",
        "X=np.column_stack((X1,X2))\n",
        "X=np.column_stack((np.ones(len(Y)),X))\n",
        "print(X)\n",
        "X1 =np.transpose(X).dot(X)\n",
        "print(np.transpose(X))\n",
        "X1=np.transpose(X).dot(X)\n",
        "print(X1)\n",
        "X2 =np.linalg.inv(X1)\n",
        "print(X2)\n",
        "X3 =X2.dot(np.transpose(X).dot(Y))\n",
        "X3\n",
        "\n",
        "\n"
      ],
      "execution_count": 49,
      "outputs": [
        {
          "output_type": "stream",
          "text": [
            "[[  1. 160.   0.]\n",
            " [  1. 180.   9.]\n",
            " [  1. 200.  19.]\n",
            " [  1. 220.   5.]\n",
            " [  1. 240.  25.]\n",
            " [  1. 260.   1.]\n",
            " [  1. 280.  20.]]\n",
            "[[  1.   1.   1.   1.   1.   1.   1.]\n",
            " [160. 180. 200. 220. 240. 260. 280.]\n",
            " [  0.   9.  19.   5.  25.   1.  20.]]\n",
            "[[     7.   1540.     79.]\n",
            " [  1540. 350000.  18380.]\n",
            " [    79.  18380.   1493.]]\n",
            "[[ 4.6  -0.02  0.02]\n",
            " [-0.02  0.   -0.  ]\n",
            " [ 0.02 -0.    0.  ]]\n"
          ],
          "name": "stdout"
        },
        {
          "output_type": "execute_result",
          "data": {
            "text/plain": [
              "array([252.86,  -0.82,   0.36])"
            ]
          },
          "metadata": {
            "tags": []
          },
          "execution_count": 49
        }
      ]
    },
    {
      "cell_type": "code",
      "metadata": {
        "id": "_KiYs7QMZo-7",
        "colab_type": "code",
        "colab": {
          "base_uri": "https://localhost:8080/",
          "height": 69
        },
        "outputId": "eec8f92b-f621-4122-f67d-064eeba6a10e"
      },
      "source": [
        "np.transpose(X)"
      ],
      "execution_count": 26,
      "outputs": [
        {
          "output_type": "execute_result",
          "data": {
            "text/plain": [
              "array([[  1.,   1.,   1.,   1.,   1.,   1.,   1.],\n",
              "       [160., 180., 200., 220., 240., 260., 280.],\n",
              "       [  0.,   9.,  19.,   5.,  25.,   1.,  20.]])"
            ]
          },
          "metadata": {
            "tags": []
          },
          "execution_count": 26
        }
      ]
    },
    {
      "cell_type": "code",
      "metadata": {
        "id": "JYJpGL5_97CU",
        "colab_type": "code",
        "colab": {
          "base_uri": "https://localhost:8080/",
          "height": 69
        },
        "outputId": "65db25ef-aabe-4ff3-9527-d43816d54a35"
      },
      "source": [
        "X1 = np.array([160,180,200,220,240,260,280]).reshape(-1,1)\n",
        "Y = np.array([126,103,82,75,82,40,20])\n",
        "# Instantiate\n",
        "linreg = LinearRegression()\n",
        "\n",
        "# Fit\n",
        "linreg.fit(X1, Y)\n",
        "\n",
        "print(linreg.coef_)\n",
        "print(linreg.intercept_)\n",
        "\n",
        "\n",
        "\n",
        "mean_x1 = np.mean(X1)\n",
        "mean_x2 = np.mean(X2)\n",
        "mean_y = np.mean(Y)\n",
        "\n",
        "n = len(X1)\n",
        "\n",
        "# Using the formula to calculate b1 and b2\n",
        "numer = 0\n",
        "denom = 0\n",
        "\n",
        "for i in range(n):\n",
        "    numer += (X1[i] - mean_x1) * (Y[i] - mean_y)\n",
        "    denom += (X1[i] - mean_x1) ** 2\n",
        "    \n",
        "b1 = numer / denom\n",
        "b0 = mean_y - (b1 * mean_x1)\n",
        "\n",
        "# Printing coefficients\n",
        "print(b1,b0)\n",
        "\n"
      ],
      "execution_count": 54,
      "outputs": [
        {
          "output_type": "stream",
          "text": [
            "[-0.79]\n",
            "249.8571428571429\n",
            "[-0.79] [249.86]\n"
          ],
          "name": "stdout"
        }
      ]
    },
    {
      "cell_type": "code",
      "metadata": {
        "id": "u1Z4NOBRkYyS",
        "colab_type": "code",
        "colab": {}
      },
      "source": [
        ""
      ],
      "execution_count": null,
      "outputs": []
    }
  ]
}