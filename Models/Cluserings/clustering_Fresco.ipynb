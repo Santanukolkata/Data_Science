{
  "nbformat": 4,
  "nbformat_minor": 0,
  "metadata": {
    "colab": {
      "name": "clustering_Fresco.ipynb",
      "provenance": [],
      "collapsed_sections": [],
      "authorship_tag": "ABX9TyOCVi8wU3VZRX0FzY4vB3b1",
      "include_colab_link": true
    },
    "kernelspec": {
      "name": "python3",
      "display_name": "Python 3"
    }
  },
  "cells": [
    {
      "cell_type": "markdown",
      "metadata": {
        "id": "view-in-github",
        "colab_type": "text"
      },
      "source": [
        "<a href=\"https://colab.research.google.com/github/Santanukolkata/Data_Science/blob/master/Models/Cluserings/clustering_Fresco.ipynb\" target=\"_parent\"><img src=\"https://colab.research.google.com/assets/colab-badge.svg\" alt=\"Open In Colab\"/></a>"
      ]
    },
    {
      "cell_type": "markdown",
      "metadata": {
        "id": "i-MGUupwzVJi",
        "colab_type": "text"
      },
      "source": [
        "Import three modules sklearn.datasets, sklearn.cluster, and sklearn.metrics.\n",
        "\n",
        "Load popular iris dataset from sklearn.datasets module and assign it to variable iris.\n",
        "\n",
        "Cluster iris.data set into 3 clusters using K-means with default parameters. Name the model as km_cls.\n",
        "\n",
        "Hint : Import required utility from sklearn.cluster\n",
        "Determine the homogeneity score of the model and print it.\n",
        "\n",
        "Hint : Import required utility from sklearn.metrics"
      ]
    },
    {
      "cell_type": "code",
      "metadata": {
        "id": "Xv-eMJ9OzW2p",
        "colab_type": "code",
        "colab": {}
      },
      "source": [
        "from  sklearn.datasets import load_iris\n",
        "from sklearn.cluster import KMeans\n",
        "from sklearn.metrics.cluster import homogeneity_score"
      ],
      "execution_count": null,
      "outputs": []
    },
    {
      "cell_type": "code",
      "metadata": {
        "id": "MnFsg24KzzL6",
        "colab_type": "code",
        "colab": {}
      },
      "source": [
        "iris=load_iris()"
      ],
      "execution_count": null,
      "outputs": []
    },
    {
      "cell_type": "code",
      "metadata": {
        "id": "5VyjROz50ALd",
        "colab_type": "code",
        "colab": {}
      },
      "source": [
        "km_cls =KMeans(n_clusters=3)\n",
        "km_cls = km_cls.fit(iris.data)\n",
        "pred = km_cls.predict(iris.data)"
      ],
      "execution_count": null,
      "outputs": []
    },
    {
      "cell_type": "code",
      "metadata": {
        "id": "72LXc_zd0HRt",
        "colab_type": "code",
        "colab": {
          "base_uri": "https://localhost:8080/",
          "height": 35
        },
        "outputId": "e62df74b-cf61-4c68-9d69-9571f3f93d3c"
      },
      "source": [
        "homogeneity_score(iris.target, pred)"
      ],
      "execution_count": null,
      "outputs": [
        {
          "output_type": "execute_result",
          "data": {
            "text/plain": [
              "0.7514854021988338"
            ]
          },
          "metadata": {
            "tags": []
          },
          "execution_count": 11
        }
      ]
    },
    {
      "cell_type": "markdown",
      "metadata": {
        "id": "33qgvY463a5l",
        "colab_type": "text"
      },
      "source": [
        "Cluster iris.data set into 3 clusters using Agglomerative clustering. Name the model as agg_cls.\n",
        "\n",
        "Hint : Import required utility from sklearn.cluster\n",
        "Determine the homogeneity score of the model and print it.\n",
        "\n",
        "Hint : Import required utility from sklearn.metrics"
      ]
    },
    {
      "cell_type": "code",
      "metadata": {
        "id": "K1GPHXEx00as",
        "colab_type": "code",
        "colab": {}
      },
      "source": [
        "from sklearn.cluster import AgglomerativeClustering"
      ],
      "execution_count": null,
      "outputs": []
    },
    {
      "cell_type": "code",
      "metadata": {
        "id": "6sCWglJS062l",
        "colab_type": "code",
        "colab": {
          "base_uri": "https://localhost:8080/",
          "height": 35
        },
        "outputId": "8e081abf-f9e8-455b-c918-cf0c27862348"
      },
      "source": [
        "from sklearn.cluster import AgglomerativeClustering\n",
        "agg_cls =AgglomerativeClustering(n_clusters=3)\n",
        "agg_cls = agg_cls.fit(iris.data)\n",
        "print(homogeneity_score(iris.target, agg_cls.labels_))"
      ],
      "execution_count": null,
      "outputs": [
        {
          "output_type": "stream",
          "text": [
            "0.7608008469718723\n"
          ],
          "name": "stdout"
        }
      ]
    },
    {
      "cell_type": "markdown",
      "metadata": {
        "id": "qwACS-fg7ptf",
        "colab_type": "text"
      },
      "source": [
        "Cluster iris.data set using Affinity Propagation clustering method with default parameters. Name the model as af_cls.\n",
        "\n",
        "Hint : Import required utility from sklearn.cluster\n",
        "Determine the homogeneity score of the model and print it.\n",
        "\n",
        "Hint : Import required utility from sklearn.metrics"
      ]
    },
    {
      "cell_type": "code",
      "metadata": {
        "id": "mjVf2B6v4omQ",
        "colab_type": "code",
        "colab": {
          "base_uri": "https://localhost:8080/",
          "height": 35
        },
        "outputId": "1d2138c0-5f76-453e-cbab-69719b7cc2a0"
      },
      "source": [
        "from sklearn.cluster import AffinityPropagation\n",
        "af_cls =AffinityPropagation().fit(iris.data)\n",
        "pred = af_cls.predict(iris.data)\n",
        "print(homogeneity_score(iris.target, pred))"
      ],
      "execution_count": null,
      "outputs": [
        {
          "output_type": "stream",
          "text": [
            "0.9149410296693684\n"
          ],
          "name": "stdout"
        }
      ]
    },
    {
      "cell_type": "code",
      "metadata": {
        "id": "ItxXV-ZI-2ur",
        "colab_type": "code",
        "colab": {}
      },
      "source": [
        ""
      ],
      "execution_count": null,
      "outputs": []
    }
  ]
}