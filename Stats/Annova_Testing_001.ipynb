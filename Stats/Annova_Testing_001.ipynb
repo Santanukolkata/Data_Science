{
  "nbformat": 4,
  "nbformat_minor": 0,
  "metadata": {
    "colab": {
      "name": "Annova_Testing_001.ipynb",
      "provenance": [],
      "collapsed_sections": [],
      "authorship_tag": "ABX9TyPi9ohnIdmsGqfkAjwlu4Mb",
      "include_colab_link": true
    },
    "kernelspec": {
      "name": "python3",
      "display_name": "Python 3"
    }
  },
  "cells": [
    {
      "cell_type": "markdown",
      "metadata": {
        "id": "view-in-github",
        "colab_type": "text"
      },
      "source": [
        "<a href=\"https://colab.research.google.com/github/Santanukolkata/Data_Science/blob/master/Stats/Annova_Testing_001.ipynb\" target=\"_parent\"><img src=\"https://colab.research.google.com/assets/colab-badge.svg\" alt=\"Open In Colab\"/></a>"
      ]
    },
    {
      "cell_type": "markdown",
      "metadata": {
        "id": "2wMOiwmFaawH",
        "colab_type": "text"
      },
      "source": [
        "Analysis of Variance (ANOVA) is a statistical method used to test differences between two or more means. It may seem odd that the technique is called \"Analysis of Variance\" rather than \"Analysis of Means.\"\n",
        "\n",
        "is used when comparing three or more groups of numbers.\n",
        "\n",
        "While you could do multiple T-tests, as you increase the numbers of T-tests you do, you are more likely to encounter a Type I error. If you have a p value of 0.05 for each T-test, once you have run three T-tests, your p is effectively 0.143. ANOVA controls for this error such that the Type I error rate remains at 5%.\n",
        "\n",
        "An ANOVA will provide an F-statistic which can, along with degrees of freedom, be used to calculate a p value.\n",
        "\n",
        "ANOVAs assume independence of observations, homogeneity of variances and normally distributed observations within groups.\n",
        "\n",
        "Plant Growth Data Set\n",
        "\n",
        "The null hypothesis is that there is no difference between the means of the weights of dried plants under control and 2 different treatment conditions."
      ]
    },
    {
      "cell_type": "code",
      "metadata": {
        "id": "yDH0m_4Gah2g",
        "colab_type": "code",
        "colab": {
          "base_uri": "https://localhost:8080/",
          "height": 71
        },
        "outputId": "16a74752-8450-43e5-dc37-8029e374dd2e"
      },
      "source": [
        "from math import *\n",
        "import operator\n",
        "\n",
        "import pandas as pd\n",
        "import numpy as np\n",
        "import matplotlib\n",
        "import matplotlib.pyplot as plt\n",
        "%matplotlib inline \n",
        "from pandas.plotting import parallel_coordinates\n",
        "\n",
        "import seaborn as sns\n",
        "sns.set(style=\"white\", color_codes=True)\n",
        "\n",
        "from scipy import stats"
      ],
      "execution_count": 2,
      "outputs": [
        {
          "output_type": "stream",
          "text": [
            "/usr/local/lib/python3.6/dist-packages/statsmodels/tools/_testing.py:19: FutureWarning: pandas.util.testing is deprecated. Use the functions in the public API at pandas.testing instead.\n",
            "  import pandas.util.testing as tm\n"
          ],
          "name": "stderr"
        }
      ]
    },
    {
      "cell_type": "code",
      "metadata": {
        "id": "0Z3LUCEfakLA",
        "colab_type": "code",
        "colab": {}
      },
      "source": [
        "ctrl = [4.17, 5.58, 5.18, 6.11, 4.5, 4.61, 5.17, 4.53, 5.33, 5.14]\n",
        "trt1 = [4.81, 4.17, 4.41, 3.59, 5.87, 3.83, 6.03, 4.89, 4.32, 4.69]\n",
        "trt2 = [6.31, 5.12, 5.54, 5.5, 5.37, 5.29, 4.92, 6.15, 5.8, 5.26]"
      ],
      "execution_count": 4,
      "outputs": []
    },
    {
      "cell_type": "code",
      "metadata": {
        "id": "-EgXHpzNant_",
        "colab_type": "code",
        "colab": {
          "base_uri": "https://localhost:8080/",
          "height": 34
        },
        "outputId": "cbe6e0c8-910c-40e3-8c52-9b75ff67b45b"
      },
      "source": [
        "stats.f_oneway(ctrl, trt1, trt2)"
      ],
      "execution_count": 5,
      "outputs": [
        {
          "output_type": "execute_result",
          "data": {
            "text/plain": [
              "F_onewayResult(statistic=4.846087862380136, pvalue=0.0159099583256229)"
            ]
          },
          "metadata": {
            "tags": []
          },
          "execution_count": 5
        }
      ]
    },
    {
      "cell_type": "markdown",
      "metadata": {
        "id": "jYOba49XazKX",
        "colab_type": "text"
      },
      "source": [
        "**so p < 0.05, we can reject the null hypothesis that there is no difference between the means of the weights of dried plants under control and each of the 2 different treatment conditions.**"
      ]
    },
    {
      "cell_type": "markdown",
      "metadata": {
        "id": "24XtOMY6buD9",
        "colab_type": "text"
      },
      "source": [
        "ON Scores data"
      ]
    },
    {
      "cell_type": "code",
      "metadata": {
        "id": "iFFvSSaBauwx",
        "colab_type": "code",
        "colab": {}
      },
      "source": [
        "import numpy as np\n",
        "import pandas as pd\n",
        "from scipy import stats\n",
        "\n",
        "import statsmodels\n",
        "import statsmodels.api as sm\n",
        "from statsmodels.formula.api import ols\n",
        "\n",
        "import matplotlib.pyplot as plt\n",
        "from pandas.plotting import scatter_matrix\n",
        "%matplotlib inline \n",
        "\n",
        "import seaborn as sns\n",
        "sns.set(style=\"white\", color_codes=True)\n",
        "sns.set(font_scale=1.5)"
      ],
      "execution_count": 7,
      "outputs": []
    },
    {
      "cell_type": "code",
      "metadata": {
        "id": "XQ5qwjAkb-7N",
        "colab_type": "code",
        "colab": {
          "base_uri": "https://localhost:8080/",
          "height": 115
        },
        "outputId": "936af0ca-3181-42a7-bfc6-c9f952923ae7"
      },
      "source": [
        "# Python version\n",
        "import sys\n",
        "print('Python: {}'.format(sys.version))\n",
        "# scipy\n",
        "import scipy\n",
        "print('scipy: {}'.format(scipy.__version__))\n",
        "# numpy\n",
        "import numpy\n",
        "print('numpy: {}'.format(numpy.__version__))\n",
        "# matplotlib\n",
        "import matplotlib\n",
        "print('matplotlib: {}'.format(matplotlib.__version__))\n",
        "# pandas\n",
        "import pandas\n",
        "print('pandas: {}'.format(pandas.__version__))"
      ],
      "execution_count": 8,
      "outputs": [
        {
          "output_type": "stream",
          "text": [
            "Python: 3.6.9 (default, Apr 18 2020, 01:56:04) \n",
            "[GCC 8.4.0]\n",
            "scipy: 1.4.1\n",
            "numpy: 1.18.5\n",
            "matplotlib: 3.2.1\n",
            "pandas: 1.0.4\n"
          ],
          "name": "stdout"
        }
      ]
    },
    {
      "cell_type": "markdown",
      "metadata": {
        "id": "9SVM9g-4cSYc",
        "colab_type": "text"
      },
      "source": [
        "An Analysis of Variance Test or an ANOVA is a generalization of the t-tests to more than 2 groups.\n",
        "\n",
        "Our null hypothesis states that there are equal means in the populations from which the groups of data were sampled.\n",
        "\n",
        "More succinctly:\n",
        "\n",
        "𝜇1=𝜇2=...=𝜇𝑛  for 𝑛 groups of data.\n",
        "\n",
        "Our alternative hypothesis would be that any one of the equivalences in the above equation fail to be met."
      ]
    },
    {
      "cell_type": "code",
      "metadata": {
        "id": "HvmUHb7OcJmv",
        "colab_type": "code",
        "colab": {
          "base_uri": "https://localhost:8080/",
          "height": 500
        },
        "outputId": "18d19571-c088-488e-98b2-2123b76a7b77"
      },
      "source": [
        "data = pd.read_csv(\"https://raw.githubusercontent.com/Santanukolkata/Data_Science/master/Stats/scores.csv\")\n",
        "print(data.shape)\n",
        "data.head()\n"
      ],
      "execution_count": 31,
      "outputs": [
        {
          "output_type": "stream",
          "text": [
            "(435, 22)\n"
          ],
          "name": "stdout"
        },
        {
          "output_type": "execute_result",
          "data": {
            "text/html": [
              "<div>\n",
              "<style scoped>\n",
              "    .dataframe tbody tr th:only-of-type {\n",
              "        vertical-align: middle;\n",
              "    }\n",
              "\n",
              "    .dataframe tbody tr th {\n",
              "        vertical-align: top;\n",
              "    }\n",
              "\n",
              "    .dataframe thead th {\n",
              "        text-align: right;\n",
              "    }\n",
              "</style>\n",
              "<table border=\"1\" class=\"dataframe\">\n",
              "  <thead>\n",
              "    <tr style=\"text-align: right;\">\n",
              "      <th></th>\n",
              "      <th>School ID</th>\n",
              "      <th>School Name</th>\n",
              "      <th>Borough</th>\n",
              "      <th>Building Code</th>\n",
              "      <th>Street Address</th>\n",
              "      <th>City</th>\n",
              "      <th>State</th>\n",
              "      <th>Zip Code</th>\n",
              "      <th>Latitude</th>\n",
              "      <th>Longitude</th>\n",
              "      <th>Phone Number</th>\n",
              "      <th>Start Time</th>\n",
              "      <th>End Time</th>\n",
              "      <th>Student Enrollment</th>\n",
              "      <th>Percent White</th>\n",
              "      <th>Percent Black</th>\n",
              "      <th>Percent Hispanic</th>\n",
              "      <th>Percent Asian</th>\n",
              "      <th>Average Score (SAT Math)</th>\n",
              "      <th>Average Score (SAT Reading)</th>\n",
              "      <th>Average Score (SAT Writing)</th>\n",
              "      <th>Percent Tested</th>\n",
              "    </tr>\n",
              "  </thead>\n",
              "  <tbody>\n",
              "    <tr>\n",
              "      <th>0</th>\n",
              "      <td>02M260</td>\n",
              "      <td>Clinton School Writers and Artists</td>\n",
              "      <td>Manhattan</td>\n",
              "      <td>M933</td>\n",
              "      <td>425 West 33rd Street</td>\n",
              "      <td>Manhattan</td>\n",
              "      <td>NY</td>\n",
              "      <td>10001</td>\n",
              "      <td>40.75321</td>\n",
              "      <td>-73.99786</td>\n",
              "      <td>212-695-9114</td>\n",
              "      <td>NaN</td>\n",
              "      <td>NaN</td>\n",
              "      <td>NaN</td>\n",
              "      <td>NaN</td>\n",
              "      <td>NaN</td>\n",
              "      <td>NaN</td>\n",
              "      <td>NaN</td>\n",
              "      <td>NaN</td>\n",
              "      <td>NaN</td>\n",
              "      <td>NaN</td>\n",
              "      <td>NaN</td>\n",
              "    </tr>\n",
              "    <tr>\n",
              "      <th>1</th>\n",
              "      <td>06M211</td>\n",
              "      <td>Inwood Early College for Health and Informatio...</td>\n",
              "      <td>Manhattan</td>\n",
              "      <td>M052</td>\n",
              "      <td>650 Academy Street</td>\n",
              "      <td>Manhattan</td>\n",
              "      <td>NY</td>\n",
              "      <td>10002</td>\n",
              "      <td>40.86605</td>\n",
              "      <td>-73.92486</td>\n",
              "      <td>718-935-3660</td>\n",
              "      <td>8:30 AM</td>\n",
              "      <td>3:00 PM</td>\n",
              "      <td>87.0</td>\n",
              "      <td>3.4%</td>\n",
              "      <td>21.8%</td>\n",
              "      <td>67.8%</td>\n",
              "      <td>4.6%</td>\n",
              "      <td>NaN</td>\n",
              "      <td>NaN</td>\n",
              "      <td>NaN</td>\n",
              "      <td>NaN</td>\n",
              "    </tr>\n",
              "    <tr>\n",
              "      <th>2</th>\n",
              "      <td>01M539</td>\n",
              "      <td>New Explorations into Science, Technology and ...</td>\n",
              "      <td>Manhattan</td>\n",
              "      <td>M022</td>\n",
              "      <td>111 Columbia Street</td>\n",
              "      <td>Manhattan</td>\n",
              "      <td>NY</td>\n",
              "      <td>10002</td>\n",
              "      <td>40.71873</td>\n",
              "      <td>-73.97943</td>\n",
              "      <td>212-677-5190</td>\n",
              "      <td>8:15 AM</td>\n",
              "      <td>4:00 PM</td>\n",
              "      <td>1735.0</td>\n",
              "      <td>28.6%</td>\n",
              "      <td>13.3%</td>\n",
              "      <td>18.0%</td>\n",
              "      <td>38.5%</td>\n",
              "      <td>657.0</td>\n",
              "      <td>601.0</td>\n",
              "      <td>601.0</td>\n",
              "      <td>91.0%</td>\n",
              "    </tr>\n",
              "    <tr>\n",
              "      <th>3</th>\n",
              "      <td>02M294</td>\n",
              "      <td>Essex Street Academy</td>\n",
              "      <td>Manhattan</td>\n",
              "      <td>M445</td>\n",
              "      <td>350 Grand Street</td>\n",
              "      <td>Manhattan</td>\n",
              "      <td>NY</td>\n",
              "      <td>10002</td>\n",
              "      <td>40.71687</td>\n",
              "      <td>-73.98953</td>\n",
              "      <td>212-475-4773</td>\n",
              "      <td>8:00 AM</td>\n",
              "      <td>2:45 PM</td>\n",
              "      <td>358.0</td>\n",
              "      <td>11.7%</td>\n",
              "      <td>38.5%</td>\n",
              "      <td>41.3%</td>\n",
              "      <td>5.9%</td>\n",
              "      <td>395.0</td>\n",
              "      <td>411.0</td>\n",
              "      <td>387.0</td>\n",
              "      <td>78.9%</td>\n",
              "    </tr>\n",
              "    <tr>\n",
              "      <th>4</th>\n",
              "      <td>02M308</td>\n",
              "      <td>Lower Manhattan Arts Academy</td>\n",
              "      <td>Manhattan</td>\n",
              "      <td>M445</td>\n",
              "      <td>350 Grand Street</td>\n",
              "      <td>Manhattan</td>\n",
              "      <td>NY</td>\n",
              "      <td>10002</td>\n",
              "      <td>40.71687</td>\n",
              "      <td>-73.98953</td>\n",
              "      <td>212-505-0143</td>\n",
              "      <td>8:30 AM</td>\n",
              "      <td>3:00 PM</td>\n",
              "      <td>383.0</td>\n",
              "      <td>3.1%</td>\n",
              "      <td>28.2%</td>\n",
              "      <td>56.9%</td>\n",
              "      <td>8.6%</td>\n",
              "      <td>418.0</td>\n",
              "      <td>428.0</td>\n",
              "      <td>415.0</td>\n",
              "      <td>65.1%</td>\n",
              "    </tr>\n",
              "  </tbody>\n",
              "</table>\n",
              "</div>"
            ],
            "text/plain": [
              "  School ID  ... Percent Tested\n",
              "0    02M260  ...            NaN\n",
              "1    06M211  ...            NaN\n",
              "2    01M539  ...          91.0%\n",
              "3    02M294  ...          78.9%\n",
              "4    02M308  ...          65.1%\n",
              "\n",
              "[5 rows x 22 columns]"
            ]
          },
          "metadata": {
            "tags": []
          },
          "execution_count": 31
        }
      ]
    },
    {
      "cell_type": "code",
      "metadata": {
        "id": "qfLpC7-ceNYt",
        "colab_type": "code",
        "colab": {
          "base_uri": "https://localhost:8080/",
          "height": 115
        },
        "outputId": "f2ec9dbd-374b-483b-a3a8-7c27518aa7cd"
      },
      "source": [
        "data['Borough'].value_counts()"
      ],
      "execution_count": 28,
      "outputs": [
        {
          "output_type": "execute_result",
          "data": {
            "text/plain": [
              "Brooklyn         121\n",
              "Bronx            118\n",
              "Manhattan        106\n",
              "Queens            80\n",
              "Staten Island     10\n",
              "Name: Borough, dtype: int64"
            ]
          },
          "metadata": {
            "tags": []
          },
          "execution_count": 28
        }
      ]
    },
    {
      "cell_type": "markdown",
      "metadata": {
        "id": "lmvz0srblaut",
        "colab_type": "text"
      },
      "source": [
        "Creating New Columns There is no total score column, so we'll have to create it. In addition, we'll have to find the mean score of the each district across all schools."
      ]
    },
    {
      "cell_type": "code",
      "metadata": {
        "id": "g6qUMa-FkCY7",
        "colab_type": "code",
        "colab": {
          "base_uri": "https://localhost:8080/",
          "height": 191
        },
        "outputId": "9fd481f8-14c9-47e8-82d8-58e88a6d398b"
      },
      "source": [
        "data['total_score'] = data['Average Score (SAT Reading)'] +  \\\n",
        "                      data['Average Score (SAT Math)']    +  \\\n",
        "                      data['Average Score (SAT Writing)']\n",
        "        \n",
        "data = data[['Borough', 'total_score']].dropna()   \n",
        "\n",
        "data.head()"
      ],
      "execution_count": 34,
      "outputs": [
        {
          "output_type": "execute_result",
          "data": {
            "text/html": [
              "<div>\n",
              "<style scoped>\n",
              "    .dataframe tbody tr th:only-of-type {\n",
              "        vertical-align: middle;\n",
              "    }\n",
              "\n",
              "    .dataframe tbody tr th {\n",
              "        vertical-align: top;\n",
              "    }\n",
              "\n",
              "    .dataframe thead th {\n",
              "        text-align: right;\n",
              "    }\n",
              "</style>\n",
              "<table border=\"1\" class=\"dataframe\">\n",
              "  <thead>\n",
              "    <tr style=\"text-align: right;\">\n",
              "      <th></th>\n",
              "      <th>Borough</th>\n",
              "      <th>total_score</th>\n",
              "    </tr>\n",
              "  </thead>\n",
              "  <tbody>\n",
              "    <tr>\n",
              "      <th>2</th>\n",
              "      <td>Manhattan</td>\n",
              "      <td>1859.0</td>\n",
              "    </tr>\n",
              "    <tr>\n",
              "      <th>3</th>\n",
              "      <td>Manhattan</td>\n",
              "      <td>1193.0</td>\n",
              "    </tr>\n",
              "    <tr>\n",
              "      <th>4</th>\n",
              "      <td>Manhattan</td>\n",
              "      <td>1261.0</td>\n",
              "    </tr>\n",
              "    <tr>\n",
              "      <th>5</th>\n",
              "      <td>Manhattan</td>\n",
              "      <td>1529.0</td>\n",
              "    </tr>\n",
              "    <tr>\n",
              "      <th>6</th>\n",
              "      <td>Manhattan</td>\n",
              "      <td>1197.0</td>\n",
              "    </tr>\n",
              "  </tbody>\n",
              "</table>\n",
              "</div>"
            ],
            "text/plain": [
              "     Borough  total_score\n",
              "2  Manhattan       1859.0\n",
              "3  Manhattan       1193.0\n",
              "4  Manhattan       1261.0\n",
              "5  Manhattan       1529.0\n",
              "6  Manhattan       1197.0"
            ]
          },
          "metadata": {
            "tags": []
          },
          "execution_count": 34
        }
      ]
    },
    {
      "cell_type": "code",
      "metadata": {
        "id": "ztimrIFEld7m",
        "colab_type": "code",
        "colab": {
          "base_uri": "https://localhost:8080/",
          "height": 33
        },
        "outputId": "5295256b-9320-48db-89a7-ccfdd6bdae04"
      },
      "source": [
        "data.shape"
      ],
      "execution_count": 35,
      "outputs": [
        {
          "output_type": "execute_result",
          "data": {
            "text/plain": [
              "(375, 2)"
            ]
          },
          "metadata": {
            "tags": []
          },
          "execution_count": 35
        }
      ]
    },
    {
      "cell_type": "code",
      "metadata": {
        "id": "trMuXjwTlqAL",
        "colab_type": "code",
        "colab": {
          "base_uri": "https://localhost:8080/",
          "height": 212
        },
        "outputId": "e1a3aab8-61eb-4011-a8bb-7285835a669a"
      },
      "source": [
        "data[data['Borough'] == 'Bronx']['total_score']"
      ],
      "execution_count": 37,
      "outputs": [
        {
          "output_type": "execute_result",
          "data": {
            "text/plain": [
              "117    1164.0\n",
              "118    1227.0\n",
              "119    1202.0\n",
              "120    1100.0\n",
              "121    1203.0\n",
              "        ...  \n",
              "228    1165.0\n",
              "230    1210.0\n",
              "231    1273.0\n",
              "232    1255.0\n",
              "233    1192.0\n",
              "Name: total_score, Length: 98, dtype: float64"
            ]
          },
          "metadata": {
            "tags": []
          },
          "execution_count": 37
        }
      ]
    },
    {
      "cell_type": "code",
      "metadata": {
        "id": "Upp3LAdUlz4g",
        "colab_type": "code",
        "colab": {}
      },
      "source": [
        "x = ['Brooklyn', 'Bronx', 'Manhattan', 'Queens', 'Staten Island']\n",
        "\n",
        "district_dict = {}\n",
        "\n",
        "# Assigns each test score series to a dictionary key\n",
        "for district in x:\n",
        "    district_dict[district] = data[data['Borough'] == district]['total_score']"
      ],
      "execution_count": 38,
      "outputs": []
    },
    {
      "cell_type": "code",
      "metadata": {
        "id": "ZM2-aggpmm9z",
        "colab_type": "code",
        "colab": {
          "base_uri": "https://localhost:8080/",
          "height": 428
        },
        "outputId": "4bf21124-fccc-4fb9-868c-67ef85cb815d"
      },
      "source": [
        "y = []\n",
        "yerror = []\n",
        "\n",
        "# Assigns the mean score and 95% confidence limit to each district\n",
        "for district in x:\n",
        "    y.append(district_dict[district].mean())\n",
        "    \n",
        "    yerror.append(1.96 * district_dict[district].std()/np.sqrt(district_dict[district].shape[0]))    \n",
        "    \n",
        "    print(district + '_std : {}'.format(district_dict[district].std()))\n",
        "    \n",
        "sns.set(font_scale=1.8)\n",
        "fig = plt.figure(figsize=(10,5))\n",
        "ax = sns.barplot(x, y, yerr=yerror)\n",
        "ax.set_ylabel('Average Total SAT Score')"
      ],
      "execution_count": 39,
      "outputs": [
        {
          "output_type": "stream",
          "text": [
            "Brooklyn_std : 154.8684270520867\n",
            "Bronx_std : 150.39390071890668\n",
            "Manhattan_std : 230.2941395363782\n",
            "Queens_std : 195.25289850192115\n",
            "Staten Island_std : 222.30359621222706\n"
          ],
          "name": "stdout"
        },
        {
          "output_type": "execute_result",
          "data": {
            "text/plain": [
              "Text(0, 0.5, 'Average Total SAT Score')"
            ]
          },
          "metadata": {
            "tags": []
          },
          "execution_count": 39
        },
        {
          "output_type": "display_data",
          "data": {
            "image/png": "[encoded data removed]",
            "text/plain": [
              "<Figure size 720x360 with 1 Axes>"
            ]
          },
          "metadata": {
            "tags": []
          }
        }
      ]
    },
    {
      "cell_type": "markdown",
      "metadata": {
        "id": "UYcsbKrPn0QS",
        "colab_type": "text"
      },
      "source": [
        "- average SAT scores are quite different for each district. \n",
        "- We are interested in knowing if this is caused by random variation in data, or if there is an underlying cause. \n",
        "- Since we have 5 different groups, we cannot use the t-test. \n",
        "- Also note that the standard deviation of each group are also very different, so we've violated one of our assumpions. \n",
        "- we are going to use the 1-way ANOVA test\n",
        "\n",
        "__The Null hypothesis:-__\n",
        "There are no significant differences between the groups' mean SAT scores.\n",
        "$ H_0 : μ1=μ2=μ3=μ4=μ5$ \n",
        "\n",
        "\n",
        "__and Alternative Hypothesis :-__\n",
        "There is a significant difference between the groups' mean SAT scores.\n",
        "$H_A : μi≠μj$\n",
        "\n",
        "Where μi and μj can be the mean of any group. \n",
        "\n",
        "If there is at least one group with a significant difference with another group, the null hypothesis will be rejected.\n",
        "\n",
        "#### 1-way ANOVA\n",
        "Similar to the t-test, we can calculate a score for the ANOVA. Then we can look up the score in the F-distribution and obtain a p-value.\n",
        "\n",
        "_This is quite a lot of math, fortunately scipy has a function that plugs in all the values for us._ "
      ]
    },
    {
      "cell_type": "code",
      "metadata": {
        "id": "IL_4lCHampML",
        "colab_type": "code",
        "colab": {
          "base_uri": "https://localhost:8080/",
          "height": 33
        },
        "outputId": "295fb22b-709c-4ddc-856b-d0b365138a47"
      },
      "source": [
        "stats.f_oneway(\n",
        "             district_dict['Brooklyn'], district_dict['Bronx'], \\\n",
        "             district_dict['Manhattan'], district_dict['Queens'], \\\n",
        "             district_dict['Staten Island']\n",
        ")"
      ],
      "execution_count": 40,
      "outputs": [
        {
          "output_type": "execute_result",
          "data": {
            "text/plain": [
              "F_onewayResult(statistic=12.733085029201668, pvalue=1.0161974965566023e-09)"
            ]
          },
          "metadata": {
            "tags": []
          },
          "execution_count": 40
        }
      ]
    },
    {
      "cell_type": "markdown",
      "metadata": {
        "id": "q1vChVqXoHnp",
        "colab_type": "text"
      },
      "source": [
        "**The resulting pvalue was less than 0.05. We can reject the null hypothesis and conclude that there is a significant difference between the SAT scores for each district.** "
      ]
    },
    {
      "cell_type": "markdown",
      "metadata": {
        "id": "IIRhUXGfoPxZ",
        "colab_type": "text"
      },
      "source": [
        "Annova Testing:"
      ]
    },
    {
      "cell_type": "code",
      "metadata": {
        "id": "p2rrLLmkoEE4",
        "colab_type": "code",
        "colab": {}
      },
      "source": [
        "import pandas as pd\n",
        "import numpy as np\n",
        "import scipy.stats as stats\n",
        "import statsmodels.api as sm\n",
        "from statsmodels.formula.api import ols\n",
        "    \n",
        "import matplotlib.pyplot as plt\n",
        "import seaborn as sns\n",
        "%matplotlib inline\n",
        "\n",
        "import seaborn as sns\n",
        "sns.set(style=\"white\", color_codes=True)\n"
      ],
      "execution_count": 44,
      "outputs": []
    },
    {
      "cell_type": "code",
      "metadata": {
        "id": "rZSl6sXspLNt",
        "colab_type": "code",
        "colab": {}
      },
      "source": [
        "races =   [\"asian\", \"black\", \"hispanic\", \"other\", \"white\"]"
      ],
      "execution_count": 45,
      "outputs": []
    },
    {
      "cell_type": "code",
      "metadata": {
        "id": "prR_gSCcpV6_",
        "colab_type": "code",
        "colab": {
          "base_uri": "https://localhost:8080/",
          "height": 33
        },
        "outputId": "d5d016b5-fd33-4618-e783-70a30cd53137"
      },
      "source": [
        "np.random.choice(10, 3)"
      ],
      "execution_count": 46,
      "outputs": [
        {
          "output_type": "execute_result",
          "data": {
            "text/plain": [
              "array([5, 8, 4])"
            ]
          },
          "metadata": {
            "tags": []
          },
          "execution_count": 46
        }
      ]
    },
    {
      "cell_type": "code",
      "metadata": {
        "id": "EKtrvt3wpXqr",
        "colab_type": "code",
        "colab": {}
      },
      "source": [
        "np.random.seed(12)\n",
        "voter_race = np.random.choice(a = races,\n",
        "                              p = [0.05, 0.15 ,0.25, 0.05, 0.5],\n",
        "                              size=1000)\n",
        "\n",
        "voter_age = stats.poisson.rvs(loc=18,\n",
        "                              mu=30,\n",
        "                              size=1000)"
      ],
      "execution_count": 47,
      "outputs": []
    },
    {
      "cell_type": "code",
      "metadata": {
        "id": "Ln2WB_-zpaXd",
        "colab_type": "code",
        "colab": {
          "base_uri": "https://localhost:8080/",
          "height": 50
        },
        "outputId": "286ddabe-759c-48ce-c2d8-9fc7e11f9500"
      },
      "source": [
        "voter_race[0:10]"
      ],
      "execution_count": 50,
      "outputs": [
        {
          "output_type": "execute_result",
          "data": {
            "text/plain": [
              "array(['black', 'white', 'hispanic', 'white', 'asian', 'white', 'white',\n",
              "       'asian', 'white', 'black'], dtype='<U8')"
            ]
          },
          "metadata": {
            "tags": []
          },
          "execution_count": 50
        }
      ]
    },
    {
      "cell_type": "code",
      "metadata": {
        "id": "gHyWoSOOpht2",
        "colab_type": "code",
        "colab": {
          "base_uri": "https://localhost:8080/",
          "height": 191
        },
        "outputId": "076cf7b8-98b7-4852-fc94-50dd38af937b"
      },
      "source": [
        "# Group age data by race\n",
        "voter_frame = pd.DataFrame({\"race\":voter_race,\"age\":voter_age})\n",
        "voter_frame.head()"
      ],
      "execution_count": 52,
      "outputs": [
        {
          "output_type": "execute_result",
          "data": {
            "text/html": [
              "<div>\n",
              "<style scoped>\n",
              "    .dataframe tbody tr th:only-of-type {\n",
              "        vertical-align: middle;\n",
              "    }\n",
              "\n",
              "    .dataframe tbody tr th {\n",
              "        vertical-align: top;\n",
              "    }\n",
              "\n",
              "    .dataframe thead th {\n",
              "        text-align: right;\n",
              "    }\n",
              "</style>\n",
              "<table border=\"1\" class=\"dataframe\">\n",
              "  <thead>\n",
              "    <tr style=\"text-align: right;\">\n",
              "      <th></th>\n",
              "      <th>race</th>\n",
              "      <th>age</th>\n",
              "    </tr>\n",
              "  </thead>\n",
              "  <tbody>\n",
              "    <tr>\n",
              "      <th>0</th>\n",
              "      <td>black</td>\n",
              "      <td>51</td>\n",
              "    </tr>\n",
              "    <tr>\n",
              "      <th>1</th>\n",
              "      <td>white</td>\n",
              "      <td>49</td>\n",
              "    </tr>\n",
              "    <tr>\n",
              "      <th>2</th>\n",
              "      <td>hispanic</td>\n",
              "      <td>51</td>\n",
              "    </tr>\n",
              "    <tr>\n",
              "      <th>3</th>\n",
              "      <td>white</td>\n",
              "      <td>48</td>\n",
              "    </tr>\n",
              "    <tr>\n",
              "      <th>4</th>\n",
              "      <td>asian</td>\n",
              "      <td>56</td>\n",
              "    </tr>\n",
              "  </tbody>\n",
              "</table>\n",
              "</div>"
            ],
            "text/plain": [
              "       race  age\n",
              "0     black   51\n",
              "1     white   49\n",
              "2  hispanic   51\n",
              "3     white   48\n",
              "4     asian   56"
            ]
          },
          "metadata": {
            "tags": []
          },
          "execution_count": 52
        }
      ]
    },
    {
      "cell_type": "code",
      "metadata": {
        "id": "EWLWvFMSpsvZ",
        "colab_type": "code",
        "colab": {
          "base_uri": "https://localhost:8080/",
          "height": 115
        },
        "outputId": "41cd1113-c4c0-4907-f7ca-7dfca875e9b0"
      },
      "source": [
        "voter_frame['race'].value_counts()"
      ],
      "execution_count": 53,
      "outputs": [
        {
          "output_type": "execute_result",
          "data": {
            "text/plain": [
              "white       515\n",
              "hispanic    244\n",
              "black       147\n",
              "other        50\n",
              "asian        44\n",
              "Name: race, dtype: int64"
            ]
          },
          "metadata": {
            "tags": []
          },
          "execution_count": 53
        }
      ]
    },
    {
      "cell_type": "code",
      "metadata": {
        "id": "_MoHPWfjqAq1",
        "colab_type": "code",
        "colab": {}
      },
      "source": [
        "groups = voter_frame.groupby(\"race\").groups"
      ],
      "execution_count": 54,
      "outputs": []
    },
    {
      "cell_type": "code",
      "metadata": {
        "id": "ZS5Adt5_qOxM",
        "colab_type": "code",
        "colab": {
          "base_uri": "https://localhost:8080/",
          "height": 375
        },
        "outputId": "a561645a-6b64-4162-f9ff-59d25c8d7db0"
      },
      "source": [
        "groups"
      ],
      "execution_count": 55,
      "outputs": [
        {
          "output_type": "execute_result",
          "data": {
            "text/plain": [
              "{'asian': Int64Index([  4,   7,  14,  21,  49,  53,  59,  78,  95,  98, 135, 136, 162,\n",
              "             203, 227, 264, 278, 289, 326, 335, 345, 373, 430, 480, 484, 491,\n",
              "             516, 587, 602, 684, 692, 708, 715, 761, 776, 826, 828, 832, 853,\n",
              "             897, 942, 951, 986, 996],\n",
              "            dtype='int64'),\n",
              " 'black': Int64Index([  0,   9,  19,  22,  23,  42,  50,  56,  62,  76,\n",
              "             ...\n",
              "             948, 956, 961, 965, 968, 972, 982, 984, 989, 990],\n",
              "            dtype='int64', length=147),\n",
              " 'hispanic': Int64Index([  2,  10,  24,  28,  31,  32,  38,  40,  44,  45,\n",
              "             ...\n",
              "             954, 955, 958, 959, 962, 964, 966, 974, 994, 999],\n",
              "            dtype='int64', length=244),\n",
              " 'other': Int64Index([ 17,  26,  39,  46,  48,  65,  67,  72, 146, 237, 246, 255, 284,\n",
              "             302, 317, 322, 358, 370, 386, 413, 425, 446, 530, 542, 569, 571,\n",
              "             573, 575, 583, 626, 629, 637, 662, 696, 700, 701, 728, 739, 756,\n",
              "             757, 773, 813, 819, 880, 923, 936, 939, 971, 980, 992],\n",
              "            dtype='int64'),\n",
              " 'white': Int64Index([  1,   3,   5,   6,   8,  11,  12,  13,  15,  16,\n",
              "             ...\n",
              "             981, 983, 985, 987, 988, 991, 993, 995, 997, 998],\n",
              "            dtype='int64', length=515)}"
            ]
          },
          "metadata": {
            "tags": []
          },
          "execution_count": 55
        }
      ]
    },
    {
      "cell_type": "code",
      "metadata": {
        "id": "3pjeEuuOqQcw",
        "colab_type": "code",
        "colab": {}
      },
      "source": [
        "# Extract individual groups\n",
        "asian    = voter_age[groups[\"asian\"]]\n",
        "black    = voter_age[groups[\"black\"]]\n",
        "hispanic = voter_age[groups[\"hispanic\"]]\n",
        "other    = voter_age[groups[\"other\"]]\n",
        "white    = voter_age[groups[\"white\"]]"
      ],
      "execution_count": 57,
      "outputs": []
    },
    {
      "cell_type": "code",
      "metadata": {
        "id": "NRxDM9CdqTST",
        "colab_type": "code",
        "colab": {
          "base_uri": "https://localhost:8080/",
          "height": 33
        },
        "outputId": "93d94787-a21f-49d9-af4e-2a8ee1a9085e"
      },
      "source": [
        "stats.f_oneway(asian, black, hispanic, other, white)"
      ],
      "execution_count": 58,
      "outputs": [
        {
          "output_type": "execute_result",
          "data": {
            "text/plain": [
              "F_onewayResult(statistic=1.7744689357329695, pvalue=0.13173183201930463)"
            ]
          },
          "metadata": {
            "tags": []
          },
          "execution_count": 58
        }
      ]
    },
    {
      "cell_type": "markdown",
      "metadata": {
        "id": "XisXzwhnqsLn",
        "colab_type": "text"
      },
      "source": [
        "The test output yields an F-statistic of 0.5297640654731643 and a p-value of0.13173183201930463, indicating that there is no significant difference between the means of each group.\n",
        "\n",
        "Since p-value is NOT less than 0.05 so we cannot reject the null hypothesis. That means there is no significant difference between the means of those classes/races"
      ]
    },
    {
      "cell_type": "code",
      "metadata": {
        "id": "c0AsHn4_qlJg",
        "colab_type": "code",
        "colab": {}
      },
      "source": [
        "np.random.seed(12)\n",
        "\n",
        "# Generate random data\n",
        "voter_race = np.random.choice(a= races,\n",
        "                              p = [0.05, 0.15 ,0.25, 0.05, 0.5],\n",
        "                              size=1000)\n",
        "\n",
        "# Use a different distribution for white ages\n",
        "white_ages = stats.poisson.rvs(loc=18, \n",
        "                              mu=32,\n",
        "                              size=1000)\n",
        "\n",
        "voter_age = stats.poisson.rvs(loc=18,\n",
        "                              mu=30,\n",
        "                              size=1000)\n",
        "\n",
        "voter_age = np.where(voter_race==\"white\", white_ages, voter_age)"
      ],
      "execution_count": 59,
      "outputs": []
    },
    {
      "cell_type": "code",
      "metadata": {
        "id": "dV0mgJ_2rF9T",
        "colab_type": "code",
        "colab": {}
      },
      "source": [
        "# Group age data by race\n",
        "voter_frame = pd.DataFrame({\"race\":voter_race,\"age\":voter_age})\n",
        "groups      = voter_frame.groupby(\"race\").groups "
      ],
      "execution_count": 60,
      "outputs": []
    },
    {
      "cell_type": "code",
      "metadata": {
        "id": "RmkLmBLSrJla",
        "colab_type": "code",
        "colab": {}
      },
      "source": [
        "# Extract individual groups\n",
        "asian    = voter_age[groups[\"asian\"]]\n",
        "black    = voter_age[groups[\"black\"]]\n",
        "hispanic = voter_age[groups[\"hispanic\"]]\n",
        "other    = voter_age[groups[\"other\"]]\n",
        "white    = voter_age[groups[\"white\"]]"
      ],
      "execution_count": 61,
      "outputs": []
    },
    {
      "cell_type": "code",
      "metadata": {
        "id": "cGPO9CuNrLSl",
        "colab_type": "code",
        "colab": {
          "base_uri": "https://localhost:8080/",
          "height": 33
        },
        "outputId": "f9999ef1-2225-4258-f84f-c9aa577f8dc3"
      },
      "source": [
        "# Perform the ANOVA\n",
        "stats.f_oneway(asian, black, hispanic, other, white)"
      ],
      "execution_count": 62,
      "outputs": [
        {
          "output_type": "execute_result",
          "data": {
            "text/plain": [
              "F_onewayResult(statistic=10.164699828386366, pvalue=4.5613242113994585e-08)"
            ]
          },
          "metadata": {
            "tags": []
          },
          "execution_count": 62
        }
      ]
    },
    {
      "cell_type": "markdown",
      "metadata": {
        "id": "O-blQCiYrUIX",
        "colab_type": "text"
      },
      "source": [
        "Since p-value is __less than 0.05__ so we __reject__ the null hypothesis. That means there is  significant difference between the means of those classes/races"
      ]
    }
  ]
}