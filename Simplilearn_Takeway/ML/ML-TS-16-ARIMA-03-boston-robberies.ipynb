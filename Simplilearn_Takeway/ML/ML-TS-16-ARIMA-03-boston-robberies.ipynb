{
 "cells": [
  {
   "cell_type": "code",
   "execution_count": 1,
   "metadata": {},
   "outputs": [
    {
     "name": "stdout",
     "output_type": "stream",
     "text": [
      "scipy: 1.1.0\n",
      "numpy: 1.14.2\n",
      "matplotlib: 2.1.2\n",
      "pandas: 0.20.3\n",
      "sklearn: 0.20.2\n",
      "statsmodels: 0.8.0\n"
     ]
    }
   ],
   "source": [
    "# scipy\n",
    "import scipy\n",
    "print('scipy: {}'.format(scipy.__version__))\n",
    "# numpy\n",
    "import numpy\n",
    "print('numpy: {}'.format(numpy.__version__))\n",
    "# matplotlib\n",
    "import matplotlib\n",
    "print('matplotlib: {}'.format(matplotlib.__version__))\n",
    "# pandas\n",
    "import pandas\n",
    "print('pandas: {}'.format(pandas.__version__))\n",
    "# scikit-learn\n",
    "import sklearn\n",
    "print('sklearn: {}'.format(sklearn.__version__))\n",
    "# statsmodels\n",
    "import statsmodels\n",
    "print('statsmodels: {}'.format(statsmodels.__version__))"
   ]
  },
  {
   "cell_type": "code",
   "execution_count": 9,
   "metadata": {},
   "outputs": [],
   "source": [
    "import sys\n",
    "import pandas as pd\n",
    "from pandas import Series\n",
    "\n",
    "import numpy as np\n",
    "from numpy import log\n",
    "\n",
    "from statsmodels.tsa.stattools import adfuller\n",
    "from statsmodels.tsa.ar_model import AR\n",
    "from statsmodels.tsa.seasonal import seasonal_decompose\n",
    "from statsmodels.tsa.arima_model import ARIMA\n",
    "from statsmodels.tsa.stattools import acf, pacf\n",
    "\n",
    "from pandas.core import datetools\n",
    "\n",
    "import matplotlib.pylab as plt\n",
    "%matplotlib inline\n",
    "from matplotlib.pylab import rcParams\n",
    "rcParams['figure.figsize'] = 15, 6\n",
    "\n",
    "from pandas.plotting import lag_plot\n",
    "\n",
    "\n",
    "from sklearn.metrics import mean_squared_error\n",
    "from math import sqrt"
   ]
  },
  {
   "cell_type": "markdown",
   "metadata": {},
   "source": [
    "# Problem Description\n",
    "\n",
    "The problem is to predict the number of monthly armed robberies in Boston, USA.\n",
    "\n",
    "The dataset provides the number of monthly armed robberies in Boston from January 1966 to October 1975, or just under 10 years of data.\n",
    "\n",
    "The values are a count and there are 118 observations.\n",
    "\n",
    "The dataset is credited to McCleary & Hay (1980)."
   ]
  },
  {
   "cell_type": "code",
   "execution_count": 4,
   "metadata": {
    "collapsed": true
   },
   "outputs": [],
   "source": [
    "location = r'E:\\MYLEARN\\2-ANALYTICS-DataScience\\datasets\\boston-robberies.csv'"
   ]
  },
  {
   "cell_type": "code",
   "execution_count": 8,
   "metadata": {},
   "outputs": [
    {
     "name": "stdout",
     "output_type": "stream",
     "text": [
      "Dataset 106, Validation 12\n"
     ]
    }
   ],
   "source": [
    "series = Series.from_csv(location, header=0)\n",
    "\n",
    "split_point = len(series) - 12\n",
    "dataset, validation = series[0:split_point], series[split_point:]\n",
    "\n",
    "print('Dataset %d, Validation %d' % (len(dataset), len(validation)))\n",
    "\n",
    "dataset.to_csv(r'E:\\MYLEARN\\2-ANALYTICS-DataScience\\datasets\\dataset.csv')\n",
    "validation.to_csv(r'E:\\MYLEARN\\2-ANALYTICS-DataScience\\datasets\\'validation.csv')"
   ]
  },
  {
   "cell_type": "code",
   "execution_count": 26,
   "metadata": {},
   "outputs": [
    {
     "data": {
      "text/plain": [
       "1966-01-01     41\n",
       "1966-02-01     39\n",
       "1966-03-01     50\n",
       "1966-04-01     40\n",
       "1966-05-01     43\n",
       "1966-06-01     38\n",
       "1966-07-01     44\n",
       "1966-08-01     35\n",
       "1966-09-01     39\n",
       "1966-10-01     35\n",
       "1966-11-01     29\n",
       "1966-12-01     49\n",
       "1967-01-01     50\n",
       "1967-02-01     59\n",
       "1967-03-01     63\n",
       "1967-04-01     32\n",
       "1967-05-01     39\n",
       "1967-06-01     47\n",
       "1967-07-01     53\n",
       "1967-08-01     60\n",
       "1967-09-01     57\n",
       "1967-10-01     52\n",
       "1967-11-01     70\n",
       "1967-12-01     90\n",
       "1968-01-01     74\n",
       "1968-02-01     62\n",
       "1968-03-01     55\n",
       "1968-04-01     84\n",
       "1968-05-01     94\n",
       "1968-06-01     70\n",
       "             ... \n",
       "1972-05-01    212\n",
       "1972-06-01    246\n",
       "1972-07-01    353\n",
       "1972-08-01    339\n",
       "1972-09-01    308\n",
       "1972-10-01    247\n",
       "1972-11-01    257\n",
       "1972-12-01    322\n",
       "1973-01-01    298\n",
       "1973-02-01    273\n",
       "1973-03-01    312\n",
       "1973-04-01    249\n",
       "1973-05-01    286\n",
       "1973-06-01    279\n",
       "1973-07-01    309\n",
       "1973-08-01    401\n",
       "1973-09-01    309\n",
       "1973-10-01    328\n",
       "1973-11-01    353\n",
       "1973-12-01    354\n",
       "1974-01-01    327\n",
       "1974-02-01    324\n",
       "1974-03-01    285\n",
       "1974-04-01    243\n",
       "1974-05-01    241\n",
       "1974-06-01    287\n",
       "1974-07-01    355\n",
       "1974-08-01    460\n",
       "1974-09-01    364\n",
       "1974-10-01    487\n",
       "Length: 106, dtype: int64"
      ]
     },
     "execution_count": 26,
     "metadata": {},
     "output_type": "execute_result"
    }
   ],
   "source": [
    "series"
   ]
  },
  {
   "cell_type": "markdown",
   "metadata": {},
   "source": [
    "The specific contents of these files are:\n",
    "\n",
    "dataset.csv: Observations from January 1966 to October 1974 (106 observations)\n",
    "\n",
    "validation.csv: Observations from November 1974 to October 1975 (12 observations)\n",
    "\n",
    "The validation dataset is 10% of the original dataset.\n",
    "\n",
    "** Train/Test split **\n",
    "\n",
    "Firstly, we can split the dataset into train and test sets directly. We’re careful to always convert a loaded dataset to float32 in case the loaded data still has some String or Integer data types."
   ]
  },
  {
   "cell_type": "code",
   "execution_count": 12,
   "metadata": {},
   "outputs": [
    {
     "data": {
      "text/plain": [
       "((53,), (53,))"
      ]
     },
     "execution_count": 12,
     "metadata": {},
     "output_type": "execute_result"
    }
   ],
   "source": [
    "# load data\n",
    "series = Series.from_csv(r'E:\\MYLEARN\\2-ANALYTICS-DataScience\\datasets\\dataset.csv')\n",
    "\n",
    "# prepare data\n",
    "X = series.values\n",
    "X = X.astype('float32')\n",
    "\n",
    "train_size = int(len(X) * 0.50)\n",
    "\n",
    "train, test = X[0:train_size], X[train_size:]\n",
    "train.shape, test.shape"
   ]
  },
  {
   "cell_type": "code",
   "execution_count": 25,
   "metadata": {},
   "outputs": [
    {
     "data": {
      "text/plain": [
       "array([ 41.,  39.,  50.,  40.,  43.,  38.,  44.,  35.,  39.,  35.,  29.,\n",
       "        49.,  50.,  59.,  63.,  32.,  39.,  47.,  53.,  60.,  57.,  52.,\n",
       "        70.,  90.,  74.,  62.,  55.,  84.,  94.,  70., 108., 139., 120.,\n",
       "        97., 126., 149., 158., 124., 140., 109., 114.,  77., 120., 133.,\n",
       "       110.,  92.,  97.,  78.,  99., 107., 112.,  90.,  98.],\n",
       "      dtype=float32)"
      ]
     },
     "execution_count": 25,
     "metadata": {},
     "output_type": "execute_result"
    }
   ],
   "source": [
    "train"
   ]
  },
  {
   "cell_type": "code",
   "execution_count": 27,
   "metadata": {},
   "outputs": [
    {
     "data": {
      "text/plain": [
       "array([125., 155., 190., 236., 189., 174., 178., 136., 161., 171., 149.,\n",
       "       184., 155., 276., 224., 213., 279., 268., 287., 238., 213., 257.,\n",
       "       293., 212., 246., 353., 339., 308., 247., 257., 322., 298., 273.,\n",
       "       312., 249., 286., 279., 309., 401., 309., 328., 353., 354., 327.,\n",
       "       324., 285., 243., 241., 287., 355., 460., 364., 487.],\n",
       "      dtype=float32)"
      ]
     },
     "execution_count": 27,
     "metadata": {},
     "output_type": "execute_result"
    }
   ],
   "source": [
    "test"
   ]
  },
  {
   "cell_type": "code",
   "execution_count": 24,
   "metadata": {},
   "outputs": [
    {
     "name": "stdout",
     "output_type": "stream",
     "text": [
      ">Predicted=98.000, Expected=125\n",
      ">Predicted=125.000, Expected=155\n",
      ">Predicted=155.000, Expected=190\n",
      ">Predicted=190.000, Expected=236\n",
      ">Predicted=236.000, Expected=189\n",
      ">Predicted=189.000, Expected=174\n",
      ">Predicted=174.000, Expected=178\n",
      ">Predicted=178.000, Expected=136\n",
      ">Predicted=136.000, Expected=161\n",
      ">Predicted=161.000, Expected=171\n",
      ">Predicted=171.000, Expected=149\n",
      ">Predicted=149.000, Expected=184\n",
      ">Predicted=184.000, Expected=155\n",
      ">Predicted=155.000, Expected=276\n",
      ">Predicted=276.000, Expected=224\n",
      ">Predicted=224.000, Expected=213\n",
      ">Predicted=213.000, Expected=279\n",
      ">Predicted=279.000, Expected=268\n",
      ">Predicted=268.000, Expected=287\n",
      ">Predicted=287.000, Expected=238\n",
      ">Predicted=238.000, Expected=213\n",
      ">Predicted=213.000, Expected=257\n",
      ">Predicted=257.000, Expected=293\n",
      ">Predicted=293.000, Expected=212\n",
      ">Predicted=212.000, Expected=246\n",
      ">Predicted=246.000, Expected=353\n",
      ">Predicted=353.000, Expected=339\n",
      ">Predicted=339.000, Expected=308\n",
      ">Predicted=308.000, Expected=247\n",
      ">Predicted=247.000, Expected=257\n",
      ">Predicted=257.000, Expected=322\n",
      ">Predicted=322.000, Expected=298\n",
      ">Predicted=298.000, Expected=273\n",
      ">Predicted=273.000, Expected=312\n",
      ">Predicted=312.000, Expected=249\n",
      ">Predicted=249.000, Expected=286\n",
      ">Predicted=286.000, Expected=279\n",
      ">Predicted=279.000, Expected=309\n",
      ">Predicted=309.000, Expected=401\n",
      ">Predicted=401.000, Expected=309\n",
      ">Predicted=309.000, Expected=328\n",
      ">Predicted=328.000, Expected=353\n",
      ">Predicted=353.000, Expected=354\n",
      ">Predicted=354.000, Expected=327\n",
      ">Predicted=327.000, Expected=324\n",
      ">Predicted=324.000, Expected=285\n",
      ">Predicted=285.000, Expected=243\n",
      ">Predicted=243.000, Expected=241\n",
      ">Predicted=241.000, Expected=287\n",
      ">Predicted=287.000, Expected=355\n",
      ">Predicted=355.000, Expected=460\n",
      ">Predicted=460.000, Expected=364\n",
      ">Predicted=364.000, Expected=487\n",
      "RMSE: 51.844\n"
     ]
    }
   ],
   "source": [
    "# walk-forward validation\n",
    "history = [x for x in train]\n",
    "predictions = list()\n",
    "\n",
    "for i in range(len(test)):\n",
    "    # predict\n",
    "    yhat = history[-1]\n",
    "    predictions.append(yhat)\n",
    "    \n",
    "    # observation\n",
    "    obs = test[i]\n",
    "    history.append(obs)\n",
    "    \n",
    "    print('>Predicted=%.3f, Expected=%3.f' % (yhat, obs))\n",
    "    \n",
    "# report performance\n",
    "mse  = mean_squared_error(test, predictions)\n",
    "rmse = sqrt(mse)\n",
    "\n",
    "print('RMSE: %.3f' % rmse)"
   ]
  },
  {
   "cell_type": "code",
   "execution_count": null,
   "metadata": {
    "collapsed": true
   },
   "outputs": [],
   "source": [
    "tr"
   ]
  }
 ],
 "metadata": {
  "kernelspec": {
   "display_name": "Python 3",
   "language": "python",
   "name": "python3"
  },
  "language_info": {
   "codemirror_mode": {
    "name": "ipython",
    "version": 3
   },
   "file_extension": ".py",
   "mimetype": "text/x-python",
   "name": "python",
   "nbconvert_exporter": "python",
   "pygments_lexer": "ipython3",
   "version": "3.6.3"
  }
 },
 "nbformat": 4,
 "nbformat_minor": 2
}
