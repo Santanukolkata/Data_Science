{
  "nbformat": 4,
  "nbformat_minor": 0,
  "metadata": {
    "colab": {
      "name": "K_Means_Basics.ipynb",
      "provenance": [],
      "collapsed_sections": [],
      "authorship_tag": "ABX9TyOu649iU8D6WAc9XbFt8dmo",
      "include_colab_link": true
    },
    "kernelspec": {
      "name": "python3",
      "display_name": "Python 3"
    }
  },
  "cells": [
    {
      "cell_type": "markdown",
      "metadata": {
        "id": "view-in-github",
        "colab_type": "text"
      },
      "source": [
        "<a href=\"https://colab.research.google.com/github/Santanukolkata/Data_Science/blob/master/Models/Cluserings/K_Means_Basics.ipynb\" target=\"_parent\"><img src=\"https://colab.research.google.com/assets/colab-badge.svg\" alt=\"Open In Colab\"/></a>"
      ]
    },
    {
      "cell_type": "markdown",
      "metadata": {
        "id": "vLmc2DB0p0RV",
        "colab_type": "text"
      },
      "source": [
        "The way kmeans algorithm works is as follows:\n",
        "<br>-Specify number of clusters K.\n",
        "<br>-Initialize centroids by first shuffling the dataset and then randomly <br>-selecting K data points for the centroids without replacement.\n",
        "<br>-Keep iterating until there is no change to the centroids. i.e assignment of data points to clusters isn’t changing.\n",
        "<br>-Compute the sum of the squared distance between data points and all centroids.\n",
        "<br>-Assign each data point to the closest cluster (centroid).\n",
        "<br>-Compute the centroids for the clusters by taking the average of the all data points that belong to each cluster."
      ]
    },
    {
      "cell_type": "code",
      "metadata": {
        "id": "-RvbQK3AYYix",
        "colab_type": "code",
        "colab": {}
      },
      "source": [
        "from sklearn.cluster import KMeans\n",
        "import numpy as np\n",
        "import matplotlib.pyplot as plt\n",
        "from matplotlib import style\n",
        "%matplotlib inline\n",
        "cluster_size=4\n",
        "maker_range=['o','*','^','v']"
      ],
      "execution_count": 0,
      "outputs": []
    },
    {
      "cell_type": "code",
      "metadata": {
        "id": "syhP-Bj6Yw-j",
        "colab_type": "code",
        "colab": {}
      },
      "source": [
        "X = np.array([[1, 2],  [1, 4], [1, 0], [4, 2], [4, 4], [4, 0],[2,0],[2,2],[2,4]] )"
      ],
      "execution_count": 0,
      "outputs": []
    },
    {
      "cell_type": "code",
      "metadata": {
        "id": "vP9GZexGY8oY",
        "colab_type": "code",
        "colab": {
          "base_uri": "https://localhost:8080/",
          "height": 265
        },
        "outputId": "a4b5fd97-1bb8-4f93-9930-f3bdce98cd2d"
      },
      "source": [
        "plt.grid()\n",
        "plt.scatter(X[:, 0], X[:, 1]);"
      ],
      "execution_count": 78,
      "outputs": [
        {
          "output_type": "display_data",
          "data": {
            "image/png": "[encoded data removed]",
            "text/plain": [
              "<Figure size 432x288 with 1 Axes>"
            ]
          },
          "metadata": {
            "tags": []
          }
        }
      ]
    },
    {
      "cell_type": "code",
      "metadata": {
        "id": "HUkWPgVNZOTL",
        "colab_type": "code",
        "colab": {}
      },
      "source": [
        "kmeans = KMeans(n_clusters=cluster_size, random_state=12334).fit(X)"
      ],
      "execution_count": 0,
      "outputs": []
    },
    {
      "cell_type": "code",
      "metadata": {
        "id": "aQPbGIMmZcr2",
        "colab_type": "code",
        "colab": {
          "base_uri": "https://localhost:8080/",
          "height": 34
        },
        "outputId": "4516ace6-21ff-4baa-a8b1-314d3a66c61d"
      },
      "source": [
        "kmeans.labels_"
      ],
      "execution_count": 80,
      "outputs": [
        {
          "output_type": "execute_result",
          "data": {
            "text/plain": [
              "array([2, 0, 1, 3, 0, 3, 1, 2, 0], dtype=int32)"
            ]
          },
          "metadata": {
            "tags": []
          },
          "execution_count": 80
        }
      ]
    },
    {
      "cell_type": "code",
      "metadata": {
        "id": "Pd1ZeKANZfri",
        "colab_type": "code",
        "colab": {
          "base_uri": "https://localhost:8080/",
          "height": 85
        },
        "outputId": "951654db-4132-44b3-8905-5dea86c40858"
      },
      "source": [
        "K_CEN=kmeans.cluster_centers_\n",
        "K_CEN"
      ],
      "execution_count": 81,
      "outputs": [
        {
          "output_type": "execute_result",
          "data": {
            "text/plain": [
              "array([[2.33333333, 4.        ],\n",
              "       [1.5       , 0.        ],\n",
              "       [1.5       , 2.        ],\n",
              "       [4.        , 1.        ]])"
            ]
          },
          "metadata": {
            "tags": []
          },
          "execution_count": 81
        }
      ]
    },
    {
      "cell_type": "code",
      "metadata": {
        "id": "l_WK6B__aS1K",
        "colab_type": "code",
        "colab": {
          "base_uri": "https://localhost:8080/",
          "height": 265
        },
        "outputId": "ee024777-8888-48ac-a9ca-0c6a27e5f06a"
      },
      "source": [
        "plt.grid()\n",
        "for i in range(0,len(kmeans.labels_)):\n",
        "    for idx,lables in enumerate(set(kmeans.labels_)): \n",
        "        if kmeans.labels_[i]==lables:\n",
        "            plt.scatter(X[i, 0], X[i, 1],marker=maker_range[idx])\n",
        "            plt.scatter(K_CEN[idx, 0], K_CEN[idx, 1],s=100,marker=maker_range[idx])"
      ],
      "execution_count": 82,
      "outputs": [
        {
          "output_type": "display_data",
          "data": {
            "image/png": "[encoded data removed]",
            "text/plain": [
              "<Figure size 432x288 with 1 Axes>"
            ]
          },
          "metadata": {
            "tags": []
          }
        }
      ]
    },
    {
      "cell_type": "code",
      "metadata": {
        "id": "C6Jzuzucnw0i",
        "colab_type": "code",
        "colab": {}
      },
      "source": [
        ""
      ],
      "execution_count": 0,
      "outputs": []
    }
  ]
}