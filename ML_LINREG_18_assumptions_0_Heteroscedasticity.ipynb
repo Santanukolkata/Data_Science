{
  "nbformat": 4,
  "nbformat_minor": 0,
  "metadata": {
    "kernelspec": {
      "display_name": "Python 3",
      "language": "python",
      "name": "python3"
    },
    "language_info": {
      "codemirror_mode": {
        "name": "ipython",
        "version": 3
      },
      "file_extension": ".py",
      "mimetype": "text/x-python",
      "name": "python",
      "nbconvert_exporter": "python",
      "pygments_lexer": "ipython3",
      "version": "3.7.3"
    },
    "colab": {
      "name": "ML-LINREG-18-assumptions-0-Heteroscedasticity.ipynb",
      "provenance": [],
      "include_colab_link": true
    }
  },
  "cells": [
    {
      "cell_type": "markdown",
      "metadata": {
        "id": "view-in-github",
        "colab_type": "text"
      },
      "source": [
        "<a href=\"https://colab.research.google.com/github/Santanukolkata/Data_Science/blob/master/ML_LINREG_18_assumptions_0_Heteroscedasticity.ipynb\" target=\"_parent\"><img src=\"https://colab.research.google.com/assets/colab-badge.svg\" alt=\"Open In Colab\"/></a>"
      ]
    },
    {
      "cell_type": "markdown",
      "metadata": {
        "id": "AdWGgLUj9Kl8",
        "colab_type": "text"
      },
      "source": [
        "# Homoscedasticity\n",
        "- This assumption means that the variance around the regression line is the same for all values of the predictor variable (X). \n",
        "\n",
        "- The plot shows a __violation of this assumption. __\n",
        "\n",
        "- For the lower values on the X-axis, the points are all very near the regression line. For the higher values on the X-axis, there is much more variability around the regression line.\n",
        "\n",
        "> Homoscedasticity is just a fancy word for \"equal variances\". Homo/Heteroscedasticity is a hard word to pronounce!! But not a difficult concept to understand.\n",
        "\n",
        ">For example: _annual income_ might be a heteroscedastic variable when predicted by age, because most teens aren't flying around in jets or buying companies or running companies as CEOs etc.\n",
        "\n",
        "> More commonly, teen workers earn close to the minimum wage, so there isn't a lot of variability during the teen years. \n",
        "\n",
        "> However, as teens turn into 20-somethings, and then into 30-somethings, and then into 40-something... some will tend to shoot-up the tax brackets, while others will increase more gradually (or perhaps not at all, unfortunately). \n",
        "\n",
        "> Put simply, the gap between the \"haves\" and the \"have-nots\" is likely to widen with age.\n",
        "\n",
        "> If the above were true, a plot of the association between age and income would demonstrate heteroscedasticity, like this:\n",
        "\n",
        "![homschedascity.GIF](attachment:homschedascity.GIF)\n",
        "\n",
        "![image.png](attachment:image.png)\n",
        "\n",
        "- Take a look at its Greek roots.\n",
        "\n",
        "> - homo ... means (same)\n",
        "> - schedastic ... means (scatter)\n",
        "\n",
        "- So, homoscedasticity literally means“ having the same scatter.” In terms of your data, that simply translates into having data values that are scattered, or spread out, to about the same extent."
      ]
    },
    {
      "cell_type": "markdown",
      "metadata": {
        "id": "U2szDDf49Kl9",
        "colab_type": "text"
      },
      "source": [
        "#### Detecting heteroscedasticity using statsmodels\n",
        "One of the issues that we face when running a linear regression is that of heteroscedasticity.\n",
        "\n",
        "Heteroscedasticity is a term used to describe a condition where there is an uneven variance across our error term.\n",
        "\n",
        "#### What Causes Heteroscedasticity?\n",
        "There are various causes for the presence of heteroscedasticity in our regression model. Some of them are:\n",
        "\n",
        "- The presence of outliers in our data.\n",
        "- If we have mixing observations with different measures of scale (such as mixing high-income households with low-income households).\n",
        "- When we use an incorrect transformation of data to perform the regression.\n",
        "\n",
        "#### What are the consequences of Heteroscedasticity?\n",
        "- If heteroscedasticity exists, then our OLS (ordinary least square) estimators are still unbiased and consistent but the estimators are less efficient. This makes our inferences about the regression less reliable.\n",
        "\n"
      ]
    },
    {
      "cell_type": "code",
      "metadata": {
        "id": "0amoPsmx9Kl-",
        "colab_type": "code",
        "colab": {}
      },
      "source": [
        "import os;\n",
        "import pandas as pd\n",
        "import numpy as np\n",
        "\n",
        "#from pandas.core import datetools\n",
        "import statsmodels\n",
        "import statsmodels.api as sm\n",
        "import statsmodels.formula.api as smf\n",
        "from sklearn.linear_model import LinearRegression\n",
        "\n",
        "from sklearn.model_selection import train_test_split"
      ],
      "execution_count": null,
      "outputs": []
    },
    {
      "cell_type": "code",
      "metadata": {
        "id": "96iVBbfK9KmB",
        "colab_type": "code",
        "colab": {}
      },
      "source": [
        "location = r\"E:\\MYLEARN\\2-ANALYTICS-DataScience\\datasets\\gasoline.csv\""
      ],
      "execution_count": null,
      "outputs": []
    },
    {
      "cell_type": "code",
      "metadata": {
        "id": "br7gG18i9KmE",
        "colab_type": "code",
        "colab": {}
      },
      "source": [
        "# load the training data \n",
        "df_training = pd.read_csv(location)"
      ],
      "execution_count": null,
      "outputs": []
    },
    {
      "cell_type": "code",
      "metadata": {
        "id": "xQcLqGy_9KmH",
        "colab_type": "code",
        "colab": {},
        "outputId": "547e4a20-95d1-4a07-ab8d-40ce46e1d194"
      },
      "source": [
        "df_training.shape"
      ],
      "execution_count": null,
      "outputs": [
        {
          "output_type": "execute_result",
          "data": {
            "text/plain": [
              "(40, 4)"
            ]
          },
          "metadata": {
            "tags": []
          },
          "execution_count": 17
        }
      ]
    },
    {
      "cell_type": "code",
      "metadata": {
        "id": "OtxRjxuI9KmK",
        "colab_type": "code",
        "colab": {},
        "outputId": "61d5022e-fdbc-4b52-9021-a3806beaf156"
      },
      "source": [
        "df_training.head()"
      ],
      "execution_count": null,
      "outputs": [
        {
          "output_type": "execute_result",
          "data": {
            "text/html": [
              "<div>\n",
              "<style scoped>\n",
              "    .dataframe tbody tr th:only-of-type {\n",
              "        vertical-align: middle;\n",
              "    }\n",
              "\n",
              "    .dataframe tbody tr th {\n",
              "        vertical-align: top;\n",
              "    }\n",
              "\n",
              "    .dataframe thead th {\n",
              "        text-align: right;\n",
              "    }\n",
              "</style>\n",
              "<table border=\"1\" class=\"dataframe\">\n",
              "  <thead>\n",
              "    <tr style=\"text-align: right;\">\n",
              "      <th></th>\n",
              "      <th>consumption</th>\n",
              "      <th>capacity</th>\n",
              "      <th>price</th>\n",
              "      <th>hours</th>\n",
              "    </tr>\n",
              "  </thead>\n",
              "  <tbody>\n",
              "    <tr>\n",
              "      <th>0</th>\n",
              "      <td>1043</td>\n",
              "      <td>58</td>\n",
              "      <td>3.94880</td>\n",
              "      <td>12577</td>\n",
              "    </tr>\n",
              "    <tr>\n",
              "      <th>1</th>\n",
              "      <td>1307</td>\n",
              "      <td>60</td>\n",
              "      <td>3.95740</td>\n",
              "      <td>13452</td>\n",
              "    </tr>\n",
              "    <tr>\n",
              "      <th>2</th>\n",
              "      <td>1328</td>\n",
              "      <td>61</td>\n",
              "      <td>3.82150</td>\n",
              "      <td>14973</td>\n",
              "    </tr>\n",
              "    <tr>\n",
              "      <th>3</th>\n",
              "      <td>1341</td>\n",
              "      <td>56</td>\n",
              "      <td>3.73550</td>\n",
              "      <td>14250</td>\n",
              "    </tr>\n",
              "    <tr>\n",
              "      <th>4</th>\n",
              "      <td>1401</td>\n",
              "      <td>56</td>\n",
              "      <td>3.93575</td>\n",
              "      <td>13788</td>\n",
              "    </tr>\n",
              "  </tbody>\n",
              "</table>\n",
              "</div>"
            ],
            "text/plain": [
              "   consumption  capacity    price  hours\n",
              "0         1043        58  3.94880  12577\n",
              "1         1307        60  3.95740  13452\n",
              "2         1328        61  3.82150  14973\n",
              "3         1341        56  3.73550  14250\n",
              "4         1401        56  3.93575  13788"
            ]
          },
          "metadata": {
            "tags": []
          },
          "execution_count": 18
        }
      ]
    },
    {
      "cell_type": "code",
      "metadata": {
        "id": "BIxvk18U9KmN",
        "colab_type": "code",
        "colab": {}
      },
      "source": [
        "consumption = df_training['consumption']\n",
        "capacity = df_training['capacity']\n",
        "price = df_training['price']\n",
        "hours = df_training['hours']"
      ],
      "execution_count": null,
      "outputs": []
    },
    {
      "cell_type": "code",
      "metadata": {
        "id": "5vDtTkbJ9KmQ",
        "colab_type": "code",
        "colab": {}
      },
      "source": [
        "y = consumption\n",
        "x = np.column_stack((capacity, price, hours))"
      ],
      "execution_count": null,
      "outputs": []
    },
    {
      "cell_type": "code",
      "metadata": {
        "id": "ZeCPPVEe9KmT",
        "colab_type": "code",
        "colab": {}
      },
      "source": [
        "x = sm.add_constant(x, prepend=True)"
      ],
      "execution_count": null,
      "outputs": []
    },
    {
      "cell_type": "code",
      "metadata": {
        "id": "v5iTFwOz9KmW",
        "colab_type": "code",
        "colab": {}
      },
      "source": [
        "x_train,x_test,y_train,y_test=train_test_split(x,y,random_state=0)"
      ],
      "execution_count": null,
      "outputs": []
    },
    {
      "cell_type": "code",
      "metadata": {
        "id": "nSniTaU_9KmZ",
        "colab_type": "code",
        "colab": {},
        "outputId": "54fb9339-bd6a-4a2c-ae38-2639774a06d6"
      },
      "source": [
        "results = smf.OLS(y_train, x_train).fit()\n",
        "print(results.summary())"
      ],
      "execution_count": null,
      "outputs": [
        {
          "output_type": "error",
          "ename": "AttributeError",
          "evalue": "module 'statsmodels.formula.api' has no attribute 'OLS'",
          "traceback": [
            "\u001b[1;31m---------------------------------------------------------------------------\u001b[0m",
            "\u001b[1;31mAttributeError\u001b[0m                            Traceback (most recent call last)",
            "\u001b[1;32m<ipython-input-23-2bd887203139>\u001b[0m in \u001b[0;36m<module>\u001b[1;34m\u001b[0m\n\u001b[1;32m----> 1\u001b[1;33m \u001b[0mresults\u001b[0m \u001b[1;33m=\u001b[0m \u001b[0msmf\u001b[0m\u001b[1;33m.\u001b[0m\u001b[0mOLS\u001b[0m\u001b[1;33m(\u001b[0m\u001b[0my_train\u001b[0m\u001b[1;33m,\u001b[0m \u001b[0mx_train\u001b[0m\u001b[1;33m)\u001b[0m\u001b[1;33m.\u001b[0m\u001b[0mfit\u001b[0m\u001b[1;33m(\u001b[0m\u001b[1;33m)\u001b[0m\u001b[1;33m\u001b[0m\u001b[1;33m\u001b[0m\u001b[0m\n\u001b[0m\u001b[0;32m      2\u001b[0m \u001b[0mprint\u001b[0m\u001b[1;33m(\u001b[0m\u001b[0mresults\u001b[0m\u001b[1;33m.\u001b[0m\u001b[0msummary\u001b[0m\u001b[1;33m(\u001b[0m\u001b[1;33m)\u001b[0m\u001b[1;33m)\u001b[0m\u001b[1;33m\u001b[0m\u001b[1;33m\u001b[0m\u001b[0m\n",
            "\u001b[1;31mAttributeError\u001b[0m: module 'statsmodels.formula.api' has no attribute 'OLS'"
          ]
        }
      ]
    },
    {
      "cell_type": "markdown",
      "metadata": {
        "id": "5VtCw01R9Kmc",
        "colab_type": "text"
      },
      "source": [
        "From the above, our regression equation is as follows:\n",
        "\n",
        "consumption = 157.9277 – 8.1258(capacity) + 200.3928(price) + 0.0685(hours)\n",
        "\n",
        "#### test for heteroscedasticity using the Breusch-Pagan test\n",
        "\n",
        "$H_0$ = No heteroscedasticity\n",
        "$H_A$ = there is heteroscedasticity\n",
        "\n",
        "Test decision\n",
        "\n",
        "if the p-value is less than 5% then reject the $H_0$. which means there is heteroscedasticity"
      ]
    },
    {
      "cell_type": "code",
      "metadata": {
        "id": "CR6JxM3y9Kmc",
        "colab_type": "code",
        "colab": {},
        "outputId": "df937a8b-b18c-4bd7-daef-6f7a522a66cb"
      },
      "source": [
        "name = ['Lagrange multiplier statistic', 'p-value', \n",
        "        'f-value', 'f p-value']\n",
        "\n",
        "bp = statsmodels.stats.diagnostic.het_breuschpagan(results.resid, results.model.exog)\n",
        "bp\n"
      ],
      "execution_count": null,
      "outputs": [
        {
          "output_type": "error",
          "ename": "NameError",
          "evalue": "name 'results' is not defined",
          "traceback": [
            "\u001b[1;31m---------------------------------------------------------------------------\u001b[0m",
            "\u001b[1;31mNameError\u001b[0m                                 Traceback (most recent call last)",
            "\u001b[1;32m<ipython-input-13-7f4f56149d64>\u001b[0m in \u001b[0;36m<module>\u001b[1;34m\u001b[0m\n\u001b[0;32m      2\u001b[0m         'f-value', 'f p-value']\n\u001b[0;32m      3\u001b[0m \u001b[1;33m\u001b[0m\u001b[0m\n\u001b[1;32m----> 4\u001b[1;33m \u001b[0mbp\u001b[0m \u001b[1;33m=\u001b[0m \u001b[0mstatsmodels\u001b[0m\u001b[1;33m.\u001b[0m\u001b[0mstats\u001b[0m\u001b[1;33m.\u001b[0m\u001b[0mdiagnostic\u001b[0m\u001b[1;33m.\u001b[0m\u001b[0mhet_breuschpagan\u001b[0m\u001b[1;33m(\u001b[0m\u001b[0mresults\u001b[0m\u001b[1;33m.\u001b[0m\u001b[0mresid\u001b[0m\u001b[1;33m,\u001b[0m \u001b[0mresults\u001b[0m\u001b[1;33m.\u001b[0m\u001b[0mmodel\u001b[0m\u001b[1;33m.\u001b[0m\u001b[0mexog\u001b[0m\u001b[1;33m)\u001b[0m\u001b[1;33m\u001b[0m\u001b[1;33m\u001b[0m\u001b[0m\n\u001b[0m\u001b[0;32m      5\u001b[0m \u001b[0mbp\u001b[0m\u001b[1;33m\u001b[0m\u001b[1;33m\u001b[0m\u001b[0m\n",
            "\u001b[1;31mNameError\u001b[0m: name 'results' is not defined"
          ]
        }
      ]
    },
    {
      "cell_type": "code",
      "metadata": {
        "id": "ZjdoIGyK9Kmg",
        "colab_type": "code",
        "colab": {},
        "outputId": "d5afa271-3d0c-4cb0-f2c2-a57e4bf9728f"
      },
      "source": [
        "\n",
        "pd.DataFrame(name, bp)"
      ],
      "execution_count": null,
      "outputs": [
        {
          "output_type": "execute_result",
          "data": {
            "text/html": [
              "<div>\n",
              "<style>\n",
              "    .dataframe thead tr:only-child th {\n",
              "        text-align: right;\n",
              "    }\n",
              "\n",
              "    .dataframe thead th {\n",
              "        text-align: left;\n",
              "    }\n",
              "\n",
              "    .dataframe tbody tr th {\n",
              "        vertical-align: top;\n",
              "    }\n",
              "</style>\n",
              "<table border=\"1\" class=\"dataframe\">\n",
              "  <thead>\n",
              "    <tr style=\"text-align: right;\">\n",
              "      <th></th>\n",
              "      <th>0</th>\n",
              "    </tr>\n",
              "  </thead>\n",
              "  <tbody>\n",
              "    <tr>\n",
              "      <th>3.510484</th>\n",
              "      <td>Lagrange multiplier statistic</td>\n",
              "    </tr>\n",
              "    <tr>\n",
              "      <th>0.319405</th>\n",
              "      <td>p-value</td>\n",
              "    </tr>\n",
              "    <tr>\n",
              "      <th>1.148537</th>\n",
              "      <td>f-value</td>\n",
              "    </tr>\n",
              "    <tr>\n",
              "      <th>0.348164</th>\n",
              "      <td>f p-value</td>\n",
              "    </tr>\n",
              "  </tbody>\n",
              "</table>\n",
              "</div>"
            ],
            "text/plain": [
              "                                      0\n",
              "3.510484  Lagrange multiplier statistic\n",
              "0.319405                        p-value\n",
              "1.148537                        f-value\n",
              "0.348164                      f p-value"
            ]
          },
          "metadata": {
            "tags": []
          },
          "execution_count": 21
        }
      ]
    },
    {
      "cell_type": "markdown",
      "metadata": {
        "id": "l3LYKbMn9Kmk",
        "colab_type": "text"
      },
      "source": [
        "Since our p-value is greater than 0.05, this indicates that heteroscedasticity is not present, and we cannot reject the null hypothesis of homoscedasticity."
      ]
    },
    {
      "cell_type": "code",
      "metadata": {
        "collapsed": true,
        "jupyter": {
          "outputs_hidden": true
        },
        "id": "UZYYLCf09Kml",
        "colab_type": "code",
        "colab": {}
      },
      "source": [
        ""
      ],
      "execution_count": null,
      "outputs": []
    }
  ]
}