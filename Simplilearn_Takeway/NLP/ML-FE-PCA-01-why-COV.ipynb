{
 "cells": [
  {
   "cell_type": "markdown",
   "metadata": {},
   "source": [
    "# COVARIANCE matrix and eigen vector\n",
    "\n",
    "- take any sample data points (10x2) - A\n",
    "- compute the COV matrix of A (2x2)\n",
    "\n",
    "- take any vector (2x1)\n",
    "\n",
    "- dot multiply, \n",
    "    - mult =  np.dot(COV, any_vec) ... get a point (2x1)\n",
    "    - check the slope\n",
    "- keep multiplying ..\n",
    "    - mult =  np.dot(COV, mult)\n",
    "    - check the slope\n",
    "    \n",
    "    - after a few iterations, the slope does not change!\n",
    "    - This is the Eigen Vector"
   ]
  },
  {
   "cell_type": "code",
   "execution_count": 1,
   "metadata": {},
   "outputs": [],
   "source": [
    "import numpy as np\n",
    "\n",
    "import sys\n",
    "import numpy as np\n",
    "import matplotlib\n",
    "import matplotlib.pyplot as plt\n",
    "from matplotlib import style\n",
    "\n",
    "# select the style of the plot\n",
    "style.use('ggplot')\n",
    "\n",
    "%matplotlib inline  "
   ]
  },
  {
   "cell_type": "code",
   "execution_count": 2,
   "metadata": {
    "collapsed": true
   },
   "outputs": [],
   "source": [
    "np.set_printoptions(precision=6)"
   ]
  },
  {
   "cell_type": "code",
   "execution_count": 2,
   "metadata": {},
   "outputs": [],
   "source": [
    "# Consider the matrix of 8 observations each of 2 \n",
    "# variables, x1 and x2 ; # whose observed values are held in the 2 rows \n",
    "# of the array X:\n",
    "\n",
    "X = np.array([ [ 1, 1,  2,   -1, -1.5, .9,  1.3, -.6, 1.9, 2.2],\n",
    "               [.5, .8, 1.6, .8,   -1, .9,  -.9,  1,  1.5, 1.7]\n",
    "             ])"
   ]
  },
  {
   "cell_type": "code",
   "execution_count": 3,
   "metadata": {},
   "outputs": [
    {
     "data": {
      "text/plain": [
       "(-1.5, 2.2)"
      ]
     },
     "execution_count": 3,
     "metadata": {},
     "output_type": "execute_result"
    }
   ],
   "source": [
    "X[0].min(), X[0].max()"
   ]
  },
  {
   "cell_type": "code",
   "execution_count": 5,
   "metadata": {},
   "outputs": [
    {
     "data": {
      "text/plain": [
       "array([[1.70844444, 0.65133333],\n",
       "       [0.65133333, 0.89877778]])"
      ]
     },
     "execution_count": 5,
     "metadata": {},
     "output_type": "execute_result"
    }
   ],
   "source": [
    "# get the Co variance matrix \n",
    "COV = np.cov(X)\n",
    "COV"
   ]
  },
  {
   "cell_type": "code",
   "execution_count": 8,
   "metadata": {},
   "outputs": [
    {
     "data": {
      "text/plain": [
       "array([  3, -15])"
      ]
     },
     "execution_count": 8,
     "metadata": {},
     "output_type": "execute_result"
    }
   ],
   "source": [
    "# take any vector\n",
    "any_vec = np.array([[3, -15]]).ravel()\n",
    "any_vec"
   ]
  },
  {
   "cell_type": "code",
   "execution_count": 9,
   "metadata": {},
   "outputs": [
    {
     "name": "stdout",
     "output_type": "stream",
     "text": [
      "multi vector :  [-0.37372014 -0.92754151]  with slope =  2.481915\n",
      "multi vector :  [-0.75564889 -0.65497691]  with slope =  0.866774\n",
      "multi vector :  [-0.84636364 -0.53260548]  with slope =  0.629287\n",
      "multi vector :  [-0.86710283 -0.49812918]  with slope =  0.574475\n",
      "multi vector :  [-0.8722574  -0.48904705]  with slope =  0.560668\n",
      "multi vector :  [-0.87357811 -0.48668397]  with slope =  0.557116\n",
      "multi vector :  [-0.87391947 -0.48607074]  with slope =  0.556196\n",
      "multi vector :  [-0.87400795 -0.48591163]  with slope =  0.555958\n",
      "multi vector :  [-0.87403074 -0.48587063]  with slope =  0.555896\n",
      "multi vector :  [-0.87403673 -0.48585984]  with slope =  0.55588\n",
      "multi vector :  [-0.87403831 -0.48585702]  with slope =  0.555876\n",
      "multi vector :  [-0.87403863 -0.48585644]  with slope =  0.555875\n",
      "Number of iterations =  13\n"
     ]
    },
    {
     "data": {
      "image/png": "[encoded data removed]",
      "text/plain": [
       "<Figure size 864x432 with 1 Axes>"
      ]
     },
     "metadata": {
      "needs_background": "light"
     },
     "output_type": "display_data"
    }
   ],
   "source": [
    "f, ax = plt.subplots(figsize=(12, 6))\n",
    "\n",
    "# plot the random number\n",
    "ax.scatter(X[0], X[1], c='k', label='Data points')\n",
    "\n",
    "ax.spines['left'].set_position('zero')\n",
    "ax.spines['left'].set_color('black')\n",
    "ax.spines['right'].set_color('black')\n",
    "ax.spines['bottom'].set_position('zero')\n",
    "ax.spines['bottom'].set_color('black')\n",
    "ax.spines['top'].set_color('black')\n",
    "\n",
    "slopes = []\n",
    "norm_mults  = []\n",
    "\n",
    "prev_slope = 0\n",
    "ctr = 1\n",
    "alpha  = 1\n",
    "\n",
    "mult      = np.dot(COV, any_vec)\n",
    "norm_mult = mult / np.sqrt(np.sum(mult**2))\n",
    "slope     = np.round(norm_mult[1]/norm_mult[0], 6)\n",
    "\n",
    "while True:\n",
    "       \n",
    "    if prev_slope == slope:\n",
    "        break\n",
    "        \n",
    "    prev_slope = slope\n",
    "       \n",
    "    slopes.append(slope)\n",
    "    norm_mults.append(norm_mult)\n",
    "    \n",
    "    alpha = alpha - .5\n",
    "    if alpha < .5:\n",
    "        alpha =.5\n",
    "        \n",
    "    ax.arrow(0, \n",
    "             0, \n",
    "             norm_mult[0], \n",
    "             norm_mult[1], \n",
    "             head_width = .2, \n",
    "             head_length= .08, \n",
    "             fc='y', \n",
    "             ec='r',\n",
    "             alpha = alpha,\n",
    "             label = 'slope {}'.format(slope));\n",
    "    \n",
    "    norm_mult  = np.round(np.dot(COV, norm_mult),    6)\n",
    "    norm_mult  = norm_mult / np.sqrt(np.sum(norm_mult**2))\n",
    "    slope      = np.round(norm_mult[1]/norm_mult[0], 6)\n",
    "    ctr +=1 \n",
    "      \n",
    "ax.set_xlabel('X1')\n",
    "ax.set_ylabel('X2')\n",
    "ax.set_title('PCA analysis')\n",
    "ax.set_xlim(X[0].min() -1, X[0].max() + 1)\n",
    "ax.set_ylim(X[1].min() -1, X[1].max() + 1)\n",
    "ax.legend();\n",
    "    \n",
    "for e in zip(norm_mults, slopes):\n",
    "    print('multi vector : ', e[0], ' with slope = ', e[1])\n",
    "\n",
    "print('Number of iterations = ', ctr)"
   ]
  },
  {
   "cell_type": "code",
   "execution_count": 10,
   "metadata": {},
   "outputs": [
    {
     "name": "stdout",
     "output_type": "stream",
     "text": [
      "[-0.87403883 -0.48585607]\n",
      "0.555875\n"
     ]
    }
   ],
   "source": [
    "# test for new slope \n",
    "norm_mult  = np.round(np.dot(COV, norm_mult),    6)\n",
    "norm_mult  = norm_mult / np.sqrt(np.sum(norm_mult**2))\n",
    "slope      = np.round(norm_mult[1]/norm_mult[0], 6)\n",
    "\n",
    "print(norm_mult)\n",
    "print(slope)"
   ]
  },
  {
   "cell_type": "code",
   "execution_count": null,
   "metadata": {
    "collapsed": true
   },
   "outputs": [],
   "source": []
  },
  {
   "cell_type": "code",
   "execution_count": null,
   "metadata": {
    "collapsed": true
   },
   "outputs": [],
   "source": []
  }
 ],
 "metadata": {
  "kernelspec": {
   "display_name": "Python 3",
   "language": "python",
   "name": "python3"
  },
  "language_info": {
   "codemirror_mode": {
    "name": "ipython",
    "version": 3
   },
   "file_extension": ".py",
   "mimetype": "text/x-python",
   "name": "python",
   "nbconvert_exporter": "python",
   "pygments_lexer": "ipython3",
   "version": "3.7.3"
  }
 },
 "nbformat": 4,
 "nbformat_minor": 2
}
