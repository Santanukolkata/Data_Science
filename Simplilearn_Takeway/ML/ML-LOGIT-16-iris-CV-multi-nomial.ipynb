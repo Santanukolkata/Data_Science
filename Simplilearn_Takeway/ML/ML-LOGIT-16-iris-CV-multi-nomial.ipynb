{
 "cells": [
  {
   "cell_type": "code",
   "execution_count": 1,
   "metadata": {},
   "outputs": [
    {
     "name": "stderr",
     "output_type": "stream",
     "text": [
      "C:\\Anaconda3\\lib\\importlib\\_bootstrap.py:219: RuntimeWarning: cymem.cymem.Pool size changed, may indicate binary incompatibility. Expected 48 from C header, got 64 from PyObject\n",
      "  return f(*args, **kwds)\n",
      "C:\\Anaconda3\\lib\\importlib\\_bootstrap.py:219: RuntimeWarning: cymem.cymem.Address size changed, may indicate binary incompatibility. Expected 24 from C header, got 40 from PyObject\n",
      "  return f(*args, **kwds)\n",
      "C:\\Anaconda3\\lib\\importlib\\_bootstrap.py:219: RuntimeWarning: cymem.cymem.Pool size changed, may indicate binary incompatibility. Expected 48 from C header, got 64 from PyObject\n",
      "  return f(*args, **kwds)\n",
      "C:\\Anaconda3\\lib\\importlib\\_bootstrap.py:219: RuntimeWarning: cymem.cymem.Address size changed, may indicate binary incompatibility. Expected 24 from C header, got 40 from PyObject\n",
      "  return f(*args, **kwds)\n"
     ]
    }
   ],
   "source": [
    "import time\n",
    "import random\n",
    "from math import *\n",
    "import operator\n",
    "import pandas as pd\n",
    "import numpy as np\n",
    "pd.set_option(\"display.max_columns\", 10000)\n",
    "import string\n",
    "from pprint import pprint\n",
    "\n",
    "# import plotting libraries\n",
    "import matplotlib\n",
    "import matplotlib.pyplot as plt\n",
    "from pandas.plotting import scatter_matrix\n",
    "from matplotlib import style\n",
    "%matplotlib inline \n",
    "\n",
    "import seaborn as sns\n",
    "sns.set(style=\"white\", color_codes=True)\n",
    "sns.set(font_scale=1.5)\n",
    "\n",
    "# load make_blobs to simulate data\n",
    "from sklearn.datasets import make_blobs\n",
    "from sklearn.datasets import make_classification\n",
    "from sklearn.datasets import make_regression\n",
    "\n",
    "# import the ML algorithm\n",
    "from sklearn.neighbors import KNeighborsClassifier\n",
    "from sklearn.linear_model import LinearRegression\n",
    "from sklearn.linear_model import LogisticRegression\n",
    "from sklearn.linear_model import LogisticRegressionCV\n",
    "from statsmodels.tools.eval_measures import rmse\n",
    "from sklearn.naive_bayes import GaussianNB\n",
    "from sklearn.naive_bayes import MultinomialNB\n",
    "from sklearn.tree import DecisionTreeClassifier\n",
    "from sklearn.ensemble import RandomForestClassifier\n",
    "from sklearn.ensemble import RandomForestRegressor\n",
    "from sklearn.cluster import KMeans\n",
    "\n",
    "# For text processing\n",
    "import re\n",
    "import nltk\n",
    "from nltk.corpus import stopwords\n",
    "from nltk.tokenize import regexp_tokenize\n",
    "from nltk.tokenize import word_tokenize  \n",
    "from nltk.tokenize import sent_tokenize \n",
    "from nltk.stem import WordNetLemmatizer\n",
    "from nltk.stem import PorterStemmer\n",
    "from sklearn.feature_extraction.text import CountVectorizer\n",
    "from sklearn.feature_extraction.text import TfidfVectorizer\n",
    "\n",
    "import spacy\n",
    "from spacy.lang.en import English\n",
    "\n",
    "from nltk.corpus import wordnet as wn\n",
    "from nltk.stem.wordnet import WordNetLemmatizer\n",
    "\n",
    "# Text - visualization\n",
    "from wordcloud import WordCloud, STOPWORDS \n",
    "\n",
    "\n",
    "# pre-processing\n",
    "from sklearn import preprocessing\n",
    "from sklearn.preprocessing import MinMaxScaler\n",
    "from sklearn.preprocessing import StandardScaler\n",
    "from sklearn.preprocessing import scale\n",
    "from sklearn.preprocessing import minmax_scale\n",
    "from sklearn.preprocessing import MaxAbsScaler\n",
    "from sklearn.preprocessing import RobustScaler\n",
    "from sklearn.preprocessing import Normalizer\n",
    "from sklearn.preprocessing.data import QuantileTransformer\n",
    "from sklearn.preprocessing import Imputer\n",
    "from sklearn.decomposition import PCA\n",
    "from sklearn.feature_selection import SelectKBest\n",
    "from sklearn.feature_selection import chi2\n",
    "from sklearn.feature_selection import RFE\n",
    "from sklearn.feature_selection import RFECV\n",
    "\n",
    "# import libraries for model validation\n",
    "from sklearn.model_selection import StratifiedKFold\n",
    "from sklearn.model_selection import KFold\n",
    "from sklearn.model_selection import cross_val_score\n",
    "from sklearn.model_selection import train_test_split\n",
    "from sklearn.model_selection import LeaveOneOut \n",
    "\n",
    "# import libraries for metrics and reporting\n",
    "from sklearn.metrics import confusion_matrix\n",
    "from sklearn.metrics import classification_report\n",
    "from sklearn.metrics import accuracy_score\n",
    "from sklearn.metrics import precision_score\n",
    "from sklearn.metrics import recall_score\n",
    "from sklearn.metrics import f1_score\n",
    "from sklearn import metrics\n",
    "from sklearn.metrics import classification_report\n",
    "from sklearn.metrics import roc_curve, auc\n",
    "from sklearn.metrics import adjusted_rand_score\n",
    "\n",
    "from sklearn.model_selection import GridSearchCV"
   ]
  },
  {
   "cell_type": "code",
   "execution_count": 3,
   "metadata": {
    "collapsed": true
   },
   "outputs": [],
   "source": [
    "location = r\"E:\\MYLEARN\\2-ANALYTICS-DataScience\\datasets\\iris.csv\""
   ]
  },
  {
   "cell_type": "code",
   "execution_count": 4,
   "metadata": {
    "collapsed": true
   },
   "outputs": [],
   "source": [
    "# load the training data from glass data set\n",
    "df = pd.read_csv(location)"
   ]
  },
  {
   "cell_type": "code",
   "execution_count": 5,
   "metadata": {
    "scrolled": true
   },
   "outputs": [
    {
     "data": {
      "text/html": [
       "<div>\n",
       "<style>\n",
       "    .dataframe thead tr:only-child th {\n",
       "        text-align: right;\n",
       "    }\n",
       "\n",
       "    .dataframe thead th {\n",
       "        text-align: left;\n",
       "    }\n",
       "\n",
       "    .dataframe tbody tr th {\n",
       "        vertical-align: top;\n",
       "    }\n",
       "</style>\n",
       "<table border=\"1\" class=\"dataframe\">\n",
       "  <thead>\n",
       "    <tr style=\"text-align: right;\">\n",
       "      <th></th>\n",
       "      <th>sepal_length</th>\n",
       "      <th>sepal_width</th>\n",
       "      <th>petal_length</th>\n",
       "      <th>petal_width</th>\n",
       "      <th>class</th>\n",
       "    </tr>\n",
       "  </thead>\n",
       "  <tbody>\n",
       "    <tr>\n",
       "      <th>0</th>\n",
       "      <td>5.1</td>\n",
       "      <td>3.5</td>\n",
       "      <td>1.4</td>\n",
       "      <td>0.2</td>\n",
       "      <td>Iris-setosa</td>\n",
       "    </tr>\n",
       "    <tr>\n",
       "      <th>1</th>\n",
       "      <td>4.9</td>\n",
       "      <td>3.0</td>\n",
       "      <td>1.4</td>\n",
       "      <td>0.2</td>\n",
       "      <td>Iris-setosa</td>\n",
       "    </tr>\n",
       "    <tr>\n",
       "      <th>2</th>\n",
       "      <td>4.7</td>\n",
       "      <td>3.2</td>\n",
       "      <td>1.3</td>\n",
       "      <td>0.2</td>\n",
       "      <td>Iris-setosa</td>\n",
       "    </tr>\n",
       "    <tr>\n",
       "      <th>3</th>\n",
       "      <td>4.6</td>\n",
       "      <td>3.1</td>\n",
       "      <td>1.5</td>\n",
       "      <td>0.2</td>\n",
       "      <td>Iris-setosa</td>\n",
       "    </tr>\n",
       "    <tr>\n",
       "      <th>4</th>\n",
       "      <td>5.0</td>\n",
       "      <td>3.6</td>\n",
       "      <td>1.4</td>\n",
       "      <td>0.2</td>\n",
       "      <td>Iris-setosa</td>\n",
       "    </tr>\n",
       "  </tbody>\n",
       "</table>\n",
       "</div>"
      ],
      "text/plain": [
       "   sepal_length  sepal_width  petal_length  petal_width        class\n",
       "0           5.1          3.5           1.4          0.2  Iris-setosa\n",
       "1           4.9          3.0           1.4          0.2  Iris-setosa\n",
       "2           4.7          3.2           1.3          0.2  Iris-setosa\n",
       "3           4.6          3.1           1.5          0.2  Iris-setosa\n",
       "4           5.0          3.6           1.4          0.2  Iris-setosa"
      ]
     },
     "execution_count": 5,
     "metadata": {},
     "output_type": "execute_result"
    }
   ],
   "source": [
    "df.head()"
   ]
  },
  {
   "cell_type": "code",
   "execution_count": 6,
   "metadata": {},
   "outputs": [
    {
     "data": {
      "text/plain": [
       "Iris-versicolor    50\n",
       "Iris-virginica     50\n",
       "Iris-setosa        50\n",
       "Name: class, dtype: int64"
      ]
     },
     "execution_count": 6,
     "metadata": {},
     "output_type": "execute_result"
    }
   ],
   "source": [
    "df['class'].value_counts()"
   ]
  },
  {
   "cell_type": "code",
   "execution_count": 7,
   "metadata": {
    "collapsed": true
   },
   "outputs": [],
   "source": [
    "# Label Encoding\n",
    "df['class'].replace([\"Iris-setosa\",\"Iris-versicolor\", \"Iris-virginica\"], [2,1,0], inplace=True)"
   ]
  },
  {
   "cell_type": "code",
   "execution_count": 8,
   "metadata": {},
   "outputs": [
    {
     "data": {
      "text/html": [
       "<div>\n",
       "<style>\n",
       "    .dataframe thead tr:only-child th {\n",
       "        text-align: right;\n",
       "    }\n",
       "\n",
       "    .dataframe thead th {\n",
       "        text-align: left;\n",
       "    }\n",
       "\n",
       "    .dataframe tbody tr th {\n",
       "        vertical-align: top;\n",
       "    }\n",
       "</style>\n",
       "<table border=\"1\" class=\"dataframe\">\n",
       "  <thead>\n",
       "    <tr style=\"text-align: right;\">\n",
       "      <th></th>\n",
       "      <th>sepal_length</th>\n",
       "      <th>sepal_width</th>\n",
       "      <th>petal_length</th>\n",
       "      <th>petal_width</th>\n",
       "      <th>class</th>\n",
       "    </tr>\n",
       "  </thead>\n",
       "  <tbody>\n",
       "    <tr>\n",
       "      <th>0</th>\n",
       "      <td>5.1</td>\n",
       "      <td>3.5</td>\n",
       "      <td>1.4</td>\n",
       "      <td>0.2</td>\n",
       "      <td>2</td>\n",
       "    </tr>\n",
       "    <tr>\n",
       "      <th>1</th>\n",
       "      <td>4.9</td>\n",
       "      <td>3.0</td>\n",
       "      <td>1.4</td>\n",
       "      <td>0.2</td>\n",
       "      <td>2</td>\n",
       "    </tr>\n",
       "    <tr>\n",
       "      <th>2</th>\n",
       "      <td>4.7</td>\n",
       "      <td>3.2</td>\n",
       "      <td>1.3</td>\n",
       "      <td>0.2</td>\n",
       "      <td>2</td>\n",
       "    </tr>\n",
       "    <tr>\n",
       "      <th>3</th>\n",
       "      <td>4.6</td>\n",
       "      <td>3.1</td>\n",
       "      <td>1.5</td>\n",
       "      <td>0.2</td>\n",
       "      <td>2</td>\n",
       "    </tr>\n",
       "    <tr>\n",
       "      <th>4</th>\n",
       "      <td>5.0</td>\n",
       "      <td>3.6</td>\n",
       "      <td>1.4</td>\n",
       "      <td>0.2</td>\n",
       "      <td>2</td>\n",
       "    </tr>\n",
       "  </tbody>\n",
       "</table>\n",
       "</div>"
      ],
      "text/plain": [
       "   sepal_length  sepal_width  petal_length  petal_width  class\n",
       "0           5.1          3.5           1.4          0.2      2\n",
       "1           4.9          3.0           1.4          0.2      2\n",
       "2           4.7          3.2           1.3          0.2      2\n",
       "3           4.6          3.1           1.5          0.2      2\n",
       "4           5.0          3.6           1.4          0.2      2"
      ]
     },
     "execution_count": 8,
     "metadata": {},
     "output_type": "execute_result"
    }
   ],
   "source": [
    "df.head()"
   ]
  },
  {
   "cell_type": "code",
   "execution_count": 9,
   "metadata": {
    "collapsed": true
   },
   "outputs": [],
   "source": [
    "X = df.drop(['class'], axis=1).values\n",
    "y = df['class'].values"
   ]
  },
  {
   "cell_type": "code",
   "execution_count": 16,
   "metadata": {
    "collapsed": true
   },
   "outputs": [],
   "source": [
    "# Create logistic regression\n",
    "# logistic = LogisticRegression()\n",
    "clf = LogisticRegressionCV(cv=5, random_state=0, multi_class='multinomial', max_iter=1000)"
   ]
  },
  {
   "cell_type": "code",
   "execution_count": 17,
   "metadata": {},
   "outputs": [
    {
     "data": {
      "text/plain": [
       "LogisticRegressionCV(Cs=10, class_weight=None, cv=5, dual=False,\n",
       "           fit_intercept=True, intercept_scaling=1.0, max_iter=1000,\n",
       "           multi_class='multinomial', n_jobs=None, penalty='l2',\n",
       "           random_state=0, refit=True, scoring=None, solver='lbfgs',\n",
       "           tol=0.0001, verbose=0)"
      ]
     },
     "execution_count": 17,
     "metadata": {},
     "output_type": "execute_result"
    }
   ],
   "source": [
    "# Train the model\n",
    "clf.fit(X, y)"
   ]
  },
  {
   "cell_type": "code",
   "execution_count": 18,
   "metadata": {
    "collapsed": true
   },
   "outputs": [],
   "source": [
    "y_pred = clf.predict(X)"
   ]
  },
  {
   "cell_type": "code",
   "execution_count": 19,
   "metadata": {},
   "outputs": [
    {
     "data": {
      "text/plain": [
       "0.98"
      ]
     },
     "execution_count": 19,
     "metadata": {},
     "output_type": "execute_result"
    }
   ],
   "source": [
    "metrics.accuracy_score(y_pred, y)"
   ]
  },
  {
   "cell_type": "code",
   "execution_count": 20,
   "metadata": {},
   "outputs": [
    {
     "data": {
      "text/plain": [
       "0.98"
      ]
     },
     "execution_count": 20,
     "metadata": {},
     "output_type": "execute_result"
    }
   ],
   "source": [
    "clf.score(X, y) "
   ]
  },
  {
   "cell_type": "code",
   "execution_count": 21,
   "metadata": {},
   "outputs": [
    {
     "data": {
      "text/plain": [
       "array([[-3.92224860e+01, -6.59533169e+00, -1.36766833e-03],\n",
       "       [-3.66247973e+01, -5.72390277e+00, -3.27228399e-03],\n",
       "       [-3.85770938e+01, -6.94023478e+00, -9.68511149e-04],\n",
       "       [-3.59490272e+01, -5.96854774e+00, -2.56123070e-03],\n",
       "       [-3.96786917e+01, -6.98181596e+00, -9.29046769e-04],\n",
       "       [-3.66562473e+01, -5.82787893e+00, -2.94865850e-03],\n",
       "       [-3.77006611e+01, -7.15695302e+00, -7.79729741e-04],\n",
       "       [-3.76350895e+01, -6.06779322e+00, -2.31896581e-03],\n",
       "       [-3.58956465e+01, -6.24531836e+00, -1.94139631e-03],\n",
       "       [-3.68796661e+01, -5.47588434e+00, -4.19531263e-03],\n",
       "       [-3.93211747e+01, -6.16706160e+00, -2.09959253e-03],\n",
       "       [-3.65037384e+01, -5.92657854e+00, -2.67115782e-03],\n",
       "       [-3.73726717e+01, -5.83570489e+00, -2.92563880e-03],\n",
       "       [-4.02680625e+01, -7.92556850e+00, -3.61449660e-04],\n",
       "       [-4.41298151e+01, -7.59932066e+00, -5.00916964e-04],\n",
       "       [-4.13813002e+01, -7.43682156e+00, -5.89328435e-04],\n",
       "       [-4.08190430e+01, -7.60458853e+00, -4.98284478e-04],\n",
       "       [-3.84290160e+01, -6.63474160e+00, -1.31478217e-03],\n",
       "       [-3.70865698e+01, -5.10142811e+00, -6.10665368e-03],\n",
       "       [-3.88929234e+01, -6.89558358e+00, -1.01275874e-03],\n",
       "       [-3.57412416e+01, -4.57975836e+00, -1.03103440e-02],\n",
       "       [-3.75978850e+01, -6.69995401e+00, -1.23172678e-03],\n",
       "       [-4.36623106e+01, -9.36657869e+00, -8.55391905e-05],\n",
       "       [-3.27206169e+01, -4.91472454e+00, -7.36479247e-03],\n",
       "       [-3.33872390e+01, -4.59964371e+00, -1.01063149e-02],\n",
       "       [-3.45933393e+01, -4.68868032e+00, -9.24138806e-03],\n",
       "       [-3.50079667e+01, -5.70295153e+00, -3.34168151e-03],\n",
       "       [-3.82274844e+01, -6.00004418e+00, -2.48171958e-03],\n",
       "       [-3.87664871e+01, -6.20905429e+00, -2.01316357e-03],\n",
       "       [-3.54558638e+01, -5.60856933e+00, -3.67304828e-03],\n",
       "       [-3.50009500e+01, -5.22337706e+00, -5.40367263e-03],\n",
       "       [-3.62306470e+01, -5.54188044e+00, -3.92685015e-03],\n",
       "       [-4.20300912e+01, -7.37059736e+00, -6.29690247e-04],\n",
       "       [-4.29152673e+01, -7.63518037e+00, -4.83268215e-04],\n",
       "       [-3.68796661e+01, -5.47588434e+00, -4.19531263e-03],\n",
       "       [-3.97540028e+01, -6.93019986e+00, -9.78283787e-04],\n",
       "       [-4.04448209e+01, -6.43391521e+00, -1.60744133e-03],\n",
       "       [-3.68796661e+01, -5.47588434e+00, -4.19531263e-03],\n",
       "       [-3.74378408e+01, -6.92446221e+00, -9.83915747e-04],\n",
       "       [-3.76806646e+01, -5.91656078e+00, -2.69808763e-03],\n",
       "       [-3.94245412e+01, -7.23055276e+00, -7.24382792e-04],\n",
       "       [-3.31814554e+01, -5.16985183e+00, -5.70163466e-03],\n",
       "       [-3.84411522e+01, -7.39471564e+00, -6.14680270e-04],\n",
       "       [-3.39220729e+01, -6.01628845e+00, -2.44168267e-03],\n",
       "       [-3.39390022e+01, -5.16062825e+00, -5.75461970e-03],\n",
       "       [-3.57856159e+01, -5.91440875e+00, -2.70390813e-03],\n",
       "       [-3.86456593e+01, -6.41196118e+00, -1.64315071e-03],\n",
       "       [-3.74909161e+01, -6.64738609e+00, -1.29825136e-03],\n",
       "       [-3.92756837e+01, -6.31837806e+00, -1.80449239e-03],\n",
       "       [-3.81741229e+01, -6.27683403e+00, -1.88110930e-03],\n",
       "       [-5.88992621e+00, -2.78473032e-03, -1.11998907e+01],\n",
       "       [-5.07283042e+00, -6.37060352e-03, -9.36476443e+00],\n",
       "       [-3.43078433e+00, -3.29021524e-02, -1.21638251e+01],\n",
       "       [-5.54904461e+00, -4.24553614e-03, -7.97091291e+00],\n",
       "       [-3.62758831e+00, -2.69583827e-02, -1.09229991e+01],\n",
       "       [-4.30217271e+00, -1.37214536e-02, -9.33100527e+00],\n",
       "       [-3.15393430e+00, -4.36758681e-02, -9.86526400e+00],\n",
       "       [-1.13263362e+01, -2.15629049e-02, -3.84810799e+00],\n",
       "       [-5.73298728e+00, -3.26126343e-03, -1.08945278e+01],\n",
       "       [-5.78946962e+00, -5.33544150e-03, -6.09167001e+00],\n",
       "       [-9.24551440e+00, -3.09253905e-03, -5.81207450e+00],\n",
       "       [-5.34415295e+00, -5.22389952e-03, -7.74181260e+00],\n",
       "       [-8.76121779e+00, -2.70800628e-04, -9.07869570e+00],\n",
       "       [-3.35195727e+00, -3.56699959e-02, -1.05742059e+01],\n",
       "       [-9.73414590e+00, -7.27949559e-03, -4.93453045e+00],\n",
       "       [-6.82091082e+00, -1.15618452e-03, -9.64436883e+00],\n",
       "       [-3.00968738e+00, -5.07453268e-02, -8.66686932e+00],\n",
       "       [-9.10388771e+00, -4.32390823e-04, -8.04386750e+00],\n",
       "       [-2.13359542e+00, -1.26040185e-01, -1.15343242e+01],\n",
       "       [-8.53782930e+00, -8.83649479e-04, -7.28267551e+00],\n",
       "       [-5.95564799e-01, -8.01346414e-01, -1.06176640e+01],\n",
       "       [-8.05905787e+00, -7.69098837e-04, -7.70054918e+00],\n",
       "       [-1.04906021e+00, -4.31196683e-01, -1.30643183e+01],\n",
       "       [-4.72445251e+00, -8.93454508e-03, -1.08617074e+01],\n",
       "       [-7.12657516e+00, -8.99544033e-04, -9.25457297e+00],\n",
       "       [-6.35821181e+00, -1.79361878e-03, -9.72870604e+00],\n",
       "       [-3.85235213e+00, -2.14629786e-02, -1.23013812e+01],\n",
       "       [-9.58873405e-01, -4.83416317e-01, -1.29122919e+01],\n",
       "       [-3.51007180e+00, -3.04287953e-02, -9.48831037e+00],\n",
       "       [-1.22235042e+01, -4.25625244e-03, -5.46265116e+00],\n",
       "       [-8.67128883e+00, -1.15810289e-03, -6.92185974e+00],\n",
       "       [-1.01010525e+01, -1.52044376e-03, -6.51689488e+00],\n",
       "       [-8.63176277e+00, -1.02406036e-03, -7.07595359e+00],\n",
       "       [-2.07811316e-01, -1.67323517e+00, -1.42310166e+01],\n",
       "       [-2.63963588e+00, -7.43087837e-02, -8.38720966e+00],\n",
       "       [-3.99819059e+00, -1.87825954e-02, -8.26064472e+00],\n",
       "       [-4.21225181e+00, -1.49415502e-02, -1.09530614e+01],\n",
       "       [-4.74195013e+00, -8.77728270e-03, -1.09674971e+01],\n",
       "       [-7.01267998e+00, -1.89220498e-03, -6.91778181e+00],\n",
       "       [-6.08070132e+00, -2.84431288e-03, -7.49888902e+00],\n",
       "       [-4.79956114e+00, -8.38142930e-03, -9.08773758e+00],\n",
       "       [-4.19458192e+00, -1.52441615e-02, -9.87367876e+00],\n",
       "       [-7.76853964e+00, -8.51408883e-04, -7.75588226e+00],\n",
       "       [-1.12497514e+01, -1.46996034e-02, -4.22816758e+00],\n",
       "       [-5.61862938e+00, -3.95001059e-03, -8.07056361e+00],\n",
       "       [-7.44506310e+00, -1.10954031e-03, -7.55286349e+00],\n",
       "       [-6.34673046e+00, -2.18568820e-03, -7.74978818e+00],\n",
       "       [-6.73338154e+00, -1.32087998e-03, -8.95177118e+00],\n",
       "       [-1.29989442e+01, -7.73423137e-02, -2.59796641e+00],\n",
       "       [-6.67633077e+00, -1.79344301e-03, -7.53991727e+00],\n",
       "       [-5.33916031e-06, -1.21404451e+01, -2.73891380e+01],\n",
       "       [-1.27268278e-02, -4.37040512e+00, -1.65065750e+01],\n",
       "       [-5.88566751e-04, -7.43811453e+00, -2.43186951e+01],\n",
       "       [-6.78051320e-03, -4.99709125e+00, -1.96841091e+01],\n",
       "       [-1.42695109e-04, -8.85487184e+00, -2.43415303e+01],\n",
       "       [-2.42001605e-05, -1.06291634e+01, -3.13813318e+01],\n",
       "       [-2.17089078e-01, -1.63420385e+00, -1.02866780e+01],\n",
       "       [-7.47885605e-04, -7.19863445e+00, -2.65152979e+01],\n",
       "       [-1.56007746e-03, -6.46379978e+00, -2.35880892e+01],\n",
       "       [-3.84509871e-05, -1.01661455e+01, -2.65181985e+01],\n",
       "       [-8.04013207e-02, -2.56066226e+00, -1.45420937e+01],\n",
       "       [-1.25734370e-02, -4.38244988e+00, -1.83178692e+01],\n",
       "       [-3.53998636e-03, -5.64540231e+00, -2.02919882e+01],\n",
       "       [-4.86189206e-03, -5.32876389e+00, -1.72996921e+01],\n",
       "       [-2.59781392e-04, -8.25580823e+00, -1.99593528e+01],\n",
       "       [-1.71283720e-03, -6.37046377e+00, -1.89714752e+01],\n",
       "       [-2.36242848e-02, -3.75726958e+00, -1.80674092e+01],\n",
       "       [-5.95001870e-05, -9.72956086e+00, -2.91561773e+01],\n",
       "       [-3.20375552e-07, -1.49537721e+01, -3.80542418e+01],\n",
       "       [-2.26694234e-01, -1.59536156e+00, -1.49243724e+01],\n",
       "       [-4.21786944e-04, -7.77122140e+00, -2.29094506e+01],\n",
       "       [-1.60409730e-02, -4.14064205e+00, -1.48092347e+01],\n",
       "       [-2.18995979e-05, -1.07290532e+01, -3.25877086e+01],\n",
       "       [-2.30980001e-01, -1.57869803e+00, -1.36228086e+01],\n",
       "       [-1.96334159e-03, -6.23408930e+00, -2.09127097e+01],\n",
       "       [-8.15094989e-03, -4.81369355e+00, -2.19384414e+01],\n",
       "       [-4.09375521e-01, -1.09085055e+00, -1.23032482e+01],\n",
       "       [-3.29269678e-01, -1.27101578e+00, -1.23059692e+01],\n",
       "       [-5.21431785e-04, -7.55919312e+00, -2.25147455e+01],\n",
       "       [-8.04366251e-02, -2.56023446e+00, -1.93449506e+01],\n",
       "       [-9.99810523e-04, -6.90844465e+00, -2.56829882e+01],\n",
       "       [-2.78932077e-03, -5.88335151e+00, -2.43577467e+01],\n",
       "       [-2.26749526e-04, -8.39177826e+00, -2.33078678e+01],\n",
       "       [-8.11634046e-01, -5.87226672e-01, -1.34039942e+01],\n",
       "       [-5.61242983e-02, -2.90811758e+00, -1.81556975e+01],\n",
       "       [-1.09944075e-04, -9.11559371e+00, -2.77164981e+01],\n",
       "       [-1.74248124e-04, -8.65511912e+00, -2.19288035e+01],\n",
       "       [-2.53087780e-02, -3.68923259e+00, -1.76124493e+01],\n",
       "       [-4.58425805e-01, -1.00045786e+00, -1.14390097e+01],\n",
       "       [-1.01823533e-02, -4.59218672e+00, -1.87102829e+01],\n",
       "       [-1.72108162e-04, -8.66747394e+00, -2.32535386e+01],\n",
       "       [-1.15166637e-02, -4.46971612e+00, -1.71745167e+01],\n",
       "       [-1.27268278e-02, -4.37040512e+00, -1.65065750e+01],\n",
       "       [-1.05089042e-04, -9.16075521e+00, -2.50369529e+01],\n",
       "       [-7.02338704e-05, -9.56371549e+00, -2.40844847e+01],\n",
       "       [-3.29118085e-03, -5.71815608e+00, -1.87998349e+01],\n",
       "       [-3.58590977e-02, -3.34603639e+00, -1.62660968e+01],\n",
       "       [-2.66966840e-02, -3.63653707e+00, -1.65333811e+01],\n",
       "       [-1.08479175e-03, -6.82691428e+00, -1.90988699e+01],\n",
       "       [-7.67637678e-02, -2.60516786e+00, -1.42264781e+01]])"
      ]
     },
     "execution_count": 21,
     "metadata": {},
     "output_type": "execute_result"
    }
   ],
   "source": [
    "clf.predict_log_proba(X)"
   ]
  },
  {
   "cell_type": "code",
   "execution_count": null,
   "metadata": {
    "collapsed": true
   },
   "outputs": [],
   "source": []
  },
  {
   "cell_type": "code",
   "execution_count": null,
   "metadata": {
    "collapsed": true
   },
   "outputs": [],
   "source": []
  }
 ],
 "metadata": {
  "kernelspec": {
   "display_name": "Python 3",
   "language": "python",
   "name": "python3"
  },
  "language_info": {
   "codemirror_mode": {
    "name": "ipython",
    "version": 3
   },
   "file_extension": ".py",
   "mimetype": "text/x-python",
   "name": "python",
   "nbconvert_exporter": "python",
   "pygments_lexer": "ipython3",
   "version": "3.6.3"
  }
 },
 "nbformat": 4,
 "nbformat_minor": 2
}
