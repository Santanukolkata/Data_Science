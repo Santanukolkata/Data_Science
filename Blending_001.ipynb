{
  "nbformat": 4,
  "nbformat_minor": 0,
  "metadata": {
    "colab": {
      "name": "Blending_001.ipynb",
      "provenance": [],
      "authorship_tag": "ABX9TyOW+KpSLtB+fdgTq3r5Xr2t",
      "include_colab_link": true
    },
    "kernelspec": {
      "name": "python3",
      "display_name": "Python 3"
    }
  },
  "cells": [
    {
      "cell_type": "markdown",
      "metadata": {
        "id": "view-in-github",
        "colab_type": "text"
      },
      "source": [
        "<a href=\"https://colab.research.google.com/github/Santanukolkata/Data_Science/blob/master/Blending_001.ipynb\" target=\"_parent\"><img src=\"https://colab.research.google.com/assets/colab-badge.svg\" alt=\"Open In Colab\"/></a>"
      ]
    },
    {
      "cell_type": "markdown",
      "metadata": {
        "id": "NQ7hn67DrrEz",
        "colab_type": "text"
      },
      "source": [
        "1.The train set is split into training and validation sets<br>\n",
        "2.Model(s) are fitted on the training set.<br>\n",
        "3.The predictions are made on the validation set and the test set<br>\n",
        "4.The validation set and its predictions are used as features to build a new model.<br>\n",
        "5.This model is used to make final predictions on the test and meta-features.<br>\n",
        "\n",
        "\n",
        "\n"
      ]
    },
    {
      "cell_type": "code",
      "metadata": {
        "id": "JQqN5KOZrD9l",
        "colab_type": "code",
        "colab": {}
      },
      "source": [
        "import pandas as pd\n",
        "from sklearn.model_selection import train_test_split\n",
        "from sklearn.metrics import accuracy_score\n",
        "import numpy as np\n",
        "import random\n",
        "from sklearn.preprocessing import StandardScaler\n",
        "from sklearn.tree import DecisionTreeClassifier\n",
        "from sklearn.neighbors import KNeighborsClassifier\n",
        "from sklearn import metrics\n",
        "from sklearn.linear_model import LogisticRegression"
      ],
      "execution_count": 39,
      "outputs": []
    },
    {
      "cell_type": "code",
      "metadata": {
        "id": "e0K7x5uWrSKU",
        "colab_type": "code",
        "colab": {}
      },
      "source": [
        "df=pd.read_csv(\"https://raw.githubusercontent.com/Santanukolkata/Data_Science/master/datasets/pima-indians-diabetes.csv\",header=None)"
      ],
      "execution_count": 18,
      "outputs": []
    },
    {
      "cell_type": "code",
      "metadata": {
        "id": "W9FycDYVri2G",
        "colab_type": "code",
        "colab": {
          "base_uri": "https://localhost:8080/",
          "height": 202
        },
        "outputId": "f49b028f-ea44-4976-fd57-d3b6293364cc"
      },
      "source": [
        "df.columns=['Pregnancies','Glucose','BloodPressure','SkinThickness','Insulin','BMI','DiabetesPedigreeFunction','Age','Outcome']\n",
        "df.head()"
      ],
      "execution_count": 19,
      "outputs": [
        {
          "output_type": "execute_result",
          "data": {
            "text/html": [
              "<div>\n",
              "<style scoped>\n",
              "    .dataframe tbody tr th:only-of-type {\n",
              "        vertical-align: middle;\n",
              "    }\n",
              "\n",
              "    .dataframe tbody tr th {\n",
              "        vertical-align: top;\n",
              "    }\n",
              "\n",
              "    .dataframe thead th {\n",
              "        text-align: right;\n",
              "    }\n",
              "</style>\n",
              "<table border=\"1\" class=\"dataframe\">\n",
              "  <thead>\n",
              "    <tr style=\"text-align: right;\">\n",
              "      <th></th>\n",
              "      <th>Pregnancies</th>\n",
              "      <th>Glucose</th>\n",
              "      <th>BloodPressure</th>\n",
              "      <th>SkinThickness</th>\n",
              "      <th>Insulin</th>\n",
              "      <th>BMI</th>\n",
              "      <th>DiabetesPedigreeFunction</th>\n",
              "      <th>Age</th>\n",
              "      <th>Outcome</th>\n",
              "    </tr>\n",
              "  </thead>\n",
              "  <tbody>\n",
              "    <tr>\n",
              "      <th>0</th>\n",
              "      <td>6</td>\n",
              "      <td>148</td>\n",
              "      <td>72</td>\n",
              "      <td>35</td>\n",
              "      <td>0</td>\n",
              "      <td>33.6</td>\n",
              "      <td>0.627</td>\n",
              "      <td>50</td>\n",
              "      <td>1</td>\n",
              "    </tr>\n",
              "    <tr>\n",
              "      <th>1</th>\n",
              "      <td>1</td>\n",
              "      <td>85</td>\n",
              "      <td>66</td>\n",
              "      <td>29</td>\n",
              "      <td>0</td>\n",
              "      <td>26.6</td>\n",
              "      <td>0.351</td>\n",
              "      <td>31</td>\n",
              "      <td>0</td>\n",
              "    </tr>\n",
              "    <tr>\n",
              "      <th>2</th>\n",
              "      <td>8</td>\n",
              "      <td>183</td>\n",
              "      <td>64</td>\n",
              "      <td>0</td>\n",
              "      <td>0</td>\n",
              "      <td>23.3</td>\n",
              "      <td>0.672</td>\n",
              "      <td>32</td>\n",
              "      <td>1</td>\n",
              "    </tr>\n",
              "    <tr>\n",
              "      <th>3</th>\n",
              "      <td>1</td>\n",
              "      <td>89</td>\n",
              "      <td>66</td>\n",
              "      <td>23</td>\n",
              "      <td>94</td>\n",
              "      <td>28.1</td>\n",
              "      <td>0.167</td>\n",
              "      <td>21</td>\n",
              "      <td>0</td>\n",
              "    </tr>\n",
              "    <tr>\n",
              "      <th>4</th>\n",
              "      <td>0</td>\n",
              "      <td>137</td>\n",
              "      <td>40</td>\n",
              "      <td>35</td>\n",
              "      <td>168</td>\n",
              "      <td>43.1</td>\n",
              "      <td>2.288</td>\n",
              "      <td>33</td>\n",
              "      <td>1</td>\n",
              "    </tr>\n",
              "  </tbody>\n",
              "</table>\n",
              "</div>"
            ],
            "text/plain": [
              "   Pregnancies  Glucose  BloodPressure  ...  DiabetesPedigreeFunction  Age  Outcome\n",
              "0            6      148             72  ...                     0.627   50        1\n",
              "1            1       85             66  ...                     0.351   31        0\n",
              "2            8      183             64  ...                     0.672   32        1\n",
              "3            1       89             66  ...                     0.167   21        0\n",
              "4            0      137             40  ...                     2.288   33        1\n",
              "\n",
              "[5 rows x 9 columns]"
            ]
          },
          "metadata": {
            "tags": []
          },
          "execution_count": 19
        }
      ]
    },
    {
      "cell_type": "code",
      "metadata": {
        "id": "smfvnv6trk2k",
        "colab_type": "code",
        "colab": {
          "base_uri": "https://localhost:8080/",
          "height": 35
        },
        "outputId": "f0c70a44-c13a-438c-ab76-162a0a72b1d4"
      },
      "source": [
        "df.shape"
      ],
      "execution_count": 20,
      "outputs": [
        {
          "output_type": "execute_result",
          "data": {
            "text/plain": [
              "(768, 9)"
            ]
          },
          "metadata": {
            "tags": []
          },
          "execution_count": 20
        }
      ]
    },
    {
      "cell_type": "code",
      "metadata": {
        "id": "PVs4Z9XDsLMk",
        "colab_type": "code",
        "colab": {}
      },
      "source": [
        "# Extract validation set of 30 samples (random)\n",
        "\n",
        "n = 100\n",
        "index_list = random.sample(range(0, df.shape[0]-1), n)\n",
        "\n",
        "# initialize a dataframe\n",
        "X_val = pd.DataFrame()\n",
        "\n",
        "for elem in index_list:\n",
        "    X_val = X_val.append(df.iloc[elem: elem+1])\n",
        "    \n",
        "# drop the rows from the training set (which r now in X_val dataframe)\n",
        "df.drop(df.index[index_list], inplace=True)  \n",
        "\n",
        "# reset index\n",
        "X_val.reset_index(drop=True, inplace=True)\n",
        "\n",
        "# reset index\n",
        "df.reset_index(drop=True, inplace=True)"
      ],
      "execution_count": 21,
      "outputs": []
    },
    {
      "cell_type": "code",
      "metadata": {
        "id": "0rw2PrC9sN28",
        "colab_type": "code",
        "colab": {}
      },
      "source": [
        "# Train test split\n",
        "\n",
        "attributes = list(df.columns[:8])\n",
        "\n",
        "X = df[attributes]\n",
        "y = df['Outcome']    \n",
        "\n",
        "# Split into train and test sets.\n",
        "X_train, X_test, y_train, y_test = train_test_split(X, y, test_size = 0.20, random_state =0)\n",
        "\n",
        "# reset index\n",
        "X_test.reset_index(drop=True, inplace=True)"
      ],
      "execution_count": 22,
      "outputs": []
    },
    {
      "cell_type": "code",
      "metadata": {
        "id": "rwYYyyv8sa_-",
        "colab_type": "code",
        "colab": {}
      },
      "source": [
        "y_val = X_val['Outcome']"
      ],
      "execution_count": 23,
      "outputs": []
    },
    {
      "cell_type": "code",
      "metadata": {
        "id": "86G6f7Hqtn6g",
        "colab_type": "code",
        "colab": {}
      },
      "source": [
        "X_val.drop(['Outcome'], inplace=True, axis=1)"
      ],
      "execution_count": 24,
      "outputs": []
    },
    {
      "cell_type": "code",
      "metadata": {
        "id": "zM83CgHrtprS",
        "colab_type": "code",
        "colab": {
          "base_uri": "https://localhost:8080/",
          "height": 121
        },
        "outputId": "41dbb89e-00c5-46da-9874-f610bb01ed66"
      },
      "source": [
        "print(X_train.shape)\n",
        "print(X_val.shape)\n",
        "print(X_test.shape)\n",
        "print(y_train.shape)\n",
        "print(y_val.shape)\n",
        "print(y_test.shape)"
      ],
      "execution_count": 25,
      "outputs": [
        {
          "output_type": "stream",
          "text": [
            "(534, 8)\n",
            "(100, 8)\n",
            "(134, 8)\n",
            "(534,)\n",
            "(100,)\n",
            "(134,)\n"
          ],
          "name": "stdout"
        }
      ]
    },
    {
      "cell_type": "code",
      "metadata": {
        "id": "cMFOLf67trV2",
        "colab_type": "code",
        "colab": {}
      },
      "source": [
        "# scaling the samples\n",
        "\n",
        "colnames = X_train.columns\n",
        "\n",
        "array_train = X_train.values\n",
        "array_val   = X_val.values\n",
        "array_test  = X_test.values\n",
        "\n",
        "scaler = StandardScaler()\n",
        "\n",
        "scaler.fit(array_train)\n",
        "rescaledX_train = scaler.transform(array_train)\n",
        "\n",
        "scaler = StandardScaler()\n",
        "\n",
        "scaler.fit(array_val)\n",
        "rescaledX_val = scaler.transform(array_val)\n",
        "\n",
        "scaler = StandardScaler()\n",
        "\n",
        "scaler.fit(array_test)\n",
        "rescaledX_test = scaler.transform(array_test)\n",
        "\n",
        "X_train = pd.DataFrame(rescaledX_train, columns=colnames)\n",
        "X_val   = pd.DataFrame(rescaledX_val,   columns=colnames)\n",
        "X_test  = pd.DataFrame(rescaledX_test,  columns=colnames)"
      ],
      "execution_count": 28,
      "outputs": []
    },
    {
      "cell_type": "code",
      "metadata": {
        "id": "a9ffSj8Pt5HG",
        "colab_type": "code",
        "colab": {
          "base_uri": "https://localhost:8080/",
          "height": 121
        },
        "outputId": "113bca29-1393-47b1-fc8f-2af1db38e26a"
      },
      "source": [
        "print(X_train.shape)\n",
        "print(X_val.shape)\n",
        "print(X_test.shape)\n",
        "print(y_train.shape)\n",
        "print(y_val.shape)\n",
        "print(y_test.shape)"
      ],
      "execution_count": 29,
      "outputs": [
        {
          "output_type": "stream",
          "text": [
            "(534, 8)\n",
            "(100, 8)\n",
            "(134, 8)\n",
            "(534,)\n",
            "(100,)\n",
            "(134,)\n"
          ],
          "name": "stdout"
        }
      ]
    },
    {
      "cell_type": "code",
      "metadata": {
        "id": "CwpIfieduBjB",
        "colab_type": "code",
        "colab": {}
      },
      "source": [
        "model1 = DecisionTreeClassifier()"
      ],
      "execution_count": 32,
      "outputs": []
    },
    {
      "cell_type": "code",
      "metadata": {
        "id": "ETNL9efDuDQQ",
        "colab_type": "code",
        "colab": {
          "base_uri": "https://localhost:8080/",
          "height": 121
        },
        "outputId": "2c8215d6-3e64-40ff-9967-e33a300fe189"
      },
      "source": [
        "model1.fit(X_train, y_train)"
      ],
      "execution_count": 33,
      "outputs": [
        {
          "output_type": "execute_result",
          "data": {
            "text/plain": [
              "DecisionTreeClassifier(ccp_alpha=0.0, class_weight=None, criterion='gini',\n",
              "                       max_depth=None, max_features=None, max_leaf_nodes=None,\n",
              "                       min_impurity_decrease=0.0, min_impurity_split=None,\n",
              "                       min_samples_leaf=1, min_samples_split=2,\n",
              "                       min_weight_fraction_leaf=0.0, presort='deprecated',\n",
              "                       random_state=None, splitter='best')"
            ]
          },
          "metadata": {
            "tags": []
          },
          "execution_count": 33
        }
      ]
    },
    {
      "cell_type": "code",
      "metadata": {
        "id": "25VFSw90uSrp",
        "colab_type": "code",
        "colab": {
          "base_uri": "https://localhost:8080/",
          "height": 52
        },
        "outputId": "1a883b1b-82a5-4e4a-9eb4-1672a6589818"
      },
      "source": [
        "# predict on validation set\n",
        "val_pred1  = model1.predict(X_val)\n",
        "print ('Model 1 : Accuracy (validation ) : ', metrics.accuracy_score(y_val, val_pred1))\n",
        "\n",
        "# predict on test set\n",
        "test_pred1 = model1.predict(X_test)\n",
        "print ('Model 1 : Accuracy (test )       : ', metrics.accuracy_score(y_test, test_pred1))"
      ],
      "execution_count": 37,
      "outputs": [
        {
          "output_type": "stream",
          "text": [
            "Model 1 : Accuracy (validation ) :  0.69\n",
            "Model 1 : Accuracy (test )       :  0.6716417910447762\n"
          ],
          "name": "stdout"
        }
      ]
    },
    {
      "cell_type": "code",
      "metadata": {
        "id": "LCf8Six5uUvf",
        "colab_type": "code",
        "colab": {}
      },
      "source": [
        "# Convert to dataframes\n",
        "val_pred1  = pd.DataFrame(val_pred1)\n",
        "test_pred1 = pd.DataFrame(test_pred1)"
      ],
      "execution_count": 38,
      "outputs": []
    },
    {
      "cell_type": "code",
      "metadata": {
        "id": "yw4TvQctuhTQ",
        "colab_type": "code",
        "colab": {}
      },
      "source": [
        "model2 = KNeighborsClassifier()"
      ],
      "execution_count": 40,
      "outputs": []
    },
    {
      "cell_type": "code",
      "metadata": {
        "id": "Z3Ss05_suut5",
        "colab_type": "code",
        "colab": {
          "base_uri": "https://localhost:8080/",
          "height": 69
        },
        "outputId": "b9c24832-0bc0-4513-cc59-28d94e570871"
      },
      "source": [
        "model2.fit(X_train, y_train)"
      ],
      "execution_count": 42,
      "outputs": [
        {
          "output_type": "execute_result",
          "data": {
            "text/plain": [
              "KNeighborsClassifier(algorithm='auto', leaf_size=30, metric='minkowski',\n",
              "                     metric_params=None, n_jobs=None, n_neighbors=5, p=2,\n",
              "                     weights='uniform')"
            ]
          },
          "metadata": {
            "tags": []
          },
          "execution_count": 42
        }
      ]
    },
    {
      "cell_type": "code",
      "metadata": {
        "id": "eDdiSnEluqKS",
        "colab_type": "code",
        "colab": {
          "base_uri": "https://localhost:8080/",
          "height": 52
        },
        "outputId": "bdd792e5-2292-4ef9-b8f6-bfad5de2c3d6"
      },
      "source": [
        "# predict the X_val\n",
        "val_pred2  = model2.predict(X_val)\n",
        "print ('Model 2 : Accuracy (validation ) : ', metrics.accuracy_score(y_val, val_pred2))\n",
        "\n",
        "# predict the X_test\n",
        "test_pred2 = model2.predict(X_test)\n",
        "print ('Model 2 : Accuracy (test )       : ', metrics.accuracy_score(y_test, test_pred2))"
      ],
      "execution_count": 43,
      "outputs": [
        {
          "output_type": "stream",
          "text": [
            "Model 2 : Accuracy (validation ) :  0.7\n",
            "Model 2 : Accuracy (test )       :  0.7611940298507462\n"
          ],
          "name": "stdout"
        }
      ]
    },
    {
      "cell_type": "code",
      "metadata": {
        "id": "W_HDLnVFur8L",
        "colab_type": "code",
        "colab": {}
      },
      "source": [
        "val_pred2  = pd.DataFrame(val_pred2)\n",
        "test_pred2 = pd.DataFrame(test_pred2)"
      ],
      "execution_count": 44,
      "outputs": []
    },
    {
      "cell_type": "code",
      "metadata": {
        "id": "RDFbIRe5uy1U",
        "colab_type": "code",
        "colab": {
          "base_uri": "https://localhost:8080/",
          "height": 415
        },
        "outputId": "f71bdd2e-60fb-4b15-a99e-defc0859c86e"
      },
      "source": [
        "val_pred2"
      ],
      "execution_count": 45,
      "outputs": [
        {
          "output_type": "execute_result",
          "data": {
            "text/html": [
              "<div>\n",
              "<style scoped>\n",
              "    .dataframe tbody tr th:only-of-type {\n",
              "        vertical-align: middle;\n",
              "    }\n",
              "\n",
              "    .dataframe tbody tr th {\n",
              "        vertical-align: top;\n",
              "    }\n",
              "\n",
              "    .dataframe thead th {\n",
              "        text-align: right;\n",
              "    }\n",
              "</style>\n",
              "<table border=\"1\" class=\"dataframe\">\n",
              "  <thead>\n",
              "    <tr style=\"text-align: right;\">\n",
              "      <th></th>\n",
              "      <th>0</th>\n",
              "    </tr>\n",
              "  </thead>\n",
              "  <tbody>\n",
              "    <tr>\n",
              "      <th>0</th>\n",
              "      <td>0</td>\n",
              "    </tr>\n",
              "    <tr>\n",
              "      <th>1</th>\n",
              "      <td>1</td>\n",
              "    </tr>\n",
              "    <tr>\n",
              "      <th>2</th>\n",
              "      <td>0</td>\n",
              "    </tr>\n",
              "    <tr>\n",
              "      <th>3</th>\n",
              "      <td>0</td>\n",
              "    </tr>\n",
              "    <tr>\n",
              "      <th>4</th>\n",
              "      <td>0</td>\n",
              "    </tr>\n",
              "    <tr>\n",
              "      <th>...</th>\n",
              "      <td>...</td>\n",
              "    </tr>\n",
              "    <tr>\n",
              "      <th>95</th>\n",
              "      <td>1</td>\n",
              "    </tr>\n",
              "    <tr>\n",
              "      <th>96</th>\n",
              "      <td>0</td>\n",
              "    </tr>\n",
              "    <tr>\n",
              "      <th>97</th>\n",
              "      <td>0</td>\n",
              "    </tr>\n",
              "    <tr>\n",
              "      <th>98</th>\n",
              "      <td>0</td>\n",
              "    </tr>\n",
              "    <tr>\n",
              "      <th>99</th>\n",
              "      <td>0</td>\n",
              "    </tr>\n",
              "  </tbody>\n",
              "</table>\n",
              "<p>100 rows × 1 columns</p>\n",
              "</div>"
            ],
            "text/plain": [
              "    0\n",
              "0   0\n",
              "1   1\n",
              "2   0\n",
              "3   0\n",
              "4   0\n",
              ".. ..\n",
              "95  1\n",
              "96  0\n",
              "97  0\n",
              "98  0\n",
              "99  0\n",
              "\n",
              "[100 rows x 1 columns]"
            ]
          },
          "metadata": {
            "tags": []
          },
          "execution_count": 45
        }
      ]
    },
    {
      "cell_type": "code",
      "metadata": {
        "id": "8rkYaE35uzvh",
        "colab_type": "code",
        "colab": {
          "base_uri": "https://localhost:8080/",
          "height": 415
        },
        "outputId": "d4b5a221-9d1d-42b0-f4ac-99557213bcaa"
      },
      "source": [
        "test_pred2"
      ],
      "execution_count": 46,
      "outputs": [
        {
          "output_type": "execute_result",
          "data": {
            "text/html": [
              "<div>\n",
              "<style scoped>\n",
              "    .dataframe tbody tr th:only-of-type {\n",
              "        vertical-align: middle;\n",
              "    }\n",
              "\n",
              "    .dataframe tbody tr th {\n",
              "        vertical-align: top;\n",
              "    }\n",
              "\n",
              "    .dataframe thead th {\n",
              "        text-align: right;\n",
              "    }\n",
              "</style>\n",
              "<table border=\"1\" class=\"dataframe\">\n",
              "  <thead>\n",
              "    <tr style=\"text-align: right;\">\n",
              "      <th></th>\n",
              "      <th>0</th>\n",
              "    </tr>\n",
              "  </thead>\n",
              "  <tbody>\n",
              "    <tr>\n",
              "      <th>0</th>\n",
              "      <td>0</td>\n",
              "    </tr>\n",
              "    <tr>\n",
              "      <th>1</th>\n",
              "      <td>0</td>\n",
              "    </tr>\n",
              "    <tr>\n",
              "      <th>2</th>\n",
              "      <td>0</td>\n",
              "    </tr>\n",
              "    <tr>\n",
              "      <th>3</th>\n",
              "      <td>0</td>\n",
              "    </tr>\n",
              "    <tr>\n",
              "      <th>4</th>\n",
              "      <td>0</td>\n",
              "    </tr>\n",
              "    <tr>\n",
              "      <th>...</th>\n",
              "      <td>...</td>\n",
              "    </tr>\n",
              "    <tr>\n",
              "      <th>129</th>\n",
              "      <td>0</td>\n",
              "    </tr>\n",
              "    <tr>\n",
              "      <th>130</th>\n",
              "      <td>1</td>\n",
              "    </tr>\n",
              "    <tr>\n",
              "      <th>131</th>\n",
              "      <td>1</td>\n",
              "    </tr>\n",
              "    <tr>\n",
              "      <th>132</th>\n",
              "      <td>0</td>\n",
              "    </tr>\n",
              "    <tr>\n",
              "      <th>133</th>\n",
              "      <td>0</td>\n",
              "    </tr>\n",
              "  </tbody>\n",
              "</table>\n",
              "<p>134 rows × 1 columns</p>\n",
              "</div>"
            ],
            "text/plain": [
              "     0\n",
              "0    0\n",
              "1    0\n",
              "2    0\n",
              "3    0\n",
              "4    0\n",
              "..  ..\n",
              "129  0\n",
              "130  1\n",
              "131  1\n",
              "132  0\n",
              "133  0\n",
              "\n",
              "[134 rows x 1 columns]"
            ]
          },
          "metadata": {
            "tags": []
          },
          "execution_count": 46
        }
      ]
    },
    {
      "cell_type": "code",
      "metadata": {
        "id": "ubYVTPAdu2c2",
        "colab_type": "code",
        "colab": {}
      },
      "source": [
        "# validation set and its predictions are used as features \n",
        "df_val_meta_features_as_train  = pd.concat([X_val,  val_pred1,  val_pred2],  axis = 1)\n",
        "\n",
        "df_test_meta_features_as_test  = pd.concat([X_test, test_pred1, test_pred2], axis = 1)"
      ],
      "execution_count": 47,
      "outputs": []
    },
    {
      "cell_type": "code",
      "metadata": {
        "id": "cdz3FqPLu5TT",
        "colab_type": "code",
        "colab": {
          "base_uri": "https://localhost:8080/",
          "height": 415
        },
        "outputId": "c9fd6d4b-7b30-4249-b805-9f008b56ce6d"
      },
      "source": [
        "df_val_meta_features_as_train"
      ],
      "execution_count": 48,
      "outputs": [
        {
          "output_type": "execute_result",
          "data": {
            "text/html": [
              "<div>\n",
              "<style scoped>\n",
              "    .dataframe tbody tr th:only-of-type {\n",
              "        vertical-align: middle;\n",
              "    }\n",
              "\n",
              "    .dataframe tbody tr th {\n",
              "        vertical-align: top;\n",
              "    }\n",
              "\n",
              "    .dataframe thead th {\n",
              "        text-align: right;\n",
              "    }\n",
              "</style>\n",
              "<table border=\"1\" class=\"dataframe\">\n",
              "  <thead>\n",
              "    <tr style=\"text-align: right;\">\n",
              "      <th></th>\n",
              "      <th>Pregnancies</th>\n",
              "      <th>Glucose</th>\n",
              "      <th>BloodPressure</th>\n",
              "      <th>SkinThickness</th>\n",
              "      <th>Insulin</th>\n",
              "      <th>BMI</th>\n",
              "      <th>DiabetesPedigreeFunction</th>\n",
              "      <th>Age</th>\n",
              "      <th>0</th>\n",
              "      <th>0</th>\n",
              "    </tr>\n",
              "  </thead>\n",
              "  <tbody>\n",
              "    <tr>\n",
              "      <th>0</th>\n",
              "      <td>0.224008</td>\n",
              "      <td>-0.748560</td>\n",
              "      <td>0.277769</td>\n",
              "      <td>-0.251438</td>\n",
              "      <td>-0.162269</td>\n",
              "      <td>0.110752</td>\n",
              "      <td>1.514066</td>\n",
              "      <td>1.072476</td>\n",
              "      <td>0</td>\n",
              "      <td>0</td>\n",
              "    </tr>\n",
              "    <tr>\n",
              "      <th>1</th>\n",
              "      <td>0.224008</td>\n",
              "      <td>-0.196653</td>\n",
              "      <td>0.399331</td>\n",
              "      <td>-1.368938</td>\n",
              "      <td>-0.667007</td>\n",
              "      <td>-0.225284</td>\n",
              "      <td>-0.415695</td>\n",
              "      <td>1.174133</td>\n",
              "      <td>1</td>\n",
              "      <td>1</td>\n",
              "    </tr>\n",
              "    <tr>\n",
              "      <th>2</th>\n",
              "      <td>-0.091496</td>\n",
              "      <td>0.413349</td>\n",
              "      <td>0.034645</td>\n",
              "      <td>-1.368938</td>\n",
              "      <td>-0.667007</td>\n",
              "      <td>-0.225284</td>\n",
              "      <td>2.059946</td>\n",
              "      <td>-1.062311</td>\n",
              "      <td>0</td>\n",
              "      <td>0</td>\n",
              "    </tr>\n",
              "    <tr>\n",
              "      <th>3</th>\n",
              "      <td>-0.722505</td>\n",
              "      <td>-0.661417</td>\n",
              "      <td>-4.220025</td>\n",
              "      <td>-1.368938</td>\n",
              "      <td>-0.667007</td>\n",
              "      <td>-1.485417</td>\n",
              "      <td>-1.109111</td>\n",
              "      <td>-0.960654</td>\n",
              "      <td>0</td>\n",
              "      <td>0</td>\n",
              "    </tr>\n",
              "    <tr>\n",
              "      <th>4</th>\n",
              "      <td>0.539513</td>\n",
              "      <td>0.093824</td>\n",
              "      <td>0.520893</td>\n",
              "      <td>0.555646</td>\n",
              "      <td>-0.667007</td>\n",
              "      <td>-0.729337</td>\n",
              "      <td>0.239361</td>\n",
              "      <td>1.682415</td>\n",
              "      <td>0</td>\n",
              "      <td>0</td>\n",
              "    </tr>\n",
              "    <tr>\n",
              "      <th>...</th>\n",
              "      <td>...</td>\n",
              "      <td>...</td>\n",
              "      <td>...</td>\n",
              "      <td>...</td>\n",
              "      <td>...</td>\n",
              "      <td>...</td>\n",
              "      <td>...</td>\n",
              "      <td>...</td>\n",
              "      <td>...</td>\n",
              "      <td>...</td>\n",
              "    </tr>\n",
              "    <tr>\n",
              "      <th>95</th>\n",
              "      <td>-1.353514</td>\n",
              "      <td>1.168590</td>\n",
              "      <td>0.399331</td>\n",
              "      <td>2.107730</td>\n",
              "      <td>0.086333</td>\n",
              "      <td>2.855042</td>\n",
              "      <td>0.811798</td>\n",
              "      <td>-0.757341</td>\n",
              "      <td>1</td>\n",
              "      <td>1</td>\n",
              "    </tr>\n",
              "    <tr>\n",
              "      <th>96</th>\n",
              "      <td>-0.407001</td>\n",
              "      <td>-0.254748</td>\n",
              "      <td>-1.180975</td>\n",
              "      <td>-0.748105</td>\n",
              "      <td>-0.026668</td>\n",
              "      <td>-0.463309</td>\n",
              "      <td>0.419354</td>\n",
              "      <td>-0.757341</td>\n",
              "      <td>0</td>\n",
              "      <td>0</td>\n",
              "    </tr>\n",
              "    <tr>\n",
              "      <th>97</th>\n",
              "      <td>-1.038010</td>\n",
              "      <td>-0.835703</td>\n",
              "      <td>-0.816289</td>\n",
              "      <td>-0.686021</td>\n",
              "      <td>-0.667007</td>\n",
              "      <td>-1.443413</td>\n",
              "      <td>-0.197343</td>\n",
              "      <td>-1.062311</td>\n",
              "      <td>0</td>\n",
              "      <td>0</td>\n",
              "    </tr>\n",
              "    <tr>\n",
              "      <th>98</th>\n",
              "      <td>-1.038010</td>\n",
              "      <td>0.500492</td>\n",
              "      <td>-0.451603</td>\n",
              "      <td>1.176480</td>\n",
              "      <td>2.949023</td>\n",
              "      <td>1.104857</td>\n",
              "      <td>0.153791</td>\n",
              "      <td>-1.163967</td>\n",
              "      <td>1</td>\n",
              "      <td>0</td>\n",
              "    </tr>\n",
              "    <tr>\n",
              "      <th>99</th>\n",
              "      <td>1.486026</td>\n",
              "      <td>0.529540</td>\n",
              "      <td>1.493389</td>\n",
              "      <td>-1.368938</td>\n",
              "      <td>-0.667007</td>\n",
              "      <td>-0.015262</td>\n",
              "      <td>0.738030</td>\n",
              "      <td>1.275789</td>\n",
              "      <td>1</td>\n",
              "      <td>0</td>\n",
              "    </tr>\n",
              "  </tbody>\n",
              "</table>\n",
              "<p>100 rows × 10 columns</p>\n",
              "</div>"
            ],
            "text/plain": [
              "    Pregnancies   Glucose  BloodPressure  ...       Age  0  0\n",
              "0      0.224008 -0.748560       0.277769  ...  1.072476  0  0\n",
              "1      0.224008 -0.196653       0.399331  ...  1.174133  1  1\n",
              "2     -0.091496  0.413349       0.034645  ... -1.062311  0  0\n",
              "3     -0.722505 -0.661417      -4.220025  ... -0.960654  0  0\n",
              "4      0.539513  0.093824       0.520893  ...  1.682415  0  0\n",
              "..          ...       ...            ...  ...       ... .. ..\n",
              "95    -1.353514  1.168590       0.399331  ... -0.757341  1  1\n",
              "96    -0.407001 -0.254748      -1.180975  ... -0.757341  0  0\n",
              "97    -1.038010 -0.835703      -0.816289  ... -1.062311  0  0\n",
              "98    -1.038010  0.500492      -0.451603  ... -1.163967  1  0\n",
              "99     1.486026  0.529540       1.493389  ...  1.275789  1  0\n",
              "\n",
              "[100 rows x 10 columns]"
            ]
          },
          "metadata": {
            "tags": []
          },
          "execution_count": 48
        }
      ]
    },
    {
      "cell_type": "code",
      "metadata": {
        "id": "m4_rOTV-u6UZ",
        "colab_type": "code",
        "colab": {
          "base_uri": "https://localhost:8080/",
          "height": 35
        },
        "outputId": "25efaaa5-fc86-4a34-a8f6-92fb0ba7f401"
      },
      "source": [
        "df_val_meta_features_as_train.shape, df_test_meta_features_as_test.shape"
      ],
      "execution_count": 49,
      "outputs": [
        {
          "output_type": "execute_result",
          "data": {
            "text/plain": [
              "((100, 10), (134, 10))"
            ]
          },
          "metadata": {
            "tags": []
          },
          "execution_count": 49
        }
      ]
    },
    {
      "cell_type": "code",
      "metadata": {
        "id": "LpNgUM8Au9ac",
        "colab_type": "code",
        "colab": {}
      },
      "source": [
        "model = LogisticRegression(solver='lbfgs', max_iter=3000)"
      ],
      "execution_count": 50,
      "outputs": []
    },
    {
      "cell_type": "code",
      "metadata": {
        "id": "qeU2Fm0Fu_L4",
        "colab_type": "code",
        "colab": {
          "base_uri": "https://localhost:8080/",
          "height": 104
        },
        "outputId": "a4b92adc-f9bd-4175-9f97-75e4b8a73ce1"
      },
      "source": [
        "# train on the updated validation set\n",
        "model.fit(df_val_meta_features_as_train,  y_val)"
      ],
      "execution_count": 51,
      "outputs": [
        {
          "output_type": "execute_result",
          "data": {
            "text/plain": [
              "LogisticRegression(C=1.0, class_weight=None, dual=False, fit_intercept=True,\n",
              "                   intercept_scaling=1, l1_ratio=None, max_iter=3000,\n",
              "                   multi_class='auto', n_jobs=None, penalty='l2',\n",
              "                   random_state=None, solver='lbfgs', tol=0.0001, verbose=0,\n",
              "                   warm_start=False)"
            ]
          },
          "metadata": {
            "tags": []
          },
          "execution_count": 51
        }
      ]
    },
    {
      "cell_type": "code",
      "metadata": {
        "id": "kqckM5QUvAzh",
        "colab_type": "code",
        "colab": {
          "base_uri": "https://localhost:8080/",
          "height": 139
        },
        "outputId": "11b9952d-d377-46cb-ab73-8f3442dcfcc1"
      },
      "source": [
        "# predict on updated (X_test)\n",
        "model.predict(df_test_meta_features_as_test)"
      ],
      "execution_count": 52,
      "outputs": [
        {
          "output_type": "execute_result",
          "data": {
            "text/plain": [
              "array([1, 1, 0, 0, 0, 1, 0, 0, 0, 0, 1, 1, 1, 1, 0, 0, 1, 1, 1, 0, 1, 1,\n",
              "       0, 1, 0, 0, 1, 0, 0, 0, 0, 0, 0, 0, 1, 0, 0, 0, 1, 0, 1, 0, 1, 0,\n",
              "       0, 1, 0, 0, 0, 0, 0, 1, 0, 1, 0, 0, 0, 0, 0, 0, 0, 1, 0, 0, 0, 1,\n",
              "       1, 1, 0, 1, 0, 1, 1, 0, 0, 0, 1, 0, 0, 0, 1, 0, 0, 0, 1, 0, 0, 0,\n",
              "       0, 1, 0, 0, 1, 1, 1, 1, 0, 0, 0, 0, 0, 1, 1, 1, 0, 0, 1, 0, 0, 0,\n",
              "       1, 1, 0, 0, 0, 0, 0, 1, 0, 0, 0, 0, 1, 1, 0, 0, 0, 1, 0, 0, 0, 0,\n",
              "       1, 0])"
            ]
          },
          "metadata": {
            "tags": []
          },
          "execution_count": 52
        }
      ]
    },
    {
      "cell_type": "code",
      "metadata": {
        "id": "4h-pb88jvDb-",
        "colab_type": "code",
        "colab": {
          "base_uri": "https://localhost:8080/",
          "height": 35
        },
        "outputId": "7451dcdb-b06b-4c43-f61e-b4abf6238555"
      },
      "source": [
        "# predict the X_test\n",
        "test_pred = model.predict(df_test_meta_features_as_test)\n",
        "\n",
        "print ('Model (Final) : Accuracy (test )       : ', metrics.accuracy_score(y_test, test_pred))"
      ],
      "execution_count": 53,
      "outputs": [
        {
          "output_type": "stream",
          "text": [
            "Model (Final) : Accuracy (test )       :  0.7388059701492538\n"
          ],
          "name": "stdout"
        }
      ]
    },
    {
      "cell_type": "code",
      "metadata": {
        "id": "SIPJOHuovFUN",
        "colab_type": "code",
        "colab": {}
      },
      "source": [
        ""
      ],
      "execution_count": null,
      "outputs": []
    }
  ]
}