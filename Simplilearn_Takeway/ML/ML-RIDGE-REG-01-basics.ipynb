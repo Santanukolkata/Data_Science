{
 "cells": [
  {
   "cell_type": "markdown",
   "metadata": {},
   "source": [
    "# Ridge regression \n",
    "\n",
    "- is basically minimizing a penalised version of the least-squared function. \n",
    "- The penalising shrinks the value of the regression coefficients. \n",
    "- Despite the few data points in each dimension, the slope of the prediction is much more stable and the variance in the line itself is greatly reduced, in comparison to that of the standard linear regression"
   ]
  },
  {
   "cell_type": "code",
   "execution_count": 9,
   "metadata": {},
   "outputs": [],
   "source": [
    "import numpy as np\n",
    "\n",
    "import matplotlib.pyplot as plt\n",
    "\n",
    "from sklearn import linear_model\n",
    "np.set_printoptions(precision=4, linewidth=100)"
   ]
  },
  {
   "cell_type": "code",
   "execution_count": 11,
   "metadata": {},
   "outputs": [
    {
     "data": {
      "text/plain": [
       "array([ 1,  2,  3,  4,  5,  6,  7,  8,  9, 10])"
      ]
     },
     "execution_count": 11,
     "metadata": {},
     "output_type": "execute_result"
    }
   ],
   "source": [
    "np.arange(1, 11)"
   ]
  },
  {
   "cell_type": "code",
   "execution_count": 12,
   "metadata": {},
   "outputs": [
    {
     "data": {
      "text/plain": [
       "array([ 1,  2,  3,  4,  5,  6,  7,  8,  9, 10])"
      ]
     },
     "execution_count": 12,
     "metadata": {},
     "output_type": "execute_result"
    }
   ],
   "source": [
    "np.arange(1, 11)"
   ]
  },
  {
   "cell_type": "code",
   "execution_count": 4,
   "metadata": {},
   "outputs": [
    {
     "data": {
      "text/plain": [
       "array([[0],\n",
       "       [1],\n",
       "       [2],\n",
       "       [3],\n",
       "       [4],\n",
       "       [5],\n",
       "       [6],\n",
       "       [7],\n",
       "       [8],\n",
       "       [9]])"
      ]
     },
     "execution_count": 4,
     "metadata": {},
     "output_type": "execute_result"
    }
   ],
   "source": [
    "np.arange(0, 10)[:, np.newaxis]"
   ]
  },
  {
   "cell_type": "code",
   "execution_count": 5,
   "metadata": {},
   "outputs": [
    {
     "data": {
      "text/plain": [
       "array([[ 1,  2,  3,  4,  5,  6,  7,  8,  9, 10],\n",
       "       [ 2,  3,  4,  5,  6,  7,  8,  9, 10, 11],\n",
       "       [ 3,  4,  5,  6,  7,  8,  9, 10, 11, 12],\n",
       "       [ 4,  5,  6,  7,  8,  9, 10, 11, 12, 13],\n",
       "       [ 5,  6,  7,  8,  9, 10, 11, 12, 13, 14],\n",
       "       [ 6,  7,  8,  9, 10, 11, 12, 13, 14, 15],\n",
       "       [ 7,  8,  9, 10, 11, 12, 13, 14, 15, 16],\n",
       "       [ 8,  9, 10, 11, 12, 13, 14, 15, 16, 17],\n",
       "       [ 9, 10, 11, 12, 13, 14, 15, 16, 17, 18],\n",
       "       [10, 11, 12, 13, 14, 15, 16, 17, 18, 19]])"
      ]
     },
     "execution_count": 5,
     "metadata": {},
     "output_type": "execute_result"
    }
   ],
   "source": [
    "np.arange(1, 11) + np.arange(0, 10)[:, np.newaxis]"
   ]
  },
  {
   "cell_type": "code",
   "execution_count": 6,
   "metadata": {},
   "outputs": [
    {
     "data": {
      "text/plain": [
       "array([[1.    , 0.5   , 0.3333, 0.25  , 0.2   , 0.1667, 0.1429, 0.125 , 0.1111, 0.1   ],\n",
       "       [0.5   , 0.3333, 0.25  , 0.2   , 0.1667, 0.1429, 0.125 , 0.1111, 0.1   , 0.0909],\n",
       "       [0.3333, 0.25  , 0.2   , 0.1667, 0.1429, 0.125 , 0.1111, 0.1   , 0.0909, 0.0833],\n",
       "       [0.25  , 0.2   , 0.1667, 0.1429, 0.125 , 0.1111, 0.1   , 0.0909, 0.0833, 0.0769],\n",
       "       [0.2   , 0.1667, 0.1429, 0.125 , 0.1111, 0.1   , 0.0909, 0.0833, 0.0769, 0.0714],\n",
       "       [0.1667, 0.1429, 0.125 , 0.1111, 0.1   , 0.0909, 0.0833, 0.0769, 0.0714, 0.0667],\n",
       "       [0.1429, 0.125 , 0.1111, 0.1   , 0.0909, 0.0833, 0.0769, 0.0714, 0.0667, 0.0625],\n",
       "       [0.125 , 0.1111, 0.1   , 0.0909, 0.0833, 0.0769, 0.0714, 0.0667, 0.0625, 0.0588],\n",
       "       [0.1111, 0.1   , 0.0909, 0.0833, 0.0769, 0.0714, 0.0667, 0.0625, 0.0588, 0.0556],\n",
       "       [0.1   , 0.0909, 0.0833, 0.0769, 0.0714, 0.0667, 0.0625, 0.0588, 0.0556, 0.0526]])"
      ]
     },
     "execution_count": 6,
     "metadata": {},
     "output_type": "execute_result"
    }
   ],
   "source": [
    "1. / (np.arange(1, 11) + np.arange(0, 10)[:, np.newaxis])"
   ]
  },
  {
   "cell_type": "code",
   "execution_count": 13,
   "metadata": {},
   "outputs": [],
   "source": [
    "# X is the 10x10  matrix\n",
    "X = 1. / (np.arange(1, 11) + np.arange(0, 10)[:, np.newaxis])\n",
    "\n",
    "y = np.ones(10)\n"
   ]
  },
  {
   "cell_type": "code",
   "execution_count": 14,
   "metadata": {},
   "outputs": [
    {
     "name": "stdout",
     "output_type": "stream",
     "text": [
      "X features\n",
      " [[1.     0.5    0.3333 0.25   0.2    0.1667 0.1429 0.125  0.1111 0.1   ]\n",
      " [0.5    0.3333 0.25   0.2    0.1667 0.1429 0.125  0.1111 0.1    0.0909]\n",
      " [0.3333 0.25   0.2    0.1667 0.1429 0.125  0.1111 0.1    0.0909 0.0833]\n",
      " [0.25   0.2    0.1667 0.1429 0.125  0.1111 0.1    0.0909 0.0833 0.0769]\n",
      " [0.2    0.1667 0.1429 0.125  0.1111 0.1    0.0909 0.0833 0.0769 0.0714]\n",
      " [0.1667 0.1429 0.125  0.1111 0.1    0.0909 0.0833 0.0769 0.0714 0.0667]\n",
      " [0.1429 0.125  0.1111 0.1    0.0909 0.0833 0.0769 0.0714 0.0667 0.0625]\n",
      " [0.125  0.1111 0.1    0.0909 0.0833 0.0769 0.0714 0.0667 0.0625 0.0588]\n",
      " [0.1111 0.1    0.0909 0.0833 0.0769 0.0714 0.0667 0.0625 0.0588 0.0556]\n",
      " [0.1    0.0909 0.0833 0.0769 0.0714 0.0667 0.0625 0.0588 0.0556 0.0526]]\n",
      "y features\n",
      " [1. 1. 1. 1. 1. 1. 1. 1. 1. 1.]\n"
     ]
    }
   ],
   "source": [
    "print('X features\\n', X)\n",
    "print('y features\\n', y)"
   ]
  },
  {
   "cell_type": "markdown",
   "metadata": {},
   "source": [
    "#### numpy.logspace(start, stop, num=50, endpoint=True, base=10.0)\n",
    "\n",
    "Return numbers spaced evenly on a log scale."
   ]
  },
  {
   "cell_type": "code",
   "execution_count": 78,
   "metadata": {},
   "outputs": [
    {
     "data": {
      "text/plain": [
       "array([  100.    ,   316.2278,  1000.    ,  3162.2777, 10000.    ])"
      ]
     },
     "execution_count": 78,
     "metadata": {},
     "output_type": "execute_result"
    }
   ],
   "source": [
    "np.logspace(2, 4, 5)"
   ]
  },
  {
   "cell_type": "code",
   "execution_count": 79,
   "metadata": {},
   "outputs": [
    {
     "data": {
      "text/plain": [
       "array([0.1 , 0.01])"
      ]
     },
     "execution_count": 79,
     "metadata": {},
     "output_type": "execute_result"
    }
   ],
   "source": [
    "np.logspace(-1, -2, 2)"
   ]
  },
  {
   "cell_type": "code",
   "execution_count": 80,
   "metadata": {},
   "outputs": [
    {
     "data": {
      "text/plain": [
       "array([0.001])"
      ]
     },
     "execution_count": 80,
     "metadata": {},
     "output_type": "execute_result"
    }
   ],
   "source": [
    "np.logspace(-3, -1, 1)"
   ]
  },
  {
   "cell_type": "code",
   "execution_count": 16,
   "metadata": {},
   "outputs": [
    {
     "data": {
      "text/plain": [
       "array([1.0000e-05, 1.0970e-05, 1.2034e-05, 1.3201e-05, 1.4481e-05, 1.5886e-05, 1.7426e-05,\n",
       "       1.9116e-05, 2.0970e-05, 2.3004e-05, 2.5235e-05, 2.7683e-05, 3.0368e-05, 3.3313e-05,\n",
       "       3.6544e-05, 4.0088e-05, 4.3976e-05, 4.8241e-05, 5.2920e-05, 5.8052e-05, 6.3682e-05,\n",
       "       6.9859e-05, 7.6634e-05, 8.4067e-05, 9.2220e-05, 1.0116e-04, 1.1098e-04, 1.2174e-04,\n",
       "       1.3355e-04, 1.4650e-04, 1.6071e-04, 1.7629e-04, 1.9339e-04, 2.1215e-04, 2.3272e-04,\n",
       "       2.5529e-04, 2.8005e-04, 3.0721e-04, 3.3701e-04, 3.6969e-04, 4.0555e-04, 4.4488e-04,\n",
       "       4.8803e-04, 5.3536e-04, 5.8728e-04, 6.4424e-04, 7.0672e-04, 7.7526e-04, 8.5045e-04,\n",
       "       9.3293e-04, 1.0234e-03, 1.1227e-03, 1.2316e-03, 1.3510e-03, 1.4820e-03, 1.6258e-03,\n",
       "       1.7834e-03, 1.9564e-03, 2.1461e-03, 2.3543e-03, 2.5826e-03, 2.8331e-03, 3.1079e-03,\n",
       "       3.4093e-03, 3.7399e-03, 4.1027e-03, 4.5006e-03, 4.9370e-03, 5.4159e-03, 5.9411e-03,\n",
       "       6.5173e-03, 7.1494e-03, 7.8428e-03, 8.6035e-03, 9.4379e-03, 1.0353e-02, 1.1357e-02,\n",
       "       1.2459e-02, 1.3667e-02, 1.4993e-02, 1.6447e-02, 1.8042e-02, 1.9792e-02, 2.1711e-02,\n",
       "       2.3817e-02, 2.6127e-02, 2.8661e-02, 3.1440e-02, 3.4490e-02, 3.7835e-02, 4.1504e-02,\n",
       "       4.5529e-02, 4.9945e-02, 5.4789e-02, 6.0103e-02, 6.5932e-02, 7.2326e-02, 7.9341e-02,\n",
       "       8.7036e-02, 9.5477e-02, 1.0474e-01, 1.1490e-01, 1.2604e-01, 1.3826e-01, 1.5167e-01,\n",
       "       1.6638e-01, 1.8252e-01, 2.0022e-01, 2.1964e-01, 2.4094e-01, 2.6431e-01, 2.8994e-01,\n",
       "       3.1806e-01, 3.4891e-01, 3.8275e-01, 4.1987e-01, 4.6059e-01, 5.0526e-01, 5.5427e-01,\n",
       "       6.0802e-01, 6.6699e-01, 7.3168e-01, 8.0264e-01, 8.8049e-01, 9.6588e-01, 1.0596e+00,\n",
       "       1.1623e+00, 1.2751e+00, 1.3987e+00, 1.5344e+00, 1.6832e+00, 1.8464e+00, 2.0255e+00,\n",
       "       2.2219e+00, 2.4374e+00, 2.6738e+00, 2.9332e+00, 3.2176e+00, 3.5297e+00, 3.8720e+00,\n",
       "       4.2476e+00, 4.6595e+00, 5.1114e+00, 5.6072e+00, 6.1510e+00, 6.7475e+00, 7.4020e+00,\n",
       "       8.1198e+00, 8.9074e+00, 9.7712e+00, 1.0719e+01, 1.1758e+01, 1.2899e+01, 1.4150e+01,\n",
       "       1.5522e+01, 1.7028e+01, 1.8679e+01, 2.0491e+01, 2.2478e+01, 2.4658e+01, 2.7050e+01,\n",
       "       2.9673e+01, 3.2551e+01, 3.5708e+01, 3.9171e+01, 4.2970e+01, 4.7138e+01, 5.1709e+01,\n",
       "       5.6724e+01, 6.2226e+01, 6.8261e+01, 7.4881e+01, 8.2143e+01, 9.0110e+01, 9.8850e+01,\n",
       "       1.0844e+02, 1.1895e+02, 1.3049e+02, 1.4315e+02, 1.5703e+02, 1.7226e+02, 1.8897e+02,\n",
       "       2.0729e+02, 2.2740e+02, 2.4945e+02, 2.7364e+02, 3.0018e+02, 3.2930e+02, 3.6123e+02,\n",
       "       3.9627e+02, 4.3470e+02, 4.7686e+02, 5.2311e+02, 5.7384e+02, 6.2950e+02, 6.9055e+02,\n",
       "       7.5753e+02, 8.3099e+02, 9.1159e+02, 1.0000e+03])"
      ]
     },
     "execution_count": 16,
     "metadata": {},
     "output_type": "execute_result"
    }
   ],
   "source": [
    "# Get various values of alpha\n",
    "\n",
    "n_alphas = 200\n",
    "alphas   = np.logspace(-5, 3, n_alphas)\n",
    "alphas"
   ]
  },
  {
   "cell_type": "code",
   "execution_count": 17,
   "metadata": {},
   "outputs": [],
   "source": [
    "# array for storing the regression coeff\n",
    "coefs = []\n",
    "\n",
    "for a in alphas:\n",
    "    \n",
    "    ridge = linear_model.Ridge(alpha=a, fit_intercept=False) # Since we did not add a col of 1s\n",
    "    \n",
    "    ridge.fit(X, y)\n",
    "    \n",
    "    coefs.append(ridge.coef_)"
   ]
  },
  {
   "cell_type": "code",
   "execution_count": 18,
   "metadata": {},
   "outputs": [
    {
     "data": {
      "text/plain": [
       "[array([  0.2324,   5.2362,  -8.6106, -10.0347,  -6.2074,  -0.8807,   4.4353,   9.1998,  13.2701,\n",
       "         16.6612]),\n",
       " array([ 0.3655,  4.504 , -8.3662, -9.5023, -5.74  , -0.6121,  4.4706,  9.0091, 12.8762, 16.0914]),\n",
       " array([ 0.4951,  3.7893, -8.1257, -8.9821, -5.2845, -0.3511,  4.504 ,  8.8222, 12.4917, 15.536 ]),\n",
       " array([ 0.6206,  3.0947, -7.8899, -8.4757, -4.8422, -0.0985,  4.5354,  8.6399, 12.1178, 14.9965]),\n",
       " array([ 0.7418,  2.4225, -7.6599, -7.9847, -4.4143,  0.1451,  4.5648,  8.4625, 11.7554, 14.4743])]"
      ]
     },
     "execution_count": 18,
     "metadata": {},
     "output_type": "execute_result"
    }
   ],
   "source": [
    "coefs[:5]"
   ]
  },
  {
   "cell_type": "code",
   "execution_count": 19,
   "metadata": {},
   "outputs": [
    {
     "data": {
      "image/png": "[encoded data removed]",
      "text/plain": [
       "<Figure size 1008x360 with 1 Axes>"
      ]
     },
     "metadata": {
      "needs_background": "light"
     },
     "output_type": "display_data"
    }
   ],
   "source": [
    "# Display results\n",
    "\n",
    "plt.figure(figsize=(14, 5))\n",
    "plt.grid()\n",
    "\n",
    "ax = plt.gca()\n",
    "\n",
    "ax.plot(alphas, coefs)\n",
    "\n",
    "ax.set_xscale('log')\n",
    "ax.set_xlim(ax.get_xlim()[::-1])  # reverse axis\n",
    "\n",
    "plt.xlabel('alpha')\n",
    "plt.ylabel('weights')\n",
    "\n",
    "plt.title('Ridge coefficients');\n"
   ]
  },
  {
   "cell_type": "markdown",
   "metadata": {},
   "source": [
    "When alpha is very large, the regularization effect dominates the squared loss function and the coefficients tend to zero. \n",
    "\n",
    "At the end of the path, as alpha tends toward zero and the solution tends towards the ordinary least squares, coefficients exhibit big oscillations. \n",
    "\n",
    "In practise it is necessary to tune alpha in such a way that a balance is maintained between both."
   ]
  },
  {
   "cell_type": "code",
   "execution_count": null,
   "metadata": {},
   "outputs": [],
   "source": []
  }
 ],
 "metadata": {
  "kernelspec": {
   "display_name": "Python 3",
   "language": "python",
   "name": "python3"
  },
  "language_info": {
   "codemirror_mode": {
    "name": "ipython",
    "version": 3
   },
   "file_extension": ".py",
   "mimetype": "text/x-python",
   "name": "python",
   "nbconvert_exporter": "python",
   "pygments_lexer": "ipython3",
   "version": "3.7.3"
  }
 },
 "nbformat": 4,
 "nbformat_minor": 2
}
