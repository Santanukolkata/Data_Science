{
  "nbformat": 4,
  "nbformat_minor": 0,
  "metadata": {
    "colab": {
      "name": "Normality_Testing_with_Anderson.ipynb",
      "provenance": [],
      "collapsed_sections": [],
      "authorship_tag": "ABX9TyPimXJPUsLoZmqGQGS+tZoa",
      "include_colab_link": true
    },
    "kernelspec": {
      "name": "python3",
      "display_name": "Python 3"
    }
  },
  "cells": [
    {
      "cell_type": "markdown",
      "metadata": {
        "id": "view-in-github",
        "colab_type": "text"
      },
      "source": [
        "<a href=\"https://colab.research.google.com/github/Santanukolkata/Data_Science/blob/master/Stats/Normality_Testing_with_Anderson.ipynb\" target=\"_parent\"><img src=\"https://colab.research.google.com/assets/colab-badge.svg\" alt=\"Open In Colab\"/></a>"
      ]
    },
    {
      "cell_type": "code",
      "metadata": {
        "id": "AtVgHn9lqz5x",
        "colab_type": "code",
        "outputId": "68a56dc2-d989-4a8b-cd1f-31fe9536b790",
        "colab": {
          "base_uri": "https://localhost:8080/",
          "height": 111
        }
      },
      "source": [
        "import pandas as pd\n",
        "from  sklearn.datasets import  load_iris\n",
        "from scipy.stats import anderson\n",
        "iris=load_iris()\n",
        "df_iris =pd.DataFrame(iris.data,columns =iris.feature_names)\n",
        "df_iris.head(2)"
      ],
      "execution_count": 5,
      "outputs": [
        {
          "output_type": "execute_result",
          "data": {
            "text/html": [
              "<div>\n",
              "<style scoped>\n",
              "    .dataframe tbody tr th:only-of-type {\n",
              "        vertical-align: middle;\n",
              "    }\n",
              "\n",
              "    .dataframe tbody tr th {\n",
              "        vertical-align: top;\n",
              "    }\n",
              "\n",
              "    .dataframe thead th {\n",
              "        text-align: right;\n",
              "    }\n",
              "</style>\n",
              "<table border=\"1\" class=\"dataframe\">\n",
              "  <thead>\n",
              "    <tr style=\"text-align: right;\">\n",
              "      <th></th>\n",
              "      <th>sepal length (cm)</th>\n",
              "      <th>sepal width (cm)</th>\n",
              "      <th>petal length (cm)</th>\n",
              "      <th>petal width (cm)</th>\n",
              "    </tr>\n",
              "  </thead>\n",
              "  <tbody>\n",
              "    <tr>\n",
              "      <th>0</th>\n",
              "      <td>5.1</td>\n",
              "      <td>3.5</td>\n",
              "      <td>1.4</td>\n",
              "      <td>0.2</td>\n",
              "    </tr>\n",
              "    <tr>\n",
              "      <th>1</th>\n",
              "      <td>4.9</td>\n",
              "      <td>3.0</td>\n",
              "      <td>1.4</td>\n",
              "      <td>0.2</td>\n",
              "    </tr>\n",
              "  </tbody>\n",
              "</table>\n",
              "</div>"
            ],
            "text/plain": [
              "   sepal length (cm)  sepal width (cm)  petal length (cm)  petal width (cm)\n",
              "0                5.1               3.5                1.4               0.2\n",
              "1                4.9               3.0                1.4               0.2"
            ]
          },
          "metadata": {
            "tags": []
          },
          "execution_count": 5
        }
      ]
    },
    {
      "cell_type": "markdown",
      "metadata": {
        "id": "NXDxsZLFvIjy",
        "colab_type": "text"
      },
      "source": [
        "**Statistical Normality Tests**<br>\n",
        "The tests assume that that the sample was drawn from a Gaussian distribution. Technically this is called the null hypothesis, or H0. A threshold level is chosen called alpha, typically 5% (or 0.05), that is used to interpret the p-value.\n",
        "\n",
        "$H_0 :$ sample drawn from a Gaussian distribution\n",
        "$H_A :$ sample NOT drawn from a Gaussian distribution\n",
        "Each test will return at least two things:\n",
        "\n",
        "Statistic: A quantity calculated by the test that can be interpreted in the context of the test via comparing it to critical values from the distribution of the test statistic.\n",
        "\n",
        "p-value: Used to interpret the test, in this case whether the sample was drawn from a Gaussian distribution.\n",
        "\n",
        "In the SciPy implementation of these tests, you can interpret the p value as follows.\n",
        "\n",
        "p <= alpha: reject H0, not normal.\n",
        "p > alpha: fail to reject H0, normal."
      ]
    },
    {
      "cell_type": "code",
      "metadata": {
        "id": "aoMKTd07vJyH",
        "colab_type": "code",
        "outputId": "0fd25480-8c4f-4176-e8bc-087d394e4393",
        "colab": {
          "base_uri": "https://localhost:8080/",
          "height": 136
        }
      },
      "source": [
        "result  = anderson(df_iris['sepal width (cm)'])\n",
        "p = 0\n",
        "print('{:15s}  {:15s}  {:15s}'.format('Significance Level', 'Test Statistic', 'Critical Value'))\n",
        "print('{:15s}  {:15s}  {:15s}'.format('------------------', '--------------', '--------------'))\n",
        "for i in range(len(result.critical_values)):\n",
        "    sl, cv = result.significance_level[i], result.critical_values[i]    \n",
        "    \n",
        "    if result.statistic < result.critical_values[i]:\n",
        "        print('{:17d}%  {:14.3f} {:16.3f} Test stats < CV,  (fail to reject H0)'.format(int(sl), result.statistic, cv))\n",
        "    else:\n",
        "        print('{:17d}%  {:14.3f} {:16.3f} Test stats >= CV, (reject H0)'.format(int(sl), result.statistic, cv))"
      ],
      "execution_count": 6,
      "outputs": [
        {
          "output_type": "stream",
          "text": [
            "Significance Level  Test Statistic   Critical Value \n",
            "------------------  --------------   -------------- \n",
            "               15%           0.908            0.562 Test stats >= CV, (reject H0)\n",
            "               10%           0.908            0.640 Test stats >= CV, (reject H0)\n",
            "                5%           0.908            0.767 Test stats >= CV, (reject H0)\n",
            "                2%           0.908            0.895 Test stats >= CV, (reject H0)\n",
            "                1%           0.908            1.065 Test stats < CV,  (fail to reject H0)\n"
          ],
          "name": "stdout"
        }
      ]
    },
    {
      "cell_type": "code",
      "metadata": {
        "id": "RBIcHuUBwAT4",
        "colab_type": "code",
        "colab": {}
      },
      "source": [
        ""
      ],
      "execution_count": 0,
      "outputs": []
    }
  ]
}