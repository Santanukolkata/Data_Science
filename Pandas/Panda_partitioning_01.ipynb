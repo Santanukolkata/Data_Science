{
  "nbformat": 4,
  "nbformat_minor": 0,
  "metadata": {
    "colab": {
      "name": "Panda_partitioning_01.ipynb",
      "provenance": [],
      "authorship_tag": "ABX9TyM1iUHJBH+mzSTTiryXCK0e",
      "include_colab_link": true
    },
    "kernelspec": {
      "name": "python3",
      "display_name": "Python 3"
    }
  },
  "cells": [
    {
      "cell_type": "markdown",
      "metadata": {
        "id": "view-in-github",
        "colab_type": "text"
      },
      "source": [
        "<a href=\"https://colab.research.google.com/github/Santanukolkata/Data_Science/blob/master/Pandas/Panda_partitioning_01.ipynb\" target=\"_parent\"><img src=\"https://colab.research.google.com/assets/colab-badge.svg\" alt=\"Open In Colab\"/></a>"
      ]
    },
    {
      "cell_type": "code",
      "metadata": {
        "id": "JEpUKZvnOXDs",
        "colab_type": "code",
        "colab": {}
      },
      "source": [
        "import pandas as pd\n",
        "import numpy as np\n",
        "np.random.seed(100)\n",
        "df = pd.DataFrame({'value': np.random.randint(0, 100, 10)})"
      ],
      "execution_count": 10,
      "outputs": []
    },
    {
      "cell_type": "code",
      "metadata": {
        "id": "PY38PksDWsp5",
        "colab_type": "code",
        "colab": {}
      },
      "source": [
        "labels = [\"{0} - {1}\".format(i, i + 9) for i in range(0, 100, 10)]"
      ],
      "execution_count": 11,
      "outputs": []
    },
    {
      "cell_type": "code",
      "metadata": {
        "id": "dHLpL3izYj7D",
        "colab_type": "code",
        "colab": {
          "base_uri": "https://localhost:8080/",
          "height": 191
        },
        "outputId": "876eb63c-e406-41b3-c413-f15f39b602ff"
      },
      "source": [
        "labels"
      ],
      "execution_count": 12,
      "outputs": [
        {
          "output_type": "execute_result",
          "data": {
            "text/plain": [
              "['0 - 9',\n",
              " '10 - 19',\n",
              " '20 - 29',\n",
              " '30 - 39',\n",
              " '40 - 49',\n",
              " '50 - 59',\n",
              " '60 - 69',\n",
              " '70 - 79',\n",
              " '80 - 89',\n",
              " '90 - 99']"
            ]
          },
          "metadata": {
            "tags": []
          },
          "execution_count": 12
        }
      ]
    },
    {
      "cell_type": "code",
      "metadata": {
        "id": "oht7FFOUYlje",
        "colab_type": "code",
        "colab": {
          "base_uri": "https://localhost:8080/",
          "height": 355
        },
        "outputId": "9511bfc7-e962-45b6-c643-300db87a019b"
      },
      "source": [
        "df['group'] = pd.cut(df.value, range(0, 101, 10), right=False, labels=labels)\n",
        "df"
      ],
      "execution_count": 13,
      "outputs": [
        {
          "output_type": "execute_result",
          "data": {
            "text/html": [
              "<div>\n",
              "<style scoped>\n",
              "    .dataframe tbody tr th:only-of-type {\n",
              "        vertical-align: middle;\n",
              "    }\n",
              "\n",
              "    .dataframe tbody tr th {\n",
              "        vertical-align: top;\n",
              "    }\n",
              "\n",
              "    .dataframe thead th {\n",
              "        text-align: right;\n",
              "    }\n",
              "</style>\n",
              "<table border=\"1\" class=\"dataframe\">\n",
              "  <thead>\n",
              "    <tr style=\"text-align: right;\">\n",
              "      <th></th>\n",
              "      <th>value</th>\n",
              "      <th>group</th>\n",
              "    </tr>\n",
              "  </thead>\n",
              "  <tbody>\n",
              "    <tr>\n",
              "      <th>0</th>\n",
              "      <td>8</td>\n",
              "      <td>0 - 9</td>\n",
              "    </tr>\n",
              "    <tr>\n",
              "      <th>1</th>\n",
              "      <td>24</td>\n",
              "      <td>20 - 29</td>\n",
              "    </tr>\n",
              "    <tr>\n",
              "      <th>2</th>\n",
              "      <td>67</td>\n",
              "      <td>60 - 69</td>\n",
              "    </tr>\n",
              "    <tr>\n",
              "      <th>3</th>\n",
              "      <td>87</td>\n",
              "      <td>80 - 89</td>\n",
              "    </tr>\n",
              "    <tr>\n",
              "      <th>4</th>\n",
              "      <td>79</td>\n",
              "      <td>70 - 79</td>\n",
              "    </tr>\n",
              "    <tr>\n",
              "      <th>5</th>\n",
              "      <td>48</td>\n",
              "      <td>40 - 49</td>\n",
              "    </tr>\n",
              "    <tr>\n",
              "      <th>6</th>\n",
              "      <td>10</td>\n",
              "      <td>10 - 19</td>\n",
              "    </tr>\n",
              "    <tr>\n",
              "      <th>7</th>\n",
              "      <td>94</td>\n",
              "      <td>90 - 99</td>\n",
              "    </tr>\n",
              "    <tr>\n",
              "      <th>8</th>\n",
              "      <td>52</td>\n",
              "      <td>50 - 59</td>\n",
              "    </tr>\n",
              "    <tr>\n",
              "      <th>9</th>\n",
              "      <td>98</td>\n",
              "      <td>90 - 99</td>\n",
              "    </tr>\n",
              "  </tbody>\n",
              "</table>\n",
              "</div>"
            ],
            "text/plain": [
              "   value    group\n",
              "0      8    0 - 9\n",
              "1     24  20 - 29\n",
              "2     67  60 - 69\n",
              "3     87  80 - 89\n",
              "4     79  70 - 79\n",
              "5     48  40 - 49\n",
              "6     10  10 - 19\n",
              "7     94  90 - 99\n",
              "8     52  50 - 59\n",
              "9     98  90 - 99"
            ]
          },
          "metadata": {
            "tags": []
          },
          "execution_count": 13
        }
      ]
    },
    {
      "cell_type": "code",
      "metadata": {
        "id": "zomIPYDpYqN2",
        "colab_type": "code",
        "colab": {}
      },
      "source": [
        "dict={'Name':['U001','U002','U003','U004','U005','U006','U007'],\n",
        "      'Department':['D001','D001','D001','D002','D002','D003','D003'],\n",
        "      'Salary':[10000,11000,9000,7000,5000,8000,8000],\n",
        "      'Joining Date':['2000-01-01','2000-12-01','2003-01-01','2010-01-01','2015-01-01','2013-01-01','2014-01-01']}"
      ],
      "execution_count": 14,
      "outputs": []
    },
    {
      "cell_type": "code",
      "metadata": {
        "id": "6xEEivHjZJxi",
        "colab_type": "code",
        "colab": {
          "base_uri": "https://localhost:8080/",
          "height": 263
        },
        "outputId": "680d5b37-7624-46c8-fb6f-cbde504bed71"
      },
      "source": [
        "df=pd.DataFrame(dict)\n",
        "df"
      ],
      "execution_count": 16,
      "outputs": [
        {
          "output_type": "execute_result",
          "data": {
            "text/html": [
              "<div>\n",
              "<style scoped>\n",
              "    .dataframe tbody tr th:only-of-type {\n",
              "        vertical-align: middle;\n",
              "    }\n",
              "\n",
              "    .dataframe tbody tr th {\n",
              "        vertical-align: top;\n",
              "    }\n",
              "\n",
              "    .dataframe thead th {\n",
              "        text-align: right;\n",
              "    }\n",
              "</style>\n",
              "<table border=\"1\" class=\"dataframe\">\n",
              "  <thead>\n",
              "    <tr style=\"text-align: right;\">\n",
              "      <th></th>\n",
              "      <th>Name</th>\n",
              "      <th>Department</th>\n",
              "      <th>Salary</th>\n",
              "      <th>Joining Date</th>\n",
              "    </tr>\n",
              "  </thead>\n",
              "  <tbody>\n",
              "    <tr>\n",
              "      <th>0</th>\n",
              "      <td>U001</td>\n",
              "      <td>D001</td>\n",
              "      <td>10000</td>\n",
              "      <td>2000-01-01</td>\n",
              "    </tr>\n",
              "    <tr>\n",
              "      <th>1</th>\n",
              "      <td>U002</td>\n",
              "      <td>D001</td>\n",
              "      <td>11000</td>\n",
              "      <td>2000-12-01</td>\n",
              "    </tr>\n",
              "    <tr>\n",
              "      <th>2</th>\n",
              "      <td>U003</td>\n",
              "      <td>D001</td>\n",
              "      <td>9000</td>\n",
              "      <td>2003-01-01</td>\n",
              "    </tr>\n",
              "    <tr>\n",
              "      <th>3</th>\n",
              "      <td>U004</td>\n",
              "      <td>D002</td>\n",
              "      <td>7000</td>\n",
              "      <td>2010-01-01</td>\n",
              "    </tr>\n",
              "    <tr>\n",
              "      <th>4</th>\n",
              "      <td>U005</td>\n",
              "      <td>D002</td>\n",
              "      <td>5000</td>\n",
              "      <td>2015-01-01</td>\n",
              "    </tr>\n",
              "    <tr>\n",
              "      <th>5</th>\n",
              "      <td>U006</td>\n",
              "      <td>D003</td>\n",
              "      <td>8000</td>\n",
              "      <td>2013-01-01</td>\n",
              "    </tr>\n",
              "    <tr>\n",
              "      <th>6</th>\n",
              "      <td>U007</td>\n",
              "      <td>D003</td>\n",
              "      <td>8000</td>\n",
              "      <td>2014-01-01</td>\n",
              "    </tr>\n",
              "  </tbody>\n",
              "</table>\n",
              "</div>"
            ],
            "text/plain": [
              "   Name Department  Salary Joining Date\n",
              "0  U001       D001   10000   2000-01-01\n",
              "1  U002       D001   11000   2000-12-01\n",
              "2  U003       D001    9000   2003-01-01\n",
              "3  U004       D002    7000   2010-01-01\n",
              "4  U005       D002    5000   2015-01-01\n",
              "5  U006       D003    8000   2013-01-01\n",
              "6  U007       D003    8000   2014-01-01"
            ]
          },
          "metadata": {
            "tags": []
          },
          "execution_count": 16
        }
      ]
    },
    {
      "cell_type": "code",
      "metadata": {
        "id": "voNInTUmZMwI",
        "colab_type": "code",
        "colab": {
          "base_uri": "https://localhost:8080/",
          "height": 263
        },
        "outputId": "146c41c5-aae4-4fa7-c473-a06908b15283"
      },
      "source": [
        "m_labels = range(1, 4)\n",
        "# Assign these labels to three equal percentile groups \n",
        "m_groups = pd.qcut(df['Salary'], q=3, labels=m_labels)\n",
        "# Create new column M\n",
        "data = df.assign(M = m_groups.values)\n",
        "data"
      ],
      "execution_count": 20,
      "outputs": [
        {
          "output_type": "execute_result",
          "data": {
            "text/html": [
              "<div>\n",
              "<style scoped>\n",
              "    .dataframe tbody tr th:only-of-type {\n",
              "        vertical-align: middle;\n",
              "    }\n",
              "\n",
              "    .dataframe tbody tr th {\n",
              "        vertical-align: top;\n",
              "    }\n",
              "\n",
              "    .dataframe thead th {\n",
              "        text-align: right;\n",
              "    }\n",
              "</style>\n",
              "<table border=\"1\" class=\"dataframe\">\n",
              "  <thead>\n",
              "    <tr style=\"text-align: right;\">\n",
              "      <th></th>\n",
              "      <th>Name</th>\n",
              "      <th>Department</th>\n",
              "      <th>Salary</th>\n",
              "      <th>Joining Date</th>\n",
              "      <th>M</th>\n",
              "    </tr>\n",
              "  </thead>\n",
              "  <tbody>\n",
              "    <tr>\n",
              "      <th>0</th>\n",
              "      <td>U001</td>\n",
              "      <td>D001</td>\n",
              "      <td>10000</td>\n",
              "      <td>2000-01-01</td>\n",
              "      <td>3</td>\n",
              "    </tr>\n",
              "    <tr>\n",
              "      <th>1</th>\n",
              "      <td>U002</td>\n",
              "      <td>D001</td>\n",
              "      <td>11000</td>\n",
              "      <td>2000-12-01</td>\n",
              "      <td>3</td>\n",
              "    </tr>\n",
              "    <tr>\n",
              "      <th>2</th>\n",
              "      <td>U003</td>\n",
              "      <td>D001</td>\n",
              "      <td>9000</td>\n",
              "      <td>2003-01-01</td>\n",
              "      <td>2</td>\n",
              "    </tr>\n",
              "    <tr>\n",
              "      <th>3</th>\n",
              "      <td>U004</td>\n",
              "      <td>D002</td>\n",
              "      <td>7000</td>\n",
              "      <td>2010-01-01</td>\n",
              "      <td>1</td>\n",
              "    </tr>\n",
              "    <tr>\n",
              "      <th>4</th>\n",
              "      <td>U005</td>\n",
              "      <td>D002</td>\n",
              "      <td>5000</td>\n",
              "      <td>2015-01-01</td>\n",
              "      <td>1</td>\n",
              "    </tr>\n",
              "    <tr>\n",
              "      <th>5</th>\n",
              "      <td>U006</td>\n",
              "      <td>D003</td>\n",
              "      <td>8000</td>\n",
              "      <td>2013-01-01</td>\n",
              "      <td>1</td>\n",
              "    </tr>\n",
              "    <tr>\n",
              "      <th>6</th>\n",
              "      <td>U007</td>\n",
              "      <td>D003</td>\n",
              "      <td>8000</td>\n",
              "      <td>2014-01-01</td>\n",
              "      <td>1</td>\n",
              "    </tr>\n",
              "  </tbody>\n",
              "</table>\n",
              "</div>"
            ],
            "text/plain": [
              "   Name Department  Salary Joining Date  M\n",
              "0  U001       D001   10000   2000-01-01  3\n",
              "1  U002       D001   11000   2000-12-01  3\n",
              "2  U003       D001    9000   2003-01-01  2\n",
              "3  U004       D002    7000   2010-01-01  1\n",
              "4  U005       D002    5000   2015-01-01  1\n",
              "5  U006       D003    8000   2013-01-01  1\n",
              "6  U007       D003    8000   2014-01-01  1"
            ]
          },
          "metadata": {
            "tags": []
          },
          "execution_count": 20
        }
      ]
    },
    {
      "cell_type": "code",
      "metadata": {
        "id": "ps4g1OwrZbh6",
        "colab_type": "code",
        "colab": {}
      },
      "source": [
        ""
      ],
      "execution_count": null,
      "outputs": []
    }
  ]
}