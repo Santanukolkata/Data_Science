{
  "nbformat": 4,
  "nbformat_minor": 0,
  "metadata": {
    "colab": {
      "name": "R2 and Adjusted R2.ipynb",
      "provenance": [],
      "authorship_tag": "ABX9TyOKKcJSGaIvPldG8o48BHdU",
      "include_colab_link": true
    },
    "kernelspec": {
      "name": "python3",
      "display_name": "Python 3"
    }
  },
  "cells": [
    {
      "cell_type": "markdown",
      "metadata": {
        "id": "view-in-github",
        "colab_type": "text"
      },
      "source": [
        "<a href=\"https://colab.research.google.com/github/Santanukolkata/Data_Science/blob/master/Classification_Metrics/R2_and_Adjusted_R2.ipynb\" target=\"_parent\"><img src=\"https://colab.research.google.com/assets/colab-badge.svg\" alt=\"Open In Colab\"/></a>"
      ]
    },
    {
      "cell_type": "code",
      "metadata": {
        "id": "-5gS7B5x0tqB",
        "colab_type": "code",
        "colab": {
          "base_uri": "https://localhost:8080/",
          "height": 71
        },
        "outputId": "cb06ad33-0558-4613-aaf0-1b81d94a656a"
      },
      "source": [
        "# import the ML algorithm\n",
        "from sklearn.linear_model import LinearRegression\n",
        "import pandas as pd\n",
        "import numpy as np\n",
        "import statsmodels.api as sm"
      ],
      "execution_count": 12,
      "outputs": [
        {
          "output_type": "stream",
          "text": [
            "/usr/local/lib/python3.6/dist-packages/statsmodels/tools/_testing.py:19: FutureWarning: pandas.util.testing is deprecated. Use the functions in the public API at pandas.testing instead.\n",
            "  import pandas.util.testing as tm\n"
          ],
          "name": "stderr"
        }
      ]
    },
    {
      "cell_type": "code",
      "metadata": {
        "id": "0Rm9yZPq2EPb",
        "colab_type": "code",
        "colab": {}
      },
      "source": [
        "location=\"https://raw.githubusercontent.com/Santanukolkata/Data_Science/master/Classification_Metrics/sales.csv\""
      ],
      "execution_count": 3,
      "outputs": []
    },
    {
      "cell_type": "code",
      "metadata": {
        "id": "GAcMh2KP2RbB",
        "colab_type": "code",
        "colab": {}
      },
      "source": [
        "df = pd.read_csv(location, delimiter=r\"\\s+\")"
      ],
      "execution_count": 4,
      "outputs": []
    },
    {
      "cell_type": "code",
      "metadata": {
        "id": "rEovN2tY2Tya",
        "colab_type": "code",
        "colab": {
          "base_uri": "https://localhost:8080/",
          "height": 204
        },
        "outputId": "a0e6c364-52f3-4b95-a89b-e957288ccd94"
      },
      "source": [
        "df.head()"
      ],
      "execution_count": 5,
      "outputs": [
        {
          "output_type": "execute_result",
          "data": {
            "text/html": [
              "<div>\n",
              "<style scoped>\n",
              "    .dataframe tbody tr th:only-of-type {\n",
              "        vertical-align: middle;\n",
              "    }\n",
              "\n",
              "    .dataframe tbody tr th {\n",
              "        vertical-align: top;\n",
              "    }\n",
              "\n",
              "    .dataframe thead th {\n",
              "        text-align: right;\n",
              "    }\n",
              "</style>\n",
              "<table border=\"1\" class=\"dataframe\">\n",
              "  <thead>\n",
              "    <tr style=\"text-align: right;\">\n",
              "      <th></th>\n",
              "      <th>AverageNumberofTickets</th>\n",
              "      <th>NumberofEmployees</th>\n",
              "      <th>ValueofContract</th>\n",
              "      <th>Industry</th>\n",
              "    </tr>\n",
              "  </thead>\n",
              "  <tbody>\n",
              "    <tr>\n",
              "      <th>0</th>\n",
              "      <td>1</td>\n",
              "      <td>51</td>\n",
              "      <td>25750</td>\n",
              "      <td>Retail</td>\n",
              "    </tr>\n",
              "    <tr>\n",
              "      <th>1</th>\n",
              "      <td>9</td>\n",
              "      <td>68</td>\n",
              "      <td>25000</td>\n",
              "      <td>Services</td>\n",
              "    </tr>\n",
              "    <tr>\n",
              "      <th>2</th>\n",
              "      <td>20</td>\n",
              "      <td>67</td>\n",
              "      <td>40000</td>\n",
              "      <td>Services</td>\n",
              "    </tr>\n",
              "    <tr>\n",
              "      <th>3</th>\n",
              "      <td>1</td>\n",
              "      <td>124</td>\n",
              "      <td>35000</td>\n",
              "      <td>Retail</td>\n",
              "    </tr>\n",
              "    <tr>\n",
              "      <th>4</th>\n",
              "      <td>8</td>\n",
              "      <td>124</td>\n",
              "      <td>25000</td>\n",
              "      <td>Manufacturing</td>\n",
              "    </tr>\n",
              "  </tbody>\n",
              "</table>\n",
              "</div>"
            ],
            "text/plain": [
              "   AverageNumberofTickets  NumberofEmployees  ValueofContract       Industry\n",
              "0                       1                 51            25750         Retail\n",
              "1                       9                 68            25000       Services\n",
              "2                      20                 67            40000       Services\n",
              "3                       1                124            35000         Retail\n",
              "4                       8                124            25000  Manufacturing"
            ]
          },
          "metadata": {
            "tags": []
          },
          "execution_count": 5
        }
      ]
    },
    {
      "cell_type": "code",
      "metadata": {
        "id": "QkhMkDcz2W2p",
        "colab_type": "code",
        "colab": {}
      },
      "source": [
        "X, y = df[['NumberofEmployees','ValueofContract']], df.AverageNumberofTickets"
      ],
      "execution_count": 6,
      "outputs": []
    },
    {
      "cell_type": "code",
      "metadata": {
        "id": "EyQg0wpJ2Zxh",
        "colab_type": "code",
        "colab": {
          "base_uri": "https://localhost:8080/",
          "height": 34
        },
        "outputId": "68609c45-8b5d-4229-b913-0020a8fcb6ad"
      },
      "source": [
        "model = LinearRegression()\n",
        "model.fit(X, y)"
      ],
      "execution_count": 7,
      "outputs": [
        {
          "output_type": "execute_result",
          "data": {
            "text/plain": [
              "LinearRegression(copy_X=True, fit_intercept=True, n_jobs=None, normalize=False)"
            ]
          },
          "metadata": {
            "tags": []
          },
          "execution_count": 7
        }
      ]
    },
    {
      "cell_type": "code",
      "metadata": {
        "id": "0m1gZzrl2ccd",
        "colab_type": "code",
        "colab": {
          "base_uri": "https://localhost:8080/",
          "height": 34
        },
        "outputId": "35a4c042-c82e-4809-e572-eaa52cdbeb54"
      },
      "source": [
        "# compute with formulas from the theory\n",
        "yhat        = model.predict(X)\n",
        "SS_Residual = sum((y-yhat)**2)\n",
        "\n",
        "SS_Total  = sum((y-np.mean(y))**2)\n",
        "r_squared = 1 - (float(SS_Residual))/SS_Total\n",
        "\n",
        "adjusted_r_squared = 1 - (1-r_squared)*(len(y)-1)/(len(y)-X.shape[1]-1)\n",
        "print (r_squared, adjusted_r_squared)\n"
      ],
      "execution_count": 10,
      "outputs": [
        {
          "output_type": "stream",
          "text": [
            "0.8776433713234001 0.8632484738320354\n"
          ],
          "name": "stdout"
        }
      ]
    },
    {
      "cell_type": "code",
      "metadata": {
        "id": "zj5ORlUI2e-O",
        "colab_type": "code",
        "colab": {
          "base_uri": "https://localhost:8080/",
          "height": 34
        },
        "outputId": "32838e99-5490-4d0f-c35c-17e4f18fb468"
      },
      "source": [
        "# adjusted-r-square directly from documentation\n",
        "print (model.score(X, y), 1 - (1-model.score(X, y))*(len(y)-1)/(len(y)-X.shape[1]-1))\n"
      ],
      "execution_count": 11,
      "outputs": [
        {
          "output_type": "stream",
          "text": [
            "0.8776433713234001 0.8632484738320354\n"
          ],
          "name": "stdout"
        }
      ]
    },
    {
      "cell_type": "code",
      "metadata": {
        "id": "OZZUBhDQ2naz",
        "colab_type": "code",
        "colab": {
          "base_uri": "https://localhost:8080/",
          "height": 34
        },
        "outputId": "2b4fcec7-5830-46d0-8b86-22252261e02b"
      },
      "source": [
        "# compute with statsmodels, by adding intercept manually\n",
        "\n",
        "X1 = sm.add_constant(X)\n",
        "result = sm.OLS(y, X1).fit()\n",
        "\n",
        "print (result.rsquared, result.rsquared_adj)"
      ],
      "execution_count": 13,
      "outputs": [
        {
          "output_type": "stream",
          "text": [
            "0.8776433713234001 0.8632484738320354\n"
          ],
          "name": "stdout"
        }
      ]
    },
    {
      "cell_type": "code",
      "metadata": {
        "id": "bMTED1Vd3xkK",
        "colab_type": "code",
        "colab": {
          "base_uri": "https://localhost:8080/",
          "height": 34
        },
        "outputId": "e0f386cf-cd90-466b-e531-e22017607e81"
      },
      "source": [
        "# compute with statsmodels, another way, using formula\n",
        "import statsmodels.formula.api as sm1\n",
        "result = sm1.ols(formula=\"AverageNumberofTickets ~ NumberofEmployees + ValueofContract\", data=df).fit()\n",
        "\n",
        "print (result.rsquared, result.rsquared_adj)\n"
      ],
      "execution_count": 14,
      "outputs": [
        {
          "output_type": "stream",
          "text": [
            "0.8776433713234001 0.8632484738320354\n"
          ],
          "name": "stdout"
        }
      ]
    },
    {
      "cell_type": "markdown",
      "metadata": {
        "id": "iSoN5ogJ4C5J",
        "colab_type": "text"
      },
      "source": [
        "#### Issues with R-squared\n",
        "R-squared can be artificially made high. That is we can increase the value of R-squared by simply adding more and more independent variables to our model.\n",
        "\n",
        "In other words R-squared never decreases upon adding more independent variables.\n",
        "\n",
        "__why does this happen?__\n",
        "\n",
        "$$ R^2 = 1 - \\frac{SSE}{SST} $$\n",
        "\n",
        "- R-squared will be maximum when SSE/SST will be minimum.\n",
        "\n",
        "- In order for SSE/SST to be minimum SSE should be minimum.\n",
        "\n",
        "- Now SSE will decrease as we add more explanatory variables to our model. \n",
        "- This is because as we add more explanatory variables to our regression model ,\n",
        "- our regression model will fit the data points better and hence sum of squared error will reduce.\n",
        "- Hence R-squared will increase even when the variable is not significant to our model.\n",
        "\n",
        "#### Adjusted R-squared\n",
        "Adjusted R-squared simply penalizes the model for adding more useless variables."
      ]
    },
    {
      "cell_type": "code",
      "metadata": {
        "id": "3MTpLpEa36JP",
        "colab_type": "code",
        "colab": {}
      },
      "source": [
        "y    = np.array([21,   21,    22.8, 21.4, 18.7, 18.1, 14.3, 24.4, 22.8, 19.2])\n",
        "yhat = np.array([21.5, 21.14, 26.1, 20.2, 17.5, 19.7, 14.9, 22.5, 25.1, 18])"
      ],
      "execution_count": 15,
      "outputs": []
    },
    {
      "cell_type": "code",
      "metadata": {
        "id": "Nko_hoDK4Iol",
        "colab_type": "code",
        "colab": {
          "base_uri": "https://localhost:8080/",
          "height": 34
        },
        "outputId": "a29df20a-fe69-4237-9d2f-2a39ccd71032"
      },
      "source": [
        "R2 = 1 - sum((y - yhat)**2)/sum((y - np.mean(y))**2)\n",
        "R2"
      ],
      "execution_count": 16,
      "outputs": [
        {
          "output_type": "execute_result",
          "data": {
            "text/plain": [
              "0.6410828151089257"
            ]
          },
          "metadata": {
            "tags": []
          },
          "execution_count": 16
        }
      ]
    },
    {
      "cell_type": "code",
      "metadata": {
        "id": "uSRf5Aq44LBO",
        "colab_type": "code",
        "colab": {
          "base_uri": "https://localhost:8080/",
          "height": 34
        },
        "outputId": "91a110e0-3c67-4034-ad75-adf74f7ba1e7"
      },
      "source": [
        "# Let's assume you have three independent variables in this case.\n",
        "n = 10\n",
        "p = 3\n",
        "adjR2 = 1 - (1 - R2) * ((n - 1)/(n-p-1))\n",
        "print(adjR2)"
      ],
      "execution_count": 17,
      "outputs": [
        {
          "output_type": "stream",
          "text": [
            "0.46162422266338865\n"
          ],
          "name": "stdout"
        }
      ]
    },
    {
      "cell_type": "code",
      "metadata": {
        "id": "kkToH-1l4NZq",
        "colab_type": "code",
        "colab": {}
      },
      "source": [
        ""
      ],
      "execution_count": null,
      "outputs": []
    }
  ]
}