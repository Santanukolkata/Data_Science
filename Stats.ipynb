{
 "cells": [
  {
   "cell_type": "markdown",
   "metadata": {},
   "source": [
    "<ul>Import the Packages numpy,statistics</ul>\n",
    "<ul>Declare a numpy array with values 9.2,10.7,6.8,9,3.4,5.7,5.7</ul>\n",
    "<ul>Calculate Mean, Median, Standard Deviation and Variance with the built-in functions of Numpy Package.</ul>\n",
    "<ul>Calculate Mode with the built-in function of Statistics Package.(Calculation of mode must print the value which has the greatest number of occurrences in the array)</ul>\n",
    "<ul>Display the output in the following order</ul>\n",
    "<ul>Mean,Median,mode,Standard Deviation,variance</ul>"
   ]
  },
  {
   "cell_type": "code",
   "execution_count": 3,
   "metadata": {},
   "outputs": [
    {
     "name": "stdout",
     "output_type": "stream",
     "text": [
      "7.214285714285715\n",
      "6.8\n",
      "5.7\n",
      "2.3479039718916295\n",
      "5.512653061224489\n"
     ]
    }
   ],
   "source": [
    "from scipy import stats\n",
    "import numpy as np\n",
    "import statistics\n",
    "arr=np.array([9.2,10.7,6.8,9,3.4,5.7,5.7])\n",
    "print(np.mean(arr))\n",
    "print(np.median(arr))\n",
    "print(statistics.mode(arr))\n",
    "print(np.std(arr))\n",
    "print(np.var(arr))"
   ]
  },
  {
   "cell_type": "markdown",
   "metadata": {},
   "source": [
    "# <p>Statistics of a class\n",
    "\n",
    "There are 11 students in a class.\n",
    "Number of Boys = 6\n",
    "Number of girls = 5\n",
    "Scenario\n",
    "\n",
    "The teacher wants a group to be formed for the upcoming dance competition. She wants a group of 5 dancers consisting of 3 boys and 2 girls. In how many ways can a group of 5 dancers be formed by selecting 3 boys out of 6 and 2 girls out of 5 ? Help her out!\n",
    "\n",
    "Display the number of ways a group of 5 dancers consisting of 3 boys and 2 girls can be formed.</p>"
   ]
  },
  {
   "cell_type": "code",
   "execution_count": 6,
   "metadata": {},
   "outputs": [
    {
     "name": "stdout",
     "output_type": "stream",
     "text": [
      "200.0\n"
     ]
    }
   ],
   "source": [
    "import math\n",
    "boys=math.factorial(6)/((math.factorial(3))*math.factorial(3))\n",
    "girls=math.factorial(5)/((math.factorial(3))*math.factorial(2))\n",
    "print(boys*girls)"
   ]
  },
  {
   "cell_type": "markdown",
   "metadata": {},
   "source": [
    "## in how many ways can 10 balls be picked, from 7 red out of 10, and 3 blue out of 8?"
   ]
  },
  {
   "cell_type": "code",
   "execution_count": 7,
   "metadata": {},
   "outputs": [
    {
     "name": "stdout",
     "output_type": "stream",
     "text": [
      "6720.0\n"
     ]
    }
   ],
   "source": [
    "import math\n",
    "red=math.factorial(10)/((math.factorial(7))*math.factorial(3))\n",
    "blue=math.factorial(8)/((math.factorial(3))*math.factorial(5))\n",
    "print(red*blue)"
   ]
  },
  {
   "cell_type": "markdown",
   "metadata": {},
   "source": [
    "## skewness of a array([86, 47, 45, 47, 40, 97, 98, 75, 65, 83]). if postive the right skewed else negative"
   ]
  },
  {
   "cell_type": "code",
   "execution_count": 5,
   "metadata": {},
   "outputs": [
    {
     "name": "stdout",
     "output_type": "stream",
     "text": [
      "-9.75\n",
      "70.0\n",
      "left skewed\n",
      "-2.90985558812455\n"
     ]
    }
   ],
   "source": [
    "import numpy as np\n",
    "from scipy import stats\n",
    "\n",
    "arr = np.array([-1000,86, 47, 45, 47, 40, 97, 98, 75, 65, 83,200])\n",
    "means=np.mean(arr)\n",
    "print(means)\n",
    "median=np.median(arr)\n",
    "print(median)\n",
    "if means > median:\n",
    "    print('right skewed')\n",
    "else:\n",
    "    print('left skewed')\n",
    "\n",
    "print(stats.skew(arr))"
   ]
  },
  {
   "cell_type": "markdown",
   "metadata": {},
   "source": [
    "## Range is the difference between maximum and minimum values of the dataset."
   ]
  },
  {
   "cell_type": "code",
   "execution_count": 9,
   "metadata": {},
   "outputs": [
    {
     "name": "stdout",
     "output_type": "stream",
     "text": [
      "1200\n"
     ]
    }
   ],
   "source": [
    "s1 = np.array([-1000,86, 47, 45, 47, 40, 97, 98, 75, 65, 83,200])\n",
    "print(np.ptp(s1))"
   ]
  },
  {
   "cell_type": "markdown",
   "metadata": {},
   "source": [
    "## Percentile refers to a value, below which lies given the percentage of data points."
   ]
  },
  {
   "cell_type": "code",
   "execution_count": 21,
   "metadata": {},
   "outputs": [
    {
     "name": "stdout",
     "output_type": "stream",
     "text": [
      "50\n",
      "40\n"
     ]
    }
   ],
   "source": [
    "s2 = np.array([0,10,20,30,40,50,60,70,80,90,100])\n",
    "print(np.percentile(s2, 43, interpolation='higher'))\n",
    "print(np.percentile(s2, 43, interpolation='lower'))"
   ]
  },
  {
   "cell_type": "markdown",
   "metadata": {},
   "source": [
    "## Three Quartiles namely, Q1 Q2 and Q3, split the entire dataset into four equal parts."
   ]
  },
  {
   "cell_type": "code",
   "execution_count": 27,
   "metadata": {},
   "outputs": [
    {
     "name": "stdout",
     "output_type": "stream",
     "text": [
      "[ 0 40 60]\n"
     ]
    }
   ],
   "source": [
    "s2 = np.array([0,10,20,30,40,50,60,70,80,90,100])\n",
    "print(np.percentile(s2, [0,40, 60], interpolation='lower'))"
   ]
  },
  {
   "cell_type": "markdown",
   "metadata": {},
   "source": [
    "## Inter quartile range refers to difference between third quartile (Q3) and first quartile (Q1)."
   ]
  },
  {
   "cell_type": "code",
   "execution_count": 29,
   "metadata": {},
   "outputs": [
    {
     "name": "stdout",
     "output_type": "stream",
     "text": [
      "60\n"
     ]
    }
   ],
   "source": [
    "s2 = np.array([0,10,20,30,40,50,60,70,80,90,100])\n",
    "print(stats.iqr(s2, rng=(20, 80), interpolation='lower'))"
   ]
  },
  {
   "cell_type": "code",
   "execution_count": 30,
   "metadata": {},
   "outputs": [
    {
     "name": "stdout",
     "output_type": "stream",
     "text": [
      "1100.0\n",
      "33.166247903554\n"
     ]
    }
   ],
   "source": [
    "print(np.var(s2, ddof=1))\n",
    "print(np.std(s2, ddof=1))"
   ]
  },
  {
   "cell_type": "markdown",
   "metadata": {},
   "source": [
    "## Kurtosis indicates how much of data is concentrated around mean or shape of the probability distribution.It can be estimated using kurtosis function of scipy.stats module."
   ]
  },
  {
   "cell_type": "code",
   "execution_count": 33,
   "metadata": {},
   "outputs": [
    {
     "name": "stdout",
     "output_type": "stream",
     "text": [
      "-0.11355951158366917\n"
     ]
    }
   ],
   "source": [
    "s2 = np.array([0,10,20,30,40,47,48,49,50,55,51,52,53,60,70,80,90,100])\n",
    "print(stats.kurtosis(s2))"
   ]
  },
  {
   "cell_type": "code",
   "execution_count": null,
   "metadata": {},
   "outputs": [],
   "source": []
  }
 ],
 "metadata": {
  "kernelspec": {
   "display_name": "Python 3",
   "language": "python",
   "name": "python3"
  },
  "language_info": {
   "codemirror_mode": {
    "name": "ipython",
    "version": 3
   },
   "file_extension": ".py",
   "mimetype": "text/x-python",
   "name": "python",
   "nbconvert_exporter": "python",
   "pygments_lexer": "ipython3",
   "version": "3.7.4"
  }
 },
 "nbformat": 4,
 "nbformat_minor": 2
}
