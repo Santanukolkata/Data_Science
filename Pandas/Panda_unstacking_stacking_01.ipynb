{
  "nbformat": 4,
  "nbformat_minor": 0,
  "metadata": {
    "colab": {
      "name": "Panda_unstacking_stacking_01.ipynb",
      "provenance": [],
      "collapsed_sections": [],
      "authorship_tag": "ABX9TyO9H9LQaGdWBR/0HCtSxfjX",
      "include_colab_link": true
    },
    "kernelspec": {
      "name": "python3",
      "display_name": "Python 3"
    }
  },
  "cells": [
    {
      "cell_type": "markdown",
      "metadata": {
        "id": "view-in-github",
        "colab_type": "text"
      },
      "source": [
        "<a href=\"https://colab.research.google.com/github/Santanukolkata/Data_Science/blob/master/Pandas/Panda_unstacking_stacking_01.ipynb\" target=\"_parent\"><img src=\"https://colab.research.google.com/assets/colab-badge.svg\" alt=\"Open In Colab\"/></a>"
      ]
    },
    {
      "cell_type": "code",
      "metadata": {
        "id": "tb4_WTS6Hht6",
        "colab_type": "code",
        "colab": {}
      },
      "source": [
        "import pandas as pd\n",
        "import numpy as np"
      ],
      "execution_count": 1,
      "outputs": []
    },
    {
      "cell_type": "code",
      "metadata": {
        "id": "3oLg9aPCHnut",
        "colab_type": "code",
        "colab": {}
      },
      "source": [
        "dict={'Name':['U001','U002','U003','U004','U005','U006','U007'],\n",
        "      'Department':['D001','D001','D001','D002','D002','D003','D003'],\n",
        "      'Salary':[10000,11000,9000,7000,5000,8000,8000],\n",
        "      'Joining Date':['2000-01-01','2000-12-01','2003-01-01','2010-01-01','2015-01-01','2013-01-01','2014-01-01']}"
      ],
      "execution_count": 2,
      "outputs": []
    },
    {
      "cell_type": "code",
      "metadata": {
        "id": "yGr7Y8H1Iu4C",
        "colab_type": "code",
        "colab": {}
      },
      "source": [
        "df=pd.DataFrame(dict)"
      ],
      "execution_count": 3,
      "outputs": []
    },
    {
      "cell_type": "code",
      "metadata": {
        "id": "G_HWiy87I0T_",
        "colab_type": "code",
        "colab": {
          "base_uri": "https://localhost:8080/",
          "height": 263
        },
        "outputId": "8697aae2-12cb-4d66-b467-6b4468ae5e26"
      },
      "source": [
        "df"
      ],
      "execution_count": 4,
      "outputs": [
        {
          "output_type": "execute_result",
          "data": {
            "text/html": [
              "<div>\n",
              "<style scoped>\n",
              "    .dataframe tbody tr th:only-of-type {\n",
              "        vertical-align: middle;\n",
              "    }\n",
              "\n",
              "    .dataframe tbody tr th {\n",
              "        vertical-align: top;\n",
              "    }\n",
              "\n",
              "    .dataframe thead th {\n",
              "        text-align: right;\n",
              "    }\n",
              "</style>\n",
              "<table border=\"1\" class=\"dataframe\">\n",
              "  <thead>\n",
              "    <tr style=\"text-align: right;\">\n",
              "      <th></th>\n",
              "      <th>Name</th>\n",
              "      <th>Department</th>\n",
              "      <th>Salary</th>\n",
              "      <th>Joining Date</th>\n",
              "    </tr>\n",
              "  </thead>\n",
              "  <tbody>\n",
              "    <tr>\n",
              "      <th>0</th>\n",
              "      <td>U001</td>\n",
              "      <td>D001</td>\n",
              "      <td>10000</td>\n",
              "      <td>2000-01-01</td>\n",
              "    </tr>\n",
              "    <tr>\n",
              "      <th>1</th>\n",
              "      <td>U002</td>\n",
              "      <td>D001</td>\n",
              "      <td>11000</td>\n",
              "      <td>2000-12-01</td>\n",
              "    </tr>\n",
              "    <tr>\n",
              "      <th>2</th>\n",
              "      <td>U003</td>\n",
              "      <td>D001</td>\n",
              "      <td>9000</td>\n",
              "      <td>2003-01-01</td>\n",
              "    </tr>\n",
              "    <tr>\n",
              "      <th>3</th>\n",
              "      <td>U004</td>\n",
              "      <td>D002</td>\n",
              "      <td>7000</td>\n",
              "      <td>2010-01-01</td>\n",
              "    </tr>\n",
              "    <tr>\n",
              "      <th>4</th>\n",
              "      <td>U005</td>\n",
              "      <td>D002</td>\n",
              "      <td>5000</td>\n",
              "      <td>2015-01-01</td>\n",
              "    </tr>\n",
              "    <tr>\n",
              "      <th>5</th>\n",
              "      <td>U006</td>\n",
              "      <td>D003</td>\n",
              "      <td>8000</td>\n",
              "      <td>2013-01-01</td>\n",
              "    </tr>\n",
              "    <tr>\n",
              "      <th>6</th>\n",
              "      <td>U007</td>\n",
              "      <td>D003</td>\n",
              "      <td>8000</td>\n",
              "      <td>2014-01-01</td>\n",
              "    </tr>\n",
              "  </tbody>\n",
              "</table>\n",
              "</div>"
            ],
            "text/plain": [
              "   Name Department  Salary Joining Date\n",
              "0  U001       D001   10000   2000-01-01\n",
              "1  U002       D001   11000   2000-12-01\n",
              "2  U003       D001    9000   2003-01-01\n",
              "3  U004       D002    7000   2010-01-01\n",
              "4  U005       D002    5000   2015-01-01\n",
              "5  U006       D003    8000   2013-01-01\n",
              "6  U007       D003    8000   2014-01-01"
            ]
          },
          "metadata": {
            "tags": []
          },
          "execution_count": 4
        }
      ]
    },
    {
      "cell_type": "code",
      "metadata": {
        "id": "Ia0ZuRokI1gM",
        "colab_type": "code",
        "colab": {
          "base_uri": "https://localhost:8080/",
          "height": 520
        },
        "outputId": "1be54adb-3d72-4d0b-ee6e-30f01a1d8ab2"
      },
      "source": [
        "df_unst=df.unstack(level=0)\n",
        "df_unst"
      ],
      "execution_count": 5,
      "outputs": [
        {
          "output_type": "execute_result",
          "data": {
            "text/plain": [
              "Name          0          U001\n",
              "              1          U002\n",
              "              2          U003\n",
              "              3          U004\n",
              "              4          U005\n",
              "              5          U006\n",
              "              6          U007\n",
              "Department    0          D001\n",
              "              1          D001\n",
              "              2          D001\n",
              "              3          D002\n",
              "              4          D002\n",
              "              5          D003\n",
              "              6          D003\n",
              "Salary        0         10000\n",
              "              1         11000\n",
              "              2          9000\n",
              "              3          7000\n",
              "              4          5000\n",
              "              5          8000\n",
              "              6          8000\n",
              "Joining Date  0    2000-01-01\n",
              "              1    2000-12-01\n",
              "              2    2003-01-01\n",
              "              3    2010-01-01\n",
              "              4    2015-01-01\n",
              "              5    2013-01-01\n",
              "              6    2014-01-01\n",
              "dtype: object"
            ]
          },
          "metadata": {
            "tags": []
          },
          "execution_count": 5
        }
      ]
    },
    {
      "cell_type": "code",
      "metadata": {
        "id": "cR1AxvNMI4L3",
        "colab_type": "code",
        "colab": {
          "base_uri": "https://localhost:8080/",
          "height": 294
        },
        "outputId": "b63d68e0-645a-47cb-e02c-e50d1211a279"
      },
      "source": [
        "def cohort_period(df):\n",
        "    df.sort_values(by=['Salary'],inplace=True)\n",
        "    df['Salary_Rank'] = np.arange(len(df)) + 1\n",
        "    return df\n",
        "df = df.groupby('Department').apply(cohort_period)\n",
        "df.drop(['Department'], axis=1,inplace=True)\n",
        "df"
      ],
      "execution_count": 6,
      "outputs": [
        {
          "output_type": "execute_result",
          "data": {
            "text/html": [
              "<div>\n",
              "<style scoped>\n",
              "    .dataframe tbody tr th:only-of-type {\n",
              "        vertical-align: middle;\n",
              "    }\n",
              "\n",
              "    .dataframe tbody tr th {\n",
              "        vertical-align: top;\n",
              "    }\n",
              "\n",
              "    .dataframe thead th {\n",
              "        text-align: right;\n",
              "    }\n",
              "</style>\n",
              "<table border=\"1\" class=\"dataframe\">\n",
              "  <thead>\n",
              "    <tr style=\"text-align: right;\">\n",
              "      <th></th>\n",
              "      <th></th>\n",
              "      <th>Name</th>\n",
              "      <th>Salary</th>\n",
              "      <th>Joining Date</th>\n",
              "      <th>Salary_Rank</th>\n",
              "    </tr>\n",
              "    <tr>\n",
              "      <th>Department</th>\n",
              "      <th></th>\n",
              "      <th></th>\n",
              "      <th></th>\n",
              "      <th></th>\n",
              "      <th></th>\n",
              "    </tr>\n",
              "  </thead>\n",
              "  <tbody>\n",
              "    <tr>\n",
              "      <th rowspan=\"3\" valign=\"top\">D001</th>\n",
              "      <th>2</th>\n",
              "      <td>U003</td>\n",
              "      <td>9000</td>\n",
              "      <td>2003-01-01</td>\n",
              "      <td>1</td>\n",
              "    </tr>\n",
              "    <tr>\n",
              "      <th>0</th>\n",
              "      <td>U001</td>\n",
              "      <td>10000</td>\n",
              "      <td>2000-01-01</td>\n",
              "      <td>2</td>\n",
              "    </tr>\n",
              "    <tr>\n",
              "      <th>1</th>\n",
              "      <td>U002</td>\n",
              "      <td>11000</td>\n",
              "      <td>2000-12-01</td>\n",
              "      <td>3</td>\n",
              "    </tr>\n",
              "    <tr>\n",
              "      <th rowspan=\"2\" valign=\"top\">D002</th>\n",
              "      <th>4</th>\n",
              "      <td>U005</td>\n",
              "      <td>5000</td>\n",
              "      <td>2015-01-01</td>\n",
              "      <td>1</td>\n",
              "    </tr>\n",
              "    <tr>\n",
              "      <th>3</th>\n",
              "      <td>U004</td>\n",
              "      <td>7000</td>\n",
              "      <td>2010-01-01</td>\n",
              "      <td>2</td>\n",
              "    </tr>\n",
              "    <tr>\n",
              "      <th rowspan=\"2\" valign=\"top\">D003</th>\n",
              "      <th>5</th>\n",
              "      <td>U006</td>\n",
              "      <td>8000</td>\n",
              "      <td>2013-01-01</td>\n",
              "      <td>1</td>\n",
              "    </tr>\n",
              "    <tr>\n",
              "      <th>6</th>\n",
              "      <td>U007</td>\n",
              "      <td>8000</td>\n",
              "      <td>2014-01-01</td>\n",
              "      <td>2</td>\n",
              "    </tr>\n",
              "  </tbody>\n",
              "</table>\n",
              "</div>"
            ],
            "text/plain": [
              "              Name  Salary Joining Date  Salary_Rank\n",
              "Department                                          \n",
              "D001       2  U003    9000   2003-01-01            1\n",
              "           0  U001   10000   2000-01-01            2\n",
              "           1  U002   11000   2000-12-01            3\n",
              "D002       4  U005    5000   2015-01-01            1\n",
              "           3  U004    7000   2010-01-01            2\n",
              "D003       5  U006    8000   2013-01-01            1\n",
              "           6  U007    8000   2014-01-01            2"
            ]
          },
          "metadata": {
            "tags": []
          },
          "execution_count": 6
        }
      ]
    },
    {
      "cell_type": "code",
      "metadata": {
        "id": "AEMhJasRMbKu",
        "colab_type": "code",
        "colab": {
          "base_uri": "https://localhost:8080/",
          "height": 294
        },
        "outputId": "7256d60f-944b-41be-b1ca-8f9c7b66220e"
      },
      "source": [
        "df_unst=df.unstack(level=0)\n",
        "df_unst"
      ],
      "execution_count": 7,
      "outputs": [
        {
          "output_type": "execute_result",
          "data": {
            "text/html": [
              "<div>\n",
              "<style scoped>\n",
              "    .dataframe tbody tr th:only-of-type {\n",
              "        vertical-align: middle;\n",
              "    }\n",
              "\n",
              "    .dataframe tbody tr th {\n",
              "        vertical-align: top;\n",
              "    }\n",
              "\n",
              "    .dataframe thead tr th {\n",
              "        text-align: left;\n",
              "    }\n",
              "</style>\n",
              "<table border=\"1\" class=\"dataframe\">\n",
              "  <thead>\n",
              "    <tr>\n",
              "      <th></th>\n",
              "      <th colspan=\"3\" halign=\"left\">Name</th>\n",
              "      <th colspan=\"3\" halign=\"left\">Salary</th>\n",
              "      <th colspan=\"3\" halign=\"left\">Joining Date</th>\n",
              "      <th colspan=\"3\" halign=\"left\">Salary_Rank</th>\n",
              "    </tr>\n",
              "    <tr>\n",
              "      <th>Department</th>\n",
              "      <th>D001</th>\n",
              "      <th>D002</th>\n",
              "      <th>D003</th>\n",
              "      <th>D001</th>\n",
              "      <th>D002</th>\n",
              "      <th>D003</th>\n",
              "      <th>D001</th>\n",
              "      <th>D002</th>\n",
              "      <th>D003</th>\n",
              "      <th>D001</th>\n",
              "      <th>D002</th>\n",
              "      <th>D003</th>\n",
              "    </tr>\n",
              "  </thead>\n",
              "  <tbody>\n",
              "    <tr>\n",
              "      <th>0</th>\n",
              "      <td>U001</td>\n",
              "      <td>NaN</td>\n",
              "      <td>NaN</td>\n",
              "      <td>10000.0</td>\n",
              "      <td>NaN</td>\n",
              "      <td>NaN</td>\n",
              "      <td>2000-01-01</td>\n",
              "      <td>NaN</td>\n",
              "      <td>NaN</td>\n",
              "      <td>2.0</td>\n",
              "      <td>NaN</td>\n",
              "      <td>NaN</td>\n",
              "    </tr>\n",
              "    <tr>\n",
              "      <th>1</th>\n",
              "      <td>U002</td>\n",
              "      <td>NaN</td>\n",
              "      <td>NaN</td>\n",
              "      <td>11000.0</td>\n",
              "      <td>NaN</td>\n",
              "      <td>NaN</td>\n",
              "      <td>2000-12-01</td>\n",
              "      <td>NaN</td>\n",
              "      <td>NaN</td>\n",
              "      <td>3.0</td>\n",
              "      <td>NaN</td>\n",
              "      <td>NaN</td>\n",
              "    </tr>\n",
              "    <tr>\n",
              "      <th>2</th>\n",
              "      <td>U003</td>\n",
              "      <td>NaN</td>\n",
              "      <td>NaN</td>\n",
              "      <td>9000.0</td>\n",
              "      <td>NaN</td>\n",
              "      <td>NaN</td>\n",
              "      <td>2003-01-01</td>\n",
              "      <td>NaN</td>\n",
              "      <td>NaN</td>\n",
              "      <td>1.0</td>\n",
              "      <td>NaN</td>\n",
              "      <td>NaN</td>\n",
              "    </tr>\n",
              "    <tr>\n",
              "      <th>3</th>\n",
              "      <td>NaN</td>\n",
              "      <td>U004</td>\n",
              "      <td>NaN</td>\n",
              "      <td>NaN</td>\n",
              "      <td>7000.0</td>\n",
              "      <td>NaN</td>\n",
              "      <td>NaN</td>\n",
              "      <td>2010-01-01</td>\n",
              "      <td>NaN</td>\n",
              "      <td>NaN</td>\n",
              "      <td>2.0</td>\n",
              "      <td>NaN</td>\n",
              "    </tr>\n",
              "    <tr>\n",
              "      <th>4</th>\n",
              "      <td>NaN</td>\n",
              "      <td>U005</td>\n",
              "      <td>NaN</td>\n",
              "      <td>NaN</td>\n",
              "      <td>5000.0</td>\n",
              "      <td>NaN</td>\n",
              "      <td>NaN</td>\n",
              "      <td>2015-01-01</td>\n",
              "      <td>NaN</td>\n",
              "      <td>NaN</td>\n",
              "      <td>1.0</td>\n",
              "      <td>NaN</td>\n",
              "    </tr>\n",
              "    <tr>\n",
              "      <th>5</th>\n",
              "      <td>NaN</td>\n",
              "      <td>NaN</td>\n",
              "      <td>U006</td>\n",
              "      <td>NaN</td>\n",
              "      <td>NaN</td>\n",
              "      <td>8000.0</td>\n",
              "      <td>NaN</td>\n",
              "      <td>NaN</td>\n",
              "      <td>2013-01-01</td>\n",
              "      <td>NaN</td>\n",
              "      <td>NaN</td>\n",
              "      <td>1.0</td>\n",
              "    </tr>\n",
              "    <tr>\n",
              "      <th>6</th>\n",
              "      <td>NaN</td>\n",
              "      <td>NaN</td>\n",
              "      <td>U007</td>\n",
              "      <td>NaN</td>\n",
              "      <td>NaN</td>\n",
              "      <td>8000.0</td>\n",
              "      <td>NaN</td>\n",
              "      <td>NaN</td>\n",
              "      <td>2014-01-01</td>\n",
              "      <td>NaN</td>\n",
              "      <td>NaN</td>\n",
              "      <td>2.0</td>\n",
              "    </tr>\n",
              "  </tbody>\n",
              "</table>\n",
              "</div>"
            ],
            "text/plain": [
              "            Name               Salary  ... Joining Date Salary_Rank          \n",
              "Department  D001  D002  D003     D001  ...         D003        D001 D002 D003\n",
              "0           U001   NaN   NaN  10000.0  ...          NaN         2.0  NaN  NaN\n",
              "1           U002   NaN   NaN  11000.0  ...          NaN         3.0  NaN  NaN\n",
              "2           U003   NaN   NaN   9000.0  ...          NaN         1.0  NaN  NaN\n",
              "3            NaN  U004   NaN      NaN  ...          NaN         NaN  2.0  NaN\n",
              "4            NaN  U005   NaN      NaN  ...          NaN         NaN  1.0  NaN\n",
              "5            NaN   NaN  U006      NaN  ...   2013-01-01         NaN  NaN  1.0\n",
              "6            NaN   NaN  U007      NaN  ...   2014-01-01         NaN  NaN  2.0\n",
              "\n",
              "[7 rows x 12 columns]"
            ]
          },
          "metadata": {
            "tags": []
          },
          "execution_count": 7
        }
      ]
    },
    {
      "cell_type": "code",
      "metadata": {
        "id": "CaVSgKpKMrvS",
        "colab_type": "code",
        "colab": {
          "base_uri": "https://localhost:8080/",
          "height": 537
        },
        "outputId": "de8a5a47-f1a1-4a3a-d174-4e1f588ba23b"
      },
      "source": [
        "df.stack(level=0)"
      ],
      "execution_count": 8,
      "outputs": [
        {
          "output_type": "execute_result",
          "data": {
            "text/plain": [
              "Department                 \n",
              "D001        2  Name                  U003\n",
              "               Salary                9000\n",
              "               Joining Date    2003-01-01\n",
              "               Salary_Rank              1\n",
              "            0  Name                  U001\n",
              "               Salary               10000\n",
              "               Joining Date    2000-01-01\n",
              "               Salary_Rank              2\n",
              "            1  Name                  U002\n",
              "               Salary               11000\n",
              "               Joining Date    2000-12-01\n",
              "               Salary_Rank              3\n",
              "D002        4  Name                  U005\n",
              "               Salary                5000\n",
              "               Joining Date    2015-01-01\n",
              "               Salary_Rank              1\n",
              "            3  Name                  U004\n",
              "               Salary                7000\n",
              "               Joining Date    2010-01-01\n",
              "               Salary_Rank              2\n",
              "D003        5  Name                  U006\n",
              "               Salary                8000\n",
              "               Joining Date    2013-01-01\n",
              "               Salary_Rank              1\n",
              "            6  Name                  U007\n",
              "               Salary                8000\n",
              "               Joining Date    2014-01-01\n",
              "               Salary_Rank              2\n",
              "dtype: object"
            ]
          },
          "metadata": {
            "tags": []
          },
          "execution_count": 8
        }
      ]
    },
    {
      "cell_type": "code",
      "metadata": {
        "id": "81BeZbPbNZs8",
        "colab_type": "code",
        "colab": {}
      },
      "source": [
        ""
      ],
      "execution_count": null,
      "outputs": []
    }
  ]
}