{
 "cells": [
  {
   "cell_type": "code",
   "execution_count": 2,
   "metadata": {},
   "outputs": [
    {
     "data": {
      "image/png": "[encoded data removed]",
      "text/plain": [
       "<Figure size 432x288 with 1 Axes>"
      ]
     },
     "metadata": {
      "needs_background": "light"
     },
     "output_type": "display_data"
    }
   ],
   "source": [
    "import numpy as np\n",
    "import pandas as pd\n",
    "import matplotlib.pyplot as plt\n",
    "\n",
    "csv_dataset = pd.read_csv(r\"E:\\MYLEARN\\2-ANALYTICS-DataScience\\datasets\\hospital_admissions.csv\")\n",
    "csv_dataset.plot()\n",
    "\n",
    "plt.show()"
   ]
  },
  {
   "attachments": {
    "MA1.PNG": {
     "image/png": "[encoded data removed]"
    }
   },
   "cell_type": "markdown",
   "metadata": {},
   "source": [
    "# Moving average algorithm\n",
    "\n",
    "This algorithm helps us to forecast new observations based on a time series. \n",
    "\n",
    "And the algorithm uses smoothing methods. \n",
    "\n",
    "The moving average algorithm is used only on time series that __DOESN'T have a trend__. \n",
    "\n",
    "This method is by far the easiest and it consists of making the arithmethic mean of the last ,,n'' observations contained by the time series to forecast the next observation. We use the following formula:\n",
    "\n",
    "![MA1.PNG](attachment:MA1.PNG)\n",
    "\n",
    "We need to find the optimal number, n\" of observation to be used in the forecast. \n",
    "\n",
    "We can find it by checking the square error mean of multiple n observations. \n",
    "\n",
    "We should start at 3 observations and we can go up to half of the data set size + 1.\n",
    "\n",
    "we are going to build an algorithm that finds the best n observations to be used in the forecast by starting at 3 observation up to half of the data set + 1 observations and use that optimal n to forecast the t + 1 observation. \n",
    "\n",
    "The algorithm calculates the mean square error for n  arguments than for n+1 and so on. After it has the MSE of all the n variants, it picks the one with the minimum MSE."
   ]
  },
  {
   "cell_type": "code",
   "execution_count": 3,
   "metadata": {},
   "outputs": [],
   "source": [
    "optimal_n = None\n",
    "best_mse  = None\n",
    "\n",
    "db = csv_dataset.iloc[:, :].values.astype('float32')"
   ]
  },
  {
   "cell_type": "code",
   "execution_count": 4,
   "metadata": {},
   "outputs": [
    {
     "data": {
      "text/plain": [
       "array([[92.],\n",
       "       [85.],\n",
       "       [80.],\n",
       "       [87.],\n",
       "       [79.],\n",
       "       [82.],\n",
       "       [89.],\n",
       "       [83.],\n",
       "       [80.],\n",
       "       [87.],\n",
       "       [81.],\n",
       "       [75.]], dtype=float32)"
      ]
     },
     "execution_count": 4,
     "metadata": {},
     "output_type": "execute_result"
    }
   ],
   "source": [
    "db"
   ]
  },
  {
   "cell_type": "code",
   "execution_count": 5,
   "metadata": {},
   "outputs": [
    {
     "data": {
      "text/plain": [
       "array([0., 0., 0., 0.])"
      ]
     },
     "execution_count": 5,
     "metadata": {},
     "output_type": "execute_result"
    }
   ],
   "source": [
    "mean_results_for_all_possible_n_values = np.zeros(int(len(db) / 2 - 2))\n",
    "mean_results_for_all_possible_n_values"
   ]
  },
  {
   "cell_type": "code",
   "execution_count": 6,
   "metadata": {},
   "outputs": [
    {
     "name": "stdout",
     "output_type": "stream",
     "text": [
      "MSE       = [17.99999887 24.6328125  24.92571524 21.48610899]\n",
      "Best MSE  = 17.99999886972364\n",
      "Optimal n = 3\n"
     ]
    }
   ],
   "source": [
    "for n in range(3, int(len(db) / 2 + 1)):\n",
    "    \n",
    "    mean_for_n = np.zeros(len(db) - n)\n",
    "    \n",
    "    for i in range(0, len(db) - n):\n",
    "        mean_for_n[i] = np.power(np.mean(db[:, 0][i:i+n]) - db[i + n][0], 2)\n",
    "    \n",
    "    mean_results_for_all_possible_n_values[n - 3] = np.mean(mean_for_n)\n",
    "\n",
    "optimal_n = np.argmin(mean_results_for_all_possible_n_values) + 3\n",
    "best_mse  = np.min(mean_results_for_all_possible_n_values)\n",
    "\n",
    "print(\"MSE       = %s\" % mean_results_for_all_possible_n_values)\n",
    "print(\"Best MSE  = %s\" % best_mse)\n",
    "print(\"Optimal n = %s\" % optimal_n)"
   ]
  },
  {
   "cell_type": "markdown",
   "metadata": {},
   "source": [
    "After the optimal n observations were found, we can forecast the t+1 observation as following:"
   ]
  },
  {
   "cell_type": "code",
   "execution_count": 7,
   "metadata": {},
   "outputs": [
    {
     "data": {
      "text/plain": [
       "array([92., 85., 80., 87., 79., 82., 89., 83., 80., 87., 81., 75.],\n",
       "      dtype=float32)"
      ]
     },
     "execution_count": 7,
     "metadata": {},
     "output_type": "execute_result"
    }
   ],
   "source": [
    "db[:, 0]"
   ]
  },
  {
   "cell_type": "code",
   "execution_count": 8,
   "metadata": {},
   "outputs": [
    {
     "data": {
      "text/plain": [
       "12"
      ]
     },
     "execution_count": 8,
     "metadata": {},
     "output_type": "execute_result"
    }
   ],
   "source": [
    "len(db)"
   ]
  },
  {
   "cell_type": "code",
   "execution_count": 9,
   "metadata": {},
   "outputs": [
    {
     "data": {
      "text/plain": [
       "array([87., 81., 75.], dtype=float32)"
      ]
     },
     "execution_count": 9,
     "metadata": {},
     "output_type": "execute_result"
    }
   ],
   "source": [
    "db[:, 0][(len(db) - optimal_n) : len(db)]"
   ]
  },
  {
   "cell_type": "code",
   "execution_count": 10,
   "metadata": {},
   "outputs": [
    {
     "name": "stdout",
     "output_type": "stream",
     "text": [
      "MA = 81.0\n"
     ]
    }
   ],
   "source": [
    "print(\"MA = %s\" % np.mean(db[:, 0][len(db) - optimal_n:len(db)]))"
   ]
  },
  {
   "cell_type": "markdown",
   "metadata": {},
   "source": [
    "# Forecast evaluation\n",
    "we will evaluate the forecast for the best n values with the real data and show the t+1 observation."
   ]
  },
  {
   "cell_type": "code",
   "execution_count": 11,
   "metadata": {},
   "outputs": [
    {
     "data": {
      "image/png": "[encoded data removed]",
      "text/plain": [
       "<Figure size 432x288 with 1 Axes>"
      ]
     },
     "metadata": {
      "needs_background": "light"
     },
     "output_type": "display_data"
    }
   ],
   "source": [
    "forecast = np.zeros(len(db) + 1)\n",
    "\n",
    "for i in range(0, optimal_n):\n",
    "    forecast[i] = db[i][0]\n",
    "    \n",
    "for i in range(0, len(db) - optimal_n + 1):\n",
    "        forecast[i+optimal_n] = np.mean(db[:, 0][i:i+optimal_n])\n",
    "        \n",
    "plt.plot(db[:, 0],label = 'real data')\n",
    "plt.plot(forecast, label = 'forecast')\n",
    "plt.legend()\n",
    "plt.show()"
   ]
  },
  {
   "cell_type": "code",
   "execution_count": null,
   "metadata": {},
   "outputs": [],
   "source": []
  }
 ],
 "metadata": {
  "kernelspec": {
   "display_name": "Python 3",
   "language": "python",
   "name": "python3"
  },
  "language_info": {
   "codemirror_mode": {
    "name": "ipython",
    "version": 3
   },
   "file_extension": ".py",
   "mimetype": "text/x-python",
   "name": "python",
   "nbconvert_exporter": "python",
   "pygments_lexer": "ipython3",
   "version": "3.7.3"
  }
 },
 "nbformat": 4,
 "nbformat_minor": 2
}
