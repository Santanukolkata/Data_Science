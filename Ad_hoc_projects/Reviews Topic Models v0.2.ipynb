{
 "cells": [
  {
   "cell_type": "markdown",
   "metadata": {},
   "source": [
    "# Tasks - \n",
    "\n",
    "1. Normalize case\n",
    "2. Tokenize (using word_tokenize from NLTK)\n",
    "3. POS tagging using the NLTK pos tagger\n",
    "4. For the topic model, we would want to include only nouns\n",
    " - First, find out all the POS tags that correspond to nouns\n",
    " - Limit the data to only terms with these tags\n",
    "5. Lemmatize (you want different forms of the terms to be treated as one, don't worry about providing POS tag to lemmatizer for now)\n",
    "6. Remove stop words and punctuation (if there are any at all after the POS tagging)\n",
    "7. Create a topic model using LDA on the cleaned up data with 12 topics\n",
    " - choose the topic model parameters carefully\n",
    " - what is the perplexity of the model?\n",
    " - what is the coherence of the model?\n",
    "8. Analyze the topics, which pairs of topics can be combined?\n",
    "9. Create topic model using LDA with what you think is the optimal number of topics\n",
    " - choose the topic model parameters carefully\n",
    " - is the perplexity better now?\n",
    " - is the coherence better now?\n",
    "10. The business finally needs to be able to interpret the topics\n",
    " - name each of the identified topics\n",
    " - create a table with the topic name and the top 10 terms in each to present to business"
   ]
  },
  {
   "cell_type": "markdown",
   "metadata": {},
   "source": [
    "#### Importing all necessary package"
   ]
  },
  {
   "cell_type": "code",
   "execution_count": 2,
   "metadata": {},
   "outputs": [
    {
     "name": "stderr",
     "output_type": "stream",
     "text": [
      "C:\\Users\\santa_000\\Anaconda3\\lib\\site-packages\\past\\builtins\\misc.py:4: DeprecationWarning: Using or importing the ABCs from 'collections' instead of from 'collections.abc' is deprecated, and in 3.8 it will stop working\n",
      "  from collections import Mapping\n"
     ]
    }
   ],
   "source": [
    "import warnings\n",
    "warnings.filterwarnings(\"ignore\")\n",
    "\n",
    "# Importing the usual utilities\n",
    "import numpy as np, pandas as pd\n",
    "import re, random, os, string\n",
    "\n",
    "from pprint import pprint #pretty print\n",
    "import matplotlib.pyplot as plt\n",
    "%matplotlib inline\n",
    "\n",
    "from nltk.tokenize import word_tokenize\n",
    "from nltk.stem import WordNetLemmatizer\n",
    "import nltk\n",
    "import pandas as pd\n",
    "import pyLDAvis.gensim"
   ]
  },
  {
   "cell_type": "markdown",
   "metadata": {},
   "source": [
    "#### Loading the necessary files"
   ]
  },
  {
   "cell_type": "code",
   "execution_count": 3,
   "metadata": {},
   "outputs": [
    {
     "data": {
      "text/html": [
       "<div>\n",
       "<style scoped>\n",
       "    .dataframe tbody tr th:only-of-type {\n",
       "        vertical-align: middle;\n",
       "    }\n",
       "\n",
       "    .dataframe tbody tr th {\n",
       "        vertical-align: top;\n",
       "    }\n",
       "\n",
       "    .dataframe thead th {\n",
       "        text-align: right;\n",
       "    }\n",
       "</style>\n",
       "<table border=\"1\" class=\"dataframe\">\n",
       "  <thead>\n",
       "    <tr style=\"text-align: right;\">\n",
       "      <th></th>\n",
       "      <th>sentiment</th>\n",
       "      <th>review</th>\n",
       "    </tr>\n",
       "  </thead>\n",
       "  <tbody>\n",
       "    <tr>\n",
       "      <td>14670</td>\n",
       "      <td>1</td>\n",
       "      <td>I really like the phone, Everything is working...</td>\n",
       "    </tr>\n",
       "    <tr>\n",
       "      <td>14671</td>\n",
       "      <td>1</td>\n",
       "      <td>The Lenovo K8 Note is awesome. It takes best p...</td>\n",
       "    </tr>\n",
       "    <tr>\n",
       "      <td>14672</td>\n",
       "      <td>1</td>\n",
       "      <td>Awesome Gaget.. @ this price</td>\n",
       "    </tr>\n",
       "    <tr>\n",
       "      <td>14673</td>\n",
       "      <td>1</td>\n",
       "      <td>This phone is nice processing will be successf...</td>\n",
       "    </tr>\n",
       "    <tr>\n",
       "      <td>14674</td>\n",
       "      <td>1</td>\n",
       "      <td>Good product but the pakeging was not enough.</td>\n",
       "    </tr>\n",
       "  </tbody>\n",
       "</table>\n",
       "</div>"
      ],
      "text/plain": [
       "       sentiment                                             review\n",
       "14670          1  I really like the phone, Everything is working...\n",
       "14671          1  The Lenovo K8 Note is awesome. It takes best p...\n",
       "14672          1                       Awesome Gaget.. @ this price\n",
       "14673          1  This phone is nice processing will be successf...\n",
       "14674          1      Good product but the pakeging was not enough."
      ]
     },
     "execution_count": 3,
     "metadata": {},
     "output_type": "execute_result"
    }
   ],
   "source": [
    "reviews0 = pd.read_csv(\"K8 Reviews v0.2.csv\")\n",
    "reviews0.tail()"
   ]
  },
  {
   "cell_type": "markdown",
   "metadata": {},
   "source": [
    "## Task 1. Normalize case"
   ]
  },
  {
   "cell_type": "code",
   "execution_count": 4,
   "metadata": {},
   "outputs": [
    {
     "data": {
      "text/plain": [
       "['good but need updates and improvements',\n",
       " \"worst mobile i have bought ever, battery is draining like hell, backup is only 6 to 7 hours with internet uses, even if i put mobile idle its getting discharged.this is biggest lie from amazon & lenove which is not at all expected, they are making full by saying that battery is 4000mah & booster charger is fake, it takes at least 4 to 5 hours to be fully charged.don't know how lenovo will survive by making full of us.please don;t go for this else you will regret like me.\",\n",
       " 'when i will get my 10% cash back.... its already 15 january..']"
      ]
     },
     "execution_count": 4,
     "metadata": {},
     "output_type": "execute_result"
    }
   ],
   "source": [
    "# marking an array of sentences\n",
    "Normalize_rev_lower = [rev.lower() for rev in reviews0.review.values]\n",
    "Normalize_rev_lower[0:3]"
   ]
  },
  {
   "cell_type": "code",
   "execution_count": 5,
   "metadata": {},
   "outputs": [
    {
     "data": {
      "text/html": [
       "<div>\n",
       "<style scoped>\n",
       "    .dataframe tbody tr th:only-of-type {\n",
       "        vertical-align: middle;\n",
       "    }\n",
       "\n",
       "    .dataframe tbody tr th {\n",
       "        vertical-align: top;\n",
       "    }\n",
       "\n",
       "    .dataframe thead th {\n",
       "        text-align: right;\n",
       "    }\n",
       "</style>\n",
       "<table border=\"1\" class=\"dataframe\">\n",
       "  <thead>\n",
       "    <tr style=\"text-align: right;\">\n",
       "      <th></th>\n",
       "      <th>sentiment</th>\n",
       "      <th>review</th>\n",
       "    </tr>\n",
       "  </thead>\n",
       "  <tbody>\n",
       "    <tr>\n",
       "      <td>3893</td>\n",
       "      <td>0</td>\n",
       "      <td>Turbo charging has stopped after 5 days. It ta...</td>\n",
       "    </tr>\n",
       "  </tbody>\n",
       "</table>\n",
       "</div>"
      ],
      "text/plain": [
       "      sentiment                                             review\n",
       "3893          0  Turbo charging has stopped after 5 days. It ta..."
      ]
     },
     "execution_count": 5,
     "metadata": {},
     "output_type": "execute_result"
    }
   ],
   "source": [
    "#Checking any links present in the review\n",
    "\n",
    "reviews0[reviews0['review'].apply(lambda x:x.find('http') > 0)]"
   ]
  },
  {
   "cell_type": "code",
   "execution_count": 6,
   "metadata": {},
   "outputs": [],
   "source": [
    "#Replacing all the link and change the review text:\n",
    "reviews0.loc[3893]= re.sub(r'http\\S+', '', Normalize_rev_lower[3893])"
   ]
  },
  {
   "cell_type": "code",
   "execution_count": 7,
   "metadata": {},
   "outputs": [
    {
     "data": {
      "text/plain": [
       "['good but need updates and improvements',\n",
       " \"worst mobile i have bought ever, battery is draining like hell, backup is only 6 to 7 hours with internet uses, even if i put mobile idle its getting discharged.this is biggest lie from amazon & lenove which is not at all expected, they are making full by saying that battery is 4000mah & booster charger is fake, it takes at least 4 to 5 hours to be fully charged.don't know how lenovo will survive by making full of us.please don;t go for this else you will regret like me.\",\n",
       " 'when i will get my 10% cash back.... its already 15 january..']"
      ]
     },
     "execution_count": 7,
     "metadata": {},
     "output_type": "execute_result"
    }
   ],
   "source": [
    "#Making an array of sentences with lower values\n",
    "Normalize_rev_lower = [rev.lower() for rev in reviews0.review.values]\n",
    "Normalize_rev_lower[0:3]"
   ]
  },
  {
   "cell_type": "markdown",
   "metadata": {},
   "source": [
    "## Task 2. Tokenize (using word_tokenize from NLTK)"
   ]
  },
  {
   "cell_type": "code",
   "execution_count": 8,
   "metadata": {},
   "outputs": [
    {
     "data": {
      "text/plain": [
       "['good', 'but', 'need', 'updates', 'and', 'improvements']"
      ]
     },
     "execution_count": 8,
     "metadata": {},
     "output_type": "execute_result"
    }
   ],
   "source": [
    "# tokenization of  words from normalize sentences\n",
    "reviews_word_token = [word_tokenize(sent) for sent in Normalize_rev_lower]\n",
    "reviews_word_token[0]"
   ]
  },
  {
   "cell_type": "markdown",
   "metadata": {},
   "source": [
    "## Task 3. POS tagging using the NLTK pos tagger"
   ]
  },
  {
   "cell_type": "code",
   "execution_count": 9,
   "metadata": {},
   "outputs": [
    {
     "data": {
      "text/plain": [
       "[('good', 'JJ'),\n",
       " ('but', 'CC'),\n",
       " ('need', 'VBP'),\n",
       " ('updates', 'NNS'),\n",
       " ('and', 'CC'),\n",
       " ('improvements', 'NNS')]"
      ]
     },
     "execution_count": 9,
     "metadata": {},
     "output_type": "execute_result"
    }
   ],
   "source": [
    "#checking pos tag\n",
    "nltk.pos_tag(reviews_word_token[0])"
   ]
  },
  {
   "cell_type": "code",
   "execution_count": 10,
   "metadata": {},
   "outputs": [
    {
     "data": {
      "text/plain": [
       "[('good', 'JJ'),\n",
       " ('but', 'CC'),\n",
       " ('need', 'VBP'),\n",
       " ('updates', 'NNS'),\n",
       " ('and', 'CC'),\n",
       " ('improvements', 'NNS')]"
      ]
     },
     "execution_count": 10,
     "metadata": {},
     "output_type": "execute_result"
    }
   ],
   "source": [
    "#Converting all the tags in to pos tag tuple\n",
    "reviews_pos_tagged = [nltk.pos_tag(tokens) for tokens in reviews_word_token]\n",
    "reviews_pos_tagged[0]"
   ]
  },
  {
   "cell_type": "markdown",
   "metadata": {},
   "source": [
    "## Task 4. For the topic model, we would want to include only nouns\n",
    " - First, find out all the POS tags that correspond to nouns\n",
    " - Limit the data to only terms with these tags\n"
   ]
  },
  {
   "cell_type": "markdown",
   "metadata": {},
   "source": [
    "You see that for each term, the POS taggger returns a tuple. The first element of the tuple being the term, the second being the tag."
   ]
  },
  {
   "cell_type": "code",
   "execution_count": 11,
   "metadata": {},
   "outputs": [
    {
     "data": {
      "text/plain": [
       "[[('updates', 'NNS'), ('improvements', 'NNS')],\n",
       " [('mobile', 'NN'),\n",
       "  ('i', 'NN'),\n",
       "  ('battery', 'NN'),\n",
       "  ('hell', 'NN'),\n",
       "  ('backup', 'NN'),\n",
       "  ('hours', 'NNS'),\n",
       "  ('uses', 'NNS'),\n",
       "  ('idle', 'NN'),\n",
       "  ('discharged.this', 'NN'),\n",
       "  ('lie', 'NN'),\n",
       "  ('amazon', 'NN'),\n",
       "  ('lenove', 'NN'),\n",
       "  ('battery', 'NN'),\n",
       "  ('charger', 'NN'),\n",
       "  ('hours', 'NNS'),\n",
       "  ('don', 'NN')],\n",
       " [('i', 'NN'), ('%', 'NN'), ('cash', 'NN'), ('january..', 'NN')]]"
      ]
     },
     "execution_count": 11,
     "metadata": {},
     "output_type": "execute_result"
    }
   ],
   "source": [
    "# making an array of only for nouns\n",
    "reviews_noun=[]\n",
    "for sent in reviews_pos_tagged:\n",
    "    reviews_noun.append([token for token in sent if re.search(\"NN.*\", token[1])])\n",
    "reviews_noun[0:3]"
   ]
  },
  {
   "cell_type": "markdown",
   "metadata": {},
   "source": [
    "You'll need to extract the tag from the resulting tuple, of course and then limit to the desired tags"
   ]
  },
  {
   "cell_type": "code",
   "execution_count": 12,
   "metadata": {},
   "outputs": [
    {
     "data": {
      "text/plain": [
       "[['updates', 'improvements'],\n",
       " ['mobile',\n",
       "  'i',\n",
       "  'battery',\n",
       "  'hell',\n",
       "  'backup',\n",
       "  'hours',\n",
       "  'uses',\n",
       "  'idle',\n",
       "  'discharged.this',\n",
       "  'lie',\n",
       "  'amazon',\n",
       "  'lenove',\n",
       "  'battery',\n",
       "  'charger',\n",
       "  'hours',\n",
       "  'don'],\n",
       " ['i', '%', 'cash', 'january..'],\n",
       " [],\n",
       " ['phone', 'everthey', 'phone', 'problem', 'amazon', 'phone', 'amazon']]"
      ]
     },
     "execution_count": 12,
     "metadata": {},
     "output_type": "execute_result"
    }
   ],
   "source": [
    "# Extracting the words \n",
    "only_nowns=[]\n",
    "for sent in reviews_noun:\n",
    "    nowns_row_wise=[]\n",
    "    for tup in sent:\n",
    "        nowns_row_wise.append(tup[0])\n",
    "    only_nowns.append(nowns_row_wise)\n",
    "only_nowns[0:5]"
   ]
  },
  {
   "cell_type": "markdown",
   "metadata": {},
   "source": [
    "## Task  5. Lemmatize\n",
    " - you want different forms of the terms to be treated as one\n",
    " - don't worry about providing POS tag to lemmatizer for now"
   ]
  },
  {
   "cell_type": "code",
   "execution_count": 13,
   "metadata": {},
   "outputs": [],
   "source": [
    "# now lemmatize to get the root of the word\n",
    "lemm = WordNetLemmatizer()\n",
    "reviews_lemm=[]\n",
    "for sent in only_nowns:\n",
    "    reviews_lemm.append([lemm.lemmatize(word) for word in sent])"
   ]
  },
  {
   "cell_type": "code",
   "execution_count": 14,
   "metadata": {},
   "outputs": [
    {
     "data": {
      "text/plain": [
       "[['update', 'improvement'],\n",
       " ['mobile',\n",
       "  'i',\n",
       "  'battery',\n",
       "  'hell',\n",
       "  'backup',\n",
       "  'hour',\n",
       "  'us',\n",
       "  'idle',\n",
       "  'discharged.this',\n",
       "  'lie',\n",
       "  'amazon',\n",
       "  'lenove',\n",
       "  'battery',\n",
       "  'charger',\n",
       "  'hour',\n",
       "  'don']]"
      ]
     },
     "execution_count": 14,
     "metadata": {},
     "output_type": "execute_result"
    }
   ],
   "source": [
    "#checking the output data\n",
    "reviews_lemm[0:2]"
   ]
  },
  {
   "cell_type": "markdown",
   "metadata": {},
   "source": [
    "## Task  6. Remove stop words and punctuation (if there are any at all after the POS tagging)"
   ]
  },
  {
   "cell_type": "markdown",
   "metadata": {},
   "source": [
    "Use NLTK standard stop word list and the punctuations"
   ]
  },
  {
   "cell_type": "code",
   "execution_count": 15,
   "metadata": {},
   "outputs": [],
   "source": [
    "from string import punctuation\n",
    "from nltk.corpus import stopwords\n",
    "stop_nltk = stopwords.words(\"english\")"
   ]
  },
  {
   "cell_type": "code",
   "execution_count": 16,
   "metadata": {},
   "outputs": [],
   "source": [
    "stop_updated = stop_nltk + list(punctuation) + [\"...\"] + [\"..\"]\n",
    "reviews_sw_removed=[]\n",
    "for sent in reviews_lemm:\n",
    "    reviews_sw_removed.append([term for term in sent if term not in stop_updated])"
   ]
  },
  {
   "cell_type": "code",
   "execution_count": 17,
   "metadata": {},
   "outputs": [
    {
     "data": {
      "text/plain": [
       "['turbo',\n",
       " 'charging',\n",
       " 'day',\n",
       " 'hour',\n",
       " 'phone',\n",
       " 'lenovo',\n",
       " 'charger',\n",
       " 'battery',\n",
       " 'backup',\n",
       " 'hour',\n",
       " 'charge',\n",
       " 'usage',\n",
       " 'user',\n",
       " 'forum',\n",
       " 'complaint',\n",
       " 'backup',\n",
       " 'phone',\n",
       " 'step',\n",
       " 'support',\n",
       " 'issue',\n",
       " 'signal',\n",
       " 'sim',\n",
       " 'provider',\n",
       " 'phone',\n",
       " 'battery',\n",
       " 'saver.the',\n",
       " 'deca',\n",
       " 'core',\n",
       " 'processor',\n",
       " 'phone',\n",
       " 'mah',\n",
       " 'battery',\n",
       " 'backup',\n",
       " 'phone',\n",
       " 'point',\n",
       " 'horsepower',\n",
       " 'battery',\n",
       " 'backup',\n",
       " 'power',\n",
       " 'wonder',\n",
       " 'phone',\n",
       " 'discount.the',\n",
       " 'review',\n",
       " 'amazon',\n",
       " 'link',\n",
       " 'phone']"
      ]
     },
     "execution_count": 17,
     "metadata": {},
     "output_type": "execute_result"
    }
   ],
   "source": [
    "reviews_sw_removed[3893]"
   ]
  },
  {
   "cell_type": "markdown",
   "metadata": {},
   "source": [
    "## Task 7. Create a topic model using LDA on the cleaned up data with 12 topics\n",
    " - what is the coherence of the model?\n",
    " \n",
    " Use gensim for this task"
   ]
  },
  {
   "cell_type": "code",
   "execution_count": 18,
   "metadata": {},
   "outputs": [
    {
     "name": "stderr",
     "output_type": "stream",
     "text": [
      "C:\\Users\\santa_000\\Anaconda3\\lib\\site-packages\\scipy\\sparse\\sparsetools.py:21: DeprecationWarning: `scipy.sparse.sparsetools` is deprecated!\n",
      "scipy.sparse.sparsetools is a private module for scipy.sparse, and should not be used.\n",
      "  _deprecated()\n"
     ]
    }
   ],
   "source": [
    "import gensim\n",
    "import gensim.corpora as corpora\n",
    "from gensim.models import CoherenceModel\n",
    "from gensim.models import ldamodel"
   ]
  },
  {
   "cell_type": "code",
   "execution_count": 19,
   "metadata": {},
   "outputs": [],
   "source": [
    "# Creaking a bag of words\n",
    "id2word = corpora.Dictionary(reviews_sw_removed)\n",
    "texts = reviews_sw_removed\n",
    "# Assing id for each words for every sentences\n",
    "corpus = [id2word.doc2bow(text) for text in texts]"
   ]
  },
  {
   "cell_type": "code",
   "execution_count": 20,
   "metadata": {},
   "outputs": [
    {
     "name": "stdout",
     "output_type": "stream",
     "text": [
      "[(14, 2), (51, 1), (243, 1), (244, 1), (245, 1)]\n"
     ]
    }
   ],
   "source": [
    "#Checking the corpus\n",
    "print(corpus[100])"
   ]
  },
  {
   "cell_type": "code",
   "execution_count": 21,
   "metadata": {},
   "outputs": [
    {
     "data": {
      "text/plain": [
       "[[('improvement', 1), ('update', 1)]]"
      ]
     },
     "execution_count": 21,
     "metadata": {},
     "output_type": "execute_result"
    }
   ],
   "source": [
    "#Checking the data of corpus\n",
    "[[(id2word[id], freq) for id, freq in cp] for cp in corpus[:1]]"
   ]
  },
  {
   "cell_type": "code",
   "execution_count": 22,
   "metadata": {},
   "outputs": [
    {
     "name": "stdout",
     "output_type": "stream",
     "text": [
      "Wall time: 21 s\n"
     ]
    }
   ],
   "source": [
    "%%time\n",
    "lda_model = gensim.models.ldamodel.LdaModel(corpus=corpus,\n",
    "                                           id2word=id2word,\n",
    "                                           num_topics=12, \n",
    "                                           random_state=42,\n",
    "                                           passes=10,\n",
    "                                           per_word_topics=True)"
   ]
  },
  {
   "cell_type": "code",
   "execution_count": 23,
   "metadata": {},
   "outputs": [
    {
     "name": "stdout",
     "output_type": "stream",
     "text": [
      "[(0,\n",
      "  '0.250*\"battery\" + 0.054*\"backup\" + 0.045*\"day\" + 0.045*\"hour\" + '\n",
      "  '0.044*\"charger\" + 0.031*\"time\" + 0.028*\"charge\" + 0.028*\"life\" + '\n",
      "  '0.026*\"problem\" + 0.024*\"issue\"'),\n",
      " (1,\n",
      "  '0.231*\"camera\" + 0.092*\"quality\" + 0.080*\"phone\" + 0.049*\"performance\" + '\n",
      "  '0.036*\"battery\" + 0.022*\"processor\" + 0.018*\"mode\" + 0.012*\"depth\" + '\n",
      "  '0.012*\"speed\" + 0.012*\"picture\"'),\n",
      " (2,\n",
      "  '0.415*\"mobile\" + 0.038*\"box\" + 0.019*\"item\" + 0.017*\"expectation\" + '\n",
      "  '0.016*\"cable\" + 0.014*\"facility\" + 0.012*\"plz\" + 0.012*\"bug\" + 0.011*\"cost\" '\n",
      "  '+ 0.010*\"phn\"'),\n",
      " (3,\n",
      "  '0.162*\"money\" + 0.062*\"value\" + 0.053*\"superb\" + 0.037*\"smartphone\" + '\n",
      "  '0.030*\"specification\" + 0.028*\"buy\" + 0.027*\"super\" + 0.027*\"gb\" + '\n",
      "  '0.024*\"ram\" + 0.018*\"fast\"'),\n",
      " (4,\n",
      "  '0.264*\"product\" + 0.067*\"amazon\" + 0.030*\"delivery\" + 0.026*\"hai\" + '\n",
      "  '0.023*\"return\" + 0.021*\"h\" + 0.019*\"replacement\" + 0.018*\"service\" + '\n",
      "  '0.018*\"lenovo\" + 0.017*\"customer\"'),\n",
      " (5,\n",
      "  '0.066*\"call\" + 0.035*\"option\" + 0.029*\"handset\" + 0.027*\"hr\" + 0.025*\"app\" '\n",
      "  '+ 0.022*\"apps\" + 0.019*\"time\" + 0.015*\"application\" + 0.013*\"voice\" + '\n",
      "  '0.013*\"data\"'),\n",
      " (6,\n",
      "  '0.144*\"note\" + 0.075*\"k8\" + 0.070*\"screen\" + 0.046*\"lenovo\" + '\n",
      "  '0.026*\"feature\" + 0.024*\"glass\" + 0.017*\"music\" + 0.016*\"phone\" + '\n",
      "  '0.015*\"day\" + 0.014*\"key\"'),\n",
      " (7,\n",
      "  '0.092*\"feature\" + 0.072*\"sim\" + 0.047*\"heat\" + 0.039*\"card\" + 0.038*\"jio\" + '\n",
      "  '0.035*\"volta\" + 0.033*\"display\" + 0.031*\"memory\" + 0.026*\"slot\" + '\n",
      "  '0.024*\"bit\"'),\n",
      " (8,\n",
      "  '0.201*\"price\" + 0.122*\"phone\" + 0.078*\"range\" + 0.037*\"everything\" + '\n",
      "  '0.025*\"feature\" + 0.025*\"earphone\" + 0.024*\"dolby\" + 0.023*\"worth\" + '\n",
      "  '0.019*\"atmos\" + 0.015*\"purchase\"'),\n",
      " (9,\n",
      "  '0.341*\"phone\" + 0.083*\"problem\" + 0.071*\"issue\" + 0.031*\"heating\" + '\n",
      "  '0.030*\"network\" + 0.023*\"time\" + 0.022*\"month\" + 0.014*\"lenovo\" + '\n",
      "  '0.014*\"lot\" + 0.013*\"day\"'),\n",
      " (10,\n",
      "  '0.098*\"device\" + 0.078*\"service\" + 0.055*\"software\" + 0.051*\"update\" + '\n",
      "  '0.033*\"cast\" + 0.032*\"center\" + 0.027*\"system\" + 0.021*\"lenovo\" + '\n",
      "  '0.021*\"phone..\" + 0.020*\"version\"'),\n",
      " (11,\n",
      "  '0.095*\"speaker\" + 0.040*\"sound\" + 0.040*\"sensor\" + 0.035*\"headphone\" + '\n",
      "  '0.032*\"model\" + 0.027*\"video\" + 0.023*\"ok\" + 0.021*\"moto\" + '\n",
      "  '0.019*\"fingerprint\" + 0.016*\"light\"')]\n"
     ]
    }
   ],
   "source": [
    "#checking the topics\n",
    "pprint(lda_model.print_topics())"
   ]
  },
  {
   "cell_type": "code",
   "execution_count": 24,
   "metadata": {},
   "outputs": [
    {
     "name": "stdout",
     "output_type": "stream",
     "text": [
      "\n",
      "Coherence Score:  0.5426220809226854\n",
      "Wall time: 8.03 s\n"
     ]
    }
   ],
   "source": [
    "%%time\n",
    "coherence_model_lda = CoherenceModel(model=lda_model, texts=reviews_sw_removed, dictionary=id2word, coherence='c_v')\n",
    "coherence_lda = coherence_model_lda.get_coherence()\n",
    "print('\\nCoherence Score: ', coherence_lda)"
   ]
  },
  {
   "cell_type": "markdown",
   "metadata": {},
   "source": [
    "## Task 8. Analyze the topics, which pairs of topics can be combined?\n",
    " - you can assume that if a pair of topics has very similar top terms, they are very close and can be combined"
   ]
  },
  {
   "cell_type": "code",
   "execution_count": 25,
   "metadata": {},
   "outputs": [
    {
     "name": "stdout",
     "output_type": "stream",
     "text": [
      "topis no  5 Coherence Score:  0.5251528821543048\n",
      "topis no  6 Coherence Score:  0.5245406128917262\n",
      "topis no  7 Coherence Score:  0.5563400136317252\n",
      "topis no  8 Coherence Score:  0.5573730599122244\n",
      "topis no  9 Coherence Score:  0.5771882389357432\n",
      "topis no  10 Coherence Score:  0.5752965487587095\n",
      "topis no  11 Coherence Score:  0.5402446563227769\n",
      "Wall time: 3min 34s\n"
     ]
    }
   ],
   "source": [
    "%%time\n",
    "for i in range(5,12):\n",
    "    lda_modeli = gensim.models.ldamodel.LdaModel(corpus=corpus,\n",
    "                                           id2word=id2word,\n",
    "                                           num_topics=i, \n",
    "                                           random_state=42,\n",
    "                                           passes=10,\n",
    "                                           per_word_topics=True)\n",
    "    coherence_model_lda = CoherenceModel(model=lda_modeli, texts=reviews_sw_removed, dictionary=id2word, coherence='c_v')\n",
    "    coherence_lda = coherence_model_lda.get_coherence()\n",
    "    print('topis no ',i,'Coherence Score: ', coherence_lda)"
   ]
  },
  {
   "cell_type": "markdown",
   "metadata": {},
   "source": [
    " **As per loop The coherence is high when topic is 9. so we are building the model with taking 9 values**"
   ]
  },
  {
   "cell_type": "markdown",
   "metadata": {},
   "source": [
    "### Looking at the topics and each terms following can be combined -\n",
    "\n",
    "** Topic 2 and 5 possibly talks about 'pricing'  \n",
    " Topic 4, 6 and 10 closely talks about 'battery related issues'  \n",
    " Topic 3 and 11 vaguely talks about 'performance'**"
   ]
  },
  {
   "cell_type": "markdown",
   "metadata": {},
   "source": [
    "## Task 9. Create topic model using LDA with what you think is the optimal number of topics\n",
    "\n",
    " - is the coherence better now?"
   ]
  },
  {
   "cell_type": "code",
   "execution_count": 26,
   "metadata": {},
   "outputs": [],
   "source": [
    "lda_modeli9 = gensim.models.ldamodel.LdaModel(corpus=corpus,\n",
    "                                           id2word=id2word,\n",
    "                                           num_topics=9, \n",
    "                                           random_state=42,\n",
    "                                           passes=10,\n",
    "                                           per_word_topics=True)\n",
    "   "
   ]
  },
  {
   "cell_type": "markdown",
   "metadata": {},
   "source": [
    "Printing the coherence of the model"
   ]
  },
  {
   "cell_type": "markdown",
   "metadata": {},
   "source": []
  },
  {
   "cell_type": "code",
   "execution_count": 27,
   "metadata": {},
   "outputs": [
    {
     "data": {
      "text/html": [
       "<div>\n",
       "<style scoped>\n",
       "    .dataframe tbody tr th:only-of-type {\n",
       "        vertical-align: middle;\n",
       "    }\n",
       "\n",
       "    .dataframe tbody tr th {\n",
       "        vertical-align: top;\n",
       "    }\n",
       "\n",
       "    .dataframe thead th {\n",
       "        text-align: right;\n",
       "    }\n",
       "</style>\n",
       "<table border=\"1\" class=\"dataframe\">\n",
       "  <thead>\n",
       "    <tr style=\"text-align: right;\">\n",
       "      <th></th>\n",
       "      <th>Topic ID</th>\n",
       "      <th>Topics</th>\n",
       "    </tr>\n",
       "  </thead>\n",
       "  <tbody>\n",
       "    <tr>\n",
       "      <td>0</td>\n",
       "      <td>0</td>\n",
       "      <td>[battery, phone, backup, day, hour, issue, tim...</td>\n",
       "    </tr>\n",
       "    <tr>\n",
       "      <td>1</td>\n",
       "      <td>1</td>\n",
       "      <td>[camera, quality, performance, battery, phone,...</td>\n",
       "    </tr>\n",
       "  </tbody>\n",
       "</table>\n",
       "</div>"
      ],
      "text/plain": [
       "   Topic ID                                             Topics\n",
       "0         0  [battery, phone, backup, day, hour, issue, tim...\n",
       "1         1  [camera, quality, performance, battery, phone,..."
      ]
     },
     "execution_count": 27,
     "metadata": {},
     "output_type": "execute_result"
    }
   ],
   "source": [
    "x = lda_modeli9.show_topics(formatted=False,num_words=10)\n",
    "topics_words = [(tp[0], [wd[0] for wd in tp[1]]) for tp in x]\n",
    "df_topics =pd.DataFrame(topics_words,columns =['Topic ID','Topics'])\n",
    "df_topics.head(2)"
   ]
  },
  {
   "cell_type": "code",
   "execution_count": 28,
   "metadata": {},
   "outputs": [
    {
     "name": "stdout",
     "output_type": "stream",
     "text": [
      "0::['battery', 'phone', 'backup', 'day', 'hour', 'issue', 'time', 'life', 'problem', 'charge']\n",
      "1::['camera', 'quality', 'performance', 'battery', 'phone', 'mode', 'everything', 'depth', 'clarity', 'photo']\n",
      "2::['mobile', 'service', 'center', 'specification', 'cost', 'centre', 'month', 'lenovo', 'processor', 'purchase']\n",
      "3::['problem', 'money', 'note', 'issue', 'k8', 'heating', 'device', 'waste', 'value', 'charger']\n",
      "4::['product', 'amazon', 'delivery', 'service', 'customer', 'return', 'lenovo', 'replacement', 'day', 'time']\n",
      "5::['phone', 'call', 'time', 'issue', 'network', 'problem', 'sim', 'update', 'software', 'handset']\n",
      "6::['note', 'screen', 'speaker', 'sound', 'feature', 'music', 'camera', 'display', 'lenovo', 'glass']\n",
      "7::['hai', 'h', 'heat', 'ho', 'excellent', 'k', 'bhi', 'hi', 'superb', 'ye']\n",
      "8::['phone', 'price', 'range', 'feature', 'budget', 'box', 'headphone', 'superb', 'earphone', 'headset']\n",
      "\n"
     ]
    }
   ],
   "source": [
    "for topic,words in topics_words:\n",
    "    print(str(topic)+ \"::\"+ str(words))\n",
    "print()"
   ]
  },
  {
   "cell_type": "code",
   "execution_count": 29,
   "metadata": {},
   "outputs": [],
   "source": [
    "pyLDAvis.enable_notebook()"
   ]
  },
  {
   "cell_type": "code",
   "execution_count": 30,
   "metadata": {},
   "outputs": [
    {
     "name": "stdout",
     "output_type": "stream",
     "text": [
      "Wall time: 4min 47s\n"
     ]
    }
   ],
   "source": [
    "%%time\n",
    "vis = pyLDAvis.gensim.prepare(lda_model, corpus, id2word)"
   ]
  },
  {
   "cell_type": "code",
   "execution_count": 31,
   "metadata": {},
   "outputs": [
    {
     "data": {
      "text/html": [
       "\n",
       "<link rel=\"stylesheet\" type=\"text/css\" href=\"https://cdn.rawgit.com/bmabey/pyLDAvis/files/ldavis.v1.0.0.css\">\n",
       "\n",
       "\n",
       "<div id=\"ldavis_el36888065485555922553665442\"></div>\n",
       "<script type=\"text/javascript\">\n",
       "\n",
       "var ldavis_el36888065485555922553665442_data = {\"mdsDat\": {\"x\": [0.26382279109104084, 0.222237866489871, 0.21896341630877256, 0.024321948090989552, 0.003615357556365553, -0.08834872847119546, -0.1111581592651316, 0.056549468958590844, -0.14373892796253362, -0.10825221412855077, -0.16136896641926476, -0.17664385224895365], \"y\": [-0.041381596555333106, 0.12913102068691895, -0.08711265412769459, 0.024145274776588573, -0.05437811457050424, -0.30575425595610145, -0.16797364237195692, 0.13921528975772499, 0.12823163832988127, 0.0888276833933582, 0.08964200851682362, 0.05740734812029469], \"topics\": [1, 2, 3, 4, 5, 6, 7, 8, 9, 10, 11, 12], \"cluster\": [1, 1, 1, 1, 1, 1, 1, 1, 1, 1, 1, 1], \"Freq\": [17.058347702026367, 15.782422065734863, 11.839411735534668, 9.588958740234375, 9.005754470825195, 8.972094535827637, 5.372036457061768, 5.254909038543701, 4.5647053718566895, 4.312463283538818, 4.149676322937012, 4.099215507507324]}, \"tinfo\": {\"Category\": [\"Default\", \"Default\", \"Default\", \"Default\", \"Default\", \"Default\", \"Default\", \"Default\", \"Default\", \"Default\", \"Default\", \"Default\", \"Default\", \"Default\", \"Default\", \"Default\", \"Default\", \"Default\", \"Default\", \"Default\", \"Default\", \"Default\", \"Default\", \"Default\", \"Default\", \"Default\", \"Default\", \"Default\", \"Default\", \"Default\", \"Topic1\", \"Topic1\", \"Topic1\", \"Topic1\", \"Topic1\", \"Topic1\", \"Topic1\", \"Topic1\", \"Topic1\", \"Topic1\", \"Topic1\", \"Topic1\", \"Topic1\", \"Topic1\", \"Topic1\", \"Topic1\", \"Topic1\", \"Topic1\", \"Topic1\", \"Topic1\", \"Topic1\", \"Topic1\", \"Topic1\", \"Topic1\", \"Topic1\", \"Topic1\", \"Topic1\", \"Topic1\", \"Topic1\", \"Topic1\", \"Topic1\", \"Topic1\", \"Topic1\", \"Topic1\", \"Topic1\", \"Topic1\", \"Topic1\", \"Topic1\", \"Topic1\", \"Topic1\", \"Topic1\", \"Topic1\", \"Topic1\", \"Topic1\", \"Topic1\", \"Topic1\", \"Topic1\", \"Topic1\", \"Topic1\", \"Topic1\", \"Topic1\", \"Topic1\", \"Topic1\", \"Topic1\", \"Topic1\", \"Topic1\", \"Topic1\", \"Topic1\", \"Topic2\", \"Topic2\", \"Topic2\", \"Topic2\", \"Topic2\", \"Topic2\", \"Topic2\", \"Topic2\", \"Topic2\", \"Topic2\", \"Topic2\", \"Topic2\", \"Topic2\", \"Topic2\", \"Topic2\", \"Topic2\", \"Topic2\", \"Topic2\", \"Topic2\", \"Topic2\", \"Topic2\", \"Topic2\", \"Topic2\", \"Topic2\", \"Topic2\", \"Topic2\", \"Topic2\", \"Topic2\", \"Topic2\", \"Topic2\", \"Topic2\", \"Topic2\", \"Topic2\", \"Topic2\", \"Topic2\", \"Topic2\", \"Topic2\", \"Topic2\", \"Topic2\", \"Topic2\", \"Topic2\", \"Topic2\", \"Topic2\", \"Topic2\", \"Topic2\", \"Topic2\", \"Topic2\", \"Topic2\", \"Topic3\", \"Topic3\", \"Topic3\", \"Topic3\", \"Topic3\", \"Topic3\", \"Topic3\", \"Topic3\", \"Topic3\", \"Topic3\", \"Topic3\", \"Topic3\", \"Topic3\", \"Topic3\", \"Topic3\", \"Topic3\", \"Topic3\", \"Topic3\", \"Topic3\", \"Topic3\", \"Topic3\", \"Topic3\", \"Topic3\", \"Topic3\", \"Topic3\", \"Topic3\", \"Topic3\", \"Topic3\", \"Topic3\", \"Topic3\", \"Topic3\", \"Topic3\", \"Topic3\", \"Topic3\", \"Topic3\", \"Topic3\", \"Topic3\", \"Topic3\", \"Topic3\", \"Topic3\", \"Topic3\", \"Topic3\", \"Topic3\", \"Topic3\", \"Topic3\", \"Topic3\", \"Topic3\", \"Topic3\", \"Topic3\", \"Topic3\", \"Topic4\", \"Topic4\", \"Topic4\", \"Topic4\", \"Topic4\", \"Topic4\", \"Topic4\", \"Topic4\", \"Topic4\", \"Topic4\", \"Topic4\", \"Topic4\", \"Topic4\", \"Topic4\", \"Topic4\", \"Topic4\", \"Topic4\", \"Topic4\", \"Topic4\", \"Topic4\", \"Topic4\", \"Topic4\", \"Topic4\", \"Topic4\", \"Topic4\", \"Topic4\", \"Topic4\", \"Topic4\", \"Topic4\", \"Topic4\", \"Topic4\", \"Topic4\", \"Topic4\", \"Topic4\", \"Topic4\", \"Topic4\", \"Topic4\", \"Topic4\", \"Topic4\", \"Topic4\", \"Topic4\", \"Topic4\", \"Topic4\", \"Topic4\", \"Topic4\", \"Topic4\", \"Topic4\", \"Topic4\", \"Topic5\", \"Topic5\", \"Topic5\", \"Topic5\", \"Topic5\", \"Topic5\", \"Topic5\", \"Topic5\", \"Topic5\", \"Topic5\", \"Topic5\", \"Topic5\", \"Topic5\", \"Topic5\", \"Topic5\", \"Topic5\", \"Topic5\", \"Topic5\", \"Topic5\", \"Topic5\", \"Topic5\", \"Topic5\", \"Topic5\", \"Topic5\", \"Topic5\", \"Topic5\", \"Topic5\", \"Topic5\", \"Topic5\", \"Topic5\", \"Topic5\", \"Topic5\", \"Topic5\", \"Topic5\", \"Topic5\", \"Topic5\", \"Topic5\", \"Topic5\", \"Topic5\", \"Topic5\", \"Topic5\", \"Topic5\", \"Topic5\", \"Topic5\", \"Topic5\", \"Topic5\", \"Topic5\", \"Topic5\", \"Topic5\", \"Topic5\", \"Topic5\", \"Topic6\", \"Topic6\", \"Topic6\", \"Topic6\", \"Topic6\", \"Topic6\", \"Topic6\", \"Topic6\", \"Topic6\", \"Topic6\", \"Topic6\", \"Topic6\", \"Topic6\", \"Topic6\", \"Topic6\", \"Topic6\", \"Topic6\", \"Topic6\", \"Topic6\", \"Topic6\", \"Topic6\", \"Topic6\", \"Topic6\", \"Topic6\", \"Topic6\", \"Topic6\", \"Topic6\", \"Topic6\", \"Topic6\", \"Topic6\", \"Topic6\", \"Topic6\", \"Topic6\", \"Topic6\", \"Topic6\", \"Topic6\", \"Topic6\", \"Topic6\", \"Topic6\", \"Topic6\", \"Topic6\", \"Topic6\", \"Topic6\", \"Topic6\", \"Topic6\", \"Topic6\", \"Topic6\", \"Topic6\", \"Topic6\", \"Topic6\", \"Topic6\", \"Topic7\", \"Topic7\", \"Topic7\", \"Topic7\", \"Topic7\", \"Topic7\", \"Topic7\", \"Topic7\", \"Topic7\", \"Topic7\", \"Topic7\", \"Topic7\", \"Topic7\", \"Topic7\", \"Topic7\", \"Topic7\", \"Topic7\", \"Topic7\", \"Topic7\", \"Topic7\", \"Topic7\", \"Topic7\", \"Topic7\", \"Topic7\", \"Topic7\", \"Topic7\", \"Topic7\", \"Topic7\", \"Topic7\", \"Topic7\", \"Topic7\", \"Topic7\", \"Topic7\", \"Topic7\", \"Topic7\", \"Topic7\", \"Topic7\", \"Topic7\", \"Topic7\", \"Topic7\", \"Topic7\", \"Topic7\", \"Topic7\", \"Topic7\", \"Topic7\", \"Topic7\", \"Topic8\", \"Topic8\", \"Topic8\", \"Topic8\", \"Topic8\", \"Topic8\", \"Topic8\", \"Topic8\", \"Topic8\", \"Topic8\", \"Topic8\", \"Topic8\", \"Topic8\", \"Topic8\", \"Topic8\", \"Topic8\", \"Topic8\", \"Topic8\", \"Topic8\", \"Topic8\", \"Topic8\", \"Topic8\", \"Topic8\", \"Topic8\", \"Topic8\", \"Topic8\", \"Topic8\", \"Topic8\", \"Topic8\", \"Topic8\", \"Topic8\", \"Topic8\", \"Topic8\", \"Topic8\", \"Topic8\", \"Topic8\", \"Topic8\", \"Topic8\", \"Topic8\", \"Topic8\", \"Topic8\", \"Topic8\", \"Topic8\", \"Topic8\", \"Topic8\", \"Topic8\", \"Topic9\", \"Topic9\", \"Topic9\", \"Topic9\", \"Topic9\", \"Topic9\", \"Topic9\", \"Topic9\", \"Topic9\", \"Topic9\", \"Topic9\", \"Topic9\", \"Topic9\", \"Topic9\", \"Topic9\", \"Topic9\", \"Topic9\", \"Topic9\", \"Topic9\", \"Topic9\", \"Topic9\", \"Topic9\", \"Topic9\", \"Topic9\", \"Topic9\", \"Topic9\", \"Topic9\", \"Topic9\", \"Topic9\", \"Topic9\", \"Topic9\", \"Topic9\", \"Topic9\", \"Topic9\", \"Topic9\", \"Topic9\", \"Topic9\", \"Topic9\", \"Topic9\", \"Topic9\", \"Topic9\", \"Topic10\", \"Topic10\", \"Topic10\", \"Topic10\", \"Topic10\", \"Topic10\", \"Topic10\", \"Topic10\", \"Topic10\", \"Topic10\", \"Topic10\", \"Topic10\", \"Topic10\", \"Topic10\", \"Topic10\", \"Topic10\", \"Topic10\", \"Topic10\", \"Topic10\", \"Topic10\", \"Topic10\", \"Topic10\", \"Topic10\", \"Topic10\", \"Topic10\", \"Topic10\", \"Topic10\", \"Topic10\", \"Topic10\", \"Topic10\", \"Topic10\", \"Topic10\", \"Topic10\", \"Topic10\", \"Topic10\", \"Topic10\", \"Topic10\", \"Topic10\", \"Topic10\", \"Topic10\", \"Topic10\", \"Topic10\", \"Topic11\", \"Topic11\", \"Topic11\", \"Topic11\", \"Topic11\", \"Topic11\", \"Topic11\", \"Topic11\", \"Topic11\", \"Topic11\", \"Topic11\", \"Topic11\", \"Topic11\", \"Topic11\", \"Topic11\", \"Topic11\", \"Topic11\", \"Topic11\", \"Topic11\", \"Topic11\", \"Topic11\", \"Topic11\", \"Topic11\", \"Topic11\", \"Topic11\", \"Topic11\", \"Topic11\", \"Topic11\", \"Topic11\", \"Topic11\", \"Topic11\", \"Topic11\", \"Topic11\", \"Topic11\", \"Topic11\", \"Topic11\", \"Topic11\", \"Topic11\", \"Topic11\", \"Topic11\", \"Topic12\", \"Topic12\", \"Topic12\", \"Topic12\", \"Topic12\", \"Topic12\", \"Topic12\", \"Topic12\", \"Topic12\", \"Topic12\", \"Topic12\", \"Topic12\", \"Topic12\", \"Topic12\", \"Topic12\", \"Topic12\", \"Topic12\", \"Topic12\", \"Topic12\", \"Topic12\", \"Topic12\", \"Topic12\", \"Topic12\", \"Topic12\", \"Topic12\", \"Topic12\", \"Topic12\", \"Topic12\", \"Topic12\", \"Topic12\", \"Topic12\", \"Topic12\", \"Topic12\", \"Topic12\", \"Topic12\", \"Topic12\", \"Topic12\", \"Topic12\", \"Topic12\", \"Topic12\"], \"Freq\": [6927.0, 3166.0, 3067.0, 2059.0, 1477.0, 1202.0, 918.0, 1369.0, 1499.0, 585.0, 629.0, 839.0, 1413.0, 584.0, 456.0, 521.0, 520.0, 507.0, 377.0, 863.0, 585.0, 355.0, 463.0, 455.0, 269.0, 909.0, 345.0, 348.0, 412.0, 551.0, 90.1911392211914, 83.51375579833984, 76.7577896118164, 67.04911804199219, 44.98773193359375, 41.91584014892578, 40.213626861572266, 37.383304595947266, 36.20768737792969, 33.41068649291992, 32.43631362915039, 29.71092987060547, 28.836681365966797, 27.310543060302734, 25.875368118286133, 25.69341278076172, 25.141324996948242, 24.209054946899414, 89.66213989257812, 22.54294776916504, 22.370559692382812, 22.36014175415039, 21.713836669921875, 21.658479690551758, 21.114978790283203, 19.969478607177734, 19.731075286865234, 19.504331588745117, 19.479129791259766, 18.591846466064453, 126.87919616699219, 1228.3438720703125, 5048.056640625, 439.35491943359375, 454.1996765136719, 1051.421875, 72.14213562011719, 210.1845703125, 101.247802734375, 322.4421691894531, 57.645423889160156, 77.95640563964844, 131.09315490722656, 45.94123458862305, 75.17896270751953, 37.38751983642578, 335.6541442871094, 98.8388671875, 65.80648803710938, 91.4212417602539, 213.4357452392578, 198.20384216308594, 105.74146270751953, 75.65567016601562, 67.84956359863281, 69.93773651123047, 56.8740119934082, 76.30242156982422, 3165.801513671875, 307.056884765625, 170.74368286132812, 168.89088439941406, 131.14987182617188, 126.1647720336914, 115.25794982910156, 108.5158462524414, 107.09746551513672, 98.91449737548828, 73.30366516113281, 68.79598236083984, 60.777915954589844, 59.397342681884766, 59.05872344970703, 54.87642288208008, 44.888671875, 152.11328125, 37.32481384277344, 31.841333389282227, 30.05226707458496, 28.121110916137695, 26.026105880737305, 25.63254737854004, 25.157699584960938, 23.84947967529297, 22.089906692504883, 21.777450561523438, 20.743078231811523, 19.006044387817383, 1258.994140625, 669.7758178710938, 150.4993896484375, 89.42894744873047, 253.27488708496094, 115.7098159790039, 120.95681762695312, 169.43276977539062, 99.19422149658203, 95.34911346435547, 1093.5157470703125, 141.53990173339844, 496.39971923828125, 125.78952026367188, 96.18927001953125, 120.24987030029297, 75.80010986328125, 73.18682098388672, 462.9043273925781, 454.1986389160156, 220.02272033691406, 219.06109619140625, 203.60682678222656, 121.13577270507812, 73.52885437011719, 65.30226135253906, 48.09810256958008, 47.9501838684082, 36.13053894042969, 33.12653732299805, 28.715923309326172, 26.628128051757812, 25.871816635131836, 24.611099243164062, 20.024194717407227, 19.980131149291992, 19.02652931213379, 18.675445556640625, 556.1952514648438, 17.58176612854004, 292.11602783203125, 16.579830169677734, 14.441719055175781, 13.582320213317871, 13.410358428955078, 12.7774658203125, 11.71182632446289, 11.669816017150879, 2569.8642578125, 287.16424560546875, 144.28363037109375, 204.36700439453125, 28.117822647094727, 463.85858154296875, 169.21734619140625, 122.5955810546875, 171.1520233154297, 313.6414794921875, 60.630165100097656, 270.5817565917969, 193.11880493164062, 247.28817749023438, 121.13251495361328, 59.25363540649414, 88.70703887939453, 42.49555206298828, 70.75204467773438, 44.818424224853516, 1201.8929443359375, 628.087158203125, 583.5216064453125, 198.45518493652344, 115.31092834472656, 110.49752044677734, 103.51416778564453, 79.57283020019531, 64.75570678710938, 63.76198959350586, 56.11259460449219, 50.541290283203125, 61.97950744628906, 45.87353515625, 40.52849578857422, 38.63008499145508, 35.97306442260742, 34.882293701171875, 34.746612548828125, 32.83421325683594, 32.07453155517578, 26.956708908081055, 25.134801864624023, 25.0257511138916, 23.385332107543945, 22.563905715942383, 22.449129104614258, 19.895936965942383, 19.106115341186523, 18.556285858154297, 82.22071075439453, 94.51730346679688, 87.6766128540039, 58.22560501098633, 61.28657150268555, 382.480712890625, 140.2593231201172, 78.8495101928711, 51.71650695800781, 218.50387573242188, 98.88139343261719, 124.29898071289062, 82.63262939453125, 47.05823516845703, 109.85938262939453, 131.8120880126953, 59.928688049316406, 48.96327590942383, 519.3322143554688, 227.85755920410156, 211.72166442871094, 104.36365509033203, 98.12007904052734, 83.98452758789062, 113.92459869384766, 68.48497009277344, 63.82954788208008, 62.89265060424805, 45.73530197143555, 45.71229934692383, 44.97071075439453, 44.424354553222656, 43.291725158691406, 42.929500579833984, 42.920692443847656, 41.899471282958984, 40.57779312133789, 40.27800369262695, 37.17689514160156, 35.99070739746094, 35.24113082885742, 35.141265869140625, 33.34175109863281, 33.00143814086914, 31.835168838500977, 29.35082244873047, 28.18968391418457, 27.835264205932617, 170.50782775878906, 198.4095001220703, 92.32579040527344, 272.5754699707031, 95.64997100830078, 94.4668197631836, 56.09505844116211, 49.401390075683594, 100.38345336914062, 47.1236686706543, 65.6868896484375, 150.80113220214844, 86.64734649658203, 77.03150939941406, 63.89956283569336, 97.99320983886719, 60.92549133300781, 60.27715301513672, 59.40104293823242, 61.64177703857422, 53.438514709472656, 2058.799072265625, 520.9739990234375, 231.6559600830078, 177.107177734375, 163.6476593017578, 109.95258331298828, 98.52932739257812, 92.13761901855469, 202.91168212890625, 47.694541931152344, 56.02271270751953, 34.75659942626953, 33.878055572509766, 33.79707336425781, 31.220603942871094, 30.556276321411133, 29.598434448242188, 28.717248916625977, 24.946571350097656, 24.312679290771484, 21.53676986694336, 19.935325622558594, 18.698341369628906, 18.599529266357422, 18.255468368530273, 18.250782012939453, 17.93900489807129, 17.352737426757812, 17.33222007751465, 17.045604705810547, 83.60125732421875, 56.153236389160156, 148.6962127685547, 84.8708267211914, 23.19548797607422, 134.7766571044922, 32.2786750793457, 47.028076171875, 93.72235107421875, 128.09255981445312, 35.951133728027344, 142.5191192626953, 49.94291687011719, 51.445613861083984, 57.08736801147461, 140.2102813720703, 56.6087760925293, 66.93840789794922, 93.99559020996094, 50.94472122192383, 36.01918411254883, 455.3255310058594, 153.10659790039062, 149.69134521484375, 96.14752197265625, 91.38594055175781, 87.84708404541016, 72.01114654541016, 54.355587005615234, 53.90485763549805, 42.67106628417969, 35.38261413574219, 34.50830078125, 33.667171478271484, 31.58157730102539, 30.220796585083008, 27.013675689697266, 26.447988510131836, 25.900894165039062, 21.173233032226562, 21.0155029296875, 19.339252471923828, 18.04142189025879, 17.694232940673828, 16.353967666625977, 15.143757820129395, 14.136549949645996, 14.009170532226562, 13.733404159545898, 13.011958122253418, 11.827343940734863, 257.11572265625, 364.559814453125, 123.9740982055664, 237.1343994140625, 56.902103424072266, 37.1317138671875, 49.70712661743164, 69.87626647949219, 85.138671875, 31.959569931030273, 97.99279022216797, 36.49247360229492, 74.16234588623047, 39.85499954223633, 38.68502426147461, 33.60897445678711, 917.3139038085938, 354.8955078125, 112.32196044921875, 106.27371978759766, 50.38105773925781, 47.84909439086914, 44.13544845581055, 38.44041061401367, 32.201786041259766, 29.521011352539062, 28.72115135192871, 22.40087127685547, 21.685792922973633, 20.920644760131836, 19.780874252319336, 16.37649154663086, 13.95839786529541, 12.94611930847168, 12.72315788269043, 11.976325035095215, 10.059893608093262, 9.854543685913086, 9.831931114196777, 85.65316772460938, 8.849200248718262, 8.790139198303223, 8.50626277923584, 7.630791664123535, 7.54218864440918, 7.263531684875488, 168.29383850097656, 29.748607635498047, 108.45105743408203, 49.16386032104492, 24.1137638092041, 59.87630081176758, 25.78997039794922, 66.43959045410156, 28.050432205200195, 555.0230102539062, 33.49371337890625, 20.191503524780273, 112.39374542236328, 27.990238189697266, 21.72273063659668, 21.551513671875, 376.73797607421875, 156.7807159423828, 137.02694702148438, 91.17464447021484, 83.11363983154297, 76.71635437011719, 52.85181427001953, 52.64954376220703, 51.15226745605469, 48.88322067260742, 39.04038619995117, 37.11012649536133, 36.80655288696289, 33.85795974731445, 33.21366882324219, 32.354026794433594, 30.518407821655273, 27.56928253173828, 25.53969955444336, 25.3018856048584, 24.869020462036133, 24.67525291442871, 24.29021644592285, 22.28525161743164, 21.98719596862793, 21.77740478515625, 21.343244552612305, 20.834556579589844, 20.349140167236328, 19.18073081970215, 125.93551635742188, 158.0932159423828, 49.03074264526367, 105.69441986083984, 64.98812103271484, 33.16547775268555, 44.53213119506836, 30.97905158996582, 25.634571075439453, 30.10399055480957, 28.237560272216797, 268.7268981933594, 144.14117431640625, 141.39279174804688, 129.14739990234375, 116.30436706542969, 96.07255554199219, 88.9112777709961, 63.56098175048828, 57.708866119384766, 33.51879119873047, 30.48167610168457, 28.679092407226562, 28.50265884399414, 28.153820037841797, 27.11717987060547, 26.17084503173828, 21.506006240844727, 18.806428909301758, 23.018108367919922, 17.071849822998047, 16.260356903076172, 15.330764770507812, 14.494733810424805, 14.473315238952637, 13.942060470581055, 13.32150936126709, 13.214191436767578, 11.517860412597656, 10.723403930664062, 9.953418731689453, 76.44973754882812, 20.386322021484375, 176.0091552734375, 343.6236267089844, 89.72742462158203, 123.17448425292969, 34.187347412109375, 25.12337875366211, 24.8946533203125, 75.25724029541016, 21.19525909423828, 20.6618709564209, 584.7059936523438, 224.39657592773438, 190.9115753173828, 132.51858520507812, 106.6936264038086, 98.52375793457031, 66.22640991210938, 46.631954193115234, 37.27193069458008, 33.21311569213867, 27.297351837158203, 26.020578384399414, 25.257686614990234, 24.011924743652344, 22.978517532348633, 22.052778244018555, 19.503686904907227, 19.321260452270508, 18.312564849853516, 16.434200286865234, 16.29816436767578, 16.029048919677734, 15.943455696105957, 15.685043334960938, 13.648670196533203, 13.054137229919434, 12.714245796203613, 12.688202857971191, 12.366134643554688, 11.721047401428223, 97.41375732421875, 101.36576843261719, 41.55915069580078, 85.0284652709961, 65.08872985839844, 26.388181686401367, 39.17793655395508, 25.306901931762695, 20.3364315032959, 19.472742080688477, 1476.455322265625, 133.65110778808594, 56.585941314697266, 49.06001663208008, 36.18048095703125, 35.91679382324219, 35.06452560424805, 31.23748016357422, 28.982807159423828, 19.89011573791504, 19.498929977416992, 18.87099838256836, 18.1561222076416, 15.524921417236328, 15.278375625610352, 15.028702735900879, 14.469195365905762, 14.305740356445312, 14.26063060760498, 13.874497413635254, 13.57363224029541, 67.10155487060547, 12.22309398651123, 11.714269638061523, 11.461057662963867, 11.307674407958984, 10.981658935546875, 10.282974243164062, 10.027350425720215, 9.78626537322998, 43.0626106262207, 59.661746978759766, 42.93931579589844, 34.21375274658203, 38.06957244873047, 27.967435836791992, 16.606220245361328, 17.386934280395508, 20.1276912689209, 14.229341506958008], \"Term\": [\"phone\", \"camera\", \"battery\", \"product\", \"mobile\", \"note\", \"price\", \"quality\", \"problem\", \"money\", \"k8\", \"feature\", \"issue\", \"screen\", \"device\", \"amazon\", \"call\", \"service\", \"speaker\", \"performance\", \"backup\", \"range\", \"hour\", \"charger\", \"sim\", \"lenovo\", \"software\", \"heat\", \"update\", \"network\", \"excellent\", \"connectivity\", \"wifi\", \"year\", \"suggestion\", \"hanging\", \"future\", \"motorola\", \"hotspot\", \"top\", \"yesterday\", \".i\", \"kind\", \".but\", \"comparison\", \"place\", \"detail\", \"tray\", \"people\", \"right\", \"processer\", \"start\", \"smart\", \"phon\", \"claim\", \"loss\", \"mistake\", \"comment\", \"temperature\", \"casting\", \"hang\", \"problem\", \"phone\", \"network\", \"heating\", \"issue\", \"brand\", \"lot\", \"week\", \"month\", \"connection\", \"minute\", \"review\", \"rating\", \"signal\", \"configuration\", \"time\", \"budget\", \"internet\", \"game\", \"lenovo\", \"day\", \"use\", \"please\", \"star\", \"data\", \"min\", \"update\", \"camera\", \"processor\", \"depth\", \"picture\", \"front\", \"image\", \"effect\", \"flash\", \"core\", \"mp\", \"pic\", \"average\", \"gaming\", \"deca\", \"color\", \"rear\", \"improvement\", \"clarity\", \"lover\", \"graphic\", \"bokeh\", \"zoom\", \".it\", \"fix\", \"lenova\", \"rom\", \"nd\", \"k8note\", \".and\", \"setup\", \"quality\", \"performance\", \"photo\", \"lag\", \"mode\", \"stock\", \"android\", \"speed\", \"look\", \"light\", \"phone\", \"display\", \"battery\", \"sound\", \"ram\", \"feature\", \"game\", \"everything\", \"hour\", \"charger\", \"drain\", \"charging\", \"turbo\", \"mah\", \"awesome\", \"cell\", \"nice\", \"weight\", \"drainage\", \"focus\", \"morning\", \"max\", \"mob\", \"mobile..\", \"iron\", \"test\", \"guess\", \"copy\", \"backup\", \"clearity\", \"charge\", \"bt\", \"mine\", \"okay\", \"wow\", \"bhai\", \"cameragood\", \"fb\", \"battery\", \"life\", \"mark\", \"waste\", \"file\", \"day\", \"use\", \"usage\", \"heat\", \"time\", \"min\", \"problem\", \"performance\", \"issue\", \"heating\", \"bit\", \"month\", \"power\", \"phone\", \"experience\", \"note\", \"k8\", \"screen\", \"glass\", \"key\", \"killer\", \"gorilla\", \"k4\", \"cover\", \"today\", \"player\", \"shot\", \"tv\", \"get\", \"reception\", \"change\", \"vibe\", \"accessory\", \"scratch\", \"i.e\", \"discharge\", \"home\", \"damage\", \"icon\", \"office\", \"pocket\", \"guard\", \"access\", \"benefit\", \"crack\", \"hand\", \"gallery\", \"side\", \"way\", \"r\", \"lenovo\", \"music\", \"button\", \"pls\", \"feature\", \"option\", \"day\", \"display\", \"etc\", \"quality\", \"phone\", \"video\", \"android\", \"call\", \"handset\", \"hr\", \"voice\", \"message\", \"mi\", \"application\", \"recording\", \"recorder\", \"auto\", \"level\", \"party\", \"bar\", \"capacity\", \"lte\", \"setting\", \"whatsapp\", \"fine\", \"ringtone\", \"hope\", \"default\", \"ki\", \"percent\", \"half\", \"jata\", \"bahut\", \"saver\", \"lenevo\", \"hota\", \"a1\", \"apps\", \"app\", \"volume\", \"option\", \"contact\", \"notification\", \"hi\", \"person\", \"data\", \"help\", \"nothing\", \"time\", \"software\", \"mode\", \"work\", \"issue\", \"system\", \"thing\", \"update\", \"lenovo\", \"speed\", \"product\", \"amazon\", \"delivery\", \"return\", \"h\", \"piece\", \"refund\", \"policy\", \"hai\", \"bhi\", \"complaint\", \"build\", \"ye\", \"ko\", \"invoice\", \"se\", \"tha\", \"thank\", \"rha\", \"ke\", \"description\", \"din\", \"mera\", \"tone\", \"koi\", \"k3\", \"chor\", \"gaya\", \"hone\", \"thik\", \"ho\", \"date\", \"replacement\", \"thanks\", \"information\", \"customer\", \"exchange\", \"response\", \"support\", \"experience\", \"rate\", \"service\", \"till\", \"care\", \"company\", \"lenovo\", \"star\", \"waste\", \"time\", \"day\", \"team\", \"device\", \"cast\", \"center\", \"phone..\", \"version\", \"centre\", \"warranty\", \"oreo\", \"headset\", \"head\", \"something\", \"seller\", \"standby\", \"drop\", \"it..\", \"bekar\", \"love\", \"cool\", \"gold\", \"atom\", \"repair\", \"phone.it\", \"patch\", \"break\", \"reset\", \"question\", \"requirement\", \"menu\", \"ota\", \"feedback\", \"software\", \"service\", \"system\", \"update\", \"need\", \"solution\", \"care\", \"customer\", \"month\", \"guy\", \"lenovo\", \"touch\", \"day\", \"purchase\", \"user\", \"replacement\", \"price\", \"range\", \"earphone\", \"worth\", \"offer\", \"wise\", \"buying\", \"space\", \"raha\", \"nahi\", \"switch\", \"coverage\", \"pin\", \"toh\", \"beast\", \"good..\", \"india\", \"apne\", \"manufacturing\", \"forum\", \"packaging\", \"manufacturer\", \"prize\", \"atmos\", \"bada\", \"port\", \"band\", \".great\", \"pubg\", \"page\", \"everything\", \"bluetooth\", \"dolby\", \"class\", \"ka\", \"function\", \"defect\", \"purchase\", \"jack\", \"phone\", \"sale\", \"restart\", \"feature\", \"one\", \"mark\", \"work\", \"speaker\", \"sensor\", \"headphone\", \"ok\", \"moto\", \"fingerprint\", \"finger\", \"gud\", \"print\", \"body\", \"complain\", \"k6\", \"others\", \"net\", \"size\", \"working\", \"face\", \"china\", \"stop\", \"buyer\", \"batter\", \"colour\", \"protection\", \"second\", \"sm\", \"ph\", \"motion\", \"category\", \"g5s\", \"bhut\", \"model\", \"sound\", \"design\", \"video\", \"light\", \"management\", \"power\", \"number\", \"ui\", \"music\", \"ram\", \"sim\", \"card\", \"jio\", \"volta\", \"memory\", \"slot\", \"set\", \"selfie\", \"bill\", \"mail\", \"good\", \"fone\", \"v\", \"back\", \"fall\", \"caller\", \"bed\", \"manager\", \"sims\", \"sd\", \"control\", \"hv\", \"gesture\", \"flashlight\", \"id\", \"pixel\", \"tag\", \"penny\", \"handsfree\", \"le\", \"condition\", \"list\", \"heat\", \"feature\", \"bit\", \"display\", \"cam\", \"order\", \"n\", \"network\", \"hd\", \"google\", \"money\", \"value\", \"superb\", \"smartphone\", \"specification\", \"super\", \"fast\", \"k5\", \"processing\", \"hell\", \"difference\", \"pc\", \"doesnt\", \"record\", \"disappointment\", \"job\", \"bettery\", \"wastage\", \"product..\", \"mast\", \"features..\", \"wire\", \"spent\", \"rupee\", \"mobail\", \"\\ud83d\\udc4d\", \"round\", \"variant\", \"problem..\", \"..camera\", \"gb\", \"buy\", \"resolution\", \"ram\", \"work\", \"storage\", \"please\", \"dont\", \"r\", \"speed\", \"mobile\", \"box\", \"cable\", \"facility\", \"phn\", \"deal\", \"concern\", \"word\", \"mind\", \"packing\", \"perfect\", \"..it\", \"money..\", \"flipkart\", \"g\", \"usb\", \"pr\", \"limit\", \"smooth\", \"department\", \"technology\", \"item\", \"gya\", \"group\", \".camera\", \"pad\", \"blowing\", \"website\", \"turbocharger\", \"awsome\", \"plz\", \"expectation\", \"bug\", \"k\", \"cost\", \"hardware\", \"series\", \"functionality\", \"bit\", \"site\"], \"Total\": [6927.0, 3166.0, 3067.0, 2059.0, 1477.0, 1202.0, 918.0, 1369.0, 1499.0, 585.0, 629.0, 839.0, 1413.0, 584.0, 456.0, 521.0, 520.0, 507.0, 377.0, 863.0, 585.0, 355.0, 463.0, 455.0, 269.0, 909.0, 345.0, 348.0, 412.0, 551.0, 91.12554931640625, 84.44817352294922, 77.69221496582031, 67.98353576660156, 45.92218780517578, 42.86589050292969, 41.14805221557617, 38.3177375793457, 37.142112731933594, 34.345252990722656, 33.37076187133789, 30.645349502563477, 29.77111053466797, 28.244977951049805, 26.809810638427734, 26.627864837646484, 26.07578468322754, 25.143522262573242, 93.12843322753906, 23.477527618408203, 23.305002212524414, 23.29459571838379, 22.64824676513672, 22.592899322509766, 22.04941177368164, 20.90390968322754, 20.665498733520508, 20.438751220703125, 20.41354751586914, 19.526268005371094, 136.75877380371094, 1499.7808837890625, 6927.169921875, 551.2138061523438, 576.181396484375, 1413.453125, 86.44652557373047, 293.0326232910156, 127.82179260253906, 497.4682312011719, 68.88545227050781, 97.84407806396484, 186.8764190673828, 54.039825439453125, 100.91829681396484, 43.261497497558594, 953.45947265625, 187.10836791992188, 106.40411376953125, 199.19459533691406, 909.5322875976562, 919.7686767578125, 298.20953369140625, 189.11973571777344, 151.5662078857422, 187.48907470703125, 118.35334777832031, 412.77484130859375, 3166.736572265625, 307.99261474609375, 171.67845153808594, 169.82566833496094, 132.0846405029297, 127.09956359863281, 116.19390869140625, 109.45109558105469, 108.03225708007812, 99.8492660522461, 74.23843383789062, 69.73075103759766, 61.71268844604492, 60.33210754394531, 59.993499755859375, 55.81119155883789, 45.82345962524414, 155.80674743652344, 38.25959014892578, 32.7761116027832, 30.987035751342773, 29.05592918395996, 26.96089744567871, 26.567331314086914, 26.09259796142578, 24.784250259399414, 23.024681091308594, 22.712234497070312, 21.677867889404297, 19.940813064575195, 1369.698974609375, 863.7442626953125, 181.2141571044922, 103.67493438720703, 367.2591857910156, 159.43710327148438, 170.76527404785156, 257.5661926269531, 156.73092651367188, 161.18350219726562, 6927.169921875, 348.11431884765625, 3067.1240234375, 335.94384765625, 210.2412567138672, 839.1568603515625, 199.19459533691406, 242.33062744140625, 463.837890625, 455.1322326660156, 220.95623779296875, 219.99462890625, 204.54034423828125, 122.06929016113281, 74.46236419677734, 66.23578643798828, 49.03165054321289, 48.88370895385742, 37.06406021118164, 34.0600700378418, 29.649456024169922, 27.56167984008789, 26.805343627929688, 25.544618606567383, 20.957719802856445, 20.913686752319336, 19.9600830078125, 19.60896873474121, 585.1810302734375, 18.515287399291992, 307.83587646484375, 17.513343811035156, 15.375239372253418, 14.515839576721191, 14.343879699707031, 13.71108627319336, 12.645340919494629, 12.603340148925781, 3067.1240234375, 336.4326171875, 166.85508728027344, 272.1599426269531, 31.992013931274414, 919.7686767578125, 298.20953369140625, 215.8926239013672, 348.01275634765625, 953.45947265625, 118.35334777832031, 1499.7808837890625, 863.7442626953125, 1413.453125, 576.181396484375, 169.88137817382812, 497.4682312011719, 145.38348388671875, 6927.169921875, 252.526123046875, 1202.822265625, 629.0164184570312, 584.451171875, 199.38438415527344, 116.24129486083984, 111.4267349243164, 104.44337463378906, 80.50202941894531, 65.68492126464844, 64.69120788574219, 57.04179763793945, 51.47050094604492, 63.222904205322266, 46.91139602661133, 41.45772171020508, 39.55929946899414, 36.90227127075195, 35.81150817871094, 35.67581558227539, 33.763465881347656, 33.00374984741211, 27.88591766357422, 26.06400489807129, 25.954965591430664, 24.314558029174805, 23.493106842041016, 23.378339767456055, 20.825164794921875, 20.035337448120117, 19.48549461364746, 96.7641372680664, 121.1111068725586, 111.61986541748047, 75.53878021240234, 82.46835327148438, 909.5322875976562, 249.77499389648438, 122.1006851196289, 78.52841186523438, 839.1568603515625, 372.3016662597656, 919.7686767578125, 348.11431884765625, 80.64701080322266, 1369.698974609375, 6927.169921875, 239.18789672851562, 170.76527404785156, 520.26171875, 228.78665161132812, 212.65065002441406, 105.29263305664062, 99.049072265625, 84.91352081298828, 115.2116928100586, 69.41395568847656, 64.7585220336914, 63.821632385253906, 46.6642951965332, 46.64128494262695, 45.89970016479492, 45.35334014892578, 44.22071838378906, 43.858482360839844, 43.84968948364258, 42.82845687866211, 41.506771087646484, 41.207000732421875, 38.10587692260742, 36.91969299316406, 36.170143127441406, 36.07027053833008, 34.270751953125, 33.930419921875, 32.764163970947266, 30.279809951782227, 29.118677139282227, 28.76424789428711, 193.59429931640625, 227.93385314941406, 104.51445770263672, 372.3016662597656, 116.77642822265625, 119.35279846191406, 65.3702621459961, 60.77997589111328, 187.48907470703125, 59.37196350097656, 119.33523559570312, 953.45947265625, 345.5338439941406, 367.2591857910156, 209.70689392089844, 1413.453125, 185.74050903320312, 238.95803833007812, 412.77484130859375, 909.5322875976562, 257.5661926269531, 2059.73876953125, 521.9175415039062, 232.59559631347656, 178.04681396484375, 164.58729553222656, 110.89224243164062, 99.46897888183594, 93.07726287841797, 206.12045288085938, 48.634246826171875, 57.33267593383789, 35.69948959350586, 34.817691802978516, 34.73670959472656, 32.160240173339844, 31.495912551879883, 30.53807258605957, 29.656888961791992, 25.88620376586914, 25.2523136138916, 22.47641944885254, 20.87496566772461, 19.637975692749023, 19.539207458496094, 19.195104598999023, 19.19044303894043, 18.878643035888672, 18.292367935180664, 18.2718563079834, 17.9852352142334, 91.33345031738281, 64.45912170410156, 185.8426971435547, 103.23388671875, 25.326658248901367, 205.50466918945312, 37.74702835083008, 63.46136474609375, 158.8696746826172, 252.526123046875, 48.5595703125, 507.9311828613281, 94.61449432373047, 102.06192779541016, 126.97650909423828, 909.5322875976562, 151.5662078857422, 272.1599426269531, 953.45947265625, 919.7686767578125, 58.36063766479492, 456.25628662109375, 154.03744506835938, 150.6227569580078, 97.07823944091797, 92.31665802001953, 88.77779388427734, 72.94186401367188, 55.28630828857422, 54.8355827331543, 43.60178756713867, 36.31333923339844, 35.439022064208984, 34.59792709350586, 32.51230239868164, 31.15151023864746, 27.94441032409668, 27.37871742248535, 26.83160972595215, 22.10396385192871, 21.94623565673828, 20.26997184753418, 18.97217559814453, 18.624961853027344, 17.284690856933594, 16.074493408203125, 15.067286491394043, 14.939899444580078, 14.664135932922363, 13.942681312561035, 12.758061408996582, 345.5338439941406, 507.9311828613281, 185.74050903320312, 412.77484130859375, 110.88481903076172, 64.54071044921875, 102.06192779541016, 205.50466918945312, 497.4682312011719, 64.11776733398438, 909.5322875976562, 102.71434783935547, 919.7686767578125, 146.07699584960938, 136.13619995117188, 185.8426971435547, 918.2479248046875, 355.8294982910156, 113.25593566894531, 107.20769500732422, 51.315032958984375, 48.783077239990234, 45.06943130493164, 39.3744010925293, 33.13576889038086, 30.454999923706055, 29.655134201049805, 23.33488655090332, 22.619792938232422, 21.85463523864746, 20.714908599853516, 17.310474395751953, 14.892401695251465, 13.880107879638672, 13.65715217590332, 12.910320281982422, 10.99387264251709, 10.78855037689209, 10.765905380249023, 94.23802185058594, 9.783224105834961, 9.724122047424316, 9.44023609161377, 8.564765930175781, 8.476186752319336, 8.197541236877441, 242.33062744140625, 37.50338363647461, 158.90774536132812, 73.45499420166016, 34.46384811401367, 115.43336486816406, 39.557376861572266, 146.07699584960938, 46.905269622802734, 6927.169921875, 76.57414245605469, 31.590017318725586, 839.1568603515625, 61.21898651123047, 166.85508728027344, 209.70689392089844, 377.6681823730469, 157.71095275878906, 137.95713806152344, 92.10482788085938, 84.04383087158203, 77.64654541015625, 53.782005310058594, 53.57973098754883, 52.082454681396484, 49.81341552734375, 39.97063064575195, 38.04031753540039, 37.737335205078125, 34.78815841674805, 34.144962310791016, 33.28422546386719, 31.4486026763916, 28.499467849731445, 26.469892501831055, 26.23208999633789, 25.799205780029297, 25.605445861816406, 25.220420837402344, 23.215444564819336, 22.917383193969727, 22.707590103149414, 22.273439407348633, 21.764747619628906, 21.279329299926758, 20.11096954345703, 143.24037170410156, 335.94384765625, 74.43814086914062, 239.18789672851562, 161.18350219726562, 56.766353607177734, 145.38348388671875, 70.0821762084961, 37.07508087158203, 249.77499389648438, 210.2412567138672, 269.6637268066406, 145.0780029296875, 142.33648681640625, 130.084228515625, 117.24119567871094, 97.0093765258789, 89.84810638427734, 64.49784088134766, 58.64569091796875, 34.455631256103516, 31.418500900268555, 29.615917205810547, 29.43949317932129, 29.090681076049805, 28.054025650024414, 27.10767364501953, 22.442846298217773, 19.743267059326172, 24.17334747314453, 18.008676528930664, 17.197195053100586, 16.267593383789062, 15.431577682495117, 15.410197257995605, 14.878877639770508, 14.258342742919922, 14.151025772094727, 12.454686164855957, 11.660248756408691, 10.890251159667969, 91.0694808959961, 24.53525161743164, 348.01275634765625, 839.1568603515625, 169.88137817382812, 348.11431884765625, 73.32904815673828, 45.511295318603516, 47.0479621887207, 551.2138061523438, 36.727622985839844, 58.0066032409668, 585.6409301757812, 225.3314971923828, 191.84649658203125, 133.45350646972656, 107.62854766845703, 99.45867156982422, 67.16133117675781, 47.566890716552734, 38.20685577392578, 34.148048400878906, 28.232288360595703, 26.95550537109375, 26.192609786987305, 24.94686508178711, 23.91346549987793, 22.98771095275879, 20.43860626220703, 20.256187438964844, 19.247480392456055, 17.369117736816406, 17.233083724975586, 16.963973999023438, 16.878381729125977, 16.619976043701172, 14.583587646484375, 13.989063262939453, 13.649190902709961, 13.62313461303711, 13.301053047180176, 12.655970573425293, 106.5613784790039, 142.23854064941406, 58.022403717041016, 210.2412567138672, 209.70689392089844, 55.778690338134766, 189.11973571777344, 62.99650192260742, 82.46835327148438, 257.5661926269531, 1477.394775390625, 134.59056091308594, 57.525390625, 50.02101516723633, 37.11993408203125, 36.85625457763672, 36.00400161743164, 32.17694854736328, 29.922266006469727, 20.829572677612305, 20.43837547302246, 19.81045913696289, 19.095579147338867, 16.464384078979492, 16.217849731445312, 15.968226432800293, 15.408674240112305, 15.245241165161133, 15.20008373260498, 14.813959121704102, 14.513080596923828, 72.03587341308594, 13.16258430480957, 12.653743743896484, 12.40050983428955, 12.247178077697754, 11.921102523803711, 11.222432136535645, 10.966801643371582, 10.725704193115234, 59.9893798828125, 126.30995178222656, 84.10348510742188, 67.82470703125, 84.18055725097656, 56.22819900512695, 23.839603424072266, 32.47113800048828, 169.88137817382812, 28.258586883544922], \"loglift\": [30.0, 29.0, 28.0, 27.0, 26.0, 25.0, 24.0, 23.0, 22.0, 21.0, 20.0, 19.0, 18.0, 17.0, 16.0, 15.0, 14.0, 13.0, 12.0, 11.0, 10.0, 9.0, 8.0, 7.0, 6.0, 5.0, 4.0, 3.0, 2.0, 1.0, 1.7582000494003296, 1.7574000358581543, 1.7563999891281128, 1.754699945449829, 1.7480000257492065, 1.7460999488830566, 1.7455999851226807, 1.7438000440597534, 1.7431000471115112, 1.7409000396728516, 1.7401000261306763, 1.7375999689102173, 1.7366000413894653, 1.7348999977111816, 1.7331000566482544, 1.732800006866455, 1.7319999933242798, 1.7307000160217285, 1.7305999994277954, 1.7279000282287598, 1.7275999784469604, 1.7275999784469604, 1.7264000177383423, 1.7263000011444092, 1.7252000570297241, 1.7228000164031982, 1.7223000526428223, 1.7216999530792236, 1.7216999530792236, 1.719499945640564, 1.69350004196167, 1.5688999891281128, 1.4521000385284424, 1.541700005531311, 1.5305999517440796, 1.472599983215332, 1.5875999927520752, 1.4362000226974487, 1.5355000495910645, 1.3349000215530396, 1.590399980545044, 1.5413000583648682, 1.4140000343322754, 1.6061999797821045, 1.4740999937057495, 1.6225999593734741, 0.7245000004768372, 1.1303000450134277, 1.2879999876022339, 0.9897000193595886, 0.3188999891281128, 0.2337000072002411, 0.7317000031471252, 0.8522999882698059, 0.9648000001907349, 0.7824000120162964, 1.0356999635696411, 0.08030000329017639, 1.8459999561309814, 1.8431999683380127, 1.8408000469207764, 1.8408000469207764, 1.8392000198364258, 1.8388999700546265, 1.8381999731063843, 1.8377000093460083, 1.8375999927520752, 1.836899995803833, 1.8336000442504883, 1.832800030708313, 1.8309999704360962, 1.8307000398635864, 1.8306000232696533, 1.8293999433517456, 1.825700044631958, 1.8222999572753906, 1.8214999437332153, 1.8172999620437622, 1.815600037574768, 1.813599944114685, 1.8109999895095825, 1.8105000257492065, 1.8098000288009644, 1.807800054550171, 1.804800033569336, 1.8042000532150269, 1.8021999597549438, 1.79830002784729, 1.7619999647140503, 1.5918999910354614, 1.660599946975708, 1.6985000371932983, 1.4746999740600586, 1.5256999731063843, 1.5013999938964844, 1.4275000095367432, 1.388800024986267, 1.3213000297546387, 0.00019999999494757503, 0.9463000297546387, 0.025200000032782555, 0.8639000058174133, 1.0642999410629272, -0.0966000035405159, 0.8801000118255615, 0.6489999890327454, 2.131700038909912, 2.131700038909912, 2.129499912261963, 2.129499912261963, 2.129199981689453, 2.1261000633239746, 2.1210999488830566, 2.119499921798706, 2.114500045776367, 2.114500045776367, 2.1082000732421875, 2.1059000492095947, 2.1017000675201416, 2.099299907684326, 2.098299980163574, 2.0964999198913574, 2.088200092315674, 2.088099956512451, 2.0857999324798584, 2.0850000381469727, 2.082900047302246, 2.0820000171661377, 2.0813000202178955, 2.0789999961853027, 2.0710999965667725, 2.0673000812530518, 2.0664000511169434, 2.063199996948242, 2.056999921798706, 2.05679988861084, 1.9567999839782715, 1.9753999710083008, 1.9883999824523926, 1.8473000526428223, 2.004699945449829, 1.4492000341415405, 1.5671000480651855, 1.5678000450134277, 1.4240000247955322, 1.0219000577926636, 1.464900016784668, 0.4212000072002411, 0.6358000040054321, 0.390500009059906, 0.5741999745368958, 1.0805000066757202, 0.40950000286102295, 0.9038000106811523, -2.4502999782562256, 0.4047999978065491, 2.3438000679016113, 2.343100070953369, 2.3429999351501465, 2.339900016784668, 2.3364999294281006, 2.336199998855591, 2.335599899291992, 2.332900047302246, 2.3303000926971436, 2.3301000595092773, 2.3280999660491943, 2.3262999057769775, 2.324700117111206, 2.322200059890747, 2.321899890899658, 2.3208000659942627, 2.3190999031066895, 2.3183000087738037, 2.31820011138916, 2.3166000843048096, 2.315999984741211, 2.310699939727783, 2.308300018310547, 2.3080999851226807, 2.3055999279022217, 2.3041999340057373, 2.303999900817871, 2.2988998889923096, 2.297100067138672, 2.2957000732421875, 2.1816999912261963, 2.09660005569458, 2.103100061416626, 2.084199905395508, 2.0476999282836914, 1.4782999753952026, 1.7675000429153442, 1.9072999954223633, 1.926900029182434, 0.9990000128746033, 1.0188000202178955, 0.34310001134872437, 0.9064000248908997, 1.805899977684021, -0.1785999983549118, -1.617300033569336, 0.9605000019073486, 1.0952999591827393, 2.4054999351501465, 2.4031999111175537, 2.402899980545044, 2.398400068283081, 2.397900104522705, 2.3963000774383545, 2.3961000442504883, 2.3938000202178955, 2.392899990081787, 2.3926000595092773, 2.387200117111206, 2.387200117111206, 2.386899948120117, 2.3866000175476074, 2.3861000537872314, 2.3859000205993652, 2.3859000205993652, 2.3854000568389893, 2.384700059890747, 2.384500026702881, 2.3826000690460205, 2.3817999362945557, 2.3812999725341797, 2.381200075149536, 2.3798000812530518, 2.379499912261963, 2.378499984741211, 2.3761000633239746, 2.3749001026153564, 2.374500036239624, 2.2802999019622803, 2.2685999870300293, 2.2832999229431152, 2.0954999923706055, 2.20770001411438, 2.1735000610351562, 2.254300117492676, 2.200000047683716, 1.7826000452041626, 2.176300048828125, 1.8102999925613403, 0.5631999969482422, 1.0240999460220337, 0.8454999923706055, 1.2188999652862549, -0.26159998774528503, 1.2926000356674194, 1.0299999713897705, 0.46869999170303345, -0.2842999994754791, 0.8345999717712402, 2.410599946975708, 2.4091999530792236, 2.4070000648498535, 2.4058001041412354, 2.4052999019622803, 2.4024999141693115, 2.401599884033203, 2.400899887084961, 2.395400047302246, 2.3914999961853027, 2.3879001140594482, 2.3842999935150146, 2.383699893951416, 2.3835999965667725, 2.3814001083374023, 2.3808000087738037, 2.3798000812530518, 2.3789000511169434, 2.3740999698638916, 2.3731000423431396, 2.368299961090088, 2.365000009536743, 2.361999988555908, 2.361799955368042, 2.3608999252319336, 2.36080002784729, 2.359999895095825, 2.358299970626831, 2.358299970626831, 2.3573999404907227, 2.3225998878479004, 2.273099899291992, 2.1881000995635986, 2.2151999473571777, 2.323199987411499, 1.9891999959945679, 2.2546000480651855, 2.1113998889923096, 1.8832999467849731, 1.732300043106079, 2.1103999614715576, 1.1402000188827515, 1.7720999717712402, 1.7259999513626099, 1.6116000413894653, 0.5412999987602234, 1.426200032234192, 1.0083999633789062, 0.094200000166893, -0.4823000133037567, 1.9285000562667847, 2.9219000339508057, 2.9179000854492188, 2.917799949645996, 2.914299964904785, 2.913800001144409, 2.9133999347686768, 2.911099910736084, 2.9070000648498535, 2.9068000316619873, 2.902400016784668, 2.8980000019073486, 2.8973000049591064, 2.896699905395508, 2.89490008354187, 2.8935999870300293, 2.8901000022888184, 2.889400005340576, 2.888700008392334, 2.8808999061584473, 2.8805999755859375, 2.877000093460083, 2.873699903488159, 2.8726999759674072, 2.8685998916625977, 2.864300012588501, 2.8601999282836914, 2.859600067138672, 2.8584001064300537, 2.8548998832702637, 2.8482000827789307, 2.6284000873565674, 2.5922999382019043, 2.519700050354004, 2.3696999549865723, 2.2567999362945557, 2.3710999488830566, 2.2044999599456787, 1.8451999425888062, 1.1586999893188477, 2.2276999950408936, 0.695900022983551, 1.8890999555587769, 0.40610000491142273, 1.625100016593933, 1.6657999753952026, 1.2138999700546265, 2.944999933242798, 2.9433999061584473, 2.937700033187866, 2.937299966812134, 2.9275999069213867, 2.9267001152038574, 2.925100088119507, 2.921999931335449, 2.9173998832702637, 2.914900064468384, 2.9140000343322754, 2.9052000045776367, 2.9038000106811523, 2.9022998809814453, 2.899899959564209, 2.890500068664551, 2.881200075149536, 2.876300096511841, 2.875200033187866, 2.8708999156951904, 2.8571999073028564, 2.8554999828338623, 2.855299949645996, 2.8505001068115234, 2.8457000255584717, 2.8450000286102295, 2.8417999744415283, 2.8304998874664307, 2.8292999267578125, 2.825000047683716, 2.581399917602539, 2.714400053024292, 2.563999891281128, 2.5445001125335693, 2.588900089263916, 2.289599895477295, 2.518199920654297, 2.1582000255584717, 2.4319000244140625, 0.42179998755455017, 2.1191000938415527, 2.4983999729156494, 0.9355999827384949, 2.1633999347686768, 0.9071999788284302, 0.6707000136375427, 3.084399938583374, 3.080899953842163, 3.0801000595092773, 3.07669997215271, 3.075700044631958, 3.0748000144958496, 3.0694000720977783, 3.0692999362945557, 3.0687999725341797, 3.068000078201294, 3.0632998943328857, 3.0620999336242676, 3.061800003051758, 3.0597000122070312, 3.0592000484466553, 3.058500051498413, 3.05679988861084, 3.0536000728607178, 3.0510001182556152, 3.0506999492645264, 3.050100088119507, 3.049799919128418, 3.0492000579833984, 3.0459001064300537, 3.0453999042510986, 3.0450000762939453, 3.0441999435424805, 3.043100118637085, 3.042099952697754, 3.0394999980926514, 2.9581000804901123, 2.3331000804901123, 2.669300079345703, 2.2701001167297363, 2.178499937057495, 2.5494000911712646, 1.9036999940872192, 2.2704999446868896, 2.7177999019622803, 0.9708999991416931, 1.079200029373169, 3.140199899673462, 3.137200117111206, 3.13700008392334, 3.136399984359741, 3.1356000900268555, 3.134000062942505, 3.13319993019104, 3.128999948501587, 3.1275999546051025, 3.1161000728607178, 3.1133999824523926, 3.1115000247955322, 3.111299991607666, 3.1108999252319336, 3.1096999645233154, 3.1085000038146973, 3.1010000705718994, 3.0950000286102295, 3.0947000980377197, 3.0901999473571777, 3.087599992752075, 3.0843000411987305, 3.0810000896453857, 3.080899953842163, 3.0785999298095703, 3.075700044631958, 3.075200080871582, 3.065500020980835, 3.0599000453948975, 3.0536999702453613, 2.9686999320983887, 2.958400011062622, 2.4619998931884766, 2.2507998943328857, 2.5053000450134277, 2.1047000885009766, 2.3805999755859375, 2.549499988555908, 2.5071001052856445, 1.152500033378601, 2.593899965286255, 2.1113998889923096, 3.180500030517578, 3.177999973297119, 3.177299976348877, 3.175100088119507, 3.1733999252319336, 3.1726999282836914, 3.168100118637085, 3.1623001098632812, 3.157399892807007, 3.154400110244751, 3.1484999656677246, 3.1468000411987305, 3.1458001136779785, 3.143899917602539, 3.1422998905181885, 3.1405999660491943, 3.1352999210357666, 3.1349000930786133, 3.1322999000549316, 3.126800060272217, 3.1263999938964844, 3.125499963760376, 3.125200033187866, 3.1242001056671143, 3.1159000396728516, 3.11299991607666, 3.1112000942230225, 3.1110000610351562, 3.109299898147583, 3.1054000854492188, 3.092400074005127, 2.843400001525879, 2.848400115966797, 2.276900053024292, 2.012200117111206, 2.4337000846862793, 1.6079000234603882, 2.2701001167297363, 1.782099962234497, 0.5999000072479248, 3.193700075149536, 3.1874001026153564, 3.1779000759124756, 3.174999952316284, 3.1686999797821045, 3.168600082397461, 3.1679000854492188, 3.1647000312805176, 3.1624999046325684, 3.148200035095215, 3.1473000049591064, 3.1458001136779785, 3.143899917602539, 3.1356000900268555, 3.134700059890747, 3.133699893951416, 3.131500005722046, 3.1308000087738037, 3.1305999755859375, 3.1289000511169434, 3.127500057220459, 3.1233999729156494, 3.120300054550171, 3.1171998977661133, 3.115600109100342, 3.1145999431610107, 3.112299919128418, 3.1068999767303467, 3.10479998588562, 3.1026999950408936, 2.8629000186920166, 2.4442999362945557, 2.5220999717712402, 2.5100998878479004, 2.4007999897003174, 2.496000051498413, 2.8327999114990234, 2.569700002670288, 1.061400055885315, 2.5083000659942627], \"logprob\": [30.0, 29.0, 28.0, 27.0, 26.0, 25.0, 24.0, 23.0, 22.0, 21.0, 20.0, 19.0, 18.0, 17.0, 16.0, 15.0, 14.0, 13.0, 12.0, 11.0, 10.0, 9.0, 8.0, 7.0, 6.0, 5.0, 4.0, 3.0, 2.0, 1.0, -5.100900173187256, -5.177800178527832, -5.262199878692627, -5.39739990234375, -5.796500205993652, -5.867199897766113, -5.908599853515625, -5.981599807739258, -6.013599872589111, -6.093999862670898, -6.123600006103516, -6.211299896240234, -6.241199970245361, -6.295599937438965, -6.349599838256836, -6.356599807739258, -6.378300189971924, -6.416100025177002, -5.106800079345703, -6.487400054931641, -6.495100021362305, -6.49560022354126, -6.524899959564209, -6.527500152587891, -6.5528998374938965, -6.608699798583984, -6.620699882507324, -6.632199764251709, -6.633500099182129, -6.680099964141846, -4.7596001625061035, -2.4893999099731445, -1.0760999917984009, -3.5174999237060547, -3.484299898147583, -2.6449999809265137, -5.32420015335083, -4.254899978637695, -4.985300064086914, -3.826900005340576, -5.548500061035156, -5.246699810028076, -4.726900100708008, -5.7754998207092285, -5.2829999923706055, -5.981500148773193, -3.786799907684326, -5.009399890899658, -5.416100025177002, -5.087399959564209, -4.239500045776367, -4.313600063323975, -4.94189977645874, -5.276700019836426, -5.3856000900268555, -5.355299949645996, -5.561999797821045, -5.268199920654297, -1.465000033378601, -3.798099994659424, -4.384900093078613, -4.395899772644043, -4.648799896240234, -4.6875, -4.777900218963623, -4.838200092315674, -4.851399898529053, -4.9309000968933105, -5.230500221252441, -5.294000148773193, -5.417900085449219, -5.440899848937988, -5.446599960327148, -5.519999980926514, -5.720900058746338, -4.500500202178955, -5.9054999351501465, -6.064300060272217, -6.122200012207031, -6.188600063323975, -6.265999794006348, -6.281300067901611, -6.299900054931641, -6.353400230407715, -6.429999828338623, -6.444200038909912, -6.4928998947143555, -6.580399990081787, -2.38700008392334, -3.018199920654297, -4.511199951171875, -5.031700134277344, -3.990600109100342, -4.77400016784668, -4.729700088500977, -4.3927001953125, -4.927999973297119, -4.967599868774414, -2.5280001163482666, -4.572500228881836, -3.317699909210205, -4.690499782562256, -4.958799839019775, -4.735499858856201, -5.197000026702881, -5.232100009918213, -3.100100040435791, -3.1191000938415527, -3.843899965286255, -3.848299980163574, -3.9214999675750732, -4.440700054168701, -4.940000057220459, -5.058599948883057, -5.3643999099731445, -5.367499828338623, -5.6504998207092285, -5.737299919128418, -5.880199909210205, -5.955699920654297, -5.984499931335449, -6.0345001220703125, -6.240699768066406, -6.2428998947143555, -6.291800022125244, -6.310400009155273, -2.9165000915527344, -6.370800018310547, -3.560499906539917, -6.429500102996826, -6.567500114440918, -6.628900051116943, -6.641600131988525, -6.690000057220459, -6.777100086212158, -6.780600070953369, -1.3860000371932983, -3.5776000022888184, -4.265900135040283, -3.9177000522613525, -5.901199817657471, -3.098099946975708, -4.106500148773193, -4.428800106048584, -4.095099925994873, -3.4893999099731445, -5.132900238037109, -3.6370999813079834, -3.974299907684326, -3.727099895477295, -4.440800189971924, -5.155799865722656, -4.752299785614014, -5.48829984664917, -4.978499889373779, -5.434999942779541, -1.9351999759674072, -2.5841000080108643, -2.6577000617980957, -3.736299991607666, -4.279200077056885, -4.321800231933594, -4.3871002197265625, -4.650199890136719, -4.856200218200684, -4.871699810028076, -4.999499797821045, -5.104000091552734, -4.900000095367432, -5.200900077819824, -5.32480001449585, -5.372799873352051, -5.4440999031066895, -5.474800109863281, -5.478700160980225, -5.535399913787842, -5.558800220489502, -5.732600212097168, -5.802599906921387, -5.8069000244140625, -5.87470006942749, -5.9105000495910645, -5.915599822998047, -6.036300182342529, -6.0767998695373535, -6.105999946594238, -4.617400169372559, -4.478000164031982, -4.553199768066406, -4.962500095367432, -4.911300182342529, -3.080199956893921, -4.0833001136779785, -4.659299850463867, -5.081099987030029, -3.640000104904175, -4.4328999519348145, -4.204100131988525, -4.612400054931641, -5.1753997802734375, -4.327600002288818, -4.145500183105469, -4.933700084686279, -5.135799884796143, -2.7114999294281006, -3.535399913787842, -3.608799934387207, -4.316199779510498, -4.377900123596191, -4.533400058746338, -4.228499889373779, -4.737500190734863, -4.8078999519348145, -4.822700023651123, -5.141200065612793, -5.14169979095459, -5.158100128173828, -5.170300006866455, -5.196100234985352, -5.204500198364258, -5.204699993133545, -5.228799819946289, -5.260900020599365, -5.2683000564575195, -5.348400115966797, -5.380799770355225, -5.401899814605713, -5.404699802398682, -5.457300186157227, -5.46750020980835, -5.503499984741211, -5.584799766540527, -5.625100135803223, -5.637800216674805, -3.8252999782562256, -3.6737000942230225, -4.438799858093262, -3.3561999797821045, -4.40339994430542, -4.415800094604492, -4.936999797821045, -5.0640997886657715, -4.355100154876709, -5.111299991607666, -4.779200077056885, -3.9481000900268555, -4.502200126647949, -4.619900226593018, -4.80679988861084, -4.379199981689453, -4.854400157928467, -4.865099906921387, -4.879799842834473, -4.842700004577637, -4.985499858856201, -1.3305000066757202, -2.7046000957489014, -3.5151000022888184, -3.783600091934204, -3.862600088119507, -4.260300159454346, -4.369999885559082, -4.437099933624268, -3.647599935531616, -5.0954999923706055, -4.934599876403809, -5.4120001792907715, -5.437600135803223, -5.440000057220459, -5.5192999839782715, -5.540800094604492, -5.5725998878479, -5.602799892425537, -5.743599891662598, -5.7692999839782715, -5.890600204467773, -5.967800140380859, -6.031899929046631, -6.037199974060059, -6.0559000968933105, -6.056099891662598, -6.073400020599365, -6.106599807739258, -6.107800006866455, -6.1244001388549805, -4.534299850463867, -4.932300090789795, -3.958400011062622, -4.519199848175049, -5.816400051116943, -4.056700229644775, -5.485899925231934, -5.109600067138672, -4.420000076293945, -4.107600212097168, -5.378200054168701, -4.000899791717529, -5.049499988555908, -5.019800186157227, -4.915800094604492, -4.017199993133545, -4.924200057983398, -4.7565999031066895, -4.417099952697754, -5.029600143432617, -5.376299858093262, -2.3264000415802, -3.416300058364868, -3.438800096511841, -3.881500005722046, -3.932300090789795, -3.9718000888824463, -4.170599937438965, -4.451900005340576, -4.46019983291626, -4.693900108337402, -4.881199836730957, -4.906199932098389, -4.9309000968933105, -4.994800090789795, -5.038899898529053, -5.151100158691406, -5.1722002029418945, -5.1930999755859375, -5.394700050354004, -5.402200222015381, -5.485300064086914, -5.554800033569336, -5.57420015335083, -5.6529998779296875, -5.729800224304199, -5.798699855804443, -5.807700157165527, -5.827600002288818, -5.8815999031066895, -5.9770002365112305, -2.897900104522705, -2.5487000942230225, -3.6273999214172363, -2.978800058364868, -4.406099796295166, -4.833000183105469, -4.541299819946289, -4.200699806213379, -4.0030999183654785, -4.982999801635742, -3.862499952316284, -4.850299835205078, -4.141200065612793, -4.762199878692627, -4.791999816894531, -4.932600021362305, -1.6038999557495117, -2.5536000728607178, -3.7039999961853027, -3.759399890899658, -4.505799770355225, -4.557300090789795, -4.6381001472473145, -4.776299953460693, -4.953400135040283, -5.040299892425537, -5.067699909210205, -5.316299915313721, -5.348700046539307, -5.3846001625061035, -5.440700054168701, -5.629499912261963, -5.789299964904785, -5.86460018157959, -5.881999969482422, -5.942399978637695, -6.116799831390381, -6.137400150299072, -6.139699935913086, -3.975100040435791, -6.245100021362305, -6.251699924468994, -6.284599781036377, -6.393199920654297, -6.404900074005127, -6.442500114440918, -3.2997000217437744, -5.032599925994873, -3.7390999794006348, -4.530200004577637, -5.242599964141846, -4.333099842071533, -5.1753997802734375, -4.229100227355957, -5.091400146484375, -2.1064000129699707, -4.914000034332275, -5.420100212097168, -3.703399896621704, -5.093500137329102, -5.3470001220703125, -5.354899883270264, -2.3529999256134033, -3.2297000885009766, -3.3643999099731445, -3.7718000411987305, -3.8643999099731445, -3.944499969482422, -4.3171000480651855, -4.320899963378906, -4.349800109863281, -4.395100116729736, -4.619999885559082, -4.6707000732421875, -4.678899765014648, -4.762400150299072, -4.781599998474121, -4.807799816131592, -4.866199970245361, -4.967899799346924, -5.044300079345703, -5.053699970245361, -5.070899963378906, -5.078800201416016, -5.0945000648498535, -5.180600166320801, -5.1940999031066895, -5.203700065612793, -5.223800182342529, -5.248000144958496, -5.271500110626221, -5.330699920654297, -3.4488000869750977, -3.221400022506714, -4.392099857330322, -3.624000072479248, -4.110400199890137, -4.783100128173828, -4.488399982452393, -4.85129976272583, -5.040599822998047, -4.879899978637695, -4.943900108337402, -2.634000062942505, -3.2569000720977783, -3.27620005607605, -3.36680006980896, -3.4714999198913574, -3.662600040435791, -3.7400999069213867, -4.075699806213379, -4.172299861907959, -4.71560001373291, -4.8105998039245605, -4.871600151062012, -4.877699851989746, -4.889999866485596, -4.927599906921387, -4.963099956512451, -5.15939998626709, -5.293499946594238, -5.091400146484375, -5.3902997970581055, -5.439000129699707, -5.497900009155273, -5.553899765014648, -5.5553998947143555, -5.592800140380859, -5.638299942016602, -5.646399974822998, -5.78380012512207, -5.855299949645996, -5.929800033569336, -3.8910999298095703, -5.212900161743164, -3.0571999549865723, -2.388200044631958, -3.7309000492095947, -3.414099931716919, -4.695899963378906, -5.003900051116943, -5.0131001472473145, -3.9068000316619873, -5.173900127410889, -5.199399948120117, -1.8180999755859375, -2.7757999897003174, -2.9374001026153564, -3.302500009536743, -3.5192999839782715, -3.598900079727173, -3.9962000846862793, -4.3470001220703125, -4.571000099182129, -4.686299800872803, -4.882500171661377, -4.9303998947143555, -4.960100173950195, -5.010700225830078, -5.054699897766113, -5.095799922943115, -5.218599796295166, -5.228000164031982, -5.281700134277344, -5.389900207519531, -5.398200035095215, -5.41480016708374, -5.420199871063232, -5.436500072479248, -5.5756001472473145, -5.620100021362305, -5.646500110626221, -5.648600101470947, -5.674300193786621, -5.72790002822876, -3.610300064086914, -3.570499897003174, -4.462100028991699, -3.746299982070923, -4.013500213623047, -4.916299819946289, -4.521100044250488, -4.958199977874756, -5.176799774169922, -5.220200061798096, -0.8795999884605408, -3.2818000316619873, -4.141300201416016, -4.283999919891357, -4.588500022888184, -4.595799922943115, -4.619800090789795, -4.735400199890137, -4.810299873352051, -5.186800003051758, -5.206699848175049, -5.2393999099731445, -5.2779998779296875, -5.434599876403809, -5.4506001472473145, -5.4670000076293945, -5.505000114440918, -5.51639986038208, -5.519499778747559, -5.546999931335449, -5.568900108337402, -3.9707999229431152, -5.673699855804443, -5.71619987487793, -5.738100051879883, -5.751500129699707, -5.780799865722656, -5.846499919891357, -5.871699810028076, -5.895999908447266, -4.414400100708008, -4.0883002281188965, -4.417200088500977, -4.644400119781494, -4.537600040435791, -4.8460001945495605, -5.367199897766113, -5.321300029754639, -5.174900054931641, -5.521699905395508]}, \"token.table\": {\"Topic\": [11, 12, 2, 1, 12, 8, 1, 2, 5, 4, 4, 6, 2, 4, 8, 4, 5, 5, 4, 5, 5, 8, 7, 5, 2, 3, 12, 10, 2, 3, 8, 5, 8, 5, 9, 2, 3, 8, 10, 7, 4, 11, 3, 6, 9, 10, 3, 10, 12, 12, 5, 8, 9, 2, 12, 1, 4, 7, 3, 1, 2, 11, 12, 2, 12, 6, 2, 4, 5, 2, 11, 9, 8, 12, 5, 10, 2, 10, 2, 3, 5, 10, 6, 7, 7, 1, 9, 3, 7, 7, 4, 3, 5, 3, 3, 9, 6, 1, 2, 10, 6, 8, 3, 2, 9, 1, 1, 5, 6, 1, 9, 6, 12, 3, 10, 1, 4, 1, 10, 1, 5, 10, 10, 7, 3, 2, 1, 12, 4, 8, 4, 6, 7, 4, 1, 3, 5, 4, 6, 1, 3, 4, 5, 6, 7, 12, 2, 5, 1, 5, 8, 6, 12, 2, 6, 2, 9, 1, 7, 11, 6, 11, 4, 2, 4, 10, 11, 2, 5, 8, 1, 6, 11, 3, 3, 7, 8, 2, 1, 4, 9, 2, 8, 1, 1, 6, 2, 3, 12, 2, 3, 4, 6, 7, 9, 12, 10, 11, 3, 2, 4, 5, 8, 10, 11, 7, 3, 11, 5, 9, 9, 2, 2, 10, 12, 3, 10, 8, 2, 5, 8, 9, 4, 12, 1, 12, 9, 2, 4, 1, 2, 3, 2, 6, 9, 11, 10, 4, 4, 7, 10, 8, 5, 9, 10, 4, 2, 12, 4, 9, 3, 1, 4, 7, 12, 6, 5, 6, 5, 1, 4, 5, 10, 1, 5, 1, 4, 5, 12, 4, 10, 7, 9, 7, 3, 10, 1, 3, 11, 3, 5, 5, 8, 5, 6, 4, 6, 5, 5, 1, 3, 5, 10, 4, 4, 10, 2, 2, 8, 2, 6, 1, 3, 5, 6, 3, 1, 2, 3, 5, 7, 7, 12, 8, 9, 5, 10, 11, 6, 12, 6, 4, 11, 9, 4, 2, 5, 8, 6, 4, 5, 4, 1, 6, 6, 2, 5, 10, 5, 2, 1, 2, 4, 5, 6, 7, 5, 2, 3, 2, 9, 12, 5, 10, 1, 2, 5, 8, 9, 1, 1, 2, 3, 5, 7, 2, 5, 3, 10, 5, 9, 10, 8, 8, 3, 8, 11, 3, 10, 7, 6, 5, 5, 1, 3, 12, 3, 1, 5, 1, 3, 11, 12, 3, 2, 3, 5, 1, 9, 11, 12, 1, 3, 4, 7, 3, 9, 9, 1, 2, 2, 4, 8, 9, 4, 10, 8, 2, 2, 4, 7, 9, 1, 5, 10, 3, 4, 3, 4, 5, 7, 9, 5, 9, 1, 9, 8, 4, 9, 3, 1, 8, 4, 5, 6, 10, 7, 7, 9, 8, 12, 12, 8, 5, 7, 11, 10, 1, 12, 5, 12, 2, 3, 4, 5, 6, 9, 12, 1, 1, 2, 3, 4, 5, 8, 10, 11, 7, 7, 2, 4, 10, 2, 2, 6, 8, 10, 1, 4, 1, 5, 7, 11, 3, 4, 6, 6, 12, 4, 6, 8, 3, 4, 5, 9, 12, 8, 9, 8, 1, 3, 11, 1, 11, 2, 6, 11, 9, 8, 1, 4, 7, 8, 2, 4, 7, 4, 11, 8, 2, 9, 11, 8, 2, 6, 1, 2, 4, 2, 4, 11, 5, 5, 6, 7, 1, 6, 7, 7, 7, 5, 11, 5, 6, 5, 8, 6, 1, 2, 4, 5, 6, 1, 5, 2, 11, 11, 1, 6, 8, 5, 4, 4, 10, 6, 9, 10, 7, 9, 7, 12, 6, 7, 10, 5, 2, 4, 4, 5, 1, 6, 10, 10, 1, 12, 9, 10, 9, 1, 11, 12, 1, 5, 7, 1, 5, 7, 7, 2, 4, 8, 9, 8, 9, 11, 2, 5, 9, 11, 11, 7, 1, 2, 6, 1, 2, 4, 9, 5, 11, 1, 11, 11, 5, 6, 10, 8, 5, 7, 10, 5, 6, 12, 1, 3, 6, 6, 4, 6, 6, 1, 2, 3, 4, 5, 1, 6, 1, 2, 3, 4, 5, 6, 4, 8, 6, 1, 2, 7, 1, 3, 12, 4, 5, 9, 1, 2, 5, 7, 1, 2, 3, 12, 1, 2, 3, 4, 2, 4, 5, 7, 10, 11, 11, 7, 4, 2, 4, 9, 5, 10, 4, 5, 7, 11, 3, 6, 3, 4, 12, 1, 2, 6, 3, 5, 1, 11, 8, 12, 2, 5, 8, 11, 9, 8, 3, 6, 1, 1, 2, 11], \"Freq\": [0.9481690526008606, 0.9590893387794495, 0.9687299728393555, 0.9559221267700195, 0.887060284614563, 0.9340593814849854, 0.9789413809776306, 0.9643595814704895, 0.9734306335449219, 0.9603765606880188, 0.9773394465446472, 0.9982419610023499, 0.7085749506950378, 0.28694358468055725, 0.936592161655426, 0.12722989916801453, 0.8686730861663818, 0.9894828796386719, 0.1136397123336792, 0.8832904696464539, 0.0848914235830307, 0.9125828146934509, 0.9568839073181152, 0.9871261119842529, 0.9895203709602356, 0.9937906265258789, 0.9323397278785706, 0.9625075459480286, 0.04784844070672989, 0.9501333236694336, 0.9199421405792236, 0.9725785851478577, 0.9533659815788269, 0.9803985357284546, 0.9690220952033997, 0.16171501576900482, 0.8379185199737549, 0.9654881954193115, 0.9802678227424622, 0.9662039875984192, 0.94832444190979, 0.978540301322937, 0.9481378793716431, 0.9869588613510132, 0.9447580575942993, 0.9889899492263794, 0.3473011553287506, 0.5297814607620239, 0.11772920936346054, 0.9227334260940552, 0.18664982914924622, 0.799927830696106, 0.9836707711219788, 0.968146800994873, 0.9956121444702148, 0.8328848481178284, 0.15038198232650757, 0.9256746172904968, 0.9706884026527405, 0.5291051268577576, 0.3473922610282898, 0.0855119451880455, 0.03206697851419449, 0.4756045341491699, 0.5112748742103577, 0.9804061651229858, 0.10646951198577881, 0.6470069885253906, 0.24569886922836304, 0.2812177240848541, 0.710074782371521, 0.9530311822891235, 0.9762714505195618, 0.9908667802810669, 0.9975748658180237, 0.9591379761695862, 0.518212080001831, 0.4636634588241577, 0.9997674226760864, 0.9489660859107971, 0.9701600670814514, 0.9925695061683655, 0.49969661235809326, 0.4898986518383026, 0.9932649731636047, 0.973048210144043, 0.9648630023002625, 0.981342613697052, 0.9958654642105103, 0.9912388920783997, 0.9858617186546326, 0.9485573768615723, 0.048727262765169144, 0.9975122809410095, 0.9954788684844971, 0.9824745059013367, 0.9534583687782288, 0.9524063467979431, 0.9755675196647644, 0.019254621118307114, 0.3131169080734253, 0.6670751571655273, 0.9721696376800537, 0.9834398627281189, 0.9763547778129578, 0.9785333871841431, 0.39377361536026, 0.1496339738368988, 0.4489019215106964, 0.9697942137718201, 0.9757164120674133, 0.9767553806304932, 0.9721141457557678, 0.15372878313064575, 0.8345276713371277, 0.8552639484405518, 0.11557621508836746, 0.8419774770736694, 0.14516852796077728, 0.9946929216384888, 0.8220837116241455, 0.17126743495464325, 0.9303842782974243, 0.969006359577179, 0.9689443707466125, 0.9904448986053467, 0.534565269947052, 0.4514106512069702, 0.9895726442337036, 0.9427943825721741, 0.9750843048095703, 0.6569193601608276, 0.3406248688697815, 0.9591772556304932, 0.37335509061813354, 0.08533830940723419, 0.5333644151687622, 0.10859595984220505, 0.8687676787376404, 0.21527151763439178, 0.5044746994972229, 0.134816512465477, 0.008697839453816414, 0.05544872581958771, 0.08045501261949539, 0.9767677187919617, 0.977920413017273, 0.970978856086731, 0.25279733538627625, 0.07583920657634735, 0.6572731137275696, 0.9974393248558044, 0.9450545907020569, 0.9960481524467468, 0.9788035750389099, 0.3358493447303772, 0.658264696598053, 0.9587439298629761, 0.997246503829956, 0.9563518166542053, 0.9580854177474976, 0.9618012309074402, 0.9695867896080017, 0.4079119861125946, 0.23842743039131165, 0.35333219170570374, 0.9544677138328552, 0.23283949494361877, 0.08180847018957138, 0.6796396374702454, 0.3968474268913269, 0.19048677384853363, 0.3968474268913269, 0.9956722855567932, 0.9712913036346436, 0.9842427968978882, 0.9889106154441833, 0.98972487449646, 0.223194882273674, 0.5827866196632385, 0.17359602451324463, 0.30124133825302124, 0.6932677030563354, 0.9876483678817749, 0.13246075809001923, 0.847748875617981, 0.35626646876335144, 0.16625767946243286, 0.47502195835113525, 0.233639195561409, 0.1781993806362152, 0.06731976568698883, 0.5068782567977905, 0.011879959143698215, 0.9857353568077087, 0.9795882701873779, 0.9624287486076355, 0.9827083349227905, 0.952128529548645, 0.14300067722797394, 0.26097622513771057, 0.05243358016014099, 0.13346730172634125, 0.40993526577949524, 0.9284467101097107, 0.9405817985534668, 0.8752184510231018, 0.09377340227365494, 0.9806563854217529, 0.9854597449302673, 0.9916732311248779, 0.9786455035209656, 0.9958785772323608, 0.9084893465042114, 0.971794605255127, 0.9688764810562134, 0.9792031645774841, 0.9294889569282532, 0.9917882680892944, 0.3465202748775482, 0.5197803974151611, 0.12994509935379028, 0.4311521351337433, 0.5235418677330017, 0.9720994830131531, 0.924906849861145, 0.9398792386054993, 0.21467891335487366, 0.7844036817550659, 0.4568397104740143, 0.38153645396232605, 0.15562671422958374, 0.9884514808654785, 0.9293493628501892, 0.07507410645484924, 0.9102734923362732, 0.9072306156158447, 0.980571985244751, 0.9930567145347595, 0.9500558376312256, 0.9548513889312744, 0.9242958426475525, 0.517182469367981, 0.12067591398954391, 0.36202773451805115, 0.9957548975944519, 0.9763208031654358, 0.9483359456062317, 0.9410420060157776, 0.9891800284385681, 0.9518998265266418, 0.23394452035427094, 0.24954082071781158, 0.49908164143562317, 0.9116750955581665, 0.9964317083358765, 0.00970306433737278, 0.9848610162734985, 0.970328152179718, 0.14468170702457428, 0.847421407699585, 0.9965616464614868, 0.9433761239051819, 0.9286424517631531, 0.06580930948257446, 0.9797999858856201, 0.3379087448120117, 0.14227735996246338, 0.4979707896709442, 0.4084119498729706, 0.5717767477035522, 0.9861981272697449, 0.9930620789527893, 0.9847620129585266, 0.4913612902164459, 0.5057286024093628, 0.7879462838172913, 0.2100033164024353, 0.96638023853302, 0.18527263402938843, 0.7916194200515747, 0.8566586375236511, 0.12237980961799622, 0.0766422376036644, 0.9197068214416504, 0.968230664730072, 0.9303926229476929, 0.9707088470458984, 0.9615821242332458, 0.9692502021789551, 0.9981935620307922, 0.9969403147697449, 0.9220786094665527, 0.9773877859115601, 0.9632068276405334, 0.9409312009811401, 0.9913488030433655, 0.9820297360420227, 0.9400767087936401, 0.039484087377786636, 0.9081340432167053, 0.6202767491340637, 0.15037012100219727, 0.21615704894065857, 0.9639231562614441, 0.9543023109436035, 0.7435690760612488, 0.011319795623421669, 0.17474934458732605, 0.0693337470293045, 0.9630351662635803, 0.05552788823843002, 0.9300921559333801, 0.5969478487968445, 0.3837521970272064, 0.9629202485084534, 0.9906103610992432, 0.957033097743988, 0.48654836416244507, 0.5012922286987305, 0.9379668831825256, 0.9937637448310852, 0.988082230091095, 0.9726522564888, 0.9983841180801392, 0.968640923500061, 0.2901591360569, 0.6963819265365601, 0.9504079818725586, 0.9893214106559753, 0.9750893712043762, 0.9871957302093506, 0.9740986824035645, 0.9787915945053101, 0.9377390742301941, 0.8584524393081665, 0.12539193034172058, 0.9182524681091309, 0.9577338695526123, 0.9581261277198792, 0.2341862916946411, 0.014293060638010502, 0.41999608278274536, 0.06816690415143967, 0.15392526984214783, 0.10774768888950348, 0.9857643842697144, 0.14267344772815704, 0.8530682921409607, 0.5893903374671936, 0.4032670855522156, 0.9183193445205688, 0.1222730502486229, 0.8151536583900452, 0.14036795496940613, 0.6316558122634888, 0.07018397748470306, 0.025521446019411087, 0.13398759067058563, 0.9567587971687317, 0.716643750667572, 0.006825178861618042, 0.15015393495559692, 0.12626580893993378, 0.9496427178382874, 0.9670777916908264, 0.9723948836326599, 0.9912403225898743, 0.9867762923240662, 0.4051695764064789, 0.5813302993774414, 0.9623534083366394, 0.9269086122512817, 0.9518821835517883, 0.8630243539810181, 0.1318509429693222, 0.9211751818656921, 0.9796209931373596, 0.989413321018219, 0.9547101855278015, 0.9675131440162659, 0.989408552646637, 0.9892417788505554, 0.48160868883132935, 0.5154057741165161, 0.9691779613494873, 0.9105549454689026, 0.7971867322921753, 0.1941865086555481, 0.9677966237068176, 0.9699558615684509, 0.959983229637146, 0.9990559220314026, 0.9786797165870667, 0.6888867616653442, 0.0980234146118164, 0.20966120064258575, 0.11170035600662231, 0.8796402812004089, 0.998905599117279, 0.9426265358924866, 0.6472775340080261, 0.1789058893918991, 0.002010178519412875, 0.17086517810821533, 0.978095531463623, 0.9428269863128662, 0.9875799417495728, 0.9656102657318115, 0.9914945363998413, 0.26023420691490173, 0.5605044960975647, 0.05605044588446617, 0.12010809779167175, 0.446353018283844, 0.5313726663589478, 0.985059916973114, 0.9554964303970337, 0.3517163097858429, 0.12625713646411896, 0.5140469074249268, 0.9773440361022949, 0.796424150466919, 0.06531041115522385, 0.136063352227211, 0.9789595007896423, 0.999316394329071, 0.10893680900335312, 0.10893680900335312, 0.5530638098716736, 0.17597484588623047, 0.058658283203840256, 0.7875810265541077, 0.20108452439308167, 0.5422205924987793, 0.44233787059783936, 0.9743733406066895, 0.9459353685379028, 0.9880046844482422, 0.9644636511802673, 0.5227136611938477, 0.4573744535446167, 0.2659133970737457, 0.7332763075828552, 0.43945133686065674, 0.5493142008781433, 0.9767336845397949, 0.9323887825012207, 0.9804613590240479, 0.9095975756645203, 0.9601733088493347, 0.8981660604476929, 0.8539145588874817, 0.9862506985664368, 0.9664449095726013, 0.9645525217056274, 0.963492751121521, 0.966407299041748, 0.03221357613801956, 0.9676489233970642, 0.9296237826347351, 0.7756925821304321, 0.22344577312469482, 0.09871672093868256, 0.8061865568161011, 0.0658111497759819, 0.9688390493392944, 0.9698293209075928, 0.973757266998291, 0.7287247180938721, 0.15792885422706604, 0.010249495506286621, 0.019055400043725967, 0.003753336612135172, 0.0801192969083786, 0.00014435910270549357, 0.00014435910270549357, 0.9888930916786194, 0.9487578272819519, 0.8277499079704285, 0.08829332143068314, 0.07725665718317032, 0.9833181500434875, 0.9951381683349609, 0.99195396900177, 0.9725995063781738, 0.9117469191551208, 0.9764207601547241, 0.9817362427711487, 0.4018618166446686, 0.2432321459054947, 0.1480543464422226, 0.20621855556964874, 0.2037479132413864, 0.6621807217597961, 0.12734244763851166, 0.2667138874530792, 0.7167935371398926, 0.9790105819702148, 0.988426148891449, 0.9255334138870239, 0.28889113664627075, 0.3164045810699463, 0.08254032582044601, 0.3095262050628662, 0.9085791110992432, 0.9986409544944763, 0.9792165160179138, 0.92885822057724, 0.8187862634658813, 0.18069306015968323, 0.9021841883659363, 0.9440033435821533, 0.9684125781059265, 0.9967771768569946, 0.9996412992477417, 0.9351873397827148, 0.9516097903251648, 0.9438206553459167, 0.2327539622783661, 0.034228526055812836, 0.2738282084465027, 0.45181652903556824, 0.9191800951957703, 0.08030961453914642, 0.9291653037071228, 0.7396776676177979, 0.24251727759838104, 0.9657237529754639, 0.4566182792186737, 0.13318033516407013, 0.40429744124412537, 0.9976688027381897, 0.24711915850639343, 0.7413574457168579, 0.8512240648269653, 0.12953409552574158, 0.018504871055483818, 0.985465407371521, 0.9889593124389648, 0.9620447158813477, 0.9882869124412537, 0.9796301126480103, 0.995285153388977, 0.9373471140861511, 0.01614268496632576, 0.8017533421516418, 0.18295042216777802, 0.9370879530906677, 0.933155357837677, 0.27575555443763733, 0.7238582968711853, 0.2521218955516815, 0.7406080961227417, 0.34821125864982605, 0.6331114172935486, 0.9941205978393555, 0.7009980082511902, 0.19264067709445953, 0.02140451967716217, 0.08026695251464844, 0.9657654166221619, 0.9796602129936218, 0.9877906441688538, 0.9683569073677063, 0.9524374008178711, 0.96269690990448, 0.31342172622680664, 0.23506629467010498, 0.43095487356185913, 0.9766768217086792, 0.9810567498207092, 0.9992280602455139, 0.9439893960952759, 0.9842547178268433, 0.9476450085639954, 0.9922812581062317, 0.9876118898391724, 0.9954920411109924, 0.2516820430755615, 0.7130991220474243, 0.28153419494628906, 0.7186012864112854, 0.9905606508255005, 0.9804260730743408, 0.9528197050094604, 0.9908588528633118, 0.7883901000022888, 0.20605650544166565, 0.7431754469871521, 0.24772514402866364, 0.997538685798645, 0.951461136341095, 0.4600371718406677, 0.49542462825775146, 0.9664676189422607, 0.9895950555801392, 0.9599699974060059, 0.9713776111602783, 0.9966017603874207, 0.921047568321228, 0.002894072560593486, 0.2517842948436737, 0.7437766194343567, 0.015494097024202347, 0.4028465151786804, 0.5732815861701965, 0.9638331532478333, 0.3750626742839813, 0.12799757719039917, 0.023813502863049507, 0.47031670808792114, 0.9650940299034119, 0.9982307553291321, 0.9941600561141968, 0.656141996383667, 0.20577234029769897, 0.058237455785274506, 0.07376744598150253, 0.9479581713676453, 0.9827178120613098, 0.4486488103866577, 0.1715421974658966, 0.37607327103614807, 0.9444250464439392, 0.7275596261024475, 0.269698828458786, 0.982248067855835, 0.5199118256568909, 0.46612784266471863, 0.9799184799194336, 0.9953883290290833, 0.9955876469612122, 0.2832510471343994, 0.5916799306869507, 0.11959487944841385, 0.9779082536697388, 0.3284151554107666, 0.6675980687141418, 0.9186612963676453, 0.3598315715789795, 0.6168541312217712, 0.9646469950675964, 0.9307544231414795, 0.9563115239143372, 0.9823802709579468, 0.9778503775596619, 0.17436134815216064, 0.823373019695282, 0.9452197551727295, 0.17994791269302368, 0.2761991322040558, 0.1380995661020279, 0.15065406262874603, 0.2510901093482971, 0.4650450348854065, 0.5284602642059326, 0.35240092873573303, 0.04405011609196663, 0.3293270468711853, 0.017829809337854385, 0.15837065875530243, 0.09858835488557816, 0.9893152713775635, 0.9608945846557617, 0.9724038243293762, 0.9608314633369446, 0.6328229904174805, 0.3504865765571594, 0.9545202255249023, 0.9973582625389099, 0.9118428826332092, 0.9806572794914246, 0.2966952323913574, 0.7012796401977539, 0.18411974608898163, 0.09448250383138657, 0.14293506741523743, 0.5741629004478455, 0.25012433528900146, 0.18064536154270172, 0.5697276592254639, 0.9393654465675354, 0.35545477271080017, 0.04359350726008415, 0.5667155981063843, 0.03353346884250641, 0.3378969132900238, 0.16160286962985992, 0.21302196383476257, 0.28647780418395996, 0.9850713014602661, 0.9940909147262573, 0.9542590975761414, 0.9857375621795654, 0.9755496978759766, 0.30519938468933105, 0.25084879994392395, 0.44316622614860535, 0.9877234101295471, 0.9916651844978333, 0.1052486002445221, 0.8802610039710999, 0.9870874881744385, 0.9379850029945374, 0.749559223651886, 0.2461787760257721, 0.21181173622608185, 0.7678175568580627, 0.8910724520683289, 0.7901626229286194, 0.14082105457782745, 0.06258713454008102, 0.9819222092628479, 0.9806227087974548, 0.9910902976989746, 0.943175196647644, 0.98394775390625, 0.9634225964546204, 0.27657651901245117, 0.3051878809928894, 0.10490833222866058, 0.309956431388855, 0.9614163637161255, 0.988735020160675, 0.9063099026679993, 0.9765150547027588, 0.9855327606201172, 0.9589232802391052, 0.9636587500572205, 0.9292973875999451], \"Term\": [\"..camera\", \"..it\", \".and\", \".but\", \".camera\", \".great\", \".i\", \".it\", \"a1\", \"access\", \"accessory\", \"amazon\", \"android\", \"android\", \"apne\", \"app\", \"app\", \"application\", \"apps\", \"apps\", \"atmos\", \"atmos\", \"atom\", \"auto\", \"average\", \"awesome\", \"awsome\", \"back\", \"backup\", \"backup\", \"bada\", \"bahut\", \"band\", \"bar\", \"batter\", \"battery\", \"battery\", \"beast\", \"bed\", \"bekar\", \"benefit\", \"bettery\", \"bhai\", \"bhi\", \"bhut\", \"bill\", \"bit\", \"bit\", \"bit\", \"blowing\", \"bluetooth\", \"bluetooth\", \"body\", \"bokeh\", \"box\", \"brand\", \"brand\", \"break\", \"bt\", \"budget\", \"budget\", \"budget\", \"budget\", \"bug\", \"bug\", \"build\", \"button\", \"button\", \"button\", \"buy\", \"buy\", \"buyer\", \"buying\", \"cable\", \"call\", \"caller\", \"cam\", \"cam\", \"camera\", \"cameragood\", \"capacity\", \"card\", \"care\", \"care\", \"cast\", \"casting\", \"category\", \"cell\", \"center\", \"centre\", \"change\", \"charge\", \"charge\", \"charger\", \"charging\", \"china\", \"chor\", \"claim\", \"clarity\", \"clarity\", \"class\", \"class\", \"clearity\", \"color\", \"colour\", \"comment\", \"company\", \"company\", \"company\", \"comparison\", \"complain\", \"complaint\", \"concern\", \"condition\", \"condition\", \"configuration\", \"configuration\", \"connection\", \"connection\", \"connectivity\", \"contact\", \"contact\", \"control\", \"cool\", \"copy\", \"core\", \"cost\", \"cost\", \"cover\", \"coverage\", \"crack\", \"customer\", \"customer\", \"damage\", \"data\", \"data\", \"data\", \"date\", \"date\", \"day\", \"day\", \"day\", \"day\", \"day\", \"day\", \"deal\", \"deca\", \"default\", \"defect\", \"defect\", \"defect\", \"delivery\", \"department\", \"depth\", \"description\", \"design\", \"design\", \"detail\", \"device\", \"difference\", \"din\", \"disappointment\", \"discharge\", \"display\", \"display\", \"display\", \"doesnt\", \"dolby\", \"dolby\", \"dolby\", \"dont\", \"dont\", \"dont\", \"drain\", \"drainage\", \"drop\", \"earphone\", \"effect\", \"etc\", \"etc\", \"etc\", \"everything\", \"everything\", \"excellent\", \"exchange\", \"exchange\", \"expectation\", \"expectation\", \"expectation\", \"experience\", \"experience\", \"experience\", \"experience\", \"experience\", \"face\", \"facility\", \"fall\", \"fast\", \"fb\", \"feature\", \"feature\", \"feature\", \"feature\", \"feature\", \"features..\", \"feedback\", \"file\", \"file\", \"fine\", \"finger\", \"fingerprint\", \"fix\", \"flash\", \"flashlight\", \"flipkart\", \"focus\", \"fone\", \"forum\", \"front\", \"function\", \"function\", \"function\", \"functionality\", \"functionality\", \"future\", \"g\", \"g5s\", \"gallery\", \"gallery\", \"game\", \"game\", \"game\", \"gaming\", \"gaya\", \"gb\", \"gb\", \"gesture\", \"get\", \"glass\", \"gold\", \"good\", \"good..\", \"google\", \"google\", \"google\", \"gorilla\", \"graphic\", \"group\", \"guard\", \"gud\", \"guess\", \"guy\", \"guy\", \"guy\", \"gya\", \"h\", \"hai\", \"hai\", \"half\", \"hand\", \"hand\", \"handset\", \"handsfree\", \"hang\", \"hang\", \"hanging\", \"hardware\", \"hardware\", \"hardware\", \"hd\", \"hd\", \"head\", \"headphone\", \"headset\", \"heat\", \"heat\", \"heating\", \"heating\", \"hell\", \"help\", \"help\", \"hi\", \"hi\", \"ho\", \"ho\", \"home\", \"hone\", \"hope\", \"hota\", \"hotspot\", \"hour\", \"hr\", \"hv\", \"i.e\", \"icon\", \"id\", \"image\", \"improvement\", \"india\", \"information\", \"information\", \"internet\", \"internet\", \"internet\", \"invoice\", \"iron\", \"issue\", \"issue\", \"issue\", \"issue\", \"it..\", \"item\", \"item\", \"jack\", \"jack\", \"jata\", \"jio\", \"job\", \"k\", \"k\", \"k3\", \"k4\", \"k5\", \"k6\", \"k8\", \"k8note\", \"ka\", \"ka\", \"ke\", \"key\", \"ki\", \"killer\", \"kind\", \"ko\", \"koi\", \"lag\", \"lag\", \"le\", \"lenevo\", \"lenova\", \"lenovo\", \"lenovo\", \"lenovo\", \"lenovo\", \"lenovo\", \"lenovo\", \"level\", \"life\", \"life\", \"light\", \"light\", \"limit\", \"list\", \"list\", \"look\", \"look\", \"look\", \"look\", \"look\", \"loss\", \"lot\", \"lot\", \"lot\", \"lot\", \"love\", \"lover\", \"lte\", \"mah\", \"mail\", \"management\", \"management\", \"manager\", \"manufacturer\", \"manufacturing\", \"mark\", \"mark\", \"mast\", \"max\", \"memory\", \"menu\", \"mera\", \"message\", \"mi\", \"min\", \"min\", \"mind\", \"mine\", \"minute\", \"minute\", \"mistake\", \"mob\", \"mobail\", \"mobile\", \"mobile..\", \"mode\", \"mode\", \"mode\", \"model\", \"model\", \"money\", \"money..\", \"month\", \"month\", \"month\", \"month\", \"morning\", \"motion\", \"moto\", \"motorola\", \"mp\", \"music\", \"music\", \"music\", \"music\", \"n\", \"n\", \"nahi\", \"nd\", \"need\", \"need\", \"need\", \"net\", \"network\", \"network\", \"network\", \"nice\", \"note\", \"nothing\", \"nothing\", \"nothing\", \"nothing\", \"nothing\", \"notification\", \"notification\", \"number\", \"number\", \"offer\", \"office\", \"ok\", \"okay\", \"one\", \"one\", \"option\", \"option\", \"order\", \"order\", \"oreo\", \"ota\", \"others\", \"packaging\", \"packing\", \"pad\", \"page\", \"party\", \"patch\", \"pc\", \"penny\", \"people\", \"people\", \"percent\", \"perfect\", \"performance\", \"performance\", \"person\", \"person\", \"person\", \"ph\", \"phn\", \"phon\", \"phone\", \"phone\", \"phone\", \"phone\", \"phone\", \"phone\", \"phone\", \"phone\", \"phone..\", \"phone.it\", \"photo\", \"photo\", \"photo\", \"pic\", \"picture\", \"piece\", \"pin\", \"pixel\", \"place\", \"player\", \"please\", \"please\", \"please\", \"please\", \"pls\", \"pls\", \"pls\", \"plz\", \"plz\", \"pocket\", \"policy\", \"port\", \"power\", \"power\", \"power\", \"power\", \"pr\", \"price\", \"print\", \"prize\", \"problem\", \"problem\", \"problem..\", \"processer\", \"processing\", \"processor\", \"product\", \"product..\", \"protection\", \"pubg\", \"purchase\", \"purchase\", \"purchase\", \"purchase\", \"quality\", \"quality\", \"question\", \"r\", \"r\", \"raha\", \"ram\", \"ram\", \"ram\", \"range\", \"rate\", \"rate\", \"rating\", \"rating\", \"rating\", \"rear\", \"reception\", \"record\", \"recorder\", \"recording\", \"refund\", \"repair\", \"replacement\", \"replacement\", \"replacement\", \"requirement\", \"reset\", \"resolution\", \"resolution\", \"response\", \"response\", \"restart\", \"restart\", \"return\", \"review\", \"review\", \"review\", \"review\", \"rha\", \"right\", \"ringtone\", \"rom\", \"round\", \"rupee\", \"sale\", \"sale\", \"sale\", \"saver\", \"scratch\", \"screen\", \"sd\", \"se\", \"second\", \"selfie\", \"seller\", \"sensor\", \"series\", \"series\", \"service\", \"service\", \"set\", \"setting\", \"setup\", \"shot\", \"side\", \"side\", \"signal\", \"signal\", \"sim\", \"sims\", \"site\", \"site\", \"size\", \"slot\", \"sm\", \"smart\", \"smartphone\", \"smooth\", \"software\", \"software\", \"software\", \"solution\", \"solution\", \"solution\", \"something\", \"sound\", \"sound\", \"sound\", \"sound\", \"space\", \"speaker\", \"specification\", \"speed\", \"speed\", \"speed\", \"speed\", \"spent\", \"standby\", \"star\", \"star\", \"star\", \"start\", \"stock\", \"stock\", \"stop\", \"storage\", \"storage\", \"suggestion\", \"super\", \"superb\", \"support\", \"support\", \"support\", \"switch\", \"system\", \"system\", \"tag\", \"team\", \"team\", \"technology\", \"temperature\", \"test\", \"tha\", \"thank\", \"thanks\", \"thanks\", \"thik\", \"thing\", \"thing\", \"thing\", \"thing\", \"thing\", \"till\", \"till\", \"time\", \"time\", \"time\", \"time\", \"time\", \"time\", \"today\", \"toh\", \"tone\", \"top\", \"touch\", \"touch\", \"tray\", \"turbo\", \"turbocharger\", \"tv\", \"ui\", \"ui\", \"update\", \"update\", \"update\", \"update\", \"usage\", \"usage\", \"usage\", \"usb\", \"use\", \"use\", \"use\", \"use\", \"user\", \"user\", \"user\", \"user\", \"v\", \"value\", \"variant\", \"version\", \"vibe\", \"video\", \"video\", \"video\", \"voice\", \"volta\", \"volume\", \"volume\", \"warranty\", \"wastage\", \"waste\", \"waste\", \"way\", \"way\", \"website\", \"week\", \"week\", \"week\", \"weight\", \"whatsapp\", \"wifi\", \"wire\", \"wise\", \"word\", \"work\", \"work\", \"work\", \"work\", \"working\", \"worth\", \"wow\", \"ye\", \"year\", \"yesterday\", \"zoom\", \"\\ud83d\\udc4d\"]}, \"R\": 30, \"lambda.step\": 0.01, \"plot.opts\": {\"xlab\": \"PC1\", \"ylab\": \"PC2\"}, \"topic.order\": [10, 2, 1, 7, 6, 5, 11, 9, 12, 8, 4, 3]};\n",
       "\n",
       "function LDAvis_load_lib(url, callback){\n",
       "  var s = document.createElement('script');\n",
       "  s.src = url;\n",
       "  s.async = true;\n",
       "  s.onreadystatechange = s.onload = callback;\n",
       "  s.onerror = function(){console.warn(\"failed to load library \" + url);};\n",
       "  document.getElementsByTagName(\"head\")[0].appendChild(s);\n",
       "}\n",
       "\n",
       "if(typeof(LDAvis) !== \"undefined\"){\n",
       "   // already loaded: just create the visualization\n",
       "   !function(LDAvis){\n",
       "       new LDAvis(\"#\" + \"ldavis_el36888065485555922553665442\", ldavis_el36888065485555922553665442_data);\n",
       "   }(LDAvis);\n",
       "}else if(typeof define === \"function\" && define.amd){\n",
       "   // require.js is available: use it to load d3/LDAvis\n",
       "   require.config({paths: {d3: \"https://cdnjs.cloudflare.com/ajax/libs/d3/3.5.5/d3.min\"}});\n",
       "   require([\"d3\"], function(d3){\n",
       "      window.d3 = d3;\n",
       "      LDAvis_load_lib(\"https://cdn.rawgit.com/bmabey/pyLDAvis/files/ldavis.v1.0.0.js\", function(){\n",
       "        new LDAvis(\"#\" + \"ldavis_el36888065485555922553665442\", ldavis_el36888065485555922553665442_data);\n",
       "      });\n",
       "    });\n",
       "}else{\n",
       "    // require.js not available: dynamically load d3 & LDAvis\n",
       "    LDAvis_load_lib(\"https://cdnjs.cloudflare.com/ajax/libs/d3/3.5.5/d3.min.js\", function(){\n",
       "         LDAvis_load_lib(\"https://cdn.rawgit.com/bmabey/pyLDAvis/files/ldavis.v1.0.0.js\", function(){\n",
       "                 new LDAvis(\"#\" + \"ldavis_el36888065485555922553665442\", ldavis_el36888065485555922553665442_data);\n",
       "            })\n",
       "         });\n",
       "}\n",
       "</script>"
      ],
      "text/plain": [
       "PreparedData(topic_coordinates=              x         y  topics  cluster       Freq\n",
       "topic                                                \n",
       "9      0.263823 -0.041382       1        1  17.058348\n",
       "1      0.222238  0.129131       2        1  15.782422\n",
       "0      0.218963 -0.087113       3        1  11.839412\n",
       "6      0.024322  0.024145       4        1   9.588959\n",
       "5      0.003615 -0.054378       5        1   9.005754\n",
       "4     -0.088349 -0.305754       6        1   8.972095\n",
       "10    -0.111158 -0.167974       7        1   5.372036\n",
       "8      0.056549  0.139215       8        1   5.254909\n",
       "11    -0.143739  0.128232       9        1   4.564705\n",
       "7     -0.108252  0.088828      10        1   4.312463\n",
       "3     -0.161369  0.089642      11        1   4.149676\n",
       "2     -0.176644  0.057407      12        1   4.099216, topic_info=     Category         Freq           Term        Total  loglift  logprob\n",
       "17    Default  6927.000000          phone  6927.000000  30.0000  30.0000\n",
       "59    Default  3166.000000         camera  3166.000000  29.0000  29.0000\n",
       "4     Default  3067.000000        battery  3067.000000  28.0000  28.0000\n",
       "51    Default  2059.000000        product  2059.000000  27.0000  27.0000\n",
       "12    Default  1477.000000         mobile  1477.000000  26.0000  26.0000\n",
       "...       ...          ...            ...          ...      ...      ...\n",
       "170   Topic12    27.967436       hardware    56.228199   2.4960  -4.8460\n",
       "487   Topic12    16.606220         series    23.839603   2.8328  -5.3672\n",
       "1569  Topic12    17.386934  functionality    32.471138   2.5697  -5.3213\n",
       "309   Topic12    20.127691            bit   169.881378   1.0614  -5.1749\n",
       "463   Topic12    14.229342           site    28.258587   2.5083  -5.5217\n",
       "\n",
       "[591 rows x 6 columns], token_table=      Topic      Freq       Term\n",
       "term                            \n",
       "869      11  0.948169   ..camera\n",
       "2559     12  0.959089       ..it\n",
       "3187      2  0.968730       .and\n",
       "246       1  0.955922       .but\n",
       "156      12  0.887060    .camera\n",
       "...     ...       ...        ...\n",
       "357       6  0.976515         ye\n",
       "29        1  0.985533       year\n",
       "1299      1  0.958923  yesterday\n",
       "2476      2  0.963659       zoom\n",
       "1364     11  0.929297          👍\n",
       "\n",
       "[731 rows x 3 columns], R=30, lambda_step=0.01, plot_opts={'xlab': 'PC1', 'ylab': 'PC2'}, topic_order=[10, 2, 1, 7, 6, 5, 11, 9, 12, 8, 4, 3])"
      ]
     },
     "execution_count": 31,
     "metadata": {},
     "output_type": "execute_result"
    }
   ],
   "source": [
    "vis"
   ]
  },
  {
   "cell_type": "code",
   "execution_count": 32,
   "metadata": {},
   "outputs": [],
   "source": [
    "from gensim.models import LsiModel"
   ]
  },
  {
   "cell_type": "code",
   "execution_count": 33,
   "metadata": {},
   "outputs": [
    {
     "name": "stdout",
     "output_type": "stream",
     "text": [
      "[(0, [('phone', 0.8297863570288482), ('camera', 0.2823636478813544)]), (1, [('camera', 0.5852816670863007), ('phone', -0.5158954773068307)]), (2, [('camera', 0.6528325578028571), ('battery', -0.5523657385514037)]), (3, [('product', -0.6917433151739936), ('battery', 0.5287808509381974)]), (4, [('note', -0.5829068698642121), ('product', 0.5480949767436817)]), (5, [('note', -0.48554388128581116), ('issue', 0.4795369357090081)]), (6, [('issue', 0.6840945975852147), ('problem', -0.6724311171588435)]), (7, [('mobile', -0.8378712596999436), ('problem', 0.38358999978606345)]), (8, [('quality', -0.922469610859012), ('camera', 0.2591717485469043)])]\n"
     ]
    }
   ],
   "source": [
    "lsamodel = LsiModel(corpus, num_topics=9, id2word = id2word)  # train model\n",
    "print(lsamodel.show_topics(num_topics=9, num_words=2,formatted=False))"
   ]
  },
  {
   "cell_type": "code",
   "execution_count": 34,
   "metadata": {},
   "outputs": [
    {
     "name": "stdout",
     "output_type": "stream",
     "text": [
      "0::['phone', 'camera', 'battery', 'issue', 'note', 'quality', 'problem', 'day', 'lenovo', 'time']\n",
      "1::['camera', 'phone', 'battery', 'quality', 'product', 'mobile', 'note', 'issue', 'backup', 'performance']\n",
      "2::['camera', 'battery', 'product', 'issue', 'problem', 'quality', 'day', 'mobile', 'hour', 'time']\n",
      "3::['product', 'battery', 'note', 'lenovo', 'problem', 'issue', 'amazon', 'mobile', 'service', 'k8']\n",
      "4::['note', 'product', 'mobile', 'k8', 'lenovo', 'issue', 'battery', 'camera', 'phone', 'feature']\n",
      "5::['note', 'issue', 'problem', 'product', 'mobile', 'battery', 'k8', 'network', 'camera', 'heating']\n",
      "6::['issue', 'problem', 'mobile', 'heating', 'note', 'time', 'cell', 'lenovo', 'product', 'software']\n",
      "7::['mobile', 'problem', 'note', 'issue', 'price', 'device', 'feature', 'k8', 'heating', 'product']\n",
      "8::['quality', 'camera', 'time', 'product', 'note', 'mobile', 'sound', 'hai', 'video', 'picture']\n",
      "\n"
     ]
    }
   ],
   "source": [
    "x = lsamodel.show_topics(formatted=False,num_words=10)\n",
    "topics_words = [(tp[0], [wd[0] for wd in tp[1]]) for tp in x]\n",
    "for topic,words in topics_words:\n",
    "    print(str(topic)+ \"::\"+ str(words))\n",
    "print()"
   ]
  },
  {
   "cell_type": "markdown",
   "metadata": {},
   "source": [
    "## Task 10. The business finally needs to be able to interpret the topics\n",
    " - name each of the identified topics\n",
    " - create a table with the topic name and the top 10 terms in each to present to business"
   ]
  },
  {
   "cell_type": "markdown",
   "metadata": {},
   "source": [
    "# Conclusion:\n",
    "As per Comparing both LDA and LSA model,LAS model loop more promissing\n",
    "\n",
    "For LDA model topics identified as :\n",
    "-0::['battery', 'phone', 'backup', 'day', 'hour', 'issue', 'time', 'life', 'problem', 'charge']------**issue in backup,phone,charging**<br>\n",
    "-1::['camera', 'quality', 'performance', 'battery', 'phone', 'mode', 'everything', 'depth', 'clarity', 'photo']---**camera**<br>\n",
    "-2::['mobile', 'service', 'center', 'specification', 'cost', 'centre', 'month', 'lenovo', 'processor', 'purchase']---**money**<br>\n",
    "-3::['problem', 'money', 'note', 'issue', 'k8', 'heating', 'device', 'waste', 'value', 'charger']---**charger**<br>\n",
    "-4::['product', 'amazon', 'delivery', 'service', 'customer', 'return', 'lenovo', 'replacement', 'day', 'time']---**amazon delivery**<br>\n",
    "-5::['phone', 'call', 'time', 'issue', 'network', 'problem', 'sim', 'update', 'software', 'handset']---**handset problem**<br>\n",
    "-6::['note', 'screen', 'speaker', 'sound', 'feature', 'music', 'camera', 'display', 'lenovo', 'glass']--**speaker probe**<br>\n",
    "-7::['hai', 'h', 'heat', 'ho', 'excellent', 'k', 'bhi', 'hi', 'superb', 'ye']---**not sure but heating problem**<br>\n",
    "-8::['phone', 'price', 'range', 'feature', 'budget', 'box', 'headphone', 'superb', 'earphone', 'headset']---**phone quality**<br>\n",
    "\n",
    "-for LSA model:\n",
    "-0::['phone', 'camera', 'battery', 'issue', 'note', 'quality', 'problem', 'day', 'lenovo', 'time'] --**issue in backup,phone,charging**<br>\n",
    "-1::['camera', 'phone', 'battery', 'quality', 'product', 'mobile', 'note', 'issue', 'backup', 'performance']--**issue in performance**<br>\n",
    "-2::['camera', 'battery', 'product', 'issue', 'problem', 'quality', 'day', 'mobile', 'hour', 'time']---**same feature as above**<br>\n",
    "-3::['product', 'battery', 'note', 'lenovo', 'problem', 'issue', 'amazon', 'mobile', 'service', 'k8']--**same issue as above**<br>\n",
    "-4::['note', 'product', 'mobile', 'k8', 'lenovo', 'issue', 'battery', 'camera', 'phone', 'feature']--**same problem as topic 1**<br>\n",
    "-5::['note', 'issue', 'problem', 'product', 'mobile', 'battery', 'k8', 'network', 'camera', 'heating']--**heating problem**<br>\n",
    "-6::['issue', 'problem', 'mobile', 'heating', 'note', 'time', 'cell', 'lenovo', 'product', 'software']--**vhandset problem**<br>\n",
    "-7::['mobile', 'problem', 'note', 'issue', 'price', 'device', 'feature', 'k8', 'heating', 'product']--**heating**<br>\n",
    "-8::['quality', 'camera', 'time', 'product', 'note', 'mobile', 'sound', 'hai', 'video', 'picture']--**phone quality**<br>"
   ]
  },
  {
   "cell_type": "code",
   "execution_count": null,
   "metadata": {},
   "outputs": [],
   "source": []
  }
 ],
 "metadata": {
  "kernelspec": {
   "display_name": "Python 3",
   "language": "python",
   "name": "python3"
  },
  "language_info": {
   "codemirror_mode": {
    "name": "ipython",
    "version": 3
   },
   "file_extension": ".py",
   "mimetype": "text/x-python",
   "name": "python",
   "nbconvert_exporter": "python",
   "pygments_lexer": "ipython3",
   "version": "3.7.4"
  }
 },
 "nbformat": 4,
 "nbformat_minor": 2
}
