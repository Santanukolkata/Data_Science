{
 "cells": [
  {
   "cell_type": "code",
   "execution_count": 1,
   "metadata": {},
   "outputs": [],
   "source": [
    "# Importing libraries\n",
    "import numpy as np\n",
    "import pandas as pd\n",
    "%matplotlib inline \n",
    "import matplotlib.pyplot as plt\n",
    "import seaborn as sns\n",
    "from pandas.plotting import scatter_matrix\n",
    "# classifier\n",
    "from sklearn.linear_model import LogisticRegression\n",
    "from sklearn.tree import DecisionTreeClassifier\n",
    "from sklearn.feature_selection import RFE\n",
    "import warnings\n",
    "warnings.filterwarnings('ignore')"
   ]
  },
  {
   "cell_type": "code",
   "execution_count": 2,
   "metadata": {},
   "outputs": [],
   "source": [
    "# sample example ************************************************************"
   ]
  },
  {
   "cell_type": "code",
   "execution_count": 3,
   "metadata": {},
   "outputs": [],
   "source": [
    "# load data\n",
    "url      = \"https://raw.githubusercontent.com/Santanukolkata/Data_Science/master/datasets/pima-indians-diabetes.csv\"\n",
    "names    = ['preg', 'plas', 'pres', 'skin', 'test', 'mass', 'pedi', 'age', 'class']\n",
    "colnames = ['preg', 'plas', 'pres', 'skin', 'test', 'mass', 'pedi', 'age']\n",
    "\n",
    "df = pd.read_csv(url, names=names)"
   ]
  },
  {
   "cell_type": "code",
   "execution_count": 4,
   "metadata": {},
   "outputs": [
    {
     "data": {
      "text/html": [
       "<div>\n",
       "<style scoped>\n",
       "    .dataframe tbody tr th:only-of-type {\n",
       "        vertical-align: middle;\n",
       "    }\n",
       "\n",
       "    .dataframe tbody tr th {\n",
       "        vertical-align: top;\n",
       "    }\n",
       "\n",
       "    .dataframe thead th {\n",
       "        text-align: right;\n",
       "    }\n",
       "</style>\n",
       "<table border=\"1\" class=\"dataframe\">\n",
       "  <thead>\n",
       "    <tr style=\"text-align: right;\">\n",
       "      <th></th>\n",
       "      <th>preg</th>\n",
       "      <th>plas</th>\n",
       "      <th>pres</th>\n",
       "      <th>skin</th>\n",
       "      <th>test</th>\n",
       "      <th>mass</th>\n",
       "      <th>pedi</th>\n",
       "      <th>age</th>\n",
       "      <th>class</th>\n",
       "    </tr>\n",
       "  </thead>\n",
       "  <tbody>\n",
       "    <tr>\n",
       "      <th>0</th>\n",
       "      <td>6</td>\n",
       "      <td>148</td>\n",
       "      <td>72</td>\n",
       "      <td>35</td>\n",
       "      <td>0</td>\n",
       "      <td>33.6</td>\n",
       "      <td>0.627</td>\n",
       "      <td>50</td>\n",
       "      <td>1</td>\n",
       "    </tr>\n",
       "    <tr>\n",
       "      <th>1</th>\n",
       "      <td>1</td>\n",
       "      <td>85</td>\n",
       "      <td>66</td>\n",
       "      <td>29</td>\n",
       "      <td>0</td>\n",
       "      <td>26.6</td>\n",
       "      <td>0.351</td>\n",
       "      <td>31</td>\n",
       "      <td>0</td>\n",
       "    </tr>\n",
       "    <tr>\n",
       "      <th>2</th>\n",
       "      <td>8</td>\n",
       "      <td>183</td>\n",
       "      <td>64</td>\n",
       "      <td>0</td>\n",
       "      <td>0</td>\n",
       "      <td>23.3</td>\n",
       "      <td>0.672</td>\n",
       "      <td>32</td>\n",
       "      <td>1</td>\n",
       "    </tr>\n",
       "    <tr>\n",
       "      <th>3</th>\n",
       "      <td>1</td>\n",
       "      <td>89</td>\n",
       "      <td>66</td>\n",
       "      <td>23</td>\n",
       "      <td>94</td>\n",
       "      <td>28.1</td>\n",
       "      <td>0.167</td>\n",
       "      <td>21</td>\n",
       "      <td>0</td>\n",
       "    </tr>\n",
       "    <tr>\n",
       "      <th>4</th>\n",
       "      <td>0</td>\n",
       "      <td>137</td>\n",
       "      <td>40</td>\n",
       "      <td>35</td>\n",
       "      <td>168</td>\n",
       "      <td>43.1</td>\n",
       "      <td>2.288</td>\n",
       "      <td>33</td>\n",
       "      <td>1</td>\n",
       "    </tr>\n",
       "  </tbody>\n",
       "</table>\n",
       "</div>"
      ],
      "text/plain": [
       "   preg  plas  pres  skin  test  mass   pedi  age  class\n",
       "0     6   148    72    35     0  33.6  0.627   50      1\n",
       "1     1    85    66    29     0  26.6  0.351   31      0\n",
       "2     8   183    64     0     0  23.3  0.672   32      1\n",
       "3     1    89    66    23    94  28.1  0.167   21      0\n",
       "4     0   137    40    35   168  43.1  2.288   33      1"
      ]
     },
     "execution_count": 4,
     "metadata": {},
     "output_type": "execute_result"
    }
   ],
   "source": [
    "df.head()"
   ]
  },
  {
   "cell_type": "code",
   "execution_count": 5,
   "metadata": {},
   "outputs": [],
   "source": [
    "# copy data into arrays\n",
    "array = df.values\n",
    "X = array[:,0:8]\n",
    "y = array[:,8]"
   ]
  },
  {
   "cell_type": "code",
   "execution_count": 6,
   "metadata": {},
   "outputs": [],
   "source": [
    "# Parameters:\t\n",
    "# estimator : A supervised learning estimator \n",
    "#             with a fit method that provides information about feature importance \n",
    "#             either through a coef_ attribute or through a feature_importances_ attribute.\n",
    "\n",
    "# n_features_to_select : int or None (default=None)\n",
    "#                        The number of features to select. \n",
    "#                        If None, half of the features are selected.\n",
    "\n",
    "# step : int or float, optional (default=1)\n",
    "#        If greater than or equal to 1, then step corresponds to the (integer) \n",
    "#        number of features to remove at each iteration. \n",
    "#        If within (0.0, 1.0), then step corresponds to the percentage (rounded down) \n",
    "#        of features to remove at each iteration.\n",
    "\n",
    "# verbose : int, (default=0)\n",
    "#            Controls verbosity of output.\n",
    "\n",
    "# Attributes:\t\n",
    "# n_features_ : int\n",
    "# The number of selected features.\n",
    "\n",
    "# support_ : array of shape [n_features]\n",
    "#            The mask of selected features.\n",
    "\n",
    "# ranking_ : array of shape [n_features]\n",
    "#            The feature ranking, such that ranking_[i] corresponds to the ranking position \n",
    "#            of the i-th feature. \n",
    "#            Selected (i.e., estimated best) features are assigned rank 1."
   ]
  },
  {
   "cell_type": "code",
   "execution_count": 7,
   "metadata": {},
   "outputs": [
    {
     "name": "stdout",
     "output_type": "stream",
     "text": [
      "Fitting estimator with 8 features.\n",
      "Fitting estimator with 7 features.\n",
      "Fitting estimator with 6 features.\n",
      "Fitting estimator with 5 features.\n"
     ]
    }
   ],
   "source": [
    "# feature extraction\n",
    "# The example below uses RFE with the logistic regression algorithm to select the top 3 features. \n",
    "# The choice of algorithm does not matter too much as long as it is skillful and consistent.\n",
    "model = LogisticRegression()\n",
    "\n",
    "rfe   = RFE(model, 4, verbose=10)\n",
    "selector = rfe.fit(X, y)"
   ]
  },
  {
   "cell_type": "code",
   "execution_count": 8,
   "metadata": {},
   "outputs": [
    {
     "name": "stdout",
     "output_type": "stream",
     "text": [
      "Number of selected features     :  4\n",
      "Mask of selected features       :  [ True  True False False False  True  True False]\n",
      "Indices of selected features    :  [0 1 5 6]\n",
      "Rankings of selected features   :  [1 1 3 4 5 1 1 2]\n",
      "feature :  preg  to be included in the model\n",
      "feature :  plas  to be included in the model\n",
      "feature :  pres  to be DROPPED from the model\n",
      "feature :  skin  to be DROPPED from the model\n",
      "feature :  test  to be DROPPED from the model\n",
      "feature :  mass  to be included in the model\n",
      "feature :  pedi  to be included in the model\n",
      "feature :  age  to be DROPPED from the model\n"
     ]
    }
   ],
   "source": [
    "# The number of selected features.\n",
    "print('Number of selected features     : ', selector.n_features_)\n",
    "# The mask of selected features.\n",
    "print('Mask of selected features       : ', selector.support_)\n",
    "# indices of selected features\n",
    "print('Indices of selected features    : ', selector.get_support(indices=True))\n",
    "\n",
    "# ranking_ : array of shape [n_features]\n",
    "# The feature ranking, such that ranking_[i] corresponds to the ranking position of \n",
    "# the i-th feature. \n",
    "# Selected (i.e., estimated best) features are assigned rank 1.\n",
    "print('Rankings of selected features   : ', selector.ranking_)\n",
    "\n",
    "for i in list(zip(colnames, selector.ranking_)):\n",
    "    if i[1] == 1:\n",
    "        print('feature : ', i[0], ' to be included in the model')\n",
    "    else:\n",
    "        print('feature : ', i[0], ' to be DROPPED from the model')"
   ]
  },
  {
   "cell_type": "code",
   "execution_count": 9,
   "metadata": {},
   "outputs": [
    {
     "name": "stdout",
     "output_type": "stream",
     "text": [
      "Fitting estimator with 8 features.\n",
      "Fitting estimator with 7 features.\n",
      "Fitting estimator with 6 features.\n",
      "Fitting estimator with 5 features.\n"
     ]
    }
   ],
   "source": [
    "model_dt = DecisionTreeClassifier()\n",
    "\n",
    "rfe_dt   = RFE(model_dt, 4, verbose=10)\n",
    "selector_dt = rfe_dt.fit(X, y)"
   ]
  },
  {
   "cell_type": "code",
   "execution_count": 10,
   "metadata": {},
   "outputs": [
    {
     "name": "stdout",
     "output_type": "stream",
     "text": [
      "Number of selected features     :  4\n",
      "Mask of selected features       :  [False  True False False False  True  True  True]\n",
      "Indices of selected features    :  [1 5 6 7]\n",
      "Rankings of selected features   :  [3 1 2 5 4 1 1 1]\n",
      "feature :  preg  to be DROPPED from the model\n",
      "feature :  plas  to be included in the model\n",
      "feature :  pres  to be DROPPED from the model\n",
      "feature :  skin  to be DROPPED from the model\n",
      "feature :  test  to be DROPPED from the model\n",
      "feature :  mass  to be included in the model\n",
      "feature :  pedi  to be included in the model\n",
      "feature :  age  to be included in the model\n"
     ]
    }
   ],
   "source": [
    "# The number of selected features.\n",
    "print('Number of selected features     : ', selector_dt.n_features_)\n",
    "# The mask of selected features.\n",
    "print('Mask of selected features       : ', selector_dt.support_)\n",
    "# indices of selected features\n",
    "print('Indices of selected features    : ', selector_dt.get_support(indices=True))\n",
    "\n",
    "# ranking_ : array of shape [n_features]\n",
    "# The feature ranking, such that ranking_[i] corresponds to the ranking position of \n",
    "# the i-th feature. \n",
    "# Selected (i.e., estimated best) features are assigned rank 1.\n",
    "print('Rankings of selected features   : ', selector_dt.ranking_)\n",
    "\n",
    "for i in list(zip(colnames, selector_dt.ranking_)):\n",
    "    if i[1] == 1:\n",
    "        print('feature : ', i[0], ' to be included in the model')\n",
    "    else:\n",
    "        print('feature : ', i[0], ' to be DROPPED from the model')"
   ]
  },
  {
   "cell_type": "code",
   "execution_count": null,
   "metadata": {},
   "outputs": [],
   "source": []
  }
 ],
 "metadata": {
  "kernelspec": {
   "display_name": "Python 3",
   "language": "python",
   "name": "python3"
  },
  "language_info": {
   "codemirror_mode": {
    "name": "ipython",
    "version": 3
   },
   "file_extension": ".py",
   "mimetype": "text/x-python",
   "name": "python",
   "nbconvert_exporter": "python",
   "pygments_lexer": "ipython3",
   "version": "3.7.6"
  }
 },
 "nbformat": 4,
 "nbformat_minor": 2
}
