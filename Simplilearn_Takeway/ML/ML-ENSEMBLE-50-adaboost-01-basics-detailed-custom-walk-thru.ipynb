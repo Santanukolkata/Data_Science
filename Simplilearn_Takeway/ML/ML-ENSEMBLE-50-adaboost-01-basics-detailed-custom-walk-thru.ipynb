{
 "cells": [
  {
   "cell_type": "markdown",
   "metadata": {},
   "source": [
    "# Adaboost - algorithm - custom walk thru\n",
    "\n",
    "### Recap\n",
    "\n",
    "let $ G_m(x) \\ m = 1,2,...,M $ be the sequence of weak classifiers, our objective is to build the following:\n",
    "\n",
    "$$ G(x) = \\text{sign} \\left( \\alpha_1 G_1(x) + \\alpha_2 G_2(x) + ... \\alpha_M G_M(x)\\right) = \\text{sign} \\left( \\sum_{m = 1}^M \\alpha_m G_m(x)\\right)$$ \n",
    "\n",
    "- The final prediction is a combination of the predictions from all classifiers through a weighted majority vote\n",
    "\n",
    "- The coefficients $α_m$ are computed by the boosting algorithm, and weight the contribution of each respective $G_m(x)$. The effect is to give higher influence to the more accurate classifiers in the sequence.\n",
    "\n",
    "- At each boosting step, the data is modified by applying weights $w_1$, $w_2$,..., $w_N$ to each training observation. At step m the observations that were misclassified previously have their weights increased\n",
    "\n",
    "Note that at the first step m=1 the weights are initialized uniformly $w_i$ = 1/N"
   ]
  },
  {
   "cell_type": "code",
   "execution_count": 1,
   "metadata": {},
   "outputs": [],
   "source": [
    "import matplotlib.pyplot as plt\n",
    "from matplotlib.colors import ListedColormap\n",
    "import numpy as np\n",
    "import seaborn as sns\n",
    "sns.set_style('white')\n",
    "\n",
    "from mlxtend.plotting import plot_decision_regions\n",
    "\n",
    "from sklearn.tree import DecisionTreeClassifier\n",
    "from sklearn.ensemble import AdaBoostClassifier\n",
    "\n",
    "# import libraries for metrics and reporting\n",
    "from sklearn.metrics import confusion_matrix\n",
    "from sklearn.metrics import classification_report\n",
    "from sklearn.metrics import accuracy_score\n",
    "from sklearn import metrics"
   ]
  },
  {
   "cell_type": "markdown",
   "metadata": {},
   "source": [
    "### Dataset "
   ]
  },
  {
   "cell_type": "code",
   "execution_count": 3,
   "metadata": {},
   "outputs": [],
   "source": [
    "#Toy Dataset\n",
    "x1 = np.array([.1,.2, .4,.8, .8, .05,.08,.12,.33,.55,.66,.77,.88,.2,.3,.4,.5,.6, .25,.3,.5, .7,.6])\n",
    "x2 = np.array([.2,.65,.7,.6, .3, .1, .4, .66,.77,.65,.68,.55,.44,.1,.3,.4,.3,.15,.15,.5,.55,.2,.4])\n",
    "\n",
    "# y = np.array([1,1,1,1,1,1,1,1,1,1,1,1,1,-1,-1,-1,-1,-1,-1,-1,-1,-1,-1])\n",
    "\n",
    "y = np.array([-1,-1,1,1,1,1,1,-1,-1,-1,1,1,1,-1,-1,-1,-1,-1,-1,-1,-1,1,1])\n",
    "\n",
    "X = np.vstack((x1,x2)).T\n"
   ]
  },
  {
   "cell_type": "code",
   "execution_count": 4,
   "metadata": {},
   "outputs": [
    {
     "data": {
      "text/plain": [
       "array([[0.1 , 0.2 ],\n",
       "       [0.2 , 0.65],\n",
       "       [0.4 , 0.7 ],\n",
       "       [0.8 , 0.6 ],\n",
       "       [0.8 , 0.3 ]])"
      ]
     },
     "execution_count": 4,
     "metadata": {},
     "output_type": "execute_result"
    }
   ],
   "source": [
    "X[:5]"
   ]
  },
  {
   "cell_type": "code",
   "execution_count": 5,
   "metadata": {},
   "outputs": [],
   "source": [
    "def custom_decision_region(X, y, clf):\n",
    "    \n",
    "    # Parameters\n",
    "    classes = [-1, 1]\n",
    "    plot_colors = \"br\"\n",
    "    plot_step = 0.02\n",
    "    \n",
    "    x_min, x_max = X[:, 0].min() - 1, X[:, 0].max() + 1\n",
    "    y_min, y_max = X[:, 1].min() - 1, X[:, 1].max() + 1\n",
    "    \n",
    "    xx, yy = np.meshgrid(np.arange(x_min, x_max, plot_step),\n",
    "                         np.arange(y_min, y_max, plot_step))\n",
    "\n",
    "    Z = clf.predict(np.c_[xx.ravel(), yy.ravel()])\n",
    "    Z = Z.reshape(xx.shape)\n",
    "    cs = plt.contourf(xx, yy, Z, cmap=plt.cm.Paired)\n",
    "\n",
    "    plt.axis(\"tight\")\n",
    "\n",
    "    # Plot the training points\n",
    "    for i, class_label_pos, color in zip(classes, range(2), plot_colors):\n",
    "        idx = np.where(y == i)\n",
    "        \n",
    "        plt.scatter(X[idx, 0], \n",
    "                    X[idx, 1], \n",
    "                    c=color, \n",
    "                    label=classes[class_label_pos],\n",
    "                    cmap=plt.cm.Paired)\n",
    "\n",
    "    plt.axis(\"tight\")"
   ]
  },
  {
   "cell_type": "markdown",
   "metadata": {},
   "source": [
    "### Scatter plot of original data"
   ]
  },
  {
   "cell_type": "code",
   "execution_count": 6,
   "metadata": {},
   "outputs": [
    {
     "data": {
      "image/png": "[encoded data removed]",
      "text/plain": [
       "<Figure size 432x288 with 1 Axes>"
      ]
     },
     "metadata": {
      "needs_background": "light"
     },
     "output_type": "display_data"
    }
   ],
   "source": [
    "plt.scatter(X[y==-1][:, 0], X[y==-1][:, 1], label='-1');\n",
    "plt.scatter(X[y== 1][:, 0], X[y== 1][:, 1], label='1');\n",
    "\n",
    "# plt.xticks(np.arange(-1, 2, .5)) \n",
    "# plt.yticks(np.arange(-1, 2, .5)) \n",
    "\n",
    "plt.xlabel('x1')\n",
    "plt.ylabel('x2');\n",
    "plt.legend();"
   ]
  },
  {
   "cell_type": "markdown",
   "metadata": {},
   "source": [
    "### use decision tree with (max_depth=1, max_leaf_nodes=2)"
   ]
  },
  {
   "cell_type": "code",
   "execution_count": 7,
   "metadata": {},
   "outputs": [
    {
     "data": {
      "text/plain": [
       "0.8260869565217391"
      ]
     },
     "execution_count": 7,
     "metadata": {},
     "output_type": "execute_result"
    }
   ],
   "source": [
    "dt = DecisionTreeClassifier(max_depth=1, max_leaf_nodes=2)\n",
    "\n",
    "dt.fit(X, y)\n",
    "\n",
    "y_pred = dt.predict(X)\n",
    "\n",
    "accuracy_score(y, y_pred)"
   ]
  },
  {
   "cell_type": "code",
   "execution_count": 8,
   "metadata": {},
   "outputs": [
    {
     "data": {
      "image/png": "[encoded data removed]",
      "text/plain": [
       "<Figure size 1008x360 with 1 Axes>"
      ]
     },
     "metadata": {
      "needs_background": "light"
     },
     "output_type": "display_data"
    }
   ],
   "source": [
    "plt.figure(figsize=(14, 5))\n",
    "plt.grid()\n",
    "\n",
    "# mlxtend\n",
    "custom_decision_region(X, y, clf=dt)\n",
    "\n",
    "plt.xticks(np.arange(-1, 2, .25)) \n",
    "plt.yticks(np.arange(-1, 2, .25)) \n",
    "\n",
    "plt.xlabel('x1')\n",
    "plt.ylabel('x2');"
   ]
  },
  {
   "cell_type": "code",
   "execution_count": 9,
   "metadata": {},
   "outputs": [],
   "source": [
    "import graphviz \n",
    "from sklearn.tree import export_graphviz"
   ]
  },
  {
   "cell_type": "code",
   "execution_count": 10,
   "metadata": {},
   "outputs": [
    {
     "data": {
      "image/svg+xml": [
       "<?xml version=\"1.0\" encoding=\"UTF-8\" standalone=\"no\"?>\r\n",
       "<!DOCTYPE svg PUBLIC \"-//W3C//DTD SVG 1.1//EN\"\r\n",
       " \"http://www.w3.org/Graphics/SVG/1.1/DTD/svg11.dtd\">\r\n",
       "<!-- Generated by graphviz version 2.38.0 (20140413.2041)\r\n",
       " -->\r\n",
       "<!-- Title: Tree Pages: 1 -->\r\n",
       "<svg width=\"228pt\" height=\"195pt\"\r\n",
       " viewBox=\"0.00 0.00 228.00 195.00\" xmlns=\"http://www.w3.org/2000/svg\" xmlns:xlink=\"http://www.w3.org/1999/xlink\">\r\n",
       "<g id=\"graph0\" class=\"graph\" transform=\"scale(1 1) rotate(0) translate(4 191)\">\r\n",
       "<title>Tree</title>\r\n",
       "<polygon fill=\"white\" stroke=\"none\" points=\"-4,4 -4,-191 224,-191 224,4 -4,4\"/>\r\n",
       "<!-- 0 -->\r\n",
       "<g id=\"node1\" class=\"node\"><title>0</title>\r\n",
       "<path fill=\"#e58139\" fill-opacity=\"0.231373\" stroke=\"black\" d=\"M156,-187C156,-187 67,-187 67,-187 61,-187 55,-181 55,-175 55,-175 55,-116 55,-116 55,-110 61,-104 67,-104 67,-104 156,-104 156,-104 162,-104 168,-110 168,-116 168,-116 168,-175 168,-175 168,-181 162,-187 156,-187\"/>\r\n",
       "<text text-anchor=\"start\" x=\"82\" y=\"-171.8\" font-family=\"Helvetica,sans-Serif\" font-size=\"14.00\">x1 ≤ 0.63</text>\r\n",
       "<text text-anchor=\"start\" x=\"74\" y=\"-156.8\" font-family=\"Helvetica,sans-Serif\" font-size=\"14.00\">gini = 0.491</text>\r\n",
       "<text text-anchor=\"start\" x=\"68\" y=\"-141.8\" font-family=\"Helvetica,sans-Serif\" font-size=\"14.00\">samples = 23</text>\r\n",
       "<text text-anchor=\"start\" x=\"63\" y=\"-126.8\" font-family=\"Helvetica,sans-Serif\" font-size=\"14.00\">value = [13, 10]</text>\r\n",
       "<text text-anchor=\"start\" x=\"85\" y=\"-111.8\" font-family=\"Helvetica,sans-Serif\" font-size=\"14.00\">class = [</text>\r\n",
       "</g>\r\n",
       "<!-- 1 -->\r\n",
       "<g id=\"node2\" class=\"node\"><title>1</title>\r\n",
       "<path fill=\"#e58139\" fill-opacity=\"0.694118\" stroke=\"black\" d=\"M93,-68C93,-68 12,-68 12,-68 6,-68 0,-62 0,-56 0,-56 0,-12 0,-12 0,-6 6,-0 12,-0 12,-0 93,-0 93,-0 99,-0 105,-6 105,-12 105,-12 105,-56 105,-56 105,-62 99,-68 93,-68\"/>\r\n",
       "<text text-anchor=\"start\" x=\"19\" y=\"-52.8\" font-family=\"Helvetica,sans-Serif\" font-size=\"14.00\">gini = 0.36</text>\r\n",
       "<text text-anchor=\"start\" x=\"9\" y=\"-37.8\" font-family=\"Helvetica,sans-Serif\" font-size=\"14.00\">samples = 17</text>\r\n",
       "<text text-anchor=\"start\" x=\"8\" y=\"-22.8\" font-family=\"Helvetica,sans-Serif\" font-size=\"14.00\">value = [13, 4]</text>\r\n",
       "<text text-anchor=\"start\" x=\"26\" y=\"-7.8\" font-family=\"Helvetica,sans-Serif\" font-size=\"14.00\">class = [</text>\r\n",
       "</g>\r\n",
       "<!-- 0&#45;&gt;1 -->\r\n",
       "<g id=\"edge1\" class=\"edge\"><title>0&#45;&gt;1</title>\r\n",
       "<path fill=\"none\" stroke=\"black\" d=\"M89.5306,-103.726C84.8619,-95.0615 79.9235,-85.8962 75.2272,-77.1802\"/>\r\n",
       "<polygon fill=\"black\" stroke=\"black\" points=\"78.2669,-75.4428 70.4422,-68.2996 72.1045,-78.7632 78.2669,-75.4428\"/>\r\n",
       "<text text-anchor=\"middle\" x=\"63.2651\" y=\"-88.5472\" font-family=\"Helvetica,sans-Serif\" font-size=\"14.00\">True</text>\r\n",
       "</g>\r\n",
       "<!-- 2 -->\r\n",
       "<g id=\"node3\" class=\"node\"><title>2</title>\r\n",
       "<path fill=\"#399de5\" stroke=\"black\" d=\"M208,-68C208,-68 135,-68 135,-68 129,-68 123,-62 123,-56 123,-56 123,-12 123,-12 123,-6 129,-0 135,-0 135,-0 208,-0 208,-0 214,-0 220,-6 220,-12 220,-12 220,-56 220,-56 220,-62 214,-68 208,-68\"/>\r\n",
       "<text text-anchor=\"start\" x=\"142.5\" y=\"-52.8\" font-family=\"Helvetica,sans-Serif\" font-size=\"14.00\">gini = 0.0</text>\r\n",
       "<text text-anchor=\"start\" x=\"132\" y=\"-37.8\" font-family=\"Helvetica,sans-Serif\" font-size=\"14.00\">samples = 6</text>\r\n",
       "<text text-anchor=\"start\" x=\"131\" y=\"-22.8\" font-family=\"Helvetica,sans-Serif\" font-size=\"14.00\">value = [0, 6]</text>\r\n",
       "<text text-anchor=\"start\" x=\"144.5\" y=\"-7.8\" font-family=\"Helvetica,sans-Serif\" font-size=\"14.00\">class = &#45;</text>\r\n",
       "</g>\r\n",
       "<!-- 0&#45;&gt;2 -->\r\n",
       "<g id=\"edge2\" class=\"edge\"><title>0&#45;&gt;2</title>\r\n",
       "<path fill=\"none\" stroke=\"black\" d=\"M133.842,-103.726C138.59,-95.0615 143.612,-85.8962 148.388,-77.1802\"/>\r\n",
       "<polygon fill=\"black\" stroke=\"black\" points=\"151.518,-78.7513 153.254,-68.2996 145.379,-75.3875 151.518,-78.7513\"/>\r\n",
       "<text text-anchor=\"middle\" x=\"160.262\" y=\"-88.5972\" font-family=\"Helvetica,sans-Serif\" font-size=\"14.00\">False</text>\r\n",
       "</g>\r\n",
       "</g>\r\n",
       "</svg>\r\n"
      ],
      "text/plain": [
       "<graphviz.files.Source at 0x1c4d6dc3b38>"
      ]
     },
     "execution_count": 10,
     "metadata": {},
     "output_type": "execute_result"
    }
   ],
   "source": [
    "dot_data = export_graphviz( dt, \n",
    "                            out_file=None, \n",
    "                            feature_names=['x1', 'x2'],  \n",
    "                            class_names= np.str(np.unique(y)),  \n",
    "                            filled=True, \n",
    "                            rounded=True,  \n",
    "                            special_characters=True)  \n",
    "\n",
    "graph = graphviz.Source(dot_data)  \n",
    "\n",
    "graph "
   ]
  },
  {
   "cell_type": "markdown",
   "metadata": {},
   "source": [
    "### with adaboost classifier"
   ]
  },
  {
   "cell_type": "code",
   "execution_count": 11,
   "metadata": {},
   "outputs": [
    {
     "data": {
      "text/plain": [
       "1.0"
      ]
     },
     "execution_count": 11,
     "metadata": {},
     "output_type": "execute_result"
    },
    {
     "data": {
      "image/png": "[encoded data removed]",
      "text/plain": [
       "<Figure size 432x288 with 1 Axes>"
      ]
     },
     "metadata": {
      "needs_background": "light"
     },
     "output_type": "display_data"
    }
   ],
   "source": [
    "boost = AdaBoostClassifier( base_estimator = DecisionTreeClassifier(max_depth=1), \n",
    "                            algorithm = 'SAMME',\n",
    "                            n_estimators=25, \n",
    "                            learning_rate=1.0)\n",
    "\n",
    "boost.fit(X,y)\n",
    "\n",
    "custom_decision_region(X, y, boost) \n",
    "\n",
    "boost.score(X,y)"
   ]
  },
  {
   "cell_type": "code",
   "execution_count": 12,
   "metadata": {},
   "outputs": [
    {
     "data": {
      "image/png": "[encoded data removed]",
      "text/plain": [
       "<Figure size 432x288 with 1 Axes>"
      ]
     },
     "metadata": {
      "needs_background": "light"
     },
     "output_type": "display_data"
    }
   ],
   "source": [
    "# mlxtend\n",
    "plot_decision_regions(X, y, clf=boost, legend=2);"
   ]
  },
  {
   "cell_type": "markdown",
   "metadata": {},
   "source": [
    "### Stepwise explanation"
   ]
  },
  {
   "cell_type": "code",
   "execution_count": 12,
   "metadata": {},
   "outputs": [],
   "source": [
    "# No of iterations\n",
    "M = 10\n",
    "\n",
    "# set the learning rate\n",
    "learning_rate = 1\n",
    "\n",
    "# Initialization of utility variables\n",
    "N = len(y)\n",
    "estimator_list, y_predict_list, stump_error_list, stump_amt_of_say_list, sample_weight_list = [], [],[],[],[]\n",
    "\n",
    "# Initialize the sample weights\n",
    "sample_weight = np.ones(N) / N\n",
    "sample_weight_list.append(sample_weight.copy())\n",
    "\n",
    "# Fit a classifier\n",
    "estimator = DecisionTreeClassifier(max_depth = 1, \n",
    "                                   max_leaf_nodes = 2)"
   ]
  },
  {
   "cell_type": "code",
   "execution_count": 13,
   "metadata": {},
   "outputs": [
    {
     "data": {
      "text/plain": [
       "array([0.04347826, 0.04347826, 0.04347826, 0.04347826, 0.04347826,\n",
       "       0.04347826, 0.04347826, 0.04347826, 0.04347826, 0.04347826,\n",
       "       0.04347826, 0.04347826, 0.04347826, 0.04347826, 0.04347826,\n",
       "       0.04347826, 0.04347826, 0.04347826, 0.04347826, 0.04347826,\n",
       "       0.04347826, 0.04347826, 0.04347826])"
      ]
     },
     "execution_count": 13,
     "metadata": {},
     "output_type": "execute_result"
    }
   ],
   "source": [
    "sample_weight"
   ]
  },
  {
   "cell_type": "code",
   "execution_count": 14,
   "metadata": {},
   "outputs": [
    {
     "data": {
      "text/plain": [
       "[array([0.04347826, 0.04347826, 0.04347826, 0.04347826, 0.04347826,\n",
       "        0.04347826, 0.04347826, 0.04347826, 0.04347826, 0.04347826,\n",
       "        0.04347826, 0.04347826, 0.04347826, 0.04347826, 0.04347826,\n",
       "        0.04347826, 0.04347826, 0.04347826, 0.04347826, 0.04347826,\n",
       "        0.04347826, 0.04347826, 0.04347826])]"
      ]
     },
     "execution_count": 14,
     "metadata": {},
     "output_type": "execute_result"
    }
   ],
   "source": [
    "sample_weight_list"
   ]
  },
  {
   "cell_type": "code",
   "execution_count": 16,
   "metadata": {},
   "outputs": [],
   "source": [
    "estimator.fit(X, \n",
    "              y, \n",
    "              sample_weight=sample_weight)\n",
    "\n",
    "y_predict = estimator.predict(X)"
   ]
  },
  {
   "cell_type": "code",
   "execution_count": 17,
   "metadata": {},
   "outputs": [
    {
     "data": {
      "text/plain": [
       "array([False, False,  True, False, False,  True,  True, False, False,\n",
       "       False, False, False, False, False, False, False, False, False,\n",
       "       False, False, False, False,  True])"
      ]
     },
     "execution_count": 17,
     "metadata": {},
     "output_type": "execute_result"
    }
   ],
   "source": [
    "# Misclassifications\n",
    "incorrect = (y_predict != y)\n",
    "incorrect"
   ]
  },
  {
   "cell_type": "code",
   "execution_count": 18,
   "metadata": {},
   "outputs": [
    {
     "data": {
      "text/plain": [
       "(array([False,  True]), array([19,  4], dtype=int64))"
      ]
     },
     "execution_count": 18,
     "metadata": {},
     "output_type": "execute_result"
    }
   ],
   "source": [
    "np.unique(incorrect, return_counts=True)"
   ]
  },
  {
   "cell_type": "markdown",
   "metadata": {},
   "source": [
    "#### Numpy average"
   ]
  },
  {
   "cell_type": "code",
   "execution_count": 19,
   "metadata": {},
   "outputs": [
    {
     "data": {
      "text/plain": [
       "15.0"
      ]
     },
     "execution_count": 19,
     "metadata": {},
     "output_type": "execute_result"
    }
   ],
   "source": [
    "incorrect1     = np.array([10, 20])\n",
    "sample_weight1 = [1, 1]\n",
    "\n",
    "np.average(incorrect1, weights=sample_weight1, axis=0)"
   ]
  },
  {
   "cell_type": "code",
   "execution_count": 20,
   "metadata": {},
   "outputs": [
    {
     "data": {
      "text/plain": [
       "15.0"
      ]
     },
     "execution_count": 20,
     "metadata": {},
     "output_type": "execute_result"
    }
   ],
   "source": [
    "incorrect1     = np.array([10, 20])\n",
    "sample_weight1 = [.1, .1]\n",
    "\n",
    "np.average(incorrect1, weights=sample_weight1, axis=0)"
   ]
  },
  {
   "cell_type": "code",
   "execution_count": 21,
   "metadata": {},
   "outputs": [
    {
     "data": {
      "text/plain": [
       "26.666666666666664"
      ]
     },
     "execution_count": 21,
     "metadata": {},
     "output_type": "execute_result"
    }
   ],
   "source": [
    "incorrect1     = np.array([40, 20])\n",
    "sample_weight1 = [.4, .8]\n",
    "\n",
    "np.average(incorrect1, weights=sample_weight1, axis=0)"
   ]
  },
  {
   "cell_type": "code",
   "execution_count": 22,
   "metadata": {},
   "outputs": [
    {
     "data": {
      "text/plain": [
       "13.666666666666664"
      ]
     },
     "execution_count": 22,
     "metadata": {},
     "output_type": "execute_result"
    }
   ],
   "source": [
    "incorrect1     = np.array([True, 20])\n",
    "sample_weight1 = [.4, .8]\n",
    "\n",
    "np.average(incorrect1, weights=sample_weight1, axis=0)"
   ]
  },
  {
   "cell_type": "code",
   "execution_count": 23,
   "metadata": {},
   "outputs": [
    {
     "data": {
      "text/plain": [
       "0.3333333333333333"
      ]
     },
     "execution_count": 23,
     "metadata": {},
     "output_type": "execute_result"
    }
   ],
   "source": [
    "incorrect1     = np.array([True, False])\n",
    "sample_weight1 = [.4, .8]\n",
    "\n",
    "np.average(incorrect1, weights=sample_weight1, axis=0)"
   ]
  },
  {
   "cell_type": "code",
   "execution_count": 24,
   "metadata": {},
   "outputs": [
    {
     "data": {
      "text/plain": [
       "0.0"
      ]
     },
     "execution_count": 24,
     "metadata": {},
     "output_type": "execute_result"
    }
   ],
   "source": [
    "incorrect1     = np.array([False, False])\n",
    "sample_weight1 = [.4, .8]\n",
    "\n",
    "np.average(incorrect1, weights=sample_weight1, axis=0)"
   ]
  },
  {
   "cell_type": "markdown",
   "metadata": {},
   "source": [
    ".. back to the code"
   ]
  },
  {
   "cell_type": "markdown",
   "metadata": {},
   "source": [
    "#### Total Error for a stump\n",
    "    Initial sample weight is = 1/ (total number of samples)\n",
    "\n",
    "    Total Error for a stump = Sum of the weights associated with the incorrectly classified samples. \n",
    "    \n",
    "$$ \\Large Err_m = \\frac{\\sum_{i-1}^N w_i \\mathcal{I}(y^{(i)} \\neq G_m(x^{(i)}) )}{\\sum_{i=1}^N w_i} $$\n"
   ]
  },
  {
   "cell_type": "code",
   "execution_count": 25,
   "metadata": {},
   "outputs": [
    {
     "data": {
      "text/plain": [
       "0.1739130434782609"
      ]
     },
     "execution_count": 25,
     "metadata": {},
     "output_type": "execute_result"
    }
   ],
   "source": [
    "# total error\n",
    "stump_error = np.average(incorrect, \n",
    "                         weights=sample_weight, \n",
    "                         axis=0)\n",
    "stump_error"
   ]
  },
  {
   "attachments": {
    "adb1.PNG": {
     "image/png": "[encoded data removed]"
    }
   },
   "cell_type": "markdown",
   "metadata": {},
   "source": [
    "#### Amount of Say for a stump\n",
    "\n",
    "$$ \\Large \\alpha_m = \\log \\left( \\frac{1 - err_m}{err_m}\\right) $$\n",
    "\n",
    "![adb1.PNG](attachment:adb1.PNG)"
   ]
  },
  {
   "cell_type": "code",
   "execution_count": 26,
   "metadata": {},
   "outputs": [
    {
     "data": {
      "text/plain": [
       "1.5581446180465497"
      ]
     },
     "execution_count": 26,
     "metadata": {},
     "output_type": "execute_result"
    }
   ],
   "source": [
    "stump_amt_of_say =  learning_rate * np.log((1. - stump_error) / stump_error)\n",
    "stump_amt_of_say"
   ]
  },
  {
   "cell_type": "markdown",
   "metadata": {},
   "source": [
    "#### Set sample weights"
   ]
  },
  {
   "cell_type": "markdown",
   "metadata": {},
   "source": [
    "$$ \\Large w_i \\leftarrow w_i \\exp[ \\alpha_m \\ \\mathcal{I}(y^{(i)} \\neq G_m(x^{(i)}))] $$"
   ]
  },
  {
   "cell_type": "code",
   "execution_count": 27,
   "metadata": {},
   "outputs": [
    {
     "data": {
      "text/plain": [
       "array([0.04347826, 0.04347826, 0.04347826, 0.04347826, 0.04347826,\n",
       "       0.04347826, 0.04347826, 0.04347826, 0.04347826, 0.04347826,\n",
       "       0.04347826, 0.04347826, 0.04347826, 0.04347826, 0.04347826,\n",
       "       0.04347826, 0.04347826, 0.04347826, 0.04347826, 0.04347826,\n",
       "       0.04347826, 0.04347826, 0.04347826])"
      ]
     },
     "execution_count": 27,
     "metadata": {},
     "output_type": "execute_result"
    }
   ],
   "source": [
    "# initial sample weight\n",
    "sample_weight"
   ]
  },
  {
   "cell_type": "code",
   "execution_count": 28,
   "metadata": {},
   "outputs": [
    {
     "data": {
      "text/plain": [
       "array([0.        , 0.        , 1.55814462, 0.        , 0.        ,\n",
       "       1.55814462, 1.55814462, 0.        , 0.        , 0.        ,\n",
       "       0.        , 0.        , 0.        , 0.        , 0.        ,\n",
       "       0.        , 0.        , 0.        , 0.        , 0.        ,\n",
       "       0.        , 0.        , 1.55814462])"
      ]
     },
     "execution_count": 28,
     "metadata": {},
     "output_type": "execute_result"
    }
   ],
   "source": [
    "stump_amt_of_say * incorrect"
   ]
  },
  {
   "cell_type": "code",
   "execution_count": 29,
   "metadata": {},
   "outputs": [
    {
     "data": {
      "text/plain": [
       "array([0.  , 0.  , 4.75, 0.  , 0.  , 4.75, 4.75, 0.  , 0.  , 0.  , 0.  ,\n",
       "       0.  , 0.  , 0.  , 0.  , 0.  , 0.  , 0.  , 0.  , 0.  , 0.  , 0.  ,\n",
       "       4.75])"
      ]
     },
     "execution_count": 29,
     "metadata": {},
     "output_type": "execute_result"
    }
   ],
   "source": [
    "np.exp(stump_amt_of_say) * incorrect "
   ]
  },
  {
   "cell_type": "code",
   "execution_count": 30,
   "metadata": {},
   "outputs": [
    {
     "data": {
      "text/plain": [
       "array([0.  , 0.  , 4.75, 0.  , 0.  , 4.75, 4.75, 0.  , 0.  , 0.  , 0.  ,\n",
       "       0.  , 0.  , 0.  , 0.  , 0.  , 0.  , 0.  , 0.  , 0.  , 0.  , 0.  ,\n",
       "       4.75])"
      ]
     },
     "execution_count": 30,
     "metadata": {},
     "output_type": "execute_result"
    }
   ],
   "source": [
    "np.exp(stump_amt_of_say )* incorrect * ((sample_weight > 0) | (stump_amt_of_say < 0))"
   ]
  },
  {
   "cell_type": "code",
   "execution_count": 31,
   "metadata": {},
   "outputs": [
    {
     "data": {
      "text/plain": [
       "array([0.        , 0.        , 0.20652174, 0.        , 0.        ,\n",
       "       0.20652174, 0.20652174, 0.        , 0.        , 0.        ,\n",
       "       0.        , 0.        , 0.        , 0.        , 0.        ,\n",
       "       0.        , 0.        , 0.        , 0.        , 0.        ,\n",
       "       0.        , 0.        , 0.20652174])"
      ]
     },
     "execution_count": 31,
     "metadata": {},
     "output_type": "execute_result"
    }
   ],
   "source": [
    "# Boost sample weights (incorrect ones)\n",
    "#sample_weight *= np.exp(stump_amt_of_say * incorrect * ((sample_weight > 0) | (stump_amt_of_say < 0)))\n",
    "\n",
    "sample_weight_incorrect = sample_weight * np.exp(stump_amt_of_say) * incorrect \n",
    "sample_weight_incorrect"
   ]
  },
  {
   "cell_type": "code",
   "execution_count": 32,
   "metadata": {},
   "outputs": [
    {
     "data": {
      "text/plain": [
       "array([0.00915332, 0.00915332, 0.        , 0.00915332, 0.00915332,\n",
       "       0.        , 0.        , 0.00915332, 0.00915332, 0.00915332,\n",
       "       0.00915332, 0.00915332, 0.00915332, 0.00915332, 0.00915332,\n",
       "       0.00915332, 0.00915332, 0.00915332, 0.00915332, 0.00915332,\n",
       "       0.00915332, 0.00915332, 0.        ])"
      ]
     },
     "execution_count": 32,
     "metadata": {},
     "output_type": "execute_result"
    }
   ],
   "source": [
    "# Boost sample weights (correct ones)\n",
    "#sample_weight *= np.exp(stump_amt_of_say * incorrect * ((sample_weight > 0) | (stump_amt_of_say < 0)))\n",
    "\n",
    "sample_weight_correct = sample_weight * np.exp(-stump_amt_of_say) * ~incorrect \n",
    "sample_weight_correct"
   ]
  },
  {
   "cell_type": "code",
   "execution_count": 33,
   "metadata": {},
   "outputs": [
    {
     "data": {
      "text/plain": [
       "array([0.00915332, 0.00915332, 0.20652174, 0.00915332, 0.00915332,\n",
       "       0.20652174, 0.20652174, 0.00915332, 0.00915332, 0.00915332,\n",
       "       0.00915332, 0.00915332, 0.00915332, 0.00915332, 0.00915332,\n",
       "       0.00915332, 0.00915332, 0.00915332, 0.00915332, 0.00915332,\n",
       "       0.00915332, 0.00915332, 0.20652174])"
      ]
     },
     "execution_count": 33,
     "metadata": {},
     "output_type": "execute_result"
    }
   ],
   "source": [
    "sample_weight = sample_weight_incorrect + sample_weight_correct\n",
    "sample_weight"
   ]
  },
  {
   "cell_type": "markdown",
   "metadata": {},
   "source": [
    "$$ \\Large G(x) = \\text{sign} \\left[ \\sum_{m=1}^M \\alpha_m G_m(x)\\right] $$"
   ]
  },
  {
   "cell_type": "code",
   "execution_count": 34,
   "metadata": {},
   "outputs": [],
   "source": [
    "# Save iteration values\n",
    "estimator_list.append(estimator)\n",
    "y_predict_list.append(y_predict.copy())\n",
    "\n",
    "stump_error_list.append(stump_error.copy())\n",
    "stump_amt_of_say_list.append(stump_amt_of_say.copy())\n",
    "sample_weight_list.append(sample_weight.copy())\n",
    "\n",
    "# Convert to np array for convenience   \n",
    "estimator_list        = np.array(estimator_list)\n",
    "y_predict_list        = np.array(y_predict_list)\n",
    "\n",
    "stump_error_list      = np.array(stump_error_list)\n",
    "stump_amt_of_say_list = np.array(stump_amt_of_say_list)\n",
    "sample_weight_list    = np.array(sample_weight_list)"
   ]
  },
  {
   "cell_type": "code",
   "execution_count": 35,
   "metadata": {},
   "outputs": [
    {
     "data": {
      "text/plain": [
       "array([[-1, -1, -1,  1,  1, -1, -1, -1, -1, -1,  1,  1,  1, -1, -1, -1,\n",
       "        -1, -1, -1, -1, -1,  1, -1]])"
      ]
     },
     "execution_count": 35,
     "metadata": {},
     "output_type": "execute_result"
    }
   ],
   "source": [
    "y_predict_list"
   ]
  },
  {
   "cell_type": "markdown",
   "metadata": {},
   "source": [
    "#### numpy.sign\n",
    "\n",
    "Returns an element-wise indication of the sign of a number.\n",
    "\n",
    "The sign function returns \n",
    "\n",
    "    -1 if x <  0, \n",
    "     0 if x == 0, \n",
    "     1 if x >  0"
   ]
  },
  {
   "cell_type": "code",
   "execution_count": 36,
   "metadata": {},
   "outputs": [
    {
     "data": {
      "text/plain": [
       "array([ 1,  0, -1])"
      ]
     },
     "execution_count": 36,
     "metadata": {},
     "output_type": "execute_result"
    }
   ],
   "source": [
    "np.sign([10, 0, -10])"
   ]
  },
  {
   "cell_type": "markdown",
   "metadata": {},
   "source": [
    ".. back to the main code"
   ]
  },
  {
   "cell_type": "code",
   "execution_count": 37,
   "metadata": {},
   "outputs": [],
   "source": [
    "for point in range(N):\n",
    "    y_predict_list[:, point] * stump_amt_of_say_list"
   ]
  },
  {
   "cell_type": "code",
   "execution_count": 38,
   "metadata": {},
   "outputs": [
    {
     "data": {
      "text/plain": [
       "array([[-1.]])"
      ]
     },
     "execution_count": 38,
     "metadata": {},
     "output_type": "execute_result"
    }
   ],
   "source": [
    "np.array([np.sign(y_predict_list[:, point] * stump_amt_of_say_list)])"
   ]
  },
  {
   "cell_type": "code",
   "execution_count": 39,
   "metadata": {},
   "outputs": [
    {
     "name": "stdout",
     "output_type": "stream",
     "text": [
      "Accuracy =  0.8260869565217391\n"
     ]
    }
   ],
   "source": [
    "# Final Predictions\n",
    "preds = (np.array([np.sign((y_predict_list[:, point] * stump_amt_of_say_list).sum()) for point in range(N)]))\n",
    "\n",
    "print('Accuracy = ', (preds == y).sum() / N) \n",
    "\n",
    "# return estimator_list, estimator_weight_list, sample_weight_list\n"
   ]
  },
  {
   "cell_type": "markdown",
   "metadata": {},
   "source": [
    "### Running them all together in a loop"
   ]
  },
  {
   "cell_type": "code",
   "execution_count": 40,
   "metadata": {},
   "outputs": [],
   "source": [
    "# No of samples\n",
    "N = len(y)\n",
    "\n",
    "# No of iterations\n",
    "M = 25\n",
    "\n",
    "# set the learning rate\n",
    "learning_rate = 1\n",
    "\n",
    "# Initialization of utility variables\n",
    "estimator_list, y_predict_list, stump_error_list, stump_amt_of_say_list, sample_weight_list = [], [],[],[],[]\n",
    "\n",
    "# Initialize the sample weights\n",
    "sample_weight = np.ones(N) / N\n",
    "sample_weight_list.append(sample_weight.copy())\n",
    "\n",
    "# For m = 1 to M\n",
    "for m in range(M): \n",
    "        \n",
    "    # Fit a classifier\n",
    "    estimator = DecisionTreeClassifier(max_depth = 1, \n",
    "                                       max_leaf_nodes = 2)\n",
    "\n",
    "    estimator.fit(X, \n",
    "                  y, \n",
    "                  sample_weight=sample_weight)\n",
    "\n",
    "    y_predict = estimator.predict(X)\n",
    "    \n",
    "    # Misclassifications\n",
    "    incorrect = (y_predict != y)\n",
    "\n",
    "    # total error\n",
    "    stump_error = np.average(incorrect, \n",
    "                             weights=sample_weight, \n",
    "                             axis=0)\n",
    "\n",
    "    stump_amt_of_say =  learning_rate * np.log((1. - stump_error) / stump_error)\n",
    "\n",
    "    sample_weight_incorrect = sample_weight * np.exp(stump_amt_of_say)  * incorrect \n",
    "    sample_weight_correct   = sample_weight * np.exp(-stump_amt_of_say) * ~incorrect \n",
    "\n",
    "    sample_weight = sample_weight_incorrect + sample_weight_correct\n",
    "\n",
    "    # Save iteration values\n",
    "    estimator_list.append(estimator)\n",
    "    y_predict_list.append(y_predict.copy())\n",
    "\n",
    "    stump_error_list.append(stump_error.copy())\n",
    "    stump_amt_of_say_list.append(stump_amt_of_say.copy())\n",
    "    sample_weight_list.append(sample_weight.copy())"
   ]
  },
  {
   "cell_type": "code",
   "execution_count": 41,
   "metadata": {},
   "outputs": [
    {
     "name": "stdout",
     "output_type": "stream",
     "text": [
      "Accuracy =  0.9130434782608695\n"
     ]
    }
   ],
   "source": [
    "# Convert to np array for convenience   \n",
    "estimator_list        = np.array(estimator_list)\n",
    "y_predict_list        = np.array(y_predict_list)\n",
    "\n",
    "stump_error_list      = np.array(stump_error_list)\n",
    "stump_amt_of_say_list = np.array(stump_amt_of_say_list)\n",
    "sample_weight_list    = np.array(sample_weight_list)\n",
    "\n",
    "# Predictions\n",
    "preds = (np.array([np.sign((y_predict_list[:, point] * stump_amt_of_say_list).sum()) for point in range(N)]))\n",
    "print('Accuracy = ', (preds == y).sum() / N) "
   ]
  },
  {
   "cell_type": "markdown",
   "metadata": {},
   "source": [
    "#### Visualize the decision region of the stump"
   ]
  },
  {
   "cell_type": "code",
   "execution_count": 42,
   "metadata": {},
   "outputs": [
    {
     "name": "stderr",
     "output_type": "stream",
     "text": [
      "C:\\Users\\admin\\AppData\\Roaming\\Python\\Python37\\site-packages\\matplotlib\\contour.py:1230: UserWarning: No contour levels were found within the data range.\n",
      "  warnings.warn(\"No contour levels were found\"\n"
     ]
    },
    {
     "data": {
      "image/png": "[encoded data removed]",
      "text/plain": [
       "<Figure size 1008x1008 with 9 Axes>"
      ]
     },
     "metadata": {
      "needs_background": "light"
     },
     "output_type": "display_data"
    }
   ],
   "source": [
    "fig = plt.figure(figsize = (14, 14))\n",
    "\n",
    "for m in range(0, 9):\n",
    "    fig.add_subplot(3, 3, m+1)\n",
    "        \n",
    "    # mlxtend\n",
    "    plot_decision_regions(X, \n",
    "                          y, \n",
    "                          clf=estimator_list[m],\n",
    "                          legend=2)\n",
    "\n",
    "    \n",
    "    plt.title('Estimator decision boundary, m = {}'.format(m))"
   ]
  },
  {
   "cell_type": "markdown",
   "metadata": {},
   "source": [
    "#### using custom decision region"
   ]
  },
  {
   "cell_type": "code",
   "execution_count": 44,
   "metadata": {},
   "outputs": [
    {
     "data": {
      "image/png": "[encoded data removed]",
      "text/plain": [
       "<Figure size 1008x1008 with 9 Axes>"
      ]
     },
     "metadata": {
      "needs_background": "light"
     },
     "output_type": "display_data"
    }
   ],
   "source": [
    "fig = plt.figure(figsize = (14, 14))\n",
    "\n",
    "for m in range(0, 9):\n",
    "    fig.add_subplot(3, 3, m+1)\n",
    "    \n",
    "    custom_decision_region(X, \n",
    "                           y,\n",
    "                           estimator_list[m]\n",
    "                          )"
   ]
  },
  {
   "cell_type": "markdown",
   "metadata": {},
   "source": [
    "# predict(self, X)\n",
    "Predict classes for X.\n",
    "\n",
    "The predicted class of an input sample is computed as the weighted mean prediction of the classifiers in the ensemble.\n",
    "\n",
    "__Parameters__\n",
    "\n",
    "    X : {array-like, sparse matrix} of shape = [n_samples, n_features]\n",
    "    The training input samples. Sparse matrix can be CSC, CSR, COO, DOK, or LIL. COO, DOK, and LIL are converted to CSR.\n",
    "\n",
    "__Returns__:\n",
    "\n",
    "    y : array of shape = [n_samples]\n",
    "    The predicted classes."
   ]
  },
  {
   "cell_type": "code",
   "execution_count": 45,
   "metadata": {},
   "outputs": [
    {
     "name": "stdout",
     "output_type": "stream",
     "text": [
      "Final prediction for the test sample [[0.36, 0.45]] is [-1.]\n"
     ]
    }
   ],
   "source": [
    "y_pred_list_test_sample =[]\n",
    "\n",
    "test_sample   = [[.36, .45]]\n",
    "\n",
    "# no of samples\n",
    "N = len(test_sample)\n",
    "\n",
    "for m in range(M):\n",
    "   \n",
    "    model  = estimator_list[m]\n",
    "    \n",
    "    y_pred_test_sample = model.predict(test_sample)\n",
    "    y_pred_list_test_sample.append(y_pred_test_sample.copy())\n",
    "    \n",
    "y_pred_list_test_sample = np.array(y_pred_list_test_sample)\n",
    "    \n",
    "# Final Prediction\n",
    "pred = (np.array([np.sign((y_pred_list_test_sample[:, point] * stump_amt_of_say_list).sum()) for point in range(N)]))\n",
    "\n",
    "print('Final prediction for the test sample {} is {}'.format(test_sample, pred))"
   ]
  },
  {
   "cell_type": "markdown",
   "metadata": {},
   "source": [
    "# The impact of Learning Rate L and the number of weak classifiers M\n",
    "\n",
    "- Decreasing the learning rate Lmakes the coefficients $α_m$ smaller, which reduces the amplitude of the sample_weights at each step (since $w_i$ ← $w_i.e^{α_m}... )$. This translates into smaller variations of the weighted data points and therefore fewer differences between the weak classifier decision boundaries\n",
    "\n",
    "- Increasing the number of weak classifiers M increases the number of iterations, and allows the sample weights to gain greater amplitude. This translates into \n",
    "\n",
    "    1) more weak classifiers to combine at the end, and \n",
    "    \n",
    "    2) more variations in the decision boundaries of these classifiers. \n",
    "\n",
    "Put together these effects tend to lead to more complex overall decision boundaries.\n",
    "\n",
    "From this intuition, it would make sense to see a trade-off between the parameters L and M. Increasing one and decreasing the other will tend to cancel the effect."
   ]
  },
  {
   "cell_type": "code",
   "execution_count": null,
   "metadata": {},
   "outputs": [],
   "source": []
  },
  {
   "cell_type": "code",
   "execution_count": null,
   "metadata": {},
   "outputs": [],
   "source": []
  }
 ],
 "metadata": {
  "kernelspec": {
   "display_name": "Python 3",
   "language": "python",
   "name": "python3"
  },
  "language_info": {
   "codemirror_mode": {
    "name": "ipython",
    "version": 3
   },
   "file_extension": ".py",
   "mimetype": "text/x-python",
   "name": "python",
   "nbconvert_exporter": "python",
   "pygments_lexer": "ipython3",
   "version": "3.7.3"
  }
 },
 "nbformat": 4,
 "nbformat_minor": 4
}
