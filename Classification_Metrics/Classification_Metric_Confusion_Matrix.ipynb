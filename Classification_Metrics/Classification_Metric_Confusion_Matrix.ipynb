{
  "nbformat": 4,
  "nbformat_minor": 0,
  "metadata": {
    "colab": {
      "name": "Classification_Metric_Confusion_Matrix.ipynb",
      "provenance": [],
      "authorship_tag": "ABX9TyNDFwEeayj46MH5lMi0X46E",
      "include_colab_link": true
    },
    "kernelspec": {
      "name": "python3",
      "display_name": "Python 3"
    }
  },
  "cells": [
    {
      "cell_type": "markdown",
      "metadata": {
        "id": "view-in-github",
        "colab_type": "text"
      },
      "source": [
        "<a href=\"https://colab.research.google.com/github/Santanukolkata/Data_Science/blob/master/Classification_Metrics/Classification_Metric_Confusion_Matrix.ipynb\" target=\"_parent\"><img src=\"https://colab.research.google.com/assets/colab-badge.svg\" alt=\"Open In Colab\"/></a>"
      ]
    },
    {
      "cell_type": "code",
      "metadata": {
        "id": "2p68F1oXq7Z5",
        "colab_type": "code",
        "colab": {
          "base_uri": "https://localhost:8080/",
          "height": 51
        },
        "outputId": "bd7e48de-d14e-4b4f-d3ae-8024d45f6162"
      },
      "source": [
        "from sklearn.metrics import confusion_matrix\n",
        "y_true =[1,0,1,1]\n",
        "y_pred =[1,1,1,1]\n",
        "cfm = confusion_matrix(y_true, y_pred)\n",
        "cfm"
      ],
      "execution_count": 11,
      "outputs": [
        {
          "output_type": "execute_result",
          "data": {
            "text/plain": [
              "array([[0, 1],\n",
              "       [0, 3]])"
            ]
          },
          "metadata": {
            "tags": []
          },
          "execution_count": 11
        }
      ]
    },
    {
      "cell_type": "code",
      "metadata": {
        "id": "3TftmYICsArk",
        "colab_type": "code",
        "colab": {
          "base_uri": "https://localhost:8080/",
          "height": 102
        },
        "outputId": "b8def44b-f1e4-4217-c920-76d1ab186ef0"
      },
      "source": [
        "import pandas as pd\n",
        "import numpy as np\n",
        "lookup = {0: 'biscuit', 1:'candy', 2:'chocolate', 3:'praline', 4:'cake', 5:'shortbread'}\n",
        "y_true = pd.Series([lookup[_] for _ in np.random.randint(0, 5, size=10)])\n",
        "y_pred = pd.Series([lookup[_] for _ in np.random.randint(0, 5, size=10)])\n",
        "conf = confusion_matrix(y_true, y_pred)\n",
        "conf"
      ],
      "execution_count": 25,
      "outputs": [
        {
          "output_type": "execute_result",
          "data": {
            "text/plain": [
              "array([[0, 0, 0, 0, 1],\n",
              "       [0, 2, 0, 0, 0],\n",
              "       [1, 0, 0, 2, 0],\n",
              "       [0, 0, 2, 0, 0],\n",
              "       [1, 0, 0, 0, 1]])"
            ]
          },
          "metadata": {
            "tags": []
          },
          "execution_count": 25
        }
      ]
    },
    {
      "cell_type": "code",
      "metadata": {
        "id": "9damAoWFsKlh",
        "colab_type": "code",
        "colab": {
          "base_uri": "https://localhost:8080/",
          "height": 265
        },
        "outputId": "8baf51e4-80ec-4675-db8a-5e477a882367"
      },
      "source": [
        "import matplotlib.pyplot as plt\n",
        "plt.imshow(conf, cmap='binary', interpolation='None')\n",
        "plt.show()"
      ],
      "execution_count": 26,
      "outputs": [
        {
          "output_type": "display_data",
          "data": {
            "image/png": "[encoded data removed]",
            "text/plain": [
              "<Figure size 432x288 with 1 Axes>"
            ]
          },
          "metadata": {
            "tags": []
          }
        }
      ]
    },
    {
      "cell_type": "code",
      "metadata": {
        "id": "m7W0C8zEuodU",
        "colab_type": "code",
        "colab": {
          "base_uri": "https://localhost:8080/",
          "height": 68
        },
        "outputId": "b7305fd8-6f7e-4525-b3cc-3a92832d7390"
      },
      "source": [
        "import pandas as pd\n",
        "import numpy as np\n",
        "y_true = pd.Series([0,1,2,0,1])\n",
        "y_pred = pd.Series([0,0,1,2,1])\n",
        "conf = confusion_matrix(y_true, y_pred)\n",
        "conf"
      ],
      "execution_count": 27,
      "outputs": [
        {
          "output_type": "execute_result",
          "data": {
            "text/plain": [
              "array([[1, 0, 1],\n",
              "       [1, 1, 0],\n",
              "       [0, 1, 0]])"
            ]
          },
          "metadata": {
            "tags": []
          },
          "execution_count": 27
        }
      ]
    },
    {
      "cell_type": "code",
      "metadata": {
        "id": "F7L50ekIwm8v",
        "colab_type": "code",
        "colab": {}
      },
      "source": [
        ""
      ],
      "execution_count": 0,
      "outputs": []
    }
  ]
}