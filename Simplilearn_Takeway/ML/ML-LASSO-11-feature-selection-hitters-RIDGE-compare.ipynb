{
 "cells": [
  {
   "cell_type": "code",
   "execution_count": 1,
   "metadata": {},
   "outputs": [],
   "source": [
    "%matplotlib inline\n",
    "\n",
    "import pandas as pd\n",
    "import numpy as np\n",
    "import matplotlib.pyplot as plt\n",
    "\n",
    "from sklearn.preprocessing import scale \n",
    "from sklearn.model_selection import train_test_split\n",
    "from sklearn.linear_model import Ridge, RidgeCV, Lasso, LassoCV\n",
    "from sklearn.metrics import mean_squared_error"
   ]
  },
  {
   "cell_type": "code",
   "execution_count": 2,
   "metadata": {},
   "outputs": [
    {
     "name": "stdout",
     "output_type": "stream",
     "text": [
      "<class 'pandas.core.frame.DataFrame'>\n",
      "RangeIndex: 322 entries, 0 to 321\n",
      "Data columns (total 20 columns):\n",
      "AtBat        322 non-null int64\n",
      "Hits         322 non-null int64\n",
      "HmRun        322 non-null int64\n",
      "Runs         322 non-null int64\n",
      "RBI          322 non-null int64\n",
      "Walks        322 non-null int64\n",
      "Years        322 non-null int64\n",
      "CAtBat       322 non-null int64\n",
      "CHits        322 non-null int64\n",
      "CHmRun       322 non-null int64\n",
      "CRuns        322 non-null int64\n",
      "CRBI         322 non-null int64\n",
      "CWalks       322 non-null int64\n",
      "League       322 non-null object\n",
      "Division     322 non-null object\n",
      "PutOuts      322 non-null int64\n",
      "Assists      322 non-null int64\n",
      "Errors       322 non-null int64\n",
      "Salary       263 non-null float64\n",
      "NewLeague    322 non-null object\n",
      "dtypes: float64(1), int64(16), object(3)\n",
      "memory usage: 50.4+ KB\n"
     ]
    },
    {
     "data": {
      "text/html": [
       "<div>\n",
       "<style scoped>\n",
       "    .dataframe tbody tr th:only-of-type {\n",
       "        vertical-align: middle;\n",
       "    }\n",
       "\n",
       "    .dataframe tbody tr th {\n",
       "        vertical-align: top;\n",
       "    }\n",
       "\n",
       "    .dataframe thead th {\n",
       "        text-align: right;\n",
       "    }\n",
       "</style>\n",
       "<table border=\"1\" class=\"dataframe\">\n",
       "  <thead>\n",
       "    <tr style=\"text-align: right;\">\n",
       "      <th></th>\n",
       "      <th>AtBat</th>\n",
       "      <th>Hits</th>\n",
       "      <th>HmRun</th>\n",
       "      <th>Runs</th>\n",
       "      <th>RBI</th>\n",
       "      <th>Walks</th>\n",
       "      <th>Years</th>\n",
       "      <th>CAtBat</th>\n",
       "      <th>CHits</th>\n",
       "      <th>CHmRun</th>\n",
       "      <th>CRuns</th>\n",
       "      <th>CRBI</th>\n",
       "      <th>CWalks</th>\n",
       "      <th>League</th>\n",
       "      <th>Division</th>\n",
       "      <th>PutOuts</th>\n",
       "      <th>Assists</th>\n",
       "      <th>Errors</th>\n",
       "      <th>Salary</th>\n",
       "      <th>NewLeague</th>\n",
       "    </tr>\n",
       "  </thead>\n",
       "  <tbody>\n",
       "    <tr>\n",
       "      <th>0</th>\n",
       "      <td>293</td>\n",
       "      <td>66</td>\n",
       "      <td>1</td>\n",
       "      <td>30</td>\n",
       "      <td>29</td>\n",
       "      <td>14</td>\n",
       "      <td>1</td>\n",
       "      <td>293</td>\n",
       "      <td>66</td>\n",
       "      <td>1</td>\n",
       "      <td>30</td>\n",
       "      <td>29</td>\n",
       "      <td>14</td>\n",
       "      <td>A</td>\n",
       "      <td>E</td>\n",
       "      <td>446</td>\n",
       "      <td>33</td>\n",
       "      <td>20</td>\n",
       "      <td>NaN</td>\n",
       "      <td>A</td>\n",
       "    </tr>\n",
       "    <tr>\n",
       "      <th>1</th>\n",
       "      <td>315</td>\n",
       "      <td>81</td>\n",
       "      <td>7</td>\n",
       "      <td>24</td>\n",
       "      <td>38</td>\n",
       "      <td>39</td>\n",
       "      <td>14</td>\n",
       "      <td>3449</td>\n",
       "      <td>835</td>\n",
       "      <td>69</td>\n",
       "      <td>321</td>\n",
       "      <td>414</td>\n",
       "      <td>375</td>\n",
       "      <td>N</td>\n",
       "      <td>W</td>\n",
       "      <td>632</td>\n",
       "      <td>43</td>\n",
       "      <td>10</td>\n",
       "      <td>475.0</td>\n",
       "      <td>N</td>\n",
       "    </tr>\n",
       "    <tr>\n",
       "      <th>2</th>\n",
       "      <td>479</td>\n",
       "      <td>130</td>\n",
       "      <td>18</td>\n",
       "      <td>66</td>\n",
       "      <td>72</td>\n",
       "      <td>76</td>\n",
       "      <td>3</td>\n",
       "      <td>1624</td>\n",
       "      <td>457</td>\n",
       "      <td>63</td>\n",
       "      <td>224</td>\n",
       "      <td>266</td>\n",
       "      <td>263</td>\n",
       "      <td>A</td>\n",
       "      <td>W</td>\n",
       "      <td>880</td>\n",
       "      <td>82</td>\n",
       "      <td>14</td>\n",
       "      <td>480.0</td>\n",
       "      <td>A</td>\n",
       "    </tr>\n",
       "    <tr>\n",
       "      <th>3</th>\n",
       "      <td>496</td>\n",
       "      <td>141</td>\n",
       "      <td>20</td>\n",
       "      <td>65</td>\n",
       "      <td>78</td>\n",
       "      <td>37</td>\n",
       "      <td>11</td>\n",
       "      <td>5628</td>\n",
       "      <td>1575</td>\n",
       "      <td>225</td>\n",
       "      <td>828</td>\n",
       "      <td>838</td>\n",
       "      <td>354</td>\n",
       "      <td>N</td>\n",
       "      <td>E</td>\n",
       "      <td>200</td>\n",
       "      <td>11</td>\n",
       "      <td>3</td>\n",
       "      <td>500.0</td>\n",
       "      <td>N</td>\n",
       "    </tr>\n",
       "    <tr>\n",
       "      <th>4</th>\n",
       "      <td>321</td>\n",
       "      <td>87</td>\n",
       "      <td>10</td>\n",
       "      <td>39</td>\n",
       "      <td>42</td>\n",
       "      <td>30</td>\n",
       "      <td>2</td>\n",
       "      <td>396</td>\n",
       "      <td>101</td>\n",
       "      <td>12</td>\n",
       "      <td>48</td>\n",
       "      <td>46</td>\n",
       "      <td>33</td>\n",
       "      <td>N</td>\n",
       "      <td>E</td>\n",
       "      <td>805</td>\n",
       "      <td>40</td>\n",
       "      <td>4</td>\n",
       "      <td>91.5</td>\n",
       "      <td>N</td>\n",
       "    </tr>\n",
       "  </tbody>\n",
       "</table>\n",
       "</div>"
      ],
      "text/plain": [
       "   AtBat  Hits  HmRun  Runs  RBI  Walks  Years  CAtBat  CHits  CHmRun  CRuns  \\\n",
       "0    293    66      1    30   29     14      1     293     66       1     30   \n",
       "1    315    81      7    24   38     39     14    3449    835      69    321   \n",
       "2    479   130     18    66   72     76      3    1624    457      63    224   \n",
       "3    496   141     20    65   78     37     11    5628   1575     225    828   \n",
       "4    321    87     10    39   42     30      2     396    101      12     48   \n",
       "\n",
       "   CRBI  CWalks League Division  PutOuts  Assists  Errors  Salary NewLeague  \n",
       "0    29      14      A        E      446       33      20     NaN         A  \n",
       "1   414     375      N        W      632       43      10   475.0         N  \n",
       "2   266     263      A        W      880       82      14   480.0         A  \n",
       "3   838     354      N        E      200       11       3   500.0         N  \n",
       "4    46      33      N        E      805       40       4    91.5         N  "
      ]
     },
     "execution_count": 2,
     "metadata": {},
     "output_type": "execute_result"
    }
   ],
   "source": [
    "df = pd.read_csv('E:\\\\MYLEARN\\\\2-ANALYTICS-DataScience\\\\datasets\\\\Hitters.csv')\n",
    "df.info()\n",
    "df.head()"
   ]
  },
  {
   "cell_type": "code",
   "execution_count": 3,
   "metadata": {},
   "outputs": [],
   "source": [
    "dummies = pd.get_dummies(df[['League', 'Division', 'NewLeague']])"
   ]
  },
  {
   "cell_type": "code",
   "execution_count": 4,
   "metadata": {},
   "outputs": [
    {
     "data": {
      "text/plain": [
       "AtBat        0\n",
       "Hits         0\n",
       "HmRun        0\n",
       "Runs         0\n",
       "RBI          0\n",
       "Walks        0\n",
       "Years        0\n",
       "CAtBat       0\n",
       "CHits        0\n",
       "CHmRun       0\n",
       "CRuns        0\n",
       "CRBI         0\n",
       "CWalks       0\n",
       "League       0\n",
       "Division     0\n",
       "PutOuts      0\n",
       "Assists      0\n",
       "Errors       0\n",
       "Salary       0\n",
       "NewLeague    0\n",
       "dtype: int64"
      ]
     },
     "execution_count": 4,
     "metadata": {},
     "output_type": "execute_result"
    }
   ],
   "source": [
    "df.fillna(df.mean(), inplace=True)\n",
    "df.isnull().sum()"
   ]
  },
  {
   "cell_type": "code",
   "execution_count": 5,
   "metadata": {},
   "outputs": [],
   "source": [
    "y = df.Salary"
   ]
  },
  {
   "cell_type": "code",
   "execution_count": 6,
   "metadata": {},
   "outputs": [],
   "source": [
    "# Drop the column with the independent variable (Salary), and columns for which we created dummy variables\n",
    "X_ = df.drop(['Salary', 'League', 'Division', 'NewLeague'], axis = 1).astype('float64')"
   ]
  },
  {
   "cell_type": "code",
   "execution_count": 7,
   "metadata": {},
   "outputs": [],
   "source": [
    "# Define the feature set X.\n",
    "X = pd.concat([X_, dummies[['League_N', 'Division_W', 'NewLeague_N']]], axis = 1)\n"
   ]
  },
  {
   "cell_type": "code",
   "execution_count": 8,
   "metadata": {},
   "outputs": [
    {
     "name": "stdout",
     "output_type": "stream",
     "text": [
      "<class 'pandas.core.frame.DataFrame'>\n",
      "RangeIndex: 322 entries, 0 to 321\n",
      "Data columns (total 19 columns):\n",
      "AtBat          322 non-null float64\n",
      "Hits           322 non-null float64\n",
      "HmRun          322 non-null float64\n",
      "Runs           322 non-null float64\n",
      "RBI            322 non-null float64\n",
      "Walks          322 non-null float64\n",
      "Years          322 non-null float64\n",
      "CAtBat         322 non-null float64\n",
      "CHits          322 non-null float64\n",
      "CHmRun         322 non-null float64\n",
      "CRuns          322 non-null float64\n",
      "CRBI           322 non-null float64\n",
      "CWalks         322 non-null float64\n",
      "PutOuts        322 non-null float64\n",
      "Assists        322 non-null float64\n",
      "Errors         322 non-null float64\n",
      "League_N       322 non-null uint8\n",
      "Division_W     322 non-null uint8\n",
      "NewLeague_N    322 non-null uint8\n",
      "dtypes: float64(16), uint8(3)\n",
      "memory usage: 41.3 KB\n"
     ]
    }
   ],
   "source": [
    "X.info()"
   ]
  },
  {
   "cell_type": "markdown",
   "metadata": {
    "collapsed": true
   },
   "source": [
    "#### Ridge Regression"
   ]
  },
  {
   "cell_type": "markdown",
   "metadata": {
    "collapsed": true
   },
   "source": [
    "The Ridge() function has an alpha argument ( λ , but with a different name!\n",
    "We'll generate an array of alpha values ranging from \n",
    "very big to very small, essentially covering the full range of scenarios from the null \n",
    "model containing only the intercept, to the least squares fit:"
   ]
  },
  {
   "cell_type": "code",
   "execution_count": 9,
   "metadata": {},
   "outputs": [
    {
     "data": {
      "text/plain": [
       "array([5.00000000e+09, 3.78231664e+09, 2.86118383e+09, 2.16438064e+09,\n",
       "       1.63727458e+09, 1.23853818e+09, 9.36908711e+08, 7.08737081e+08,\n",
       "       5.36133611e+08, 4.05565415e+08, 3.06795364e+08, 2.32079442e+08,\n",
       "       1.75559587e+08, 1.32804389e+08, 1.00461650e+08, 7.59955541e+07,\n",
       "       5.74878498e+07, 4.34874501e+07, 3.28966612e+07, 2.48851178e+07,\n",
       "       1.88246790e+07, 1.42401793e+07, 1.07721735e+07, 8.14875417e+06,\n",
       "       6.16423370e+06, 4.66301673e+06, 3.52740116e+06, 2.66834962e+06,\n",
       "       2.01850863e+06, 1.52692775e+06, 1.15506485e+06, 8.73764200e+05,\n",
       "       6.60970574e+05, 5.00000000e+05, 3.78231664e+05, 2.86118383e+05,\n",
       "       2.16438064e+05, 1.63727458e+05, 1.23853818e+05, 9.36908711e+04,\n",
       "       7.08737081e+04, 5.36133611e+04, 4.05565415e+04, 3.06795364e+04,\n",
       "       2.32079442e+04, 1.75559587e+04, 1.32804389e+04, 1.00461650e+04,\n",
       "       7.59955541e+03, 5.74878498e+03, 4.34874501e+03, 3.28966612e+03,\n",
       "       2.48851178e+03, 1.88246790e+03, 1.42401793e+03, 1.07721735e+03,\n",
       "       8.14875417e+02, 6.16423370e+02, 4.66301673e+02, 3.52740116e+02,\n",
       "       2.66834962e+02, 2.01850863e+02, 1.52692775e+02, 1.15506485e+02,\n",
       "       8.73764200e+01, 6.60970574e+01, 5.00000000e+01, 3.78231664e+01,\n",
       "       2.86118383e+01, 2.16438064e+01, 1.63727458e+01, 1.23853818e+01,\n",
       "       9.36908711e+00, 7.08737081e+00, 5.36133611e+00, 4.05565415e+00,\n",
       "       3.06795364e+00, 2.32079442e+00, 1.75559587e+00, 1.32804389e+00,\n",
       "       1.00461650e+00, 7.59955541e-01, 5.74878498e-01, 4.34874501e-01,\n",
       "       3.28966612e-01, 2.48851178e-01, 1.88246790e-01, 1.42401793e-01,\n",
       "       1.07721735e-01, 8.14875417e-02, 6.16423370e-02, 4.66301673e-02,\n",
       "       3.52740116e-02, 2.66834962e-02, 2.01850863e-02, 1.52692775e-02,\n",
       "       1.15506485e-02, 8.73764200e-03, 6.60970574e-03, 5.00000000e-03])"
      ]
     },
     "execution_count": 9,
     "metadata": {},
     "output_type": "execute_result"
    }
   ],
   "source": [
    "alphas = 10 ** np.linspace(10, -2, 100)*0.5\n",
    "alphas"
   ]
  },
  {
   "cell_type": "markdown",
   "metadata": {
    "collapsed": true
   },
   "source": [
    "Associated with each alpha value is a vector of ridge regression coefficients, \n",
    "which we'll store in a matrix coefs. \n",
    "\n",
    "In this case, it is a  19×100  matrix, with 19 rows (one for each predictor) and 100 columns \n",
    "(one for each value of alpha). \n",
    "\n",
    "Remember that we'll want to standardize the variables so that they are on the same scale. \n",
    "To do this, we can use the normalize = True parameter:"
   ]
  },
  {
   "cell_type": "code",
   "execution_count": 10,
   "metadata": {},
   "outputs": [
    {
     "data": {
      "text/plain": [
       "(100, 19)"
      ]
     },
     "execution_count": 10,
     "metadata": {},
     "output_type": "execute_result"
    }
   ],
   "source": [
    "ridge = Ridge(normalize = True)\n",
    "\n",
    "coefs = []\n",
    "\n",
    "for a in alphas:\n",
    "    ridge.set_params(alpha = a)\n",
    "    ridge.fit(X, y)\n",
    "    coefs.append(ridge.coef_)\n",
    "    \n",
    "np.shape(coefs)"
   ]
  },
  {
   "cell_type": "code",
   "execution_count": 11,
   "metadata": {},
   "outputs": [
    {
     "data": {
      "text/plain": [
       "[array([ 1.81973154e-10,  6.75491595e-10,  2.91653448e-09,  1.16596777e-09,\n",
       "         1.25115392e-09,  1.51601552e-09,  5.82839297e-09,  1.64003186e-11,\n",
       "         6.11707313e-11,  4.26970654e-10,  1.22941067e-10,  1.21593207e-10,\n",
       "         1.33548726e-10,  7.86123159e-11,  1.45096493e-11, -6.47870906e-11,\n",
       "        -2.11347001e-09, -2.83319409e-08, -4.19511303e-10]),\n",
       " array([ 2.40557800e-10,  8.92960134e-10,  3.85548694e-09,  1.54134078e-09,\n",
       "         1.65395185e-09,  2.00408330e-09,  7.70479250e-09,  2.16802559e-11,\n",
       "         8.08641067e-11,  5.64430077e-10,  1.62520855e-10,  1.60739064e-10,\n",
       "         1.76543556e-10,  1.03920855e-10,  1.91809025e-11, -8.56447211e-11,\n",
       "        -2.79388296e-09, -3.74531584e-08, -5.54569248e-10]),\n",
       " array([ 3.18003254e-10,  1.18044075e-09,  5.09672683e-09,  2.03756179e-09,\n",
       "         2.18642701e-09,  2.64928017e-09,  1.01852822e-08,  2.86600224e-11,\n",
       "         1.06897590e-10,  7.46143344e-10,  2.14843006e-10,  2.12487583e-10,\n",
       "         2.33380191e-10,  1.37377255e-10,  2.53560242e-11, -1.13217281e-10,\n",
       "        -3.69334884e-09, -4.95108713e-08, -7.33107901e-10]),\n",
       " array([ 4.20381586e-10,  1.56047319e-09,  6.73757292e-09,  2.69353678e-09,\n",
       "         2.89032783e-09,  3.50219247e-09,  1.34643437e-08,  3.78868629e-11,\n",
       "         1.41312323e-10,  9.86357588e-10,  2.84009810e-10,  2.80896079e-10,\n",
       "         3.08514877e-10,  1.81604646e-10,  3.35191718e-11, -1.49666584e-10,\n",
       "        -4.88238979e-09, -6.54504580e-08, -9.69125486e-10]),\n",
       " array([ 5.55719716e-10,  2.06285372e-09,  8.90667487e-09,  3.56069710e-09,\n",
       "         3.82084329e-09,  4.62969234e-09,  1.77990699e-08,  5.00842030e-11,\n",
       "         1.86806574e-10,  1.30390668e-09,  3.75444254e-10,  3.71328084e-10,\n",
       "         4.07838510e-10,  2.40070654e-10,  4.43103723e-11, -1.97850416e-10,\n",
       "        -6.45423194e-09, -8.65216536e-08, -1.28112683e-09])]"
      ]
     },
     "execution_count": 11,
     "metadata": {},
     "output_type": "execute_result"
    }
   ],
   "source": [
    "coefs[:5]"
   ]
  },
  {
   "cell_type": "code",
   "execution_count": 13,
   "metadata": {},
   "outputs": [
    {
     "data": {
      "text/plain": [
       "array([5.00000000e+09, 3.78231664e+09, 2.86118383e+09, 2.16438064e+09,\n",
       "       1.63727458e+09])"
      ]
     },
     "execution_count": 13,
     "metadata": {},
     "output_type": "execute_result"
    }
   ],
   "source": [
    "alphas[:5]"
   ]
  },
  {
   "cell_type": "code",
   "execution_count": 14,
   "metadata": {},
   "outputs": [
    {
     "data": {
      "text/plain": [
       "Text(0, 0.5, 'coefs')"
      ]
     },
     "execution_count": 14,
     "metadata": {},
     "output_type": "execute_result"
    },
    {
     "data": {
      "image/png": "[encoded data removed]",
      "text/plain": [
       "<Figure size 864x432 with 1 Axes>"
      ]
     },
     "metadata": {
      "needs_background": "light"
     },
     "output_type": "display_data"
    }
   ],
   "source": [
    "plt.figure(figsize=(12, 6))\n",
    "ax = plt.gca()\n",
    "\n",
    "ax.plot(alphas, coefs)\n",
    "\n",
    "ax.set_xscale('log')\n",
    "plt.axis('tight')\n",
    "plt.xlabel('alpha')\n",
    "plt.ylabel('coefs')"
   ]
  },
  {
   "cell_type": "code",
   "execution_count": 15,
   "metadata": {},
   "outputs": [],
   "source": [
    "# Split data into training and test sets\n",
    "X_train, X_test , y_train, y_test = train_test_split(X, y, test_size=0.5, random_state=1)"
   ]
  },
  {
   "cell_type": "markdown",
   "metadata": {
    "collapsed": true
   },
   "source": [
    "Next we fit a ridge regression model on the training set, and evaluate its MSE on the test set, using  λ= from 3 to 15:"
   ]
  },
  {
   "cell_type": "code",
   "execution_count": 16,
   "metadata": {},
   "outputs": [
    {
     "name": "stdout",
     "output_type": "stream",
     "text": [
      "AtBat           0.085324\n",
      "Hits            0.406593\n",
      "HmRun           1.059089\n",
      "Runs            0.558199\n",
      "RBI             0.442252\n",
      "Walks           0.579306\n",
      "Years           2.438872\n",
      "CAtBat          0.006646\n",
      "CHits           0.026276\n",
      "CHmRun          0.163183\n",
      "CRuns           0.047403\n",
      "CRBI            0.054098\n",
      "CWalks          0.039613\n",
      "PutOuts         0.067913\n",
      "Assists        -0.026562\n",
      "Errors         -0.973841\n",
      "League_N        2.882668\n",
      "Division_W    -10.394581\n",
      "NewLeague_N     5.311430\n",
      "dtype: float64\n",
      "AtBat          235.110996\n",
      "Hits           235.110996\n",
      "HmRun          235.110996\n",
      "Runs           235.110996\n",
      "RBI            235.110996\n",
      "Walks          235.110996\n",
      "Years          235.110996\n",
      "CAtBat         235.110996\n",
      "CHits          235.110996\n",
      "CHmRun         235.110996\n",
      "CRuns          235.110996\n",
      "CRBI           235.110996\n",
      "CWalks         235.110996\n",
      "PutOuts        235.110996\n",
      "Assists        235.110996\n",
      "Errors         235.110996\n",
      "League_N       235.110996\n",
      "Division_W     235.110996\n",
      "NewLeague_N    235.110996\n",
      "dtype: float64\n",
      "MSE =  146672.20451572054\n"
     ]
    }
   ],
   "source": [
    "ridge2 = Ridge(alpha = 4, normalize = True)\n",
    "ridge2.fit(X_train, y_train)             # Fit a ridge regression on the training data\n",
    "\n",
    "pred2 = ridge2.predict(X_test)           # Use this model to predict the test data\n",
    "\n",
    "# Print coefficients\n",
    "print(pd.Series(ridge2.coef_,      index = X.columns)) \n",
    "\n",
    "# Print intercept\n",
    "print(pd.Series(ridge2.intercept_, index = X.columns)) \n",
    "\n",
    "# Calculate the test MSE\n",
    "print('MSE = ', mean_squared_error(y_test, pred2))          "
   ]
  },
  {
   "cell_type": "markdown",
   "metadata": {
    "collapsed": true
   },
   "source": [
    "The test MSE when alpha = 4 is 106216. Now let's see what happens if we use a huge value \n",
    "of alpha, say  10**10 :"
   ]
  },
  {
   "cell_type": "code",
   "execution_count": 17,
   "metadata": {},
   "outputs": [
    {
     "name": "stdout",
     "output_type": "stream",
     "text": [
      "AtBat          9.668604e-11\n",
      "Hits           3.710200e-10\n",
      "HmRun          1.398679e-09\n",
      "Runs           5.755990e-10\n",
      "RBI            5.601239e-10\n",
      "Walks          6.488802e-10\n",
      "Years          2.955466e-09\n",
      "CAtBat         7.632944e-12\n",
      "CHits          2.827656e-11\n",
      "CHmRun         1.977853e-10\n",
      "CRuns          5.350932e-11\n",
      "CRBI           5.956891e-11\n",
      "CWalks         5.593708e-11\n",
      "PutOuts        4.491057e-11\n",
      "Assists       -1.018507e-11\n",
      "Errors        -2.258862e-10\n",
      "League_N       8.216966e-10\n",
      "Division_W    -4.998603e-09\n",
      "NewLeague_N    3.827946e-09\n",
      "dtype: float64\n",
      "AtBat          506.746084\n",
      "Hits           506.746084\n",
      "HmRun          506.746084\n",
      "Runs           506.746084\n",
      "RBI            506.746084\n",
      "Walks          506.746084\n",
      "Years          506.746084\n",
      "CAtBat         506.746084\n",
      "CHits          506.746084\n",
      "CHmRun         506.746084\n",
      "CRuns          506.746084\n",
      "CRBI           506.746084\n",
      "CWalks         506.746084\n",
      "PutOuts        506.746084\n",
      "Assists        506.746084\n",
      "Errors         506.746084\n",
      "League_N       506.746084\n",
      "Division_W     506.746084\n",
      "NewLeague_N    506.746084\n",
      "dtype: float64\n",
      "MSE =  196786.1176190679\n"
     ]
    }
   ],
   "source": [
    "ridge3 = Ridge(alpha = 10**10, normalize = True)\n",
    "ridge3.fit(X_train, y_train)             # Fit a ridge regression on the training data\n",
    "pred3 = ridge3.predict(X_test)           # Use this model to predict the test data\n",
    "\n",
    "# Print coefficients\n",
    "print(pd.Series(ridge3.coef_,      index = X.columns)) \n",
    "\n",
    "# Print intercept\n",
    "print(pd.Series(ridge3.intercept_, index = X.columns)) \n",
    "\n",
    "# Calculate the test MSE\n",
    "print('MSE = ', mean_squared_error(y_test, pred3))          "
   ]
  },
  {
   "cell_type": "markdown",
   "metadata": {
    "collapsed": true
   },
   "source": [
    "This big penalty shrinks the coefficients to a very large degree, essentially reducing to a model containing just the intercept. \n",
    "\n",
    "This over-shrinking makes the model more biased, resulting in a higher MSE. (UNDERFIT)"
   ]
  },
  {
   "cell_type": "markdown",
   "metadata": {
    "collapsed": true
   },
   "source": [
    "Okay, so fitting a ridge regression model with alpha = 4 leads to a much lower test MSE than fitting a model with just an intercept. \n",
    "\n",
    "We now check whether there is any benefit to performing ridge regression with alpha = 4 instead of just performing least squares regression. \n",
    "\n",
    "Recall that least squares is simply ridge regression with alpha = 0."
   ]
  },
  {
   "cell_type": "code",
   "execution_count": 18,
   "metadata": {},
   "outputs": [
    {
     "name": "stdout",
     "output_type": "stream",
     "text": [
      "AtBat          -2.098790\n",
      "Hits           11.812454\n",
      "HmRun          17.043774\n",
      "Runs           -5.161804\n",
      "RBI            -8.519010\n",
      "Walks           4.777641\n",
      "Years          -2.045433\n",
      "CAtBat         -0.021455\n",
      "CHits          -0.709900\n",
      "CHmRun         -2.680178\n",
      "CRuns           1.593576\n",
      "CRBI            1.762769\n",
      "CWalks         -0.835677\n",
      "PutOuts         0.317750\n",
      "Assists         0.433852\n",
      "Errors         -9.506006\n",
      "League_N       13.598503\n",
      "Division_W    -47.470184\n",
      "NewLeague_N   -18.483490\n",
      "dtype: float64\n",
      "AtBat          213.777839\n",
      "Hits           213.777839\n",
      "HmRun          213.777839\n",
      "Runs           213.777839\n",
      "RBI            213.777839\n",
      "Walks          213.777839\n",
      "Years          213.777839\n",
      "CAtBat         213.777839\n",
      "CHits          213.777839\n",
      "CHmRun         213.777839\n",
      "CRuns          213.777839\n",
      "CRBI           213.777839\n",
      "CWalks         213.777839\n",
      "PutOuts        213.777839\n",
      "Assists        213.777839\n",
      "Errors         213.777839\n",
      "League_N       213.777839\n",
      "Division_W     213.777839\n",
      "NewLeague_N    213.777839\n",
      "dtype: float64\n",
      "MSE :  139632.52283021837\n"
     ]
    }
   ],
   "source": [
    "ridge0 = Ridge(alpha = 0, normalize = True)\n",
    "ridge0.fit(X_train, y_train)             \n",
    "pred = ridge0.predict(X_test)        \n",
    "\n",
    "# Print coefficients\n",
    "print(pd.Series(ridge0.coef_, index = X.columns))\n",
    "\n",
    "# Print intercept\n",
    "print(pd.Series(ridge0.intercept_, index = X.columns)) \n",
    "\n",
    "# Calculate the test MSE\n",
    "print('MSE : ', mean_squared_error(y_test, pred))           "
   ]
  },
  {
   "cell_type": "code",
   "execution_count": 19,
   "metadata": {},
   "outputs": [],
   "source": [
    "# It looks like we are indeed improving over regular least-squares!\n"
   ]
  },
  {
   "cell_type": "markdown",
   "metadata": {
    "collapsed": true
   },
   "source": [
    "Instead of arbitrarily choosing alpha  =4 , it would be better to use cross-validation to choose the tuning parameter alpha. We can do this using the cross-validated ridge regression function, RidgeCV(). "
   ]
  },
  {
   "cell_type": "code",
   "execution_count": 20,
   "metadata": {},
   "outputs": [
    {
     "data": {
      "text/plain": [
       "0.008737642000038414"
      ]
     },
     "execution_count": 20,
     "metadata": {},
     "output_type": "execute_result"
    }
   ],
   "source": [
    "ridgecv = RidgeCV(alphas = alphas, \n",
    "                  scoring = 'neg_mean_squared_error', \n",
    "                  normalize = True)\n",
    "\n",
    "ridgecv.fit(X_train, y_train)\n",
    "ridgecv.alpha_"
   ]
  },
  {
   "cell_type": "markdown",
   "metadata": {
    "collapsed": true
   },
   "source": [
    "Therefore, we see that the value of alpha that results in the smallest \n",
    "cross-validation error is 0.57. \n",
    "\n",
    "What is the test MSE associated with this value of alpha?"
   ]
  },
  {
   "cell_type": "code",
   "execution_count": 21,
   "metadata": {},
   "outputs": [
    {
     "data": {
      "text/plain": [
       "135178.4357384306"
      ]
     },
     "execution_count": 21,
     "metadata": {},
     "output_type": "execute_result"
    }
   ],
   "source": [
    "ridge4 = Ridge(alpha = ridgecv.alpha_, normalize = True)\n",
    "ridge4.fit(X_train, y_train)\n",
    "\n",
    "mean_squared_error(y_test, ridge4.predict(X_test))"
   ]
  },
  {
   "cell_type": "markdown",
   "metadata": {
    "collapsed": true
   },
   "source": [
    "This represents a further improvement over the test MSE that we got using alpha  =4 . \n",
    "\n",
    "Finally, we refit our ridge regression model on the full data set, using the value of alpha chosen by cross-validation, and examine the coefficient estimates."
   ]
  },
  {
   "cell_type": "code",
   "execution_count": 22,
   "metadata": {},
   "outputs": [
    {
     "data": {
      "text/plain": [
       "AtBat           -1.659803\n",
       "Hits             4.574831\n",
       "HmRun            1.550567\n",
       "Runs             0.604233\n",
       "RBI              0.316147\n",
       "Walks            4.437164\n",
       "Years          -15.408065\n",
       "CAtBat          -0.044708\n",
       "CHits            0.193771\n",
       "CHmRun           0.225138\n",
       "CRuns            0.675158\n",
       "CRBI             0.297282\n",
       "CWalks          -0.496556\n",
       "PutOuts          0.232418\n",
       "Assists          0.301850\n",
       "Errors          -4.727093\n",
       "League_N        23.116572\n",
       "Division_W    -116.893011\n",
       "NewLeague_N     -6.627145\n",
       "dtype: float64"
      ]
     },
     "execution_count": 22,
     "metadata": {},
     "output_type": "execute_result"
    }
   ],
   "source": [
    "ridge4.fit(X, y)\n",
    "pd.Series(ridge4.coef_, index = X.columns)"
   ]
  },
  {
   "cell_type": "markdown",
   "metadata": {
    "collapsed": true
   },
   "source": [
    "As expected, none of the coefficients are exactly zero - \n",
    "ridge regression does not perform variable selection!"
   ]
  },
  {
   "cell_type": "markdown",
   "metadata": {
    "collapsed": true
   },
   "source": [
    "#### The Lasso"
   ]
  },
  {
   "cell_type": "markdown",
   "metadata": {
    "collapsed": true
   },
   "source": [
    "We saw that ridge regression with a wise choice of alpha can outperform least squares as well as the null model on the Hitters data set. \n",
    "\n",
    "We now ask whether the lasso can yield either a more accurate or a more interpretable model than ridge regression. \n",
    "\n",
    "In order to fit a lasso model, we'll use the Lasso() function; \n",
    "however, this time we'll need to include the argument max_iter = 10000. \n",
    "\n",
    "Other than that change, we proceed just as we did in fitting a ridge model:"
   ]
  },
  {
   "cell_type": "code",
   "execution_count": null,
   "metadata": {},
   "outputs": [],
   "source": []
  },
  {
   "cell_type": "code",
   "execution_count": 12,
   "metadata": {},
   "outputs": [
    {
     "ename": "NameError",
     "evalue": "name 'X_train' is not defined",
     "output_type": "error",
     "traceback": [
      "\u001b[1;31m---------------------------------------------------------------------------\u001b[0m",
      "\u001b[1;31mNameError\u001b[0m                                 Traceback (most recent call last)",
      "\u001b[1;32m<ipython-input-12-f00464430518>\u001b[0m in \u001b[0;36m<module>\u001b[1;34m\u001b[0m\n\u001b[0;32m      5\u001b[0m     \u001b[0mlasso\u001b[0m\u001b[1;33m.\u001b[0m\u001b[0mset_params\u001b[0m\u001b[1;33m(\u001b[0m\u001b[0malpha\u001b[0m\u001b[1;33m=\u001b[0m\u001b[0ma\u001b[0m\u001b[1;33m)\u001b[0m\u001b[1;33m\u001b[0m\u001b[1;33m\u001b[0m\u001b[0m\n\u001b[0;32m      6\u001b[0m     \u001b[1;31m#lasso.fit(scale(X_train), y_train)\u001b[0m\u001b[1;33m\u001b[0m\u001b[1;33m\u001b[0m\u001b[1;33m\u001b[0m\u001b[0m\n\u001b[1;32m----> 7\u001b[1;33m     \u001b[0mlasso\u001b[0m\u001b[1;33m.\u001b[0m\u001b[0mfit\u001b[0m\u001b[1;33m(\u001b[0m\u001b[0mX_train\u001b[0m\u001b[1;33m,\u001b[0m \u001b[0my_train\u001b[0m\u001b[1;33m)\u001b[0m\u001b[1;33m\u001b[0m\u001b[1;33m\u001b[0m\u001b[0m\n\u001b[0m\u001b[0;32m      8\u001b[0m     \u001b[0mcoefs\u001b[0m\u001b[1;33m.\u001b[0m\u001b[0mappend\u001b[0m\u001b[1;33m(\u001b[0m\u001b[0mlasso\u001b[0m\u001b[1;33m.\u001b[0m\u001b[0mcoef_\u001b[0m\u001b[1;33m)\u001b[0m\u001b[1;33m\u001b[0m\u001b[1;33m\u001b[0m\u001b[0m\n\u001b[0;32m      9\u001b[0m \u001b[1;33m\u001b[0m\u001b[0m\n",
      "\u001b[1;31mNameError\u001b[0m: name 'X_train' is not defined"
     ]
    }
   ],
   "source": [
    "lasso = Lasso(max_iter = 10000, normalize = True)\n",
    "coefs = []\n",
    "\n",
    "for a in alphas:\n",
    "    lasso.set_params(alpha=a)\n",
    "    #lasso.fit(scale(X_train), y_train)\n",
    "    lasso.fit(X_train, y_train)\n",
    "    coefs.append(lasso.coef_)\n",
    "    \n",
    "plt.figure(figsize=(12, 6))\n",
    "ax = plt.gca()\n",
    "ax.plot(alphas*2, coefs)\n",
    "ax.set_xscale('log')\n",
    "plt.axis('tight')\n",
    "plt.xlabel('alpha')\n",
    "plt.ylabel('weights');"
   ]
  },
  {
   "cell_type": "markdown",
   "metadata": {
    "collapsed": true
   },
   "source": [
    "Notice that in the coefficient plot that depending on the choice of tuning parameter, some of the coefficients are exactly equal to zero. \n",
    "\n",
    "We now perform 10-fold cross-validation to choose the best alpha, refit the model, and compute the associated test error:"
   ]
  },
  {
   "cell_type": "code",
   "execution_count": 24,
   "metadata": {},
   "outputs": [
    {
     "data": {
      "text/plain": [
       "139096.7418215593"
      ]
     },
     "execution_count": 24,
     "metadata": {},
     "output_type": "execute_result"
    }
   ],
   "source": [
    "lassocv = LassoCV(alphas = None, cv = 10, max_iter = 100000, normalize = True)\n",
    "lassocv.fit(X_train, y_train)\n",
    "\n",
    "lasso.set_params(alpha=lassocv.alpha_)\n",
    "lasso.fit(X_train, y_train)\n",
    "mean_squared_error(y_test, lasso.predict(X_test))"
   ]
  },
  {
   "cell_type": "markdown",
   "metadata": {
    "collapsed": true
   },
   "source": [
    "This is substantially lower than the test set MSE of the null model and of least squares, and only a little worse than the test MSE of ridge regression with alpha chosen by cross-validation.\n",
    "\n",
    "However, the lasso has a substantial advantage over ridge regression in that the resulting coefficient estimates are sparse. \n",
    "\n",
    "Here we see that 13 of the 19 coefficient estimates are exactly zero:"
   ]
  },
  {
   "cell_type": "code",
   "execution_count": 23,
   "metadata": {},
   "outputs": [
    {
     "data": {
      "text/plain": [
       "AtBat          -0.000000\n",
       "Hits            2.309132\n",
       "HmRun           0.000000\n",
       "Runs            0.000000\n",
       "RBI            -0.000000\n",
       "Walks           0.000000\n",
       "Years           0.000000\n",
       "CAtBat          0.000000\n",
       "CHits           0.077468\n",
       "CHmRun          0.000000\n",
       "CRuns           0.000000\n",
       "CRBI            0.289898\n",
       "CWalks          0.000000\n",
       "PutOuts         0.244994\n",
       "Assists        -0.000000\n",
       "Errors         -6.122150\n",
       "League_N        0.000000\n",
       "Division_W    -25.109494\n",
       "NewLeague_N     0.000000\n",
       "dtype: float64"
      ]
     },
     "execution_count": 23,
     "metadata": {},
     "output_type": "execute_result"
    }
   ],
   "source": [
    "# Some of the coefficients are now reduced to exactly zero.\n",
    "pd.Series(lasso.coef_, index=X.columns)"
   ]
  },
  {
   "cell_type": "code",
   "execution_count": null,
   "metadata": {
    "collapsed": true
   },
   "outputs": [],
   "source": [
    "# Why did we learn abt vector norms ?\n",
    "# why did we learn abt contour plots?\n",
    "# why did we learn abt eig val/vector?\n",
    "\n",
    "# why did we learn GD ? \n",
    "\n",
    "# why did we learn abt matrix formula? derivative? "
   ]
  }
 ],
 "metadata": {
  "kernelspec": {
   "display_name": "Python 3",
   "language": "python",
   "name": "python3"
  },
  "language_info": {
   "codemirror_mode": {
    "name": "ipython",
    "version": 3
   },
   "file_extension": ".py",
   "mimetype": "text/x-python",
   "name": "python",
   "nbconvert_exporter": "python",
   "pygments_lexer": "ipython3",
   "version": "3.7.3"
  }
 },
 "nbformat": 4,
 "nbformat_minor": 2
}
