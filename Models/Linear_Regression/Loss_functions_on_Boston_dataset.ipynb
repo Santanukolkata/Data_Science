{
  "nbformat": 4,
  "nbformat_minor": 0,
  "metadata": {
    "colab": {
      "name": "Loss_functions_on_Boston_data.ipynb",
      "provenance": [],
      "authorship_tag": "ABX9TyOKA+bueM6DxFQ3snflNXTY",
      "include_colab_link": true
    },
    "kernelspec": {
      "name": "python3",
      "display_name": "Python 3"
    }
  },
  "cells": [
    {
      "cell_type": "markdown",
      "metadata": {
        "id": "view-in-github",
        "colab_type": "text"
      },
      "source": [
        "<a href=\"https://colab.research.google.com/github/Santanukolkata/Data_Science/blob/master/Models/Linear_Regression/Loss_functions_on_Boston_dataset.ipynb\" target=\"_parent\"><img src=\"https://colab.research.google.com/assets/colab-badge.svg\" alt=\"Open In Colab\"/></a>"
      ]
    },
    {
      "cell_type": "markdown",
      "metadata": {
        "id": "s6LWZV8u--DS",
        "colab_type": "text"
      },
      "source": [
        "MSE vs. MAE (L2 loss vs L1 loss)\n",
        "In machine learning we come across L1 and L2, and there are 2 aspects\n",
        "\n",
        "> 1) L1-loss function vs L2-loss function \n",
        "\n",
        "> 2) L1-regularization vs L2-regularization (norms)\n",
        "1. Key point - L2/MSE is sensitive to outliers\n",
        "MSE is sensitive to outliers (MAE is not)\n",
        "both functions reach the minimum when the prediction is exactly equal to the true value.\n",
        "One ** big problem ** in using MAE loss (for neural nets especially) is\n",
        "its gradient is the same throughout,\n",
        "which means the gradient will be large even for small loss values.\n",
        "This isn’t good for learning.\n",
        "To fix this, we can use dynamic learning rate which decreases as we move closer to the minima.\n",
        "MSE behaves nicely in this case and will converge even with a fixed learning rate.\n",
        "The gradient of MSE loss is high for larger loss values and decreases as loss approaches 0, making it more precise at the end of training\n",
        "L1 loss is more robust to outliers, but its derivatives are not continuous, making it inefficient to find the solution.\n",
        "\n",
        "L2 loss is sensitive to outliers, but gives a more stable and closed form solution (by setting its derivative to 0.)"
      ]
    },
    {
      "cell_type": "code",
      "metadata": {
        "id": "ERv8Spby_SLZ",
        "colab_type": "code",
        "colab": {
          "base_uri": "https://localhost:8080/",
          "height": 72
        },
        "outputId": "d4eed5a6-0f79-4227-d0f1-f0b5de5b3e4f"
      },
      "source": [
        "from sklearn.datasets import load_boston\n",
        "from sklearn.model_selection import train_test_split\n",
        "import pandas as pd\n",
        "import matplotlib.pyplot as plt\n",
        "import seaborn as sns\n",
        "import numpy as np\n",
        "from sklearn.ensemble import GradientBoostingRegressor\n",
        "d=load_boston()\n",
        "\n",
        "data = pd.DataFrame(d.data,columns=d.feature_names)\n"
      ],
      "execution_count": 2,
      "outputs": [
        {
          "output_type": "stream",
          "text": [
            "/usr/local/lib/python3.6/dist-packages/statsmodels/tools/_testing.py:19: FutureWarning: pandas.util.testing is deprecated. Use the functions in the public API at pandas.testing instead.\n",
            "  import pandas.util.testing as tm\n"
          ],
          "name": "stderr"
        }
      ]
    },
    {
      "cell_type": "code",
      "metadata": {
        "id": "b4x9tpPm_aci",
        "colab_type": "code",
        "colab": {
          "base_uri": "https://localhost:8080/",
          "height": 314
        },
        "outputId": "1489641d-b29a-4060-d3a2-ba00eea4cb48"
      },
      "source": [
        "data.describe()"
      ],
      "execution_count": 3,
      "outputs": [
        {
          "output_type": "execute_result",
          "data": {
            "text/html": [
              "<div>\n",
              "<style scoped>\n",
              "    .dataframe tbody tr th:only-of-type {\n",
              "        vertical-align: middle;\n",
              "    }\n",
              "\n",
              "    .dataframe tbody tr th {\n",
              "        vertical-align: top;\n",
              "    }\n",
              "\n",
              "    .dataframe thead th {\n",
              "        text-align: right;\n",
              "    }\n",
              "</style>\n",
              "<table border=\"1\" class=\"dataframe\">\n",
              "  <thead>\n",
              "    <tr style=\"text-align: right;\">\n",
              "      <th></th>\n",
              "      <th>CRIM</th>\n",
              "      <th>ZN</th>\n",
              "      <th>INDUS</th>\n",
              "      <th>CHAS</th>\n",
              "      <th>NOX</th>\n",
              "      <th>RM</th>\n",
              "      <th>AGE</th>\n",
              "      <th>DIS</th>\n",
              "      <th>RAD</th>\n",
              "      <th>TAX</th>\n",
              "      <th>PTRATIO</th>\n",
              "      <th>B</th>\n",
              "      <th>LSTAT</th>\n",
              "    </tr>\n",
              "  </thead>\n",
              "  <tbody>\n",
              "    <tr>\n",
              "      <th>count</th>\n",
              "      <td>506.000000</td>\n",
              "      <td>506.000000</td>\n",
              "      <td>506.000000</td>\n",
              "      <td>506.000000</td>\n",
              "      <td>506.000000</td>\n",
              "      <td>506.000000</td>\n",
              "      <td>506.000000</td>\n",
              "      <td>506.000000</td>\n",
              "      <td>506.000000</td>\n",
              "      <td>506.000000</td>\n",
              "      <td>506.000000</td>\n",
              "      <td>506.000000</td>\n",
              "      <td>506.000000</td>\n",
              "    </tr>\n",
              "    <tr>\n",
              "      <th>mean</th>\n",
              "      <td>3.613524</td>\n",
              "      <td>11.363636</td>\n",
              "      <td>11.136779</td>\n",
              "      <td>0.069170</td>\n",
              "      <td>0.554695</td>\n",
              "      <td>6.284634</td>\n",
              "      <td>68.574901</td>\n",
              "      <td>3.795043</td>\n",
              "      <td>9.549407</td>\n",
              "      <td>408.237154</td>\n",
              "      <td>18.455534</td>\n",
              "      <td>356.674032</td>\n",
              "      <td>12.653063</td>\n",
              "    </tr>\n",
              "    <tr>\n",
              "      <th>std</th>\n",
              "      <td>8.601545</td>\n",
              "      <td>23.322453</td>\n",
              "      <td>6.860353</td>\n",
              "      <td>0.253994</td>\n",
              "      <td>0.115878</td>\n",
              "      <td>0.702617</td>\n",
              "      <td>28.148861</td>\n",
              "      <td>2.105710</td>\n",
              "      <td>8.707259</td>\n",
              "      <td>168.537116</td>\n",
              "      <td>2.164946</td>\n",
              "      <td>91.294864</td>\n",
              "      <td>7.141062</td>\n",
              "    </tr>\n",
              "    <tr>\n",
              "      <th>min</th>\n",
              "      <td>0.006320</td>\n",
              "      <td>0.000000</td>\n",
              "      <td>0.460000</td>\n",
              "      <td>0.000000</td>\n",
              "      <td>0.385000</td>\n",
              "      <td>3.561000</td>\n",
              "      <td>2.900000</td>\n",
              "      <td>1.129600</td>\n",
              "      <td>1.000000</td>\n",
              "      <td>187.000000</td>\n",
              "      <td>12.600000</td>\n",
              "      <td>0.320000</td>\n",
              "      <td>1.730000</td>\n",
              "    </tr>\n",
              "    <tr>\n",
              "      <th>25%</th>\n",
              "      <td>0.082045</td>\n",
              "      <td>0.000000</td>\n",
              "      <td>5.190000</td>\n",
              "      <td>0.000000</td>\n",
              "      <td>0.449000</td>\n",
              "      <td>5.885500</td>\n",
              "      <td>45.025000</td>\n",
              "      <td>2.100175</td>\n",
              "      <td>4.000000</td>\n",
              "      <td>279.000000</td>\n",
              "      <td>17.400000</td>\n",
              "      <td>375.377500</td>\n",
              "      <td>6.950000</td>\n",
              "    </tr>\n",
              "    <tr>\n",
              "      <th>50%</th>\n",
              "      <td>0.256510</td>\n",
              "      <td>0.000000</td>\n",
              "      <td>9.690000</td>\n",
              "      <td>0.000000</td>\n",
              "      <td>0.538000</td>\n",
              "      <td>6.208500</td>\n",
              "      <td>77.500000</td>\n",
              "      <td>3.207450</td>\n",
              "      <td>5.000000</td>\n",
              "      <td>330.000000</td>\n",
              "      <td>19.050000</td>\n",
              "      <td>391.440000</td>\n",
              "      <td>11.360000</td>\n",
              "    </tr>\n",
              "    <tr>\n",
              "      <th>75%</th>\n",
              "      <td>3.677083</td>\n",
              "      <td>12.500000</td>\n",
              "      <td>18.100000</td>\n",
              "      <td>0.000000</td>\n",
              "      <td>0.624000</td>\n",
              "      <td>6.623500</td>\n",
              "      <td>94.075000</td>\n",
              "      <td>5.188425</td>\n",
              "      <td>24.000000</td>\n",
              "      <td>666.000000</td>\n",
              "      <td>20.200000</td>\n",
              "      <td>396.225000</td>\n",
              "      <td>16.955000</td>\n",
              "    </tr>\n",
              "    <tr>\n",
              "      <th>max</th>\n",
              "      <td>88.976200</td>\n",
              "      <td>100.000000</td>\n",
              "      <td>27.740000</td>\n",
              "      <td>1.000000</td>\n",
              "      <td>0.871000</td>\n",
              "      <td>8.780000</td>\n",
              "      <td>100.000000</td>\n",
              "      <td>12.126500</td>\n",
              "      <td>24.000000</td>\n",
              "      <td>711.000000</td>\n",
              "      <td>22.000000</td>\n",
              "      <td>396.900000</td>\n",
              "      <td>37.970000</td>\n",
              "    </tr>\n",
              "  </tbody>\n",
              "</table>\n",
              "</div>"
            ],
            "text/plain": [
              "             CRIM          ZN       INDUS  ...     PTRATIO           B       LSTAT\n",
              "count  506.000000  506.000000  506.000000  ...  506.000000  506.000000  506.000000\n",
              "mean     3.613524   11.363636   11.136779  ...   18.455534  356.674032   12.653063\n",
              "std      8.601545   23.322453    6.860353  ...    2.164946   91.294864    7.141062\n",
              "min      0.006320    0.000000    0.460000  ...   12.600000    0.320000    1.730000\n",
              "25%      0.082045    0.000000    5.190000  ...   17.400000  375.377500    6.950000\n",
              "50%      0.256510    0.000000    9.690000  ...   19.050000  391.440000   11.360000\n",
              "75%      3.677083   12.500000   18.100000  ...   20.200000  396.225000   16.955000\n",
              "max     88.976200  100.000000   27.740000  ...   22.000000  396.900000   37.970000\n",
              "\n",
              "[8 rows x 13 columns]"
            ]
          },
          "metadata": {
            "tags": []
          },
          "execution_count": 3
        }
      ]
    },
    {
      "cell_type": "code",
      "metadata": {
        "id": "BvYgkEZI_nuG",
        "colab_type": "code",
        "colab": {}
      },
      "source": [
        "# Create a data frame with all the independent features\n",
        "X = data\n",
        "# Create a target vector(vector of dependent variable, i.e. 'medv')\n",
        "y = d.target"
      ],
      "execution_count": 4,
      "outputs": []
    },
    {
      "cell_type": "code",
      "metadata": {
        "id": "to1FrZqi_rld",
        "colab_type": "code",
        "colab": {}
      },
      "source": [
        "# Split data into training and test sets\n",
        "train_X, test_X, train_y, test_y = train_test_split(\n",
        "                                    X, y,\n",
        "                                    test_size = 0.20,\n",
        "                                    random_state = 42)"
      ],
      "execution_count": 6,
      "outputs": []
    },
    {
      "cell_type": "code",
      "metadata": {
        "id": "TaVIRnoZK1Es",
        "colab_type": "code",
        "colab": {
          "base_uri": "https://localhost:8080/",
          "height": 322
        },
        "outputId": "15589631-0edb-45d4-b88d-2025685ca83c"
      },
      "source": [
        "fig, axes = plt.subplots(ncols=8, figsize=(16, 5))\n",
        "\n",
        "sns.boxplot(data=data[['CRIM']],  palette='Set2', ax=axes[0]);\n",
        "sns.boxplot(data=data[['ZN']]  ,   palette='Set2', ax=axes[1]);\n",
        "sns.boxplot(data=data[['INDUS']],  palette='Set2', ax=axes[2]);\n",
        "sns.boxplot(data=data[['CHAS']]  ,   palette='Set2', ax=axes[3]);\n",
        "sns.boxplot(data=data[['NOX']],  palette='Set2', ax=axes[4]);\n",
        "sns.boxplot(data=data[['RM']]  ,   palette='Set2', ax=axes[5]);\n",
        "sns.boxplot(data=data[['AGE']],  palette='Set2', ax=axes[6]);\n",
        "sns.boxplot(data=data[['DIS']]  ,   palette='Set2', ax=axes[7]);"
      ],
      "execution_count": 7,
      "outputs": [
        {
          "output_type": "display_data",
          "data": {
            "image/png": "[encoded data removed]",
            "text/plain": [
              "<Figure size 1152x360 with 8 Axes>"
            ]
          },
          "metadata": {
            "tags": [],
            "needs_background": "light"
          }
        }
      ]
    },
    {
      "cell_type": "code",
      "metadata": {
        "id": "wvKx-4DeK7UI",
        "colab_type": "code",
        "colab": {
          "base_uri": "https://localhost:8080/",
          "height": 324
        },
        "outputId": "4c107e44-4b04-493e-bd39-94e72d3aebd4"
      },
      "source": [
        "fig, axes = plt.subplots(ncols=7, figsize=(16, 5))\n",
        "\n",
        "sns.boxplot(data=data[['RAD']],  palette='Set2', ax=axes[0]);\n",
        "sns.boxplot(data=data[['TAX']]  ,   palette='Set2', ax=axes[1]);\n",
        "sns.boxplot(data=data[['PTRATIO']],  palette='Set2', ax=axes[2]);\n",
        "sns.boxplot(data=data[['CHAS']]  ,   palette='Set2', ax=axes[3]);\n",
        "sns.boxplot(data=data[['B']],  palette='Set2', ax=axes[4]);\n",
        "sns.boxplot(data=data[['LSTAT']]  ,   palette='Set2', ax=axes[5]);"
      ],
      "execution_count": 8,
      "outputs": [
        {
          "output_type": "display_data",
          "data": {
            "image/png": "[encoded data removed]",
            "text/plain": [
              "<Figure size 1152x360 with 7 Axes>"
            ]
          },
          "metadata": {
            "tags": [],
            "needs_background": "light"
          }
        }
      ]
    },
    {
      "cell_type": "code",
      "metadata": {
        "id": "YRiFlnLYK_G1",
        "colab_type": "code",
        "colab": {}
      },
      "source": [
        "# function for L2 (MSE)\n",
        "def rmse(predictions, targets):\n",
        "    \n",
        "    difference         = predictions - targets\n",
        "    difference_squared = difference ** 2\n",
        "        \n",
        "    mse  = np.sum(difference_squared)/targets.size\n",
        "    \n",
        "    rmse = np.sqrt(mse)\n",
        "\n",
        "    return rmse"
      ],
      "execution_count": 9,
      "outputs": []
    },
    {
      "cell_type": "code",
      "metadata": {
        "id": "-s-j_aaULDM-",
        "colab_type": "code",
        "colab": {
          "base_uri": "https://localhost:8080/",
          "height": 35
        },
        "outputId": "985150da-89c5-427c-d914-8f06cdb27c8d"
      },
      "source": [
        "# GradientBoostingRegressor with a L1(Least Absolute Deviations) loss function\n",
        "# Set a random seed so that we can reproduce the results\n",
        "np.random.seed(32767)\n",
        "\n",
        "mod = GradientBoostingRegressor(loss='lad')\n",
        "\n",
        "fit = mod.fit(train_X, train_y)\n",
        "predict = fit.predict(test_X)\n",
        "\n",
        "# Root Mean Squared Error\n",
        "print (\"RMSE -> %f\" % rmse(predict, test_y))"
      ],
      "execution_count": 10,
      "outputs": [
        {
          "output_type": "stream",
          "text": [
            "RMSE -> 3.372776\n"
          ],
          "name": "stdout"
        }
      ]
    },
    {
      "cell_type": "code",
      "metadata": {
        "id": "MA_b3A5ULKMH",
        "colab_type": "code",
        "colab": {
          "base_uri": "https://localhost:8080/",
          "height": 35
        },
        "outputId": "ba28fd0c-5c6b-4d30-9e1c-ccc97e623028"
      },
      "source": [
        "# GradientBoostingRegressor with L2(Least Square errors) loss function\n",
        "mod = GradientBoostingRegressor(loss='ls')\n",
        "\n",
        "fit = mod.fit(train_X, train_y)\n",
        "predict = fit.predict(test_X)\n",
        "\n",
        "# Root Mean Squared Error\n",
        "print (\"RMSE -> %f\" % rmse(predict, test_y))"
      ],
      "execution_count": 11,
      "outputs": [
        {
          "output_type": "stream",
          "text": [
            "RMSE -> 2.502083\n"
          ],
          "name": "stdout"
        }
      ]
    },
    {
      "cell_type": "markdown",
      "metadata": {
        "id": "q9xBKDMvNHuO",
        "colab_type": "text"
      },
      "source": [
        "As apparent from RMSE errors of L1 and L2 loss functions, Least Squares(L2) outperform L1, when there are no outliers in the data."
      ]
    },
    {
      "cell_type": "markdown",
      "metadata": {
        "id": "iU5p7YdmNMmb",
        "colab_type": "text"
      },
      "source": [
        "### add some outliers"
      ]
    },
    {
      "cell_type": "code",
      "metadata": {
        "id": "tTOA3hGyM7Rj",
        "colab_type": "code",
        "colab": {
          "base_uri": "https://localhost:8080/",
          "height": 110
        },
        "outputId": "d5435652-203a-483e-cd0b-2e9e01b1261a"
      },
      "source": [
        "stats = data.describe()\n",
        "extremes = stats.loc[['min', 'max'], :]\n",
        "extremes"
      ],
      "execution_count": 12,
      "outputs": [
        {
          "output_type": "execute_result",
          "data": {
            "text/html": [
              "<div>\n",
              "<style scoped>\n",
              "    .dataframe tbody tr th:only-of-type {\n",
              "        vertical-align: middle;\n",
              "    }\n",
              "\n",
              "    .dataframe tbody tr th {\n",
              "        vertical-align: top;\n",
              "    }\n",
              "\n",
              "    .dataframe thead th {\n",
              "        text-align: right;\n",
              "    }\n",
              "</style>\n",
              "<table border=\"1\" class=\"dataframe\">\n",
              "  <thead>\n",
              "    <tr style=\"text-align: right;\">\n",
              "      <th></th>\n",
              "      <th>CRIM</th>\n",
              "      <th>ZN</th>\n",
              "      <th>INDUS</th>\n",
              "      <th>CHAS</th>\n",
              "      <th>NOX</th>\n",
              "      <th>RM</th>\n",
              "      <th>AGE</th>\n",
              "      <th>DIS</th>\n",
              "      <th>RAD</th>\n",
              "      <th>TAX</th>\n",
              "      <th>PTRATIO</th>\n",
              "      <th>B</th>\n",
              "      <th>LSTAT</th>\n",
              "    </tr>\n",
              "  </thead>\n",
              "  <tbody>\n",
              "    <tr>\n",
              "      <th>min</th>\n",
              "      <td>0.00632</td>\n",
              "      <td>0.0</td>\n",
              "      <td>0.46</td>\n",
              "      <td>0.0</td>\n",
              "      <td>0.385</td>\n",
              "      <td>3.561</td>\n",
              "      <td>2.9</td>\n",
              "      <td>1.1296</td>\n",
              "      <td>1.0</td>\n",
              "      <td>187.0</td>\n",
              "      <td>12.6</td>\n",
              "      <td>0.32</td>\n",
              "      <td>1.73</td>\n",
              "    </tr>\n",
              "    <tr>\n",
              "      <th>max</th>\n",
              "      <td>88.97620</td>\n",
              "      <td>100.0</td>\n",
              "      <td>27.74</td>\n",
              "      <td>1.0</td>\n",
              "      <td>0.871</td>\n",
              "      <td>8.780</td>\n",
              "      <td>100.0</td>\n",
              "      <td>12.1265</td>\n",
              "      <td>24.0</td>\n",
              "      <td>711.0</td>\n",
              "      <td>22.0</td>\n",
              "      <td>396.90</td>\n",
              "      <td>37.97</td>\n",
              "    </tr>\n",
              "  </tbody>\n",
              "</table>\n",
              "</div>"
            ],
            "text/plain": [
              "         CRIM     ZN  INDUS  CHAS    NOX  ...   RAD    TAX  PTRATIO       B  LSTAT\n",
              "min   0.00632    0.0   0.46   0.0  0.385  ...   1.0  187.0     12.6    0.32   1.73\n",
              "max  88.97620  100.0  27.74   1.0  0.871  ...  24.0  711.0     22.0  396.90  37.97\n",
              "\n",
              "[2 rows x 13 columns]"
            ]
          },
          "metadata": {
            "tags": []
          },
          "execution_count": 12
        }
      ]
    },
    {
      "cell_type": "code",
      "metadata": {
        "id": "PYYnX5JvNRgr",
        "colab_type": "code",
        "colab": {
          "base_uri": "https://localhost:8080/",
          "height": 104
        },
        "outputId": "2ef9a42b-0e6c-4b61-d202-673ce1b62fd1"
      },
      "source": [
        "np.random.seed(1234)\n",
        "rands = np.random.rand(5, 1)\n",
        "print(rands)\n",
        "min_array = np.array(extremes.loc[['min'], :])\n",
        "max_array = np.array(extremes.loc[['max'], :])"
      ],
      "execution_count": 17,
      "outputs": [
        {
          "output_type": "stream",
          "text": [
            "[[0.19151945]\n",
            " [0.62210877]\n",
            " [0.43772774]\n",
            " [0.78535858]\n",
            " [0.77997581]]\n"
          ],
          "name": "stdout"
        }
      ]
    },
    {
      "cell_type": "code",
      "metadata": {
        "id": "swShX3-vNZMn",
        "colab_type": "code",
        "colab": {
          "base_uri": "https://localhost:8080/",
          "height": 69
        },
        "outputId": "94b6feec-f949-4a29-cc59-7fd1f39d7bf8"
      },
      "source": [
        "min_array"
      ],
      "execution_count": 18,
      "outputs": [
        {
          "output_type": "execute_result",
          "data": {
            "text/plain": [
              "array([[6.3200e-03, 0.0000e+00, 4.6000e-01, 0.0000e+00, 3.8500e-01,\n",
              "        3.5610e+00, 2.9000e+00, 1.1296e+00, 1.0000e+00, 1.8700e+02,\n",
              "        1.2600e+01, 3.2000e-01, 1.7300e+00]])"
            ]
          },
          "metadata": {
            "tags": []
          },
          "execution_count": 18
        }
      ]
    },
    {
      "cell_type": "code",
      "metadata": {
        "id": "Ro_WLrv3NdeO",
        "colab_type": "code",
        "colab": {}
      },
      "source": [
        "# Find the difference(range) of 'max' and 'min'\n",
        "range = max_array - min_array"
      ],
      "execution_count": 19,
      "outputs": []
    },
    {
      "cell_type": "code",
      "metadata": {
        "id": "oE7KoWKiOfJL",
        "colab_type": "code",
        "colab": {
          "base_uri": "https://localhost:8080/",
          "height": 364
        },
        "outputId": "791ef361-64cd-42d3-dfb8-942059d75298"
      },
      "source": [
        "outliers_X = (rands * range) + min_array\n",
        "outliers_X"
      ],
      "execution_count": 20,
      "outputs": [
        {
          "output_type": "execute_result",
          "data": {
            "text/plain": [
              "array([[1.70457825e+01, 1.91519450e+01, 5.68465061e+00, 1.91519450e-01,\n",
              "        4.78078453e-01, 4.56054001e+00, 2.14965386e+01, 3.23572024e+00,\n",
              "        5.40494736e+00, 2.87356192e+02, 1.44002828e+01, 7.62727836e+01,\n",
              "        8.67066488e+00],\n",
              "       [5.53552627e+01, 6.22108771e+01, 1.74311273e+01, 6.22108771e-01,\n",
              "        6.87344863e-01, 6.80778568e+00, 6.33067617e+01, 7.97086794e+00,\n",
              "        1.53085017e+01, 5.12984996e+02, 1.84478224e+01, 2.47035896e+02,\n",
              "        2.42752219e+01],\n",
              "       [3.89509044e+01, 4.37727739e+01, 1.24012127e+01, 4.37727739e-01,\n",
              "        5.97735681e-01, 5.84550107e+00, 4.54033635e+01, 5.94324817e+00,\n",
              "        1.10677380e+01, 4.16369335e+02, 1.67146407e+01, 1.73914067e+02,\n",
              "        1.75932533e+01],\n",
              "       [6.98795789e+01, 7.85358584e+01, 2.18845822e+01, 7.85358584e-01,\n",
              "        7.66684272e-01, 7.65978645e+00, 7.91583185e+01, 9.76610981e+00,\n",
              "        1.90632474e+01, 5.98527898e+02, 1.99823707e+01, 3.11777507e+02,\n",
              "        3.01913951e+01],\n",
              "       [6.94006741e+01, 7.79975808e+01, 2.17377400e+01, 7.79975808e-01,\n",
              "        7.64068243e-01, 7.63169374e+00, 7.86356510e+01, 9.70691596e+00,\n",
              "        1.89394436e+01, 5.95707323e+02, 1.99317726e+01, 3.09642806e+02,\n",
              "        2.99963233e+01]])"
            ]
          },
          "metadata": {
            "tags": []
          },
          "execution_count": 20
        }
      ]
    },
    {
      "cell_type": "code",
      "metadata": {
        "id": "H1ez52VjOhTn",
        "colab_type": "code",
        "colab": {}
      },
      "source": [
        "# We will also create some hard coded outliers\n",
        "# for 'medv', i.e. our target\n",
        "medv_outliers = np.array([0, 0, 600, 700, 600])"
      ],
      "execution_count": 21,
      "outputs": []
    },
    {
      "cell_type": "code",
      "metadata": {
        "id": "WJJe8dU-PWed",
        "colab_type": "code",
        "colab": {
          "base_uri": "https://localhost:8080/",
          "height": 364
        },
        "outputId": "6a2a923a-5d4e-4c5e-f660-53e356931f4a"
      },
      "source": [
        "# Change the type of 'chas', 'rad' and 'tax' to rounded of Integers\n",
        "outliers_X[:, [3, 8, 9]] = np.int64(np.round(outliers_X[:, [3, 8, 9]]))\n",
        "outliers_X"
      ],
      "execution_count": 23,
      "outputs": [
        {
          "output_type": "execute_result",
          "data": {
            "text/plain": [
              "array([[1.70457825e+01, 1.91519450e+01, 5.68465061e+00, 0.00000000e+00,\n",
              "        4.78078453e-01, 4.56054001e+00, 2.14965386e+01, 3.23572024e+00,\n",
              "        5.00000000e+00, 2.87000000e+02, 1.44002828e+01, 7.62727836e+01,\n",
              "        8.67066488e+00],\n",
              "       [5.53552627e+01, 6.22108771e+01, 1.74311273e+01, 1.00000000e+00,\n",
              "        6.87344863e-01, 6.80778568e+00, 6.33067617e+01, 7.97086794e+00,\n",
              "        1.50000000e+01, 5.13000000e+02, 1.84478224e+01, 2.47035896e+02,\n",
              "        2.42752219e+01],\n",
              "       [3.89509044e+01, 4.37727739e+01, 1.24012127e+01, 0.00000000e+00,\n",
              "        5.97735681e-01, 5.84550107e+00, 4.54033635e+01, 5.94324817e+00,\n",
              "        1.10000000e+01, 4.16000000e+02, 1.67146407e+01, 1.73914067e+02,\n",
              "        1.75932533e+01],\n",
              "       [6.98795789e+01, 7.85358584e+01, 2.18845822e+01, 1.00000000e+00,\n",
              "        7.66684272e-01, 7.65978645e+00, 7.91583185e+01, 9.76610981e+00,\n",
              "        1.90000000e+01, 5.99000000e+02, 1.99823707e+01, 3.11777507e+02,\n",
              "        3.01913951e+01],\n",
              "       [6.94006741e+01, 7.79975808e+01, 2.17377400e+01, 1.00000000e+00,\n",
              "        7.64068243e-01, 7.63169374e+00, 7.86356510e+01, 9.70691596e+00,\n",
              "        1.90000000e+01, 5.96000000e+02, 1.99317726e+01, 3.09642806e+02,\n",
              "        2.99963233e+01]])"
            ]
          },
          "metadata": {
            "tags": []
          },
          "execution_count": 23
        }
      ]
    },
    {
      "cell_type": "code",
      "metadata": {
        "id": "YzahKMnsQMQW",
        "colab_type": "code",
        "colab": {}
      },
      "source": [
        "# Finally concatenate our existing 'train_X' and\n",
        "# 'train_y' with these outliers\n",
        "train_X = np.append(train_X, outliers_X, axis = 0)\n",
        "train_y = np.append(train_y, medv_outliers, axis = 0)"
      ],
      "execution_count": 24,
      "outputs": []
    },
    {
      "cell_type": "code",
      "metadata": {
        "id": "Y-nZ27hZQaiT",
        "colab_type": "code",
        "colab": {
          "base_uri": "https://localhost:8080/",
          "height": 515
        },
        "outputId": "6a7bced2-36bf-46ed-8a4f-adfb4aa2f8e2"
      },
      "source": [
        "# Plot a histogram of 'medv' in train_y\n",
        "fig = plt.figure(figsize=(13,7))\n",
        "plt.hist(train_y, bins=50, range = (-10, 800))\n",
        "fig.suptitle('medv Count', fontsize = 20)\n",
        "plt.xlabel('medv', fontsize = 16)\n",
        "plt.ylabel('count', fontsize = 16)"
      ],
      "execution_count": 25,
      "outputs": [
        {
          "output_type": "execute_result",
          "data": {
            "text/plain": [
              "Text(0, 0.5, 'count')"
            ]
          },
          "metadata": {
            "tags": []
          },
          "execution_count": 25
        },
        {
          "output_type": "display_data",
          "data": {
            "image/png": "[encoded data removed]",
            "text/plain": [
              "<Figure size 936x504 with 1 Axes>"
            ]
          },
          "metadata": {
            "tags": [],
            "needs_background": "light"
          }
        }
      ]
    },
    {
      "cell_type": "code",
      "metadata": {
        "id": "iwi9vkNaQi0n",
        "colab_type": "code",
        "colab": {
          "base_uri": "https://localhost:8080/",
          "height": 35
        },
        "outputId": "5956c974-ea47-489c-ce0c-d2af3163d1e1"
      },
      "source": [
        "# GradientBoostingRegressor with L1 loss function\n",
        "np.random.seed(9876)\n",
        "\n",
        "mod = GradientBoostingRegressor(loss='lad')\n",
        "\n",
        "fit = mod.fit(train_X, train_y)\n",
        "predict = fit.predict(test_X)\n",
        "\n",
        "# Root Mean Squared Error\n",
        "print (\"RMSE -> %f\" % rmse(predict, test_y))"
      ],
      "execution_count": 26,
      "outputs": [
        {
          "output_type": "stream",
          "text": [
            "RMSE -> 3.659125\n"
          ],
          "name": "stdout"
        }
      ]
    },
    {
      "cell_type": "code",
      "metadata": {
        "id": "jX097AbyQoBR",
        "colab_type": "code",
        "colab": {
          "base_uri": "https://localhost:8080/",
          "height": 35
        },
        "outputId": "136a364b-faca-42cd-ef13-7173ec7696c3"
      },
      "source": [
        "# GradientBoostingRegressor with L2 loss function\n",
        "mod = GradientBoostingRegressor(loss='ls')\n",
        "\n",
        "fit = mod.fit(train_X, train_y)\n",
        "predict = fit.predict(test_X)\n",
        "\n",
        "# Root Mean Squared Error\n",
        "print (\"RMSE -> %f\" % rmse(predict, test_y))"
      ],
      "execution_count": 27,
      "outputs": [
        {
          "output_type": "stream",
          "text": [
            "RMSE -> 9.779870\n"
          ],
          "name": "stdout"
        }
      ]
    },
    {
      "cell_type": "markdown",
      "metadata": {
        "id": "40xA03p-R_8G",
        "colab_type": "text"
      },
      "source": [
        "With outliers in the dataset, a L2(Loss function) tries to adjust the model according to these outliers on the expense of other good-samples, since the squared-error is going to be huge for these outliers(for error > 1). \n",
        "\n",
        "On the other hand L1(Least absolute deviation) is quite resistant to outliers.\n",
        "\n",
        "> As a result, L2 loss function may result in huge deviations in some of the samples which results in reduced accuracy.\n",
        "\n",
        "> So, if you can ignore the ouliers in your dataset or you need them to be there, then you should be using a ** L1 loss function **\n",
        "\n",
        "> on the other hand if you don’t want undesired outliers in the dataset and would like to use a stable solution then first of all you should try to __remove the outliers and then use a L2 loss function__. \n",
        "\n",
        "Whenever in doubt, prefer L2 loss function, it works pretty well in most of the situations."
      ]
    },
    {
      "cell_type": "code",
      "metadata": {
        "id": "pTiqaysUR9hu",
        "colab_type": "code",
        "colab": {}
      },
      "source": [
        ""
      ],
      "execution_count": null,
      "outputs": []
    }
  ]
}