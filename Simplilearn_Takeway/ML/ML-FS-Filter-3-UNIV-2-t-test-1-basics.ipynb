{
 "cells": [
  {
   "cell_type": "code",
   "execution_count": 1,
   "metadata": {},
   "outputs": [],
   "source": [
    "from math import *\n",
    "import operator\n",
    "import pandas as pd\n",
    "import numpy as np\n",
    "\n",
    "import matplotlib\n",
    "import matplotlib.pyplot as plt\n",
    "%matplotlib inline \n",
    "\n",
    "import seaborn as sns\n",
    "sns.set(style=\"white\", color_codes=True)\n",
    "\n",
    "from scipy import stats"
   ]
  },
  {
   "cell_type": "code",
   "execution_count": 2,
   "metadata": {},
   "outputs": [
    {
     "name": "stdout",
     "output_type": "stream",
     "text": [
      "Python: 3.7.3 (default, Apr 24 2019, 15:29:51) [MSC v.1915 64 bit (AMD64)]\n",
      "scipy: 1.2.1\n",
      "numpy: 1.17.2\n",
      "matplotlib: 2.2.4\n",
      "pandas: 0.24.2\n"
     ]
    }
   ],
   "source": [
    "# Python version\n",
    "import sys\n",
    "print('Python: {}'.format(sys.version))\n",
    "# scipy\n",
    "import scipy\n",
    "print('scipy: {}'.format(scipy.__version__))\n",
    "# numpy\n",
    "import numpy\n",
    "print('numpy: {}'.format(numpy.__version__))\n",
    "# matplotlib\n",
    "import matplotlib\n",
    "print('matplotlib: {}'.format(matplotlib.__version__))\n",
    "# pandas\n",
    "import pandas\n",
    "print('pandas: {}'.format(pandas.__version__))"
   ]
  },
  {
   "cell_type": "markdown",
   "metadata": {},
   "source": [
    "## Simple usage of One-Sample T-Test\n",
    "We use a one sample T-test to determine whether our sample mean (observed average) is statistically significantly different to the population mean (expected average).\n",
    "\n",
    "$$\\Large t = \\dfrac{\\bar{x} – \\mu}{SE}$$\n",
    "\n",
    "Let’s say we want to calculate the resting systolic blood pressure of 20 first-year resident female doctors and compare it to the general public population mean of 120 mmHg.\n",
    "\n",
    "The null hypothesis is that there is no significant difference between the blood pressure of the resident female doctors and the general population."
   ]
  },
  {
   "cell_type": "code",
   "execution_count": 3,
   "metadata": {},
   "outputs": [],
   "source": [
    "female_doctor_bps = [128, 127, 118, 115, 144, 142, 133, 140, 132, 131, \n",
    "                     111, 132, 149, 122, 139, 119, 136, 129, 126, 128]"
   ]
  },
  {
   "cell_type": "code",
   "execution_count": 5,
   "metadata": {},
   "outputs": [
    {
     "data": {
      "text/plain": [
       "Ttest_1sampResult(statistic=4.512403659336718, pvalue=0.00023838063630967753)"
      ]
     },
     "execution_count": 5,
     "metadata": {},
     "output_type": "execute_result"
    }
   ],
   "source": [
    "stats.ttest_1samp(female_doctor_bps, 120)"
   ]
  },
  {
   "cell_type": "markdown",
   "metadata": {},
   "source": [
    "The p-value in this case is 0.0002, which is far less than the standard thresholds of 0.05 or 0.01, so we reject the null hypothesis and we can say there is a statistically significant difference between the resting systolic blood pressure of the resident female doctors and the general population."
   ]
  },
  {
   "cell_type": "markdown",
   "metadata": {},
   "source": [
    "## Two-sample T-test\n",
    "A two sample T-test is used to compare the means of two separate samples.\n",
    "\n",
    "It is calculated as follows (assuming equal variances):\n",
    "\n",
    "$$ t = \\dfrac{(\\bar{x}_1 + \\bar{x}_2)}{\\sqrt{s_p^2(\\dfrac{1}{n_1} + \\dfrac{1}{n_2})}} $$\n",
    "\n",
    "Where $s_p^2$ is the pooled variance, calculated as follows:\n",
    "\n",
    "$$ s_p^2 = \\dfrac{(n_1 – 1)s_1^2 + (n_2 – 2)s_2^2}{n_1 + n_2 – 2} $$\n",
    "\n",
    "Let’s look at an example to compare the blood pressure of male consultant doctors with the junior resident female doctors we explored above.\n",
    "\n",
    "Our null hypothesis in this case is that there is no statistically significant difference in the mean of male consulting doctors and junior resident female doctors."
   ]
  },
  {
   "cell_type": "code",
   "execution_count": 7,
   "metadata": {},
   "outputs": [],
   "source": [
    "female_doctor_bps = [128, 127, 118, 115, 144, 142, 133, 140, 132, 131, \n",
    "                     111, 132, 149, 122, 139, 119, 136, 129, 126, 128]\n",
    "\n",
    "male_consultant_bps = [118, 115, 112, 120, 124, 130, 123, 110, 120, 121,\n",
    "                      123, 125, 129, 130, 112, 117, 119, 120, 123, 128]\n"
   ]
  },
  {
   "cell_type": "code",
   "execution_count": 8,
   "metadata": {},
   "outputs": [
    {
     "data": {
      "text/plain": [
       "Ttest_indResult(statistic=3.5143256412718564, pvalue=0.0011571376404026158)"
      ]
     },
     "execution_count": 8,
     "metadata": {},
     "output_type": "execute_result"
    }
   ],
   "source": [
    "stats.ttest_ind(female_doctor_bps, male_consultant_bps)"
   ]
  },
  {
   "cell_type": "markdown",
   "metadata": {},
   "source": [
    "The p-value in this case is 0.0012, which again is below than the standard thresholds of 0.05 or 0.01, so we reject the null hypothesis and we can say there is a statistically significant difference between the resting systolic blood pressure of the resident female doctors and the male consultant doctors."
   ]
  },
  {
   "cell_type": "markdown",
   "metadata": {},
   "source": [
    "## Gaussian distribution\n",
    "\n",
    "- loc   : [float or array_like]Mean of the distribution. \n",
    "\n",
    "- scale : [float or array_like]Standard deviation of the distribution. \n",
    "\n",
    "- size  : [int or int tuples]. \n",
    "\n",
    "Output shape given as (m, n, k) then m*n*k samples are drawn. If size is \n",
    "None(by default), then a single value is returned. "
   ]
  },
  {
   "cell_type": "code",
   "execution_count": 3,
   "metadata": {},
   "outputs": [],
   "source": [
    "N = 100"
   ]
  },
  {
   "cell_type": "code",
   "execution_count": 118,
   "metadata": {},
   "outputs": [
    {
     "data": {
      "text/plain": [
       "(2.1031913858154043, 0.903763157929831)"
      ]
     },
     "execution_count": 118,
     "metadata": {},
     "output_type": "execute_result"
    }
   ],
   "source": [
    "# Gaussian distributed data with mean = 2 and var = 1\n",
    "mu1, sigma1 = 2, 1\n",
    "\n",
    "s1 = np.random.normal(mu1, sigma1, N)\n",
    "s1.mean(), s1.std()"
   ]
  },
  {
   "cell_type": "code",
   "execution_count": 120,
   "metadata": {},
   "outputs": [
    {
     "data": {
      "text/plain": [
       "(0.028582256466933607, 0.9012516261118529)"
      ]
     },
     "execution_count": 120,
     "metadata": {},
     "output_type": "execute_result"
    }
   ],
   "source": [
    "# Gaussian distributed data with mean = 0 and var = 1\n",
    "mu2, sigma2 = 0, 1\n",
    "\n",
    "s2 = np.random.normal(mu2, sigma2, N)\n",
    "s2.mean(), s2.std()"
   ]
  },
  {
   "cell_type": "code",
   "execution_count": 121,
   "metadata": {},
   "outputs": [
    {
     "data": {
      "image/png": "[encoded data removed]",
      "text/plain": [
       "<matplotlib.figure.Figure at 0x14bd0988f98>"
      ]
     },
     "metadata": {},
     "output_type": "display_data"
    }
   ],
   "source": [
    "fig = plt.figure(figsize=(12, 6))\n",
    "\n",
    "ax1 = fig.add_subplot(121)\n",
    "ax2 = fig.add_subplot(122)\n",
    "\n",
    "# Create the bins and histogram\n",
    "count, bins, ignored = ax1.hist(s1, 20, normed=True)\n",
    "\n",
    "# Plot the distribution curve\n",
    "ax1.plot(bins, \n",
    "         1/(sigma1 * np.sqrt(2 * np.pi)) * np.exp( - (bins - mu1)**2 / (2 * sigma1**2) ), \n",
    "         linewidth=3, \n",
    "         color='y');\n",
    "\n",
    "# Create the bins and histogram\n",
    "count, bins, ignored = ax2.hist(s2, 20, normed=True)\n",
    "\n",
    "# Plot the distribution curve\n",
    "ax2.plot(bins, \n",
    "         1/(sigma2 * np.sqrt(2 * np.pi)) * np.exp( - (bins - mu2)**2 / (2 * sigma2**2) ), \n",
    "         linewidth=3, \n",
    "         color='y');"
   ]
  },
  {
   "cell_type": "code",
   "execution_count": 122,
   "metadata": {
    "collapsed": true,
    "jupyter": {
     "outputs_hidden": true
    }
   },
   "outputs": [],
   "source": [
    "# calculate means\n",
    "mean1, mean2 = np.mean(s1), np.mean(s2)"
   ]
  },
  {
   "cell_type": "code",
   "execution_count": 123,
   "metadata": {
    "collapsed": true,
    "jupyter": {
     "outputs_hidden": true
    }
   },
   "outputs": [],
   "source": [
    "# calculate standard errors\n",
    "se1, se2 = scipy.stats.sem(s1), scipy.stats.sem(s2)"
   ]
  },
  {
   "cell_type": "code",
   "execution_count": 124,
   "metadata": {
    "collapsed": true,
    "jupyter": {
     "outputs_hidden": true
    }
   },
   "outputs": [],
   "source": [
    "# standard error on the difference between the samples\n",
    "sed = sqrt(se1**2.0 + se2**2.0)"
   ]
  },
  {
   "cell_type": "code",
   "execution_count": 125,
   "metadata": {},
   "outputs": [
    {
     "data": {
      "text/plain": [
       "16.172892358875004"
      ]
     },
     "execution_count": 125,
     "metadata": {},
     "output_type": "execute_result"
    }
   ],
   "source": [
    "# calculate the t statistic\n",
    "t_stat = (mean1 - mean2) / sed\n",
    "t_stat"
   ]
  },
  {
   "cell_type": "code",
   "execution_count": 126,
   "metadata": {},
   "outputs": [
    {
     "data": {
      "text/plain": [
       "198"
      ]
     },
     "execution_count": 126,
     "metadata": {},
     "output_type": "execute_result"
    }
   ],
   "source": [
    "# degrees of freedom\n",
    "degree_freedom = len(s1) + len(s2) - 2\n",
    "degree_freedom"
   ]
  },
  {
   "cell_type": "code",
   "execution_count": 127,
   "metadata": {},
   "outputs": [
    {
     "data": {
      "text/plain": [
       "1.6525857836172075"
      ]
     },
     "execution_count": 127,
     "metadata": {},
     "output_type": "execute_result"
    }
   ],
   "source": [
    "# calculate the critical value\n",
    "alpha = 0.05\n",
    "cv = scipy.stats.t.ppf(1.0 - alpha, degree_freedom)\n",
    "cv"
   ]
  },
  {
   "cell_type": "code",
   "execution_count": 128,
   "metadata": {},
   "outputs": [
    {
     "data": {
      "text/plain": [
       "0.0"
      ]
     },
     "execution_count": 128,
     "metadata": {},
     "output_type": "execute_result"
    }
   ],
   "source": [
    "# calculate the p-value\n",
    "p = (1.0 - scipy.stats.t.cdf(abs(t_stat), degree_freedom)) * 2.0\n",
    "p"
   ]
  },
  {
   "cell_type": "code",
   "execution_count": 129,
   "metadata": {},
   "outputs": [
    {
     "name": "stdout",
     "output_type": "stream",
     "text": [
      "t=    16.17289236, p=     0.00000000\n",
      "CV      : Reject the null hypothesis --> the means are NOT equal.\n",
      "p-value : Reject the null hypothesis --> the means are NOT equal.\n"
     ]
    }
   ],
   "source": [
    "# compare samples\n",
    "print('t=%15.8f, p=%15.8f' % (t_stat, p))\n",
    "\n",
    "# interpret via critical value\n",
    "if abs(t_stat) <= cv:\n",
    "    print('CV      : Accept null hypothesis --> the means are equal.')\n",
    "else:\n",
    "    print('CV      : Reject the null hypothesis --> the means are NOT equal.')\n",
    "    \n",
    "# interpret via p-value\n",
    "if p > alpha:\n",
    "    print('p-value : Accept null hypothesis --> the means are equal.')\n",
    "else:\n",
    "    print('p-value : Reject the null hypothesis --> the means are NOT equal.')"
   ]
  },
  {
   "cell_type": "markdown",
   "metadata": {},
   "source": [
    "### using scipy"
   ]
  },
  {
   "cell_type": "code",
   "execution_count": 130,
   "metadata": {},
   "outputs": [
    {
     "data": {
      "text/plain": [
       "Ttest_indResult(statistic=16.172892358875, pvalue=4.6941830869787896e-38)"
      ]
     },
     "execution_count": 130,
     "metadata": {},
     "output_type": "execute_result"
    }
   ],
   "source": [
    "stats.ttest_ind(s1, s2)"
   ]
  },
  {
   "cell_type": "code",
   "execution_count": null,
   "metadata": {
    "collapsed": true,
    "jupyter": {
     "outputs_hidden": true
    }
   },
   "outputs": [],
   "source": []
  }
 ],
 "metadata": {
  "kernelspec": {
   "display_name": "Python 3",
   "language": "python",
   "name": "python3"
  },
  "language_info": {
   "codemirror_mode": {
    "name": "ipython",
    "version": 3
   },
   "file_extension": ".py",
   "mimetype": "text/x-python",
   "name": "python",
   "nbconvert_exporter": "python",
   "pygments_lexer": "ipython3",
   "version": "3.7.3"
  }
 },
 "nbformat": 4,
 "nbformat_minor": 4
}
