{
 "cells": [
  {
   "cell_type": "markdown",
   "metadata": {},
   "source": [
    "** Numpy Stands for Numerical Python we need to include Numpy package"
   ]
  },
  {
   "cell_type": "code",
   "execution_count": 73,
   "metadata": {},
   "outputs": [],
   "source": [
    "import numpy as np"
   ]
  },
  {
   "cell_type": "markdown",
   "metadata": {},
   "source": [
    "list to Numpy array"
   ]
  },
  {
   "cell_type": "code",
   "execution_count": 74,
   "metadata": {},
   "outputs": [
    {
     "data": {
      "text/plain": [
       "array([10, 20, 30, 40])"
      ]
     },
     "execution_count": 74,
     "metadata": {},
     "output_type": "execute_result"
    }
   ],
   "source": [
    "lst=[10,20,30,40]\n",
    "np_lst=np.array(lst)\n",
    "np_lst"
   ]
  },
  {
   "cell_type": "markdown",
   "metadata": {},
   "source": [
    "**Creating 1,2,3  Dimension  array**"
   ]
  },
  {
   "cell_type": "code",
   "execution_count": 75,
   "metadata": {},
   "outputs": [],
   "source": [
    "D1=np.array([5,7,9])\n",
    "D2=np.array([[0,1,2],[5,7,9]])\n",
    "D3=np.array([[[0,1,2],[5,7,9],[4,6,9]],[[0,1,2],[5,7,9],[4,6,9]]])"
   ]
  },
  {
   "cell_type": "markdown",
   "metadata": {},
   "source": [
    "**Getting the Shape of Array**"
   ]
  },
  {
   "cell_type": "code",
   "execution_count": 76,
   "metadata": {},
   "outputs": [
    {
     "name": "stdout",
     "output_type": "stream",
     "text": [
      "D1 Shape: (3,)\n",
      "D2 Shape: (2, 3)\n",
      "D3 Shape: (2, 3, 3)\n"
     ]
    }
   ],
   "source": [
    "print('D1 Shape:',D1.shape)\n",
    "print('D2 Shape:',D2.shape)\n",
    "print('D3 Shape:',D3.shape)"
   ]
  },
  {
   "cell_type": "markdown",
   "metadata": {},
   "source": [
    "**Getting the Dimemsion of array:**"
   ]
  },
  {
   "cell_type": "code",
   "execution_count": 77,
   "metadata": {},
   "outputs": [
    {
     "name": "stdout",
     "output_type": "stream",
     "text": [
      "D1 Dimension: 1\n",
      "D2 Dimension: 2\n",
      "D3 Dimension: 3\n"
     ]
    }
   ],
   "source": [
    "print('D1 Dimension:',D1.ndim)\n",
    "print('D2 Dimension:',D2.ndim)\n",
    "print('D3 Dimension:',D3.ndim)"
   ]
  },
  {
   "cell_type": "markdown",
   "metadata": {},
   "source": [
    "**Getting the Size of numpy array**"
   ]
  },
  {
   "cell_type": "code",
   "execution_count": 78,
   "metadata": {},
   "outputs": [
    {
     "name": "stdout",
     "output_type": "stream",
     "text": [
      "D1 Size: 3\n",
      "D2 Size: 6\n",
      "D3 Size: 18\n"
     ]
    }
   ],
   "source": [
    "print('D1 Size:',D1.size)\n",
    "print('D2 Size:',D2.size)\n",
    "print('D3 Size:',D3.size)"
   ]
  },
  {
   "cell_type": "code",
   "execution_count": 79,
   "metadata": {},
   "outputs": [
    {
     "data": {
      "text/plain": [
       "array(['England', 'India', 'Srilanka', 'China'], dtype='<U8')"
      ]
     },
     "execution_count": 79,
     "metadata": {},
     "output_type": "execute_result"
    }
   ],
   "source": [
    "string_arr=np.array(['England','India','Srilanka','China'])\n",
    "string_arr"
   ]
  },
  {
   "cell_type": "markdown",
   "metadata": {},
   "source": [
    "**Getting the datatype:**"
   ]
  },
  {
   "cell_type": "code",
   "execution_count": 80,
   "metadata": {},
   "outputs": [
    {
     "name": "stdout",
     "output_type": "stream",
     "text": [
      "D1 Datatype: int64\n",
      "D2 Datatype: int64\n",
      "D1 Datatype: int64\n",
      "string_arr Datatype: <U8\n"
     ]
    }
   ],
   "source": [
    "print('D1 Datatype:',D1.dtype)\n",
    "print('D2 Datatype:',D2.dtype)\n",
    "print('D1 Datatype:',D1.dtype)\n",
    "print('string_arr Datatype:',string_arr.dtype)"
   ]
  },
  {
   "cell_type": "markdown",
   "metadata": {},
   "source": [
    "**Simple Operation like add or delete(both Array Should be in same size)**"
   ]
  },
  {
   "cell_type": "code",
   "execution_count": 81,
   "metadata": {},
   "outputs": [
    {
     "name": "stdout",
     "output_type": "stream",
     "text": [
      "Addition:  [50 50 50 50]\n",
      "Substract:  [-30 -10  10  30]\n"
     ]
    }
   ],
   "source": [
    "first_ele=np.array([10,20,30,40])\n",
    "secon_ele=np.array([40,30,20,10])\n",
    "Final_ele_add=first_ele+secon_ele\n",
    "Final_ele_sub=first_ele-secon_ele\n",
    "print('Addition: ',Final_ele_add)\n",
    "print('Substract: ',Final_ele_sub)"
   ]
  },
  {
   "cell_type": "markdown",
   "metadata": {},
   "source": [
    "**Array Slicing**"
   ]
  },
  {
   "cell_type": "code",
   "execution_count": 82,
   "metadata": {},
   "outputs": [
    {
     "name": "stdout",
     "output_type": "stream",
     "text": [
      "Full Array [[[0 1 2]\n",
      "  [5 7 9]\n",
      "  [4 6 9]]\n",
      "\n",
      " [[0 1 2]\n",
      "  [5 7 9]\n",
      "  [4 6 9]]]\n",
      "First row [[0 1 2]\n",
      " [5 7 9]\n",
      " [4 6 9]]\n",
      "second row of first row [5 7 9]\n",
      "second row of first row and second element 7\n"
     ]
    }
   ],
   "source": [
    "print('Full Array',D3)\n",
    "print('First row',D3[0])\n",
    "print('second row of first row',D3[0][1])\n",
    "print('second row of first row and second element',D3[0][1][1])"
   ]
  },
  {
   "cell_type": "markdown",
   "metadata": {},
   "source": [
    "**boolean Operation**"
   ]
  },
  {
   "cell_type": "code",
   "execution_count": 83,
   "metadata": {},
   "outputs": [
    {
     "name": "stdout",
     "output_type": "stream",
     "text": [
      "[[False  True  True]\n",
      " [False False  True]]\n",
      "[60 80 80]\n"
     ]
    }
   ],
   "source": [
    "D2=np.array([[50,60,80],[40,45,80]])\n",
    "D2_boolean=D2 > 50\n",
    "print(D2_boolean)\n",
    "#Filtering the element on array\n",
    "print(D2[D2_boolean])"
   ]
  },
  {
   "cell_type": "markdown",
   "metadata": {},
   "source": [
    "**Shallow Copy and deep copy**"
   ]
  },
  {
   "cell_type": "code",
   "execution_count": 84,
   "metadata": {},
   "outputs": [
    {
     "name": "stdout",
     "output_type": "stream",
     "text": [
      "Direct Copy ['England' 'India' 'Srilanka' 'China']\n",
      "shallow  Copy ['England' 'India' 'Srilanka' 'China']\n",
      "Deep  Copy ['England' 'India' 'Srilanka' 'China']\n",
      "Direct Copy after assingment ['Scotland' 'India' 'Srilanka' 'China']\n",
      "shallow Copy after assingment ['Scotland' 'India' 'Srilanka' 'China']\n",
      "Deep  Copy after assingment ['England' 'India' 'Srilanka' 'China']\n"
     ]
    }
   ],
   "source": [
    "string_arr_direct=string_arr\n",
    "string_arr_direct_vw=string_arr.view()\n",
    "string_arr_direct_cp=string_arr.copy()\n",
    "print(\"Direct Copy\",string_arr_direct)\n",
    "print(\"shallow  Copy\",string_arr_direct_vw)\n",
    "print(\"Deep  Copy\",string_arr_direct_cp)\n",
    "string_arr[0]='Scotland'\n",
    "print(\"Direct Copy after assingment\",string_arr_direct)\n",
    "print(\"shallow Copy after assingment\",string_arr_direct_vw)\n",
    "print(\"Deep  Copy after assingment\",string_arr_direct_cp)"
   ]
  },
  {
   "cell_type": "markdown",
   "metadata": {},
   "source": [
    "**sqrt,cos,pi,exp,sin,floor**"
   ]
  },
  {
   "cell_type": "markdown",
   "metadata": {},
   "source": [
    "**shape manipulation(ravel,reshape,resize,split and stack)**"
   ]
  },
  {
   "cell_type": "code",
   "execution_count": 85,
   "metadata": {},
   "outputs": [],
   "source": [
    "arr=np.array([[0,2,'txt'],[2.0,3,True]])"
   ]
  },
  {
   "cell_type": "code",
   "execution_count": 86,
   "metadata": {},
   "outputs": [
    {
     "name": "stdout",
     "output_type": "stream",
     "text": [
      "['0' '2' 'txt' '2.0' '3' 'True']\n"
     ]
    }
   ],
   "source": [
    "flatted=arr.ravel()\n",
    "print(flatted)"
   ]
  },
  {
   "cell_type": "code",
   "execution_count": 87,
   "metadata": {},
   "outputs": [
    {
     "data": {
      "text/plain": [
       "array([['0', '2'],\n",
       "       ['txt', '2.0'],\n",
       "       ['3', 'True']], dtype='<U21')"
      ]
     },
     "execution_count": 87,
     "metadata": {},
     "output_type": "execute_result"
    }
   ],
   "source": [
    "flatted.reshape(3,2)"
   ]
  },
  {
   "cell_type": "code",
   "execution_count": 88,
   "metadata": {},
   "outputs": [
    {
     "data": {
      "text/plain": [
       "array([['0', '2'],\n",
       "       ['txt', '2.0'],\n",
       "       ['3', 'True']], dtype='<U21')"
      ]
     },
     "execution_count": 88,
     "metadata": {},
     "output_type": "execute_result"
    }
   ],
   "source": [
    "flatted.resize(3,2)\n",
    "flatted"
   ]
  },
  {
   "cell_type": "code",
   "execution_count": 89,
   "metadata": {},
   "outputs": [
    {
     "data": {
      "text/plain": [
       "[array([['0'],\n",
       "        ['txt'],\n",
       "        ['3']], dtype='<U21'), array([['2'],\n",
       "        ['2.0'],\n",
       "        ['True']], dtype='<U21')]"
      ]
     },
     "execution_count": 89,
     "metadata": {},
     "output_type": "execute_result"
    }
   ],
   "source": [
    "np.hsplit(flatted,2)"
   ]
  },
  {
   "cell_type": "code",
   "execution_count": 90,
   "metadata": {},
   "outputs": [
    {
     "data": {
      "text/plain": [
       "array([['0', '2'],\n",
       "       ['txt', '2.0'],\n",
       "       ['3', 'True']], dtype='<U21')"
      ]
     },
     "execution_count": 90,
     "metadata": {},
     "output_type": "execute_result"
    }
   ],
   "source": [
    "flatted"
   ]
  },
  {
   "cell_type": "code",
   "execution_count": 93,
   "metadata": {},
   "outputs": [
    {
     "data": {
      "text/plain": [
       "array([[0, 1, 2, 3, 4],\n",
       "       [5, 6, 7, 8, 9]])"
      ]
     },
     "execution_count": 93,
     "metadata": {},
     "output_type": "execute_result"
    }
   ],
   "source": [
    "np.stack((np.array([0,1,2,3,4]),np.array([5,6,7,8,9])))"
   ]
  },
  {
   "cell_type": "code",
   "execution_count": 94,
   "metadata": {},
   "outputs": [
    {
     "data": {
      "text/plain": [
       "array([0, 1, 2, 3, 4, 5, 6, 7, 8, 9])"
      ]
     },
     "execution_count": 94,
     "metadata": {},
     "output_type": "execute_result"
    }
   ],
   "source": [
    "np.hstack((np.array([0,1,2,3,4]),np.array([5,6,7,8,9])))"
   ]
  },
  {
   "cell_type": "markdown",
   "metadata": {},
   "source": [
    "**Numpy Array broadcasting(Array should be with similar size or scalar**"
   ]
  },
  {
   "cell_type": "code",
   "execution_count": 107,
   "metadata": {},
   "outputs": [
    {
     "name": "stdout",
     "output_type": "stream",
     "text": [
      "[[1 2]\n",
      " [3 4]]\n",
      "[[0.2 0.4]\n",
      " [0.6 0.8]]\n"
     ]
    }
   ],
   "source": [
    "arr=np.array([[1,2],[3,4]])\n",
    "print(arr)\n",
    "n=.2\n",
    "arr_new=arr*n\n",
    "print(arr_new)"
   ]
  },
  {
   "cell_type": "markdown",
   "metadata": {},
   "source": [
    "**Trace**"
   ]
  },
  {
   "cell_type": "code",
   "execution_count": 109,
   "metadata": {},
   "outputs": [
    {
     "name": "stdout",
     "output_type": "stream",
     "text": [
      "1.0\n"
     ]
    }
   ],
   "source": [
    "print(np.trace(arr_new))"
   ]
  },
  {
   "cell_type": "markdown",
   "metadata": {},
   "source": [
    "**Transpose**"
   ]
  },
  {
   "cell_type": "code",
   "execution_count": 113,
   "metadata": {},
   "outputs": [
    {
     "name": "stdout",
     "output_type": "stream",
     "text": [
      "[[[0 1 2]\n",
      "  [5 7 9]\n",
      "  [4 6 9]]\n",
      "\n",
      " [[0 1 2]\n",
      "  [5 7 9]\n",
      "  [4 6 9]]]\n"
     ]
    },
    {
     "data": {
      "text/plain": [
       "array([[[0, 0],\n",
       "        [5, 5],\n",
       "        [4, 4]],\n",
       "\n",
       "       [[1, 1],\n",
       "        [7, 7],\n",
       "        [6, 6]],\n",
       "\n",
       "       [[2, 2],\n",
       "        [9, 9],\n",
       "        [9, 9]]])"
      ]
     },
     "execution_count": 113,
     "metadata": {},
     "output_type": "execute_result"
    }
   ],
   "source": [
    "print(D3)\n",
    "D3.transpose()"
   ]
  },
  {
   "cell_type": "markdown",
   "metadata": {},
   "source": [
    "x-y+3z=2\n",
    "2x+y+2z=2\n",
    "-2x-2y+z=3\n",
    "find x,y,z?"
   ]
  },
  {
   "cell_type": "code",
   "execution_count": 116,
   "metadata": {},
   "outputs": [],
   "source": [
    "A=np.array([[1,-1,3],[2,1,2],[-2,-2,1]])"
   ]
  },
  {
   "cell_type": "code",
   "execution_count": 117,
   "metadata": {},
   "outputs": [
    {
     "data": {
      "text/plain": [
       "array([[ 1, -1,  3],\n",
       "       [ 2,  1,  2],\n",
       "       [-2, -2,  1]])"
      ]
     },
     "execution_count": 117,
     "metadata": {},
     "output_type": "execute_result"
    }
   ],
   "source": [
    "A"
   ]
  },
  {
   "cell_type": "code",
   "execution_count": 118,
   "metadata": {},
   "outputs": [
    {
     "name": "stdout",
     "output_type": "stream",
     "text": [
      "[[ 1.  -1.  -1. ]\n",
      " [-1.2  1.4  0.8]\n",
      " [-0.4  0.8  0.6]]\n"
     ]
    }
   ],
   "source": [
    "ainv=np.linalg.inv(A)\n",
    "print(ainv)"
   ]
  },
  {
   "cell_type": "code",
   "execution_count": 127,
   "metadata": {},
   "outputs": [],
   "source": [
    "res=[2,2,3]#as shpwing result into 1D array"
   ]
  },
  {
   "cell_type": "code",
   "execution_count": 120,
   "metadata": {},
   "outputs": [],
   "source": [
    "result=np.dot(ainv,A)\n",
    "print(result)"
   ]
  },
  {
   "cell_type": "code",
   "execution_count": 125,
   "metadata": {},
   "outputs": [],
   "source": [
    "result=np.dot(ainv,res)"
   ]
  },
  {
   "cell_type": "code",
   "execution_count": 126,
   "metadata": {},
   "outputs": [
    {
     "data": {
      "text/plain": [
       "array([-3. ,  2.8,  2.6])"
      ]
     },
     "execution_count": 126,
     "metadata": {},
     "output_type": "execute_result"
    }
   ],
   "source": [
    "result"
   ]
  },
  {
   "cell_type": "markdown",
   "metadata": {},
   "source": [
    "# x=-3,y=2.8,z=2.6"
   ]
  },
  {
   "cell_type": "code",
   "execution_count": null,
   "metadata": {},
   "outputs": [],
   "source": []
  }
 ],
 "metadata": {
  "kernelspec": {
   "display_name": "Python 3",
   "language": "python",
   "name": "python3"
  },
  "language_info": {
   "codemirror_mode": {
    "name": "ipython",
    "version": 3
   },
   "file_extension": ".py",
   "mimetype": "text/x-python",
   "name": "python",
   "nbconvert_exporter": "python",
   "pygments_lexer": "ipython3",
   "version": "3.7.3"
  }
 },
 "nbformat": 4,
 "nbformat_minor": 2
}
