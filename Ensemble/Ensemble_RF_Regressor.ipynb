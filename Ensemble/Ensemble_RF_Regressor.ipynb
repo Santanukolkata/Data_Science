{
 "cells": [
  {
   "cell_type": "markdown",
   "metadata": {},
   "source": [
    "mport two modules sklearn.datasets, and sklearn.model_selection.\n",
    "Import numpy and set random seed to 100\n",
    "\n",
    "Load popular Boston dataset from sklearn.datasets module and assign it to variable boston.\n",
    "\n",
    "Split boston.data into two sets names X_train and X_test. Also, split boston.target into two sets Y_train and Y_test.\n",
    "\n",
    "Hint: Use train_test_split method from sklearn.model_selection; set random_state to 30.\n",
    "Print the shape of X_train dataset.\n",
    "\n",
    "Print the shape of X_test dataset."
   ]
  },
  {
   "cell_type": "code",
   "execution_count": 1,
   "metadata": {},
   "outputs": [
    {
     "name": "stdout",
     "output_type": "stream",
     "text": [
      "(379, 13)\n",
      "(127, 13)\n"
     ]
    }
   ],
   "source": [
    "from  sklearn.datasets import load_boston\n",
    "from  sklearn.model_selection import train_test_split\n",
    "import numpy\n",
    "data=load_boston()\n",
    "x=data.data\n",
    "y=data.target\n",
    "X_train,X_test, Y_train,Y_test=train_test_split(x,y,random_state=30)\n",
    "print(X_train.shape)\n",
    "print(X_test.shape)"
   ]
  },
  {
   "cell_type": "markdown",
   "metadata": {},
   "source": [
    "Import required module from sklearn.ensemble.\n",
    "\n",
    "Build a Random Forest Regressor model from X_train set and Y_train labels, with default parameters. Name the model as rf_reg.\n",
    "\n",
    "Evaluate the model accuracy on training data set and print it's score.\n",
    "\n",
    "Evaluate the model accuracy on testing data set and print it's score.\n",
    "\n",
    "Predict the housing price for first two samples of X_test set and print them."
   ]
  },
  {
   "cell_type": "code",
   "execution_count": 16,
   "metadata": {},
   "outputs": [
    {
     "name": "stdout",
     "output_type": "stream",
     "text": [
      "0.9791462994952291\n",
      "0.8924528272116841\n",
      "19.125000000000007\n",
      "9.630999999999997\n"
     ]
    }
   ],
   "source": [
    "from sklearn.ensemble import RandomForestRegressor\n",
    "rf_reg=RandomForestRegressor(random_state=30)\n",
    "rf_reg.fit(X_train,Y_train)\n",
    "print(rf_reg.score(X_train,Y_train))\n",
    "print(rf_reg.score(X_test,Y_test))\n",
    "fm=rf_reg.predict(X_test[[0]])\n",
    "fm1=rf_reg.predict(X_test[[1]])\n",
    "print(fm[0])\n",
    "print(fm1[0])"
   ]
  },
  {
   "cell_type": "markdown",
   "metadata": {},
   "source": [
    "Build multiple Random forest regressor on X_train set and Y_train labels with max_depth parameter value changing from 3 to 5 and also setting n_estimators to one of 50, 100, 200 values.\n",
    "\n",
    "Evaluate each model accuracy on testing data set.\n",
    "\n",
    "Hint: Make use of for loop\n",
    "Print the max_depth and n_estimators values of the model with highest accuracy.\n",
    "\n",
    "Note: Print the parameter values in the form of tuple (a, b). a refers to max_depth value and b refers to n_estimators"
   ]
  },
  {
   "cell_type": "code",
   "execution_count": 17,
   "metadata": {},
   "outputs": [
    {
     "name": "stdout",
     "output_type": "stream",
     "text": [
      "(5, 50)\n"
     ]
    }
   ],
   "source": [
    "dict={}\n",
    "n_estimators =[50,100,200]\n",
    "for max_dep in range(3,6):\n",
    "    for n_estimator in n_estimators:\n",
    "        rf_reg=RandomForestRegressor(max_depth=max_dep,n_estimators=n_estimator,random_state=30)\n",
    "        rf_reg.fit(X_train,Y_train)\n",
    "        #print(rf_reg.score(X_test,Y_test))\n",
    "        dict[(max_dep,n_estimator)]=rf_reg.score(X_test,Y_test)\n",
    "Keymax = max(dict, key= lambda x: dict[x]) \n",
    "print(Keymax)"
   ]
  },
  {
   "cell_type": "code",
   "execution_count": 18,
   "metadata": {},
   "outputs": [
    {
     "data": {
      "text/plain": [
       "{(3, 50): 0.8209561726415155,\n",
       " (3, 100): 0.8321980372451222,\n",
       " (3, 200): 0.8294219257235114,\n",
       " (4, 50): 0.855671542214479,\n",
       " (4, 100): 0.8569550796789193,\n",
       " (4, 200): 0.8546951950445624,\n",
       " (5, 50): 0.868947323803188,\n",
       " (5, 100): 0.8680151623116275,\n",
       " (5, 200): 0.8666631077426696}"
      ]
     },
     "execution_count": 18,
     "metadata": {},
     "output_type": "execute_result"
    }
   ],
   "source": [
    "dict"
   ]
  },
  {
   "cell_type": "code",
   "execution_count": null,
   "metadata": {},
   "outputs": [],
   "source": []
  }
 ],
 "metadata": {
  "kernelspec": {
   "display_name": "Python 3",
   "language": "python",
   "name": "python3"
  },
  "language_info": {
   "codemirror_mode": {
    "name": "ipython",
    "version": 3
   },
   "file_extension": ".py",
   "mimetype": "text/x-python",
   "name": "python",
   "nbconvert_exporter": "python",
   "pygments_lexer": "ipython3",
   "version": "3.7.6"
  }
 },
 "nbformat": 4,
 "nbformat_minor": 4
}
