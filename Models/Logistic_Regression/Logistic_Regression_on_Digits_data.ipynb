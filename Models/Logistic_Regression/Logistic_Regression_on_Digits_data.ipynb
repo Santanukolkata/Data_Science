{
  "nbformat": 4,
  "nbformat_minor": 0,
  "metadata": {
    "colab": {
      "name": "Logistic_Regression_on_Digits_data.ipynb",
      "provenance": [],
      "authorship_tag": "ABX9TyPlwY1O6w5j7rdnr4p80Dym",
      "include_colab_link": true
    },
    "kernelspec": {
      "name": "python3",
      "display_name": "Python 3"
    }
  },
  "cells": [
    {
      "cell_type": "markdown",
      "metadata": {
        "id": "view-in-github",
        "colab_type": "text"
      },
      "source": [
        "<a href=\"https://colab.research.google.com/github/Santanukolkata/Data_Science/blob/master/Models/Logistic_Regression/Logistic_Regression_on_Digits_data.ipynb\" target=\"_parent\"><img src=\"https://colab.research.google.com/assets/colab-badge.svg\" alt=\"Open In Colab\"/></a>"
      ]
    },
    {
      "cell_type": "code",
      "metadata": {
        "id": "5LcDflcZaQBP",
        "colab_type": "code",
        "colab": {}
      },
      "source": [
        "from sklearn.datasets import load_digits\n",
        "from sklearn.model_selection import train_test_split\n",
        "from sklearn.linear_model import LogisticRegression\n",
        "from sklearn.metrics import confusion_matrix,fbeta_score,classification_report\n",
        "import numpy as np\n",
        "digits = load_digits()"
      ],
      "execution_count": 19,
      "outputs": []
    },
    {
      "cell_type": "code",
      "metadata": {
        "id": "qgb8QoW6dAxd",
        "colab_type": "code",
        "colab": {}
      },
      "source": [
        "X=digits.data"
      ],
      "execution_count": 20,
      "outputs": []
    },
    {
      "cell_type": "code",
      "metadata": {
        "id": "o0hwo8SqdOLg",
        "colab_type": "code",
        "colab": {}
      },
      "source": [
        "y=digits.target"
      ],
      "execution_count": 21,
      "outputs": []
    },
    {
      "cell_type": "code",
      "metadata": {
        "id": "y7N3ESY7dSoL",
        "colab_type": "code",
        "colab": {}
      },
      "source": [
        "##build model\n",
        "X_train, X_test, y_train, y_test = train_test_split(X,\n",
        "                                    y,train_size=0.8,random_state=71)\n",
        "\n",
        "clf = LogisticRegression(random_state=125, solver='liblinear',C=.1,penalty='l1').fit(X_train,y_train)\n",
        "predict_test = clf.predict(X_test)"
      ],
      "execution_count": 29,
      "outputs": []
    },
    {
      "cell_type": "code",
      "metadata": {
        "id": "DIbuxlb0df8l",
        "colab_type": "code",
        "colab": {
          "base_uri": "https://localhost:8080/",
          "height": 191
        },
        "outputId": "1b077bf6-cd2f-420a-cb09-ab73ba53da80"
      },
      "source": [
        "print(confusion_matrix(y_test, predict_test))"
      ],
      "execution_count": 28,
      "outputs": [
        {
          "output_type": "stream",
          "text": [
            "[[31  0  0  0  0  1  0  0  0  0]\n",
            " [ 0 47  0  1  0  0  0  0  0  1]\n",
            " [ 0  0 38  0  0  0  0  0  0  0]\n",
            " [ 0  0  0 31  0  1  0  0  2  0]\n",
            " [ 0  1  0  0 44  0  0  0  0  0]\n",
            " [ 0  0  0  0  0 37  0  0  0  0]\n",
            " [ 0  0  0  0  0  1 29  0  0  0]\n",
            " [ 0  0  0  0  1  0  0 28  0  0]\n",
            " [ 0  3  0  0  1  0  0  0 29  0]\n",
            " [ 0  0  0  1  1  0  0  0  1 30]]\n"
          ],
          "name": "stdout"
        }
      ]
    },
    {
      "cell_type": "code",
      "metadata": {
        "id": "xc4NUncCeB-w",
        "colab_type": "code",
        "colab": {}
      },
      "source": [
        "clf = LogisticRegression(random_state=125, solver='liblinear',C=.1,penalty='l2').fit(X_train,y_train)\n",
        "predict_test = clf.predict(X_test)"
      ],
      "execution_count": 30,
      "outputs": []
    },
    {
      "cell_type": "code",
      "metadata": {
        "id": "VZL7j2N8ewJu",
        "colab_type": "code",
        "colab": {
          "base_uri": "https://localhost:8080/",
          "height": 191
        },
        "outputId": "748d02a8-f020-4ed7-a67b-882c6100d866"
      },
      "source": [
        "print(confusion_matrix(y_test, predict_test))"
      ],
      "execution_count": 31,
      "outputs": [
        {
          "output_type": "stream",
          "text": [
            "[[31  0  0  0  0  1  0  0  0  0]\n",
            " [ 0 47  0  1  0  0  0  0  0  1]\n",
            " [ 0  0 38  0  0  0  0  0  0  0]\n",
            " [ 0  0  0 30  0  2  0  0  1  1]\n",
            " [ 0  1  0  0 44  0  0  0  0  0]\n",
            " [ 0  0  0  0  0 37  0  0  0  0]\n",
            " [ 0  0  0  0  0  1 29  0  0  0]\n",
            " [ 0  0  0  0  1  0  0 28  0  0]\n",
            " [ 0  3  0  0  1  0  0  0 29  0]\n",
            " [ 0  0  0  1  0  0  0  0  1 31]]\n"
          ],
          "name": "stdout"
        }
      ]
    },
    {
      "cell_type": "code",
      "metadata": {
        "id": "8i8yeScqfGTt",
        "colab_type": "code",
        "colab": {}
      },
      "source": [
        ""
      ],
      "execution_count": null,
      "outputs": []
    }
  ]
}