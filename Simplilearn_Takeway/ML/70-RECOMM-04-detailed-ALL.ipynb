{
 "cells": [
  {
   "cell_type": "code",
   "execution_count": 1,
   "metadata": {
    "collapsed": true
   },
   "outputs": [],
   "source": [
    "# make necesarry imports\n",
    "from math import sqrt\n",
    "import sys, os\n",
    "import numpy as np\n",
    "import pandas as pd\n",
    "import matplotlib.pyplot as plt\n",
    "import sklearn.metrics as metrics\n",
    "\n",
    "from sklearn.neighbors import NearestNeighbors\n",
    "from scipy.spatial.distance import correlation, cosine\n",
    "import ipywidgets as widgets\n",
    "from IPython.display import display, clear_output\n",
    "from sklearn.metrics import pairwise_distances\n",
    "from sklearn.metrics import mean_squared_error\n",
    "\n",
    "from contextlib import contextmanager"
   ]
  },
  {
   "cell_type": "code",
   "execution_count": 2,
   "metadata": {
    "collapsed": true
   },
   "outputs": [],
   "source": [
    "# M is user-item ratings matrix where ratings are integers from 1-10\n",
    "# rows - denote users\n",
    "# columns - items\n",
    "# cells - ratings\n",
    "ratings_M = np.asarray([[3,7,4,9,9,7], \n",
    "                        [7,0,5,3,8,8],\n",
    "                        [7,5,5,0,8,4],\n",
    "                        [5,6,8,5,9,8],\n",
    "                        [5,8,8,8,10,9],\n",
    "                        [7,7,0,4,7,8]])\n",
    "\n",
    "df_ratings_M = pd.DataFrame(ratings_M)"
   ]
  },
  {
   "cell_type": "code",
   "execution_count": 3,
   "metadata": {
    "collapsed": true
   },
   "outputs": [],
   "source": [
    "# declaring k, metric as global which can be changed by the user later\n",
    "global k, metric\n",
    "\n",
    "# defaults\n",
    "metric = 'cosine' \n",
    "k      = 3"
   ]
  },
  {
   "cell_type": "code",
   "execution_count": 4,
   "metadata": {},
   "outputs": [
    {
     "data": {
      "text/html": [
       "<div>\n",
       "<style>\n",
       "    .dataframe thead tr:only-child th {\n",
       "        text-align: right;\n",
       "    }\n",
       "\n",
       "    .dataframe thead th {\n",
       "        text-align: left;\n",
       "    }\n",
       "\n",
       "    .dataframe tbody tr th {\n",
       "        vertical-align: top;\n",
       "    }\n",
       "</style>\n",
       "<table border=\"1\" class=\"dataframe\">\n",
       "  <thead>\n",
       "    <tr style=\"text-align: right;\">\n",
       "      <th></th>\n",
       "      <th>0</th>\n",
       "      <th>1</th>\n",
       "      <th>2</th>\n",
       "      <th>3</th>\n",
       "      <th>4</th>\n",
       "      <th>5</th>\n",
       "    </tr>\n",
       "  </thead>\n",
       "  <tbody>\n",
       "    <tr>\n",
       "      <th>0</th>\n",
       "      <td>3</td>\n",
       "      <td>7</td>\n",
       "      <td>4</td>\n",
       "      <td>9</td>\n",
       "      <td>9</td>\n",
       "      <td>7</td>\n",
       "    </tr>\n",
       "    <tr>\n",
       "      <th>1</th>\n",
       "      <td>7</td>\n",
       "      <td>0</td>\n",
       "      <td>5</td>\n",
       "      <td>3</td>\n",
       "      <td>8</td>\n",
       "      <td>8</td>\n",
       "    </tr>\n",
       "    <tr>\n",
       "      <th>2</th>\n",
       "      <td>7</td>\n",
       "      <td>5</td>\n",
       "      <td>5</td>\n",
       "      <td>0</td>\n",
       "      <td>8</td>\n",
       "      <td>4</td>\n",
       "    </tr>\n",
       "    <tr>\n",
       "      <th>3</th>\n",
       "      <td>5</td>\n",
       "      <td>6</td>\n",
       "      <td>8</td>\n",
       "      <td>5</td>\n",
       "      <td>9</td>\n",
       "      <td>8</td>\n",
       "    </tr>\n",
       "    <tr>\n",
       "      <th>4</th>\n",
       "      <td>5</td>\n",
       "      <td>8</td>\n",
       "      <td>8</td>\n",
       "      <td>8</td>\n",
       "      <td>10</td>\n",
       "      <td>9</td>\n",
       "    </tr>\n",
       "    <tr>\n",
       "      <th>5</th>\n",
       "      <td>7</td>\n",
       "      <td>7</td>\n",
       "      <td>0</td>\n",
       "      <td>4</td>\n",
       "      <td>7</td>\n",
       "      <td>8</td>\n",
       "    </tr>\n",
       "  </tbody>\n",
       "</table>\n",
       "</div>"
      ],
      "text/plain": [
       "   0  1  2  3   4  5\n",
       "0  3  7  4  9   9  7\n",
       "1  7  0  5  3   8  8\n",
       "2  7  5  5  0   8  4\n",
       "3  5  6  8  5   9  8\n",
       "4  5  8  8  8  10  9\n",
       "5  7  7  0  4   7  8"
      ]
     },
     "execution_count": 4,
     "metadata": {},
     "output_type": "execute_result"
    }
   ],
   "source": [
    "df_ratings_M"
   ]
  },
  {
   "cell_type": "markdown",
   "metadata": {},
   "source": [
    "# (A) User-based Recommendation Systems"
   ]
  },
  {
   "cell_type": "code",
   "execution_count": 5,
   "metadata": {
    "collapsed": true
   },
   "outputs": [],
   "source": [
    "# get cosine similarities for ratings matrix M; \n",
    "# pairwise_distances returns the distances between ratings and hence\n",
    "# similarities are obtained by subtracting distances from 1\n",
    "cosine_sim = 1 - pairwise_distances(df_ratings_M, metric=\"cosine\")"
   ]
  },
  {
   "cell_type": "code",
   "execution_count": 7,
   "metadata": {},
   "outputs": [
    {
     "data": {
      "text/plain": [
       "(6, 6)"
      ]
     },
     "execution_count": 7,
     "metadata": {},
     "output_type": "execute_result"
    }
   ],
   "source": [
    "cosine_sim.shape"
   ]
  },
  {
   "cell_type": "code",
   "execution_count": 6,
   "metadata": {},
   "outputs": [
    {
     "data": {
      "text/plain": [
       "array([[1.        , 0.79926798, 0.77922652, 0.93462168, 0.97388994,\n",
       "        0.88460046],\n",
       "       [0.79926798, 1.        , 0.87474441, 0.90584982, 0.86614571,\n",
       "        0.82703601],\n",
       "       [0.77922652, 0.87474441, 1.        , 0.90951269, 0.86545388,\n",
       "        0.85327496],\n",
       "       [0.93462168, 0.90584982, 0.90951269, 1.        , 0.98934361,\n",
       "        0.86561362],\n",
       "       [0.97388994, 0.86614571, 0.86545388, 0.98934361, 1.        ,\n",
       "        0.88164025],\n",
       "       [0.88460046, 0.82703601, 0.85327496, 0.86561362, 0.88164025,\n",
       "        1.        ]])"
      ]
     },
     "execution_count": 6,
     "metadata": {},
     "output_type": "execute_result"
    }
   ],
   "source": [
    "cosine_sim"
   ]
  },
  {
   "cell_type": "code",
   "execution_count": 8,
   "metadata": {},
   "outputs": [
    {
     "data": {
      "text/html": [
       "<div>\n",
       "<style>\n",
       "    .dataframe thead tr:only-child th {\n",
       "        text-align: right;\n",
       "    }\n",
       "\n",
       "    .dataframe thead th {\n",
       "        text-align: left;\n",
       "    }\n",
       "\n",
       "    .dataframe tbody tr th {\n",
       "        vertical-align: top;\n",
       "    }\n",
       "</style>\n",
       "<table border=\"1\" class=\"dataframe\">\n",
       "  <thead>\n",
       "    <tr style=\"text-align: right;\">\n",
       "      <th></th>\n",
       "      <th>0</th>\n",
       "      <th>1</th>\n",
       "      <th>2</th>\n",
       "      <th>3</th>\n",
       "      <th>4</th>\n",
       "      <th>5</th>\n",
       "    </tr>\n",
       "  </thead>\n",
       "  <tbody>\n",
       "    <tr>\n",
       "      <th>0</th>\n",
       "      <td>1.000000</td>\n",
       "      <td>0.799268</td>\n",
       "      <td>0.779227</td>\n",
       "      <td>0.934622</td>\n",
       "      <td>0.973890</td>\n",
       "      <td>0.884600</td>\n",
       "    </tr>\n",
       "    <tr>\n",
       "      <th>1</th>\n",
       "      <td>0.799268</td>\n",
       "      <td>1.000000</td>\n",
       "      <td>0.874744</td>\n",
       "      <td>0.905850</td>\n",
       "      <td>0.866146</td>\n",
       "      <td>0.827036</td>\n",
       "    </tr>\n",
       "    <tr>\n",
       "      <th>2</th>\n",
       "      <td>0.779227</td>\n",
       "      <td>0.874744</td>\n",
       "      <td>1.000000</td>\n",
       "      <td>0.909513</td>\n",
       "      <td>0.865454</td>\n",
       "      <td>0.853275</td>\n",
       "    </tr>\n",
       "    <tr>\n",
       "      <th>3</th>\n",
       "      <td>0.934622</td>\n",
       "      <td>0.905850</td>\n",
       "      <td>0.909513</td>\n",
       "      <td>1.000000</td>\n",
       "      <td>0.989344</td>\n",
       "      <td>0.865614</td>\n",
       "    </tr>\n",
       "    <tr>\n",
       "      <th>4</th>\n",
       "      <td>0.973890</td>\n",
       "      <td>0.866146</td>\n",
       "      <td>0.865454</td>\n",
       "      <td>0.989344</td>\n",
       "      <td>1.000000</td>\n",
       "      <td>0.881640</td>\n",
       "    </tr>\n",
       "    <tr>\n",
       "      <th>5</th>\n",
       "      <td>0.884600</td>\n",
       "      <td>0.827036</td>\n",
       "      <td>0.853275</td>\n",
       "      <td>0.865614</td>\n",
       "      <td>0.881640</td>\n",
       "      <td>1.000000</td>\n",
       "    </tr>\n",
       "  </tbody>\n",
       "</table>\n",
       "</div>"
      ],
      "text/plain": [
       "          0         1         2         3         4         5\n",
       "0  1.000000  0.799268  0.779227  0.934622  0.973890  0.884600\n",
       "1  0.799268  1.000000  0.874744  0.905850  0.866146  0.827036\n",
       "2  0.779227  0.874744  1.000000  0.909513  0.865454  0.853275\n",
       "3  0.934622  0.905850  0.909513  1.000000  0.989344  0.865614\n",
       "4  0.973890  0.866146  0.865454  0.989344  1.000000  0.881640\n",
       "5  0.884600  0.827036  0.853275  0.865614  0.881640  1.000000"
      ]
     },
     "execution_count": 8,
     "metadata": {},
     "output_type": "execute_result"
    }
   ],
   "source": [
    "# Cosine similarity matrix\n",
    "pd.DataFrame(cosine_sim)"
   ]
  },
  {
   "cell_type": "code",
   "execution_count": 9,
   "metadata": {
    "collapsed": true
   },
   "outputs": [],
   "source": [
    "# get pearson similarities for ratings matrix M\n",
    "pearson_sim = 1 - pairwise_distances(df_ratings_M, metric=\"correlation\")"
   ]
  },
  {
   "cell_type": "code",
   "execution_count": 10,
   "metadata": {},
   "outputs": [
    {
     "data": {
      "text/html": [
       "<div>\n",
       "<style>\n",
       "    .dataframe thead tr:only-child th {\n",
       "        text-align: right;\n",
       "    }\n",
       "\n",
       "    .dataframe thead th {\n",
       "        text-align: left;\n",
       "    }\n",
       "\n",
       "    .dataframe tbody tr th {\n",
       "        vertical-align: top;\n",
       "    }\n",
       "</style>\n",
       "<table border=\"1\" class=\"dataframe\">\n",
       "  <thead>\n",
       "    <tr style=\"text-align: right;\">\n",
       "      <th></th>\n",
       "      <th>0</th>\n",
       "      <th>1</th>\n",
       "      <th>2</th>\n",
       "      <th>3</th>\n",
       "      <th>4</th>\n",
       "      <th>5</th>\n",
       "    </tr>\n",
       "  </thead>\n",
       "  <tbody>\n",
       "    <tr>\n",
       "      <th>0</th>\n",
       "      <td>1.000000</td>\n",
       "      <td>-0.137446</td>\n",
       "      <td>-0.357398</td>\n",
       "      <td>0.208179</td>\n",
       "      <td>0.761905</td>\n",
       "      <td>0.277350</td>\n",
       "    </tr>\n",
       "    <tr>\n",
       "      <th>1</th>\n",
       "      <td>-0.137446</td>\n",
       "      <td>1.000000</td>\n",
       "      <td>0.453897</td>\n",
       "      <td>0.515910</td>\n",
       "      <td>0.112456</td>\n",
       "      <td>0.218328</td>\n",
       "    </tr>\n",
       "    <tr>\n",
       "      <th>2</th>\n",
       "      <td>-0.357398</td>\n",
       "      <td>0.453897</td>\n",
       "      <td>1.000000</td>\n",
       "      <td>0.451378</td>\n",
       "      <td>-0.042888</td>\n",
       "      <td>0.297373</td>\n",
       "    </tr>\n",
       "    <tr>\n",
       "      <th>3</th>\n",
       "      <td>0.208179</td>\n",
       "      <td>0.515910</td>\n",
       "      <td>0.451378</td>\n",
       "      <td>1.000000</td>\n",
       "      <td>0.763325</td>\n",
       "      <td>-0.057739</td>\n",
       "    </tr>\n",
       "    <tr>\n",
       "      <th>4</th>\n",
       "      <td>0.761905</td>\n",
       "      <td>0.112456</td>\n",
       "      <td>-0.042888</td>\n",
       "      <td>0.763325</td>\n",
       "      <td>1.000000</td>\n",
       "      <td>0.039621</td>\n",
       "    </tr>\n",
       "    <tr>\n",
       "      <th>5</th>\n",
       "      <td>0.277350</td>\n",
       "      <td>0.218328</td>\n",
       "      <td>0.297373</td>\n",
       "      <td>-0.057739</td>\n",
       "      <td>0.039621</td>\n",
       "      <td>1.000000</td>\n",
       "    </tr>\n",
       "  </tbody>\n",
       "</table>\n",
       "</div>"
      ],
      "text/plain": [
       "          0         1         2         3         4         5\n",
       "0  1.000000 -0.137446 -0.357398  0.208179  0.761905  0.277350\n",
       "1 -0.137446  1.000000  0.453897  0.515910  0.112456  0.218328\n",
       "2 -0.357398  0.453897  1.000000  0.451378 -0.042888  0.297373\n",
       "3  0.208179  0.515910  0.451378  1.000000  0.763325 -0.057739\n",
       "4  0.761905  0.112456 -0.042888  0.763325  1.000000  0.039621\n",
       "5  0.277350  0.218328  0.297373 -0.057739  0.039621  1.000000"
      ]
     },
     "execution_count": 10,
     "metadata": {},
     "output_type": "execute_result"
    }
   ],
   "source": [
    "# Pearson correlation similarity matrix\n",
    "pd.DataFrame(pearson_sim)"
   ]
  },
  {
   "cell_type": "markdown",
   "metadata": {},
   "source": [
    "#### understand numpy.reshape"
   ]
  },
  {
   "cell_type": "code",
   "execution_count": 11,
   "metadata": {},
   "outputs": [
    {
     "data": {
      "text/plain": [
       "(3, 4)"
      ]
     },
     "execution_count": 11,
     "metadata": {},
     "output_type": "execute_result"
    }
   ],
   "source": [
    "z = np.array([[1, 2, 3, 4],\n",
    "              [5, 6, 7, 8],\n",
    "              [9, 10, 11, 12]])\n",
    "z.shape"
   ]
  },
  {
   "cell_type": "code",
   "execution_count": 12,
   "metadata": {},
   "outputs": [
    {
     "data": {
      "text/plain": [
       "array([ 1,  2,  3,  4,  5,  6,  7,  8,  9, 10, 11, 12])"
      ]
     },
     "execution_count": 12,
     "metadata": {},
     "output_type": "execute_result"
    }
   ],
   "source": [
    "# Result new shape is (12,) and is compatible with original shape (3,4)\n",
    "z.reshape(-1)"
   ]
  },
  {
   "cell_type": "code",
   "execution_count": 13,
   "metadata": {},
   "outputs": [
    {
     "data": {
      "text/plain": [
       "array([[ 1],\n",
       "       [ 2],\n",
       "       [ 3],\n",
       "       [ 4],\n",
       "       [ 5],\n",
       "       [ 6],\n",
       "       [ 7],\n",
       "       [ 8],\n",
       "       [ 9],\n",
       "       [10],\n",
       "       [11],\n",
       "       [12]])"
      ]
     },
     "execution_count": 13,
     "metadata": {},
     "output_type": "execute_result"
    }
   ],
   "source": [
    "# Now trying to reshape with (-1, 1) . We have provided column as 1 but rows as unknown . \n",
    "# So we get result new shape as (12, 1).again compatible with original shape(3,4)\n",
    "z.reshape(-1, 1)"
   ]
  },
  {
   "cell_type": "code",
   "execution_count": 14,
   "metadata": {},
   "outputs": [
    {
     "data": {
      "text/plain": [
       "array([[ 1,  2],\n",
       "       [ 3,  4],\n",
       "       [ 5,  6],\n",
       "       [ 7,  8],\n",
       "       [ 9, 10],\n",
       "       [11, 12]])"
      ]
     },
     "execution_count": 14,
     "metadata": {},
     "output_type": "execute_result"
    }
   ],
   "source": [
    "# New shape as (-1, 2). row unknown, column 2. we get result new shape as (6, 2)\n",
    "z.reshape(-1, 2)"
   ]
  },
  {
   "cell_type": "code",
   "execution_count": 15,
   "metadata": {},
   "outputs": [
    {
     "data": {
      "text/plain": [
       "array([[ 1,  2,  3,  4,  5,  6,  7,  8,  9, 10, 11, 12]])"
      ]
     },
     "execution_count": 15,
     "metadata": {},
     "output_type": "execute_result"
    }
   ],
   "source": [
    "# Now trying to keep column as unknown. \n",
    "# New shape as (1,-1). i.e, row is 1, column unknown. we get result new shape as (1, 12)\n",
    "\n",
    "z.reshape(1, -1)"
   ]
  },
  {
   "cell_type": "code",
   "execution_count": 16,
   "metadata": {},
   "outputs": [
    {
     "data": {
      "text/plain": [
       "array([[ 1,  2,  3,  4,  5,  6],\n",
       "       [ 7,  8,  9, 10, 11, 12]])"
      ]
     },
     "execution_count": 16,
     "metadata": {},
     "output_type": "execute_result"
    }
   ],
   "source": [
    "# New shape (2, -1). Row 2, column unknown. we get result new shape as (2,6)\n",
    "z.reshape(2, -1)"
   ]
  },
  {
   "cell_type": "code",
   "execution_count": 17,
   "metadata": {},
   "outputs": [
    {
     "data": {
      "text/plain": [
       "array([[ 1,  2,  3,  4],\n",
       "       [ 5,  6,  7,  8],\n",
       "       [ 9, 10, 11, 12]])"
      ]
     },
     "execution_count": 17,
     "metadata": {},
     "output_type": "execute_result"
    }
   ],
   "source": [
    "# New shape as (3, -1). Row 3, column unknown. we get result new shape as (3,4)\n",
    "z.reshape(3, -1)"
   ]
  },
  {
   "cell_type": "code",
   "execution_count": 18,
   "metadata": {
    "collapsed": true
   },
   "outputs": [],
   "source": [
    "# And finally, if we try to provide both dimension as unknown i.e new shape as (-1,-1). \n",
    "# It will throw an error\n",
    "# z.reshape(-1, -1)"
   ]
  },
  {
   "cell_type": "markdown",
   "metadata": {},
   "source": [
    "... back to main code "
   ]
  },
  {
   "cell_type": "code",
   "execution_count": 23,
   "metadata": {
    "collapsed": true
   },
   "outputs": [],
   "source": [
    "# This function finds k similar users given the user_id and ratings matrix M\n",
    "# Note that the similarities are same as obtained via using pairwise_distances\n",
    "def findksimilarusers(user_id, \n",
    "                      ratings, \n",
    "                      metric = metric, \n",
    "                      k=3):\n",
    "    similarities=[]\n",
    "    indices     =[]\n",
    "    \n",
    "    model_knn   = NearestNeighbors(metric = metric, algorithm = 'brute') \n",
    "    model_knn.fit(ratings)\n",
    "\n",
    "    distances, indices = model_knn.kneighbors(ratings.iloc[user_id-1, :].values.reshape(1, -1), \n",
    "                                              n_neighbors = k+1)\n",
    "    \n",
    "    similarities       = 1 - distances.flatten()\n",
    "    \n",
    "    print ('{0} most similar users for User {1}:\\n'.format(k, user_id))\n",
    "    \n",
    "    for i in range(0, len(indices.flatten())):\n",
    "        if indices.flatten()[i]+1 == user_id:\n",
    "            continue;\n",
    "\n",
    "        else:\n",
    "            print ('{0}: User {1}, with similarity of {2}'.format(i, indices.flatten()[i]+1, similarities.flatten()[i]))\n",
    "            \n",
    "    return similarities, indices"
   ]
  },
  {
   "cell_type": "code",
   "execution_count": 24,
   "metadata": {},
   "outputs": [
    {
     "name": "stdout",
     "output_type": "stream",
     "text": [
      "3 most similar users for User 1:\n",
      "\n",
      "1: User 5, with similarity of 0.9738899354018393\n",
      "2: User 4, with similarity of 0.934621684178377\n",
      "3: User 6, with similarity of 0.8846004572297814\n"
     ]
    }
   ],
   "source": [
    "similarities,indices = findksimilarusers(1, df_ratings_M, metric='cosine')"
   ]
  },
  {
   "cell_type": "code",
   "execution_count": 25,
   "metadata": {},
   "outputs": [
    {
     "name": "stdout",
     "output_type": "stream",
     "text": [
      "3 most similar users for User 1:\n",
      "\n",
      "1: User 5, with similarity of 0.7619047619047619\n",
      "2: User 6, with similarity of 0.2773500981126146\n",
      "3: User 4, with similarity of 0.20817945092665124\n"
     ]
    }
   ],
   "source": [
    "similarities,indices = findksimilarusers(1, df_ratings_M, metric='correlation')"
   ]
  },
  {
   "cell_type": "code",
   "execution_count": 113,
   "metadata": {
    "collapsed": true
   },
   "outputs": [],
   "source": [
    "# This function predicts rating for specified user-item combination based on user-based approach\n",
    "def predict_userbased(user_id, \n",
    "                      item_id, \n",
    "                      ratings, \n",
    "                      metric = metric, \n",
    "                      k=k):\n",
    "    prediction=0\n",
    "    \n",
    "    # similar users based on cosine similarity\n",
    "    similarities, indices = findksimilarusers(user_id, ratings, metric, k) \n",
    "    \n",
    "    # to adjust for zero based indexing\n",
    "    mean_rating = ratings.loc[user_id-1, :].mean() \n",
    "    \n",
    "    sum_wt  = np.sum(similarities)-1\n",
    "    product = 1\n",
    "    wtd_sum = 0 \n",
    "    \n",
    "    for i in range(0, len(indices.flatten())):\n",
    "        if indices.flatten()[i]+1 == user_id:\n",
    "            continue;\n",
    "        else: \n",
    "            ratings_diff = ratings.iloc[indices.flatten()[i],item_id-1]-np.mean(ratings.iloc[indices.flatten()[i],:])\n",
    "            product      = ratings_diff * (similarities[i])\n",
    "            wtd_sum      = wtd_sum + product\n",
    "    \n",
    "    prediction = int(round(mean_rating + (wtd_sum/sum_wt)))\n",
    "    \n",
    "    print ('\\nPredicted rating for user {0} -> item {1}: {2}'.format(user_id,item_id,prediction))\n",
    "\n",
    "    return prediction"
   ]
  },
  {
   "cell_type": "code",
   "execution_count": 114,
   "metadata": {},
   "outputs": [
    {
     "name": "stdout",
     "output_type": "stream",
     "text": [
      "4 most similar users for User 3:\n",
      "\n",
      "1: User 4, with similarity of 0.9095126893401909\n",
      "2: User 2, with similarity of 0.8747444148494656\n",
      "3: User 5, with similarity of 0.8654538781497916\n",
      "4: User 6, with similarity of 0.853274963343837\n",
      "\n",
      "Predicted rating for user 3 -> item 4: 3\n"
     ]
    }
   ],
   "source": [
    "# user id and item id\n",
    "predict_userbased(3, 4, M);"
   ]
  },
  {
   "cell_type": "markdown",
   "metadata": {},
   "source": [
    "# (B) Item-based Recommendation Systems"
   ]
  },
  {
   "cell_type": "code",
   "execution_count": 115,
   "metadata": {
    "collapsed": true
   },
   "outputs": [],
   "source": [
    "# This function finds k similar items given the item_id and ratings matrix M\n",
    "# rows - denote items\n",
    "# columns - users\n",
    "# cells - ratings\n",
    "\n",
    "def findksimilaritems(item_id, \n",
    "                      ratings, \n",
    "                      metric=metric, \n",
    "                      k=k):\n",
    "    similarities = []\n",
    "    indices      = []    \n",
    "    ratings      = ratings.T\n",
    "    \n",
    "    model_knn    = NearestNeighbors(metric = metric, algorithm = 'brute')\n",
    "    model_knn.fit(ratings)\n",
    "\n",
    "    distances, indices = model_knn.kneighbors(ratings.iloc[item_id-1, :].values.reshape(1, -1), n_neighbors = k+1)\n",
    "    similarities       = 1-distances.flatten()\n",
    "    \n",
    "    print ('{0} most similar items for item {1}:\\n'.format(k, item_id))\n",
    "    \n",
    "    for i in range(0, len(indices.flatten())):\n",
    "        if indices.flatten()[i]+1 == item_id:\n",
    "            continue;\n",
    "\n",
    "        else:\n",
    "            print ('{0}: Item {1} :, with similarity of {2}'.format(i,indices.flatten()[i]+1, similarities.flatten()[i]))\n",
    "\n",
    "\n",
    "    return similarities, indices"
   ]
  },
  {
   "cell_type": "code",
   "execution_count": 116,
   "metadata": {},
   "outputs": [
    {
     "name": "stdout",
     "output_type": "stream",
     "text": [
      "4 most similar items for item 3:\n",
      "\n",
      "1: Item 5 :, with similarity of 0.9183361255345219\n",
      "2: Item 6 :, with similarity of 0.8747597730381951\n",
      "3: Item 1 :, with similarity of 0.8103647462221737\n",
      "4: Item 4 :, with similarity of 0.7969178003023933\n"
     ]
    }
   ],
   "source": [
    "similarities, indices=findksimilaritems(3,M)"
   ]
  },
  {
   "cell_type": "code",
   "execution_count": 118,
   "metadata": {
    "collapsed": true
   },
   "outputs": [],
   "source": [
    "# This function predicts the rating for specified user-item combination based on item-based approach\n",
    "def predict_itembased(user_id, \n",
    "                      item_id, \n",
    "                      ratings, \n",
    "                      metric = metric, \n",
    "                      k=k):\n",
    "    \n",
    "    prediction= wtd_sum =0\n",
    "    \n",
    "    #similar users based on correlation coefficients\n",
    "    similarities, indices=findksimilaritems(item_id, ratings) \n",
    "    \n",
    "    sum_wt = np.sum(similarities)-1\n",
    "    product=1\n",
    "    \n",
    "    for i in range(0, len(indices.flatten())):\n",
    "        if indices.flatten()[i]+1 == item_id:\n",
    "            continue;\n",
    "        else:\n",
    "            product = ratings.iloc[user_id-1,indices.flatten()[i]] * (similarities[i])\n",
    "            wtd_sum = wtd_sum + product\n",
    "            \n",
    "    prediction = int(round(wtd_sum/sum_wt))\n",
    "    \n",
    "    print ('\\nPredicted rating for user {0} -> item {1}: {2}'.format(user_id,item_id,prediction))\n",
    "\n",
    "    return prediction"
   ]
  },
  {
   "cell_type": "code",
   "execution_count": 119,
   "metadata": {},
   "outputs": [
    {
     "name": "stdout",
     "output_type": "stream",
     "text": [
      "4 most similar items for item 3:\n",
      "\n",
      "1: Item 5 :, with similarity of 0.9183361255345219\n",
      "2: Item 6 :, with similarity of 0.8747597730381951\n",
      "3: Item 1 :, with similarity of 0.8103647462221737\n",
      "4: Item 4 :, with similarity of 0.7969178003023933\n",
      "\n",
      "Predicted rating for user 1 -> item 3: 7\n"
     ]
    }
   ],
   "source": [
    "# user ID and Item ID\n",
    "prediction = predict_itembased(1, 3, M)"
   ]
  },
  {
   "cell_type": "code",
   "execution_count": 120,
   "metadata": {
    "collapsed": true
   },
   "outputs": [],
   "source": [
    "#This function is used to compute adjusted cosine similarity matrix for items\n",
    "def computeAdjCosSim(M):\n",
    "    sim_matrix = np.zeros((M.shape[1], M.shape[1]))\n",
    "    M_u = M.mean(axis=1) #means\n",
    "          \n",
    "    for i in range(M.shape[1]):\n",
    "        for j in range(M.shape[1]):\n",
    "            if i == j:\n",
    "                \n",
    "                sim_matrix[i][j] = 1\n",
    "            else:                \n",
    "                if i<j:\n",
    "                    \n",
    "                    sum_num = sum_den1 = sum_den2 = 0\n",
    "                    for k,row in M.loc[:,[i,j]].iterrows(): \n",
    "\n",
    "                        if ((M.loc[k,i] != 0) & (M.loc[k,j] != 0)):\n",
    "                            num = (M[i][k]-M_u[k])*(M[j][k]-M_u[k])\n",
    "                            den1= (M[i][k]-M_u[k])**2\n",
    "                            den2= (M[j][k]-M_u[k])**2\n",
    "                            \n",
    "                            sum_num = sum_num + num\n",
    "                            sum_den1 = sum_den1 + den1\n",
    "                            sum_den2 = sum_den2 + den2\n",
    "                        \n",
    "                        else:\n",
    "                            continue                          \n",
    "                                       \n",
    "                    den=(sum_den1**0.5)*(sum_den2**0.5)\n",
    "                    if den!=0:\n",
    "                        sim_matrix[i][j] = sum_num/den\n",
    "                    else:\n",
    "                        sim_matrix[i][j] = 0\n",
    "\n",
    "\n",
    "                else:\n",
    "                    sim_matrix[i][j] = sim_matrix[j][i]           \n",
    "            \n",
    "    return pd.DataFrame(sim_matrix)"
   ]
  },
  {
   "cell_type": "code",
   "execution_count": 121,
   "metadata": {
    "collapsed": true
   },
   "outputs": [],
   "source": [
    "adjcos_sim = computeAdjCosSim(M)"
   ]
  },
  {
   "cell_type": "code",
   "execution_count": 122,
   "metadata": {},
   "outputs": [
    {
     "data": {
      "text/html": [
       "<div>\n",
       "<style>\n",
       "    .dataframe thead tr:only-child th {\n",
       "        text-align: right;\n",
       "    }\n",
       "\n",
       "    .dataframe thead th {\n",
       "        text-align: left;\n",
       "    }\n",
       "\n",
       "    .dataframe tbody tr th {\n",
       "        vertical-align: top;\n",
       "    }\n",
       "</style>\n",
       "<table border=\"1\" class=\"dataframe\">\n",
       "  <thead>\n",
       "    <tr style=\"text-align: right;\">\n",
       "      <th></th>\n",
       "      <th>0</th>\n",
       "      <th>1</th>\n",
       "      <th>2</th>\n",
       "      <th>3</th>\n",
       "      <th>4</th>\n",
       "      <th>5</th>\n",
       "    </tr>\n",
       "  </thead>\n",
       "  <tbody>\n",
       "    <tr>\n",
       "      <th>0</th>\n",
       "      <td>1.0000</td>\n",
       "      <td>0.2369</td>\n",
       "      <td>0.4213</td>\n",
       "      <td>-0.5191</td>\n",
       "      <td>-0.1259</td>\n",
       "      <td>0.0101</td>\n",
       "    </tr>\n",
       "    <tr>\n",
       "      <th>1</th>\n",
       "      <td>0.2369</td>\n",
       "      <td>1.0000</td>\n",
       "      <td>-0.8052</td>\n",
       "      <td>0.0857</td>\n",
       "      <td>0.2373</td>\n",
       "      <td>0.5206</td>\n",
       "    </tr>\n",
       "    <tr>\n",
       "      <th>2</th>\n",
       "      <td>0.4213</td>\n",
       "      <td>-0.8052</td>\n",
       "      <td>1.0000</td>\n",
       "      <td>-0.7679</td>\n",
       "      <td>-0.2305</td>\n",
       "      <td>-0.0536</td>\n",
       "    </tr>\n",
       "    <tr>\n",
       "      <th>3</th>\n",
       "      <td>-0.5191</td>\n",
       "      <td>0.0857</td>\n",
       "      <td>-0.7679</td>\n",
       "      <td>1.0000</td>\n",
       "      <td>-0.2991</td>\n",
       "      <td>-0.6446</td>\n",
       "    </tr>\n",
       "    <tr>\n",
       "      <th>4</th>\n",
       "      <td>-0.1259</td>\n",
       "      <td>0.2373</td>\n",
       "      <td>-0.2305</td>\n",
       "      <td>-0.2991</td>\n",
       "      <td>1.0000</td>\n",
       "      <td>0.5992</td>\n",
       "    </tr>\n",
       "    <tr>\n",
       "      <th>5</th>\n",
       "      <td>0.0101</td>\n",
       "      <td>0.5206</td>\n",
       "      <td>-0.0536</td>\n",
       "      <td>-0.6446</td>\n",
       "      <td>0.5992</td>\n",
       "      <td>1.0000</td>\n",
       "    </tr>\n",
       "  </tbody>\n",
       "</table>\n",
       "</div>"
      ],
      "text/plain": [
       "        0       1       2       3       4       5\n",
       "0  1.0000  0.2369  0.4213 -0.5191 -0.1259  0.0101\n",
       "1  0.2369  1.0000 -0.8052  0.0857  0.2373  0.5206\n",
       "2  0.4213 -0.8052  1.0000 -0.7679 -0.2305 -0.0536\n",
       "3 -0.5191  0.0857 -0.7679  1.0000 -0.2991 -0.6446\n",
       "4 -0.1259  0.2373 -0.2305 -0.2991  1.0000  0.5992\n",
       "5  0.0101  0.5206 -0.0536 -0.6446  0.5992  1.0000"
      ]
     },
     "execution_count": 122,
     "metadata": {},
     "output_type": "execute_result"
    }
   ],
   "source": [
    "adjcos_sim"
   ]
  },
  {
   "cell_type": "code",
   "execution_count": 124,
   "metadata": {
    "collapsed": true
   },
   "outputs": [],
   "source": [
    "# This function finds k similar items given the item_id and ratings matrix M\n",
    "\n",
    "def findksimilaritems_adjcos(item_id, \n",
    "                             ratings, \n",
    "                             k=k):\n",
    "    \n",
    "    sim_matrix   = computeAdjCosSim(ratings)\n",
    "    similarities = sim_matrix[item_id-1].sort_values(ascending=False)[:k+1].values\n",
    "    \n",
    "    indices      = sim_matrix[item_id-1].sort_values(ascending=False)[:k+1].index\n",
    "    \n",
    "    print ('{0} most similar items for item {1}:\\n'.format(k,item_id))\n",
    "    \n",
    "    for i in range(0, len(indices)):\n",
    "            if indices[i]+1 == item_id:\n",
    "                continue;\n",
    "\n",
    "            else:\n",
    "                print ('{0}: Item {1} :, with similarity of {2}'.format(i,indices[i]+1, similarities[i]))\n",
    "        \n",
    "    return similarities ,indices"
   ]
  },
  {
   "cell_type": "code",
   "execution_count": 125,
   "metadata": {},
   "outputs": [
    {
     "name": "stdout",
     "output_type": "stream",
     "text": [
      "4 most similar items for item 3:\n",
      "\n",
      "1: Item 1 :, with similarity of 0.42126273187113467\n",
      "2: Item 6 :, with similarity of -0.05363989048891138\n",
      "3: Item 5 :, with similarity of -0.2305213582693748\n",
      "4: Item 4 :, with similarity of -0.7679410465751941\n"
     ]
    }
   ],
   "source": [
    "# for item ID = 3\n",
    "similarities, indices = findksimilaritems_adjcos(3, M)"
   ]
  },
  {
   "cell_type": "markdown",
   "metadata": {},
   "source": [
    "- This function predicts the rating for specified user-item combination for __adjusted cosine__ item-based approach\n",
    "\n",
    "- As the adjusted cosine similarities range from -1, +1, sometimes the predicted rating can be negative or greater than max value \n",
    "\n",
    "- Hack to deal with this: \n",
    "    - Rating is set to min if prediction is negative, \n",
    "    - Rating is set to max if prediction is above max"
   ]
  },
  {
   "cell_type": "code",
   "execution_count": 126,
   "metadata": {
    "collapsed": true
   },
   "outputs": [],
   "source": [
    "def predict_itembased_adjcos(user_id, \n",
    "                             item_id, \n",
    "                             ratings):\n",
    "    prediction=0\n",
    "\n",
    "    #similar users based on correlation coefficients\n",
    "    similarities, indices = findksimilaritems_adjcos(item_id, ratings) \n",
    "    sum_wt = np.sum(similarities)-1\n",
    "\n",
    "    product=1\n",
    "    wtd_sum = 0 \n",
    "    \n",
    "    for i in range(0, len(indices)):\n",
    "        if indices[i]+1 == item_id:\n",
    "            continue;\n",
    "        else:\n",
    "            product = ratings.iloc[user_id-1,indices[i]] * (similarities[i])\n",
    "            wtd_sum = wtd_sum + product    \n",
    "            \n",
    "    prediction = int(round(wtd_sum/sum_wt))\n",
    "    \n",
    "    if prediction < 0:\n",
    "        prediction = 1\n",
    "    elif prediction >10:\n",
    "        prediction = 10\n",
    "    print ('\\nPredicted rating for user {0} -> item {1}: {2}'.format(user_id,item_id,prediction) )     \n",
    "        \n",
    "    return prediction"
   ]
  },
  {
   "cell_type": "code",
   "execution_count": 127,
   "metadata": {},
   "outputs": [
    {
     "name": "stdout",
     "output_type": "stream",
     "text": [
      "4 most similar items for item 4:\n",
      "\n",
      "1: Item 2 :, with similarity of 0.08574143411490752\n",
      "2: Item 5 :, with similarity of -0.2990588277904165\n",
      "3: Item 1 :, with similarity of -0.5190852688949424\n",
      "4: Item 6 :, with similarity of -0.6445502869540708\n",
      "\n",
      "Predicted rating for user 3 -> item 4: 6\n"
     ]
    }
   ],
   "source": [
    "prediction=predict_itembased_adjcos(3,4,M)"
   ]
  },
  {
   "cell_type": "code",
   "execution_count": 128,
   "metadata": {},
   "outputs": [
    {
     "data": {
      "text/html": [
       "<div>\n",
       "<style>\n",
       "    .dataframe thead tr:only-child th {\n",
       "        text-align: right;\n",
       "    }\n",
       "\n",
       "    .dataframe thead th {\n",
       "        text-align: left;\n",
       "    }\n",
       "\n",
       "    .dataframe tbody tr th {\n",
       "        vertical-align: top;\n",
       "    }\n",
       "</style>\n",
       "<table border=\"1\" class=\"dataframe\">\n",
       "  <thead>\n",
       "    <tr style=\"text-align: right;\">\n",
       "      <th></th>\n",
       "      <th>0</th>\n",
       "      <th>1</th>\n",
       "      <th>2</th>\n",
       "      <th>3</th>\n",
       "      <th>4</th>\n",
       "      <th>5</th>\n",
       "    </tr>\n",
       "  </thead>\n",
       "  <tbody>\n",
       "    <tr>\n",
       "      <th>0</th>\n",
       "      <td>1.0000</td>\n",
       "      <td>0.2369</td>\n",
       "      <td>0.4213</td>\n",
       "      <td>-0.5191</td>\n",
       "      <td>-0.1259</td>\n",
       "      <td>0.0101</td>\n",
       "    </tr>\n",
       "    <tr>\n",
       "      <th>1</th>\n",
       "      <td>0.2369</td>\n",
       "      <td>1.0000</td>\n",
       "      <td>-0.8052</td>\n",
       "      <td>0.0857</td>\n",
       "      <td>0.2373</td>\n",
       "      <td>0.5206</td>\n",
       "    </tr>\n",
       "    <tr>\n",
       "      <th>2</th>\n",
       "      <td>0.4213</td>\n",
       "      <td>-0.8052</td>\n",
       "      <td>1.0000</td>\n",
       "      <td>-0.7679</td>\n",
       "      <td>-0.2305</td>\n",
       "      <td>-0.0536</td>\n",
       "    </tr>\n",
       "    <tr>\n",
       "      <th>3</th>\n",
       "      <td>-0.5191</td>\n",
       "      <td>0.0857</td>\n",
       "      <td>-0.7679</td>\n",
       "      <td>1.0000</td>\n",
       "      <td>-0.2991</td>\n",
       "      <td>-0.6446</td>\n",
       "    </tr>\n",
       "    <tr>\n",
       "      <th>4</th>\n",
       "      <td>-0.1259</td>\n",
       "      <td>0.2373</td>\n",
       "      <td>-0.2305</td>\n",
       "      <td>-0.2991</td>\n",
       "      <td>1.0000</td>\n",
       "      <td>0.5992</td>\n",
       "    </tr>\n",
       "    <tr>\n",
       "      <th>5</th>\n",
       "      <td>0.0101</td>\n",
       "      <td>0.5206</td>\n",
       "      <td>-0.0536</td>\n",
       "      <td>-0.6446</td>\n",
       "      <td>0.5992</td>\n",
       "      <td>1.0000</td>\n",
       "    </tr>\n",
       "  </tbody>\n",
       "</table>\n",
       "</div>"
      ],
      "text/plain": [
       "        0       1       2       3       4       5\n",
       "0  1.0000  0.2369  0.4213 -0.5191 -0.1259  0.0101\n",
       "1  0.2369  1.0000 -0.8052  0.0857  0.2373  0.5206\n",
       "2  0.4213 -0.8052  1.0000 -0.7679 -0.2305 -0.0536\n",
       "3 -0.5191  0.0857 -0.7679  1.0000 -0.2991 -0.6446\n",
       "4 -0.1259  0.2373 -0.2305 -0.2991  1.0000  0.5992\n",
       "5  0.0101  0.5206 -0.0536 -0.6446  0.5992  1.0000"
      ]
     },
     "execution_count": 128,
     "metadata": {},
     "output_type": "execute_result"
    }
   ],
   "source": [
    "adjcos_sim"
   ]
  },
  {
   "cell_type": "markdown",
   "metadata": {},
   "source": [
    "This function utilizes above function to recommend items for selected approach. \n",
    "\n",
    "Recommendations are made if the predicted rating for an item is greater than or equal to 6, and the items has not been rated already"
   ]
  },
  {
   "cell_type": "code",
   "execution_count": 129,
   "metadata": {
    "collapsed": true
   },
   "outputs": [],
   "source": [
    "def recommendItem(user_id, item_id, ratings):\n",
    "    \n",
    "    if user_id <1 or user_id > 6 or type(user_id) is not int:\n",
    "        print ('Userid does not exist. Enter numbers from 1-6')\n",
    "    else:    \n",
    "        ids = ['User-based CF (cosine)',\n",
    "               'User-based CF (correlation)',\n",
    "               'Item-based CF (cosine)',\n",
    "               'Item-based CF (adjusted cosine)']\n",
    "\n",
    "        approach = widgets.Dropdown(options=ids, \n",
    "                                    value=ids[0],\n",
    "                                    description='Select Approach', \n",
    "                                    width='500px')\n",
    "        \n",
    "        def on_change(change):\n",
    "            prediction = 0\n",
    "            clear_output(wait=True)\n",
    "            if change['type'] == 'change' and change['name'] == 'value':            \n",
    "                if (approach.value == 'User-based CF (cosine)'):\n",
    "                    metric = 'cosine'\n",
    "                    prediction = predict_userbased(user_id, item_id, ratings, metric)\n",
    "                elif (approach.value == 'User-based CF (correlation)')  :                       \n",
    "                    metric = 'correlation'               \n",
    "                    prediction = predict_userbased(user_id, item_id, ratings, metric)\n",
    "                elif (approach.value == 'Item-based CF (cosine)'):\n",
    "                    prediction = predict_itembased(user_id, item_id, ratings)\n",
    "                else:\n",
    "                    prediction = predict_itembased_adjcos(user_id,item_id,ratings)\n",
    "\n",
    "                if ratings[item_id-1][user_id-1] != 0: \n",
    "                    print ('Item already rated')\n",
    "                else:\n",
    "                    if prediction>=6:\n",
    "                        print ('\\nItem recommended')\n",
    "                    else:\n",
    "                        print ('Item not recommended')\n",
    "\n",
    "        approach.observe(on_change)\n",
    "        display(approach)"
   ]
  },
  {
   "cell_type": "code",
   "execution_count": 130,
   "metadata": {},
   "outputs": [
    {
     "name": "stdout",
     "output_type": "stream",
     "text": [
      "Userid does not exist. Enter numbers from 1-6\n"
     ]
    }
   ],
   "source": [
    "#check for incorrect entries\n",
    "recommendItem(-1,3,M)"
   ]
  },
  {
   "cell_type": "code",
   "execution_count": 133,
   "metadata": {
    "collapsed": true
   },
   "outputs": [],
   "source": [
    "recommendItem(3,4,M)\n"
   ]
  },
  {
   "cell_type": "code",
   "execution_count": null,
   "metadata": {
    "collapsed": true
   },
   "outputs": [],
   "source": []
  }
 ],
 "metadata": {
  "kernelspec": {
   "display_name": "Python 3",
   "language": "python",
   "name": "python3"
  },
  "language_info": {
   "codemirror_mode": {
    "name": "ipython",
    "version": 3
   },
   "file_extension": ".py",
   "mimetype": "text/x-python",
   "name": "python",
   "nbconvert_exporter": "python",
   "pygments_lexer": "ipython3",
   "version": "3.6.3"
  }
 },
 "nbformat": 4,
 "nbformat_minor": 2
}
