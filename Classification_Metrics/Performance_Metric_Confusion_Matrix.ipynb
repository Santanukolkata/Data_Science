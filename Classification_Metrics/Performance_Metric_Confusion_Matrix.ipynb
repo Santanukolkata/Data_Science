{
  "nbformat": 4,
  "nbformat_minor": 0,
  "metadata": {
    "colab": {
      "name": "Performance_Metric_Confusion_Matrix.ipynb",
      "provenance": [],
      "toc_visible": true,
      "authorship_tag": "ABX9TyMMoCc11IzYylO+ZeJ8KHAB",
      "include_colab_link": true
    },
    "kernelspec": {
      "name": "python3",
      "display_name": "Python 3"
    }
  },
  "cells": [
    {
      "cell_type": "markdown",
      "metadata": {
        "id": "view-in-github",
        "colab_type": "text"
      },
      "source": [
        "<a href=\"https://colab.research.google.com/github/Santanukolkata/Data_Science/blob/master/Classification_Metrics/Performance_Metric_Confusion_Matrix.ipynb\" target=\"_parent\"><img src=\"https://colab.research.google.com/assets/colab-badge.svg\" alt=\"Open In Colab\"/></a>"
      ]
    },
    {
      "cell_type": "markdown",
      "metadata": {
        "id": "0Ud34fVy7Kzy",
        "colab_type": "text"
      },
      "source": [
        "A confusion matrix is a table that is often used to describe the performance of a classification model (or “classifier”) on a set of test data for which the true values are known. It allows the visualization of the performance of an algorithm.\n",
        "\n",
        "https://www.geeksforgeeks.org/confusion-matrix-machine-learning/"
      ]
    },
    {
      "cell_type": "code",
      "metadata": {
        "id": "2p68F1oXq7Z5",
        "colab_type": "code",
        "outputId": "82d611e9-1dcd-4db8-a47e-c23928fcdb7c",
        "colab": {
          "base_uri": "https://localhost:8080/",
          "height": 51
        }
      },
      "source": [
        "from sklearn.metrics import confusion_matrix\n",
        "y_true =[1,0,1,0,1,1,0,1]\n",
        "y_pred =[1,0,1,1,0,1,1,0]\n",
        "cfm = confusion_matrix( y_true,y_pred)\n",
        "cfm"
      ],
      "execution_count": 9,
      "outputs": [
        {
          "output_type": "execute_result",
          "data": {
            "text/plain": [
              "array([[1, 2],\n",
              "       [2, 3]])"
            ]
          },
          "metadata": {
            "tags": []
          },
          "execution_count": 9
        }
      ]
    },
    {
      "cell_type": "markdown",
      "metadata": {
        "id": "X1nFn1H4Bsf6",
        "colab_type": "text"
      },
      "source": [
        "![image.png](data:image/png;base64,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)"
      ]
    },
    {
      "cell_type": "code",
      "metadata": {
        "id": "XkEMpmBEBGZi",
        "colab_type": "code",
        "colab": {
          "base_uri": "https://localhost:8080/",
          "height": 85
        },
        "outputId": "c7ff9751-b8ed-43ea-c746-f8a317e70a4d"
      },
      "source": [
        "tn,fn,fp,tp =cfm.ravel()\n",
        "print(\"True Negative :\",tn)\n",
        "print(\"False Negative :\",fn)\n",
        "print(\"False Positive :\",fp)\n",
        "print(\"True Positive :\",tp)"
      ],
      "execution_count": 10,
      "outputs": [
        {
          "output_type": "stream",
          "text": [
            "True Negative : 1\n",
            "False Negative : 2\n",
            "False Positive : 2\n",
            "True Positive : 3\n"
          ],
          "name": "stdout"
        }
      ]
    },
    {
      "cell_type": "code",
      "metadata": {
        "id": "3TftmYICsArk",
        "colab_type": "code",
        "outputId": "b8def44b-f1e4-4217-c920-76d1ab186ef0",
        "colab": {
          "base_uri": "https://localhost:8080/",
          "height": 102
        }
      },
      "source": [
        "import pandas as pd\n",
        "import numpy as np\n",
        "lookup = {0: 'biscuit', 1:'candy', 2:'chocolate', 3:'praline', 4:'cake', 5:'shortbread'}\n",
        "y_true = pd.Series([lookup[_] for _ in np.random.randint(0, 5, size=10)])\n",
        "y_pred = pd.Series([lookup[_] for _ in np.random.randint(0, 5, size=10)])\n",
        "conf = confusion_matrix(y_true, y_pred)\n",
        "conf"
      ],
      "execution_count": 0,
      "outputs": [
        {
          "output_type": "execute_result",
          "data": {
            "text/plain": [
              "array([[0, 0, 0, 0, 1],\n",
              "       [0, 2, 0, 0, 0],\n",
              "       [1, 0, 0, 2, 0],\n",
              "       [0, 0, 2, 0, 0],\n",
              "       [1, 0, 0, 0, 1]])"
            ]
          },
          "metadata": {
            "tags": []
          },
          "execution_count": 25
        }
      ]
    },
    {
      "cell_type": "code",
      "metadata": {
        "id": "9damAoWFsKlh",
        "colab_type": "code",
        "outputId": "8baf51e4-80ec-4675-db8a-5e477a882367",
        "colab": {
          "base_uri": "https://localhost:8080/",
          "height": 265
        }
      },
      "source": [
        "import matplotlib.pyplot as plt\n",
        "plt.imshow(conf, cmap='binary', interpolation='None')\n",
        "plt.show()"
      ],
      "execution_count": 0,
      "outputs": [
        {
          "output_type": "display_data",
          "data": {
            "image/png": "[encoded data removed]",
            "text/plain": [
              "<Figure size 432x288 with 1 Axes>"
            ]
          },
          "metadata": {
            "tags": []
          }
        }
      ]
    },
    {
      "cell_type": "code",
      "metadata": {
        "id": "m7W0C8zEuodU",
        "colab_type": "code",
        "outputId": "b7305fd8-6f7e-4525-b3cc-3a92832d7390",
        "colab": {
          "base_uri": "https://localhost:8080/",
          "height": 68
        }
      },
      "source": [
        "import pandas as pd\n",
        "import numpy as np\n",
        "y_true = pd.Series([0,1,2,0,1])\n",
        "y_pred = pd.Series([0,0,1,2,1])\n",
        "conf = confusion_matrix(y_true, y_pred)\n",
        "conf"
      ],
      "execution_count": 0,
      "outputs": [
        {
          "output_type": "execute_result",
          "data": {
            "text/plain": [
              "array([[1, 0, 1],\n",
              "       [1, 1, 0],\n",
              "       [0, 1, 0]])"
            ]
          },
          "metadata": {
            "tags": []
          },
          "execution_count": 27
        }
      ]
    },
    {
      "cell_type": "code",
      "metadata": {
        "id": "F7L50ekIwm8v",
        "colab_type": "code",
        "colab": {}
      },
      "source": [
        ""
      ],
      "execution_count": 0,
      "outputs": []
    }
  ]
}