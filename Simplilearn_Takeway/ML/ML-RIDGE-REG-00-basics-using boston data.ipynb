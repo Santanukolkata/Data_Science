{
 "cells": [
  {
   "cell_type": "code",
   "execution_count": 139,
   "metadata": {},
   "outputs": [],
   "source": [
    "import time\n",
    "import random\n",
    "from math import *\n",
    "import operator\n",
    "\n",
    "import pandas as pd\n",
    "import numpy as np\n",
    "np.set_printoptions(precision=4)\n",
    "\n",
    "# import plotting libraries\n",
    "import matplotlib\n",
    "import matplotlib.pyplot as plt\n",
    "\n",
    "from matplotlib import style\n",
    "%matplotlib inline \n",
    "\n",
    "import seaborn as sns\n",
    "sns.set(style=\"white\", color_codes=True)\n",
    "sns.set(font_scale=1.5)\n",
    "\n",
    "from sklearn.datasets import load_boston\n",
    "\n",
    "from scipy.stats import shapiro\n",
    "\n",
    "# import the ML algorithm\n",
    "from sklearn.linear_model import LinearRegression\n",
    "\n",
    "# import libraries for model validation\n",
    "from sklearn.model_selection import StratifiedKFold\n",
    "from sklearn.model_selection import KFold\n",
    "from sklearn.model_selection import ShuffleSplit\n",
    "from sklearn.model_selection import cross_val_score\n",
    "from sklearn.model_selection import train_test_split\n",
    "from sklearn.model_selection import LeaveOneOut \n",
    "\n",
    "# import libraries for metrics and reporting\n",
    "from sklearn.metrics import confusion_matrix\n",
    "from sklearn.metrics import classification_report\n",
    "from sklearn.metrics import accuracy_score\n",
    "from sklearn.metrics import precision_score\n",
    "from sklearn.metrics import recall_score\n",
    "from sklearn.metrics import f1_score\n",
    "from sklearn import metrics\n",
    "from sklearn.metrics import classification_report\n",
    "from sklearn.metrics import roc_curve, auc\n",
    "from sklearn.metrics import adjusted_rand_score"
   ]
  },
  {
   "cell_type": "markdown",
   "metadata": {},
   "source": [
    "#### data set\n",
    "- crim    - per capita crime rate by town.\n",
    "- zn      - proportion of residential land zoned for lots over 25,000 sq.ft.\n",
    "- indus   - proportion of non-retail business acres per town.\n",
    "- chas    - Charles River dummy variable (= 1 if tract bounds river; 0 otherwise).\n",
    "- nox     - nitrogen oxides concentration (parts per 10 million).\n",
    "- rm      - average number of rooms per dwelling.\n",
    "- age     - proportion of owner-occupied units built prior to 1940.\n",
    "- dis     - weighted mean of distances to five Boston employment centres.\n",
    "- rad     - index of accessibility to radial highways.\n",
    "- tax     - full-value property-tax rate per (dollars) 10,000.\n",
    "- ptratio - pupil-teacher ratio by town.\n",
    "- black   - 1000(Bk - 0.63)^2 where Bk is the proportion of blacks by town.\n",
    "- lstat   - lower status of the population (percent).\n",
    "\n",
    "- __medv    - median value of owner-occupied homes in $1000s.__"
   ]
  },
  {
   "cell_type": "code",
   "execution_count": 186,
   "metadata": {},
   "outputs": [
    {
     "name": "stdout",
     "output_type": "stream",
     "text": [
      "['CRIM' 'ZN' 'INDUS' 'CHAS' 'NOX' 'RM' 'AGE' 'DIS' 'RAD' 'TAX' 'PTRATIO' 'B' 'LSTAT']\n",
      "(506, 13)\n",
      "(506,)\n"
     ]
    }
   ],
   "source": [
    "# load data set\n",
    "boston = load_boston()\n",
    "\n",
    "print (boston.feature_names)\n",
    "print (boston.data.shape)\n",
    "print (boston.target.shape)"
   ]
  },
  {
   "cell_type": "code",
   "execution_count": 187,
   "metadata": {},
   "outputs": [],
   "source": [
    "np.set_printoptions(precision=2, linewidth=120, suppress=True, edgeitems=4)"
   ]
  },
  {
   "cell_type": "code",
   "execution_count": 188,
   "metadata": {},
   "outputs": [
    {
     "name": "stdout",
     "output_type": "stream",
     "text": [
      "[[  0.01  18.     2.31   0.   ... 296.    15.3  396.9    4.98]\n",
      " [  0.03   0.     7.07   0.   ... 242.    17.8  396.9    9.14]\n",
      " [  0.03   0.     7.07   0.   ... 242.    17.8  392.83   4.03]\n",
      " [  0.03   0.     2.18   0.   ... 222.    18.7  394.63   2.94]\n",
      " ...\n",
      " [  0.05   0.    11.93   0.   ... 273.    21.   396.9    9.08]\n",
      " [  0.06   0.    11.93   0.   ... 273.    21.   396.9    5.64]\n",
      " [  0.11   0.    11.93   0.   ... 273.    21.   393.45   6.48]\n",
      " [  0.05   0.    11.93   0.   ... 273.    21.   396.9    7.88]]\n"
     ]
    }
   ],
   "source": [
    "X      = boston.data\n",
    "X_orig = boston.data\n",
    "\n",
    "y      = boston.target\n",
    "\n",
    "print (X)"
   ]
  },
  {
   "cell_type": "code",
   "execution_count": 189,
   "metadata": {},
   "outputs": [],
   "source": [
    "df = pd.DataFrame(X_orig, columns=boston.feature_names)"
   ]
  },
  {
   "cell_type": "code",
   "execution_count": 190,
   "metadata": {},
   "outputs": [],
   "source": [
    "def run_model(df_selected_cols, y):\n",
    "    X_train, X_test, y_train, y_test = train_test_split(df_selected_cols, y, random_state=1, test_size=0.3)\n",
    "    \n",
    "    # instantiate\n",
    "    linreg = LinearRegression()\n",
    "\n",
    "    # fit the model to the training data (learn the coefficients)\n",
    "    linreg.fit(X_train, y_train)\n",
    "    \n",
    "    y_pred = linreg.predict(X_test)\n",
    "    \n",
    "    # Model evaluation metrics for regression\n",
    "    print('y-intercept             : ', linreg.intercept_)\n",
    "    print('beta coefficients       : ', linreg.coef_)\n",
    "    print('Mean Abs Error   MAE    : ', metrics.mean_absolute_error(y_test, y_pred))\n",
    "    print('Mean Sq  Error MSE      : ', metrics.mean_squared_error(y_test, y_pred))\n",
    "    print('Root Mean Sq Error RMSE : ', np.sqrt(metrics.mean_squared_error(y_test, y_pred)))\n",
    "    print('r2 value                : ', metrics.r2_score(y_test, y_pred))\n",
    "    print('MAPE                    : ', np.mean(np.abs((y_test - y_pred) / y_test)) * 100)\n",
    "    \n",
    "    stat, p = shapiro(y_test - y_pred)\n",
    "    \n",
    "    print('\\nStatistics=%.3f, p=%.3f' % (stat, p))\n",
    "\n",
    "    # interpret\n",
    "    alpha = 0.05\n",
    "    if p > alpha:\n",
    "        print('residuals look Gaussian (fail to reject H0)')\n",
    "    else:\n",
    "        print('residuals does not look Gaussian (reject H0)')"
   ]
  },
  {
   "cell_type": "code",
   "execution_count": 175,
   "metadata": {},
   "outputs": [],
   "source": [
    "def model_coeff(df_selected_cols, y):\n",
    "    X_train, X_test, y_train, y_test = train_test_split(df_selected_cols, y, random_state=1, test_size=0.3)\n",
    "    \n",
    "    # instantiate\n",
    "    linreg = LinearRegression()\n",
    "\n",
    "    # fit the model to the training data (learn the coefficients)\n",
    "    linreg.fit(X_train, y_train)\n",
    "    \n",
    "    y_pred = linreg.predict(X_test)\n",
    "    \n",
    "    # Model evaluation metrics for regression\n",
    "    for col, coeff in zip(df_selected_cols.columns, linreg.coef_):\n",
    "        print('{:15s} : {:8.6f}'.format(col, coeff))"
   ]
  },
  {
   "cell_type": "markdown",
   "metadata": {},
   "source": [
    "## Check for VIF\n"
   ]
  },
  {
   "cell_type": "code",
   "execution_count": 146,
   "metadata": {},
   "outputs": [],
   "source": [
    "from statsmodels.stats.outliers_influence import variance_inflation_factor\n",
    "from statsmodels.tools.tools import add_constant"
   ]
  },
  {
   "cell_type": "code",
   "execution_count": 147,
   "metadata": {},
   "outputs": [
    {
     "name": "stdout",
     "output_type": "stream",
     "text": [
      "CRIM        2.100373\n",
      "ZN          2.844013\n",
      "INDUS      14.485758\n",
      "CHAS        1.152952\n",
      "NOX        73.894947\n",
      "RM         77.948283\n",
      "AGE        21.386850\n",
      "DIS        14.699652\n",
      "RAD        15.167725\n",
      "TAX        61.227274\n",
      "PTRATIO    85.029547\n",
      "B          20.104943\n",
      "LSTAT      11.102025\n",
      "dtype: float64\n",
      "\n",
      "Model stats ...\n",
      "y-intercept             :  46.396493871823736\n",
      "beta coefficients       :  [ -0.1    0.06   0.06   2.44 -21.47   2.8    0.    -1.52   0.31  -0.01  -1.01   0.01  -0.57]\n",
      "Mean Abs Error   MAE    :  3.344665503598751\n",
      "Mean Sq  Error MSE      :  19.83132367206325\n",
      "Root Mean Sq Error RMSE :  4.453237437198162\n",
      "r2 value                :  0.783629538507628\n",
      "MAPE                    :  16.207536032281407\n",
      "\n",
      "Statistics=0.945, p=0.000\n",
      "residuals does not look Gaussian (reject H0)\n"
     ]
    }
   ],
   "source": [
    "# check VIF for all columns\n",
    "df_selected_cols = df\n",
    "\n",
    "pd.Series([variance_inflation_factor(df.values, i) for i in range(df.shape[1])], \n",
    "           index=df.columns)\n",
    "\n",
    "print(pd.Series([variance_inflation_factor(df_selected_cols.values, i) for i in range(df_selected_cols.shape[1])], \n",
    "           index=df_selected_cols.columns))\n",
    "\n",
    "print('\\nModel stats ...')\n",
    "run_model(df_selected_cols, y)"
   ]
  },
  {
   "cell_type": "markdown",
   "metadata": {},
   "source": [
    "... start with 2 columns"
   ]
  },
  {
   "cell_type": "code",
   "execution_count": 148,
   "metadata": {},
   "outputs": [
    {
     "name": "stdout",
     "output_type": "stream",
     "text": [
      "CRIM    1.000015\n",
      "ZN      1.000015\n",
      "dtype: float64\n",
      "\n",
      "Model stats ...\n",
      "y-intercept             :  22.31477270824998\n",
      "beta coefficients       :  [-0.36  0.12]\n",
      "Mean Abs Error   MAE    :  6.085426399467737\n",
      "Mean Sq  Error MSE      :  75.17595407157832\n",
      "Root Mean Sq Error RMSE :  8.670406799659306\n",
      "r2 value                :  0.17978970316990084\n",
      "MAPE                    :  29.920016910694986\n",
      "\n",
      "Statistics=0.864, p=0.000\n",
      "residuals does not look Gaussian (reject H0)\n"
     ]
    }
   ],
   "source": [
    "# check VIF\n",
    "df_selected_cols = df[['CRIM', 'ZN']]\n",
    "\n",
    "print(pd.Series([variance_inflation_factor(df_selected_cols.values, i) for i in range(df_selected_cols.shape[1])], \n",
    "           index=df_selected_cols.columns))\n",
    "\n",
    "print('\\nModel stats ...')\n",
    "run_model(df_selected_cols, y)"
   ]
  },
  {
   "cell_type": "code",
   "execution_count": 149,
   "metadata": {},
   "outputs": [
    {
     "name": "stdout",
     "output_type": "stream",
     "text": [
      "CRIM    1.053573\n",
      "ZN      1.870212\n",
      "DIS     1.925411\n",
      "dtype: float64\n",
      "\n",
      "Model stats ...\n",
      "y-intercept             :  24.24163742922906\n",
      "beta coefficients       :  [-0.4   0.15 -0.57]\n",
      "Mean Abs Error   MAE    :  6.029241015886931\n",
      "Mean Sq  Error MSE      :  73.89731566116691\n",
      "Root Mean Sq Error RMSE :  8.596354789163074\n",
      "r2 value                :  0.1937403394217979\n",
      "MAPE                    :  30.332081228212402\n",
      "\n",
      "Statistics=0.878, p=0.000\n",
      "residuals does not look Gaussian (reject H0)\n"
     ]
    }
   ],
   "source": [
    "# check VIF\n",
    "df_selected_cols = df[['CRIM', 'ZN', 'DIS']]\n",
    "\n",
    "print(pd.Series([variance_inflation_factor(df_selected_cols.values, i) for i in range(df_selected_cols.shape[1])], \n",
    "           index=df_selected_cols.columns))\n",
    "\n",
    "print('\\nModel stats ...')\n",
    "run_model(df_selected_cols, y)"
   ]
  },
  {
   "cell_type": "markdown",
   "metadata": {},
   "source": [
    "... add more columns"
   ]
  },
  {
   "cell_type": "code",
   "execution_count": 150,
   "metadata": {},
   "outputs": [
    {
     "name": "stdout",
     "output_type": "stream",
     "text": [
      "CRIM     1.390754\n",
      "ZN       1.020292\n",
      "INDUS    1.411699\n",
      "dtype: float64\n",
      "\n",
      "Model stats ...\n",
      "y-intercept             :  26.520193932111578\n",
      "beta coefficients       :  [-0.27  0.07 -0.35]\n",
      "Mean Abs Error   MAE    :  5.779155628120575\n",
      "Mean Sq  Error MSE      :  66.84675514381013\n",
      "Root Mean Sq Error RMSE :  8.175986493617154\n",
      "r2 value                :  0.2706657659917566\n",
      "MAPE                    :  27.632322711758416\n",
      "\n",
      "Statistics=0.858, p=0.000\n",
      "residuals does not look Gaussian (reject H0)\n"
     ]
    }
   ],
   "source": [
    "# check VIF\n",
    "df_selected_cols = df[['CRIM', 'ZN', 'INDUS']]\n",
    "\n",
    "print(pd.Series([variance_inflation_factor(df_selected_cols.values, i) for i in range(df_selected_cols.shape[1])], \n",
    "           index=df_selected_cols.columns))\n",
    "\n",
    "print('\\nModel stats ...')\n",
    "run_model(df_selected_cols, y)"
   ]
  },
  {
   "cell_type": "markdown",
   "metadata": {},
   "source": [
    "... add more columns"
   ]
  },
  {
   "cell_type": "code",
   "execution_count": 151,
   "metadata": {},
   "outputs": [
    {
     "name": "stdout",
     "output_type": "stream",
     "text": [
      "CRIM     1.881346\n",
      "ZN       1.033431\n",
      "INDUS    3.424151\n",
      "RAD      4.602849\n",
      "dtype: float64\n",
      "\n",
      "Model stats ...\n",
      "y-intercept             :  26.463738175274095\n",
      "beta coefficients       :  [-0.28  0.07 -0.36  0.03]\n",
      "Mean Abs Error   MAE    :  5.793572841743056\n",
      "Mean Sq  Error MSE      :  67.05613018617353\n",
      "Root Mean Sq Error RMSE :  8.188780750891645\n",
      "r2 value                :  0.26838137109758353\n",
      "MAPE                    :  27.814585400311742\n",
      "\n",
      "Statistics=0.860, p=0.000\n",
      "residuals does not look Gaussian (reject H0)\n"
     ]
    }
   ],
   "source": [
    "# check VIF\n",
    "df_selected_cols = df[['CRIM', 'ZN', 'INDUS', 'RAD']]\n",
    "\n",
    "print(pd.Series([variance_inflation_factor(df_selected_cols.values, i) for i in range(df_selected_cols.shape[1])], \n",
    "           index=df_selected_cols.columns))\n",
    "\n",
    "print('\\nModel stats ...')\n",
    "run_model(df_selected_cols, y)"
   ]
  },
  {
   "cell_type": "code",
   "execution_count": 152,
   "metadata": {},
   "outputs": [
    {
     "name": "stdout",
     "output_type": "stream",
     "text": [
      "CRIM     1.964606\n",
      "ZN       2.247364\n",
      "INDUS    4.253120\n",
      "RAD      4.632232\n",
      "DIS      3.367350\n",
      "dtype: float64\n",
      "\n",
      "Model stats ...\n",
      "y-intercept             :  34.69061821444144\n",
      "beta coefficients       :  [-0.32  0.14 -0.57  0.   -1.63]\n",
      "Mean Abs Error   MAE    :  5.518400891654619\n",
      "Mean Sq  Error MSE      :  58.18864729142609\n",
      "Root Mean Sq Error RMSE :  7.628148352741056\n",
      "r2 value                :  0.3651304029796597\n",
      "MAPE                    :  27.775337285607034\n",
      "\n",
      "Statistics=0.885, p=0.000\n",
      "residuals does not look Gaussian (reject H0)\n"
     ]
    }
   ],
   "source": [
    "# check VIF\n",
    "df_selected_cols = df[['CRIM', 'ZN', 'INDUS', 'RAD', 'DIS']]\n",
    "\n",
    "print(pd.Series([variance_inflation_factor(df_selected_cols.values, i) for i in range(df_selected_cols.shape[1])], \n",
    "           index=df_selected_cols.columns))\n",
    "\n",
    "print('\\nModel stats ...')\n",
    "run_model(df_selected_cols, y)"
   ]
  },
  {
   "cell_type": "markdown",
   "metadata": {},
   "source": [
    "... add more columns"
   ]
  },
  {
   "cell_type": "code",
   "execution_count": 153,
   "metadata": {},
   "outputs": [
    {
     "name": "stdout",
     "output_type": "stream",
     "text": [
      "CRIM     1.967048\n",
      "ZN       2.313830\n",
      "INDUS    7.992402\n",
      "RAD      4.701892\n",
      "DIS      4.157358\n",
      "AGE      8.379308\n",
      "dtype: float64\n",
      "\n",
      "Model stats ...\n",
      "y-intercept             :  42.37898507868461\n",
      "beta coefficients       :  [-0.31  0.12 -0.5   0.01 -2.23 -0.09]\n",
      "Mean Abs Error   MAE    :  5.428357967241754\n",
      "Mean Sq  Error MSE      :  59.05892043791564\n",
      "Root Mean Sq Error RMSE :  7.684980184614378\n",
      "r2 value                :  0.35563525250739825\n",
      "MAPE                    :  27.064316292016766\n",
      "\n",
      "Statistics=0.873, p=0.000\n",
      "residuals does not look Gaussian (reject H0)\n"
     ]
    }
   ],
   "source": [
    "# check VIF\n",
    "df_selected_cols = df[['CRIM', 'ZN', 'INDUS', 'RAD', 'DIS', 'AGE']]\n",
    "\n",
    "print(pd.Series([variance_inflation_factor(df_selected_cols.values, i) for i in range(df_selected_cols.shape[1])], \n",
    "           index=df_selected_cols.columns))\n",
    "\n",
    "print('\\nModel stats ...')\n",
    "run_model(df_selected_cols, y)"
   ]
  },
  {
   "cell_type": "markdown",
   "metadata": {},
   "source": [
    "... add more columns"
   ]
  },
  {
   "cell_type": "code",
   "execution_count": 154,
   "metadata": {},
   "outputs": [
    {
     "name": "stdout",
     "output_type": "stream",
     "text": [
      "CRIM      2.003631\n",
      "ZN        2.313974\n",
      "INDUS     8.189024\n",
      "RAD       4.764478\n",
      "DIS       7.965842\n",
      "AGE      11.452106\n",
      "B        13.297363\n",
      "dtype: float64\n",
      "\n",
      "Model stats ...\n",
      "y-intercept             :  37.72810870934521\n",
      "beta coefficients       :  [-0.28  0.13 -0.48  0.03 -2.23 -0.09  0.01]\n",
      "Mean Abs Error   MAE    :  5.277366216299243\n",
      "Mean Sq  Error MSE      :  56.624547783191716\n",
      "Root Mean Sq Error RMSE :  7.524928423791931\n",
      "r2 value                :  0.38219557412067684\n",
      "MAPE                    :  26.005385263897363\n",
      "\n",
      "Statistics=0.870, p=0.000\n",
      "residuals does not look Gaussian (reject H0)\n"
     ]
    }
   ],
   "source": [
    "# check VIF\n",
    "df_selected_cols = df[['CRIM', 'ZN', 'INDUS', 'RAD', 'DIS', 'AGE', 'B']]\n",
    "\n",
    "print(pd.Series([variance_inflation_factor(df_selected_cols.values, i) for i in range(df_selected_cols.shape[1])], \n",
    "           index=df_selected_cols.columns))\n",
    "\n",
    "print('\\nModel stats ...')\n",
    "run_model(df_selected_cols, y)"
   ]
  },
  {
   "cell_type": "code",
   "execution_count": 155,
   "metadata": {},
   "outputs": [
    {
     "name": "stdout",
     "output_type": "stream",
     "text": [
      "CRIM      2.089933\n",
      "ZN        2.331347\n",
      "INDUS     8.985794\n",
      "RAD       4.771754\n",
      "DIS       8.414378\n",
      "AGE      13.876848\n",
      "B        13.475807\n",
      "LSTAT     8.260737\n",
      "dtype: float64\n",
      "\n",
      "Model stats ...\n",
      "y-intercept             :  39.22587698660257\n",
      "beta coefficients       :  [-0.11  0.11 -0.23  0.02 -1.68  0.01  0.   -0.84]\n",
      "Mean Abs Error   MAE    :  4.181873234352762\n",
      "Mean Sq  Error MSE      :  33.15347161967372\n",
      "Root Mean Sq Error RMSE :  5.757905141600868\n",
      "r2 value                :  0.6382777028379397\n",
      "MAPE                    :  19.12888073245159\n",
      "\n",
      "Statistics=0.880, p=0.000\n",
      "residuals does not look Gaussian (reject H0)\n"
     ]
    }
   ],
   "source": [
    "# check VIF\n",
    "df_selected_cols = df[['CRIM', 'ZN', 'INDUS', 'RAD', 'DIS', 'AGE', 'B', 'LSTAT']]\n",
    "\n",
    "print(pd.Series([variance_inflation_factor(df_selected_cols.values, i) for i in range(df_selected_cols.shape[1])], \n",
    "           index=df_selected_cols.columns))\n",
    "\n",
    "print('\\nModel stats ...')\n",
    "run_model(df_selected_cols, y)"
   ]
  },
  {
   "cell_type": "code",
   "execution_count": 156,
   "metadata": {},
   "outputs": [
    {
     "name": "stdout",
     "output_type": "stream",
     "text": [
      "CRIM      2.090079\n",
      "ZN        2.346363\n",
      "INDUS    11.002035\n",
      "RAD       5.166290\n",
      "DIS       9.034371\n",
      "AGE      19.854107\n",
      "B        16.412430\n",
      "LSTAT     8.358940\n",
      "NOX      46.706142\n",
      "dtype: float64\n",
      "\n",
      "Model stats ...\n",
      "y-intercept             :  46.1401550539357\n",
      "beta coefficients       :  [ -0.12   0.11  -0.16   0.05  -1.94   0.02   0.    -0.82 -13.76]\n",
      "Mean Abs Error   MAE    :  4.189929665643575\n",
      "Mean Sq  Error MSE      :  33.7999973666896\n",
      "Root Mean Sq Error RMSE :  5.81377651502787\n",
      "r2 value                :  0.6312237574451975\n",
      "MAPE                    :  19.123798952158904\n",
      "\n",
      "Statistics=0.885, p=0.000\n",
      "residuals does not look Gaussian (reject H0)\n"
     ]
    }
   ],
   "source": [
    "# check VIF\n",
    "df_selected_cols = df[['CRIM', 'ZN', 'INDUS', 'RAD', 'DIS', 'AGE', 'B', 'LSTAT', 'NOX']]\n",
    "\n",
    "print(pd.Series([variance_inflation_factor(df_selected_cols.values, i) for i in range(df_selected_cols.shape[1])], \n",
    "           index=df_selected_cols.columns))\n",
    "\n",
    "print('\\nModel stats ...')\n",
    "run_model(df_selected_cols, y)"
   ]
  },
  {
   "cell_type": "code",
   "execution_count": 157,
   "metadata": {},
   "outputs": [
    {
     "name": "stdout",
     "output_type": "stream",
     "text": [
      "CRIM      2.093849\n",
      "ZN        2.372815\n",
      "INDUS    11.148754\n",
      "RAD       5.173441\n",
      "DIS      11.877719\n",
      "AGE      21.307113\n",
      "B        18.538400\n",
      "LSTAT     9.984013\n",
      "NOX      71.828036\n",
      "RM       59.955121\n",
      "dtype: float64\n",
      "\n",
      "Model stats ...\n",
      "y-intercept             :  19.65042741277636\n",
      "beta coefficients       :  [ -0.1    0.09  -0.1    0.01  -1.73  -0.     0.01  -0.6  -11.93   3.56]\n",
      "Mean Abs Error   MAE    :  3.778205827866129\n",
      "Mean Sq  Error MSE      :  23.913197757762486\n",
      "Root Mean Sq Error RMSE :  4.890112243881779\n",
      "r2 value                :  0.7390940856916026\n",
      "MAPE                    :  18.50351783804392\n",
      "\n",
      "Statistics=0.924, p=0.000\n",
      "residuals does not look Gaussian (reject H0)\n"
     ]
    }
   ],
   "source": [
    "# check VIF\n",
    "df_selected_cols = df[['CRIM', 'ZN', 'INDUS', 'RAD', 'DIS', 'AGE', 'B', 'LSTAT', 'NOX', 'RM']]\n",
    "\n",
    "print(pd.Series([variance_inflation_factor(df_selected_cols.values, i) for i in range(df_selected_cols.shape[1])], \n",
    "           index=df_selected_cols.columns))\n",
    "\n",
    "print('\\nModel stats ...')\n",
    "run_model(df_selected_cols, y)"
   ]
  },
  {
   "cell_type": "code",
   "execution_count": 158,
   "metadata": {},
   "outputs": [
    {
     "name": "stdout",
     "output_type": "stream",
     "text": [
      "CRIM        2.095450\n",
      "ZN          2.696840\n",
      "INDUS      11.706718\n",
      "RAD         5.598028\n",
      "DIS        14.638654\n",
      "AGE        21.331218\n",
      "B          20.027726\n",
      "LSTAT      11.063005\n",
      "NOX        71.861373\n",
      "RM         77.547333\n",
      "PTRATIO    81.157915\n",
      "dtype: float64\n",
      "\n",
      "Model stats ...\n",
      "y-intercept             :  45.03691879058434\n",
      "beta coefficients       :  [ -0.1    0.05  -0.02   0.15  -1.51   0.     0.01  -0.57 -21.79   2.95  -1.09]\n",
      "Mean Abs Error   MAE    :  3.4512729822191\n",
      "Mean Sq  Error MSE      :  21.047199038809648\n",
      "Root Mean Sq Error RMSE :  4.587722641879045\n",
      "r2 value                :  0.7703636809899711\n",
      "MAPE                    :  16.774926862617438\n",
      "\n",
      "Statistics=0.937, p=0.000\n",
      "residuals does not look Gaussian (reject H0)\n"
     ]
    }
   ],
   "source": [
    "# check VIF\n",
    "df_selected_cols = df[['CRIM', 'ZN', 'INDUS', 'RAD', 'DIS', 'AGE', 'B', 'LSTAT', 'NOX', 'RM', 'PTRATIO']]\n",
    "\n",
    "print(pd.Series([variance_inflation_factor(df_selected_cols.values, i) for i in range(df_selected_cols.shape[1])], \n",
    "           index=df_selected_cols.columns))\n",
    "\n",
    "print('\\nModel stats ...')\n",
    "run_model(df_selected_cols, y)"
   ]
  },
  {
   "cell_type": "markdown",
   "metadata": {},
   "source": [
    "## Check multi collinearity using eigen things"
   ]
  },
  {
   "cell_type": "code",
   "execution_count": 159,
   "metadata": {},
   "outputs": [],
   "source": [
    "from numpy.linalg import inv\n",
    "\n",
    "import scipy \n",
    "import scipy.linalg as la"
   ]
  },
  {
   "cell_type": "code",
   "execution_count": 160,
   "metadata": {},
   "outputs": [],
   "source": [
    "def multicoll_eigen(df_selected_cols, y):\n",
    "\n",
    "    X = df_selected_cols.values\n",
    "    \n",
    "    # get the corr\n",
    "    scipy.corrcoef(X, rowvar=False)\n",
    "\n",
    "    # check the multi collinearity\n",
    "    corr = scipy.corrcoef(X, rowvar=False)\n",
    "\n",
    "    eigvals, eigvecs = la.eig(corr)\n",
    "    eigvals = eigvals.real\n",
    "\n",
    "    print(eigvals)\n",
    "    print(eigvecs)"
   ]
  },
  {
   "cell_type": "code",
   "execution_count": 161,
   "metadata": {},
   "outputs": [
    {
     "name": "stdout",
     "output_type": "stream",
     "text": [
      "[6.13 1.43 1.24 0.86 0.83 0.66 0.54 0.4  0.06 0.28 0.17 0.19 0.22]\n",
      "[[-0.25  0.32 -0.25 -0.06  0.08  0.22 -0.78 -0.15 -0.05 -0.26  0.09  0.11 -0.02]\n",
      " [ 0.26  0.32 -0.3  -0.13  0.32  0.32  0.27  0.4   0.08 -0.36 -0.07 -0.26 -0.27]\n",
      " [-0.35 -0.11  0.02 -0.02 -0.01  0.08  0.34 -0.17  0.25 -0.64 -0.11  0.3   0.36]\n",
      " [-0.01 -0.45 -0.29 -0.82  0.09 -0.17 -0.07  0.02 -0.04  0.01 -0.   -0.01  0.01]\n",
      " [-0.34 -0.22 -0.12  0.13  0.14  0.15  0.2  -0.08 -0.04  0.02  0.8  -0.11 -0.23]\n",
      " [ 0.19 -0.15 -0.59  0.28 -0.42 -0.06 -0.06  0.33 -0.05 -0.05  0.15 -0.05  0.43]\n",
      " [-0.31 -0.31  0.02  0.18  0.02  0.07 -0.12  0.6   0.04  0.07 -0.21  0.46 -0.36]\n",
      " [ 0.32  0.35  0.05 -0.22  0.1  -0.02  0.1   0.12  0.02  0.15  0.39  0.7   0.17]\n",
      " [-0.32  0.27 -0.29 -0.13 -0.2   0.14  0.14 -0.08  0.63  0.47 -0.11 -0.04 -0.02]\n",
      " [-0.34  0.24 -0.22 -0.1  -0.13  0.19  0.31 -0.08 -0.72  0.18 -0.22  0.1   0.04]\n",
      " [-0.2   0.31  0.32 -0.28 -0.58 -0.27 -0.    0.32 -0.02 -0.25  0.21 -0.17 -0.15]\n",
      " [ 0.2  -0.24  0.3  -0.17 -0.35  0.8  -0.07  0.    0.    0.04  0.04 -0.02  0.1 ]\n",
      " [-0.31  0.07  0.27 -0.07  0.39  0.05 -0.09  0.42 -0.02  0.2   0.06 -0.27  0.6 ]]\n"
     ]
    }
   ],
   "source": [
    "# check VIF for all columns\n",
    "df_selected_cols = df\n",
    "\n",
    "multicoll_eigen(df_selected_cols, y)"
   ]
  },
  {
   "cell_type": "markdown",
   "metadata": {},
   "source": [
    "there seems to __no multi-collinearity__, as there no eigen value = 0"
   ]
  },
  {
   "cell_type": "code",
   "execution_count": 162,
   "metadata": {},
   "outputs": [
    {
     "name": "stdout",
     "output_type": "stream",
     "text": [
      "\n",
      "Model coeff ...\n",
      "y-intercept             :  46.396493871823736\n",
      "beta coefficients       :  [ -0.1    0.06   0.06   2.44 -21.47   2.8    0.    -1.52   0.31  -0.01  -1.01   0.01  -0.57]\n",
      "Mean Abs Error   MAE    :  3.344665503598751\n",
      "Mean Sq  Error MSE      :  19.83132367206325\n",
      "Root Mean Sq Error RMSE :  4.453237437198162\n",
      "r2 value                :  0.783629538507628\n",
      "MAPE                    :  16.207536032281407\n",
      "\n",
      "Statistics=0.945, p=0.000\n",
      "residuals does not look Gaussian (reject H0)\n"
     ]
    }
   ],
   "source": [
    "print('\\nModel coeff ...')\n",
    "run_model(df_selected_cols, y)"
   ]
  },
  {
   "cell_type": "markdown",
   "metadata": {},
   "source": [
    "## let us try adding collinear columns"
   ]
  },
  {
   "cell_type": "code",
   "execution_count": 191,
   "metadata": {},
   "outputs": [],
   "source": [
    "df_orig = df"
   ]
  },
  {
   "cell_type": "code",
   "execution_count": 193,
   "metadata": {},
   "outputs": [
    {
     "data": {
      "text/html": [
       "<div>\n",
       "<style scoped>\n",
       "    .dataframe tbody tr th:only-of-type {\n",
       "        vertical-align: middle;\n",
       "    }\n",
       "\n",
       "    .dataframe tbody tr th {\n",
       "        vertical-align: top;\n",
       "    }\n",
       "\n",
       "    .dataframe thead th {\n",
       "        text-align: right;\n",
       "    }\n",
       "</style>\n",
       "<table border=\"1\" class=\"dataframe\">\n",
       "  <thead>\n",
       "    <tr style=\"text-align: right;\">\n",
       "      <th></th>\n",
       "      <th>CRIM</th>\n",
       "      <th>ZN</th>\n",
       "      <th>INDUS</th>\n",
       "      <th>CHAS</th>\n",
       "      <th>NOX</th>\n",
       "      <th>RM</th>\n",
       "      <th>AGE</th>\n",
       "      <th>DIS</th>\n",
       "      <th>RAD</th>\n",
       "      <th>TAX</th>\n",
       "      <th>PTRATIO</th>\n",
       "      <th>B</th>\n",
       "      <th>LSTAT</th>\n",
       "    </tr>\n",
       "  </thead>\n",
       "  <tbody>\n",
       "    <tr>\n",
       "      <th>0</th>\n",
       "      <td>0.00632</td>\n",
       "      <td>18.0</td>\n",
       "      <td>2.31</td>\n",
       "      <td>0.0</td>\n",
       "      <td>0.538</td>\n",
       "      <td>6.575</td>\n",
       "      <td>65.2</td>\n",
       "      <td>4.0900</td>\n",
       "      <td>1.0</td>\n",
       "      <td>296.0</td>\n",
       "      <td>15.3</td>\n",
       "      <td>396.90</td>\n",
       "      <td>4.98</td>\n",
       "    </tr>\n",
       "    <tr>\n",
       "      <th>1</th>\n",
       "      <td>0.02731</td>\n",
       "      <td>0.0</td>\n",
       "      <td>7.07</td>\n",
       "      <td>0.0</td>\n",
       "      <td>0.469</td>\n",
       "      <td>6.421</td>\n",
       "      <td>78.9</td>\n",
       "      <td>4.9671</td>\n",
       "      <td>2.0</td>\n",
       "      <td>242.0</td>\n",
       "      <td>17.8</td>\n",
       "      <td>396.90</td>\n",
       "      <td>9.14</td>\n",
       "    </tr>\n",
       "    <tr>\n",
       "      <th>2</th>\n",
       "      <td>0.02729</td>\n",
       "      <td>0.0</td>\n",
       "      <td>7.07</td>\n",
       "      <td>0.0</td>\n",
       "      <td>0.469</td>\n",
       "      <td>7.185</td>\n",
       "      <td>61.1</td>\n",
       "      <td>4.9671</td>\n",
       "      <td>2.0</td>\n",
       "      <td>242.0</td>\n",
       "      <td>17.8</td>\n",
       "      <td>392.83</td>\n",
       "      <td>4.03</td>\n",
       "    </tr>\n",
       "    <tr>\n",
       "      <th>3</th>\n",
       "      <td>0.03237</td>\n",
       "      <td>0.0</td>\n",
       "      <td>2.18</td>\n",
       "      <td>0.0</td>\n",
       "      <td>0.458</td>\n",
       "      <td>6.998</td>\n",
       "      <td>45.8</td>\n",
       "      <td>6.0622</td>\n",
       "      <td>3.0</td>\n",
       "      <td>222.0</td>\n",
       "      <td>18.7</td>\n",
       "      <td>394.63</td>\n",
       "      <td>2.94</td>\n",
       "    </tr>\n",
       "    <tr>\n",
       "      <th>4</th>\n",
       "      <td>0.06905</td>\n",
       "      <td>0.0</td>\n",
       "      <td>2.18</td>\n",
       "      <td>0.0</td>\n",
       "      <td>0.458</td>\n",
       "      <td>7.147</td>\n",
       "      <td>54.2</td>\n",
       "      <td>6.0622</td>\n",
       "      <td>3.0</td>\n",
       "      <td>222.0</td>\n",
       "      <td>18.7</td>\n",
       "      <td>396.90</td>\n",
       "      <td>5.33</td>\n",
       "    </tr>\n",
       "  </tbody>\n",
       "</table>\n",
       "</div>"
      ],
      "text/plain": [
       "      CRIM    ZN  INDUS  CHAS    NOX     RM   AGE     DIS  RAD    TAX  \\\n",
       "0  0.00632  18.0   2.31   0.0  0.538  6.575  65.2  4.0900  1.0  296.0   \n",
       "1  0.02731   0.0   7.07   0.0  0.469  6.421  78.9  4.9671  2.0  242.0   \n",
       "2  0.02729   0.0   7.07   0.0  0.469  7.185  61.1  4.9671  2.0  242.0   \n",
       "3  0.03237   0.0   2.18   0.0  0.458  6.998  45.8  6.0622  3.0  222.0   \n",
       "4  0.06905   0.0   2.18   0.0  0.458  7.147  54.2  6.0622  3.0  222.0   \n",
       "\n",
       "   PTRATIO       B  LSTAT  \n",
       "0     15.3  396.90   4.98  \n",
       "1     17.8  396.90   9.14  \n",
       "2     17.8  392.83   4.03  \n",
       "3     18.7  394.63   2.94  \n",
       "4     18.7  396.90   5.33  "
      ]
     },
     "execution_count": 193,
     "metadata": {},
     "output_type": "execute_result"
    }
   ],
   "source": [
    "df.head()"
   ]
  },
  {
   "cell_type": "code",
   "execution_count": 194,
   "metadata": {},
   "outputs": [
    {
     "name": "stdout",
     "output_type": "stream",
     "text": [
      "CRIM            : -0.098542\n",
      "ZN              : 0.060784\n",
      "INDUS           : 0.059172\n",
      "CHAS            : 2.439560\n",
      "NOX             : -21.469965\n",
      "RM              : 2.795814\n",
      "AGE             : 0.003575\n",
      "DIS             : -1.516272\n",
      "RAD             : 0.307542\n",
      "TAX             : -0.011280\n",
      "PTRATIO         : -1.005466\n",
      "B               : 0.006450\n",
      "LSTAT           : -0.568835\n"
     ]
    }
   ],
   "source": [
    "# check VIF\n",
    "df_selected_cols = df\n",
    "\n",
    "model_coeff(df_selected_cols, y)"
   ]
  },
  {
   "cell_type": "code",
   "execution_count": 195,
   "metadata": {},
   "outputs": [
    {
     "name": "stdout",
     "output_type": "stream",
     "text": [
      "CRIM            : -0.098542\n",
      "ZN              : 0.060784\n",
      "INDUS           : 0.059172\n",
      "CHAS            : 2.439560\n",
      "NOX             : -21.469965\n",
      "RM              : 2.795814\n",
      "AGE             : 0.000000\n",
      "DIS             : -1.516272\n",
      "RAD             : 0.307542\n",
      "TAX             : -0.011280\n",
      "PTRATIO         : -1.005466\n",
      "B               : 0.006450\n",
      "LSTAT           : -0.568835\n",
      "AGE_IN_DAYS     : 0.000010\n"
     ]
    }
   ],
   "source": [
    "df['AGE_IN_DAYS'] = df['AGE'] * 365 +10\n",
    "\n",
    "# check VIF\n",
    "df_selected_cols = df\n",
    "\n",
    "model_coeff(df_selected_cols, y)"
   ]
  },
  {
   "cell_type": "code",
   "execution_count": 196,
   "metadata": {},
   "outputs": [
    {
     "name": "stdout",
     "output_type": "stream",
     "text": [
      "[6.77 1.59 1.24 0.83 0.89 0.66 0.56 0.5  0.06 0.28 0.24 0.17 0.2  0.  ]\n",
      "[[-0.23 -0.33  0.24  0.09  0.   -0.26  0.55  0.56 -0.05 -0.25 -0.09 -0.11  0.09 -0.  ]\n",
      " [ 0.25 -0.25  0.28  0.33  0.   -0.38  0.   -0.5   0.08 -0.37 -0.11  0.11 -0.35  0.  ]\n",
      " [-0.33  0.04 -0.01 -0.01  0.08 -0.02 -0.42 -0.01  0.25 -0.64  0.08  0.07  0.48  0.  ]\n",
      " [-0.01  0.36  0.31  0.13  0.85  0.12  0.15 -0.03 -0.04  0.01  0.01  0.01 -0.01 -0.  ]\n",
      " [-0.33  0.15  0.13  0.13 -0.06 -0.09 -0.32  0.05 -0.04  0.01 -0.05 -0.77 -0.34  0.  ]\n",
      " [ 0.17  0.18  0.6  -0.44 -0.26  0.05  0.13 -0.11 -0.04 -0.11  0.51 -0.12  0.08  0.  ]\n",
      " [-0.32  0.32 -0.01  0.01 -0.18 -0.11  0.3  -0.31  0.02  0.04 -0.21  0.04  0.13 -0.71]\n",
      " [ 0.31 -0.28 -0.06  0.11  0.11 -0.04  0.12 -0.29  0.02  0.17 -0.06 -0.52  0.62 -0.  ]\n",
      " [-0.29 -0.31  0.28 -0.2   0.12 -0.15 -0.12 -0.06  0.63  0.48 -0.01  0.11 -0.02  0.  ]\n",
      " [-0.31 -0.29  0.22 -0.12  0.1  -0.18 -0.28 -0.15 -0.72  0.19 -0.05  0.19  0.15 -0.  ]\n",
      " [-0.19 -0.32 -0.33 -0.57  0.26  0.2   0.25 -0.29 -0.02 -0.27 -0.   -0.18 -0.27 -0.  ]\n",
      " [ 0.19  0.26 -0.29 -0.34  0.17 -0.8  -0.06  0.12  0.    0.03  0.12 -0.03  0.01  0.  ]\n",
      " [-0.29 -0.09 -0.27  0.4   0.04 -0.07  0.17 -0.14 -0.02  0.1   0.78  0.02 -0.04  0.  ]\n",
      " [-0.32  0.32 -0.01  0.01 -0.18 -0.11  0.3  -0.31  0.02  0.04 -0.21  0.04  0.13  0.71]]\n"
     ]
    }
   ],
   "source": [
    "# check VIF for all columns\n",
    "df_selected_cols = df\n",
    "\n",
    "multicoll_eigen(df_selected_cols, y)"
   ]
  },
  {
   "cell_type": "code",
   "execution_count": 198,
   "metadata": {},
   "outputs": [
    {
     "name": "stdout",
     "output_type": "stream",
     "text": [
      "CRIM            : -0.124955\n",
      "ZN              : 0.045138\n",
      "INDUS           : 0.087996\n",
      "CHAS            : 1.802381\n",
      "NOX             : -20.797713\n",
      "RM              : -28.059592\n",
      "AGE             : -0.000000\n",
      "DIS             : -1.235400\n",
      "RAD             : 0.280806\n",
      "TAX             : -0.011199\n",
      "PTRATIO         : -0.847498\n",
      "B               : 0.005826\n",
      "LSTAT           : -0.556937\n",
      "AGE_IN_DAYS     : -0.000015\n",
      "RM_SQUARED      : 2.448717\n"
     ]
    }
   ],
   "source": [
    "df['AGE_IN_DAYS'] = df['AGE'] * 365 / 10\n",
    "df['RM_SQUARED']  = df['RM'] ** 2\n",
    "\n",
    "# check VIF\n",
    "df_selected_cols = df\n",
    "\n",
    "model_coeff(df_selected_cols, y)"
   ]
  },
  {
   "cell_type": "code",
   "execution_count": 199,
   "metadata": {},
   "outputs": [
    {
     "name": "stdout",
     "output_type": "stream",
     "text": [
      "[ 6.99  1.95  1.53  0.94  0.86  0.66  0.56  0.51  0.28  0.27  0.2   0.17  0.06  0.   -0.  ]\n",
      "[[-0.22  0.01 -0.39 -0.11 -0.08  0.25 -0.52  0.6  -0.16 -0.2   0.09  0.11 -0.05 -0.01  0.  ]\n",
      " [ 0.24 -0.04 -0.31 -0.29 -0.27  0.37 -0.04 -0.5  -0.24 -0.31 -0.35 -0.1   0.08 -0.01 -0.  ]\n",
      " [-0.32  0.04  0.03 -0.05  0.06  0.02  0.4  -0.05 -0.61 -0.23  0.47 -0.09  0.25  0.01 -0.  ]\n",
      " [-0.01  0.23  0.24 -0.81  0.43 -0.13 -0.17 -0.03 -0.    0.02 -0.01 -0.01 -0.04 -0.   -0.  ]\n",
      " [-0.32  0.17  0.08 -0.09 -0.16  0.09  0.32  0.03  0.01 -0.   -0.33  0.78 -0.04 -0.    0.  ]\n",
      " [ 0.19  0.57 -0.17  0.18  0.07 -0.03 -0.06 -0.06 -0.17  0.17  0.04  0.06 -0.03 -0.71 -0.  ]\n",
      " [-0.31  0.21  0.26  0.12 -0.13  0.1  -0.3  -0.28  0.17 -0.18  0.13 -0.03  0.02 -0.   -0.71]\n",
      " [ 0.3  -0.24 -0.19 -0.1   0.01  0.03 -0.16 -0.3   0.13  0.09  0.63  0.52  0.02  0.02  0.  ]\n",
      " [-0.28  0.08 -0.42 -0.07  0.19  0.16  0.14 -0.05  0.43  0.22 -0.02 -0.11  0.63 -0.01 -0.  ]\n",
      " [-0.3   0.04 -0.36 -0.07  0.13  0.19  0.28 -0.16  0.19  0.06  0.15 -0.19 -0.72  0.    0.  ]\n",
      " [-0.19 -0.24 -0.17  0.32  0.64 -0.2  -0.25 -0.27 -0.22 -0.16 -0.27  0.18 -0.02  0.01  0.  ]\n",
      " [ 0.18 -0.05  0.35  0.15  0.38  0.8   0.05  0.11 -0.04  0.13  0.01  0.03  0.01 -0.01 -0.  ]\n",
      " [-0.3  -0.21  0.05 -0.09 -0.22  0.05 -0.25 -0.18 -0.36  0.76 -0.07 -0.06 -0.02 -0.01 -0.  ]\n",
      " [-0.31  0.21  0.26  0.12 -0.13  0.1  -0.3  -0.28  0.17 -0.18  0.13 -0.03  0.02 -0.    0.71]\n",
      " [ 0.19  0.58 -0.17  0.17  0.06 -0.01 -0.06 -0.04 -0.17  0.18  0.02  0.04 -0.02  0.71  0.  ]]\n"
     ]
    }
   ],
   "source": [
    "# check VIF for all columns\n",
    "df_selected_cols = df\n",
    "\n",
    "multicoll_eigen(df_selected_cols, y)"
   ]
  },
  {
   "cell_type": "code",
   "execution_count": null,
   "metadata": {},
   "outputs": [],
   "source": []
  }
 ],
 "metadata": {
  "kernelspec": {
   "display_name": "Python 3",
   "language": "python",
   "name": "python3"
  },
  "language_info": {
   "codemirror_mode": {
    "name": "ipython",
    "version": 3
   },
   "file_extension": ".py",
   "mimetype": "text/x-python",
   "name": "python",
   "nbconvert_exporter": "python",
   "pygments_lexer": "ipython3",
   "version": "3.7.3"
  }
 },
 "nbformat": 4,
 "nbformat_minor": 4
}
