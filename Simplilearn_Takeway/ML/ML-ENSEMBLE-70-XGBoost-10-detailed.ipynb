{
 "cells": [
  {
   "cell_type": "code",
   "execution_count": 1,
   "metadata": {},
   "outputs": [],
   "source": [
    "import sys\n",
    "import time\n",
    "import random\n",
    "from math import *\n",
    "import operator\n",
    "import pandas as pd\n",
    "import numpy as np\n",
    "pd.set_option(\"display.max_columns\", 10000)\n",
    "import string\n",
    "from pprint import pprint\n",
    "from scipy import stats\n",
    "import itertools\n",
    "from collections import Counter\n",
    "\n",
    "\n",
    "# import plotting libraries\n",
    "import matplotlib\n",
    "import matplotlib.pyplot as plt\n",
    "from pandas.plotting import scatter_matrix\n",
    "from matplotlib import style\n",
    "%matplotlib inline \n",
    "\n",
    "import graphviz \n",
    "from sklearn.tree import export_graphviz\n",
    "\n",
    "# datasets\n",
    "from sklearn import datasets\n",
    "from sklearn.datasets import make_classification\n",
    "from sklearn.datasets import load_svmlight_files\n",
    "\n",
    "from sklearn.model_selection import GridSearchCV, RandomizedSearchCV\n",
    "\n",
    "# Load libraries\n",
    "import sklearn\n",
    "import xgboost as xgb\n",
    "from xgboost import XGBClassifier\n",
    "from sklearn.tree import DecisionTreeClassifier\n",
    "from sklearn.ensemble import AdaBoostClassifier\n",
    "from sklearn.ensemble import GradientBoostingClassifier\n",
    "\n",
    "# import libraries for model validation\n",
    "from sklearn.model_selection import StratifiedKFold\n",
    "from sklearn.model_selection import KFold\n",
    "from sklearn.model_selection import cross_val_score\n",
    "from sklearn.model_selection import train_test_split\n",
    "from sklearn.model_selection import LeaveOneOut \n",
    "\n",
    "# import libraries for metrics and reporting\n",
    "from sklearn.metrics import confusion_matrix\n",
    "from sklearn.metrics import classification_report\n",
    "from sklearn.metrics import accuracy_score\n",
    "from sklearn.metrics import precision_score\n",
    "from sklearn.metrics import recall_score\n",
    "from sklearn.metrics import f1_score\n",
    "from sklearn import metrics\n",
    "from sklearn.metrics import classification_report\n",
    "from sklearn.metrics import roc_curve, auc\n",
    "from sklearn.metrics import adjusted_rand_score\n",
    "from sklearn.metrics import log_loss\n",
    "\n",
    "from sklearn.model_selection import validation_curve\n",
    "from scipy.sparse import vstack"
   ]
  },
  {
   "cell_type": "code",
   "execution_count": 2,
   "metadata": {},
   "outputs": [
    {
     "name": "stdout",
     "output_type": "stream",
     "text": [
      "3.7.3 (default, Apr 24 2019, 15:29:51) [MSC v.1915 64 bit (AMD64)]\n",
      "Numpy :  1.17.2\n",
      "Scikit learn :  0.20.3\n",
      "XGBoost :  0.90\n"
     ]
    }
   ],
   "source": [
    "print(sys.version)\n",
    "print('Numpy : ', np.version.version)\n",
    "print('Scikit learn : ', sklearn.__version__)\n",
    "print('XGBoost : ', xgb.__version__)"
   ]
  },
  {
   "cell_type": "markdown",
   "metadata": {},
   "source": [
    "# Practice - (decision tree, Adaboost, GBT)"
   ]
  },
  {
   "cell_type": "code",
   "execution_count": 3,
   "metadata": {},
   "outputs": [],
   "source": [
    "# reproducibility\n",
    "seed = 104"
   ]
  },
  {
   "cell_type": "markdown",
   "metadata": {},
   "source": [
    "### Prepare data"
   ]
  },
  {
   "cell_type": "code",
   "execution_count": 4,
   "metadata": {},
   "outputs": [],
   "source": [
    "# use make_classification to build synthetic data\n",
    "X, y = make_classification(n_samples=1000, \n",
    "                           n_features=20, \n",
    "                           n_informative=8, \n",
    "                           n_redundant=3, \n",
    "                           n_repeated=2, \n",
    "                           random_state=seed)"
   ]
  },
  {
   "cell_type": "code",
   "execution_count": 5,
   "metadata": {},
   "outputs": [],
   "source": [
    "# train -test split\n",
    "X_train, X_test, y_train, y_test = train_test_split(X, y, test_size=0.2, random_state=seed)"
   ]
  },
  {
   "cell_type": "code",
   "execution_count": 6,
   "metadata": {},
   "outputs": [
    {
     "name": "stdout",
     "output_type": "stream",
     "text": [
      "Train label distribution:\n",
      "Counter({1: 404, 0: 396})\n",
      "\n",
      "Test label distribution:\n",
      "Counter({0: 106, 1: 94})\n"
     ]
    }
   ],
   "source": [
    "print(\"Train label distribution:\")\n",
    "print(Counter(y_train))\n",
    "\n",
    "print(\"\\nTest label distribution:\")\n",
    "print(Counter(y_test))"
   ]
  },
  {
   "cell_type": "markdown",
   "metadata": {},
   "source": [
    "Target variable is equally distribued across both dataset."
   ]
  },
  {
   "cell_type": "markdown",
   "metadata": {},
   "source": [
    "### Single Decision Tree \n",
    "The following code will create a single decision tree, fit it using training data and evaluate the results using test sample.\n"
   ]
  },
  {
   "cell_type": "code",
   "execution_count": 7,
   "metadata": {},
   "outputs": [
    {
     "name": "stdout",
     "output_type": "stream",
     "text": [
      "== Decision Tree ==\n",
      "Accuracy: 0.85\n",
      "Log loss: 5.01\n",
      "Number of nodes created: 143\n"
     ]
    }
   ],
   "source": [
    "decision_tree = DecisionTreeClassifier(random_state=seed)\n",
    "\n",
    "# train classifier\n",
    "decision_tree.fit(X_train, y_train)\n",
    "\n",
    "# predict output\n",
    "decision_tree_y_pred       = decision_tree.predict(X_test)\n",
    "decision_tree_y_pred_prob  = decision_tree.predict_proba(X_test)\n",
    "\n",
    "# evaluation\n",
    "decision_tree_accuracy = accuracy_score(y_test, decision_tree_y_pred)\n",
    "decision_tree_logloss  = log_loss(y_test, decision_tree_y_pred_prob)\n",
    "\n",
    "print(\"== Decision Tree ==\")\n",
    "print(\"Accuracy: {0:.2f}\".format(decision_tree_accuracy))\n",
    "print(\"Log loss: {0:.2f}\".format(decision_tree_logloss))\n",
    "print(\"Number of nodes created: {}\".format(decision_tree.tree_.node_count))"
   ]
  },
  {
   "cell_type": "markdown",
   "metadata": {},
   "source": [
    "We can see two things:\n",
    "\n",
    "- the log loss score is not very promising (due to the fact that leaves in decision tree outputs either 0 or 1 as probability which is heaviliy penalized in case of errors, but the accuracy score is quite decent,\n",
    "- the tree is complicated (large number of nodes)\n",
    "\n",
    "You can inspect first few predicted outputs, and see that only 2 instances out of 5 were classified correctly."
   ]
  },
  {
   "cell_type": "code",
   "execution_count": 8,
   "metadata": {},
   "outputs": [
    {
     "name": "stdout",
     "output_type": "stream",
     "text": [
      "True labels:\n",
      "[1 1 0 0 0]\n",
      "\n",
      "Predicted labels:\n",
      "[1 1 0 0 0]\n",
      "\n",
      "Predicted probabilities:\n",
      "[[0. 1.]\n",
      " [0. 1.]\n",
      " [1. 0.]\n",
      " [1. 0.]\n",
      " [1. 0.]]\n"
     ]
    }
   ],
   "source": [
    "print('True labels:')\n",
    "print(y_test[:5,])\n",
    "\n",
    "print('\\nPredicted labels:')\n",
    "print(decision_tree_y_pred[:5,])\n",
    "\n",
    "print('\\nPredicted probabilities:')\n",
    "print(decision_tree_y_pred_prob[:5,])"
   ]
  },
  {
   "cell_type": "code",
   "execution_count": 12,
   "metadata": {},
   "outputs": [
    {
     "data": {
      "image/svg+xml": [
       "<?xml version=\"1.0\" encoding=\"UTF-8\" standalone=\"no\"?>\r\n",
       "<!DOCTYPE svg PUBLIC \"-//W3C//DTD SVG 1.1//EN\"\r\n",
       " \"http://www.w3.org/Graphics/SVG/1.1/DTD/svg11.dtd\">\r\n",
       "<!-- Generated by graphviz version 2.38.0 (20140413.2041)\r\n",
       " -->\r\n",
       "<!-- Title: Tree Pages: 1 -->\r\n",
       "<svg width=\"2928pt\" height=\"1309pt\"\r\n",
       " viewBox=\"0.00 0.00 2927.50 1309.00\" xmlns=\"http://www.w3.org/2000/svg\" xmlns:xlink=\"http://www.w3.org/1999/xlink\">\r\n",
       "<g id=\"graph0\" class=\"graph\" transform=\"scale(1 1) rotate(0) translate(4 1305)\">\r\n",
       "<title>Tree</title>\r\n",
       "<polygon fill=\"white\" stroke=\"none\" points=\"-4,4 -4,-1305 2923.5,-1305 2923.5,4 -4,4\"/>\r\n",
       "<!-- 0 -->\r\n",
       "<g id=\"node1\" class=\"node\"><title>0</title>\r\n",
       "<polygon fill=\"none\" stroke=\"black\" points=\"1266,-1301 1148,-1301 1148,-1233 1266,-1233 1266,-1301\"/>\r\n",
       "<text text-anchor=\"middle\" x=\"1207\" y=\"-1285.8\" font-family=\"Times New Roman,serif\" font-size=\"14.00\">X[3] &lt;= &#45;0.598</text>\r\n",
       "<text text-anchor=\"middle\" x=\"1207\" y=\"-1270.8\" font-family=\"Times New Roman,serif\" font-size=\"14.00\">gini = 0.5</text>\r\n",
       "<text text-anchor=\"middle\" x=\"1207\" y=\"-1255.8\" font-family=\"Times New Roman,serif\" font-size=\"14.00\">samples = 800</text>\r\n",
       "<text text-anchor=\"middle\" x=\"1207\" y=\"-1240.8\" font-family=\"Times New Roman,serif\" font-size=\"14.00\">value = [396, 404]</text>\r\n",
       "</g>\r\n",
       "<!-- 1 -->\r\n",
       "<g id=\"node2\" class=\"node\"><title>1</title>\r\n",
       "<polygon fill=\"none\" stroke=\"black\" points=\"1017.5,-1197 906.5,-1197 906.5,-1129 1017.5,-1129 1017.5,-1197\"/>\r\n",
       "<text text-anchor=\"middle\" x=\"962\" y=\"-1181.8\" font-family=\"Times New Roman,serif\" font-size=\"14.00\">X[15] &lt;= &#45;3.003</text>\r\n",
       "<text text-anchor=\"middle\" x=\"962\" y=\"-1166.8\" font-family=\"Times New Roman,serif\" font-size=\"14.00\">gini = 0.274</text>\r\n",
       "<text text-anchor=\"middle\" x=\"962\" y=\"-1151.8\" font-family=\"Times New Roman,serif\" font-size=\"14.00\">samples = 299</text>\r\n",
       "<text text-anchor=\"middle\" x=\"962\" y=\"-1136.8\" font-family=\"Times New Roman,serif\" font-size=\"14.00\">value = [49, 250]</text>\r\n",
       "</g>\r\n",
       "<!-- 0&#45;&gt;1 -->\r\n",
       "<g id=\"edge1\" class=\"edge\"><title>0&#45;&gt;1</title>\r\n",
       "<path fill=\"none\" stroke=\"black\" d=\"M1147.69,-1241.31C1111.27,-1226.14 1064.58,-1206.71 1027.13,-1191.12\"/>\r\n",
       "<polygon fill=\"black\" stroke=\"black\" points=\"1028.4,-1187.85 1017.82,-1187.24 1025.71,-1194.31 1028.4,-1187.85\"/>\r\n",
       "<text text-anchor=\"middle\" x=\"1027.34\" y=\"-1206.65\" font-family=\"Times New Roman,serif\" font-size=\"14.00\">True</text>\r\n",
       "</g>\r\n",
       "<!-- 68 -->\r\n",
       "<g id=\"node69\" class=\"node\"><title>68</title>\r\n",
       "<polygon fill=\"none\" stroke=\"black\" points=\"1512,-1197 1394,-1197 1394,-1129 1512,-1129 1512,-1197\"/>\r\n",
       "<text text-anchor=\"middle\" x=\"1453\" y=\"-1181.8\" font-family=\"Times New Roman,serif\" font-size=\"14.00\">X[15] &lt;= &#45;0.334</text>\r\n",
       "<text text-anchor=\"middle\" x=\"1453\" y=\"-1166.8\" font-family=\"Times New Roman,serif\" font-size=\"14.00\">gini = 0.426</text>\r\n",
       "<text text-anchor=\"middle\" x=\"1453\" y=\"-1151.8\" font-family=\"Times New Roman,serif\" font-size=\"14.00\">samples = 501</text>\r\n",
       "<text text-anchor=\"middle\" x=\"1453\" y=\"-1136.8\" font-family=\"Times New Roman,serif\" font-size=\"14.00\">value = [347, 154]</text>\r\n",
       "</g>\r\n",
       "<!-- 0&#45;&gt;68 -->\r\n",
       "<g id=\"edge68\" class=\"edge\"><title>0&#45;&gt;68</title>\r\n",
       "<path fill=\"none\" stroke=\"black\" d=\"M1266.24,-1241.44C1301.89,-1226.66 1347.41,-1207.78 1384.59,-1192.36\"/>\r\n",
       "<polygon fill=\"black\" stroke=\"black\" points=\"1385.96,-1195.59 1393.85,-1188.52 1383.27,-1189.12 1385.96,-1195.59\"/>\r\n",
       "<text text-anchor=\"middle\" x=\"1384.29\" y=\"-1207.93\" font-family=\"Times New Roman,serif\" font-size=\"14.00\">False</text>\r\n",
       "</g>\r\n",
       "<!-- 2 -->\r\n",
       "<g id=\"node3\" class=\"node\"><title>2</title>\r\n",
       "<polygon fill=\"none\" stroke=\"black\" points=\"782,-1093 674,-1093 674,-1025 782,-1025 782,-1093\"/>\r\n",
       "<text text-anchor=\"middle\" x=\"728\" y=\"-1077.8\" font-family=\"Times New Roman,serif\" font-size=\"14.00\">X[10] &lt;= &#45;0.877</text>\r\n",
       "<text text-anchor=\"middle\" x=\"728\" y=\"-1062.8\" font-family=\"Times New Roman,serif\" font-size=\"14.00\">gini = 0.495</text>\r\n",
       "<text text-anchor=\"middle\" x=\"728\" y=\"-1047.8\" font-family=\"Times New Roman,serif\" font-size=\"14.00\">samples = 29</text>\r\n",
       "<text text-anchor=\"middle\" x=\"728\" y=\"-1032.8\" font-family=\"Times New Roman,serif\" font-size=\"14.00\">value = [13, 16]</text>\r\n",
       "</g>\r\n",
       "<!-- 1&#45;&gt;2 -->\r\n",
       "<g id=\"edge2\" class=\"edge\"><title>1&#45;&gt;2</title>\r\n",
       "<path fill=\"none\" stroke=\"black\" d=\"M906.248,-1137.7C871.751,-1122.66 827.36,-1103.31 791.508,-1087.68\"/>\r\n",
       "<polygon fill=\"black\" stroke=\"black\" points=\"792.68,-1084.38 782.115,-1083.59 789.883,-1090.79 792.68,-1084.38\"/>\r\n",
       "</g>\r\n",
       "<!-- 9 -->\r\n",
       "<g id=\"node10\" class=\"node\"><title>9</title>\r\n",
       "<polygon fill=\"none\" stroke=\"black\" points=\"1017.5,-1093 906.5,-1093 906.5,-1025 1017.5,-1025 1017.5,-1093\"/>\r\n",
       "<text text-anchor=\"middle\" x=\"962\" y=\"-1077.8\" font-family=\"Times New Roman,serif\" font-size=\"14.00\">X[7] &lt;= 1.453</text>\r\n",
       "<text text-anchor=\"middle\" x=\"962\" y=\"-1062.8\" font-family=\"Times New Roman,serif\" font-size=\"14.00\">gini = 0.231</text>\r\n",
       "<text text-anchor=\"middle\" x=\"962\" y=\"-1047.8\" font-family=\"Times New Roman,serif\" font-size=\"14.00\">samples = 270</text>\r\n",
       "<text text-anchor=\"middle\" x=\"962\" y=\"-1032.8\" font-family=\"Times New Roman,serif\" font-size=\"14.00\">value = [36, 234]</text>\r\n",
       "</g>\r\n",
       "<!-- 1&#45;&gt;9 -->\r\n",
       "<g id=\"edge9\" class=\"edge\"><title>1&#45;&gt;9</title>\r\n",
       "<path fill=\"none\" stroke=\"black\" d=\"M962,-1128.88C962,-1120.78 962,-1111.98 962,-1103.47\"/>\r\n",
       "<polygon fill=\"black\" stroke=\"black\" points=\"965.5,-1103.3 962,-1093.3 958.5,-1103.3 965.5,-1103.3\"/>\r\n",
       "</g>\r\n",
       "<!-- 3 -->\r\n",
       "<g id=\"node4\" class=\"node\"><title>3</title>\r\n",
       "<polygon fill=\"none\" stroke=\"black\" points=\"633.5,-989 532.5,-989 532.5,-921 633.5,-921 633.5,-989\"/>\r\n",
       "<text text-anchor=\"middle\" x=\"583\" y=\"-973.8\" font-family=\"Times New Roman,serif\" font-size=\"14.00\">X[9] &lt;= &#45;0.533</text>\r\n",
       "<text text-anchor=\"middle\" x=\"583\" y=\"-958.8\" font-family=\"Times New Roman,serif\" font-size=\"14.00\">gini = 0.305</text>\r\n",
       "<text text-anchor=\"middle\" x=\"583\" y=\"-943.8\" font-family=\"Times New Roman,serif\" font-size=\"14.00\">samples = 16</text>\r\n",
       "<text text-anchor=\"middle\" x=\"583\" y=\"-928.8\" font-family=\"Times New Roman,serif\" font-size=\"14.00\">value = [13, 3]</text>\r\n",
       "</g>\r\n",
       "<!-- 2&#45;&gt;3 -->\r\n",
       "<g id=\"edge3\" class=\"edge\"><title>2&#45;&gt;3</title>\r\n",
       "<path fill=\"none\" stroke=\"black\" d=\"M680.923,-1024.88C667.5,-1015.44 652.747,-1005.06 638.856,-995.292\"/>\r\n",
       "<polygon fill=\"black\" stroke=\"black\" points=\"640.53,-992.19 630.337,-989.299 636.503,-997.916 640.53,-992.19\"/>\r\n",
       "</g>\r\n",
       "<!-- 8 -->\r\n",
       "<g id=\"node9\" class=\"node\"><title>8</title>\r\n",
       "<polygon fill=\"none\" stroke=\"black\" points=\"777,-981.5 679,-981.5 679,-928.5 777,-928.5 777,-981.5\"/>\r\n",
       "<text text-anchor=\"middle\" x=\"728\" y=\"-966.3\" font-family=\"Times New Roman,serif\" font-size=\"14.00\">gini = 0.0</text>\r\n",
       "<text text-anchor=\"middle\" x=\"728\" y=\"-951.3\" font-family=\"Times New Roman,serif\" font-size=\"14.00\">samples = 13</text>\r\n",
       "<text text-anchor=\"middle\" x=\"728\" y=\"-936.3\" font-family=\"Times New Roman,serif\" font-size=\"14.00\">value = [0, 13]</text>\r\n",
       "</g>\r\n",
       "<!-- 2&#45;&gt;8 -->\r\n",
       "<g id=\"edge8\" class=\"edge\"><title>2&#45;&gt;8</title>\r\n",
       "<path fill=\"none\" stroke=\"black\" d=\"M728,-1024.88C728,-1014.33 728,-1002.6 728,-991.854\"/>\r\n",
       "<polygon fill=\"black\" stroke=\"black\" points=\"731.5,-991.52 728,-981.52 724.5,-991.52 731.5,-991.52\"/>\r\n",
       "</g>\r\n",
       "<!-- 4 -->\r\n",
       "<g id=\"node5\" class=\"node\"><title>4</title>\r\n",
       "<polygon fill=\"none\" stroke=\"black\" points=\"512.5,-885 421.5,-885 421.5,-817 512.5,-817 512.5,-885\"/>\r\n",
       "<text text-anchor=\"middle\" x=\"467\" y=\"-869.8\" font-family=\"Times New Roman,serif\" font-size=\"14.00\">X[18] &lt;= 2.4</text>\r\n",
       "<text text-anchor=\"middle\" x=\"467\" y=\"-854.8\" font-family=\"Times New Roman,serif\" font-size=\"14.00\">gini = 0.375</text>\r\n",
       "<text text-anchor=\"middle\" x=\"467\" y=\"-839.8\" font-family=\"Times New Roman,serif\" font-size=\"14.00\">samples = 4</text>\r\n",
       "<text text-anchor=\"middle\" x=\"467\" y=\"-824.8\" font-family=\"Times New Roman,serif\" font-size=\"14.00\">value = [1, 3]</text>\r\n",
       "</g>\r\n",
       "<!-- 3&#45;&gt;4 -->\r\n",
       "<g id=\"edge4\" class=\"edge\"><title>3&#45;&gt;4</title>\r\n",
       "<path fill=\"none\" stroke=\"black\" d=\"M545.338,-920.884C534.904,-911.709 523.465,-901.65 512.63,-892.123\"/>\r\n",
       "<polygon fill=\"black\" stroke=\"black\" points=\"514.691,-889.274 504.87,-885.299 510.068,-894.531 514.691,-889.274\"/>\r\n",
       "</g>\r\n",
       "<!-- 7 -->\r\n",
       "<g id=\"node8\" class=\"node\"><title>7</title>\r\n",
       "<polygon fill=\"none\" stroke=\"black\" points=\"632,-877.5 534,-877.5 534,-824.5 632,-824.5 632,-877.5\"/>\r\n",
       "<text text-anchor=\"middle\" x=\"583\" y=\"-862.3\" font-family=\"Times New Roman,serif\" font-size=\"14.00\">gini = 0.0</text>\r\n",
       "<text text-anchor=\"middle\" x=\"583\" y=\"-847.3\" font-family=\"Times New Roman,serif\" font-size=\"14.00\">samples = 12</text>\r\n",
       "<text text-anchor=\"middle\" x=\"583\" y=\"-832.3\" font-family=\"Times New Roman,serif\" font-size=\"14.00\">value = [12, 0]</text>\r\n",
       "</g>\r\n",
       "<!-- 3&#45;&gt;7 -->\r\n",
       "<g id=\"edge7\" class=\"edge\"><title>3&#45;&gt;7</title>\r\n",
       "<path fill=\"none\" stroke=\"black\" d=\"M583,-920.884C583,-910.326 583,-898.597 583,-887.854\"/>\r\n",
       "<polygon fill=\"black\" stroke=\"black\" points=\"586.5,-887.52 583,-877.52 579.5,-887.52 586.5,-887.52\"/>\r\n",
       "</g>\r\n",
       "<!-- 5 -->\r\n",
       "<g id=\"node6\" class=\"node\"><title>5</title>\r\n",
       "<polygon fill=\"none\" stroke=\"black\" points=\"403.5,-773.5 312.5,-773.5 312.5,-720.5 403.5,-720.5 403.5,-773.5\"/>\r\n",
       "<text text-anchor=\"middle\" x=\"358\" y=\"-758.3\" font-family=\"Times New Roman,serif\" font-size=\"14.00\">gini = 0.0</text>\r\n",
       "<text text-anchor=\"middle\" x=\"358\" y=\"-743.3\" font-family=\"Times New Roman,serif\" font-size=\"14.00\">samples = 3</text>\r\n",
       "<text text-anchor=\"middle\" x=\"358\" y=\"-728.3\" font-family=\"Times New Roman,serif\" font-size=\"14.00\">value = [0, 3]</text>\r\n",
       "</g>\r\n",
       "<!-- 4&#45;&gt;5 -->\r\n",
       "<g id=\"edge5\" class=\"edge\"><title>4&#45;&gt;5</title>\r\n",
       "<path fill=\"none\" stroke=\"black\" d=\"M431.611,-816.884C419.153,-805.226 405.17,-792.141 392.764,-780.532\"/>\r\n",
       "<polygon fill=\"black\" stroke=\"black\" points=\"394.964,-777.797 385.271,-773.52 390.181,-782.908 394.964,-777.797\"/>\r\n",
       "</g>\r\n",
       "<!-- 6 -->\r\n",
       "<g id=\"node7\" class=\"node\"><title>6</title>\r\n",
       "<polygon fill=\"none\" stroke=\"black\" points=\"512.5,-773.5 421.5,-773.5 421.5,-720.5 512.5,-720.5 512.5,-773.5\"/>\r\n",
       "<text text-anchor=\"middle\" x=\"467\" y=\"-758.3\" font-family=\"Times New Roman,serif\" font-size=\"14.00\">gini = 0.0</text>\r\n",
       "<text text-anchor=\"middle\" x=\"467\" y=\"-743.3\" font-family=\"Times New Roman,serif\" font-size=\"14.00\">samples = 1</text>\r\n",
       "<text text-anchor=\"middle\" x=\"467\" y=\"-728.3\" font-family=\"Times New Roman,serif\" font-size=\"14.00\">value = [1, 0]</text>\r\n",
       "</g>\r\n",
       "<!-- 4&#45;&gt;6 -->\r\n",
       "<g id=\"edge6\" class=\"edge\"><title>4&#45;&gt;6</title>\r\n",
       "<path fill=\"none\" stroke=\"black\" d=\"M467,-816.884C467,-806.326 467,-794.597 467,-783.854\"/>\r\n",
       "<polygon fill=\"black\" stroke=\"black\" points=\"470.5,-783.52 467,-773.52 463.5,-783.52 470.5,-783.52\"/>\r\n",
       "</g>\r\n",
       "<!-- 10 -->\r\n",
       "<g id=\"node11\" class=\"node\"><title>10</title>\r\n",
       "<polygon fill=\"none\" stroke=\"black\" points=\"934.5,-989 823.5,-989 823.5,-921 934.5,-921 934.5,-989\"/>\r\n",
       "<text text-anchor=\"middle\" x=\"879\" y=\"-973.8\" font-family=\"Times New Roman,serif\" font-size=\"14.00\">X[12] &lt;= 4.081</text>\r\n",
       "<text text-anchor=\"middle\" x=\"879\" y=\"-958.8\" font-family=\"Times New Roman,serif\" font-size=\"14.00\">gini = 0.206</text>\r\n",
       "<text text-anchor=\"middle\" x=\"879\" y=\"-943.8\" font-family=\"Times New Roman,serif\" font-size=\"14.00\">samples = 258</text>\r\n",
       "<text text-anchor=\"middle\" x=\"879\" y=\"-928.8\" font-family=\"Times New Roman,serif\" font-size=\"14.00\">value = [30, 228]</text>\r\n",
       "</g>\r\n",
       "<!-- 9&#45;&gt;10 -->\r\n",
       "<g id=\"edge10\" class=\"edge\"><title>9&#45;&gt;10</title>\r\n",
       "<path fill=\"none\" stroke=\"black\" d=\"M935.052,-1024.88C927.877,-1016.07 920.036,-1006.43 912.554,-997.235\"/>\r\n",
       "<polygon fill=\"black\" stroke=\"black\" points=\"915.123,-994.847 906.097,-989.299 909.693,-999.265 915.123,-994.847\"/>\r\n",
       "</g>\r\n",
       "<!-- 63 -->\r\n",
       "<g id=\"node64\" class=\"node\"><title>63</title>\r\n",
       "<polygon fill=\"none\" stroke=\"black\" points=\"1092.5,-989 997.5,-989 997.5,-921 1092.5,-921 1092.5,-989\"/>\r\n",
       "<text text-anchor=\"middle\" x=\"1045\" y=\"-973.8\" font-family=\"Times New Roman,serif\" font-size=\"14.00\">X[2] &lt;= &#45;0.15</text>\r\n",
       "<text text-anchor=\"middle\" x=\"1045\" y=\"-958.8\" font-family=\"Times New Roman,serif\" font-size=\"14.00\">gini = 0.5</text>\r\n",
       "<text text-anchor=\"middle\" x=\"1045\" y=\"-943.8\" font-family=\"Times New Roman,serif\" font-size=\"14.00\">samples = 12</text>\r\n",
       "<text text-anchor=\"middle\" x=\"1045\" y=\"-928.8\" font-family=\"Times New Roman,serif\" font-size=\"14.00\">value = [6, 6]</text>\r\n",
       "</g>\r\n",
       "<!-- 9&#45;&gt;63 -->\r\n",
       "<g id=\"edge63\" class=\"edge\"><title>9&#45;&gt;63</title>\r\n",
       "<path fill=\"none\" stroke=\"black\" d=\"M988.948,-1024.88C996.123,-1016.07 1003.96,-1006.43 1011.45,-997.235\"/>\r\n",
       "<polygon fill=\"black\" stroke=\"black\" points=\"1014.31,-999.265 1017.9,-989.299 1008.88,-994.847 1014.31,-999.265\"/>\r\n",
       "</g>\r\n",
       "<!-- 11 -->\r\n",
       "<g id=\"node12\" class=\"node\"><title>11</title>\r\n",
       "<polygon fill=\"none\" stroke=\"black\" points=\"764.5,-885 653.5,-885 653.5,-817 764.5,-817 764.5,-885\"/>\r\n",
       "<text text-anchor=\"middle\" x=\"709\" y=\"-869.8\" font-family=\"Times New Roman,serif\" font-size=\"14.00\">X[5] &lt;= &#45;2.418</text>\r\n",
       "<text text-anchor=\"middle\" x=\"709\" y=\"-854.8\" font-family=\"Times New Roman,serif\" font-size=\"14.00\">gini = 0.19</text>\r\n",
       "<text text-anchor=\"middle\" x=\"709\" y=\"-839.8\" font-family=\"Times New Roman,serif\" font-size=\"14.00\">samples = 254</text>\r\n",
       "<text text-anchor=\"middle\" x=\"709\" y=\"-824.8\" font-family=\"Times New Roman,serif\" font-size=\"14.00\">value = [27, 227]</text>\r\n",
       "</g>\r\n",
       "<!-- 10&#45;&gt;11 -->\r\n",
       "<g id=\"edge11\" class=\"edge\"><title>10&#45;&gt;11</title>\r\n",
       "<path fill=\"none\" stroke=\"black\" d=\"M823.806,-920.884C807.542,-911.125 789.61,-900.366 772.85,-890.31\"/>\r\n",
       "<polygon fill=\"black\" stroke=\"black\" points=\"774.584,-887.269 764.208,-885.125 770.982,-893.271 774.584,-887.269\"/>\r\n",
       "</g>\r\n",
       "<!-- 60 -->\r\n",
       "<g id=\"node61\" class=\"node\"><title>60</title>\r\n",
       "<polygon fill=\"none\" stroke=\"black\" points=\"933,-885 825,-885 825,-817 933,-817 933,-885\"/>\r\n",
       "<text text-anchor=\"middle\" x=\"879\" y=\"-869.8\" font-family=\"Times New Roman,serif\" font-size=\"14.00\">X[13] &lt;= &#45;5.953</text>\r\n",
       "<text text-anchor=\"middle\" x=\"879\" y=\"-854.8\" font-family=\"Times New Roman,serif\" font-size=\"14.00\">gini = 0.375</text>\r\n",
       "<text text-anchor=\"middle\" x=\"879\" y=\"-839.8\" font-family=\"Times New Roman,serif\" font-size=\"14.00\">samples = 4</text>\r\n",
       "<text text-anchor=\"middle\" x=\"879\" y=\"-824.8\" font-family=\"Times New Roman,serif\" font-size=\"14.00\">value = [3, 1]</text>\r\n",
       "</g>\r\n",
       "<!-- 10&#45;&gt;60 -->\r\n",
       "<g id=\"edge60\" class=\"edge\"><title>10&#45;&gt;60</title>\r\n",
       "<path fill=\"none\" stroke=\"black\" d=\"M879,-920.884C879,-912.778 879,-903.982 879,-895.472\"/>\r\n",
       "<polygon fill=\"black\" stroke=\"black\" points=\"882.5,-895.299 879,-885.299 875.5,-895.299 882.5,-895.299\"/>\r\n",
       "</g>\r\n",
       "<!-- 12 -->\r\n",
       "<g id=\"node13\" class=\"node\"><title>12</title>\r\n",
       "<polygon fill=\"none\" stroke=\"black\" points=\"635,-781 531,-781 531,-713 635,-713 635,-781\"/>\r\n",
       "<text text-anchor=\"middle\" x=\"583\" y=\"-765.8\" font-family=\"Times New Roman,serif\" font-size=\"14.00\">X[14] &lt;= 0.437</text>\r\n",
       "<text text-anchor=\"middle\" x=\"583\" y=\"-750.8\" font-family=\"Times New Roman,serif\" font-size=\"14.00\">gini = 0.375</text>\r\n",
       "<text text-anchor=\"middle\" x=\"583\" y=\"-735.8\" font-family=\"Times New Roman,serif\" font-size=\"14.00\">samples = 4</text>\r\n",
       "<text text-anchor=\"middle\" x=\"583\" y=\"-720.8\" font-family=\"Times New Roman,serif\" font-size=\"14.00\">value = [3, 1]</text>\r\n",
       "</g>\r\n",
       "<!-- 11&#45;&gt;12 -->\r\n",
       "<g id=\"edge12\" class=\"edge\"><title>11&#45;&gt;12</title>\r\n",
       "<path fill=\"none\" stroke=\"black\" d=\"M668.091,-816.884C656.648,-807.62 644.091,-797.455 632.221,-787.845\"/>\r\n",
       "<polygon fill=\"black\" stroke=\"black\" points=\"634.109,-784.871 624.135,-781.299 629.705,-790.312 634.109,-784.871\"/>\r\n",
       "</g>\r\n",
       "<!-- 15 -->\r\n",
       "<g id=\"node16\" class=\"node\"><title>15</title>\r\n",
       "<polygon fill=\"none\" stroke=\"black\" points=\"764.5,-781 653.5,-781 653.5,-713 764.5,-713 764.5,-781\"/>\r\n",
       "<text text-anchor=\"middle\" x=\"709\" y=\"-765.8\" font-family=\"Times New Roman,serif\" font-size=\"14.00\">X[3] &lt;= &#45;1.124</text>\r\n",
       "<text text-anchor=\"middle\" x=\"709\" y=\"-750.8\" font-family=\"Times New Roman,serif\" font-size=\"14.00\">gini = 0.174</text>\r\n",
       "<text text-anchor=\"middle\" x=\"709\" y=\"-735.8\" font-family=\"Times New Roman,serif\" font-size=\"14.00\">samples = 250</text>\r\n",
       "<text text-anchor=\"middle\" x=\"709\" y=\"-720.8\" font-family=\"Times New Roman,serif\" font-size=\"14.00\">value = [24, 226]</text>\r\n",
       "</g>\r\n",
       "<!-- 11&#45;&gt;15 -->\r\n",
       "<g id=\"edge15\" class=\"edge\"><title>11&#45;&gt;15</title>\r\n",
       "<path fill=\"none\" stroke=\"black\" d=\"M709,-816.884C709,-808.778 709,-799.982 709,-791.472\"/>\r\n",
       "<polygon fill=\"black\" stroke=\"black\" points=\"712.5,-791.299 709,-781.299 705.5,-791.299 712.5,-791.299\"/>\r\n",
       "</g>\r\n",
       "<!-- 13 -->\r\n",
       "<g id=\"node14\" class=\"node\"><title>13</title>\r\n",
       "<polygon fill=\"none\" stroke=\"black\" points=\"521.5,-669.5 430.5,-669.5 430.5,-616.5 521.5,-616.5 521.5,-669.5\"/>\r\n",
       "<text text-anchor=\"middle\" x=\"476\" y=\"-654.3\" font-family=\"Times New Roman,serif\" font-size=\"14.00\">gini = 0.0</text>\r\n",
       "<text text-anchor=\"middle\" x=\"476\" y=\"-639.3\" font-family=\"Times New Roman,serif\" font-size=\"14.00\">samples = 3</text>\r\n",
       "<text text-anchor=\"middle\" x=\"476\" y=\"-624.3\" font-family=\"Times New Roman,serif\" font-size=\"14.00\">value = [3, 0]</text>\r\n",
       "</g>\r\n",
       "<!-- 12&#45;&gt;13 -->\r\n",
       "<g id=\"edge13\" class=\"edge\"><title>12&#45;&gt;13</title>\r\n",
       "<path fill=\"none\" stroke=\"black\" d=\"M548.26,-712.884C536.031,-701.226 522.304,-688.141 510.126,-676.532\"/>\r\n",
       "<polygon fill=\"black\" stroke=\"black\" points=\"512.424,-673.887 502.771,-669.52 507.594,-678.953 512.424,-673.887\"/>\r\n",
       "</g>\r\n",
       "<!-- 14 -->\r\n",
       "<g id=\"node15\" class=\"node\"><title>14</title>\r\n",
       "<polygon fill=\"none\" stroke=\"black\" points=\"630.5,-669.5 539.5,-669.5 539.5,-616.5 630.5,-616.5 630.5,-669.5\"/>\r\n",
       "<text text-anchor=\"middle\" x=\"585\" y=\"-654.3\" font-family=\"Times New Roman,serif\" font-size=\"14.00\">gini = 0.0</text>\r\n",
       "<text text-anchor=\"middle\" x=\"585\" y=\"-639.3\" font-family=\"Times New Roman,serif\" font-size=\"14.00\">samples = 1</text>\r\n",
       "<text text-anchor=\"middle\" x=\"585\" y=\"-624.3\" font-family=\"Times New Roman,serif\" font-size=\"14.00\">value = [0, 1]</text>\r\n",
       "</g>\r\n",
       "<!-- 12&#45;&gt;14 -->\r\n",
       "<g id=\"edge14\" class=\"edge\"><title>12&#45;&gt;14</title>\r\n",
       "<path fill=\"none\" stroke=\"black\" d=\"M583.649,-712.884C583.859,-702.216 584.091,-690.352 584.304,-679.519\"/>\r\n",
       "<polygon fill=\"black\" stroke=\"black\" points=\"587.803,-679.587 584.5,-669.52 580.804,-679.449 587.803,-679.587\"/>\r\n",
       "</g>\r\n",
       "<!-- 16 -->\r\n",
       "<g id=\"node17\" class=\"node\"><title>16</title>\r\n",
       "<polygon fill=\"none\" stroke=\"black\" points=\"756,-677 652,-677 652,-609 756,-609 756,-677\"/>\r\n",
       "<text text-anchor=\"middle\" x=\"704\" y=\"-661.8\" font-family=\"Times New Roman,serif\" font-size=\"14.00\">X[9] &lt;= 1.74</text>\r\n",
       "<text text-anchor=\"middle\" x=\"704\" y=\"-646.8\" font-family=\"Times New Roman,serif\" font-size=\"14.00\">gini = 0.094</text>\r\n",
       "<text text-anchor=\"middle\" x=\"704\" y=\"-631.8\" font-family=\"Times New Roman,serif\" font-size=\"14.00\">samples = 183</text>\r\n",
       "<text text-anchor=\"middle\" x=\"704\" y=\"-616.8\" font-family=\"Times New Roman,serif\" font-size=\"14.00\">value = [9, 174]</text>\r\n",
       "</g>\r\n",
       "<!-- 15&#45;&gt;16 -->\r\n",
       "<g id=\"edge16\" class=\"edge\"><title>15&#45;&gt;16</title>\r\n",
       "<path fill=\"none\" stroke=\"black\" d=\"M707.377,-712.884C706.979,-704.778 706.548,-695.982 706.131,-687.472\"/>\r\n",
       "<polygon fill=\"black\" stroke=\"black\" points=\"709.618,-687.116 705.632,-677.299 702.626,-687.459 709.618,-687.116\"/>\r\n",
       "</g>\r\n",
       "<!-- 41 -->\r\n",
       "<g id=\"node42\" class=\"node\"><title>41</title>\r\n",
       "<polygon fill=\"none\" stroke=\"black\" points=\"898,-677 790,-677 790,-609 898,-609 898,-677\"/>\r\n",
       "<text text-anchor=\"middle\" x=\"844\" y=\"-661.8\" font-family=\"Times New Roman,serif\" font-size=\"14.00\">X[13] &lt;= &#45;2.806</text>\r\n",
       "<text text-anchor=\"middle\" x=\"844\" y=\"-646.8\" font-family=\"Times New Roman,serif\" font-size=\"14.00\">gini = 0.348</text>\r\n",
       "<text text-anchor=\"middle\" x=\"844\" y=\"-631.8\" font-family=\"Times New Roman,serif\" font-size=\"14.00\">samples = 67</text>\r\n",
       "<text text-anchor=\"middle\" x=\"844\" y=\"-616.8\" font-family=\"Times New Roman,serif\" font-size=\"14.00\">value = [15, 52]</text>\r\n",
       "</g>\r\n",
       "<!-- 15&#45;&gt;41 -->\r\n",
       "<g id=\"edge41\" class=\"edge\"><title>15&#45;&gt;41</title>\r\n",
       "<path fill=\"none\" stroke=\"black\" d=\"M752.831,-712.884C765.209,-703.531 778.804,-693.259 791.63,-683.568\"/>\r\n",
       "<polygon fill=\"black\" stroke=\"black\" points=\"794.059,-686.12 799.927,-677.299 789.839,-680.535 794.059,-686.12\"/>\r\n",
       "</g>\r\n",
       "<!-- 17 -->\r\n",
       "<g id=\"node18\" class=\"node\"><title>17</title>\r\n",
       "<polygon fill=\"none\" stroke=\"black\" points=\"602,-573 498,-573 498,-505 602,-505 602,-573\"/>\r\n",
       "<text text-anchor=\"middle\" x=\"550\" y=\"-557.8\" font-family=\"Times New Roman,serif\" font-size=\"14.00\">X[5] &lt;= 1.932</text>\r\n",
       "<text text-anchor=\"middle\" x=\"550\" y=\"-542.8\" font-family=\"Times New Roman,serif\" font-size=\"14.00\">gini = 0.057</text>\r\n",
       "<text text-anchor=\"middle\" x=\"550\" y=\"-527.8\" font-family=\"Times New Roman,serif\" font-size=\"14.00\">samples = 169</text>\r\n",
       "<text text-anchor=\"middle\" x=\"550\" y=\"-512.8\" font-family=\"Times New Roman,serif\" font-size=\"14.00\">value = [5, 164]</text>\r\n",
       "</g>\r\n",
       "<!-- 16&#45;&gt;17 -->\r\n",
       "<g id=\"edge17\" class=\"edge\"><title>16&#45;&gt;17</title>\r\n",
       "<path fill=\"none\" stroke=\"black\" d=\"M654.001,-608.884C639.537,-599.304 623.619,-588.761 608.678,-578.864\"/>\r\n",
       "<polygon fill=\"black\" stroke=\"black\" points=\"610.282,-575.729 600.012,-573.125 606.416,-581.565 610.282,-575.729\"/>\r\n",
       "</g>\r\n",
       "<!-- 36 -->\r\n",
       "<g id=\"node37\" class=\"node\"><title>36</title>\r\n",
       "<polygon fill=\"none\" stroke=\"black\" points=\"756,-573 652,-573 652,-505 756,-505 756,-573\"/>\r\n",
       "<text text-anchor=\"middle\" x=\"704\" y=\"-557.8\" font-family=\"Times New Roman,serif\" font-size=\"14.00\">X[17] &lt;= 0.704</text>\r\n",
       "<text text-anchor=\"middle\" x=\"704\" y=\"-542.8\" font-family=\"Times New Roman,serif\" font-size=\"14.00\">gini = 0.408</text>\r\n",
       "<text text-anchor=\"middle\" x=\"704\" y=\"-527.8\" font-family=\"Times New Roman,serif\" font-size=\"14.00\">samples = 14</text>\r\n",
       "<text text-anchor=\"middle\" x=\"704\" y=\"-512.8\" font-family=\"Times New Roman,serif\" font-size=\"14.00\">value = [4, 10]</text>\r\n",
       "</g>\r\n",
       "<!-- 16&#45;&gt;36 -->\r\n",
       "<g id=\"edge36\" class=\"edge\"><title>16&#45;&gt;36</title>\r\n",
       "<path fill=\"none\" stroke=\"black\" d=\"M704,-608.884C704,-600.778 704,-591.982 704,-583.472\"/>\r\n",
       "<polygon fill=\"black\" stroke=\"black\" points=\"707.5,-583.299 704,-573.299 700.5,-583.299 707.5,-583.299\"/>\r\n",
       "</g>\r\n",
       "<!-- 18 -->\r\n",
       "<g id=\"node19\" class=\"node\"><title>18</title>\r\n",
       "<polygon fill=\"none\" stroke=\"black\" points=\"464,-469 360,-469 360,-401 464,-401 464,-469\"/>\r\n",
       "<text text-anchor=\"middle\" x=\"412\" y=\"-453.8\" font-family=\"Times New Roman,serif\" font-size=\"14.00\">X[0] &lt;= 2.226</text>\r\n",
       "<text text-anchor=\"middle\" x=\"412\" y=\"-438.8\" font-family=\"Times New Roman,serif\" font-size=\"14.00\">gini = 0.047</text>\r\n",
       "<text text-anchor=\"middle\" x=\"412\" y=\"-423.8\" font-family=\"Times New Roman,serif\" font-size=\"14.00\">samples = 167</text>\r\n",
       "<text text-anchor=\"middle\" x=\"412\" y=\"-408.8\" font-family=\"Times New Roman,serif\" font-size=\"14.00\">value = [4, 163]</text>\r\n",
       "</g>\r\n",
       "<!-- 17&#45;&gt;18 -->\r\n",
       "<g id=\"edge18\" class=\"edge\"><title>17&#45;&gt;18</title>\r\n",
       "<path fill=\"none\" stroke=\"black\" d=\"M505.195,-504.884C492.421,-495.442 478.38,-485.064 465.159,-475.292\"/>\r\n",
       "<polygon fill=\"black\" stroke=\"black\" points=\"467.174,-472.429 457.052,-469.299 463.013,-478.058 467.174,-472.429\"/>\r\n",
       "</g>\r\n",
       "<!-- 33 -->\r\n",
       "<g id=\"node34\" class=\"node\"><title>33</title>\r\n",
       "<polygon fill=\"none\" stroke=\"black\" points=\"602,-469 498,-469 498,-401 602,-401 602,-469\"/>\r\n",
       "<text text-anchor=\"middle\" x=\"550\" y=\"-453.8\" font-family=\"Times New Roman,serif\" font-size=\"14.00\">X[15] &lt;= 1.558</text>\r\n",
       "<text text-anchor=\"middle\" x=\"550\" y=\"-438.8\" font-family=\"Times New Roman,serif\" font-size=\"14.00\">gini = 0.5</text>\r\n",
       "<text text-anchor=\"middle\" x=\"550\" y=\"-423.8\" font-family=\"Times New Roman,serif\" font-size=\"14.00\">samples = 2</text>\r\n",
       "<text text-anchor=\"middle\" x=\"550\" y=\"-408.8\" font-family=\"Times New Roman,serif\" font-size=\"14.00\">value = [1, 1]</text>\r\n",
       "</g>\r\n",
       "<!-- 17&#45;&gt;33 -->\r\n",
       "<g id=\"edge33\" class=\"edge\"><title>17&#45;&gt;33</title>\r\n",
       "<path fill=\"none\" stroke=\"black\" d=\"M550,-504.884C550,-496.778 550,-487.982 550,-479.472\"/>\r\n",
       "<polygon fill=\"black\" stroke=\"black\" points=\"553.5,-479.299 550,-469.299 546.5,-479.299 553.5,-479.299\"/>\r\n",
       "</g>\r\n",
       "<!-- 19 -->\r\n",
       "<g id=\"node20\" class=\"node\"><title>19</title>\r\n",
       "<polygon fill=\"none\" stroke=\"black\" points=\"345,-365 241,-365 241,-297 345,-297 345,-365\"/>\r\n",
       "<text text-anchor=\"middle\" x=\"293\" y=\"-349.8\" font-family=\"Times New Roman,serif\" font-size=\"14.00\">X[15] &lt;= 1.292</text>\r\n",
       "<text text-anchor=\"middle\" x=\"293\" y=\"-334.8\" font-family=\"Times New Roman,serif\" font-size=\"14.00\">gini = 0.036</text>\r\n",
       "<text text-anchor=\"middle\" x=\"293\" y=\"-319.8\" font-family=\"Times New Roman,serif\" font-size=\"14.00\">samples = 165</text>\r\n",
       "<text text-anchor=\"middle\" x=\"293\" y=\"-304.8\" font-family=\"Times New Roman,serif\" font-size=\"14.00\">value = [3, 162]</text>\r\n",
       "</g>\r\n",
       "<!-- 18&#45;&gt;19 -->\r\n",
       "<g id=\"edge19\" class=\"edge\"><title>18&#45;&gt;19</title>\r\n",
       "<path fill=\"none\" stroke=\"black\" d=\"M373.364,-400.884C362.556,-391.62 350.697,-381.455 339.486,-371.845\"/>\r\n",
       "<polygon fill=\"black\" stroke=\"black\" points=\"341.72,-369.15 331.849,-365.299 337.164,-374.465 341.72,-369.15\"/>\r\n",
       "</g>\r\n",
       "<!-- 30 -->\r\n",
       "<g id=\"node31\" class=\"node\"><title>30</title>\r\n",
       "<polygon fill=\"none\" stroke=\"black\" points=\"460.5,-365 363.5,-365 363.5,-297 460.5,-297 460.5,-365\"/>\r\n",
       "<text text-anchor=\"middle\" x=\"412\" y=\"-349.8\" font-family=\"Times New Roman,serif\" font-size=\"14.00\">X[1] &lt;= 1.472</text>\r\n",
       "<text text-anchor=\"middle\" x=\"412\" y=\"-334.8\" font-family=\"Times New Roman,serif\" font-size=\"14.00\">gini = 0.5</text>\r\n",
       "<text text-anchor=\"middle\" x=\"412\" y=\"-319.8\" font-family=\"Times New Roman,serif\" font-size=\"14.00\">samples = 2</text>\r\n",
       "<text text-anchor=\"middle\" x=\"412\" y=\"-304.8\" font-family=\"Times New Roman,serif\" font-size=\"14.00\">value = [1, 1]</text>\r\n",
       "</g>\r\n",
       "<!-- 18&#45;&gt;30 -->\r\n",
       "<g id=\"edge30\" class=\"edge\"><title>18&#45;&gt;30</title>\r\n",
       "<path fill=\"none\" stroke=\"black\" d=\"M412,-400.884C412,-392.778 412,-383.982 412,-375.472\"/>\r\n",
       "<polygon fill=\"black\" stroke=\"black\" points=\"415.5,-375.299 412,-365.299 408.5,-375.299 415.5,-375.299\"/>\r\n",
       "</g>\r\n",
       "<!-- 20 -->\r\n",
       "<g id=\"node21\" class=\"node\"><title>20</title>\r\n",
       "<polygon fill=\"none\" stroke=\"black\" points=\"226,-261 122,-261 122,-193 226,-193 226,-261\"/>\r\n",
       "<text text-anchor=\"middle\" x=\"174\" y=\"-245.8\" font-family=\"Times New Roman,serif\" font-size=\"14.00\">X[12] &lt;= 1.644</text>\r\n",
       "<text text-anchor=\"middle\" x=\"174\" y=\"-230.8\" font-family=\"Times New Roman,serif\" font-size=\"14.00\">gini = 0.014</text>\r\n",
       "<text text-anchor=\"middle\" x=\"174\" y=\"-215.8\" font-family=\"Times New Roman,serif\" font-size=\"14.00\">samples = 142</text>\r\n",
       "<text text-anchor=\"middle\" x=\"174\" y=\"-200.8\" font-family=\"Times New Roman,serif\" font-size=\"14.00\">value = [1, 141]</text>\r\n",
       "</g>\r\n",
       "<!-- 19&#45;&gt;20 -->\r\n",
       "<g id=\"edge20\" class=\"edge\"><title>19&#45;&gt;20</title>\r\n",
       "<path fill=\"none\" stroke=\"black\" d=\"M254.364,-296.884C243.556,-287.62 231.697,-277.455 220.486,-267.845\"/>\r\n",
       "<polygon fill=\"black\" stroke=\"black\" points=\"222.72,-265.15 212.849,-261.299 218.164,-270.465 222.72,-265.15\"/>\r\n",
       "</g>\r\n",
       "<!-- 25 -->\r\n",
       "<g id=\"node26\" class=\"node\"><title>25</title>\r\n",
       "<polygon fill=\"none\" stroke=\"black\" points=\"344,-261 246,-261 246,-193 344,-193 344,-261\"/>\r\n",
       "<text text-anchor=\"middle\" x=\"295\" y=\"-245.8\" font-family=\"Times New Roman,serif\" font-size=\"14.00\">X[4] &lt;= 1.576</text>\r\n",
       "<text text-anchor=\"middle\" x=\"295\" y=\"-230.8\" font-family=\"Times New Roman,serif\" font-size=\"14.00\">gini = 0.159</text>\r\n",
       "<text text-anchor=\"middle\" x=\"295\" y=\"-215.8\" font-family=\"Times New Roman,serif\" font-size=\"14.00\">samples = 23</text>\r\n",
       "<text text-anchor=\"middle\" x=\"295\" y=\"-200.8\" font-family=\"Times New Roman,serif\" font-size=\"14.00\">value = [2, 21]</text>\r\n",
       "</g>\r\n",
       "<!-- 19&#45;&gt;25 -->\r\n",
       "<g id=\"edge25\" class=\"edge\"><title>19&#45;&gt;25</title>\r\n",
       "<path fill=\"none\" stroke=\"black\" d=\"M293.649,-296.884C293.808,-288.778 293.981,-279.982 294.148,-271.472\"/>\r\n",
       "<polygon fill=\"black\" stroke=\"black\" points=\"297.65,-271.366 294.347,-261.299 290.652,-271.229 297.65,-271.366\"/>\r\n",
       "</g>\r\n",
       "<!-- 21 -->\r\n",
       "<g id=\"node22\" class=\"node\"><title>21</title>\r\n",
       "<polygon fill=\"none\" stroke=\"black\" points=\"104,-149.5 0,-149.5 0,-96.5 104,-96.5 104,-149.5\"/>\r\n",
       "<text text-anchor=\"middle\" x=\"52\" y=\"-134.3\" font-family=\"Times New Roman,serif\" font-size=\"14.00\">gini = 0.0</text>\r\n",
       "<text text-anchor=\"middle\" x=\"52\" y=\"-119.3\" font-family=\"Times New Roman,serif\" font-size=\"14.00\">samples = 126</text>\r\n",
       "<text text-anchor=\"middle\" x=\"52\" y=\"-104.3\" font-family=\"Times New Roman,serif\" font-size=\"14.00\">value = [0, 126]</text>\r\n",
       "</g>\r\n",
       "<!-- 20&#45;&gt;21 -->\r\n",
       "<g id=\"edge21\" class=\"edge\"><title>20&#45;&gt;21</title>\r\n",
       "<path fill=\"none\" stroke=\"black\" d=\"M134.39,-192.884C120.315,-181.116 104.5,-167.894 90.5177,-156.203\"/>\r\n",
       "<polygon fill=\"black\" stroke=\"black\" points=\"92.4407,-153.249 82.5238,-149.52 87.9508,-158.619 92.4407,-153.249\"/>\r\n",
       "</g>\r\n",
       "<!-- 22 -->\r\n",
       "<g id=\"node23\" class=\"node\"><title>22</title>\r\n",
       "<polygon fill=\"none\" stroke=\"black\" points=\"226,-157 122,-157 122,-89 226,-89 226,-157\"/>\r\n",
       "<text text-anchor=\"middle\" x=\"174\" y=\"-141.8\" font-family=\"Times New Roman,serif\" font-size=\"14.00\">X[17] &lt;= 0.822</text>\r\n",
       "<text text-anchor=\"middle\" x=\"174\" y=\"-126.8\" font-family=\"Times New Roman,serif\" font-size=\"14.00\">gini = 0.117</text>\r\n",
       "<text text-anchor=\"middle\" x=\"174\" y=\"-111.8\" font-family=\"Times New Roman,serif\" font-size=\"14.00\">samples = 16</text>\r\n",
       "<text text-anchor=\"middle\" x=\"174\" y=\"-96.8\" font-family=\"Times New Roman,serif\" font-size=\"14.00\">value = [1, 15]</text>\r\n",
       "</g>\r\n",
       "<!-- 20&#45;&gt;22 -->\r\n",
       "<g id=\"edge22\" class=\"edge\"><title>20&#45;&gt;22</title>\r\n",
       "<path fill=\"none\" stroke=\"black\" d=\"M174,-192.884C174,-184.778 174,-175.982 174,-167.472\"/>\r\n",
       "<polygon fill=\"black\" stroke=\"black\" points=\"177.5,-167.299 174,-157.299 170.5,-167.299 177.5,-167.299\"/>\r\n",
       "</g>\r\n",
       "<!-- 23 -->\r\n",
       "<g id=\"node24\" class=\"node\"><title>23</title>\r\n",
       "<polygon fill=\"none\" stroke=\"black\" points=\"113,-53 15,-53 15,-0 113,-0 113,-53\"/>\r\n",
       "<text text-anchor=\"middle\" x=\"64\" y=\"-37.8\" font-family=\"Times New Roman,serif\" font-size=\"14.00\">gini = 0.0</text>\r\n",
       "<text text-anchor=\"middle\" x=\"64\" y=\"-22.8\" font-family=\"Times New Roman,serif\" font-size=\"14.00\">samples = 15</text>\r\n",
       "<text text-anchor=\"middle\" x=\"64\" y=\"-7.8\" font-family=\"Times New Roman,serif\" font-size=\"14.00\">value = [0, 15]</text>\r\n",
       "</g>\r\n",
       "<!-- 22&#45;&gt;23 -->\r\n",
       "<g id=\"edge23\" class=\"edge\"><title>22&#45;&gt;23</title>\r\n",
       "<path fill=\"none\" stroke=\"black\" d=\"M135.527,-88.9485C124.559,-79.526 112.625,-69.2731 101.703,-59.8906\"/>\r\n",
       "<polygon fill=\"black\" stroke=\"black\" points=\"103.824,-57.0983 93.9581,-53.2367 99.2626,-62.408 103.824,-57.0983\"/>\r\n",
       "</g>\r\n",
       "<!-- 24 -->\r\n",
       "<g id=\"node25\" class=\"node\"><title>24</title>\r\n",
       "<polygon fill=\"none\" stroke=\"black\" points=\"222.5,-53 131.5,-53 131.5,-0 222.5,-0 222.5,-53\"/>\r\n",
       "<text text-anchor=\"middle\" x=\"177\" y=\"-37.8\" font-family=\"Times New Roman,serif\" font-size=\"14.00\">gini = 0.0</text>\r\n",
       "<text text-anchor=\"middle\" x=\"177\" y=\"-22.8\" font-family=\"Times New Roman,serif\" font-size=\"14.00\">samples = 1</text>\r\n",
       "<text text-anchor=\"middle\" x=\"177\" y=\"-7.8\" font-family=\"Times New Roman,serif\" font-size=\"14.00\">value = [1, 0]</text>\r\n",
       "</g>\r\n",
       "<!-- 22&#45;&gt;24 -->\r\n",
       "<g id=\"edge24\" class=\"edge\"><title>22&#45;&gt;24</title>\r\n",
       "<path fill=\"none\" stroke=\"black\" d=\"M175.049,-88.9485C175.311,-80.7153 175.592,-71.848 175.858,-63.4814\"/>\r\n",
       "<polygon fill=\"black\" stroke=\"black\" points=\"179.364,-63.3428 176.183,-53.2367 172.367,-63.1206 179.364,-63.3428\"/>\r\n",
       "</g>\r\n",
       "<!-- 26 -->\r\n",
       "<g id=\"node27\" class=\"node\"><title>26</title>\r\n",
       "<polygon fill=\"none\" stroke=\"black\" points=\"345.5,-157 244.5,-157 244.5,-89 345.5,-89 345.5,-157\"/>\r\n",
       "<text text-anchor=\"middle\" x=\"295\" y=\"-141.8\" font-family=\"Times New Roman,serif\" font-size=\"14.00\">X[3] &lt;= &#45;3.541</text>\r\n",
       "<text text-anchor=\"middle\" x=\"295\" y=\"-126.8\" font-family=\"Times New Roman,serif\" font-size=\"14.00\">gini = 0.087</text>\r\n",
       "<text text-anchor=\"middle\" x=\"295\" y=\"-111.8\" font-family=\"Times New Roman,serif\" font-size=\"14.00\">samples = 22</text>\r\n",
       "<text text-anchor=\"middle\" x=\"295\" y=\"-96.8\" font-family=\"Times New Roman,serif\" font-size=\"14.00\">value = [1, 21]</text>\r\n",
       "</g>\r\n",
       "<!-- 25&#45;&gt;26 -->\r\n",
       "<g id=\"edge26\" class=\"edge\"><title>25&#45;&gt;26</title>\r\n",
       "<path fill=\"none\" stroke=\"black\" d=\"M295,-192.884C295,-184.778 295,-175.982 295,-167.472\"/>\r\n",
       "<polygon fill=\"black\" stroke=\"black\" points=\"298.5,-167.299 295,-157.299 291.5,-167.299 298.5,-167.299\"/>\r\n",
       "</g>\r\n",
       "<!-- 29 -->\r\n",
       "<g id=\"node30\" class=\"node\"><title>29</title>\r\n",
       "<polygon fill=\"none\" stroke=\"black\" points=\"454.5,-149.5 363.5,-149.5 363.5,-96.5 454.5,-96.5 454.5,-149.5\"/>\r\n",
       "<text text-anchor=\"middle\" x=\"409\" y=\"-134.3\" font-family=\"Times New Roman,serif\" font-size=\"14.00\">gini = 0.0</text>\r\n",
       "<text text-anchor=\"middle\" x=\"409\" y=\"-119.3\" font-family=\"Times New Roman,serif\" font-size=\"14.00\">samples = 1</text>\r\n",
       "<text text-anchor=\"middle\" x=\"409\" y=\"-104.3\" font-family=\"Times New Roman,serif\" font-size=\"14.00\">value = [1, 0]</text>\r\n",
       "</g>\r\n",
       "<!-- 25&#45;&gt;29 -->\r\n",
       "<g id=\"edge29\" class=\"edge\"><title>25&#45;&gt;29</title>\r\n",
       "<path fill=\"none\" stroke=\"black\" d=\"M332.013,-192.884C345.165,-181.116 359.942,-167.894 373.008,-156.203\"/>\r\n",
       "<polygon fill=\"black\" stroke=\"black\" points=\"375.359,-158.796 380.478,-149.52 370.691,-153.58 375.359,-158.796\"/>\r\n",
       "</g>\r\n",
       "<!-- 27 -->\r\n",
       "<g id=\"node28\" class=\"node\"><title>27</title>\r\n",
       "<polygon fill=\"none\" stroke=\"black\" points=\"337.5,-53 246.5,-53 246.5,-0 337.5,-0 337.5,-53\"/>\r\n",
       "<text text-anchor=\"middle\" x=\"292\" y=\"-37.8\" font-family=\"Times New Roman,serif\" font-size=\"14.00\">gini = 0.0</text>\r\n",
       "<text text-anchor=\"middle\" x=\"292\" y=\"-22.8\" font-family=\"Times New Roman,serif\" font-size=\"14.00\">samples = 1</text>\r\n",
       "<text text-anchor=\"middle\" x=\"292\" y=\"-7.8\" font-family=\"Times New Roman,serif\" font-size=\"14.00\">value = [1, 0]</text>\r\n",
       "</g>\r\n",
       "<!-- 26&#45;&gt;27 -->\r\n",
       "<g id=\"edge27\" class=\"edge\"><title>26&#45;&gt;27</title>\r\n",
       "<path fill=\"none\" stroke=\"black\" d=\"M293.951,-88.9485C293.689,-80.7153 293.408,-71.848 293.142,-63.4814\"/>\r\n",
       "<polygon fill=\"black\" stroke=\"black\" points=\"296.633,-63.1206 292.817,-53.2367 289.636,-63.3428 296.633,-63.1206\"/>\r\n",
       "</g>\r\n",
       "<!-- 28 -->\r\n",
       "<g id=\"node29\" class=\"node\"><title>28</title>\r\n",
       "<polygon fill=\"none\" stroke=\"black\" points=\"454,-53 356,-53 356,-0 454,-0 454,-53\"/>\r\n",
       "<text text-anchor=\"middle\" x=\"405\" y=\"-37.8\" font-family=\"Times New Roman,serif\" font-size=\"14.00\">gini = 0.0</text>\r\n",
       "<text text-anchor=\"middle\" x=\"405\" y=\"-22.8\" font-family=\"Times New Roman,serif\" font-size=\"14.00\">samples = 21</text>\r\n",
       "<text text-anchor=\"middle\" x=\"405\" y=\"-7.8\" font-family=\"Times New Roman,serif\" font-size=\"14.00\">value = [0, 21]</text>\r\n",
       "</g>\r\n",
       "<!-- 26&#45;&gt;28 -->\r\n",
       "<g id=\"edge28\" class=\"edge\"><title>26&#45;&gt;28</title>\r\n",
       "<path fill=\"none\" stroke=\"black\" d=\"M333.473,-88.9485C344.441,-79.526 356.375,-69.2731 367.297,-59.8906\"/>\r\n",
       "<polygon fill=\"black\" stroke=\"black\" points=\"369.737,-62.408 375.042,-53.2367 365.176,-57.0983 369.737,-62.408\"/>\r\n",
       "</g>\r\n",
       "<!-- 31 -->\r\n",
       "<g id=\"node32\" class=\"node\"><title>31</title>\r\n",
       "<polygon fill=\"none\" stroke=\"black\" points=\"454.5,-253.5 363.5,-253.5 363.5,-200.5 454.5,-200.5 454.5,-253.5\"/>\r\n",
       "<text text-anchor=\"middle\" x=\"409\" y=\"-238.3\" font-family=\"Times New Roman,serif\" font-size=\"14.00\">gini = 0.0</text>\r\n",
       "<text text-anchor=\"middle\" x=\"409\" y=\"-223.3\" font-family=\"Times New Roman,serif\" font-size=\"14.00\">samples = 1</text>\r\n",
       "<text text-anchor=\"middle\" x=\"409\" y=\"-208.3\" font-family=\"Times New Roman,serif\" font-size=\"14.00\">value = [1, 0]</text>\r\n",
       "</g>\r\n",
       "<!-- 30&#45;&gt;31 -->\r\n",
       "<g id=\"edge31\" class=\"edge\"><title>30&#45;&gt;31</title>\r\n",
       "<path fill=\"none\" stroke=\"black\" d=\"M411.026,-296.884C410.712,-286.216 410.363,-274.352 410.045,-263.519\"/>\r\n",
       "<polygon fill=\"black\" stroke=\"black\" points=\"413.543,-263.413 409.751,-253.52 406.546,-263.619 413.543,-263.413\"/>\r\n",
       "</g>\r\n",
       "<!-- 32 -->\r\n",
       "<g id=\"node33\" class=\"node\"><title>32</title>\r\n",
       "<polygon fill=\"none\" stroke=\"black\" points=\"563.5,-253.5 472.5,-253.5 472.5,-200.5 563.5,-200.5 563.5,-253.5\"/>\r\n",
       "<text text-anchor=\"middle\" x=\"518\" y=\"-238.3\" font-family=\"Times New Roman,serif\" font-size=\"14.00\">gini = 0.0</text>\r\n",
       "<text text-anchor=\"middle\" x=\"518\" y=\"-223.3\" font-family=\"Times New Roman,serif\" font-size=\"14.00\">samples = 1</text>\r\n",
       "<text text-anchor=\"middle\" x=\"518\" y=\"-208.3\" font-family=\"Times New Roman,serif\" font-size=\"14.00\">value = [0, 1]</text>\r\n",
       "</g>\r\n",
       "<!-- 30&#45;&gt;32 -->\r\n",
       "<g id=\"edge32\" class=\"edge\"><title>30&#45;&gt;32</title>\r\n",
       "<path fill=\"none\" stroke=\"black\" d=\"M446.415,-296.884C458.53,-285.226 472.128,-272.141 484.193,-260.532\"/>\r\n",
       "<polygon fill=\"black\" stroke=\"black\" points=\"486.7,-262.976 491.479,-253.52 481.847,-257.932 486.7,-262.976\"/>\r\n",
       "</g>\r\n",
       "<!-- 34 -->\r\n",
       "<g id=\"node35\" class=\"node\"><title>34</title>\r\n",
       "<polygon fill=\"none\" stroke=\"black\" points=\"569.5,-357.5 478.5,-357.5 478.5,-304.5 569.5,-304.5 569.5,-357.5\"/>\r\n",
       "<text text-anchor=\"middle\" x=\"524\" y=\"-342.3\" font-family=\"Times New Roman,serif\" font-size=\"14.00\">gini = 0.0</text>\r\n",
       "<text text-anchor=\"middle\" x=\"524\" y=\"-327.3\" font-family=\"Times New Roman,serif\" font-size=\"14.00\">samples = 1</text>\r\n",
       "<text text-anchor=\"middle\" x=\"524\" y=\"-312.3\" font-family=\"Times New Roman,serif\" font-size=\"14.00\">value = [0, 1]</text>\r\n",
       "</g>\r\n",
       "<!-- 33&#45;&gt;34 -->\r\n",
       "<g id=\"edge34\" class=\"edge\"><title>33&#45;&gt;34</title>\r\n",
       "<path fill=\"none\" stroke=\"black\" d=\"M541.559,-400.884C538.839,-390.216 535.815,-378.352 533.054,-367.519\"/>\r\n",
       "<polygon fill=\"black\" stroke=\"black\" points=\"536.367,-366.346 530.505,-357.52 529.584,-368.075 536.367,-366.346\"/>\r\n",
       "</g>\r\n",
       "<!-- 35 -->\r\n",
       "<g id=\"node36\" class=\"node\"><title>35</title>\r\n",
       "<polygon fill=\"none\" stroke=\"black\" points=\"678.5,-357.5 587.5,-357.5 587.5,-304.5 678.5,-304.5 678.5,-357.5\"/>\r\n",
       "<text text-anchor=\"middle\" x=\"633\" y=\"-342.3\" font-family=\"Times New Roman,serif\" font-size=\"14.00\">gini = 0.0</text>\r\n",
       "<text text-anchor=\"middle\" x=\"633\" y=\"-327.3\" font-family=\"Times New Roman,serif\" font-size=\"14.00\">samples = 1</text>\r\n",
       "<text text-anchor=\"middle\" x=\"633\" y=\"-312.3\" font-family=\"Times New Roman,serif\" font-size=\"14.00\">value = [1, 0]</text>\r\n",
       "</g>\r\n",
       "<!-- 33&#45;&gt;35 -->\r\n",
       "<g id=\"edge35\" class=\"edge\"><title>33&#45;&gt;35</title>\r\n",
       "<path fill=\"none\" stroke=\"black\" d=\"M576.948,-400.884C586.165,-389.556 596.48,-376.88 605.723,-365.521\"/>\r\n",
       "<polygon fill=\"black\" stroke=\"black\" points=\"608.637,-367.486 612.234,-357.52 603.207,-363.067 608.637,-367.486\"/>\r\n",
       "</g>\r\n",
       "<!-- 37 -->\r\n",
       "<g id=\"node38\" class=\"node\"><title>37</title>\r\n",
       "<polygon fill=\"none\" stroke=\"black\" points=\"730.5,-461.5 639.5,-461.5 639.5,-408.5 730.5,-408.5 730.5,-461.5\"/>\r\n",
       "<text text-anchor=\"middle\" x=\"685\" y=\"-446.3\" font-family=\"Times New Roman,serif\" font-size=\"14.00\">gini = 0.0</text>\r\n",
       "<text text-anchor=\"middle\" x=\"685\" y=\"-431.3\" font-family=\"Times New Roman,serif\" font-size=\"14.00\">samples = 8</text>\r\n",
       "<text text-anchor=\"middle\" x=\"685\" y=\"-416.3\" font-family=\"Times New Roman,serif\" font-size=\"14.00\">value = [0, 8]</text>\r\n",
       "</g>\r\n",
       "<!-- 36&#45;&gt;37 -->\r\n",
       "<g id=\"edge37\" class=\"edge\"><title>36&#45;&gt;37</title>\r\n",
       "<path fill=\"none\" stroke=\"black\" d=\"M697.831,-504.884C695.844,-494.216 693.634,-482.352 691.616,-471.519\"/>\r\n",
       "<polygon fill=\"black\" stroke=\"black\" points=\"695.026,-470.71 689.754,-461.52 688.144,-471.992 695.026,-470.71\"/>\r\n",
       "</g>\r\n",
       "<!-- 38 -->\r\n",
       "<g id=\"node39\" class=\"node\"><title>38</title>\r\n",
       "<polygon fill=\"none\" stroke=\"black\" points=\"849.5,-469 748.5,-469 748.5,-401 849.5,-401 849.5,-469\"/>\r\n",
       "<text text-anchor=\"middle\" x=\"799\" y=\"-453.8\" font-family=\"Times New Roman,serif\" font-size=\"14.00\">X[1] &lt;= &#45;1.591</text>\r\n",
       "<text text-anchor=\"middle\" x=\"799\" y=\"-438.8\" font-family=\"Times New Roman,serif\" font-size=\"14.00\">gini = 0.444</text>\r\n",
       "<text text-anchor=\"middle\" x=\"799\" y=\"-423.8\" font-family=\"Times New Roman,serif\" font-size=\"14.00\">samples = 6</text>\r\n",
       "<text text-anchor=\"middle\" x=\"799\" y=\"-408.8\" font-family=\"Times New Roman,serif\" font-size=\"14.00\">value = [4, 2]</text>\r\n",
       "</g>\r\n",
       "<!-- 36&#45;&gt;38 -->\r\n",
       "<g id=\"edge38\" class=\"edge\"><title>36&#45;&gt;38</title>\r\n",
       "<path fill=\"none\" stroke=\"black\" d=\"M734.844,-504.884C743.223,-495.887 752.394,-486.041 761.113,-476.678\"/>\r\n",
       "<polygon fill=\"black\" stroke=\"black\" points=\"763.732,-479.003 767.986,-469.299 758.609,-474.232 763.732,-479.003\"/>\r\n",
       "</g>\r\n",
       "<!-- 39 -->\r\n",
       "<g id=\"node40\" class=\"node\"><title>39</title>\r\n",
       "<polygon fill=\"none\" stroke=\"black\" points=\"787.5,-357.5 696.5,-357.5 696.5,-304.5 787.5,-304.5 787.5,-357.5\"/>\r\n",
       "<text text-anchor=\"middle\" x=\"742\" y=\"-342.3\" font-family=\"Times New Roman,serif\" font-size=\"14.00\">gini = 0.0</text>\r\n",
       "<text text-anchor=\"middle\" x=\"742\" y=\"-327.3\" font-family=\"Times New Roman,serif\" font-size=\"14.00\">samples = 2</text>\r\n",
       "<text text-anchor=\"middle\" x=\"742\" y=\"-312.3\" font-family=\"Times New Roman,serif\" font-size=\"14.00\">value = [0, 2]</text>\r\n",
       "</g>\r\n",
       "<!-- 38&#45;&gt;39 -->\r\n",
       "<g id=\"edge39\" class=\"edge\"><title>38&#45;&gt;39</title>\r\n",
       "<path fill=\"none\" stroke=\"black\" d=\"M780.494,-400.884C774.348,-389.886 767.492,-377.617 761.289,-366.517\"/>\r\n",
       "<polygon fill=\"black\" stroke=\"black\" points=\"764.195,-364.542 756.261,-357.52 758.084,-367.957 764.195,-364.542\"/>\r\n",
       "</g>\r\n",
       "<!-- 40 -->\r\n",
       "<g id=\"node41\" class=\"node\"><title>40</title>\r\n",
       "<polygon fill=\"none\" stroke=\"black\" points=\"896.5,-357.5 805.5,-357.5 805.5,-304.5 896.5,-304.5 896.5,-357.5\"/>\r\n",
       "<text text-anchor=\"middle\" x=\"851\" y=\"-342.3\" font-family=\"Times New Roman,serif\" font-size=\"14.00\">gini = 0.0</text>\r\n",
       "<text text-anchor=\"middle\" x=\"851\" y=\"-327.3\" font-family=\"Times New Roman,serif\" font-size=\"14.00\">samples = 4</text>\r\n",
       "<text text-anchor=\"middle\" x=\"851\" y=\"-312.3\" font-family=\"Times New Roman,serif\" font-size=\"14.00\">value = [4, 0]</text>\r\n",
       "</g>\r\n",
       "<!-- 38&#45;&gt;40 -->\r\n",
       "<g id=\"edge40\" class=\"edge\"><title>38&#45;&gt;40</title>\r\n",
       "<path fill=\"none\" stroke=\"black\" d=\"M815.883,-400.884C821.49,-389.886 827.744,-377.617 833.403,-366.517\"/>\r\n",
       "<polygon fill=\"black\" stroke=\"black\" points=\"836.566,-368.019 837.99,-357.52 830.33,-364.839 836.566,-368.019\"/>\r\n",
       "</g>\r\n",
       "<!-- 42 -->\r\n",
       "<g id=\"node43\" class=\"node\"><title>42</title>\r\n",
       "<polygon fill=\"none\" stroke=\"black\" points=\"893,-565.5 795,-565.5 795,-512.5 893,-512.5 893,-565.5\"/>\r\n",
       "<text text-anchor=\"middle\" x=\"844\" y=\"-550.3\" font-family=\"Times New Roman,serif\" font-size=\"14.00\">gini = 0.0</text>\r\n",
       "<text text-anchor=\"middle\" x=\"844\" y=\"-535.3\" font-family=\"Times New Roman,serif\" font-size=\"14.00\">samples = 28</text>\r\n",
       "<text text-anchor=\"middle\" x=\"844\" y=\"-520.3\" font-family=\"Times New Roman,serif\" font-size=\"14.00\">value = [0, 28]</text>\r\n",
       "</g>\r\n",
       "<!-- 41&#45;&gt;42 -->\r\n",
       "<g id=\"edge42\" class=\"edge\"><title>41&#45;&gt;42</title>\r\n",
       "<path fill=\"none\" stroke=\"black\" d=\"M844,-608.884C844,-598.326 844,-586.597 844,-575.854\"/>\r\n",
       "<polygon fill=\"black\" stroke=\"black\" points=\"847.5,-575.52 844,-565.52 840.5,-575.52 847.5,-575.52\"/>\r\n",
       "</g>\r\n",
       "<!-- 43 -->\r\n",
       "<g id=\"node44\" class=\"node\"><title>43</title>\r\n",
       "<polygon fill=\"none\" stroke=\"black\" points=\"1082,-573 974,-573 974,-505 1082,-505 1082,-573\"/>\r\n",
       "<text text-anchor=\"middle\" x=\"1028\" y=\"-557.8\" font-family=\"Times New Roman,serif\" font-size=\"14.00\">X[10] &lt;= &#45;0.784</text>\r\n",
       "<text text-anchor=\"middle\" x=\"1028\" y=\"-542.8\" font-family=\"Times New Roman,serif\" font-size=\"14.00\">gini = 0.473</text>\r\n",
       "<text text-anchor=\"middle\" x=\"1028\" y=\"-527.8\" font-family=\"Times New Roman,serif\" font-size=\"14.00\">samples = 39</text>\r\n",
       "<text text-anchor=\"middle\" x=\"1028\" y=\"-512.8\" font-family=\"Times New Roman,serif\" font-size=\"14.00\">value = [15, 24]</text>\r\n",
       "</g>\r\n",
       "<!-- 41&#45;&gt;43 -->\r\n",
       "<g id=\"edge43\" class=\"edge\"><title>41&#45;&gt;43</title>\r\n",
       "<path fill=\"none\" stroke=\"black\" d=\"M898.211,-611.948C919.174,-600.327 943.306,-586.95 965.031,-574.907\"/>\r\n",
       "<polygon fill=\"black\" stroke=\"black\" points=\"966.81,-577.923 973.859,-570.013 963.416,-571.8 966.81,-577.923\"/>\r\n",
       "</g>\r\n",
       "<!-- 44 -->\r\n",
       "<g id=\"node45\" class=\"node\"><title>44</title>\r\n",
       "<polygon fill=\"none\" stroke=\"black\" points=\"1076.5,-469 979.5,-469 979.5,-401 1076.5,-401 1076.5,-469\"/>\r\n",
       "<text text-anchor=\"middle\" x=\"1028\" y=\"-453.8\" font-family=\"Times New Roman,serif\" font-size=\"14.00\">X[9] &lt;= 2.174</text>\r\n",
       "<text text-anchor=\"middle\" x=\"1028\" y=\"-438.8\" font-family=\"Times New Roman,serif\" font-size=\"14.00\">gini = 0.426</text>\r\n",
       "<text text-anchor=\"middle\" x=\"1028\" y=\"-423.8\" font-family=\"Times New Roman,serif\" font-size=\"14.00\">samples = 13</text>\r\n",
       "<text text-anchor=\"middle\" x=\"1028\" y=\"-408.8\" font-family=\"Times New Roman,serif\" font-size=\"14.00\">value = [9, 4]</text>\r\n",
       "</g>\r\n",
       "<!-- 43&#45;&gt;44 -->\r\n",
       "<g id=\"edge44\" class=\"edge\"><title>43&#45;&gt;44</title>\r\n",
       "<path fill=\"none\" stroke=\"black\" d=\"M1028,-504.884C1028,-496.778 1028,-487.982 1028,-479.472\"/>\r\n",
       "<polygon fill=\"black\" stroke=\"black\" points=\"1031.5,-479.299 1028,-469.299 1024.5,-479.299 1031.5,-479.299\"/>\r\n",
       "</g>\r\n",
       "<!-- 51 -->\r\n",
       "<g id=\"node52\" class=\"node\"><title>51</title>\r\n",
       "<polygon fill=\"none\" stroke=\"black\" points=\"1255.5,-469 1154.5,-469 1154.5,-401 1255.5,-401 1255.5,-469\"/>\r\n",
       "<text text-anchor=\"middle\" x=\"1205\" y=\"-453.8\" font-family=\"Times New Roman,serif\" font-size=\"14.00\">X[9] &lt;= &#45;1.014</text>\r\n",
       "<text text-anchor=\"middle\" x=\"1205\" y=\"-438.8\" font-family=\"Times New Roman,serif\" font-size=\"14.00\">gini = 0.355</text>\r\n",
       "<text text-anchor=\"middle\" x=\"1205\" y=\"-423.8\" font-family=\"Times New Roman,serif\" font-size=\"14.00\">samples = 26</text>\r\n",
       "<text text-anchor=\"middle\" x=\"1205\" y=\"-408.8\" font-family=\"Times New Roman,serif\" font-size=\"14.00\">value = [6, 20]</text>\r\n",
       "</g>\r\n",
       "<!-- 43&#45;&gt;51 -->\r\n",
       "<g id=\"edge51\" class=\"edge\"><title>43&#45;&gt;51</title>\r\n",
       "<path fill=\"none\" stroke=\"black\" d=\"M1082.07,-506.842C1102.08,-495.309 1124.88,-482.171 1145.36,-470.368\"/>\r\n",
       "<polygon fill=\"black\" stroke=\"black\" points=\"1147.37,-473.25 1154.29,-465.225 1143.87,-467.185 1147.37,-473.25\"/>\r\n",
       "</g>\r\n",
       "<!-- 45 -->\r\n",
       "<g id=\"node46\" class=\"node\"><title>45</title>\r\n",
       "<polygon fill=\"none\" stroke=\"black\" points=\"1023,-365 915,-365 915,-297 1023,-297 1023,-365\"/>\r\n",
       "<text text-anchor=\"middle\" x=\"969\" y=\"-349.8\" font-family=\"Times New Roman,serif\" font-size=\"14.00\">X[11] &lt;= &#45;1.183</text>\r\n",
       "<text text-anchor=\"middle\" x=\"969\" y=\"-334.8\" font-family=\"Times New Roman,serif\" font-size=\"14.00\">gini = 0.298</text>\r\n",
       "<text text-anchor=\"middle\" x=\"969\" y=\"-319.8\" font-family=\"Times New Roman,serif\" font-size=\"14.00\">samples = 11</text>\r\n",
       "<text text-anchor=\"middle\" x=\"969\" y=\"-304.8\" font-family=\"Times New Roman,serif\" font-size=\"14.00\">value = [9, 2]</text>\r\n",
       "</g>\r\n",
       "<!-- 44&#45;&gt;45 -->\r\n",
       "<g id=\"edge45\" class=\"edge\"><title>44&#45;&gt;45</title>\r\n",
       "<path fill=\"none\" stroke=\"black\" d=\"M1008.84,-400.884C1003.9,-392.332 998.508,-383.013 993.336,-374.072\"/>\r\n",
       "<polygon fill=\"black\" stroke=\"black\" points=\"996.298,-372.203 988.261,-365.299 990.239,-375.708 996.298,-372.203\"/>\r\n",
       "</g>\r\n",
       "<!-- 50 -->\r\n",
       "<g id=\"node51\" class=\"node\"><title>50</title>\r\n",
       "<polygon fill=\"none\" stroke=\"black\" points=\"1132.5,-357.5 1041.5,-357.5 1041.5,-304.5 1132.5,-304.5 1132.5,-357.5\"/>\r\n",
       "<text text-anchor=\"middle\" x=\"1087\" y=\"-342.3\" font-family=\"Times New Roman,serif\" font-size=\"14.00\">gini = 0.0</text>\r\n",
       "<text text-anchor=\"middle\" x=\"1087\" y=\"-327.3\" font-family=\"Times New Roman,serif\" font-size=\"14.00\">samples = 2</text>\r\n",
       "<text text-anchor=\"middle\" x=\"1087\" y=\"-312.3\" font-family=\"Times New Roman,serif\" font-size=\"14.00\">value = [0, 2]</text>\r\n",
       "</g>\r\n",
       "<!-- 44&#45;&gt;50 -->\r\n",
       "<g id=\"edge50\" class=\"edge\"><title>44&#45;&gt;50</title>\r\n",
       "<path fill=\"none\" stroke=\"black\" d=\"M1047.16,-400.884C1053.58,-389.776 1060.76,-377.372 1067.23,-366.184\"/>\r\n",
       "<polygon fill=\"black\" stroke=\"black\" points=\"1070.26,-367.929 1072.24,-357.52 1064.2,-364.424 1070.26,-367.929\"/>\r\n",
       "</g>\r\n",
       "<!-- 46 -->\r\n",
       "<g id=\"node47\" class=\"node\"><title>46</title>\r\n",
       "<polygon fill=\"none\" stroke=\"black\" points=\"917.5,-253.5 826.5,-253.5 826.5,-200.5 917.5,-200.5 917.5,-253.5\"/>\r\n",
       "<text text-anchor=\"middle\" x=\"872\" y=\"-238.3\" font-family=\"Times New Roman,serif\" font-size=\"14.00\">gini = 0.0</text>\r\n",
       "<text text-anchor=\"middle\" x=\"872\" y=\"-223.3\" font-family=\"Times New Roman,serif\" font-size=\"14.00\">samples = 1</text>\r\n",
       "<text text-anchor=\"middle\" x=\"872\" y=\"-208.3\" font-family=\"Times New Roman,serif\" font-size=\"14.00\">value = [0, 1]</text>\r\n",
       "</g>\r\n",
       "<!-- 45&#45;&gt;46 -->\r\n",
       "<g id=\"edge46\" class=\"edge\"><title>45&#45;&gt;46</title>\r\n",
       "<path fill=\"none\" stroke=\"black\" d=\"M937.507,-296.884C926.525,-285.336 914.212,-272.387 903.25,-260.86\"/>\r\n",
       "<polygon fill=\"black\" stroke=\"black\" points=\"905.696,-258.354 896.269,-253.52 900.624,-263.178 905.696,-258.354\"/>\r\n",
       "</g>\r\n",
       "<!-- 47 -->\r\n",
       "<g id=\"node48\" class=\"node\"><title>47</title>\r\n",
       "<polygon fill=\"none\" stroke=\"black\" points=\"1032.5,-261 935.5,-261 935.5,-193 1032.5,-193 1032.5,-261\"/>\r\n",
       "<text text-anchor=\"middle\" x=\"984\" y=\"-245.8\" font-family=\"Times New Roman,serif\" font-size=\"14.00\">X[8] &lt;= 1.444</text>\r\n",
       "<text text-anchor=\"middle\" x=\"984\" y=\"-230.8\" font-family=\"Times New Roman,serif\" font-size=\"14.00\">gini = 0.18</text>\r\n",
       "<text text-anchor=\"middle\" x=\"984\" y=\"-215.8\" font-family=\"Times New Roman,serif\" font-size=\"14.00\">samples = 10</text>\r\n",
       "<text text-anchor=\"middle\" x=\"984\" y=\"-200.8\" font-family=\"Times New Roman,serif\" font-size=\"14.00\">value = [9, 1]</text>\r\n",
       "</g>\r\n",
       "<!-- 45&#45;&gt;47 -->\r\n",
       "<g id=\"edge47\" class=\"edge\"><title>45&#45;&gt;47</title>\r\n",
       "<path fill=\"none\" stroke=\"black\" d=\"M973.87,-296.884C975.062,-288.778 976.356,-279.982 977.607,-271.472\"/>\r\n",
       "<polygon fill=\"black\" stroke=\"black\" points=\"981.111,-271.702 979.103,-261.299 974.185,-270.684 981.111,-271.702\"/>\r\n",
       "</g>\r\n",
       "<!-- 48 -->\r\n",
       "<g id=\"node49\" class=\"node\"><title>48</title>\r\n",
       "<polygon fill=\"none\" stroke=\"black\" points=\"947.5,-149.5 856.5,-149.5 856.5,-96.5 947.5,-96.5 947.5,-149.5\"/>\r\n",
       "<text text-anchor=\"middle\" x=\"902\" y=\"-134.3\" font-family=\"Times New Roman,serif\" font-size=\"14.00\">gini = 0.0</text>\r\n",
       "<text text-anchor=\"middle\" x=\"902\" y=\"-119.3\" font-family=\"Times New Roman,serif\" font-size=\"14.00\">samples = 9</text>\r\n",
       "<text text-anchor=\"middle\" x=\"902\" y=\"-104.3\" font-family=\"Times New Roman,serif\" font-size=\"14.00\">value = [9, 0]</text>\r\n",
       "</g>\r\n",
       "<!-- 47&#45;&gt;48 -->\r\n",
       "<g id=\"edge48\" class=\"edge\"><title>47&#45;&gt;48</title>\r\n",
       "<path fill=\"none\" stroke=\"black\" d=\"M957.377,-192.884C948.27,-181.556 938.08,-168.88 928.948,-157.521\"/>\r\n",
       "<polygon fill=\"black\" stroke=\"black\" points=\"931.509,-155.121 922.516,-149.52 926.054,-159.507 931.509,-155.121\"/>\r\n",
       "</g>\r\n",
       "<!-- 49 -->\r\n",
       "<g id=\"node50\" class=\"node\"><title>49</title>\r\n",
       "<polygon fill=\"none\" stroke=\"black\" points=\"1056.5,-149.5 965.5,-149.5 965.5,-96.5 1056.5,-96.5 1056.5,-149.5\"/>\r\n",
       "<text text-anchor=\"middle\" x=\"1011\" y=\"-134.3\" font-family=\"Times New Roman,serif\" font-size=\"14.00\">gini = 0.0</text>\r\n",
       "<text text-anchor=\"middle\" x=\"1011\" y=\"-119.3\" font-family=\"Times New Roman,serif\" font-size=\"14.00\">samples = 1</text>\r\n",
       "<text text-anchor=\"middle\" x=\"1011\" y=\"-104.3\" font-family=\"Times New Roman,serif\" font-size=\"14.00\">value = [0, 1]</text>\r\n",
       "</g>\r\n",
       "<!-- 47&#45;&gt;49 -->\r\n",
       "<g id=\"edge49\" class=\"edge\"><title>47&#45;&gt;49</title>\r\n",
       "<path fill=\"none\" stroke=\"black\" d=\"M992.766,-192.884C995.59,-182.216 998.73,-170.352 1001.6,-159.519\"/>\r\n",
       "<polygon fill=\"black\" stroke=\"black\" points=\"1005.07,-160.083 1004.24,-149.52 998.302,-158.291 1005.07,-160.083\"/>\r\n",
       "</g>\r\n",
       "<!-- 52 -->\r\n",
       "<g id=\"node53\" class=\"node\"><title>52</title>\r\n",
       "<polygon fill=\"none\" stroke=\"black\" points=\"1259,-365 1151,-365 1151,-297 1259,-297 1259,-365\"/>\r\n",
       "<text text-anchor=\"middle\" x=\"1205\" y=\"-349.8\" font-family=\"Times New Roman,serif\" font-size=\"14.00\">X[11] &lt;= &#45;0.281</text>\r\n",
       "<text text-anchor=\"middle\" x=\"1205\" y=\"-334.8\" font-family=\"Times New Roman,serif\" font-size=\"14.00\">gini = 0.5</text>\r\n",
       "<text text-anchor=\"middle\" x=\"1205\" y=\"-319.8\" font-family=\"Times New Roman,serif\" font-size=\"14.00\">samples = 12</text>\r\n",
       "<text text-anchor=\"middle\" x=\"1205\" y=\"-304.8\" font-family=\"Times New Roman,serif\" font-size=\"14.00\">value = [6, 6]</text>\r\n",
       "</g>\r\n",
       "<!-- 51&#45;&gt;52 -->\r\n",
       "<g id=\"edge52\" class=\"edge\"><title>51&#45;&gt;52</title>\r\n",
       "<path fill=\"none\" stroke=\"black\" d=\"M1205,-400.884C1205,-392.778 1205,-383.982 1205,-375.472\"/>\r\n",
       "<polygon fill=\"black\" stroke=\"black\" points=\"1208.5,-375.299 1205,-365.299 1201.5,-375.299 1208.5,-375.299\"/>\r\n",
       "</g>\r\n",
       "<!-- 59 -->\r\n",
       "<g id=\"node60\" class=\"node\"><title>59</title>\r\n",
       "<polygon fill=\"none\" stroke=\"black\" points=\"1375,-357.5 1277,-357.5 1277,-304.5 1375,-304.5 1375,-357.5\"/>\r\n",
       "<text text-anchor=\"middle\" x=\"1326\" y=\"-342.3\" font-family=\"Times New Roman,serif\" font-size=\"14.00\">gini = 0.0</text>\r\n",
       "<text text-anchor=\"middle\" x=\"1326\" y=\"-327.3\" font-family=\"Times New Roman,serif\" font-size=\"14.00\">samples = 14</text>\r\n",
       "<text text-anchor=\"middle\" x=\"1326\" y=\"-312.3\" font-family=\"Times New Roman,serif\" font-size=\"14.00\">value = [0, 14]</text>\r\n",
       "</g>\r\n",
       "<!-- 51&#45;&gt;59 -->\r\n",
       "<g id=\"edge59\" class=\"edge\"><title>51&#45;&gt;59</title>\r\n",
       "<path fill=\"none\" stroke=\"black\" d=\"M1244.29,-400.884C1258.24,-389.116 1273.93,-375.894 1287.8,-364.203\"/>\r\n",
       "<polygon fill=\"black\" stroke=\"black\" points=\"1290.34,-366.641 1295.73,-357.52 1285.82,-361.289 1290.34,-366.641\"/>\r\n",
       "</g>\r\n",
       "<!-- 53 -->\r\n",
       "<g id=\"node54\" class=\"node\"><title>53</title>\r\n",
       "<polygon fill=\"none\" stroke=\"black\" points=\"1156.5,-253.5 1065.5,-253.5 1065.5,-200.5 1156.5,-200.5 1156.5,-253.5\"/>\r\n",
       "<text text-anchor=\"middle\" x=\"1111\" y=\"-238.3\" font-family=\"Times New Roman,serif\" font-size=\"14.00\">gini = 0.0</text>\r\n",
       "<text text-anchor=\"middle\" x=\"1111\" y=\"-223.3\" font-family=\"Times New Roman,serif\" font-size=\"14.00\">samples = 4</text>\r\n",
       "<text text-anchor=\"middle\" x=\"1111\" y=\"-208.3\" font-family=\"Times New Roman,serif\" font-size=\"14.00\">value = [0, 4]</text>\r\n",
       "</g>\r\n",
       "<!-- 52&#45;&gt;53 -->\r\n",
       "<g id=\"edge53\" class=\"edge\"><title>52&#45;&gt;53</title>\r\n",
       "<path fill=\"none\" stroke=\"black\" d=\"M1174.48,-296.884C1163.94,-285.446 1152.13,-272.634 1141.59,-261.19\"/>\r\n",
       "<polygon fill=\"black\" stroke=\"black\" points=\"1143.87,-258.502 1134.52,-253.52 1138.72,-263.245 1143.87,-258.502\"/>\r\n",
       "</g>\r\n",
       "<!-- 54 -->\r\n",
       "<g id=\"node55\" class=\"node\"><title>54</title>\r\n",
       "<polygon fill=\"none\" stroke=\"black\" points=\"1283,-261 1175,-261 1175,-193 1283,-193 1283,-261\"/>\r\n",
       "<text text-anchor=\"middle\" x=\"1229\" y=\"-245.8\" font-family=\"Times New Roman,serif\" font-size=\"14.00\">X[16] &lt;= &#45;0.463</text>\r\n",
       "<text text-anchor=\"middle\" x=\"1229\" y=\"-230.8\" font-family=\"Times New Roman,serif\" font-size=\"14.00\">gini = 0.375</text>\r\n",
       "<text text-anchor=\"middle\" x=\"1229\" y=\"-215.8\" font-family=\"Times New Roman,serif\" font-size=\"14.00\">samples = 8</text>\r\n",
       "<text text-anchor=\"middle\" x=\"1229\" y=\"-200.8\" font-family=\"Times New Roman,serif\" font-size=\"14.00\">value = [6, 2]</text>\r\n",
       "</g>\r\n",
       "<!-- 52&#45;&gt;54 -->\r\n",
       "<g id=\"edge54\" class=\"edge\"><title>52&#45;&gt;54</title>\r\n",
       "<path fill=\"none\" stroke=\"black\" d=\"M1212.79,-296.884C1214.72,-288.689 1216.81,-279.789 1218.84,-271.192\"/>\r\n",
       "<polygon fill=\"black\" stroke=\"black\" points=\"1222.28,-271.835 1221.16,-261.299 1215.47,-270.232 1222.28,-271.835\"/>\r\n",
       "</g>\r\n",
       "<!-- 55 -->\r\n",
       "<g id=\"node56\" class=\"node\"><title>55</title>\r\n",
       "<polygon fill=\"none\" stroke=\"black\" points=\"1213.5,-157 1116.5,-157 1116.5,-89 1213.5,-89 1213.5,-157\"/>\r\n",
       "<text text-anchor=\"middle\" x=\"1165\" y=\"-141.8\" font-family=\"Times New Roman,serif\" font-size=\"14.00\">X[5] &lt;= 1.347</text>\r\n",
       "<text text-anchor=\"middle\" x=\"1165\" y=\"-126.8\" font-family=\"Times New Roman,serif\" font-size=\"14.00\">gini = 0.444</text>\r\n",
       "<text text-anchor=\"middle\" x=\"1165\" y=\"-111.8\" font-family=\"Times New Roman,serif\" font-size=\"14.00\">samples = 3</text>\r\n",
       "<text text-anchor=\"middle\" x=\"1165\" y=\"-96.8\" font-family=\"Times New Roman,serif\" font-size=\"14.00\">value = [1, 2]</text>\r\n",
       "</g>\r\n",
       "<!-- 54&#45;&gt;55 -->\r\n",
       "<g id=\"edge55\" class=\"edge\"><title>54&#45;&gt;55</title>\r\n",
       "<path fill=\"none\" stroke=\"black\" d=\"M1208.22,-192.884C1202.8,-184.243 1196.89,-174.819 1191.22,-165.793\"/>\r\n",
       "<polygon fill=\"black\" stroke=\"black\" points=\"1194.17,-163.91 1185.89,-157.299 1188.24,-167.63 1194.17,-163.91\"/>\r\n",
       "</g>\r\n",
       "<!-- 58 -->\r\n",
       "<g id=\"node59\" class=\"node\"><title>58</title>\r\n",
       "<polygon fill=\"none\" stroke=\"black\" points=\"1322.5,-149.5 1231.5,-149.5 1231.5,-96.5 1322.5,-96.5 1322.5,-149.5\"/>\r\n",
       "<text text-anchor=\"middle\" x=\"1277\" y=\"-134.3\" font-family=\"Times New Roman,serif\" font-size=\"14.00\">gini = 0.0</text>\r\n",
       "<text text-anchor=\"middle\" x=\"1277\" y=\"-119.3\" font-family=\"Times New Roman,serif\" font-size=\"14.00\">samples = 5</text>\r\n",
       "<text text-anchor=\"middle\" x=\"1277\" y=\"-104.3\" font-family=\"Times New Roman,serif\" font-size=\"14.00\">value = [5, 0]</text>\r\n",
       "</g>\r\n",
       "<!-- 54&#45;&gt;58 -->\r\n",
       "<g id=\"edge58\" class=\"edge\"><title>54&#45;&gt;58</title>\r\n",
       "<path fill=\"none\" stroke=\"black\" d=\"M1244.58,-192.884C1249.71,-181.996 1255.42,-169.863 1260.6,-158.85\"/>\r\n",
       "<polygon fill=\"black\" stroke=\"black\" points=\"1263.9,-160.058 1264.99,-149.52 1257.57,-157.078 1263.9,-160.058\"/>\r\n",
       "</g>\r\n",
       "<!-- 56 -->\r\n",
       "<g id=\"node57\" class=\"node\"><title>56</title>\r\n",
       "<polygon fill=\"none\" stroke=\"black\" points=\"1155.5,-53 1064.5,-53 1064.5,-0 1155.5,-0 1155.5,-53\"/>\r\n",
       "<text text-anchor=\"middle\" x=\"1110\" y=\"-37.8\" font-family=\"Times New Roman,serif\" font-size=\"14.00\">gini = 0.0</text>\r\n",
       "<text text-anchor=\"middle\" x=\"1110\" y=\"-22.8\" font-family=\"Times New Roman,serif\" font-size=\"14.00\">samples = 2</text>\r\n",
       "<text text-anchor=\"middle\" x=\"1110\" y=\"-7.8\" font-family=\"Times New Roman,serif\" font-size=\"14.00\">value = [0, 2]</text>\r\n",
       "</g>\r\n",
       "<!-- 55&#45;&gt;56 -->\r\n",
       "<g id=\"edge56\" class=\"edge\"><title>55&#45;&gt;56</title>\r\n",
       "<path fill=\"none\" stroke=\"black\" d=\"M1145.76,-88.9485C1140.71,-80.2579 1135.24,-70.8608 1130.13,-62.0917\"/>\r\n",
       "<polygon fill=\"black\" stroke=\"black\" points=\"1133.03,-60.1189 1124.98,-53.2367 1126.98,-63.6401 1133.03,-60.1189\"/>\r\n",
       "</g>\r\n",
       "<!-- 57 -->\r\n",
       "<g id=\"node58\" class=\"node\"><title>57</title>\r\n",
       "<polygon fill=\"none\" stroke=\"black\" points=\"1264.5,-53 1173.5,-53 1173.5,-0 1264.5,-0 1264.5,-53\"/>\r\n",
       "<text text-anchor=\"middle\" x=\"1219\" y=\"-37.8\" font-family=\"Times New Roman,serif\" font-size=\"14.00\">gini = 0.0</text>\r\n",
       "<text text-anchor=\"middle\" x=\"1219\" y=\"-22.8\" font-family=\"Times New Roman,serif\" font-size=\"14.00\">samples = 1</text>\r\n",
       "<text text-anchor=\"middle\" x=\"1219\" y=\"-7.8\" font-family=\"Times New Roman,serif\" font-size=\"14.00\">value = [1, 0]</text>\r\n",
       "</g>\r\n",
       "<!-- 55&#45;&gt;57 -->\r\n",
       "<g id=\"edge57\" class=\"edge\"><title>55&#45;&gt;57</title>\r\n",
       "<path fill=\"none\" stroke=\"black\" d=\"M1183.89,-88.9485C1188.85,-80.2579 1194.22,-70.8608 1199.23,-62.0917\"/>\r\n",
       "<polygon fill=\"black\" stroke=\"black\" points=\"1202.37,-63.6557 1204.29,-53.2367 1196.29,-60.1826 1202.37,-63.6557\"/>\r\n",
       "</g>\r\n",
       "<!-- 61 -->\r\n",
       "<g id=\"node62\" class=\"node\"><title>61</title>\r\n",
       "<polygon fill=\"none\" stroke=\"black\" points=\"873.5,-773.5 782.5,-773.5 782.5,-720.5 873.5,-720.5 873.5,-773.5\"/>\r\n",
       "<text text-anchor=\"middle\" x=\"828\" y=\"-758.3\" font-family=\"Times New Roman,serif\" font-size=\"14.00\">gini = 0.0</text>\r\n",
       "<text text-anchor=\"middle\" x=\"828\" y=\"-743.3\" font-family=\"Times New Roman,serif\" font-size=\"14.00\">samples = 1</text>\r\n",
       "<text text-anchor=\"middle\" x=\"828\" y=\"-728.3\" font-family=\"Times New Roman,serif\" font-size=\"14.00\">value = [0, 1]</text>\r\n",
       "</g>\r\n",
       "<!-- 60&#45;&gt;61 -->\r\n",
       "<g id=\"edge61\" class=\"edge\"><title>60&#45;&gt;61</title>\r\n",
       "<path fill=\"none\" stroke=\"black\" d=\"M862.442,-816.884C856.943,-805.886 850.809,-793.617 845.258,-782.517\"/>\r\n",
       "<polygon fill=\"black\" stroke=\"black\" points=\"848.363,-780.899 840.76,-773.52 842.102,-784.029 848.363,-780.899\"/>\r\n",
       "</g>\r\n",
       "<!-- 62 -->\r\n",
       "<g id=\"node63\" class=\"node\"><title>62</title>\r\n",
       "<polygon fill=\"none\" stroke=\"black\" points=\"982.5,-773.5 891.5,-773.5 891.5,-720.5 982.5,-720.5 982.5,-773.5\"/>\r\n",
       "<text text-anchor=\"middle\" x=\"937\" y=\"-758.3\" font-family=\"Times New Roman,serif\" font-size=\"14.00\">gini = 0.0</text>\r\n",
       "<text text-anchor=\"middle\" x=\"937\" y=\"-743.3\" font-family=\"Times New Roman,serif\" font-size=\"14.00\">samples = 3</text>\r\n",
       "<text text-anchor=\"middle\" x=\"937\" y=\"-728.3\" font-family=\"Times New Roman,serif\" font-size=\"14.00\">value = [3, 0]</text>\r\n",
       "</g>\r\n",
       "<!-- 60&#45;&gt;62 -->\r\n",
       "<g id=\"edge62\" class=\"edge\"><title>60&#45;&gt;62</title>\r\n",
       "<path fill=\"none\" stroke=\"black\" d=\"M897.831,-816.884C904.085,-805.886 911.061,-793.617 917.373,-782.517\"/>\r\n",
       "<polygon fill=\"black\" stroke=\"black\" points=\"920.588,-783.943 922.489,-773.52 914.503,-780.483 920.588,-783.943\"/>\r\n",
       "</g>\r\n",
       "<!-- 64 -->\r\n",
       "<g id=\"node65\" class=\"node\"><title>64</title>\r\n",
       "<polygon fill=\"none\" stroke=\"black\" points=\"1095.5,-885 994.5,-885 994.5,-817 1095.5,-817 1095.5,-885\"/>\r\n",
       "<text text-anchor=\"middle\" x=\"1045\" y=\"-869.8\" font-family=\"Times New Roman,serif\" font-size=\"14.00\">X[9] &lt;= &#45;1.209</text>\r\n",
       "<text text-anchor=\"middle\" x=\"1045\" y=\"-854.8\" font-family=\"Times New Roman,serif\" font-size=\"14.00\">gini = 0.375</text>\r\n",
       "<text text-anchor=\"middle\" x=\"1045\" y=\"-839.8\" font-family=\"Times New Roman,serif\" font-size=\"14.00\">samples = 8</text>\r\n",
       "<text text-anchor=\"middle\" x=\"1045\" y=\"-824.8\" font-family=\"Times New Roman,serif\" font-size=\"14.00\">value = [2, 6]</text>\r\n",
       "</g>\r\n",
       "<!-- 63&#45;&gt;64 -->\r\n",
       "<g id=\"edge64\" class=\"edge\"><title>63&#45;&gt;64</title>\r\n",
       "<path fill=\"none\" stroke=\"black\" d=\"M1045,-920.884C1045,-912.778 1045,-903.982 1045,-895.472\"/>\r\n",
       "<polygon fill=\"black\" stroke=\"black\" points=\"1048.5,-895.299 1045,-885.299 1041.5,-895.299 1048.5,-895.299\"/>\r\n",
       "</g>\r\n",
       "<!-- 67 -->\r\n",
       "<g id=\"node68\" class=\"node\"><title>67</title>\r\n",
       "<polygon fill=\"none\" stroke=\"black\" points=\"1204.5,-877.5 1113.5,-877.5 1113.5,-824.5 1204.5,-824.5 1204.5,-877.5\"/>\r\n",
       "<text text-anchor=\"middle\" x=\"1159\" y=\"-862.3\" font-family=\"Times New Roman,serif\" font-size=\"14.00\">gini = 0.0</text>\r\n",
       "<text text-anchor=\"middle\" x=\"1159\" y=\"-847.3\" font-family=\"Times New Roman,serif\" font-size=\"14.00\">samples = 4</text>\r\n",
       "<text text-anchor=\"middle\" x=\"1159\" y=\"-832.3\" font-family=\"Times New Roman,serif\" font-size=\"14.00\">value = [4, 0]</text>\r\n",
       "</g>\r\n",
       "<!-- 63&#45;&gt;67 -->\r\n",
       "<g id=\"edge67\" class=\"edge\"><title>63&#45;&gt;67</title>\r\n",
       "<path fill=\"none\" stroke=\"black\" d=\"M1082.01,-920.884C1095.16,-909.116 1109.94,-895.894 1123.01,-884.203\"/>\r\n",
       "<polygon fill=\"black\" stroke=\"black\" points=\"1125.36,-886.796 1130.48,-877.52 1120.69,-881.58 1125.36,-886.796\"/>\r\n",
       "</g>\r\n",
       "<!-- 65 -->\r\n",
       "<g id=\"node66\" class=\"node\"><title>65</title>\r\n",
       "<polygon fill=\"none\" stroke=\"black\" points=\"1091.5,-773.5 1000.5,-773.5 1000.5,-720.5 1091.5,-720.5 1091.5,-773.5\"/>\r\n",
       "<text text-anchor=\"middle\" x=\"1046\" y=\"-758.3\" font-family=\"Times New Roman,serif\" font-size=\"14.00\">gini = 0.0</text>\r\n",
       "<text text-anchor=\"middle\" x=\"1046\" y=\"-743.3\" font-family=\"Times New Roman,serif\" font-size=\"14.00\">samples = 6</text>\r\n",
       "<text text-anchor=\"middle\" x=\"1046\" y=\"-728.3\" font-family=\"Times New Roman,serif\" font-size=\"14.00\">value = [0, 6]</text>\r\n",
       "</g>\r\n",
       "<!-- 64&#45;&gt;65 -->\r\n",
       "<g id=\"edge65\" class=\"edge\"><title>64&#45;&gt;65</title>\r\n",
       "<path fill=\"none\" stroke=\"black\" d=\"M1045.32,-816.884C1045.43,-806.326 1045.54,-794.597 1045.65,-783.854\"/>\r\n",
       "<polygon fill=\"black\" stroke=\"black\" points=\"1049.15,-783.554 1045.75,-773.52 1042.15,-783.485 1049.15,-783.554\"/>\r\n",
       "</g>\r\n",
       "<!-- 66 -->\r\n",
       "<g id=\"node67\" class=\"node\"><title>66</title>\r\n",
       "<polygon fill=\"none\" stroke=\"black\" points=\"1200.5,-773.5 1109.5,-773.5 1109.5,-720.5 1200.5,-720.5 1200.5,-773.5\"/>\r\n",
       "<text text-anchor=\"middle\" x=\"1155\" y=\"-758.3\" font-family=\"Times New Roman,serif\" font-size=\"14.00\">gini = 0.0</text>\r\n",
       "<text text-anchor=\"middle\" x=\"1155\" y=\"-743.3\" font-family=\"Times New Roman,serif\" font-size=\"14.00\">samples = 2</text>\r\n",
       "<text text-anchor=\"middle\" x=\"1155\" y=\"-728.3\" font-family=\"Times New Roman,serif\" font-size=\"14.00\">value = [2, 0]</text>\r\n",
       "</g>\r\n",
       "<!-- 64&#45;&gt;66 -->\r\n",
       "<g id=\"edge66\" class=\"edge\"><title>64&#45;&gt;66</title>\r\n",
       "<path fill=\"none\" stroke=\"black\" d=\"M1080.71,-816.884C1093.29,-805.226 1107.4,-792.141 1119.92,-780.532\"/>\r\n",
       "<polygon fill=\"black\" stroke=\"black\" points=\"1122.53,-782.886 1127.48,-773.52 1117.77,-777.753 1122.53,-782.886\"/>\r\n",
       "</g>\r\n",
       "<!-- 69 -->\r\n",
       "<g id=\"node70\" class=\"node\"><title>69</title>\r\n",
       "<polygon fill=\"none\" stroke=\"black\" points=\"1508.5,-1093 1397.5,-1093 1397.5,-1025 1508.5,-1025 1508.5,-1093\"/>\r\n",
       "<text text-anchor=\"middle\" x=\"1453\" y=\"-1077.8\" font-family=\"Times New Roman,serif\" font-size=\"14.00\">X[2] &lt;= &#45;0.708</text>\r\n",
       "<text text-anchor=\"middle\" x=\"1453\" y=\"-1062.8\" font-family=\"Times New Roman,serif\" font-size=\"14.00\">gini = 0.155</text>\r\n",
       "<text text-anchor=\"middle\" x=\"1453\" y=\"-1047.8\" font-family=\"Times New Roman,serif\" font-size=\"14.00\">samples = 307</text>\r\n",
       "<text text-anchor=\"middle\" x=\"1453\" y=\"-1032.8\" font-family=\"Times New Roman,serif\" font-size=\"14.00\">value = [281, 26]</text>\r\n",
       "</g>\r\n",
       "<!-- 68&#45;&gt;69 -->\r\n",
       "<g id=\"edge69\" class=\"edge\"><title>68&#45;&gt;69</title>\r\n",
       "<path fill=\"none\" stroke=\"black\" d=\"M1453,-1128.88C1453,-1120.78 1453,-1111.98 1453,-1103.47\"/>\r\n",
       "<polygon fill=\"black\" stroke=\"black\" points=\"1456.5,-1103.3 1453,-1093.3 1449.5,-1103.3 1456.5,-1103.3\"/>\r\n",
       "</g>\r\n",
       "<!-- 94 -->\r\n",
       "<g id=\"node95\" class=\"node\"><title>94</title>\r\n",
       "<polygon fill=\"none\" stroke=\"black\" points=\"2064.5,-1093 1953.5,-1093 1953.5,-1025 2064.5,-1025 2064.5,-1093\"/>\r\n",
       "<text text-anchor=\"middle\" x=\"2009\" y=\"-1077.8\" font-family=\"Times New Roman,serif\" font-size=\"14.00\">X[19] &lt;= &#45;0.324</text>\r\n",
       "<text text-anchor=\"middle\" x=\"2009\" y=\"-1062.8\" font-family=\"Times New Roman,serif\" font-size=\"14.00\">gini = 0.449</text>\r\n",
       "<text text-anchor=\"middle\" x=\"2009\" y=\"-1047.8\" font-family=\"Times New Roman,serif\" font-size=\"14.00\">samples = 194</text>\r\n",
       "<text text-anchor=\"middle\" x=\"2009\" y=\"-1032.8\" font-family=\"Times New Roman,serif\" font-size=\"14.00\">value = [66, 128]</text>\r\n",
       "</g>\r\n",
       "<!-- 68&#45;&gt;94 -->\r\n",
       "<g id=\"edge94\" class=\"edge\"><title>68&#45;&gt;94</title>\r\n",
       "<path fill=\"none\" stroke=\"black\" d=\"M1512.24,-1151.13C1616.98,-1131.92 1834.08,-1092.09 1943.27,-1072.06\"/>\r\n",
       "<polygon fill=\"black\" stroke=\"black\" points=\"1943.97,-1075.49 1953.18,-1070.24 1942.71,-1068.6 1943.97,-1075.49\"/>\r\n",
       "</g>\r\n",
       "<!-- 70 -->\r\n",
       "<g id=\"node71\" class=\"node\"><title>70</title>\r\n",
       "<polygon fill=\"none\" stroke=\"black\" points=\"1444,-989 1340,-989 1340,-921 1444,-921 1444,-989\"/>\r\n",
       "<text text-anchor=\"middle\" x=\"1392\" y=\"-973.8\" font-family=\"Times New Roman,serif\" font-size=\"14.00\">X[9] &lt;= &#45;0.842</text>\r\n",
       "<text text-anchor=\"middle\" x=\"1392\" y=\"-958.8\" font-family=\"Times New Roman,serif\" font-size=\"14.00\">gini = 0.497</text>\r\n",
       "<text text-anchor=\"middle\" x=\"1392\" y=\"-943.8\" font-family=\"Times New Roman,serif\" font-size=\"14.00\">samples = 39</text>\r\n",
       "<text text-anchor=\"middle\" x=\"1392\" y=\"-928.8\" font-family=\"Times New Roman,serif\" font-size=\"14.00\">value = [18, 21]</text>\r\n",
       "</g>\r\n",
       "<!-- 69&#45;&gt;70 -->\r\n",
       "<g id=\"edge70\" class=\"edge\"><title>69&#45;&gt;70</title>\r\n",
       "<path fill=\"none\" stroke=\"black\" d=\"M1433.2,-1024.88C1428.08,-1016.33 1422.51,-1007.01 1417.16,-998.072\"/>\r\n",
       "<polygon fill=\"black\" stroke=\"black\" points=\"1420.05,-996.085 1411.91,-989.299 1414.04,-999.678 1420.05,-996.085\"/>\r\n",
       "</g>\r\n",
       "<!-- 79 -->\r\n",
       "<g id=\"node80\" class=\"node\"><title>79</title>\r\n",
       "<polygon fill=\"none\" stroke=\"black\" points=\"1566,-989 1462,-989 1462,-921 1566,-921 1566,-989\"/>\r\n",
       "<text text-anchor=\"middle\" x=\"1514\" y=\"-973.8\" font-family=\"Times New Roman,serif\" font-size=\"14.00\">X[6] &lt;= &#45;5.283</text>\r\n",
       "<text text-anchor=\"middle\" x=\"1514\" y=\"-958.8\" font-family=\"Times New Roman,serif\" font-size=\"14.00\">gini = 0.037</text>\r\n",
       "<text text-anchor=\"middle\" x=\"1514\" y=\"-943.8\" font-family=\"Times New Roman,serif\" font-size=\"14.00\">samples = 268</text>\r\n",
       "<text text-anchor=\"middle\" x=\"1514\" y=\"-928.8\" font-family=\"Times New Roman,serif\" font-size=\"14.00\">value = [263, 5]</text>\r\n",
       "</g>\r\n",
       "<!-- 69&#45;&gt;79 -->\r\n",
       "<g id=\"edge79\" class=\"edge\"><title>69&#45;&gt;79</title>\r\n",
       "<path fill=\"none\" stroke=\"black\" d=\"M1472.8,-1024.88C1477.92,-1016.33 1483.49,-1007.01 1488.84,-998.072\"/>\r\n",
       "<polygon fill=\"black\" stroke=\"black\" points=\"1491.96,-999.678 1494.09,-989.299 1485.95,-996.085 1491.96,-999.678\"/>\r\n",
       "</g>\r\n",
       "<!-- 71 -->\r\n",
       "<g id=\"node72\" class=\"node\"><title>71</title>\r\n",
       "<polygon fill=\"none\" stroke=\"black\" points=\"1321,-877.5 1223,-877.5 1223,-824.5 1321,-824.5 1321,-877.5\"/>\r\n",
       "<text text-anchor=\"middle\" x=\"1272\" y=\"-862.3\" font-family=\"Times New Roman,serif\" font-size=\"14.00\">gini = 0.0</text>\r\n",
       "<text text-anchor=\"middle\" x=\"1272\" y=\"-847.3\" font-family=\"Times New Roman,serif\" font-size=\"14.00\">samples = 17</text>\r\n",
       "<text text-anchor=\"middle\" x=\"1272\" y=\"-832.3\" font-family=\"Times New Roman,serif\" font-size=\"14.00\">value = [0, 17]</text>\r\n",
       "</g>\r\n",
       "<!-- 70&#45;&gt;71 -->\r\n",
       "<g id=\"edge71\" class=\"edge\"><title>70&#45;&gt;71</title>\r\n",
       "<path fill=\"none\" stroke=\"black\" d=\"M1353.04,-920.884C1339.2,-909.116 1323.64,-895.894 1309.89,-884.203\"/>\r\n",
       "<polygon fill=\"black\" stroke=\"black\" points=\"1311.91,-881.33 1302.02,-877.52 1307.38,-886.663 1311.91,-881.33\"/>\r\n",
       "</g>\r\n",
       "<!-- 72 -->\r\n",
       "<g id=\"node73\" class=\"node\"><title>72</title>\r\n",
       "<polygon fill=\"none\" stroke=\"black\" points=\"1447,-885 1339,-885 1339,-817 1447,-817 1447,-885\"/>\r\n",
       "<text text-anchor=\"middle\" x=\"1393\" y=\"-869.8\" font-family=\"Times New Roman,serif\" font-size=\"14.00\">X[17] &lt;= &#45;0.474</text>\r\n",
       "<text text-anchor=\"middle\" x=\"1393\" y=\"-854.8\" font-family=\"Times New Roman,serif\" font-size=\"14.00\">gini = 0.298</text>\r\n",
       "<text text-anchor=\"middle\" x=\"1393\" y=\"-839.8\" font-family=\"Times New Roman,serif\" font-size=\"14.00\">samples = 22</text>\r\n",
       "<text text-anchor=\"middle\" x=\"1393\" y=\"-824.8\" font-family=\"Times New Roman,serif\" font-size=\"14.00\">value = [18, 4]</text>\r\n",
       "</g>\r\n",
       "<!-- 70&#45;&gt;72 -->\r\n",
       "<g id=\"edge72\" class=\"edge\"><title>70&#45;&gt;72</title>\r\n",
       "<path fill=\"none\" stroke=\"black\" d=\"M1392.32,-920.884C1392.4,-912.778 1392.49,-903.982 1392.57,-895.472\"/>\r\n",
       "<polygon fill=\"black\" stroke=\"black\" points=\"1396.08,-895.333 1392.67,-885.299 1389.08,-895.265 1396.08,-895.333\"/>\r\n",
       "</g>\r\n",
       "<!-- 73 -->\r\n",
       "<g id=\"node74\" class=\"node\"><title>73</title>\r\n",
       "<polygon fill=\"none\" stroke=\"black\" points=\"1321.5,-781 1220.5,-781 1220.5,-713 1321.5,-713 1321.5,-781\"/>\r\n",
       "<text text-anchor=\"middle\" x=\"1271\" y=\"-765.8\" font-family=\"Times New Roman,serif\" font-size=\"14.00\">X[8] &lt;= &#45;0.756</text>\r\n",
       "<text text-anchor=\"middle\" x=\"1271\" y=\"-750.8\" font-family=\"Times New Roman,serif\" font-size=\"14.00\">gini = 0.375</text>\r\n",
       "<text text-anchor=\"middle\" x=\"1271\" y=\"-735.8\" font-family=\"Times New Roman,serif\" font-size=\"14.00\">samples = 4</text>\r\n",
       "<text text-anchor=\"middle\" x=\"1271\" y=\"-720.8\" font-family=\"Times New Roman,serif\" font-size=\"14.00\">value = [1, 3]</text>\r\n",
       "</g>\r\n",
       "<!-- 72&#45;&gt;73 -->\r\n",
       "<g id=\"edge73\" class=\"edge\"><title>72&#45;&gt;73</title>\r\n",
       "<path fill=\"none\" stroke=\"black\" d=\"M1353.39,-816.884C1342.31,-807.62 1330.15,-797.455 1318.66,-787.845\"/>\r\n",
       "<polygon fill=\"black\" stroke=\"black\" points=\"1320.75,-785.028 1310.83,-781.299 1316.26,-790.399 1320.75,-785.028\"/>\r\n",
       "</g>\r\n",
       "<!-- 76 -->\r\n",
       "<g id=\"node77\" class=\"node\"><title>76</title>\r\n",
       "<polygon fill=\"none\" stroke=\"black\" points=\"1445,-781 1341,-781 1341,-713 1445,-713 1445,-781\"/>\r\n",
       "<text text-anchor=\"middle\" x=\"1393\" y=\"-765.8\" font-family=\"Times New Roman,serif\" font-size=\"14.00\">X[10] &lt;= 0.508</text>\r\n",
       "<text text-anchor=\"middle\" x=\"1393\" y=\"-750.8\" font-family=\"Times New Roman,serif\" font-size=\"14.00\">gini = 0.105</text>\r\n",
       "<text text-anchor=\"middle\" x=\"1393\" y=\"-735.8\" font-family=\"Times New Roman,serif\" font-size=\"14.00\">samples = 18</text>\r\n",
       "<text text-anchor=\"middle\" x=\"1393\" y=\"-720.8\" font-family=\"Times New Roman,serif\" font-size=\"14.00\">value = [17, 1]</text>\r\n",
       "</g>\r\n",
       "<!-- 72&#45;&gt;76 -->\r\n",
       "<g id=\"edge76\" class=\"edge\"><title>72&#45;&gt;76</title>\r\n",
       "<path fill=\"none\" stroke=\"black\" d=\"M1393,-816.884C1393,-808.778 1393,-799.982 1393,-791.472\"/>\r\n",
       "<polygon fill=\"black\" stroke=\"black\" points=\"1396.5,-791.299 1393,-781.299 1389.5,-791.299 1396.5,-791.299\"/>\r\n",
       "</g>\r\n",
       "<!-- 74 -->\r\n",
       "<g id=\"node75\" class=\"node\"><title>74</title>\r\n",
       "<polygon fill=\"none\" stroke=\"black\" points=\"1207.5,-669.5 1116.5,-669.5 1116.5,-616.5 1207.5,-616.5 1207.5,-669.5\"/>\r\n",
       "<text text-anchor=\"middle\" x=\"1162\" y=\"-654.3\" font-family=\"Times New Roman,serif\" font-size=\"14.00\">gini = 0.0</text>\r\n",
       "<text text-anchor=\"middle\" x=\"1162\" y=\"-639.3\" font-family=\"Times New Roman,serif\" font-size=\"14.00\">samples = 1</text>\r\n",
       "<text text-anchor=\"middle\" x=\"1162\" y=\"-624.3\" font-family=\"Times New Roman,serif\" font-size=\"14.00\">value = [1, 0]</text>\r\n",
       "</g>\r\n",
       "<!-- 73&#45;&gt;74 -->\r\n",
       "<g id=\"edge74\" class=\"edge\"><title>73&#45;&gt;74</title>\r\n",
       "<path fill=\"none\" stroke=\"black\" d=\"M1235.61,-712.884C1223.15,-701.226 1209.17,-688.141 1196.76,-676.532\"/>\r\n",
       "<polygon fill=\"black\" stroke=\"black\" points=\"1198.96,-673.797 1189.27,-669.52 1194.18,-678.908 1198.96,-673.797\"/>\r\n",
       "</g>\r\n",
       "<!-- 75 -->\r\n",
       "<g id=\"node76\" class=\"node\"><title>75</title>\r\n",
       "<polygon fill=\"none\" stroke=\"black\" points=\"1316.5,-669.5 1225.5,-669.5 1225.5,-616.5 1316.5,-616.5 1316.5,-669.5\"/>\r\n",
       "<text text-anchor=\"middle\" x=\"1271\" y=\"-654.3\" font-family=\"Times New Roman,serif\" font-size=\"14.00\">gini = 0.0</text>\r\n",
       "<text text-anchor=\"middle\" x=\"1271\" y=\"-639.3\" font-family=\"Times New Roman,serif\" font-size=\"14.00\">samples = 3</text>\r\n",
       "<text text-anchor=\"middle\" x=\"1271\" y=\"-624.3\" font-family=\"Times New Roman,serif\" font-size=\"14.00\">value = [0, 3]</text>\r\n",
       "</g>\r\n",
       "<!-- 73&#45;&gt;75 -->\r\n",
       "<g id=\"edge75\" class=\"edge\"><title>73&#45;&gt;75</title>\r\n",
       "<path fill=\"none\" stroke=\"black\" d=\"M1271,-712.884C1271,-702.326 1271,-690.597 1271,-679.854\"/>\r\n",
       "<polygon fill=\"black\" stroke=\"black\" points=\"1274.5,-679.52 1271,-669.52 1267.5,-679.52 1274.5,-679.52\"/>\r\n",
       "</g>\r\n",
       "<!-- 77 -->\r\n",
       "<g id=\"node78\" class=\"node\"><title>77</title>\r\n",
       "<polygon fill=\"none\" stroke=\"black\" points=\"1433,-669.5 1335,-669.5 1335,-616.5 1433,-616.5 1433,-669.5\"/>\r\n",
       "<text text-anchor=\"middle\" x=\"1384\" y=\"-654.3\" font-family=\"Times New Roman,serif\" font-size=\"14.00\">gini = 0.0</text>\r\n",
       "<text text-anchor=\"middle\" x=\"1384\" y=\"-639.3\" font-family=\"Times New Roman,serif\" font-size=\"14.00\">samples = 17</text>\r\n",
       "<text text-anchor=\"middle\" x=\"1384\" y=\"-624.3\" font-family=\"Times New Roman,serif\" font-size=\"14.00\">value = [17, 0]</text>\r\n",
       "</g>\r\n",
       "<!-- 76&#45;&gt;77 -->\r\n",
       "<g id=\"edge77\" class=\"edge\"><title>76&#45;&gt;77</title>\r\n",
       "<path fill=\"none\" stroke=\"black\" d=\"M1390.08,-712.884C1389.14,-702.216 1388.09,-690.352 1387.13,-679.519\"/>\r\n",
       "<polygon fill=\"black\" stroke=\"black\" points=\"1390.62,-679.174 1386.25,-669.52 1383.64,-679.789 1390.62,-679.174\"/>\r\n",
       "</g>\r\n",
       "<!-- 78 -->\r\n",
       "<g id=\"node79\" class=\"node\"><title>78</title>\r\n",
       "<polygon fill=\"none\" stroke=\"black\" points=\"1542.5,-669.5 1451.5,-669.5 1451.5,-616.5 1542.5,-616.5 1542.5,-669.5\"/>\r\n",
       "<text text-anchor=\"middle\" x=\"1497\" y=\"-654.3\" font-family=\"Times New Roman,serif\" font-size=\"14.00\">gini = 0.0</text>\r\n",
       "<text text-anchor=\"middle\" x=\"1497\" y=\"-639.3\" font-family=\"Times New Roman,serif\" font-size=\"14.00\">samples = 1</text>\r\n",
       "<text text-anchor=\"middle\" x=\"1497\" y=\"-624.3\" font-family=\"Times New Roman,serif\" font-size=\"14.00\">value = [0, 1]</text>\r\n",
       "</g>\r\n",
       "<!-- 76&#45;&gt;78 -->\r\n",
       "<g id=\"edge78\" class=\"edge\"><title>76&#45;&gt;78</title>\r\n",
       "<path fill=\"none\" stroke=\"black\" d=\"M1426.77,-712.884C1438.65,-701.226 1451.99,-688.141 1463.83,-676.532\"/>\r\n",
       "<polygon fill=\"black\" stroke=\"black\" points=\"1466.29,-679.021 1470.98,-669.52 1461.39,-674.023 1466.29,-679.021\"/>\r\n",
       "</g>\r\n",
       "<!-- 80 -->\r\n",
       "<g id=\"node81\" class=\"node\"><title>80</title>\r\n",
       "<polygon fill=\"none\" stroke=\"black\" points=\"1558.5,-877.5 1467.5,-877.5 1467.5,-824.5 1558.5,-824.5 1558.5,-877.5\"/>\r\n",
       "<text text-anchor=\"middle\" x=\"1513\" y=\"-862.3\" font-family=\"Times New Roman,serif\" font-size=\"14.00\">gini = 0.0</text>\r\n",
       "<text text-anchor=\"middle\" x=\"1513\" y=\"-847.3\" font-family=\"Times New Roman,serif\" font-size=\"14.00\">samples = 1</text>\r\n",
       "<text text-anchor=\"middle\" x=\"1513\" y=\"-832.3\" font-family=\"Times New Roman,serif\" font-size=\"14.00\">value = [0, 1]</text>\r\n",
       "</g>\r\n",
       "<!-- 79&#45;&gt;80 -->\r\n",
       "<g id=\"edge80\" class=\"edge\"><title>79&#45;&gt;80</title>\r\n",
       "<path fill=\"none\" stroke=\"black\" d=\"M1513.68,-920.884C1513.57,-910.326 1513.46,-898.597 1513.35,-887.854\"/>\r\n",
       "<polygon fill=\"black\" stroke=\"black\" points=\"1516.85,-887.485 1513.25,-877.52 1509.85,-887.554 1516.85,-887.485\"/>\r\n",
       "</g>\r\n",
       "<!-- 81 -->\r\n",
       "<g id=\"node82\" class=\"node\"><title>81</title>\r\n",
       "<polygon fill=\"none\" stroke=\"black\" points=\"1681,-885 1577,-885 1577,-817 1681,-817 1681,-885\"/>\r\n",
       "<text text-anchor=\"middle\" x=\"1629\" y=\"-869.8\" font-family=\"Times New Roman,serif\" font-size=\"14.00\">X[0] &lt;= 2.812</text>\r\n",
       "<text text-anchor=\"middle\" x=\"1629\" y=\"-854.8\" font-family=\"Times New Roman,serif\" font-size=\"14.00\">gini = 0.03</text>\r\n",
       "<text text-anchor=\"middle\" x=\"1629\" y=\"-839.8\" font-family=\"Times New Roman,serif\" font-size=\"14.00\">samples = 267</text>\r\n",
       "<text text-anchor=\"middle\" x=\"1629\" y=\"-824.8\" font-family=\"Times New Roman,serif\" font-size=\"14.00\">value = [263, 4]</text>\r\n",
       "</g>\r\n",
       "<!-- 79&#45;&gt;81 -->\r\n",
       "<g id=\"edge81\" class=\"edge\"><title>79&#45;&gt;81</title>\r\n",
       "<path fill=\"none\" stroke=\"black\" d=\"M1551.34,-920.884C1561.68,-911.709 1573.02,-901.65 1583.76,-892.123\"/>\r\n",
       "<polygon fill=\"black\" stroke=\"black\" points=\"1586.3,-894.553 1591.46,-885.299 1581.65,-889.317 1586.3,-894.553\"/>\r\n",
       "</g>\r\n",
       "<!-- 82 -->\r\n",
       "<g id=\"node83\" class=\"node\"><title>82</title>\r\n",
       "<polygon fill=\"none\" stroke=\"black\" points=\"1665,-781 1561,-781 1561,-713 1665,-713 1665,-781\"/>\r\n",
       "<text text-anchor=\"middle\" x=\"1613\" y=\"-765.8\" font-family=\"Times New Roman,serif\" font-size=\"14.00\">X[10] &lt;= 2.33</text>\r\n",
       "<text text-anchor=\"middle\" x=\"1613\" y=\"-750.8\" font-family=\"Times New Roman,serif\" font-size=\"14.00\">gini = 0.022</text>\r\n",
       "<text text-anchor=\"middle\" x=\"1613\" y=\"-735.8\" font-family=\"Times New Roman,serif\" font-size=\"14.00\">samples = 266</text>\r\n",
       "<text text-anchor=\"middle\" x=\"1613\" y=\"-720.8\" font-family=\"Times New Roman,serif\" font-size=\"14.00\">value = [263, 3]</text>\r\n",
       "</g>\r\n",
       "<!-- 81&#45;&gt;82 -->\r\n",
       "<g id=\"edge82\" class=\"edge\"><title>81&#45;&gt;82</title>\r\n",
       "<path fill=\"none\" stroke=\"black\" d=\"M1623.81,-816.884C1622.52,-808.689 1621.12,-799.789 1619.78,-791.192\"/>\r\n",
       "<polygon fill=\"black\" stroke=\"black\" points=\"1623.23,-790.636 1618.22,-781.299 1616.32,-791.721 1623.23,-790.636\"/>\r\n",
       "</g>\r\n",
       "<!-- 93 -->\r\n",
       "<g id=\"node94\" class=\"node\"><title>93</title>\r\n",
       "<polygon fill=\"none\" stroke=\"black\" points=\"1774.5,-773.5 1683.5,-773.5 1683.5,-720.5 1774.5,-720.5 1774.5,-773.5\"/>\r\n",
       "<text text-anchor=\"middle\" x=\"1729\" y=\"-758.3\" font-family=\"Times New Roman,serif\" font-size=\"14.00\">gini = 0.0</text>\r\n",
       "<text text-anchor=\"middle\" x=\"1729\" y=\"-743.3\" font-family=\"Times New Roman,serif\" font-size=\"14.00\">samples = 1</text>\r\n",
       "<text text-anchor=\"middle\" x=\"1729\" y=\"-728.3\" font-family=\"Times New Roman,serif\" font-size=\"14.00\">value = [0, 1]</text>\r\n",
       "</g>\r\n",
       "<!-- 81&#45;&gt;93 -->\r\n",
       "<g id=\"edge93\" class=\"edge\"><title>81&#45;&gt;93</title>\r\n",
       "<path fill=\"none\" stroke=\"black\" d=\"M1661.47,-816.884C1672.79,-805.336 1685.48,-792.387 1696.78,-780.86\"/>\r\n",
       "<polygon fill=\"black\" stroke=\"black\" points=\"1699.48,-783.111 1703.98,-773.52 1694.48,-778.21 1699.48,-783.111\"/>\r\n",
       "</g>\r\n",
       "<!-- 83 -->\r\n",
       "<g id=\"node84\" class=\"node\"><title>83</title>\r\n",
       "<polygon fill=\"none\" stroke=\"black\" points=\"1665,-677 1561,-677 1561,-609 1665,-609 1665,-677\"/>\r\n",
       "<text text-anchor=\"middle\" x=\"1613\" y=\"-661.8\" font-family=\"Times New Roman,serif\" font-size=\"14.00\">X[11] &lt;= &#45;1.38</text>\r\n",
       "<text text-anchor=\"middle\" x=\"1613\" y=\"-646.8\" font-family=\"Times New Roman,serif\" font-size=\"14.00\">gini = 0.015</text>\r\n",
       "<text text-anchor=\"middle\" x=\"1613\" y=\"-631.8\" font-family=\"Times New Roman,serif\" font-size=\"14.00\">samples = 265</text>\r\n",
       "<text text-anchor=\"middle\" x=\"1613\" y=\"-616.8\" font-family=\"Times New Roman,serif\" font-size=\"14.00\">value = [263, 2]</text>\r\n",
       "</g>\r\n",
       "<!-- 82&#45;&gt;83 -->\r\n",
       "<g id=\"edge83\" class=\"edge\"><title>82&#45;&gt;83</title>\r\n",
       "<path fill=\"none\" stroke=\"black\" d=\"M1613,-712.884C1613,-704.778 1613,-695.982 1613,-687.472\"/>\r\n",
       "<polygon fill=\"black\" stroke=\"black\" points=\"1616.5,-687.299 1613,-677.299 1609.5,-687.299 1616.5,-687.299\"/>\r\n",
       "</g>\r\n",
       "<!-- 92 -->\r\n",
       "<g id=\"node93\" class=\"node\"><title>92</title>\r\n",
       "<polygon fill=\"none\" stroke=\"black\" points=\"1774.5,-669.5 1683.5,-669.5 1683.5,-616.5 1774.5,-616.5 1774.5,-669.5\"/>\r\n",
       "<text text-anchor=\"middle\" x=\"1729\" y=\"-654.3\" font-family=\"Times New Roman,serif\" font-size=\"14.00\">gini = 0.0</text>\r\n",
       "<text text-anchor=\"middle\" x=\"1729\" y=\"-639.3\" font-family=\"Times New Roman,serif\" font-size=\"14.00\">samples = 1</text>\r\n",
       "<text text-anchor=\"middle\" x=\"1729\" y=\"-624.3\" font-family=\"Times New Roman,serif\" font-size=\"14.00\">value = [0, 1]</text>\r\n",
       "</g>\r\n",
       "<!-- 82&#45;&gt;92 -->\r\n",
       "<g id=\"edge92\" class=\"edge\"><title>82&#45;&gt;92</title>\r\n",
       "<path fill=\"none\" stroke=\"black\" d=\"M1650.66,-712.884C1664.04,-701.116 1679.08,-687.894 1692.38,-676.203\"/>\r\n",
       "<polygon fill=\"black\" stroke=\"black\" points=\"1694.78,-678.752 1699.98,-669.52 1690.16,-673.495 1694.78,-678.752\"/>\r\n",
       "</g>\r\n",
       "<!-- 84 -->\r\n",
       "<g id=\"node85\" class=\"node\"><title>84</title>\r\n",
       "<polygon fill=\"none\" stroke=\"black\" points=\"1547,-573 1443,-573 1443,-505 1547,-505 1547,-573\"/>\r\n",
       "<text text-anchor=\"middle\" x=\"1495\" y=\"-557.8\" font-family=\"Times New Roman,serif\" font-size=\"14.00\">X[14] &lt;= 1.777</text>\r\n",
       "<text text-anchor=\"middle\" x=\"1495\" y=\"-542.8\" font-family=\"Times New Roman,serif\" font-size=\"14.00\">gini = 0.165</text>\r\n",
       "<text text-anchor=\"middle\" x=\"1495\" y=\"-527.8\" font-family=\"Times New Roman,serif\" font-size=\"14.00\">samples = 22</text>\r\n",
       "<text text-anchor=\"middle\" x=\"1495\" y=\"-512.8\" font-family=\"Times New Roman,serif\" font-size=\"14.00\">value = [20, 2]</text>\r\n",
       "</g>\r\n",
       "<!-- 83&#45;&gt;84 -->\r\n",
       "<g id=\"edge84\" class=\"edge\"><title>83&#45;&gt;84</title>\r\n",
       "<path fill=\"none\" stroke=\"black\" d=\"M1574.69,-608.884C1563.97,-599.62 1552.21,-589.455 1541.1,-579.845\"/>\r\n",
       "<polygon fill=\"black\" stroke=\"black\" points=\"1543.38,-577.191 1533.52,-573.299 1538.8,-582.487 1543.38,-577.191\"/>\r\n",
       "</g>\r\n",
       "<!-- 91 -->\r\n",
       "<g id=\"node92\" class=\"node\"><title>91</title>\r\n",
       "<polygon fill=\"none\" stroke=\"black\" points=\"1669,-565.5 1565,-565.5 1565,-512.5 1669,-512.5 1669,-565.5\"/>\r\n",
       "<text text-anchor=\"middle\" x=\"1617\" y=\"-550.3\" font-family=\"Times New Roman,serif\" font-size=\"14.00\">gini = 0.0</text>\r\n",
       "<text text-anchor=\"middle\" x=\"1617\" y=\"-535.3\" font-family=\"Times New Roman,serif\" font-size=\"14.00\">samples = 243</text>\r\n",
       "<text text-anchor=\"middle\" x=\"1617\" y=\"-520.3\" font-family=\"Times New Roman,serif\" font-size=\"14.00\">value = [243, 0]</text>\r\n",
       "</g>\r\n",
       "<!-- 83&#45;&gt;91 -->\r\n",
       "<g id=\"edge91\" class=\"edge\"><title>83&#45;&gt;91</title>\r\n",
       "<path fill=\"none\" stroke=\"black\" d=\"M1614.3,-608.884C1614.72,-598.216 1615.18,-586.352 1615.61,-575.519\"/>\r\n",
       "<polygon fill=\"black\" stroke=\"black\" points=\"1619.1,-575.649 1616,-565.52 1612.11,-575.375 1619.1,-575.649\"/>\r\n",
       "</g>\r\n",
       "<!-- 85 -->\r\n",
       "<g id=\"node86\" class=\"node\"><title>85</title>\r\n",
       "<polygon fill=\"none\" stroke=\"black\" points=\"1537,-469 1439,-469 1439,-401 1537,-401 1537,-469\"/>\r\n",
       "<text text-anchor=\"middle\" x=\"1488\" y=\"-453.8\" font-family=\"Times New Roman,serif\" font-size=\"14.00\">X[1] &lt;= 0.834</text>\r\n",
       "<text text-anchor=\"middle\" x=\"1488\" y=\"-438.8\" font-family=\"Times New Roman,serif\" font-size=\"14.00\">gini = 0.091</text>\r\n",
       "<text text-anchor=\"middle\" x=\"1488\" y=\"-423.8\" font-family=\"Times New Roman,serif\" font-size=\"14.00\">samples = 21</text>\r\n",
       "<text text-anchor=\"middle\" x=\"1488\" y=\"-408.8\" font-family=\"Times New Roman,serif\" font-size=\"14.00\">value = [20, 1]</text>\r\n",
       "</g>\r\n",
       "<!-- 84&#45;&gt;85 -->\r\n",
       "<g id=\"edge85\" class=\"edge\"><title>84&#45;&gt;85</title>\r\n",
       "<path fill=\"none\" stroke=\"black\" d=\"M1492.73,-504.884C1492.17,-496.778 1491.57,-487.982 1490.98,-479.472\"/>\r\n",
       "<polygon fill=\"black\" stroke=\"black\" points=\"1494.46,-479.036 1490.29,-469.299 1487.48,-479.516 1494.46,-479.036\"/>\r\n",
       "</g>\r\n",
       "<!-- 90 -->\r\n",
       "<g id=\"node91\" class=\"node\"><title>90</title>\r\n",
       "<polygon fill=\"none\" stroke=\"black\" points=\"1646.5,-461.5 1555.5,-461.5 1555.5,-408.5 1646.5,-408.5 1646.5,-461.5\"/>\r\n",
       "<text text-anchor=\"middle\" x=\"1601\" y=\"-446.3\" font-family=\"Times New Roman,serif\" font-size=\"14.00\">gini = 0.0</text>\r\n",
       "<text text-anchor=\"middle\" x=\"1601\" y=\"-431.3\" font-family=\"Times New Roman,serif\" font-size=\"14.00\">samples = 1</text>\r\n",
       "<text text-anchor=\"middle\" x=\"1601\" y=\"-416.3\" font-family=\"Times New Roman,serif\" font-size=\"14.00\">value = [0, 1]</text>\r\n",
       "</g>\r\n",
       "<!-- 84&#45;&gt;90 -->\r\n",
       "<g id=\"edge90\" class=\"edge\"><title>84&#45;&gt;90</title>\r\n",
       "<path fill=\"none\" stroke=\"black\" d=\"M1529.42,-504.884C1541.53,-493.226 1555.13,-480.141 1567.19,-468.532\"/>\r\n",
       "<polygon fill=\"black\" stroke=\"black\" points=\"1569.7,-470.976 1574.48,-461.52 1564.85,-465.932 1569.7,-470.976\"/>\r\n",
       "</g>\r\n",
       "<!-- 86 -->\r\n",
       "<g id=\"node87\" class=\"node\"><title>86</title>\r\n",
       "<polygon fill=\"none\" stroke=\"black\" points=\"1514,-357.5 1416,-357.5 1416,-304.5 1514,-304.5 1514,-357.5\"/>\r\n",
       "<text text-anchor=\"middle\" x=\"1465\" y=\"-342.3\" font-family=\"Times New Roman,serif\" font-size=\"14.00\">gini = 0.0</text>\r\n",
       "<text text-anchor=\"middle\" x=\"1465\" y=\"-327.3\" font-family=\"Times New Roman,serif\" font-size=\"14.00\">samples = 19</text>\r\n",
       "<text text-anchor=\"middle\" x=\"1465\" y=\"-312.3\" font-family=\"Times New Roman,serif\" font-size=\"14.00\">value = [19, 0]</text>\r\n",
       "</g>\r\n",
       "<!-- 85&#45;&gt;86 -->\r\n",
       "<g id=\"edge86\" class=\"edge\"><title>85&#45;&gt;86</title>\r\n",
       "<path fill=\"none\" stroke=\"black\" d=\"M1480.53,-400.884C1478.13,-390.216 1475.45,-378.352 1473.01,-367.519\"/>\r\n",
       "<polygon fill=\"black\" stroke=\"black\" points=\"1476.37,-366.505 1470.75,-357.52 1469.54,-368.045 1476.37,-366.505\"/>\r\n",
       "</g>\r\n",
       "<!-- 87 -->\r\n",
       "<g id=\"node88\" class=\"node\"><title>87</title>\r\n",
       "<polygon fill=\"none\" stroke=\"black\" points=\"1633.5,-365 1532.5,-365 1532.5,-297 1633.5,-297 1633.5,-365\"/>\r\n",
       "<text text-anchor=\"middle\" x=\"1583\" y=\"-349.8\" font-family=\"Times New Roman,serif\" font-size=\"14.00\">X[0] &lt;= &#45;0.009</text>\r\n",
       "<text text-anchor=\"middle\" x=\"1583\" y=\"-334.8\" font-family=\"Times New Roman,serif\" font-size=\"14.00\">gini = 0.5</text>\r\n",
       "<text text-anchor=\"middle\" x=\"1583\" y=\"-319.8\" font-family=\"Times New Roman,serif\" font-size=\"14.00\">samples = 2</text>\r\n",
       "<text text-anchor=\"middle\" x=\"1583\" y=\"-304.8\" font-family=\"Times New Roman,serif\" font-size=\"14.00\">value = [1, 1]</text>\r\n",
       "</g>\r\n",
       "<!-- 85&#45;&gt;87 -->\r\n",
       "<g id=\"edge87\" class=\"edge\"><title>85&#45;&gt;87</title>\r\n",
       "<path fill=\"none\" stroke=\"black\" d=\"M1518.84,-400.884C1527.22,-391.887 1536.39,-382.041 1545.11,-372.678\"/>\r\n",
       "<polygon fill=\"black\" stroke=\"black\" points=\"1547.73,-375.003 1551.99,-365.299 1542.61,-370.232 1547.73,-375.003\"/>\r\n",
       "</g>\r\n",
       "<!-- 88 -->\r\n",
       "<g id=\"node89\" class=\"node\"><title>88</title>\r\n",
       "<polygon fill=\"none\" stroke=\"black\" points=\"1573.5,-253.5 1482.5,-253.5 1482.5,-200.5 1573.5,-200.5 1573.5,-253.5\"/>\r\n",
       "<text text-anchor=\"middle\" x=\"1528\" y=\"-238.3\" font-family=\"Times New Roman,serif\" font-size=\"14.00\">gini = 0.0</text>\r\n",
       "<text text-anchor=\"middle\" x=\"1528\" y=\"-223.3\" font-family=\"Times New Roman,serif\" font-size=\"14.00\">samples = 1</text>\r\n",
       "<text text-anchor=\"middle\" x=\"1528\" y=\"-208.3\" font-family=\"Times New Roman,serif\" font-size=\"14.00\">value = [0, 1]</text>\r\n",
       "</g>\r\n",
       "<!-- 87&#45;&gt;88 -->\r\n",
       "<g id=\"edge88\" class=\"edge\"><title>87&#45;&gt;88</title>\r\n",
       "<path fill=\"none\" stroke=\"black\" d=\"M1565.14,-296.884C1559.21,-285.886 1552.6,-273.617 1546.61,-262.517\"/>\r\n",
       "<polygon fill=\"black\" stroke=\"black\" points=\"1549.59,-260.661 1541.76,-253.52 1543.43,-263.983 1549.59,-260.661\"/>\r\n",
       "</g>\r\n",
       "<!-- 89 -->\r\n",
       "<g id=\"node90\" class=\"node\"><title>89</title>\r\n",
       "<polygon fill=\"none\" stroke=\"black\" points=\"1682.5,-253.5 1591.5,-253.5 1591.5,-200.5 1682.5,-200.5 1682.5,-253.5\"/>\r\n",
       "<text text-anchor=\"middle\" x=\"1637\" y=\"-238.3\" font-family=\"Times New Roman,serif\" font-size=\"14.00\">gini = 0.0</text>\r\n",
       "<text text-anchor=\"middle\" x=\"1637\" y=\"-223.3\" font-family=\"Times New Roman,serif\" font-size=\"14.00\">samples = 1</text>\r\n",
       "<text text-anchor=\"middle\" x=\"1637\" y=\"-208.3\" font-family=\"Times New Roman,serif\" font-size=\"14.00\">value = [1, 0]</text>\r\n",
       "</g>\r\n",
       "<!-- 87&#45;&gt;89 -->\r\n",
       "<g id=\"edge89\" class=\"edge\"><title>87&#45;&gt;89</title>\r\n",
       "<path fill=\"none\" stroke=\"black\" d=\"M1600.53,-296.884C1606.35,-285.886 1612.85,-273.617 1618.73,-262.517\"/>\r\n",
       "<polygon fill=\"black\" stroke=\"black\" points=\"1621.9,-263.995 1623.49,-253.52 1615.72,-260.72 1621.9,-263.995\"/>\r\n",
       "</g>\r\n",
       "<!-- 95 -->\r\n",
       "<g id=\"node96\" class=\"node\"><title>95</title>\r\n",
       "<polygon fill=\"none\" stroke=\"black\" points=\"2063,-989 1955,-989 1955,-921 2063,-921 2063,-989\"/>\r\n",
       "<text text-anchor=\"middle\" x=\"2009\" y=\"-973.8\" font-family=\"Times New Roman,serif\" font-size=\"14.00\">X[17] &lt;= &#45;3.127</text>\r\n",
       "<text text-anchor=\"middle\" x=\"2009\" y=\"-958.8\" font-family=\"Times New Roman,serif\" font-size=\"14.00\">gini = 0.427</text>\r\n",
       "<text text-anchor=\"middle\" x=\"2009\" y=\"-943.8\" font-family=\"Times New Roman,serif\" font-size=\"14.00\">samples = 68</text>\r\n",
       "<text text-anchor=\"middle\" x=\"2009\" y=\"-928.8\" font-family=\"Times New Roman,serif\" font-size=\"14.00\">value = [47, 21]</text>\r\n",
       "</g>\r\n",
       "<!-- 94&#45;&gt;95 -->\r\n",
       "<g id=\"edge95\" class=\"edge\"><title>94&#45;&gt;95</title>\r\n",
       "<path fill=\"none\" stroke=\"black\" d=\"M2009,-1024.88C2009,-1016.78 2009,-1007.98 2009,-999.472\"/>\r\n",
       "<polygon fill=\"black\" stroke=\"black\" points=\"2012.5,-999.299 2009,-989.299 2005.5,-999.299 2012.5,-999.299\"/>\r\n",
       "</g>\r\n",
       "<!-- 114 -->\r\n",
       "<g id=\"node115\" class=\"node\"><title>114</title>\r\n",
       "<polygon fill=\"none\" stroke=\"black\" points=\"2462.5,-989 2351.5,-989 2351.5,-921 2462.5,-921 2462.5,-989\"/>\r\n",
       "<text text-anchor=\"middle\" x=\"2407\" y=\"-973.8\" font-family=\"Times New Roman,serif\" font-size=\"14.00\">X[17] &lt;= 0.625</text>\r\n",
       "<text text-anchor=\"middle\" x=\"2407\" y=\"-958.8\" font-family=\"Times New Roman,serif\" font-size=\"14.00\">gini = 0.256</text>\r\n",
       "<text text-anchor=\"middle\" x=\"2407\" y=\"-943.8\" font-family=\"Times New Roman,serif\" font-size=\"14.00\">samples = 126</text>\r\n",
       "<text text-anchor=\"middle\" x=\"2407\" y=\"-928.8\" font-family=\"Times New Roman,serif\" font-size=\"14.00\">value = [19, 107]</text>\r\n",
       "</g>\r\n",
       "<!-- 94&#45;&gt;114 -->\r\n",
       "<g id=\"edge114\" class=\"edge\"><title>94&#45;&gt;114</title>\r\n",
       "<path fill=\"none\" stroke=\"black\" d=\"M2064.76,-1043.71C2137.34,-1025.11 2264,-992.647 2341.21,-972.861\"/>\r\n",
       "<polygon fill=\"black\" stroke=\"black\" points=\"2342.48,-976.149 2351.3,-970.275 2340.74,-969.368 2342.48,-976.149\"/>\r\n",
       "</g>\r\n",
       "<!-- 96 -->\r\n",
       "<g id=\"node97\" class=\"node\"><title>96</title>\r\n",
       "<polygon fill=\"none\" stroke=\"black\" points=\"1999,-885 1901,-885 1901,-817 1999,-817 1999,-885\"/>\r\n",
       "<text text-anchor=\"middle\" x=\"1950\" y=\"-869.8\" font-family=\"Times New Roman,serif\" font-size=\"14.00\">X[2] &lt;= 0.599</text>\r\n",
       "<text text-anchor=\"middle\" x=\"1950\" y=\"-854.8\" font-family=\"Times New Roman,serif\" font-size=\"14.00\">gini = 0.165</text>\r\n",
       "<text text-anchor=\"middle\" x=\"1950\" y=\"-839.8\" font-family=\"Times New Roman,serif\" font-size=\"14.00\">samples = 11</text>\r\n",
       "<text text-anchor=\"middle\" x=\"1950\" y=\"-824.8\" font-family=\"Times New Roman,serif\" font-size=\"14.00\">value = [1, 10]</text>\r\n",
       "</g>\r\n",
       "<!-- 95&#45;&gt;96 -->\r\n",
       "<g id=\"edge96\" class=\"edge\"><title>95&#45;&gt;96</title>\r\n",
       "<path fill=\"none\" stroke=\"black\" d=\"M1989.84,-920.884C1984.9,-912.332 1979.51,-903.013 1974.34,-894.072\"/>\r\n",
       "<polygon fill=\"black\" stroke=\"black\" points=\"1977.3,-892.203 1969.26,-885.299 1971.24,-895.708 1977.3,-892.203\"/>\r\n",
       "</g>\r\n",
       "<!-- 99 -->\r\n",
       "<g id=\"node100\" class=\"node\"><title>99</title>\r\n",
       "<polygon fill=\"none\" stroke=\"black\" points=\"2121,-885 2017,-885 2017,-817 2121,-817 2121,-885\"/>\r\n",
       "<text text-anchor=\"middle\" x=\"2069\" y=\"-869.8\" font-family=\"Times New Roman,serif\" font-size=\"14.00\">X[16] &lt;= 1.481</text>\r\n",
       "<text text-anchor=\"middle\" x=\"2069\" y=\"-854.8\" font-family=\"Times New Roman,serif\" font-size=\"14.00\">gini = 0.311</text>\r\n",
       "<text text-anchor=\"middle\" x=\"2069\" y=\"-839.8\" font-family=\"Times New Roman,serif\" font-size=\"14.00\">samples = 57</text>\r\n",
       "<text text-anchor=\"middle\" x=\"2069\" y=\"-824.8\" font-family=\"Times New Roman,serif\" font-size=\"14.00\">value = [46, 11]</text>\r\n",
       "</g>\r\n",
       "<!-- 95&#45;&gt;99 -->\r\n",
       "<g id=\"edge99\" class=\"edge\"><title>95&#45;&gt;99</title>\r\n",
       "<path fill=\"none\" stroke=\"black\" d=\"M2028.48,-920.884C2033.51,-912.332 2038.99,-903.013 2044.25,-894.072\"/>\r\n",
       "<polygon fill=\"black\" stroke=\"black\" points=\"2047.36,-895.693 2049.41,-885.299 2041.33,-892.144 2047.36,-895.693\"/>\r\n",
       "</g>\r\n",
       "<!-- 97 -->\r\n",
       "<g id=\"node98\" class=\"node\"><title>97</title>\r\n",
       "<polygon fill=\"none\" stroke=\"black\" points=\"1883.5,-773.5 1792.5,-773.5 1792.5,-720.5 1883.5,-720.5 1883.5,-773.5\"/>\r\n",
       "<text text-anchor=\"middle\" x=\"1838\" y=\"-758.3\" font-family=\"Times New Roman,serif\" font-size=\"14.00\">gini = 0.0</text>\r\n",
       "<text text-anchor=\"middle\" x=\"1838\" y=\"-743.3\" font-family=\"Times New Roman,serif\" font-size=\"14.00\">samples = 1</text>\r\n",
       "<text text-anchor=\"middle\" x=\"1838\" y=\"-728.3\" font-family=\"Times New Roman,serif\" font-size=\"14.00\">value = [1, 0]</text>\r\n",
       "</g>\r\n",
       "<!-- 96&#45;&gt;97 -->\r\n",
       "<g id=\"edge97\" class=\"edge\"><title>96&#45;&gt;97</title>\r\n",
       "<path fill=\"none\" stroke=\"black\" d=\"M1913.64,-816.884C1900.84,-805.226 1886.47,-792.141 1873.72,-780.532\"/>\r\n",
       "<polygon fill=\"black\" stroke=\"black\" points=\"1875.77,-777.666 1866.02,-773.52 1871.06,-782.841 1875.77,-777.666\"/>\r\n",
       "</g>\r\n",
       "<!-- 98 -->\r\n",
       "<g id=\"node99\" class=\"node\"><title>98</title>\r\n",
       "<polygon fill=\"none\" stroke=\"black\" points=\"2000,-773.5 1902,-773.5 1902,-720.5 2000,-720.5 2000,-773.5\"/>\r\n",
       "<text text-anchor=\"middle\" x=\"1951\" y=\"-758.3\" font-family=\"Times New Roman,serif\" font-size=\"14.00\">gini = 0.0</text>\r\n",
       "<text text-anchor=\"middle\" x=\"1951\" y=\"-743.3\" font-family=\"Times New Roman,serif\" font-size=\"14.00\">samples = 10</text>\r\n",
       "<text text-anchor=\"middle\" x=\"1951\" y=\"-728.3\" font-family=\"Times New Roman,serif\" font-size=\"14.00\">value = [0, 10]</text>\r\n",
       "</g>\r\n",
       "<!-- 96&#45;&gt;98 -->\r\n",
       "<g id=\"edge98\" class=\"edge\"><title>96&#45;&gt;98</title>\r\n",
       "<path fill=\"none\" stroke=\"black\" d=\"M1950.32,-816.884C1950.43,-806.326 1950.54,-794.597 1950.65,-783.854\"/>\r\n",
       "<polygon fill=\"black\" stroke=\"black\" points=\"1954.15,-783.554 1950.75,-773.52 1947.15,-783.485 1954.15,-783.554\"/>\r\n",
       "</g>\r\n",
       "<!-- 100 -->\r\n",
       "<g id=\"node101\" class=\"node\"><title>100</title>\r\n",
       "<polygon fill=\"none\" stroke=\"black\" points=\"2119.5,-781 2018.5,-781 2018.5,-713 2119.5,-713 2119.5,-781\"/>\r\n",
       "<text text-anchor=\"middle\" x=\"2069\" y=\"-765.8\" font-family=\"Times New Roman,serif\" font-size=\"14.00\">X[17] &lt;= &#45;1.75</text>\r\n",
       "<text text-anchor=\"middle\" x=\"2069\" y=\"-750.8\" font-family=\"Times New Roman,serif\" font-size=\"14.00\">gini = 0.274</text>\r\n",
       "<text text-anchor=\"middle\" x=\"2069\" y=\"-735.8\" font-family=\"Times New Roman,serif\" font-size=\"14.00\">samples = 55</text>\r\n",
       "<text text-anchor=\"middle\" x=\"2069\" y=\"-720.8\" font-family=\"Times New Roman,serif\" font-size=\"14.00\">value = [46, 9]</text>\r\n",
       "</g>\r\n",
       "<!-- 99&#45;&gt;100 -->\r\n",
       "<g id=\"edge100\" class=\"edge\"><title>99&#45;&gt;100</title>\r\n",
       "<path fill=\"none\" stroke=\"black\" d=\"M2069,-816.884C2069,-808.778 2069,-799.982 2069,-791.472\"/>\r\n",
       "<polygon fill=\"black\" stroke=\"black\" points=\"2072.5,-791.299 2069,-781.299 2065.5,-791.299 2072.5,-791.299\"/>\r\n",
       "</g>\r\n",
       "<!-- 113 -->\r\n",
       "<g id=\"node114\" class=\"node\"><title>113</title>\r\n",
       "<polygon fill=\"none\" stroke=\"black\" points=\"2228.5,-773.5 2137.5,-773.5 2137.5,-720.5 2228.5,-720.5 2228.5,-773.5\"/>\r\n",
       "<text text-anchor=\"middle\" x=\"2183\" y=\"-758.3\" font-family=\"Times New Roman,serif\" font-size=\"14.00\">gini = 0.0</text>\r\n",
       "<text text-anchor=\"middle\" x=\"2183\" y=\"-743.3\" font-family=\"Times New Roman,serif\" font-size=\"14.00\">samples = 2</text>\r\n",
       "<text text-anchor=\"middle\" x=\"2183\" y=\"-728.3\" font-family=\"Times New Roman,serif\" font-size=\"14.00\">value = [0, 2]</text>\r\n",
       "</g>\r\n",
       "<!-- 99&#45;&gt;113 -->\r\n",
       "<g id=\"edge113\" class=\"edge\"><title>99&#45;&gt;113</title>\r\n",
       "<path fill=\"none\" stroke=\"black\" d=\"M2106.01,-816.884C2119.16,-805.116 2133.94,-791.894 2147.01,-780.203\"/>\r\n",
       "<polygon fill=\"black\" stroke=\"black\" points=\"2149.36,-782.796 2154.48,-773.52 2144.69,-777.58 2149.36,-782.796\"/>\r\n",
       "</g>\r\n",
       "<!-- 101 -->\r\n",
       "<g id=\"node102\" class=\"node\"><title>101</title>\r\n",
       "<polygon fill=\"none\" stroke=\"black\" points=\"1928,-677 1824,-677 1824,-609 1928,-609 1928,-677\"/>\r\n",
       "<text text-anchor=\"middle\" x=\"1876\" y=\"-661.8\" font-family=\"Times New Roman,serif\" font-size=\"14.00\">X[16] &lt;= 0.085</text>\r\n",
       "<text text-anchor=\"middle\" x=\"1876\" y=\"-646.8\" font-family=\"Times New Roman,serif\" font-size=\"14.00\">gini = 0.49</text>\r\n",
       "<text text-anchor=\"middle\" x=\"1876\" y=\"-631.8\" font-family=\"Times New Roman,serif\" font-size=\"14.00\">samples = 14</text>\r\n",
       "<text text-anchor=\"middle\" x=\"1876\" y=\"-616.8\" font-family=\"Times New Roman,serif\" font-size=\"14.00\">value = [8, 6]</text>\r\n",
       "</g>\r\n",
       "<!-- 100&#45;&gt;101 -->\r\n",
       "<g id=\"edge101\" class=\"edge\"><title>100&#45;&gt;101</title>\r\n",
       "<path fill=\"none\" stroke=\"black\" d=\"M2018.31,-718.007C2015.16,-716.305 2012.04,-714.625 2009,-713 1985.71,-700.556 1959.98,-687.131 1937.4,-675.46\"/>\r\n",
       "<polygon fill=\"black\" stroke=\"black\" points=\"1938.76,-672.221 1928.26,-670.743 1935.54,-678.441 1938.76,-672.221\"/>\r\n",
       "</g>\r\n",
       "<!-- 106 -->\r\n",
       "<g id=\"node107\" class=\"node\"><title>106</title>\r\n",
       "<polygon fill=\"none\" stroke=\"black\" points=\"2119.5,-677 2018.5,-677 2018.5,-609 2119.5,-609 2119.5,-677\"/>\r\n",
       "<text text-anchor=\"middle\" x=\"2069\" y=\"-661.8\" font-family=\"Times New Roman,serif\" font-size=\"14.00\">X[7] &lt;= &#45;2.917</text>\r\n",
       "<text text-anchor=\"middle\" x=\"2069\" y=\"-646.8\" font-family=\"Times New Roman,serif\" font-size=\"14.00\">gini = 0.136</text>\r\n",
       "<text text-anchor=\"middle\" x=\"2069\" y=\"-631.8\" font-family=\"Times New Roman,serif\" font-size=\"14.00\">samples = 41</text>\r\n",
       "<text text-anchor=\"middle\" x=\"2069\" y=\"-616.8\" font-family=\"Times New Roman,serif\" font-size=\"14.00\">value = [38, 3]</text>\r\n",
       "</g>\r\n",
       "<!-- 100&#45;&gt;106 -->\r\n",
       "<g id=\"edge106\" class=\"edge\"><title>100&#45;&gt;106</title>\r\n",
       "<path fill=\"none\" stroke=\"black\" d=\"M2069,-712.884C2069,-704.778 2069,-695.982 2069,-687.472\"/>\r\n",
       "<polygon fill=\"black\" stroke=\"black\" points=\"2072.5,-687.299 2069,-677.299 2065.5,-687.299 2072.5,-687.299\"/>\r\n",
       "</g>\r\n",
       "<!-- 102 -->\r\n",
       "<g id=\"node103\" class=\"node\"><title>102</title>\r\n",
       "<polygon fill=\"none\" stroke=\"black\" points=\"1812.5,-573 1715.5,-573 1715.5,-505 1812.5,-505 1812.5,-573\"/>\r\n",
       "<text text-anchor=\"middle\" x=\"1764\" y=\"-557.8\" font-family=\"Times New Roman,serif\" font-size=\"14.00\">X[7] &lt;= 1.053</text>\r\n",
       "<text text-anchor=\"middle\" x=\"1764\" y=\"-542.8\" font-family=\"Times New Roman,serif\" font-size=\"14.00\">gini = 0.375</text>\r\n",
       "<text text-anchor=\"middle\" x=\"1764\" y=\"-527.8\" font-family=\"Times New Roman,serif\" font-size=\"14.00\">samples = 8</text>\r\n",
       "<text text-anchor=\"middle\" x=\"1764\" y=\"-512.8\" font-family=\"Times New Roman,serif\" font-size=\"14.00\">value = [2, 6]</text>\r\n",
       "</g>\r\n",
       "<!-- 101&#45;&gt;102 -->\r\n",
       "<g id=\"edge102\" class=\"edge\"><title>101&#45;&gt;102</title>\r\n",
       "<path fill=\"none\" stroke=\"black\" d=\"M1839.64,-608.884C1829.56,-599.709 1818.52,-589.65 1808.06,-580.123\"/>\r\n",
       "<polygon fill=\"black\" stroke=\"black\" points=\"1810.31,-577.445 1800.56,-573.299 1805.6,-582.62 1810.31,-577.445\"/>\r\n",
       "</g>\r\n",
       "<!-- 105 -->\r\n",
       "<g id=\"node106\" class=\"node\"><title>105</title>\r\n",
       "<polygon fill=\"none\" stroke=\"black\" points=\"1921.5,-565.5 1830.5,-565.5 1830.5,-512.5 1921.5,-512.5 1921.5,-565.5\"/>\r\n",
       "<text text-anchor=\"middle\" x=\"1876\" y=\"-550.3\" font-family=\"Times New Roman,serif\" font-size=\"14.00\">gini = 0.0</text>\r\n",
       "<text text-anchor=\"middle\" x=\"1876\" y=\"-535.3\" font-family=\"Times New Roman,serif\" font-size=\"14.00\">samples = 6</text>\r\n",
       "<text text-anchor=\"middle\" x=\"1876\" y=\"-520.3\" font-family=\"Times New Roman,serif\" font-size=\"14.00\">value = [6, 0]</text>\r\n",
       "</g>\r\n",
       "<!-- 101&#45;&gt;105 -->\r\n",
       "<g id=\"edge105\" class=\"edge\"><title>101&#45;&gt;105</title>\r\n",
       "<path fill=\"none\" stroke=\"black\" d=\"M1876,-608.884C1876,-598.326 1876,-586.597 1876,-575.854\"/>\r\n",
       "<polygon fill=\"black\" stroke=\"black\" points=\"1879.5,-575.52 1876,-565.52 1872.5,-575.52 1879.5,-575.52\"/>\r\n",
       "</g>\r\n",
       "<!-- 103 -->\r\n",
       "<g id=\"node104\" class=\"node\"><title>103</title>\r\n",
       "<polygon fill=\"none\" stroke=\"black\" points=\"1781.5,-461.5 1690.5,-461.5 1690.5,-408.5 1781.5,-408.5 1781.5,-461.5\"/>\r\n",
       "<text text-anchor=\"middle\" x=\"1736\" y=\"-446.3\" font-family=\"Times New Roman,serif\" font-size=\"14.00\">gini = 0.0</text>\r\n",
       "<text text-anchor=\"middle\" x=\"1736\" y=\"-431.3\" font-family=\"Times New Roman,serif\" font-size=\"14.00\">samples = 6</text>\r\n",
       "<text text-anchor=\"middle\" x=\"1736\" y=\"-416.3\" font-family=\"Times New Roman,serif\" font-size=\"14.00\">value = [0, 6]</text>\r\n",
       "</g>\r\n",
       "<!-- 102&#45;&gt;103 -->\r\n",
       "<g id=\"edge103\" class=\"edge\"><title>102&#45;&gt;103</title>\r\n",
       "<path fill=\"none\" stroke=\"black\" d=\"M1754.91,-504.884C1751.95,-494.106 1748.66,-482.108 1745.66,-471.184\"/>\r\n",
       "<polygon fill=\"black\" stroke=\"black\" points=\"1749.03,-470.237 1743.01,-461.52 1742.28,-472.09 1749.03,-470.237\"/>\r\n",
       "</g>\r\n",
       "<!-- 104 -->\r\n",
       "<g id=\"node105\" class=\"node\"><title>104</title>\r\n",
       "<polygon fill=\"none\" stroke=\"black\" points=\"1890.5,-461.5 1799.5,-461.5 1799.5,-408.5 1890.5,-408.5 1890.5,-461.5\"/>\r\n",
       "<text text-anchor=\"middle\" x=\"1845\" y=\"-446.3\" font-family=\"Times New Roman,serif\" font-size=\"14.00\">gini = 0.0</text>\r\n",
       "<text text-anchor=\"middle\" x=\"1845\" y=\"-431.3\" font-family=\"Times New Roman,serif\" font-size=\"14.00\">samples = 2</text>\r\n",
       "<text text-anchor=\"middle\" x=\"1845\" y=\"-416.3\" font-family=\"Times New Roman,serif\" font-size=\"14.00\">value = [2, 0]</text>\r\n",
       "</g>\r\n",
       "<!-- 102&#45;&gt;104 -->\r\n",
       "<g id=\"edge104\" class=\"edge\"><title>102&#45;&gt;104</title>\r\n",
       "<path fill=\"none\" stroke=\"black\" d=\"M1790.3,-504.884C1799.29,-493.556 1809.36,-480.88 1818.38,-469.521\"/>\r\n",
       "<polygon fill=\"black\" stroke=\"black\" points=\"1821.26,-471.528 1824.73,-461.52 1815.77,-467.174 1821.26,-471.528\"/>\r\n",
       "</g>\r\n",
       "<!-- 107 -->\r\n",
       "<g id=\"node108\" class=\"node\"><title>107</title>\r\n",
       "<polygon fill=\"none\" stroke=\"black\" points=\"2030.5,-565.5 1939.5,-565.5 1939.5,-512.5 2030.5,-512.5 2030.5,-565.5\"/>\r\n",
       "<text text-anchor=\"middle\" x=\"1985\" y=\"-550.3\" font-family=\"Times New Roman,serif\" font-size=\"14.00\">gini = 0.0</text>\r\n",
       "<text text-anchor=\"middle\" x=\"1985\" y=\"-535.3\" font-family=\"Times New Roman,serif\" font-size=\"14.00\">samples = 1</text>\r\n",
       "<text text-anchor=\"middle\" x=\"1985\" y=\"-520.3\" font-family=\"Times New Roman,serif\" font-size=\"14.00\">value = [0, 1]</text>\r\n",
       "</g>\r\n",
       "<!-- 106&#45;&gt;107 -->\r\n",
       "<g id=\"edge107\" class=\"edge\"><title>106&#45;&gt;107</title>\r\n",
       "<path fill=\"none\" stroke=\"black\" d=\"M2041.73,-608.884C2032.4,-597.556 2021.96,-584.88 2012.61,-573.521\"/>\r\n",
       "<polygon fill=\"black\" stroke=\"black\" points=\"2015.08,-571.014 2006.02,-565.52 2009.67,-575.464 2015.08,-571.014\"/>\r\n",
       "</g>\r\n",
       "<!-- 108 -->\r\n",
       "<g id=\"node109\" class=\"node\"><title>108</title>\r\n",
       "<polygon fill=\"none\" stroke=\"black\" points=\"2149.5,-573 2048.5,-573 2048.5,-505 2149.5,-505 2149.5,-573\"/>\r\n",
       "<text text-anchor=\"middle\" x=\"2099\" y=\"-557.8\" font-family=\"Times New Roman,serif\" font-size=\"14.00\">X[3] &lt;= &#45;0.001</text>\r\n",
       "<text text-anchor=\"middle\" x=\"2099\" y=\"-542.8\" font-family=\"Times New Roman,serif\" font-size=\"14.00\">gini = 0.095</text>\r\n",
       "<text text-anchor=\"middle\" x=\"2099\" y=\"-527.8\" font-family=\"Times New Roman,serif\" font-size=\"14.00\">samples = 40</text>\r\n",
       "<text text-anchor=\"middle\" x=\"2099\" y=\"-512.8\" font-family=\"Times New Roman,serif\" font-size=\"14.00\">value = [38, 2]</text>\r\n",
       "</g>\r\n",
       "<!-- 106&#45;&gt;108 -->\r\n",
       "<g id=\"edge108\" class=\"edge\"><title>106&#45;&gt;108</title>\r\n",
       "<path fill=\"none\" stroke=\"black\" d=\"M2078.74,-608.884C2081.18,-600.6 2083.82,-591.595 2086.38,-582.911\"/>\r\n",
       "<polygon fill=\"black\" stroke=\"black\" points=\"2089.74,-583.881 2089.21,-573.299 2083.03,-581.905 2089.74,-583.881\"/>\r\n",
       "</g>\r\n",
       "<!-- 109 -->\r\n",
       "<g id=\"node110\" class=\"node\"><title>109</title>\r\n",
       "<polygon fill=\"none\" stroke=\"black\" points=\"2031.5,-469 1934.5,-469 1934.5,-401 2031.5,-401 2031.5,-469\"/>\r\n",
       "<text text-anchor=\"middle\" x=\"1983\" y=\"-453.8\" font-family=\"Times New Roman,serif\" font-size=\"14.00\">X[7] &lt;= 0.803</text>\r\n",
       "<text text-anchor=\"middle\" x=\"1983\" y=\"-438.8\" font-family=\"Times New Roman,serif\" font-size=\"14.00\">gini = 0.408</text>\r\n",
       "<text text-anchor=\"middle\" x=\"1983\" y=\"-423.8\" font-family=\"Times New Roman,serif\" font-size=\"14.00\">samples = 7</text>\r\n",
       "<text text-anchor=\"middle\" x=\"1983\" y=\"-408.8\" font-family=\"Times New Roman,serif\" font-size=\"14.00\">value = [5, 2]</text>\r\n",
       "</g>\r\n",
       "<!-- 108&#45;&gt;109 -->\r\n",
       "<g id=\"edge109\" class=\"edge\"><title>108&#45;&gt;109</title>\r\n",
       "<path fill=\"none\" stroke=\"black\" d=\"M2061.34,-504.884C2050.9,-495.709 2039.46,-485.65 2028.63,-476.123\"/>\r\n",
       "<polygon fill=\"black\" stroke=\"black\" points=\"2030.69,-473.274 2020.87,-469.299 2026.07,-478.531 2030.69,-473.274\"/>\r\n",
       "</g>\r\n",
       "<!-- 112 -->\r\n",
       "<g id=\"node113\" class=\"node\"><title>112</title>\r\n",
       "<polygon fill=\"none\" stroke=\"black\" points=\"2148,-461.5 2050,-461.5 2050,-408.5 2148,-408.5 2148,-461.5\"/>\r\n",
       "<text text-anchor=\"middle\" x=\"2099\" y=\"-446.3\" font-family=\"Times New Roman,serif\" font-size=\"14.00\">gini = 0.0</text>\r\n",
       "<text text-anchor=\"middle\" x=\"2099\" y=\"-431.3\" font-family=\"Times New Roman,serif\" font-size=\"14.00\">samples = 33</text>\r\n",
       "<text text-anchor=\"middle\" x=\"2099\" y=\"-416.3\" font-family=\"Times New Roman,serif\" font-size=\"14.00\">value = [33, 0]</text>\r\n",
       "</g>\r\n",
       "<!-- 108&#45;&gt;112 -->\r\n",
       "<g id=\"edge112\" class=\"edge\"><title>108&#45;&gt;112</title>\r\n",
       "<path fill=\"none\" stroke=\"black\" d=\"M2099,-504.884C2099,-494.326 2099,-482.597 2099,-471.854\"/>\r\n",
       "<polygon fill=\"black\" stroke=\"black\" points=\"2102.5,-471.52 2099,-461.52 2095.5,-471.52 2102.5,-471.52\"/>\r\n",
       "</g>\r\n",
       "<!-- 110 -->\r\n",
       "<g id=\"node111\" class=\"node\"><title>110</title>\r\n",
       "<polygon fill=\"none\" stroke=\"black\" points=\"1922.5,-357.5 1831.5,-357.5 1831.5,-304.5 1922.5,-304.5 1922.5,-357.5\"/>\r\n",
       "<text text-anchor=\"middle\" x=\"1877\" y=\"-342.3\" font-family=\"Times New Roman,serif\" font-size=\"14.00\">gini = 0.0</text>\r\n",
       "<text text-anchor=\"middle\" x=\"1877\" y=\"-327.3\" font-family=\"Times New Roman,serif\" font-size=\"14.00\">samples = 5</text>\r\n",
       "<text text-anchor=\"middle\" x=\"1877\" y=\"-312.3\" font-family=\"Times New Roman,serif\" font-size=\"14.00\">value = [5, 0]</text>\r\n",
       "</g>\r\n",
       "<!-- 109&#45;&gt;110 -->\r\n",
       "<g id=\"edge110\" class=\"edge\"><title>109&#45;&gt;110</title>\r\n",
       "<path fill=\"none\" stroke=\"black\" d=\"M1948.58,-400.884C1936.47,-389.226 1922.87,-376.141 1910.81,-364.532\"/>\r\n",
       "<polygon fill=\"black\" stroke=\"black\" points=\"1913.15,-361.932 1903.52,-357.52 1908.3,-366.976 1913.15,-361.932\"/>\r\n",
       "</g>\r\n",
       "<!-- 111 -->\r\n",
       "<g id=\"node112\" class=\"node\"><title>111</title>\r\n",
       "<polygon fill=\"none\" stroke=\"black\" points=\"2031.5,-357.5 1940.5,-357.5 1940.5,-304.5 2031.5,-304.5 2031.5,-357.5\"/>\r\n",
       "<text text-anchor=\"middle\" x=\"1986\" y=\"-342.3\" font-family=\"Times New Roman,serif\" font-size=\"14.00\">gini = 0.0</text>\r\n",
       "<text text-anchor=\"middle\" x=\"1986\" y=\"-327.3\" font-family=\"Times New Roman,serif\" font-size=\"14.00\">samples = 2</text>\r\n",
       "<text text-anchor=\"middle\" x=\"1986\" y=\"-312.3\" font-family=\"Times New Roman,serif\" font-size=\"14.00\">value = [0, 2]</text>\r\n",
       "</g>\r\n",
       "<!-- 109&#45;&gt;111 -->\r\n",
       "<g id=\"edge111\" class=\"edge\"><title>109&#45;&gt;111</title>\r\n",
       "<path fill=\"none\" stroke=\"black\" d=\"M1983.97,-400.884C1984.29,-390.216 1984.64,-378.352 1984.96,-367.519\"/>\r\n",
       "<polygon fill=\"black\" stroke=\"black\" points=\"1988.45,-367.619 1985.25,-357.52 1981.46,-367.413 1988.45,-367.619\"/>\r\n",
       "</g>\r\n",
       "<!-- 115 -->\r\n",
       "<g id=\"node116\" class=\"node\"><title>115</title>\r\n",
       "<polygon fill=\"none\" stroke=\"black\" points=\"2462.5,-885 2351.5,-885 2351.5,-817 2462.5,-817 2462.5,-885\"/>\r\n",
       "<text text-anchor=\"middle\" x=\"2407\" y=\"-869.8\" font-family=\"Times New Roman,serif\" font-size=\"14.00\">X[13] &lt;= &#45;2.208</text>\r\n",
       "<text text-anchor=\"middle\" x=\"2407\" y=\"-854.8\" font-family=\"Times New Roman,serif\" font-size=\"14.00\">gini = 0.195</text>\r\n",
       "<text text-anchor=\"middle\" x=\"2407\" y=\"-839.8\" font-family=\"Times New Roman,serif\" font-size=\"14.00\">samples = 119</text>\r\n",
       "<text text-anchor=\"middle\" x=\"2407\" y=\"-824.8\" font-family=\"Times New Roman,serif\" font-size=\"14.00\">value = [13, 106]</text>\r\n",
       "</g>\r\n",
       "<!-- 114&#45;&gt;115 -->\r\n",
       "<g id=\"edge115\" class=\"edge\"><title>114&#45;&gt;115</title>\r\n",
       "<path fill=\"none\" stroke=\"black\" d=\"M2407,-920.884C2407,-912.778 2407,-903.982 2407,-895.472\"/>\r\n",
       "<polygon fill=\"black\" stroke=\"black\" points=\"2410.5,-895.299 2407,-885.299 2403.5,-895.299 2410.5,-895.299\"/>\r\n",
       "</g>\r\n",
       "<!-- 140 -->\r\n",
       "<g id=\"node141\" class=\"node\"><title>140</title>\r\n",
       "<polygon fill=\"none\" stroke=\"black\" points=\"2637.5,-885 2540.5,-885 2540.5,-817 2637.5,-817 2637.5,-885\"/>\r\n",
       "<text text-anchor=\"middle\" x=\"2589\" y=\"-869.8\" font-family=\"Times New Roman,serif\" font-size=\"14.00\">X[8] &lt;= 0.798</text>\r\n",
       "<text text-anchor=\"middle\" x=\"2589\" y=\"-854.8\" font-family=\"Times New Roman,serif\" font-size=\"14.00\">gini = 0.245</text>\r\n",
       "<text text-anchor=\"middle\" x=\"2589\" y=\"-839.8\" font-family=\"Times New Roman,serif\" font-size=\"14.00\">samples = 7</text>\r\n",
       "<text text-anchor=\"middle\" x=\"2589\" y=\"-824.8\" font-family=\"Times New Roman,serif\" font-size=\"14.00\">value = [6, 1]</text>\r\n",
       "</g>\r\n",
       "<!-- 114&#45;&gt;140 -->\r\n",
       "<g id=\"edge140\" class=\"edge\"><title>114&#45;&gt;140</title>\r\n",
       "<path fill=\"none\" stroke=\"black\" d=\"M2462.59,-922.842C2484.37,-910.639 2509.35,-896.639 2531.32,-884.325\"/>\r\n",
       "<polygon fill=\"black\" stroke=\"black\" points=\"2533.2,-887.283 2540.22,-879.34 2529.78,-881.176 2533.2,-887.283\"/>\r\n",
       "</g>\r\n",
       "<!-- 116 -->\r\n",
       "<g id=\"node117\" class=\"node\"><title>116</title>\r\n",
       "<polygon fill=\"none\" stroke=\"black\" points=\"2399,-781 2295,-781 2295,-713 2399,-713 2399,-781\"/>\r\n",
       "<text text-anchor=\"middle\" x=\"2347\" y=\"-765.8\" font-family=\"Times New Roman,serif\" font-size=\"14.00\">X[10] &lt;= 2.178</text>\r\n",
       "<text text-anchor=\"middle\" x=\"2347\" y=\"-750.8\" font-family=\"Times New Roman,serif\" font-size=\"14.00\">gini = 0.088</text>\r\n",
       "<text text-anchor=\"middle\" x=\"2347\" y=\"-735.8\" font-family=\"Times New Roman,serif\" font-size=\"14.00\">samples = 87</text>\r\n",
       "<text text-anchor=\"middle\" x=\"2347\" y=\"-720.8\" font-family=\"Times New Roman,serif\" font-size=\"14.00\">value = [4, 83]</text>\r\n",
       "</g>\r\n",
       "<!-- 115&#45;&gt;116 -->\r\n",
       "<g id=\"edge116\" class=\"edge\"><title>115&#45;&gt;116</title>\r\n",
       "<path fill=\"none\" stroke=\"black\" d=\"M2387.52,-816.884C2382.49,-808.332 2377.01,-799.013 2371.75,-790.072\"/>\r\n",
       "<polygon fill=\"black\" stroke=\"black\" points=\"2374.67,-788.144 2366.59,-781.299 2368.64,-791.693 2374.67,-788.144\"/>\r\n",
       "</g>\r\n",
       "<!-- 127 -->\r\n",
       "<g id=\"node128\" class=\"node\"><title>127</title>\r\n",
       "<polygon fill=\"none\" stroke=\"black\" points=\"2525,-781 2417,-781 2417,-713 2525,-713 2525,-781\"/>\r\n",
       "<text text-anchor=\"middle\" x=\"2471\" y=\"-765.8\" font-family=\"Times New Roman,serif\" font-size=\"14.00\">X[13] &lt;= &#45;1.881</text>\r\n",
       "<text text-anchor=\"middle\" x=\"2471\" y=\"-750.8\" font-family=\"Times New Roman,serif\" font-size=\"14.00\">gini = 0.404</text>\r\n",
       "<text text-anchor=\"middle\" x=\"2471\" y=\"-735.8\" font-family=\"Times New Roman,serif\" font-size=\"14.00\">samples = 32</text>\r\n",
       "<text text-anchor=\"middle\" x=\"2471\" y=\"-720.8\" font-family=\"Times New Roman,serif\" font-size=\"14.00\">value = [9, 23]</text>\r\n",
       "</g>\r\n",
       "<!-- 115&#45;&gt;127 -->\r\n",
       "<g id=\"edge127\" class=\"edge\"><title>115&#45;&gt;127</title>\r\n",
       "<path fill=\"none\" stroke=\"black\" d=\"M2427.78,-816.884C2433.2,-808.243 2439.11,-798.819 2444.78,-789.793\"/>\r\n",
       "<polygon fill=\"black\" stroke=\"black\" points=\"2447.76,-791.63 2450.11,-781.299 2441.83,-787.91 2447.76,-791.63\"/>\r\n",
       "</g>\r\n",
       "<!-- 117 -->\r\n",
       "<g id=\"node118\" class=\"node\"><title>117</title>\r\n",
       "<polygon fill=\"none\" stroke=\"black\" points=\"2291,-677 2183,-677 2183,-609 2291,-609 2291,-677\"/>\r\n",
       "<text text-anchor=\"middle\" x=\"2237\" y=\"-661.8\" font-family=\"Times New Roman,serif\" font-size=\"14.00\">X[12] &lt;= &#45;0.488</text>\r\n",
       "<text text-anchor=\"middle\" x=\"2237\" y=\"-646.8\" font-family=\"Times New Roman,serif\" font-size=\"14.00\">gini = 0.067</text>\r\n",
       "<text text-anchor=\"middle\" x=\"2237\" y=\"-631.8\" font-family=\"Times New Roman,serif\" font-size=\"14.00\">samples = 86</text>\r\n",
       "<text text-anchor=\"middle\" x=\"2237\" y=\"-616.8\" font-family=\"Times New Roman,serif\" font-size=\"14.00\">value = [3, 83]</text>\r\n",
       "</g>\r\n",
       "<!-- 116&#45;&gt;117 -->\r\n",
       "<g id=\"edge117\" class=\"edge\"><title>116&#45;&gt;117</title>\r\n",
       "<path fill=\"none\" stroke=\"black\" d=\"M2311.29,-712.884C2301.39,-703.709 2290.54,-693.65 2280.27,-684.123\"/>\r\n",
       "<polygon fill=\"black\" stroke=\"black\" points=\"2282.62,-681.532 2272.91,-677.299 2277.86,-686.665 2282.62,-681.532\"/>\r\n",
       "</g>\r\n",
       "<!-- 126 -->\r\n",
       "<g id=\"node127\" class=\"node\"><title>126</title>\r\n",
       "<polygon fill=\"none\" stroke=\"black\" points=\"2400.5,-669.5 2309.5,-669.5 2309.5,-616.5 2400.5,-616.5 2400.5,-669.5\"/>\r\n",
       "<text text-anchor=\"middle\" x=\"2355\" y=\"-654.3\" font-family=\"Times New Roman,serif\" font-size=\"14.00\">gini = 0.0</text>\r\n",
       "<text text-anchor=\"middle\" x=\"2355\" y=\"-639.3\" font-family=\"Times New Roman,serif\" font-size=\"14.00\">samples = 1</text>\r\n",
       "<text text-anchor=\"middle\" x=\"2355\" y=\"-624.3\" font-family=\"Times New Roman,serif\" font-size=\"14.00\">value = [1, 0]</text>\r\n",
       "</g>\r\n",
       "<!-- 116&#45;&gt;126 -->\r\n",
       "<g id=\"edge126\" class=\"edge\"><title>116&#45;&gt;126</title>\r\n",
       "<path fill=\"none\" stroke=\"black\" d=\"M2349.6,-712.884C2350.43,-702.216 2351.36,-690.352 2352.21,-679.519\"/>\r\n",
       "<polygon fill=\"black\" stroke=\"black\" points=\"2355.71,-679.763 2353,-669.52 2348.73,-679.216 2355.71,-679.763\"/>\r\n",
       "</g>\r\n",
       "<!-- 118 -->\r\n",
       "<g id=\"node119\" class=\"node\"><title>118</title>\r\n",
       "<polygon fill=\"none\" stroke=\"black\" points=\"2275,-573 2171,-573 2171,-505 2275,-505 2275,-573\"/>\r\n",
       "<text text-anchor=\"middle\" x=\"2223\" y=\"-557.8\" font-family=\"Times New Roman,serif\" font-size=\"14.00\">X[11] &lt;= 0.427</text>\r\n",
       "<text text-anchor=\"middle\" x=\"2223\" y=\"-542.8\" font-family=\"Times New Roman,serif\" font-size=\"14.00\">gini = 0.236</text>\r\n",
       "<text text-anchor=\"middle\" x=\"2223\" y=\"-527.8\" font-family=\"Times New Roman,serif\" font-size=\"14.00\">samples = 22</text>\r\n",
       "<text text-anchor=\"middle\" x=\"2223\" y=\"-512.8\" font-family=\"Times New Roman,serif\" font-size=\"14.00\">value = [3, 19]</text>\r\n",
       "</g>\r\n",
       "<!-- 117&#45;&gt;118 -->\r\n",
       "<g id=\"edge118\" class=\"edge\"><title>117&#45;&gt;118</title>\r\n",
       "<path fill=\"none\" stroke=\"black\" d=\"M2232.45,-608.884C2231.34,-600.778 2230.13,-591.982 2228.97,-583.472\"/>\r\n",
       "<polygon fill=\"black\" stroke=\"black\" points=\"2232.4,-582.731 2227.57,-573.299 2225.46,-583.682 2232.4,-582.731\"/>\r\n",
       "</g>\r\n",
       "<!-- 125 -->\r\n",
       "<g id=\"node126\" class=\"node\"><title>125</title>\r\n",
       "<polygon fill=\"none\" stroke=\"black\" points=\"2391,-565.5 2293,-565.5 2293,-512.5 2391,-512.5 2391,-565.5\"/>\r\n",
       "<text text-anchor=\"middle\" x=\"2342\" y=\"-550.3\" font-family=\"Times New Roman,serif\" font-size=\"14.00\">gini = 0.0</text>\r\n",
       "<text text-anchor=\"middle\" x=\"2342\" y=\"-535.3\" font-family=\"Times New Roman,serif\" font-size=\"14.00\">samples = 64</text>\r\n",
       "<text text-anchor=\"middle\" x=\"2342\" y=\"-520.3\" font-family=\"Times New Roman,serif\" font-size=\"14.00\">value = [0, 64]</text>\r\n",
       "</g>\r\n",
       "<!-- 117&#45;&gt;125 -->\r\n",
       "<g id=\"edge125\" class=\"edge\"><title>117&#45;&gt;125</title>\r\n",
       "<path fill=\"none\" stroke=\"black\" d=\"M2271.09,-608.884C2283.09,-597.226 2296.56,-584.141 2308.51,-572.532\"/>\r\n",
       "<polygon fill=\"black\" stroke=\"black\" points=\"2311,-574.998 2315.73,-565.52 2306.12,-569.977 2311,-574.998\"/>\r\n",
       "</g>\r\n",
       "<!-- 119 -->\r\n",
       "<g id=\"node120\" class=\"node\"><title>119</title>\r\n",
       "<polygon fill=\"none\" stroke=\"black\" points=\"2264,-469 2166,-469 2166,-401 2264,-401 2264,-469\"/>\r\n",
       "<text text-anchor=\"middle\" x=\"2215\" y=\"-453.8\" font-family=\"Times New Roman,serif\" font-size=\"14.00\">X[0] &lt;= 1.682</text>\r\n",
       "<text text-anchor=\"middle\" x=\"2215\" y=\"-438.8\" font-family=\"Times New Roman,serif\" font-size=\"14.00\">gini = 0.1</text>\r\n",
       "<text text-anchor=\"middle\" x=\"2215\" y=\"-423.8\" font-family=\"Times New Roman,serif\" font-size=\"14.00\">samples = 19</text>\r\n",
       "<text text-anchor=\"middle\" x=\"2215\" y=\"-408.8\" font-family=\"Times New Roman,serif\" font-size=\"14.00\">value = [1, 18]</text>\r\n",
       "</g>\r\n",
       "<!-- 118&#45;&gt;119 -->\r\n",
       "<g id=\"edge119\" class=\"edge\"><title>118&#45;&gt;119</title>\r\n",
       "<path fill=\"none\" stroke=\"black\" d=\"M2220.4,-504.884C2219.77,-496.778 2219.08,-487.982 2218.41,-479.472\"/>\r\n",
       "<polygon fill=\"black\" stroke=\"black\" points=\"2221.88,-478.995 2217.61,-469.299 2214.9,-479.542 2221.88,-478.995\"/>\r\n",
       "</g>\r\n",
       "<!-- 122 -->\r\n",
       "<g id=\"node123\" class=\"node\"><title>122</title>\r\n",
       "<polygon fill=\"none\" stroke=\"black\" points=\"2386,-469 2282,-469 2282,-401 2386,-401 2386,-469\"/>\r\n",
       "<text text-anchor=\"middle\" x=\"2334\" y=\"-453.8\" font-family=\"Times New Roman,serif\" font-size=\"14.00\">X[19] &lt;= 1.934</text>\r\n",
       "<text text-anchor=\"middle\" x=\"2334\" y=\"-438.8\" font-family=\"Times New Roman,serif\" font-size=\"14.00\">gini = 0.444</text>\r\n",
       "<text text-anchor=\"middle\" x=\"2334\" y=\"-423.8\" font-family=\"Times New Roman,serif\" font-size=\"14.00\">samples = 3</text>\r\n",
       "<text text-anchor=\"middle\" x=\"2334\" y=\"-408.8\" font-family=\"Times New Roman,serif\" font-size=\"14.00\">value = [2, 1]</text>\r\n",
       "</g>\r\n",
       "<!-- 118&#45;&gt;122 -->\r\n",
       "<g id=\"edge122\" class=\"edge\"><title>118&#45;&gt;122</title>\r\n",
       "<path fill=\"none\" stroke=\"black\" d=\"M2259.04,-504.884C2269.02,-495.709 2279.97,-485.65 2290.34,-476.123\"/>\r\n",
       "<polygon fill=\"black\" stroke=\"black\" points=\"2292.77,-478.643 2297.76,-469.299 2288.03,-473.488 2292.77,-478.643\"/>\r\n",
       "</g>\r\n",
       "<!-- 120 -->\r\n",
       "<g id=\"node121\" class=\"node\"><title>120</title>\r\n",
       "<polygon fill=\"none\" stroke=\"black\" points=\"2151,-357.5 2053,-357.5 2053,-304.5 2151,-304.5 2151,-357.5\"/>\r\n",
       "<text text-anchor=\"middle\" x=\"2102\" y=\"-342.3\" font-family=\"Times New Roman,serif\" font-size=\"14.00\">gini = 0.0</text>\r\n",
       "<text text-anchor=\"middle\" x=\"2102\" y=\"-327.3\" font-family=\"Times New Roman,serif\" font-size=\"14.00\">samples = 18</text>\r\n",
       "<text text-anchor=\"middle\" x=\"2102\" y=\"-312.3\" font-family=\"Times New Roman,serif\" font-size=\"14.00\">value = [0, 18]</text>\r\n",
       "</g>\r\n",
       "<!-- 119&#45;&gt;120 -->\r\n",
       "<g id=\"edge120\" class=\"edge\"><title>119&#45;&gt;120</title>\r\n",
       "<path fill=\"none\" stroke=\"black\" d=\"M2178.31,-400.884C2165.4,-389.226 2150.9,-376.141 2138.04,-364.532\"/>\r\n",
       "<polygon fill=\"black\" stroke=\"black\" points=\"2140.04,-361.622 2130.27,-357.52 2135.35,-366.819 2140.04,-361.622\"/>\r\n",
       "</g>\r\n",
       "<!-- 121 -->\r\n",
       "<g id=\"node122\" class=\"node\"><title>121</title>\r\n",
       "<polygon fill=\"none\" stroke=\"black\" points=\"2260.5,-357.5 2169.5,-357.5 2169.5,-304.5 2260.5,-304.5 2260.5,-357.5\"/>\r\n",
       "<text text-anchor=\"middle\" x=\"2215\" y=\"-342.3\" font-family=\"Times New Roman,serif\" font-size=\"14.00\">gini = 0.0</text>\r\n",
       "<text text-anchor=\"middle\" x=\"2215\" y=\"-327.3\" font-family=\"Times New Roman,serif\" font-size=\"14.00\">samples = 1</text>\r\n",
       "<text text-anchor=\"middle\" x=\"2215\" y=\"-312.3\" font-family=\"Times New Roman,serif\" font-size=\"14.00\">value = [1, 0]</text>\r\n",
       "</g>\r\n",
       "<!-- 119&#45;&gt;121 -->\r\n",
       "<g id=\"edge121\" class=\"edge\"><title>119&#45;&gt;121</title>\r\n",
       "<path fill=\"none\" stroke=\"black\" d=\"M2215,-400.884C2215,-390.326 2215,-378.597 2215,-367.854\"/>\r\n",
       "<polygon fill=\"black\" stroke=\"black\" points=\"2218.5,-367.52 2215,-357.52 2211.5,-367.52 2218.5,-367.52\"/>\r\n",
       "</g>\r\n",
       "<!-- 123 -->\r\n",
       "<g id=\"node124\" class=\"node\"><title>123</title>\r\n",
       "<polygon fill=\"none\" stroke=\"black\" points=\"2369.5,-357.5 2278.5,-357.5 2278.5,-304.5 2369.5,-304.5 2369.5,-357.5\"/>\r\n",
       "<text text-anchor=\"middle\" x=\"2324\" y=\"-342.3\" font-family=\"Times New Roman,serif\" font-size=\"14.00\">gini = 0.0</text>\r\n",
       "<text text-anchor=\"middle\" x=\"2324\" y=\"-327.3\" font-family=\"Times New Roman,serif\" font-size=\"14.00\">samples = 2</text>\r\n",
       "<text text-anchor=\"middle\" x=\"2324\" y=\"-312.3\" font-family=\"Times New Roman,serif\" font-size=\"14.00\">value = [2, 0]</text>\r\n",
       "</g>\r\n",
       "<!-- 122&#45;&gt;123 -->\r\n",
       "<g id=\"edge123\" class=\"edge\"><title>122&#45;&gt;123</title>\r\n",
       "<path fill=\"none\" stroke=\"black\" d=\"M2330.75,-400.884C2329.71,-390.216 2328.54,-378.352 2327.48,-367.519\"/>\r\n",
       "<polygon fill=\"black\" stroke=\"black\" points=\"2330.96,-367.131 2326.5,-357.52 2323.99,-367.814 2330.96,-367.131\"/>\r\n",
       "</g>\r\n",
       "<!-- 124 -->\r\n",
       "<g id=\"node125\" class=\"node\"><title>124</title>\r\n",
       "<polygon fill=\"none\" stroke=\"black\" points=\"2478.5,-357.5 2387.5,-357.5 2387.5,-304.5 2478.5,-304.5 2478.5,-357.5\"/>\r\n",
       "<text text-anchor=\"middle\" x=\"2433\" y=\"-342.3\" font-family=\"Times New Roman,serif\" font-size=\"14.00\">gini = 0.0</text>\r\n",
       "<text text-anchor=\"middle\" x=\"2433\" y=\"-327.3\" font-family=\"Times New Roman,serif\" font-size=\"14.00\">samples = 1</text>\r\n",
       "<text text-anchor=\"middle\" x=\"2433\" y=\"-312.3\" font-family=\"Times New Roman,serif\" font-size=\"14.00\">value = [0, 1]</text>\r\n",
       "</g>\r\n",
       "<!-- 122&#45;&gt;124 -->\r\n",
       "<g id=\"edge124\" class=\"edge\"><title>122&#45;&gt;124</title>\r\n",
       "<path fill=\"none\" stroke=\"black\" d=\"M2366.14,-400.884C2377.35,-389.336 2389.92,-376.387 2401.11,-364.86\"/>\r\n",
       "<polygon fill=\"black\" stroke=\"black\" points=\"2403.78,-367.133 2408.23,-357.52 2398.75,-362.258 2403.78,-367.133\"/>\r\n",
       "</g>\r\n",
       "<!-- 128 -->\r\n",
       "<g id=\"node129\" class=\"node\"><title>128</title>\r\n",
       "<polygon fill=\"none\" stroke=\"black\" points=\"2516.5,-669.5 2425.5,-669.5 2425.5,-616.5 2516.5,-616.5 2516.5,-669.5\"/>\r\n",
       "<text text-anchor=\"middle\" x=\"2471\" y=\"-654.3\" font-family=\"Times New Roman,serif\" font-size=\"14.00\">gini = 0.0</text>\r\n",
       "<text text-anchor=\"middle\" x=\"2471\" y=\"-639.3\" font-family=\"Times New Roman,serif\" font-size=\"14.00\">samples = 4</text>\r\n",
       "<text text-anchor=\"middle\" x=\"2471\" y=\"-624.3\" font-family=\"Times New Roman,serif\" font-size=\"14.00\">value = [4, 0]</text>\r\n",
       "</g>\r\n",
       "<!-- 127&#45;&gt;128 -->\r\n",
       "<g id=\"edge128\" class=\"edge\"><title>127&#45;&gt;128</title>\r\n",
       "<path fill=\"none\" stroke=\"black\" d=\"M2471,-712.884C2471,-702.326 2471,-690.597 2471,-679.854\"/>\r\n",
       "<polygon fill=\"black\" stroke=\"black\" points=\"2474.5,-679.52 2471,-669.52 2467.5,-679.52 2474.5,-679.52\"/>\r\n",
       "</g>\r\n",
       "<!-- 129 -->\r\n",
       "<g id=\"node130\" class=\"node\"><title>129</title>\r\n",
       "<polygon fill=\"none\" stroke=\"black\" points=\"2656,-677 2548,-677 2548,-609 2656,-609 2656,-677\"/>\r\n",
       "<text text-anchor=\"middle\" x=\"2602\" y=\"-661.8\" font-family=\"Times New Roman,serif\" font-size=\"14.00\">X[17] &lt;= &#45;0.456</text>\r\n",
       "<text text-anchor=\"middle\" x=\"2602\" y=\"-646.8\" font-family=\"Times New Roman,serif\" font-size=\"14.00\">gini = 0.293</text>\r\n",
       "<text text-anchor=\"middle\" x=\"2602\" y=\"-631.8\" font-family=\"Times New Roman,serif\" font-size=\"14.00\">samples = 28</text>\r\n",
       "<text text-anchor=\"middle\" x=\"2602\" y=\"-616.8\" font-family=\"Times New Roman,serif\" font-size=\"14.00\">value = [5, 23]</text>\r\n",
       "</g>\r\n",
       "<!-- 127&#45;&gt;129 -->\r\n",
       "<g id=\"edge129\" class=\"edge\"><title>127&#45;&gt;129</title>\r\n",
       "<path fill=\"none\" stroke=\"black\" d=\"M2513.53,-712.884C2525.54,-703.531 2538.74,-693.259 2551.18,-683.568\"/>\r\n",
       "<polygon fill=\"black\" stroke=\"black\" points=\"2553.49,-686.205 2559.23,-677.299 2549.19,-680.681 2553.49,-686.205\"/>\r\n",
       "</g>\r\n",
       "<!-- 130 -->\r\n",
       "<g id=\"node131\" class=\"node\"><title>130</title>\r\n",
       "<polygon fill=\"none\" stroke=\"black\" points=\"2654,-573 2550,-573 2550,-505 2654,-505 2654,-573\"/>\r\n",
       "<text text-anchor=\"middle\" x=\"2602\" y=\"-557.8\" font-family=\"Times New Roman,serif\" font-size=\"14.00\">X[14] &lt;= 1.054</text>\r\n",
       "<text text-anchor=\"middle\" x=\"2602\" y=\"-542.8\" font-family=\"Times New Roman,serif\" font-size=\"14.00\">gini = 0.095</text>\r\n",
       "<text text-anchor=\"middle\" x=\"2602\" y=\"-527.8\" font-family=\"Times New Roman,serif\" font-size=\"14.00\">samples = 20</text>\r\n",
       "<text text-anchor=\"middle\" x=\"2602\" y=\"-512.8\" font-family=\"Times New Roman,serif\" font-size=\"14.00\">value = [1, 19]</text>\r\n",
       "</g>\r\n",
       "<!-- 129&#45;&gt;130 -->\r\n",
       "<g id=\"edge130\" class=\"edge\"><title>129&#45;&gt;130</title>\r\n",
       "<path fill=\"none\" stroke=\"black\" d=\"M2602,-608.884C2602,-600.778 2602,-591.982 2602,-583.472\"/>\r\n",
       "<polygon fill=\"black\" stroke=\"black\" points=\"2605.5,-583.299 2602,-573.299 2598.5,-583.299 2605.5,-583.299\"/>\r\n",
       "</g>\r\n",
       "<!-- 135 -->\r\n",
       "<g id=\"node136\" class=\"node\"><title>135</title>\r\n",
       "<polygon fill=\"none\" stroke=\"black\" points=\"2812,-573 2708,-573 2708,-505 2812,-505 2812,-573\"/>\r\n",
       "<text text-anchor=\"middle\" x=\"2760\" y=\"-557.8\" font-family=\"Times New Roman,serif\" font-size=\"14.00\">X[19] &lt;= 0.796</text>\r\n",
       "<text text-anchor=\"middle\" x=\"2760\" y=\"-542.8\" font-family=\"Times New Roman,serif\" font-size=\"14.00\">gini = 0.5</text>\r\n",
       "<text text-anchor=\"middle\" x=\"2760\" y=\"-527.8\" font-family=\"Times New Roman,serif\" font-size=\"14.00\">samples = 8</text>\r\n",
       "<text text-anchor=\"middle\" x=\"2760\" y=\"-512.8\" font-family=\"Times New Roman,serif\" font-size=\"14.00\">value = [4, 4]</text>\r\n",
       "</g>\r\n",
       "<!-- 129&#45;&gt;135 -->\r\n",
       "<g id=\"edge135\" class=\"edge\"><title>129&#45;&gt;135</title>\r\n",
       "<path fill=\"none\" stroke=\"black\" d=\"M2653.3,-608.884C2668.28,-599.214 2684.77,-588.563 2700.23,-578.587\"/>\r\n",
       "<polygon fill=\"black\" stroke=\"black\" points=\"2702.19,-581.489 2708.69,-573.125 2698.39,-575.608 2702.19,-581.489\"/>\r\n",
       "</g>\r\n",
       "<!-- 131 -->\r\n",
       "<g id=\"node132\" class=\"node\"><title>131</title>\r\n",
       "<polygon fill=\"none\" stroke=\"black\" points=\"2551,-461.5 2453,-461.5 2453,-408.5 2551,-408.5 2551,-461.5\"/>\r\n",
       "<text text-anchor=\"middle\" x=\"2502\" y=\"-446.3\" font-family=\"Times New Roman,serif\" font-size=\"14.00\">gini = 0.0</text>\r\n",
       "<text text-anchor=\"middle\" x=\"2502\" y=\"-431.3\" font-family=\"Times New Roman,serif\" font-size=\"14.00\">samples = 18</text>\r\n",
       "<text text-anchor=\"middle\" x=\"2502\" y=\"-416.3\" font-family=\"Times New Roman,serif\" font-size=\"14.00\">value = [0, 18]</text>\r\n",
       "</g>\r\n",
       "<!-- 130&#45;&gt;131 -->\r\n",
       "<g id=\"edge131\" class=\"edge\"><title>130&#45;&gt;131</title>\r\n",
       "<path fill=\"none\" stroke=\"black\" d=\"M2569.53,-504.884C2558.21,-493.336 2545.52,-480.387 2534.22,-468.86\"/>\r\n",
       "<polygon fill=\"black\" stroke=\"black\" points=\"2536.52,-466.21 2527.02,-461.52 2531.52,-471.111 2536.52,-466.21\"/>\r\n",
       "</g>\r\n",
       "<!-- 132 -->\r\n",
       "<g id=\"node133\" class=\"node\"><title>132</title>\r\n",
       "<polygon fill=\"none\" stroke=\"black\" points=\"2673,-469 2569,-469 2569,-401 2673,-401 2673,-469\"/>\r\n",
       "<text text-anchor=\"middle\" x=\"2621\" y=\"-453.8\" font-family=\"Times New Roman,serif\" font-size=\"14.00\">X[14] &lt;= 1.097</text>\r\n",
       "<text text-anchor=\"middle\" x=\"2621\" y=\"-438.8\" font-family=\"Times New Roman,serif\" font-size=\"14.00\">gini = 0.5</text>\r\n",
       "<text text-anchor=\"middle\" x=\"2621\" y=\"-423.8\" font-family=\"Times New Roman,serif\" font-size=\"14.00\">samples = 2</text>\r\n",
       "<text text-anchor=\"middle\" x=\"2621\" y=\"-408.8\" font-family=\"Times New Roman,serif\" font-size=\"14.00\">value = [1, 1]</text>\r\n",
       "</g>\r\n",
       "<!-- 130&#45;&gt;132 -->\r\n",
       "<g id=\"edge132\" class=\"edge\"><title>130&#45;&gt;132</title>\r\n",
       "<path fill=\"none\" stroke=\"black\" d=\"M2608.17,-504.884C2609.7,-496.689 2611.35,-487.789 2612.95,-479.192\"/>\r\n",
       "<polygon fill=\"black\" stroke=\"black\" points=\"2616.41,-479.771 2614.8,-469.299 2609.53,-478.489 2616.41,-479.771\"/>\r\n",
       "</g>\r\n",
       "<!-- 133 -->\r\n",
       "<g id=\"node134\" class=\"node\"><title>133</title>\r\n",
       "<polygon fill=\"none\" stroke=\"black\" points=\"2587.5,-357.5 2496.5,-357.5 2496.5,-304.5 2587.5,-304.5 2587.5,-357.5\"/>\r\n",
       "<text text-anchor=\"middle\" x=\"2542\" y=\"-342.3\" font-family=\"Times New Roman,serif\" font-size=\"14.00\">gini = 0.0</text>\r\n",
       "<text text-anchor=\"middle\" x=\"2542\" y=\"-327.3\" font-family=\"Times New Roman,serif\" font-size=\"14.00\">samples = 1</text>\r\n",
       "<text text-anchor=\"middle\" x=\"2542\" y=\"-312.3\" font-family=\"Times New Roman,serif\" font-size=\"14.00\">value = [1, 0]</text>\r\n",
       "</g>\r\n",
       "<!-- 132&#45;&gt;133 -->\r\n",
       "<g id=\"edge133\" class=\"edge\"><title>132&#45;&gt;133</title>\r\n",
       "<path fill=\"none\" stroke=\"black\" d=\"M2595.35,-400.884C2586.58,-389.556 2576.76,-376.88 2567.96,-365.521\"/>\r\n",
       "<polygon fill=\"black\" stroke=\"black\" points=\"2570.66,-363.283 2561.77,-357.52 2565.12,-367.569 2570.66,-363.283\"/>\r\n",
       "</g>\r\n",
       "<!-- 134 -->\r\n",
       "<g id=\"node135\" class=\"node\"><title>134</title>\r\n",
       "<polygon fill=\"none\" stroke=\"black\" points=\"2696.5,-357.5 2605.5,-357.5 2605.5,-304.5 2696.5,-304.5 2696.5,-357.5\"/>\r\n",
       "<text text-anchor=\"middle\" x=\"2651\" y=\"-342.3\" font-family=\"Times New Roman,serif\" font-size=\"14.00\">gini = 0.0</text>\r\n",
       "<text text-anchor=\"middle\" x=\"2651\" y=\"-327.3\" font-family=\"Times New Roman,serif\" font-size=\"14.00\">samples = 1</text>\r\n",
       "<text text-anchor=\"middle\" x=\"2651\" y=\"-312.3\" font-family=\"Times New Roman,serif\" font-size=\"14.00\">value = [0, 1]</text>\r\n",
       "</g>\r\n",
       "<!-- 132&#45;&gt;134 -->\r\n",
       "<g id=\"edge134\" class=\"edge\"><title>132&#45;&gt;134</title>\r\n",
       "<path fill=\"none\" stroke=\"black\" d=\"M2630.74,-400.884C2633.91,-390.106 2637.44,-378.108 2640.65,-367.184\"/>\r\n",
       "<polygon fill=\"black\" stroke=\"black\" points=\"2644.03,-368.101 2643.49,-357.52 2637.31,-366.126 2644.03,-368.101\"/>\r\n",
       "</g>\r\n",
       "<!-- 136 -->\r\n",
       "<g id=\"node137\" class=\"node\"><title>136</title>\r\n",
       "<polygon fill=\"none\" stroke=\"black\" points=\"2810.5,-469 2709.5,-469 2709.5,-401 2810.5,-401 2810.5,-469\"/>\r\n",
       "<text text-anchor=\"middle\" x=\"2760\" y=\"-453.8\" font-family=\"Times New Roman,serif\" font-size=\"14.00\">X[2] &lt;= &#45;1.916</text>\r\n",
       "<text text-anchor=\"middle\" x=\"2760\" y=\"-438.8\" font-family=\"Times New Roman,serif\" font-size=\"14.00\">gini = 0.32</text>\r\n",
       "<text text-anchor=\"middle\" x=\"2760\" y=\"-423.8\" font-family=\"Times New Roman,serif\" font-size=\"14.00\">samples = 5</text>\r\n",
       "<text text-anchor=\"middle\" x=\"2760\" y=\"-408.8\" font-family=\"Times New Roman,serif\" font-size=\"14.00\">value = [4, 1]</text>\r\n",
       "</g>\r\n",
       "<!-- 135&#45;&gt;136 -->\r\n",
       "<g id=\"edge136\" class=\"edge\"><title>135&#45;&gt;136</title>\r\n",
       "<path fill=\"none\" stroke=\"black\" d=\"M2760,-504.884C2760,-496.778 2760,-487.982 2760,-479.472\"/>\r\n",
       "<polygon fill=\"black\" stroke=\"black\" points=\"2763.5,-479.299 2760,-469.299 2756.5,-479.299 2763.5,-479.299\"/>\r\n",
       "</g>\r\n",
       "<!-- 139 -->\r\n",
       "<g id=\"node140\" class=\"node\"><title>139</title>\r\n",
       "<polygon fill=\"none\" stroke=\"black\" points=\"2919.5,-461.5 2828.5,-461.5 2828.5,-408.5 2919.5,-408.5 2919.5,-461.5\"/>\r\n",
       "<text text-anchor=\"middle\" x=\"2874\" y=\"-446.3\" font-family=\"Times New Roman,serif\" font-size=\"14.00\">gini = 0.0</text>\r\n",
       "<text text-anchor=\"middle\" x=\"2874\" y=\"-431.3\" font-family=\"Times New Roman,serif\" font-size=\"14.00\">samples = 3</text>\r\n",
       "<text text-anchor=\"middle\" x=\"2874\" y=\"-416.3\" font-family=\"Times New Roman,serif\" font-size=\"14.00\">value = [0, 3]</text>\r\n",
       "</g>\r\n",
       "<!-- 135&#45;&gt;139 -->\r\n",
       "<g id=\"edge139\" class=\"edge\"><title>135&#45;&gt;139</title>\r\n",
       "<path fill=\"none\" stroke=\"black\" d=\"M2797.01,-504.884C2810.16,-493.116 2824.94,-479.894 2838.01,-468.203\"/>\r\n",
       "<polygon fill=\"black\" stroke=\"black\" points=\"2840.36,-470.796 2845.48,-461.52 2835.69,-465.58 2840.36,-470.796\"/>\r\n",
       "</g>\r\n",
       "<!-- 137 -->\r\n",
       "<g id=\"node138\" class=\"node\"><title>137</title>\r\n",
       "<polygon fill=\"none\" stroke=\"black\" points=\"2805.5,-357.5 2714.5,-357.5 2714.5,-304.5 2805.5,-304.5 2805.5,-357.5\"/>\r\n",
       "<text text-anchor=\"middle\" x=\"2760\" y=\"-342.3\" font-family=\"Times New Roman,serif\" font-size=\"14.00\">gini = 0.0</text>\r\n",
       "<text text-anchor=\"middle\" x=\"2760\" y=\"-327.3\" font-family=\"Times New Roman,serif\" font-size=\"14.00\">samples = 1</text>\r\n",
       "<text text-anchor=\"middle\" x=\"2760\" y=\"-312.3\" font-family=\"Times New Roman,serif\" font-size=\"14.00\">value = [0, 1]</text>\r\n",
       "</g>\r\n",
       "<!-- 136&#45;&gt;137 -->\r\n",
       "<g id=\"edge137\" class=\"edge\"><title>136&#45;&gt;137</title>\r\n",
       "<path fill=\"none\" stroke=\"black\" d=\"M2760,-400.884C2760,-390.326 2760,-378.597 2760,-367.854\"/>\r\n",
       "<polygon fill=\"black\" stroke=\"black\" points=\"2763.5,-367.52 2760,-357.52 2756.5,-367.52 2763.5,-367.52\"/>\r\n",
       "</g>\r\n",
       "<!-- 138 -->\r\n",
       "<g id=\"node139\" class=\"node\"><title>138</title>\r\n",
       "<polygon fill=\"none\" stroke=\"black\" points=\"2914.5,-357.5 2823.5,-357.5 2823.5,-304.5 2914.5,-304.5 2914.5,-357.5\"/>\r\n",
       "<text text-anchor=\"middle\" x=\"2869\" y=\"-342.3\" font-family=\"Times New Roman,serif\" font-size=\"14.00\">gini = 0.0</text>\r\n",
       "<text text-anchor=\"middle\" x=\"2869\" y=\"-327.3\" font-family=\"Times New Roman,serif\" font-size=\"14.00\">samples = 4</text>\r\n",
       "<text text-anchor=\"middle\" x=\"2869\" y=\"-312.3\" font-family=\"Times New Roman,serif\" font-size=\"14.00\">value = [4, 0]</text>\r\n",
       "</g>\r\n",
       "<!-- 136&#45;&gt;138 -->\r\n",
       "<g id=\"edge138\" class=\"edge\"><title>136&#45;&gt;138</title>\r\n",
       "<path fill=\"none\" stroke=\"black\" d=\"M2795.39,-400.884C2807.85,-389.226 2821.83,-376.141 2834.24,-364.532\"/>\r\n",
       "<polygon fill=\"black\" stroke=\"black\" points=\"2836.82,-366.908 2841.73,-357.52 2832.04,-361.797 2836.82,-366.908\"/>\r\n",
       "</g>\r\n",
       "<!-- 141 -->\r\n",
       "<g id=\"node142\" class=\"node\"><title>141</title>\r\n",
       "<polygon fill=\"none\" stroke=\"black\" points=\"2634.5,-773.5 2543.5,-773.5 2543.5,-720.5 2634.5,-720.5 2634.5,-773.5\"/>\r\n",
       "<text text-anchor=\"middle\" x=\"2589\" y=\"-758.3\" font-family=\"Times New Roman,serif\" font-size=\"14.00\">gini = 0.0</text>\r\n",
       "<text text-anchor=\"middle\" x=\"2589\" y=\"-743.3\" font-family=\"Times New Roman,serif\" font-size=\"14.00\">samples = 6</text>\r\n",
       "<text text-anchor=\"middle\" x=\"2589\" y=\"-728.3\" font-family=\"Times New Roman,serif\" font-size=\"14.00\">value = [6, 0]</text>\r\n",
       "</g>\r\n",
       "<!-- 140&#45;&gt;141 -->\r\n",
       "<g id=\"edge141\" class=\"edge\"><title>140&#45;&gt;141</title>\r\n",
       "<path fill=\"none\" stroke=\"black\" d=\"M2589,-816.884C2589,-806.326 2589,-794.597 2589,-783.854\"/>\r\n",
       "<polygon fill=\"black\" stroke=\"black\" points=\"2592.5,-783.52 2589,-773.52 2585.5,-783.52 2592.5,-783.52\"/>\r\n",
       "</g>\r\n",
       "<!-- 142 -->\r\n",
       "<g id=\"node143\" class=\"node\"><title>142</title>\r\n",
       "<polygon fill=\"none\" stroke=\"black\" points=\"2743.5,-773.5 2652.5,-773.5 2652.5,-720.5 2743.5,-720.5 2743.5,-773.5\"/>\r\n",
       "<text text-anchor=\"middle\" x=\"2698\" y=\"-758.3\" font-family=\"Times New Roman,serif\" font-size=\"14.00\">gini = 0.0</text>\r\n",
       "<text text-anchor=\"middle\" x=\"2698\" y=\"-743.3\" font-family=\"Times New Roman,serif\" font-size=\"14.00\">samples = 1</text>\r\n",
       "<text text-anchor=\"middle\" x=\"2698\" y=\"-728.3\" font-family=\"Times New Roman,serif\" font-size=\"14.00\">value = [0, 1]</text>\r\n",
       "</g>\r\n",
       "<!-- 140&#45;&gt;142 -->\r\n",
       "<g id=\"edge142\" class=\"edge\"><title>140&#45;&gt;142</title>\r\n",
       "<path fill=\"none\" stroke=\"black\" d=\"M2624.39,-816.884C2636.85,-805.226 2650.83,-792.141 2663.24,-780.532\"/>\r\n",
       "<polygon fill=\"black\" stroke=\"black\" points=\"2665.82,-782.908 2670.73,-773.52 2661.04,-777.797 2665.82,-782.908\"/>\r\n",
       "</g>\r\n",
       "</g>\r\n",
       "</svg>\r\n"
      ],
      "text/plain": [
       "<graphviz.files.Source at 0x1f81afbbb70>"
      ]
     },
     "execution_count": 12,
     "metadata": {},
     "output_type": "execute_result"
    }
   ],
   "source": [
    "dot_data = export_graphviz(decision_tree, \n",
    "                           out_file=None)\n",
    "\n",
    "graph = graphviz.Source(dot_data)  \n",
    "\n",
    "graph "
   ]
  },
  {
   "cell_type": "markdown",
   "metadata": {},
   "source": [
    "### AdaBoost \n",
    "- AdaBoost classifier running on 1000 iterations (1000 trees created). \n",
    "\n",
    "- Also we are growing decision node up to first split (they are called decision stumps). \n",
    "\n",
    "- We are also going to use SAMME algorithm which is inteneded to work with discrete data (output from base_estimator is 0 or 1)"
   ]
  },
  {
   "cell_type": "code",
   "execution_count": 9,
   "metadata": {},
   "outputs": [
    {
     "name": "stdout",
     "output_type": "stream",
     "text": [
      "== AdaBoost ==\n",
      "Accuracy: 0.84\n",
      "Log loss: 0.68\n"
     ]
    }
   ],
   "source": [
    "adaboost = AdaBoostClassifier(\n",
    "    base_estimator=DecisionTreeClassifier(max_depth=1),\n",
    "    algorithm='SAMME',\n",
    "    n_estimators=1000,\n",
    "    random_state=seed)\n",
    "\n",
    "# train classifier\n",
    "adaboost.fit(X_train, y_train)\n",
    "\n",
    "# calculate predictions\n",
    "adaboost_y_pred = adaboost.predict(X_test)\n",
    "adaboost_y_pred_prob = adaboost.predict_proba(X_test)\n",
    "\n",
    "# evaluate\n",
    "adaboost_accuracy = accuracy_score(y_test, adaboost_y_pred)\n",
    "adaboost_logloss = log_loss(y_test, adaboost_y_pred_prob)\n",
    "\n",
    "print(\"== AdaBoost ==\")\n",
    "print(\"Accuracy: {0:.2f}\".format(adaboost_accuracy))\n",
    "print(\"Log loss: {0:.2f}\".format(adaboost_logloss))"
   ]
  },
  {
   "cell_type": "markdown",
   "metadata": {},
   "source": [
    "- The log-loss metrics is much lower than in single decision tree (mainly to the fact that now we obtain probabilities output). \n",
    "\n",
    "- The accuracy is the same, but notice that the structure of the tree is much simpler. We are creating 1000 decision tree stumps.\n",
    "\n",
    "Also here a quick peek into predicted values show that now 4 out of 5 first test instances are classified correctly."
   ]
  },
  {
   "cell_type": "code",
   "execution_count": 14,
   "metadata": {},
   "outputs": [
    {
     "name": "stdout",
     "output_type": "stream",
     "text": [
      "True labels:\n",
      "[1 1 0 0 0]\n",
      "\n",
      "Predicted labels:\n",
      "[1 0 0 0 0]\n",
      "\n",
      "Predicted probabilities:\n",
      "[[0.48396329 0.51603671]\n",
      " [0.49868559 0.50131441]\n",
      " [0.49892766 0.50107234]\n",
      " [0.50151698 0.49848302]\n",
      " [0.50566436 0.49433564]]\n"
     ]
    }
   ],
   "source": [
    "print('True labels:')\n",
    "print(y_test[:5,])\n",
    "print('\\nPredicted labels:')\n",
    "print(adaboost_y_pred[:5,])\n",
    "print('\\nPredicted probabilities:')\n",
    "print(adaboost_y_pred_prob[:5,])"
   ]
  },
  {
   "cell_type": "code",
   "execution_count": 15,
   "metadata": {},
   "outputs": [
    {
     "data": {
      "image/svg+xml": [
       "<?xml version=\"1.0\" encoding=\"UTF-8\" standalone=\"no\"?>\r\n",
       "<!DOCTYPE svg PUBLIC \"-//W3C//DTD SVG 1.1//EN\"\r\n",
       " \"http://www.w3.org/Graphics/SVG/1.1/DTD/svg11.dtd\">\r\n",
       "<!-- Generated by graphviz version 2.38.0 (20140413.2041)\r\n",
       " -->\r\n",
       "<!-- Title: Tree Pages: 1 -->\r\n",
       "<svg width=\"304pt\" height=\"165pt\"\r\n",
       " viewBox=\"0.00 0.00 304.00 165.00\" xmlns=\"http://www.w3.org/2000/svg\" xmlns:xlink=\"http://www.w3.org/1999/xlink\">\r\n",
       "<g id=\"graph0\" class=\"graph\" transform=\"scale(1 1) rotate(0) translate(4 161)\">\r\n",
       "<title>Tree</title>\r\n",
       "<polygon fill=\"white\" stroke=\"none\" points=\"-4,4 -4,-161 300,-161 300,4 -4,4\"/>\r\n",
       "<!-- 0 -->\r\n",
       "<g id=\"node1\" class=\"node\"><title>0</title>\r\n",
       "<polygon fill=\"none\" stroke=\"black\" points=\"217,-157 78,-157 78,-89 217,-89 217,-157\"/>\r\n",
       "<text text-anchor=\"middle\" x=\"147.5\" y=\"-141.8\" font-family=\"Times New Roman,serif\" font-size=\"14.00\">X[3] &lt;= &#45;0.598</text>\r\n",
       "<text text-anchor=\"middle\" x=\"147.5\" y=\"-126.8\" font-family=\"Times New Roman,serif\" font-size=\"14.00\">gini = 0.5</text>\r\n",
       "<text text-anchor=\"middle\" x=\"147.5\" y=\"-111.8\" font-family=\"Times New Roman,serif\" font-size=\"14.00\">samples = 800</text>\r\n",
       "<text text-anchor=\"middle\" x=\"147.5\" y=\"-96.8\" font-family=\"Times New Roman,serif\" font-size=\"14.00\">value = [0.495, 0.505]</text>\r\n",
       "</g>\r\n",
       "<!-- 1 -->\r\n",
       "<g id=\"node2\" class=\"node\"><title>1</title>\r\n",
       "<polygon fill=\"none\" stroke=\"black\" points=\"139,-53 0,-53 0,-0 139,-0 139,-53\"/>\r\n",
       "<text text-anchor=\"middle\" x=\"69.5\" y=\"-37.8\" font-family=\"Times New Roman,serif\" font-size=\"14.00\">gini = 0.274</text>\r\n",
       "<text text-anchor=\"middle\" x=\"69.5\" y=\"-22.8\" font-family=\"Times New Roman,serif\" font-size=\"14.00\">samples = 299</text>\r\n",
       "<text text-anchor=\"middle\" x=\"69.5\" y=\"-7.8\" font-family=\"Times New Roman,serif\" font-size=\"14.00\">value = [0.061, 0.312]</text>\r\n",
       "</g>\r\n",
       "<!-- 0&#45;&gt;1 -->\r\n",
       "<g id=\"edge1\" class=\"edge\"><title>0&#45;&gt;1</title>\r\n",
       "<path fill=\"none\" stroke=\"black\" d=\"M120.219,-88.9485C112.744,-79.892 104.636,-70.0682 97.1405,-60.9875\"/>\r\n",
       "<polygon fill=\"black\" stroke=\"black\" points=\"99.808,-58.721 90.743,-53.2367 94.4094,-63.1769 99.808,-58.721\"/>\r\n",
       "<text text-anchor=\"middle\" x=\"88.3626\" y=\"-74.4231\" font-family=\"Times New Roman,serif\" font-size=\"14.00\">True</text>\r\n",
       "</g>\r\n",
       "<!-- 2 -->\r\n",
       "<g id=\"node3\" class=\"node\"><title>2</title>\r\n",
       "<polygon fill=\"none\" stroke=\"black\" points=\"296,-53 157,-53 157,-0 296,-0 296,-53\"/>\r\n",
       "<text text-anchor=\"middle\" x=\"226.5\" y=\"-37.8\" font-family=\"Times New Roman,serif\" font-size=\"14.00\">gini = 0.426</text>\r\n",
       "<text text-anchor=\"middle\" x=\"226.5\" y=\"-22.8\" font-family=\"Times New Roman,serif\" font-size=\"14.00\">samples = 501</text>\r\n",
       "<text text-anchor=\"middle\" x=\"226.5\" y=\"-7.8\" font-family=\"Times New Roman,serif\" font-size=\"14.00\">value = [0.434, 0.193]</text>\r\n",
       "</g>\r\n",
       "<!-- 0&#45;&gt;2 -->\r\n",
       "<g id=\"edge2\" class=\"edge\"><title>0&#45;&gt;2</title>\r\n",
       "<path fill=\"none\" stroke=\"black\" d=\"M175.13,-88.9485C182.701,-79.892 190.914,-70.0682 198.505,-60.9875\"/>\r\n",
       "<polygon fill=\"black\" stroke=\"black\" points=\"201.256,-63.1538 204.985,-53.2367 195.886,-58.6641 201.256,-63.1538\"/>\r\n",
       "<text text-anchor=\"middle\" x=\"207.209\" y=\"-74.4375\" font-family=\"Times New Roman,serif\" font-size=\"14.00\">False</text>\r\n",
       "</g>\r\n",
       "</g>\r\n",
       "</svg>\r\n"
      ],
      "text/plain": [
       "<graphviz.files.Source at 0x1f81adea160>"
      ]
     },
     "execution_count": 15,
     "metadata": {},
     "output_type": "execute_result"
    }
   ],
   "source": [
    "ada_t1 = adaboost.estimators_[0]\n",
    "dot_data = export_graphviz(ada_t1, \n",
    "                           out_file=None)\n",
    "\n",
    "graph = graphviz.Source(dot_data)  \n",
    "\n",
    "graph "
   ]
  },
  {
   "cell_type": "markdown",
   "metadata": {},
   "source": [
    "What's it's error and contribution into final ensemble"
   ]
  },
  {
   "cell_type": "code",
   "execution_count": 16,
   "metadata": {},
   "outputs": [
    {
     "name": "stdout",
     "output_type": "stream",
     "text": [
      "Error: 0.25\n",
      "Tree importance: 1.08\n"
     ]
    }
   ],
   "source": [
    "print(\"Error: {0:.2f}\".format(adaboost.estimator_errors_[0]))\n",
    "print(\"Tree importance: {0:.2f}\".format(adaboost.estimator_weights_[0]))"
   ]
  },
  {
   "cell_type": "markdown",
   "metadata": {},
   "source": [
    "### Gradient Boosted Trees\n",
    "gradient boosted tree consiting of 1000 trees where each successive one will be created with gradient optimization. \n",
    "\n",
    "Again we are going to leave most parameters with their default values, specifiy only maximum depth of the tree to 1 (again decision stumps), and setting warm start for more intelligent computations."
   ]
  },
  {
   "cell_type": "code",
   "execution_count": 10,
   "metadata": {},
   "outputs": [
    {
     "name": "stdout",
     "output_type": "stream",
     "text": [
      "== Gradient Boosting ==\n",
      "Accuracy: 0.84\n",
      "Log loss: 0.34\n"
     ]
    }
   ],
   "source": [
    "gbc = GradientBoostingClassifier(\n",
    "    max_depth=1,\n",
    "    n_estimators=1000,\n",
    "    warm_start=True,\n",
    "    random_state=seed)\n",
    "gbc.fit(X_train, y_train)\n",
    "\n",
    "# make predictions\n",
    "gbc_y_pred = gbc.predict(X_test)\n",
    "gbc_y_pred_prob = gbc.predict_proba(X_test)\n",
    "\n",
    "# calculate log loss\n",
    "gbc_accuracy = accuracy_score(y_test, gbc_y_pred)\n",
    "gbc_logloss = log_loss(y_test, gbc_y_pred_prob)\n",
    "\n",
    "print(\"== Gradient Boosting ==\")\n",
    "print(\"Accuracy: {0:.2f}\".format(gbc_accuracy))\n",
    "print(\"Log loss: {0:.2f}\".format(gbc_logloss))"
   ]
  },
  {
   "cell_type": "markdown",
   "metadata": {},
   "source": [
    "The obtained results are obviously the best of all presented algorithm. We have obtained most accurate algorithm giving more sensible predictions about class probabilities."
   ]
  },
  {
   "cell_type": "code",
   "execution_count": 18,
   "metadata": {},
   "outputs": [
    {
     "name": "stdout",
     "output_type": "stream",
     "text": [
      "True labels:\n",
      "[1 1 0 0 0]\n",
      "\n",
      "Predicted labels:\n",
      "[1 0 0 0 0]\n",
      "\n",
      "Predicted probabilities:\n",
      "[[0.12344095 0.87655905]\n",
      " [0.69217302 0.30782698]\n",
      " [0.83598136 0.16401864]\n",
      " [0.9159873  0.0840127 ]\n",
      " [0.99863653 0.00136347]]\n"
     ]
    }
   ],
   "source": [
    "print('True labels:')\n",
    "print(y_test[:5,])\n",
    "print('\\nPredicted labels:')\n",
    "print(gbc_y_pred[:5,])\n",
    "print('\\nPredicted probabilities:')\n",
    "print(gbc_y_pred_prob[:5,])"
   ]
  },
  {
   "cell_type": "code",
   "execution_count": 15,
   "metadata": {},
   "outputs": [
    {
     "data": {
      "image/svg+xml": [
       "<?xml version=\"1.0\" encoding=\"UTF-8\" standalone=\"no\"?>\r\n",
       "<!DOCTYPE svg PUBLIC \"-//W3C//DTD SVG 1.1//EN\"\r\n",
       " \"http://www.w3.org/Graphics/SVG/1.1/DTD/svg11.dtd\">\r\n",
       "<!-- Generated by graphviz version 2.38.0 (20140413.2041)\r\n",
       " -->\r\n",
       "<!-- Title: Tree Pages: 1 -->\r\n",
       "<svg width=\"310pt\" height=\"165pt\"\r\n",
       " viewBox=\"0.00 0.00 310.00 165.00\" xmlns=\"http://www.w3.org/2000/svg\" xmlns:xlink=\"http://www.w3.org/1999/xlink\">\r\n",
       "<g id=\"graph0\" class=\"graph\" transform=\"scale(1 1) rotate(0) translate(4 161)\">\r\n",
       "<title>Tree</title>\r\n",
       "<polygon fill=\"white\" stroke=\"none\" points=\"-4,4 -4,-161 306,-161 306,4 -4,4\"/>\r\n",
       "<!-- 0 -->\r\n",
       "<g id=\"node1\" class=\"node\"><title>0</title>\r\n",
       "<polygon fill=\"none\" stroke=\"black\" points=\"222,-157 80,-157 80,-89 222,-89 222,-157\"/>\r\n",
       "<text text-anchor=\"middle\" x=\"151\" y=\"-141.8\" font-family=\"Times New Roman,serif\" font-size=\"14.00\">X[3] &lt;= &#45;0.598</text>\r\n",
       "<text text-anchor=\"middle\" x=\"151\" y=\"-126.8\" font-family=\"Times New Roman,serif\" font-size=\"14.00\">friedman_mse = 0.227</text>\r\n",
       "<text text-anchor=\"middle\" x=\"151\" y=\"-111.8\" font-family=\"Times New Roman,serif\" font-size=\"14.00\">samples = 800</text>\r\n",
       "<text text-anchor=\"middle\" x=\"151\" y=\"-96.8\" font-family=\"Times New Roman,serif\" font-size=\"14.00\">value = 0.0</text>\r\n",
       "</g>\r\n",
       "<!-- 1 -->\r\n",
       "<g id=\"node2\" class=\"node\"><title>1</title>\r\n",
       "<polygon fill=\"none\" stroke=\"black\" points=\"142,-53 0,-53 0,-0 142,-0 142,-53\"/>\r\n",
       "<text text-anchor=\"middle\" x=\"71\" y=\"-37.8\" font-family=\"Times New Roman,serif\" font-size=\"14.00\">friedman_mse = 0.134</text>\r\n",
       "<text text-anchor=\"middle\" x=\"71\" y=\"-22.8\" font-family=\"Times New Roman,serif\" font-size=\"14.00\">samples = 299</text>\r\n",
       "<text text-anchor=\"middle\" x=\"71\" y=\"-7.8\" font-family=\"Times New Roman,serif\" font-size=\"14.00\">value = 1.184</text>\r\n",
       "</g>\r\n",
       "<!-- 0&#45;&gt;1 -->\r\n",
       "<g id=\"edge1\" class=\"edge\"><title>0&#45;&gt;1</title>\r\n",
       "<path fill=\"none\" stroke=\"black\" d=\"M123.02,-88.9485C115.353,-79.892 107.037,-70.0682 99.3492,-60.9875\"/>\r\n",
       "<polygon fill=\"black\" stroke=\"black\" points=\"101.92,-58.6076 92.7877,-53.2367 96.5776,-63.1305 101.92,-58.6076\"/>\r\n",
       "<text text-anchor=\"middle\" x=\"90.7175\" y=\"-74.4508\" font-family=\"Times New Roman,serif\" font-size=\"14.00\">True</text>\r\n",
       "</g>\r\n",
       "<!-- 2 -->\r\n",
       "<g id=\"node3\" class=\"node\"><title>2</title>\r\n",
       "<polygon fill=\"none\" stroke=\"black\" points=\"302,-53 160,-53 160,-0 302,-0 302,-53\"/>\r\n",
       "<text text-anchor=\"middle\" x=\"231\" y=\"-37.8\" font-family=\"Times New Roman,serif\" font-size=\"14.00\">friedman_mse = 0.201</text>\r\n",
       "<text text-anchor=\"middle\" x=\"231\" y=\"-22.8\" font-family=\"Times New Roman,serif\" font-size=\"14.00\">samples = 501</text>\r\n",
       "<text text-anchor=\"middle\" x=\"231\" y=\"-7.8\" font-family=\"Times New Roman,serif\" font-size=\"14.00\">value = &#45;0.702</text>\r\n",
       "</g>\r\n",
       "<!-- 0&#45;&gt;2 -->\r\n",
       "<g id=\"edge2\" class=\"edge\"><title>0&#45;&gt;2</title>\r\n",
       "<path fill=\"none\" stroke=\"black\" d=\"M178.98,-88.9485C186.647,-79.892 194.963,-70.0682 202.651,-60.9875\"/>\r\n",
       "<polygon fill=\"black\" stroke=\"black\" points=\"205.422,-63.1305 209.212,-53.2367 200.08,-58.6076 205.422,-63.1305\"/>\r\n",
       "<text text-anchor=\"middle\" x=\"211.283\" y=\"-74.4508\" font-family=\"Times New Roman,serif\" font-size=\"14.00\">False</text>\r\n",
       "</g>\r\n",
       "</g>\r\n",
       "</svg>\r\n"
      ],
      "text/plain": [
       "<graphviz.files.Source at 0x1e897ca75f8>"
      ]
     },
     "execution_count": 15,
     "metadata": {},
     "output_type": "execute_result"
    }
   ],
   "source": [
    "gbc_t1 = gbc.estimators_[2][0]\n",
    "dot_data = export_graphviz(gbc_t1, \n",
    "                           out_file=None)\n",
    "\n",
    "graph = graphviz.Source(dot_data)  \n",
    "\n",
    "graph "
   ]
  },
  {
   "cell_type": "markdown",
   "metadata": {},
   "source": [
    "# XGB - Using standard interface"
   ]
  },
  {
   "cell_type": "markdown",
   "metadata": {},
   "source": [
    "### Loading data\n",
    "\n",
    "__Agaricus dataset __\n",
    "\n",
    "- This data set records biological attributes of different _mushroom_ species, \n",
    "- the target is to predict whether it is poisonous\n",
    "\n",
    "- This data set includes descriptions of hypothetical samples corresponding to 23 species of gilled mushrooms in the Agaricus and Lepiota Family. Each species is identified as definitely edible, definitely poisonous, or of unknown edibility and not recommended. This latter class was combined with the poisonous one. The Guide clearly states that there is no simple rule for determining the edibility of a mushroom;\n",
    "\n",
    "- It consist of 8124 instances, characterized by 22 attributes (both numeric and categorical). \n",
    "- The target class is either 0 or 1 which means binary classification problem.\n",
    "\n",
    "** Important: XGBoost handles only numeric variables. **\n",
    "\n",
    "- Categorical variables have been encoded, and all instances divided into train and test datasets. \n",
    "\n",
    "- Data needs to be stored in DMatrix object which is designed to handle sparse datasets. It can be populated in couple ways:\n",
    "    using libsvm format txt file,\n",
    "    using Numpy 2D array (most popular),\n",
    "    using XGBoost binary buffer file"
   ]
  },
  {
   "cell_type": "code",
   "execution_count": 11,
   "metadata": {},
   "outputs": [
    {
     "name": "stdout",
     "output_type": "stream",
     "text": [
      "[15:07:14] 6513x127 matrix with 143286 entries loaded from E:\\MYLEARN\\2-ANALYTICS-DataScience\\datasets\\agaricus.txt.train\n",
      "[15:07:14] 1611x127 matrix with 35442 entries loaded from E:\\MYLEARN\\2-ANALYTICS-DataScience\\datasets\\agaricus.txt.test\n"
     ]
    }
   ],
   "source": [
    "dtrain = xgb.DMatrix(r'E:\\MYLEARN\\2-ANALYTICS-DataScience\\datasets\\agaricus.txt.train')\n",
    "dtest  = xgb.DMatrix(r'E:\\MYLEARN\\2-ANALYTICS-DataScience\\datasets\\agaricus.txt.test')"
   ]
  },
  {
   "cell_type": "code",
   "execution_count": 12,
   "metadata": {},
   "outputs": [
    {
     "name": "stdout",
     "output_type": "stream",
     "text": [
      "Train dataset contains 6513 rows and 127 columns\n",
      "Test dataset contains 1611 rows and 127 columns\n"
     ]
    }
   ],
   "source": [
    "print(\"Train dataset contains {0} rows and {1} columns\".format(dtrain.num_row(), dtrain.num_col()))\n",
    "print(\"Test dataset contains {0} rows and {1} columns\".format(dtest.num_row(), dtest.num_col()))"
   ]
  },
  {
   "cell_type": "code",
   "execution_count": 13,
   "metadata": {},
   "outputs": [
    {
     "name": "stdout",
     "output_type": "stream",
     "text": [
      "Train possible labels: \n",
      "[0. 1.]\n",
      "\n",
      "Test possible labels: \n",
      "[0. 1.]\n"
     ]
    }
   ],
   "source": [
    "print(\"Train possible labels: \")\n",
    "print(np.unique(dtrain.get_label()))\n",
    "\n",
    "print(\"\\nTest possible labels: \")\n",
    "print(np.unique(dtest.get_label()))"
   ]
  },
  {
   "cell_type": "markdown",
   "metadata": {},
   "source": [
    "#### Specify training parameters\n",
    "\n",
    "- we are dealing with binary classification problem ('objective':'binary:logistic'),\n",
    "- we want shallow single trees with no more than 2 levels ('max_depth':2),\n",
    "- we don't any oupout ('silent':1),\n",
    "- we want algorithm to learn fast and aggressively ('eta':1),\n",
    "- we want to iterate only 5 rounds"
   ]
  },
  {
   "cell_type": "code",
   "execution_count": 14,
   "metadata": {},
   "outputs": [],
   "source": [
    "params = {\n",
    "    'objective':'binary:logistic',\n",
    "    'max_depth':2,\n",
    "    'silent':1,\n",
    "    'eta':1\n",
    "}\n",
    "\n",
    "num_rounds = 5"
   ]
  },
  {
   "cell_type": "markdown",
   "metadata": {},
   "source": [
    "#### Training classifier\n",
    "To train the classifier we simply pass to it a training dataset, parameters list and information about number of iterations."
   ]
  },
  {
   "cell_type": "code",
   "execution_count": 15,
   "metadata": {},
   "outputs": [],
   "source": [
    "bst = xgb.train(params, dtrain, num_rounds)"
   ]
  },
  {
   "cell_type": "code",
   "execution_count": 16,
   "metadata": {},
   "outputs": [
    {
     "name": "stdout",
     "output_type": "stream",
     "text": [
      "[0]\ttest-error:0.042831\ttrain-error:0.046522\n",
      "[1]\ttest-error:0.021726\ttrain-error:0.022263\n",
      "[2]\ttest-error:0.006207\ttrain-error:0.007063\n",
      "[3]\ttest-error:0.018001\ttrain-error:0.0152\n",
      "[4]\ttest-error:0.006207\ttrain-error:0.007063\n"
     ]
    }
   ],
   "source": [
    "# observe performance on test dataset using watchlist\n",
    "watchlist  = [(dtest,'test'), (dtrain,'train')] # native interface only\n",
    "bst = xgb.train(params, dtrain, num_rounds, watchlist)"
   ]
  },
  {
   "cell_type": "markdown",
   "metadata": {},
   "source": [
    "#### Make predictions"
   ]
  },
  {
   "cell_type": "code",
   "execution_count": 17,
   "metadata": {},
   "outputs": [
    {
     "data": {
      "text/plain": [
       "array([0.08073306, 0.92217326, 0.08073306, ..., 0.98059034, 0.01182149,\n",
       "       0.98059034], dtype=float32)"
      ]
     },
     "execution_count": 17,
     "metadata": {},
     "output_type": "execute_result"
    }
   ],
   "source": [
    "preds_prob = bst.predict(dtest)\n",
    "preds_prob"
   ]
  },
  {
   "cell_type": "code",
   "execution_count": 18,
   "metadata": {},
   "outputs": [
    {
     "name": "stdout",
     "output_type": "stream",
     "text": [
      "Predicted correctly: 1601/1611\n",
      "Error: 0.0062\n"
     ]
    }
   ],
   "source": [
    "# Calculate simple accuracy metric to verify the results.\n",
    "\n",
    "labels = dtest.get_label()\n",
    "preds = preds_prob > 0.5 # threshold\n",
    "correct = 0\n",
    "\n",
    "for i in range(len(preds)):\n",
    "    if (labels[i] == preds[i]):\n",
    "        correct += 1\n",
    "\n",
    "print('Predicted correctly: {0}/{1}'.format(correct, len(preds)))\n",
    "print('Error: {0:.4f}'.format(1-correct/len(preds)))"
   ]
  },
  {
   "cell_type": "markdown",
   "metadata": {},
   "source": [
    "# XGB - Using Scikit-learn Interface"
   ]
  },
  {
   "cell_type": "markdown",
   "metadata": {},
   "source": [
    "### Loading data\n",
    "- The scikit-learn package provides a convenient function load_svmlight capable of reading many libsvm files at once and storing them as Scipy's sparse matrices."
   ]
  },
  {
   "cell_type": "code",
   "execution_count": 19,
   "metadata": {},
   "outputs": [],
   "source": [
    "X_train, y_train, X_test, y_test = load_svmlight_files((r'E:\\MYLEARN\\2-ANALYTICS-DataScience\\datasets\\agaricus.txt.train', \n",
    "                                                        r'E:\\MYLEARN\\2-ANALYTICS-DataScience\\datasets\\agaricus.txt.test'))"
   ]
  },
  {
   "cell_type": "code",
   "execution_count": 20,
   "metadata": {},
   "outputs": [
    {
     "name": "stdout",
     "output_type": "stream",
     "text": [
      "Train dataset contains 6513 rows and 126 columns\n",
      "Test dataset contains 1611 rows and 126 columns\n"
     ]
    }
   ],
   "source": [
    "print(\"Train dataset contains {0} rows and {1} columns\".format(X_train.shape[0], X_train.shape[1]))\n",
    "print(\"Test dataset contains {0} rows and {1} columns\".format(X_test.shape[0], X_test.shape[1]))"
   ]
  },
  {
   "cell_type": "code",
   "execution_count": 21,
   "metadata": {},
   "outputs": [
    {
     "name": "stdout",
     "output_type": "stream",
     "text": [
      "Train possible labels: \n",
      "[0. 1.]\n",
      "\n",
      "Test possible labels: \n",
      "[0. 1.]\n"
     ]
    }
   ],
   "source": [
    "print(\"Train possible labels: \")\n",
    "print(np.unique(y_train))\n",
    "\n",
    "print(\"\\nTest possible labels: \")\n",
    "print(np.unique(y_test))"
   ]
  },
  {
   "cell_type": "markdown",
   "metadata": {},
   "source": [
    "### Specify training parameters\n",
    "\n",
    "- we are dealing with binary classification problem ('objective':'binary:logistic'),\n",
    "- we want shallow single trees with no more than 2 levels ('max_depth':2),\n",
    "- we don't any oupout ('silent':1),\n",
    "- we want algorithm to learn fast and aggressively ('learning_rate':1), (in naive named eta)\n",
    "- we want to iterate only 5 rounds (n_estimators)"
   ]
  },
  {
   "cell_type": "code",
   "execution_count": 24,
   "metadata": {},
   "outputs": [],
   "source": [
    "params = {\n",
    "    'objective': 'binary:logistic',\n",
    "    'max_depth': 2,\n",
    "    'learning_rate': 1.0,\n",
    "    'silent': 1.0,\n",
    "    'n_estimators': 5\n",
    "}"
   ]
  },
  {
   "cell_type": "markdown",
   "metadata": {},
   "source": [
    "### Training classifier"
   ]
  },
  {
   "cell_type": "code",
   "execution_count": 25,
   "metadata": {},
   "outputs": [
    {
     "ename": "XGBoostError",
     "evalue": "Invalid Parameter format for silent expect boolean but value='1.0'",
     "output_type": "error",
     "traceback": [
      "\u001b[1;31m---------------------------------------------------------------------------\u001b[0m",
      "\u001b[1;31mXGBoostError\u001b[0m                              Traceback (most recent call last)",
      "\u001b[1;32m<ipython-input-25-b15e9ebcbdde>\u001b[0m in \u001b[0;36m<module>\u001b[1;34m\u001b[0m\n\u001b[1;32m----> 1\u001b[1;33m \u001b[0mbst\u001b[0m \u001b[1;33m=\u001b[0m \u001b[0mXGBClassifier\u001b[0m\u001b[1;33m(\u001b[0m\u001b[1;33m**\u001b[0m\u001b[0mparams\u001b[0m\u001b[1;33m)\u001b[0m\u001b[1;33m.\u001b[0m\u001b[0mfit\u001b[0m\u001b[1;33m(\u001b[0m\u001b[0mX_train\u001b[0m\u001b[1;33m,\u001b[0m \u001b[0my_train\u001b[0m\u001b[1;33m)\u001b[0m\u001b[1;33m\u001b[0m\u001b[1;33m\u001b[0m\u001b[0m\n\u001b[0m",
      "\u001b[1;32mD:\\Anaconda3\\lib\\site-packages\\xgboost\\sklearn.py\u001b[0m in \u001b[0;36mfit\u001b[1;34m(self, X, y, sample_weight, eval_set, eval_metric, early_stopping_rounds, verbose, xgb_model, sample_weight_eval_set, callbacks)\u001b[0m\n\u001b[0;32m    730\u001b[0m                               \u001b[0mevals_result\u001b[0m\u001b[1;33m=\u001b[0m\u001b[0mevals_result\u001b[0m\u001b[1;33m,\u001b[0m \u001b[0mobj\u001b[0m\u001b[1;33m=\u001b[0m\u001b[0mobj\u001b[0m\u001b[1;33m,\u001b[0m \u001b[0mfeval\u001b[0m\u001b[1;33m=\u001b[0m\u001b[0mfeval\u001b[0m\u001b[1;33m,\u001b[0m\u001b[1;33m\u001b[0m\u001b[1;33m\u001b[0m\u001b[0m\n\u001b[0;32m    731\u001b[0m                               \u001b[0mverbose_eval\u001b[0m\u001b[1;33m=\u001b[0m\u001b[0mverbose\u001b[0m\u001b[1;33m,\u001b[0m \u001b[0mxgb_model\u001b[0m\u001b[1;33m=\u001b[0m\u001b[0mxgb_model\u001b[0m\u001b[1;33m,\u001b[0m\u001b[1;33m\u001b[0m\u001b[1;33m\u001b[0m\u001b[0m\n\u001b[1;32m--> 732\u001b[1;33m                               callbacks=callbacks)\n\u001b[0m\u001b[0;32m    733\u001b[0m \u001b[1;33m\u001b[0m\u001b[0m\n\u001b[0;32m    734\u001b[0m         \u001b[0mself\u001b[0m\u001b[1;33m.\u001b[0m\u001b[0mobjective\u001b[0m \u001b[1;33m=\u001b[0m \u001b[0mxgb_options\u001b[0m\u001b[1;33m[\u001b[0m\u001b[1;34m\"objective\"\u001b[0m\u001b[1;33m]\u001b[0m\u001b[1;33m\u001b[0m\u001b[1;33m\u001b[0m\u001b[0m\n",
      "\u001b[1;32mD:\\Anaconda3\\lib\\site-packages\\xgboost\\training.py\u001b[0m in \u001b[0;36mtrain\u001b[1;34m(params, dtrain, num_boost_round, evals, obj, feval, maximize, early_stopping_rounds, evals_result, verbose_eval, xgb_model, callbacks, learning_rates)\u001b[0m\n\u001b[0;32m    214\u001b[0m                            \u001b[0mevals\u001b[0m\u001b[1;33m=\u001b[0m\u001b[0mevals\u001b[0m\u001b[1;33m,\u001b[0m\u001b[1;33m\u001b[0m\u001b[1;33m\u001b[0m\u001b[0m\n\u001b[0;32m    215\u001b[0m                            \u001b[0mobj\u001b[0m\u001b[1;33m=\u001b[0m\u001b[0mobj\u001b[0m\u001b[1;33m,\u001b[0m \u001b[0mfeval\u001b[0m\u001b[1;33m=\u001b[0m\u001b[0mfeval\u001b[0m\u001b[1;33m,\u001b[0m\u001b[1;33m\u001b[0m\u001b[1;33m\u001b[0m\u001b[0m\n\u001b[1;32m--> 216\u001b[1;33m                            xgb_model=xgb_model, callbacks=callbacks)\n\u001b[0m\u001b[0;32m    217\u001b[0m \u001b[1;33m\u001b[0m\u001b[0m\n\u001b[0;32m    218\u001b[0m \u001b[1;33m\u001b[0m\u001b[0m\n",
      "\u001b[1;32mD:\\Anaconda3\\lib\\site-packages\\xgboost\\training.py\u001b[0m in \u001b[0;36m_train_internal\u001b[1;34m(params, dtrain, num_boost_round, evals, obj, feval, xgb_model, callbacks)\u001b[0m\n\u001b[0;32m     72\u001b[0m         \u001b[1;31m# Skip the first update if it is a recovery step.\u001b[0m\u001b[1;33m\u001b[0m\u001b[1;33m\u001b[0m\u001b[1;33m\u001b[0m\u001b[0m\n\u001b[0;32m     73\u001b[0m         \u001b[1;32mif\u001b[0m \u001b[0mversion\u001b[0m \u001b[1;33m%\u001b[0m \u001b[1;36m2\u001b[0m \u001b[1;33m==\u001b[0m \u001b[1;36m0\u001b[0m\u001b[1;33m:\u001b[0m\u001b[1;33m\u001b[0m\u001b[1;33m\u001b[0m\u001b[0m\n\u001b[1;32m---> 74\u001b[1;33m             \u001b[0mbst\u001b[0m\u001b[1;33m.\u001b[0m\u001b[0mupdate\u001b[0m\u001b[1;33m(\u001b[0m\u001b[0mdtrain\u001b[0m\u001b[1;33m,\u001b[0m \u001b[0mi\u001b[0m\u001b[1;33m,\u001b[0m \u001b[0mobj\u001b[0m\u001b[1;33m)\u001b[0m\u001b[1;33m\u001b[0m\u001b[1;33m\u001b[0m\u001b[0m\n\u001b[0m\u001b[0;32m     75\u001b[0m             \u001b[0mbst\u001b[0m\u001b[1;33m.\u001b[0m\u001b[0msave_rabit_checkpoint\u001b[0m\u001b[1;33m(\u001b[0m\u001b[1;33m)\u001b[0m\u001b[1;33m\u001b[0m\u001b[1;33m\u001b[0m\u001b[0m\n\u001b[0;32m     76\u001b[0m             \u001b[0mversion\u001b[0m \u001b[1;33m+=\u001b[0m \u001b[1;36m1\u001b[0m\u001b[1;33m\u001b[0m\u001b[1;33m\u001b[0m\u001b[0m\n",
      "\u001b[1;32mD:\\Anaconda3\\lib\\site-packages\\xgboost\\core.py\u001b[0m in \u001b[0;36mupdate\u001b[1;34m(self, dtrain, iteration, fobj)\u001b[0m\n\u001b[0;32m   1107\u001b[0m         \u001b[1;32mif\u001b[0m \u001b[0mfobj\u001b[0m \u001b[1;32mis\u001b[0m \u001b[1;32mNone\u001b[0m\u001b[1;33m:\u001b[0m\u001b[1;33m\u001b[0m\u001b[1;33m\u001b[0m\u001b[0m\n\u001b[0;32m   1108\u001b[0m             _check_call(_LIB.XGBoosterUpdateOneIter(self.handle, ctypes.c_int(iteration),\n\u001b[1;32m-> 1109\u001b[1;33m                                                     dtrain.handle))\n\u001b[0m\u001b[0;32m   1110\u001b[0m         \u001b[1;32melse\u001b[0m\u001b[1;33m:\u001b[0m\u001b[1;33m\u001b[0m\u001b[1;33m\u001b[0m\u001b[0m\n\u001b[0;32m   1111\u001b[0m             \u001b[0mpred\u001b[0m \u001b[1;33m=\u001b[0m \u001b[0mself\u001b[0m\u001b[1;33m.\u001b[0m\u001b[0mpredict\u001b[0m\u001b[1;33m(\u001b[0m\u001b[0mdtrain\u001b[0m\u001b[1;33m)\u001b[0m\u001b[1;33m\u001b[0m\u001b[1;33m\u001b[0m\u001b[0m\n",
      "\u001b[1;32mD:\\Anaconda3\\lib\\site-packages\\xgboost\\core.py\u001b[0m in \u001b[0;36m_check_call\u001b[1;34m(ret)\u001b[0m\n\u001b[0;32m    174\u001b[0m     \"\"\"\n\u001b[0;32m    175\u001b[0m     \u001b[1;32mif\u001b[0m \u001b[0mret\u001b[0m \u001b[1;33m!=\u001b[0m \u001b[1;36m0\u001b[0m\u001b[1;33m:\u001b[0m\u001b[1;33m\u001b[0m\u001b[1;33m\u001b[0m\u001b[0m\n\u001b[1;32m--> 176\u001b[1;33m         \u001b[1;32mraise\u001b[0m \u001b[0mXGBoostError\u001b[0m\u001b[1;33m(\u001b[0m\u001b[0mpy_str\u001b[0m\u001b[1;33m(\u001b[0m\u001b[0m_LIB\u001b[0m\u001b[1;33m.\u001b[0m\u001b[0mXGBGetLastError\u001b[0m\u001b[1;33m(\u001b[0m\u001b[1;33m)\u001b[0m\u001b[1;33m)\u001b[0m\u001b[1;33m)\u001b[0m\u001b[1;33m\u001b[0m\u001b[1;33m\u001b[0m\u001b[0m\n\u001b[0m\u001b[0;32m    177\u001b[0m \u001b[1;33m\u001b[0m\u001b[0m\n\u001b[0;32m    178\u001b[0m \u001b[1;33m\u001b[0m\u001b[0m\n",
      "\u001b[1;31mXGBoostError\u001b[0m: Invalid Parameter format for silent expect boolean but value='1.0'"
     ]
    }
   ],
   "source": [
    "bst = XGBClassifier(**params).fit(X_train, y_train)"
   ]
  },
  {
   "cell_type": "markdown",
   "metadata": {},
   "source": [
    "### Make predictions"
   ]
  },
  {
   "cell_type": "code",
   "execution_count": 32,
   "metadata": {},
   "outputs": [
    {
     "data": {
      "text/plain": [
       "array([0., 1., 0., ..., 1., 0., 1.])"
      ]
     },
     "execution_count": 32,
     "metadata": {},
     "output_type": "execute_result"
    }
   ],
   "source": [
    "preds = bst.predict(X_test)\n",
    "preds"
   ]
  },
  {
   "cell_type": "code",
   "execution_count": 33,
   "metadata": {},
   "outputs": [
    {
     "name": "stdout",
     "output_type": "stream",
     "text": [
      "Predicted correctly: 1601/1611\n",
      "Error: 0.0062\n"
     ]
    }
   ],
   "source": [
    "correct = 0\n",
    "\n",
    "for i in range(len(preds)):\n",
    "    if (y_test[i] == preds[i]):\n",
    "        correct += 1\n",
    "        \n",
    "acc = accuracy_score(y_test, preds)\n",
    "\n",
    "print('Predicted correctly: {0}/{1}'.format(correct, len(preds)))\n",
    "print('Error: {0:.4f}'.format(1-acc))"
   ]
  },
  {
   "cell_type": "markdown",
   "metadata": {},
   "source": [
    "# XGB - Spotting Most Important Features\n",
    "\n",
    "- the relative importance of features in the dataset. Using this knowledge will help you to figure out what is driving the splits most for the trees and where we may be able to make some improvements in feature engineering if possible."
   ]
  },
  {
   "cell_type": "code",
   "execution_count": 26,
   "metadata": {},
   "outputs": [
    {
     "name": "stdout",
     "output_type": "stream",
     "text": [
      "[15:09:21] 6513x127 matrix with 143286 entries loaded from E:\\MYLEARN\\2-ANALYTICS-DataScience\\datasets\\agaricus.txt.train\n",
      "[15:09:21] 1611x127 matrix with 35442 entries loaded from E:\\MYLEARN\\2-ANALYTICS-DataScience\\datasets\\agaricus.txt.test\n"
     ]
    }
   ],
   "source": [
    "# laod data\n",
    "dtrain = xgb.DMatrix(r'E:\\MYLEARN\\2-ANALYTICS-DataScience\\datasets\\agaricus.txt.train')\n",
    "dtest  = xgb.DMatrix(r'E:\\MYLEARN\\2-ANALYTICS-DataScience\\datasets\\agaricus.txt.test')"
   ]
  },
  {
   "cell_type": "markdown",
   "metadata": {},
   "source": [
    "###  Specify training parameters - \n",
    "\n",
    "we are going to use 5 stump decision trees with average learning rate."
   ]
  },
  {
   "cell_type": "code",
   "execution_count": 27,
   "metadata": {},
   "outputs": [],
   "source": [
    "# specify training parameters\n",
    "params = {\n",
    "    'objective':'binary:logistic',\n",
    "    'max_depth':1,\n",
    "    'silent':1,\n",
    "    'eta':0.5\n",
    "}\n",
    "\n",
    "num_rounds = 5"
   ]
  },
  {
   "cell_type": "code",
   "execution_count": 28,
   "metadata": {},
   "outputs": [
    {
     "name": "stdout",
     "output_type": "stream",
     "text": [
      "[0]\ttest-error:0.11049\ttrain-error:0.113926\n",
      "[1]\ttest-error:0.11049\ttrain-error:0.113926\n",
      "[2]\ttest-error:0.03352\ttrain-error:0.030401\n",
      "[3]\ttest-error:0.027312\ttrain-error:0.021495\n",
      "[4]\ttest-error:0.031037\ttrain-error:0.025487\n"
     ]
    }
   ],
   "source": [
    "# Train the model. In the same time specify watchlist to observe it's performance on the test set.\n",
    "# see how does it perform\n",
    "watchlist  = [(dtest,'test'), (dtrain,'train')] # native interface only\n",
    "bst = xgb.train(params, dtrain, num_rounds, watchlist)"
   ]
  },
  {
   "cell_type": "markdown",
   "metadata": {},
   "source": [
    "### Representation of a tree\n",
    "While building a tree is divided recursively several times (in this example only once) - this operation is called split. To perform a split the algorithm must figure out which is the best (one) feature to use.\n",
    "\n",
    "After that, at the bottom of the we get groups of observations packed in the leaves.\n",
    "\n",
    "In the final model, these leafs are supposed to be as pure as possible for each tree, meaning in our case that each leaf should be made of one label class.\n",
    "\n",
    "Not all splits are equally important. Basically the first split of a tree will have more impact on the purity that, for instance, the deepest split. Intuitively, we understand that the first split makes most of the work, and the following splits focus on smaller parts of the dataset which have been missclassified by the first tree.\n",
    "\n",
    "In the same way, in Boosting we try to optimize the missclassification at each round (it is called the loss). So the first tree will do the big work and the following trees will focus on the remaining, on the parts not correctly learned by the previous trees.\n",
    "\n",
    "The improvement brought by each split can be measured, it is the gain."
   ]
  },
  {
   "cell_type": "markdown",
   "metadata": {},
   "source": [
    "### Plotting\n",
    "\n",
    "See which feature provided the most gain:"
   ]
  },
  {
   "cell_type": "code",
   "execution_count": 29,
   "metadata": {},
   "outputs": [
    {
     "data": {
      "image/png": "[encoded data removed]",
      "text/plain": [
       "<Figure size 432x288 with 1 Axes>"
      ]
     },
     "metadata": {
      "needs_background": "light"
     },
     "output_type": "display_data"
    }
   ],
   "source": [
    "xgb.plot_importance(bst, importance_type='gain', xlabel='Gain');"
   ]
  },
  {
   "cell_type": "code",
   "execution_count": 38,
   "metadata": {
    "collapsed": true,
    "jupyter": {
     "outputs_hidden": true
    }
   },
   "outputs": [],
   "source": [
    "# plot feature importance\n",
    "# xgb.plot_importance(bst)"
   ]
  },
  {
   "cell_type": "markdown",
   "metadata": {},
   "source": [
    "# XGB - Bias/variance trade-off"
   ]
  },
  {
   "attachments": {
    "bias-var1.GIF": {
     "image/gif": "[encoded data removed]"
    }
   },
   "cell_type": "markdown",
   "metadata": {},
   "source": [
    "** Bias and variance **\n",
    "\n",
    "There are 2 general types of errors made by classifiers - \n",
    "\n",
    "- bias and variance errors.\n",
    "\n",
    "    - Bias error is the overall difference between expected predictions made by the model and true values.\n",
    "\n",
    "    - Variance error describes how much predictions for the given point vary. (across the runs)\n",
    "\n",
    "The desired state is when both errors are as low as possible. \n",
    "\n",
    "Imagine that the center of the target is the perfect model. We are iteratively repeating our experiment, recreating model and using it on the same data points.\n",
    "\n",
    "![bias-var1.GIF](attachment:bias-var1.GIF)\n",
    "\n",
    "\n"
   ]
  },
  {
   "attachments": {
    "UFOF-0.GIF": {
     "image/gif": "[encoded data removed]"
    },
    "uf-of.GIF": {
     "image/gif": "[encoded data removed]"
    }
   },
   "cell_type": "markdown",
   "metadata": {},
   "source": [
    "### Underfitting and overfitting\n",
    "Knowing the errors introduced with bias and variance we can proceed to how these relate to training the model. \n",
    "![UFOF-0.GIF](attachment:UFOF-0.GIF)\n",
    "\n",
    "![uf-of.GIF](attachment:uf-of.GIF)\n",
    "\n",
    "\n",
    "This simple example tries to fit a polynomial regression to predict future price. It's obious to see that for $d=1$ the model is too simple (underfits the data), and for $d=6$ is just the opposite (overfitting).\n",
    "\n",
    "    For underfitting we say that model suffers from high bias (too simple) (low variance)\n",
    "    For overfitting we say that model suffers from high variance (over-complicated, unstable) (low bias)"
   ]
  },
  {
   "cell_type": "markdown",
   "metadata": {},
   "source": [
    "### How to detect it\n",
    "To quantify the effects described we are going to train the model couple times for choosing different parameters value. Let's consider that we would like to find a optimal number of trees - we don't want the model to be very simple, but we also don't want to over-complicate it.\n",
    "\n",
    "The plan is as follows, we will:\n",
    "\n",
    "    generate complicated binary classification dataset,\n",
    "    use Scikit-learn wrapper,\n",
    "    train the model for different values of trees (n_estimators)) using stratified 10-fold CV,\n",
    "    plot train/test errors"
   ]
  },
  {
   "cell_type": "code",
   "execution_count": 39,
   "metadata": {
    "collapsed": true,
    "jupyter": {
     "outputs_hidden": true
    }
   },
   "outputs": [],
   "source": [
    "# Now generate artificial dataset\n",
    "X, y = make_classification(n_samples=1000, \n",
    "                           n_features=20, \n",
    "                           n_informative=8, \n",
    "                           n_redundant=3, \n",
    "                           n_repeated=2, \n",
    "                           random_state=seed)"
   ]
  },
  {
   "cell_type": "code",
   "execution_count": 40,
   "metadata": {
    "collapsed": true,
    "jupyter": {
     "outputs_hidden": true
    }
   },
   "outputs": [],
   "source": [
    "# k fold with shuffle\n",
    "cv = StratifiedKFold(n_splits=10, shuffle=True, random_state=seed)"
   ]
  },
  {
   "cell_type": "code",
   "execution_count": 41,
   "metadata": {
    "collapsed": true,
    "jupyter": {
     "outputs_hidden": true
    }
   },
   "outputs": [],
   "source": [
    "# set params\n",
    "default_params = {\n",
    "    'objective': 'binary:logistic',\n",
    "    'max_depth': 1,\n",
    "    'learning_rate': 0.3,\n",
    "    'silent': 1.0\n",
    "}\n",
    "\n",
    "n_estimators_range = np.linspace(1, 200, 10).astype('int')\n",
    "\n",
    "train_scores, test_scores = validation_curve(\n",
    "    XGBClassifier(**default_params),\n",
    "    X, y,\n",
    "    param_name = 'n_estimators',\n",
    "    param_range = n_estimators_range,\n",
    "    cv=cv,\n",
    "    scoring='accuracy'\n",
    ")"
   ]
  },
  {
   "cell_type": "code",
   "execution_count": 42,
   "metadata": {},
   "outputs": [
    {
     "data": {
      "image/png": "[encoded data removed]",
      "text/plain": [
       "<matplotlib.figure.Figure at 0x212954580b8>"
      ]
     },
     "metadata": {},
     "output_type": "display_data"
    },
    {
     "name": "stdout",
     "output_type": "stream",
     "text": [
      "Best cross-validation result (0.89) obtained for 67 trees\n"
     ]
    }
   ],
   "source": [
    "# Show the validation curve plot\n",
    "train_scores_mean = np.mean(train_scores, axis=1)\n",
    "train_scores_std  = np.std(train_scores, axis=1)\n",
    "\n",
    "test_scores_mean  = np.mean(test_scores, axis=1)\n",
    "test_scores_std   = np.std(test_scores, axis=1)\n",
    "\n",
    "fig = plt.figure(figsize=(12, 6), dpi=100)\n",
    "\n",
    "plt.title(\"Validation Curve with XGBoost (eta = 0.3)\")\n",
    "plt.xlabel(\"number of trees\")\n",
    "plt.ylabel(\"Accuracy\")\n",
    "plt.ylim(0.7, 1.1)\n",
    "\n",
    "plt.plot(n_estimators_range,\n",
    "             train_scores_mean,\n",
    "             label=\"Training score\",\n",
    "             color=\"r\")\n",
    "\n",
    "plt.plot(n_estimators_range,\n",
    "             test_scores_mean, \n",
    "             label=\"Cross-validation score\",\n",
    "             color=\"g\")\n",
    "\n",
    "plt.fill_between(n_estimators_range, \n",
    "                 train_scores_mean - train_scores_std,\n",
    "                 train_scores_mean + train_scores_std, \n",
    "                 alpha=0.2, color=\"r\")\n",
    "\n",
    "plt.fill_between(n_estimators_range,\n",
    "                 test_scores_mean - test_scores_std,\n",
    "                 test_scores_mean + test_scores_std,\n",
    "                 alpha=0.2, color=\"g\")\n",
    "\n",
    "plt.axhline(y=1, color='k', ls='dashed')\n",
    "\n",
    "plt.legend(loc=\"best\")\n",
    "plt.show()\n",
    "\n",
    "i = np.argmax(test_scores_mean)\n",
    "print(\"Best cross-validation result ({0:.2f}) obtained for {1} trees\".format(test_scores_mean[i], n_estimators_range[i]))"
   ]
  },
  {
   "cell_type": "markdown",
   "metadata": {},
   "source": [
    "Looking at the plot we can draw the following conclusions:\n",
    "\n",
    "- training score keeps growing while adding new trees, but from a certain point CV score is fixed\n",
    "- variance is lowest, and bias is high for less than 25 trees,\n",
    "- from about 25 trees, the variance is getting higher and while the CV score bias is holding steady (there is no point for adding extra trees / complexity)\n",
    "\n",
    "we can see that the model is quite stable keeping variance fixed when increasing it's complexity\n",
    "\n",
    "** We can assume that the trade-off for our model will be met at n_estimators = 50. The variance is still to big.**"
   ]
  },
  {
   "cell_type": "markdown",
   "metadata": {},
   "source": [
    "### What we can do?\n",
    "\n",
    "** (1) Dealing with high variance **\n",
    "\n",
    "If model is too complex try:\n",
    "\n",
    "    - using less features (ie. feature selection),\n",
    "    - using more training samples (ie. artificially generated),\n",
    "    - increasing regularization (add penalties for extra complexity)\n",
    "    \n",
    "    In XGBoost you can try to:\n",
    "\n",
    "    - reduce depth of each tree (max_depth),\n",
    "    - increase min_child_weight parameter,\n",
    "    - increase gamma parameter,\n",
    "    - add more randomness using subsample, colsample_bytree parameters,\n",
    "    - increase lambda and alpha regularization parameters (smaller coeffcients)\n",
    "    \n",
    "** (2) Dealing with high bias **\n",
    "\n",
    "If model is too simple:\n",
    "\n",
    "    - add more features (ie. better feature engineering),\n",
    "    - more sophisticated model\n",
    "    - decrease regularization\n",
    "    \n",
    "    In XGBoost you can do it by:\n",
    "\n",
    "    - increase depth of each tree (max_depth),\n",
    "    - decrease min_child_weight parameter,\n",
    "    - decrease gamma parameter,\n",
    "    - decrease lambda and alpha regularization parameters (higher coefficients)"
   ]
  },
  {
   "cell_type": "code",
   "execution_count": 43,
   "metadata": {
    "collapsed": true,
    "jupyter": {
     "outputs_hidden": true
    }
   },
   "outputs": [],
   "source": [
    "default_params = {\n",
    "    'objective': 'binary:logistic',\n",
    "    'max_depth': 2,          # changed\n",
    "    'learning_rate': 0.3,\n",
    "    'silent': 1.0,\n",
    "    'colsample_bytree': 0.6, # added\n",
    "    'subsample': 0.7         # added\n",
    "}\n",
    "\n",
    "n_estimators_range = np.linspace(1, 200, 10).astype('int')\n",
    "\n",
    "train_scores, test_scores = validation_curve(\n",
    "    XGBClassifier(**default_params),\n",
    "    X, y,\n",
    "    param_name = 'n_estimators',\n",
    "    param_range = n_estimators_range,\n",
    "    cv=cv,\n",
    "    scoring='accuracy'\n",
    ")"
   ]
  },
  {
   "cell_type": "code",
   "execution_count": 44,
   "metadata": {},
   "outputs": [
    {
     "data": {
      "image/png": "[encoded data removed]",
      "text/plain": [
       "<matplotlib.figure.Figure at 0x2129546a978>"
      ]
     },
     "metadata": {},
     "output_type": "display_data"
    },
    {
     "name": "stdout",
     "output_type": "stream",
     "text": [
      "Best cross-validation result (0.89) obtained for 23 trees\n"
     ]
    }
   ],
   "source": [
    "train_scores_mean = np.mean(train_scores, axis=1)\n",
    "train_scores_std  = np.std(train_scores, axis=1)\n",
    "test_scores_mean  = np.mean(test_scores, axis=1)\n",
    "test_scores_std   = np.std(test_scores, axis=1)\n",
    "\n",
    "fig = plt.figure(figsize=(12, 6), dpi=100)\n",
    "\n",
    "plt.title(\"Validation Curve with XGBoost (eta = 0.3)\")\n",
    "plt.xlabel(\"number of trees\")\n",
    "plt.ylabel(\"Accuracy\")\n",
    "plt.ylim(0.7, 1.1)\n",
    "\n",
    "plt.plot(n_estimators_range,\n",
    "             train_scores_mean,\n",
    "             label=\"Training score\",\n",
    "             color=\"r\")\n",
    "\n",
    "plt.plot(n_estimators_range,\n",
    "             test_scores_mean, \n",
    "             label=\"Cross-validation score\",\n",
    "             color=\"g\")\n",
    "\n",
    "plt.fill_between(n_estimators_range, \n",
    "                 train_scores_mean - train_scores_std,\n",
    "                 train_scores_mean + train_scores_std, \n",
    "                 alpha=0.2, color=\"r\")\n",
    "\n",
    "plt.fill_between(n_estimators_range,\n",
    "                 test_scores_mean - test_scores_std,\n",
    "                 test_scores_mean + test_scores_std,\n",
    "                 alpha=0.2, color=\"g\")\n",
    "\n",
    "plt.axhline(y=1, color='k', ls='dashed')\n",
    "\n",
    "plt.legend(loc=\"best\")\n",
    "plt.show()\n",
    "\n",
    "i = np.argmax(test_scores_mean)\n",
    "print(\"Best cross-validation result ({0:.2f}) obtained for {1} trees\".format(test_scores_mean[i], n_estimators_range[i]))"
   ]
  },
  {
   "cell_type": "markdown",
   "metadata": {},
   "source": [
    "# Hyper-parameter tuning\n",
    "\n",
    "As you know there are plenty of tunable parameters. Each one results in different output. The question is which combination results in best output."
   ]
  },
  {
   "cell_type": "code",
   "execution_count": 45,
   "metadata": {
    "collapsed": true,
    "jupyter": {
     "outputs_hidden": true
    }
   },
   "outputs": [],
   "source": [
    "# Generate artificial dataset:\n",
    "X, y = make_classification(n_samples=1000, \n",
    "                           n_features=20, \n",
    "                           n_informative=8, \n",
    "                           n_redundant=3, \n",
    "                           n_repeated=2, \n",
    "                           random_state=seed)"
   ]
  },
  {
   "cell_type": "code",
   "execution_count": 46,
   "metadata": {
    "collapsed": true,
    "jupyter": {
     "outputs_hidden": true
    }
   },
   "outputs": [],
   "source": [
    "# Define cross-validation strategy for testing.\n",
    "cv = StratifiedKFold(n_splits=10, shuffle=True, random_state=seed)"
   ]
  },
  {
   "cell_type": "markdown",
   "metadata": {},
   "source": [
    "### Grid-Search\n",
    "In grid-search we start by defining a dictionary holding possible parameter values we want to test. All combinations will be evaluted."
   ]
  },
  {
   "cell_type": "code",
   "execution_count": 47,
   "metadata": {
    "collapsed": true,
    "jupyter": {
     "outputs_hidden": true
    }
   },
   "outputs": [],
   "source": [
    "params_grid = {\n",
    "    'max_depth':     [1, 2, 3],\n",
    "    'n_estimators':  [5, 10, 25, 50],\n",
    "    'learning_rate': np.linspace(1e-16, 1, 3)\n",
    "}"
   ]
  },
  {
   "cell_type": "code",
   "execution_count": 48,
   "metadata": {
    "collapsed": true,
    "jupyter": {
     "outputs_hidden": true
    }
   },
   "outputs": [],
   "source": [
    "params_fixed = {\n",
    "    'objective': 'binary:logistic',\n",
    "    'silent': 1\n",
    "}"
   ]
  },
  {
   "cell_type": "code",
   "execution_count": 49,
   "metadata": {
    "collapsed": true,
    "jupyter": {
     "outputs_hidden": true
    }
   },
   "outputs": [],
   "source": [
    "# Create a GridSearchCV estimator.\n",
    "bst_grid = GridSearchCV(\n",
    "    estimator=XGBClassifier(**params_fixed, seed=seed),\n",
    "    param_grid=params_grid,\n",
    "    cv=cv,\n",
    "    scoring='accuracy'\n",
    ")"
   ]
  },
  {
   "cell_type": "markdown",
   "metadata": {},
   "source": [
    "Before running the calculations notice that $3*4*3*10=360$ models will be created to test all combinations. "
   ]
  },
  {
   "cell_type": "code",
   "execution_count": 50,
   "metadata": {},
   "outputs": [
    {
     "data": {
      "text/plain": [
       "GridSearchCV(cv=StratifiedKFold(n_splits=10, random_state=104, shuffle=True),\n",
       "       error_score='raise-deprecating',\n",
       "       estimator=XGBClassifier(base_score=0.5, booster='gbtree', colsample_bylevel=1,\n",
       "       colsample_bytree=1, gamma=0, learning_rate=0.1, max_delta_step=0,\n",
       "       max_depth=3, min_child_weight=1, missing=None, n_estimators=100,\n",
       "       n_jobs=1, nthread=None, objective='binary:logistic', random_state=0,\n",
       "       reg_alpha=0, reg_lambda=1, scale_pos_weight=1, seed=104, silent=1,\n",
       "       subsample=1),\n",
       "       fit_params=None, iid='warn', n_jobs=None,\n",
       "       param_grid={'max_depth': [1, 2, 3], 'n_estimators': [5, 10, 25, 50], 'learning_rate': array([1.e-16, 5.e-01, 1.e+00])},\n",
       "       pre_dispatch='2*n_jobs', refit=True, return_train_score='warn',\n",
       "       scoring='accuracy', verbose=0)"
      ]
     },
     "execution_count": 50,
     "metadata": {},
     "output_type": "execute_result"
    }
   ],
   "source": [
    "bst_grid.fit(X, y)"
   ]
  },
  {
   "cell_type": "code",
   "execution_count": 114,
   "metadata": {},
   "outputs": [
    {
     "name": "stdout",
     "output_type": "stream",
     "text": [
      "Best accuracy obtained: 0.905\n",
      "Parameters:\n",
      "\tlearning_rate: 0.5\n",
      "\tmax_depth: 2\n",
      "\tn_estimators: 25\n"
     ]
    }
   ],
   "source": [
    "print(\"Best accuracy obtained: {0}\".format(bst_grid.best_score_))\n",
    "print(\"Parameters:\")\n",
    "for key, value in bst_grid.best_params_.items():\n",
    "    print(\"\\t{}: {}\".format(key, value))"
   ]
  },
  {
   "cell_type": "markdown",
   "metadata": {},
   "source": [
    "# Deal with missing values\n",
    "\n",
    "- Missing value is commonly seen in real-world data sets. Handling missing values has no rule to apply to all cases, since there could be various reasons for the values to be missing.\n",
    "- Two approaches - native interface, and Sklearn wrapper "
   ]
  },
  {
   "cell_type": "markdown",
   "metadata": {},
   "source": [
    "### Prepare data"
   ]
  },
  {
   "cell_type": "code",
   "execution_count": 115,
   "metadata": {
    "collapsed": true,
    "jupyter": {
     "outputs_hidden": true
    }
   },
   "outputs": [],
   "source": [
    "# reproducibility\n",
    "seed = 123"
   ]
  },
  {
   "cell_type": "code",
   "execution_count": 116,
   "metadata": {},
   "outputs": [
    {
     "data": {
      "text/plain": [
       "array([[0.69646919, 0.28613933, 0.22685145, 0.55131477, 0.71946897],\n",
       "       [0.42310646, 0.9807642 , 0.68482974, 0.4809319 , 0.39211752],\n",
       "       [0.34317802, 0.72904971, 0.43857224, 0.0596779 , 0.39804426],\n",
       "       [0.73799541, 0.18249173, 0.17545176, 0.53155137, 0.53182759],\n",
       "       [0.63440096, 0.84943179, 0.72445532, 0.61102351, 0.72244338],\n",
       "       [0.32295891, 0.36178866, 0.22826323, 0.29371405, 0.63097612],\n",
       "       [0.09210494, 0.43370117, 0.43086276, 0.4936851 , 0.42583029],\n",
       "       [0.31226122, 0.42635131, 0.89338916, 0.94416002, 0.50183668],\n",
       "       [0.62395295, 0.1156184 , 0.31728548, 0.41482621, 0.86630916],\n",
       "       [0.25045537, 0.48303426, 0.98555979, 0.51948512, 0.61289453]])"
      ]
     },
     "execution_count": 116,
     "metadata": {},
     "output_type": "execute_result"
    }
   ],
   "source": [
    "# create valid dataset\n",
    "np.random.seed(seed)\n",
    "\n",
    "data_v = np.random.rand(10, 5) # 10 entities, each contains 5 features\n",
    "data_v"
   ]
  },
  {
   "cell_type": "code",
   "execution_count": 117,
   "metadata": {},
   "outputs": [
    {
     "data": {
      "text/plain": [
       "array([[0.69646919,        nan,        nan, 0.55131477, 0.71946897],\n",
       "       [       nan, 0.9807642 , 0.68482974, 0.4809319 , 0.39211752],\n",
       "       [0.34317802, 0.72904971, 0.43857224,        nan, 0.39804426],\n",
       "       [0.73799541, 0.18249173, 0.17545176, 0.53155137, 0.53182759],\n",
       "       [0.63440096, 0.84943179, 0.72445532, 0.61102351,        nan],\n",
       "       [0.32295891, 0.36178866, 0.22826323, 0.29371405, 0.63097612],\n",
       "       [0.09210494, 0.43370117, 0.43086276, 0.4936851 , 0.42583029],\n",
       "       [0.31226122, 0.42635131,        nan, 0.94416002, 0.50183668],\n",
       "       [0.62395295, 0.1156184 , 0.31728548, 0.41482621, 0.86630916],\n",
       "       [0.25045537,        nan, 0.98555979, 0.51948512, 0.61289453]])"
      ]
     },
     "execution_count": 117,
     "metadata": {},
     "output_type": "execute_result"
    }
   ],
   "source": [
    "# add some missing values\n",
    "data_m = np.copy(data_v)\n",
    "\n",
    "data_m[2, 3] = np.nan\n",
    "data_m[0, 1] = np.nan\n",
    "data_m[0, 2] = np.nan\n",
    "data_m[1, 0] = np.nan\n",
    "data_m[4, 4] = np.nan\n",
    "data_m[7, 2] = np.nan\n",
    "data_m[9, 1] = np.nan\n",
    "\n",
    "data_m"
   ]
  },
  {
   "cell_type": "markdown",
   "metadata": {},
   "source": [
    "Also generate target variables. Each sample will be assigned to one of two classes - so we are dealing with binary classification problem"
   ]
  },
  {
   "cell_type": "code",
   "execution_count": 118,
   "metadata": {},
   "outputs": [
    {
     "data": {
      "text/plain": [
       "array([0, 1, 0, 0, 0, 0, 0, 1, 1, 0])"
      ]
     },
     "execution_count": 118,
     "metadata": {},
     "output_type": "execute_result"
    }
   ],
   "source": [
    "np.random.seed(seed)\n",
    "\n",
    "label = np.random.randint(2, size=10) # binary target\n",
    "label"
   ]
  },
  {
   "cell_type": "markdown",
   "metadata": {},
   "source": [
    "### missing value - using Native interface\n",
    "In this case we will check how does the native interface handles missing data. Begin with specifing default parameters."
   ]
  },
  {
   "cell_type": "code",
   "execution_count": 136,
   "metadata": {
    "collapsed": true,
    "jupyter": {
     "outputs_hidden": true
    }
   },
   "outputs": [],
   "source": [
    "# specify general training parameters\n",
    "params = {\n",
    "    'objective':'binary:logistic',\n",
    "    'max_depth':1,\n",
    "    'silent':1,\n",
    "    'eta':0.5\n",
    "}\n",
    "\n",
    "num_rounds = 5"
   ]
  },
  {
   "cell_type": "code",
   "execution_count": 137,
   "metadata": {
    "collapsed": true,
    "jupyter": {
     "outputs_hidden": true
    }
   },
   "outputs": [],
   "source": [
    "dtrain_v = xgb.DMatrix(data_v, label=label)"
   ]
  },
  {
   "cell_type": "code",
   "execution_count": 138,
   "metadata": {},
   "outputs": [
    {
     "data": {
      "text/html": [
       "<div>\n",
       "<style>\n",
       "    .dataframe thead tr:only-child th {\n",
       "        text-align: right;\n",
       "    }\n",
       "\n",
       "    .dataframe thead th {\n",
       "        text-align: left;\n",
       "    }\n",
       "\n",
       "    .dataframe tbody tr th {\n",
       "        vertical-align: top;\n",
       "    }\n",
       "</style>\n",
       "<table border=\"1\" class=\"dataframe\">\n",
       "  <thead>\n",
       "    <tr style=\"text-align: right;\">\n",
       "      <th></th>\n",
       "      <th>test-error-mean</th>\n",
       "      <th>test-error-std</th>\n",
       "      <th>train-error-mean</th>\n",
       "      <th>train-error-std</th>\n",
       "    </tr>\n",
       "  </thead>\n",
       "  <tbody>\n",
       "    <tr>\n",
       "      <th>0</th>\n",
       "      <td>0.305556</td>\n",
       "      <td>0.274986</td>\n",
       "      <td>0.301587</td>\n",
       "      <td>0.118783</td>\n",
       "    </tr>\n",
       "    <tr>\n",
       "      <th>1</th>\n",
       "      <td>0.305556</td>\n",
       "      <td>0.274986</td>\n",
       "      <td>0.301587</td>\n",
       "      <td>0.118783</td>\n",
       "    </tr>\n",
       "    <tr>\n",
       "      <th>2</th>\n",
       "      <td>0.305556</td>\n",
       "      <td>0.274986</td>\n",
       "      <td>0.301587</td>\n",
       "      <td>0.118783</td>\n",
       "    </tr>\n",
       "    <tr>\n",
       "      <th>3</th>\n",
       "      <td>0.305556</td>\n",
       "      <td>0.274986</td>\n",
       "      <td>0.301587</td>\n",
       "      <td>0.118783</td>\n",
       "    </tr>\n",
       "    <tr>\n",
       "      <th>4</th>\n",
       "      <td>0.305556</td>\n",
       "      <td>0.274986</td>\n",
       "      <td>0.301587</td>\n",
       "      <td>0.118783</td>\n",
       "    </tr>\n",
       "  </tbody>\n",
       "</table>\n",
       "</div>"
      ],
      "text/plain": [
       "   test-error-mean  test-error-std  train-error-mean  train-error-std\n",
       "0         0.305556        0.274986          0.301587         0.118783\n",
       "1         0.305556        0.274986          0.301587         0.118783\n",
       "2         0.305556        0.274986          0.301587         0.118783\n",
       "3         0.305556        0.274986          0.301587         0.118783\n",
       "4         0.305556        0.274986          0.301587         0.118783"
      ]
     },
     "execution_count": 138,
     "metadata": {},
     "output_type": "execute_result"
    }
   ],
   "source": [
    "xgb.cv(params, dtrain_v, num_rounds, seed=seed)"
   ]
  },
  {
   "cell_type": "markdown",
   "metadata": {},
   "source": [
    "When creating DMatrix holding missing values we have to explicitly tell what denotes that it's missing. Sometimes it might be 0, 999 or others. In our case it's Numpy's NAN. Add missing argument to DMatrix constructor to handle it."
   ]
  },
  {
   "cell_type": "code",
   "execution_count": 139,
   "metadata": {
    "collapsed": true,
    "jupyter": {
     "outputs_hidden": true
    }
   },
   "outputs": [],
   "source": [
    "dtrain_m = xgb.DMatrix(data_m, label=label, missing=np.nan)"
   ]
  },
  {
   "cell_type": "code",
   "execution_count": 140,
   "metadata": {},
   "outputs": [
    {
     "data": {
      "text/html": [
       "<div>\n",
       "<style>\n",
       "    .dataframe thead tr:only-child th {\n",
       "        text-align: right;\n",
       "    }\n",
       "\n",
       "    .dataframe thead th {\n",
       "        text-align: left;\n",
       "    }\n",
       "\n",
       "    .dataframe tbody tr th {\n",
       "        vertical-align: top;\n",
       "    }\n",
       "</style>\n",
       "<table border=\"1\" class=\"dataframe\">\n",
       "  <thead>\n",
       "    <tr style=\"text-align: right;\">\n",
       "      <th></th>\n",
       "      <th>test-error-mean</th>\n",
       "      <th>test-error-std</th>\n",
       "      <th>train-error-mean</th>\n",
       "      <th>train-error-std</th>\n",
       "    </tr>\n",
       "  </thead>\n",
       "  <tbody>\n",
       "    <tr>\n",
       "      <th>0</th>\n",
       "      <td>0.305556</td>\n",
       "      <td>0.274986</td>\n",
       "      <td>0.301587</td>\n",
       "      <td>0.118783</td>\n",
       "    </tr>\n",
       "    <tr>\n",
       "      <th>1</th>\n",
       "      <td>0.305556</td>\n",
       "      <td>0.274986</td>\n",
       "      <td>0.301587</td>\n",
       "      <td>0.118783</td>\n",
       "    </tr>\n",
       "    <tr>\n",
       "      <th>2</th>\n",
       "      <td>0.305556</td>\n",
       "      <td>0.274986</td>\n",
       "      <td>0.301587</td>\n",
       "      <td>0.118783</td>\n",
       "    </tr>\n",
       "    <tr>\n",
       "      <th>3</th>\n",
       "      <td>0.305556</td>\n",
       "      <td>0.274986</td>\n",
       "      <td>0.301587</td>\n",
       "      <td>0.118783</td>\n",
       "    </tr>\n",
       "    <tr>\n",
       "      <th>4</th>\n",
       "      <td>0.305556</td>\n",
       "      <td>0.274986</td>\n",
       "      <td>0.301587</td>\n",
       "      <td>0.118783</td>\n",
       "    </tr>\n",
       "  </tbody>\n",
       "</table>\n",
       "</div>"
      ],
      "text/plain": [
       "   test-error-mean  test-error-std  train-error-mean  train-error-std\n",
       "0         0.305556        0.274986          0.301587         0.118783\n",
       "1         0.305556        0.274986          0.301587         0.118783\n",
       "2         0.305556        0.274986          0.301587         0.118783\n",
       "3         0.305556        0.274986          0.301587         0.118783\n",
       "4         0.305556        0.274986          0.301587         0.118783"
      ]
     },
     "execution_count": 140,
     "metadata": {},
     "output_type": "execute_result"
    }
   ],
   "source": [
    "xgb.cv(params, dtrain_m, num_rounds, seed=seed)"
   ]
  },
  {
   "cell_type": "markdown",
   "metadata": {},
   "source": [
    "### missing value - using Sklearn"
   ]
  },
  {
   "cell_type": "code",
   "execution_count": 141,
   "metadata": {
    "collapsed": true,
    "jupyter": {
     "outputs_hidden": true
    }
   },
   "outputs": [],
   "source": [
    "params = {\n",
    "    'objective': 'binary:logistic',\n",
    "    'max_depth': 1,\n",
    "    'learning_rate': 0.5,\n",
    "    'silent': 1.0,\n",
    "    'n_estimators': 5\n",
    "}"
   ]
  },
  {
   "cell_type": "code",
   "execution_count": 142,
   "metadata": {},
   "outputs": [
    {
     "data": {
      "text/plain": [
       "XGBClassifier(base_score=0.5, booster='gbtree', colsample_bylevel=1,\n",
       "       colsample_bytree=1, gamma=0, learning_rate=0.5, max_delta_step=0,\n",
       "       max_depth=1, min_child_weight=1, missing=None, n_estimators=5,\n",
       "       n_jobs=1, nthread=None, objective='binary:logistic', random_state=0,\n",
       "       reg_alpha=0, reg_lambda=1, scale_pos_weight=1, seed=None,\n",
       "       silent=1.0, subsample=1)"
      ]
     },
     "execution_count": 142,
     "metadata": {},
     "output_type": "execute_result"
    }
   ],
   "source": [
    "clf = XGBClassifier(**params)\n",
    "clf"
   ]
  },
  {
   "cell_type": "code",
   "execution_count": 143,
   "metadata": {},
   "outputs": [
    {
     "data": {
      "text/plain": [
       "array([0.66666667, 0.75      ])"
      ]
     },
     "execution_count": 143,
     "metadata": {},
     "output_type": "execute_result"
    }
   ],
   "source": [
    "cross_val_score(clf, data_v, label, cv=2, scoring='accuracy')"
   ]
  },
  {
   "cell_type": "code",
   "execution_count": 144,
   "metadata": {},
   "outputs": [
    {
     "data": {
      "text/plain": [
       "array([0.66666667, 0.75      ])"
      ]
     },
     "execution_count": 144,
     "metadata": {},
     "output_type": "execute_result"
    }
   ],
   "source": [
    "cross_val_score(clf, data_m, label, cv=2, scoring='accuracy')"
   ]
  },
  {
   "cell_type": "markdown",
   "metadata": {},
   "source": [
    "Both methods works with missing datasets. The Sklearn package by default handles data with np.nan as missing"
   ]
  },
  {
   "cell_type": "markdown",
   "metadata": {},
   "source": [
    "# Handle Imbalanced Dataset\n",
    "\n",
    "There are plenty of examples in real-world problems that deals with imbalanced target classes. \n",
    "\n",
    "Imagine medical data where there are only a few positive instances out of thousands of negative (normal) ones. (God's mercy)\n",
    "\n",
    "Another example might be analyzing fraud transaction, in which the actual frauds represent only a fraction of all available data.\n",
    "\n",
    "> Imbalanced data refers to a classification problems where the classes are not equally distributed."
   ]
  },
  {
   "cell_type": "markdown",
   "metadata": {},
   "source": [
    "** common tactics when approaching imbalanced datasets: **\n",
    "\n",
    "    - collect more data,\n",
    "    - use better evaluation metric (that notices mistakes - ie. AUC, F1, Kappa, ...),\n",
    "    - try oversampling minority class or undersampling majority class,\n",
    "    - generate artificial samples of minority class (ie. SMOTE algorithm)\n",
    "    \n",
    "In XGBoost we can try to:\n",
    "\n",
    "    - make sure that parameter min_child_weight is small (because leaf nodes can have smaller size groups), it is set to min_child_weight=1 by default,\n",
    "    - assign more weights to specific samples while initalizing DMatrix,\n",
    "    - control the balance of positive and negative weights using set_pos_weight parameter,\n",
    "    - use AUC for evaluation"
   ]
  },
  {
   "cell_type": "code",
   "execution_count": 145,
   "metadata": {
    "collapsed": true,
    "jupyter": {
     "outputs_hidden": true
    }
   },
   "outputs": [],
   "source": [
    "# reproducibility\n",
    "seed = 123"
   ]
  },
  {
   "cell_type": "code",
   "execution_count": 148,
   "metadata": {
    "collapsed": true,
    "jupyter": {
     "outputs_hidden": true
    }
   },
   "outputs": [],
   "source": [
    "X, y = make_classification(\n",
    "                n_samples=200,\n",
    "                n_features=5,\n",
    "                n_informative=3,\n",
    "                n_classes=2,\n",
    "                weights=[.9, .1],\n",
    "                shuffle=True,\n",
    "                random_state=seed\n",
    ")"
   ]
  },
  {
   "cell_type": "code",
   "execution_count": 149,
   "metadata": {},
   "outputs": [
    {
     "name": "stdout",
     "output_type": "stream",
     "text": [
      "There are 20 positive instances.\n"
     ]
    }
   ],
   "source": [
    "print('There are {} positive instances.'.format(y.sum()))"
   ]
  },
  {
   "cell_type": "markdown",
   "metadata": {},
   "source": [
    "Divide created data into train and test. Remember so that both datasets should be similiar in terms of distribution, so they need stratification."
   ]
  },
  {
   "cell_type": "code",
   "execution_count": 151,
   "metadata": {
    "collapsed": true,
    "jupyter": {
     "outputs_hidden": true
    }
   },
   "outputs": [],
   "source": [
    "X_train, X_test, y_train, y_test = train_test_split(X, \n",
    "                                                    y, \n",
    "                                                    test_size=0.33, \n",
    "                                                    stratify=y, \n",
    "                                                    random_state=seed)"
   ]
  },
  {
   "cell_type": "code",
   "execution_count": 152,
   "metadata": {},
   "outputs": [
    {
     "name": "stdout",
     "output_type": "stream",
     "text": [
      "Total number of postivie train instances: 13\n",
      "Total number of positive test instances: 7\n"
     ]
    }
   ],
   "source": [
    "print('Total number of postivie train instances: {}'.format(y_train.sum()))\n",
    "print('Total number of positive test instances: {}'.format(y_test.sum()))"
   ]
  },
  {
   "cell_type": "markdown",
   "metadata": {},
   "source": [
    "### Baseline model\n",
    "In this approach try to completely ignore the fact that classed are imbalanced and see how it will perform. Create DMatrix for train and test data.\n"
   ]
  },
  {
   "cell_type": "code",
   "execution_count": 153,
   "metadata": {
    "collapsed": true,
    "jupyter": {
     "outputs_hidden": true
    }
   },
   "outputs": [],
   "source": [
    "dtrain = xgb.DMatrix(X_train, label=y_train)\n",
    "dtest  = xgb.DMatrix(X_test)"
   ]
  },
  {
   "cell_type": "markdown",
   "metadata": {},
   "source": [
    "Assume that we will create 15 decision tree stumps, solving binary classification problem, where each next one will be train very aggressively.\n"
   ]
  },
  {
   "cell_type": "code",
   "execution_count": 154,
   "metadata": {
    "collapsed": true,
    "jupyter": {
     "outputs_hidden": true
    }
   },
   "outputs": [],
   "source": [
    "params = {\n",
    "    'objective':'binary:logistic',\n",
    "    'max_depth':1,\n",
    "    'silent':1,\n",
    "    'eta':1\n",
    "}\n",
    "\n",
    "num_rounds = 15"
   ]
  },
  {
   "cell_type": "code",
   "execution_count": 155,
   "metadata": {
    "collapsed": true,
    "jupyter": {
     "outputs_hidden": true
    }
   },
   "outputs": [],
   "source": [
    "# Train the booster and make predictions.\n",
    "bst = xgb.train(params, dtrain, num_rounds)\n",
    "y_test_preds = (bst.predict(dtest) > 0.5).astype('int')"
   ]
  },
  {
   "cell_type": "code",
   "execution_count": 156,
   "metadata": {},
   "outputs": [
    {
     "data": {
      "text/html": [
       "<div>\n",
       "<style>\n",
       "    .dataframe thead tr:only-child th {\n",
       "        text-align: right;\n",
       "    }\n",
       "\n",
       "    .dataframe thead th {\n",
       "        text-align: left;\n",
       "    }\n",
       "\n",
       "    .dataframe tbody tr th {\n",
       "        vertical-align: top;\n",
       "    }\n",
       "</style>\n",
       "<table border=\"1\" class=\"dataframe\">\n",
       "  <thead>\n",
       "    <tr style=\"text-align: right;\">\n",
       "      <th>Predicted</th>\n",
       "      <th>0</th>\n",
       "      <th>1</th>\n",
       "      <th>All</th>\n",
       "    </tr>\n",
       "    <tr>\n",
       "      <th>Actual</th>\n",
       "      <th></th>\n",
       "      <th></th>\n",
       "      <th></th>\n",
       "    </tr>\n",
       "  </thead>\n",
       "  <tbody>\n",
       "    <tr>\n",
       "      <th>0</th>\n",
       "      <td>58</td>\n",
       "      <td>1</td>\n",
       "      <td>59</td>\n",
       "    </tr>\n",
       "    <tr>\n",
       "      <th>1</th>\n",
       "      <td>5</td>\n",
       "      <td>2</td>\n",
       "      <td>7</td>\n",
       "    </tr>\n",
       "    <tr>\n",
       "      <th>All</th>\n",
       "      <td>63</td>\n",
       "      <td>3</td>\n",
       "      <td>66</td>\n",
       "    </tr>\n",
       "  </tbody>\n",
       "</table>\n",
       "</div>"
      ],
      "text/plain": [
       "Predicted   0  1  All\n",
       "Actual               \n",
       "0          58  1   59\n",
       "1           5  2    7\n",
       "All        63  3   66"
      ]
     },
     "execution_count": 156,
     "metadata": {},
     "output_type": "execute_result"
    }
   ],
   "source": [
    "# confusion matrix looks like\n",
    "pd.crosstab(\n",
    "    pd.Series(y_test,       name='Actual'),\n",
    "    pd.Series(y_test_preds, name='Predicted'),\n",
    "    margins=True\n",
    ")"
   ]
  },
  {
   "cell_type": "code",
   "execution_count": 157,
   "metadata": {},
   "outputs": [
    {
     "name": "stdout",
     "output_type": "stream",
     "text": [
      "Accuracy: 0.91\n",
      "Precision: 0.67\n",
      "Recall: 0.29\n"
     ]
    }
   ],
   "source": [
    "print('Accuracy: {0:.2f}'.format(accuracy_score(y_test, y_test_preds)))\n",
    "print('Precision: {0:.2f}'.format(precision_score(y_test, y_test_preds)))\n",
    "print('Recall: {0:.2f}'.format(recall_score(y_test, y_test_preds)))"
   ]
  },
  {
   "cell_type": "markdown",
   "metadata": {},
   "source": [
    "- Intuitively we know that the foucs should be on finding positive samples. First results are very promising (94% accuracy ), \n",
    "\n",
    "- but deeper analysis show that the results are biased towards majority class - we are very poor at predicting the actual label of positive instances. \n",
    "\n",
    "- That is called an __accuracy paradox.__"
   ]
  },
  {
   "cell_type": "markdown",
   "metadata": {},
   "source": [
    "### Option 1 - Custom weights\n",
    "Try to explicitly tell the algorithm what important using relative instance weights. \n",
    "\n",
    "Let's specify that positive instances have 5x more weight and add this information while creating DMatrix.\n"
   ]
  },
  {
   "cell_type": "code",
   "execution_count": 158,
   "metadata": {
    "collapsed": true,
    "jupyter": {
     "outputs_hidden": true
    }
   },
   "outputs": [],
   "source": [
    "weights = np.zeros(len(y_train))\n",
    "weights[y_train == 0] = 1\n",
    "weights[y_train == 1] = 5"
   ]
  },
  {
   "cell_type": "code",
   "execution_count": 159,
   "metadata": {
    "collapsed": true,
    "jupyter": {
     "outputs_hidden": true
    }
   },
   "outputs": [],
   "source": [
    "dtrain = xgb.DMatrix(X_train, label=y_train, weight=weights) # weights added\n",
    "dtest = xgb.DMatrix(X_test)"
   ]
  },
  {
   "cell_type": "code",
   "execution_count": 160,
   "metadata": {
    "collapsed": true,
    "jupyter": {
     "outputs_hidden": true
    }
   },
   "outputs": [],
   "source": [
    "# Train the classifier and get predictions (same as in baseline):\n",
    "bst = xgb.train(params, dtrain, num_rounds)\n",
    "y_test_preds = (bst.predict(dtest) > 0.5).astype('int')\n"
   ]
  },
  {
   "cell_type": "code",
   "execution_count": 162,
   "metadata": {},
   "outputs": [
    {
     "data": {
      "text/html": [
       "<div>\n",
       "<style>\n",
       "    .dataframe thead tr:only-child th {\n",
       "        text-align: right;\n",
       "    }\n",
       "\n",
       "    .dataframe thead th {\n",
       "        text-align: left;\n",
       "    }\n",
       "\n",
       "    .dataframe tbody tr th {\n",
       "        vertical-align: top;\n",
       "    }\n",
       "</style>\n",
       "<table border=\"1\" class=\"dataframe\">\n",
       "  <thead>\n",
       "    <tr style=\"text-align: right;\">\n",
       "      <th>Predicted</th>\n",
       "      <th>0</th>\n",
       "      <th>1</th>\n",
       "      <th>All</th>\n",
       "    </tr>\n",
       "    <tr>\n",
       "      <th>Actual</th>\n",
       "      <th></th>\n",
       "      <th></th>\n",
       "      <th></th>\n",
       "    </tr>\n",
       "  </thead>\n",
       "  <tbody>\n",
       "    <tr>\n",
       "      <th>0</th>\n",
       "      <td>57</td>\n",
       "      <td>2</td>\n",
       "      <td>59</td>\n",
       "    </tr>\n",
       "    <tr>\n",
       "      <th>1</th>\n",
       "      <td>4</td>\n",
       "      <td>3</td>\n",
       "      <td>7</td>\n",
       "    </tr>\n",
       "    <tr>\n",
       "      <th>All</th>\n",
       "      <td>61</td>\n",
       "      <td>5</td>\n",
       "      <td>66</td>\n",
       "    </tr>\n",
       "  </tbody>\n",
       "</table>\n",
       "</div>"
      ],
      "text/plain": [
       "Predicted   0  1  All\n",
       "Actual               \n",
       "0          57  2   59\n",
       "1           4  3    7\n",
       "All        61  5   66"
      ]
     },
     "execution_count": 162,
     "metadata": {},
     "output_type": "execute_result"
    }
   ],
   "source": [
    "# Inspect the confusion matrix, and obtained evaluation metrics:\n",
    "pd.crosstab(\n",
    "    pd.Series(y_test, name='Actual'),\n",
    "    pd.Series(y_test_preds, name='Predicted'),\n",
    "    margins=True\n",
    ")"
   ]
  },
  {
   "cell_type": "code",
   "execution_count": 163,
   "metadata": {},
   "outputs": [
    {
     "name": "stdout",
     "output_type": "stream",
     "text": [
      "Accuracy: 0.91\n",
      "Precision: 0.60\n",
      "Recall: 0.43\n"
     ]
    }
   ],
   "source": [
    "print('Accuracy: {0:.2f}'.format(accuracy_score(y_test, y_test_preds)))\n",
    "print('Precision: {0:.2f}'.format(precision_score(y_test, y_test_preds)))\n",
    "print('Recall: {0:.2f}'.format(recall_score(y_test, y_test_preds)))"
   ]
  },
  {
   "cell_type": "markdown",
   "metadata": {},
   "source": [
    "we made a trade-off here. We are now able to better classify the minority class, but the overall accuracy and precision decreased. \n",
    "\n",
    "Test multiple weights combinations and see which one works best."
   ]
  },
  {
   "cell_type": "markdown",
   "metadata": {},
   "source": [
    "### option -2 - Use scale_pos_weight parameter\n",
    "\n",
    "You can automate the process of assigning weights manually by calculating the proportion between negative and positive instances and setting it to scale_pos_weight parameter.\n",
    "\n",
    "Let's reinitialize datasets."
   ]
  },
  {
   "cell_type": "code",
   "execution_count": 164,
   "metadata": {
    "collapsed": true,
    "jupyter": {
     "outputs_hidden": true
    }
   },
   "outputs": [],
   "source": [
    "dtrain = xgb.DMatrix(X_train, label=y_train)\n",
    "dtest  = xgb.DMatrix(X_test)"
   ]
  },
  {
   "cell_type": "code",
   "execution_count": 166,
   "metadata": {},
   "outputs": [
    {
     "data": {
      "text/plain": [
       "{'eta': 1,\n",
       " 'max_depth': 1,\n",
       " 'objective': 'binary:logistic',\n",
       " 'scale_pos_weight': 9.307692307692308,\n",
       " 'silent': 1}"
      ]
     },
     "execution_count": 166,
     "metadata": {},
     "output_type": "execute_result"
    }
   ],
   "source": [
    "# Calculate the ratio between both classes and assign it to a parameter.\n",
    "train_labels = dtrain.get_label()\n",
    "\n",
    "ratio = float(np.sum(train_labels == 0)) / np.sum(train_labels == 1)\n",
    "params['scale_pos_weight'] = ratio\n",
    "params"
   ]
  },
  {
   "cell_type": "code",
   "execution_count": 167,
   "metadata": {},
   "outputs": [
    {
     "data": {
      "text/html": [
       "<div>\n",
       "<style>\n",
       "    .dataframe thead tr:only-child th {\n",
       "        text-align: right;\n",
       "    }\n",
       "\n",
       "    .dataframe thead th {\n",
       "        text-align: left;\n",
       "    }\n",
       "\n",
       "    .dataframe tbody tr th {\n",
       "        vertical-align: top;\n",
       "    }\n",
       "</style>\n",
       "<table border=\"1\" class=\"dataframe\">\n",
       "  <thead>\n",
       "    <tr style=\"text-align: right;\">\n",
       "      <th>Predicted</th>\n",
       "      <th>0</th>\n",
       "      <th>1</th>\n",
       "      <th>All</th>\n",
       "    </tr>\n",
       "    <tr>\n",
       "      <th>Actual</th>\n",
       "      <th></th>\n",
       "      <th></th>\n",
       "      <th></th>\n",
       "    </tr>\n",
       "  </thead>\n",
       "  <tbody>\n",
       "    <tr>\n",
       "      <th>0</th>\n",
       "      <td>56</td>\n",
       "      <td>3</td>\n",
       "      <td>59</td>\n",
       "    </tr>\n",
       "    <tr>\n",
       "      <th>1</th>\n",
       "      <td>4</td>\n",
       "      <td>3</td>\n",
       "      <td>7</td>\n",
       "    </tr>\n",
       "    <tr>\n",
       "      <th>All</th>\n",
       "      <td>60</td>\n",
       "      <td>6</td>\n",
       "      <td>66</td>\n",
       "    </tr>\n",
       "  </tbody>\n",
       "</table>\n",
       "</div>"
      ],
      "text/plain": [
       "Predicted   0  1  All\n",
       "Actual               \n",
       "0          56  3   59\n",
       "1           4  3    7\n",
       "All        60  6   66"
      ]
     },
     "execution_count": 167,
     "metadata": {},
     "output_type": "execute_result"
    }
   ],
   "source": [
    "bst = xgb.train(params, dtrain, num_rounds)\n",
    "y_test_preds = (bst.predict(dtest) > 0.5).astype('int')\n",
    "\n",
    "pd.crosstab(\n",
    "    pd.Series(y_test, name='Actual'),\n",
    "    pd.Series(y_test_preds, name='Predicted'),\n",
    "    margins=True\n",
    ")"
   ]
  },
  {
   "cell_type": "code",
   "execution_count": 168,
   "metadata": {},
   "outputs": [
    {
     "name": "stdout",
     "output_type": "stream",
     "text": [
      "Accuracy: 0.89\n",
      "Precision: 0.50\n",
      "Recall: 0.43\n"
     ]
    }
   ],
   "source": [
    "print('Accuracy: {0:.2f}'.format(accuracy_score(y_test, y_test_preds)))\n",
    "print('Precision: {0:.2f}'.format(precision_score(y_test, y_test_preds)))\n",
    "print('Recall: {0:.2f}'.format(recall_score(y_test, y_test_preds)))"
   ]
  },
  {
   "cell_type": "markdown",
   "metadata": {},
   "source": [
    "- scalling weight by using scale_pos_weights in this case gives better results that doing it manually. \n",
    "\n"
   ]
  },
  {
   "cell_type": "code",
   "execution_count": null,
   "metadata": {
    "collapsed": true,
    "jupyter": {
     "outputs_hidden": true
    }
   },
   "outputs": [],
   "source": []
  },
  {
   "cell_type": "markdown",
   "metadata": {},
   "source": [
    "** END here **"
   ]
  },
  {
   "cell_type": "markdown",
   "metadata": {},
   "source": [
    "According to __dataset description__, the first column represents the mushroom classification based on the two categories “edible” and “poisonous”. \n",
    "\n",
    "The other columns are:\n",
    "\n",
    "1. cap-shape: bell=b, conical=c, convex=x, flat=f, knobbed=k, sunken=s\n",
    "2. cap-surface: fibrous=f, grooves=g, scaly=y, smooth=s\n",
    "3. cap-color: brown=n, buff=b, cinnamon=c, gray=g, green=r, pink=p, purple=u, red=e, white=w, yellow=y\n",
    "4. bruises: bruises=t, no=f\n",
    "5. odor: almond=a, anise=l, creosote=c, fishy=y, foul=f, musty=m, none=n, pungent=p, spicy=s\n",
    "6. gill-attachment: attached=a, descending=d, free=f, notched=n\n",
    "7. gill-spacing: close=c, crowded=w, distant=d\n",
    "8. gill-size: broad=b, narrow=n\n",
    "9. gill-color: black=k, brown=n, buff=b, chocolate=h, gray=g, green=r, orange=o, pink=p, purple=u, red=e, white=w, yellow=y\n",
    "10. stalk-shape: enlarging=e, tapering=t\n",
    "11. stalk-root: bulbous=b, club=c, cup=u, equal=e, rhizomorphs=z, rooted=r, missing=?\n",
    "12. stalk-surface-above-ring: fibrous=f, scaly=y, silky=k, smooth=s\n",
    "13. stalk-surface-below-ring: fibrous=f, scaly=y, silky=k, smooth=s\n",
    "14. stalk-color-above-ring: brown=n, buff=b, cinnamon=c, gray=g, orange=o, pink=p, red=e, white=w, yellow=y\n",
    "15. stalk-color-below-ring: brown=n, buff=b, cinnamon=c, gray=g, orange=o, pink=p, red=e, white=w, yellow=y\n",
    "16. veil-type: partial=p, universal=u\n",
    "17. veil-color: brown=n, orange=o, white=w, yellow=y\n",
    "18. ring-number: none=n, one=o, two=t\n",
    "19. ring-type: cobwebby=c, evanescent=e, flaring=f, large=l, none=n, pendant=p, sheathing=s, zone=z\n",
    "20. spore-print-color: black=k, brown=n, buff=b, chocolate=h, green=r, orange=o, purple=u, white=w, yellow=y\n",
    "21. population: abundant=a, clustered=c, numerous=n, scattered=s, several=v, solitary=y\n",
    "22. habitat: grasses=g, leaves=l, meadows=m, paths=p, urban=u, waste=w, woods=d"
   ]
  },
  {
   "cell_type": "markdown",
   "metadata": {},
   "source": [
    "# load the mushroom data"
   ]
  },
  {
   "cell_type": "code",
   "execution_count": 9,
   "metadata": {
    "collapsed": true,
    "jupyter": {
     "outputs_hidden": true
    }
   },
   "outputs": [],
   "source": [
    "dtrain = pd.read_csv('https://archive.ics.uci.edu/ml/machine-learning-databases/mushroom/agaricus-lepiota.data',\n",
    "                     header=None)"
   ]
  },
  {
   "cell_type": "code",
   "execution_count": 13,
   "metadata": {
    "collapsed": true,
    "jupyter": {
     "outputs_hidden": true
    }
   },
   "outputs": [],
   "source": [
    "feature_names = [\"class\",\n",
    "                \"cap_shape\",\n",
    "                \"cap_surface\",\n",
    "                \"cap_color\",\n",
    "                \"bruises\",\n",
    "                \"odor\",\n",
    "                \"gill_attachment\",\n",
    "                \"gill_spacing\",\n",
    "                \"gill_size\",\n",
    "                \"gill_color\",\n",
    "                \"stalk_shape\",\n",
    "                \"stalk_root\",\n",
    "                \"stalk_surface_above_ring\",\n",
    "                \"stalk_surface_below_ring\",\n",
    "                \"stalk_color_above_ring\",\n",
    "                \"stalk_color_below_ring\",\n",
    "                \"veil_type\",\n",
    "                \"veil_color\",\n",
    "                \"ring_number\",\n",
    "                \"ring_type\",\n",
    "                \"spore_print_color\",\n",
    "                \"population\",\n",
    "                \"habitat\"]"
   ]
  },
  {
   "cell_type": "code",
   "execution_count": 14,
   "metadata": {
    "collapsed": true,
    "jupyter": {
     "outputs_hidden": true
    }
   },
   "outputs": [],
   "source": [
    "# rename columns\n",
    "dtrain.columns = feature_names"
   ]
  },
  {
   "cell_type": "code",
   "execution_count": 17,
   "metadata": {},
   "outputs": [
    {
     "name": "stdout",
     "output_type": "stream",
     "text": [
      "(8124, 23)\n"
     ]
    },
    {
     "data": {
      "text/html": [
       "<div>\n",
       "<style>\n",
       "    .dataframe thead tr:only-child th {\n",
       "        text-align: right;\n",
       "    }\n",
       "\n",
       "    .dataframe thead th {\n",
       "        text-align: left;\n",
       "    }\n",
       "\n",
       "    .dataframe tbody tr th {\n",
       "        vertical-align: top;\n",
       "    }\n",
       "</style>\n",
       "<table border=\"1\" class=\"dataframe\">\n",
       "  <thead>\n",
       "    <tr style=\"text-align: right;\">\n",
       "      <th></th>\n",
       "      <th>class</th>\n",
       "      <th>cap_shape</th>\n",
       "      <th>cap_surface</th>\n",
       "      <th>cap_color</th>\n",
       "      <th>bruises</th>\n",
       "      <th>odor</th>\n",
       "      <th>gill_attachment</th>\n",
       "      <th>gill_spacing</th>\n",
       "      <th>gill_size</th>\n",
       "      <th>gill_color</th>\n",
       "      <th>stalk_shape</th>\n",
       "      <th>stalk_root</th>\n",
       "      <th>stalk_surface_above_ring</th>\n",
       "      <th>stalk_surface_below_ring</th>\n",
       "      <th>stalk_color_above_ring</th>\n",
       "      <th>stalk_color_below_ring</th>\n",
       "      <th>veil_type</th>\n",
       "      <th>veil_color</th>\n",
       "      <th>ring_number</th>\n",
       "      <th>ring_type</th>\n",
       "      <th>spore_print_color</th>\n",
       "      <th>population</th>\n",
       "      <th>habitat</th>\n",
       "    </tr>\n",
       "  </thead>\n",
       "  <tbody>\n",
       "    <tr>\n",
       "      <th>0</th>\n",
       "      <td>p</td>\n",
       "      <td>x</td>\n",
       "      <td>s</td>\n",
       "      <td>n</td>\n",
       "      <td>t</td>\n",
       "      <td>p</td>\n",
       "      <td>f</td>\n",
       "      <td>c</td>\n",
       "      <td>n</td>\n",
       "      <td>k</td>\n",
       "      <td>e</td>\n",
       "      <td>e</td>\n",
       "      <td>s</td>\n",
       "      <td>s</td>\n",
       "      <td>w</td>\n",
       "      <td>w</td>\n",
       "      <td>p</td>\n",
       "      <td>w</td>\n",
       "      <td>o</td>\n",
       "      <td>p</td>\n",
       "      <td>k</td>\n",
       "      <td>s</td>\n",
       "      <td>u</td>\n",
       "    </tr>\n",
       "    <tr>\n",
       "      <th>1</th>\n",
       "      <td>e</td>\n",
       "      <td>x</td>\n",
       "      <td>s</td>\n",
       "      <td>y</td>\n",
       "      <td>t</td>\n",
       "      <td>a</td>\n",
       "      <td>f</td>\n",
       "      <td>c</td>\n",
       "      <td>b</td>\n",
       "      <td>k</td>\n",
       "      <td>e</td>\n",
       "      <td>c</td>\n",
       "      <td>s</td>\n",
       "      <td>s</td>\n",
       "      <td>w</td>\n",
       "      <td>w</td>\n",
       "      <td>p</td>\n",
       "      <td>w</td>\n",
       "      <td>o</td>\n",
       "      <td>p</td>\n",
       "      <td>n</td>\n",
       "      <td>n</td>\n",
       "      <td>g</td>\n",
       "    </tr>\n",
       "    <tr>\n",
       "      <th>2</th>\n",
       "      <td>e</td>\n",
       "      <td>b</td>\n",
       "      <td>s</td>\n",
       "      <td>w</td>\n",
       "      <td>t</td>\n",
       "      <td>l</td>\n",
       "      <td>f</td>\n",
       "      <td>c</td>\n",
       "      <td>b</td>\n",
       "      <td>n</td>\n",
       "      <td>e</td>\n",
       "      <td>c</td>\n",
       "      <td>s</td>\n",
       "      <td>s</td>\n",
       "      <td>w</td>\n",
       "      <td>w</td>\n",
       "      <td>p</td>\n",
       "      <td>w</td>\n",
       "      <td>o</td>\n",
       "      <td>p</td>\n",
       "      <td>n</td>\n",
       "      <td>n</td>\n",
       "      <td>m</td>\n",
       "    </tr>\n",
       "    <tr>\n",
       "      <th>3</th>\n",
       "      <td>p</td>\n",
       "      <td>x</td>\n",
       "      <td>y</td>\n",
       "      <td>w</td>\n",
       "      <td>t</td>\n",
       "      <td>p</td>\n",
       "      <td>f</td>\n",
       "      <td>c</td>\n",
       "      <td>n</td>\n",
       "      <td>n</td>\n",
       "      <td>e</td>\n",
       "      <td>e</td>\n",
       "      <td>s</td>\n",
       "      <td>s</td>\n",
       "      <td>w</td>\n",
       "      <td>w</td>\n",
       "      <td>p</td>\n",
       "      <td>w</td>\n",
       "      <td>o</td>\n",
       "      <td>p</td>\n",
       "      <td>k</td>\n",
       "      <td>s</td>\n",
       "      <td>u</td>\n",
       "    </tr>\n",
       "    <tr>\n",
       "      <th>4</th>\n",
       "      <td>e</td>\n",
       "      <td>x</td>\n",
       "      <td>s</td>\n",
       "      <td>g</td>\n",
       "      <td>f</td>\n",
       "      <td>n</td>\n",
       "      <td>f</td>\n",
       "      <td>w</td>\n",
       "      <td>b</td>\n",
       "      <td>k</td>\n",
       "      <td>t</td>\n",
       "      <td>e</td>\n",
       "      <td>s</td>\n",
       "      <td>s</td>\n",
       "      <td>w</td>\n",
       "      <td>w</td>\n",
       "      <td>p</td>\n",
       "      <td>w</td>\n",
       "      <td>o</td>\n",
       "      <td>e</td>\n",
       "      <td>n</td>\n",
       "      <td>a</td>\n",
       "      <td>g</td>\n",
       "    </tr>\n",
       "  </tbody>\n",
       "</table>\n",
       "</div>"
      ],
      "text/plain": [
       "  class cap_shape cap_surface cap_color bruises odor gill_attachment  \\\n",
       "0     p         x           s         n       t    p               f   \n",
       "1     e         x           s         y       t    a               f   \n",
       "2     e         b           s         w       t    l               f   \n",
       "3     p         x           y         w       t    p               f   \n",
       "4     e         x           s         g       f    n               f   \n",
       "\n",
       "  gill_spacing gill_size gill_color stalk_shape stalk_root  \\\n",
       "0            c         n          k           e          e   \n",
       "1            c         b          k           e          c   \n",
       "2            c         b          n           e          c   \n",
       "3            c         n          n           e          e   \n",
       "4            w         b          k           t          e   \n",
       "\n",
       "  stalk_surface_above_ring stalk_surface_below_ring stalk_color_above_ring  \\\n",
       "0                        s                        s                      w   \n",
       "1                        s                        s                      w   \n",
       "2                        s                        s                      w   \n",
       "3                        s                        s                      w   \n",
       "4                        s                        s                      w   \n",
       "\n",
       "  stalk_color_below_ring veil_type veil_color ring_number ring_type  \\\n",
       "0                      w         p          w           o         p   \n",
       "1                      w         p          w           o         p   \n",
       "2                      w         p          w           o         p   \n",
       "3                      w         p          w           o         p   \n",
       "4                      w         p          w           o         e   \n",
       "\n",
       "  spore_print_color population habitat  \n",
       "0                 k          s       u  \n",
       "1                 n          n       g  \n",
       "2                 n          n       m  \n",
       "3                 k          s       u  \n",
       "4                 n          a       g  "
      ]
     },
     "execution_count": 17,
     "metadata": {},
     "output_type": "execute_result"
    }
   ],
   "source": [
    "print(dtrain.shape)\n",
    "dtrain.head()"
   ]
  },
  {
   "cell_type": "code",
   "execution_count": 1,
   "metadata": {
    "collapsed": true,
    "jupyter": {
     "outputs_hidden": true
    }
   },
   "outputs": [],
   "source": [
    "location = r'E:\\\\MYLEARN\\\\2-ANALYTICS-DataScience\\\\datasets\\\\pima.csv'"
   ]
  },
  {
   "cell_type": "code",
   "execution_count": 21,
   "metadata": {},
   "outputs": [
    {
     "data": {
      "text/html": [
       "<div>\n",
       "<style>\n",
       "    .dataframe thead tr:only-child th {\n",
       "        text-align: right;\n",
       "    }\n",
       "\n",
       "    .dataframe thead th {\n",
       "        text-align: left;\n",
       "    }\n",
       "\n",
       "    .dataframe tbody tr th {\n",
       "        vertical-align: top;\n",
       "    }\n",
       "</style>\n",
       "<table border=\"1\" class=\"dataframe\">\n",
       "  <thead>\n",
       "    <tr style=\"text-align: right;\">\n",
       "      <th></th>\n",
       "      <th>Pregnancies</th>\n",
       "      <th>Glucose</th>\n",
       "      <th>BloodPressure</th>\n",
       "      <th>SkinThickness</th>\n",
       "      <th>Insulin</th>\n",
       "      <th>BMI</th>\n",
       "      <th>DiabetesPedigreeFunction</th>\n",
       "      <th>Age</th>\n",
       "      <th>Outcome</th>\n",
       "    </tr>\n",
       "  </thead>\n",
       "  <tbody>\n",
       "    <tr>\n",
       "      <th>0</th>\n",
       "      <td>6</td>\n",
       "      <td>148</td>\n",
       "      <td>72</td>\n",
       "      <td>35</td>\n",
       "      <td>0</td>\n",
       "      <td>33.6</td>\n",
       "      <td>0.627</td>\n",
       "      <td>50</td>\n",
       "      <td>1</td>\n",
       "    </tr>\n",
       "    <tr>\n",
       "      <th>1</th>\n",
       "      <td>1</td>\n",
       "      <td>85</td>\n",
       "      <td>66</td>\n",
       "      <td>29</td>\n",
       "      <td>0</td>\n",
       "      <td>26.6</td>\n",
       "      <td>0.351</td>\n",
       "      <td>31</td>\n",
       "      <td>0</td>\n",
       "    </tr>\n",
       "    <tr>\n",
       "      <th>2</th>\n",
       "      <td>8</td>\n",
       "      <td>183</td>\n",
       "      <td>64</td>\n",
       "      <td>0</td>\n",
       "      <td>0</td>\n",
       "      <td>23.3</td>\n",
       "      <td>0.672</td>\n",
       "      <td>32</td>\n",
       "      <td>1</td>\n",
       "    </tr>\n",
       "    <tr>\n",
       "      <th>3</th>\n",
       "      <td>1</td>\n",
       "      <td>89</td>\n",
       "      <td>66</td>\n",
       "      <td>23</td>\n",
       "      <td>94</td>\n",
       "      <td>28.1</td>\n",
       "      <td>0.167</td>\n",
       "      <td>21</td>\n",
       "      <td>0</td>\n",
       "    </tr>\n",
       "    <tr>\n",
       "      <th>4</th>\n",
       "      <td>0</td>\n",
       "      <td>137</td>\n",
       "      <td>40</td>\n",
       "      <td>35</td>\n",
       "      <td>168</td>\n",
       "      <td>43.1</td>\n",
       "      <td>2.288</td>\n",
       "      <td>33</td>\n",
       "      <td>1</td>\n",
       "    </tr>\n",
       "  </tbody>\n",
       "</table>\n",
       "</div>"
      ],
      "text/plain": [
       "   Pregnancies  Glucose  BloodPressure  SkinThickness  Insulin   BMI  \\\n",
       "0            6      148             72             35        0  33.6   \n",
       "1            1       85             66             29        0  26.6   \n",
       "2            8      183             64              0        0  23.3   \n",
       "3            1       89             66             23       94  28.1   \n",
       "4            0      137             40             35      168  43.1   \n",
       "\n",
       "   DiabetesPedigreeFunction  Age  Outcome  \n",
       "0                     0.627   50        1  \n",
       "1                     0.351   31        0  \n",
       "2                     0.672   32        1  \n",
       "3                     0.167   21        0  \n",
       "4                     2.288   33        1  "
      ]
     },
     "execution_count": 21,
     "metadata": {},
     "output_type": "execute_result"
    }
   ],
   "source": [
    "# Loading dataset and view a few records.\n",
    "df = pd.read_csv(location)\n",
    "df.head()"
   ]
  },
  {
   "cell_type": "code",
   "execution_count": 22,
   "metadata": {
    "collapsed": true,
    "jupyter": {
     "outputs_hidden": true
    }
   },
   "outputs": [],
   "source": [
    "X = df.drop(['Outcome'], axis=1)\n",
    "y = df.Outcome"
   ]
  },
  {
   "cell_type": "code",
   "execution_count": 23,
   "metadata": {
    "collapsed": true,
    "jupyter": {
     "outputs_hidden": true
    }
   },
   "outputs": [],
   "source": [
    "# Split dataset into training set and test set\n",
    "X_train, X_test, y_train, y_test = train_test_split(X, \n",
    "                                                    y, \n",
    "                                                    test_size=0.33,\n",
    "                                                    random_state=42) "
   ]
  },
  {
   "cell_type": "markdown",
   "metadata": {},
   "source": [
    "#### Train the XGBoost Model"
   ]
  },
  {
   "cell_type": "code",
   "execution_count": 24,
   "metadata": {},
   "outputs": [
    {
     "data": {
      "text/plain": [
       "XGBClassifier(base_score=0.5, booster='gbtree', colsample_bylevel=1,\n",
       "       colsample_bytree=1, gamma=0, learning_rate=0.1, max_delta_step=0,\n",
       "       max_depth=3, min_child_weight=1, missing=None, n_estimators=100,\n",
       "       n_jobs=1, nthread=None, objective='binary:logistic', random_state=0,\n",
       "       reg_alpha=0, reg_lambda=1, scale_pos_weight=1, seed=None,\n",
       "       silent=True, subsample=1)"
      ]
     },
     "execution_count": 24,
     "metadata": {},
     "output_type": "execute_result"
    }
   ],
   "source": [
    "model = XGBClassifier()\n",
    "model.fit(X_train, y_train)"
   ]
  },
  {
   "cell_type": "code",
   "execution_count": 25,
   "metadata": {
    "collapsed": true,
    "jupyter": {
     "outputs_hidden": true
    }
   },
   "outputs": [],
   "source": [
    "# make predictions for test data\n",
    "y_pred = model.predict(X_test)\n",
    "predictions = [round(value) for value in y_pred]\n"
   ]
  },
  {
   "cell_type": "code",
   "execution_count": 26,
   "metadata": {},
   "outputs": [
    {
     "name": "stdout",
     "output_type": "stream",
     "text": [
      "Accuracy: 74.02%\n"
     ]
    }
   ],
   "source": [
    "# evaluate predictions\n",
    "accuracy = accuracy_score(y_test, predictions)\n",
    "print(\"Accuracy: %.2f%%\" % (accuracy * 100.0))\n"
   ]
  },
  {
   "cell_type": "code",
   "execution_count": null,
   "metadata": {
    "collapsed": true,
    "jupyter": {
     "outputs_hidden": true
    }
   },
   "outputs": [],
   "source": []
  }
 ],
 "metadata": {
  "kernelspec": {
   "display_name": "Python 3",
   "language": "python",
   "name": "python3"
  },
  "language_info": {
   "codemirror_mode": {
    "name": "ipython",
    "version": 3
   },
   "file_extension": ".py",
   "mimetype": "text/x-python",
   "name": "python",
   "nbconvert_exporter": "python",
   "pygments_lexer": "ipython3",
   "version": "3.7.3"
  }
 },
 "nbformat": 4,
 "nbformat_minor": 4
}
